{
 "cells": [
  {
   "cell_type": "markdown",
   "metadata": {},
   "source": [
    "# 3. 베이지안 스펙트럼 밀도 접근법"
   ]
  },
  {
   "cell_type": "markdown",
   "metadata": {},
   "source": [
    "## 3.1 동적 시스템의 모드 및 모드 업데이트"
   ]
  },
  {
   "cell_type": "markdown",
   "metadata": {},
   "source": [
    "입력과 출력을 측정하거나 출력만을 측정하여 수학적 모델의 변수를 식별하는 문제는 지난 수년간 많은 관심을 받아 왔습니다. 모드 식별은 그중 특수한 경우입니다. 모드 식별에서의 식별하고자 하는 변수는 동적 시스템의 작은 모드들에 대한 고유진동수, 감쇠비, 모드형상, 모드 기여도입니다. 모드 식별의 모델은 선형 모드 모델로 분류됩니다. 입력 가진과 출력 응답 측정을 위해 다양한 시간영역 및 주파수역역에서의 방ㅂ법들이 개발되어 왔습니다. [24,48,75,81,187]. "
   ]
  },
  {
   "cell_type": "markdown",
   "metadata": {},
   "source": [
    "입력 시간이력을 측정하지 않고 모드식별을 수행하는 방법에 대해서도 많은 관심이 있었습니다. 특히 자유진동(또는 충격 응답)과 상시진동(ambient vibration)의 경우에 대한 연구가 많이 이루어 졌습니다. 자유진동의 경우 최소 자승법을 사용하는 자동회기이동평균(Auto-Regressive Moving Average, ARMA) 모델을 기반으로 한 시간영역 방법들이 자주 사용됩니다. 하지만 최소자승법은 치우쳐진(biased) 추정이 이루어 지는 것으로 밝혀 졌습니다[76]. 이러한 치우쳐짐을 제거하기 위한 많은 방법들이 개발되었습니다. 그 예로는 지연 관측 방법을 사용한 계측 행렬[76], 상호 적합 방법[275], 이중 최소자승법[114,202], 전체최소자승법[92] 등이 있습니다. 이 방법들에 대한 상세 비교 재용은 Cooper[61]에서 확인 가능합니다."
   ]
  },
  {
   "cell_type": "markdown",
   "metadata": {},
   "source": [
    "상시진동조사(Ambient Vibration Survey, AVS) 또한 중요한 분야입니다. 비용과 시간이 많이 드는 특수한 동적 실험 장치들(예를 들면 액추에이터)이 필요 없고, 경제적이면서 효율적으로 동적 데이터를 취득할 수 있기 때문에 AVS는 많은 관심을 받아오고 있습니다. AVS는 바람, 교통, 미동(miro-tremor) 등과 같은 조건에서 자연적으로 발생하는 구조물의 진동을 측정합니다. 그리고 시스템 식별 기술을 사용하여 낮은 모드에 해당하는 구조물의 크기가 작은 모드주파수, 감쇠비, 모드형상을 식별합니다. 보통, 입력가진은 정적 가우시안 백색 소음(stationary Gaussian white nosie)으로 적절히 설계된 광대역 확률과정(broad band stochastic process)으로 가정합니다. 이러한 문제를 해결하기 위해 수많은 시간이력 방법들이 개발되어 오고 있습니다. 무작위 감소(Random Decrement, RD or Randomdec) 기술[7] 그중 한가지 예입니다. RD 함수는 이론적으로 상관함수와 그 미분들의 선형 조합으로 나타납니다[266]. 그러면 실험으로 얻은 RD 함수와 적절히 선택된 triggering 조건들을 fitting 하여 모드 변수들을 얻을 수 있습니다. 계측변수(instrumental variable) 방법[280]은 또다른 예입니다. 또다른 몇가지 방법들[21,21,139]은 최소자승법을 사용하여 상관함수를 fitting하는 방법을 기반으로 합니다. 2단계 최소자승방법과 같은 ARMA 모델 기반의 최소자승법 기반의 방법들도 제안되어 오고 있습니다[60,85,86,207]. "
   ]
  }
 ],
 "metadata": {
  "kernelspec": {
   "display_name": "Python 3",
   "language": "python",
   "name": "python3"
  },
  "language_info": {
   "codemirror_mode": {
    "name": "ipython",
    "version": 3
   },
   "file_extension": ".py",
   "mimetype": "text/x-python",
   "name": "python",
   "nbconvert_exporter": "python",
   "pygments_lexer": "ipython3",
   "version": "3.7.6"
  }
 },
 "nbformat": 4,
 "nbformat_minor": 4
}
