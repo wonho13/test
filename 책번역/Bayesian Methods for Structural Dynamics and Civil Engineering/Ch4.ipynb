{
 "cells": [
  {
   "cell_type": "markdown",
   "metadata": {},
   "source": [
    "# 베이지안 시간영역 접근법"
   ]
  },
  {
   "cell_type": "markdown",
   "metadata": {},
   "source": [
    "## 4.1 도입"
   ]
  },
  {
   "cell_type": "markdown",
   "metadata": {},
   "source": [
    "3장에서는 측정한 시간이력 데이터를 사용하여 다자유도 동적 모델의 변수 식별을 위한 베이지안 스펙트럼 밀도 접근법을 설명하였습니다. 그 방법은 선형 모델에 적용 가능하며, 비선형성이 약간 있는 모델의 경우 동등한 선형화 과정을 통해 얻은 평균 스펙트럼을 통해 적용 가능하고, 비선형성이 강한 모델의 경우 시뮬레이션으로 얻은 평균 스펙트럼을 통해 적용 가능합니다. 모드 및 모델 식별에 있어 상시진동인 경우 정상성(stationarity)에 대한 가정이 일반적으로 고려되지만, 비정상으로 모델링한 경우에 응답 측정이 더 잘되는 경우도 많습니다. 그 예로는 바람이나 지진에 의한 구조물 응답이 있습니다. [226, 229]와 같이 완전한 비정상 응답을 고려한 방법들은 많지 않습니다. 베이지안 스펙트럼 밀도 접근법을 비정상 응답 측정 영역으로 확장하는 것은 어렵습니다. 왜냐하면 주파수 영역에서 우도함수를 구성하는 것이 어렵기(nontrivial) 때문입니다. 시간에 따른 스펙트럼을 추정하기 위해서는 동일한 통계적 시간 및 주파수 특성을 갖는 많은 데이터가 필요하지만 이는 실제로 불가능한 경우가 많습니다."
   ]
  },
  {
   "cell_type": "markdown",
   "metadata": {},
   "source": [
    "본 장에서는 비정상 응답 시간이력 측정 데이터를 사용하여 선형 동적 모델의 변수 식별을 위한 시간영역 접근법에 대해 설명할 것입니다. 이 방법은 응답 측정의 비정상성을 명시적(explicit)으로 다루며, 응답 측정에 대한 확율밀도함수(PDF) 확장을 추정한 것을 기반으로 합니다. 이를 통해 모델 변수의 업데이트 된 PDF를 직접 계산할 수 있습니다. 따라서, 이 방법은 모델 변수 중 가장 가능성이 높은 값을 제공할 뿐만 아니라 응답 데이터만을 사용하여 그 값들에 대한 불확실성을 제공합니다. 데이터 수가 많고, 적역으로 식별 가능한 문제라면, 변수들의 가장 가능성이 높은 값을 중심으로 하는 다변수 가우시안 분포를 적절히 선택하여 업데이트된 PDF를 잘 추정해낼 수 있습니다."
   ]
  },
  {
   "cell_type": "markdown",
   "metadata": {},
   "source": [
    "다음 장에서는, 선형 단자유도 시스템의 정상 응답 측정에 대한 정확한 수식을 제시할 것입니다. 하지만, 큰 차원의 선형대수 방정식과 선형해, determinant를 동시에 계산해야 하기 때문에 계산이 거의 불가능 합니다. 4.3장에서는 선형 다자유도 시스템의 비정상 응답 측정을 위한 공식을 제시할 것입니다. 선형 시스템의 비정상 응답에 대한 표준 랜덤 진동 해석에 대해서도 다룰 것입니다. 4.4장에서는 우도함수의 근사 확장에 대해 설명하고, 이 추정치를 사용하여 베이지안 시간영역 접근법을 구성하여 계산의 어려움을 해결할 것입니다. 4.5장에서는 선형 단자유도 시스템의 시뮬레이션 데이터를 사용하여 제안한 방법의 추정이 적합한지 검증할 것입니다. 4.7장에서 이 방법에 대한 결론을 짓기 전에 4.6장에서는 비정상 지진 운동에 노출된 10층 빌딩의 측정에 이 방법을 적용해 볼 것입니다. 응답의 완전한 비정상성에 대해 고려하는 것이 중요한 이유에 대해서도 설명할 것입니다. 4.8장에서는 스펙트럼 밀도 방법과 시간영역 방법을 효율성, 정확성, 적용성 관점에서 비교할 것입니다. 마지막으로 4.9장에서는 최근 개발된 베이지안 업데이트 방법들에 대해 소개할 것입니다."
   ]
  },
  {
   "cell_type": "markdown",
   "metadata": {},
   "source": [
    "## 4.2 정확한 베이지안 식과 계산의 어려움"
   ]
  },
  {
   "cell_type": "markdown",
   "metadata": {},
   "source": [
    "다음과 같은 운동방정식을 갖는 단자유도 시스템에 대해 생각해 봅시다."
   ]
  },
  {
   "cell_type": "markdown",
   "metadata": {},
   "source": [
    "$$\\ddot{x}+2\\zeta\\Omega\\dot{x}+\\Omega^2 x=f(t) \\tag{4.1}$$"
   ]
  },
  {
   "cell_type": "markdown",
   "metadata": {},
   "source": [
    "$\\Omega$와 $\\zeta$는 고유진동수 및 감쇠비 입니다. 설명을 쉽게하기 위해 본 장에서는 정상 입출력을 고려하겠습니다. 입력 $f$는 평균이 0인 정상 가우시안 백색 잡음으로 모델링 하였으며 그 스펙트럼밀도는 다음과 같습니다."
   ]
  },
  {
   "cell_type": "markdown",
   "metadata": {},
   "source": [
    "$S_f(\\omega)=S_{f0} \\tag{4.2}$"
   ]
  },
  {
   "cell_type": "markdown",
   "metadata": {},
   "source": [
    "정상 응답 $x$는 다음의 자동상관함수를 갖는 평균이 0인 가우시안 무작위 과정으로 알려져 있습니다."
   ]
  },
  {
   "cell_type": "markdown",
   "metadata": {},
   "source": [
    "$$R_x(\\tau)=\\frac{\\pi S_{f0}}{2\\zeta\\Omega^3}e^{-\\zeta\\Omega|\\\\tau|}\\left[cos(\\Omega_d\\tau)+\\frac{\\zeta}{\\\\sqrt{1-\\zeta^2}}sin(\\Omega_d|\\tau|)\\right] \\tag{4.3}$$"
   ]
  },
  {
   "cell_type": "markdown",
   "metadata": {},
   "source": [
    "그리고 PSD 함수는 다음과 같습니다."
   ]
  },
  {
   "cell_type": "markdown",
   "metadata": {},
   "source": [
    "$$S_x{\\omega}=\\frac{S_{f0}}{(\\Omega^2-\\omega^2)^2+(2\\zeta\\Omega\\omega)^2} \\tag{4.4}$$"
   ]
  },
  {
   "cell_type": "markdown",
   "metadata": {},
   "source": [
    "여기서 $\\Omega_d\\equiv\\Omega\\sqrt{1-\\zeta^2}$는 감쇠고유진동수 입니다."
   ]
  },
  {
   "cell_type": "markdown",
   "metadata": {},
   "source": [
    "시간 간격 $\\Delta t$에 따라 이산 데이터를 샘플링 하고, 시간 $t=n\\Delta t$에서 측정한 응답은 $y_n$로 표기합니다. 측정 잡음 및 모델링 오차로 인해 측정 응답 $y_n$과 모델응답 $x(n\\Delta t)$ 사이에는 차이가 있으며 이를 예측오차라고 하겠습니다. 예측오차는 평균이 0 이고 분산이 $\\sigma_\\epsilon^2$인 이산 백색 소음 과정으로 적절히 표현할 수 있다고 가정하였습니다."
   ]
  },
  {
   "cell_type": "markdown",
   "metadata": {},
   "source": [
    "$$y_n=x(n\\Delta t)+\\epsilon_n\\;\\;\\;\\;n=1,2,\\dots,N\\tag{4.5}$$"
   ]
  },
  {
   "cell_type": "markdown",
   "metadata": {},
   "source": [
    "따라서 이 과정 $\\epsilon$은 다음을 만족합니다."
   ]
  },
  {
   "cell_type": "markdown",
   "metadata": {},
   "source": [
    "$$E[\\epsilon_n\\epsilon_{n'}]=\\sigma_\\epsilon^2\\delta_{nn'}\\tag{4.6}$$"
   ]
  },
  {
   "cell_type": "markdown",
   "metadata": {},
   "source": [
    "여기서 $\\delta_{nn'}$는 Kronecker delta를 의미하며 다음과 같습니다."
   ]
  },
  {
   "cell_type": "markdown",
   "metadata": {},
   "source": [
    "$$\\delta_{nn'}=\\begin{cases} 1 && if\\;n=n' \\\\ 0 && if\\;n\\neq n' \\end{cases} \\tag{4.7}$$"
   ]
  },
  {
   "cell_type": "markdown",
   "metadata": {},
   "source": [
    "그리고 확률응답 $x$와 예측 오차 $\\epsilon$은 통계적으로 독립이라고 가정하였습니다."
   ]
  },
  {
   "cell_type": "markdown",
   "metadata": {},
   "source": [
    "따라서 측정 세트 $D$는 데이터 점들 $\\{y_1,y_2,\\dots,y_N\\}$를 포함합니다. 열벡터 $\\mathbf{Y}$를 다음과 같이 정의합니다."
   ]
  },
  {
   "cell_type": "markdown",
   "metadata": {},
   "source": [
    "$$\\mathbf{Y}=[y_1,y_2,\\dots,y_N]^T \\tag{4.8}$$"
   ]
  },
  {
   "cell_type": "markdown",
   "metadata": {},
   "source": [
    "$x$와 $\\epsilon$은 가우시안이기 때문에 측정 응답 $y$도 가우시안입니다. 데이터 세트 $D$가 주어졌을 때 우도함수는 다음과 같습니다."
   ]
  },
  {
   "cell_type": "markdown",
   "metadata": {},
   "source": [
    "$$p(D|\\theta,C)=(2\\pi)^{-\\frac{N}{2}}|\\mathbf{\\Gamma}(\\theta)|^{-\\frac{1}{2}}exp\\left[-\\frac{1}{2}\\mathbf{Y}^T\\mathbf{\\Gamma}(\\theta)^{-1}\\mathbf{Y} \\right] \\tag{4.9}$$"
   ]
  },
  {
   "cell_type": "markdown",
   "metadata": {},
   "source": [
    "여기서 $C$는 식별하려고 하는 동적 모델의 변수들 $\\theta=[\\Omega,\\zeta,S_{f0},\\sigma_\\epsilon]^T$에대한 식인 식(4.1)에 의해 지배되는 모델 클래스 입니다. $|\\mathbf{A}|$는 행렬 $mathbf{A}$의 determinant를 의미합니다. 우도함수 $p(D|\\theta,C)$는 평균이 0 이고 공분산 행렬이 $\\mathbf{\\Gamma}(\\theta)$인 측정벡터 $\\mathbf{Y}$에 대한 $N$개 변수 가우시안분포이며, $\\mathbf{\\Gamma}(\\theta)$의 $(n,n')$위치의 값 $\\Gamma^{(n,n')}(\\theta)\\equiv E[y_n y_{n'}]$는 다음과 같습니다. "
   ]
  },
  {
   "cell_type": "markdown",
   "metadata": {},
   "source": [
    "$$\\Gamma^{(n,n')(\\theta)}=R_x[(n'-n)\\Delta t|\\theta]+\\sigma_\\epsilon^2 \\delta_{nn'} \\tag{4.10}$$"
   ]
  },
  {
   "cell_type": "markdown",
   "metadata": {},
   "source": [
    "$R_x$는 모델 변수 벡터 $\\theta$가 주어졌을 때 식(4.3)로 정의된되는 자기상관함수입니다. "
   ]
  },
  {
   "cell_type": "markdown",
   "metadata": {},
   "source": [
    "측정 데이터 $D$가 주어졌을 때 모델변수벡터 $\\theta$를 어떻게 식별하는지 생각해 봅시다. 베이즈정리를 사용하면 모델 변수벡터 $\\theta$에 대한 업데이트된 PDF를 다음과 같이 정의할 수 있습니다."
   ]
  },
  {
   "cell_type": "markdown",
   "metadata": {},
   "source": [
    "$$p(\\theta|D,C)=\\kappa_0 p(\\theta|C)p(D|\\theta,C)\\tag{4.11}$$"
   ]
  },
  {
   "cell_type": "markdown",
   "metadata": {},
   "source": [
    "여기서 $\\kappa_0$는 식(4.11)의 우항을 모든 변수에 대하여 적분했을 때 그 값이 1이 되도록 하는 정규화 상수입니다. 식(4.11)에서 사전 PDF $p(\\theta|C)$는 데이터를 사용하지 않고 변수들의 사전정보를 반영합니다. 데이터의 개수가 많아지면 우도함수 $p(D|\\theta,C)$의 영향이 지배적이게 됩니다. 우도함수는 변수들의 업데이트된(사후) PDF를 산출하는데 있어 측정 데이터 $D$가 기영하는 정도를 반영해 줍니다. $\\theta$에 대한 상대적 타당성은 정규화 상수 $\\kappa_0$와는 무관하며 단지 사전 PDF $p(\\theta|C)$와 $p(D|\\theta,C)$의 상대적인 값들에 대해서만 관련이 있습니다. 가장 가능성이 높은 모델 변수 벡터 $\\theta^*$를 찾기 위해서는 사전 PDF와 우도함수의 곱인 $p(\\theta|C)p(D|\\theta,C)$가 최대가 되어야 합니다. "
   ]
  },
  {
   "cell_type": "markdown",
   "metadata": {},
   "source": [
    "하지만 데이터 점들이 많은 경우, 다른 값들을 갖는 $\\theta$에 대한 $p(D|\\theta,C)$를 반복적으로 평가하기에는 계산적인 어려움이 있습니다. 식(4.9)를 통해 선형대수 방정식인 $\\mathbf{\\Gamma}(\\theta)\\mathbf{X}=\\mathbf{Y}$의 해인 $\\mathbf{X}$를 구해야 하고, $N\\times N$행렬인 $\\mathbf{\\Gamma}(\\theta)$의 determinant도 구해야 함을 알 수 있습니다. 이에 따라 $N$이 큰 경우 막대한 계산량이 요구되게 됩니다. $N$이 큰 경우 우도함수에 대한 반복적인 평가를 통해 최적화 과정을 수행하는 것은 계산이 매우 어렵습니다. 따라서 앞서 기술한 측정 데이터 $D$를 직접 사용하는 정확한 베이지안 접근법은 실제로 적용이 어렵습니다. 다음장에서는 비정상 응답 측정에 대한 모델 업데이트 문제에 대해 다룰 것입니다. 표준 랜덤 진동 해석 또한 다룰 것입니다. 그리고 추정 접근법에 대해 소개하고 그 방법이 계산문제를 해결하여 실제로 적용 가능함을 보일 것입니다."
   ]
  },
  {
   "cell_type": "markdown",
   "metadata": {},
   "source": [
    "## 4.3 비정상 응답에 대한 랜덤 진동 해석"
   ]
  },
  {
   "cell_type": "markdown",
   "metadata": {},
   "source": [
    "$N_d$개 자유도를 갖는 선형 동적 시스템을 고려해 봅시다. 이 시스템의 운동 방정식은 다음과 같습니다."
   ]
  },
  {
   "cell_type": "markdown",
   "metadata": {},
   "source": [
    "$$\\mathbf{M}\\ddot{\\mathbf{x}}+\\mathbf{C}\\dot{\\mathbf{x}}+\\mathbf{K}\\mathbf{x}=\\mathbf{T_0}\\mathbf{F}(t)\\tag{4.12}$$"
   ]
  },
  {
   "cell_type": "markdown",
   "metadata": {},
   "source": [
    "여기서 $\\mathbf{M}, \\mathbf{C}, \\mathbf{K}$는 질량, 감쇠, 강성 행렬입니다. $\\mathbf{T_0}\\in \\mathbb{R}^{N_d\\times N_F}$는 하중분포 행렬이고, 입력 $\\mathbf{F}$는 평균이 0인 가우시안 비정상 확률 과정이며 다음과 같이 모델링 됩니다."
   ]
  },
  {
   "cell_type": "markdown",
   "metadata": {},
   "source": [
    "$$\\mathbf{F}(t)=A(t)\\mathbf{g}(t)\\tag{4.13}$$"
   ]
  },
  {
   "cell_type": "markdown",
   "metadata": {},
   "source": [
    "여기서 $\\mathbf{F}(t)\\in\\mathbb{R}^{N_F}$와 $A$는 스칼라 조절(modulate) 함수이고, $\\mathbf{g}$는 평균이 0이고 스펙트럼 밀도 행렬 함수 가$\\mathbf{S}_g(\\omega)\\in\\mathbb{C}^{N_F\\times N_F}$인 가우시안 정상 확률 과정입니다. 하중 과정 $\\mathbf{F}$의 자기상관 함수는 다음과 같습니다."
   ]
  },
  {
   "cell_type": "markdown",
   "metadata": {},
   "source": [
    "$$\\mathbf{F}_F(t,t+\\tau)\\equiv E[\\mathbf{F}(t)\\mathbf{F}(t+\\tau)^T]=A(t)A(t+\\tau)\\mathbf{R}_g(\\tau)\\tag{4.14}$$"
   ]
  },
  {
   "cell_type": "markdown",
   "metadata": {},
   "source": [
    "여기서 $\\mathbf{R}_g$는 정상 과정 $\\mathbf{g}$에 대한 자기상관행렬함수입니다."
   ]
  },
  {
   "cell_type": "markdown",
   "metadata": {},
   "source": [
    "행렬 $\\mathbf{M}^{-1}\\mathbf{C}$가 $\\mathbf{M}^{-1}\\mathbf{K}$처럼 동일한 세트의 고유벡터들로 대각화될 수 있으면, 감쇠모델은 classical하다고 부릅니다. Caughey와 O'Kelly (1965)는 다음과 같은 필요충분 조건을 보였습니다[41]."
   ]
  },
  {
   "cell_type": "markdown",
   "metadata": {},
   "source": [
    "$$\\mathbf{C}\\mathbf{M}^{-1}\\mathbf{K}=\\mathbf{K}\\mathbf{M}^{-1}\\mathbf{C}\\tag{4.15}$$"
   ]
  },
  {
   "cell_type": "markdown",
   "metadata": {},
   "source": [
    "이러한 경우 $(\\mathbf{M^{-1}}\\mathbf{C})(\\mathbf{M^{-1}}\\mathbf{K})=(\\mathbf{M^{-1}}\\mathbf{K})(\\mathbf{M^{-1}}\\mathbf{C})$임이 명백합니다. 따라서 $\\mathbf{M}^{-1}\\mathbf{C}$와 $\\mathbf{M}^{-1}\\mathbf{K}$는 같은 세트의 고유벡터들을 공유합니다[189]. $\\mathbf{M},\\mathbf{C},\\mathbf{K}$는 대칭행렬이기 때문에, $\\mathbf{M}^{-1}\\mathbf{C}$와 $\\mathbf{M}^{-1}\\mathbf{K}$는 같은 고유벡터 행렬로 대각화 할 수 있습니다. 따라서 식(4.12)는 모드좌표계 $\\mathbf{q}=[q^{(1)},q^{(2)},\\dots,q^{(N_d)}]^T$를 적용하여 다음과 같이 분해할 수 있습니다.  "
   ]
  },
  {
   "cell_type": "markdown",
   "metadata": {},
   "source": [
    "$$x(t)=\\Phi q(t) \\tag{4.16}$$"
   ]
  },
  {
   "cell_type": "markdown",
   "metadata": {},
   "source": [
    "여기서 $\\Phi\\in\\mathbb{R}^{N_d\\times N_d}$는 $\\mathbf{M}^{-1}\\mathbf{C}$ 또는 $\\mathbf{M}^{-1}\\mathbf{K}$의 $N_d$개의 선형적으로 독립적인 고유벡터들로 이루어진 모드 행렬 입니다. 이 고유벡터들은 동적 모델의 모드형상 $\\phi^{(m)},\\;m=1,2,\\dots,N_d$이라고 불립니다."
   ]
  },
  {
   "cell_type": "markdown",
   "metadata": {},
   "source": [
    "$$\\Phi=[\\phi^{(1)},\\phi^{(2)},\\dots,\\phi^{(N_d)}]\\tag{4.17}$$"
   ]
  },
  {
   "cell_type": "markdown",
   "metadata": {},
   "source": [
    "그리고 이 모드형상들은 다음과 같은 조건으로 정규화 됩니다."
   ]
  },
  {
   "cell_type": "markdown",
   "metadata": {},
   "source": [
    "$$\\phi_{l_m}^{(m)}=1,\\;\\;\\;\\;m=1,2,\\dots,N_d\\tag{4.18}$$"
   ]
  },
  {
   "cell_type": "markdown",
   "metadata": {},
   "source": [
    "여기서 $l_m$은 $m$번째 모드의 절점이 아닌 임의의 측정 자유도입니다. 질량 정규화를 사용하지 않은 이유는 식별 과정 중에는 질량 행렬을 알 수 없기 때문입니다."
   ]
  },
  {
   "cell_type": "markdown",
   "metadata": {},
   "source": [
    "식(4.12) 양변에 $\\Phi^{-1}M^{-1}$을 곱하면 다음과 같습니다."
   ]
  },
  {
   "cell_type": "markdown",
   "metadata": {},
   "source": [
    "$$\\ddot{q}+\\Phi^{-1}M^{-1}C\\Phi\\dot{q}+\\Phi^{-1}M^{-1}K\\Phi q=\\Phi^{-1}M^{-1}T_0F(t)\\tag{4.19}$$"
   ]
  },
  {
   "cell_type": "markdown",
   "metadata": {},
   "source": [
    "대각화를 통해 식(4.19)는 모드좌표계에서 $N_d$개의 독립적인 ODE로 표현할 수 있습니다."
   ]
  },
  {
   "cell_type": "markdown",
   "metadata": {},
   "source": [
    "$$\\ddot{q}^{(m)}(t)+2\\zeta^{(m)}\\Omega^{(m)}\\dot{q}^{(m)}(t)+\\Omega^{(m)^2}$$"
   ]
  },
  {
   "cell_type": "code",
   "execution_count": null,
   "metadata": {},
   "outputs": [],
   "source": []
  }
 ],
 "metadata": {
  "kernelspec": {
   "display_name": "Python 3",
   "language": "python",
   "name": "python3"
  },
  "language_info": {
   "codemirror_mode": {
    "name": "ipython",
    "version": 3
   },
   "file_extension": ".py",
   "mimetype": "text/x-python",
   "name": "python",
   "nbconvert_exporter": "python",
   "pygments_lexer": "ipython3",
   "version": "3.7.4"
  }
 },
 "nbformat": 4,
 "nbformat_minor": 4
}
