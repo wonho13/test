{
 "cells": [
  {
   "cell_type": "markdown",
   "metadata": {},
   "source": [
    "그림2.21에 나타난 2층 구조물의 건전성을 업데이트하기 위해 그 적응 MCMC 시뮬레이션 방법을 적용합니다.bay(기둥과 기둥 사이의 구획) 폭 및 층 높이는 $5m$와 ,$2.5m$입니다. 탄성계수와 질량밀도는 $200GPa$와 $7800 kg/m^3$로 사용하였습니다. 보의 단면적은 $0.01m^2$, 관성모멘트는 6.0\\times 10^{-4}m^4$로 사용했습니다. 결과적으로 모드주파수는 5.20, 15.4 Hz가 되었습니다.구조물은 모든모드에서$1%$감쇠를 갖는다고 가정했습니다. 구조물의 강성과 건전성을 추정하기위해 2자유도 모델을 사용합니다. 특히, 강성행렬은 다음과 같"
   ]
  },
  {
   "cell_type": "markdown",
   "metadata": {},
   "source": [
    "$$\\mathbf{K}=k^\\eta \\begin{bmatrix}\n",
    "\\theta_1+\\theta_2 && -\\theta_2 \\\\\n",
    "-\\theta_2 && \\theta_2\n",
    "\\end{bmatrix} \\tag{2.143}$$"
   ]
  },
  {
   "cell_type": "markdown",
   "metadata": {},
   "source": [
    "위의 식에서 $\\theta_l$은 층간의 강성입니다. 불확실한 강성변수 $\\mathbf{\\theta}=[\\theta_1,\\theta_2]^T$를 식별할 것이며, 실제강성은 이 변수에 46.08을 곱해야합니다. 층의질량 $11.17\\times 10^3 MN/m$을적용한 집중질량모델(즉, 대각질량행렬)을 사용했습니다."
   ]
  },
  {
   "cell_type": "markdown",
   "metadata": {},
   "source": [
    "두가지 경우(국부식별가능 경우와 식별불가능 경우)를 고려했그, 이 두가지 경우에서의 측정데이터를 사용했습니다. 첫번째 경우에서 모드 데이터 $D$는 2개의 모드주파수입니다. 시간이력을 모사하여 모드식별을 수행하지않고, 모드주파수에 잡음을추가하는방법을 사용했습니다. 이렇게 측정한 모드 주파수는 $\\hat{\\Omega}^{(1)}=5.5 Hz$, $\\hat{\\Omega}^{(2)}=14.9 Hz$입니다."
   ]
  },
  {
   "cell_type": "markdown",
   "metadata": {},
   "source": [
    "사전확률밀도함수 $p(\\mathbf{\\theta}|C)$는 평균이 0.9, 1.2이고, 분산은 모두1인 로그정규분포로 설정하였습니다. 모드데이터 D를 사용해 업데이트한 강성변수벡터 $\\mathbf{\\theta}$의 확률밀도함수는 다음과같이 "
   ]
  },
  {
   "cell_type": "code",
   "execution_count": 1,
   "metadata": {},
   "outputs": [],
   "source": [
    "m=11.17e3"
   ]
  },
  {
   "cell_type": "markdown",
   "metadata": {},
   "source": []
  },
  {
   "cell_type": "code",
   "execution_count": null,
   "metadata": {},
   "outputs": [],
   "source": [
    "Phi_hat=array([5.5,14.9])"
   ]
  }
 ],
 "metadata": {
  "kernelspec": {
   "display_name": "Python 3",
   "language": "python",
   "name": "python3"
  },
  "language_info": {
   "codemirror_mode": {
    "name": "ipython",
    "version": 3
   },
   "file_extension": ".py",
   "mimetype": "text/x-python",
   "name": "python",
   "nbconvert_exporter": "python",
   "pygments_lexer": "ipython3",
   "version": "3.6.6"
  }
 },
 "nbformat": 4,
 "nbformat_minor": 2
}
