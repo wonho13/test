{
 "cells": [
  {
   "cell_type": "markdown",
   "metadata": {},
   "source": [
    "### 2.5.4 예제"
   ]
  },
  {
   "cell_type": "markdown",
   "metadata": {},
   "source": [
    "그림2.21에 나타난 2층 구조물의 건전성을 업데이트하기 위해 그 적응 MCMC 시뮬레이션 방법을 적용합니다.bay(기둥과 기둥 사이의 구획) 폭 및 층 높이는 $5m$와 ,$2.5m$입니다. 탄성계수와 질량밀도는 $200GPa$와 $7800 kg/m^3$로 사용하였습니다. 보의 단면적은 $0.01m^2$, 관성모멘트는 6.0\\times 10^{-4}m^4$로 사용했습니다. 결과적으로 모드주파수는 5.20, 15.4 Hz가 되었습니다.구조물은 모든모드에서$1%$감쇠를 갖는다고 가정했습니다. 구조물의 강성과 건전성을 추정하기위해 2자유도 모델을 사용합니다. 특히, 강성행렬은 다음과 같"
   ]
  },
  {
   "cell_type": "markdown",
   "metadata": {},
   "source": [
    "$$\\mathbf{K}=k^\\eta \\begin{bmatrix}\n",
    "\\theta_1+\\theta_2 && -\\theta_2 \\\\\n",
    "-\\theta_2 && \\theta_2\n",
    "\\end{bmatrix} \\tag{2.143}$$"
   ]
  },
  {
   "cell_type": "markdown",
   "metadata": {},
   "source": [
    "위의 식에서 $\\theta_l$은 층간의 강성입니다. 불확실한 강성변수 $\\mathbf{\\theta}=[\\theta_1,\\theta_2]^T$를 식별할 것이며, 실제강성은 이 변수에 46.08을 곱해야합니다. 층의질량 $11.17\\times 10^3 MN/m$을적용한 집중질량모델(즉, 대각질량행렬)을 사용했습니다."
   ]
  },
  {
   "cell_type": "markdown",
   "metadata": {},
   "source": [
    "두가지 경우(국부식별가능 경우와 식별불가능 경우)를 고려했그, 이 두가지 경우에서의 측정데이터를 사용했습니다. 첫번째 경우에서 모드 데이터 $D$는 2개의 모드주파수입니다. 시간이력을 모사하여 모드식별을 수행하지않고, 모드주파수에 잡음을추가하는방법을 사용했습니다. 이렇게 측정한 모드 주파수는 $\\hat{\\Omega}^{(1)}=5.5 Hz$, $\\hat{\\Omega}^{(2)}=14.9 Hz$입니다."
   ]
  },
  {
   "cell_type": "markdown",
   "metadata": {},
   "source": [
    "사전확률밀도함수 $p(\\mathbf{\\theta}|C)$는 평균이 0.9, 1.2이고, 분산은 모두1인 로그정규분포로 설정하였습니다. 모드데이터 D를 사용해 업데이트한 강성변수벡터 $\\mathbf{\\theta}$의 확률밀도함수는 다음과같이 표현됩니다."
   ]
  },
  {
   "cell_type": "markdown",
   "metadata": {},
   "source": [
    "$$p(\\mathbf{\\theta}|D,C)=k_0 \\; exp\\left[-\\frac{J_g'(\\mathbf{\\theta})}{2\\varphi^2}\\right] p(\\mathbf{\\theta}|C) \\tag{2.144}$$"
   ]
  },
  {
   "cell_type": "markdown",
   "metadata": {},
   "source": [
    "여기서 $k_0$는 정규화 상수이고 $\\varphi$는 분산의 예측 오차 계수와 관련됩니다.  모드 적합도 함수는 측정의 종류에 따라 달라집니다. 식(2.144)에서 $\\varphi^2=1/2^s$로 놓고, $s=1,2,\\dots,10$으로 설정하여 적응과정에서의 순차적 확률밀도를 설정하였습니다."
   ]
  },
  {
   "cell_type": "markdown",
   "metadata": {},
   "source": [
    "#### 2.5.4.1 국부적으로 식별 가능한 경우"
   ]
  },
  {
   "cell_type": "markdown",
   "metadata": {},
   "source": [
    "모드시험에서 1개(1층 또는 2층에서)의 센서만 사용되었다고 가정하면, 모드 주파수만 식별 가능합니다. 이러한 경우, 두개의 강성 변수는 국부적으로만 식별가능하며, 정규화된 모드 적합도 함수는 다음과 같이 설정할 수 있습니다."
   ]
  },
  {
   "cell_type": "markdown",
   "metadata": {},
   "source": [
    "$$ J_g'(\\theta)=\\sum_{m=1}^2 \\left[ \\frac{\\hat{\\Omega}^{(m)^2}-\\Omega^{(m)}(\\theta)^2}{\\hat{\\Omega}^{(m)^2}}   \\right]^2 \\tag{2.145}$$"
   ]
  },
  {
   "cell_type": "markdown",
   "metadata": {},
   "source": [
    "여기서 $\\hat{\\Omega}^{(m)}$와 $\\Omega^{(m)}(\\theta)$는 m번째 측정한 모드주파수와 모델의 모드주파수입니다. 강성 변수에 대하여 업데이트한 확률밀도함수에는 두군데의 국부 최적점이 있는 것으로 확인됩니다. 그 점은 [0.73,0.84]와 [1.6,0.38]입니다."
   ]
  },
  {
   "cell_type": "markdown",
   "metadata": {},
   "source": [
    "그림2.22는 $s=1,4,7,8,9,10$에서의 샘플 결과입니다. 각 시뮬레이션 댄계에서 첫 10개의 샘플은 무시하여 과도 단계를 제거했습니다. $N=500$인 마르코프체인 샘플들을 추출했고, 이는 그림에서 점으로 보여집니다. 마르코프체인 샘플들은 모두 구별되지는 않습니다. 왜냐하면 각 단계에서 특정 확률로 마르코프체인이 반복되기 때문입니다."
   ]
  }
 ],
 "metadata": {
  "kernelspec": {
   "display_name": "Python 3",
   "language": "python",
   "name": "python3"
  },
  "language_info": {
   "codemirror_mode": {
    "name": "ipython",
    "version": 3
   },
   "file_extension": ".py",
   "mimetype": "text/x-python",
   "name": "python",
   "nbconvert_exporter": "python",
   "pygments_lexer": "ipython3",
   "version": "3.7.4"
  }
 },
 "nbformat": 4,
 "nbformat_minor": 2
}
