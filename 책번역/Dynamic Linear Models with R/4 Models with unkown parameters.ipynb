{
 "cells": [
  {
   "cell_type": "markdown",
   "metadata": {},
   "source": [
    "이전 장에서는 시스템 행렬 $F_t, G_t, V_t, W_t$를 알고 있다는 전제 하에 시계열 분석에 대한 기본적인 DLM에 대하여 다루었습니다. 이는 시스템의 거동 및 일반 물성치에 대해 조사하면 쉽게 알 수 있었습니다. 사실, DLM에서 시스템 행렬을 정확히 알고 있는 경우는 거의 없습니다. 이 자에서는 모델의 행렬이 알지 못하는 변수 벡터 $\\psi$에 의해 결정된다고 하겠습니다. 이 알지 못하는 변수는 보통 시간과 무관하게 상수이지만, 시간에 따라 변하는 예시에 대해서도 다룰 것입니다."
   ]
  },
  {
   "cell_type": "markdown",
   "metadata": {},
   "source": [
    "$\\psi$를 추정하는 전통적인 방법 중 하나는 최대 가능도 방법입니다. 이 변수를 추정하는 것이 최종 목적이라면 이 단계에서 끝납니다. 하지만 스무딩 또는 예측에 목적이라면 예측한 변수를 사용해 2장의 과정을 수행해야 합니다."
   ]
  },
  {
   "cell_type": "markdown",
   "metadata": {},
   "source": [
    "베이지안 관점에서 알지 못하는 변수는 랜덤 양이며 따라서 DLM에서 관측 값이 주어졌을 때 알지 못하는 변수 $\\psi$와 상태 벡터의 조건부 결합 분포에 대해 알면 사후 분포를 알 수 있게 됩니다. 이후 보겠지만, 베이지안 추론은 해석적으로 계산 불가능 한 것을 계산해야 합니다. 하지만 MCMC와 현대 순차 몬테카를로 방법들을 통해 효과적으로 사후 분포에 대해 추정해 나갈 수 있습니다."
   ]
  },
  {
   "cell_type": "markdown",
   "metadata": {},
   "source": [
    "4.1장에서는 DLM에서 알지 못하는 변수를 추정하기 위한 최대 가능도 방법에 대해 알아보고, 나머지 장들에서는 베이지안 추론에 대해 다루겠습니다."
   ]
  }
 ],
 "metadata": {
  "kernelspec": {
   "display_name": "R",
   "language": "R",
   "name": "ir"
  },
  "language_info": {
   "codemirror_mode": "r",
   "file_extension": ".r",
   "mimetype": "text/x-r-source",
   "name": "R",
   "pygments_lexer": "r",
   "version": "3.6.1"
  }
 },
 "nbformat": 4,
 "nbformat_minor": 4
}
