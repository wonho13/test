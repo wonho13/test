{
 "cells": [
  {
   "cell_type": "markdown",
   "metadata": {},
   "source": [
    "### 5.1.1 A Simple example"
   ]
  },
  {
   "cell_type": "markdown",
   "metadata": {},
   "source": [
    "앞장에서 소개한 기본 입자 필터에 대한 사용법을 소개하고 그 정확성을 평가하기 위해 매우 단순한 예제를 소개하겠습니다. 이 예제에서는 이미 알고 있는 DLM에서 시뮬레이션 한 100개의 관측치를 고려해 보겠습니다. 이 관측치 데이터는 초기 상태 분포가 $N(10,9)$이고, 시스템 분산이 $W=1$, 관측 분산이 $V=2$인 local level 모델(=1차 가우시안 동적 선형 모델)로 생산하였습니다. 관측 데이터는 변수 $y$에 저장하였습니다. **dlmForecast** 함수를 사용하면 주어진 모델에 대한 시뮬레이션을 수행할 수 있습니다."
   ]
  },
  {
   "cell_type": "markdown",
   "metadata": {},
   "source": [
    "**참고**"
   ]
  },
  {
   "cell_type": "markdown",
   "metadata": {},
   "source": [
    "dlmModPoly(1,dV=2,dW=2,m0=10,C0=9) : 1차, 관측분산 V=2, 시스템분산 W=2, 초기평균 m0=10, 초기분산 C0=9인 모델f을 생성함. \n",
    "\n",
    "\n",
    "dlmModPoly 함수는 m0, C0, FF, V, GG, W 등을 return 함.\n",
    "\n",
    "\n",
    "dlm에서 사용하는 상태공간방정식은 아래의 형태임.\n",
    "\n",
    "\n",
    "$$y_t=F_t\\theta_t+v_t,\\;\\;\\;\\;v_t\\sim N(0,V_t)$$\n",
    "\n",
    "\n",
    "$$\\theta_t=G_t\\theta_{t-1}+w_t,\\;\\;\\;\\;w_t \\sim N(0,W_t)$$\n",
    "\n",
    "\n",
    "$$\\theta_0\\sim N(m0,C0)$$"
   ]
  },
  {
   "cell_type": "code",
   "execution_count": 1,
   "metadata": {},
   "outputs": [
    {
     "name": "stderr",
     "output_type": "stream",
     "text": [
      "Loading required package: dlm\n",
      "Warning message:\n",
      "\"package 'dlm' was built under R version 3.6.3\""
     ]
    }
   ],
   "source": [
    "require(\"dlm\")"
   ]
  },
  {
   "cell_type": "code",
   "execution_count": 2,
   "metadata": {},
   "outputs": [
    {
     "data": {
      "text/html": [
       "<ol class=list-inline>\n",
       "\t<li>'m0'</li>\n",
       "\t<li>'C0'</li>\n",
       "\t<li>'FF'</li>\n",
       "\t<li>'V'</li>\n",
       "\t<li>'GG'</li>\n",
       "\t<li>'W'</li>\n",
       "\t<li>'JFF'</li>\n",
       "\t<li>'JV'</li>\n",
       "\t<li>'JGG'</li>\n",
       "\t<li>'JW'</li>\n",
       "</ol>\n"
      ],
      "text/latex": [
       "\\begin{enumerate*}\n",
       "\\item 'm0'\n",
       "\\item 'C0'\n",
       "\\item 'FF'\n",
       "\\item 'V'\n",
       "\\item 'GG'\n",
       "\\item 'W'\n",
       "\\item 'JFF'\n",
       "\\item 'JV'\n",
       "\\item 'JGG'\n",
       "\\item 'JW'\n",
       "\\end{enumerate*}\n"
      ],
      "text/markdown": [
       "1. 'm0'\n",
       "2. 'C0'\n",
       "3. 'FF'\n",
       "4. 'V'\n",
       "5. 'GG'\n",
       "6. 'W'\n",
       "7. 'JFF'\n",
       "8. 'JV'\n",
       "9. 'JGG'\n",
       "10. 'JW'\n",
       "\n",
       "\n"
      ],
      "text/plain": [
       " [1] \"m0\"  \"C0\"  \"FF\"  \"V\"   \"GG\"  \"W\"   \"JFF\" \"JV\"  \"JGG\" \"JW\" "
      ]
     },
     "metadata": {},
     "output_type": "display_data"
    }
   ],
   "source": [
    "### 모델 생성\n",
    "mod <- dlmModPoly(1, dV=2, dW=1, m0=10, C0=9)\n",
    "names(mod) # mod가 가지는 변수들 나열"
   ]
  },
  {
   "cell_type": "code",
   "execution_count": 3,
   "metadata": {},
   "outputs": [
    {
     "data": {
      "text/html": [
       "<ol class=list-inline>\n",
       "\t<li>'a'</li>\n",
       "\t<li>'R'</li>\n",
       "\t<li>'f'</li>\n",
       "\t<li>'Q'</li>\n",
       "\t<li>'newStates'</li>\n",
       "\t<li>'newObs'</li>\n",
       "</ol>\n"
      ],
      "text/latex": [
       "\\begin{enumerate*}\n",
       "\\item 'a'\n",
       "\\item 'R'\n",
       "\\item 'f'\n",
       "\\item 'Q'\n",
       "\\item 'newStates'\n",
       "\\item 'newObs'\n",
       "\\end{enumerate*}\n"
      ],
      "text/markdown": [
       "1. 'a'\n",
       "2. 'R'\n",
       "3. 'f'\n",
       "4. 'Q'\n",
       "5. 'newStates'\n",
       "6. 'newObs'\n",
       "\n",
       "\n"
      ],
      "text/plain": [
       "[1] \"a\"         \"R\"         \"f\"         \"Q\"         \"newStates\" \"newObs\"   "
      ]
     },
     "metadata": {},
     "output_type": "display_data"
    }
   ],
   "source": [
    "## 생성 데이터 수\n",
    "n <- 100\n",
    "## seed 고정\n",
    "set.seed(23)\n",
    "## 데이터 생성\n",
    "# mod 모델을 사용하고, n번째 까지 생성, 샘플데이터(newObs, newStates) 생성(sampleNew=1)\n",
    "simData <- dlmForecast(mod = mod, nAhead = n, sampleNew = 1)\n",
    "names(simData) # simData가 가지는 변수들 나열\n",
    "# a = 상태평균, R = 상태분산, f = 관측평균, Q=관측분산\n",
    "# 상기 변수들로 샘플링한 상태 및 관측치 = newStates, newObs"
   ]
  },
  {
   "cell_type": "code",
   "execution_count": 4,
   "metadata": {},
   "outputs": [],
   "source": [
    "## 관측 데이터만 y에 저장\n",
    "y <- simData$newObs[[1]]"
   ]
  },
  {
   "cell_type": "markdown",
   "metadata": {},
   "source": [
    "입자의 수를 1000으로 설정하고 입자필터를 수행하였습니다. 그리고 최적 중요도 커널을 중요도 전이 밀도로 사용하였습니다. 앞장에서 논의했듯이 DLM의 경우 이 밀도는 이 밀도로 부터 샘플링을 하고 입자 가중치를 업데이트하는데 사용하기 쉽습니다. 그리고 문제를 조금 단순하게 하기 위해 더 효율적인 잔차 리샘플링을 사용하지 않고 단순 다항 리샘플링을 사용했습니다. 그리고 리샘플링 단계를 위한 기준 값을 500으로 설정했습니다. 이는 유효 샘플 크기가 입자 수의 절반보다 적어지면 리샘플을 수행함을 의미합니다."
   ]
  },
  {
   "cell_type": "code",
   "execution_count": 5,
   "metadata": {},
   "outputs": [],
   "source": [
    "## 입자수\n",
    "N <- 1000\n",
    "## 리샘플 기준치\n",
    "N_0 <- N / 2\n",
    "## 입자필터 결과를 저장할 행렬\n",
    "# 실수 type의 n+1(데이터수) x N(입자수) 행렬 정의\n",
    "pfOut <- matrix(NA_real_, n+1, N)\n",
    "## 가중치를 저장할 행렬\n",
    "# 실수 type의 n+1(데이터수) x N(입자수) 행렬 정의\n",
    "wt <- matrix(NA_real_, n+1, N)"
   ]
  },
  {
   "cell_type": "markdown",
   "metadata": {},
   "source": [
    "**참고**\n",
    "\n",
    "최적 중요도 커널 $g_{t|t-1}$의 중요도 전이 밀도는 다음의 평균 및 분산을 따르는 정규분포 임."
   ]
  },
  {
   "cell_type": "markdown",
   "metadata": {},
   "source": [
    "$$E(\\theta_t|\\theta_{t-1},y_t)=G_t\\theta_{t-1}+W_tF_t'\\Sigma_t^{-1}(y_t-F_tG_g\\theta_{t-1})$$"
   ]
  },
  {
   "cell_type": "markdown",
   "metadata": {},
   "source": [
    "$$Var(\\theta_t|\\theta_{t-1},y_t)=W_t-W_tF_t'\\Sigma_t^{-1}F_tW_t$$"
   ]
  },
  {
   "cell_type": "markdown",
   "metadata": {},
   "source": [
    "with"
   ]
  },
  {
   "cell_type": "markdown",
   "metadata": {},
   "source": [
    "$$\\Sigma_t=F_tW_tF_t'+V_t$$"
   ]
  },
  {
   "cell_type": "code",
   "execution_count": 6,
   "metadata": {},
   "outputs": [],
   "source": [
    "## 중요도 전이 밀도의 표준편차\n",
    "W <- mod$W\n",
    "V <- mod$V\n",
    "F <- mod$FF\n",
    "G <- mod$GG\n",
    "m0 <- mod$m0\n",
    "C0 <- mod$C0\n",
    "Sig = F*W*F+V\n",
    "importnaceSd <- sqrt(W - W*F/Sig*F*W)\n",
    "## 측정 전이 표준편차\n",
    "predSd <- sqrt(Sig)"
   ]
  },
  {
   "cell_type": "code",
   "execution_count": 7,
   "metadata": {},
   "outputs": [],
   "source": [
    "## 사전 분포를 사용해 초기 값 샘플링\n",
    "pfOut[1,] <- rnorm(N, mean = m0, sd = sqrt(C0))"
   ]
  },
  {
   "cell_type": "code",
   "execution_count": 8,
   "metadata": {},
   "outputs": [],
   "source": [
    "## 초기 가중치\n",
    "wt[1,] <- rep(1/N,N)"
   ]
  },
  {
   "cell_type": "code",
   "execution_count": 9,
   "metadata": {},
   "outputs": [],
   "source": [
    "options(warn=-1)  # warning 메세지 끄기\n",
    "for (it in 2 : (n+1)){\n",
    "    ## 입자 생성\n",
    "    # 중요도 전이 밀도의 평균\n",
    "    E <- G*pfOut[it-1,] + W*F/Sig*(y[it-1]-F*G*pfOut[it-1,])\n",
    "    # 중요도 전이 밀도로 부터 샘플링\n",
    "    pfOut[it,] <- rnorm(N, mean = E, sd = importnaceSd)\n",
    "    ## 가중치 업데이트\n",
    "    wt[it,] <- wt[it-1] * dnorm(y[it-1], mean = pfOut[it-1,], sd = sqrt(Sig))\n",
    "    ## 가중치 정규화\n",
    "    wt[it,] <- wt[it,] / sum(wt[it,])\n",
    "    ## 필요 시 리샘플\n",
    "    # 유효샘플크기 계산\n",
    "    N.eff <- 1 / crossprod(wt[it,])\n",
    "    if (N.eff < N_0)  # 리샘플 기준보다 작으면,\n",
    "    {\n",
    "        ## 다항 리샘플링\n",
    "        index <- sample(N, N, replace = TRUE, prob = wt[it,])\n",
    "        pfOut[it,] <- pfOut[it, index]\n",
    "        # 가중치 초기화\n",
    "        wt[it,] <- 1 / N\n",
    "    }\n",
    "}"
   ]
  },
  {
   "cell_type": "markdown",
   "metadata": {},
   "source": [
    "완전히 정의된(알지 못하는 변수가 없는) DLM의 경우 칼만필터를 사용해 정확한 필터링 평균 및 분산을 구할 수 있습니다. 그림 5.1은 칼만필터로 구한 정확한 필터링 평균 및 분산과 입자 필터 알고리즘으로 구한 결과를 비교한 것입니다. 필터링 평균의 경우 입자 필터는 매우 높은 정확도를 보입니다. (두개의 선을 거의 구별할 수 없습니다.) 필터링 표준편차의 경우 덜 정확하지만 나름 실제 값에 근접한 결과를 보입니다. 입자의 수를 증가시키면 정확도를 높일 수 있습니다. 그림 5.1은 다음의 코드로 작성한 것입니다."
   ]
  },
  {
   "cell_type": "code",
   "execution_count": 10,
   "metadata": {},
   "outputs": [
    {
     "data": {
      "image/png": "[encoded data removed]",
      "text/plain": [
       "plot without title"
      ]
     },
     "metadata": {},
     "output_type": "display_data"
    },
    {
     "data": {
      "image/png": "[encoded data removed]",
      "text/plain": [
       "plot without title"
      ]
     },
     "metadata": {},
     "output_type": "display_data"
    }
   ],
   "source": [
    "modFilt <- dlmFilter(y, mod)\n",
    "thetaHatKF <- modFilt$m[-1]\n",
    "sdKF <- with(modFilt, sqrt(unlist(dlmSvd2var(U.C, D.C))))[-1]\n",
    "pfOut <- pfOut[-1,]\n",
    "wt <- wt[-1,]\n",
    "thetaHatPF <- sapply(1 : n, function(i)\n",
    "                            weighted.mean(pfOut[i,],wt[i,]))\n",
    "sdPF <- sapply(1:n, function(i)\n",
    "                      sqrt(weighted.mean((pfOut[i,]-\n",
    "                                    thetaHatPF[i])^2, wt[i,])))\n",
    "plot.ts(cbind(thetaHatKF, thetaHatPF),\n",
    "        plot.type = \"s\", lty = c(\"dotted\", \"longdash\"),\n",
    "        xlab = \"\", ylab = expression(m[t]))\n",
    "legend(\"topleft\", c(\"Kalman\", \"Particle\"),\n",
    "        lty = c(\"dotted\", \"longdash\"), bty = \"n\")\n",
    "plot.ts(cbind(sdKF, sdPF), plot.type=\"s\",\n",
    "        lty = c(\"dotted\", \"longdash\"), xlab = \"\",\n",
    "        ylab = expression(sqrt(C[t])))\n",
    "legend(\"topright\", c(\"Kalman\", \"Particle\"),\n",
    "        lty = c(\"dotted\", \"longdash\"), bty = \"n\")"
   ]
  }
 ],
 "metadata": {
  "kernelspec": {
   "display_name": "R",
   "language": "R",
   "name": "ir"
  },
  "language_info": {
   "codemirror_mode": "r",
   "file_extension": ".r",
   "mimetype": "text/x-r-source",
   "name": "R",
   "pygments_lexer": "r",
   "version": "3.6.1"
  }
 },
 "nbformat": 4,
 "nbformat_minor": 4
}
