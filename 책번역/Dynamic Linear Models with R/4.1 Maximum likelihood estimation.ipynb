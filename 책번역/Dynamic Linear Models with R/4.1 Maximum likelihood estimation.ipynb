{
 "cells": [
  {
   "cell_type": "markdown",
   "metadata": {},
   "source": [
    "## 4.1 Maximum likelihood estimation"
   ]
  },
  {
   "cell_type": "markdown",
   "metadata": {},
   "source": [
    "$n$개의 랜덤 벡터 $Y_1,\\dots,Y_n$이 있고, 이 벡터들의 분포는 알지 못하는 변수 $\\psi$에 의해 결정된다고 합시다. 이 변수가 특정 값으로 주어졌을 때 관측치에 대한 결합밀도를 $p(y_1,\\dots,y_n;\\psi)$로 표기하겠습니다. 가능도 함수는 관측 데이터에 대한 확률밀도를 $\\psi$에 대한 함수로 표현한 것으로 정의됩니다. 가능도 함수를 $L$로 표기하면 $L(\\psi)=const\\cdot p(y_1,\\dots,y_n;\\psi)$로 쓸 수 있습니다. DLM의 경우 관측치에 대한 결합밀도를 다음과 같이 쓰면 편합니다."
   ]
  },
  {
   "cell_type": "markdown",
   "metadata": {},
   "source": [
    "$$p(y_1,\\dots,y_n;\\psi)=\\prod_{t=1}^{n}p(y_t|y_{1:t-1};\\psi)\\tag{4.1}$$"
   ]
  },
  {
   "cell_type": "markdown",
   "metadata": {},
   "source": [
    "여기서 $p(y_t|y_{1:t-1};\\psi)$는 $\\psi$가 알지 못하는 변수의 값이라고 가정했을 때, 시간 $t-1$까지의 데이터가 주어 졌을 때 $y_t$에 대한 조건부 밀도 입니다. 2장을 통해 식(4.1)의 RHS 항은 평균이 $f_t$이고 분산이 $Q_t$인 가우시안 밀도라는 것을 알고 있습니다. 따라서 가능도 함수를 다음과 같이 쓸 수 있습니다."
   ]
  },
  {
   "cell_type": "markdown",
   "metadata": {},
   "source": [
    "$$\\ell(\\psi)=-\\frac{1}{2}\\sum_{t=1}^{n}log|Q_t|-\\frac{1}{2}\\sum_{t=1}^{n}(y_t-f_t)'Q_t^{-1}(y_t-f_t)\\tag{4.2}$$"
   ]
  },
  {
   "cell_type": "markdown",
   "metadata": {},
   "source": [
    "여기서 $f_t$와 $Q_t$는 $\\psi$에 의해 결정됩니다. 식(4.2)의 최대값은 $\\psi$의 MLE를 취해 얻을 수 있습니다. "
   ]
  },
  {
   "cell_type": "markdown",
   "metadata": {},
   "source": [
    "$$\\hat{\\psi}=argmmax_{\\psi}\\ell(\\psi)\\tag{4.3}$$"
   ]
  },
  {
   "cell_type": "markdown",
   "metadata": {},
   "source": [
    "H를 $\\psi=\\hat{\\psi}$에서 구한 $-\\ell(\\psi)$의 Hessian 행렬이라고 합시다. 행렬 $H^{-1}$는 MLE의 분산 $Var(\\hat{\\psi})$에 대한 추정값 입니다. MLE의 일치 조건(conditions for consistency)과 점근 정규성(asymptotic normality)는 Caiines(1988)과 Hannan, Deistler(1988)에서 확인 가능합니다. 기본적인 내용은 Shumway, Stoffer(2000)을 참고하기 바랍니다. 하지만 일반적올 사용되는 DLM의 대부분은 MLE의 일반적인 일치성과 점근 정규성이 유지됩니다."
   ]
  },
  {
   "cell_type": "markdown",
   "metadata": {},
   "source": [
    "다음으로 수치 최적화에 대한 주의사항들이 있습니다. DLM의 가능도 함수는 많은 국부 최적점을 가질 수 있습니다. 이는 최적화를 다른점에서 시작함에 따라 다른 최적점이 계산될 수 있음을 의미합니다. MLE를 찾는데 있어 다소 평평한 가능도 함수는 또다른 문제가 될 수 있습니다. 이러한 경우, 다른점에서 시작한 최적화가 매우 다른 위치의 최적점으로 결정될 수 있고 이 다른 위치의 값들이 거의 같을 수 있습니다. MLE 분산의 추정치는 보통 매우 큰 값을 갖습니다. 이는 모델이 식별하기 어려운 상태임을 의미합니다. 이에 대한 해결책으로는 모델을 단순화 하고, 일부 변수들을 제거하는 방법이 있습니다. 반면, 스무딩 또는 예측이 목적인 경우 모델이 변수에 대해 잘 식별되지 않아도 좋은 결과가 산출되는 경우도 있습니다."
   ]
  },
  {
   "cell_type": "markdown",
   "metadata": {},
   "source": [
    "R은 **dlm** 패키지 내의 **dlmMLE**함수를 가지고 있으며 이 함수 내에는 **optim**함수가 있어 매우 강력한 최적화 기능을 가집니다. 최적화 문제에서 함수를 최소화 하는 것은 일반적이며, **optim**는 예외없이 사용됩니다. 통계학자들도 MLE를 찾을 때 음의 로그 가능도 함수를 최소화 하는 방향으로 생각하는 경향이 있습니다. 이러한 관점에서 함수 **dlmLL**는 주어진 데이터에 대해 DLM의 음의 로그 가능도 함수를 출력(return)합니다. 관심있는 DLM의 정의에 포함된 변수 $\\psi$에 대하여, DLM을 먼저 구성하고 구성한 DLM의 음의 로그 가능도 함수를 평가할 수 있습니다. 이는 아래의 단계료 표현 됩니다."
   ]
  },
  {
   "cell_type": "markdown",
   "metadata": {},
   "source": [
    "$$\\psi \\xrightarrow{build} DLM \\xrightarrow{loglik.} -\\ell(\\psi)$$"
   ]
  },
  {
   "cell_type": "markdown",
   "metadata": {},
   "source": [
    "위의 과정은 **dlmMLE**가 정확히 수행하는 과정입니다. 사용자 정의 함수 **build**로 DLM을 만들고 **dlmLL**로 새로운 함수를 정의하여 실체 최소화를 위해 결과를 **optim**으로 전달합니다. 예를들어, Lake Superior (91 페이지 참조)의 연간 강수량 데이터를 고려해 봅시다. 이 데이터에 대한 그래프를 그려보면, 이 현상을 1차 다항식으로 모델링하는 것이 적절하다는 것을 판단할 수 있습니다. 아래의 코드는 V와 W의 MLE를 어떻게 찾는지 보여줍니다. "
   ]
  },
  {
   "cell_type": "code",
   "execution_count": 1,
   "metadata": {},
   "outputs": [
    {
     "name": "stderr",
     "output_type": "stream",
     "text": [
      "Loading required package: dlm\n",
      "Warning message:\n",
      "\"package 'dlm' was built under R version 3.6.3\""
     ]
    }
   ],
   "source": [
    "require(\"dlm\")"
   ]
  },
  {
   "cell_type": "code",
   "execution_count": 2,
   "metadata": {},
   "outputs": [],
   "source": [
    "y <- ts(read.table(\"pgreat1.dat\",skip=3),start=c(1900,1))"
   ]
  },
  {
   "cell_type": "code",
   "execution_count": 3,
   "metadata": {},
   "outputs": [
    {
     "data": {
      "image/png": "[encoded data removed]",
      "text/plain": [
       "Plot with title \"Annual precipitation at Lake Superior\""
      ]
     },
     "metadata": {},
     "output_type": "display_data"
    }
   ],
   "source": [
    "plot(y,type=\"o\",ylab='Level',)\n",
    "options(repr.plot.width=8, repr.plot.height=5); grid(lty=1);\n",
    "title(\"Annual precipitation at Lake Superior\")"
   ]
  },
  {
   "cell_type": "code",
   "execution_count": 4,
   "metadata": {},
   "outputs": [],
   "source": [
    "# Create an n-th order polynomial DLM\n",
    "build <- function(parm){\n",
    "    dlmModPoly(order = 1, dV = exp(parm[1]), dW = exp(parm[2]))\n",
    "}"
   ]
  },
  {
   "cell_type": "code",
   "execution_count": 5,
   "metadata": {},
   "outputs": [],
   "source": [
    "# Parameter estimation by maximum likelihood\n",
    "fit <- dlmMLE(y, rep(0,2), build)"
   ]
  },
  {
   "cell_type": "code",
   "execution_count": 6,
   "metadata": {},
   "outputs": [
    {
     "data": {
      "text/html": [
       "0"
      ],
      "text/latex": [
       "0"
      ],
      "text/markdown": [
       "0"
      ],
      "text/plain": [
       "[1] 0"
      ]
     },
     "metadata": {},
     "output_type": "display_data"
    }
   ],
   "source": [
    "# Check Convergence\n",
    "fit$convergence"
   ]
  },
  {
   "cell_type": "code",
   "execution_count": 7,
   "metadata": {
    "scrolled": true
   },
   "outputs": [
    {
     "data": {
      "text/html": [
       "<dl class=dl-horizontal>\n",
       "\t<dt>V</dt>\n",
       "\t\t<dd>5.86686746346864</dd>\n",
       "\t<dt>W</dt>\n",
       "\t\t<dd>0.0883358417472925</dd>\n",
       "</dl>\n"
      ],
      "text/latex": [
       "\\begin{description*}\n",
       "\\item[V] 5.86686746346864\n",
       "\\item[W] 0.0883358417472925\n",
       "\\end{description*}\n"
      ],
      "text/markdown": [
       "V\n",
       ":   5.86686746346864W\n",
       ":   0.0883358417472925\n",
       "\n"
      ],
      "text/plain": [
       "         V          W \n",
       "5.86686746 0.08833584 "
      ]
     },
     "metadata": {},
     "output_type": "display_data"
    }
   ],
   "source": [
    "unlist(build(fit$par)[c(\"V\",\"W\")])"
   ]
  },
  {
   "cell_type": "markdown",
   "metadata": {},
   "source": [
    "최적화 중 음의 변수 값을 찾는 경우를 피하기 위해 알지 못하는 두개 분산 값에 로그를 취한 값을 구했습니다. **dlmMLE**의 출력 값은 **optim**를 호출하여 생성된 리스트 입니다. **convergence**는 항상 확인해야 됩니다. 0이 아닌 값이 나온 경우 수렴하지 않았음을 의미합니다. **dlmMLE**는 **optim**에 추가적인 입력을 제공할 수 있도록 \"...\"의 입력항을 가집니다. 예를들어, **hessian=TRUE**라는 입력을 **optim**에 포함시키고 **optim**을 호출하면, **optim**은 최소값에서 수치적으로 계산한 Hessian도 출력합니다. 이는 MLE 성분의 표준 오차를 추정하거나 분산 행렬을 추정하는데 사용될 수 있습니다. 앞선 예제에서 $\\psi=(log(V),log(W))$의 형태로 모델을 변수화 했기 때문에, Hessian으로 추정한 표준 오차는 이 변수들의 MLE가 됩니다. V와 W의 MLE에 대한 표준 오차를 얻기 위해서는 델타 방법을 사용할 수 있습니다. 델타 방법의 일반적인 다변수 형태에 대해 상기해 봅시다. $\\psi$가 $h$차원이고, $g:\\mathbb{R}^h\\to\\mathbb{R}^k$의 미분은 연속이라고 가정해 봅시다. 임의의 $\\psi=(\\psi_1,\\dots,\\psi_h)\\in\\mathbb{R}^h$에 대하여 $g(\\psi)=(g_1(\\psi),\\dots,g_k(\\psi))$라고 쓰고, g의 미분을 $k\\times h$행렬로 정의합시다."
   ]
  },
  {
   "cell_type": "markdown",
   "metadata": {},
   "source": [
    "$$D_g=\n",
    "\\begin{bmatrix}\n",
    "\\frac{\\partial{g_1}}{\\partial{\\psi_1}} && \\dots && \\frac{\\partial{g_1}}{\\partial{\\psi_h}} \\\\\n",
    "\\dots && \\dots && \\dots \\\\\n",
    "\\frac{\\partial{g_k}}{\\partial{\\psi_1}} && \\dots && \\frac{\\partial{g_k}}{\\partial{\\psi_h}}\n",
    "\\end{bmatrix}\n",
    "\\tag{4.4}$$"
   ]
  },
  {
   "cell_type": "markdown",
   "metadata": {},
   "source": [
    "즉, $D_g$의 $i$번째 열은 $g_i$의 gradient입니다. 만약 $\\hat{\\Sigma}$가 MLE $\\hat{\\psi}$의 분산 행렬의 추정치라면, $g(\\hat{\\psi})$는 $g(\\psi)$의 MLE가 되며, $g(\\psi)$의 추정 분산은 $D_g(\\hat{\\psi})\\hat{\\Sigma}D_g(\\hat{\\psi})'$가 됩니다. 이 예제에서 $g(\\psi)=(exp(\\psi_1),exp(\\psi_2))$이므로,"
   ]
  },
  {
   "cell_type": "markdown",
   "metadata": {},
   "source": [
    "$$D_g(\\psi)=\n",
    "\\begin{bmatrix}\n",
    "exp(\\psi_1)&&0\\\\\n",
    "0&&exp(\\psi_2)\n",
    "\\end{bmatrix}\n",
    "\\tag{4.5}$$"
   ]
  },
  {
   "cell_type": "markdown",
   "metadata": {},
   "source": [
    "다음의 R 코드처럼 추정 분산에 대한 표준 오차를 구하기 위하여 최소값에서의 음의 로그 가능도함수와 델타 방법을 사용할 수 있습니다."
   ]
  },
  {
   "cell_type": "code",
   "execution_count": 8,
   "metadata": {},
   "outputs": [
    {
     "data": {
      "text/html": [
       "<ol class=list-inline>\n",
       "\t<li>0.949684508884831</li>\n",
       "\t<li>0.0817787244822969</li>\n",
       "</ol>\n"
      ],
      "text/latex": [
       "\\begin{enumerate*}\n",
       "\\item 0.949684508884831\n",
       "\\item 0.0817787244822969\n",
       "\\end{enumerate*}\n"
      ],
      "text/markdown": [
       "1. 0.949684508884831\n",
       "2. 0.0817787244822969\n",
       "\n",
       "\n"
      ],
      "text/plain": [
       "[1] 0.94968451 0.08177872"
      ]
     },
     "metadata": {},
     "output_type": "display_data"
    }
   ],
   "source": [
    "fit <- dlmMLE(y, rep(0,2), build, hessian = TRUE)\n",
    "avarLog <- solve(fit$hessian)\n",
    "avar <- diag(exp(fit$par)) %*% avarLog %*% diag(exp(fit$par)) # Delta method\n",
    "sqrt(diag(avar)) # estimated standard errors"
   ]
  },
  {
   "cell_type": "markdown",
   "metadata": {},
   "source": [
    "델타 방법에 대한 대안으로 새로운 변수인 $g(\\psi)$와 $g(\\hat{psi})$에 대한 함수로 표현되는 로그 가능도 함수의 Hessian을 수치적으로 계산할 수 있습니다. **nlme** 패키지는 **fdHess**함수를 제공하며 다음과 같이 사용할 수 있습니다."
   ]
  },
  {
   "cell_type": "code",
   "execution_count": 9,
   "metadata": {},
   "outputs": [
    {
     "name": "stderr",
     "output_type": "stream",
     "text": [
      "Warning message:\n",
      "\"package 'nlme' was built under R version 3.6.3\""
     ]
    }
   ],
   "source": [
    "library(\"nlme\")"
   ]
  },
  {
   "cell_type": "code",
   "execution_count": 10,
   "metadata": {},
   "outputs": [
    {
     "data": {
      "text/html": [
       "<ol class=list-inline>\n",
       "\t<li>0.949623176873192</li>\n",
       "\t<li>0.0817294468023021</li>\n",
       "</ol>\n"
      ],
      "text/latex": [
       "\\begin{enumerate*}\n",
       "\\item 0.949623176873192\n",
       "\\item 0.0817294468023021\n",
       "\\end{enumerate*}\n"
      ],
      "text/markdown": [
       "1. 0.949623176873192\n",
       "2. 0.0817294468023021\n",
       "\n",
       "\n"
      ],
      "text/plain": [
       "[1] 0.94962318 0.08172945"
      ]
     },
     "metadata": {},
     "output_type": "display_data"
    }
   ],
   "source": [
    "avar1 <- solve(fdHess(exp(fit$par), function(x) dlmLL(y,build(log(x))))$Hessian)\n",
    "sqrt(diag(avar1))"
   ]
  },
  {
   "cell_type": "markdown",
   "metadata": {},
   "source": [
    "이 예제에서 모델을 V, W에 대하여 작성하고 **dlmMLE**로 출력되는 Hessian을 사용하여 추정 표준 오차를 직접 계산할 수 있습니다. 하지만 이 경우 변수 공간 제한에 대해 유의해야 하며 두 변수들의 최저 한계를 설정해야 합니다. 기본 설정 최적화 방법인 **L-BFGS-B**는 변수 공간 제안을 허용하는 유일한 방법입니다. 다음의 코드는 V에 대한 최저 한계를 $10^{-6}$으로 설정했을 때 **dlm**의 함수들은 행렬 V가 특이행렬이 아니어야 함을 요구하는 것을 보여줍니다. 데이터의 크기를 고려했을 때 대부분의 경우 $10^{-6}$은 0으로 고려할 수 있습니다. "
   ]
  },
  {
   "cell_type": "code",
   "execution_count": 11,
   "metadata": {},
   "outputs": [
    {
     "data": {
      "text/plain": [
       "NULL"
      ]
     },
     "metadata": {},
     "output_type": "display_data"
    }
   ],
   "source": [
    "build <- function(parm){\n",
    "    dlmModPoly(order = 1, dV = parm[1], dW = parm[2])\n",
    "}\n",
    "fit <-dlmMLE(y, rep(0.23,2), build, lower = c(1e-6,0), hessian = T)\n",
    "fit$convergnece"
   ]
  },
  {
   "cell_type": "code",
   "execution_count": 12,
   "metadata": {},
   "outputs": [
    {
     "data": {
      "text/html": [
       "<dl class=dl-horizontal>\n",
       "\t<dt>V</dt>\n",
       "\t\t<dd>5.86677428128304</dd>\n",
       "\t<dt>W</dt>\n",
       "\t\t<dd>0.088337980938952</dd>\n",
       "</dl>\n"
      ],
      "text/latex": [
       "\\begin{description*}\n",
       "\\item[V] 5.86677428128304\n",
       "\\item[W] 0.088337980938952\n",
       "\\end{description*}\n"
      ],
      "text/markdown": [
       "V\n",
       ":   5.86677428128304W\n",
       ":   0.088337980938952\n",
       "\n"
      ],
      "text/plain": [
       "         V          W \n",
       "5.86677428 0.08833798 "
      ]
     },
     "metadata": {},
     "output_type": "display_data"
    }
   ],
   "source": [
    "unlist(build(fit$par)[c(\"V\",\"W\")])"
   ]
  },
  {
   "cell_type": "code",
   "execution_count": 13,
   "metadata": {},
   "outputs": [
    {
     "data": {
      "text/html": [
       "<ol class=list-inline>\n",
       "\t<li>0.949651788346484</li>\n",
       "\t<li>0.0817631292247943</li>\n",
       "</ol>\n"
      ],
      "text/latex": [
       "\\begin{enumerate*}\n",
       "\\item 0.949651788346484\n",
       "\\item 0.0817631292247943\n",
       "\\end{enumerate*}\n"
      ],
      "text/markdown": [
       "1. 0.949651788346484\n",
       "2. 0.0817631292247943\n",
       "\n",
       "\n"
      ],
      "text/plain": [
       "[1] 0.94965179 0.08176313"
      ]
     },
     "metadata": {},
     "output_type": "display_data"
    }
   ],
   "source": [
    "avar <- solve(fit$hessian)\n",
    "sqrt(diag(avar))"
   ]
  },
  {
   "cell_type": "markdown",
   "metadata": {},
   "source": [
    "결론을 짓기 위해 기본 R에 포함된 **StructTS**함수에 대해 소개하겠습니다. 이 함수는 특정 단변수 DLM의 분산에 대한 MLE를 찾는데 사용할 수 있습니다. 입력변수인 **type**은 사용할 모델을 선택하는데 사용합니다. 1차 다항식 (**type=\"level\"**)과 2차 다항식(**type=\"\"trend\"**), 그리고 2차 다항식에 주기 성분이 포함된 경우(**type=\"BSM\"**)의 모델을 사용할 수 있습니다. 표준 오차는 **StructTS**로 산출되지 않으며 결과로 계산하기도 쉽지 않습니다."
   ]
  },
  {
   "cell_type": "code",
   "execution_count": 14,
   "metadata": {
    "scrolled": true
   },
   "outputs": [
    {
     "data": {
      "text/plain": [
       "\n",
       "Call:\n",
       "StructTS(x = y, type = \"level\")\n",
       "\n",
       "Variances:\n",
       "  level  epsilon  \n",
       "0.08834  5.86687  "
      ]
     },
     "metadata": {},
     "output_type": "display_data"
    }
   ],
   "source": [
    "StructTS(y, \"level\")"
   ]
  }
 ],
 "metadata": {
  "kernelspec": {
   "display_name": "R",
   "language": "R",
   "name": "ir"
  },
  "language_info": {
   "codemirror_mode": "r",
   "file_extension": ".r",
   "mimetype": "text/x-r-source",
   "name": "R",
   "pygments_lexer": "r",
   "version": "3.6.1"
  }
 },
 "nbformat": 4,
 "nbformat_minor": 4
}
