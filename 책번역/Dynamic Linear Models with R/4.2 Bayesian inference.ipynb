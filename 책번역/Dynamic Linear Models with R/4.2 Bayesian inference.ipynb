{
 "cells": [
  {
   "cell_type": "markdown",
   "metadata": {},
   "source": [
    "## 4.2 Bayesian Inference"
   ]
  },
  {
   "cell_type": "markdown",
   "metadata": {},
   "source": [
    "반복 계산을 필터링 또는 스무딩하는데 있어 MLE $\\hat{\\psi}$를 도입할 때 $\\psi$에 대한 불확실성을 적절히 고려하는 것이 어려운 점입니다. 베이지안 접근법은 이 문제에 대하여 더 일관성있는 공식을 제시해 줍니다. 알지 못하는 변수 $\\psi$는 랜덤 벡터로 고려합니다. 과정 $(Y_t)$와 $(\\theta_t)$에 대한 상태공간 모델 (40 페이지의 가정 (A.1), (A.2))에 대한 일반적인 가설은 변수 $\\psi$에 대하여 조건부 확률을 갖는다는 것입니다. $\\psi$에 대한 사전지식은 확률 $\\pi(\\psi)$로 표현할 수 있습니다. 따라서 $n\\geq1$인 모든 $n$에 대하여 다음을 가정합니다."
   ]
  },
  {
   "cell_type": "markdown",
   "metadata": {},
   "source": [
    "$$(\\theta_0,\\theta_1,\\dots,Y_1,\\dots,Y_n,\\psi)\\sim\\pi(\\theta_0|\\psi)\\pi(\\psi)\\prod_{t=1}^{n}\\pi(y_t|\\theta_t,\\psi)\\pi(\\theta_t|\\theta_{t-1},\\psi)\\tag{4.6}$$"
   ]
  },
  {
   "cell_type": "markdown",
   "metadata": {},
   "source": [
    "((2.3)과 비교해 보세요)"
   ]
  },
  {
   "cell_type": "markdown",
   "metadata": {},
   "source": [
    "데이터 $y_{1:t}$가 주어졌을 때, 시간 $s$에서 알지 못하는 상태 $\\theta_s$와 다른 변수들에 대한 추론은 다음과 같이 그 값들의 결합 사후 분포를 계산하여 수행할 수 있습니다."
   ]
  },
  {
   "cell_type": "markdown",
   "metadata": {},
   "source": [
    "$$\\pi(\\theta_s,\\psi|y_{1:t})=\\pi(\\theta_s|\\psi,y_{1:t})\\pi(\\psi|y_{1:t})\\tag{4.7}$$"
   ]
  },
  {
   "cell_type": "markdown",
   "metadata": {},
   "source": [
    "$s=t$이면 필터링 문제이고, $s>t$이면 예측 문제, $s<t$이면 스무딩 문제입니다. $\\theta_s$의 주변 조건부 밀도는 (4.7)로부터 얻을 수 있습니다. 예를들어, 필터링 밀도는 다음과 같습니다."
   ]
  },
  {
   "cell_type": "markdown",
   "metadata": {},
   "source": [
    "$$\\pi(\\theta_t|y_{1:t})=\\int \\pi(\\theta_t|\\psi,y_{1:t})\\pi(\\psi|y_{1:t})d\\psi$$"
   ]
  },
  {
   "cell_type": "markdown",
   "metadata": {},
   "source": [
    "조건부 밀도 $\\pi(\\theta_t|\\psi,y_{1:t})$를 계산하기 위해 2장에서 소개된 반복 필터링 식을 사용할 수 있습니다. 하지만 이는 주어진 데이터에 대하여 $\\psi$의 사후 분포에 대한 평균 값이 됩니다."
   ]
  },
  {
   "cell_type": "markdown",
   "metadata": {},
   "source": [
    "때로는 시간 $t$까지의 알지 못하는 상태들을 재생산하는데 (즉, 데이터 $y_{1:t}$가 주어졌을 때 $\\theta_{0:t}$와 $\\psi$에 대한 추론) 목적이 있을 수 있습니다. 이는 다음과 같이 추론하고자 하는 값들의 결합 사후 밀도로 표현할 수 있습니다."
   ]
  },
  {
   "cell_type": "markdown",
   "metadata": {},
   "source": [
    "$$\\pi(\\theta_{0:t},\\psi|y_{1:t})=\\pi(\\theta_{0:t}|\\psi,y_{1:t})\\pi(\\psi|y_{1:t})\\tag{4.8}$$"
   ]
  },
  {
   "cell_type": "markdown",
   "metadata": {},
   "source": [
    "식 (4.8)의 사후 밀도는 베이즈 법칙을 사용해 계산할 수 있습니다. 단순한 모델의 경우 켤레 사전밀도를 사용하면 닫힌 형태의 해를 구할 수 있습니다. 이에 대한 예제들이 다음 장에서 소개될 것입니다. 하지만 이 계산이 불가능 한 경우가 많습니다. 하지만 MCMC 방법과 순차 몬테카를로 알고리즘을 통해 사무 밀도에 대한 추정치를 계산할 수 있습니다. 이러한 이유로 최근 상태공간에 대한 베이지안 추론이 많은 관심을 받고 있습니다."
   ]
  },
  {
   "cell_type": "markdown",
   "metadata": {},
   "source": [
    "*사후 밀도.* MCMC, 특히 깁스 샘플링 알고리즘은 결합 사후 밀도 $\\pi(\\theta_{0:t},\\psi|y_{1:t})$에 대한 근사치를 구하는데 널리 사용됩니다. $\\pi$로 부터 깁스 샘플링을 하기 위해서는 조건부 분포 $\\pi(\\theta_{0:t}|\\psi,y_{1:t})$와 $\\pi(\\psi|\\theta_{0:t},y_{1:t})$를 사용해 반복적으로 시뮬레이션을 수행해야 합니다. $\\pi(\\theta_{0:t}|\\psi,y_{1:t})$에서 샘플링을 할 수 있는 효율적인 알고리즘이 개발되어 오고 있으며 이는 4.4.1장에서 소개할 것입니다. 더 나아가, DLM의 조건부 독립 가정을 활용하면, 조건부 밀도 $\\pi(\\psi|\\theta_{0:t},y_{1:t})$를 계산하는 것이 $\\pi(\\psi|y_{1:t})$를 계산하는 것보다 쉬울 때가 많습니다. 이 조건부 밀도는 문제마다 다르며, 다양한 예제를 다음장에서 소개할 것입니다."
   ]
  },
  {
   "cell_type": "markdown",
   "metadata": {},
   "source": [
    "김스 샘플링을 사용하면 $\\pi$에 대한 근사치를 구할 수 있습니다. $\\pi(\\theta_{0:t},\\psi|y_{1:t})$로 부터 추출한 샘플들은 $s<t$인 경우, 필터링 밀도 $\\pi(\\theta_t|y_{1:t})$와 주변 스무딩 밀도 $\\pi(\\theta_s|y_{1:t})$를 근사하는데도 사용할 수 있습니다. 이후 보겠지만, 이 값들을 사용하면 상태와 관측치들에 대한 예측 분포 $\\pi(\\theta_{t+1},y_{t+1}|y_{1:t})$로 부터도 샘플링을 할 수 있게 해줍니다. 따라서 이 방법을 사용하면 알지 못하는 변수를 포함하는 DLM의 필터링, 스무딩, 예측 문제를 모두 해결할 수 있습니다."
   ]
  },
  {
   "cell_type": "markdown",
   "metadata": {},
   "source": [
    "*필터링 및 실시간 예측* 앞서 소개한 MCMC 절차의 단점은 재귀(recursive) 또는 실시간(on-line) 추론을 위해 설계되지 않았다는 것입니다. 새로운 관측치 $y_{t+1}$을 얻으면 분포는 $\\pi(\\theta_{0:t+1},\\psi|y_{1:t+1})$이 되고, 이 새로운 분포에 대하여 새로운 MCMC과정을 통해 샘플을 얻어야 합니다. 이는 계산 상 비효율 적이며 실시간(on-line) 적용에 부적절 합니다. 2장에서 논의했듯이, DLM의 한가지 매력적인 특징은 필터 식의 재귀적 특성이었고 이를 통해 효율적으로 새로운 데이터를 사용해 업데이트가 가능하다는 점이었습니다. DLM에서 모르는 변수가 없는 경우, 칼만필터로 주어지는 예측-오차 보정 식을 통해 모든 값을 새로 계산할 필요 없이 $\\pi(\\theta_{0:t}|y_{1:t})$에서 $\\pi(\\theta_{0:t+1}|y_{1:t+1})$로 업데이트가 가능합니다. 이와 유사하게, 알지 못하는 변수 $\\psi$가 있는 경우, 전체 데이터에 대하여 MCMC를 다시 수행하는 것이 아니라 $\\pi(\\theta_{0:t}|y_{1:t})$로 생성한 샘플들을 사용해 $\\pi(\\theta_{0:t+1}|y_{1:t+1})$를 시뮬레이션할 수 있을 것입니다. 현대 순차 몬테카를로 기법, 특히 *입차필터(particle filter)* 와 같은 군에 속하는 알고리즘, 을 사용할 수 있으며, 알지 못하는 변수들과 상태의 사후 분포를 시뮬레이션 기반의 순차 업데이트 및 실시간 분석을 수행할 수 있습니다. 이러한 기법에 대한 설명은 5장까지 이어집니다."
   ]
  }
 ],
 "metadata": {
  "kernelspec": {
   "display_name": "R",
   "language": "R",
   "name": "ir"
  },
  "language_info": {
   "codemirror_mode": "r",
   "file_extension": ".r",
   "mimetype": "text/x-r-source",
   "name": "R",
   "pygments_lexer": "r",
   "version": "3.6.1"
  }
 },
 "nbformat": 4,
 "nbformat_minor": 4
}
