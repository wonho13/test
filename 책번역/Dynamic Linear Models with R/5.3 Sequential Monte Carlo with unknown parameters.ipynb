{
 "cells": [
  {
   "cell_type": "markdown",
   "metadata": {},
   "source": [
    "## 5.3 Sequential Monte Carlo with unknown parameters"
   ]
  },
  {
   "cell_type": "markdown",
   "metadata": {},
   "source": [
    "대부분의 모델은 데이터를 통해 추정해야 하는 알지 못하는 변수를 포함하고 있습니다. 알지 못하는 변수를 $\\psi$로 표기하면, 시간 $t$에서 순차 몬테 카를로 알고리즘의 목표 분포는 $\\pi(\\theta_{0:t},\\psi|y_{1:t})$가 됩니다. 4.4장에서 상세히 다룬 것처럼, 예측 분포의 (가중된) 샘플은 결합 사후 분포로 부터 (가중된) 샘플을 얻을 수 있다면 쉽게 구할 수 있습니다. 한편, 변수에 대한 필터링 분포와 사후 분포는 주변화를 통해 얻을 수 있습니다. 알지 못하는 변수를 갖는 모델에 대한 단순한 순차 몬테 카를로 방법은 상태 벡터에 $\\psi_t=\\psi_{t-1} (=\\psi)$로 정의되는(즉 알지 못하는 변수가 상수인) $\\psi$를 포함하는 것입니다. 이 경우 상대적으로 단순한 DLM은 비선형, 비정규 분포의 상태공간 모델이 됩니다. 하지만, 5.1장의 일반 알고리즘 (또는 5.2장의 보조 입자 필터)를 적용하는데 있어 $\\psi_t^{(i)},\\;\\;i=1,\\dots,N$의 값들이 시간 $t=0$에서 추출된 값이라는 것이 가장 심각한 결함입니다. 왜냐하면 이 가상의 상태는 변화하지 않기 때문입니다. 다시말해, 모든 $i$와 $t$에 대해 $\\psi_t^{(i)}=\\psi_0^{(i)}$이고, 사전 분포로 부터 추출된 $\\psi_t^{(i)}$는 나중 시간 $t>0$에서 사후 분포를 대표하지 않음을 의미합니다. 입자 필터 알고리즘이 순차적으로 적용됨에 따라, 가중치들은 목표 분포의 변화를 반영하도록 조절됩니다. 하지만, 이는 상대 가중치만을 고려할 수 있으며, $\\psi_t^{(i)}$가 주변 목표 분포 $\\pi(\\psi|y_{1:t})$의 tail 내에 위치하면, 이 알고리즘으로 생산한 이상 추정치는 항상 부정확하게 됩니다. 앞서 설명한 내용들을 고려하면 $\\psi$의 샘플 값들을 갱신된 사후 분포를 따르도록 수정할 필요가 있습니다. 이는 목표 분포가 변할 때마다 $\\psi$의 현재 값을 버리고 새로운 값을 생성하면 가능합니다. 다양한 방법들 중 가장 널리 사용되는 방법은 Liu와 West (2001)이며 아래에서 설명할 것입니다. 이 방법은 보조 입자 필터를 확장한 것입니다. Fearnhead (2002), Gilks와 Berzuini (2001), Storvik(2002)는 흥미로운 대체 알고리즘들을 제안하였습니다."
   ]
  },
  {
   "cell_type": "markdown",
   "metadata": {},
   "source": [
    "Liu와 West가 제안한 방법의 기본적인 개념은 $\\theta_t$에서 뿐만 아니라 $\\psi$에서도 연속인 시간 $t$에서의 추정 목표 분산을 생성하고, 중요도 샘플링 사용해 연속 중요도 밀도에서 $\\psi$의 값을 햄플링 하고, 시간 $t-1$에서 사용한 이산 추정치인 $\\psi$의 값을 요율적으로 제거하는 것입니다. 시간 $t-1$에서 이용가능한 이산 추정치에 대해 고려해 봅시다."
   ]
  },
  {
   "cell_type": "markdown",
   "metadata": {},
   "source": [
    "$$\\hat{\\pi}_{t-1}(\\theta_{0:t-1},\\psi)=\\sum_{i=1}^{N}w_{t-1}^{(i)} \\delta_{(\\theta_{0:t-1}^{(i)},\\psi^{(i)}}\\approx\\pi(\\theta_{0:t-1},\\psi|y_{0:t-1})$$"
   ]
  },
  {
   "cell_type": "markdown",
   "metadata": {},
   "source": [
    "주변화를 통해,"
   ]
  },
  {
   "cell_type": "markdown",
   "metadata": {},
   "source": [
    "$$\\hat{\\pi}_{t-1}(\\psi)=\\sum_{i=1}^{N}w_{t-1}^{(i)}\\delta_{\\psi^{(i)}}\\approx\\pi(\\psi|y_{0:t-1})\\tag{5.5}$$"
   ]
  },
  {
   "cell_type": "markdown",
   "metadata": {},
   "source": [
    "Liu와 West는 각 점 질량 $\\delta_{\\psi^{(i)}}$를 정규 분포를 대체하도록 제안하였으며, 이에 따라 결과 혼합 분포는 연속 분포가 됩니다. 이를 위한 단순한 방법으로 $\\delta_{\\psi^{(i)}}$를 중심 $\\psi^{(i)}$에서의 정규 분포로 대체할 수 있습니다. 하지만 이는 추정한 분산에 대한 평균은 유지하지만 분산을 증가시키게 됩니다. 이를 확인하기 위해 다음의 경우를 봅시다. $\\bar{\\psi}$와 $\\Sigma$를 $\\hat{\\pi}_{t-1}$에 대한 $\\psi$의 평균 벡터와 분산 행렬이라고 합시다. 그리고 다음과 같다고 해 봅시다."
   ]
  },
  {
   "cell_type": "markdown",
   "metadata": {},
   "source": [
    "$$\\tilde{\\pi}_{t-1}(\\psi)=\\sum_{i=1}^{N} w_{t-1}^{(i)} N(\\psi;\\psi^{(i)},\\Lambda)$$"
   ]
  },
  {
   "cell_type": "markdown",
   "metadata": {},
   "source": [
    "혼합 분포 성분에 대한 잠재 분류 변수 $I$를 도입하면, 다음과 같은 값을 얻을 수 있습니다."
   ]
  },
  {
   "cell_type": "markdown",
   "metadata": {},
   "source": [
    "$$E(\\psi)=E(E(\\psi|I))=E(\\psi^{(I)})$$"
   ]
  },
  {
   "cell_type": "markdown",
   "metadata": {},
   "source": [
    "$$=\\sum_{i=1}^{N} w_{t-1}^{(i)} \\psi^{(i)}=\\bar{\\psi}$$"
   ]
  },
  {
   "cell_type": "markdown",
   "metadata": {},
   "source": [
    "$$Var(\\psi)=E(Var(\\psi|I))+Var(E(\\psi|I))$$"
   ]
  },
  {
   "cell_type": "markdown",
   "metadata": {},
   "source": [
    "$$=E(\\Lambda)+Var(\\psi^{(I)})$$"
   ]
  },
  {
   "cell_type": "markdown",
   "metadata": {},
   "source": [
    "$$\\Lambda+\\Sigma > \\Sigma$$"
   ]
  },
  {
   "cell_type": "markdown",
   "metadata": {},
   "source": [
    "여기서 평균과 분산은 $\\tilde{\\pi}_{t-1}$에 대한 값입니다. 하지만 $\\tilde{\\pi}_{t-1}$에 대한 정의를 다음과 같이 변경하면,"
   ]
  },
  {
   "cell_type": "markdown",
   "metadata": {},
   "source": [
    "$$\\tilde{\\pi}_{t-1}(\\psi)=\\sum_{i=1}^{N} w_{t-1}^{(i)} N(\\psi;m^{(i)},h^2\\Sigma)$$"
   ]
  },
  {
   "cell_type": "markdown",
   "metadata": {},
   "source": [
    "여기서, $(0,1)$ 사이의 특정 $a$에 대하여 $m^{(i)}=a\\psi^{(i)}+(1-a)\\bar{\\psi}$, $a^2+h^2=1$"
   ]
  },
  {
   "cell_type": "markdown",
   "metadata": {},
   "source": [
    "따라서, 평균과 분산은 다음과 같이 표현됩니다."
   ]
  },
  {
   "cell_type": "markdown",
   "metadata": {},
   "source": [
    "$$E(\\psi)=E(E(\\psi|I))=E(a\\psi^{(I)}+(1-a)\\bar{\\psi})$$"
   ]
  },
  {
   "cell_type": "markdown",
   "metadata": {},
   "source": [
    "$$=a\\bar{\\psi}+(1-a)\\bar{\\psi}=\\bar{\\psi}$$"
   ]
  },
  {
   "cell_type": "markdown",
   "metadata": {},
   "source": [
    "$$Var(\\psi)=E(Var(\\psi|I))+Var(E(\\psi|I))$$"
   ]
  },
  {
   "cell_type": "markdown",
   "metadata": {},
   "source": [
    "$$=E(h^2\\Sigma)+Var(a\\psi^{(I)}+(1-a)\\bar{\\psi})$$"
   ]
  },
  {
   "cell_type": "markdown",
   "metadata": {},
   "source": [
    "$$=h^2\\Sigma+a^2Var(\\psi^{(I)})=h^2\\Sigma+a^2\\Sigma=\\Sigma$$"
   ]
  },
  {
   "cell_type": "markdown",
   "metadata": {},
   "source": [
    "따라서 $\\psi$는 $\\tilde{\\pi}_{t-1}$과 $\\hat{\\pi}_{t-1}$에 대하여 동일한 1차 및 2차 모멘트 값을 갖습니다. 비록 $(0,1)$사이의 모든 $a$값에 대하여 이는 성립하지만, Liu와 West는 $(0.95,0.99)$사이의 값을 갖는 저감계수 $\\delta$를 도입하여 $a=(3\\delta-1)/(2\\delta)$로 사용할 것을 제안하였으며 이는 $(0.974,0.995)$사이의 $a$값을 사용하는 것과 동일합니다. $\\theta_{0:t-1}$이 존재하더라도 이와 동일한 개념을 이산 분포 $\\hat{\\pi}_{t-1}(\\theta_{0:t-1},\\psi)$에 적용할 수 있고, $\\tilde{\\pi}_{t-1}$를 $\\theta_{0:t-1}$와 $\\psi$의 결합분포로 확장할 수 있게 해줍니다."
   ]
  },
  {
   "cell_type": "markdown",
   "metadata": {},
   "source": [
    "$$\\tilde{\\pi}_{t-1}(\\theta_{0:t-1},\\psi)=\\sum_{i=1}^N w_{t-1}^{(i)} N(\\psi;m^{(i)},h^2\\Sigma)\\delta_{0:t-1}^{(i)}$$"
   ]
  },
  {
   "cell_type": "markdown",
   "metadata": {},
   "source": [
    "$\\tilde{\\pi}_{t-1}$는 $\\theta_{0:t-1}$에 대해 이산이지만, $\\psi$에 대해 연속임에 유의해야 합니다. 이를 시작으로 이 방법은 보조 입자 필터의 개발이 가속화 됩니다. 새로운 데이터 $y_t$가 관측된 후, 관심있는 분포는 다음과 같이 됩니다."
   ]
  },
  {
   "cell_type": "markdown",
   "metadata": {},
   "source": [
    "$$\\pi(\\theta_{0:y},y_{1:t})\\propto\\pi(\\theta_{0:t},\\psi,y_t|y_{1:t-1})$$"
   ]
  },
  {
   "cell_type": "markdown",
   "metadata": {},
   "source": [
    "$$=\\pi(y_t|\\theta_{0:t},\\psi,y_{1:t-1})\\cdot\\pi(\\theta_t|\\theta_{0:t-1},\\psi,y_{1:t-1})\\cdot\\pi(\\theta_{0:t-1},\\psi|y_{1:t-1})$$"
   ]
  },
  {
   "cell_type": "markdown",
   "metadata": {},
   "source": [
    "$$=\\pi(y_t|\\theta_t,\\psi)\\cdot\\pi(\\theta_t|\\theta_{t-1},\\psi)\\cdot\\pi(\\theta_{0:t-1},\\psi|y_{1:t-1})$$"
   ]
  },
  {
   "cell_type": "markdown",
   "metadata": {},
   "source": [
    "$$\\approx\\pi(y_t|\\theta_t,\\psi)\\cdot(\\pi(\\theta_t|\\theta_{t-1},\\psi)\\cdot\\tilde{\\pi}_{t-1}(\\theta_{0:t-1},\\psi)$$"
   ]
  },
  {
   "cell_type": "markdown",
   "metadata": {},
   "source": [
    "$$=\\sum_{t=1}^{N}w_{t-1}^{(i)}\\pi(y_t|\\theta_t,\\psi)\\pi(\\theta_t|\\theta_{t-1}^{(i)},\\psi)N(\\psi;m^{(i)},h^2\\Sigma)\\delta_{\\theta_{0:t-1}^{(i)}}$$"
   ]
  },
  {
   "cell_type": "markdown",
   "metadata": {},
   "source": [
    "5.2장에서 한 것과 유사하게 다음과 같은 보조 분류 변수 $I$를 도입하겠습니다."
   ]
  },
  {
   "cell_type": "markdown",
   "metadata": {},
   "source": [
    "$$P(I=i)=w_{t-1}^{(i)}$$"
   ]
  },
  {
   "cell_type": "markdown",
   "metadata": {},
   "source": [
    "$$\\theta_{0:t},\\psi|I=i\\sim C\\pi(y_t|\\theta_t,\\psi)\\pi(\\theta_t|\\theta_{t-1}^{(i)},\\psi)N(\\psi;m^{(i)},h^2\\Sigma)\\delta_{\\theta_{0:t-1}^{(i)}}$$"
   ]
  },
  {
   "cell_type": "markdown",
   "metadata": {},
   "source": [
    "둘째줄의 조건부 분포는 $\\theta_t$와 $\\psi$에 대해 연속이며, $\\theta_{0:t-1}$에 대해 이산임에 유의해야 합니다. 랜덤 변수 $I$를 도입함에 따라 중요도 샘플링 업데이트를 위한 보조 목표 분산은 다음과 같이 됩니다."
   ]
  },
  {
   "cell_type": "markdown",
   "metadata": {},
   "source": [
    "$$\\pi^{aux}(\\theta_{0:t},\\psi,i|y_{1:t})\\propto w_{t-1}^{(i)}\\pi(y_t|\\theta_t,\\psi)\\pi(\\theta_t|\\theta_{t-1}^{(i)},\\psi)N(\\psi;m^{(i)},h^2\\Sigma)\\delta_{\\theta_{0:t-1}^{(i)}}$$"
   ]
  },
  {
   "cell_type": "markdown",
   "metadata": {},
   "source": [
    "중요도 밀도는 다음과 같이 편리하게 선택할 수 있습니다."
   ]
  },
  {
   "cell_type": "markdown",
   "metadata": {},
   "source": [
    "$$g_t(\\theta_{0:t},\\psi,i|y_{1:t})\\propto w_{t-1}^{(i)}\\pi(y_t|\\theta_t=\\hat{\\theta}_i^{(i)},\\psi=m^{(i)})\\pi(\\theta_t|\\theta_{t-1}^{(i)},psi)$$"
   ]
  },
  {
   "cell_type": "markdown",
   "metadata": {},
   "source": [
    "$$N(\\psi;m^{(i)},h^2\\Sigma)\\delta_{0:t-1}^{(i)}$$"
   ]
  },
  {
   "cell_type": "markdown",
   "metadata": {},
   "source": [
    "여기서, $\\hat{\\theta}_t^{(i)}$는 $\\pi(\\theta_t|\\theta_{t-1}=\\theta_{t-1}^{(i)},\\psi=m^{(i)})$의 평균 또는 모드 값과 같은 중심 값입니다. $g_t$로 부터의 샘플은 $k=1,\\dots,N$까지 다음의 세가지 단계를 반복하면 얻을 수 있습니다."
   ]
  },
  {
   "cell_type": "markdown",
   "metadata": {},
   "source": [
    "1. 다음을 통해 분류 변수 $I_k$를 샘플링 한다."
   ]
  },
  {
   "cell_type": "markdown",
   "metadata": {},
   "source": [
    "$$P(I_k=i)\\propto w_{t-1}^{(i)}\\pi(y_t|\\theta_t=\\hat{\\theta}_t^{(i)},\\psi=m^{(i)}),\\;\\;\\;\\;i=1,\\dots,N$$"
   ]
  },
  {
   "cell_type": "markdown",
   "metadata": {},
   "source": [
    "2. $I_k=i$가 주어진 상황에서 $\\psi\\sim N(m^{(i)},h^2\\Sigma)$를 샘플링 하고, $\\psi^{(k)}=\\psi$로 설정한다."
   ]
  },
  {
   "cell_type": "markdown",
   "metadata": {},
   "source": [
    "3. $I_k=i$, $\\psi=\\psi^{(k)}$가 주어진 상황에서 다음을 샘플링 한다."
   ]
  },
  {
   "cell_type": "markdown",
   "metadata": {},
   "source": [
    "$$\\theta_t^{(k)}\\sim \\pi(\\theta_t|\\theta_{t-1}=\\theta_{t-1}^{(i)},\\psi=\\psi^{(k)})$$"
   ]
  },
  {
   "cell_type": "markdown",
   "metadata": {},
   "source": [
    "그리고 $\\theta_{0:t}^{(k)}=(\\theta_{0:t-1}^{(i)},\\theta_t^{(k)})$로 설정한다."
   ]
  },
  {
   "cell_type": "markdown",
   "metadata": {},
   "source": [
    "$g_t$로부터 샘플링 한 $k$번째 중요도 가중치는 다음에 비례합니다."
   ]
  },
  {
   "cell_type": "markdown",
   "metadata": {},
   "source": [
    "$$\\tilde{w}_t^{(k)}=\\frac{w_{t-1}^{(I_k)}\\pi(y_t|\\theta_t=\\theta_t^{(k)},\\psi=\\psi^{(k)})\\pi(\\theta_t^{(k)}|\\theta_{t-1}^{(k)},\\psi^{(k)})N(\\psi^{(k)};m^{(I_k)},h^2\\Sigma)}{w_{t-1}^{(I_k)}\\pi(y_t|\\theta_t=\\hat{\\theta}_t^{(k)},\\psi=m^{(I_k)})\\pi(\\theta_t^{(k)}|\\theta_{t-1}^{(k)},\\psi^{(k)})N(\\psi^{(k)};m^{(I_k)},h^2\\Sigma)}$$"
   ]
  },
  {
   "cell_type": "markdown",
   "metadata": {},
   "source": [
    "$$=\\frac{\\pi(y_t|\\theta_t=\\theta_t^{(k)},\\psi=\\psi^{(k)})}{\\pi(y_t|\\theta_t=\\hat{\\theta}_t^{(I_k)},\\psi=m^{(I_k)})}$$"
   ]
  },
  {
   "cell_type": "markdown",
   "metadata": {},
   "source": [
    "가중치를 다시 정규화 하면, 시간 $t$에서의 결합 사후 분포에 대한 추정치를 다음과 같이 얻게 됩니다."
   ]
  },
  {
   "cell_type": "markdown",
   "metadata": {},
   "source": [
    "$$\\hat{\\pi}_t(\\theta_{0:t},\\psi)=\\sum_{i=1}^{N}w_t^{(i)}\\delta_{(\\theta_{0:t}^{(i)},\\psi^{(i)})}\\approx\\pi(\\theta_{0:t},\\psi|y_{1:t})$$"
   ]
  },
  {
   "cell_type": "markdown",
   "metadata": {},
   "source": [
    "앞장에서 설명한 입자 필터 알고리즘의 경우와 마찬가지로, 리샘플링 단계는 유효 샘플 크기가 특정 기준보다 작아질 때 수행할 수 있습니다. 알고리즘 5.3은 이 절차에 대한 요약입니다."
   ]
  },
  {
   "cell_type": "markdown",
   "metadata": {},
   "source": []
  },
  {
   "cell_type": "markdown",
   "metadata": {},
   "source": [
    "(중략)"
   ]
  },
  {
   "cell_type": "markdown",
   "metadata": {},
   "source": [
    "## 알고리즘 5.3 Liu와 West의 알고리즘에 대한 요약"
   ]
  },
  {
   "cell_type": "markdown",
   "metadata": {},
   "source": [
    "0. 초기화 : $(\\theta_0^{(1)},\\psi_0^{(1)}),\\dots,(\\theta_0^{(N)},\\psi_0^{(N)})$을 $\\pi(\\theta_0)\\pi(\\psi)$에서 독립적으로 샘플링 한다. $w_0^{(i)}=N^{-1},\\;\\;i=1,\\dots,N$으로 설정하고, 아래와 같이 추정 분포를 설정한다."
   ]
  },
  {
   "cell_type": "markdown",
   "metadata": {},
   "source": [
    "$$\\hat{\\pi}_0=\\sum_{i=1}^N w_0^{(i)}\\delta_{(\\theta_0^{(i)},\\psi_0^{(i)})}$$"
   ]
  },
  {
   "cell_type": "markdown",
   "metadata": {},
   "source": [
    "1. For $t=1,\\dots,T$:"
   ]
  },
  {
   "cell_type": "markdown",
   "metadata": {},
   "source": [
    "$\\;\\;\\;\\;$1.1) $\\bar{\\psi}=E_{\\hat{\\pi}_{t-1}}(\\psi)$와 $\\Sigma=Var_{\\hat{\\pi}_{t-1}}(\\psi)$를 계산한다. For $i=1,\\dots,N$에 대하여 다음을 설정한다."
   ]
  },
  {
   "cell_type": "markdown",
   "metadata": {},
   "source": [
    "$$m^{(i)}=a\\psi^{(i)}+(1-a)\\bar{\\psi}$$"
   ]
  },
  {
   "cell_type": "markdown",
   "metadata": {},
   "source": [
    "$$\\hat{\\theta}_t^{(i)}=E(\\theta_t|\\theta_{t-1}=\\theta_{t-1}^{(i)},\\psi=m^{(i)})$$"
   ]
  },
  {
   "cell_type": "markdown",
   "metadata": {},
   "source": [
    "$\\;\\;\\;\\;$1.2) For $k=1,\\dots,N$:"
   ]
  },
  {
   "cell_type": "markdown",
   "metadata": {},
   "source": [
    "$\\;\\;\\;\\;\\;\\;\\;\\;$* $P(I_k=i)\\propto w_{t-1}^{(i)}\\pi(y_t|\\theta_t=\\hat{\\theta}_t^{(i)},\\psi=m^{(i)})$에서 $I_k$를 샘플링 한다."
   ]
  },
  {
   "cell_type": "markdown",
   "metadata": {},
   "source": [
    "$\\;\\;\\;\\;\\;\\;\\;\\;$* $N(m^{(I_k)},h^2\\Sigma)$에서 $\\psi^{(k)}$를 샘플링 한다."
   ]
  },
  {
   "cell_type": "markdown",
   "metadata": {},
   "source": [
    "$\\;\\;\\;\\;\\;\\;\\;\\;$* $\\pi(\\theta_t|\\theta_{t-1}=\\theta_{t-1}^{(I_k)},\\psi=\\psi^{(k)})$에서 $\\theta_t^{(k)}$를 샘플링 하고 다음을 설정한다."
   ]
  },
  {
   "cell_type": "markdown",
   "metadata": {},
   "source": [
    "$$\\theta_{0:t}^{(k)}=(\\theta_{0:t-1}^{(I_k)},\\theta_t^{(k)}$$"
   ]
  },
  {
   "cell_type": "markdown",
   "metadata": {},
   "source": [
    "$\\;\\;\\;\\;\\;\\;\\;\\;$* 다음을 설정한다."
   ]
  },
  {
   "cell_type": "markdown",
   "metadata": {},
   "source": [
    "$$\\tilde{w}_t^{(k)}=\\frac{\\pi(y_t|\\theta_t=\\theta_t^{(k)},\\psi=\\psi^{(k)})}{\\pi(y_t|\\theta_t=\\hat{\\theta}_t^{(I_k)},\\psi=m^{(I_k)})}$$"
   ]
  },
  {
   "cell_type": "markdown",
   "metadata": {},
   "source": [
    "$\\;\\;\\;\\;$1.3) 가중치를 정규화 한다:"
   ]
  },
  {
   "cell_type": "markdown",
   "metadata": {},
   "source": [
    "$$w_t^{(i)}=\\frac{\\tilde{w}_t^{(i)}}{\\sum_{j=1}^{N}\\tilde{w}_t^{(i)}}$$"
   ]
  },
  {
   "cell_type": "markdown",
   "metadata": {},
   "source": [
    "$\\;\\;\\;\\;$1.4) 유효샘플크기를 계산한다."
   ]
  },
  {
   "cell_type": "markdown",
   "metadata": {},
   "source": [
    "$$N_{eff}=\\left(\\sum_{i=1}^{N}(w_t^{(i)})^2\\right)^{-1}$$"
   ]
  },
  {
   "cell_type": "markdown",
   "metadata": {},
   "source": [
    "$\\;\\;\\;\\;$1.5) $N_{eff}<N_0$이면 리샘플 한다."
   ]
  },
  {
   "cell_type": "markdown",
   "metadata": {},
   "source": [
    "$\\;\\;\\;\\;\\;\\;\\;\\;$* 다음의 이산 분포에서 $N$개의 샘플을 추출한다."
   ]
  },
  {
   "cell_type": "markdown",
   "metadata": {},
   "source": [
    "$$P((\\theta_{0:t},\\psi)=(\\theta_{0:t}^{(i)},\\psi^{(i)}))=w_t^{(i)},\\;\\;\\;\\;i=1,\\dots,N$$"
   ]
  },
  {
   "cell_type": "markdown",
   "metadata": {},
   "source": [
    "$\\;\\;\\;\\;\\;\\;\\;\\;$ 이 샘플들을 다시 라벨링 한다."
   ]
  },
  {
   "cell_type": "markdown",
   "metadata": {},
   "source": [
    "$$(\\theta_{0:t}^{(1)},\\psi^{(1)}),\\dots,(\\theta_{0:t}^{(N)},\\psi^{(N)})$$"
   ]
  },
  {
   "cell_type": "markdown",
   "metadata": {},
   "source": [
    "$\\;\\;\\;\\;\\;\\;\\;\\;$* 가중치를 초기화 한다 : $w_t^{(i)}=N^{-1},\\;\\;i=1,\\dots,N$"
   ]
  },
  {
   "cell_type": "markdown",
   "metadata": {},
   "source": [
    "$\\;\\;\\;\\;$1.6) $\\hat{\\pi}_t=\\sum_{i=1}^{N}w_t^{(i)}\\delta_{(\\theta_{0:t}^{(i)},\\psi^{(i)})}$"
   ]
  },
  {
   "cell_type": "markdown",
   "metadata": {},
   "source": [
    "(중략)"
   ]
  },
  {
   "cell_type": "markdown",
   "metadata": {},
   "source": [
    "## 알고리즘 5.4 생산 커널을 사용할 때 Liu와 West 알고리즘의 변경사항"
   ]
  },
  {
   "cell_type": "markdown",
   "metadata": {},
   "source": [
    "$\\;\\;\\;\\;$1.1) For $j=1,2$, $i=1,\\dots,N$:"
   ]
  },
  {
   "cell_type": "markdown",
   "metadata": {},
   "source": [
    "$\\;\\;\\;\\;\\;\\;\\;\\;$* $\\bar{\\psi}_j=E_{\\hat{pi}_{t-1}}(\\psi_j)$와 $\\Sigma_j=Var_{\\hat{\\pi}_{t-1}}(\\psi_j)$를 계산하고, 다음을 설정한다."
   ]
  },
  {
   "cell_type": "markdown",
   "metadata": {},
   "source": [
    "$$\\mu_j^{(i)}=a\\psi_j^{(i)}+(1-a)\\bar{\\psi})j$$"
   ]
  },
  {
   "cell_type": "markdown",
   "metadata": {},
   "source": [
    "$$\\sigma_j^{(i)}=h^2\\Sigma_j$$"
   ]
  },
  {
   "cell_type": "markdown",
   "metadata": {},
   "source": [
    "$$\\mu^{(i)}=(\\mu_1^{(i)},\\mu_2^{(i)})$$"
   ]
  },
  {
   "cell_type": "markdown",
   "metadata": {},
   "source": [
    "$$\\hat{\\theta}_t^{(i)}=E(\\theta_t|\\theta_{t-1}=\\theta_{t-1}^{(i)},\\psi=\\mu^{(i)}$$"
   ]
  },
  {
   "cell_type": "markdown",
   "metadata": {},
   "source": [
    "$\\;\\;\\;\\;\\;\\;\\;\\;$* 다음의 시스템 방정식을 $\\gamma_j^{(i)}$에 대하여 푼다."
   ]
  },
  {
   "cell_type": "markdown",
   "metadata": {},
   "source": [
    "$$E_{f_j(\\cdot;\\gamma_j^{(i)})}(\\psi_j)=\\mu_j^{(i)}$$"
   ]
  },
  {
   "cell_type": "markdown",
   "metadata": {},
   "source": [
    "$$Var_{f_j(\\cdot;\\gamma_j^{(i)})}(\\psi_j)=\\sigma_j^{(i)}$$"
   ]
  },
  {
   "cell_type": "markdown",
   "metadata": {},
   "source": [
    "$\\;\\;\\;\\;$1.2) For $k=1,\\dots,N$:"
   ]
  },
  {
   "cell_type": "markdown",
   "metadata": {},
   "source": [
    "$\\;\\;\\;\\;\\;\\;\\;\\;$* $P(I_k=i)\\propto w_{t-1}^{(i)}\\pi(y_t|\\theta_t=\\hat{\\theta}_t^{(i)},\\psi=\\mu^{(i)})$로 부터 $I_k$를 샘플링 한다."
   ]
  },
  {
   "cell_type": "markdown",
   "metadata": {},
   "source": [
    "$\\;\\;\\;\\;\\;\\;\\;\\;$* $j=1,2$에 대하여 $f_j(\\cdot;\\gamma_j^{(I_k)}$로부터 $\\psi_j^{(k)}$를 샘플링 한다."
   ]
  },
  {
   "cell_type": "markdown",
   "metadata": {},
   "source": [
    "$\\;\\;\\;\\;\\;\\;\\;\\;$* $\\pi(\\theta_t|\\theta_{t-1}=\\theta_{t-1}^{(I_k)},\\psi=\\psi^{(k)})$로 부터 $\\theta_t^{(k)}$를 샘플링 하고, 다음을 설정한다."
   ]
  },
  {
   "cell_type": "markdown",
   "metadata": {},
   "source": [
    "$$\\theta_{0:t}^{(k)}=(\\theta_{0:t-1}^{(I_k)},\\theta_t^{(k)})$$"
   ]
  },
  {
   "cell_type": "markdown",
   "metadata": {},
   "source": [
    "$\\;\\;\\;\\;\\;\\;\\;\\;$* 다음을 설정한다."
   ]
  },
  {
   "cell_type": "markdown",
   "metadata": {},
   "source": [
    "$$\\tilde{w}_t^{(k)}=\\frac{\\pi(y_t|\\theta_t=\\theta_t^{(k)},\\psi=\\psi^{(k)})}{\\pi(y_t|\\theta_t=\\hat{\\theta}_t^{(k)},\\psi=m^{(I_k)})}$$"
   ]
  }
 ],
 "metadata": {
  "kernelspec": {
   "display_name": "R",
   "language": "R",
   "name": "ir"
  },
  "language_info": {
   "codemirror_mode": "r",
   "file_extension": ".r",
   "mimetype": "text/x-r-source",
   "name": "R",
   "pygments_lexer": "r",
   "version": "3.6.1"
  }
 },
 "nbformat": 4,
 "nbformat_minor": 4
}
