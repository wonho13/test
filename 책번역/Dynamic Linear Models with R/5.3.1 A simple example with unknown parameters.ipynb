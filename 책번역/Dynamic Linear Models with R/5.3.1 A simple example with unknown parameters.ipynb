{
 "cells": [
  {
   "cell_type": "markdown",
   "metadata": {},
   "source": [
    "## 5.3.1 A simple example with unknown parameters"
   ]
  },
  {
   "cell_type": "markdown",
   "metadata": {},
   "source": [
    "알지 못하는 변소를 포함하는 모델에 대한 입자 필터 적용의 단순한 예시로써 5.1.1장의 예제로 돌아가 보겠습니다. 여기서는 시스템과 관측 변수를 알지 못한다고 가정하겠습니다. 2개의 알지 못하는 양의 변수가 있기 때문에 변수의 사후 분포에 대한 혼합 추정으로 임의의 시간 $t$에서 감마 커널의 곱을 사용할 것입니다. 이전 장의 표기에서 $\\psi_1=V$, $\\psi_2=W$를 사용했었고, $f_j(\\psi_j;\\gamma_j)$는 $j=1,2$에 대한 감마 밀도이며, $\\gamma_j=(\\alpha_j,\\beta_j)$는 감마 분포의 표준 벡터 변수(부록 A 참조)입니다. 5.1.1장에서 사용한 동일한 시뮬레이션 데이터를 사용하겠습니다. $V$와 $W$에 대하여 독립적인 균일 분포 $U(0,10)$를 사전 분포로 선택하겠습니다. 데이터에 대한 그래프를 보면, 변수의 실제 값을 포함하기 위한 구간으로써 분산의 상한치가 10이면 충분한 것을 알 수 있습니다. 이 경계 내에서는 균일 사전분포는 알지 못하는 분산에 대한 어떠한 중요한 정보도 제공하지 않습니다. 더 넓게 퍼진 사전분포를 선택하지 않은 이유는 입자 필터 알고리즘은 초기에 사전 분포에서 입자들을 생성하고, 만약 사전 분포가 가능도가 높은 영역에 낮은 확률을 부여하게 되면 한두 스텝 이후에 대부분의 입자들이 버려질 것이기 때문입니다. 특정 숫자를 기반으로 한 사전분포 선택에 대해 고려하지 않았음을 주목하기 바랍니다. 이와 대조적으로, 이 경우, 유한한 구간에 대한 균일 사전분포는 무한한 분산을 갖는 사전 분포보다 분산에 대한 기존 정보를 더 잘 나타내게 됩니다. 무엇보다도, 데이터의 그래프를 그려보면 그 누구도 $V$가 100 또는 1000 처럼 큰 경우에 대해 고려하지 않을 것입니다."
   ]
  },
  {
   "cell_type": "code",
   "execution_count": 1,
   "metadata": {},
   "outputs": [
    {
     "name": "stderr",
     "output_type": "stream",
     "text": [
      "Loading required package: dlm\n",
      "Warning message:\n",
      "\"package 'dlm' was built under R version 3.6.3\""
     ]
    }
   ],
   "source": [
    "require(\"dlm\")"
   ]
  },
  {
   "cell_type": "code",
   "execution_count": 2,
   "metadata": {},
   "outputs": [],
   "source": [
    "### 데이터 생성\n",
    "# 모델\n",
    "mod <- dlmModPoly(1, dV = 2, dW = 1, m0 = 10, C0 = 9)\n",
    "#names(mod)\n",
    "# 데이터 수\n",
    "n <- 100\n",
    "set.seed(23)\n",
    "# Forecast를 통한 데이터 생성\n",
    "simData <- dlmForecast(mod = mod, nAhead = n, sampleNew = 1)\n",
    "#names(simData)"
   ]
  },
  {
   "cell_type": "code",
   "execution_count": 15,
   "metadata": {},
   "outputs": [],
   "source": [
    "m0 = mod$m0; C0 = mod$C0;\n",
    "V = mod$V;   W = mod$W;"
   ]
  },
  {
   "cell_type": "code",
   "execution_count": 4,
   "metadata": {},
   "outputs": [],
   "source": [
    "a = simData$a; R = simData$R; f = simData$f; Q = simData$Q;\n",
    "newStates = simData$newStates; newObs = simData$newObs;\n",
    "y = simData$newObs[[1]];"
   ]
  },
  {
   "cell_type": "code",
   "execution_count": 5,
   "metadata": {},
   "outputs": [],
   "source": [
    "### 알지 못하는 변수(측정오차분산, 상태오차분산)를 포함하는 \n",
    "### 모델에 대한 입자필터: Liu and West 방법\n",
    "# 입자 개수\n",
    "N <- 10000\n",
    "# 229 page 참조\n",
    "a <- 0.975\n",
    "set.seed(4521)\n",
    "# 입자필터 결과물\n",
    "# Theta = 상태 / V = 측정오차분산 / W = 상태오차분산\n",
    "pfOutTheta <- matrix(NA_real_,n+1,N)\n",
    "pfOutV <- matrix(NA_real_,n+1,N)\n",
    "pfOutW <- matrix(NA_real_,n+1,N)\n",
    "# 가중치\n",
    "wt <- matrix(NA_real_,n+1,N)\n",
    "## 사전분포에서 초기값 샘플\n",
    "# Theta의 사전 분포는 N(m0=10,C0=9)\n",
    "# V, W의 사전 분포는 U(0,10)\n",
    "pfOutTheta[1,] <- rnorm(N, mean=m0,sd=sqrt(C0))\n",
    "pfOutV[1,] <- runif(N,0,10)\n",
    "pfOutW[1,] <- runif(N,0,10)\n",
    "## 초기 가중치\n",
    "wt[1,] <- rep(1/N,N)"
   ]
  },
  {
   "cell_type": "code",
   "execution_count": 7,
   "metadata": {},
   "outputs": [],
   "source": [
    "## 입자필터 시작\n",
    "for (it in 2 : (n+1)){\n",
    "    ## 입자의 평균 및 분산 계산\n",
    "    # 가중평균 사용\n",
    "    meanV <- weighted.mean(pfOutV[it-1,],wt[it-1,])\n",
    "    meanW <- weighted.mean(pfOutW[it-1,],wt[it-1,])\n",
    "    varV <- weighted.mean((pfOutV[it-1,]-meanV)^2,wt[it-1,])\n",
    "    varW <- weighted.mean((pfOutW[it-1,]-meanW)^2,wt[it-1,])\n",
    "    \n",
    "    ## 감마 커널의 변수들 계산\n",
    "    # V 관련 변수들\n",
    "    muV <- a * pfOutV[it-1,] + (1-a) * meanV\n",
    "    sigma2V <- (1-a^2) * varV\n",
    "    alphaV <- muV^2 / sigma2V\n",
    "    betaV <- muV / sigma2V\n",
    "    # W 관련 변수들\n",
    "    muW <- a * pfOutW[it-1,] + (1-a) * meanW\n",
    "    sigma2W <- (1-a^2) * varW\n",
    "    alphaW <- muW^2 / sigma2W\n",
    "    betaW <- muW / sigma2W\n",
    "    \n",
    "    ## 보조 지시 변수들을 샘플링\n",
    "    probs <- wt[it-1,] * dnorm(y[it-1], sd = sqrt(muV), mean = pfOutTheta[it-1, ])\n",
    "    auxInd <- sample(N, N, replace = TRUE, prob = probs)\n",
    "    \n",
    "    ## 분산 V와 W를 샘플\n",
    "    pfOutV[it,] <- rgamma(N, shape = alphaV[auxInd], rate = betaV[auxInd])\n",
    "    pfOutW[it,] <- rgamma(N, shape = alphaW[auxInd], rate = betaW[auxInd])\n",
    "    \n",
    "    ## 상태 Theta를 샘플\n",
    "    pfOutTheta[it,] <- rnorm(N, mean = pfOutTheta[it-1, auxInd], sd = sqrt(pfOutW[it,]))\n",
    "    \n",
    "    ## 가중치 계산\n",
    "    wt[it,] <- exp(dnorm(y[it-1], \n",
    "                         mean = pfOutTheta[it,], \n",
    "                         sd = sqrt(pfOutV[it,]), \n",
    "                         log = TRUE)\n",
    "                  -dnorm(y[it-1],\n",
    "                         mean = pfOutTheta[it-1,auxInd], \n",
    "                         sd = sqrt(muV[auxInd]), \n",
    "                         log = TRUE))\n",
    "    \n",
    "    ## 가중치 정규화\n",
    "    wt[it,] <- wt[it,] / sum(wt[it,])    \n",
    "}"
   ]
  },
  {
   "cell_type": "code",
   "execution_count": 17,
   "metadata": {},
   "outputs": [],
   "source": [
    "trueV = rep(V,n); trueW = rep(W,n);"
   ]
  },
  {
   "cell_type": "code",
   "execution_count": 28,
   "metadata": {},
   "outputs": [],
   "source": [
    "thetaHatPF <- sapply(1:n, function(i)\n",
    "                     weighted.mean(pfOutTheta[i,], wt[i,]))"
   ]
  },
  {
   "cell_type": "code",
   "execution_count": 31,
   "metadata": {},
   "outputs": [],
   "source": [
    "VHatPF <- sapply(1:n, function(i)\n",
    "                     weighted.mean(pfOutV[i,], wt[i,]))"
   ]
  },
  {
   "cell_type": "code",
   "execution_count": 30,
   "metadata": {},
   "outputs": [
    {
     "data": {
      "text/html": [
       "100"
      ],
      "text/latex": [
       "100"
      ],
      "text/markdown": [
       "100"
      ],
      "text/plain": [
       "[1] 100"
      ]
     },
     "metadata": {},
     "output_type": "display_data"
    }
   ],
   "source": [
    "length(thetaHatPF)"
   ]
  },
  {
   "cell_type": "code",
   "execution_count": 32,
   "metadata": {},
   "outputs": [
    {
     "data": {
      "image/png": "[encoded data removed]",
      "text/plain": [
       "plot without title"
      ]
     },
     "metadata": {},
     "output_type": "display_data"
    }
   ],
   "source": [
    "plot.ts(cbind(trueV,VHatPF),plot.type=\"single\",lty=1:3);"
   ]
  },
  {
   "cell_type": "code",
   "execution_count": 22,
   "metadata": {},
   "outputs": [
    {
     "data": {
      "text/html": [
       "100"
      ],
      "text/latex": [
       "100"
      ],
      "text/markdown": [
       "100"
      ],
      "text/plain": [
       "[1] 100"
      ]
     },
     "metadata": {},
     "output_type": "display_data"
    }
   ],
   "source": [
    "length(trueV)"
   ]
  },
  {
   "cell_type": "code",
   "execution_count": 25,
   "metadata": {},
   "outputs": [
    {
     "data": {
      "text/html": [
       "100"
      ],
      "text/latex": [
       "100"
      ],
      "text/markdown": [
       "100"
      ],
      "text/plain": [
       "[1] 100"
      ]
     },
     "metadata": {},
     "output_type": "display_data"
    }
   ],
   "source": [
    "length(pfOutV[-1,10000])"
   ]
  },
  {
   "cell_type": "code",
   "execution_count": null,
   "metadata": {},
   "outputs": [],
   "source": []
  }
 ],
 "metadata": {
  "kernelspec": {
   "display_name": "R",
   "language": "R",
   "name": "ir"
  },
  "language_info": {
   "codemirror_mode": "r",
   "file_extension": ".r",
   "mimetype": "text/x-r-source",
   "name": "R",
   "pygments_lexer": "r",
   "version": "3.6.1"
  }
 },
 "nbformat": 4,
 "nbformat_minor": 4
}
