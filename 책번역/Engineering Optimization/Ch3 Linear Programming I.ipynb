{
 "cells": [
  {
   "cell_type": "markdown",
   "metadata": {},
   "source": [
    "# Linear Programming I: Simplex Method"
   ]
  },
  {
   "cell_type": "markdown",
   "metadata": {},
   "source": [
    "## 3.1 서론"
   ]
  },
  {
   "cell_type": "markdown",
   "metadata": {},
   "source": [
    "선형계획법은 목적함수와 제약조건이 선형함수인 경우에 적용가능한 방법입니다. 선형계획법에서 제약조건 식은 등식 또는 부등식의 형태를 가질 수 있습니다. 선형계획법은 1930년대에 경제학자들이 자원을 효율적으로 사용하기 위한 방법을 개발하면서 시작되었습니다. 2차 세계대전 중 미국 공군은 자원을 효율적으로 사용하기 위한 절차를 연구하였고 이것이 선형 계획법이 되었습니다. 미국 공군이었던 Georgy B. Dantzig는 일반적인 선형계획법 문제를 정립하였고 1947년에 선형계획법 문제의 해로 simplex method를 고안하였습니다. 이를 시작으로 선형 계획법이 더 넓은 분야로 사용되었습니다. 이후 선형계획법에 대한 이론적인 발전 및 실제 적용에 대한 연구가 많이 이루어 졌습니다. Kuhn과 Tucker가 만든 이론은 선형계획법의 duality 이론 개발에 큰 기여를 하였습니다. Charnes와 Cooper는 선형계획법이 산업분야에 적용되는데 많은 기여를 하였습니다."
   ]
  },
  {
   "cell_type": "markdown",
   "metadata": {},
   "source": [
    "선형계획법은 복잡한 상황에서 최적의 결정을 할 수 있게 해줍니다. 선형계획법과 관련하여 최소 4개의 노벨상이 있었습니다. 그 예로 1975년에 소비에트연방의 L.V.Kantorovich와 T.C.Koopmans는 공동으로 노벨경제학 상을 받았습니다. 1976년에는 Gerald Ford 대통령이 선형계획법의 창시자인 Georgy Dantzig에게 국제 과학 상을 수여하였습니다."
   ]
  },
  {
   "cell_type": "markdown",
   "metadata": {},
   "source": [
    "수년간 선형계획법을 풀기위한 많은 방법들이 개발되었지만, simplex method는 여전히 선형계획법을 풀기위한 가장 널리 사용되면서 가장 효율적인 방법입니다. 다른 방법들 중 1984년에 개발된 Karmarker's method는 Dantzig의 simplex method보다 50배 빠르다는 것이 확인되었습니다. 본 장에서는 선형계획법 문제를 풀기위한 simplex method에 대한 이론, 개발 및 적용사례들에 대하 알아봅니다. revised simplex method, duality theory, decomposition method, postoptimality analysis, Karmarkar's method와 같은 추가적인 주제는 4장에서 다룹니다."
   ]
  },
  {
   "cell_type": "markdown",
   "metadata": {},
   "source": [
    "## 3.2 선형계획법의 적용사례들"
   ]
  },
  {
   "cell_type": "markdown",
   "metadata": {},
   "source": [
    "선형계획법의 응용분야는 너무 많아서 모두 이야기 하기는 어렵습니다. 일부 초기의 응용분야들만 여기서 소개하며, 본장의 마지막에서는 선형계획법 적용사례들에 대한 예제를 다루겠습니다. 초기에 선형계획법이 산업분야에 적용된 사례들 중 하나는 원유 정련 분야입니다. 보통 원유 정련는 다양한 판매처, 구성성분 및 가격에 대한 최적의 선택이 요구됩니다. 원유로는 항공유, 디젤유, 가솔린 등과 같이 다양한 양의 제품을 생산할 수 있습니다. 원유의 양, 정제할 수 있는 양 등은 제약조건이 욉니다. 구매한 원유의 양과 생산한 제품의 조합은 최대 이윤을 남기도록 고려해야 합니다."
   ]
  },
  {
   "cell_type": "markdown",
   "metadata": {},
   "source": [
    "또한 선형프로그램을 사용하면 제작사에서 최적의 생산 계획을 수립할 수 있습니다. 회사의 판매량은 변동하기 때문에, 회사는 다양한 선택을 할 수 있습니다. 판매량이 많은 기간을 고려하여 저장소를 만들 수 있지만 저장소를 유지하기 위한 비용도 발생합니다. 또한 수요가 많을 때 생산 시간이 많이 소요되면 이에대한 지연비용도 요구됩니다. 선형프로그램을 사용하면 다양항 미용 및 손실 요소들을 고려하여 계획을 세울 수 있습니다."
   ]
  },
  {
   "cell_type": "markdown",
   "metadata": {},
   "source": [
    "(중략)"
   ]
  },
  {
   "cell_type": "markdown",
   "metadata": {},
   "source": [
    "### 예제 3.1"
   ]
  },
  {
   "cell_type": "markdown",
   "metadata": {},
   "source": [
    "철골 프레임의 한계 설계시, 모멘트의 첨두치 위치에서 소성힌지가 발생한다고 가정됩니다. 충분히 많은 수의 힌지가 발생하면 구조물을 불안정한 시스템이 되어 붕괴메커니즘이 됩니다. 따라서 다양한 붕괴메터니즘의 형태에서 외부 하중 $E$보다 프레임의 에너지 흡수용량 $U$가 클 때 안전한 설계라고 할 수 있습니다."
   ]
  },
  {
   "cell_type": "markdown",
   "metadata": {},
   "source": [
    "그림 3.1의 강체 프레임의 경우, 소성 모멘트는 첨두 모멘트 지점(그림3.1, 1번~7번)에서 발생합니다. 이 프레임에서 발생가능한 4개의 붕괴메커니즘은 그림3.2에 나타나 있습니다. 무게를 소성 모멘트 용량에 대한 선형함수로 가정하여, 최소 무게가 되기 위한 극한 모멘트 용량 $M_b$, $M_c$를 찾고자 합니다. $P_1=3,\\;P_2=1,\\;h=8,\\;l=10$로 가정합니다."
   ]
  },
  {
   "cell_type": "markdown",
   "metadata": {},
   "source": [
    "**풀이** 목적함수는 다음과 같이 표현될 수 있습니다."
   ]
  },
  {
   "cell_type": "markdown",
   "metadata": {},
   "source": [
    "$$f(M_b,M_c)=weight\\; of\\; beam\\; +\\; weight\\; of\\; columns$$"
   ]
  },
  {
   "cell_type": "markdown",
   "metadata": {},
   "source": [
    "$$=\\alpha(2lM_b+2hM_c)$$"
   ]
  },
  {
   "cell_type": "markdown",
   "metadata": {},
   "source": [
    "여기서 $\\alpha$는 단위길이 당 무게를 의미합니다. $\\alpha$는 상수로서 제거해도 목적함수에 영향을 주지 않습니다. 따라서 목적함수를 다음과 같이 수정할 수 있습니다."
   ]
  },
  {
   "cell_type": "markdown",
   "metadata": {},
   "source": [
    "$$f=2lM_b+2hM_c=20M_b+16M_c \\tag{E1}$$"
   ]
  },
  {
   "cell_type": "markdown",
   "metadata": {},
   "source": [
    "4개의 붕괴메커니즘으로부터 구속조건($U\\geq E$)를 다음과 같이 표현할 수 있습니다."
   ]
  },
  {
   "cell_type": "markdown",
   "metadata": {},
   "source": [
    "$$M_c \\geq 6$$"
   ]
  },
  {
   "cell_type": "markdown",
   "metadata": {},
   "source": [
    "$$M_b \\geq 2.5$$"
   ]
  },
  {
   "cell_type": "markdown",
   "metadata": {},
   "source": [
    "$$2M_b+M_c \\geq 17$$"
   ]
  },
  {
   "cell_type": "markdown",
   "metadata": {},
   "source": [
    "$$M_b+M_c \\geq 12 \\tag{E2}$$"
   ]
  },
  {
   "cell_type": "markdown",
   "metadata": {},
   "source": [
    "## 3.2 선평계획법 문제의 표준형태"
   ]
  },
  {
   "cell_type": "markdown",
   "metadata": {},
   "source": [
    "(중략)"
   ]
  },
  {
   "cell_type": "markdown",
   "metadata": {},
   "source": [
    "## 3.5 정의 및 정리"
   ]
  },
  {
   "cell_type": "markdown",
   "metadata": {},
   "source": [
    "(중략)\n",
    "\n",
    "**정의**\n",
    "\n",
    "**1.** *Point in n-dimensional space.* n차원 공간 상의 점 $\\mathbf{X}$는 n개 값들의 세트 측 좌표 $(x_1,x_2,\\dots,x_n)$를 의미합니다. $\\mathbf{X}$의 좌표는 $\\mathbf{X}$의 *component*라고도 불립니다.\n",
    "\n",
    "(중략)\n",
    "\n",
    "**7.** *Feasible Solution.* 선형계획법 문제에서 다음의 제약조건들을 만족하는 해는 feasible solution이라고 합니다."
   ]
  },
  {
   "cell_type": "markdown",
   "metadata": {},
   "source": [
    "$$\\mathbf{aX=b} \\tag{3.2}$$"
   ]
  },
  {
   "cell_type": "markdown",
   "metadata": {},
   "source": [
    "$$\\mathbf{X\\geq 0} \\tag {3.3}$$"
   ]
  },
  {
   "cell_type": "markdown",
   "metadata": {},
   "source": [
    "**8.** *Basic Solution.* Basic Solution은 *n-m*개의 변수들이 0으로 설정된 경우의 해를 의미합니다. (n : 목적함수 변수의 개수=차원수, m : 제약조건의 수=식의 수) *n-m*개의 변수들을 0으로 설정한 후 식(3.2)의 제약조건을 풀면 Basic Solution을 얻을 수 있습니다.\n",
    "\n",
    "**9.** *Basis.* Basic Solution을 얻기위해 사용되는 변수들 중 0으로 설정되지 않은 변수들의 모음을 Basis라고 합니다.\n",
    "\n",
    "**10.** *Basis Feasible Solution.* 식(3.3)의 음수가 아닌 조건을 만족하는 Basic Solution을 의미합니다.\n"
   ]
  },
  {
   "cell_type": "markdown",
   "metadata": {},
   "source": [
    "(중략)"
   ]
  },
  {
   "cell_type": "markdown",
   "metadata": {},
   "source": [
    "## 3.9 Simplex Algorithm"
   ]
  },
  {
   "cell_type": "markdown",
   "metadata": {},
   "source": [
    "Simplex alogrithm은 항상 식의 집합에서 시작합니다. 이 식들은 표준형태 문제의 등식제약조건과 함께 목적함수들을 포함하고 있습니다. 따라서 simplex algorithm의 목적은 함수 $f(\\mathbf{X})$를 최소화 하고 다음 식을 만족하는 벡터 $\\mathbf{X} \\geq 0$를 찾는 것입니다."
   ]
  },
  {
   "cell_type": "markdown",
   "metadata": {},
   "source": [
    "$$1x_1+0x_2+\\dots+0x_m+a_{1,m+1}^{''}x_{m+1}+\\dots+a_{1n}^{''}x_n=b_1^{''}$$\n",
    "$$0x_1+1x_2+\\dots+0x_m+a_{2,m+1}^{''}x_{m+1}+\\dots+a_{2n}^{''}x_n=b_2^{''}$$\n",
    "$$\\vdots$$\n",
    "$$0x_1+0x_2+\\dots+1x_m+a_{m,m+1}^{''}x_{m+1}+\\dots+a_{mn}^{''}x_n=b_m^{''}$$\n",
    "$$0x_1+0x_2+\\dots+0x_m-f+c_{m+1}^{''}x_{m+1}+\\dots+C_{mn}^{''}x_n=-f_0^{''}$$"
   ]
  },
  {
   "cell_type": "markdown",
   "metadata": {},
   "source": [
    "$a_{ij}^{''},c_{j}^{''},b_{i}^{''},f_{0}^{''}$는 구속조건들 입니다. 상기 식의 일반형태에서 $(-f)$는 기본 변수로 고려됩에 주의해야 합니다. 위 식을 정리하여 기본해를 얻을 수 있습니다."
   ]
  },
  {
   "cell_type": "markdown",
   "metadata": {},
   "source": [
    "$$x_i=b_i^{''},\\;\\;\\;\\;i=1,2,\\dots,m$$\n",
    "$$f=f_0^n$$\n",
    "$$x_i=0,\\;\\;\\;\\;i=m+1,m+2,\\dots,n$$"
   ]
  },
  {
   "cell_type": "markdown",
   "metadata": {},
   "source": [
    "만약 basic solution 또한 feasible 하면, $x_i=1,2,\\dots,n$의 값들은 음수가 아니게 됩니다. 따라서 다음이 성립합니다."
   ]
  },
  {
   "cell_type": "markdown",
   "metadata": {},
   "source": [
    "$$b_i^{''}\\geq 0,\\;\\;\\;\\;i=1,2,\\dots,m \\tag{3.23}$$"
   ]
  },
  {
   "cell_type": "markdown",
   "metadata": {},
   "source": [
    "(중략)"
   ]
  },
  {
   "cell_type": "markdown",
   "metadata": {},
   "source": [
    "### 예제 3.4"
   ]
  },
  {
   "cell_type": "markdown",
   "metadata": {},
   "source": [
    "$$Maximize\\;F=x_1+2x_2+x_3$$"
   ]
  },
  {
   "cell_type": "markdown",
   "metadata": {},
   "source": [
    "제약조건들"
   ]
  },
  {
   "cell_type": "markdown",
   "metadata": {},
   "source": [
    "$$2x_1+x_2-x_3 \\leq 2$$\n",
    "\n",
    "$$-2x_1+x_2-5x_3 \\geq -6$$\n",
    "\n",
    "$$4x_1+x_2+x_3 \\leq 6$$\n",
    "\n",
    "$$x_i \\geq 0,\\;\\;\\;\\;i=1,2,3$$"
   ]
  },
  {
   "cell_type": "markdown",
   "metadata": {},
   "source": [
    "**풀이** 최소화 문제로 바꾸기 위해 목적함수의 부호를 바꾸고, $b_i$의 값들이 음수가 되지 않게 하기 위해 필요한 경우 제약조건들의 부호도 바꿉니다. 그러면 문제는 다음과 같이 변경됩니다."
   ]
  },
  {
   "cell_type": "markdown",
   "metadata": {},
   "source": [
    "$$Minimize\\;f=-x_1-2x_2-x_3$$"
   ]
  },
  {
   "cell_type": "markdown",
   "metadata": {},
   "source": [
    "제약조건들"
   ]
  },
  {
   "cell_type": "markdown",
   "metadata": {},
   "source": [
    "$$2x_1+x_2-x_3 \\leq 2$$\n",
    "\n",
    "$$2x_1-x_2+5x_3 \\leq 6$$\n",
    "\n",
    "$$4x_1+x_2+x_3 \\leq 6$$\n",
    "\n",
    "$$x_i \\geq 0,\\;\\;\\;\\;i=1,2,3$$"
   ]
  },
  {
   "cell_type": "markdown",
   "metadata": {},
   "source": [
    "slack 변수들 $x_4 \\geq 0,\\;x_5\\geq\\;0,\\;x_6\\geq0$을 추가하면 위의 식들은 다음과 같은 표준형태로 변경됩니다."
   ]
  },
  {
   "cell_type": "markdown",
   "metadata": {},
   "source": [
    "$$2x_1+x_2-x_3+x_4=2\\\\\n",
    "2x_1-x_2+5x_3+x_5=6\\\\\n",
    "4x_1+x_2+x_3+x_6=6\\\\\n",
    "-x_1-2x_2-x_3-f=0 \\tag{E1}$$"
   ]
  },
  {
   "cell_type": "markdown",
   "metadata": {},
   "source": [
    "$x_4,x_5,x_6,-f$는 basic variable로 고려할 수 있습니다. 식(E1)의 Basic Solution은 다음과 같습니다."
   ]
  },
  {
   "cell_type": "markdown",
   "metadata": {},
   "source": [
    "$$x_4=2,\\;\\;\\;\\;x_5=6,\\;\\;\\;\\;x_6=6\\;\\;\\;\\;(basic\\;variables)\\\\\n",
    "x_1=x_2=x_3=0\\;\\;\\;\\;(nonbasic\\;variables)\\\\\n",
    "f=0 \\tag{E2}$$"
   ]
  },
  {
   "cell_type": "markdown",
   "metadata": {},
   "source": [
    "위의 해는 feasible 합니다. (식 (E1)을 만족하므로)"
   ]
  },
  {
   "cell_type": "markdown",
   "metadata": {},
   "source": [
    "식(E1)의 nonbasic variable에 해당하는 cost coefficient는 음수($c_1^{''}, c_2^{''}=-2,c_3^{''}=-1$)이기 때문에, 식(E2)에 주어진 현재의 해는 최적(optimum)이 아닙니다. 현재의 basic feasible solution을 개선하기 위해 우선 변수($x_x$)를 결정하여 다음과 같은 basis를 만듭니다."
   ]
  },
  {
   "cell_type": "markdown",
   "metadata": {},
   "source": [
    "$$c_s^{''}=min(c_j^{''}<0)=c_2^{''}=-2$$"
   ]
  },
  {
   "cell_type": "markdown",
   "metadata": {},
   "source": [
    "따라서 $x_2$는 다음 basic set로 들어갑니다. 새로운 표준 형태를 얻기위해 다음과 같은 pivot element $a_{rs}^{''}$를 다음과 같이 설정합니다."
   ]
  },
  {
   "cell_type": "markdown",
   "metadata": {},
   "source": [
    "$$\\frac{b_r^{''}}{a_{rs}^{''}}=\\min_{a_{is}^{''}>0} \\left(\\frac{b_i^{''}}{a_{is}^{''}}\\right)$$"
   ]
  },
  {
   "cell_type": "markdown",
   "metadata": {},
   "source": [
    "현재의 경우 $s=2$이고 $a_{12}^{''}, a_{32}^{''} \\geq 0$입니다. $b_1^{''}/a_{12}^{''}=2/1$이고 $b_3^{''}/a_{32}^{''}=6/1$, $x_r=x_1$입니다. $a_{12}^{''}$에 대한 pivot을 수행하면 다음과 같은 새로운 식을 얻을 수 있습니다."
   ]
  },
  {
   "cell_type": "markdown",
   "metadata": {},
   "source": [
    "$$2x_1+1x_2-x_3+x_4=2\\\\\n",
    "4x_1+0x_2+4x_3+x_4+x_5=8\\\\\n",
    "2x_1+0x_2+2x_3-x_4+x_6=4\\\\\n",
    "3x_1+0x_2-3x_3+2x_4-f=4 \\tag{E3}$$"
   ]
  },
  {
   "cell_type": "markdown",
   "metadata": {},
   "source": [
    "이 표준형태의 basic feasible solution은 다음과 같습니다."
   ]
  },
  {
   "cell_type": "markdown",
   "metadata": {},
   "source": [
    "$$x_2=2,\\;\\;\\;\\;x_5=8,\\;\\;\\;\\;x_6=6\\;\\;\\;\\;(basic\\;variables)\\\\\n",
    "x_1=x_3=x_4=0\\;\\;\\;\\;(nonbasic\\;variables)\\\\\n",
    "f=-4 \\tag{E4}$$"
   ]
  },
  {
   "cell_type": "markdown",
   "metadata": {},
   "source": [
    "$c_3^{''}=-3$이기 때문에 이 해는 최적(optimum)이 아닙니다."
   ]
  },
  {
   "cell_type": "markdown",
   "metadata": {},
   "source": []
  },
  {
   "cell_type": "markdown",
   "metadata": {},
   "source": []
  },
  {
   "cell_type": "markdown",
   "metadata": {},
   "source": [
    "## 3.10 Simplex Method의 두 단계"
   ]
  },
  {
   "cell_type": "markdown",
   "metadata": {},
   "source": [
    "(중략)"
   ]
  },
  {
   "cell_type": "markdown",
   "metadata": {},
   "source": [
    "### 예제 3.7"
   ]
  },
  {
   "cell_type": "markdown",
   "metadata": {},
   "source": [
    "다음과 같이 주어진 제약조건에서 목적함수 $f$를 최소화 하고자 합니다."
   ]
  },
  {
   "cell_type": "markdown",
   "metadata": {},
   "source": [
    "$$Minimize\\;f=2x_1+3x_2+2x_3-x_4+x_5$$"
   ]
  },
  {
   "cell_type": "markdown",
   "metadata": {},
   "source": [
    "$$3x_1-3x_2+4x_3+2x_4-x_5=0$$\n",
    "\n",
    "$$x_1+x_2+x_3+3x_4+x_5=2$$\n",
    "\n",
    "$$x_i \\geq 0,\\;\\;\\;\\;i=1\\;to\\;5$$"
   ]
  },
  {
   "cell_type": "markdown",
   "metadata": {},
   "source": [
    "**풀이**"
   ]
  },
  {
   "cell_type": "markdown",
   "metadata": {},
   "source": [
    "**1단계** 제약조건의 우항의 상수들은 이미 "
   ]
  },
  {
   "cell_type": "code",
   "execution_count": null,
   "metadata": {},
   "outputs": [],
   "source": []
  }
 ],
 "metadata": {
  "kernelspec": {
   "display_name": "Python 3",
   "language": "python",
   "name": "python3"
  },
  "language_info": {
   "codemirror_mode": {
    "name": "ipython",
    "version": 3
   },
   "file_extension": ".py",
   "mimetype": "text/x-python",
   "name": "python",
   "nbconvert_exporter": "python",
   "pygments_lexer": "ipython3",
   "version": "3.7.6"
  }
 },
 "nbformat": 4,
 "nbformat_minor": 4
}
