{
 "cells": [
  {
   "cell_type": "code",
   "execution_count": 1,
   "metadata": {},
   "outputs": [],
   "source": [
    "import numpy as np\n",
    "import matplotlib.pyplot as plt"
   ]
  },
  {
   "cell_type": "markdown",
   "metadata": {},
   "source": [
    "## Example 9.2"
   ]
  },
  {
   "cell_type": "markdown",
   "metadata": {},
   "source": [
    "SAE 1008 강으로 제작된 hot-rolled 기기가 랜덤 하중에 노출된다. 주요 위치에서의 응력 응답은 Figure 9.12의 PSD로 계산된다. PSD는 1 Hz에서 10,000 $MPa^2/Hz$, 10 Hz에서 2,500 $MPa^2/Hz$의 크기를 갖는다. 재료의 S-N 커브는 다음과 같은 관계를 갖는다.\n"
   ]
  },
  {
   "cell_type": "markdown",
   "metadata": {},
   "source": [
    "$$S_{a,i} = S_f^{'} (2N_{f,i})^b $$"
   ]
  },
  {
   "cell_type": "markdown",
   "metadata": {},
   "source": [
    "여기서"
   ]
  },
  {
   "cell_type": "markdown",
   "metadata": {},
   "source": [
    "$S_f^{'}$ = 1,297 MPa, 피로강도계수\n",
    "\n",
    "$b$ = -0.18, 피로강도지수"
   ]
  },
  {
   "cell_type": "markdown",
   "metadata": {},
   "source": [
    "앞서 소개된 광대역 응력에 대한 식을 사용하여 이 기기의 피로 손상을 계산한다. 정현파의 crest factor는 $\\sqrt{2}=1.414$임을 참고."
   ]
  },
  {
   "cell_type": "code",
   "execution_count": 46,
   "metadata": {},
   "outputs": [
    {
     "data": {
      "image/png": "[encoded data removed]",
      "text/plain": [
       "<Figure size 432x288 with 1 Axes>"
      ]
     },
     "metadata": {
      "needs_background": "light"
     },
     "output_type": "display_data"
    }
   ],
   "source": [
    "A1 = 10000; A2 = 2500;\n",
    "freq = np.array([0,0.5-0.001,0.5,1,1.5,1.5+0.001,9.5-0.001,9.5,10,10.5,10.5+0.001]);\n",
    "psd = np.array([0,0,A1,A1,A1,0,0,A2,A2,A2,0]);\n",
    "plt.plot(freq,psd,'k-'); plt.xlim(0,12); plt.ylim(0,12000); plt.xticks(np.linspace(0,12,13)); plt.grid('which=both');\n",
    "plt.xlabel('Frequency (Hz)'); plt.ylabel('PSD (MPa^2/Hz)');\n",
    "plt.text(4.8,-2500,'Figure 9.12',fontsize=12,weight='bold');\n",
    "plt.text(0,-3800,'Power spectral density of the stress response of a component\\nmade of SAE 1008 steel.',fontsize=12);"
   ]
  },
  {
   "cell_type": "markdown",
   "metadata": {},
   "source": [
    "### Solution"
   ]
  },
  {
   "cell_type": "markdown",
   "metadata": {},
   "source": [
    "시간이력에서의 피로손상을 먼저 계산할 것이다. 그리고 이를 PSD 기반의 손상 예측 결과와 비교를 위한 기준으로 삼을 것이다."
   ]
  },
  {
   "cell_type": "markdown",
   "metadata": {},
   "source": [
    "기존 응력 시간이력은 2개의 정현파를 더하면 얻을 수 있다. 정현파 각각의 크기는 RMS 값에 1.414를 곱하면 얻을 수 있다. RMS 값은 각 PSD block의 넓이의 1/2 승이다."
   ]
  },
  {
   "cell_type": "markdown",
   "metadata": {},
   "source": [
    "1 Hz에서 정현파의 응력 크기 $S_{a@1Hz}$는 다음과 같다."
   ]
  },
  {
   "cell_type": "markdown",
   "metadata": {},
   "source": [
    "$$S_{a@1Hz}=\\sqrt{10,000\\times1}\\times 1.414 = 141.4 MPa.$$\n"
   ]
  },
  {
   "cell_type": "markdown",
   "metadata": {},
   "source": [
    "10 Hz에서 정현파의 응력 크기 $S_{a@10Hz}$는 다음과 같다."
   ]
  },
  {
   "cell_type": "markdown",
   "metadata": {},
   "source": [
    "$$S_{a@10Hz}=\\sqrt{2,500\\times1}\\times 1.414 = 70.7 MPa.$$\n"
   ]
  },
  {
   "cell_type": "markdown",
   "metadata": {},
   "source": [
    "중첩된 정현파에 rainflow cycle-counting을 적용하면, 평균응력의 영향을 배제하면, 1 Hz에서의 응력 크기는 212.2 MPa (=141.4 + 70.7 MPa)가 되며, 10 Hz에서의 응력 크기는 70.7 MPa가 된다."
   ]
  },
  {
   "cell_type": "markdown",
   "metadata": {},
   "source": [
    "진동피로에 대한 재료의 S-N 커브는 보통 다음과 같은 S-N 표현을 따른다."
   ]
  },
  {
   "cell_type": "markdown",
   "metadata": {},
   "source": [
    "$$N_{f,i}S_{a,i}^m=C$$"
   ]
  },
  {
   "cell_type": "markdown",
   "metadata": {},
   "source": [
    "따라서,"
   ]
  },
  {
   "cell_type": "markdown",
   "metadata": {},
   "source": [
    "$$m=-1/b=-1/(-0.18)=5.56$$"
   ]
  },
  {
   "cell_type": "markdown",
   "metadata": {},
   "source": [
    "$$C=0.5\\times(S_f^{'})^m=0.5 \\times 1297^{5.56}=1.02\\times 10^{17} MPa$$"
   ]
  },
  {
   "cell_type": "markdown",
   "metadata": {},
   "source": [
    "앞서 기술된 S-N 식을 사용하면 각 정현파에 대한 피로수명을 다음과 같이 계산할 수 있다."
   ]
  },
  {
   "cell_type": "markdown",
   "metadata": {},
   "source": [
    "$$N_{f,1} = C\\cdot S_{a,1}^{-m} = 1.02\\times 10^{17}\\times 212.1^{-5.56} = 1.18 \\times 10^4 cycles$$\n",
    "\n",
    "$$N_{f,2} = C\\cdot S_{a,2}^{-m} = 1.02\\times 10^{17}\\times 70.7^{-5.56} = 5.32 \\times 10^6 cycles$$"
   ]
  },
  {
   "cell_type": "markdown",
   "metadata": {},
   "source": [
    "1초동안 1Hz와 10Hz에서의 정현파는 각각 1 cycle ($n_1=1$), 10 cycle ($n_2=10$)의 반복하중을 보인다. 1초동안의 선형피로누적은 다음과 같다."
   ]
  },
  {
   "cell_type": "markdown",
   "metadata": {},
   "source": []
  },
  {
   "cell_type": "markdown",
   "metadata": {},
   "source": []
  },
  {
   "cell_type": "markdown",
   "metadata": {},
   "source": []
  },
  {
   "cell_type": "markdown",
   "metadata": {},
   "source": []
  },
  {
   "cell_type": "markdown",
   "metadata": {},
   "source": []
  },
  {
   "cell_type": "markdown",
   "metadata": {},
   "source": []
  },
  {
   "cell_type": "markdown",
   "metadata": {},
   "source": []
  }
 ],
 "metadata": {
  "kernelspec": {
   "display_name": "Python 3",
   "language": "python",
   "name": "python3"
  },
  "language_info": {
   "codemirror_mode": {
    "name": "ipython",
    "version": 3
   },
   "file_extension": ".py",
   "mimetype": "text/x-python",
   "name": "python",
   "nbconvert_exporter": "python",
   "pygments_lexer": "ipython3",
   "version": "3.7.3"
  }
 },
 "nbformat": 4,
 "nbformat_minor": 2
}
