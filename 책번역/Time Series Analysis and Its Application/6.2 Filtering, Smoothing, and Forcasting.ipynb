{
 "cells": [
  {
   "cell_type": "markdown",
   "metadata": {},
   "source": [
    "## 6.2 Filtering, Smoothing, and Forcasting"
   ]
  },
  {
   "cell_type": "markdown",
   "metadata": {},
   "source": [
    "실질적인 관점에서 (6.3), (6.4)의 상태공간 모델 분석의 주된 목적은 데이터 $y_{1:s}=\\{y_1,\\dots,y_s\\}$가 주어졌을 때 관측되지 않은 신호 $x_t$를 추정하는 것입니다. 이후 보이겠지만 상태 추정은 변수 추정의 필수 요소입니다. $s<t$인 경우 이 문제는 예견(forcasting) 또는 예측(prediction)문제라고 부릅니다. $s=t$이면 filtering 문제라고 하며, $s>t$이면 smooting 문제라고 합니다. 우리는 예측 뿐만 아나리 예측의 정확성에 대해서도 알고자 합니다. 이러한 문제는 칼만 필터 또는 칼만 스무더를 통해 해결할 수있으며 이번 장에서 집중적으로 다룰 것입니다."
   ]
  },
  {
   "cell_type": "markdown",
   "metadata": {},
   "source": [
    "이 장에서는 다음과 같은 정의를 사용할 것입니다."
   ]
  },
  {
   "cell_type": "markdown",
   "metadata": {},
   "source": [
    "$$x_t^s=E(x_t|y_{1:s})\\tag{6.16}$$"
   ]
  },
  {
   "cell_type": "markdown",
   "metadata": {},
   "source": [
    "$$P_{t1,t2}^s=E\\{(x_{t1}-x_{t1}^s)(x_{t2}-x_{t2}^s)'\\}\\tag{6.17}$$"
   ]
  },
  {
   "cell_type": "markdown",
   "metadata": {},
   "source": [
    "식 (6.17)에서 $t1=t2=t$이면 $P_t^s$라고 표기하겠습니다."
   ]
  },
  {
   "cell_type": "markdown",
   "metadata": {},
   "source": [
    "filtering 및 smoothing 식을 얻기위해, 가우시안 가정에 의존할 것입니다. 이 장의 상세한 내용을 이해하는데 있어 부록 B의 내용이 도움이 될 수 있습니다. 가우시안이 아닌 경우, 선형 추정자의 분류 중 최소 평균제곱 오차 추정자에 해당합니다. 즉 식(6.16)에서의 E를 B.1장의 관점에서 평균이 아닌 투영자(projection operator)로 고려할 수 있고, $y_{1:s}$는 $\\{y_1,\\dots,y_s\\}$의 선형 조합의 공간(space)으로, $P_t^s$는 그에 해당하는 평균 제곱 오차로 생각할 수 있습니다. 과정은 가우시안이기 때문에, 식(6.17) 또한 조건부 오차 공분산입니다. 즉, "
   ]
  },
  {
   "cell_type": "markdown",
   "metadata": {},
   "source": [
    "$$P_{t1,t2}^s=E\\{(x_{t1}-x{t1}^s)(x_{t2}-x{t2}^s)'|y_{1:s}\\}$$"
   ]
  },
  {
   "cell_type": "markdown",
   "metadata": {},
   "source": [
    "예를들어, 임의의 $t$ 및 $s$ 값에 대하여 $(x_t-x_t^s)$와 $y_{1:s}$ 사이의 공분산 행렬을 0으로 놓으면 B.1장에 따라 이 둘은 직교한다고 할 수 있습니다. 따라서 직교성에 의해 $(x_t-x_t^s)$와 $y_{1:s}$는 독립이라고 할 수 있으며 $y_{1:s}$가 주어졌을 때 $(x_t-x_t^s)$에 대한 조건부 확률분포는 단순히 $(x_t-x_t^s)$에 대한 확률분포라고 할 수 있습니다. 베이지안 관점에서 필터링 및 스무딩 식을 유도하는 것은 Meinold와 Singpurwalla (1983)에 설명되어 있습니다. 투영 개념 및 다변수 정규분포 이론을 기반으로 좀더 전통적인 방법은 Jazwinski (1970)와 Anderson와 Moore (1979)에 설명되어 있습니다."
   ]
  },
  {
   "cell_type": "markdown",
   "metadata": {},
   "source": [
    "우선, 필터링 및 예측 식을 나타내는 칼만필터에 대해 설명드리겠습니다. 필터라는 이름은 $x_t^t$가 관측치 $y_{1:t}$에 대한 선형 필터라는 사실에서 결정된 것이며, 따라서 $p\\times q$ 행렬 $B_s$를 적절히 설정하면 $x_t^t=\\sum_{s=1}^{t}B_sy_s$로 정의 가능합니다. 칼만필터의 장점은 관측치 $y_t$가 주어졌을 때 전체 관측치 $y_{1:t}$를 다시 고려할 필요 없이 $x_{t-1}^{t-1}$에서 $x_t^t$로 업데이트가 가능하다는 것입니다. "
   ]
  },
  {
   "cell_type": "markdown",
   "metadata": {},
   "source": [
    "### 특성 6.1 칼만필터"
   ]
  },
  {
   "cell_type": "markdown",
   "metadata": {},
   "source": [
    "식 (6.3), (6.4)의 상태공간 모델에서 초기조건이 $x_0^0=\\mu_0$, $P_0^0=\\Sigma_0$, $t=1,\\dots,n$이면,"
   ]
  },
  {
   "cell_type": "markdown",
   "metadata": {},
   "source": [
    "$$x_t^{t-1}=\\Phi x_{t-1}^{t-1}+\\Upsilon u_t \\tag{6.18}$$"
   ]
  },
  {
   "cell_type": "markdown",
   "metadata": {},
   "source": [
    "$$P_t^{t-1}=\\Phi P_{t-1}^{t-1}\\Phi'+Q\\tag{6.19}$$"
   ]
  },
  {
   "cell_type": "markdown",
   "metadata": {},
   "source": [
    "with"
   ]
  },
  {
   "cell_type": "markdown",
   "metadata": {},
   "source": [
    "$$x_t^t=x_t^{t-1}+K_t(y_t-A_tx_t^{t-1}-\\Gamma u_t)\\tag{6.20}$$"
   ]
  },
  {
   "cell_type": "markdown",
   "metadata": {},
   "source": [
    "$$P_t^t=[I-K_tA_t]P_t^{t-1}\\tag{6.21}$$"
   ]
  },
  {
   "cell_type": "markdown",
   "metadata": {},
   "source": [
    "where"
   ]
  },
  {
   "cell_type": "markdown",
   "metadata": {},
   "source": [
    "$$K_t=P_t^{t-1}A_t'[A_tP_t^{t-1}A_t'+R]^{-1}\\tag{6.22}$$"
   ]
  },
  {
   "cell_type": "markdown",
   "metadata": {},
   "source": [
    "상기 식은 칼만이득이라고 부릅니다. $t>n$인 경우 예측과정은 초기조건 $x_n^n$과 $P_n^n$을 사용해 (6.18)과 (6.19)를 통해 수행됩니다. 이 필터의 중요한 생성결과는 예측오차 이며 다음과 같습니다."
   ]
  },
  {
   "cell_type": "markdown",
   "metadata": {},
   "source": [
    "$$\\epsilon_t=y_t-E(y_t|y_{1:t-1}=y_t-A_tx_t^{t-1}-\\Gamma u_t\\tag{6.23}$$"
   ]
  },
  {
   "cell_type": "markdown",
   "metadata": {},
   "source": [
    "그리고 그에 해당하는 공분산 행렬은 다음과 같습니다."
   ]
  },
  {
   "cell_type": "markdown",
   "metadata": {},
   "source": [
    "$$\\Sigma_t=var(\\epsilon_t)=var[A_t(x_t-x_t^{t-1})+v_t]=A_tP_t^{t-1}A_t'+R\\tag{6.24}$$"
   ]
  },
  {
   "cell_type": "markdown",
   "metadata": {},
   "source": [
    "$$t=1,\\dots,n$$"
   ]
  },
  {
   "cell_type": "markdown",
   "metadata": {},
   "source": [
    "$\\Sigma_t>0$ 즉 positive definite로 가정하겠습니다. 이는 $R>0$일때 만족됩니다. 이 가정은 필수적이지는 않지만 더 유연한 적용을 가능하게 합니다."
   ]
  },
  {
   "cell_type": "markdown",
   "metadata": {},
   "source": [
    "*증명*: (6.18)과 (6.19)를 유도하기 위해 (6.3)에 따라 다음과 같은 식을 쓸 수 있습니다."
   ]
  },
  {
   "cell_type": "markdown",
   "metadata": {},
   "source": [
    "$$x_t^{t-1}=E(x_t|y_{1:t-1})=E(\\Phi x_{t-1}+\\Upsilon u_t+w_t|y_{1:t-1})=\\Phi x_{t-1}^{t-1}+\\Upsilon u_t$$"
   ]
  },
  {
   "cell_type": "markdown",
   "metadata": {},
   "source": [
    "그리고 따라서,"
   ]
  },
  {
   "cell_type": "markdown",
   "metadata": {},
   "source": [
    "$$P_t^{t-1}=E\\{(x_t-x_t^{t-1})(x_t-x_t^{t-1})'\\}$$"
   ]
  },
  {
   "cell_type": "markdown",
   "metadata": {},
   "source": [
    "$$=E\\left\\{[\\Phi(x_{t-1}-x_{t-1}^{t-1})+w_t][\\Phi(x_{t-1}-x_{t-1}^{t-1})+w_t]' \\right\\}$$"
   ]
  },
  {
   "cell_type": "markdown",
   "metadata": {},
   "source": [
    "$$=\\Phi P_{t-1}^{t-1}\\Phi'+Q$$"
   ]
  },
  {
   "cell_type": "markdown",
   "metadata": {},
   "source": [
    "(6.20)을 유도하기 위해 $s<t$에서 $cov(\\epsilon_t,y_s)=0$이라는 사실에 주목하겠습니다. 이는 갱신 과정이 가우시안 과정이기 때문이며 갱신 과정이 과거의 관측치와는 독립적이라는 사실을 나타냅니다. $y_{1:t-1}$이 주어졌을 때 $x_t$와 $\\epsilon_t$ 사이의 조건부 공분산은 다음과 같습니다."
   ]
  },
  {
   "cell_type": "markdown",
   "metadata": {},
   "source": [
    "$$cov(x_t,\\epsilon_t|y_{1:t-1})=cov(x_t,y_t-A_tx_t^{t-1}-\\Gamma u_t | y_{1:t-1})$$"
   ]
  },
  {
   "cell_type": "markdown",
   "metadata": {},
   "source": [
    "$$=cov(x_t-x_t^{t-1},y_t-A_t x_t^{t-1}-\\Gamma u_t | y_{1:t-1})$$"
   ]
  },
  {
   "cell_type": "markdown",
   "metadata": {},
   "source": [
    "$$=cov[x_t-x_t^{t-1},A_t(x_t-x_t^{t-1})+v_t]$$"
   ]
  },
  {
   "cell_type": "markdown",
   "metadata": {},
   "source": [
    "$$=P_t^{t-1}A_t'\\tag{6.25}$$"
   ]
  },
  {
   "cell_type": "markdown",
   "metadata": {},
   "source": [
    "이 결과들을 사용하면 $y_{1:t-1}$이 주어졌을 때 $x_t$와 $\\epsilon$의 조건부 결합 확률분포가 정규분포임을 알 수 있습니다."
   ]
  },
  {
   "cell_type": "markdown",
   "metadata": {},
   "source": [
    "$$\\begin{pmatrix}\n",
    "x_t \\\\ \\epsilon_t\n",
    "\\end{pmatrix}\n",
    "\\bigg|\\; y_{1:t-1} \\sim N\\left(\n",
    "\\begin{bmatrix}\n",
    "x_t^{t-1} \\\\ 0\n",
    "\\end{bmatrix},\n",
    "\\begin{bmatrix}\n",
    "P_t^{t-1} && P_t^{t-1}A_t' \\\\\n",
    "A_tP_t^{t-1} && \\Sigma_t\n",
    "\\end{bmatrix}\n",
    "\\right)\\tag{6.26}$$"
   ]
  },
  {
   "cell_type": "markdown",
   "metadata": {},
   "source": [
    "부록 B의 (B.9)를 사용하면 다음과 같이 쓸 수 있습니다."
   ]
  },
  {
   "cell_type": "markdown",
   "metadata": {},
   "source": [
    "$$x_t^t=E(x_t|y_{1:t})=E(x_t|y_{1:t-1},\\epsilon_t)=x_t^{t-1}+K_t\\epsilon_t\\tag{6.27}$$"
   ]
  },
  {
   "cell_type": "markdown",
   "metadata": {},
   "source": [
    "where"
   ]
  },
  {
   "cell_type": "markdown",
   "metadata": {},
   "source": [
    "$$K_t=P_t^{t-1}A_t'\\Sigma_t^{-1}=P_t^{t-1}A_t'(A_tP_t^{t-1}A_t'+R)^{-1}$$"
   ]
  },
  {
   "cell_type": "markdown",
   "metadata": {},
   "source": [
    "$P_t^t$는 (6.26)(B.10 참고)로 쉽게 계산할 수 있습니다."
   ]
  },
  {
   "cell_type": "markdown",
   "metadata": {},
   "source": [
    "$$P_t^t=cov(x_t|y_{1:t-1},\\epsilon_t)=P_t^{t-1}-P_t^{t-1}A_t'\\Sigma_t^{-1}A_tP_t^{t-1}$$"
   ]
  },
  {
   "cell_type": "markdown",
   "metadata": {},
   "source": [
    "이를 간추려 표현하면 식(6.21)가 됩니다."
   ]
  },
  {
   "cell_type": "code",
   "execution_count": null,
   "metadata": {},
   "outputs": [],
   "source": []
  }
 ],
 "metadata": {
  "kernelspec": {
   "display_name": "R",
   "language": "R",
   "name": "ir"
  },
  "language_info": {
   "codemirror_mode": "r",
   "file_extension": ".r",
   "mimetype": "text/x-r-source",
   "name": "R",
   "pygments_lexer": "r",
   "version": "3.6.1"
  }
 },
 "nbformat": 4,
 "nbformat_minor": 4
}
