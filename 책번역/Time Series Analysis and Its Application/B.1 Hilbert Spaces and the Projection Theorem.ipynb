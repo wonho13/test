{
 "cells": [
  {
   "cell_type": "markdown",
   "metadata": {},
   "source": [
    "## B.1 Hilbert Spaces and the Projection Theorem"
   ]
  },
  {
   "cell_type": "markdown",
   "metadata": {},
   "source": [
    "제곱평균 추정 및 회기에서 대부분의 내용은 좀더 일반적인 형태로 표현할 수 있습니다. 이는 완전한(즉, 코시조건을 만족하는) 내적공간 도입하면 가능합니다. 값들이 랜덤 변수인 $E(xy*)$와 값들이 랜덤 연속 변수인 $\\Sigma x_iy_i*$는 내적의 예시입니다. 이 예시에서 변수들은 복소수일 수 있고, $*$는 켤레를 의미합니다. 일반적으로 내적은 $<x,y>$로 표기합니다. 이제 다음의 특성을 갖는 *내적공간*으로 정의하겠습니다."
   ]
  },
  {
   "cell_type": "markdown",
   "metadata": {},
   "source": [
    "(i) $<x, y>= <y,x∗> $\n",
    "\n",
    "(ii) $<x + y,z>= <x,z>+<y,z> $\n",
    "\n",
    "(iii) $<αx, y>= α<x,y> $\n",
    "\n",
    "(iv) $<x, x>= ||x||^2 ≥ 0 $\n",
    "\n",
    "(v) $<x, x>= 0 \\;iff \\;x = 0.$"
   ]
  },
  {
   "cell_type": "markdown",
   "metadata": {},
   "source": [
    "특성 (iv)에서 $||\\cdot||$는 norm 또는 거리를 의미합니다. norm은 다음의 삼각 부등식을 만족합니다."
   ]
  },
  {
   "cell_type": "markdown",
   "metadata": {},
   "source": [
    "$$||x+y||\\leq||x||+||y||\\tag{B.1}$$"
   ]
  },
  {
   "cell_type": "markdown",
   "metadata": {},
   "source": [
    "그리고 다음의 코시 슈바르츠 부등식도 만족합니다."
   ]
  },
  {
   "cell_type": "markdown",
   "metadata": {},
   "source": [
    "$$|<x,y>|\\leq||x||^2||y||^2\\tag{B.2}$$"
   ]
  },
  {
   "cell_type": "markdown",
   "metadata": {},
   "source": [
    "랜덤변수가 위식을 만족하는 것을 (A.35)에서 확인 했었습니다. 코시특성을 갖는 내적공간을 힐버트공간 H로 정의하겠습니다."
   ]
  },
  {
   "cell_type": "markdown",
   "metadata": {},
   "source": [
    "다시말해 힐버트 공간은 *완전한(코시조건을 만족하는) 내적공간* 입니다. 이는 모든 코시 연속변수가 nrom으로 수렴함을 의미합니다. 즉, $m,n\\to\\infty$임에 따라 $||x_n-x_m||\\to0$이 되는 조건일 경우에만 $x_n\\to x\\in H$입니다. \n",
    "이는 랜덤 변수에 대한 $L^2$ 완전성을 정의한 정리 A.1와 같습니다. "
   ]
  },
  {
   "cell_type": "markdown",
   "metadata": {},
   "source": [
    "통계적 추론및 확률론에서 유용한 힐버트 공간에대한 상세한 내용은 Small, McLeish (1994)를 참고하시기 바랍니다. 시계열 분석에 유용한 힐버트공간에 대한 내용은 Brockwell, Davis (1991, 2장)에 잘 정리되어 있습니다. 다양한 종류의 선형추정 문제를 풀기위해 *투영* (정리 B.1) 및 그와 관련된 *직교성 원리*를 주로 사용하겠습니다. "
   ]
  },
  {
   "cell_type": "markdown",
   "metadata": {},
   "source": [
    "### 정리 B.1(투영 정리)"
   ]
  },
  {
   "cell_type": "markdown",
   "metadata": {},
   "source": [
    "M을 힐버트공간 H의 인접한 하부공간으로, y를 H에 속한 변수라고 합시다. 그러면 y를 다음과 같이 표현할 수 있습니다. "
   ]
  },
  {
   "cell_type": "markdown",
   "metadata": {},
   "source": [
    "$$y=\\hat{y}+z\\tag{B.3}$$"
   ]
  },
  {
   "cell_type": "markdown",
   "metadata": {},
   "source": [
    "여기서 $\\hat{y}$는 M에 속하고, $z$는 M과 직교합니다. 즉, M에 속하는 모든 $w$에 대하여 $<z,w>=0$입니다. 또한 $w=\\hat{y}$인 경우에만 M에 속하는 모든 w에 대하여 부등식 $||y-w||\\geq||y-\\hat{y}||$를 만족한다는 관점에서 $\\hat{y}$는 y에 가장 근접한 값입니다. \n",
    "\n",
    "(투영공간에 투영한 값은 투영공간 내에서 투영하기 전 값에 가장근접한 값이라는 의미)"
   ]
  },
  {
   "cell_type": "markdown",
   "metadata": {},
   "source": [
    "상기 내용에 따라 다음의 직교성이 성립함을 알 수 있습니다.  "
   ]
  },
  {
   "cell_type": "markdown",
   "metadata": {},
   "source": [
    "$$<y-\\hat{y},w>=0\\tag{B.4}$$"
   ]
  },
  {
   "cell_type": "markdown",
   "metadata": {},
   "source": [
    "오차의 norm은 다음과 같이 표현할 수 있습니다. "
   ]
  },
  {
   "cell_type": "markdown",
   "metadata": {},
   "source": [
    "$$||y-\\hat{y}||^2=<y-\\hat{y},y-\\hat{y}>$$"
   ]
  },
  {
   "cell_type": "markdown",
   "metadata": {},
   "source": []
  },
  {
   "cell_type": "markdown",
   "metadata": {},
   "source": []
  },
  {
   "cell_type": "markdown",
   "metadata": {},
   "source": []
  },
  {
   "cell_type": "markdown",
   "metadata": {},
   "source": []
  },
  {
   "cell_type": "markdown",
   "metadata": {},
   "source": []
  },
  {
   "cell_type": "markdown",
   "metadata": {},
   "source": []
  }
 ],
 "metadata": {
  "kernelspec": {
   "display_name": "Python 3",
   "language": "python",
   "name": "python3"
  },
  "language_info": {
   "codemirror_mode": {
    "name": "ipython",
    "version": 3
   },
   "file_extension": ".py",
   "mimetype": "text/x-python",
   "name": "python",
   "nbconvert_exporter": "python",
   "pygments_lexer": "ipython3",
   "version": "3.6.6"
  }
 },
 "nbformat": 4,
 "nbformat_minor": 2
}
