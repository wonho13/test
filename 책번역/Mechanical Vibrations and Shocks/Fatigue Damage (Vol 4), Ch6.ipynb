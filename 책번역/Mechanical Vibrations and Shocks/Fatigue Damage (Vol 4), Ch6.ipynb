{
 "cells": [
  {
   "cell_type": "markdown",
   "metadata": {},
   "source": [
    "### 6.3 Calculation of fatigue damage due to acceleration spectral density"
   ]
  },
  {
   "cell_type": "markdown",
   "metadata": {},
   "source": [
    "### 6.3.1 General Case"
   ]
  },
  {
   "cell_type": "markdown",
   "metadata": {},
   "source": [
    "평균이 0이고 지속시간이 T인 staionary ergodic PSD $G(f)$의 랜덤 진동 가속도 시간이력 $\\ddot{x}(t)$를 고려해보자. 이 진동에 대한 시스템 응력 응답의 피크 확률 밀도를 $q(z_p)$라고 하자. maxima(양수 또는 음수)의 평균 개수는 다음과 같다."
   ]
  },
  {
   "cell_type": "markdown",
   "metadata": {},
   "source": [
    "$$N_p=n_p^+ T \\tag{6.7}$$"
   ]
  },
  {
   "cell_type": "markdown",
   "metadata": {},
   "source": [
    "그리고 피크(maxima+minima)의 평균 수는 $2Np$이다. 시간 T 동안 절대값 범위 $\\sigma_p$와 $\\sigma_p+d\\sigma_p$ 사이에 응력 응답의 크기가 포함되는 피크의 수 $dn$은 다음과 같다."
   ]
  },
  {
   "cell_type": "markdown",
   "metadata": {},
   "source": [
    "$$dn=2n_p^+ T q(\\sigma_p)d\\sigma_p\\tag{6.8}$$"
   ]
  },
  {
   "cell_type": "markdown",
   "metadata": {},
   "source": [
    "응력의 크기는 상대변위크기 $z$에 비례할 것이다."
   ]
  },
  {
   "cell_type": "markdown",
   "metadata": {},
   "source": [
    "$$\\sigma_p=K z_p \\tag{6.9}$$"
   ]
  },
  {
   "cell_type": "markdown",
   "metadata": {},
   "source": [
    "Miner's Rule에 따라 이 $dn$개의 피크들에 의해 생성되는 피로 손상 $dD$는 다음과 같다."
   ]
  },
  {
   "cell_type": "markdown",
   "metadata": {},
   "source": [
    "$$dD=\\frac{dn}{2N(\\sigma)}\\tag{6.10}$$"
   ]
  },
  {
   "cell_type": "markdown",
   "metadata": {},
   "source": [
    "$$dD=n_p^+ T \\frac{q(\\sigma)}{N(\\sigma)}d\\sigma\\tag{6.11}$$"
   ]
  },
  {
   "cell_type": "markdown",
   "metadata": {},
   "source": [
    "평균 손상 $D$ (또는 예상 손상, $E(D)$)는 모든 양의 $\\sigma$ 값의 합이다. (음의 maxima, 양의 minima에는 관심 없음)"
   ]
  },
  {
   "cell_type": "markdown",
   "metadata": {},
   "source": [
    "$$D=n_p^+ T \\int_0^{+\\infty} \\frac{q(\\sigma)}{N(\\sigma)}d\\sigma \\tag{6.12}$$"
   ]
  },
  {
   "cell_type": "markdown",
   "metadata": {},
   "source": [
    "NOTES"
   ]
  },
  {
   "cell_type": "markdown",
   "metadata": {},
   "source": [
    "1. 피크당 평균 손상은 다음과 같음"
   ]
  },
  {
   "cell_type": "markdown",
   "metadata": {},
   "source": [
    "$$\\bar{d}=\\frac{D}{2n_p^+ T}\\tag{6.13}$$"
   ]
  },
  {
   "cell_type": "markdown",
   "metadata": {},
   "source": [
    "2. 예상 피로 수명 $T$는 $D=1$로 설정하면 다음과 같이 구할 수 있음."
   ]
  },
  {
   "cell_type": "markdown",
   "metadata": {},
   "source": [
    "$$T=\\frac{1}{n_p^+\\int_0^{+\\infty}\\frac{q(\\sigma)}{N(\\sigma)}}d\\sigma\\tag{6.14}$$"
   ]
  },
  {
   "cell_type": "markdown",
   "metadata": {},
   "source": [
    "만약 재료의 SN 커브가 Basquin's Relation $N\\sigma^b=C$를 따른다면, 다음과 같이 표현할 수 있음."
   ]
  },
  {
   "cell_type": "markdown",
   "metadata": {},
   "source": [
    "$$D=\\frac{n_p^+ T}{C}\\int_0^{+\\infty}\\sigma^b q(\\sigma) d\\sigma \\tag{6.15}$$"
   ]
  },
  {
   "cell_type": "markdown",
   "metadata": {},
   "source": [
    "마지막으로, 응력과 변형률이 선형 관계라면 ($\\sigma=K z_p$), 다음과 같이 표현할 수 있음."
   ]
  },
  {
   "cell_type": "markdown",
   "metadata": {},
   "source": [
    "$$D = \\frac{K^b}{C}n_p^+ T\\int_0^{\\infty} z_p^b q(z_p) dz_p \\tag{6.16}$$"
   ]
  },
  {
   "cell_type": "markdown",
   "metadata": {},
   "source": [
    "마지막으로 다음과 같이 설정하면,"
   ]
  },
  {
   "cell_type": "markdown",
   "metadata": {},
   "source": [
    "$$u=\\frac{z_p}{z_{rms}}=\\frac{\\sigma_p}{\\sigma_{rms}}\\tag{6.17}$$"
   ]
  },
  {
   "cell_type": "markdown",
   "metadata": {},
   "source": [
    "여기서, $z_{rms}$는 $z(t)$의 rms 값이고, $\\sigma_{rms}$는 $\\sigma (t)$의 rms 값임."
   ]
  },
  {
   "cell_type": "markdown",
   "metadata": {},
   "source": [
    "$$Q(z)=\\int_{-\\infty}^{z} q(z) dz = Q(u) = \\int_{-\\infty}^{u} q(u) du \\tag{6.18}$$"
   ]
  },
  {
   "cell_type": "markdown",
   "metadata": {},
   "source": [
    "$$q(z) = \\frac{q(u)}{z_{rms}}\\tag{6.19}$$"
   ]
  },
  {
   "cell_type": "markdown",
   "metadata": {},
   "source": [
    "$$D=\\frac{K^b}{C}n_p^+ T z_{rms}^b \\int_0^{\\infty} u^b q(u) du \\tag{6.20}$$"
   ]
  },
  {
   "cell_type": "markdown",
   "metadata": {},
   "source": [
    "또는,"
   ]
  },
  {
   "cell_type": "markdown",
   "metadata": {},
   "source": [
    "$$ D=\\frac{n_p^+ T}{C} \\sigma_{rms}^b \\int_0^{+\\infty} u^b q(u) du\\tag{6.21}$$"
   ]
  },
  {
   "cell_type": "markdown",
   "metadata": {},
   "source": [
    "평균 손상 $D$를 계산할 때는 상대변위 $z_{rms}$의 rms 값(즉, rms 응력)과 적분값을 사용한다."
   ]
  },
  {
   "cell_type": "markdown",
   "metadata": {},
   "source": [
    "입력 신호 $\\ddot{x}(t)$ (SDOF의 기저가진)의 순간 값드의 분포가 Gaussian이라고 가정해 보자. 시스템의 응답 역시 Gaussian이 되며, 응답의 maxima $z_p$의 확률 밀도 $p(z_p)$는 Gaussian 분포와 Rayleight 분포의 조합으로 표현할 수 있다."
   ]
  },
  {
   "cell_type": "markdown",
   "metadata": {},
   "source": [
    "$$q(u)=\\frac{\\sqrt{1-r^2}}{\\sqrt{2\\pi}}e^{-\\frac{u^2}{2(1-r^2)}}+u r e^{-\\frac{u^2}{2}}\\left[1-\\frac{1}{\\sqrt{\\pi}} \\int^{\\infty}\\frac{u r}{\\sqrt{2(1-r^2)}}e^{-\\lambda^2}d\\lambda\\right]\\tag{6.22}$$"
   ]
  },
  {
   "cell_type": "markdown",
   "metadata": {},
   "source": [
    "(r = irregularity factor = $n_0^+/n_p^+$)"
   ]
  },
  {
   "cell_type": "markdown",
   "metadata": {},
   "source": [
    "이 표현은 다음과 같은 형태로도 쓸 수 있다."
   ]
  },
  {
   "cell_type": "markdown",
   "metadata": {},
   "source": [
    "$$q(u)=\\frac{\\sqrt{1-r^2}}{\\sqrt{2\\pi}}e^{-\\frac{u^2}{2(1-r^2}}+\\frac{u r}{2} e^{-\\frac{u^2}{2}}\\left[1+erf\\left(\\frac{u r}{\\sqrt{2(1-r^2)}}\\right)\\right]\\tag{6.23}$$"
   ]
  },
  {
   "cell_type": "markdown",
   "metadata": {},
   "source": [
    "여기서,"
   ]
  },
  {
   "cell_type": "markdown",
   "metadata": {},
   "source": [
    "$$erf(x)=\\frac{2}{\\sqrt{\\pi}}\\int_0^x e^{-\\lambda^2}d\\lambda$$"
   ]
  },
  {
   "cell_type": "markdown",
   "metadata": {},
   "source": [
    "또는,"
   ]
  },
  {
   "cell_type": "markdown",
   "metadata": {},
   "source": [
    "$$q(u)=\\frac{q(u)}{\\sigma_{rms}}=\\frac{\\sqrt{1-r^2}}{\\sigma_{rms}\\sqrt{2\\pi}}e^{-\\frac{\\sigma^2}{2(1-r^2}\\sigma_{rms}^2}+\\frac{r\\sigma}{2\\sigma_{rms}^2} e^{-\\frac{\\sigma^2}{2\\sigma_{rms}^2}}\\left[1+erf\\left(\\frac{r\\sigma}{\\sigma_{rms}\\sqrt{2(1-r^2)}}\\right)\\right]\\tag{6.24}$$"
   ]
  },
  {
   "cell_type": "markdown",
   "metadata": {},
   "source": [
    "식 6.15와 6.24로부터 다음을 유도할 수 있다."
   ]
  },
  {
   "cell_type": "markdown",
   "metadata": {},
   "source": [
    "$$D=\\frac{n_p^+ T}{\\sigma_{rms}}\n",
    "\\int_0^{+\\infty} \n",
    "\\left\\{\n",
    "\\frac{\\sqrt{1-r^2}}{\\sigma_{rms}\\sqrt{2\\pi}}\n",
    "e^{-\\frac{\\sigma^2}{2(1-r^2)\\sigma_{rms}^2}} \n",
    "+ \\frac{r\\sigma}{2\\sigma_{rms}^2} \n",
    "e^{-\\frac{\\sigma^2}{2\\sigma_{rms}^2}}\n",
    "\\left[ 1+erf\\left( \\frac{r \\sigma}{\\sigma_{rms}\\sqrt{2(1-r^2)}} \\right) \\right] \n",
    "\\right\\} \n",
    "\\frac{d\\sigma}{N(\\sigma)} \\tag{6.25}$$"
   ]
  },
  {
   "cell_type": "markdown",
   "metadata": {},
   "source": [
    "$\\sigma=Kz$이고, $N=\\frac{C}{\\sigma^b}$이므로,"
   ]
  },
  {
   "cell_type": "markdown",
   "metadata": {},
   "source": [
    "$$D=\\frac{K^b n_p^+ T}{C z_{rms}}\n",
    "\\int_0^{+\\infty} z_p^b\n",
    "\\left\\{\n",
    "\\frac{\\sqrt{1-r^2}}{\\sqrt{2\\pi}}\n",
    "e^{-\\frac{z_p^2}{2(1-r^2)z_{rms}^2}} \n",
    "+ \\frac{r z_p}{2z_{rms}^2} \n",
    "e^{-\\frac{z_p^2}{2z_{rms}^2}}\n",
    "\\left[ 1+erf\\left( \\frac{r z_p}{z_{rms}\\sqrt{2(1-r^2)}} \\right) \\right] \n",
    "\\right\\} \n",
    "dZ_p \\tag{6.26}$$"
   ]
  },
  {
   "cell_type": "markdown",
   "metadata": {},
   "source": [
    "NOTES"
   ]
  },
  {
   "cell_type": "markdown",
   "metadata": {},
   "source": [
    "1. r 값에 따라 응답의 피크는 Gauss 또는 Rayleight 분포 또는 그 중간 분포를 따른다. Rayleight 분포를 따르는 경우는 낮은 감쇠비를 갖는 경우이며, 그때의 응답은 협대역이고, 정현파의 형태를 띤다. 각 양의 피크는 음의 피크 다음에 발생한다. 모든 저자들은 rms 응렬 크기와 예상 주파수가 주어졌을 때 가장 강한 하중은 (SDOF의 경우) 응답의 피크가 Rayleight 분포를 따르는 경우라고 동의한다."
   ]
  },
  {
   "cell_type": "markdown",
   "metadata": {},
   "source": [
    "Figure 6.2는 $b=10$인 경우 r 값에 따른 $\\int_0^{+\\infty} u^b q(u) du$의 값을 그래프로 보여준다."
   ]
  },
  {
   "cell_type": "code",
   "execution_count": 2,
   "metadata": {},
   "outputs": [],
   "source": [
    "from sympy import *\n",
    "u = Symbol('u')                                                                                                          \n",
    "r = Symbol('r')\n",
    "def q(u,r):\n",
    "    return sqrt((1-r**2)/(2*pi))*exp(-u**2/(2*(1-r**2))) + (u*r/2)*exp(-u**2/2)*(1+erf(u*r/sqrt(2*(1-r**2))));\n",
    "def f(r):\n",
    "    return integrate(q(u,r)*(u**10),  (u,  0, +oo)); \n",
    "#plot(f(r), xlim=[0.01,1], ylim=[0,4e4]);"
   ]
  },
  {
   "cell_type": "code",
   "execution_count": null,
   "metadata": {},
   "outputs": [],
   "source": []
  }
 ],
 "metadata": {
  "kernelspec": {
   "display_name": "Python 3",
   "language": "python",
   "name": "python3"
  }
 },
 "nbformat": 4,
 "nbformat_minor": 4
}
