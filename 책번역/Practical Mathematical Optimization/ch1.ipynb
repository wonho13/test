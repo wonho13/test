{
 "cells": [
  {
   "cell_type": "markdown",
   "metadata": {},
   "source": [
    "## Chapter 1"
   ]
  },
  {
   "cell_type": "markdown",
   "metadata": {},
   "source": [
    "# Introduction"
   ]
  },
  {
   "cell_type": "markdown",
   "metadata": {},
   "source": [
    "### 1.1 수학적 최적화란 무엇인가?"
   ]
  },
  {
   "cell_type": "markdown",
   "metadata": {},
   "source": [
    "수학적 최적화란 다음을 의미한다.\n",
    "\n",
    "(i) 공식을 세우는것\n",
    "\n",
    "(ii) 다음과 같은 형태의 구속조건이 있는 최적화 문제의 해를 구하는것"
   ]
  },
  {
   "cell_type": "markdown",
   "metadata": {},
   "source": [
    "$$\\begin{align}\\min_{w.r.t.\\;x} \n",
    "f(\\mathbf{x}),\n",
    "\\;\\mathbf{x} = [x_1,x_2,\\dots,x_n]^T \\in \\mathbb{R}^n \\end{align}$$"
   ]
  },
  {
   "cell_type": "markdown",
   "metadata": {},
   "source": [
    "구속조건들"
   ]
  },
  {
   "cell_type": "markdown",
   "metadata": {},
   "source": [
    "$$g_j(\\mathbf{x}) \\leq 0,\\;j=1,2,\\dots,m$$\n",
    "\n",
    "$$h_j(\\mathbf{x}) = 0,\\; j=1,2,\\dots,r \\tag{1.1}$$"
   ]
  },
  {
   "cell_type": "markdown",
   "metadata": {},
   "source": [
    "참고로 w.r.t는 with respect to의 약자로 \"~에 대하여\"를 의미한다."
   ]
  },
  {
   "cell_type": "markdown",
   "metadata": {},
   "source": [
    "$f(\\mathbf{x}),\\; g_j(\\mathbf{x}), \\;h_j(\\mathbf{x})$는 실수벡터 $\\mathbf{x}$에 대한 스칼라 함수이다."
   ]
  },
  {
   "cell_type": "markdown",
   "metadata": {},
   "source": [
    "$\\mathbf{x}=[x_1,x_2,\\dots,x_n]^T$의 연속적인 성분인 $x_i$는 (설계)변수라고 하며, $f(\\mathbf{x})$는 목적함수, $g_j(\\mathbf{x})$는 부등구속함수, $h_j(\\mathbf{x})$는 동등구속함수라고 한다."
   ]
  },
  {
   "cell_type": "markdown",
   "metadata": {},
   "source": [
    "문제 (1.1)을 풀어 계산된 최적의 벡터 $\\mathbf{x}$를 $\\mathbf{x}^*$로 표기하며, 그에 해당하는 최적의 함수 값을 $f(\\mathbf{x}^*)$로 표기한다. 구족조건이 없는 경우 이 문제를 \"구속되지 않은 최소화 문제\"라고 한다."
   ]
  },
  {
   "cell_type": "markdown",
   "metadata": {},
   "source": [
    "수학적 최적화는 비선형프로그래밍, 수학적프로그래밍, 수치최적화 등으로도 불린다. 더 일반적인 용어로써의 수하적 최적화는 물리적 현상, 생산공정, 경영시스템 등의 최적의 해를 찾는 문제를 의미한다. 첫번째 경우의 해는 최소한의 에너지로 무언가를 생산 해내는 것을 의미하며 과학 및 공학 분야에서 적용된다. 두번째 경우는 상업이나 제정적인 경우로 경제와 연관되며 최소한의 비용으로 최고의 이득을 얻어내도록 결정하는 과정을 의미하게 된다."
   ]
  },
  {
   "cell_type": "markdown",
   "metadata": {},
   "source": [
    "다양한 변수를 고려하는 수학적 최적화의 역사는 그리 오래 되지 않았으며, 약 70년 정도가 된다. 1940년대 말에 선형프로그래밍 문제의 특수한 경우를 풀기위한 매우 중요하고 단순한 뱡법이 개발되었다. 그 이후로 일반적인 형태인 식(1.1)을 풀기위한 다양한 방법들이 개발되고 시험되어 많은 중요한 과학 및 경제 분야 적용되어오고 있다."
   ]
  },
  {
   "cell_type": "markdown",
   "metadata": {},
   "source": [
    "컴퓨터의 등장으로 인해 이러한 최적화 방법들이 더욱 발전하였다. 하지만 모든 최적화 문제를 푸는 방법은 없다. Nocedal과 Wright (1999)에 따르면 \"... 수많은 알고리즘들이 있고, 각 알고리즘들은 특정 종류의 최적화 문제에 적합하게 개발된 것이다.  사용하기에 적합한 최적화 알고리즘을 고르는 것은 사용자의 몫이다. 이 선택은 중요하다.  이 선택에 따라 문제가 빨리 풀릴지, 느리게 풀릴지가 결정되며, 해가 찾아질지 안찾아 질지도 결정되기 때문이다.\" 이와 유사하게 Vanderplatts (1998)은 다음과 같이 말했다. \"각 알고리즘의 개발자들은 그 방법의 정확성 및 효율서을 보여줄 수 있는 수치 예제들을 가지고 있다. 그리고 의심이 없는 실무자들은 종종 알고리즘이 특정 문제를 해결하지 못한다는 것을 찾는데 많은 시간과 노력을 쏟는다. 이는 사용자가 수치 최적화에 대한 기본적인 개념을 알고 있으면 피할 수 있는 상황이다.\" 이러한 대표적이고 권위있는 의견들을 포함, 알고리즘을 개발할 때 저자가 겪은 경험을 고려하여 간략하면서도 통합적인 최적화 개념 및 방법에 대한 소개를 위해 이 책을 쓰게 되었다.  그리고 저자와 저자의 학생들 (Pretoria 대학)이 지난 13년간 개발한 알고리즘들에 대해서도 소개할 것이다.   "
   ]
  },
  {
   "cell_type": "code",
   "execution_count": null,
   "metadata": {},
   "outputs": [],
   "source": []
  }
 ],
 "metadata": {
  "kernelspec": {
   "display_name": "Python 3",
   "language": "python",
   "name": "python3"
  },
  "language_info": {
   "codemirror_mode": {
    "name": "ipython",
    "version": 3
   },
   "file_extension": ".py",
   "mimetype": "text/x-python",
   "name": "python",
   "nbconvert_exporter": "python",
   "pygments_lexer": "ipython3",
   "version": "3.7.4"
  }
 },
 "nbformat": 4,
 "nbformat_minor": 2
}
