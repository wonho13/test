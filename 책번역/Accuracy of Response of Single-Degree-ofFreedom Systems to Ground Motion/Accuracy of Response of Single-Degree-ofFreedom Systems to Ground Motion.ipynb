{
 "cells": [
  {
   "cell_type": "markdown",
   "id": "dad6a323",
   "metadata": {},
   "source": [
    "## 1. 지반 거동에 대한 단자유도 시스템 응답의 정확성"
   ]
  },
  {
   "cell_type": "markdown",
   "id": "748ae70a",
   "metadata": {},
   "source": [
    "### 1.0 개요"
   ]
  },
  {
   "cell_type": "markdown",
   "id": "d058ce92",
   "metadata": {},
   "source": [
    "본 보고서는 구조 동역학을 계산하는데 사용되는 6가지의 수치계산 절차에 대해 평가해보고 그 결과를 요약한다. 본 연구에서 사용된 6가지 방법은 시간이력에대한 구조물의 응답을 계산하는데 사용되는 대표적인 수치계산법들이다. 본 연구에서 고려하는 하중 시간이력은 기저가진이며, 지반 가속도 시간이력으로 표현된다. 본 연구에서 사용된 각 구조모델의 동적 응답은 가속도, 속도, 변위 시간이력으로 나타난다."
   ]
  },
  {
   "cell_type": "markdown",
   "id": "12939a95",
   "metadata": {},
   "source": [
    "본 연구에서 사용된 구조모델은 선형 단자유도 시스템이다. 단자유도 시스템의 비감쇠 고유진동수는 댐과같은 수력계통 구조물의 주요 모드들을 고려하여 결정하였다. 본 연구에서 사용된 하중 함수는 단일주파수 조화함수이다. 단일 주파수를 사용하면 지반 거동을 받는 동안 균일한 시간간격 하에서 계산한 응답의 정확성을 평가할 수 있다."
   ]
  },
  {
   "cell_type": "markdown",
   "id": "ab3fc3fb",
   "metadata": {},
   "source": [
    "본 연구에서 사용한 시간간격 $\\Delta t$는 0.01, 0.02, 0.05초 이다. 이 시간간격들은 강진이 발생한 현장에서 기록된 지진들의 가속도 시간이력을 이산화하는데 주로 사용되는 값들이다."
   ]
  },
  {
   "cell_type": "markdown",
   "id": "3cefd1ae",
   "metadata": {},
   "source": [
    "### 1.1 시간영역 응답을 계산하는 6가지 방법"
   ]
  },
  {
   "cell_type": "markdown",
   "id": "557fe4b9",
   "metadata": {},
   "source": [
    "본 연구에서 사용된 6가지 계산 방법으로는 Newmark $\\beta$ method (linear acceleration method에 해당 하는 $\\gamma$, $\\beta$ 상수값을 사용하였음), Wilson $\\theta$ method, Central difference method, 4th order Runge-Kutta method, piecewise exact method를 사용한 Duhamel's integral, Piecewise exact method 직접 적용이다. 모든 방법들은 이산형태 (즉, 하중 및 응답의 시간이력은 특정 시간간격으로 이산화됨)이며, 따라서 이 방법들은 step-by-step 절차이다."
   ]
  },
  {
   "cell_type": "markdown",
   "id": "68e84b73",
   "metadata": {},
   "source": [
    "여기서 사용된 6가지 방법은 운동 미분방정식을 만족시키는 접근법에 따라 크게 2개 그룹으로 분류할 수 있다. 첫번째 그룹은 piecewise exact 방법으로 Duhamel적분을 푸는 방법과 piecewise exact method 직접적용이다. 이 두가지 방법은 시간에 대한 하중함수가 특정 형태임을 가정(즉, 각 시간 간격마다 하중이 직선 형태임으로 가정)하여 그에 대한 운동방정식은 정확한 해(exaxt solution)를 구한다. 두번째 그룹은 Newmark $\\beta$ method, Wilson $\\theta$ method, Central difference method, 4th order Runge-Kutta method이다. 이 방법들은 수치방법으로 불린다. 왜냐하면 각 시간 간격마다 주어진 하중에 대하여 운동방정식을 대략적으로 만족시키기 때문이다. Newmark $\\beta$ method, Wilson $\\theta$ method, 4th order Runge-Kutta method는 수치적분(numerical integration)을 사용하며, Central Difference Method는 수치미분(numerical differentiation)을 사용한다."
   ]
  },
  {
   "cell_type": "markdown",
   "id": "5204ae22",
   "metadata": {},
   "source": [
    "### 1.2 직접적분법"
   ]
  },
  {
   "cell_type": "markdown",
   "id": "88683a64",
   "metadata": {},
   "source": []
  }
 ],
 "metadata": {
  "kernelspec": {
   "display_name": "Python 3 (ipykernel)",
   "language": "python",
   "name": "python3"
  },
  "language_info": {
   "codemirror_mode": {
    "name": "ipython",
    "version": 3
   },
   "file_extension": ".py",
   "mimetype": "text/x-python",
   "name": "python",
   "nbconvert_exporter": "python",
   "pygments_lexer": "ipython3",
   "version": "3.9.7"
  }
 },
 "nbformat": 4,
 "nbformat_minor": 5
}
