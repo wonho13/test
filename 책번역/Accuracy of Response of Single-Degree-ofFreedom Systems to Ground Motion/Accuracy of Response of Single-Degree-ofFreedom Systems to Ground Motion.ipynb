{
 "cells": [
  {
   "cell_type": "markdown",
   "metadata": {},
   "source": [
    "## 1. 지반 거동에 대한 단자유도 시스템 응답의 정확성"
   ]
  },
  {
   "cell_type": "markdown",
   "metadata": {},
   "source": [
    "### 1.0 개요"
   ]
  },
  {
   "cell_type": "markdown",
   "metadata": {},
   "source": [
    "본 보고서는 구조 동역학을 계산하는데 사용되는 6가지의 수치계산 절차에 대해 평가해보고 그 결과를 요약한다. 본 연구에서 사용된 6가지 방법은 시간이력에대한 구조물의 응답을 계산하는데 사용되는 대표적인 수치계산법들이다. 본 연구에서 고려하는 하중 시간이력은 기저가진이며, 지반 가속도 시간이력으로 표현된다. 본 연구에서 사용된 각 구조모델의 동적 응답은 가속도, 속도, 변위 시간이력으로 나타난다."
   ]
  },
  {
   "cell_type": "markdown",
   "metadata": {},
   "source": [
    "본 연구에서 사용된 구조모델은 선형 단자유도 시스템이다. 단자유도 시스템의 비감쇠 고유진동수는 댐과같은 수력계통 구조물의 주요 모드들을 고려하여 결정하였다. 본 연구에서 사용된 하중 함수는 단일주파수 조화함수이다. 단일 주파수를 사용하면 지반 거동을 받는 동안 균일한 시간간격 하에서 계산한 응답의 정확성을 평가할 수 있다."
   ]
  },
  {
   "cell_type": "markdown",
   "metadata": {},
   "source": [
    "본 연구에서 사용한 시간간격 $\\Delta t$는 0.01, 0.02, 0.05초 이다. 이 시간간격들은 강진이 발생한 현장에서 기록된 지진들의 가속도 시간이력을 이산화하는데 주로 사용되는 값들이다."
   ]
  },
  {
   "cell_type": "markdown",
   "metadata": {},
   "source": [
    "### 1.1 시간영역 응답을 계산하는 6가지 방법"
   ]
  },
  {
   "cell_type": "markdown",
   "metadata": {},
   "source": [
    "본 연구에서 사용된 6가지 계산 방법으로는 Newmark $\\beta$ method (linear acceleration method에 해당 하는 $\\gamma$, $\\beta$ 상수값을 사용하였음), Wilson $\\theta$ method, Central difference method, 4th order Runge-Kutta method, piecewise exact method를 사용한 Duhamel's integral, Piecewise exact method 직접 적용이다. 모든 방법들은 이산형태 (즉, 하중 및 응답의 시간이력은 특정 시간간격으로 이산화됨)이며, 따라서 이 방법들은 step-by-step 절차이다."
   ]
  },
  {
   "cell_type": "markdown",
   "metadata": {},
   "source": [
    "여기서 사용된 6가지 방법은 운동 미분방정식을 만족시키는 접근법에 따라 크게 2개 그룹으로 분류할 수 있다. 첫번째 그룹은 piecewise exact 방법으로 Duhamel적분을 푸는 방법과 piecewise exact method 직접적용이다. 이 두가지 방법은 시간에 대한 하중함수가 특정 형태임을 가정(즉, 각 시간 간격마다 하중이 직선 형태임으로 가정)하여 그에 대한 운동방정식은 정확한 해(exaxt solution)를 구한다. 두번째 그룹은 Newmark $\\beta$ method, Wilson $\\theta$ method, Central difference method, 4th order Runge-Kutta method이다. 이 방법들은 수치방법으로 불린다. 왜냐하면 각 시간 간격마다 주어진 하중에 대하여 운동방정식을 대략적으로 만족시키기 때문이다. Newmark $\\beta$ method, Wilson $\\theta$ method, 4th order Runge-Kutta method는 수치적분(numerical integration)을 사용하며, Central Difference Method는 수치미분(numerical differentiation)을 사용한다."
   ]
  },
  {
   "cell_type": "markdown",
   "metadata": {},
   "source": [
    "### 1.2 직접적분법"
   ]
  },
  {
   "cell_type": "markdown",
   "metadata": {},
   "source": []
  },
  {
   "cell_type": "markdown",
   "metadata": {},
   "source": [
    "### 2.2 Newmark $\\beta$ Method"
   ]
  },
  {
   "cell_type": "markdown",
   "metadata": {},
   "source": [
    "Newmark $\\beta$ Method는 다음 식을 기반으로 한다."
   ]
  },
  {
   "cell_type": "markdown",
   "metadata": {},
   "source": [
    "$$\\dot{x}_{i+1}=\\dot{x}_{i}+[(1-\\gamma)\\Delta t]\\ddot{x}_i+(\\gamma\\Delta t)\\ddot{x}_{i+1}\\tag{11}$$"
   ]
  },
  {
   "cell_type": "markdown",
   "metadata": {},
   "source": [
    "$$x_{i+1}=x_i+(\\Delta t)\\dot{x}_i+[(0.5-\\beta)\\Delta t^2]\\ddot{x}_i+(\\beta\\Delta t^2)\\ddot{x}_{i+1}\\tag{12}$$"
   ]
  },
  {
   "cell_type": "markdown",
   "metadata": {},
   "source": [
    "여기서 변수 $\\beta$와 $\\gamma$는 각 시간간격 사이에서 가속도 응답의 변화를 정의하며, 이 방법의 안정성 및 정확성을 조절한다. 보통 $\\gamma$값은 1/2로 설정하며, 이는 인공 감쇠가 없는조건에 해당한다. 그리고 보통 $\\beta$값은 1/6 ~ 1/4 사이값으로 설정한다. 본 연구에서는 $\\gamma$=1/2,$\\beta$=1/6으로 설정하였으며, 이는 선형가속도방법에 해당한다. 원래 1959년 버전의 방법은 식11, 12를 위한 반복작업이 필요했다. 하지만 이러한 반복작업이 불필요하게 변경가능하다. 본 장에서는 이러한 변경식을 기술한다."
   ]
  },
  {
   "cell_type": "markdown",
   "metadata": {},
   "source": [
    "다음의 정의를 "
   ]
  },
  {
   "cell_type": "markdown",
   "metadata": {},
   "source": [
    "$$\\Delta x_i= x_{i+1}-x_i$$"
   ]
  },
  {
   "cell_type": "markdown",
   "metadata": {},
   "source": [
    "$$\\Delta \\dot{x}_i= \\dot{x}_{i+1}-\\dot{x}_i$$"
   ]
  },
  {
   "cell_type": "markdown",
   "metadata": {},
   "source": [
    "$$\\Delta \\ddot{x}_i= \\ddot{x}_{i+1}-\\ddot{x}_i$$"
   ]
  },
  {
   "cell_type": "markdown",
   "metadata": {},
   "source": [
    "$$\\Delta P_i= P_{i+1}-P_i$$"
   ]
  },
  {
   "cell_type": "markdown",
   "metadata": {},
   "source": [
    "식11, 12에 대입하면 식13, 14가된다."
   ]
  },
  {
   "cell_type": "markdown",
   "metadata": {},
   "source": [
    "$$\\Delta\\dot{x}_i=\\Delta t\\ddot{x}_i+\\gamma\\Delta t \\Delta\\ddot{x}_i\\tag{14}$$"
   ]
  },
  {
   "cell_type": "markdown",
   "metadata": {},
   "source": [
    "$$\\Delta x_i=\\Delta t \\dot{x}_i+\\frac{\\Delta t^2}{2}\\ddot{x}_i+\\beta\\Delta t^2\\Delta\\ddot{x}_i\\tag{15}$$"
   ]
  },
  {
   "cell_type": "markdown",
   "metadata": {},
   "source": [
    "식15를 $\\Delta \\ddot{x}_i$에 대해 정리하면 다음과 같다."
   ]
  },
  {
   "cell_type": "markdown",
   "metadata": {},
   "source": [
    "$$\\Delta \\ddot{x}_i=\\frac{1}{\\beta \\Delta t^2}\\Delta x_i - \\frac{1}{\\beta\\Delta t} \\dot{x}_i-\\frac{1}{2\\beta}\\ddot{x}_i\\tag{16}$$"
   ]
  },
  {
   "cell_type": "markdown",
   "metadata": {},
   "source": [
    "식16을 식14의 마지막 항에 대입하면 다음과 같다."
   ]
  },
  {
   "cell_type": "markdown",
   "metadata": {},
   "source": [
    "$$\\Delta \\dot{x}_i=\\frac{\\gamma}{\\beta \\Delta t} \\Delta x_i - \\frac{\\gamma}{\\beta}\\dot{x}_i + \\Delta t \\left( 1 -\\frac{\\gamma}{2\\beta} \\right) \\ddot{x}_i\\tag{17}$$"
   ]
  },
  {
   "cell_type": "markdown",
   "metadata": {},
   "source": [
    "식3과 식13을 통해 증가 운동방정식(식18)을 유도할 수 있다."
   ]
  },
  {
   "cell_type": "markdown",
   "metadata": {},
   "source": [
    "$$m\\Delta \\ddot{x}_i+c \\Delta \\dot{x}_i+ k\\Delta x_i= \\Delta P_i\\tag{18}$$"
   ]
  },
  {
   "cell_type": "markdown",
   "metadata": {},
   "source": [
    "식 16과 17을 증가방정식인 식18에 대입하면 다음과 같다."
   ]
  },
  {
   "cell_type": "markdown",
   "metadata": {},
   "source": [
    "$$\\left(k+c\\frac{\\gamma}{\\beta \\Delta t } + m \\frac{1}{\\beta \\Delta t^2} \\right) \\Delta x_i=\\Delta P_i+\\left(\\frac{1}{\\beta\\Delta t}m+\\frac{\\gamma}{\\beta}c\\right)\\dot{x}_i+\\left[\\frac{1}{2\\beta}m+\\Delta t \\left(\\frac{\\gamma}{2\\beta}-1\\right)c\\right]\\ddot{x}_i\\tag{19}$$"
   ]
  },
  {
   "cell_type": "markdown",
   "metadata": {},
   "source": [
    "식19는 다음과 같이 쓸 수 있다."
   ]
  },
  {
   "cell_type": "markdown",
   "metadata": {},
   "source": [
    "$$\\bar{k}\\Delta x_i=\\Delta \\bar{P_i}\\tag{20}$$"
   ]
  },
  {
   "cell_type": "markdown",
   "metadata": {},
   "source": [
    "여기서 $\\bar{k}$는 유효강성으로 부른다."
   ]
  },
  {
   "cell_type": "markdown",
   "metadata": {},
   "source": [
    "$$\\bar{k}=k+c\\frac{\\gamma}{\\beta\\Delta t}+m\\frac{1}{\\beta\\Delta t^2}\\tag{21}$$"
   ]
  },
  {
   "cell_type": "markdown",
   "metadata": {},
   "source": [
    "그리고 $\\Delta \\bar{P_i}$는 유효증가하중이라고 부른다."
   ]
  },
  {
   "cell_type": "markdown",
   "metadata": {},
   "source": [
    "$$\\Delta \\bar{P_i}=\\Delta P_i+\\left(\\frac{1}{\\beta \\Delta t} m+\\frac{\\gamma}{\\beta}c\\right)\\dot{x}_i+\\left[\\frac{1}{2\\beta}m+\\Delta t \\left(\\frac{\\gamma}{2\\beta}-1\\right)c\\right]\\ddot{x}_i\\tag{22}$$"
   ]
  },
  {
   "cell_type": "markdown",
   "metadata": {},
   "source": [
    "시간 $t_i$에서 $t_{i+1}$사이에서의 변위 증가량 $\\Delta x_i$는 식20을 정리하여 다음과 같이 구할 수 있다. "
   ]
  },
  {
   "cell_type": "markdown",
   "metadata": {},
   "source": [
    "$$\\Delta x_i=\\frac{\\Delta \\bar{P_i}}{\\bar{k}}\\tag{23}$$"
   ]
  },
  {
   "cell_type": "markdown",
   "metadata": {},
   "source": [
    "$\\Delta x_i$를 구한 후 식 17, 16을 사용해 속도 증가량 $\\Delta \\dot{x}_i$와 가속도 증가량 $\\Delta \\ddot{x}_i$를 구할 수 있다. 식 13을 정리하고 속도, 가속도 변화량을 대입하여 시간 $t_{i+1}$에서의 속도, 가속도 값을 구할 수 있다."
   ]
  },
  {
   "cell_type": "markdown",
   "metadata": {},
   "source": [
    "$$\\dot{x}_{i+1}=\\dot{x}_i+\\Delta \\dot{x}_i$$"
   ]
  },
  {
   "cell_type": "markdown",
   "metadata": {},
   "source": [
    "$$\\ddot{x}_{i+1}=\\ddot{x}_i+\\Delta \\ddot{x}_i\\tag{24}$$"
   ]
  },
  {
   "cell_type": "markdown",
   "metadata": {},
   "source": [
    "$\\beta$값과 $\\gamma$값에 따라 다양한 종류의 Newmark $\\beta$ method가 있다. $\\beta$는 1/2, $\\gamma$는 1/6로 설정한 경우는 선형가속도법이 된다. "
   ]
  },
  {
   "cell_type": "markdown",
   "metadata": {},
   "source": [
    "### 2 3 Wilson $\\theta$ Method"
   ]
  },
  {
   "cell_type": "markdown",
   "metadata": {},
   "source": [
    "Newmark $\\beta$ Method는 다양한 곳에 사용 가능하고, 정확하지만 선형가속도법으로 사용되는 경우 특정 조건에서만 안정하다. 즉, 시간간격 $\\Delta t$가 특정 기준보다 짧아야 해가 안정하다. (이 불안정성은 선형가속도법에만 국한된것임) Wilson $\\theta$ method는 $\\theta \\geq 1.37$인 경우 선형가속도법이 시간간격의 크기와 상관없이 무조건 안정적으로 되게 한 형태이다. Wilson이 적용한 변경사항은, 가속도 응답이 증가된 시간간격인 $t$에서 $t+\\theta \\Delta t$ 사이($\\theta>0$)에서 선형으로 거동한다는 가정이다. $\\theta=1.0$이면 $\\beta=1/6$, $\\gamma=1/2$인 Newmark $\\beta$ method와 동일하다."
   ]
  },
  {
   "cell_type": "markdown",
   "metadata": {},
   "source": [
    "시간 $t_i$와 $t_i+\\theta \\Delta t$에서 단자유도 시스템의 평형기준을 써보면 다음과 같다."
   ]
  },
  {
   "cell_type": "markdown",
   "metadata": {},
   "source": [
    "$$f_i(t_i)+f_c(t_i)+f_k(t_i)=P(t_i)\\tag{25}$$"
   ]
  },
  {
   "cell_type": "markdown",
   "metadata": {},
   "source": [
    "$$f_i(t_i+\\theta \\Delta t)+f_c(t_i+\\theta \\Delta t)+f_k(t_i+\\theta \\Delta t)=P(t_i+\\theta \\Delta t)\\tag{26}$$"
   ]
  },
  {
   "cell_type": "markdown",
   "metadata": {},
   "source": [
    "식26에서 식25를 빼면 다음과 같다."
   ]
  },
  {
   "cell_type": "markdown",
   "metadata": {},
   "source": [
    "$$\\hat{\\Delta}f_i+\\hat{\\Delta}f_c+\\hat{\\Delta}f_k=\\hat{\\Delta}P\\tag{27}$$"
   ]
  },
  {
   "cell_type": "markdown",
   "metadata": {},
   "source": [
    "여기서 $\\hat{\\Delta}f_i=f_i(t_i+\\theta\\Delta t)-f_i(t_i)\\tag{28}$"
   ]
  },
  {
   "cell_type": "markdown",
   "metadata": {},
   "source": [
    "확장된 시간간격에 대한 증가 형태를 다음과같이 쓸 수 있다."
   ]
  },
  {
   "cell_type": "markdown",
   "metadata": {},
   "source": [
    "$$\\hat{\\Delta}f_i=m\\hat{\\Delta}\\ddot{x},\\;\\;\\hat{\\Delta}f_c=c\\hat{\\Delta}\\dot{x},\\;\\;\\hat{\\Delta}f_k=k\\hat{\\Delta}x\\tag{29}$$"
   ]
  },
  {
   "cell_type": "markdown",
   "metadata": {},
   "source": [
    "여기서,"
   ]
  },
  {
   "cell_type": "markdown",
   "metadata": {},
   "source": [
    "$$\\hat{\\Delta}x_i = x(t_i+\\theta\\Delta t) - x(t_i)\\tag{30}$$"
   ]
  },
  {
   "cell_type": "markdown",
   "metadata": {},
   "source": [
    "확장된 시간간격에 대한 운동 방정식은 다음과 같이 된다."
   ]
  },
  {
   "cell_type": "markdown",
   "metadata": {},
   "source": [
    "$$m\\hat{\\Delta}\\ddot{x}_i+c\\hat{\\Delta}\\dot{x}_i+k\\hat{\\Delta}x_i=\\hat{\\Delta}P_i\\tag{31}$$"
   ]
  },
  {
   "cell_type": "markdown",
   "metadata": {},
   "source": [
    "확장된 시간 간격 $t$에서 $t+\\theta\\Delta t$사이에서 응답 가속도가 선형 거동을 한다고 가정하면,"
   ]
  },
  {
   "cell_type": "markdown",
   "metadata": {},
   "source": [
    "$$\\ddot{x}(t)=\\ddot{x}_i + \\frac{\\hat{\\Delta}\\ddot{x}_i}{\\theta\\Delta t}(t-t_i)\\;\\;for\\;\\;t_i\\leq t\\leq t_i+\\theta\\Delta t\\tag{32}$$"
   ]
  },
  {
   "cell_type": "markdown",
   "metadata": {},
   "source": [
    "응답 속도 및 변위는 다음과 같이 된다."
   ]
  },
  {
   "cell_type": "markdown",
   "metadata": {},
   "source": [
    "$$\\dot{x}(t)=\\dot{x}_i + \\ddot{x}_i (t-t_i)+\\frac{1}{2}\\frac{\\hat{\\Delta}\\ddot{x}_i}{\\theta\\Delta t}(t-t_i)^2\\tag{33}$$"
   ]
  },
  {
   "cell_type": "markdown",
   "metadata": {},
   "source": [
    "$$x(t)=x_i + \\dot{x}_i(t-t_i)+\\frac{1}{2}\\ddot{x}_i(t-t_i)^2+\\frac{1}{6}\\frac{\\hat{\\Delta}\\ddot{x}_i}{\\theta\\Delta t}(t-t_i)^3 \\tag{34}$$"
   ]
  },
  {
   "cell_type": "markdown",
   "metadata": {},
   "source": [
    "시간 $t_i$와 $t_i+\\theta\\Delta t$에서의 응답 속도 (식 33)을 계산해 보면 다음과 같다."
   ]
  },
  {
   "cell_type": "markdown",
   "metadata": {},
   "source": [
    "$$\\dot{x}(t_i)=\\dot{x}_i\\tag{35}$$"
   ]
  },
  {
   "cell_type": "markdown",
   "metadata": {},
   "source": [
    "$$\\dot{x}(t_i+\\theta\\Delta t)=\\dot{x}_i + \\ddot{x}_i \\theta \\Delta t + \\frac{1}{2}\\hat{\\Delta}\\ddot{x}_i \\tag{36}$$"
   ]
  },
  {
   "cell_type": "markdown",
   "metadata": {},
   "source": [
    "식 35에서 식 36을 빼면 확장된 구간에서의 응답 속도를 계산할 수 있다."
   ]
  },
  {
   "cell_type": "markdown",
   "metadata": {},
   "source": [
    "$$\\hat{\\Delta}\\dot{x}_i = \\ddot{x}_i \\theta \\Delta t + \\frac{1}{2}\\hat{\\Delta}\\ddot{x}_i \\theta \\Delta t\\tag{37}$$"
   ]
  },
  {
   "cell_type": "markdown",
   "metadata": {},
   "source": [
    "비슷한 방법으로, 확장된 구간에서의 응답 변위는 다음과 같이 결정된다."
   ]
  },
  {
   "cell_type": "markdown",
   "metadata": {},
   "source": [
    "$$\\hat{\\Delta}x = \\dot{x}_i \\theta \\Delta t + \\frac{1}{2}\\ddot{x}_i (\\theta\\Delta t)^2 + \\frac{1}{6} \\hat{\\Delta}\\ddot{x}_i (\\theta \\Delta t)^2 \\tag{38}$$"
   ]
  },
  {
   "cell_type": "markdown",
   "metadata": {},
   "source": [
    "식 38을 확장된 구간에서의 응답 가속도에 대하여 풀면 다음과 같다."
   ]
  },
  {
   "cell_type": "markdown",
   "metadata": {},
   "source": [
    "$$\\hat{\\Delta}\\ddot{x}_i = \\frac{6}{(\\theta \\Delta)^2}\\hat{\\Delta}x_i - \\frac{6}{(\\theta\\Delta t)}\\dot{x}_i - 3 \\ddot{x}_i\\tag{39}$$"
   ]
  },
  {
   "cell_type": "markdown",
   "metadata": {},
   "source": [
    "식 39를 식 37의 마지막 항에 대입하면 다음과 같다."
   ]
  },
  {
   "cell_type": "markdown",
   "metadata": {},
   "source": [
    "$$\\hat{\\Delta}\\dot{x}_i = \\frac{3}{\\theta\\Delta t} \\hat{\\Delta}x_i - 3 \\dot{x}_i - \\frac{\\theta \\Delta t}{2}\\ddot{x}_i\\tag{40}$$"
   ]
  },
  {
   "cell_type": "markdown",
   "metadata": {},
   "source": [
    "식 39와 식 40을 식 31에 대입하면 다음과 같다."
   ]
  },
  {
   "cell_type": "markdown",
   "metadata": {},
   "source": [
    "$$\\left(k + \\frac{6}{\\theta \\Delta t}m + \\frac{3}{\\theta \\Delta t}c\\right)\\hat{\\Delta} x_i = \\hat{\\Delta} P_i + m\\left(\\frac{6}{\\theta\\Delta t}\\dot{x}_i + 3\\ddot{x}_i\\right)+c\\left(3\\dot{x}_i + \\frac{\\theta \\Delta t}{2}\\ddot{x}_i\\right)\\tag{41}$$"
   ]
  },
  {
   "cell_type": "markdown",
   "metadata": {},
   "source": [
    "식 41은 다음과 같이 표현할 수 있다."
   ]
  },
  {
   "cell_type": "markdown",
   "metadata": {},
   "source": [
    "$$\\bar{k} \\hat{\\Delta}x_i = \\hat{\\Delta}\\bar{P_i}\\tag{42}$$"
   ]
  },
  {
   "cell_type": "markdown",
   "metadata": {},
   "source": [
    "여기서 $\\bar{k}$는 유효강성이며, 다음과 같이 정의된다."
   ]
  },
  {
   "cell_type": "markdown",
   "metadata": {},
   "source": [
    "$$\\bar{k} = k + \\frac{6}{\\theta \\Delta t}m + \\frac{3}{\\theta \\Delta t}c \\tag{43}$$"
   ]
  },
  {
   "cell_type": "markdown",
   "metadata": {},
   "source": [
    "$\\Delta \\bar{P_i}$는 유효증가하중이고 다음과 같이 정의된다."
   ]
  },
  {
   "cell_type": "markdown",
   "metadata": {},
   "source": [
    "$$\\hat{\\Delta}\\bar{P_i}=\\hat{\\Delta}P_i + m\\left(\\frac{6}{\\theta \\Delta t}\\dot{x}_i + 3 \\ddot{x}_i\\right) +c\\left(3\\dot{x}_i + \\frac{\\theta \\Delta t}{2}\\ddot{x}_i\\right)\\tag{44}$$"
   ]
  },
  {
   "cell_type": "markdown",
   "metadata": {},
   "source": [
    "확장된 변위 증가량은 다음과 같이 구할 수 있다."
   ]
  },
  {
   "cell_type": "markdown",
   "metadata": {},
   "source": [
    "$$\\hat{\\Delta}x_i = \\frac{\\hat{\\Delta}\\bar{P_i}}{\\bar{k_i}}\\tag{45}$$"
   ]
  },
  {
   "cell_type": "markdown",
   "metadata": {},
   "source": [
    "확장된 변위 증가량을 알게되면 식 39를 사용해 확장된 가속도 변화량을 구할 수 있다. 가속도 증가량과 확장된 가속도 증가량의 관계는 식 46과 같다."
   ]
  },
  {
   "cell_type": "markdown",
   "metadata": {},
   "source": [
    "$$\\Delta\\ddot{x}_i = \\frac{\\hat{\\Delta}\\ddot{x}_i}{\\theta}\\tag{46}$$"
   ]
  },
  {
   "cell_type": "markdown",
   "metadata": {},
   "source": [
    "다음 식들을 통해 속도 및 변위 증가량, 변위, 속도, 가속도를 계산할 수 있다."
   ]
  },
  {
   "cell_type": "markdown",
   "metadata": {},
   "source": [
    "$$\\Delta\\dot{x}_i = \\ddot{x}_i\\Delta t + \\frac{1}{2}\\Delta \\ddot{x}_i \\Delta t\\tag{47}$$"
   ]
  },
  {
   "cell_type": "markdown",
   "metadata": {},
   "source": [
    "$$\\Delta x_i = \\dot{x}_i \\Delta t + \\frac{1}{2}\\ddot{x}_i \\Delta t^2 + \\frac{1}{6}\\Delta \\ddot{x}_i\\Delta t^2\\tag{48}$$"
   ]
  },
  {
   "cell_type": "markdown",
   "metadata": {},
   "source": [
    "$$x_{i+1} = x_i + \\Delta x_i \\tag{49}$$"
   ]
  },
  {
   "cell_type": "markdown",
   "metadata": {},
   "source": [
    "$$\\dot{x}_{i+1}=\\dot{x}_i + \\Delta \\dot{x}_i\\tag{50}$$"
   ]
  },
  {
   "cell_type": "markdown",
   "metadata": {},
   "source": [
    "$$\\ddot{x}_{i+1} = \\frac{1}{m}(P_{i+1} - c\\dot{x}_{i+1} - k x_{i+1})\\tag{51}$$"
   ]
  },
  {
   "cell_type": "markdown",
   "metadata": {},
   "source": [
    "### 2.4 Central Difference Method"
   ]
  },
  {
   "cell_type": "markdown",
   "metadata": {},
   "source": [
    "중앙차분법은 변위의 시간 미분들(즉, 속도, 가속도)에 대한 유한한 차분 추정을 기반으로 한다. 시간 $t_i$에서 속도 및 가속도에 대한 중앙 차분 표현은 다음과 같다."
   ]
  },
  {
   "cell_type": "markdown",
   "metadata": {},
   "source": [
    "$$\\dot{x}_i = \\frac{x_{i+1}-x_{i-1}}{2\\Delta t}$$"
   ]
  },
  {
   "cell_type": "markdown",
   "metadata": {},
   "source": [
    "$$ \\ddot{x}_i = \\frac{x_{i+1}-2x_i + x_{t-1}}{\\Delta t^2}\\tag{52}$$"
   ]
  },
  {
   "cell_type": "markdown",
   "metadata": {},
   "source": [
    "여기서 $t_i=0$일 때의 초기 응답 값 $x_0$ 및 $\\dot{x}_0$의 값을 알고 있다고 가정되며, $x_{-1}$는 다음과 같이 주어진다."
   ]
  },
  {
   "cell_type": "markdown",
   "metadata": {},
   "source": [
    "$$x_{-1} = x_0 - \\Delta t \\dot{x}_0 + \\frac{\\Delta t^2}{2}\\ddot{x}_0\\tag{53}$$"
   ]
  },
  {
   "cell_type": "markdown",
   "metadata": {},
   "source": [
    "식 52를 식 3에 대입하면 이산화 형태의 운동 방정식을 다음과 같이 쓸 수 있다."
   ]
  },
  {
   "cell_type": "markdown",
   "metadata": {},
   "source": [
    "$$m\\frac{x_{i+1}-2x_i+x_{i-1}}{\\Delta t^2} + c \\frac{x_{i+1}-x_{i-1}}{2\\Delta t}+ kx_i = P_i\\tag{54}$$"
   ]
  },
  {
   "cell_type": "markdown",
   "metadata": {},
   "source": [
    "식 54는 다음과 같이 쓸수도 있다."
   ]
  },
  {
   "cell_type": "markdown",
   "metadata": {},
   "source": [
    "$$\\left(\\frac{m}{\\Delta t^2}+\\frac{c}{2\\Delta t}\\right)x_{i+1}=P_i - \\left(\\frac{m}{\\Delta t^2}-\\frac{c}{2\\Delta t}\\right) x_{i-1} - \\left(k-\\frac{2m}{\\Delta t^2}\\right)x_i\\tag{55}$$"
   ]
  },
  {
   "cell_type": "markdown",
   "metadata": {},
   "source": [
    "Newton $\\beta$ method 및 Wilson $\\theta$ method와 같이 상기 식은 훅의 법칙의 형태로 다음과 같이 표현할 수 있다."
   ]
  },
  {
   "cell_type": "markdown",
   "metadata": {},
   "source": [
    "$$\\bar{k}x_{i+1} = \\bar{P}_i\\tag{56}$$"
   ]
  },
  {
   "cell_type": "markdown",
   "metadata": {},
   "source": [
    "여기서 $\\bar{k}$는 유효강성이며 다음과 같다."
   ]
  },
  {
   "cell_type": "markdown",
   "metadata": {},
   "source": [
    "$$\\bar{k}=\\frac{m}{\\Delta t^2}+\\frac{c}{2\\Delta t}\\tag{57}$$"
   ]
  },
  {
   "cell_type": "markdown",
   "metadata": {},
   "source": [
    "$\\bar{P_i}$는 유효하중이며 다음과 같다."
   ]
  },
  {
   "cell_type": "markdown",
   "metadata": {},
   "source": [
    "$$\\bar{P_i}=P_i-\\left(\\frac{m}{\\Delta t^2}-\\frac{c}{2\\Delta t}\\right)x_{i-1} - \\left(k-\\frac{2m}{\\Delta t^2}\\right) x_i\\tag{58}$$"
   ]
  },
  {
   "cell_type": "markdown",
   "metadata": {},
   "source": [
    "식 56을 상대변위에 대하여 풀면 다음과 같다."
   ]
  },
  {
   "cell_type": "markdown",
   "metadata": {},
   "source": [
    "$$x_{i+1}=\\frac{\\bar{P_i}}{\\bar{k}}\\tag{59}$$"
   ]
  },
  {
   "cell_type": "markdown",
   "metadata": {},
   "source": [
    "중앙차분법은 변위의 미분값에 대한 유한차분근사를 기반으로 하기 때문에, 상대 속도 및 가속도를 결정하는데 있어 상대변위의 결정 시간보다 $\\Delta t$만큼의 시간 지연이 있다(즉, $\\dot{x}_i$, $\\ddot{x}_i$를 계산하기 위해서는 $x_{i+1}$이 필요하다). 하지만, $x_{i+1}$을 알고 있으면 식 52를 사용해 $\\dot{x}_i$, $\\ddot{x}_i$를 계산할 수 있다."
   ]
  },
  {
   "cell_type": "markdown",
   "metadata": {},
   "source": [
    "$$\\dot{x}_i = \\frac{x_{i+1}-x_{i-1}}{2\\Delta t}$$"
   ]
  },
  {
   "cell_type": "markdown",
   "metadata": {},
   "source": [
    "$$ \\ddot{x}_i = \\frac{x_{i+1}-2x_i + x_{t-1}}{\\Delta t^2}\\tag{52}$$"
   ]
  },
  {
   "cell_type": "markdown",
   "metadata": {},
   "source": [
    "### 2.5 Duhamel's Integral"
   ]
  },
  {
   "cell_type": "markdown",
   "metadata": {},
   "source": [
    "piecewise exact 방법으로 푸는 Duhamel 적분법은 하중 함수를 짧은 지속시간을 갖는 충격 함수의 연속으로 이상화 한것이며, 각 충격하중 이후에는 자유 진동 응답이 발생한다. 각 충격 하중 및 자유진동 응답은 대수합 되어 구조 모델의 전체 응답이 된다. 연속 하중 함수 $P(t)$는 지속시간 $d\\tau$를 갖는 펄스들로 나뉘어 진다. 충격하중에 의한 단자유도 시스템의 속도 변화는 뉴턴의 운동법칙으로 구할 수 있다."
   ]
  },
  {
   "cell_type": "markdown",
   "metadata": {},
   "source": [
    "$$m\\frac{d\\dot{x}}{d\\tau}=P(\\tau)\\tag{60}$$"
   ]
  },
  {
   "cell_type": "markdown",
   "metadata": {},
   "source": [
    "또는"
   ]
  },
  {
   "cell_type": "markdown",
   "metadata": {},
   "source": [
    "$$d\\dot{x}=\\frac{P(\\tau)d\\tau}{m}\\tag{61}$$"
   ]
  },
  {
   "cell_type": "markdown",
   "metadata": {},
   "source": [
    "여기서 $P(\\tau)d\\tau$는 충격량이고, $d\\dot{x}$는 속도 증가량이다. 이 속도 증가량은 시간 $\\tau$에서 단자유도 시스템의 초기 속도로 고려할 수 있다."
   ]
  },
  {
   "cell_type": "markdown",
   "metadata": {},
   "source": [
    "자유진동에 대한 운동방정식의 해는 다음과 같다."
   ]
  },
  {
   "cell_type": "markdown",
   "metadata": {},
   "source": [
    "$$x(t)=e^{-\\zeta \\omega t}\\left[x_0 cos(\\omega_d t)+\\frac{\\dot{x}_0+x_0\\zeta \\omega}{\\omega_d}sin(\\omega_d t)\\right]\\tag{62}$$"
   ]
  },
  {
   "cell_type": "markdown",
   "metadata": {},
   "source": [
    "여기서"
   ]
  },
  {
   "cell_type": "markdown",
   "metadata": {},
   "source": [
    "$$\\omega_d = \\omega_n\\sqrt{1-\\zeta^2}\\tag{63}$$"
   ]
  },
  {
   "cell_type": "markdown",
   "metadata": {},
   "source": [
    "식 61을 식 62의 $\\dot{x}_0$로 대입하고, $x_0=0$으로 가정하면,"
   ]
  },
  {
   "cell_type": "markdown",
   "metadata": {},
   "source": [
    "$$dx(t)=e^{-\\zeta\\omega(t-\\tau)}\\frac{P(\\tau)d\\tau}{m\\omega_d}sin\\omega_d(t-\\tau)\\tag{64}$$"
   ]
  },
  {
   "cell_type": "markdown",
   "metadata": {},
   "source": [
    "총 상대 변위는 총 하중 구간에 대하여 식 64의 미소 응답들을 모두 더하여 계산할 수 있다."
   ]
  },
  {
   "cell_type": "markdown",
   "metadata": {},
   "source": [
    "$$x(t)=\\frac{1}{m\\omega_d}\\int_0^t P(\\tau)e^{-\\zeta \\omega(t-\\tau)}sin \\omega_d (t-\\tau) d\\tau\\tag{65}$$"
   ]
  },
  {
   "cell_type": "markdown",
   "metadata": {},
   "source": [
    "다음의 삼각공식을 사용하면,"
   ]
  },
  {
   "cell_type": "markdown",
   "metadata": {},
   "source": [
    "$$sin\\omega(t-\\tau)=sin\\omega t\\cos\\omega\\tau - \\cos\\omega t sin\\omega\\tau\\tag{66}$$"
   ]
  },
  {
   "cell_type": "markdown",
   "metadata": {},
   "source": [
    "식 65를 다음과 같이 쓸 수 있다."
   ]
  },
  {
   "cell_type": "markdown",
   "metadata": {},
   "source": [
    "$$x(t)=\\frac{e^{-\\zeta\\omega t}}{m\\omega_d}[A_D(t) sin\\omega_d t - B_D(t) cos \\omega_d t]\\tag{67}$$"
   ]
  },
  {
   "cell_type": "markdown",
   "metadata": {},
   "source": [
    "여기서,"
   ]
  },
  {
   "cell_type": "markdown",
   "metadata": {},
   "source": [
    "$$A_D(t)=\\int_0^t P(\\tau)e^{\\zeta \\omega \\tau}cos\\omega_d \\tau d\\tau$$"
   ]
  },
  {
   "cell_type": "markdown",
   "metadata": {},
   "source": [
    "$$B_D(t)=\\int_0^t P(\\tau) e^{-\\zeta \\omega \\tau}sin\\omega_d \\tau d\\tau\\tag{68}$$"
   ]
  },
  {
   "cell_type": "markdown",
   "metadata": {},
   "source": [
    "식 68의 표현은 다양항 방법으로 불 수 있다. 본 연구에서는 하중 함수 $P(\\tau)$를 piecewise linear라고 가정하여 정확한 해를 구한다."
   ]
  },
  {
   "cell_type": "markdown",
   "metadata": {},
   "source": [
    "$$P(\\tau)=P(t_{i-1})+\\frac{\\Delta P_i}{\\Delta t}(\\tau-t_{i-1})\\;\\;for\\;\\;t_{i-1}\\leq\\tau\\leq t_i\\tag{69}$$"
   ]
  },
  {
   "cell_type": "markdown",
   "metadata": {},
   "source": [
    "여기서,"
   ]
  },
  {
   "cell_type": "markdown",
   "metadata": {},
   "source": [
    "$$\\Delta P_i = P(t_i)-P(t_{i-1})\\tag{70}$$"
   ]
  },
  {
   "cell_type": "markdown",
   "metadata": {},
   "source": [
    "식 69를 식 68에 대입하고, 식 71에 주어진 변수들 $I_1$, $I_2$, $I_3$, $I_4$를 사용하면 식 72와 같은 정확한 해를 구할 수 있다."
   ]
  },
  {
   "cell_type": "markdown",
   "metadata": {},
   "source": [
    "$$I_1=\\int_{t_{i-1}}^{t_i} e^{\\zeta \\omega \\tau}cos\\omega_d\\tau d\\tau=\n",
    "\\frac{e^{\\zeta \\omega \\tau}}{(\\zeta \\omega)^2+\\omega_d^2}\n",
    "(\\zeta\\omega cos\\omega_d\\tau+\\omega_d sin\\omega_d\\tau)|_{t_{i-1}}^{t_i}\n",
    "$$"
   ]
  },
  {
   "cell_type": "markdown",
   "metadata": {},
   "source": [
    "$$I_2\n",
    "=\\int_{t_{i-1}}^{t_i} e^{\\zeta \\omega \\tau}sin\\omega_d\\tau d\\tau=\n",
    "\\frac{e^{\\zeta \\omega \\tau}}{(\\zeta \\omega)^2+\\omega_d^2}\n",
    "(\\zeta\\omega sin\\omega_d\\tau-\\omega_d cos\\omega_d\\tau)|_{t_{i-1}}^{t_i}\n",
    "$$"
   ]
  },
  {
   "cell_type": "markdown",
   "metadata": {},
   "source": [
    "$$I_3=\n",
    "\\int_{t_{i-1}}^{t_i}\\tau e^{\\zeta \\omega\\tau}sin\\omega_d\\tau d\\tau\n",
    "=\\left[\\tau-\\frac{\\zeta\\omega}{(\\zeta\\omega)^2+\\omega_d^2}\\right] I_2^{'}\n",
    "+\\frac{\\omega_d}{(\\zeta\\omega_d)^2+\\omega_d^2}I_1^{'}|_{t_{i-1}}^{t_i}\n",
    "$$"
   ]
  },
  {
   "cell_type": "markdown",
   "metadata": {},
   "source": [
    "$$I_4=\n",
    "\\int_{t_{i-1}}^{t_i}\\tau e^{\\zeta \\omega\\tau}cos\\omega_d\\tau d\\tau\n",
    "=\\left[\\tau-\\frac{\\zeta\\omega}{(\\zeta\\omega)^2+\\omega_d^2}\\right] I_1^{'}\n",
    "+\\frac{\\omega_d}{(\\zeta\\omega_d)^2+\\omega_d^2}I_2^{'}|_{t_{i-1}}^{t_i}\n",
    "\\tag{71}\n",
    "$$"
   ]
  },
  {
   "cell_type": "markdown",
   "metadata": {},
   "source": [
    "여기서 $I_1^{'}$, $I_2^{'}$는 $I_1$, $I_2$ 적분 식에서 한계 값을 적용하지 않은 것을 의미한다. 다음의 관계를 적용하여,"
   ]
  },
  {
   "cell_type": "markdown",
   "metadata": {},
   "source": [
    "$$A_D(t_i)=A_D(t_{i-1})+\\left[P(t_{i-1})-t_{i-1}\\frac{\\Delta P_i}{\\Delta t}\\right]I_1+\\frac{\\Delta P_i}{\\Delta t}I_4$$"
   ]
  },
  {
   "cell_type": "markdown",
   "metadata": {},
   "source": [
    "$$B_D(t_i)=B_D(t_{i-1})+\\left[P(t_{i-1})-t_{i-1}\\frac{\\Delta P_i}{\\Delta t}\\right]I_2 + \\frac{\\Delta P_i}{\\Delta t}I_3 \\tag{72}$$"
   ]
  },
  {
   "cell_type": "markdown",
   "metadata": {},
   "source": [
    "식 73, 74, 75를 가각 사용하여 상대 변위, 속도, 가속도를 구할 수 있다."
   ]
  },
  {
   "cell_type": "markdown",
   "metadata": {},
   "source": [
    "$$x_i=\\frac{e^{-\\zeta \\omega t_i}}{m\\omega_d}[A_D(t_i)sin\\omega_d t_i - B_D(t_i) cos\\omega_d t_i]\\tag{73}$$"
   ]
  },
  {
   "cell_type": "markdown",
   "metadata": {},
   "source": [
    "$$\\dot{x}_i=\\frac{e^{-\\zeta \\omega t_i}}{m \\omega_d}\\left\\{ \\left[ \\omega_d B_D(t_i) - \\zeta \\omega A_D(t_i) \\right]sin\\omega_d t_i + \\left[ \\omega_d A_D(t_i) + \\zeta\\omega B_D(t_i) \\right]cos\\omega_d t_i \\right\\}\\tag{74}$$"
   ]
  },
  {
   "cell_type": "markdown",
   "metadata": {},
   "source": [
    "$$\\ddot{x}_i=\\frac{1}{m}(P_i-c\\dot{x}_i-kx_i)\\tag{75}$$"
   ]
  },
  {
   "cell_type": "markdown",
   "metadata": {},
   "source": [
    "### 2.6 Piecewise Exact Method"
   ]
  },
  {
   "cell_type": "markdown",
   "metadata": {},
   "source": [
    "Peicewise Exact Method는 Duhamel 적분을 풀었던 방법과 유사하다. 하중을 선형거동한다고 가정하고 정확한 해를 구한다. 하지만 Piecewise Exact Method는 직접 해를 구하며, 하중을 충격하중의 연속으로 고려하지 않는다."
   ]
  },
  {
   "cell_type": "markdown",
   "metadata": {},
   "source": [
    "동하중이 선형의 연속으로 거동한다고 가정하면 다음과 같이 표현할 수 있다."
   ]
  },
  {
   "cell_type": "markdown",
   "metadata": {},
   "source": [
    "$$P(t)=P(t_i)+\\frac{\\Delta P_i}{\\Delta t}(t-t_i)\\;\\;for\\;\\;t_i\\leq t \\leq t_{i+1}\\tag{76}$$"
   ]
  },
  {
   "cell_type": "markdown",
   "metadata": {},
   "source": [
    "여기서,"
   ]
  },
  {
   "cell_type": "markdown",
   "metadata": {},
   "source": [
    "$$\\Delta P_i = P_{i+1} - P_i\\tag{77}$$"
   ]
  },
  {
   "cell_type": "markdown",
   "metadata": {},
   "source": [
    "상대변위 및 속도는 다음과 같이 결정할 수 있다."
   ]
  },
  {
   "cell_type": "markdown",
   "metadata": {},
   "source": [
    "$$X_{i+1}=AX_i + B \\ddot{X}_{ground\\;i}\\tag{78}$$"
   ]
  },
  {
   "cell_type": "markdown",
   "metadata": {},
   "source": [
    "여기서,"
   ]
  },
  {
   "cell_type": "markdown",
   "metadata": {},
   "source": [
    "$$X_i=\\begin{Bmatrix}\n",
    "x_i \\\\\n",
    "\\dot{x}_i\n",
    "\\end{Bmatrix}\n",
    "\\;\\;\n",
    "\\ddot{X}_{ground\\;i}=\n",
    "-\\frac{1}{m}\n",
    "\\begin{Bmatrix}\n",
    "P_i \\\\\n",
    "P_{i+1}\n",
    "\\end{Bmatrix}\n",
    "\\tag{79}\n",
    "$$"
   ]
  },
  {
   "cell_type": "markdown",
   "metadata": {},
   "source": [
    "그리고,"
   ]
  },
  {
   "cell_type": "markdown",
   "metadata": {},
   "source": [
    "$$A=\\begin{bmatrix}\n",
    "a_{11} & a_{12} \\\\\n",
    "a_{21} & a_{22} \n",
    "\\end{bmatrix}\n",
    "\\;\\;\n",
    "B=\\begin{bmatrix}\n",
    "b_{11} & b_{12} \\\\\n",
    "b_{21} & b_{22} \n",
    "\\end{bmatrix}\n",
    "\\tag{80}$$"
   ]
  },
  {
   "cell_type": "markdown",
   "metadata": {},
   "source": [
    "$A$와 $B$ 성분의 값들은 식 81, 82와 같다."
   ]
  },
  {
   "cell_type": "markdown",
   "metadata": {},
   "source": [
    "$$a_{11}=e^{-\\zeta \\omega \\Delta t} \\left(\\frac{\\omega \\zeta}{\\omega_d}sin\\omega_d \\Delta t + cos \\omega_d \\Delta t\\right)$$"
   ]
  },
  {
   "cell_type": "markdown",
   "metadata": {},
   "source": [
    "$$a_{12}=\\frac{e^{-\\zeta \\omega \\Delta t}}{\\omega_d}sin\\omega_d \\Delta t$$"
   ]
  },
  {
   "cell_type": "markdown",
   "metadata": {},
   "source": [
    "$$a_{21}=-\\frac{\\omega^2 e^{-\\zeta \\omega \\Delta t}}{\\omega_d} sin \\omega_d \\Delta t$$"
   ]
  },
  {
   "cell_type": "markdown",
   "metadata": {},
   "source": [
    "$$a_{22}=e^{-\\zeta \\omega \\Delta t}\\left(cos\\omega_d \\Delta t - \\frac{\\omega \\zeta}{\\omega_d}sin\\omega_d \\Delta t\\right)\\tag{81}$$"
   ]
  },
  {
   "cell_type": "markdown",
   "metadata": {},
   "source": [
    "$$b_{11}=e^{-\\zeta\\omega\\Delta t}\\left[ \\left( \\frac{2\\zeta^2-1}{\\omega^2 \\Delta t}+\\frac{\\zeta}{\\omega} \\right)\\frac{sin\\omega_d \\Delta t}{\\omega_d} + \\left( \\frac{2\\zeta}{\\omega^3 \\Delta t}+\\frac{1}{\\omega^3} \\right)cos\\omega_d\\Delta t \\right] - \\frac{2\\zeta}{\\omega^3 \\Delta t}$$"
   ]
  },
  {
   "cell_type": "markdown",
   "metadata": {},
   "source": [
    "$$b_{12}=-e^{-\\zeta\\omega\\Delta t}\\left[ \\left( \\frac{2\\zeta^2-1}{\\omega^2 \\Delta t}\\right)\\frac{sin\\omega_d \\Delta t}{\\omega_d} +  \\frac{2\\zeta}{\\omega^3 \\Delta t} cos\\omega_d\\Delta t \\right] - \\frac{1}{\\omega^2}  + \\frac{2\\zeta}{\\omega^3 \\Delta t}$$"
   ]
  },
  {
   "cell_type": "markdown",
   "metadata": {},
   "source": [
    "$$b_{21}=e^{-\\zeta \\omega \\Delta t}\\left[ \\left( \\frac{2\\zeta^2-1}{\\omega^2\\Delta t}+\\frac{\\zeta}{\\omega} \\right)\\left( cos\\omega_d\\Delta t - \\frac{\\omega\\zeta}{\\omega_d}sin\\omega_d \\Delta t \\right) - \\left( \\frac{2\\zeta}{\\omega^3\\Delta t}+\\frac{1}{\\omega^3} \\right)(\\omega_d sin\\omega_d\\Delta t + \\zeta\\omega cos \\omega_d \\Delta t) \\right]+\\frac{1}{\\omega^2 \\Delta t}$$"
   ]
  },
  {
   "cell_type": "markdown",
   "metadata": {},
   "source": [
    "$$b_{22}=-e^{\\zeta \\omega \\Delta t}\\left[ \\frac{2\\zeta^2-1}{\\omega^2\\Delta t}\\left(cos\\omega_d\\Delta t - \\frac{\\omega\\zeta}{\\omega_d}sin\\omega_d\\Delta t\\right) - \\frac{2\\zeta}{\\omega^3\\Delta t}(\\omega_d sin\\omega_d \\Delta t + \\zeta \\omega cos \\omega_d \\Delta t) \\right] - \\frac{1}{\\omega^2 \\Delta t}\\tag{82}$$"
   ]
  },
  {
   "cell_type": "markdown",
   "metadata": {},
   "source": [
    "상대변위와 속도를 구하고 나면 상대 가속도를 다음과 같이 구할 수 있다."
   ]
  },
  {
   "cell_type": "markdown",
   "metadata": {},
   "source": [
    "$$\\ddot{x}_{i+1}=\\frac{1}{m}(P_{i+1}-c\\dot{x}_{i+1}-kx_{i+1})\\tag{83}$$"
   ]
  },
  {
   "cell_type": "markdown",
   "metadata": {},
   "source": [
    "### 2.7 4th Order Runge-Kutta Method"
   ]
  },
  {
   "cell_type": "markdown",
   "metadata": {},
   "source": [
    "4th Order Runge-Kutta Method는 운동방정식을 2개의 1차 미분방정식으로 나눈다. 운동방정식을 써보면 다음과 같다."
   ]
  },
  {
   "cell_type": "markdown",
   "metadata": {},
   "source": [
    "$$\\ddot{x}(t)=\\frac{1}{m}[P(t)-kx(t)-c\\dot{x}(t)]=F(x,\\dot{x},t)\\tag{84}$$"
   ]
  },
  {
   "cell_type": "markdown",
   "metadata": {},
   "source": [
    "이 2차 미분방정식은 다음과 같이 2개의 1차 미분방정식으로 쓸 수 있다."
   ]
  },
  {
   "cell_type": "markdown",
   "metadata": {},
   "source": [
    "$$\\dot{x}(t)=y(t)$$"
   ]
  },
  {
   "cell_type": "markdown",
   "metadata": {},
   "source": [
    "$$\\dot{y}(t)=F(x,y,t)\\tag{85}$$"
   ]
  },
  {
   "cell_type": "markdown",
   "metadata": {},
   "source": [
    "$x_{i+1}$와 $y_{i+1}$은 테일러 시리즈로 표현할 수있다."
   ]
  },
  {
   "cell_type": "markdown",
   "metadata": {},
   "source": [
    "$$x(t_{i+1})=x(t_i)+\\left(\\frac{dx}{dt}\\right)_{t_i}\\Delta t + \\left(\\frac{d^2x}{dt^2}\\right)_{t_i}\\frac{\\Delta t^2}{2}+\\dots$$"
   ]
  },
  {
   "cell_type": "markdown",
   "metadata": {},
   "source": [
    "$$y(t_{i+1})=y(t_i)+\\left(\\frac{dy}{dt}\\right)_{t_i}\\Delta t + \\left(\\frac{d^2y}{dt^2}\\right)_{t_i}\\frac{\\Delta t^2}{2}+\\dots\\tag{86}$$"
   ]
  },
  {
   "cell_type": "markdown",
   "metadata": {},
   "source": [
    "고차 미분항을 무시하면, 1차 미분을 평균 기울기로 표현할 수 있고 식 86은 다음과 같이 된다."
   ]
  },
  {
   "cell_type": "markdown",
   "metadata": {},
   "source": [
    "$$x(t_{i+1})=x(t_i)+\\left(\\frac{dx}{dt}\\right)_{avg} \\Delta t$$"
   ]
  },
  {
   "cell_type": "markdown",
   "metadata": {},
   "source": [
    "$$y(t_{i+1})=y(t_i)+\\left(\\frac{dy}{dt}\\right)_{avg} \\Delta t\\tag{87}$$"
   ]
  },
  {
   "cell_type": "markdown",
   "metadata": {},
   "source": [
    "Simpson의 법칙을 사용하면 평균 기울기는 다음과 같이 정의할 수 있다."
   ]
  },
  {
   "cell_type": "markdown",
   "metadata": {},
   "source": [
    "$$\\left(\\frac{dy}{dt}\\right)_{avg}=\\frac{1}{6}\\left[\\left(\\frac{dy}{dt}\\right)_{t_i}+4\\left(\\frac{dy}{dt}\\right)_{t_i+h/2}+\\left(\\frac{dy}{dt}\\right)_{t_i+h}\\right]\\tag{88}$$"
   ]
  },
  {
   "cell_type": "markdown",
   "metadata": {},
   "source": [
    "Runge-Kutta 식에서 평균 기울기는 Simpson의 법칙과 매우 유사하지만 식 88에서의 중간 항이 2개의 항으로 나뉘어 지고 각 시점 i에서 4개의 값 t, x, y, F 가 계산된다는 점이 다르다."
   ]
  },
  {
   "cell_type": "markdown",
   "metadata": {},
   "source": [
    "|$t$  | |  $x$ | | $y=\\dot{x}$ | |  $\\dot{y}=\\ddot{x}$|\n",
    "| :- | :- | :- | :- | :- | :- | :- |\n",
    "| $T_1=t_i$ | | $X_1=x_i$ | | $Y_1=y_i$ | | $F_1=F(T_1,X_1,Y_1)$ |\n",
    "| $T_2=t_i+h/2$ | | $X_2=x_i+Y_1\\;h/2$ | | $Y_2=y_i+F_1\\;h/2$ | | $F_2=F(T_2,X_2,Y_2)$ |\n",
    "| $T_3=t_i+h/2$ | | $X_3=x_i+Y_2\\;h/2$ | | $Y_3=y_i+F_2\\;h/2$ | | $F_3=F(T_3,X_3,Y_3)$ |\n",
    "| $T_4=t_i+h$ | | $X_4=x_i+Y_3\\;h$ | | $Y_4=y_i+F_3\\;h$ | | $F_4=F(T_4,X_4,Y_4)$ |"
   ]
  },
  {
   "cell_type": "markdown",
   "metadata": {},
   "source": [
    "위에서 구한 값들은 다음의 식에 사용된다."
   ]
  },
  {
   "cell_type": "markdown",
   "metadata": {},
   "source": [
    "$$x_{i+1}=x_i+\\frac{\\Delta t}{6}(Y_1+2Y_2+2Y_3+Y_4)$$"
   ]
  },
  {
   "cell_type": "markdown",
   "metadata": {},
   "source": [
    "$$\\dot{x}_{i+1}=y_{i+1}=y_{i}+\\frac{\\Delta t}{6}(F_1+2F_2+2F_3+F_4)\\tag{89}$$"
   ]
  },
  {
   "cell_type": "markdown",
   "metadata": {},
   "source": [
    "여기서 4개의 Y값들이 6으로 나누어진 것은 평균 기울기 dx/dt를 의미하며, 4개의 F 값들이 6으로 나누어 진 것은 평균 기울기 dy/dt를 의미한다. 식 89 값이 결정되면 시간 t_{i+1}에서의 상대 가속도를 다음과 같이 계산할 수 있다."
   ]
  },
  {
   "cell_type": "markdown",
   "metadata": {},
   "source": [
    "$$\\ddot{x}_{i+1}=\\frac{1}{m}(P_{i+1}-kx_{i+1}-c\\dot{x}_{i+1})\\tag{90}$$"
   ]
  },
  {
   "cell_type": "markdown",
   "metadata": {},
   "source": []
  }
 ],
 "metadata": {
  "kernelspec": {
   "display_name": "Python 3",
   "language": "python",
   "name": "python3"
  },
  "language_info": {
   "codemirror_mode": {
    "name": "ipython",
    "version": 3
   },
   "file_extension": ".py",
   "mimetype": "text/x-python",
   "name": "python",
   "nbconvert_exporter": "python",
   "pygments_lexer": "ipython3",
   "version": "3.7.4"
  }
 },
 "nbformat": 4,
 "nbformat_minor": 5
}
