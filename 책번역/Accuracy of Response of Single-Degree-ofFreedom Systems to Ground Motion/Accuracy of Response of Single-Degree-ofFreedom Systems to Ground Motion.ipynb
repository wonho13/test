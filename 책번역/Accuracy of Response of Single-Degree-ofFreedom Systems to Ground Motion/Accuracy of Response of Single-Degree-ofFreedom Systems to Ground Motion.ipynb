{
 "cells": [
  {
   "cell_type": "markdown",
   "id": "dad6a323",
   "metadata": {},
   "source": [
    "## 1. 지반 거동에 대한 단자유도 시스템 응답의 정확성"
   ]
  },
  {
   "cell_type": "markdown",
   "id": "748ae70a",
   "metadata": {},
   "source": [
    "### 1.0 개요"
   ]
  },
  {
   "cell_type": "markdown",
   "id": "d058ce92",
   "metadata": {},
   "source": [
    "본 보고서는 구조 동역학을 계산하는데 사용되는 6가지의 수치계산 절차에 대해 평가해보고 그 결과를 요약한다. 본 연구에서 사용된 6가지 방법은 시간이력에대한 구조물의 응답을 계산하는데 사용되는 대표적인 수치계산법들이다. 본 연구에서 고려하는 하중 시간이력은 기저가진이며, 지반 가속도 시간이력으로 표현된다. 본 연구에서 사용된 각 구조모델의 동적 응답은 가속도, 속도, 변위 시간이력으로 나타난다."
   ]
  },
  {
   "cell_type": "markdown",
   "id": "12939a95",
   "metadata": {},
   "source": [
    "본 연구에서 사용된 구조모델은 선형 단자유도 시스템이다. 단자유도 시스템의 비감쇠 고유진동수는 댐과같은 수력계통 구조물의 주요 모드들을 고려하여 결정하였다. 본 연구에서 사용된 하중 함수는 단일주파수 조화함수이다. 단일 주파수를 사용하면 지반 거동을 받는 동안 균일한 시간간격 하에서 계산한 응답의 정확성을 평가할 수 있다."
   ]
  },
  {
   "cell_type": "markdown",
   "id": "ab3fc3fb",
   "metadata": {},
   "source": [
    "본 연구에서 사용한 시간간격 $\\Delta t$는 0.01, 0.02, 0.05초 이다. 이 시간간격들은 강진이 발생한 현장에서 기록된 지진들의 가속도 시간이력을 이산화하는데 주로 사용되는 값들이다."
   ]
  },
  {
   "cell_type": "markdown",
   "id": "3cefd1ae",
   "metadata": {},
   "source": [
    "### 1.1 시간영역 응답을 계산하는 6가지 방법"
   ]
  },
  {
   "cell_type": "markdown",
   "id": "557fe4b9",
   "metadata": {},
   "source": [
    "본 연구에서 사용된 6가지 계산 방법으로는 Newmark $\\beta$ method (linear acceleration method에 해당 하는 $\\gamma$, $\\beta$ 상수값을 사용하였음), Wilson $\\theta$ method, Central difference method, 4th order Runge-Kutta method, piecewise exact method를 사용한 Duhamel's integral, Piecewise exact method 직접 적용이다. 모든 방법들은 이산형태 (즉, 하중 및 응답의 시간이력은 특정 시간간격으로 이산화됨)이며, 따라서 이 방법들은 step-by-step 절차이다."
   ]
  },
  {
   "cell_type": "markdown",
   "id": "68e84b73",
   "metadata": {},
   "source": [
    "여기서 사용된 6가지 방법은 운동 미분방정식을 만족시키는 접근법에 따라 크게 2개 그룹으로 분류할 수 있다. 첫번째 그룹은 piecewise exact 방법으로 Duhamel적분을 푸는 방법과 piecewise exact method 직접적용이다. 이 두가지 방법은 시간에 대한 하중함수가 특정 형태임을 가정(즉, 각 시간 간격마다 하중이 직선 형태임으로 가정)하여 그에 대한 운동방정식은 정확한 해(exaxt solution)를 구한다. 두번째 그룹은 Newmark $\\beta$ method, Wilson $\\theta$ method, Central difference method, 4th order Runge-Kutta method이다. 이 방법들은 수치방법으로 불린다. 왜냐하면 각 시간 간격마다 주어진 하중에 대하여 운동방정식을 대략적으로 만족시키기 때문이다. Newmark $\\beta$ method, Wilson $\\theta$ method, 4th order Runge-Kutta method는 수치적분(numerical integration)을 사용하며, Central Difference Method는 수치미분(numerical differentiation)을 사용한다."
   ]
  },
  {
   "cell_type": "markdown",
   "id": "5204ae22",
   "metadata": {},
   "source": [
    "### 1.2 직접적분법"
   ]
  },
  {
   "cell_type": "markdown",
   "id": "88683a64",
   "metadata": {},
   "source": []
  },
  {
   "cell_type": "markdown",
   "id": "3eedc404",
   "metadata": {},
   "source": [
    "### 2.2 Newmark $\\beta$ Method"
   ]
  },
  {
   "cell_type": "markdown",
   "id": "90035223",
   "metadata": {},
   "source": [
    "Newmark $\\beta$ Method는 다음 식을 기반으로 한다."
   ]
  },
  {
   "cell_type": "markdown",
   "id": "1eb44dee",
   "metadata": {},
   "source": [
    "$$\\dot{x}_{i+1}=\\dot{x}_{i}+[(1-\\gamma)\\Delta t]\\ddot{x}_i+(\\gamma\\Delta t)\\ddot{x}_{i+1}\\tag{11}$$"
   ]
  },
  {
   "cell_type": "markdown",
   "id": "206a7843",
   "metadata": {},
   "source": [
    "$$x_{i+1}=x_i+(\\Delta t)\\dot{x}_i+[(0.5-\\beta)\\Delta t^2]\\ddot{x}_i+(\\beta\\Delta t^2)\\ddot{x}_{i+1}\\tag{12}$$"
   ]
  },
  {
   "cell_type": "markdown",
   "id": "7684324b",
   "metadata": {},
   "source": [
    "여기서 변수 $\\beta$와 $\\gamma$는 각 시간간격 사이에서 가속도 응답의 변화를 정의하며, 이 방법의 안정성 및 정확성을 조절한다. 보통 $\\gamma$값은 1/2로 설정하며, 이는 인공 감쇠가 없는조건에 해당한다. 그리고 보통 $\\beta$값은 1/6 ~ 1/4 사이값으로 설정한다. 본 연구에서는 $\\gamma$=1/2,$\\beta$=1/6으로 설정하였으며, 이는 선형가속도방법에 해당한다. 원래 1959년 버전의 방법은 식11, 12를 위한 반복작업이 필요했다. 하지만 이러한 반복작업이 불필요하게 변경가능하다. 본 장에서는 이러한 변경식을 기술한다."
   ]
  },
  {
   "cell_type": "markdown",
   "id": "754b714a",
   "metadata": {},
   "source": [
    "다음의 정의를 "
   ]
  },
  {
   "cell_type": "markdown",
   "id": "d5108f3a",
   "metadata": {},
   "source": [
    "$$\\Delta x_i= x_{i+1}-x_i$$"
   ]
  },
  {
   "cell_type": "markdown",
   "id": "51338e69",
   "metadata": {},
   "source": [
    "$$\\Delta \\dot{x}_i= \\dot{x}_{i+1}-\\dot{x}_i$$"
   ]
  },
  {
   "cell_type": "markdown",
   "id": "da26fe04",
   "metadata": {},
   "source": [
    "$$\\Delta \\ddot{x}_i= \\ddot{x}_{i+1}-\\ddot{x}_i$$"
   ]
  },
  {
   "cell_type": "markdown",
   "id": "1d60c8cd",
   "metadata": {},
   "source": [
    "$$\\Delta P_i= P_{i+1}-P_i$$"
   ]
  },
  {
   "cell_type": "markdown",
   "id": "3f9f622b",
   "metadata": {},
   "source": [
    "식11, 12에 대입하면 식13, 14가된다."
   ]
  },
  {
   "cell_type": "markdown",
   "id": "92e22d7a",
   "metadata": {},
   "source": [
    "$$\\Delta\\dot{x}_i=\\Delta t\\ddot{x}_i+\\gamma\\Delta t \\Delta\\ddot{x}_i\\tag{14}$$"
   ]
  },
  {
   "cell_type": "markdown",
   "id": "1e7ea5ff",
   "metadata": {},
   "source": [
    "$$\\Delta x_i=\\Delta t \\dot{x}_i+\\frac{\\Delta t^2}{2}\\ddot{x}_i+\\beta\\Delta t^2\\Delta\\ddot{x}_i\\tag{15}$$"
   ]
  },
  {
   "cell_type": "markdown",
   "id": "12a903b0",
   "metadata": {},
   "source": [
    "식15를 $\\Delta \\ddot{x}_i$에 대해 정리하면 다음과 같다."
   ]
  },
  {
   "cell_type": "markdown",
   "id": "869a4f4a",
   "metadata": {},
   "source": [
    "$$\\Delta \\ddot{x}_i=\\frac{1}{\\beta \\Delta t^2}\\Delta x_i - \\frac{1}{\\beta\\Delta t} \\dot{x}_i-\\frac{1}{2\\beta}\\ddot{x}_i\\tag{16}$$"
   ]
  },
  {
   "cell_type": "markdown",
   "id": "f559a25f",
   "metadata": {},
   "source": [
    "식16을 식14의 마지막 항에 대입하면 다음과 같다."
   ]
  },
  {
   "cell_type": "markdown",
   "id": "7d5a3467",
   "metadata": {},
   "source": [
    "$$\\Delta \\dot{x}_i=\\frac{\\gamma}{\\beta \\Delta t} \\Delta x_i - \\frac{\\gamma}{\\beta}\\dot{x}_i + \\Delta t \\left( 1 -\\frac{\\gamma}{2\\beta} \\right) \\ddot{x}_i\\tag{17}$$"
   ]
  },
  {
   "cell_type": "markdown",
   "id": "eb5a7012",
   "metadata": {},
   "source": [
    "식3과 식13을 통해 증가 운동방정식(식18)을 유도할 수 있다."
   ]
  },
  {
   "cell_type": "markdown",
   "id": "b0b367dc",
   "metadata": {},
   "source": [
    "$$m\\Delta \\ddot{x}_i+c \\Delta \\dot{x}_i+ k\\Delta x_i= \\Delta P_i\\tag{18}$$"
   ]
  },
  {
   "cell_type": "markdown",
   "id": "e38dd37b",
   "metadata": {},
   "source": [
    "식 16과 17을 증가방정식인 식18에 대입하면 다음과 같다."
   ]
  },
  {
   "cell_type": "markdown",
   "id": "8d7314b1",
   "metadata": {},
   "source": [
    "$$\\left(k+c\\frac{\\gamma}{\\beta \\Delta t } + m \\frac{1}{\\beta \\Delta t^2} \\right) \\Delta x_i=\\Delta P_i+\\left(\\frac{1}{\\beta\\Delta t}m+\\frac{\\gamma}{\\beta}c\\right)\\dot{x}_i+\\left[\\frac{1}{2\\beta}m+\\Delta t \\left(\\frac{\\gamma}{2\\beta}-1\\right)c\\right]\\ddot{x}_i\\tag{19}$$"
   ]
  },
  {
   "cell_type": "markdown",
   "id": "a75c1c64",
   "metadata": {},
   "source": [
    "식19는 다음과 같이 쓸 수 있다."
   ]
  },
  {
   "cell_type": "markdown",
   "id": "8fc0e849",
   "metadata": {},
   "source": [
    "$$\\bar{k}\\Delta x_i=\\Delta \\bar{P_i}\\tag{20}$$"
   ]
  },
  {
   "cell_type": "markdown",
   "id": "291249ed",
   "metadata": {},
   "source": [
    "여기서 $\\bar{k}$는 유효강성으로 부른다."
   ]
  },
  {
   "cell_type": "markdown",
   "id": "f9b14b0b",
   "metadata": {},
   "source": [
    "$$\\bar{k}=k+c\\frac{\\gamma}{\\beta\\Delta t}+m\\frac{1}{\\beta\\Delta t^2}\\tag{21}$$"
   ]
  },
  {
   "cell_type": "markdown",
   "id": "92f555e2",
   "metadata": {},
   "source": [
    "그리고 $\\Delta \\bar{P_i}$는 유효증가하중이라고 부른다."
   ]
  },
  {
   "cell_type": "markdown",
   "id": "0e91edd7",
   "metadata": {},
   "source": [
    "$$\\Delta \\bar{P_i}=\\Delta P_i+\\left(\\frac{1}{\\beta \\Delta t} m+\\frac{\\gamma}{\\beta}c\\right)\\dot{x}_i+\\left[\\frac{1}{2\\beta}m+\\Delta t \\left(\\frac{\\gamma}{2\\beta}-1\\right)c\\right]\\ddot{x}_i\\tag{22}$$"
   ]
  },
  {
   "cell_type": "markdown",
   "id": "9ad5764d",
   "metadata": {},
   "source": [
    "시간 $t_i$에서 $t_{i+1}$사이에서의 변위 증가량 $\\Delta x_i$는 식20을 정리하여 다음과 같이 구할 수 있다. "
   ]
  },
  {
   "cell_type": "markdown",
   "id": "50158599",
   "metadata": {},
   "source": [
    "$$\\Delta x_i=\\frac{\\Delta \\bar{P_i}}{\\bar{k}}\\tag{23}$$"
   ]
  },
  {
   "cell_type": "markdown",
   "id": "e98496ca",
   "metadata": {},
   "source": [
    "$\\Delta x_i$를 구한 후 식 17, 16을 사용해 속도 증가량 $\\Delta \\dot{x}_i$와 가속도 증가량 $\\Delta \\ddot{x}_i$를 구할 수 있다. 식 13을 정리하고 속도, 가속도 변화량을 대입하여 시간 $t_{i+1}$에서의 속도, 가속도 값을 구할 수 있다."
   ]
  },
  {
   "cell_type": "markdown",
   "id": "5f250ddd",
   "metadata": {},
   "source": [
    "$$\\dot{x}_{i+1}=\\dot{x}_i+\\Delta \\dot{x}_i$$"
   ]
  },
  {
   "cell_type": "markdown",
   "id": "72c4982a",
   "metadata": {},
   "source": [
    "$$\\ddot{x}_{i+1}=\\ddot{x}_i+\\Delta \\ddot{x}_i\\tag{24}$$"
   ]
  },
  {
   "cell_type": "markdown",
   "id": "082ba452",
   "metadata": {},
   "source": [
    "$\\beta$값과 $\\gamma$값에 따라 다양한 종류의 Newmark $\\beta$ method가 있다. $\\beta$는 1/2, $\\gamma$는 1/6로 설정한 경우는 선형가속도법이 된다. "
   ]
  },
  {
   "cell_type": "markdown",
   "id": "71dcb0ac",
   "metadata": {},
   "source": [
    "### 2 3 Wilson $\\theta$ Method"
   ]
  },
  {
   "cell_type": "markdown",
   "id": "a1ed89f6",
   "metadata": {},
   "source": [
    "Newmark $\\beta$ Method는 다양한 곳에 사용 가능하고, 정확하지만 선형가속도법으로 사용되는 경우 특정 조건에서만 안정하다. 즉, 시간간격 $\\Delta t$가 특정 기준보다 짧아야 해가 안정하다. (이 불안정성은 선형가속도법에만 국한된것임) Wilson $\\theta$ method는 $\\theta/geq 1.37$인 경우 선형가속도법이 시간간격의 크기와 상관없이 무조건 안정적으로 되게 한 형태이다. Wilson이 적용한 변경사항은, 가속도 응답이 증가된 시간간격인 $t$에서 $t+\\theta \\Delta t$ 사이($\\theta>0$)에서 선형으로 거동한다는 가정이다. $\\theta=1.0$이면 $\\beta=1/6$, $\\gamma=1/2$인 Newmark $\\beta$ method와 동일하다."
   ]
  },
  {
   "cell_type": "markdown",
   "id": "c346362f",
   "metadata": {},
   "source": [
    "시간 $t_i$와 $t_i+\\theta \\Delta t$에서 단자유도 시스템의 평형기준을 써보면 다음과 같다."
   ]
  },
  {
   "cell_type": "markdown",
   "id": "593b30d6",
   "metadata": {},
   "source": [
    "$$f_i(t_i)+f_c(t_i)+f_k(t_i)=P(t_i)\\tag{25}$$"
   ]
  },
  {
   "cell_type": "markdown",
   "id": "729c4aed",
   "metadata": {},
   "source": [
    "$$f_i(t_i+\\theta \\Delta t)+f_c(t_i+\\theta \\Delta t)+f_k(t_i+\\theta \\Delta t)=P(t_i+\\theta \\Delta t)\\tag{26}$$"
   ]
  },
  {
   "cell_type": "markdown",
   "id": "4c334e6c",
   "metadata": {},
   "source": [
    "식26에서 식25를 빼면 다음과 같다."
   ]
  },
  {
   "cell_type": "markdown",
   "id": "2b54beee",
   "metadata": {},
   "source": [
    "$$\\hat{\\Delta}f_i+\\hat{\\Delta}f_c+\\hat{\\Delta}f_k=\\hat{\\Delta}P\\tag{27}$$"
   ]
  },
  {
   "cell_type": "markdown",
   "id": "3a23b22f",
   "metadata": {},
   "source": [
    "여기서 $\\hat{\\Delta}f_i=f_i(t_i+\\theta\\Delta t)-f_i(t_i)\\tag{28}$"
   ]
  },
  {
   "cell_type": "markdown",
   "id": "a40741e9",
   "metadata": {},
   "source": [
    "확장된 시간간격에 대한 증가 형태를 다음과같이 쓸 수 있다."
   ]
  },
  {
   "cell_type": "markdown",
   "id": "15c68b60",
   "metadata": {},
   "source": [
    "$$\\hat{\\Delta}f_i=m\\hat{\\Delta}\\ddot{x},\\;\\;\\hat{\\Delta}f_c=c\\hat{\\Delta}\\ddot{x},\\;\\;\\hat{\\Delta}f_k=k\\hat{\\Delta}\\ddot{x}\\tag{29}$$"
   ]
  },
  {
   "cell_type": "code",
   "execution_count": null,
   "id": "a66ef6c7",
   "metadata": {},
   "outputs": [],
   "source": []
  }
 ],
 "metadata": {
  "kernelspec": {
   "display_name": "Python 3 (ipykernel)",
   "language": "python",
   "name": "python3"
  },
  "language_info": {
   "codemirror_mode": {
    "name": "ipython",
    "version": 3
   },
   "file_extension": ".py",
   "mimetype": "text/x-python",
   "name": "python",
   "nbconvert_exporter": "python",
   "pygments_lexer": "ipython3",
   "version": "3.9.7"
  }
 },
 "nbformat": 4,
 "nbformat_minor": 5
}
