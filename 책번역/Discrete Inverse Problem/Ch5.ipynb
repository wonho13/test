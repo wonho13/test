{
 "cells": [
  {
   "cell_type": "markdown",
   "metadata": {},
   "source": [
    "## 5장"
   ]
  },
  {
   "cell_type": "markdown",
   "metadata": {},
   "source": [
    "## 정규화 변수 선택하기"
   ]
  },
  {
   "cell_type": "markdown",
   "metadata": {},
   "source": [
    "SVD 성분을 걸러내는 방법을 기반으로 하는 여러가지 정규화 방법들을 배웠다. 또한 문제가 작은 경우 Picard plot을 통해 TSVD trunctation parameter를 찾을 수 있음을 확인했다."
   ]
  },
  {
   "cell_type": "markdown",
   "metadata": {},
   "source": [
    "하지만 k (TSVD) 또는 $\\lambda$ (Tikhonov)와 같은 정규화 변수 선택 결과가 신뢰성이 있는지 그리고 자동으로 정규화 변수를 선택해주는 방법은 아직 알지 못한다. 특히 SVD를 계산(문제가 큰 경우 SVD 계산 불가능)할 필요 없거나 plot을 보고 사람이 직접 판단할 필요가 없으며, 효율적이고 신뢰성이 높은 방법을 알면 좋을 것이다."
   ]
  },
  {
   "cell_type": "markdown",
   "metadata": {},
   "source": [
    "불행히도 그런 방법은 아직 발견되지 못하고 있다. 즉, 어떤 상황에서든지 항상 좋은 k 또는 λ 값을 찾는 알고리즘은 아직 없다. 우리가 할 수 있는 것은 특정 가정 하에서 잘 동작하는 방법들을 적절히 선택하는 것이다. 하지만 모든 방법들은 때때로 좋은 결과를 산출하지 못할 수 있다."
   ]
  },
  {
   "cell_type": "markdown",
   "metadata": {},
   "source": [
    "우리는 지난 몇년간 개발된 모든 변수 선택 방법을 다루지는 않을 것이다. 대신 우리는 4가지 방법을 집중적으로 다룰 것이다. 우리는 정규화된 해의 오차에 대해 논할 것이다. 이 오차는 변수 선택 방법들의 근간이 된다. 이 오차를 이용한 2가지 방법은 discrepncy principle과 L-curve이다. 다음으로 우리는 GSV와 NCP 방법에 대해 논할 것이다. 이 두가지 방법은 문제를 통계적으로 기술하는데 근간을 둔다. 우리는 네가지 방법을 비교하며 이 장을 마무리할 것이다."
   ]
  },
  {
   "cell_type": "markdown",
   "metadata": {},
   "source": [
    "처음 3가지 방법들에 대한 상세한 내용 및 참조문서들은 [32]에서 확인 가능하다. 4가지 방법이 책으로 설명되는 경우는 이번이 처음일 것이다. 앞서 말했듯이 매우 많은 변수 선택 방법들이 있으며, 이들은 다양한 원리, 오차 추정, heuristics 등을 기반으로 한다."
   ]
  },
  {
   "cell_type": "markdown",
   "metadata": {},
   "source": [
    "## 5.1 정규화 오차 및 섭동 오차"
   ]
  },
  {
   "cell_type": "markdown",
   "metadata": {},
   "source": [
    "정겨화 변수를 선택하는 어떤 방법이든간에 정규화된 해의 오차를 최소화 하는 것을 목적으로 해야 한다. 따라서 이 오차들을 자세히 관찰하는 것이 좋다. 우리는 Tikhonov 해를 먼저 살펴본 후 TSVD 해를 살펴볼 것이다. Tikhonov 여과계수로 구성된 대각행렬 $\\phi^{[\\lambda]}$를 다음과 같이 정의한다."
   ]
  },
  {
   "cell_type": "markdown",
   "metadata": {},
   "source": [
    "$\\phi^{[\\lambda]}=\n",
    "\\begin{pmatrix}\n",
    "\\varphi_i^{[\\lambda]} & & \\\\\n",
    " & \\ddots & \\\\\n",
    " &  & \\varphi_n^{[\\lambda]} \\\\\n",
    "\\end{pmatrix}\n",
    "$"
   ]
  },
  {
   "cell_type": "markdown",
   "metadata": {},
   "source": [
    "$\\phi^{[\\lambda]}=\\sigma_i^2$"
   ]
  },
  {
   "cell_type": "code",
   "execution_count": null,
   "metadata": {},
   "outputs": [],
   "source": []
  }
 ],
 "metadata": {
  "kernelspec": {
   "display_name": "Python 3",
   "language": "python",
   "name": "python3"
  },
  "language_info": {
   "codemirror_mode": {
    "name": "ipython",
    "version": 3
   },
   "file_extension": ".py",
   "mimetype": "text/x-python",
   "name": "python",
   "nbconvert_exporter": "python",
   "pygments_lexer": "ipython3",
   "version": "3.7.4"
  }
 },
 "nbformat": 4,
 "nbformat_minor": 2
}
