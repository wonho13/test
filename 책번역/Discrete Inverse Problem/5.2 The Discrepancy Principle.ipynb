{
 "cells": [
  {
   "cell_type": "markdown",
   "metadata": {},
   "source": [
    "# 5.2 Simplicity: The Discrepancy Principle"
   ]
  },
  {
   "cell_type": "markdown",
   "metadata": {},
   "source": [
    "Instead of locating the truncation parameter k = kη via a study of the right-hand\n",
    "side’s SVD coefficients, we can choose k such that the residual norm is equal to\n",
    "(n − kη)1/2η (ideally, this happens exactly at k = kη). There are two drawbacks,\n",
    "however: kη appears explicitly in the formula, and even if we happen to have an estimate\n",
    "of (n−kη)1/2η, then this criterion for choosing k is very sensitive to the quality of the\n",
    "estimate. Instead one uses a slightly larger value which is easier to obtain, namely, the\n",
    "expected value of the perturbation norm \u0006e\u00062 = n1/2η. Figure 5.3 illustrates these\n"
   ]
  },
  {
   "cell_type": "markdown",
   "metadata": {},
   "source": [
    "우항의 SVD 계수들을 확인하여 Truncation 변수 $k=k_\\eta$를 적용하는 대신 residual norm이 $(n-k\\eta)^{1/2}\\eta$(이상적으로 이는 $k=k_\\eta$에서 발생함)가 되는 k를 선택할 수 있다. 하지만 두가지 단점이 있다. 첫째는 $k_\\eta$가 공식에 포함된다는 것이고 둘째는 우리가 $(n-k_\\eta)^{1/2}\\eta$를 추정했다고 해도 추정치가 k의 값에 너무 민감하다는 것이다. 대신에 perturbation norm $||e||_2=n^{1/2}\\eta$의 expected value를 사용할 수 있다. 이는 truncation 변수 $k_\\eta$보다 살짝 더 큰 값이며 계산하기 쉽다.  "
   ]
  },
  {
   "cell_type": "markdown",
   "metadata": {},
   "source": [
    "그림 5.3은 이 두가지 경우를 보여준다. 보다 안전한 접근법은 안전계수 $v_{dp}$ (예를들어 2)를 포함하는 것이며, residual norm을 위한 threshold $v_{dp}||e||_2$를 사용하는 것이다."
   ]
  },
  {
   "cell_type": "code",
   "execution_count": null,
   "metadata": {},
   "outputs": [],
   "source": []
  }
 ],
 "metadata": {
  "kernelspec": {
   "display_name": "Python 3",
   "language": "python",
   "name": "python3"
  },
  "language_info": {
   "codemirror_mode": {
    "name": "ipython",
    "version": 3
   },
   "file_extension": ".py",
   "mimetype": "text/x-python",
   "name": "python",
   "nbconvert_exporter": "python",
   "pygments_lexer": "ipython3",
   "version": "3.7.4"
  }
 },
 "nbformat": 4,
 "nbformat_minor": 2
}
