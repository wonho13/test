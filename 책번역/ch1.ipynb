{
 "cells": [
  {
   "cell_type": "markdown",
   "metadata": {},
   "source": [
    "## Chapter 1"
   ]
  },
  {
   "cell_type": "markdown",
   "metadata": {},
   "source": [
    "# Introduction"
   ]
  },
  {
   "cell_type": "markdown",
   "metadata": {},
   "source": [
    "### 1.1 수학적 최적화란 무엇인가?"
   ]
  },
  {
   "cell_type": "markdown",
   "metadata": {},
   "source": [
    "수학적 최적화란 다음을 의미한다.\n",
    "\n",
    "(i) 공식을 세우는것\n",
    "\n",
    "(ii) 다음과 같은 형태의 구속조건이 있는 최적화 문제의 해를 구하는것"
   ]
  },
  {
   "cell_type": "markdown",
   "metadata": {},
   "source": [
    "$$\\begin{align}\\min_{w.r.t.\\;x} \n",
    "f(\\mathbf{x}),\n",
    "\\;\\mathbf{x} = [x_1,x_2,\\dots,x_n]^T \\in \\mathbb{R}^n \\end{align}$$"
   ]
  },
  {
   "cell_type": "markdown",
   "metadata": {},
   "source": [
    "구속조건들"
   ]
  },
  {
   "cell_type": "markdown",
   "metadata": {},
   "source": [
    "$$g_j(\\mathbf{x}) \\leq 0,\\;j=1,2,\\dots,m$$\n",
    "\n",
    "$$h_j(\\mathbf{x}) = 0,\\; j=1,2,\\dots,r$$"
   ]
  },
  {
   "cell_type": "markdown",
   "metadata": {},
   "source": [
    "참고로 w.r.t는 with respect to의 약자로 \"~에 대하여\"를 의미한다."
   ]
  },
  {
   "cell_type": "markdown",
   "metadata": {},
   "source": [
    "$f(\\mathbf{x}),\\; g_j(\\mathbf{x}), \\;h_j(\\mathbf{x})$는 실수벡터 $\\mathbf{x}$에 대한 스칼라 함수이다."
   ]
  },
  {
   "cell_type": "code",
   "execution_count": null,
   "metadata": {},
   "outputs": [],
   "source": []
  }
 ],
 "metadata": {
  "kernelspec": {
   "display_name": "Python 3",
   "language": "python",
   "name": "python3"
  },
  "language_info": {
   "codemirror_mode": {
    "name": "ipython",
    "version": 3
   },
   "file_extension": ".py",
   "mimetype": "text/x-python",
   "name": "python",
   "nbconvert_exporter": "python",
   "pygments_lexer": "ipython3",
   "version": "3.6.6"
  }
 },
 "nbformat": 4,
 "nbformat_minor": 2
}
