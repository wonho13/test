{
 "cells": [
  {
   "cell_type": "markdown",
   "metadata": {},
   "source": [
    "## Mathematics"
   ]
  },
  {
   "cell_type": "markdown",
   "metadata": {},
   "source": [
    "1 kip = 1000 lbf / \n",
    "1 kips = 1000 ksi\n",
    "\n",
    "$1L = 10^{-3}m^3$\n",
    "\n",
    "$cos2\\theta = 1-2sin^2\\theta$"
   ]
  },
  {
   "cell_type": "markdown",
   "metadata": {},
   "source": [
    "Ellipse 위의 점에서 두 Focus까지 길이의 합은 항상 2a임.\n",
    "\n",
    "57˚28' = (57+28/60)˚ "
   ]
  },
  {
   "cell_type": "markdown",
   "metadata": {},
   "source": [
    "$A\\cdot B = |A||B|cos\\theta$\n",
    "\n",
    "$cof(A_{i,j})=$ i, j 행,열 제외한 determinant\n",
    "\n",
    "부호 : $\\begin{pmatrix}\n",
    "+&-&+\\\\\n",
    "-&+&-\\\\\n",
    "+&-&+\\\\\n",
    "\\end{pmatrix}$\n",
    "\n",
    "$adj(A)=cof(A)^T$\n",
    "\n",
    "$A^{-1}=\\frac{adj(A)}{det(A)}$\n",
    "\n",
    "Cross Product : 부호 주의 : +i, -j, +k"
   ]
  },
  {
   "cell_type": "markdown",
   "metadata": {},
   "source": [
    "2차 미방의 해\n",
    "\n",
    "$y''+ay'+b=f(x)$\n",
    "\n",
    "$y = y_h + y_p = y_c + y_p$\n",
    "\n",
    "$y_h=y_c$ : 우항이 0인 해 : 시스템의 고유 특성, Transient 거동\n",
    "\n",
    "$y_h = C_1e^{r_1x}+C_2e^{r_2x}$ : overdamped\n",
    "\n",
    "$y_h = (C_1+C_2x)e^{rx}$ : critically damped\n",
    "\n",
    "$y_h = e^{\\alpha x}(C_1cos\\beta x +C_2 sin\\beta x)$ : underdamped\n",
    "\n",
    "$\\alpha = -a/2$\n",
    "\n",
    "$\\beta = \\frac{\\sqrt{4b-a^2}}{2}$\n",
    "\n",
    "$y_p = C_3 f(x)$ : 외력에 의한 Steady State 거동\n",
    "\n",
    "(1) $y_p$를 미분하여 **원식**에 대입 후 $C_3$을 구한다.\n",
    "\n",
    "(2) $y = y_h+y_p$와 경계조건을 사용하여 $C_1, C_2$를 구한다."
   ]
  },
  {
   "cell_type": "markdown",
   "metadata": {},
   "source": [
    "## Probability and Statistics"
   ]
  },
  {
   "cell_type": "markdown",
   "metadata": {},
   "source": [
    "범위의 확률 구하는 문제 : 정규분포 값 확인할 때 안쪽 값인지 바깥쪽 값인지 확인할 것"
   ]
  },
  {
   "cell_type": "markdown",
   "metadata": {},
   "source": [
    "Sample Variance\n",
    "\n",
    "$S^2=\\frac{1}{n-1}\\sum_{i=1}^{n}(X_i-\\bar{X})^2$\n",
    "\n",
    "스튜던트 t 분포 : 두 집단의 평균 차이가 통계적으로 의미가 있는지 확인할 때 사용"
   ]
  },
  {
   "cell_type": "markdown",
   "metadata": {},
   "source": [
    "* Mode : 가장 많이 나온 숫자"
   ]
  },
  {
   "cell_type": "markdown",
   "metadata": {},
   "source": [
    "* 신뢰도 평가\n",
    "\n",
    "$\\bar{X}-Z_{\\alpha/2}\\frac{\\sigma}{\\sqrt{n}} \\leq \\mu \\leq \\bar{X}+Z_{\\alpha/2}\\frac{\\sigma}{\\sqrt{n}}$\n",
    "\n",
    "$\\bar{X}$ : Sample 평균\n",
    "\n",
    "$Z_{\\alpha/2}$ : 신로도 알면 표에서 구할 수 있음\n",
    "\n",
    "$\\sigma$ : 모집단의 표준편차\n",
    "\n",
    "$\\mu$ : 모집단으 평균\n",
    "\n",
    "$n$ : Sample의 수\n",
    "\n",
    "모집단의 평균이 상기 식 범위 안에 존재한다면,\n",
    "\n",
    "주어진 신뢰도로 이상 없다(해당 분포에서 샘플링 되고 있다.).\n",
    "\n",
    "모집단의 평균이 상기 식 범위를 벗어난다면,\n",
    "\n",
    "주어진 신뢰도로 이상이 있다(해당 분포에서 샘플링 되고 있지 않다.).\n",
    "\n",
    "\n"
   ]
  },
  {
   "cell_type": "markdown",
   "metadata": {},
   "source": [
    "## Statics"
   ]
  },
  {
   "cell_type": "markdown",
   "metadata": {},
   "source": [
    "Statically Determinant : 시스템 미지수가 3개인 경우\n",
    "\n",
    "Statically Indeterminant : 시스템 미지수가 4개 이상인 경우\n",
    "\n",
    "simple support : 미지수 1개 / pin : 미지수 2개 / fixed : 미지수 3개"
   ]
  },
  {
   "cell_type": "markdown",
   "metadata": {},
   "source": [
    "나사식 : $M=Pr tan(\\alpha\\pm\\phi)$\n",
    "\n",
    "$tan\\phi = \\mu$"
   ]
  },
  {
   "cell_type": "markdown",
   "metadata": {},
   "source": [
    "* 마찰력\n",
    "\n",
    "마찰력은 $\\mu N$이 아님. 마찰력은 해당 지점의 반발력임.\n",
    "\n",
    "$\\mu N$은 최대 마찰력이며, 이 이상의 힘이 주어졌을 때 움직이기 시작하는 시점을 의미함."
   ]
  },
  {
   "cell_type": "markdown",
   "metadata": {},
   "source": [
    "* Thrust\n",
    "\n",
    "(1) 뾰족하고 2개의 Thrust로 구성되는데 외력이 없으면 : 두 부재의 하중은 0이다.\n",
    "\n",
    "\n",
    "(2) T자 형태로 3개의 Thrust가 구성되고 외력이 없으면 : 가운데 부재의 하중은 0이다.\n",
    "\n",
    "\n",
    "(3) 하중이 0인 부재는 그림에서 삭제하고 다시 시작\n",
    "\n",
    "\n",
    "(4) Moment 평형식 적용 시 기준점은 Thrust가 가장 많이 향하는 점으로 선택한다.\n",
    "\n",
    "\n",
    "(5) 구하고자 하는 Thrust를 절단하여 Fx, Fy, Moment 평형부터 확인해보고 시작한다."
   ]
  },
  {
   "cell_type": "markdown",
   "metadata": {},
   "source": [
    "## Dynamics"
   ]
  },
  {
   "cell_type": "markdown",
   "metadata": {},
   "source": [
    "* 운동량 보존 계산 시 유의사항\n",
    "\n",
    "(1) 속도는 절대 속도와 상대 속도가 있고, 계산시 절대 속도를 사용해야 함.\n",
    "\n",
    "$v_{1,2} = v_1-v_2$ : 부호 유의!\n",
    "\n",
    "(2) 속도는 벡터이므로 방향을 고려해야 함. (방향이 바뀌면 음수)\n",
    "\n",
    "(3) 충격량(impulse)는 운동량의 변화량임.\n",
    "\n",
    "* 공 외면의 속도 계산 시 유의사항 : 공 자체의 이동 속도와 회전 방향의 속도 모두 고려해야 됨.\n",
    "\n",
    "* 포물선 운동\n",
    "\n",
    "(1) 높이가 0이 되는 시간 계산 : $y=v_0 sin\\theta t - \\frac{1}{2}gt^2$\n",
    "\n",
    "(2) 수평방향 이동 거리 계산 : $x = v_0 cos\\theta t$"
   ]
  },
  {
   "cell_type": "markdown",
   "metadata": {},
   "source": [
    "줄로 연결된 물체 : 가속도가 같다"
   ]
  },
  {
   "cell_type": "markdown",
   "metadata": {},
   "source": [
    "$M = I\\alpha$\n",
    "\n",
    "km/hr, m/s 단위 주의\n",
    "\n",
    "회전하는 빔 : 기준 위치와 상관 없이 각 가속도 $\\alpha$가 같다. 기준 위치별 $I$가 다르므로 $M$가 달라진다.\n",
    "\n",
    "Radius of Gyration : 전체 질량의 회전 반경을 의미한다.\n",
    "\n",
    "$MR^2=m_1r_1^2+m_2r_2^2+...$"
   ]
  },
  {
   "cell_type": "markdown",
   "metadata": {},
   "source": [
    "회전 운동 에너지 : $\\frac{1}{2}I\\omega^2$"
   ]
  },
  {
   "cell_type": "markdown",
   "metadata": {},
   "source": [
    "## Mechanics of Materials"
   ]
  },
  {
   "cell_type": "markdown",
   "metadata": {},
   "source": [
    "* Mohr Circle\n",
    "\n",
    "$\\sigma_{x'}=\\frac{\\sigma_x+\\sigma_y}{2}+\\frac{\\sigma_x-\\sigma_y}{2}cos(2\\theta)+\\tau_{xy}sin(2\\theta)$\n",
    "\n",
    "$\\sigma_{y'}=\\frac{\\sigma_x+\\sigma_y}{2}-\\frac{\\sigma_x-\\sigma_y}{2}cos(2\\theta)-\\tau_{xy}sin(2\\theta)$\n",
    "\n",
    "$\\tau_{x'y'} = -\\frac{\\sigma_x-\\sigma_y}{2}sin(2\\theta)+\\tau_{xy}cos(2\\theta)$\n",
    "\n",
    "$tan(2\\theta)=\\frac{\\tau_{xy}}{(\\sigma_x-\\sigma_y)/2}$\n",
    "\n",
    "* 빔의 모멘트\n",
    "\n",
    "$V(x)=0$인 지점에서 최대, $V(x)$의 면적(적분)은 $M(x)$임.\n",
    "\n",
    "* 빔 내부 압축/인장 응력\n",
    "\n",
    "$\\sigma=\\frac{P}{A}+\\frac{Mc}{I}$\n",
    "\n",
    "상기 식에서 주의할 점 : $c$는 중심에서 최대 거리임 (Moment 계산할 때 하중 작용점과 혼동하지 말 것)\n",
    "\n",
    "* 빔 내부 전단응력\n",
    "\n",
    "$\\tau=\\frac{P}{A}+\\frac{Tr}{J}$\n",
    "\n",
    "$\\frac{P}{A}$를 반드시 확인할것!\n",
    "\n",
    "* 빔의 처짐\n",
    "\n",
    "점하중, 분포하중, Moment 3개에 의해 발생 가능함.\n",
    "\n",
    "* 내압 용기\n",
    "\n",
    "$\\sigma_t=\\frac{P_i r}{t}$\n",
    "\n",
    "$\\sigma_a=\\frac{P_i r}{2t}$\n",
    "\n",
    "상기 식에서 유의할 점은 $r$은 평균 값임. 평균 값으로 답이 안나오면 내경 값 사용할 것.\n",
    "\n",
    "또한, Thin wall의 조건은 $\\frac{t}{R_i} < 0.1$이며, Thin wall의 경우 $\\sigma_r \\approx 0$ 임!\n",
    "\n",
    "* 빔 내부 전단 응력\n",
    "\n",
    "$\\tau = \\frac{VQ}{Ib}$\n",
    "\n",
    "$Q = \\int_{y_1}^c y dA$ \n",
    "\n",
    "$c$는 높이의 절반, $y_1$는 0에서 최대\n",
    "\n",
    "$b$가 폭임에 유의!"
   ]
  },
  {
   "cell_type": "markdown",
   "metadata": {},
   "source": [
    "Buckling 식 사용시 유의사항 : 사각 단면 $I$계산 시 긴 길이의 3승이 아니라 짧은 길이의 3승해야 됨\n",
    "\n",
    "Thrust+Buckling 문제 : 부재에 걸리는 하중이 제일 크다고 해서 좌굴이 제일 먼저 일어나는 것이 아님. 길이도 연관 있으므로 $P_{cr}=\\frac{\\pi^2EI}{(Kl)^2}$을 구해봐야 함\n",
    "\n",
    "대각선 방향 힘 : 압축/인장 응력, 2개 방향 굽힘 모멘트 모두 고려해야 됨"
   ]
  },
  {
   "cell_type": "markdown",
   "metadata": {},
   "source": [
    "* 자중에 의한 Beam의 늘어남\n",
    "\n",
    "$\\delta = \\frac{PL}{2EA}$\n",
    "\n",
    "$P=mg$"
   ]
  },
  {
   "cell_type": "markdown",
   "metadata": {},
   "source": [
    "## Fluid Dynamics"
   ]
  },
  {
   "cell_type": "markdown",
   "metadata": {},
   "source": [
    "* 대각면이 받는 유체 하중 \n",
    "\n",
    "$F_x : P=\\gamma h$를 이용, $F_y :$ 물의 \"총\" 체적과 밀도($F=mg$) 이용\n",
    "\n",
    "수문의 경우, 수문 밖이 대기조건이면 하중 계산시 대기압 고려 안해도 됨.\n",
    "\n",
    "$y_{cp}$는 압력의 중심(center of pressure)이며, **하중이 작용하는 지점**이고, $y_c$는 단면의 중심(center of area)이며, **평균 압력 계산의 기준 높이** ($y_c$ 점에 해당하는 높이가 $\\bar{h}$라면, $\\bar{P}=\\gamma\\bar{h}$)"
   ]
  },
  {
   "cell_type": "markdown",
   "metadata": {},
   "source": [
    "* $P_{abs}=P_{gauge}+P_{atm}$\n",
    "\n",
    "이상기체 방정식, 베르누이 방정식 모두 $P_{abs}$를 사용한다. $P_{gauge}$로 주어졌는지 반드시 확인!"
   ]
  },
  {
   "cell_type": "markdown",
   "metadata": {},
   "source": [
    "* 유동 에너지 : $PV+\\frac{1}{2}mv^2+mgh$\n",
    "\n",
    "* 내부 유동에서 보존 되는 것\n",
    "\n",
    "(1) 액체의 경우 밀도가 일정 하므로 $Q=Av=const$\n",
    "\n",
    "(2) 기체의 경우 밀도가 일정하지 않으므로 $\\dot{m}=\\rho Q=const$\n",
    "\n",
    "* 오리피스\n",
    "\n",
    "$A_2 = C_c A_0$\n",
    "\n",
    "$Q = CA\\sqrt{2gh}$ \n",
    "\n",
    "C는 핸드북 표에 있음\n",
    "\n",
    "* 펌프\n",
    "\n",
    "$Power = \\frac{\\dot{m}gh}{\\eta}=\\frac{\\gamma h Q}{\\eta}$\n",
    "\n",
    "상기 식에서 $h$는 총 손실 수두 : $h_f=h_{fric}+h_{fit}+\\Delta h$\n",
    "\n",
    "상기 식에서,\n",
    "\n",
    "$h_{fric}=f\\frac{L}{D}\\frac{V^2}{2g}$\n",
    "\n",
    "$h_{fjit}=C\\frac{V^2}{2g}$\n",
    "\n",
    "$\\Delta h$ : 수두 차이"
   ]
  },
  {
   "cell_type": "markdown",
   "metadata": {},
   "source": [
    "* Open Channel\n",
    "\n",
    "Froude Number로 Critical Flow 판별\n",
    "\n",
    "$Fr=\\frac{V}{\\sqrt{gy_h}}$\n",
    "\n",
    "$y_h=$ : hydraulic depth $=\\frac{A}{T}$\n",
    "\n",
    "$T:$ : width\n",
    "\n",
    "Fr > 1 : Supercritical Flow\n",
    "\n",
    "Fr = 1 : Critical Flow (이때의 속도 : critical velocity)\n",
    "\n",
    "Fr <1 : Subcritical Flow"
   ]
  },
  {
   "cell_type": "markdown",
   "metadata": {},
   "source": [
    "* 내부유동 수두손실\n",
    "\n",
    "Laminar인 경우 : $f=64/Re$\n",
    "\n",
    "Laminar이면서 유량 또는 압력손실이 주어진 경우 : Hagen-Poiseuille Eq. 사용\n",
    "\n",
    "$Q=\\frac{\\pi R^4\\Delta P_f}{8\\mu L}=\\frac{\\pi D^4 \\Delta P_f}{128 \\mu L}$"
   ]
  },
  {
   "cell_type": "markdown",
   "metadata": {},
   "source": [
    "* 복잡한 Manometer\n",
    "\n",
    "$P_A + \\gamma_1h_1 - \\gamma_2h_2 + \\dots = P_B$\n",
    "\n",
    "아래가 앞력이 높음 -> 내려갈때 : + / 위가 압력 낮음 -> 올라갈때 : -"
   ]
  },
  {
   "cell_type": "markdown",
   "metadata": {},
   "source": [
    "* Nozzle\n",
    "\n",
    "노즐의 직경 변화와 상관 없이 $v=\\sqrt{2gh}$임."
   ]
  },
  {
   "cell_type": "markdown",
   "metadata": {},
   "source": [
    "* Impulse Turbine (Water Jet)\n",
    "\n",
    "$\\dot{W}_{max}=\\frac{1}{2}\\rho Q v^2$"
   ]
  },
  {
   "cell_type": "markdown",
   "metadata": {},
   "source": [
    "## Thermodynamics"
   ]
  },
  {
   "cell_type": "markdown",
   "metadata": {},
   "source": [
    "### * 이상기체\n",
    "\n",
    "$Pv=RT$\n",
    "\n",
    "$PV=mRT$\n",
    "\n",
    "$R=\\frac{\\bar{R}}{M}$\n",
    "\n",
    "$PV=(m/M)\\bar{R}T=N\\bar{R}T$\n",
    "\n",
    "$m :$ 질량 $[g]$\n",
    "\n",
    "$M :$ Molcular Weight $[g/mol]$ (주기율표 하단 Atomic Weight 활용)\n",
    "\n",
    "$N :$ 총 몰 수 $[mol]$\n",
    "\n",
    "$M_H=1$, $M_C=12$, $M_N=14$, $M_O=16$\n",
    "\n",
    "$M_{H_2O}=18$, $M_{CO_2}=44$, $M_{N_2}=28$\n",
    "\n",
    "### * 실제기체\n",
    "\n",
    "$Pv=ZRT$\n",
    "\n",
    "$Z:$ Compressibility\n",
    "\n",
    "$T_r=T/T_c$, $P_r=P/P_c$를 구한 후 핸드북 그래프에서 $Z$값을 찾는다.\n",
    "\n",
    "$V_{actual} = ZV_{ideal}$\n",
    "\n",
    "$P_{actual} = ZP_{ideal}$\n",
    "\n",
    "\n",
    "### * 엔트로피 변화량 (실제 엔트로피 변화량을 구할 때는 질량 곱해줄 것)\n",
    "\n",
    "#### (1) 기체\n",
    "\n",
    "$\\Delta s=c_p ln(T_2/T_1)-Rln(P_2/P_1)$\n",
    "\n",
    "$\\Delta s=c_v ln(T_2/T_1)+Rln(v_2/v_1)$\n",
    "\n",
    "#### (2) 액체, 고체\n",
    "\n",
    "$ds = c(dT/T)$\n",
    "\n",
    "$\\Delta s=s_2-s_1=\\int c(dT/T) = c_{mean} ln(T_2/T_1)$\n",
    "\n",
    "### * 열역학 제 1 법칙\n",
    "\n",
    "Open System과 Closed System 식은 유사하지만 다르므로 반드시 확인하고 사용한다.\n",
    "\n",
    "#### (1) Closed System\n",
    "\n",
    "#### (2) Open System\n",
    "\n",
    "* 일반식\n",
    "\n",
    "$\\sum \\dot{m}_i(h_i+V_i^2/2+gZ_i)-\\sum \\dot{m}_e(h_e+V_e^2/2+gZ_e)+\\dot{Q}_{in}-\\dot{W}_{net}=d(m_su_s)/dt$\n",
    "\n",
    "우항에서 $m_s$, $u_s$는 시스템 전체의 질량 및 내부에너지. steady state인 경우 우항은 0\n",
    "\n",
    "* Throttling Process : 단열, 등 엔탈피 ($dq=0$, $dh=0$)\n",
    "\n",
    "* Compressor : $h_i=h_e+w$ \n",
    "\n",
    "($dh=c_p dT$ 식을 사용하면 $dh$구할 수 있음. 압력이 달라져도 온도만 알면 이식 적용 가능함)\n",
    "\n",
    "(단, 열의 이동이 주어지는 경우 일반 식을 사용해야 됨.)\n",
    "\n",
    "\n",
    "### * 이상기체 혼합\n",
    "\n",
    "mole fraction ($x_i=N_i/N$) 또는 mass fraction ($y_i=m_i/m$)부터 구하고 시작한다.\n",
    "\n",
    "mole fraction은 몰수 또는 분압 또는 부분체적을 알면 구할 수 있다. ($x_i=N_i/N=P_i/P=V_i/V$)\n",
    "\n",
    "### * 액체-증기 혼합\n",
    "\n",
    "quality = x\n",
    "\n",
    "$x = \\frac{m_g}{m_f+m_g}$\n",
    "\n",
    "$v = xv_g+(1-x)v_f$\n",
    "\n",
    "* 액체의 체적을 구하는 경우\n",
    "\n",
    "(1) quality로 액체의 질량을 구한다\n",
    "\n",
    "(2) $v_f$에 액체의 질량을 곱한다. (액체와 증기의 혼합 비체적인 v에 곱하지 않도록 유의!)\n",
    "\n",
    "### * 액체-증기 평형 \n",
    "\n",
    "#### (1) Raoult's Law\n",
    "\n",
    "$P_i=x_iP_i^*$\n",
    "\n",
    "$P_i :$ 혼합, 평형상태 **증기**의 부분압력\n",
    "\n",
    "$x_i :$ **액체**의 몰 분율 $= N_i/N$\n",
    "\n",
    "$P_i^* :$ 순수물질의 **증기**압력\n",
    "\n",
    "#### (2) Henry's Law\n",
    "\n",
    "$P_i=P y_i=h x_i$\n",
    "\n",
    "$P_i :$ 혼합, 평형상태 **증기**의 부분압력\n",
    "\n",
    "$P :$ 혼합, 평형상태 **증기**의 총압력 ($P=\\sum P_i$)\n",
    "\n",
    "$y_i :$ 혼합, 평형상태 **증기**의 몰 분율\n",
    "\n",
    "$h :$ Henry's Law 상수\n",
    "\n",
    "$x_i :$ 혼합, 평형상태 **액체**의 몰 분율\n",
    "\n",
    "### * 공기 습도 (Psychometric Chart)\n",
    "\n",
    "습공기 선도(Psychometric Chart)의 x축은 건구온도, y축은 절대습도(Humidity Ratio)임.\n",
    "\n",
    "절대습도(y축)는 습기가 더해지지 않는 한 변하지 않음 : 대부분 변화과정은 수평으로 이동\n",
    "\n",
    "### * 연소 (Combustion)\n",
    "\n",
    "* 연소 생성물에는 반드시 $CO_2$와 $H_2O$가 있어야 됨. $H_2O$는 증발되어 성분 분석에 안나타날 수 있으므로 추가 고려 필요!\n",
    "\n",
    "\n",
    "* 산소(air)에는 $O_2$ 1 mole 당 3.76 mole의 $N_2$가 포함되어 있음\n",
    "\n",
    "**300%** excess air이면, 공기량에 **4배**를 해주어야 됨.\n",
    "\n",
    "* Percent of theoretical air\n",
    "\n",
    "= (실제 연소에 사용된 공기 몰수)/(완전연소에 필요한 공기 몰수)\n",
    "\n",
    "= (좌항의 공기 몰수)/(우항의 공기 몰수)\n",
    "\n",
    "### *HFC-134a\n",
    "\n",
    "P-h Diagram 활용\n",
    "\n",
    "숫자 읽을 때 선의 기울기와 숫자의 기울기 같은지 확인할 것!\n",
    "\n",
    "### *녹는점\n",
    "\n",
    "평형상태(상변화)에서 Giibs Energy는 0임\n",
    "\n",
    "$\\Delta g=\\Delta h-T_m \\Delta s=0$\n",
    "\n",
    "$T_m=$ 녹는점"
   ]
  },
  {
   "cell_type": "markdown",
   "metadata": {},
   "source": [
    "### * Gibbs Phase Rule\n",
    "\n",
    "P + F = C + 2\n",
    "\n",
    "**별다른 이야기가 없으면 기체의 F는 P와 v로 2임.**"
   ]
  },
  {
   "cell_type": "markdown",
   "metadata": {},
   "source": [
    "## Heat Transfer"
   ]
  },
  {
   "cell_type": "markdown",
   "metadata": {},
   "source": [
    "* 열교환기\n",
    "\n",
    "Log Meam Temperature Difference (LMTD)를 척도로 사용함.\n",
    "\n",
    "Counter flow, Pararrel flow 두 가지 경우에 대한 식이 있음.\n",
    "\n",
    "* Radiation\n",
    "\n",
    "두 물체 사이의 Net Energy Exchange를 구하는 식이 별도로 있음\n",
    "\n",
    "- 아주 작은 물체가 다른 물체로 둘러 쌓인ㅇ 경우\n",
    "\n",
    "- 2개의 Black Body ($\\epsilon=1$)인 경우\n",
    "\n",
    "- Gray Body인 경우\n",
    "\n",
    "- 낮은 Emissivity를 가진 Shield가 중간이 있는 판인 경우\n",
    "\n",
    "- Reradiating을 하는 표면으로 둘러쌓인 경우\n",
    "\n",
    "Net Energy Exchange를 구할 때 Shape Factor, $F_{i,j}$를 구해야 됨\n",
    "\n",
    "$i$표면에서 $j$표면으로 방출하는 표면 계수를 의미하며, 다음을 만족함.\n",
    "\n",
    "(1) $\\sum_i F_{i,j}=1$\n",
    "\n",
    "(2) $A_i F_{i,j} = A_j F_{j,i}$\n",
    "\n",
    "$\\epsilon_{i,j}$ : i면이 j면을향해 갖는 Emissivity. 별다른 이야기가 없으면 그냥 $\\epsilon_i$임."
   ]
  },
  {
   "cell_type": "markdown",
   "metadata": {},
   "source": [
    "## Instrumentation, Measurement, Control"
   ]
  },
  {
   "cell_type": "markdown",
   "metadata": {},
   "source": [
    "sensitivity of system = error ratio = actuating signal ratio\n",
    "\n",
    "$\\frac{Input-Feedback}{Input}=\\frac{1}{1+G(s)H(s)}$ : negative feedback 인 경우\n",
    "\n",
    "$\\frac{Input+Feedback}{Input}=\\frac{1}{1-G(s)H(s)}$ : positive feedback 인 경우"
   ]
  },
  {
   "cell_type": "markdown",
   "metadata": {},
   "source": [
    "## Mechanical Engineering"
   ]
  },
  {
   "cell_type": "markdown",
   "metadata": {},
   "source": [
    "공칭크기 = Basic Size = Nominal Size\n",
    "\n",
    "Deviation = 실제크기와 공칭크기의 차이\n",
    "\n",
    "Upper Deivation = 최대한계크기와 공칭크기의 차이\n",
    "\n",
    "Lower Deviation = 최소한계크기와 공칭크기의 차이\n",
    "\n",
    "Fundamental Deviation = Upper Deviation과 Lower Deviation 중 작은 값(한계크기가 공칭크기에 가까운 값)\n",
    "\n",
    "fit의 종류 = Clearance(여유) / Transition(중간) / Interference(간섭) => 종류에 맞는 식을 핸드북에서 찾아서 사용해야 함.\n",
    "\n"
   ]
  },
  {
   "cell_type": "markdown",
   "metadata": {},
   "source": [
    "## Material Properties and Processing"
   ]
  },
  {
   "cell_type": "markdown",
   "metadata": {},
   "source": [
    "* Cold Working\n",
    "\n",
    "금속의 면적 또는 두께의 변화를 조사하면 Cold Working의 양을 알 수 있음.\n",
    "\n",
    "Cold Working은 **재결정 온도** 이하에서 작업하는 것을 의미.\n",
    "\n",
    "misalignment, large strain, 연성 감소 등 발생\n",
    "\n",
    "표면은 Hot Working 보다 좋음\n",
    "\n",
    "* Hot Working\n",
    "\n",
    "응력완화, 재결정, 입자성장 등 발생\n",
    "\n",
    "* Annealing\n",
    "\n",
    "Annealing을 하면 Cold Working 결함 대부분을 제거할 수 있음\n",
    "\n",
    "Annealing을 하면 Hardness가 감소함\n",
    "\n",
    "* 저합금강(Low Alloy) : 흔한 재료, 널리 사용됨\n",
    "\n",
    "* Stainless Steel \n",
    "\n",
    "4가지 분류: Ferritic, Martensitic, Austenitic, duplex\n",
    "\n",
    "* 철에 실리콘 추가 : 항복강도, 인장강도 증가\n",
    "\n",
    "* 철에 몰리브뎀 추가 : 열처리를 통한 강도, 경도 증가가 가능해짐\n",
    "\n",
    "* Yield Strength : 항복응력, 0.2% Strain이 발생하는 지점의 응력임, 선형 구간의 끝인 Elastic Limit와 혼동하지 말것.\n",
    "\n",
    "* Elongation : 파손후 남는 영구변형\n",
    "\n",
    "* Perfectly Elastic : 비선형 Curve여도 영구변형 없음\n",
    "\n",
    "* Oxidation Potential : \n",
    "\n",
    "**+로 큰 값**일수록 **이온화(산화)** 잘 일어남 = **Anode**가 됨\n",
    "\n",
    "* Coordinate Number(배위수) : 최근접 원자수. FCC의 경우 12\n",
    "\n",
    "* 철의 변화 \n",
    "\n",
    "$\\alpha - Ferrite (BCC) \\rightarrow \\gamma - Austenite (FCC) \\rightarrow \\delta - Ferrite (BCC)$\n",
    "\n",
    "$\\gamma - Austenite (FCC)$를 quenching $\\rightarrow  martensite$ \n",
    "\n",
    "martensite는 equilibrium 상이 아님 quenching으로 인위적으로 얻은 구조임"
   ]
  },
  {
   "cell_type": "markdown",
   "metadata": {},
   "source": [
    "## Electricity"
   ]
  },
  {
   "cell_type": "markdown",
   "metadata": {},
   "source": [
    "* Real Power : $P[W] = V_{rms}I_{rms}cos\\theta$\n",
    "\n",
    "* Reactive Power : $Q[VAR] = V_{rms}I_{rms}sin\\theta$\n",
    "\n",
    "* Complex Power : $S[VA] = V_{rms}I_{rms}$\n",
    "\n",
    "* Power Factor : $cos\\theta$\n",
    "\n",
    "\n",
    "* Effective Current, Voltage : RMS Value임! (Handbook 식 참조)\n",
    "\n",
    "* Current의 Phase 부호는 전압 Peak 기준 전류 Peak가 더 나중에 나오면 (-) 더 먼저나오면 (+)임\n",
    "\n",
    "* DC 전원에서 Inductor와 Capacitor는 아무런 영향을 못줌. Transformer도 기능 못함.\n",
    "\n",
    "* 양측 Power ($I^2R$)이 같을 때 Transformer 전달 Power가 최대임\n",
    "\n",
    "* Equivalent 회로\n",
    "\n",
    "전압원 : Closed로 바꿔(bypass 일어남, 전압차 0 됨) 저항 계산\n",
    "\n",
    "전류원 : Opened로 바꿔(전류 안흐름) 저항 계산\n",
    "\n",
    "$V_eq$ (Thevnin) : 측정단의 전압강하\n",
    "\n",
    "$I_eq$ (Norton) : 측정단을 Closed로 바꿨을 때 흐르는 전류\n",
    "\n",
    "* Resonance\n",
    "\n",
    "Impedance가 최소일 때 발생, 이때 전류는 최대"
   ]
  },
  {
   "cell_type": "markdown",
   "metadata": {},
   "source": [
    "* Synchronous Motor\n",
    "\n",
    "(1) 속도는 항상 Synchronous Speed로 일정 (운전 능력 내에서)\n",
    "\n",
    "(2) Power는 부하(토크)에 비례하여 증가\n",
    "\n",
    "* Induction Motor\n",
    "\n",
    "항상 Slip이 있음. 따라서 Synchronous Motor보다 항상 느림.\n",
    "\n",
    "Three phase motor(=poly phase motor)임.\n",
    "\n",
    "* Generator\n",
    "\n",
    "(1) 코일과 회전자로 구성된다.\n",
    "\n",
    "(2) 이 코일의 저항을 Amature Resistance라고 한다.\n",
    "\n",
    "(3) 다음 식을 만족한다.\n",
    "\n",
    "$V = IR+K_E\\omega$\n",
    "\n",
    "$R:$ Amature Resistance\n",
    "\n",
    "$V:$ 회전자 회전에 의해 발생하는 전압\n",
    "\n",
    "$I:$ Generator로 생성한 전기를 사용하고자 하는 곳에 걸리는 전류\n",
    "\n",
    "$\\omega$ : 회전자의 회전속도\n",
    "\n",
    "* Stalling : 정지\n",
    "\n",
    "* DC Motor\n",
    "\n",
    "rated capacity보다 약간 넘는 경우 짧은 시간동안은 rated torque보다 높은 torque로 운전 가능"
   ]
  },
  {
   "cell_type": "markdown",
   "metadata": {},
   "source": [
    "## Mechanical Design and Analysis"
   ]
  },
  {
   "cell_type": "markdown",
   "metadata": {},
   "source": [
    "* Tolerance : 음수가 될 수 없다..?\n",
    "\n",
    "* Transducer : 물\n",
    "\n",
    "* Erosion : 부식, 침식\n",
    "\n",
    "* Diametral Pitch : 총 이빨수 / 총 직경"
   ]
  },
  {
   "cell_type": "markdown",
   "metadata": {},
   "source": [
    "## Measurement, Instrumentation, and Controls"
   ]
  },
  {
   "cell_type": "markdown",
   "metadata": {},
   "source": [
    "* Transducer : 물리적 변화를 전기적 신호로 만들어 전송(transmit)\n",
    "\n",
    "* GFCI (Ground Fault Circuit Interrupter) : 누전 차단기 = 두꺼비집\n",
    "\n",
    "* Stability 조건 : 특성방정식(전달함수 분모)의 해가 모두 음수이면 안정\n",
    "\n",
    "* Routh Criterion\n",
    "\n",
    "아래와 같은 특성방정식이 있다.\n",
    "\n",
    "$a_0x^n + a_1x^{n-1} + a_2x^{n-2} + a_3x^{n-3} + \\dots$\n",
    "\n",
    "(1) 아래와 같이 두 줄 작성\n",
    "\n",
    "$a_0\\;\\;a_2\\;\\;a_4\\;\\;\\dots$\n",
    "\n",
    "$a_1\\;\\;a_3\\;\\;a_5\\;\\;\\dots$\n",
    "\n",
    "(3) 아래와 같이 세번째 줄 작성\n",
    "\n",
    "$a_0\\;\\;a_2\\;\\;a_4\\;\\;\\dots$\n",
    "\n",
    "$a_1\\;\\;a_3\\;\\;a_5\\;\\;\\dots$\n",
    "\n",
    "$b_0\\;\\;b_1\\;\\;b_2\\;\\;\\dots$\n",
    "\n",
    "$b_0 = \\frac{-\n",
    "\\begin{vmatrix}\n",
    "a_0 && a_2 \\\\\n",
    "a_1 && a_3 \n",
    "\\end{vmatrix}\n",
    "}{a_1}\n",
    "\\;\\;\n",
    "b_1 = \\frac{-\n",
    "\\begin{vmatrix}\n",
    "a_0 && a_4 \\\\\n",
    "a_1 && a_5 \n",
    "\\end{vmatrix}\n",
    "}{a_1}\n",
    "$ (det의 오른쪽 2개만 오른쪽으로 이동)\n",
    "\n",
    "(4) 마지막 줄까지 작성한 후 첫째 열의 부호가 안바뀌면 Stable!"
   ]
  },
  {
   "cell_type": "markdown",
   "metadata": {},
   "source": [
    "## Economics"
   ]
  },
  {
   "cell_type": "markdown",
   "metadata": {},
   "source": [
    "* 이자율 i\n",
    "\n",
    "$i = \\frac{r}{m}$\n",
    "\n",
    "$r:$ 연이율, Nominal Interest\n",
    "\n",
    "$m:$ 연간 Comound 수\n",
    "\n",
    "$i:$ Compound 당 이율\n",
    "\n",
    "$n:$ 주어진 기간동안 총 Compound 수 \n",
    "\n",
    "effective annual interest rate은 i가아님! 아래 식임!\n",
    "\n",
    "$i_e=(1+r/m)^m-1$\n",
    "\n",
    "* Capitalized Cost\n",
    "\n",
    "$n \\rightarrow\\infty$인 경우 **현재** 총 비용, P=A/i\n",
    "\n",
    "**계산방법**\n",
    "\n",
    "(1) EUAC 계산\n",
    "\n",
    "A=P(A/P)+F(A/F)+A\n",
    "\n",
    "(2) CP = EUAC/i\n",
    "\n",
    "P, A, F 중 A가 중간에 변할 수 있는데, 이 경우 n년 뒤 시점의 F를 구한 후 P로 환산해야 한다.\n",
    "\n",
    "* 1년 총 비용 = 1년 운영비 + 1년 Depreciation + Salvage Value * i\n",
    "\n",
    "Salvage Value * i : 운영하지 않고 팔아서 현재 판매가(Salvage Value)를 은행에 넣었을 경우 얻을 수 있는 이자를 의미 = 기회비용 = 소유비\n",
    "\n",
    "* 매년 내는 이자 : 잔액 * 이자율\n",
    "\n",
    "첫해 : P * i\n",
    "\n",
    "둘째해 : (P-(A-P*i))*i    (A: 균일상환 금액, P*i : 첫해에 낸 이자)\n",
    "\n",
    "* disbursement : 지출 / receipt,revenue : 수입 / withdraw : 인출 / overhead cost : 간접비\n",
    "\n",
    "* Rate of Return\n",
    "\n",
    "Benefit이 Cost보다 커지는 최소 이율. Project 시작 전에 평가하므로 현재(P)를 기준으로 계산\n",
    "\n",
    "P = -P + F(P/F) - A1(P/A) + A2(P/A) > 0\n",
    "\n",
    "P : 처음 구매비\n",
    "\n",
    "F : Salvage Value\n",
    "\n",
    "A1 : 연간 드는 비용\n",
    "\n",
    "A2 : 연간 얻는 수입\n",
    "\n",
    "* bond value =A(P/A) + F(P/F)\n",
    "\n",
    "F : face value bond\n",
    "\n",
    "* inflation\n",
    "\n",
    "(F/P) = $(1+interest \\;rate)^n (1+inflation)^n$\n",
    "\n",
    "* Break Even : 비용(C) = 수입(B)\n",
    "\n",
    "* mutually exclusive : 한가지 목적에 대한 다양한 대안을 의미. 각 대안중 하나만 성취해도 같은 목적이 성취됨을 의미."
   ]
  },
  {
   "cell_type": "code",
   "execution_count": null,
   "metadata": {},
   "outputs": [],
   "source": []
  }
 ],
 "metadata": {
  "kernelspec": {
   "display_name": "Python 3",
   "language": "python",
   "name": "python3"
  },
  "language_info": {
   "codemirror_mode": {
    "name": "ipython",
    "version": 3
   },
   "file_extension": ".py",
   "mimetype": "text/x-python",
   "name": "python",
   "nbconvert_exporter": "python",
   "pygments_lexer": "ipython3",
   "version": "3.6.6"
  }
 },
 "nbformat": 4,
 "nbformat_minor": 4
}
