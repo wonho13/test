{
 "cells": [
  {
   "cell_type": "markdown",
   "metadata": {},
   "source": [
    "## Ch1"
   ]
  },
  {
   "cell_type": "markdown",
   "metadata": {},
   "source": [
    "1 kip = 1000 lbf / \n",
    "1 kips = 1000 ksi\n",
    "\n",
    "$cos2\\theta = 1-2sin^2\\theta$"
   ]
  },
  {
   "cell_type": "markdown",
   "metadata": {},
   "source": [
    "## Ch4"
   ]
  },
  {
   "cell_type": "markdown",
   "metadata": {},
   "source": [
    "Ellipse 위의 점에서 두 Focus까지 길이의 합은 항상 2a임.\n",
    "\n",
    "57˚28' = (57+28/60)˚ "
   ]
  },
  {
   "cell_type": "markdown",
   "metadata": {},
   "source": [
    "## Ch5"
   ]
  },
  {
   "cell_type": "markdown",
   "metadata": {},
   "source": [
    "$A\\cdot B = |A||B|cos\\theta$\n",
    "\n",
    "$cof(A_{i,j})=$ i, j 행,열 제외한 determinant\n",
    "\n",
    "부호 : $\\begin{pmatrix}\n",
    "+&-&+\\\\\n",
    "-&+&-\\\\\n",
    "+&-&+\\\\\n",
    "\\end{pmatrix}$\n",
    "\n",
    "$adj(A)=cof(A)^T$\n",
    "\n",
    "$A^{-1}=\\frac{adj(A)}{det(A)}$\n",
    "\n",
    "Cross Product : 부호 주의 : +i, -j, +k"
   ]
  },
  {
   "cell_type": "markdown",
   "metadata": {},
   "source": [
    "## Ch6"
   ]
  },
  {
   "cell_type": "markdown",
   "metadata": {},
   "source": [
    "Sample Variance\n",
    "\n",
    "$S^2=\\frac{1}{n-1}\\sum_{i=1}^{n}(X_i-\\bar{X})^2$\n",
    "\n",
    "스튜던트 t 분포 : 두 집단의 평균 차이가 통계적으로 의미가 있는지 확인할 때 사용"
   ]
  },
  {
   "cell_type": "markdown",
   "metadata": {},
   "source": [
    "## Ch8"
   ]
  },
  {
   "cell_type": "markdown",
   "metadata": {},
   "source": [
    "2차 미방의 해\n",
    "\n",
    "$y''+ay'+b=f(x)$\n",
    "\n",
    "$y = y_h + y_p = y_c + y_p$\n",
    "\n",
    "$y_h=y_c$ : 우항이 0인 해 : 시스템의 고유 특성, Transient 거동\n",
    "\n",
    "$y_h = C_1e^{r_1x}+C_2e^{r_2x}$ : overdamped\n",
    "\n",
    "$y_h = (C_1+C_2x)e^{rx}$ : critically damped\n",
    "\n",
    "$y_h = e^{\\alpha x}(C_1cos\\beta x +C_2 sin\\beta x)$ : underdamped\n",
    "\n",
    "$\\alpha = -a/2$\n",
    "\n",
    "$\\beta = \\frac{\\sqrt{4b-a^2}}{2}$\n",
    "\n",
    "$y_p = C_3 f(x)$ : 외력에 의한 Steady State 거동\n",
    "\n",
    "(1) $y_p$를 미분하여 *원식*에 대입 후 $C_3$을 구한다.\n",
    "\n",
    "(2) $y = y_h+y_p$와 경계조건을 사용하여 $C_1, C_2$를 구한다."
   ]
  },
  {
   "cell_type": "markdown",
   "metadata": {},
   "source": [
    "## Ch10"
   ]
  },
  {
   "cell_type": "markdown",
   "metadata": {},
   "source": [
    "Statically Determinant : 시스템 미지수가 3개인 경우\n",
    "\n",
    "Statically Indeterminant : 시스템 미지수가 4개 이상인 경우\n",
    "\n",
    "simple support : 미지수 1개 / pin : 미지수 2개 / fixed : 미지수 3개"
   ]
  },
  {
   "cell_type": "markdown",
   "metadata": {},
   "source": [
    "## Ch12"
   ]
  },
  {
   "cell_type": "markdown",
   "metadata": {},
   "source": [
    "나사식 : $M=Pr tan(\\alpha\\pm\\phi)$\n",
    "\n",
    "$tan\\phi = \\mu$"
   ]
  },
  {
   "cell_type": "markdown",
   "metadata": {},
   "source": [
    "## Ch14"
   ]
  },
  {
   "cell_type": "markdown",
   "metadata": {},
   "source": [
    "* 운동량 보존 계산 시 유의사항\n",
    "\n",
    "(1) 속도는 절대 속도와 상대 속도가 있고, 계산시 절대 속도를 사용해야 함.\n",
    "\n",
    "(2) 속도는 벡터이므로 방향을 고려해야 함. (방향이 바뀌면 음수)\n",
    "\n",
    "(3) 충격량(impulse)는 운동량의 변화량임.\n",
    "\n",
    "* 공 외면의 속도 계산 시 유의사항 : 공 자체의 이동 속도와 회전 방향의 속도 모두 고려해야 됨.\n",
    "\n",
    "* 포물선 운동\n",
    "\n",
    "(1) 높이가 0이 되는 시간 계산 : $y=v_0 sin\\theta t - \\frac{1}{2}gt^2$\n",
    "\n",
    "(2) 수평방향 이동 거리 계산 : $x = v_0 cos\\theta t$"
   ]
  },
  {
   "cell_type": "markdown",
   "metadata": {},
   "source": [
    "## Ch15"
   ]
  },
  {
   "cell_type": "markdown",
   "metadata": {},
   "source": [
    "줄로 연결된 물체 : 가속도가 같다"
   ]
  },
  {
   "cell_type": "markdown",
   "metadata": {},
   "source": [
    "## Ch16"
   ]
  },
  {
   "cell_type": "markdown",
   "metadata": {},
   "source": [
    "$M = I\\alpha$\n",
    "\n",
    "km/hr, m/s 단위 주의\n",
    "\n",
    "회전하는 빔 : 기준 위치와 상관 없이 각 가속도 $\\alpha$가 같다. 기준 위치별 $I$가 다르므로 $M$가 달라진다.\n",
    "\n",
    "Radius of Gyration : 전체 질량의 회전 반경을 의미한다.\n",
    "\n",
    "$MR^2=m_1r_1^2+m_2r_2^2+...$"
   ]
  },
  {
   "cell_type": "markdown",
   "metadata": {},
   "source": [
    "## Ch17"
   ]
  },
  {
   "cell_type": "markdown",
   "metadata": {},
   "source": [
    "회전 운동 에너지 : $\\frac{1}{2}I\\omega^2$"
   ]
  },
  {
   "cell_type": "markdown",
   "metadata": {},
   "source": [
    "## Ch18"
   ]
  },
  {
   "cell_type": "markdown",
   "metadata": {},
   "source": [
    "* Mohr Circle\n",
    "\n",
    "$\\sigma_{x'}=\\frac{\\sigma_x+\\sigma_y}{2}+\\frac{\\sigma_x-\\sigma_y}{2}cos(2\\theta)+\\tau_{xy}sin(2\\theta)$\n",
    "\n",
    "$\\sigma_{y'}=\\frac{\\sigma_x+\\sigma_y}{2}-\\frac{\\sigma_x-\\sigma_y}{2}cos(2\\theta)-\\tau_{xy}sin(2\\theta)$\n",
    "\n",
    "$\\tau_{x'y'} = -\\frac{\\sigma_x-\\sigma_y}{2}sin(2\\theta)+\\tau_{xy}cos(2\\theta)$\n",
    "\n",
    "$tan(2\\theta)=\\frac{\\tau_{xy}}{(\\sigma_x-\\sigma_y)/2}$\n",
    "\n",
    "* 빔의 모멘트\n",
    "\n",
    "$V(x)=0$인 지점에서 최대, $V(x)$의 면적(적분)은 $M(x)$임.\n",
    "\n",
    "* 빔 내부 압축/인장 응력\n",
    "\n",
    "$\\sigma=\\frac{P}{A}+\\frac{Mc}{I}$\n",
    "\n",
    "상기 식에서 주의할 점 : $c$는 중심에서 최대 거리임 (Moment 계산할 때 하중 작용점과 혼동하지 말 것)\n",
    "\n",
    "* 빔의 처짐\n",
    "\n",
    "점하중, 분포하중, Moment 3개에 의해 발생 가능함.\n",
    "\n",
    "* 내압 용기\n",
    "\n",
    "$\\sigma_t=\\frac{P_i r}{t}$\n",
    "\n",
    "$\\sigma_a=\\frac{P_i r}{2t}$\n",
    "\n",
    "상기 식에서 유의할 점은 $r$은 평균 값임. 평균 값으로 답이 안나오면 내경 값 사용할 것.\n",
    "\n",
    "또한, Thin wall의 조건은 $\\frac{t}{R_i} < 0.1$이며, Thin wall의 경우 $\\sigma_r \\approx 0$ 임!\n",
    "\n",
    "* 빔 내부 전단 응력\n",
    "\n",
    "$\\tau = \\frac{VQ}{Ib}$\n",
    "\n",
    "$Q = \\int_{y_1}^c y dA$ \n",
    "\n",
    "$c$는 높이의 절반, $y_1$는 0에서 최대\n",
    "\n",
    "$b$가 폭임에 유의!"
   ]
  },
  {
   "cell_type": "markdown",
   "metadata": {},
   "source": [
    "## Ch21"
   ]
  },
  {
   "cell_type": "markdown",
   "metadata": {},
   "source": [
    "Buckling 식 사용시 유의사항 : 사각 단면 $I$계산 시 긴 길이의 3승이 아니라 짧은 길이의 3승해야 됨"
   ]
  }
 ],
 "metadata": {
  "kernelspec": {
   "display_name": "Python 3",
   "language": "python",
   "name": "python3"
  },
  "language_info": {
   "codemirror_mode": {
    "name": "ipython",
    "version": 3
   },
   "file_extension": ".py",
   "mimetype": "text/x-python",
   "name": "python",
   "nbconvert_exporter": "python",
   "pygments_lexer": "ipython3",
   "version": "3.7.6"
  }
 },
 "nbformat": 4,
 "nbformat_minor": 4
}
