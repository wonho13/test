{
 "cells": [
  {
   "cell_type": "markdown",
   "metadata": {},
   "source": [
    "## Ch1"
   ]
  },
  {
   "cell_type": "markdown",
   "metadata": {},
   "source": [
    "1 kip = 1000 lbf / \n",
    "1 kips = 1000 ksi\n",
    "\n",
    "$cos2\\theta = 1-2sin^2\\theta$"
   ]
  },
  {
   "cell_type": "markdown",
   "metadata": {},
   "source": [
    "## Ch4"
   ]
  },
  {
   "cell_type": "markdown",
   "metadata": {},
   "source": [
    "Ellipse 위의 점에서 두 Focus까지 길이의 합은 항상 2a임.\n",
    "\n",
    "57˚28' = (57+28/60)˚ "
   ]
  },
  {
   "cell_type": "markdown",
   "metadata": {},
   "source": [
    "## Ch5"
   ]
  },
  {
   "cell_type": "markdown",
   "metadata": {},
   "source": [
    "$A\\cdot B = |A||B|cos\\theta$\n",
    "\n",
    "$cof(A_{i,j})=$ i, j 행,열 제외한 determinant\n",
    "\n",
    "부호 : $\\begin{pmatrix}\n",
    "+&-&+\\\\\n",
    "-&+&-\\\\\n",
    "+&-&+\\\\\n",
    "\\end{pmatrix}$\n",
    "\n",
    "$adj(A)=cof(A)^T$\n",
    "\n",
    "$A^{-1}=\\frac{adj(A)}{det(A)}$\n",
    "\n",
    "Cross Product : 부호 주의 : +i, -j, +k"
   ]
  },
  {
   "cell_type": "markdown",
   "metadata": {},
   "source": [
    "## Ch6"
   ]
  },
  {
   "cell_type": "markdown",
   "metadata": {},
   "source": [
    "Sample Variance\n",
    "\n",
    "$S^2=\\frac{1}{n-1}\\sum_{i=1}^{n}(X_i-\\bar{X})^2$\n",
    "\n",
    "스튜던트 t 분포 : 두 집단의 평균 차이가 통계적으로 의미가 있는지 확인할 때 사용"
   ]
  },
  {
   "cell_type": "markdown",
   "metadata": {},
   "source": [
    "## Ch8"
   ]
  },
  {
   "cell_type": "markdown",
   "metadata": {},
   "source": [
    "2차 미방의 해\n",
    "\n",
    "$y''+ay'+b=f(x)$\n",
    "\n",
    "$y = y_h + y_p = y_c + y_p$\n",
    "\n",
    "$y_h=y_c$ : 우항이 0인 해 : 시스템의 고유 특성, Transient 거동\n",
    "\n",
    "$y_h = C_1e^{r_1x}+C_2e^{r_2x}$ : overdamped\n",
    "\n",
    "$y_h = (C_1+C_2x)e^{rx}$ : critically damped\n",
    "\n",
    "$y_h = e^{\\alpha x}(C_1cos\\beta x +C_2 sin\\beta x)$ : underdamped\n",
    "\n",
    "$\\alpha = -a/2$\n",
    "\n",
    "$\\beta = \\frac{\\sqrt{4b-a^2}}{2}$\n",
    "\n",
    "$y_p = C_3 f(x)$ : 외력에 의한 Steady State 거동\n",
    "\n",
    "(1) $y_p$를 미분하여 *원식*에 대입 후 $C_3$을 구한다.\n",
    "\n",
    "(2) $y = y_h+y_p$와 경계조건을 사용하여 $C_1, C_2$를 구한다."
   ]
  },
  {
   "cell_type": "markdown",
   "metadata": {},
   "source": [
    "## Ch10"
   ]
  },
  {
   "cell_type": "markdown",
   "metadata": {},
   "source": [
    "Statically Determinant : 시스템 미지수가 3개인 경우\n",
    "\n",
    "Statically Indeterminant : 시스템 미지수가 4개 이상인 경우\n",
    "\n",
    "simple support : 미지수 1개 / pin : 미지수 2개 / fixed : 미지수 3개"
   ]
  },
  {
   "cell_type": "markdown",
   "metadata": {},
   "source": [
    "## Ch12"
   ]
  },
  {
   "cell_type": "markdown",
   "metadata": {},
   "source": [
    "나사식 : $M=Pr tan(\\alpha\\pm\\phi)$\n",
    "\n",
    "$tan\\phi = \\mu$"
   ]
  },
  {
   "cell_type": "markdown",
   "metadata": {},
   "source": [
    "## Ch14"
   ]
  },
  {
   "cell_type": "markdown",
   "metadata": {},
   "source": [
    "* 운동량 보존 계산 시 유의사항\n",
    "\n",
    "(1) 속도는 절대 속도와 상대 속도가 있고, 계산시 절대 속도를 사용해야 함.\n",
    "\n",
    "(2) 속도는 벡터이므로 방향을 고려해야 함. (방향이 바뀌면 음수)\n",
    "\n",
    "(3) 충격량(impulse)는 운동량의 변화량임.\n",
    "\n",
    "* 공 외면의 속도 계산 시 유의사항 : 공 자체의 이동 속도와 회전 방향의 속도 모두 고려해야 됨.\n",
    "\n",
    "* 포물선 운동\n",
    "\n",
    "(1) 높이가 0이 되는 시간 계산 : $y=v_0 sin\\theta t - \\frac{1}{2}gt^2$\n",
    "\n",
    "(2) 수평방향 이동 거리 계산 : $x = v_0 cos\\theta t$"
   ]
  },
  {
   "cell_type": "markdown",
   "metadata": {},
   "source": [
    "## Ch15"
   ]
  },
  {
   "cell_type": "markdown",
   "metadata": {},
   "source": [
    "줄로 연결된 물체 : 가속도가 같다"
   ]
  },
  {
   "cell_type": "markdown",
   "metadata": {},
   "source": [
    "## Ch16"
   ]
  },
  {
   "cell_type": "markdown",
   "metadata": {},
   "source": [
    "$M = I\\alpha$\n",
    "\n",
    "km/hr, m/s 단위 주의\n",
    "\n",
    "회전하는 빔 : 기준 위치와 상관 없이 각 가속도 $\\alpha$가 같다. 기준 위치별 $I$가 다르므로 $M$가 달라진다.\n",
    "\n",
    "Radius of Gyration : 전체 질량의 회전 반경을 의미한다.\n",
    "\n",
    "$MR^2=m_1r_1^2+m_2r_2^2+...$"
   ]
  },
  {
   "cell_type": "markdown",
   "metadata": {},
   "source": [
    "## Ch17"
   ]
  },
  {
   "cell_type": "markdown",
   "metadata": {},
   "source": [
    "회전 운동 에너지 : $\\frac{1}{2}I\\omega^2$"
   ]
  },
  {
   "cell_type": "markdown",
   "metadata": {},
   "source": [
    "## Ch18"
   ]
  },
  {
   "cell_type": "markdown",
   "metadata": {},
   "source": [
    "* Mohr Circle\n",
    "\n",
    "$\\sigma_{x'}=\\frac{\\sigma_x+\\sigma_y}{2}+\\frac{\\sigma_x-\\sigma_y}{2}cos(2\\theta)+\\tau_{xy}sin(2\\theta)$\n",
    "\n",
    "$\\sigma_{y'}=\\frac{\\sigma_x+\\sigma_y}{2}-\\frac{\\sigma_x-\\sigma_y}{2}cos(2\\theta)-\\tau_{xy}sin(2\\theta)$\n",
    "\n",
    "$\\tau_{x'y'} = -\\frac{\\sigma_x-\\sigma_y}{2}sin(2\\theta)+\\tau_{xy}cos(2\\theta)$\n",
    "\n",
    "$tan(2\\theta)=\\frac{\\tau_{xy}}{(\\sigma_x-\\sigma_y)/2}$\n",
    "\n",
    "* 빔의 모멘트\n",
    "\n",
    "$V(x)=0$인 지점에서 최대, $V(x)$의 면적(적분)은 $M(x)$임.\n",
    "\n",
    "* 빔 내부 압축/인장 응력\n",
    "\n",
    "$\\sigma=\\frac{P}{A}+\\frac{Mc}{I}$\n",
    "\n",
    "상기 식에서 주의할 점 : $c$는 중심에서 최대 거리임 (Moment 계산할 때 하중 작용점과 혼동하지 말 것)\n",
    "\n",
    "* 빔의 처짐\n",
    "\n",
    "점하중, 분포하중, Moment 3개에 의해 발생 가능함.\n",
    "\n",
    "* 내압 용기\n",
    "\n",
    "$\\sigma_t=\\frac{P_i r}{t}$\n",
    "\n",
    "$\\sigma_a=\\frac{P_i r}{2t}$\n",
    "\n",
    "상기 식에서 유의할 점은 $r$은 평균 값임. 평균 값으로 답이 안나오면 내경 값 사용할 것.\n",
    "\n",
    "또한, Thin wall의 조건은 $\\frac{t}{R_i} < 0.1$이며, Thin wall의 경우 $\\sigma_r \\approx 0$ 임!\n",
    "\n",
    "* 빔 내부 전단 응력\n",
    "\n",
    "$\\tau = \\frac{VQ}{Ib}$\n",
    "\n",
    "$Q = \\int_{y_1}^c y dA$ \n",
    "\n",
    "$c$는 높이의 절반, $y_1$는 0에서 최대\n",
    "\n",
    "$b$가 폭임에 유의!"
   ]
  },
  {
   "cell_type": "markdown",
   "metadata": {},
   "source": [
    "## Ch21"
   ]
  },
  {
   "cell_type": "markdown",
   "metadata": {},
   "source": [
    "Buckling 식 사용시 유의사항 : 사각 단면 $I$계산 시 긴 길이의 3승이 아니라 짧은 길이의 3승해야 됨\n",
    "\n",
    "Thrust+Buckling 문제 : 부재에 걸리는 하중이 제일 크다고 해서 좌굴이 제일 먼저 일어나는 것이 아님. 길이도 연관 있으므로 $P_{cr}=\\frac{\\pi^2EI}{(Kl)^2}$을 구해봐야 함\n",
    "\n",
    "대각선 방향 힘 : 압축/인장 응력, 2개 방향 굽힘 모멘트 모두 고려해야 됨"
   ]
  },
  {
   "cell_type": "markdown",
   "metadata": {},
   "source": [
    "## Fluid Dynamics"
   ]
  },
  {
   "cell_type": "markdown",
   "metadata": {},
   "source": [
    "* 대각면이 받는 유체 하중 \n",
    "\n",
    "$F_x : P=\\gamma h$를 이용, $F_y :$ 물의 \"총\" 체적과 밀도($F=mg$) 이용\n",
    "\n",
    "수문의 경우, 수문 밖이 대기조건이면 하중 계산시 대기압 고려 안해도 됨.\n",
    "\n",
    "$y_{cp}$는 압력의 중심(center of pressure)이며, **하중이 작용하는 지점**이고, $y_c$는 단면의 중심(center of area)이며, **평균 압력 계산의 기준 높이** ($y_c$ 점에 해당하는 높이가 $\\bar{h}$라면, $\\bar{P}=\\gamma\\bar{h}$)"
   ]
  },
  {
   "cell_type": "markdown",
   "metadata": {},
   "source": [
    "* $P_{abs}=P_{gauge}+P_{atm}$\n",
    "\n",
    "이상기체 방정식, 베르누이 방정식 모두 $P_{abs}$를 사용한다. $P_{gauge}$로 주어졌는지 반드시 확인!"
   ]
  },
  {
   "cell_type": "markdown",
   "metadata": {},
   "source": [
    "* 유동 에너지 : $PV+\\frac{1}{2}mv^2+mgh$\n",
    "\n",
    "* 내부 유동에서 보존 되는 것\n",
    "\n",
    "(1) 액체의 경우 밀도가 일정 하므로 $Q=Av=const$\n",
    "\n",
    "(2) 기체의 경우 밀도가 일정하지 않으므로 $\\dot{m}=\\rho Q=const$\n",
    "\n",
    "* 오리피스\n",
    "\n",
    "$A_2 = C_c A_0$\n",
    "\n",
    "$Q = CA\\sqrt{2gh}$ \n",
    "\n",
    "C는 핸드북 표에 있음\n",
    "\n",
    "* 펌프\n",
    "\n",
    "$Power = \\frac{\\dot{m}gh}{\\eta}=\\frac{\\gamma h Q}{\\eta}$\n",
    "\n",
    "상기 식에서 $h$는 총 손실 수두 : $h_f=h_{fric}+h_{fit}+\\Delta h$\n",
    "\n",
    "상기 식에서,\n",
    "\n",
    "$h_{fric}=f\\frac{L}{D}\\frac{V^2}{2g}$\n",
    "\n",
    "$h_{fjit}=C\\frac{V^2}{2g}$\n",
    "\n",
    "$\\Delta h$ : 수두 차이"
   ]
  },
  {
   "cell_type": "markdown",
   "metadata": {},
   "source": [
    "## Thermodynamics"
   ]
  },
  {
   "cell_type": "markdown",
   "metadata": {},
   "source": [
    "### * 이상기체\n",
    "\n",
    "$Pv=RT$\n",
    "\n",
    "$PV=mRT$\n",
    "\n",
    "$R=\\frac{\\bar{R}}{M}$\n",
    "\n",
    "$PV=(m/M)\\bar{R}T=N\\bar{R}T$\n",
    "\n",
    "$m :$ 질량 $[g]$\n",
    "\n",
    "$M :$ Molcular Weight $[g/mol]$ (주기율표 하단 Atomic Weight 활용)\n",
    "\n",
    "$N :$ 총 몰 수 $[mol]$\n",
    "\n",
    "\n",
    "### * 엔트로피 변화량 (실제 엔트로피 변화량을 구할 때는 질량 곱해줄 것)\n",
    "\n",
    "#### (1) 기체\n",
    "\n",
    "$\\Delta s=c_p ln(T_2/T_1)-Rln(P_2/P_1)$\n",
    "\n",
    "$\\Delta s=c_v ln(T_2/T_1)+Rln(v_2/v_1)$\n",
    "\n",
    "#### (2) 액체, 고체\n",
    "\n",
    "$ds = c(dT/T)$\n",
    "\n",
    "$\\Delta s=s_2-s_1=\\int c(dT/T) = c_{mean} ln(T_2/T_1)$\n",
    "\n",
    "### * 열역학 제 1 법칙\n",
    "\n",
    "Open System과 Closed System 식은 유사하지만 다르므로 반드시 확인하고 사용한다.\n",
    "\n",
    "#### (1) Closed System\n",
    "\n",
    "#### (2) Open System\n",
    "\n",
    "* 일반식\n",
    "\n",
    "$\\sum \\dot{m}_i(h_i+V_i^2/2+gZ_i)-\\sum \\dot{m}_e(h_e+V_e^2/2+gZ_e)+\\dot{Q}_{in}-\\dot{W}_{net}=d(m_su_s)/dt$\n",
    "\n",
    "우항에서 $m_s$, $u_s$는 시스템 전체의 질량 및 내부에너지. steady state인 경우 우항은 0\n",
    "\n",
    "* Throttling Process : 단열, 등 엔탈피 ($dq=0$, $dh=0$)\n",
    "\n",
    "* Compressor : $h_i=h_e+w$ \n",
    "\n",
    "($dh=c_p dT$ 식을 사용하면 $dh$구할 수 있음. 압력이 달라져도 온도만 알면 이식 적용 가능함)\n",
    "\n",
    "(단, 열의 이동이 주어지는 경우 일반 식을 사용해야 됨.)\n",
    "\n",
    "\n",
    "### * 이상기체 혼합\n",
    "\n",
    "mole fraction ($x_i=N_i/N$) 또는 mass fraction ($y_i=m_i/m$)부터 구하고 시작한다.\n",
    "\n",
    "mole fraction은 몰수 또는 분압 또는 부분체적을 알면 구할 수 있다. ($x_i=N_i/N=P_i/P=V_i/V$)\n",
    "\n",
    "\n",
    "### * 액체-증기 평형 \n",
    "\n",
    "#### (1) Raoult's Law\n",
    "\n",
    "$P_i=x_iP_i^*$\n",
    "\n",
    "$P_i :$ 혼합, 평형상태 **증기**의 부분압력\n",
    "\n",
    "$x_i :$ **액체**의 몰 분율 $= N_i/N$\n",
    "\n",
    "$P_i^* :$ 순수물질의 **증기**압력\n",
    "\n",
    "#### (2) Henry's Law\n",
    "\n",
    "$P_i=P y_i=h x_i$\n",
    "\n",
    "$P_i :$ 혼합, 평형상태 **증기**의 부분압력\n",
    "\n",
    "$P :$ 혼합, 평형상태 **증기**의 총압력 ($P=\\sum P_i$)\n",
    "\n",
    "$y_i :$ 혼합, 평형상태 **증기**의 몰 분율\n",
    "\n",
    "$h :$ Henry's Law 상수\n",
    "\n",
    "$x_i :$ 혼합, 평형상태 **액체**의 몰 분율\n",
    "\n",
    "### * 공기 습도 (Psychometric Chart)\n",
    "\n",
    "습공기 선도(Psychometric Chart)의 x축은 건구온도, y축은 절대습도(Humidity Ratio)임.\n",
    "\n",
    "절대습도(y축)는 습기가 더해지지 않는 한 변하지 않음 : 대부분 변화과정은 수평으로 이동\n",
    "\n",
    "### * 연소 (Combustion)\n",
    "\n",
    "산소(air)에는 $O_2$ 1 mole 당 3.76 mole의 $N_2$가 포함되어 있음\n",
    "\n",
    "**300%** excess air이면, 공기량에 **4배**를 해주어야 됨."
   ]
  },
  {
   "cell_type": "code",
   "execution_count": null,
   "metadata": {},
   "outputs": [],
   "source": []
  }
 ],
 "metadata": {
  "kernelspec": {
   "display_name": "Python 3",
   "language": "python",
   "name": "python3"
  },
  "language_info": {
   "codemirror_mode": {
    "name": "ipython",
    "version": 3
   },
   "file_extension": ".py",
   "mimetype": "text/x-python",
   "name": "python",
   "nbconvert_exporter": "python",
   "pygments_lexer": "ipython3",
   "version": "3.7.3"
  }
 },
 "nbformat": 4,
 "nbformat_minor": 4
}
