{
 "cells": [
  {
   "cell_type": "markdown",
   "metadata": {},
   "source": [
    "## 1. Introduction"
   ]
  },
  {
   "cell_type": "markdown",
   "metadata": {},
   "source": [
    "설계지진에 대한 적절한 정의는 지반-구조물 동적 상호작용 문제 뿐만 아니라 구조물 및 지반의 동해석을 수행하는데 있어 기본적인 단계이다. 내진설계 코드는 보통 지진에 의한 지반 운동을 유사 가속도 응답스펙트럼으로 나타낸다. 하지만, 탄성 설계 응답스펙트럼을 사용하는 것이 적절하지 않고 시간이력 해석이 요구되는 경우(예를 들어, 피동 보호 장비 또는 현장 응답 해석 설계)가 있다."
   ]
  },
  {
   "cell_type": "markdown",
   "metadata": {},
   "source": [
    "이용 가능한 강진 기록들이 증가함에 따라 실제 가속도 기록을 사용하는 것이 동적 가진을 정의하는데 매력적인 선택이 되고 있다. 이러한 관점에서, 가속도 기록의 대표 세트를 선택하는 것이 중요한 이슈가 되고 있다. 왜냐하면 관심있는 현장에서의 내진 위험도를 정의하는데 있어 여러 불확실 요소들의 영향을 받기 때문이다. 여러 문헌들에서 기록된 가속도 이력 중 적절한 세트들을 선택하는 절차들을 제안해오고 있다 (Katsanos  외, 2010, Bommer, Acevedo, 2004). 하지만, 기계적 물성 및 토양의 비선형 거동 때문에 각 기록 세트들에 큰 증배 계수를 적용(이는 기록된 가속도 이력을 왜곡시킬 수 있어, 비 현실적인 입력 거동이 될 수 있음 (Genovese 외, 2019)하지 않고는 내진 코드 들이 요구하는 스펙트럼에 부합하는 가속도 시간이력의 최소한의 개수를 얻지 못하는 경우가 있다. 이러한 상황에서 인공 가속도 이력은 실제와 같은 지진 가진을 재생산하는 대안이 될 수 있다. 정상(stationary) 인공 가속도 이력은 보통 매우 많은 개수의 강진 사이클들 및 에너지 성분으로 표현되기 때문에, 실제 시간이력에서 관측되는 지진학적 변수들의 광범위한 변화를 적절히 포함하도록 인공 가속도 이력을 생산하는 절차가 필요하다."
   ]
  },
  {
   "cell_type": "markdown",
   "metadata": {},
   "source": [
    "지난 수년간, 몇몇 연구가들은 인공 가속도 시간이력을 생산하는 절차를 제안해 왔다. Saragoni와 Hart (1974)는 결정론적 시간 포괄 함수를 사용해 필터링된 가우시안 백색소음의 연속 구간을 변경하여 얻은 샘플 함수로 확률적(stochastic) 지진 과정을 모사하였다; Der Kiureghian과 Crempien (1989)는 각 주파수 밴드에서의 거동 성분을 나타내는 개별 정상 선분 과정을 대수 합하는 절체를 정의하였다; Conte와 Peng (1977)은 정상 가우시안 하부 과정과 실제 결정론적 시간 조절 함수를 곱한 것으로 구성되는 균일하게 조절된 각각의 과정이 포함된 시크마 진동 모델을 제안하였다."
   ]
  },
  {
   "cell_type": "markdown",
   "metadata": {},
   "source": [
    "본 논문은 2개의 최근 제안된 인공 가속도 이력을 모사하는 방법들에 대해 조사해 본다. 이 2개의 방법은 모두 목표 실제 강진 기록의 크기 및 주파수 성분의 시간에 따른 변화를 보존하는 시도를 하였다. 2개의 접근 전략은 i) 원형 웨이블릿 변환 (CWT)과 ii) 진화 부분 파워 스펙트럼 밀도 (EPSD) 함수를 기반으로 한다. 첫번째 접근법에서 CWT 방법은 실제 목표 가속도 이력을 복소 값을 갖는 조화 웨이블릿 조합(복소 값을 갖는 조합계수들을 가짐)으로 분해하는데 사용된다."
   ]
  },
  {
   "cell_type": "markdown",
   "metadata": {},
   "source": [
    "두번째 방법은, 주어진 목표 가속도 이력에 대하여, 다음 단계를 요구한다: i) 목표 가속도 이력이 이 모델의 1개 샘플이 되도록 지진 지반 거동의 완전 비정상(non-staionary) 모델을 찾는다. ii) 생성된 완전 비정상 가속도 샘플 세트들의 평균 탄성 스펙트럼을 평가한다. iii) 반복 과정을 통해 목표 응답스펙트럼에 부합하도록 한다. 비탄성 동적 시스템의 내진 응답에 대해 이 확률론적 모델들이 미치는 영향을 정량화 하기 위해, bilinear SDOF 모델에 대해 다른 연성 값을 갖는 상수-연성 (constant-ductility) 응답스펙트럼을 계산하였다."
   ]
  },
  {
   "cell_type": "markdown",
   "metadata": {},
   "source": [
    "## 2. Fully non-staionary generation methods"
   ]
  },
  {
   "cell_type": "markdown",
   "metadata": {},
   "source": [
    "### 2.1 Wavelets Formulation"
   ]
  },
  {
   "cell_type": "markdown",
   "metadata": {},
   "source": [
    "웨이블릿 해석은 주어진 신호를 \"웨이블릿\" 형태로 분해하는 것이며, 이는 \"모 웨이블릿\"이라고 불리는 고정된 함수의 크기를 조절하고 위치를 옮겨 생성된다. 모든 다른 형태의 웨이블릿 중, Newland (1997)가 제안한 \"조화 웨이블릿 (harmonic wavelet)\"과 \"음악적 웨이블릿 (musical wavelet)\"은 동해석에서 특히 유용하다. 이 웨이블릿 군들은 시간 영역에서 복소 값을 갖는 함수이며, 주파수 영역에서는 네모난 박스 형태의 푸리에 변환 형태이다."
   ]
  },
  {
   "cell_type": "markdown",
   "metadata": {},
   "source": [
    "또다른 실제 신호 $\\ddot{U}_g(t)$를 복소 값을 갖는 조합 계수 $a_{\\{m,n\\},k}$와 복소 값을 갖는 웨이블릿 $\\Psi_{\\{m,n\\},k}(t)$의 대수합으로 분해하는 방법은 원형 웨이블릿을 사용하는 것이다."
   ]
  },
  {
   "cell_type": "markdown",
   "metadata": {},
   "source": [
    "$$ \\Psi_{\\{m,n\\},k}(t)=\\frac{1}{n-m}\\sum_{j=m}^{n-1}exp\\left[i2\\pi j(t-\\tau_{\\{m,n\\},k})\\right]\\tag{1}$$"
   ]
  },
  {
   "cell_type": "markdown",
   "metadata": {},
   "source": [
    "여기서 $\\tau_\\{m,n\\},k=k/(n-m)$는 {m,n} 주파수 밴드에 속하는 웨이블릿의 결정론적 시간 이동(shift)이고, k는 정수이다."
   ]
  },
  {
   "cell_type": "markdown",
   "metadata": {},
   "source": [
    "이산 웨이블릿 변환에서, 부모 핫무의 복소 값을 갖는 조합 계수 $a_{\\{m,n\\},k}$는 밴드 웨이블릿 $\\Psi_{\\{m,n\\},k}(t)$와 신호 $ddot{U}_g(t)$의 이산 컨벌루션으로 계산된다. (Cecini, Palmeri, 2015)."
   ]
  },
  {
   "cell_type": "markdown",
   "metadata": {},
   "source": [
    "$$a_{\\{m,n\\},k}=\\sum_{l=0}^N \\ddot{U}_g\\left(\\frac{t_l}{t_f}\\right)\\cdot\\frac{\\Delta t}{t_f}\\cdot \\Psi_{\\{m,n\\},k} (t_l)\\tag{2}$$"
   ]
  },
  {
   "cell_type": "markdown",
   "metadata": {},
   "source": [
    "여기서, $k=0,\\dots,(n-m-1),\\;t_l=l\\cdot\\Delta t$는 신호가 이산화 되었을 때, $N=t_f/\\Delta t$의 $l$번째 이산 시점이다. $\\Delta t$는 샘플링 간격이고, $t_f$는 신호의 지속시간이다."
   ]
  },
  {
   "cell_type": "markdown",
   "metadata": {},
   "source": [
    "본 논문에서는, 원형 웨이블릿을 모 웨이블릿으로 사용하여 목표 신호의 $\\ddot{U}_g(t)$의 랜덤화를 평가하였다."
   ]
  },
  {
   "cell_type": "markdown",
   "metadata": {},
   "source": [
    "랜덤 과정의 $r$번째 샘블에 대한 생성식은 다음과 같이 표현할 수 있다."
   ]
  },
  {
   "cell_type": "markdown",
   "metadata": {},
   "source": [
    "$$f^{(r)}(t)=2\\sum_{\\{m,n\\}}\\sum_{k=0}^{n-m-1}\\sum_{j=m}^{n-1}\\frac{|a_{\\{m,n\\},k}|}{n-m}\\times cos \\left[ i2 \\pi j(t-\\tau_{\\{m,n\\},k})+\\theta_{\\{m,n\\},k}+\\phi_{\\{m,n\\},k}^{(r)} \\right]\\tag{3}$$"
   ]
  },
  {
   "cell_type": "markdown",
   "metadata": {},
   "source": [
    "여기서 $\\phi_{\\{m,n\\},k}^{(r)}$는 구간 $[0,2\\pi]$에서 균일하게 분포한 랜덤 변수의 $r$번째 값이고, $\\bar{\\theta}_{\\{m,n\\},k}=arg\\{\\bar{a}_{\\{m,n\\},k}\\}$는 그에 해당하는 부모 신호의 복소 값을 갖는 계수의 결정론적 위상이다."
   ]
  },
  {
   "cell_type": "markdown",
   "metadata": {},
   "source": [
    "### 2.2 Evolutionary Power Spectral Density Function Method"
   ]
  },
  {
   "cell_type": "markdown",
   "metadata": {},
   "source": [
    "Muscolino 외 (2021)가 제안한 방법에 따르면, 본 논문에서 고려한 평균이 0인 완전 비정상 가우시안 과정에서 랜덤 샘플을 생성하는 두번째 방법은 4가지 단계로 구성된다."
   ]
  },
  {
   "cell_type": "markdown",
   "metadata": {},
   "source": [
    "첫째, 목표 가속도 시간이력을 n개의 연속 구간으로 나눈다. 각 구간은 균일하게 변경한 과정은 결정론적 변경 함수 $a(t)$와 평균이 0인 정상 가우시안 하부 과정 $X_k(t)$의 곱으로 표현되며, 이 구간의 PSD 함수 $G_{X_k}(\\omega)$는 2개의 Butterworth 필터로 필터링 된다."
   ]
  },
  {
   "cell_type": "markdown",
   "metadata": {},
   "source": [
    "$$G_{X_k}(\\omega)=\\beta_k \\left( \\frac{\\omega^2}{\\omega^2+\\omega_{H,k}^2} \\right) \\left( \\frac{\\omega_{L,k}^4}{\\omega^4+\\omega_{L,k}^4}\\right) \\frac{\\rho_k}{\\pi} \\left(\\frac{1}{\\rho_k^2+(\\omega+\\Omega_k)^2} + \\frac{1}{\\rho_k^2+(\\omega-\\Omega_k)^2}  \\right); \\;\\;k=1,\\dots,n\\tag{4}$$"
   ]
  },
  {
   "cell_type": "markdown",
   "metadata": {},
   "source": [
    "여기서 $\\beta_k$는 하부 과정 $X_k(t)$가 단위 분산을 갖도록 평가된다. 식 4에 나타난 모든 변수들은 다양한 k 구간 내에서 목표 가속도 이력의 zero-level up-crossing $N_{0,k}^{+}$와 최대값 $P_k$ 발생 횟수에 따라 결정된다."
   ]
  },
  {
   "cell_type": "markdown",
   "metadata": {},
   "source": [
    "$$\\Omega_k \\approx \\frac{2\\pi N_{0,k}^{+}}{\\Delta T_k}; \\;\\;\\rho_k \\approx \\frac{\\pi N_{0,k}^{+}}{2 \\Delta T_k}\\left[\\pi - 2\\frac{N_{0,k}^{+}}{P_k}\\right]\\tag{5}$$"
   ]
  },
  {
   "cell_type": "markdown",
   "metadata": {},
   "source": [
    "둘째는, 각 시간 구간에서 변경 함수 $a(t)$의 변수들을 추정하며, 이 추정은 최소자승법을 사용해 제안된 모델의 예상 에너지가 3개 구간으로 나누어진 목표 가속도 이력의 에너지와 같아지도록 추정한다."
   ]
  },
  {
   "cell_type": "markdown",
   "metadata": {},
   "source": [
    "$$a(t)=\\sum_{j=1}^2 \\bar{a}_j(t) \\mathbb{W}(t_{j-1},t_j)+a(t_2)exp\\left[\\frac{(t-t_2}{T_D-t_2}ln\\left(\\frac{|\\ddot{U}_g(T_f)|}{a(t_{n_{a}}-1)}\\right)\\right]\\mathbb{W}(t_2,t_3),\\tag{6}$$"
   ]
  },
  {
   "cell_type": "markdown",
   "metadata": {},
   "source": [
    "여기서 $\\mathbb{W}(t_{k-1},t_k)=\\mathbb{U}(t-t_k)-\\mathbb{U}(t-t_{k-1})$는 윈도우 함수이고, $\\mathbb{U}(t)$는 단위계단함수(unit step function)이다. "
   ]
  },
  {
   "cell_type": "markdown",
   "metadata": {},
   "source": [
    "셋째로, 다음 식을 사용해 i번째 샘플을 생성한다."
   ]
  },
  {
   "cell_type": "markdown",
   "metadata": {},
   "source": [
    "$$F_0^{(i)}(t)=a(t)\\sqrt{2\\Delta \\omega}\\left[\\sum_{k=1}^n \\sum_{r=1}^{m_N} \\mathbb{W}(t_{k-1},t_k) sin\\left(r\\Delta \\omega t + \\theta_r^{(i)}\\right)\\sqrt{G_{X_k}(r\\Delta \\omega)}\\right]\\tag{7}$$"
   ]
  },
  {
   "cell_type": "markdown",
   "metadata": {},
   "source": [
    "$\\theta_r^{(i)}$는 랜덤 위상각이고, $[0,2\\pi]$ 구간 내에서 균일하게 분포한다. $m_N$은 PSD 함수가 이산화된 구간의 개수이고, $\\Delta \\omega$는 주파수 샘플링 간격이다."
   ]
  },
  {
   "cell_type": "markdown",
   "metadata": {},
   "source": [
    "마지막으로, 다음의 수정 반복 PSD 함수를 사용해 목표 가속도 이력의 탄성 응답스펙트럼 $S_e^{T}$와 인공 가속도 이력 $\\bar{S}_e^{(j-1}$의 평균 탄성 응답스펙트럼의 차이를 최소화 한다."
   ]
  },
  {
   "cell_type": "markdown",
   "metadata": {},
   "source": [
    "$$\\bar{G}_{X_k}^{(j)}(\\omega_k)=\\bar{G}_{X_k}^{(j-1)}(\\omega_k)\\frac{S_e^{(T)}(\\omega_l,\\zeta_0)^2}{\\bar{S}_e^{(j-1)}(\\omega_l,\\zeta_0)^2}$$"
   ]
  },
  {
   "cell_type": "markdown",
   "metadata": {},
   "source": [
    "처음 반복 과정에서는 $\\bar{G}_0^{(0)}(\\omega_k)=1$로 설정한다 (Vanmarcke, Gasparini (1977)."
   ]
  },
  {
   "cell_type": "markdown",
   "metadata": {},
   "source": [
    "Genovese 외 (2020)이 제시한 식에 따르면, 샘플 세트는 다음을 통해 생성될 수 있다."
   ]
  },
  {
   "cell_type": "markdown",
   "metadata": {},
   "source": [
    "$$\\bar{F}_0^{(i)}(t)=a(t)\\sqrt{2\\Delta\\omega}\\left[\\sum_{k=1}^n \\sum_{r=1}^{m_N} \\mathbb{W}(t_{k-1},t_k) sin(r\\Delta\\omega t + \\theta_r^{(i)}) \\sqrt{\\bar{G}_0^{(j)}(r\\Delta\\omega)G_{X_k}(r\\Delta\\omega)}\\right]\\tag{8}$$"
   ]
  },
  {
   "cell_type": "markdown",
   "metadata": {},
   "source": [
    "## 3. Numerical application"
   ]
  },
  {
   "cell_type": "markdown",
   "metadata": {},
   "source": [
    "2개의 제안된 절차가 목표 가속도 이력과 유사한 주요 특성을 갖도록 가속도이력을 생산하며, 비선영 시간이력 해석에 유용하다는 성능을 평가하기 위하여, bilinear 및 강성 감소 하중-변형 모델에 대하여 다양한 변위 연성 값들에 대하여 일정한 연성을 갖는 응답스펙트럼을 계산하였다."
   ]
  },
  {
   "cell_type": "markdown",
   "metadata": {},
   "source": [
    "### 3.1 Target Motion"
   ]
  },
  {
   "cell_type": "markdown",
   "metadata": {},
   "source": [
    "Vasquez Rock Park에서 기록된 1994년 Northridge 지진에 대한 지만 거동의 북-남 성분을 PEER 데이터 베이스 (Ancheta 외, 2013)에서 다운로드 하였고, 다음의 목표 가속도 이력으로 사용하였다. 모멘트 규모 $M_w=6.7$, 진원 거리 $R_{JB}=23.1\\;km$ (Joyner, Boore, 1979)인 지반 거동이 기록되었으며, 상위 30 m에서의 평균 전단 파동 속도는 $V_{s,30}=996\\;m/s$이다 (EC8, soil class \"A\"). 지속시간 $T_f=36.6\\;s$, 샘플 구간 $\\Delta t=0.02\\;s$를 갖는 목표 가속도 이력은 첨두 지반 가속도가 $a_{max}=0.132\\;g$이며, 전체 및 Arias 강도는 $I_0=1.9\\;m^2/s^3$, $I_A=0.3\\;m/s$이고, zero-level up-crossing 및 피크의 수는 $N_0^{+}=196$, $P_0=212$이다. 목표 기록에서 저주파 (긴 주기) 잡음을 제거하기 위한 적절한 주파수는 0.25 Hz이다. "
   ]
  },
  {
   "cell_type": "markdown",
   "metadata": {},
   "source": [
    "### 3.2 Wavelet-Based Method"
   ]
  },
  {
   "cell_type": "markdown",
   "metadata": {},
   "source": [
    "Heisenberg의 불확실서의 원리 때문에, 시간 및 주파수 영역 모두에서 동시에 신호를 국부화(localize)하는 것은 불가능하다 (Mallat, 2009)."
   ]
  },
  {
   "cell_type": "markdown",
   "metadata": {},
   "source": [
    "본 논문에서는, 의미있는 지반 가속도 시간이력 생산을 위해 2개 영역에서의 국부화가 서로 어떤 역할을 하는지 원형 웨이블릿 변환(CWT)를 사용해 3가지 다른 조건에서 조사하였다."
   ]
  },
  {
   "cell_type": "markdown",
   "metadata": {},
   "source": [
    "3가지 다른 조건은 $p=1,\\;32,\\;915$개의 균일한 밴드 폭을 갖는 주파수 밴드 수이며, 50개의 가속도 시간이력을 식 (3)을 사용해 생성하였다. 생성된 3개의 샘플들과 목표 가속도 이력(검정색 선)은 그림1에 나타나 있다."
   ]
  },
  {
   "cell_type": "code",
   "execution_count": null,
   "metadata": {},
   "outputs": [],
   "source": []
  }
 ],
 "metadata": {
  "kernelspec": {
   "display_name": "Python 3",
   "language": "python",
   "name": "python3"
  },
  "language_info": {
   "codemirror_mode": {
    "name": "ipython",
    "version": 3
   },
   "file_extension": ".py",
   "mimetype": "text/x-python",
   "name": "python",
   "nbconvert_exporter": "python",
   "pygments_lexer": "ipython3",
   "version": "3.7.4"
  }
 },
 "nbformat": 4,
 "nbformat_minor": 5
}
