{
 "cells": [
  {
   "cell_type": "markdown",
   "metadata": {},
   "source": [
    "## 1. Introduction"
   ]
  },
  {
   "cell_type": "markdown",
   "metadata": {},
   "source": [
    "대부분의 내진검증 관련 국제 코드들은 가진 시험에 사용되는 인공 지진에 대해 명시한다. 이 코드들은 특정 감쇠에서의 응답스펙트럼에 맞도록 인공 지진을 생성하도록 명시하고 있다. 강진구간, 상승 및 감소 시간, 강진 첨두치 개수 등과 같은 다양한 변수들 또한 다양한 코드들에서 정의하고 있다. 이러한 요건들을 만족시키는 적절한 시간이력은 유사 난수 또는 실제 지진 기록 값들로 부터 시작하여 반복적인 작업을 통해 생성 가능하다. 하지만 이러한 방법들은 가진대가 구연하기 위해 필요한 값들인 최대 가속도, 속도, 변위 값들에 대해서는 다양한 범위가 생성될 수 있다. 만약 이러한 값들이 가진대의 성능을 초과할 경우, 대부분의 코드들은 고주파필터를 사용해 저주파 값을 감소시키는 방법을 채택하고있다. 이를 통해 가진대 시험은 가능하지만, 시편에 요구된 에너지를 충분히 가하지 못하는 결과가 발생할 수 있다."
   ]
  },
  {
   "cell_type": "markdown",
   "metadata": {},
   "source": [
    "본 논문은 3개의 주요 내진 검증 코드들을 만족하도록 생성된 인공 지진의 특징들을 비교하고, 이러한 다양한 가진에 노출된 이상화된 시편의 응답에 대해 고려해본다. 이러한 시간이력들에 고주파 필터를 적용할 경우 시편의 응답에 미치는 불리한 영향에 대해서도 알아본다. 어떤 경우에는 이렇게 시간이력을 변형할 경우 덜 보수적인 시험이 될 수 있고, 이는 검증된 기기가 현장에 설치되기에 적절하지 않음을 의미한다. 마지막으로 시간이력 생성 방법을 바꾸어 고주파 필터를 강하게 사용하지 않고도 가진대의 성능 요구조건을 줄이는 방법을 제안한다. "
   ]
  },
  {
   "cell_type": "markdown",
   "metadata": {},
   "source": [
    "## 2. Seismic Qualification Codes"
   ]
  },
  {
   "cell_type": "markdown",
   "metadata": {},
   "source": [
    "기기 내진검증에는 많은 다른 코드들이 사용되지만 본 논문에서는 가장 널리 사용되는 3개 코드들을 다룬다. 이 코드들에서 제시된 내진검증용 인공 지진 생성 요건들은 다음에 요약되어 있다."
   ]
  },
  {
   "cell_type": "markdown",
   "metadata": {},
   "source": [
    "### 2.1 IEEE 344 (2004) - Seismic qualification of equipment for nuclear generating stations"
   ]
  },
  {
   "cell_type": "markdown",
   "metadata": {},
   "source": [
    "IEEE344 (2004)는 아마도 가장 널리 사용되고 있는 시험 시방서일 것이다. 입력 가진을 유도하는 것과 관련된 주요 요건들은 다음과 같다."
   ]
  },
  {
   "cell_type": "markdown",
   "metadata": {},
   "source": [
    "a) 보수적인 시험을 위해 설계된(주로 0~50 Hz) 주파수 범위 내에서 TRS는 RRS를 포괄해야 한다.\n",
    "\n",
    "b) TRS와 RRS를 비교하는데 있어, TRS는 RRS의 감쇠 값보다 같거나 큰 값으로 사용해야 하며, 1/6 옥타브 간격(또는 더 촘촘히)으로 비교해야 한다.\n",
    "\n",
    "c) 가진대의 최대 첨두 가속도는 RRS의 ZPA 이상이어야 한다.\n",
    "\n",
    "d) 시간이력은 정상(stationary)이어야 한다. 즉, 파형의 주파수/크기 성분이 시간에 대해 통계적으로 일정해야 하며 시험 동안 크게 변해서는 안된다. 이 코드에서는 시간간격 TRS를 통해 이를 보일 수 있다고 제안한다.\n",
    "\n",
    "e) 진동 축적(build-up) 및 저사이클 피로 영향을 적절히 고려하기 위해, 각 시험에서의 강진 구간의 지속시간은 RRS를 얻기 위해 사용된 기존 시간이력의 강진 구간 지속시간보다 같거나 커야 하며, 최소 15초이어야 한다. 인공 지진을 사용하는 시험의 경우 시험의 정상(stationary) 구간은 강진 길이를 정의한다."
   ]
  },
  {
   "cell_type": "markdown",
   "metadata": {},
   "source": [
    "IEEE344 코드는 또한 "
   ]
  }
 ],
 "metadata": {
  "kernelspec": {
   "display_name": "Python 3",
   "language": "python",
   "name": "python3"
  },
  "language_info": {
   "codemirror_mode": {
    "name": "ipython",
    "version": 3
   },
   "file_extension": ".py",
   "mimetype": "text/x-python",
   "name": "python",
   "nbconvert_exporter": "python",
   "pygments_lexer": "ipython3",
   "version": "3.7.3"
  }
 },
 "nbformat": 4,
 "nbformat_minor": 2
}
