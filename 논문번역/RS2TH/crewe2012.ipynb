{
 "cells": [
  {
   "cell_type": "markdown",
   "metadata": {},
   "source": [
    "## 1. Introduction"
   ]
  },
  {
   "cell_type": "markdown",
   "metadata": {},
   "source": [
    "대부분의 내진검증 관련 국제 코드들은 가진 시험에 사용되는 인공 지진에 대해 명시한다. 이 코드들은 특정 감쇠에서의 응답스펙트럼에 맞도록 인공 지진을 생성하도록 명시하고 있다. 강진구간, 상승 및 감소 시간, 강진 첨두치 개수 등과 같은 다양한 변수들 또한 다양한 코드들에서 정의하고 있다. 이러한 요건들을 만족시키는 적절한 시간이력은 유사 난수 또는 실제 지진 기록 값들로 부터 시작하여 반복적인 작업을 통해 생성 가능하다. 하지만 이러한 방법들은 가진대가 구연하기 위해 필요한 값들인 최대 가속도, 속도, 변위 값들에 대해서는 다양한 범위가 생성될 수 있다. 만약 이러한 값들이 가진대의 성능을 초과할 경우, 대부분의 코드들은 고주파필터를 사용해 저주파 값을 감소시키는 방법을 채택하고있다. 이를 통해 가진대 시험은 가능하지만, 시편에 요구된 에너지를 충분히 가하지 못하는 결과가 발생할 수 있다."
   ]
  },
  {
   "cell_type": "markdown",
   "metadata": {},
   "source": [
    "본 논문은 3개의 주요 내진 검증 코드들을 만족하도록 생성된 인공 지진의 특징들을 비교하고, 이러한 다양한 가진에 노출된 이상화된 시편의 응답에 대해 고려해본다. 이러한 시간이력들에 고주파 필터를 적용할 경우 시편의 응답에 미치는 불리한 영향에 대해서도 알아본다. 어떤 경우에는 이렇게 시간이력을 변형할 경우 덜 보수적인 시험이 될 수 있고, 이는 검증된 기기가 현장에 설치되기에 적절하지 않음을 의미한다. 마지막으로 시간이력 생성 방법을 바꾸어 고주파 필터를 강하게 사용하지 않고도 가진대의 성능 요구조건을 줄이는 방법을 제안한다. "
   ]
  },
  {
   "cell_type": "markdown",
   "metadata": {},
   "source": [
    "## 2. Seismic Qualification Codes"
   ]
  },
  {
   "cell_type": "markdown",
   "metadata": {},
   "source": [
    "기기 내진검증에는 많은 다른 코드들이 사용되지만 본 논문에서는 가장 널리 사용되는 3개 코드들을 다룬다. 이 코드들에서 제시된 내진검증용 인공 지진 생성 요건들은 다음에 요약되어 있다."
   ]
  },
  {
   "cell_type": "markdown",
   "metadata": {},
   "source": [
    "### 2.1 IEEE 344 (2004) - Seismic qualification of equipment for nuclear generating stations"
   ]
  },
  {
   "cell_type": "markdown",
   "metadata": {},
   "source": [
    "IEEE344 (2004)는 아마도 가장 널리 사용되고 있는 시험 시방서일 것이다. 입력 가진을 유도하는 것과 관련된 주요 요건들은 다음과 같다."
   ]
  },
  {
   "cell_type": "markdown",
   "metadata": {},
   "source": [
    "a) 보수적인 시험을 위해 설계된(주로 0~50 Hz) 주파수 범위 내에서 TRS는 RRS를 포괄해야 한다.\n",
    "\n",
    "b) TRS와 RRS를 비교하는데 있어, TRS는 RRS의 감쇠 값보다 같거나 큰 값으로 사용해야 하며, 1/6 옥타브 간격(또는 더 촘촘히)으로 비교해야 한다.\n",
    "\n",
    "c) 가진대의 최대 첨두 가속도는 RRS의 ZPA 이상이어야 한다.\n",
    "\n",
    "d) 시간이력은 정상(stationary)이어야 한다. 즉, 파형의 주파수/크기 성분이 시간에 대해 통계적으로 일정해야 하며 시험 동안 크게 변해서는 안된다. 이 코드에서는 시간간격 TRS를 통해 이를 보일 수 있다고 제안한다.\n",
    "\n",
    "e) 진동 축적(build-up) 및 저사이클 피로 영향을 적절히 고려하기 위해, 각 시험에서의 강진 구간의 지속시간은 RRS를 얻기 위해 사용된 기존 시간이력의 강진 구간 지속시간보다 같거나 커야 하며, 최소 15초이어야 한다. 인공 지진을 사용하는 시험의 경우 시험의 정상(stationary) 구간은 강진 길이를 정의한다."
   ]
  },
  {
   "cell_type": "markdown",
   "metadata": {},
   "source": [
    "IEEE344 코드는 또한 RRS를 완전히 포괄하는 입력 가진은 때로는 저주파에서 높은 가속도 값을 필요로 할 수 있으며, 이는 매우 높은 가진대 변위 성능을 요구할 수 있다고 언급하고 있다. 이에 따라 코드에서는 다음과 같은 방법으로 TRS가 RRS를 포괄하여도 된다고 제안하고 있다."
   ]
  },
  {
   "cell_type": "markdown",
   "metadata": {},
   "source": [
    "a) 공진탐색을 통해 5 Hz 이하에서 공진이 없음을 확인할 수 있는 경우, 3.5 Hz 까지만 포괄하면 됨. 하지만, 1 Hz에서 3.5 Hz 까지에서의 가진은 가진대의 성능을 계속 유지하여야 함.\n",
    "\n",
    "b) 5 Hz 이하에서 공진이 있는 경우, 가장 낮은 공진 주파수의 70% 아래 까지 RRS를 포괄해야 함."
   ]
  },
  {
   "cell_type": "markdown",
   "metadata": {},
   "source": [
    "이러한 변경을 적용하는 방법으로는, RRS에 맞춰서 생성된 가진대 시간이력에 고주파 필터를 적용하거나, RRS의 저주파 영역을 직접 감소시켜, RRS에 맞게 시간이력을 생성하는 알고리즘이 단순히 저주파 성분 없이 시간이력을 생성하도록 하면 된다."
   ]
  },
  {
   "cell_type": "markdown",
   "metadata": {},
   "source": [
    "### 2.2 IEEE693 (2005) - Seismic design of substations\n"
   ]
  },
  {
   "cell_type": "markdown",
   "metadata": {},
   "source": [
    "두번째로 고려할 코드는 IEEE693 (2005)이다. 비록 이 코드는 변전소(substation)와 배전반(switchgear)의 내진 설계에 더 상세히 다루지만, IEEE344와 흥미로운 비교점이 있다. 이 코드는 학교 (Takhirove 등, 2005)와 협업하여 개발되었으며, 주요한 확장 내용 및 IEEE344와의 다른점은 다음과 같다."
   ]
  },
  {
   "cell_type": "markdown",
   "metadata": {},
   "source": [
    "a) 스펙트럼과 맞추는 과정은 1/24 옥타브 간격 또는 더 촘촘히 수행되어야 하며, 2% 감쇠에서의 RRS의 ±10% 이내로 들어와야 한다.\n",
    "\n",
    "b) TRS와 RRS를 비교하는데 있어, TRS는 RRS를 -10% / +50% 내에서 포괄해야 하며, 1/12 옥타브 간격(또는 더 촘촘히)에서 분석되어야 한다.\n",
    "\n",
    "c) 시간이력 입력 가진을 개발하는 대신, 실험 기반의 입력 가진을 이용 가능하다."
   ]
  },
  {
   "cell_type": "markdown",
   "metadata": {},
   "source": [
    "IEEE693은 또한 검증기간 동안 기기가 과도하게 시험되는 것을 피하면서 적절히 가진되어야 함을 언급하고 있다. 특히 이 코드는 가진 주파수 범위 0.78 Hz ~ 11.78 Hz 사이에서, 2% 감쇠 SDOF 시스템의 크키가 큰 사이클의 수를 최소 2개에서 최대 25까지 포함하도록 제한하고 있는 저자가 알고있는 유일한 코드이다. \"크기가 큰 사이클\"이란 SDOF 시스템의 최대 응답의 70% 이상의 크기를 갖는 2개의 양수 또는 음수 첨두치를 갖는 사이클로 정의된다."
   ]
  },
  {
   "cell_type": "markdown",
   "metadata": {},
   "source": [
    "### 2.3 GR-63-CORE - Network Equipment-Building System (NEBS) requirements"
   ]
  },
  {
   "cell_type": "markdown",
   "metadata": {},
   "source": [
    "세번째로 고려할 코드는 GR-63-CORE (2002)이다. 비록 이 코드는 그림 2.1에 나타난 바와 같이 2%에서의 RRS를 명시하고 있지만, 이 코드는 사실 그림 2.2에 미리 주어진 파형인 VERTEQII를 사용해 시험을 하도록 기술하고 있다. 그럼에도 불구하고, 그 대안으로 많은 고객들은 이 코드에서 정의된 스펙트럼에 맞는 인공 지진 시간이력을 허용하고 있다. 스펙트럼에 부합하는 시간이력은 또한 3개의 단축 거동이 아닌 3축 거동을 만들 수 있게 하며 이는 시편이 받는 가진의 양을 줄여주게 하며, 시편에 미치는 피로 영향을 최소화 하도록 해준다."
   ]
  },
  {
   "cell_type": "markdown",
   "metadata": {},
   "source": [
    "**Figure 2.1.** GR-63-CORE Required Response Spectra (From GR-63-CORE)"
   ]
  },
  {
   "cell_type": "markdown",
   "metadata": {},
   "source": [
    "**Figure 2.2.** VERTEQII Zone 4 Earthquake Waveform (From GR-63-CORE)"
   ]
  },
  {
   "cell_type": "markdown",
   "metadata": {},
   "source": [
    "이 파형을 재생산하기 위해 요구되는 높은 변위를 다루기 위해, GR-63-CORE 코드는 저주파 성분을 줄이기 위해 필터를 사용해도 된다고 언급하고 있다. 이 코드와 앞선 코드들의 주요한 차이점은 다음과 같다."
   ]
  },
  {
   "cell_type": "markdown",
   "metadata": {},
   "source": [
    "a) 가진 신호에 가지해지는 고주파 필터의 cut-off 주파수는 0.20 Hz를 초과해서는 안되며, 저주파필터는 50 Hz보다 아래여서는 안된다."
   ]
  },
  {
   "cell_type": "markdown",
   "metadata": {},
   "source": [
    "b) VERTEQII 파형의 재생산은 0.5 ~ 50 Hz 범위 내에서 1/6 옥타브 간격으로 TRS를 확인하여 검증되어야 한다. 시간이력의 샘플링 주파수 또한 200 Hz 보다 커야 한다."
   ]
  },
  {
   "cell_type": "markdown",
   "metadata": {},
   "source": [
    "### 2.4 Important differences between the three test specifications"
   ]
  },
  {
   "cell_type": "markdown",
   "metadata": {},
   "source": [
    "앞서 언급한 모든 코드들은 TRS와 RRS를 비교하기 위한 주파수 간격을 정의하고 있으며 이는 1/6 옥타브 또는 1/12 옥타브이다. 하지만, 이 코드들 중 단 하나만 인공 지진이 맟워야 할 주파수를 정의하고 있다. 이러한 누락은 특정 시편의 경우 덜 보수적인 시험이 될 수 있게 한다. 예를들어, 오직 1/6 옥타브 점에서만 RRS에 맞는 에너지를 갖도록 지진 시간이력이 생성된다면, 이 점들 사이에서 에너지가 높거나 낮을 수 있다. 이러한 문제의 예는 그림 2.3에 나타나 있다. 두꺼운 선은 1/6 옥타브 간격에서만 맞춘 결과이고, 이 스펙트럼은 1/6 옥타브 간격에서는 RRS와 근접하다. 또한 ±4% 오차 범위 내에 포함된다. 하지만 이 시간이력을 모든 FFT 주파수에서 스펙트럼을 계산할 경우(얇은선), 특정 주파수에서는 변동이 큰 것을 볼 수 있다. 만약 2.4 Hz의 고유진동수를 갖는 시편이 이 시간이력으로 시험될 경우, 이 시변은 5.4 g가 아닌 3.9 g의 가진을 겪을 것이다. 반면, 시편의 고유진동수가 3.3 Hz라면, 6.7 g의 가진을 받을 것이다. 따라서 코드에 명시되어 있지 않더라도, 응답스펙트럼에 부합하는 시간이력을 생성하는데 있어 충분한 수의 주파수 점들을 포함하는 것이 중요하다."
   ]
  },
  {
   "cell_type": "markdown",
   "metadata": {},
   "source": [
    "**Figure 2.3.** Full response spectra for an earthquake matched at 1/6 octave points"
   ]
  },
  {
   "cell_type": "markdown",
   "metadata": {},
   "source": [
    "코드들 간의 다른 주요한 차이점은 허용하고 있는 고주파필터의 수준이다. 코드들은 0.5 Hz 이상에서 RRS에 맞추거나, 가장 낮은 공진주파수의 70% 위로 맞추거나, 상황에 따라 3.5 Hz 이상에서 맞추도록 기술하고 있다. 일반적으로 여기에서 고려하는 가정사항은 입력 가진이 시편의 가장 낮은 고유진동수의 70% 아래 까지는 RRS에 맞추어야 한다는 것이다. 그림 2.4는 정현 가진에 대한 다양한 감쇠값을 갖는 SDOF의 표준 응답을 보여준다. 그림을 보면 SDOF 시스템 고유진동수의 70%에서 증배계수는 약 2이며, 이는 시편의 감쇠와 무관하다. 이는 시변 고유진동수의 70% 아래까지만 TRS를 맞추는 것이 합리적임을 암시해준다."
   ]
  },
  {
   "cell_type": "code",
   "execution_count": 12,
   "metadata": {},
   "outputs": [
    {
     "data": {
      "image/png": "[encoded data removed]",
      "text/plain": [
       "<Figure size 432x288 with 1 Axes>"
      ]
     },
     "metadata": {
      "needs_background": "light"
     },
     "output_type": "display_data"
    }
   ],
   "source": [
    "import numpy as np\n",
    "import matplotlib.pyplot as plt\n",
    "def tr(zeta,r):\n",
    "    return np.sqrt((1+(2*zeta*r)**2) / ((1-r**2)**2 + (2*zeta*r)**2) );\n",
    "r = np.linspace(0.4,1.6,1000);\n",
    "plt.plot(r,tr(0.02,r),'b-',label='2% damping',lw=1);\n",
    "plt.plot(r,tr(0.05,r),'b--',label='5% damping',lw=1);\n",
    "plt.plot(r,tr(0.10,r),'b-.',label='10% damping',lw=1);\n",
    "plt.legend(); plt.xlabel('Ratio of forcing frequenct to specimen frequency');\n",
    "plt.ylabel('Amplification Ratio');\n",
    "plt.title('Amplitude Response of forced SDOF system');\n",
    "plt.xlim(0.4,1.6);"
   ]
  },
  {
   "cell_type": "markdown",
   "metadata": {},
   "source": [
    "**Figure 2.4.** Response of SDOF system to forced excitation at different damping levels"
   ]
  },
  {
   "cell_type": "markdown",
   "metadata": {},
   "source": [
    "따라서 만약 시험될 시편이 낮은 고유진동수를 갖는 것을 알고 있다면, TRS와 RRS를 맞추어야 할 최소 주파수를 결정하는데 사용할 수 있다. 하지만, 시편에 대한 사전 정보가 없는 경우가 종종 있으며, 이러한 경우 입력 가진에 고주파 필터를 적용하는 것이 더 중요하게 되며, 따라서 이를 최소화 해야 한다. 이상적으로, 만약 시편의 고유진동수를 알지 못하는 경우, 시편이 입력 가진에 최소 시편의 고유진동수의 70%까지 가진된다는 것을 보장하기 위해, 적절한 코드에서 정의된 전체 주파수 범위 내에서 RRS와 맞추어야 한다. 하지만 이는 대부분의 가진대에서 실현 불가능할 수 있다. 예를 들어, GR-63-CORE Zone 4의 스펙트럼을 0.3 Hz까지 맞출 경우, 가진대의 최대 변위는 약 ±300 mm이며, 이는 전세계 대부분 가진대의 용량을 벗어나는 값이다(Crewe 2008). 따라서 TRS 가진은 종종 고주파 필터링 되어 시험에 사용될 가진대가 구동 가능하도록 한다. 이러한 과정은 가진을 재생산하는데 팰요한 변위를 감소하는 반면, 필터된 가진이 가진대의 성능 한계를 고려한 최적 치가 되지는 않는다. 따라서 입력 가진을 필터링 하는대신, RRS에 부합시키는 다른 절차를 제안하며, 이 방법을 통해 많은 수의 가진들을 비교하여 가진대의 변위, 속도, 가속도를 최소화 함과 동시에 가능한 최저 주파수까지 RRS를 정확히 맞춘다."
   ]
  },
  {
   "cell_type": "markdown",
   "metadata": {},
   "source": [
    "## 3. Generation of Artificial Earthquakes Matching a Defined RRS"
   ]
  },
  {
   "cell_type": "markdown",
   "metadata": {},
   "source": [
    "정의된 RRS에 부합하는 인공 지진 시간이력을 생성하는 기본 절차는 백색 소음 즉 유사 난수 생성기로 시작하며 이는 그림 3.1에 나타나 있다. 아래에 제시된 모든 데이터는 재현 가능하도록 모두 같은 seed 수를 사용하였다. 따라서 주어진 결과들 사이의 차이점들은 처음 값의 차이 때문이 아닌 RRS에 맞춰가는 절차 때문에 생기는 것이다."
   ]
  },
  {
   "cell_type": "markdown",
   "metadata": {},
   "source": [
    "그림 3.1의 절차는 반복적이며, 합리적인 정확성을 가지며, 정의된 주파수 범위에서 RRS에 부합하는 TRS를 갖는 시간이력을 빠르게 생산해 줄것이다. 하지만, 첫번째 수렴을 넘어서 반복과정을 계속하게 되면, 종종 RRS에 더 잘맞는 TRS가 생성되기도 한다. 이는 특히 RRS의 감쇠가 5%보다 작을때 더욱 그러하며 이는 계산된 TRS가 RRS 주변에서 떨리는 경향이 있기 때문이다. 각 주파수에서 계산된 스펙트럼 값과 요구되는 스펙트럼 값의 비율의 역수 비율을 사용해 FFT 크기를 조절하면, 이 떨림을 줄일 수는 있지만, 제거할 수는 없다. 그림 3.2는 3000회 반복작업으로 구한 TRS와 RRS 사이의 오차를 보여주며, 왼쪽은 FFT 크기에 100% 맞춘 경우, 오른쪽은 FFT 크기에 80% 맞춘 경우이다. 80% 오차 조절을 사용하면 확실히 TRS를 맞추는 과정의 안정성이 개선된다. "
   ]
  },
  {
   "cell_type": "markdown",
   "metadata": {},
   "source": [
    "(1) (난수) seed 수를 사용해 초기 백색소음 시간이력을 생성한다.\n",
    "\n",
    "(2) 정의된 주파수들에서 시간이력의 응답스펙트럼을 계산한다.\n",
    "\n",
    "(3) 각 주파수에서 계산한 스펙트럼 값과 요구 스펙트럼 값의 비율 R을 계산한다.\n",
    "\n",
    "(4) 각 FFT 크기 성분에 1/R을 곱하고, 필요한 경우 내삽한다.\n",
    "\n",
    "(5) 변경한 FFT 값들을 사용해 새로운 시간이력을 생성한다.\n",
    "\n",
    "(6) 필요한 횟수만큼 반복한다."
   ]
  },
  {
   "cell_type": "markdown",
   "metadata": {},
   "source": [
    "**Figure 3.1.** Flow diagram for iterative response spectra matching"
   ]
  },
  {
   "cell_type": "markdown",
   "metadata": {},
   "source": [
    "**Figure 3.2.** Error during matching with 100% (left) and 80% (right) adjustment of error at each iteration"
   ]
  },
  {
   "cell_type": "markdown",
   "metadata": {},
   "source": [
    "### 3.1 Number of iterations in matching process"
   ]
  },
  {
   "cell_type": "markdown",
   "metadata": {},
   "source": [
    "그림 3.2 (오른쪽)은 또한 초기 수렴 후 반복과정을 더 진행하는 것의 장점을 보여준다. 이 경우, RRS에 가장 부합하는 시간이력은 2600회의 반복과정 이후 확인된다. 따라서, RRS에 가장 잘 부합하는 시간이력을 찾기 위해서는 많은 반복과정이 항상 수행되어야 한다."
   ]
  },
  {
   "cell_type": "markdown",
   "metadata": {},
   "source": [
    "하지만, 특정 시간이력이 전반적으로 RRS에 잘 부합할 수 있지만, TRS가 공차 한계를 벗어나는 점의 개수도 중요하다. 따라서 특정 seed 수를 사용하여 생성한 시간이력 중 최적의 시간이력을 선정하기 위해, 정의된 공차 한계의 위, 아래로 가장 적은 수를 갖는 지를 비교할 것을 제안한다. 이러한 반복과정 중에서 정확성이 중요한지 또는 가진대의 성능이 중요한지에 따라 평균오차가 가장 작은것 또는 첨두 변위, 속도, 가속도가 작은 것을 취사선택해야 한다."
   ]
  },
  {
   "cell_type": "markdown",
   "metadata": {},
   "source": []
  }
 ],
 "metadata": {
  "kernelspec": {
   "display_name": "Python 3",
   "language": "python",
   "name": "python3"
  },
  "language_info": {
   "codemirror_mode": {
    "name": "ipython",
    "version": 3
   },
   "file_extension": ".py",
   "mimetype": "text/x-python",
   "name": "python",
   "nbconvert_exporter": "python",
   "pygments_lexer": "ipython3",
   "version": "3.7.4"
  }
 },
 "nbformat": 4,
 "nbformat_minor": 2
}
