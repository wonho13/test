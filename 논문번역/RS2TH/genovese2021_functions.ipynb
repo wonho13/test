{
 "cells": [
  {
   "cell_type": "code",
   "execution_count": 1,
   "metadata": {},
   "outputs": [],
   "source": [
    "import numpy as np\n",
    "import matplotlib.pyplot as plt"
   ]
  },
  {
   "cell_type": "code",
   "execution_count": 3,
   "metadata": {},
   "outputs": [],
   "source": [
    "def fileI(filename):\n",
    "    tmp = []\n",
    "    f = open(filename,'r');\n",
    "    lines = f.readlines()\n",
    "    for line in lines:\n",
    "        tmp.append(line);\n",
    "    out=np.zeros([len(tmp),5]);\n",
    "    for i in range(len(out)):\n",
    "        out[i,:] = np.array(tmp[i].split()).astype(np.float)\n",
    "    return out;"
   ]
  },
  {
   "cell_type": "code",
   "execution_count": 4,
   "metadata": {},
   "outputs": [],
   "source": [
    "data = fileI('RSN1091_NORTHR_VAS000.AT2');"
   ]
  },
  {
   "cell_type": "code",
   "execution_count": 7,
   "metadata": {},
   "outputs": [],
   "source": [
    "data1 = np.zeros(len(data)*5); idx = 0;\n",
    "for i in range(len(data)):\n",
    "    for j in range(5):\n",
    "        data1[idx] = data[i,j];\n",
    "        idx += 1;"
   ]
  },
  {
   "cell_type": "code",
   "execution_count": 8,
   "metadata": {},
   "outputs": [
    {
     "data": {
      "text/plain": [
       "array([1.249601e-04, 1.285706e-04, 1.255654e-04, ..., 1.068545e-06,\n",
       "       1.578578e-06, 2.051648e-06])"
      ]
     },
     "execution_count": 8,
     "metadata": {},
     "output_type": "execute_result"
    }
   ],
   "source": [
    "data1"
   ]
  },
  {
   "cell_type": "code",
   "execution_count": 10,
   "metadata": {},
   "outputs": [],
   "source": [
    "dt = 0.02;\n",
    "time = np.zeros(len(data1));\n",
    "for i in range(len(data1)):\n",
    "    time[i] = dt*i;"
   ]
  },
  {
   "cell_type": "code",
   "execution_count": 11,
   "metadata": {},
   "outputs": [
    {
     "data": {
      "image/png": "[encoded data removed]",
      "text/plain": [
       "<Figure size 432x288 with 1 Axes>"
      ]
     },
     "metadata": {
      "needs_background": "light"
     },
     "output_type": "display_data"
    }
   ],
   "source": [
    "plt.plot(time,data1);"
   ]
  },
  {
   "cell_type": "code",
   "execution_count": 15,
   "metadata": {},
   "outputs": [],
   "source": [
    "def tau_mnk(m,n,k):\n",
    "    return k/(n-m);"
   ]
  },
  {
   "cell_type": "code",
   "execution_count": 20,
   "metadata": {},
   "outputs": [],
   "source": [
    "def psi_mnk(m,n,k,t):\n",
    "    out = 0;\n",
    "    for j in range(m,n):\n",
    "        out += np.exp(2j*np.pi*j*(t-tau_mnk(m,n,k)));\n",
    "    return out;"
   ]
  },
  {
   "cell_type": "code",
   "execution_count": 16,
   "metadata": {},
   "outputs": [],
   "source": [
    "def a_mnk(dt,tf,m,n,k,th):\n",
    "    out = 0; N = len(th);\n",
    "    for l in range(N):"
   ]
  },
  {
   "cell_type": "code",
   "execution_count": null,
   "metadata": {},
   "outputs": [],
   "source": []
  }
 ],
 "metadata": {
  "kernelspec": {
   "display_name": "Python 3",
   "language": "python",
   "name": "python3"
  },
  "language_info": {
   "codemirror_mode": {
    "name": "ipython",
    "version": 3
   },
   "file_extension": ".py",
   "mimetype": "text/x-python",
   "name": "python",
   "nbconvert_exporter": "python",
   "pygments_lexer": "ipython3",
   "version": "3.7.3"
  }
 },
 "nbformat": 4,
 "nbformat_minor": 2
}
