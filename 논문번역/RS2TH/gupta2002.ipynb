{
 "cells": [
  {
   "cell_type": "markdown",
   "metadata": {},
   "source": [
    "## 1. Introduction"
   ]
  },
  {
   "cell_type": "markdown",
   "metadata": {},
   "source": []
  },
  {
   "cell_type": "markdown",
   "metadata": {},
   "source": [
    "## 2. Docomposition of recorded accelerogram"
   ]
  },
  {
   "cell_type": "markdown",
   "metadata": {},
   "source": [
    "만약 $f(t)$가 모든 유한 에너지 함수에 대한 공간 $L^2(R)$에 속한다면, 즉, 다음 조건을 만족한다면,"
   ]
  },
  {
   "cell_type": "markdown",
   "metadata": {},
   "source": [
    "$$\\int_{-\\infty}^{\\infty} |f(t)|^2 dt < \\infty\\tag{1}$$"
   ]
  },
  {
   "cell_type": "markdown",
   "metadata": {},
   "source": [
    "이 시간이력은 웨이블릿 변환을 통해 웨이블릿 계수로 분해될 수 있고, 역 웨이블릿 변환을 통해 이들을 다시 조합하여 원상복귀할 수 있다. 모든 가속도이력 기록들의 과도 특성 및 유한 에너지 성분들은 웨이블릿 영역(domain)에서 표현될 수 있다. Basu 및 Gupta [8]에 따르면, 지속시간이 $T$인 $f(t)$는 $N$개의 시간이력으로 분해할 수 있다."
   ]
  },
  {
   "cell_type": "markdown",
   "metadata": {},
   "source": [
    "$$f(t)=\\sum_{j=1}^N f_j(t)\\tag{2}$$"
   ]
  },
  {
   "cell_type": "markdown",
   "metadata": {},
   "source": [
    "이때 각 시간이력들의 에너지들은 주파수 밴드가 모두 겹치지 않으며, $N$개의 시간이력은 주파수 밴드 $\\omega_{min}$에서 $\\omega_{max}$ 범위 내에서 완전히 분포되어 있다. 여기서 $f_j(t)$는 다음과 같이 표현할 수 있다. "
   ]
  },
  {
   "cell_type": "markdown",
   "metadata": {},
   "source": [
    "$$f_j(t)=\\frac{K\\Delta b}{a_j}\\sum_i W_{\\psi}f(a_j,b_i)\\psi\\left(\\frac{t-b_i}{a_j}\\right)\\tag{3}$$"
   ]
  },
  {
   "cell_type": "markdown",
   "metadata": {},
   "source": [
    "여기서"
   ]
  },
  {
   "cell_type": "markdown",
   "metadata": {},
   "source": [
    "$$\\psi(t)=\\frac{1}{\\pi\\sqrt{\\sigma-1}}\\frac{sin(\\sigma\\pi t)-sin(\\pi t)}{t}\\tag{4}$$"
   ]
  },
  {
   "cell_type": "markdown",
   "metadata": {},
   "source": [
    "$$\\sigma=2^{1/4}$$"
   ]
  },
  {
   "cell_type": "markdown",
   "metadata": {},
   "source": [
    "식 (4)는 모 웨이블릿(mother wavelet) 또는 기저함수(basis function)이다."
   ]
  },
  {
   "cell_type": "markdown",
   "metadata": {},
   "source": [
    "$a_j=2^{j/4}$, $b_i=(i-1)\\Delta b$는 scale 및 shift 변수의 이산화된 값들이다."
   ]
  },
  {
   "cell_type": "markdown",
   "metadata": {},
   "source": [
    "$$W_{\\psi}f(a_j,b_i)=\\frac{1}{\\sqrt{a_j}}\\int_0^T f(t)\\psi\\left(\\frac{t-b_i}{a_j}\\right)dt\\tag{5}$$"
   ]
  },
  {
   "cell_type": "markdown",
   "metadata": {},
   "source": [
    "식(5)는 scale 변수 $a_j$ 및 shift 변수 $b_i$에 대한 웨이블릿 계수이다. 그리고 식 (3)에서,"
   ]
  },
  {
   "cell_type": "markdown",
   "metadata": {},
   "source": [
    "$$K=\\frac{1}{4\\pi C_\\psi}(\\sigma-\\frac{1}{\\sigma})\\tag{6}$$"
   ]
  },
  {
   "cell_type": "markdown",
   "metadata": {},
   "source": [
    "$$C_\\psi=\\int_{-\\infty}^\\infty \\frac{|\\hat{\\psi}(\\omega)|^2}{|\\omega|}d\\omega\\tag{7}$$"
   ]
  },
  {
   "cell_type": "markdown",
   "metadata": {},
   "source": [
    "식 (6), (7)는 상수들이고,"
   ]
  },
  {
   "cell_type": "markdown",
   "metadata": {},
   "source": [
    "$$\\hat{\\psi}(\\omega)=\\frac{1}{\\sqrt{2\\pi}}\\int_{-\\infty}^\\infty \\psi(t)e^{-i\\omega t}dt\\tag{8}$$"
   ]
  },
  {
   "cell_type": "markdown",
   "metadata": {},
   "source": [
    "식(8)은 기저함수 $\\psi(t)$의 푸리에변환이다. $\\Delta b$는 0.02 초로 설정하였다. 식(2)에서 $j$ 번째 시간이력 $f_j(t)$는 주기 밴드 $(2a_j/\\sigma, 2a_j)$ 내에서 에너지를 가지며, 따라서 -21 ~ 6 에서 선택된 j의 경우 모든 28개로 분해된 시간이력은 0.044 ~ 0.053, 0.053 ~ 0.063, ..., 4.76 ~ 5.66 초 주기 밴드 내에 채워져 있다."
   ]
  },
  {
   "cell_type": "code",
   "execution_count": 11,
   "metadata": {},
   "outputs": [],
   "source": [
    "## test\n",
    "## sigma = 2**(1/4); \n",
    "## def a(j): return 2**(j/4);\n",
    "## for j in range(-21,7):\n",
    "##     print('%.3f ~ %.3f \\n'%(2*a(j)/sigma,2*a(j)));"
   ]
  },
  {
   "cell_type": "code",
   "execution_count": null,
   "metadata": {},
   "outputs": [],
   "source": []
  }
 ],
 "metadata": {
  "kernelspec": {
   "display_name": "Python 3",
   "language": "python",
   "name": "python3"
  },
  "language_info": {
   "codemirror_mode": {
    "name": "ipython",
    "version": 3
   },
   "file_extension": ".py",
   "mimetype": "text/x-python",
   "name": "python",
   "nbconvert_exporter": "python",
   "pygments_lexer": "ipython3",
   "version": "3.7.4"
  }
 },
 "nbformat": 4,
 "nbformat_minor": 2
}
