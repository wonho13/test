{
 "cells": [
  {
   "cell_type": "markdown",
   "metadata": {},
   "source": [
    "### 5. 수치 및 실험 적용"
   ]
  },
  {
   "cell_type": "markdown",
   "metadata": {},
   "source": [
    "제안한 하중 재생산 방법으로 수치 및 실험 예제를 소개하겠다."
   ]
  },
  {
   "cell_type": "markdown",
   "metadata": {},
   "source": [
    "### 5.1 수치 예제"
   ]
  },
  {
   "cell_type": "markdown",
   "metadata": {},
   "source": [
    "모드가 불확실한 모델에 충격 하중이 가해졌을 때 4장에 기술된 접근법으로 이 충격하중을 재생산 하였다. 이 예제에서는 정확한 모델에 충격하중을 가해 가속도를 측정하였고, 이 측정한 가속도에 78.5 dB의 SNR로 잡음을 추가하였다. 그 결과는 그림2에 나타나 있다."
   ]
  },
  {
   "cell_type": "markdown",
   "metadata": {},
   "source": [
    "<img src='fig2.png'>"
   ]
  },
  {
   "cell_type": "markdown",
   "metadata": {},
   "source": [
    "사전 모델은 4차 및 5차 modal residue에 40% 및 30%의 오차를 부여하고, 6, 7차 고유진동수를 30 Hz 만큼 이동시켜 만들었다. 실제 FRF 및 사전 FRF와 실제 FRF의 차이는 그림3에 나타나 있다. "
   ]
  },
  {
   "cell_type": "markdown",
   "metadata": {},
   "source": [
    "<img src='fig3.png'>"
   ]
  },
  {
   "cell_type": "markdown",
   "metadata": {},
   "source": [
    "앞서 언급한 모드 변수들(4, 5차 modal residue, 6,7차 고유진동수)은 불확실한 요소로 간주하며, 다변수 정규분포 $N(\\alpha_0,[C_\\alpha])$를 따른다고 가정하였다. 그리고 평균은 $\\alpha_0=[-0.7,-0.4,530,730]$로, 공분산 행렬은 $[C_\\alpha]=diag(0.04,0.04,200,200)$으로 가정하였다. 행렬 공분산은 가능한 모든 모드변수 값들이 고려되도록 충분히 큰 값으로 설정하였다. 이 사전 모델을 사용하여 베이지안 추론을 통한 하중 복원을 수행할 것이다"
   ]
  },
  {
   "cell_type": "code",
   "execution_count": null,
   "metadata": {},
   "outputs": [],
   "source": []
  }
 ],
 "metadata": {
  "kernelspec": {
   "display_name": "Python 3",
   "language": "python",
   "name": "python3"
  },
  "language_info": {
   "codemirror_mode": {
    "name": "ipython",
    "version": 3
   },
   "file_extension": ".py",
   "mimetype": "text/x-python",
   "name": "python",
   "nbconvert_exporter": "python",
   "pygments_lexer": "ipython3",
   "version": "3.7.4"
  }
 },
 "nbformat": 4,
 "nbformat_minor": 2
}
