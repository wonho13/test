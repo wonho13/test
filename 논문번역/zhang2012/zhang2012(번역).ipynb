{
 "cells": [
  {
   "cell_type": "markdown",
   "metadata": {},
   "source": [
    "### 5. 수치 및 실험 적용"
   ]
  },
  {
   "cell_type": "markdown",
   "metadata": {},
   "source": [
    "제안한 하중 재생산 방법으로 수치 및 실험 예제를 소개하겠다."
   ]
  },
  {
   "cell_type": "markdown",
   "metadata": {},
   "source": [
    "### 5.1 수치 예제"
   ]
  },
  {
   "cell_type": "markdown",
   "metadata": {},
   "source": [
    "모드가 불확실한 모델에 충격 하중이 가해졌을 때 4장에 기술된 접근법으로 이 충격하중을 재생산 하였다. 이 예제에서는 정확한 모델에 충격하중을 가해 가속도를 측정하였고, 이 측정한 가속도에 78.5 dB의 SNR로 잡음을 추가하였다. 그 결과는 그림2에 나타나 있다."
   ]
  },
  {
   "cell_type": "code",
   "execution_count": null,
   "metadata": {},
   "outputs": [],
   "source": []
  }
 ],
 "metadata": {
  "kernelspec": {
   "display_name": "Python 3",
   "language": "python",
   "name": "python3"
  },
  "language_info": {
   "codemirror_mode": {
    "name": "ipython",
    "version": 3
   },
   "file_extension": ".py",
   "mimetype": "text/x-python",
   "name": "python",
   "nbconvert_exporter": "python",
   "pygments_lexer": "ipython3",
   "version": "3.7.4"
  }
 },
 "nbformat": 4,
 "nbformat_minor": 2
}
