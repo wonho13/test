{
 "cells": [
  {
   "cell_type": "markdown",
   "metadata": {},
   "source": [
    "## Review and Assessment of Frequency-Based Fatigue Damage Models"
   ]
  },
  {
   "cell_type": "markdown",
   "metadata": {},
   "source": [
    "### INTRODUCTION"
   ]
  },
  {
   "cell_type": "markdown",
   "metadata": {},
   "source": [
    "자동차 기기의 피로 및 지속시간은 2개 종류의 기계적 하중에 초점을 맞추고 있다: 주기적 엔진 가동에 의한 결정론적 반복 하중, 노면에 의한 랜덤 가진. 엔진과 관련된 기기 및 구조물들에 대한 피로의 경우 일반적으로 유한 수명 접근법을 사용하며 이는 엔진의 시작부터 연료가 끊길 때 까지 샘플링한 시간이력을 근거로 한다. 프래임과 몬체에 설치된 기기의 경우 하중이 랜덤인 특징 때문에 피로해석은 일반적으로 2가지 방법으로 수행된다: 시간이력 접근법 또는 하중입력의 PSD를 기반으로 한 스펙트럼 방법. 시간이력 접근법의 경우, 모든 랜덤 하중 조건을 포함할 수 있는 시간 영역에서의 적절한 지속시간이 요구된다. 손상과 피로 수명을 평가하는데는 Rainflow cycle counting과 선형 피로 법칙이 사용된다. 랜덤 하중에 시간이력 접근법을 적용하는 것은 몇가지 결함이 있다. 모든 주파수 성분, 특히 빈도는 적지만 큰 손상을 주는 사건, 을 획득하기 위해서는 충분히 긴 시간의 하중에 대한 시간이력을 기록해야 하며, 이는 많은 비용이 든다. Bishop의 연구에 따르면, 긴 지속시간의 시간이력 데이터로부터 피로 손상을 계산하고 응력을 평가하는 것은 많은 계산 피용이 소요된다."
   ]
  },
  {
   "cell_type": "markdown",
   "metadata": {},
   "source": [
    "랜덤 하중 입력에 대한 동적 응답을 나타내는 가장 일반적인 방법은 입력 하중이 랜덤이고, stationary, Gaussian이라는 가정을 통하여 PSD를 사용한 주파수 영역에서의 스펙트럼 방법을 사용하는 것이다. Rice의 하중 피크에 대한 확률밀도함수 표현을 따라 Bendat은 협대혁 랜덤 하중 입력에 대한 피로 손상을 어떻게 계산하는지 보였다. 하지만, 구조물에 가해지는 랜덤 하주은 본래 광대역 특성을 가지기 때문에, 협대역 접근법은 매우 보수적이라는 것이 확인되었다. Wirsching 과 Light, Oritz와 Chen, Larsen과 Lute는 광대역 및 협대역 피로의 차이점을 고려하여 실험적인 보정계수를 고안하였으며, 이 보정계수는 irregularity factor와 피로 경사 지수(Basquien 식에서의 피로 강도 지수의 음의 역수)에 대한 함수였다. 이론적 기반의 새로운 방법이 최근 Benascuiti와 Tovo에 의해 소개되었다. 이 방ㅂ버에 대한 수치적 및 실험적 검증이 다른 연구에서 이루어 졌다. 다른 접근법은 Dirlik이 제안하였으며, 이 방법은 rainflow 크기 분포를 추정하기 위한 확률밀도함수를 실험적으로 기술하였으며, 이 분포는 1개의 지수분포 및 2개의 Rayleight 분포의 조합으로 표현된다. 다음의 유사한 방법으로 Zhao-Baker는 1개의 Weibull 분포와 1개의 Rayleighy 분포를, Lalanne은 Rice의 공식을 사용한 방법을 제안하였으며, Halfpenny는 이 방법이 훌륭한 결과를 나타냄을 보였다."
   ]
  },
  {
   "cell_type": "markdown",
   "metadata": {},
   "source": [
    "본 연구의 목적은 3가지로 구분된다: (1) 랜덤 하중을 주파수 역역에서 시간영역으로 옮기는 과정을 보임 (2) Dirlik 방법에서의 변수드을 추정하는 지침을 결정 (3) 모든 언급된 주파수 기반의 피로 손상 모델들을 검토하고 사용하기 가장 좋은 방법을 추천."
   ]
  },
  {
   "cell_type": "markdown",
   "metadata": {},
   "source": [
    "스펙트럼 방법에 대한 적용 사례들은 많은 논문들에서 다르고 있다. 지금까지는 Dirlik 방법이 rainflow 피로 손상을 추정하는데 가장 적확한 것으로 알려져 있다. 하지만, 논문들에서는 스펙트럼 모멘트의 변수와 피로 손상 계산 과정에 대해 상세히 기술하고 있지 않다. 만약 부정확한 변수들이 사용되었다면 심각한 오차가 발생할 수 있다. 따라서 본 논문에서는 Dirlik 및 다른방법들의 정확한 손상 결과를 정확히 알아내기 위해 모든 변수들에 대하여 철저히 연구해 보았다. Dirlik 논문에 제시된 70개의 PSD를 계산에 사용하였다. Dirlik 방법을 정확히 수치적으로 적분하는 방법과 높은 정확도로 결과를 얻는 방법에 대해 설명할 것이다. 적분의 상한치를 계산하는 방법을 제시할 것이며, 적분 조밀도에 따른 정확도의 영향에 대해 논의할 것이다. "
   ]
  },
  {
   "cell_type": "markdown",
   "metadata": {},
   "source": [
    "주파수 기반의 모델을 평가하는 방법은 주파수 영역 방법의 추정 피로 결과와 원래 시간 영역 하중의 rainflow cycle counting에서 산출한 피로 결과를 비교하는 것이다. PSD를 시간이력으로 바꾸는 상세한 연구가 없었기 때문에, 본 연구의 또다른 목적은 주파수 영역에서 시간 영역으로 변환하는 과정에 대해 sampling rate, 지속시간, resolution과 같은 상세 내용을 다루는 것이다."
   ]
  },
  {
   "cell_type": "markdown",
   "metadata": {},
   "source": [
    "본 논문의 3번째 모적은 상기 언급한 주파수 기반의 피로 손상 모델들을 검토하고, 피로 오차 평가 절차 및 결과를 기반으로 우리가 찾아낸 것들을 제시하는 것이다. 피로 손상과 피로 경사 지수의 관계 또한 각 방법들에 대하여 연구하였다. 연구 결과 이전에 발표된 논문들에서의 스펙트럼 방법의 정확도는 다양한 피로 경사 지수에 따라 그 정확도가 일정하지 않음이 확인되었다."
   ]
  },
  {
   "cell_type": "markdown",
   "metadata": {},
   "source": [
    "### PROCESS FOR CALCULATING FATIGUE DAMAGE FROM RANDOM LOADS"
   ]
  },
  {
   "cell_type": "markdown",
   "metadata": {},
   "source": [
    "랜덤 하중에 대한 피로 손상 계산은 초기에 시간영역에서 수행되었으며, rainflow cycle counting과 선형 손상 법칙을 적용하였다. 주파수 영역에서의 랜덤하중에 대한 PSD를 시간 영역의 크기 분포로 연결하여, 피로 손상 계산은 주파수 영역으로 확장된다. 제안된 주파수 영역 스펙트럼 방법에 대한 정확도를 입증하기 위해서 시간이력을 모사하는 방법을 개발하였다. 3가지 접근법에 대한 일반적인 계산 절차와 방법들은 Figure 1에 나타나 있다. 본 논문에서는, 각 방법에 대해 간략히 다루고, 주파수 스펙트럼 방법에 대해서 상세히 다룬다."
   ]
  },
  {
   "cell_type": "markdown",
   "metadata": {},
   "source": [
    "<img src=\"fig1(a).png\" style=\"width:200px\" align=\"left\"/> <img src=\"fig1(b).png\" style=\"width:200px\" align=\"center\"/>\n",
    "<img src=\"fig1(c).png\" style=\"width:500px\" align=\"left\"/>"
   ]
  },
  {
   "cell_type": "markdown",
   "metadata": {},
   "source": [
    "**Figure 1. (a) Time Series Approach**\n",
    "\n",
    "**Figure 1. (b) Synthesized Time Series Approach**\n",
    "\n",
    "**Figure 1. (c) Frequency Spectral Approach&**"
   ]
  },
  {
   "cell_type": "markdown",
   "metadata": {},
   "source": [
    "### Case 1: 측정한 시간이력으로 피로 손상 계산"
   ]
  },
  {
   "cell_type": "markdown",
   "metadata": {},
   "source": [
    "데이터를 취득하는 동안, 관심있는 최대 주파수의 2배보다 큰 샘플율을 사용하는 Nyquist 기준을 따르면 하중의 최대 주파수가 나타날 것이다. rainflow cycle counting을 정확히 하려면 피크와 관통부를 식별해야 하며, 관심있는 최대 주파수의 10~ 20의 슴팰율을 사용해야 한다. 시간이력 시험은 가장 비용이 많으 든다. 왜냐하면 실제 기기에 대해 요구되는 실제 시간이력 데이터를 기록해야 하기 때문이다."
   ]
  },
  {
   "cell_type": "markdown",
   "metadata": {},
   "source": [
    "### Case 2: 모사한 시간이력으로 피로 손상 계산"
   ]
  },
  {
   "cell_type": "markdown",
   "metadata": {},
   "source": [
    "랜덤 하중 스펙의 PSD를 사용하여 주어진 시간에 대하여 IFFT를 통해 시간이력을 모사할 수 있다. 모사한 하중 데이터에서 피크와 관통부를 추출하여 rainflow cycle counting을 할 수 있고, MIner's rule로 피로손상을 계산할 수 있다. rainflow cycle counting을 정확히 하기 위해서는 관심있는 최대 주파수의 10~20배 정도의 sampling rate이 적용된 시간이력이 모사되어야 한다. 데이터가 stationary이고 Gaussian이라고 가정하면 많은 비용으로 모은 데이터로부터 시뮬레이션 결과를 얻을 수 있다. 시험 지속시간이 충분히 길면, 피로손상율은 평균 값으로 수렴할 것이다. 긴 지속시간으로 모사된 시간이력에 대하여 IFFT를 하고 rainflow cycle counting을 하는 것은 계산 비용이 많이든다. 하지만 이방법은 일반적으로 추파수 영역 방법의 성능을 비교할 때 사용되는 방법이다."
   ]
  },
  {
   "cell_type": "markdown",
   "metadata": {},
   "source": [
    "PSD를 시간이력으로 바꾸는 다양한 방법들이 있다. 본 논문에서는 Figure 2의 방법을 사용할 것이다. 이산화된 PSD 곡선과 white noise의 푸리에 변환을 곱하는 형태인 푸리에 필터를 사용한다. 그리고 시간이력을 얻기 위해 역푸리에변환을 적용하여 기존 입력과 크기 및 PSD 모양이 같은 결과를 얻는다. 각 하중 경우에 대하여 기존 PSD와 모사한 PSD를 비교하여 확인한다."
   ]
  },
  {
   "cell_type": "markdown",
   "metadata": {},
   "source": [
    "<img src=\"fig2.png\" style=\"width:600px\" align=\"left\"/>"
   ]
  },
  {
   "cell_type": "markdown",
   "metadata": {},
   "source": [
    "**Figure 2. PSD 입력 하중을 시간 영역으로 변환하는 절차**"
   ]
  },
  {
   "cell_type": "markdown",
   "metadata": {},
   "source": [
    "sampling rate, 지속시간, 푸리에 필터의 크기는 PSD에서 시간이력을 생성하는데 영향을 미치는 주요 변수이다. 다양한 sampling rate 조건에서 생성한 시간이력 데이터들에 대하여 유사 피로손상을 평가해 보았다. 평가결과는 Figure 3에 나타나 있으며, X축은 (sampling rate/최대 주파수)이며, Y축은 일정한 S-N Curve를 가정하여 얻은 유사 피로손상 값이다. 그림에 나타난 바와 같이 유사 손상 값이 수렴하기 위해서는 최대 주파수의 10배 이상의 sampling rate을 사용해야 한다. 본 논문에서는 모든 PSD에 대하여 5000 Hz의 sampling rate을 적용하였으며 이는 하중 최대 주파수의 20배 이상이다."
   ]
  },
  {
   "cell_type": "markdown",
   "metadata": {},
   "source": [
    "<img src=\"fig3.png\" style=\"width:600px\" align=\"left\"/>"
   ]
  },
  {
   "cell_type": "markdown",
   "metadata": {},
   "source": [
    "**Figure 3. 생성한 시간이력의 sampling rate이 pseudo damage에 미치는 영향**"
   ]
  },
  {
   "cell_type": "code",
   "execution_count": 1,
   "metadata": {},
   "outputs": [],
   "source": [
    "import numpy as np\n",
    "import matplotlib.pyplot as plt"
   ]
  },
  {
   "cell_type": "code",
   "execution_count": 2,
   "metadata": {},
   "outputs": [],
   "source": [
    "# Rectangular PSD\n",
    "def Gr(f,f1,p1,f2,p2,A1,A2):\n",
    "    out = np.zeros(len(f));\n",
    "    for i in range(len(f)):\n",
    "        if f[i] >= f1 and f[i] <= p1:\n",
    "            out[i] = A1\n",
    "        elif f[i] >= f2 and f[i] <= p2:\n",
    "            out[i] = A2;\n",
    "    return out;"
   ]
  },
  {
   "cell_type": "code",
   "execution_count": 11,
   "metadata": {},
   "outputs": [
    {
     "data": {
      "image/png": "[encoded data removed]",
      "text/plain": [
       "<Figure size 360x360 with 1 Axes>"
      ]
     },
     "metadata": {
      "needs_background": "light"
     },
     "output_type": "display_data"
    }
   ],
   "source": [
    "freq = np.linspace(0,150,15000);\n",
    "psd = Gr(freq,11,27.5,95,125,1475,325);\n",
    "plt.figure(figsize=(5,5));\n",
    "plt.plot(freq,psd,'b-'); plt.xlim(0,130); plt.ylim(0,1700);"
   ]
  },
  {
   "cell_type": "code",
   "execution_count": 46,
   "metadata": {},
   "outputs": [],
   "source": [
    "ratio = np.array([1,2,5,8,10,20,40,49]);\n",
    "T = 10000; fmax = max(freq);\n",
    "\n",
    "fs = ratio[0]*fmax;\n",
    "dt = 1/fs; N = 2**9;\n",
    "time = np.arange(N)*dt;\n",
    "WN = np.random.uniform(0,1,N);\n",
    "ft_wn = np.fft.fft(WN);"
   ]
  },
  {
   "cell_type": "code",
   "execution_count": 47,
   "metadata": {},
   "outputs": [],
   "source": [
    "df = 1/N/dt;\n",
    "Nf = 2**12;\n",
    "freq = np.arange(Nf)*df"
   ]
  },
  {
   "cell_type": "code",
   "execution_count": 48,
   "metadata": {},
   "outputs": [
    {
     "data": {
      "text/plain": [
       "797.8528496693117"
      ]
     },
     "execution_count": 48,
     "metadata": {},
     "output_type": "execute_result"
    }
   ],
   "source": []
  },
  {
   "cell_type": "code",
   "execution_count": 49,
   "metadata": {},
   "outputs": [
    {
     "data": {
      "text/plain": [
       "0.19483586072510664"
      ]
     },
     "execution_count": 49,
     "metadata": {},
     "output_type": "execute_result"
    }
   ],
   "source": [
    "df"
   ]
  },
  {
   "cell_type": "code",
   "execution_count": null,
   "metadata": {},
   "outputs": [],
   "source": []
  }
 ],
 "metadata": {
  "kernelspec": {
   "display_name": "Python 3",
   "language": "python",
   "name": "python3"
  },
  "language_info": {
   "codemirror_mode": {
    "name": "ipython",
    "version": 3
   },
   "file_extension": ".py",
   "mimetype": "text/x-python",
   "name": "python",
   "nbconvert_exporter": "python",
   "pygments_lexer": "ipython3",
   "version": "3.7.3"
  }
 },
 "nbformat": 4,
 "nbformat_minor": 2
}
