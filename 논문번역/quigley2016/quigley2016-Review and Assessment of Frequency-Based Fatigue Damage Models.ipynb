{
 "cells": [
  {
   "cell_type": "markdown",
   "metadata": {},
   "source": [
    "## Review and Assessment of Frequency-Based Fatigue Damage Models"
   ]
  },
  {
   "cell_type": "markdown",
   "metadata": {},
   "source": [
    "### INTRODUCTION"
   ]
  },
  {
   "cell_type": "markdown",
   "metadata": {},
   "source": [
    "자동차 기기의 피로 및 지속시간은 2개 종류의 기계적 하중에 초점을 맞추고 있다: 주기적 엔진 가동에 의한 결정론적 반복 하중, 노면에 의한 랜덤 가진. 엔진과 관련된 기기 및 구조물들에 대한 피로의 경우 일반적으로 유한 수명 접근법을 사용하며 이는 엔진의 시작부터 연료가 끊길 때 까지 샘플링한 시간이력을 근거로 한다. 프래임과 몬체에 설치된 기기의 경우 하중이 랜덤인 특징 때문에 피로해석은 일반적으로 2가지 방법으로 수행된다: 시간이력 접근법 또는 하중입력의 PSD를 기반으로 한 스펙트럼 방법. 시간이력 접근법의 경우, 모든 랜덤 하중 조건을 포함할 수 있는 시간 영역에서의 적절한 지속시간이 요구된다. 손상과 피로 수명을 평가하는데는 Rainflow cycle counting과 선형 피로 법칙이 사용된다. 랜덤 하중에 시간이력 접근법을 적용하는 것은 몇가지 결함이 있다. 모든 주파수 성분, 특히 빈도는 적지만 큰 손상을 주는 사건, 을 획득하기 위해서는 충분히 긴 시간의 하중에 대한 시간이력을 기록해야 하며, 이는 많은 비용이 든다. Bishop의 연구에 따르면, 긴 지속시간의 시간이력 데이터로부터 피로 손상을 계산하고 응력을 평가하는 것은 많은 계산 피용이 소요된다."
   ]
  },
  {
   "cell_type": "markdown",
   "metadata": {},
   "source": [
    "랜덤 하중 입력에 대한 동적 응답을 나타내는 가장 일반적인 방법은 입력 하중이 랜덤이고, stationary, Gaussian이라는 가정을 통하여 PSD를 사용한 주파수 영역에서의 스펙트럼 방법을 사용하는 것이다. Rice의 하중 피크에 대한 확률밀도함수 표현을 따라 Bendat은 협대혁 랜덤 하중 입력에 대한 피로 손상을 어떻게 계산하는지 보였다. 하지만, 구조물에 가해지는 랜덤 하주은 본래 광대역 특성을 가지기 때문에, 협대역 접근법은 매우 보수적이라는 것이 확인되었다. Wirsching 과 Light, Oritz와 Chen, Larsen과 Lute는 광대역 및 협대역 피로의 차이점을 고려하여 실험적인 보정계수를 고안하였으며, 이 보정계수는 irregularity factor와 피로 경사 지수(Basquien 식에서의 피로 강도 지수의 음의 역수)에 대한 함수였다. 이론적 기반의 새로운 방법이 최근 Benascuiti와 Tovo에 의해 소개되었다. 이 방ㅂ버에 대한 수치적 및 실험적 검증이 다른 연구에서 이루어 졌다. 다른 접근법은 Dirlik이 제안하였으며, 이 방법은 rainflow 크기 분포를 추정하기 위한 확률밀도함수를 실험적으로 기술하였으며, 이 분포는 1개의 지수분포 및 2개의 Rayleight 분포의 조합으로 표현된다. 다음의 유사한 방법으로 Zhao-Baker는 1개의 Weibull 분포와 1개의 Rayleighy 분포를, Lalanne은 Rice의 공식을 사용한 방법을 제안하였으며, Halfpenny는 이 방법이 훌륭한 결과를 나타냄을 보였다."
   ]
  },
  {
   "cell_type": "markdown",
   "metadata": {},
   "source": [
    "본 연구의 목적은 3가지로 구분된다: (1) 랜덤 하중을 주파수 역역에서 시간영역으로 옮기는 과정을 보임 (2) Dirlik 방법에서의 변수드을 추정하는 지침을 결정 (3) 모든 언급된 주파수 기반의 피로 손상 모델들을 검토하고 사용하기 가장 좋은 방법을 추천."
   ]
  },
  {
   "cell_type": "markdown",
   "metadata": {},
   "source": [
    "스펙트럼 방법에 대한 적용 사례들은 많은 논문들에서 다르고 있다. 지금까지는 Dirlik 방법이 rainflow 피로 손상을 추정하는데 가장 적확한 것으로 알려져 있다. 하지만, 논문들에서는 스펙트럼 모멘트의 변수와 피로 손상 계산 과정에 대해 상세히 기술하고 있지 않다. 만약 부정확한 변수들이 사용되었다면 심각한 오차가 발생할 수 있다. 따라서 본 논문에서는 Dirlik 및 다른방법들의 정확한 손상 결과를 정확히 알아내기 위해 모든 변수들에 대하여 철저히 연구해 보았다. Dirlik 논문에 제시된 70개의 PSD를 계산에 사용하였다. Dirlik 방법을 정확히 수치적으로 적분하는 방법과 높은 정확도로 결과를 얻는 방법에 대해 설명할 것이다. 적분의 상한치를 계산하는 방법을 제시할 것이며, 적분 조밀도에 따른 정확도의 영향에 대해 논의할 것이다. "
   ]
  },
  {
   "cell_type": "markdown",
   "metadata": {},
   "source": [
    "주파수 기반의 모델을 평가하는 방법은 주파수 영역 방법의 추정 피로 결과와 원래 시간 영역 하중의 rainflow cycle counting에서 산출한 피로 결과를 비교하는 것이다. PSD를 시간이력으로 바꾸는 상세한 연구가 없었기 때문에, 본 연구의 또다른 목적은 주파수 영역에서 시간 영역으로 변환하는 과정에 대해 sampling rate, 지속시간, resolution과 같은 상세 내용을 다루는 것이다."
   ]
  },
  {
   "cell_type": "markdown",
   "metadata": {},
   "source": [
    "본 논문의 3번째 모적은 상기 언급한 주파수 기반의 피로 손상 모델들을 검토하고, 피로 오차 평가 절차 및 결과를 기반으로 우리가 찾아낸 것들을 제시하는 것이다. 피로 손상과 피로 경사 지수의 관계 또한 각 방법들에 대하여 연구하였다. 연구 결과 이전에 발표된 논문들에서의 스펙트럼 방법의 정확도는 다양한 피로 경사 지수에 따라 그 정확도가 일정하지 않음이 확인되었다."
   ]
  },
  {
   "cell_type": "markdown",
   "metadata": {},
   "source": [
    "### PROCESS FOR CALCULATING FATIGUE DAMAGE FROM RANDOM LOADS"
   ]
  },
  {
   "cell_type": "markdown",
   "metadata": {},
   "source": [
    "랜덤 하중에 대한 피로 손상 계산은 초기에 시간영역에서 수행되었으며, rainflow cycle counting과 선형 손상 법칙을 적용하였다. 주파수 영역에서의 랜덤하중에 대한 PSD를 시간 영역의 크기 분포로 연결하여, 피로 손상 계산은 주파수 영역으로 확장된다. 제안된 주파수 영역 스펙트럼 방법에 대한 정확도를 입증하기 위해서 시간이력을 모사하는 방법을 개발하였다. 3가지 접근법에 대한 일반적인 계산 절차와 방법들은 Figure 1에 나타나 있다. 본 논문에서는, 각 방법에 대해 간략히 다루고, 주파수 스펙트럼 방법에 대해서 상세히 다룬다."
   ]
  },
  {
   "cell_type": "markdown",
   "metadata": {},
   "source": [
    "<img src=\"fig1(a).png\" style=\"width:200px\" align=\"left\"/> <img src=\"fig1(b).png\" style=\"width:200px\" align=\"center\"/>\n",
    "<img src=\"fig1(c).png\" style=\"width:500px\" align=\"left\"/>"
   ]
  },
  {
   "cell_type": "markdown",
   "metadata": {},
   "source": [
    "**Figure 1. (a) Time Series Approach**\n",
    "\n",
    "**Figure 1. (b) Synthesized Time Series Approach**\n",
    "\n",
    "**Figure 1. (c) Frequency Spectral Approach&**"
   ]
  },
  {
   "cell_type": "markdown",
   "metadata": {},
   "source": [
    "### Case 1: 측정한 시간이력으로 피로 손상 계산"
   ]
  },
  {
   "cell_type": "markdown",
   "metadata": {},
   "source": [
    "데이터를 취득하는 동안, 관심있는 최대 주파수의 2배보다 큰 샘플율을 사용하는 Nyquist 기준을 따르면 하중의 최대 주파수가 나타날 것이다. rainflow cycle counting을 정확히 하려면 피크와 관통부를 식별해야 하며, 관심있는 최대 주파수의 10~ 20의 슴팰율을 사용해야 한다. 시간이력 시험은 가장 비용이 많으 든다. 왜냐하면 실제 기기에 대해 요구되는 실제 시간이력 데이터를 기록해야 하기 때문이다."
   ]
  },
  {
   "cell_type": "markdown",
   "metadata": {},
   "source": [
    "### Case 2: 모사한 시간이력으로 피로 손상 계산"
   ]
  },
  {
   "cell_type": "markdown",
   "metadata": {},
   "source": [
    "랜덤 하중 스펙의 PSD를 사용하여 주어진 시간에 대하여 IFFT를 통해 시간이력을 모사할 수 있다. 모사한 하중 데이터에서 피크와 관통부를 추출하여 rainflow cycle counting을 할 수 있고, MIner's rule로 피로손상을 계산할 수 있다. rainflow cycle counting을 정확히 하기 위해서는 관심있는 최대 주파수의 10~20배 정도의 sampling rate이 적용된 시간이력이 모사되어야 한다. 데이터가 stationary이고 Gaussian이라고 가정하면 많은 비용으로 모은 데이터로부터 시뮬레이션 결과를 얻을 수 있다. 시험 지속시간이 충분히 길면, 피로손상율은 평균 값으로 수렴할 것이다. 긴 지속시간으로 모사된 시간이력에 대하여 IFFT를 하고 rainflow cycle counting을 하는 것은 계산 비용이 많이든다. 하지만 이방법은 일반적으로 추파수 영역 방법의 성능을 비교할 때 사용되는 방법이다."
   ]
  },
  {
   "cell_type": "markdown",
   "metadata": {},
   "source": [
    "PSD를 시간이력으로 바꾸는 다양한 방법들이 있다. 본 논문에서는 Figure 2의 방법을 사용할 것이다. 이산화된 PSD 곡선과 white noise의 푸리에 변환을 곱하는 형태인 푸리에 필터를 사용한다. 그리고 시간이력을 얻기 위해 역푸리에변환을 적용하여 기존 입력과 크기 및 PSD 모양이 같은 결과를 얻는다. 각 하중 경우에 대하여 기존 PSD와 모사한 PSD를 비교하여 확인한다."
   ]
  },
  {
   "cell_type": "markdown",
   "metadata": {},
   "source": [
    "<img src=\"fig2.png\" style=\"width:600px\" align=\"left\"/>"
   ]
  },
  {
   "cell_type": "markdown",
   "metadata": {},
   "source": [
    "**Figure 2. PSD 입력 하중을 시간 영역으로 변환하는 절차**"
   ]
  },
  {
   "cell_type": "markdown",
   "metadata": {},
   "source": [
    "sampling rate, 지속시간, 푸리에 필터의 크기는 PSD에서 시간이력을 생성하는데 영향을 미치는 주요 변수이다. 다양한 sampling rate 조건에서 생성한 시간이력 데이터들에 대하여 유사 피로손상을 평가해 보았다. 평가결과는 Figure 3에 나타나 있으며, X축은 (sampling rate/최대 주파수)이며, Y축은 일정한 S-N Curve를 가정하여 얻은 유사 피로손상 값이다. 그림에 나타난 바와 같이 유사 손상 값이 수렴하기 위해서는 최대 주파수의 10배 이상의 sampling rate을 사용해야 한다. 본 논문에서는 모든 PSD에 대하여 5000 Hz의 sampling rate을 적용하였으며 이는 하중 최대 주파수의 20배 이상이다."
   ]
  },
  {
   "cell_type": "markdown",
   "metadata": {},
   "source": [
    "<img src=\"fig3.png\" style=\"width:600px\" align=\"left\"/>"
   ]
  },
  {
   "cell_type": "markdown",
   "metadata": {},
   "source": [
    "**Figure 3. 생성한 시간이력의 sampling rate이 pseudo damage에 미치는 영향**"
   ]
  },
  {
   "cell_type": "code",
   "execution_count": 1,
   "metadata": {},
   "outputs": [
    {
     "data": {
      "image/png": "[encoded data removed]",
      "text/plain": [
       "<Figure size 432x288 with 1 Axes>"
      ]
     },
     "metadata": {
      "needs_background": "light"
     },
     "output_type": "display_data"
    }
   ],
   "source": [
    "%run fig3.ipynb"
   ]
  },
  {
   "cell_type": "markdown",
   "metadata": {},
   "source": [
    "생성한 시간이력의 지속시간도 정확성에 영향을 미친다. Figure 4는 동일한 사간 PSD 입력에 대하여 다양한 지속시간으로 생성한 PSD를 비교한 것이다. 그림에 나타난 바와 같이 지속시간이 길수록 기존 PSD와 유사한 결과를 보인다. 실제 PSD 형상을 잘 나타내기 위해서는 충부히 긴 지속시간이 요구된다. 본 논문에서는 10,000 초의 시간이력을 생성하였다."
   ]
  },
  {
   "cell_type": "code",
   "execution_count": 2,
   "metadata": {},
   "outputs": [
    {
     "data": {
      "image/png": "[encoded data removed]",
      "text/plain": [
       "<Figure size 1080x360 with 3 Axes>"
      ]
     },
     "metadata": {
      "needs_background": "light"
     },
     "output_type": "display_data"
    }
   ],
   "source": [
    "%run fig4.ipynb"
   ]
  },
  {
   "cell_type": "markdown",
   "metadata": {},
   "source": [
    "**Figure 4. Effect of duration of generated time series load to PSD correlation (10000, 500, 100 s)**"
   ]
  },
  {
   "cell_type": "markdown",
   "metadata": {},
   "source": [
    "푸리에변환과 역푸리에변환 또한 데이터 수에 영향을 받으며, 데이터 수는 PSD와 white noise의 FFT 및 iFFT를 이산화 할때의 정밀도를 결정한다. Figure 5에 나타난 바와 같이 데이터 수가 많을수록 더 정밀한 결과가 산출되었다. 본 논문에서는 모든 PSD 입력에 대하여 8192개의 데이터를 사용하였다."
   ]
  },
  {
   "cell_type": "code",
   "execution_count": 1,
   "metadata": {},
   "outputs": [
    {
     "data": {
      "image/png": "[encoded data removed]",
      "text/plain": [
       "<Figure size 720x360 with 2 Axes>"
      ]
     },
     "metadata": {
      "needs_background": "light"
     },
     "output_type": "display_data"
    }
   ],
   "source": [
    "%run fig5.ipynb"
   ]
  },
  {
   "cell_type": "markdown",
   "metadata": {},
   "source": [
    "**Figure 5. Effect of buffer size to PSD correlation(8192, 256 buffer size)**"
   ]
  },
  {
   "cell_type": "markdown",
   "metadata": {},
   "source": [
    "### Case 3: 주파수영역 피로 손상 계산"
   ]
  },
  {
   "cell_type": "markdown",
   "metadata": {},
   "source": [
    "주파수 영역 방법은 주어진 PSD 값의 spectral moment로 산출한 변소를 사용한다. 모든 주파수 영역 방법의 장점은 시험 지속시간과 상관 없이 하나의 평균 손상율이 계산된다는 것이다. PSD은 stationary, Gaussian이고, 하중조건을 대표한다고 가정된다. 기본적인 진동 및 피로 이론은 참고문헌 17, 23, 24, 25에서 확인 가능하다."
   ]
  },
  {
   "cell_type": "markdown",
   "metadata": {},
   "source": [
    "주파수영역 계산을 위한 일반적인 Basquin 손상 식의 형태는 다음과 같다."
   ]
  },
  {
   "cell_type": "markdown",
   "metadata": {},
   "source": [
    "$$ D=\\frac{E[freq]\\cdot T\\cdot E[S_a^m]}{C_a} \\tag{1}$$"
   ]
  },
  {
   "cell_type": "markdown",
   "metadata": {},
   "source": [
    "$E[freq]$는 예상 또는 평균 주파수이고, $T$는 시험 지속시간, $E[S_a^m]$는 피로 지수에 의해 증가된 예상 하중 또는 응력이고, $C_a$는 Basquin 재료 상수이다. 하첨자 a는 크기(amplitude)를 의미하며, 본 논문에서 계속 사용할 것이다. 또한 범위(range)에 대한 하첨자도 사용 가능하다. 또한 응력은 변형률 또는 변위로 대체 가능하며, 이때 재료 상수 $C_a$를 사용한다."
   ]
  },
  {
   "cell_type": "markdown",
   "metadata": {},
   "source": [
    "spectral moment는 다음과 같다."
   ]
  },
  {
   "cell_type": "markdown",
   "metadata": {},
   "source": [
    "$$M_j=\\int_0^{\\infty} f^j W_x(f) df\\tag{2}$$"
   ]
  },
  {
   "cell_type": "markdown",
   "metadata": {},
   "source": [
    "$W_x$는 $(load^2/Hz)$ 또는 $(stress^2/Hz)$의 단위를 갖는 PSD이며, $f^j$는 $j$ 차수의 주파수이다."
   ]
  },
  {
   "cell_type": "markdown",
   "metadata": {},
   "source": [
    "PSD는 종종 시간이력 데이터의 추출점들을 간추려 FFT한 것을 포괄하도록 단순화 되기도 한다. 보통 PSD는 표의 값 또는 점 값인 불연속 함수의 형태로 제공된다. 이러한 불연속 PSD를 수치적분 해야 spectral moment를 얻을 수 있다. Lalanne[17]은 spectral moment를 계싼하는 식을 제시했다. PSD는 대부분 log-log 단위로 그려진다. 절점 A에서 다음 절점 B 까지 log-log 단위에서의 적분식은 다음과 같다."
   ]
  },
  {
   "cell_type": "markdown",
   "metadata": {},
   "source": [
    "$$M_j=\\frac{W_A}{f_A^k}\\left(\\frac{f_B^{(k+j+1)}-f_A^{(k+j+1)}}{(k+j+1)} \\right)\\tag{3}$$"
   ]
  },
  {
   "cell_type": "markdown",
   "metadata": {},
   "source": [
    "$$k=\\frac{ln\\frac{W_B}{W_A}}{ln\\frac{f_B}{f_A}}\\tag{4}$$"
   ]
  },
  {
   "cell_type": "markdown",
   "metadata": {},
   "source": [
    "상기 식에서 $W_A$는 첫번째 절점에서의 PSD 크기이고, $k$는 두개 절점 사이의 기울기이다. $j$는 spectral moment의 차수이다. 만약 $k=-(j+1)$이면,"
   ]
  },
  {
   "cell_type": "markdown",
   "metadata": {},
   "source": [
    "$$M_j=f_1^{-(j+1)}W_1 ln\\left(\\frac{f_2}{f_1}\\right)\\tag{5}$$"
   ]
  },
  {
   "cell_type": "markdown",
   "metadata": {},
   "source": [
    "어떤 차수든 spectral moment는 식(3)을 부분별도 더하면 계산 가능하다."
   ]
  },
  {
   "cell_type": "markdown",
   "metadata": {},
   "source": [
    "spectral moment에서 유도되는 중요한 변수 2개는 0차 모멘트인 $M_0$ (분산)와 $\\sqrt{M_0}$ (표준편차)이다. 또한 rate of positive zero crossing $E[0^+]$ (하중 또는 응력이 음수에서 양수로 바뀌는 비율) 그리고 피크의 평균 발생 비율 $E[p]$ (하중 또는 응력이 피크가 되는 평균 비율)은 다음과 같이 주어진다."
   ]
  },
  {
   "cell_type": "markdown",
   "metadata": {},
   "source": [
    "$$E[0^+]=\\sqrt{\\frac{M_2}{M_0}}\\tag{6}$$"
   ]
  },
  {
   "cell_type": "markdown",
   "metadata": {},
   "source": [
    "$$E[P]=\\sqrt{\\frac{M_4}{M_2}}\\tag{7}$$"
   ]
  },
  {
   "cell_type": "markdown",
   "metadata": {},
   "source": [
    "또다른 중요한 함수는 irregularity factor이며 다음과 같이 주어진다."
   ]
  },
  {
   "cell_type": "markdown",
   "metadata": {},
   "source": [
    "$$\\gamma = \\frac{E[0^+]}{E[P]} = \\sqrt{\\frac{M_2^2}{M_0 M_4}}\\tag{8}$$"
   ]
  },
  {
   "cell_type": "markdown",
   "metadata": {},
   "source": [
    "협대역 과정의 irregularity factor는 1에 가까운 값을 가지며, 광대역 과정의 irregularity factor는 0에 가까운 값을 갖는다."
   ]
  },
  {
   "cell_type": "markdown",
   "metadata": {},
   "source": [
    "평균이 0이 아니면, 평균응력효과를 고려해야 하며, 이때 Morrow, Walker, modified Walker, Smith-Watson-Topper 식[26]을 사용한다. 본 논문의 목적에 따라 평균은 0이며, 구조물은 선형이고, 하중은 stationary, Gaussian이라고 가정한다."
   ]
  },
  {
   "cell_type": "markdown",
   "metadata": {},
   "source": [
    "S.O. Rice [6]는 협대역 과정의 피크값들의 확률밀도함수는 Rayleigh 분포를 따른다고 기술한다."
   ]
  },
  {
   "cell_type": "markdown",
   "metadata": {},
   "source": [
    "$$f_{S_a}(S_a,\\sigma_{S_a})=\\frac{S_a}{\\sigma_{S_a}^2}\\cdot e^{\\left( -\\frac{(S_a^2)}{2(\\sigma_{Sa}^2)} \\right)}=\\frac{S_a}{M_0}\\cdot e^{\\left( -\\frac{(S_a^2)}{2M_0} \\right)}\\tag{9}$$"
   ]
  },
  {
   "cell_type": "markdown",
   "metadata": {},
   "source": [
    "$\\sigma_{S_a}$는 랜덤 과정의 표준편차이다."
   ]
  },
  {
   "cell_type": "markdown",
   "metadata": {},
   "source": [
    "Rice는 또한 랜덤 stationary Gaussian 과정이 협대역 또는 광대역일때 피크의 확률밀도함수는 Rayleight 및 정규분포의 조합을 따른다고 기술하였다. 이 함수는 Rice 분포로 알려져 있으며, 식(10)에 주어져 있다. 다양한 irregularity factor에 대하여 정규화된 하중에 대한 Rice 분포는 Figure 6에 나타나 있다. irregularity factor가 1이면 Rayleight 분포 모양이고, irregularity factor가 0이면 Gaussian 모양이다."
   ]
  },
  {
   "cell_type": "markdown",
   "metadata": {},
   "source": [
    "$$f(s_a)=\\frac{\\sqrt{1-\\gamma^2}}{\\sqrt{2\\pi M_0}} e^{\\left( -\\frac{S_a^2}{2(1-\\gamma^2)M_0} \\right)} + \\gamma \\frac{S_a}{M_0} e^{\\left( -\\frac{S_a^2}{2M_0} \\right)} \\Phi \\left( \\frac{\\gamma S_a}{\\sqrt{(1-\\gamma^2)M_0}} \\right) \\tag{10}$$"
   ]
  },
  {
   "cell_type": "markdown",
   "metadata": {},
   "source": [
    "$\\Phi$는 표준정규분포 함수이다."
   ]
  },
  {
   "cell_type": "code",
   "execution_count": 2,
   "metadata": {},
   "outputs": [
    {
     "data": {
      "image/png": "[encoded data removed]",
      "text/plain": [
       "<Figure size 576x432 with 1 Axes>"
      ]
     },
     "metadata": {
      "needs_background": "light"
     },
     "output_type": "display_data"
    }
   ],
   "source": [
    "%run fig6.ipynb"
   ]
  },
  {
   "cell_type": "markdown",
   "metadata": {},
   "source": [
    "**Figure 6. Rice's peak probability density function**"
   ]
  },
  {
   "cell_type": "markdown",
   "metadata": {},
   "source": [
    "랜덤 하중에서 피로손상을 계산하는 다양한 방법을이 만들어 졌고, 많은 유명한 방법들에 대해 다음부터 소개한다."
   ]
  },
  {
   "cell_type": "markdown",
   "metadata": {},
   "source": [
    "### Narrowband Method (NB) [7]"
   ]
  },
  {
   "cell_type": "markdown",
   "metadata": {},
   "source": [
    "협대역 피크의 확률밀도함수를 사용하여 Bendat[7]은 협대역 과정의 피로손상이 다음과 같이 계산됨을 보였다."
   ]
  },
  {
   "cell_type": "markdown",
   "metadata": {},
   "source": [
    "$$D_{NB}=\\frac{E[0^+]T(\\sqrt{2M_0})^m}{C_a}\\Gamma\\left( \\frac{1}{2}m+1 \\right) \\tag{11}$$"
   ]
  },
  {
   "cell_type": "markdown",
   "metadata": {},
   "source": [
    "여기서 $\\Gamma()$는 감마함수이다."
   ]
  },
  {
   "cell_type": "markdown",
   "metadata": {},
   "source": [
    "협대역 방법은 광대역 랜덤하중에 대한 손상을 과보수적으로 평가하는 경향이 있다. 더 정확한 결과를 얻기 위해 협대역 방법에 수정계수 $\\zeta$를 적용하는 많은 방법들이 제안되었다."
   ]
  },
  {
   "cell_type": "markdown",
   "metadata": {},
   "source": [
    "$$D = \\zeta D_{NB}\\tag{12}$$"
   ]
  },
  {
   "cell_type": "markdown",
   "metadata": {},
   "source": [
    "다음은 수정계수를 적용하는 몇 가지 방법들이다."
   ]
  },
  {
   "cell_type": "markdown",
   "metadata": {},
   "source": [
    "### Wirsching and Light Method (WL) [8]"
   ]
  },
  {
   "cell_type": "markdown",
   "metadata": {},
   "source": [
    "$$D = \\zeta_{WL} D_{NB}\\tag{13}$$"
   ]
  },
  {
   "cell_type": "markdown",
   "metadata": {},
   "source": [
    "where"
   ]
  },
  {
   "cell_type": "markdown",
   "metadata": {},
   "source": [
    "$$\\zeta_{WL} = a + (1-a) (1-\\lambda)^b\\tag{14}$$"
   ]
  },
  {
   "cell_type": "markdown",
   "metadata": {},
   "source": [
    "$$a = .926 - .033m\\tag{15}$$"
   ]
  },
  {
   "cell_type": "markdown",
   "metadata": {},
   "source": [
    "$$b = 1.587m-2.323\\tag{16}$$"
   ]
  },
  {
   "cell_type": "markdown",
   "metadata": {},
   "source": [
    "$$\\lambda=\\sqrt{1-\\gamma^2}\\tag{17}$$"
   ]
  },
  {
   "cell_type": "markdown",
   "metadata": {},
   "source": [
    "$\\lambda$ : spectral width parameter"
   ]
  },
  {
   "cell_type": "markdown",
   "metadata": {},
   "source": [
    "### Oritz and Chen Method (OC) [9]"
   ]
  },
  {
   "cell_type": "markdown",
   "metadata": {},
   "source": [
    "$$D = \\zeta_k D_{NB}\\tag{18}$$"
   ]
  },
  {
   "cell_type": "markdown",
   "metadata": {},
   "source": [
    "$$\\zeta_k = \\frac{1}{\\gamma} \\left( \\sqrt{\\frac{M_2 M_k}{M_0 M_{k+2}}} \\right)^m  \\tag{19}$$"
   ]
  },
  {
   "cell_type": "markdown",
   "metadata": {},
   "source": [
    "모멘트 $M_k$와 $M_{k+2}$는 식(3)으로 계산할 수 있으며, 차수 항 $j$는 $k$로 대체되었다."
   ]
  },
  {
   "cell_type": "markdown",
   "metadata": {},
   "source": [
    "$$k = \\frac{2.0}{m}\\tag{20}$$"
   ]
  },
  {
   "cell_type": "markdown",
   "metadata": {},
   "source": [
    "### Larsen and Lutes' Single Moment (SM) Method [10]"
   ]
  },
  {
   "cell_type": "markdown",
   "metadata": {},
   "source": [
    "Larsen and Lutes' single moment 방법은 특히 bimodal PSD에 대하여 광범위한 시뮬레이션 및 rainflow 해석을 통해 개발되었다."
   ]
  },
  {
   "cell_type": "markdown",
   "metadata": {},
   "source": [
    "$$D = \\zeta_{SM} D_{NB} \\tag{21}$$"
   ]
  },
  {
   "cell_type": "markdown",
   "metadata": {},
   "source": [
    "$$\\zeta_{SM} = \\frac{\\left(\\frac{M_k}{M_0} \\right)^{m/2}}{E[0^+]}\\tag{22}$$"
   ]
  },
  {
   "cell_type": "markdown",
   "metadata": {},
   "source": [
    "모멘트 $M_k$는 식(3)으로 계산할 수 있으며, 차수 항 $j$는 $k$로 대체되었다."
   ]
  },
  {
   "cell_type": "markdown",
   "metadata": {},
   "source": [
    "$$k = \\frac{2.0}{m}\\tag{23}$$"
   ]
  },
  {
   "cell_type": "markdown",
   "metadata": {},
   "source": [
    "손상 방정식은 single moment $M_k$만 계산하면 적용 가능하며 이러한 이름이 유래된 원인이다."
   ]
  },
  {
   "cell_type": "markdown",
   "metadata": {},
   "source": [
    "$$D_{NB} = \\frac{(M_k)^{m/2}T(\\sqrt{2})^m}{C_a}\\Gamma\\left(\\frac{1}{2}m+1\\right)\\tag{24}$$"
   ]
  },
  {
   "cell_type": "markdown",
   "metadata": {},
   "source": [
    "### Benascuitti and Tovo's (BT) Method [11,14]"
   ]
  },
  {
   "cell_type": "markdown",
   "metadata": {},
   "source": [
    "Benascuitti and Tovo[11,14]는 Gaussian 하중에 대하여 rainflow 피로 손상 예측치를 구하기 위한 표현을 유도하였다. Rychlik[27]은 rainflow cycle counting 손상은 협대역 방법보다는 작고 range counting 방법보다는 크거나 같다는 것을 확인하였다. range counting 방법은 피크와 이전 최소 값의 차이를 한 cycle로 정의하는 방법이다. 따라서 Benascuitti and Tovo는 다음과 같이 2개 사이의 가중치 선형 조합을 통해 해결 방법을 찾으려 하였다."
   ]
  },
  {
   "cell_type": "markdown",
   "metadata": {},
   "source": [
    "$$D_{RFC} = b D_{NB} + (1-b) D_{RC}\\tag{25}$$"
   ]
  },
  {
   "cell_type": "markdown",
   "metadata": {},
   "source": [
    "range counting 방법은 Madsen[28]이 다음과 같이 제시하였다."
   ]
  },
  {
   "cell_type": "markdown",
   "metadata": {},
   "source": [
    "$$D_{RFC} = D_{NB} \\gamma^{(m-1)}\\tag{26}$$"
   ]
  },
  {
   "cell_type": "markdown",
   "metadata": {},
   "source": [
    "손상은 다음을 풀면 찾을 수 있다."
   ]
  },
  {
   "cell_type": "markdown",
   "metadata": {},
   "source": [
    "$$D_{BT} = \\zeta_{BT} D_{NB}\\tag{27}$$"
   ]
  },
  {
   "cell_type": "markdown",
   "metadata": {},
   "source": [
    "$$\\zeta_{BT}=b+(1-b)\\alpha_2^{(m-1)}\\tag{28}$$"
   ]
  },
  {
   "cell_type": "markdown",
   "metadata": {},
   "source": [
    "이를 위해서는 다음의 변수들을 결정해야 한다."
   ]
  },
  {
   "cell_type": "markdown",
   "metadata": {},
   "source": [
    "$$\\alpha_1 = \\frac{M_1}{\\sqrt{M_0 M_2}} \\tag{29}$$"
   ]
  },
  {
   "cell_type": "markdown",
   "metadata": {},
   "source": [
    "$$\\alpha_2 = \\frac{M_2}{\\sqrt{M_0 M_4}}\\;\\;\\;\\;(note \\;that\\; \\alpha_2=\\gamma)\\tag{30}$$"
   ]
  },
  {
   "cell_type": "markdown",
   "metadata": {},
   "source": [
    "$$b=\\frac{(\\alpha_1-\\alpha_2)[1.112(1+\\alpha_1\\alpha_2-(\\alpha_1+\\alpha_2))e^{2.11\\alpha_2}+(\\alpha_1\\alpha_2)]}{(\\alpha_1-1)^2}\\tag{31}$$"
   ]
  },
  {
   "cell_type": "markdown",
   "metadata": {},
   "source": [
    "$b$값은 $alpha_1$ 값이 0.1 ~ 0.9 범위를 갖고 $alpha_2$(irregularity factor)가 0.1 ~ 9.7의 범위를 갖는 286개의 PSD를 샘플링하여 얻었다. 이를 모사한 시간이력을 사용하여 rainflow fatigue damage를 계산하였다. $b$를 계산하기 위해서는 4개의 spectral moment $M_0$, $M_1$, $M_2$, $M_4$만 필요하며, 이는 두개의 변수 $\\alpha_1$, $\\alpha_2$의 조합으로 표현 가능하다. 근사식은 시뮬레이션 결과와 추정한 결과 사이의 오차가 최소화가 되도록 최소자승법을 사용하여 얻었다. "
   ]
  },
  {
   "cell_type": "markdown",
   "metadata": {},
   "source": [
    "### Benascuitti and Tovo's $\\alpha_{.75}$  Method ($\\alpha_{.75}$)  [12]"
   ]
  },
  {
   "cell_type": "markdown",
   "metadata": {},
   "source": [
    "Benascuitti and Tovo는 손상 수정계수가 bandwidth 변수 $\\alpha_{.75}$에 대한 함수임을 관측하였고 이를 근거로 손상 계산 방법을 개발하였다."
   ]
  },
  {
   "cell_type": "markdown",
   "metadata": {},
   "source": [
    "$$D = \\zeta_\\alpha D_{NB}\\tag{32}$$"
   ]
  },
  {
   "cell_type": "markdown",
   "metadata": {},
   "source": [
    "$$\\zeta_{\\alpha} = \\alpha_{.75}^2\\tag{(33}$$"
   ]
  },
  {
   "cell_type": "markdown",
   "metadata": {},
   "source": [
    "$$\\alpha_{.75}=\\sqrt{\\frac{M_{(.75)}}{M_0 M_{(2*.75)}}}\\tag{34}$$"
   ]
  },
  {
   "cell_type": "markdown",
   "metadata": {},
   "source": [
    "예를들어 $M_{(.75)}$는 식(5)로 계산할 수 있는 $j=0.75$인 모멘트이다."
   ]
  },
  {
   "cell_type": "markdown",
   "metadata": {},
   "source": [
    "다음의 방법들은 하중에 대한 확률밀도함수를 구한다."
   ]
  },
  {
   "cell_type": "markdown",
   "metadata": {},
   "source": [
    "### Dirlik Method [15]"
   ]
  },
  {
   "cell_type": "markdown",
   "metadata": {},
   "source": [
    "Dirlik 방법은 다음의 식을 사용하여 응력 크기의 확률밀도함수를 구한다."
   ]
  },
  {
   "cell_type": "markdown",
   "metadata": {},
   "source": [
    "$$D_{Dirlik} = \\frac{E[P]T\\sum_0^{i=n}(S_{a,i})^m f_{S_a}(S_{a,i}) \\Delta S_a}{C_a}\\tag{35}$$"
   ]
  },
  {
   "cell_type": "markdown",
   "metadata": {},
   "source": [
    "Dirlik이 구한 rainflow 응력 크기에 대한 확률밀도 함수는 다음과 같다."
   ]
  },
  {
   "cell_type": "markdown",
   "metadata": {},
   "source": [
    "$$f_{S_a} = \\frac{D_1}{\\sqrt{M_0}Q}e^{-\\frac{Z S_{a,i}}{Q}} + \\frac{D_2 Z S_{a,i}}{\\sqrt{M_0} R^2} e^{\\frac{-Z^2 S_{a,i}^2}{2R^2}} + \\frac{D_3 Z S_{a,i}}{\\sqrt{M_0}} e^{\\frac{-Z^2 S_{a,i}^2}{z}}\\tag{36}$$"
   ]
  },
  {
   "cell_type": "markdown",
   "metadata": {},
   "source": [
    "Dirlik의 응력 확률밀도함수에 대한 변수들은 다음과 같다."
   ]
  },
  {
   "cell_type": "markdown",
   "metadata": {},
   "source": [
    "$$Z = \\frac{1}{\\sqrt{M_0}}\\tag{37}$$"
   ]
  },
  {
   "cell_type": "markdown",
   "metadata": {},
   "source": [
    "$$D_1 = \\frac{2(X_m-\\gamma^2)}{1+\\gamma^2}\\tag{38}$$"
   ]
  },
  {
   "cell_type": "markdown",
   "metadata": {},
   "source": [
    "$$D_2 = \\frac{1-\\gamma-D_1+D_1^2}{1-R}\\tag{39}$$"
   ]
  },
  {
   "cell_type": "markdown",
   "metadata": {},
   "source": [
    "$$D_3=1-D_1-D_2\\tag{40}$$"
   ]
  },
  {
   "cell_type": "markdown",
   "metadata": {},
   "source": [
    "$$X_m = \\left(\\frac{M_1}{M_0}\\right)\\sqrt{\\frac{M_2}{M_4}}\\tag{41}$$"
   ]
  },
  {
   "cell_type": "markdown",
   "metadata": {},
   "source": [
    "$$R = \\frac{\\gamma - X_m - D_1^2}{1-\\gamma - D_1 + D_1^2}\\tag{42}$$"
   ]
  },
  {
   "cell_type": "markdown",
   "metadata": {},
   "source": [
    "$$Q = \\frac{1.25(\\gamma-D_3-D_3\\cdot R)}{D_1}\\tag{43}$$"
   ]
  },
  {
   "cell_type": "markdown",
   "metadata": {},
   "source": [
    "Dirlik의 응력에 대한 확률밀도함수는 직접 적분될 수 없으며 이산 수치 적분 방법이 사용되어야 한다. 이를 위해서는 하중 또는 응력 값 $S_a$에 대한 상한치를 추정해야 하며 이는 나중에 논의될 것이다."
   ]
  },
  {
   "cell_type": "markdown",
   "metadata": {},
   "source": [
    "### Zhao and Baker's Method (ZB) [16]"
   ]
  },
  {
   "cell_type": "markdown",
   "metadata": {},
   "source": [
    "정규화된 응력 크기에 대한 확률밀도함수는 Rayleigh 및 Weibull PDS의 선형 조합으로 표현되며, irregularity factor $\\gamma$와 bandwidth 변수 $\\beta$에 대한 함수이다."
   ]
  },
  {
   "cell_type": "markdown",
   "metadata": {},
   "source": [
    "$$f(Z) = w \\alpha \\beta Z^{(\\beta-1)} e^{(-\\alpha Z^\\beta)}+(1-w) Z e^{\\left(-\\frac{Z^2}{2}\\right)}\\tag{44}$$"
   ]
  },
  {
   "cell_type": "markdown",
   "metadata": {},
   "source": [
    "$$Z = \\frac{S_a}{\\sigma_{S_a}}\\tag{45}$$"
   ]
  },
  {
   "cell_type": "markdown",
   "metadata": {},
   "source": [
    "$$w=\\frac{1-\\gamma}{1-\\sqrt{\\frac{2}{\\pi}}\\Gamma\\left(1+\\frac{1}{\\beta}\\right) \\alpha^{-\\frac{1}{\\beta}}}\\tag{46}$$"
   ]
  },
  {
   "cell_type": "markdown",
   "metadata": {},
   "source": [
    "$$\\alpha=8-7\\gamma\\tag{47}$$"
   ]
  },
  {
   "cell_type": "markdown",
   "metadata": {},
   "source": [
    "$$\\beta=1.1\\;\\;for\\;\\;\\gamma<0.9\\;and\\;\\beta=1.1+9(\\gamma-0.9)\\;for\\;\\gamma \\geq 0.9 \\tag{48}$$"
   ]
  },
  {
   "cell_type": "markdown",
   "metadata": {},
   "source": [
    "$$D_{Zhao\\&Baker}=\\left( \\frac{E[P]T}{C_a} \\right) \\sigma_{S_a}^m \\int_0^{\\infty} Z^m f(Z) dZ \\tag{49}$$"
   ]
  },
  {
   "cell_type": "markdown",
   "metadata": {},
   "source": [
    "### Lalanne's Method (LaL) [17]"
   ]
  },
  {
   "cell_type": "markdown",
   "metadata": {},
   "source": [
    "Lalanne은 다음의 Rice 식을 사용했다."
   ]
  },
  {
   "cell_type": "markdown",
   "metadata": {},
   "source": [
    "$$D_{Lalanne/Rice}=\\frac{E[P] T \\sum_0^{i=n}(S_{a,i})^m f_{S_a}(S_{a,i})\\Delta S_a}{C_a}\\tag{50}$$"
   ]
  },
  {
   "cell_type": "markdown",
   "metadata": {},
   "source": [
    "여기서 응력 크기에 대한 확률밀도함수는 식(10)의 Rice 공식에서 얻는다."
   ]
  },
  {
   "cell_type": "markdown",
   "metadata": {},
   "source": [
    "### Upper Bound Estimation"
   ]
  },
  {
   "cell_type": "markdown",
   "metadata": {},
   "source": [
    "적분이 필요한 방법들(Dirlik, Zhao and Baker, Lalanne)의 경우 적분의 상한치를 추정해야 한다. Rice 공식과 Figure 6은 가장 높은 크기의 응력 피크에 대한 확률밀도 함수는 협대역 과정의 경우 가장 크다는 것을 보여준다. 따라서 광대역 과정에 대한 가장 높은 크기 응력 피크에 대한 확률밀도함수는 더 작을 것이다. 다시말해 협대역 과정의 최대 피크 응력 값에 대한 확률밀도는 광대역보다 크거나 같다. 따라서 협대역 과정을 사용하면 어떠한 랜덤 과정이라도 상한치를 보수적으로 고려할 수 있다. 협대역 과정의 피크 값에 대한 확률밀도는 식(9)에 주어져 있다."
   ]
  },
  {
   "cell_type": "markdown",
   "metadata": {},
   "source": [
    "피로 경사 지수 $m$ 또한 고려해야한다. 왜냐하면 응력값이 높을수록 피로 경사 지수가 손상을 더 많이 증폭시키기 때문이다. 따라서 정규화된 응력 항 $S_a^m$에 대한 손상 확률밀도함수는 다음과 같이 표현할 수 있다."
   ]
  },
  {
   "cell_type": "markdown",
   "metadata": {},
   "source": [
    "$$f_{s_a^m}(S_a^m,\\sigma_{S_a})=\\frac{S_a^m}{E[S_a^m]}\\cdot f_{S_a}(S_a,\\sigma_{S_a})=\\frac{S_a^{(m+1)}}{E[S_a^m](\\sigma_{S_a}^2)}e^{-\\left(\\frac{S_a^2}{2(\\sigma_{S_a}^2)} \\right)} \\tag{51}$$"
   ]
  },
  {
   "cell_type": "markdown",
   "metadata": {},
   "source": [
    "확률밀도함수에 대하여 두개의 경계 $a$ 및 $b$ 사이에서 사건이 발생할 확률 $P$는 다음과 같다."
   ]
  },
  {
   "cell_type": "markdown",
   "metadata": {},
   "source": [
    "$$P\\{a < x \\leq b \\} = F_x(b)-F_x(a) = \\int_a^b f_x(\\zeta) d\\zeta \\tag{52}$$"
   ]
  },
  {
   "cell_type": "markdown",
   "metadata": {},
   "source": [
    "협대역 과정의 응력 값에 대한 확률이 주어지면, 식(51)을 사용하여 응력 크기의 상한치를 계산할 수 있다. 적절한 변수를 대입하면 다음과 같이 된다."
   ]
  },
  {
   "cell_type": "markdown",
   "metadata": {},
   "source": [
    "$$P=\\frac{1}{E[S_a^m](\\sigma_{S_a}^2)}\\int_0^{UB_{S_a}} S_a^{(m+1)} e^{-\\left( \\frac{S_a^2}{2(\\sigma_{S_a}^2)} \\right)} dS_a \\tag{53}$$"
   ]
  },
  {
   "cell_type": "markdown",
   "metadata": {},
   "source": [
    "하한치 0에서 상한치 $UB_{S_a}$까지 적분을 하면 다음과 같다."
   ]
  },
  {
   "cell_type": "markdown",
   "metadata": {},
   "source": [
    "$$P = \\frac{(\\sigma_{S_a}^2)(2)^{\\frac{m}{2}}}{E[S_a^m](\\sigma_{S_a}^2)} UB_{S_a}^m \\left( \\frac{UB_{S_a}^2}{(\\sigma_{S_a}^2)} \\right)^{-\\frac{m}{2}} \\left[ \\Gamma\\left(\\frac{m}{2}+1 \\right) - \\Gamma\\left( \\frac{m}{2} + 1, \\frac{UB_{S_a}^2}{2(\\sigma_{S_a}^2)} \\right) \\right] \\tag{54}$$"
   ]
  },
  {
   "cell_type": "markdown",
   "metadata": {},
   "source": [
    "식(1)과 Bendat 공식 식(11)에 따르면 $E[S_a^m]$는 다음과 같다."
   ]
  },
  {
   "cell_type": "markdown",
   "metadata": {},
   "source": [
    "$$E[S_a^m]=(\\sqrt{2M_0})^m \\Gamma\\left( \\frac{m}{2}+1 \\right) \\tag{55}$$"
   ]
  },
  {
   "cell_type": "markdown",
   "metadata": {},
   "source": [
    "$\\sigma_{S_a}=\\sqrt{M_0}$이고, 다음과 같이 치환하면"
   ]
  },
  {
   "cell_type": "markdown",
   "metadata": {},
   "source": [
    "$$Z=\\frac{UB_{S_a}}{\\sigma_{S_a}}\\tag{56}$$"
   ]
  },
  {
   "cell_type": "markdown",
   "metadata": {},
   "source": [
    "확률은 다음과 같이 된다."
   ]
  },
  {
   "cell_type": "markdown",
   "metadata": {},
   "source": [
    "$$P = 1 - \\frac{\\left[ \\Gamma\\left( \\frac{m}{2}+1, \\frac{Z^2}{2} \\right) \\right]}{\\Gamma\\left( \\frac{m}{2}+1 \\right)}$$"
   ]
  },
  {
   "cell_type": "markdown",
   "metadata": {},
   "source": [
    "분모는 완전 감마함수이며 분자는 상부 불완전 감마함수이다. $Z$ 및 $UB_{S_a}$를 구하기 위해서는 역감마함수를 계산해야한다. 이를 위해 다양한 확률값 및 피로 경사 지수 $m$에 대하여 해당 값들을 표로 정리하였다."
   ]
  },
  {
   "cell_type": "markdown",
   "metadata": {},
   "source": [
    "<img src=\"tab1.png\">"
   ]
  },
  {
   "cell_type": "markdown",
   "metadata": {},
   "source": [
    "응력크기에 대한 상한치를 찾는 단순한 방법은 다음과 같다."
   ]
  },
  {
   "cell_type": "markdown",
   "metadata": {},
   "source": [
    "1. 확률값 P를 선택한다.\n",
    "\n",
    "2. 적절한 피로 경사 지수 m 값에 해당하는 Z 값을 찾는다.\n",
    "\n",
    "3. 다음의 관계식으로 상한치를 결정한다."
   ]
  },
  {
   "cell_type": "markdown",
   "metadata": {},
   "source": [
    "$$UB_{S_a}=Z\\cdot \\sigma_{S_a}\\tag{58}$$"
   ]
  },
  {
   "cell_type": "markdown",
   "metadata": {},
   "source": [
    "여기서 $\\sigma_{S_a}$는 응력 크기에 대한 랜덤 과정 하중의 표준편차이다."
   ]
  }
 ],
 "metadata": {
  "kernelspec": {
   "display_name": "Python 3",
   "language": "python",
   "name": "python3"
  },
  "language_info": {
   "codemirror_mode": {
    "name": "ipython",
    "version": 3
   },
   "file_extension": ".py",
   "mimetype": "text/x-python",
   "name": "python",
   "nbconvert_exporter": "python",
   "pygments_lexer": "ipython3",
   "version": "3.8.3"
  }
 },
 "nbformat": 4,
 "nbformat_minor": 2
}
