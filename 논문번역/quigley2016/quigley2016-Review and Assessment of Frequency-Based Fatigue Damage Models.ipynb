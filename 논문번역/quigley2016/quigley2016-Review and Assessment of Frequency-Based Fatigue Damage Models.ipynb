{
 "cells": [
  {
   "cell_type": "markdown",
   "metadata": {},
   "source": [
    "## Review and Assessment of Frequency-Based Fatigue Damage Models"
   ]
  },
  {
   "cell_type": "markdown",
   "metadata": {},
   "source": [
    "### INTRODUCTION"
   ]
  },
  {
   "cell_type": "markdown",
   "metadata": {},
   "source": [
    "자동차 기기의 피로 및 지속시간은 2개 종류의 기계적 하중에 초점을 맞추고 있다: 주기적 엔진 가동에 의한 결정론적 반복 하중, 노면에 의한 랜덤 가진. 엔진과 관련된 기기 및 구조물들에 대한 피로의 경우 일반적으로 유한 수명 접근법을 사용하며 이는 엔진의 시작부터 연료가 끊길 때 까지 샘플링한 시간이력을 근거로 한다. 프래임과 몬체에 설치된 기기의 경우 하중이 랜덤인 특징 때문에 피로해석은 일반적으로 2가지 방법으로 수행된다: 시간이력 접근법 또는 하중입력의 PSD를 기반으로 한 스펙트럼 방법. 시간이력 접근법의 경우, 모든 랜덤 하중 조건을 포함할 수 있는 시간 영역에서의 적절한 지속시간이 요구된다. 손상과 피로 수명을 평가하는데는 Rainflow cycle counting과 선형 피로 법칙이 사용된다. 랜덤 하중에 시간이력 접근법을 적용하는 것은 몇가지 결함이 있다. 모든 주파수 성분, 특히 빈도는 적지만 큰 손상을 주는 사건, 을 획득하기 위해서는 충분히 긴 시간의 하중에 대한 시간이력을 기록해야 하며, 이는 많은 비용이 든다. Bishop의 연구에 따르면, 긴 지속시간의 시간이력 데이터로부터 피로 손상을 계산하고 응력을 평가하는 것은 많은 계산 피용이 소요된다."
   ]
  },
  {
   "cell_type": "markdown",
   "metadata": {},
   "source": [
    "랜덤 하중 입력에 대한 동적 응답을 나타내는 가장 일반적인 방법은 입력 하중이 랜덤이고, stationary, Gaussian이라는 가정을 통하여 PSD를 사용한 주파수 영역에서의 스펙트럼 방법을 사용하는 것이다. Rice의 하중 피크에 대한 확률밀도함수 표현을 따라 Bendat은 협대혁 랜덤 하중 입력에 대한 피로 손상을 어떻게 계산하는지 보였다. 하지만, 구조물에 가해지는 랜덤 하주은 본래 광대역 특성을 가지기 때문에, 협대역 접근법은 매우 보수적이라는 것이 확인되었다. Wirsching 과 Light, Oritz와 Chen, Larsen과 Lute는 광대역 및 협대역 피로의 차이점을 고려하여 실험적인 보정계수를 고안하였으며, 이 보정계수는 irregularity factor와 피로 경사 지수(Basquien 식에서의 피로 강도 지수의 음의 역수)에 대한 함수였다. 이론적 기반의 새로운 방법이 최근 Benascuiti와 Tovo에 의해 소개되었다. 이 방ㅂ버에 대한 수치적 및 실험적 검증이 다른 연구에서 이루어 졌다. 다른 접근법은 Dirlik이 제안하였으며, 이 방법은 rainflow 크기 분포를 추정하기 위한 확률밀도함수를 실험적으로 기술하였으며, 이 분포는 1개의 지수분포 및 2개의 Rayleight 분포의 조합으로 표현된다. 다음의 유사한 방법으로 Zhao-Baker는 1개의 Weibull 분포와 1개의 Rayleighy 분포를, Lalanne은 Rice의 공식을 사용한 방법을 제안하였으며, Halfpenny는 이 방법이 훌륭한 결과를 나타냄을 보였다."
   ]
  },
  {
   "cell_type": "markdown",
   "metadata": {},
   "source": [
    "본 연구의 목적은 3가지로 구분된다: (1) 랜덤 하중을 주파수 역역에서 시간영역으로 옮기는 과정을 보임 (2) Dirlik 방법에서의 변수드을 추정하는 지침을 결정 (3) 모든 언급된 주파수 기반의 피로 손상 모델들을 검토하고 사용하기 가장 좋은 방법을 추천."
   ]
  },
  {
   "cell_type": "markdown",
   "metadata": {},
   "source": []
  },
  {
   "cell_type": "markdown",
   "metadata": {},
   "source": []
  },
  {
   "cell_type": "markdown",
   "metadata": {},
   "source": []
  },
  {
   "cell_type": "markdown",
   "metadata": {},
   "source": []
  },
  {
   "cell_type": "markdown",
   "metadata": {},
   "source": []
  },
  {
   "cell_type": "markdown",
   "metadata": {},
   "source": []
  },
  {
   "cell_type": "markdown",
   "metadata": {},
   "source": []
  }
 ],
 "metadata": {
  "kernelspec": {
   "display_name": "Python 3",
   "language": "python",
   "name": "python3"
  },
  "language_info": {
   "codemirror_mode": {
    "name": "ipython",
    "version": 3
   },
   "file_extension": ".py",
   "mimetype": "text/x-python",
   "name": "python",
   "nbconvert_exporter": "python",
   "pygments_lexer": "ipython3",
   "version": "3.7.4"
  }
 },
 "nbformat": 4,
 "nbformat_minor": 2
}
