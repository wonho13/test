{
 "cells": [
  {
   "cell_type": "code",
   "execution_count": 2,
   "metadata": {},
   "outputs": [],
   "source": [
    "import numpy as np\n",
    "import matplotlib.pyplot as plt\n",
    "from scipy.special import erf\n",
    "from scipy.signal import welch\n",
    "import warnings\n",
    "warnings.filterwarnings(action='ignore');"
   ]
  },
  {
   "cell_type": "code",
   "execution_count": 9,
   "metadata": {},
   "outputs": [],
   "source": [
    "def psd2th_wn(freq,psd,dur,sr):\n",
    "    def psdinteg(freq,psd):\n",
    "        f = freq; y = psd;\n",
    "        ndata = len(y);\n",
    "        a = np.zeros(ndata-1);\n",
    "        for i in range(ndata-1):\n",
    "            n = np.log10(y[i+1]/y[i])/np.log10(f[i+1]/f[i]);\n",
    "            if n == -1:\n",
    "                a[i] = y[i]*f[i]*np.log(f[i+1]/f[i]);\n",
    "            else:\n",
    "                a[i] = (y[i]/(f[i]**n))*(1/(n+1))*(f[i+1]**(n+1)-f[i]**(n+1));\n",
    "        return np.sqrt(sum(a))\n",
    "    def log_interp(x,x_spec,y_spec):\n",
    "        return 10**np.interp(np.log10(x),np.log10(x_spec),np.log10(y_spec), left=-10, right=-10);\n",
    "\n",
    "    tmax = dur;\n",
    "    fs = fmax * sr;\n",
    "    dt = 1 / fs\n",
    "\n",
    "    spec_grms = psdinteg(freq,psd);\n",
    "\n",
    "    Nt = int(np.ceil(tmax / dt))\n",
    "    Nt3 = 3 * Nt\n",
    "    \n",
    "    # num_fft = 2의 n승\n",
    "    Nt=2**int(np.ceil(np.log(Nt)/np.log(2)));  \n",
    "    df = 1. / (Nt * dt);\n",
    "    \n",
    "    # White Noise\n",
    "    wn = np.random.normal(0,1,Nt);\n",
    "    \n",
    "    Nf = int(Nt / 2)\n",
    "\n",
    "    fft_freq = np.linspace(0, (Nf - 1) * df, Nf)\n",
    "    fft_freq2 = np.linspace(0, (Nt - 1) * df, Nt)\n",
    "    \n",
    "    spec = np.zeros(Nf, float)\n",
    "    sq_spec = np.zeros(Nf, float)\n",
    "    \n",
    "    js = 0\n",
    "    \n",
    "    if(fft_freq[0]<=0):\n",
    "        fft_freq[0]=0.5*fft_freq[1];        \n",
    "    \n",
    "    sq_spec = np.sqrt(log_interp(fft_freq,freq,psd));\n",
    "    \n",
    "    Y = np.zeros(Nt, complex)\n",
    "\n",
    "    YF = np.fft.fft(wn)\n",
    "    \n",
    "    YFn=YF[0:Nf]\n",
    "\n",
    "    Y[0:Nf]=sq_spec*YFn\n",
    "\n",
    "    Y[0]=0.\n",
    "    \n",
    "    for j in range(1, Nf):\n",
    "        Y[Nt - j] = complex(Y[j].real, -Y[j].imag)\n",
    "    \n",
    "    YI = np.fft.ifft(Y)  \n",
    "    \n",
    "    psd_th = YI.real\n",
    "    \n",
    "    Nt = len(psd_th)\n",
    "    \n",
    "    time = np.linspace(0, (Nt - 1) * dt, Nt)\n",
    "    \n",
    "    syn_grms = np.std(psd_th)\n",
    "    \n",
    "    psd_th *= (spec_grms / syn_grms)\n",
    "    \n",
    "    return time,psd_th;"
   ]
  },
  {
   "cell_type": "code",
   "execution_count": 4,
   "metadata": {},
   "outputs": [],
   "source": [
    "def psdinteg(freq,psd):\n",
    "    f = freq; y = psd;\n",
    "    ndata = len(y);\n",
    "    a = np.zeros(ndata-1);\n",
    "    for i in range(ndata-1):\n",
    "        n = np.log10(y[i+1]/y[i])/np.log10(f[i+1]/f[i]);\n",
    "        if n == -1:\n",
    "            a[i] = y[i]*f[i]*np.log(f[i+1]/f[i]);\n",
    "        else:\n",
    "            a[i] = (y[i]/(f[i]**n))*(1/(n+1))*(f[i+1]**(n+1)-f[i]**(n+1));\n",
    "    return np.sqrt(sum(a))"
   ]
  },
  {
   "cell_type": "code",
   "execution_count": 5,
   "metadata": {},
   "outputs": [],
   "source": [
    "# Smooth PSD\n",
    "def Gs(f,A1,f1,Q1,A2,f2,Q2,fc):\n",
    "    out1 = np.zeros(len(f)); out2 = np.zeros(len(f));\n",
    "    for i in range(len(f)):\n",
    "        if f[i] <= fc:\n",
    "            out1[i] = A1/np.sqrt(1+((f1-f[i])**2)/(Q1**2));\n",
    "            out2[i] = A2/np.sqrt(1+((f2-f[i])**2)/(Q2**2));\n",
    "        else:\n",
    "            out1[i] = 0;\n",
    "            out2[i] = 0;\n",
    "    out = out1 + out2;\n",
    "    return out"
   ]
  },
  {
   "cell_type": "code",
   "execution_count": 6,
   "metadata": {},
   "outputs": [],
   "source": [
    "def G3(f):\n",
    "    A1 = 27019; f1 = 30; Q1 = 5; A2=20264; f2=104; Q2=2.5; fc = 231; xm=0.493; r=0.600;\n",
    "    return Gs(f,A1,f1,Q1,A2,f2,Q2,fc);"
   ]
  },
  {
   "cell_type": "code",
   "execution_count": 7,
   "metadata": {},
   "outputs": [],
   "source": [
    "A1 = 27019; f1 = 30; Q1 = 5; A2=20264; f2=104; Q2=2.5; fc = 231; xm=0.493; r=0.600;\n",
    "Nt = 1024; Nf = 512; fmax = fc; fs = 2*fmax; dt = 1/fs; tmax = dt*Nt; df = 1/(Nt*dt); \n",
    "freq3 = np.arange(Nf)*df; psd3 = G3(freq3);"
   ]
  },
  {
   "cell_type": "code",
   "execution_count": null,
   "metadata": {},
   "outputs": [],
   "source": [
    "import rainflow"
   ]
  },
  {
   "cell_type": "code",
   "execution_count": 114,
   "metadata": {},
   "outputs": [],
   "source": [
    "def SN(s):\n",
    "    b = 1; C = 1e6;\n",
    "    N  = C/(s**b);\n",
    "    return N"
   ]
  },
  {
   "cell_type": "code",
   "execution_count": 121,
   "metadata": {},
   "outputs": [],
   "source": [
    "sr = np.array([1,2,5,8,10,20,40,48]);\n",
    "pd = np.zeros(len(sr));\n",
    "for k in range(len(sr)):\n",
    "    t,th = psd2th_wn(freq3,psd3,1,sr[k]);\n",
    "    a = rainflow.count_cycles(th);\n",
    "    cuf = 0;\n",
    "    for i in range(len(a)):\n",
    "        N = SN(a[i][0]);\n",
    "        n = a[i][1];\n",
    "        cuf += n/N;\n",
    "    pd[k] = cuf;"
   ]
  },
  {
   "cell_type": "code",
   "execution_count": 122,
   "metadata": {},
   "outputs": [
    {
     "data": {
      "image/png": "[encoded data removed]",
      "text/plain": [
       "<Figure size 432x288 with 1 Axes>"
      ]
     },
     "metadata": {
      "needs_background": "light"
     },
     "output_type": "display_data"
    }
   ],
   "source": [
    "plt.plot(sr,pd,'db-');"
   ]
  }
 ],
 "metadata": {
  "kernelspec": {
   "display_name": "Python 3",
   "language": "python",
   "name": "python3"
  },
  "language_info": {
   "codemirror_mode": {
    "name": "ipython",
    "version": 3
   },
   "file_extension": ".py",
   "mimetype": "text/x-python",
   "name": "python",
   "nbconvert_exporter": "python",
   "pygments_lexer": "ipython3",
   "version": "3.8.3"
  }
 },
 "nbformat": 4,
 "nbformat_minor": 4
}
