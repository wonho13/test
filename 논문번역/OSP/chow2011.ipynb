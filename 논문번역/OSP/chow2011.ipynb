{
 "cells": [
  {
   "cell_type": "markdown",
   "metadata": {},
   "source": [
    "## Optimal sensor configuration of a typical transtission tower for the purpose of structural model updating"
   ]
  },
  {
   "cell_type": "markdown",
   "metadata": {},
   "source": [
    "### 1. Introduction"
   ]
  },
  {
   "cell_type": "markdown",
   "metadata": {},
   "source": [
    "엔지니어링 분야에서 구조 모델 업데이트 및 건전성 감시는 중요하다. 이를 위한 많은 방법들이 여러 문헌에서 제시되고 있다. 어떤 방법들은 요소 수준에서의 손상 감지에 포커스가 맞춰져 있다.(즉, 구조물 멤버의 결함감지[1-4]와 연결부의 손상 감지[5]). 반면 어떤 방법들은 특정 구조물에 대한 계측기술에 포커스가 맞춰져 있다.(즉, 모드 업데이트와 다리[6-9], 빌딩[10], 타워[11]의 SHM). 많은 방법들은 결정론적 접근법을 사용하며, 어떤 방법들은 확률론적 접근법을 사용한다. 확률론적 접근법들은 모델링 오차, 특정 잡음, 측정의 불완전함을 고려할 수 있다[12-15]. 최근 측정 데이터로부터 유용한 정보를 추출하는 방법에 대한 연구들이 이루어 졌으며, ANN[16-18], wavelet[1,19], Hilbert-Huang[20] 변환 등의 방법을 사용하였다. SHM에서 이러한 기법들을 사용한 광범위한 검토[21] 및 기준 연구[22,23]가 수행되었으며, 이에대한 더 많은 정보를 알고싶다면 참조문서를 확인하기 바란다."
   ]
  },
  {
   "cell_type": "markdown",
   "metadata": {},
   "source": [
    "구조물 모드 업데이트 및 손상 감지의 성능은 측정된 동특성을 활용하며, 측정데이터의 양 및 품질에따라 좌우된다. 그리고 측정데이터의 양 및 품질은 센서의 개수에 따라 결정된다. 따라서 엔지니어는 성능 및 현장 시험 전에 센서의 위치를 결정해야 한다. "
   ]
  },
  {
   "cell_type": "markdown",
   "metadata": {},
   "source": [
    "최적의 센서 배치 문제는 Shah와 Udwadia[24]가 처음으로 연구한 것으로 보인다. 그들은 구조변수의 변화량과 시스템 응답에 대한 측정 샘플 수의 선형관계를 고려하였다. 그리고 변수를 추정하는데 있어 오차를 최소화 하는 최적화 문제를 해결하기 위한 최적의 센서 배치 문제로 설정하였다. 모델 및 모드 식별을 위하여 제한된 센서 개수로 최적의 센서 배치를 하기위한 많은 연구들이 수행되었다[25-34]. 2000년에 Papadimitriou 외는 information entropy 측정[35]을 소개하였고, 이는 모드 변수 추정치에 대한 불확실도를 직접 측정하는 것으로, 이를 최소화 할 경우 최적의 센서 위치를 결정할 수 있게 된다. 그들은 또한 추정한 구조 변수들의 불확실도에 대하여 과측된 모드들과 센서 개수의 영향을 연구하였다. [30]에서는 determinant가 아닌 FIM의 norm 또는 trace는 모드변수의 불확실성을 줄이는데 사용되어서는 안된다고 제안하였다. 왜냐하면 다른 norm들[32,36]은 엔트로피 방법[30]과는 다른 결과를 만들어 내기 때문이다. 정보엔트로피의 최적화는 계산량이 많다는 단점이 있다. 또한 OSP는 제한된 센서 수에 대한 이산 최적화 문제이기 때문에 기존의 수치 최적화 알고리즘을 적용할 수 없다. GA는 이산 최적화 문제를 해결하는데 적절한 것으로 입증되었다[37,38]. 그리고 본 논문에서는 GA 개념을 기반으로 효율적인 최적화 방법을 개발하였다. 개발된 최적화 방법은 최적 해를 찾는데 매우 효율적이다. 본 논문의 주된 목적은 전형적인 transmisstion 타워의 OSP문제를 해결하는 것이며 실험실 조건에서 축소모형의 가속도 응답 측정 데이터를 통해 이를 입증한다."
   ]
  },
  {
   "cell_type": "markdown",
   "metadata": {},
   "source": [
    "### 2. THE BAYESIAN STATISTICALL FRAMEWORK"
   ]
  },
  {
   "cell_type": "markdown",
   "metadata": {},
   "source": [
    "베이지안 통계학 관점에서 OSP 방법을 개발하였다. 여기서는 몇가지 주요 식들에 대해 검토한다. 상세한 식은 [39]를 참고하기 바란다."
   ]
  },
  {
   "cell_type": "markdown",
   "metadata": {},
   "source": [
    "모드변수들 $\\theta$를 갖는 구조모델들의 클래스 $\\bf{M}$을 고려해보자. $\\theta$는 구조물의 입-출력 거동을 나타낸다. $\\theta$는 클래스 내의 특정 모델을 의미하며, 즉 $M(\\theta) \\in \\bf{M}$이다. 특정 $\\bf{M}$에 대하여 $q(n;\\theta) \\in \\bf{R}^{N_d}$는 시간 $t_n=n\\Delta t$에서의 모드 출력 벡터라고 하자. $\\Delta t$는 모든 $N_d$자유도에서의 샘플 간격을 의미한다. $N_o$개의 자유도에 대하여, 시간 $t_n$에서의 시스템 출력 $y(n) \\in \\bf{R}^{N_o}$는 다음과 같다."
   ]
  },
  {
   "cell_type": "markdown",
   "metadata": {},
   "source": [
    "$$y(n)=S_0[q(n;\\theta)+e(n;\\theta)] \\tag{1}$$"
   ]
  },
  {
   "cell_type": "markdown",
   "metadata": {},
   "source": [
    "여기서 $S_0 \\in \\bf{R}^{N_o \\times N_d}$는 선택 행렬이며, 이 행렬은 각 열애서 1개만 0이 아닌 값(즉, 1)을 가지며, $e(n;\\theta)$는 모델링 오차와 측정 잡음에 의한 예측 오차를 의미한다. OSP를 위해, $N_o$개의 측정된 자유도는 센서 형상 벡터를 사용해 다음과 같이 표현된다. "
   ]
  },
  {
   "cell_type": "markdown",
   "metadata": {},
   "source": [
    "$$\\delta = S_0^T \\hat{u} \\tag {2}$$"
   ]
  },
  {
   "cell_type": "markdown",
   "metadata": {},
   "source": [
    "여기서 $\\hat{u} \\in \\bf{R}^{N_o}$는 모든 값이 1인 벡터이고, $\\delta \\in \\bf{R}^{N_d}$는 $i$번째 자유도가 측정된 경우 $i$번째 값은 1이고 나머지는 0인 벡터이다."
   ]
  },
  {
   "cell_type": "markdown",
   "metadata": {},
   "source": [
    "베이지안 통계학 관점에 따라, 불확실한 변수들과 그에 대항하는 불확실도는 측정 데이터 세트 $D$를 통해 업데이트 될 수 있다. 최적의 구조 모델 변수 $\\theta$는 $J(\\theta)$를 $\\theta$에 대하여 최소화므로써 얻을 수 있으며, $J(\\theta)$는 측정 및 예측 출력 사이의 차를 의미하며 다음과 같다."
   ]
  },
  {
   "cell_type": "markdown",
   "metadata": {},
   "source": [
    "$$J(\\theta)=\\frac{1}{NN_o}\\sum_{n=1}^N ||y(n)-S_0 q(n;\\theta)||^2 \\tag{3} $$"
   ]
  },
  {
   "cell_type": "markdown",
   "metadata": {},
   "source": [
    "$||\\dot||$는 표준 유클리드 2-norm을 의미한다. $N$은 측정 시간 단계의 수를 의미하며, $N_o$는 측정된 자유도의 수를 의미한다. 변수 $\\theta$에 대한 불확실도는 확률밀도함수를 사용해 정량화 할 수 있다. 변수 $\\theta$의 주어진 센서 배치, 측정데이터, 모델의 클래스에 대한 조건부사후확률밀도함수는 점근 추정[14]을 통해 얻을 수 있다."
   ]
  },
  {
   "cell_type": "markdown",
   "metadata": {},
   "source": [
    "$$p(\\theta|\\delta,D,\\bf{M})=cJ(\\theta)^{-\\frac{NN_o-1}{2}}\\pi(\\theta) \\tag{4}$$"
   ]
  },
  {
   "cell_type": "markdown",
   "metadata": {},
   "source": [
    "$c$는 정규화 상수이며, $\\pi(\\theta)$는 변수 $\\theta$에 대한 사전분포이다. 사전 분포 $\\pi(\\theta)$에 대한 정보가 없고, 관측 데이터 수 $N$이 크다고 가정하면, 사후확률밀도함수는 $\\hat{\\theta}$에서 첨두치가 나타나며 이는 최적화변수 $\\theta$이다. 전역식별가능(globally identifiable)한 경우, 사후확률밀도함수는 평균이 $\\hat{\\theta}$이고 공분산행렬이 $A^{-1}(\\hat{\\theta})$인 다변수 정규분포의 가중합으로 추정할 수 있다. 여기서 $A(\\hat{\\theta})$는 $\\hat{\\theta}$에서 평가한 함수 $g(\\theta)=[(NN_o-1)ln J(\\theta)]/2$의 Hessian 행렬이다."
   ]
  },
  {
   "cell_type": "code",
   "execution_count": null,
   "metadata": {},
   "outputs": [],
   "source": []
  }
 ],
 "metadata": {
  "kernelspec": {
   "display_name": "Python 3",
   "language": "python",
   "name": "python3"
  },
  "language_info": {
   "codemirror_mode": {
    "name": "ipython",
    "version": 3
   },
   "file_extension": ".py",
   "mimetype": "text/x-python",
   "name": "python",
   "nbconvert_exporter": "python",
   "pygments_lexer": "ipython3",
   "version": "3.7.6"
  }
 },
 "nbformat": 4,
 "nbformat_minor": 4
}
