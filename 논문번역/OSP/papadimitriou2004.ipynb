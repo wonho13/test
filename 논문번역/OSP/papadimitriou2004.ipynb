{
 "cells": [
  {
   "cell_type": "markdown",
   "metadata": {},
   "source": [
    "# Optimal sensor placement methodology for parametric indentification of structural systems"
   ]
  },
  {
   "cell_type": "markdown",
   "metadata": {},
   "source": [
    "## 1. Introduction"
   ]
  },
  {
   "cell_type": "markdown",
   "metadata": {},
   "source": [
    "구조제어, 구조건전성감시, 구조모델 업데이트 분야에서의 중요성 때문에 지난 몇년간 측정한 동적 데이터를 사용한 구조모델 변수 식별 문제는 많은 관심을 받아오고 있다. 실제 구조물의 거동을 모사하는데 사용된 수학적 모델의 한계점, 측정 오차, 불충분한 가진, 응답밴드폭 때문에 변수 추정에는 불확실 성이 존재한다. 특히 모델 변수를 추정하기 위한 데이터로 부터 추출한 정보의 품질은 구조물에 부착된 센서의 수량 및 위치에 따라 달라진다. 실험 설계의 목적은 측정 데이터가 구조물의 상태 정보를 가장 많이 담을 수 있으면서 비용은 적게 들도록 하는 것이다."
   ]
  },
  {
   "cell_type": "markdown",
   "metadata": {},
   "source": [
    "유한요소 모델 변수 또는 모드 변수 추정을 위해 제한된 수량의 센서를 최적의 위치로 배치하는 문제는 다양한 사람들에 의해 연구되었다 [1-9]. 특히, 정보이론을 기반으로한 접근법들 [2-4, 10-13]이 개발되어 최적의 센서 배치를 결정하는데 발생하는 많은 문제들을 해결해 주었다. 참고문서 [2-4]에서 최적의 센서 배치는 FIM의 norm (determinant 또는 trace)를 최대화 하는 문제로 고려하였다. 참고문서 [12.13]은 모델 업데이트 시 예상되는 큰 모델의 불확실성을 고려하였다. 각 모델의 FIM의 역행렬의 trace에 기여하는 예상되는 베이지안 손실함수 최소화 하도록 최적의 센서 배치를 결정하였다."
   ]
  },
  {
   "cell_type": "markdown",
   "metadata": {},
   "source": [
    "Papadimitriou 외[14]는 구조물 시험의 목적인 모드 변수 추정의 불확실도 최소화에 가장 적합한 측정 방법으로 정보 엔트로피 norm[15]를 도입했다. 정보 엔트로피 측정은 불확실 성에 대한 직접적인 측정 방법이 되기 때문에 이를 최소화 하도록 최적의 센서 배치를 결정하였다. FIM을 기반으로 한 기존의 접근법은 FIM의 적절한 norm을 선택하는데 어려움이 있는데 이를 정보 엔트로피 기반의 방법으로 해결하였다. 정보 엔트로피는 FIM의 trace가 아닌 determinant에 의해 결정됨이 밝혀졌다."
   ]
  },
  {
   "cell_type": "markdown",
   "metadata": {},
   "source": [
    "정보 엔트로피 측정의 중요한 장점은 센서의 개수가 다른 형태 끼리도 비교가 가능하다는 것이다 [14,16]. 정보 엔트로피는 센서를 추가하는데 드는 비용을 결정하는데 특히 유용하여 최적의 계측을 위한 최소 비용의 결정을 할 수 있게 해준다. 또한 선형 및 비선형 모델 식별에 있어 최적의 가진 특성(크기, 주파수 성분)을 설계하는데도 사용되고 있다[17]."
   ]
  },
  {
   "cell_type": "markdown",
   "metadata": {},
   "source": [
    "최적 센서 배치를 결정하는데 있어 계산 양에 대한 문제도 여러 문헌에서 다루고 있다. 최적 센서 배치를 찾는 문제는 이산 최소화 문제로 규정된다. 모든 센서 배치를 확인해보는 방법은 비교적 적은 수의 자유도를 갖는 구조물이라고 할 지라도 계산에 어려움이 있다. Kammer와 Yao[2]는 모드 변수를 추정하기 위한 효율적인 반복 센서 배치 알고리즘을 제안하였다. 우선 모든 자유도의 FIM을 계산하고, FIM의 determinant의 감소가 가장 적게 되도록 순차적으로 센서들을 줄여나가고 원하는 수의 센서가 될 때까지 이를 반복하는 방법이다. GA는 기존의 최적 해를 보장하지 못했던 휴리스틱 알고리즘에 대한 효과적인 대안으로 제안되었다 [18-20] GA는 가등한 모든 수의 센서 배치에 대하여 무한히 탐색해 나가기 때문에 이산 최적화 문제를 근사적으로 푸는데 적합하다. 마지막으로 Udwadia[3]는 FIM의 trace를 성능 인자로 사용하면 계산양 측면에서 효율적이라고 설명했다."
   ]
  },
  {
   "cell_type": "markdown",
   "metadata": {},
   "source": [
    "본 연구의 목적은 2개로 나뉜다. 첫 째, 정보 엔트로피 측정을 기반으로 동적 시스템의 변수 추정을 위한 센서 배치 설계에 대해 다룬다. 구체적으로, 정보 엔트로피의 추정에 대해 다시 다루며, 데이터의 수가 많은 경우에 타당한 유용한 점근 추정법을 유도한다. 이 점근 추정은 센서 배치 선택이 실험 초기 단계에서는 이용 불가능한 시간이력 측정데이터 정보와 무관하며, FEM과 같은 모델에 의해서만 결정될 수 있음을 정당화 하는데 사용될 것이다. 더 나아가 최적 및 최악의 센서 배치에 대하여 고정된 수량의 센서들에 대한 정보 엔트로피의 상한치 및 하한치는 센서 수에 따라 감소하는 함수임을 해석을 통해 보일 것이다. 이 경계치들은 센서 배치의 효율성을 평가하거나 센서의 수를 증가 또는 재배치가 필요할 경우에 대한 평가를 할 때 중요하게 사용될 수 있다. "
   ]
  },
  {
   "cell_type": "markdown",
   "metadata": {},
   "source": [
    "둘 째, 최적 센서 배치의 추정과 관련된 계산 문제에 대해 다룬다. 본 연구에서 유도한 이론적 결과들을 토대로, 효율적으로 계산이 가능한 두가지 알고리즘을 제안할 것이며, 이들을 사용한 센서 배치에 대한 정보 엔트로피는 상한치 또는 하한치에 매우 근접하게 된다. 계산의 효율성 및 제안한 알고리즘의 유효성은 10자유도 체인 형태의 spring-mass 모델과 240 자유도 3차원 스러스트 구조물에 충격 하중을 가진하여 검증할 것이다. 수치 결과들은 제안한 알고리즘들이 최적의 센서 배치에 매우 근접한 좋은 결과를 생산함을 보여준다. 더 나아가, 이러한 휴리스틱 알고리즘으로 부터 예측한 결과가 GA로 계산한 결과보다 더 정확함을 보일 것이다."
   ]
  },
  {
   "cell_type": "markdown",
   "metadata": {},
   "source": [
    "본 연구의 내용은 다음과 같이 구성된다. 2장에서는 센서 배치 문제를 정의하기 위해 필요한 베이지안 통계학적 관점의 구조물 식별에 대한 주요 결과들[21]을 재검토한다. 3장에서는 정보엔트로피 공식 및 이에 대한 점근 추정에 대해 설명한다. 4장에서는 최적 센서 배치 결정 문제를 이산 최소화 문제로 정의한다. 5장에서는 센서 수가 정보엔트로피의 상한치 및 하한치에 미치는 영향과 관련하여 정보 엔트로피의 유용한 특성들에 대해 다룬다. 6장에서는 계산 량에 대한 문제를 다루고, 최소한의 계산 량으로 최적의 센서 배치를 추정할 수 있는 알고리즘에 대해 다룬다. 7장에는 이론적 개발 내용 및 제안한 알고리즘의 유효성에 대해 다룬다. 8장에서는 본 연구의 결론 및 요약을 기술한다.  "
   ]
  },
  {
   "cell_type": "markdown",
   "metadata": {},
   "source": [
    "## 2. Statistical framework for structural identification"
   ]
  },
  {
   "cell_type": "markdown",
   "metadata": {},
   "source": [
    "구조물의 입-출력 거동을 모사하기 위해 선택된 구조 모델(예를들면, FEM 또는 모드 모델)을 고려해 보자. $\\mathbf{\\theta}\\in R^{N_\\theta}$를 모델 변수들(예를들면, 강성, 모드 변수 등)의 벡터라고 하자. 동적 시험 데이터를 사용해 변수 세트 $\\mathbf{\\theta}$의 값들과 이와 관련된 불확실성을 추정하기 위해 Beck과 Katafygiotis[21]이 개발한 베이지안 통계학 시스템 식별 방법을 사용한다. 완전성을 위해, 정보 엔트로피 해석에 필요한 식별 방법의 주요 결과들에 대해 간략히 재검토 한다."
   ]
  },
  {
   "cell_type": "markdown",
   "metadata": {},
   "source": [
    "$D=\\{\\mathbf{y}(m),\\mathbf{z}(m),m=1,\\dots,N\\}$ : 측정 및 샘플된 시간 이력 데이터\n",
    "\n",
    "$\\mathbf{y}(m) \\in R^{N_0}$ : 측정 데이터\n",
    "\n",
    "$\\mathbf{z}(m) \\in R^{N_0}$ : 입력 데이터\n",
    "\n",
    "$N_0$ : 관측한 자유도 수\n",
    "\n",
    "$N_I$ : 입력 자유도 수\n",
    "\n",
    "$m$ : 시간 $m\\Delta t$에서의 시간이력 index\n",
    "\n",
    "$\\Delta t$ : 샘플 간격\n",
    "\n",
    "$N$ : 샘플 데이터의 수"
   ]
  },
  {
   "cell_type": "markdown",
   "metadata": {},
   "source": [
    "입력 시간이력 $\\mathbf{z}(m),\\;m=1,\\dots,N$이 주어졌을 때, $\\mathbf{x}(m;\\mathbf{\\theta})\\in R^{N_d},\\;m=1,\\dots,N$를 모드 변수들의 특정 값 $\\mathbf{\\theta}$을 갖는 특정 구조모델의 모든 $N_d$개 자유도에서 계산한 샘플 시간이력 응답이라고 하자. 측정된 응답과 모델 응답의 추정치는 다음의 식을 만족한다. "
   ]
  },
  {
   "cell_type": "markdown",
   "metadata": {},
   "source": [
    "$$\\mathbf{y}(m)=\\mathbf{L_0}\\mathbf{x}(m;\\mathbf{\\theta})+\\mathbf{L_0}\\mathbf{n}(m;\\mathbf{\\theta}),\\tag{1}$$"
   ]
  },
  {
   "cell_type": "markdown",
   "metadata": {},
   "source": [
    "여기서 $\\mathbf{n}(m;\\mathbf{\\theta})$는 모델 예측 오차이며 이는 모델링 오차 및 측정 잡음에 의해 발생한다. 행렬 $\\mathbf{L_0}\\in R^{N_0\\times N_d}$는 관측 행렬이며 0과 1로 구성되고, 모델의 자유도를 측정된 자유도로 변환한다. 편의를 위해 센서 형상 벡터 $\\mathbf{\\delta}\\in R^{N_d}$를 정의한다. $j$번째 자유도가 관측 되었다면 $\\delta_j=1$이고, $j$번째 자유도가 관측되지 않았다면 $\\delta_j=0$이다. 이에 따라 $\\mathbf{L_0^T L_0}=diag(\\mathbf{\\delta})$임을 알 수 있다."
   ]
  },
  {
   "cell_type": "markdown",
   "metadata": {},
   "source": [
    "베이지안 시스템 식별 방법[21]에 따르면, $\\mathbf{\\theta}$의 값들이 갖는 불확실성은 확률밀도함수(PDF)로 정량화 할 수 있으며, 이 확률밀도함수는 동적 실험 데이터 $D$와 예측 오차 $\\mathbf{n}(m;\\mathbf{\\theta})$에 대한 확률 모델을 통해 얻을 수 있다. 예측 오차 $\\mathbf{n}(m;\\mathbf{\\theta})$를 평균이 0이고 분산이 $\\sigma^2$인 독립 Gaussian PDF로 정의하고 베이즈 이론을 적용하면 측정 데이터 $D$가 주어졌을 때, 예측 오차 변수 $(\\mathbf{\\theta},\\sigma)$와 구조 모델에 대한 업데이트된 PDF $p(\\mathbf{\\theta},\\sigma|D)$를 다음과 같은 형태로 계산할 수 있다."
   ]
  },
  {
   "cell_type": "markdown",
   "metadata": {},
   "source": [
    "$$p(\\mathbf{\\theta},\\sigma|D)=\\tilde{c} \\frac{1}{(\\sqrt{2\\pi}\\sigma)^{NN_0}} exp\\left[\\frac{NN_0}{2\\sigma^2} J(\\mathbf{\\theta};D) \\right] \\pi(\\mathbf{\\theta},\\sigma), \\tag{2}$$"
   ]
  },
  {
   "cell_type": "markdown",
   "metadata": {},
   "source": [
    "where"
   ]
  },
  {
   "cell_type": "markdown",
   "metadata": {},
   "source": [
    "$$ J(\\mathbf{\\theta};D)=\\frac{1}{NN_0}\\sum_{m=1}^{N} || \\mathbf{y}(m)-\\mathbf{L_0x}(m;\\mathbf{\\theta})||^2 \\tag{3}$$ "
   ]
  },
  {
   "cell_type": "markdown",
   "metadata": {},
   "source": [
    "식(3)은 측정 데이터와 모델 응답 시간이력 사이의 접합도(오차)를 나타내며, $||.||$는 Euclidian norm이고, $\\pi(\\mathbf{\\theta},\\sigma)=\\pi_\\theta(\\mathbf{\\theta})\\pi_\\sigma(\\sigma)$는 변수 세트 $(\\mathbf{\\theta},\\sigma)$의 사전 분포이며, $\\tilde{c}=\\tilde{c}(D)$는 식(2)의 PDF 적분이 1이 되도록 하는 정규화 상수이다."
   ]
  },
  {
   "cell_type": "markdown",
   "metadata": {},
   "source": [
    "전체 확률의 법칙을 사용하면, 주변확률분포(marginal probability distribution) $p(\\mathbf{\\theta}|D)=\\int p(\\mathbf{\\theta},\\sigma|D) d\\sigma$가 된다. non-informative(uniform) 사전분포 $\\pi_\\sigma(\\sigma)$의 경우, $\\sigma$에 대한 적분은 다음과 같이 계산할 수 있다."
   ]
  },
  {
   "cell_type": "markdown",
   "metadata": {},
   "source": [
    "$$p(\\mathbf{\\theta}|D)=c[J(\\mathbf{\\theta};D]^{-(NN_0-1)/2}\\pi_\\theta (\\mathbf{\\theta}) \\tag{4}$$"
   ]
  },
  {
   "cell_type": "markdown",
   "metadata": {},
   "source": [
    "여기서 $c\\equiv c(D)$는 식(4) PDF의 적분이 1이 되도록 하는 정규화 상수이며 다음과 같다."
   ]
  },
  {
   "cell_type": "markdown",
   "metadata": {},
   "source": [
    "$$\\frac{1}{c(D)}=\\int [J(\\mathbf{\\theta},D)]^{-(NN_0-1)/2}\\pi_\\theta(\\mathbf{\\theta}) d\\mathbf{\\theta} \\tag{5}$$"
   ]
  },
  {
   "cell_type": "markdown",
   "metadata": {},
   "source": [
    "일반적인 사전(초기) 분포 $\\pi_\\sigma(\\sigma)$의 경우, 데이터 수가 매우 많은 경우 $(N\\to \\infty)$에 적용 가능한 점근 추정[22]을 사용 가능하며, 이는 식(4)에서 $c$를 $c_0=c\\pi_sigma(\\sqrt{J(\\mathbf{\\theta};D)})$로 치환하면 된다."
   ]
  },
  {
   "cell_type": "markdown",
   "metadata": {},
   "source": [
    "## 3. Informative entropy and its asymptotic approximation"
   ]
  },
  {
   "cell_type": "markdown",
   "metadata": {},
   "source": [
    "PDF $p(\\mathbf{\\theta}|D)$는 가능한 구조 모델 변수 값들의 타당성을 나타낸다. 이 PDF는 측정 데이터에 포함된 정보를 기반으로 한 변수 값들에 포함된 불확실성의 분포를 보여준다. 추정한 구조 변수 $\\mathbf{\\theta}$에 대한 불확실성은 다음과 같이 정의되는 정보 엔트로피[15]를 사용하여 한개의 스칼라 값으로 표현 가능하다. "
   ]
  },
  {
   "cell_type": "markdown",
   "metadata": {},
   "source": [
    "$$H(D)=E_\\theta[-\\ln{p(\\mathbf{\\theta}|D)}]=-\\int p(\\mathbf{\\theta}|D) \\ln{p(\\mathbf{\\theta}|D)} d\\mathbf{\\theta}, \\tag{6}$$"
   ]
  },
  {
   "cell_type": "markdown",
   "metadata": {},
   "source": [
    "여기서 $E_\\theta$는 $\\theta$에 대한 수학적 예측치(평균)을 의미한다. 식(4)를 사용해 업데이트 된 PDF $p(\\theta|D)$를 적용하면, 정보 엔트로피는 다음과 같이 단순한 형태로 표현할 수 있다."
   ]
  },
  {
   "cell_type": "markdown",
   "metadata": {},
   "source": [
    "$$H(D)=\\ln{\\frac{1}{c(D)}}+\\frac{NN_0-1}{2}E_\\theta[\\ln{J(\\theta;D)}]-E_\\theta[\\ln{\\pi_\\theta(\\theta)}] \\tag{7}$$"
   ]
  },
  {
   "cell_type": "markdown",
   "metadata": {},
   "source": [
    "위의 식은 데이터 $D$와 센서 배치 $\\delta$에 의해서만 결정됨을 볼 수 있다."
   ]
  },
  {
   "cell_type": "markdown",
   "metadata": {},
   "source": [
    "다음으로 데이터 수가 매우 많은 경우 $(N\\to \\infty)$에 적용 가능한 점근 추정을 사용해 정보 엔트로피를 계산하면 최적의 센서 배치 실험단계에서 유용하게 사용될 수 있다. 식(7)에서 $1/c(D),\\;E_\\theta[\\ln{J(\\theta,D)}],\\;E_\\theta[\\ln{\\pi_\\theta(\\theta)}]$의 양을 정의하고 있는 적분식을 Laplace 형태 적분으로 수정할 수 있음이 확인 되면 점근 추정을 적용할 수 있으며, 점근확장 Laplace 방법[23]을 적용해 이 적분들을 추정할 수 있다. 측정 데이터가 많은 경우 $(N\\to \\infty)$ 식(7)에 표현된 형태들을 다음과 같은 점근 형태로 사용 가능하며, 이는 부록 A에 상세히 기술된다. "
   ]
  },
  {
   "cell_type": "markdown",
   "metadata": {},
   "source": [
    "$$\\frac{1}{c(D)} \\sim \\pi_\\theta(\\hat{\\theta}) \\frac{(2\\pi)^{N_\\theta/2}\\hat{\\sigma}^{-(NN_0-1)}}{\\sqrt{det\\;h(\\hat{\\theta},\\delta)}}, \\tag{8}$$"
   ]
  },
  {
   "cell_type": "markdown",
   "metadata": {},
   "source": [
    "$$E_\\theta[\\ln{J(\\theta;D)}] \\sim \\ln{\\hat{\\sigma}^2}\\;\\;\\;\\;and\\;\\;\\;\\;E_\\theta[\\ln{\\pi_\\theta(\\theta)}] \\sim \\ln{\\pi_\\theta(\\hat{\\theta})},\\tag{9}$$"
   ]
  },
  {
   "cell_type": "markdown",
   "metadata": {},
   "source": [
    "$\\hat{\\theta}\\equiv \\hat{\\theta}(D)=argmin_\\theta J(\\theta;D)$ : 식(3)에 주어진 적합도 $J(\\theta;D)$를 최소화 하는 변수 세트 $\\theta$의 최적 값\n",
    "\n",
    "$\\hat{\\sigma}^2=J(\\hat{\\theta};D)$ : 최적의 예측 오차\n",
    "\n",
    "$h(\\hat{\\theta},\\delta)$ : $(N_\\theta \\times N_\\theta)$의 positivi definite 행렬. 다음과 같이 점근 추정됨."
   ]
  },
  {
   "cell_type": "markdown",
   "metadata": {},
   "source": [
    "$$h(\\hat{\\theta},\\delta)=-[\\nabla_\\theta \\nabla_\\theta^T \\ln{[J(\\theta;D)]}^{-(NN_0-1)/2}]_{\\theta=\\hat{\\theta}} \\sim \\frac{1}{\\hat{\\sigma}^2} Q(\\hat{\\theta},\\delta)\\;\\;\\;\\;as\\;N\\to \\infty, \\tag{10}$$"
   ]
  },
  {
   "cell_type": "markdown",
   "metadata": {},
   "source": [
    "여기서 $\\nabla_\\theta^T=[\\partial/\\partial\\theta_1 \\dots \\partial/\\partial\\theta_p]$는 변수 세트 $\\theta$에 대한 gradient 벡터이다. 식(10)에 있는 행렬 $Q(\\delta,\\theta)$는 다음의 형태를 갖는 positive definite 행렬이다."
   ]
  },
  {
   "cell_type": "markdown",
   "metadata": {},
   "source": [
    "$$Q(\\delta,\\theta)=\\sum_{j=1}^{N_d} \\delta_j P^{(j)}(\\theta) \\tag{11}$$"
   ]
  },
  {
   "cell_type": "markdown",
   "metadata": {},
   "source": [
    "식(11)은 FIM[3]으로 알려져 있으며, $\\delta$ 위치에서 측정한 모든 데이터에 대한 변수 $\\theta$ 값들의 정보를 담고 있다. 행렬 $P^{(j)}(\\theta)$는 positive semi-difinite 행렬이며 다음과 같은 형태를 갖는다."
   ]
  },
  {
   "cell_type": "markdown",
   "metadata": {},
   "source": [
    "$$P^{(j)}(\\theta)=\\sum_{m=1}^N \\nabla_\\theta x_j(m;\\theta) \\nabla_\\theta^T x_j(m;\\theta) \\tag{12}$$"
   ]
  },
  {
   "cell_type": "markdown",
   "metadata": {},
   "source": [
    "식(12)는 $j$번째 자유도에 위치한 한개 센서 데이터에 대한 변수 $\\theta$ 값에 대한 정보를 담고 있다. 행렬 $P^{(j)}(\\theta)$는 특정 자유도 $j$에서의 모델 응답에 의해서만 결정되며, 센서 배치 $\\delta$와는 무관하다."
   ]
  },
  {
   "cell_type": "markdown",
   "metadata": {},
   "source": [
    "식(8)과 식(9)를 식(7)에 대입하여 정리하면 최종적으로 다음과 같은 식이 유도된다."
   ]
  },
  {
   "cell_type": "markdown",
   "metadata": {},
   "source": [
    "$$H(D) \\sim H(\\delta,\\hat{\\theta},\\hat{\\sigma})=\\frac{1}{2}N_\\theta [\\ln{(2\\pi)}+\\ln{\\hat{\\sigma}^2}]-\\frac{1}{2}\\ln{[det\\;Q(\\delta,\\hat{\\theta})]}, \\tag{13}$$"
   ]
  },
  {
   "cell_type": "markdown",
   "metadata": {},
   "source": [
    "식(13)은 정보 엔트로피가 센서 배치 벡터 $\\delta$, 최적의 모드 변수 $\\hat{\\theta}$, $\\hat{sigma}$에 의해서만 결정되며, 측정데이터 $D$의 영향은 받지 않음을 보여준다. 정보 엔트로피는 최적의 값인 $\\hat{\\theta}\\equiv \\hat{\\theta}(D)$와 $\\hat{\\sigma}^2=J(\\hat{\\theta};D)$를 통해서만 데이터의 영향을 받게 된다. 점근 추정 결과의 중요성은 다음장에서 다룰 것이다."
   ]
  },
  {
   "cell_type": "markdown",
   "metadata": {},
   "source": [
    "## 4. Formlation of optimal sensor configuration problem"
   ]
  },
  {
   "cell_type": "markdown",
   "metadata": {},
   "source": [
    "실험 설계 시, 구조물의 모드 변수 정보가 많은 정보를 담도록 센서 배치를 결정하는 것이 바람직하다. 시스템 변수의 불확실성에 대한 척도인 식(6)의 정보 엔트로피는 측정 데이터에 포함된 유용한 정보의 양을 보여준다. 가장 유용한 실험 데이터는 추정한 변수에 불확실성이 가장 낮은 것이며 이는 정보 엔트로피를 최소화 하는 것과 같다. 따라서 모든 센서 배치들 중에서 최적의 센서 배치는 정보 엔트로피를 최소화 함을 통해 결정할 수 있다. 최적 센서 배치 문제는 이산 최적화 문제로 볼 수 있다. 목적함수는 정보 엔트로피이며, 이산 변수들은 센서의 수량 및 위치이다."
   ]
  },
  {
   "cell_type": "markdown",
   "metadata": {},
   "source": [
    "초기 단계에서는 실험 데이터가 없다는데 유의해야 한다. 따라서 식(7)에 정의된 정보 엔트로피는 데이터 세트 $D$를 포함하고 있으므로 환전하지 않다. 정보 엔트로피를 이용하기 위해서는 데이터 $D$에 대한 의존도를 제거해야 한다. 이는 데이터 양이 매우 많은 경우에 국한하여 가능하며, 많은 구조 동역학 분야에서 가능한 일이다. 식(13)에 주어진 정보 엔트로피의 점근 추정 값은 모드 변수의 최적 값인 $\\hat{\\theta}$와 최적의 예측 오차인 $\\hat{\\sigma}^2$에 의해서만 정의되며, 측정 데이터의 시간이력을 필요치 않다."
   ]
  },
  {
   "cell_type": "markdown",
   "metadata": {},
   "source": [
    "더 나아가, 데이터가 이용 불가능한 경우 최적의 보드 변수인 $\\hat{\\theta}$와 $\\hat{\\sigma}^2$을 추정 불가능 하므로 이 추정 치는 가정되어야 한다. 보통은 설계자가 최적의 모드변수 $\\hat{\\theta}$와 $\\hat{\\sigma}^2$을 시스템을 대표하는 일반 값 $\\theta_0$와 $\\hat{\\sigma}_0^2$로 설정하게 된다. 이러한 경우 식(13)의 엔트로피 값은 (N이 큰경우) 다음과 같이 된다."
   ]
  },
  {
   "cell_type": "markdown",
   "metadata": {},
   "source": [
    "$$H(\\delta,\\theta_0,\\sigma_0)=\\frac{1}{2}N_\\theta [\\ln{(2\\pi)}+\\ln{\\sigma_0^2}]-\\frac{1}{2}\\ln{[det\\;Q(\\delta,\\theta_0)]}, \\tag{14}$$"
   ]
  },
  {
   "cell_type": "markdown",
   "metadata": {},
   "source": [
    "그리고 식(14)는 센서 배치 벡터 $\\delta$, 구조 모델, 선택한 일반 값 $\\theta_0$, $\\hat{\\sigma}_0$에 따라 결정된다."
   ]
  },
  {
   "cell_type": "markdown",
   "metadata": {},
   "source": [
    "앞서 언급한 분석 결과는 최적 센서 배치가 실험 설계 단계에서는 이용 불가능한 측정 데이터의 시간이력 없이도 모델 정보만을 통해 결정될 수 있음을 명백히 정당화 한다."
   ]
  },
  {
   "cell_type": "markdown",
   "metadata": {},
   "source": [
    "## 5. Dependence of information entropy on number of sensors"
   ]
  },
  {
   "cell_type": "markdown",
   "metadata": {},
   "source": [
    "본 장에서는 센서의 수가 정보 엔트로피와 정보엔트로피의 상한치, 하한치에 미치는 영향에 대해 분석한 결과를 제시한다. 이 결과는 최적 센서 배치 문제에 대한 효율적인 근사해를 구하기 위해 다음장에서 사용될 것이다."
   ]
  },
  {
   "cell_type": "markdown",
   "metadata": {},
   "source": [
    "$\\delta^{(M)}$는 $M$개 센서들에 대한 센서 위치로 정의한다. 또한 $\\delta^{(M)}+\\delta^{(L)}$는 L개의 센서를 추가로 배치한 경우로 정의한다. 이 정의에 따르면 다음의 제안 사항들이 성립한다."
   ]
  },
  {
   "cell_type": "markdown",
   "metadata": {},
   "source": [
    "**제안 1.** *M개 센서들의 센서 배치 $\\delta^{(M)}$에 대한 정보 엔트로피는 L개의 센서를 추가로 배치한 센서 배치 $\\delta^{(M)}+\\delta^{(L)}$보다 크다. 즉,*"
   ]
  },
  {
   "cell_type": "markdown",
   "metadata": {},
   "source": [
    "$$H(\\delta^{(M)}+\\delta^{(L)},\\theta,\\sigma) \\leq H(\\delta^{(M)},\\theta,\\sigma) \\tag{15}$$"
   ]
  },
  {
   "cell_type": "markdown",
   "metadata": {},
   "source": [
    "**증명** (생략)"
   ]
  },
  {
   "cell_type": "markdown",
   "metadata": {},
   "source": [
    "제안 1.은 구조물에 센서들이 추가로 배치됨에 따라 정보 엔트로피가 감소함을 의미한다. 정보 엔트로피가 변수 추정에 대한 불확실도를 측정하는 것임을 생각해 보면, 센서를 추가함에 따라 시스템 변수에 대한 정보 량이 많아지고 변수 추정에 대한 불확실도가 감소함으로 직관적으로 이러한 내용을 예상할 수 있다."
   ]
  },
  {
   "cell_type": "markdown",
   "metadata": {},
   "source": [
    "$\\delta_{opt}^{(M)}$와 $\\delta_{worst}^{(M)}$를 M개 센서들에 대한 최적 및 최악의 센서 배치라고 하자. 그리고 $H_{min}^{(M)}$와 $H_{max}^{(M)}$를 최적 및 최악의 센서 배치 $\\delta_{opt}^{(M)}$, $\\delta_{worst}^{(M)}$에 해당하는 최소 및 최대 정보 엔트로피라고 하자. 제안1의 결과로 다음의 제안 또한 성립한다."
   ]
  },
  {
   "cell_type": "markdown",
   "metadata": {},
   "source": [
    "**제안2.** *M개 센서에 대한 최소 및 최대 정보 엔트로피는 센서 수 M에 따라 감소하는 함수이다. 수학적으로는 다음과 같이 기술할 수 있다.*"
   ]
  },
  {
   "cell_type": "markdown",
   "metadata": {},
   "source": [
    "$$ H_{min}^{(M+L)} \\leq H_{min}^{(M)} \\tag{21}$$"
   ]
  },
  {
   "cell_type": "markdown",
   "metadata": {},
   "source": [
    "$$ H_{max}^{(M+L)} \\leq H_{max}^{(M)} \\tag{22}$$"
   ]
  },
  {
   "cell_type": "markdown",
   "metadata": {},
   "source": []
  },
  {
   "cell_type": "code",
   "execution_count": null,
   "metadata": {},
   "outputs": [],
   "source": []
  },
  {
   "cell_type": "code",
   "execution_count": null,
   "metadata": {},
   "outputs": [],
   "source": []
  },
  {
   "cell_type": "code",
   "execution_count": null,
   "metadata": {},
   "outputs": [],
   "source": []
  },
  {
   "cell_type": "markdown",
   "metadata": {},
   "source": [
    "### 7.1 Ten-d.o.f . chain-like spring-mass model"
   ]
  },
  {
   "cell_type": "markdown",
   "metadata": {},
   "source": [
    "정확한 전체 탐색 방법과 두개의 SSP 알고리즘을 비교하기 위해 그림1과 같은 10자유도 체인형태의 spring-mass 모델을 사용하였다. 이 구조물은 10개의 변수를 가지며, $i$번째 변수는 $i$번째 스프링 강성 $k_i$를 의미한다. 모든 질량은 동일하게 설저하였다. 강성과 질량의 값은 1차 고유진동수가 약 0.9 Hz가 되도록 설정하였다. 모든 모드에 대하여 5% 감쇠를 적용하였다. 크기가 1인 충격하중을 10번째 질량에 가진하였다. 이 충격 가진은 impact hammer 시험에 의한 가진을 모사한 것으로 볼 수 있다. 모드해석 및 구조물의 운동방정식을 사용해 통해 정보 엔트로피(식(11), (12), (14))를 계산하기 위해 필요한 모든 자유도에서의 응답을 산출하였다."
   ]
  },
  {
   "cell_type": "markdown",
   "metadata": {},
   "source": [
    "센서 배치 벡터 $\\delta$에 대한 정보 엔트로피 값 $h(\\delta,\\theta_0,\\sigma_0)$를 사용해 $IEI(\\delta)=exp[(h(\\delta,\\theta_0,\\sigma_0)-h(\\delta_{ref},\\theta_0,\\sigma_0)/N_theta)]$로 정의되는 정보 엔트로피 index를 구성하였다. 여기서 $h(\\delta_{ref},\\theta_0,\\sigma_0)$는 참조 센서 배치 $\\delta_{ref}$로 계산한 참조 정보 엔트로피 이다. $IEI{\\delta}$는 변수 추정치의 참조 센서 배치로 얻은 불확실성에 대한 상대적인 불확실성을 의미한다. 참조 센서 배치는 샌서 재배치를 통해 최대 개선이 가능한 $IEI(\\delta)$가 되도록 설정하였다."
   ]
  },
  {
   "cell_type": "markdown",
   "metadata": {},
   "source": [
    "전체 탐색 방법(exact)과 전진, 후진 SSP 방법으로 계산한 센서에 대한 함수인 최소 및 최대 정보 엔트로피 index 값 $IEI(\\delta)$는 10, 5, 2개의 관측 가능한 모드에 대하여 그림2(a), 그림3(a), 그림4(a)에 나타나 있다."
   ]
  },
  {
   "cell_type": "markdown",
   "metadata": {},
   "source": [
    "식(11)에 정의된 정보 행렬 $Q(\\delta,\\theta)$의 조건수들을 전체 탐색 방법을 사용해 계산했고 그림2(b), 그림3(b), 그림4(b)에 나타내었다. 정보 행렬 $Q(\\delta,\\theta)$의 차원이 10이라는데 유의해야 한다."
   ]
  },
  {
   "cell_type": "markdown",
   "metadata": {},
   "source": [
    "대부분의 경우에서 전진 및 후진 SSP 방법을 사용해 예측한 정보 엔트로피 예측치 들은 최소 정보 엔트로피에 매우 잘 근접한다. FSSP와 BSSP 방법의 예측 결과를 비교해 보면, 그 결과들은 고려한 센서의 경우에 따라 약간 다르다. 이 차이점은 최대 정보 엔트로피 예측의 경우에서 더 두드러진다. 다음에 따라 FSSP와 BSSP 알고리즘을 효율적으로 조합하여 사용할 수 있다. 각 방법의 최적(최악)의 센서 배치에 대한 두가지 예측 결과를 먼저 생산한다. 그리고 이 두가지 예측 결과들 중에서 최소(최대) 정보 엔트로피 값을 갖는 결과를 최적의 값으로 선택한다."
   ]
  },
  {
   "cell_type": "markdown",
   "metadata": {},
   "source": [
    "센서의 수가 적고 과측 가능한 모드의 수가 적은 경우 10개 변수를 갖는 모델은 (거의) 식별 불가능하다. 이는 변수 식별에 대한 역방향 문제에서 발생하는 유일하지 않은 해[26-29]인 상황이다. 식별이 불가능한 경우 식(11) 행렬 $Q(\\delta,\\theta)$의 조건수가 매우 큰 값을 갖게 된다. 그림 4(b)에 나타난 $10^7$ 단위의 매우 큰 조건수는 3개 센서 및 2개의 관측 가능한 모드수 까지는 모델 변수를 식별 하지 못함을 나타낸다. $4\\sim6$개의 센서 배치의 경우, 센서 위치에 따라 식별 가능성이 결정된다. 왜냐하면 최적의 센서 배치의 경우 well-conditioned 행렬 $Q(\\delta,\\theta)$를 보이지만 최악의 센서 배치의 경우 ill-conditioned 행렬 $Q(\\delta,\\theta)$를 보이기 때문이다. 이러한 경우는 2개의 모드가 관측 가능하고, $4\\sim6$개의 센서를 배치하는데 있어서 최적화가 중요하다는 것을 보여준다. 그림3,4에 나타난 ill-conditioned 경우 FSSP 방법의 정확성이 낮아지는 것을 볼 수 있다."
   ]
  },
  {
   "cell_type": "markdown",
   "metadata": {},
   "source": [
    "exact 방법과 두개의 SSP 방법에 대하여 $1\\sim10$개 센서 및 10개의 관측가능한 모드들에 대한 정보 엔트로피 index와 최적의 센서 배치는 표1에 비교하였다.두개의 SSP 알고리즘 모두 $5\\sim10$개의 센서에 대하여 최적의 센서 위치를 잘 예측함을 볼 수 있다. FSSP 알고맂므은 1 및 4개 센서에 대한 최적의 센서 위치를 잘 예측한다. 반면 BSSP 알고맂므은 3개 센서에 대한 최적의 센서 위치를 잘 예측한다. FSSP와 BSSP 알고리즘의 조합은 표1에 굵은 글자로 표기하였으며 정확한 해와 대부분 일치한다."
   ]
  },
  {
   "cell_type": "markdown",
   "metadata": {},
   "source": [
    "## (따라해보기) 10자유도 모델"
   ]
  },
  {
   "cell_type": "markdown",
   "metadata": {},
   "source": [
    "모드좌표계에서 운동방정식은 다음과 같다."
   ]
  },
  {
   "cell_type": "markdown",
   "metadata": {},
   "source": [
    "$\\Phi^T [M] \\Phi \\{\\ddot{q}\\} + \\Phi^T [C] \\Phi \\{\\dot{q}\\} + \\Phi^T [K] \\Phi \\{q\\} = \\Phi^T \\{F\\}$"
   ]
  },
  {
   "cell_type": "markdown",
   "metadata": {},
   "source": [
    "$[M_n]\\{\\ddot{q}\\} + [C_n]\\{\\dot{q}\\} + [K_n] \\{q\\} = \\Phi^T \\{F\\}$"
   ]
  },
  {
   "cell_type": "markdown",
   "metadata": {},
   "source": [
    "where,\n",
    "\n",
    "$M_{ij}=\\begin{cases} 1 && i=j \\\\ 0 && i\\neq j \\end{cases} $ \n",
    "\n",
    "$C_{ij}=\\begin{cases} 2\\zeta_i \\omega_{n_i}&& i=j \\\\ 0 && i\\neq j \\end{cases} $ \n",
    "\n",
    "$K_{ij}=\\begin{cases} \\omega_{n_i}^2&& i=j \\\\ 0 && i\\neq j \\end{cases} $ \n",
    "\n",
    "$F_{ij}=\\begin{cases} F(t) && i=0 \\\\ 0 && i\\neq 0 \\end{cases} $"
   ]
  },
  {
   "cell_type": "markdown",
   "metadata": {},
   "source": [
    "$\\int F(t) dt=1$"
   ]
  },
  {
   "cell_type": "markdown",
   "metadata": {},
   "source": [
    "상기 식의 우항을 $\\{F_n\\}$으로 정의하면 다음과 같이 표현할 수 있다."
   ]
  },
  {
   "cell_type": "markdown",
   "metadata": {},
   "source": [
    "$\\{F_n\\}=\\Phi^T\\{F\\}=\\begin{bmatrix}\n",
    "\\Phi_{0,0} && \\dots && \\Phi_{9,0} \\\\\n",
    "\\vdots && \\ddots && \\vdots \\\\\n",
    "\\Phi_{0,9} && \\dots && \\Phi_{9,9} \\\\\n",
    "\\end{bmatrix}\n",
    "\\begin{Bmatrix}\n",
    "F(t)\\\\\n",
    "\\vdots\\\\\n",
    "0\n",
    "\\end{Bmatrix}\n",
    "=\n",
    "\\begin{Bmatrix}\n",
    "\\Phi_{0,0}F(t)\\\\\n",
    "\\vdots\\\\\n",
    "\\Phi_{0,9}F(t)\n",
    "\\end{Bmatrix}\n",
    "$"
   ]
  },
  {
   "cell_type": "markdown",
   "metadata": {},
   "source": [
    "$i$번째 모드에 대한 모드좌표계 운동방정식은 다음과 같다."
   ]
  },
  {
   "cell_type": "markdown",
   "metadata": {},
   "source": [
    "$\\ddot{q}_i + 2\\zeta_i \\omega_{n_i}\\dot{q}_i + \\omega_{n_i}^2 q = \\Phi_{0,i}F(t)$"
   ]
  },
  {
   "cell_type": "markdown",
   "metadata": {},
   "source": [
    "상기 식의 해는 T.Thomson, Theory of Vibration with Applications의 식(4.1.6)에 따라 다음과 같다."
   ]
  },
  {
   "cell_type": "markdown",
   "metadata": {},
   "source": [
    "$q_i=\\frac{\\Phi_{0,i}}{\\omega_{n_i}\\sqrt{1-\\zeta_i^2}}e^{-\\zeta_i \\omega_{n_i}t} \\sin{\\sqrt{1-\\zeta_i^2}\\omega_{n_i}t}$"
   ]
  },
  {
   "cell_type": "markdown",
   "metadata": {},
   "source": [
    "상기 식으로 계산한 모드좌표계의 응답을 사용하면 다음 식을 통해 전역좌표계 응답을 계산할 수 있다."
   ]
  },
  {
   "cell_type": "markdown",
   "metadata": {},
   "source": [
    "$\\{x\\}=\\Phi\\{q\\}$"
   ]
  },
  {
   "cell_type": "code",
   "execution_count": 1,
   "metadata": {},
   "outputs": [],
   "source": [
    "import numpy as np\n",
    "from numpy.linalg import inv,eig\n",
    "import matplotlib.pyplot as plt\n",
    "## 10 자유도 모델 ##\n",
    "# 1. M, K 행렬\n",
    "m = 1; k = 3.5e2; ndof=10\n",
    "M = np.identity(ndof)*m\n",
    "K = np.identity(ndof+1)*2*k\n",
    "for i in range(ndof):\n",
    "    K[i,i+1]=-k; K[i+1,i]=-k\n",
    "K[0,0]=k; K=K[0:ndof,0:ndof];"
   ]
  },
  {
   "cell_type": "code",
   "execution_count": 2,
   "metadata": {},
   "outputs": [],
   "source": [
    "# 고유진동수, 모드형상 (질량은 1이므로 정규화 생략)\n",
    "eigval,eigvec = eig(inv(M)@K)\n",
    "idx = eigval.argsort()[::1]    #처음~끝(::) 정렬(1)\n",
    "eigval = eigval[idx]\n",
    "eigvec = eigvec[:,idx]\n",
    "wn = np.sqrt(eigval); fn = wn/np.pi; ms = eigvec;"
   ]
  },
  {
   "cell_type": "code",
   "execution_count": 3,
   "metadata": {},
   "outputs": [],
   "source": [
    "# 감쇠비\n",
    "zeta = 0.05"
   ]
  },
  {
   "cell_type": "code",
   "execution_count": 12,
   "metadata": {},
   "outputs": [],
   "source": [
    "# 모드좌표계 응답\n",
    "def q(i,t): return ms[0,i]/(wn[i]*np.sqrt(1-zeta**2)) * np.exp(-zeta*wn[i]*t) *np.sin(np.sqrt(1-zeta**2)*wn[i]*t); \n",
    "# 전역좌표계 응답\n",
    "def x(t):\n",
    "    qm = np.zeros(ndof);\n",
    "    for i in range(ndof):\n",
    "        qm[i] = q(i,t);\n",
    "    return ms@qm"
   ]
  },
  {
   "cell_type": "code",
   "execution_count": 22,
   "metadata": {},
   "outputs": [],
   "source": [
    "t = np.linspace(0,10,1001)"
   ]
  },
  {
   "cell_type": "code",
   "execution_count": 23,
   "metadata": {},
   "outputs": [],
   "source": [
    "disp = np.zeros([ndof,len(t)]);\n",
    "for i in range(len(t)):\n",
    "    disp[:,i] = x(t[i])"
   ]
  },
  {
   "cell_type": "code",
   "execution_count": 25,
   "metadata": {},
   "outputs": [
    {
     "data": {
      "text/plain": [
       "(10, 1001)"
      ]
     },
     "execution_count": 25,
     "metadata": {},
     "output_type": "execute_result"
    }
   ],
   "source": [
    "disp.shape"
   ]
  },
  {
   "cell_type": "code",
   "execution_count": null,
   "metadata": {},
   "outputs": [],
   "source": []
  }
 ],
 "metadata": {
  "kernelspec": {
   "display_name": "Python 3",
   "language": "python",
   "name": "python3"
  },
  "language_info": {
   "codemirror_mode": {
    "name": "ipython",
    "version": 3
   },
   "file_extension": ".py",
   "mimetype": "text/x-python",
   "name": "python",
   "nbconvert_exporter": "python",
   "pygments_lexer": "ipython3",
   "version": "3.7.6"
  }
 },
 "nbformat": 4,
 "nbformat_minor": 4
}
