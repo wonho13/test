{
 "cells": [
  {
   "cell_type": "markdown",
   "metadata": {},
   "source": [
    "# Sensor Placement for On-Orbit Modal Indentification and Correlation of Large Space Structures"
   ]
  },
  {
   "cell_type": "markdown",
   "metadata": {},
   "source": [
    "## Introduction"
   ]
  },
  {
   "cell_type": "markdown",
   "metadata": {},
   "source": [
    "대형 우주 구조물(Large Space Structure, LSS)을 운전할 때 중요한 문제는 센서 배치이다. 무게 및 비용을 고려할 때 최소한의 센서가 최적의 방법으로 배치되어야 한다. 센서는 시스템 식별, 상태 추정 및 최적 제어가 가능하도록 배치되어야 한다. 크기 및 유연성 때문에 LSS는 궤도 상에서 만 조립 가능하다. 따라서 센서 배치의 적절성을 검증하기 위한 선행 평가가 확실히 이루어 져야한다. LSS가 궤도 상에 진입하게 되면 센서들의 위치를 변경하는 것은 쉽지 않다."
   ]
  },
  {
   "cell_type": "markdown",
   "metadata": {},
   "source": [
    "시스템에 센서를 배치하는 방법에 대한 많은 문헌들이 작성되어 오고 있다. **시스템 식별** 및 **시스템 제어**를 목적으로 하는 최적의 센서 위치 선정 방법들이 개발되어 왔다. 이 분야에서 대부분 **분포된 변수 시스템(Distributed Parameter System)** 에 대해 다루었다. **Le Pourhiet과 Le Letty(2)** 는 **시스템 식별**을 목적으로 하는 최적의 센서 위치를 선정할 때 **센서의 오차 민감도가 최대**가 되는 기준을 사용하였다. **Qureshi et al(3)** 는 **시스템 식별 변수**들과 관련된 **Fisher information의 determinant가 최대**가 되는 기준을 사용하였다. **Yu, Seinfield(4), Omatu et al(5), Sawaragi el al(6)** 은 **상태 추정**을 목적으로 하는 최적의 센서 위치를 선정할 때 **추정한 오차 공분산 행렬의 trace를 최소화** 하는 기준을 사용하였다. **Goodson과 Polis(7)** 는 **최적 제어**를 목적으로 하는 최적의 센서 위치를 선정할 때 **관측성(observability) 측정을 최대화** 하는 기준을 사용하였다. **분포된 변수 시스템**과 관련된 센서 배치 방법에 대한 내용은 **Kubrusly와 Malebranche(8)** 의 문헌에 정리되어 있다."
   ]
  },
  {
   "cell_type": "markdown",
   "metadata": {},
   "source": [
    "**Juang, Rodriguez(9), Salama et al(10), Baruh, Choe(11)** 는 **대형 동적 구조물의 시스템 식별 및 최적 제어**를 위한 최적의 센서 배치 방법에 대해 연구하였다. **Vander Velde와 Carignan(12)** 는 **구조물의 파손 가능성 판단**을 목적으로 하는 최적의 센서 개수 및 위치 선정에 대한 연구를 수행하였다. **Basseville et al(13,14)** 는 **다변수 시스템의 동특성 변화 감지**를 목적으로 하는 최적의 센서 위치 선정 방법에 대해 연구하였다. **Shah, Udwadia(15), Udwadia, Garba(16)** 은 **구조물 변수 식별** 을 목적으로 하는 최적의 센서 위치 선정 방법에 대해 연구하였으며, 이분야는 상대적으로 연구 결과가 많지 않다."
   ]
  },
  {
   "cell_type": "markdown",
   "metadata": {},
   "source": [
    "본 논문은 LSS의 **유한요소모델(FEM) 검증**을 목적으로 하는 최적의 센서 배치 방법에 대해 기술한다. 이 중요한 문제에 대해 기술하고 있는 논문은 아직 발견되지 못했다. 궤도 상의 진동 시험에서 취득한 데이터는 독립적인 모드 형상과 모드 주파수를 생산할 수 있어야 하며, FEM 모드 변수들과 비교될 수 있도록 센서가 배치되어야 한다. 그리고 FEM은 실제 구조물을 정확히 모사하도록 수정된다. 그러면 이 FEM은 구조 동해석 및 제어 시스템 모사에 사용될 수 있게 된다."
   ]
  },
  {
   "cell_type": "markdown",
   "metadata": {},
   "source": [
    "문헌에서 확인되는 대부분의 방법들과 달리, 본 논무에서 기술할 방법은 계산량이 많은 탐색 기술을 사용하지 않는다. 사전 FEM을 기반으로 목표 모드 세트들을 선택하여 시스템 식별을 하게 된다. 목표 모드 세트들은 가진기에 의한 모든 강진모드들을 포함한다고 가정한다. 또한 초기 센서 위치 후보 세트들을 선택한다. 이 후보 위치들은 FEM 목표 모드에 대한 선형 독립성에 기여하는 정도에 따라 순위를 매긴다. 목표 모드 선형 동립성에 기여하지 않는 위치들은 후보 세트에서 제거된다. 반복과정을 거쳐, 초기 센서 위치 후보들은 이용 가능한 센서 수로 빠르게 감소한다. 따라서 이 방법은 목표 모드들이 독립적일 수 있는 센서 위치의 개수를 결정하는 문제를 만든다. 반복 방법의 특성 때문에 최종 센서 위치는 완전한 최적의 위치는 아니다. 하지만 최종 결과는 실제 최적 결과와 근접하게 된다. "
   ]
  },
  {
   "cell_type": "markdown",
   "metadata": {},
   "source": [
    "본 논문은 이제 그 방법 및 관련된 이론을 설명할 것이다. LSS 센서배치 적용에 대한 수치 예시 또한 소개할 것이다."
   ]
  },
  {
   "cell_type": "markdown",
   "metadata": {},
   "source": [
    "## Therotical Formulation"
   ]
  },
  {
   "cell_type": "markdown",
   "metadata": {},
   "source": [
    "본 장은 목표 모드들의 식별 및 상호작용을 찾기 위한 최적의 센서 위치를 결정하는 방법을 소개한다. 우선 센서 위치의 후보를 선택한다. 이 후보들은 모든 중요한 모드들을 포함하도록 충분히 많아야 한다. 대략 500개 정도의 위치가 선택될 것이다. 하지만 500개의 센서를 구조물에 부착하는 것은 불가능 하다. 따라서 초기의 후보 위치들은 최적화 방법을 통해 줄여나가야 한다."
   ]
  },
  {
   "cell_type": "markdown",
   "metadata": {},
   "source": [
    "이를 위해 후보 위치들은 모드의 동적 에너지 분포(modal kinetic energy distribution, MKED)를 기반으로 선택되며, MKED는 각 목표 모드 형상에 기여하는 FEM의 자유도를 측정한다. 이 분포는 다음의 관계를 통해 계산된다. "
   ]
  },
  {
   "cell_type": "markdown",
   "metadata": {},
   "source": [
    "$$ KE_{in}=\\Phi_{in}\\sum_{j}M_{ij}\\Phi_{jn} \\tag{1}$$"
   ]
  },
  {
   "cell_type": "markdown",
   "metadata": {},
   "source": [
    "$KE_{in}$ : n번째 목표 모드에서 i번째 자유도와 관련된 동에너지\n",
    "\n",
    "$\\Phi_{in}$ : n번째 모드에서의 i번째 계수\n",
    "\n",
    "$M_{ij}$ : FEM 질랴 행렬의 i번째 행, j번째 열의 값\n",
    "\n",
    "$\\Phi_{jn}$ : n번째 모드에서 j번째 계수"
   ]
  },
  {
   "cell_type": "markdown",
   "metadata": {},
   "source": [
    "$KE_{in}$이 모든 자유도에 대하여 더해지고, 대상 모드가 질량에 대해 정규화 되었다면, $KE_{in}$의 총 합은 1이 된다. 센서 위치의 후보는 각 목표 모드들에 대하여 충분히 큰 $KE$를 가져야 한다. 각 후보들 중에서 얼마나 큰 $KE$를 가져야 하는지는 아직 연구되지 않았다. 아마도 40~50%면 충분할 것으로 판단된다."
   ]
  },
  {
   "cell_type": "markdown",
   "metadata": {},
   "source": [
    "실험과 해석 사이의 상호 관계를 확인하기 위해 선형적으로 독립적인 모드를 잘 모사하는 센서 위치에서의 측정값을 취득해야 한다. 만약 시험의 모드형상이 공간적으로 독립적이지 않으면, 직교성을 사용한 모드형상 상호관계를 계산할 수 없다. 공간적인 독립성은 임의의 시간에서 센서 출력이 다음과 같이 주어진 경우,"
   ]
  },
  {
   "cell_type": "markdown",
   "metadata": {},
   "source": [
    "$$ u_s=\\Phi_sq \\tag{2}$$"
   ]
  },
  {
   "cell_type": "markdown",
   "metadata": {},
   "source": [
    "센서가 목표상태를 다음과 같이 계산할 수 있음을 의미한다."
   ]
  },
  {
   "cell_type": "markdown",
   "metadata": {},
   "source": [
    "$$ \\hat{q}=[\\Phi_s^T\\Phi_s]^{-1}\\Phi_s^Tu_s \\tag{3}$$"
   ]
  },
  {
   "cell_type": "markdown",
   "metadata": {},
   "source": [
    "$u_s$ : 센서 출력\n",
    "\n",
    "$\\Phi_s$ : 센서 위치를 통해 산출된 목표 모드 행렬\n",
    "\n",
    "$q$ : 목표 모드좌표계 벡터"
   ]
  },
  {
   "cell_type": "markdown",
   "metadata": {},
   "source": [
    "*참고 : 두 벡터가 선형적으로 독립(linearly dependent)이라는 의미는 두 벡터가 서로 평행하지 않다는 것이다. 즉, 두 벡터의 교점을 통해 한개의 해를 구할 수 있다는 의미이다."
   ]
  },
  {
   "cell_type": "markdown",
   "metadata": {},
   "source": [
    "따라서 목표 모드는 관측 가능해야 할 뿐만 아니라 식별도 가능해야 한다. 초기 센서위치 후보는 목표 모드 행렬을 선형적으로 독립적으로 나타낸다고 가정한다."
   ]
  },
  {
   "cell_type": "markdown",
   "metadata": {},
   "source": [
    "만약 센서 위치 후보가 $s$개의 위치이고, 이용 가능한 개수가 $m<s$라면, 본 논문은 $m$개의 센서를 가능한 많은 독립적인 정보를 제공하도록 위치시키는 최적의 추정 위치를 결정하는 방법을 제시하는 것이 된다. 최적의 추정 위치는 추정한 오차의 공분산 행렬이 최소가 됨을 의미한다. (!6)의 연구내용에 따라 식(2)를 변경하여 다음과 같이 쓸 수 있다."
   ]
  },
  {
   "cell_type": "markdown",
   "metadata": {},
   "source": [
    "$$u_s=H(q)+N=\\Phi_sq+N \\tag{4} $$"
   ]
  },
  {
   "cell_type": "markdown",
   "metadata": {},
   "source": [
    "$H$ : process measurements\n",
    "\n",
    "$N$ : stationary Gaussian white noise variance $\\psi_o^2$"
   ]
  },
  {
   "cell_type": "markdown",
   "metadata": {},
   "source": [
    "Bias를 최소화 하는 추정을 위한 추정 오차의 공분산 행렬은 다음과 같다."
   ]
  },
  {
   "cell_type": "markdown",
   "metadata": {},
   "source": [
    "$$P=E[(q-\\hat{q})(q-\\hat{q})^T]=\\left[ \\left(\\frac{\\partial H}{\\partial q} \\right)^T [\\psi_o^2]^{-1} \\left(\\frac{\\partial H}{\\partial q} \\right) \\right]^{-1} \\tag{5} $$"
   ]
  },
  {
   "cell_type": "markdown",
   "metadata": {},
   "source": [
    "$E$는 예상 값(평균)을 의미한다."
   ]
  },
  {
   "cell_type": "markdown",
   "metadata": {},
   "source": [
    "센서는 변위를 측정한다고 가정하였지만, 속도나 가속도 측정의 경우에도 유사한 결과가 된다. 따라서 $H(q)=\\Phi_s q$일 경우, 공분산 행렬은 다음과 같다."
   ]
  },
  {
   "cell_type": "markdown",
   "metadata": {},
   "source": [
    "$$P=[\\Phi_s^T(\\psi_o^2)^{-1}\\Psi_s]^{-1}=Q^{-1} \\tag{6} $$"
   ]
  },
  {
   "cell_type": "markdown",
   "metadata": {},
   "source": [
    "$Q$ : Fisher information matrix (FIM)"
   ]
  },
  {
   "cell_type": "markdown",
   "metadata": {},
   "source": [
    "Q를 최대화 하면 공분산 행렬을 최소화 하는 것과 같은 결과이며, 이는 최적의 상태 추정치 $\\hat{q}$를 얻게 된다. 해석을 단순화 하기 위해 측정 잡음은 uncorrelated이고 각 센서의 독립적인 통계적 특성을 갖는다고 가정하였다. FIM은 다음과 같이 표현 가능하다."
   ]
  },
  {
   "cell_type": "markdown",
   "metadata": {},
   "source": [
    "$$ Q=\\frac{1}{\\psi_o^2}\\Phi_s^T\\Phi_s=\\frac{1}{\\psi_o}A_o \\tag{7}$$"
   ]
  },
  {
   "cell_type": "markdown",
   "metadata": {},
   "source": [
    "따라서 $P$를 치소와 하기 위해서는 $A_o$의 적절한 norm을 최대화 해야 한다. 참조문서 4와 16은 trace norm이 가장 유용하고 물리적으로 의미있는 행렬 norm이라고 제안하고 있다. 참조문서 21의 추론3에 따르면, 모든 선형 unbiased 추정결과는 FIM의 determinant가 최대가 된다. 지금 부터는 $A_o$를 FIM으로 기술하겠다."
   ]
  },
  {
   "cell_type": "markdown",
   "metadata": {},
   "source": [
    "각 자유도에 기여하는 정도로 $A_o$를 표현하면 다음과 같다."
   ]
  },
  {
   "cell_type": "markdown",
   "metadata": {},
   "source": [
    "$$ A_o=\\sum_{i=1}^{s} \\Phi_s^{iT}\\Phi_s^{i}=\\sum_{i=1}^{s}A^i \\tag{8}$$"
   ]
  },
  {
   "cell_type": "markdown",
   "metadata": {},
   "source": [
    "$\\Phi_s^i$ : i번째 자유도(즉 센서 위치)에 해당하는 모드 $\\Phi_s$의 i번째 열"
   ]
  },
  {
   "cell_type": "markdown",
   "metadata": {},
   "source": [
    "식(8)은 후보 세트에서 각 자유도가 추가되거나 제거될 수 있음을 보여주며, 이는 FIM에서 정보가 추가되거나 제거됨을 의미한다. 후보 센서 세트에서 자유도의 수는 목표 모드에 크게 기여하지 않는 센서의 위치들을 제거하여 줄여나갈 수 있다. 불필요한 정보들은 제거될 수 있다."
   ]
  },
  {
   "cell_type": "markdown",
   "metadata": {},
   "source": [
    "해석은 고유값 방정식을 풀면서 시작한다."
   ]
  },
  {
   "cell_type": "markdown",
   "metadata": {},
   "source": [
    "$$ [A_o-\\lambda I]\\psi=0 \\tag{9}$$"
   ]
  },
  {
   "cell_type": "markdown",
   "metadata": {},
   "source": [
    "초기 후보 세트의 경우 목표 모드에 해당하는 $Phi_s$의 k 열들은 선형적으로 독립이라고 가정한다. 따라서 $k \\times k$ 행렬 $A_o$는 positive definite이면서 symmetric이다. 이러한 조건이면 $A_o$의 고유값(eigenvalue)들은 양의 실수이고, 고유벡터(eigenvector)들은 다음의 관계를 만족하는 orthonomal이 된다. "
   ]
  },
  {
   "cell_type": "markdown",
   "metadata": {},
   "source": [
    "$$\\psi^T A_o \\psi=\\lambda \\;\\;\\;\\; and \\;\\;\\;\\; \\psi^T\\psi = I \\tag{10}$$"
   ]
  },
  {
   "cell_type": "markdown",
   "metadata": {},
   "source": [
    "벡터 $\\psi$들은 서로 orthogonal이기 때문에, $k$차원 공간에서 $k$개의 직교 방향을 나타내며, 이를 절대 식별 공간이라고 부를 것이다. 다음과 같은 곱을 정의하면,"
   ]
  },
  {
   "cell_type": "markdown",
   "metadata": {},
   "source": [
    "$$ G = [\\Phi_s \\psi] \\otimes [\\Phi_s \\psi] \\tag{11}$$"
   ]
  },
  {
   "cell_type": "markdown",
   "metadata": {},
   "source": [
    "$\\otimes$는 행렬의 각 항들의 곱을 의미함."
   ]
  },
  {
   "cell_type": "markdown",
   "metadata": {},
   "source": [
    "계산된 행렬 $G$는 $\\psi$의 열들로 정의되는 좌표계에서 $\\psi_s$의 행 성분들의 제곱을 포함하며, 절대 식별 공간의 span이 된다. $G$의 각 열의 합은 $A_o$의 고유값(eigenvalue)가 된다. 따라서 $G$의 열에서 i번째 항은 i번째 센서 위치가 관련된 고유값에 기여하는 정도를 나타내게 된다. 만약 $G$가 다음과 같이 고유값 $\\lambda$의 역행렬로 곱해지면,"
   ]
  },
  {
   "cell_type": "markdown",
   "metadata": {},
   "source": [
    "$$ F_E=[\\Phi_s \\psi] \\otimes [\\Phi_s \\psi] \\lambda^{-1} \\tag{12} $$"
   ]
  },
  {
   "cell_type": "markdown",
   "metadata": {},
   "source": [
    "절대 식별 공간의 각 방향은 모두 같은 중요도를 갖게 된다. $s \\times k$인 행렬 $F_E$의 j번째 열, i번째 항은  j번째 고유값의 i번째 센서 위치에 부분적으로 기여하는 정도를 나타낸다. 지금부터 행렬 $F_E$는 부분 고유값 분포(fractional eigenvalue distribution)이라고 부르겠다. $F_E$의 각 행에 항들을 추가하면 다음과 같은 결과가 된다."
   ]
  },
  {
   "cell_type": "markdown",
   "metadata": {},
   "source": [
    "$$E_D = \\begin{bmatrix} \n",
    "\\sum_{j=1}^{k} F_{E1j} & : & \n",
    "\\sum_{j=1}^{k} F_{E2j} & : &\n",
    "\\dots  & : &\n",
    "\\sum_{j=1}^{k} F_{Esj} \n",
    "\\end{bmatrix}^T\n",
    "\\tag{13} $$"
   ]
  },
  {
   "cell_type": "markdown",
   "metadata": {},
   "source": [
    "$F_{Eij}$ : 행렬 $F_E$의 i번째 행, j번째 열의 값"
   ]
  },
  {
   "cell_type": "markdown",
   "metadata": {},
   "source": [
    "지금부터 열 벡터 $E_D$는 후보 센서 세트의 유효 독립 분포라고 부르겠다. $E_D$의 i번째 항은 i번째 센서 위치가 모드형상 $\\Phi_s$의 선형 독립성에 부분적으로 기여하는 정도라고 가설을 세우겠다."
   ]
  },
  {
   "cell_type": "markdown",
   "metadata": {},
   "source": [
    "다음과 같이 정의되는 $k$차원의 타원체를 고려해 보면 벡터 $E_D$의 물리적 중요성을 잘 인지할 수 있다."
   ]
  },
  {
   "cell_type": "markdown",
   "metadata": {},
   "source": [
    "$$ x^T \\lambda^{-1}x=1 \\tag{14}$$"
   ]
  },
  {
   "cell_type": "markdown",
   "metadata": {},
   "source": [
    "그리고 이 타원체를 절대 식별 타원체라고 하겠다. 이 타원체의 주 방향들은 고유벡터 $\\psi$로 구할 수 있고, i번째 주 축의 길이는 $\\lambda_i^{1/2}$이다. 해당 주 축에서 산출된 i번째 고유값의 크기는 얼마나 식별이 가능한지 즉, 얼마나 모드들이 독립적인지를 나타내는 척도이다. 만약 센서 위치가 제거되어 한개의 고유값이 0이 되면, 타원체는 붕궤되어 체적이 사라지고 모드형성 $\\Phi_s$는 더이상 선형적으로 독립이 아니다. 식별 타원체의 체적은 $A_o$의 determinant의 제곱근에 비례한다(22). 참고문헌(23)의 공식에 따라 $A_o$의 determinant는 정보의 정의와 유사하다고 할 수 있다(24). 따라서, 후보 세트에서 센서 위치를 제거하려면 $A_o$의 determinant 즉 절대 식별 타원체의 체적을 유지하는 것이 바람직 하다."
   ]
  },
  {
   "cell_type": "markdown",
   "metadata": {},
   "source": [
    "독립 분포 벡터 $E_D$는 행렬의 대각항을 사용하여 다음과 같이 표현할 수 있다."
   ]
  },
  {
   "cell_type": "markdown",
   "metadata": {},
   "source": [
    "$$ E=\\Phi_s \\psi \\lambda^{-1}\\psi^T\\Phi_s^T = \\Phi_s A_o^{-1} \\Phi_s^T \\tag{15}$$"
   ]
  },
  {
   "cell_type": "markdown",
   "metadata": {},
   "source": [
    "식(10)을 사용하면, $E$는 다음과 같이 쓸 수 있다."
   ]
  },
  {
   "cell_type": "markdown",
   "metadata": {},
   "source": [
    "$$ E=\\Phi_s [\\Phi_s^T \\Phi_s]^{-1} \\Phi_s^T \\tag{16} $$"
   ]
  },
  {
   "cell_type": "markdown",
   "metadata": {},
   "source": [
    "식(16)의 행렬 E는 목표 모드 수와 같은 rank를 갖는 $\\Phi_s$의 열공간의 수직 투영자(25)로 볼 수 있다. 투영자 $E$는 또한 멱승성(idempotent) 행렬 ($E^2=E$를 의미)이다. 멱승성 행렬의 잘 알려진 특성은 행렬이 trace가 행렬의 rank와 같다는 것이다. 따라서 행렬 $E$와 $E_D$의 대각항들은 해당 센서 위치가 $\\Phi_s$에 기여하는 정도 즉 행렬 $E$의 열들의 선형 독립성에 기여하는 정도로 볼 수 있다."
   ]
  },
  {
   "cell_type": "markdown",
   "metadata": {},
   "source": [
    "행렬 $E$의 i번째 대학항은 다음과 같다."
   ]
  },
  {
   "cell_type": "markdown",
   "metadata": {},
   "source": [
    "$$ E_{ii}=\\rho_i^T \\lambda^{-1} \\rho_i \\tag{17} $$"
   ]
  },
  {
   "cell_type": "markdown",
   "metadata": {},
   "source": [
    "$\\rho_i$ : $\\psi$ 좌표계로 표현된 $\\Phi_s$의 i번째 행을 포함하는 열벡터"
   ]
  },
  {
   "cell_type": "markdown",
   "metadata": {},
   "source": [
    "식 (17)은 $\\psi$좌표계 $\\Phi_s$행렬의 i번째 열의 타원체 norm을 행렬 $\\lambda^{-1}$로 표현한 것이다. 모드형상 $\\Phi_s$의 각 행들은 식별 공간에서 벡터로 그려질 수 있고, 그 벡터들은 다음과 같이 절대 식별 타원체 내에 위치하게 된다. "
   ]
  },
  {
   "cell_type": "markdown",
   "metadata": {},
   "source": [
    "$$ 0.0 \\leq E_{ii} \\leq 1.0 $$"
   ]
  },
  {
   "cell_type": "markdown",
   "metadata": {},
   "source": [
    "만약 $E_{ii}=0.0$이면, $\\Phi_s$의 i번째 열은 null이고, 해당 센서 위치에서의 모드들은 관측 불가능 하다. 만약 $Phi_s$의 i번째 행의 타원체 길이가 1.0이면, 그에 해당하는 벡터의 끝이 식별 타원체 표면과 접촉할 것이고, 그에 해당하는 센서 위치는 선형 독립성에 중요한 역할을 하게 되며, 따라서 목표 모드 식별에도 중요한 역학을 하게 된다."
   ]
  },
  {
   "cell_type": "markdown",
   "metadata": {},
   "source": [
    "단순한 예로, 3개의 센서 위치에서 2개의 모드를 측정한 경우를 생각해보자."
   ]
  },
  {
   "cell_type": "markdown",
   "metadata": {},
   "source": [
    "$$\\Phi_s=\\begin{bmatrix}\n",
    "1& 2 \\\\\n",
    "1& 1 \\\\\n",
    "1& 1 \\end{bmatrix} $$"
   ]
  },
  {
   "cell_type": "markdown",
   "metadata": {},
   "source": [
    "$A_o$의 고유값들은 $\\lambda_1=0.228$, $\\lambda_2=8.772$로 주어지며, 그에 해당하는 고유벡터들은 다음과 같이 주어진다. "
   ]
  },
  {
   "cell_type": "markdown",
   "metadata": {},
   "source": [
    "$$\\psi_1=\\begin{bmatrix}\n",
    "0.8219 \\\\ -0.5696 \\end{bmatrix}\n",
    "\\;\\;\\;\\;\n",
    "\\psi_2=\\begin{bmatrix}\n",
    "0.5696 \\\\ 0.8219 \\end{bmatrix}$$"
   ]
  },
  {
   "cell_type": "markdown",
   "metadata": {},
   "source": [
    "$\\Phi_s$의 열들은 그에 해당하는 식별 타원체를 따라 절대 식별 공간에 그려질 수 있으며, 이는 그림1에 나타나 있다."
   ]
  },
  {
   "cell_type": "code",
   "execution_count": 3,
   "metadata": {},
   "outputs": [
    {
     "data": {
      "image/png": "[encoded data removed]",
      "text/plain": [
       "<Figure size 504x504 with 1 Axes>"
      ]
     },
     "metadata": {},
     "output_type": "display_data"
    }
   ],
   "source": [
    "from numpy import *\n",
    "from numpy.linalg import inv\n",
    "from matplotlib.pyplot import *\n",
    "from matplotlib.patches import Ellipse\n",
    "Phi_s = array([[1,2],[1,1],[1,1]]);\n",
    "lam = array([0.228,8.772]); \n",
    "psi = array([[0.8219,-0.5696],[0.5696,0.8219]]);\n",
    "E = Phi_s@inv(Phi_s.T@Phi_s)@Phi_s.T\n",
    "\n",
    "fig = figure(figsize=(7,7)); ax = fig.add_subplot(1,1,1);\n",
    "ax.spines['left'].set_color('none'); ax.spines['bottom'].set_color('none');\n",
    "ax.spines['right'].set_color('none'); ax.spines['top'].set_color('none');\n",
    "theta = -arctan(psi[0,1]/psi[0,0]);\n",
    "rotmat = array([[cos(theta),-sin(theta)],[sin(theta),cos(theta)]]);\n",
    "Phi_s = (rotmat@Phi_s.T).T; \n",
    "\n",
    "arrow(0,0,Phi_s[0,1],Phi_s[0,0],overhang=0, head_width=0.1, head_length=0.2,color='b'); \n",
    "text(Phi_s[0,1]*1.1,Phi_s[0,0]*1.1,r'$\\rho_1$',color='b');\n",
    "arrow(0,0,Phi_s[1,1],Phi_s[1,0],overhang=0, head_width=0.1, head_length=0.2,color='b');\n",
    "text(Phi_s[1,1]*1.1,Phi_s[1,0]*1.1,r'$\\rho_{2,3}$',color='b');\n",
    "arrow(0,0,0,3,overhang=0, head_width=0.1, head_length=0.2,color='k');\n",
    "text(-0.1,3.3,r'$\\psi_1$',color='k');\n",
    "arrow(0,0,3,0,overhang=0, head_width=0.1, head_length=0.2,color='k');\n",
    "text(3.3,0.1,r'$\\psi_2$',color='k');\n",
    "xlim(-4,4); ylim(-4,4); xticks([],[]); yticks([],[]);\n",
    "\n",
    "a=sqrt(lam[1])  #radius on the x-axis\n",
    "b=sqrt(lam[0])  #radius on the y-axis\n",
    "t = linspace(0, 2*pi, 100); plot( a*np.cos(t) , b*np.sin(t) ,'r');"
   ]
  },
  {
   "cell_type": "markdown",
   "metadata": {},
   "source": [
    "<h3> 그림1. 절대 식별 타원체 예제"
   ]
  },
  {
   "cell_type": "markdown",
   "metadata": {},
   "source": [
    "1열 ($\\rho_1$)은 타원체 표면에 닿아 있고, 2,3열 ($\\rho_2, \\rho_3$)은 타원체 내부에 있다. 이에 해당하는 유효 독립성 벡터는 다음과 같다."
   ]
  },
  {
   "cell_type": "code",
   "execution_count": 4,
   "metadata": {},
   "outputs": [
    {
     "data": {
      "text/plain": [
       "array([1. , 0.5, 0.5])"
      ]
     },
     "execution_count": 4,
     "metadata": {},
     "output_type": "execute_result"
    }
   ],
   "source": [
    "Ed = diag(E); Ed"
   ]
  },
  {
   "cell_type": "markdown",
   "metadata": {},
   "source": [
    "$$E_D=\\begin{bmatrix} 1.0 \\\\ 0.5 \\\\ 0.5 \\end{bmatrix}$$"
   ]
  },
  {
   "cell_type": "markdown",
   "metadata": {},
   "source": [
    "이 유효 독립성 벡터는 센서 위치 1이 선형 독립성 및 모드 형상 식별에 필수적임을 보여준다. 반면 센서 위치 2,3은 동일한 중요성을 가지며, 둘중 하나를 제거해도 모드의 독립성에 영향을 미치지 않는다. 이러한 결과는 $\\Phi_s$의 값들을 보면 명백히 알 수 있다. 첫번째 센서 위치에 해당하는 값들은 공간적으로 모드를 구분한다. 이 위치를 제거하면 모드의 독립성을 제거하게 된다. 나머지 2개 행들은 같은 계수를 갖고 있다. 따라서 이 2개의 행의 유효 독립성은 같고, 두개 모두를 포함하고 있으면 불필요한 정보를 담고있게 된다. 이 단순한 예제는 우리의 가설이 맞다는 것을 보여준다. 이 예제를 통해 유효 독립성 분포를 초기 센서 위치 후보 세트 중에서 센서 위치들의 중요성의 순위를 매기는데 사용할 수 있다는 것을 알 수 있다."
   ]
  },
  {
   "cell_type": "markdown",
   "metadata": {},
   "source": [
    "식별 타원체에 닿는 열을 반드시 포함해야 한다는 것을 더 일반적인 경우에 대하여 증명해 보자. $R_i$을 모드 형상 $\\Phi_s$의 i번째 행이라고 하자. 그리고 다음과 같이 i번째 행은 식별 타원체에 닿는다고 가정해 보자."
   ]
  },
  {
   "cell_type": "markdown",
   "metadata": {},
   "source": [
    "$$E_{ii}=R_i^T \\psi \\lambda^{-1} \\psi^T R_i = R_i^T A_o^{-1} R_i$$\n",
    "\n",
    "$$=<R_i,\\;A_o^{-1}\\;R_i>=1.0 \\tag{18}$$"
   ]
  },
  {
   "cell_type": "markdown",
   "metadata": {},
   "source": [
    "$<,\\;>$는 내적을 의미한다. 만약 모든 센서 위치 후보들이 유지되면, $A_o$는 nonsingular이다. 만약 식(8)의 series 내의 항 $A^i$를 제거했을 때 singular 행렬이 되면, i번째 센서 위치는 모드형상의 선형 독립성에 필수적이라고 봐야한다. 행렬 B를 다음과 같이 구성한다."
   ]
  },
  {
   "cell_type": "markdown",
   "metadata": {},
   "source": [
    "$B = A_o - A^i = A_o - R_i R_i^T \\tag{19}$"
   ]
  },
  {
   "cell_type": "markdown",
   "metadata": {},
   "source": [
    "상기 식 양변에 $A_o$의 역행렬을 곱하면 $C$행렬이 된다."
   ]
  },
  {
   "cell_type": "markdown",
   "metadata": {},
   "source": [
    "$$C = A_o^{-1}[A_o-A^i]=I-A_o^{-1}R_iR_i^T \\tag{20}$$"
   ]
  },
  {
   "cell_type": "markdown",
   "metadata": {},
   "source": [
    "$I$는 $k$차 단위행렬이다."
   ]
  },
  {
   "cell_type": "markdown",
   "metadata": {},
   "source": [
    "$B$와 $C$의 rank 는 같다. 식(20)의 양변에 trace를 취하면 다음과 같다."
   ]
  },
  {
   "cell_type": "markdown",
   "metadata": {},
   "source": [
    "$$tr(C)=tr(I)-tr(A_o^{-1}R_iR_i^T) \\tag{21}$$"
   ]
  },
  {
   "cell_type": "markdown",
   "metadata": {},
   "source": [
    "Skeltom(26)에 따르면 다음이 성립한다."
   ]
  },
  {
   "cell_type": "markdown",
   "metadata": {},
   "source": [
    "$<R_i,\\;A_o^{-1}\\;R_i> = tr>A_o^{-1}\\;R_i,\\;R_i< = tr(A_o^{-1}\\;R_i\\;R_i^T) \\tag{22}$"
   ]
  },
  {
   "cell_type": "markdown",
   "metadata": {},
   "source": [
    "$>,<$는 외적을 의미한다. 따라서 식(18),(21),(22)를 사용해 $tr(C)=k-1$임을 알 수 있다. 다음으로 $C$의 전치행렬과 행렬 $P_i$를 다음과 같이 정의한다."
   ]
  },
  {
   "cell_type": "markdown",
   "metadata": {},
   "source": [
    "$$C^T=I-R_i\\;R_i^T\\;A_o^{-1}=I-P_i \\tag{23}$$"
   ]
  },
  {
   "cell_type": "markdown",
   "metadata": {},
   "source": [
    "$P_i$를 살펴보면 다음의 관계가 성립함을 알 수 있다."
   ]
  },
  {
   "cell_type": "markdown",
   "metadata": {},
   "source": [
    "$$ P_i^2=P_iP_i=R_iR_i^TA_o^{-1}R_iR_i^TA_o^{-1}=R_i<R_i A_o^{-1}R_i>R_i^TA_o^{-1}$$\n",
    "$$=R_iR_i^TA_o^{-1}P_i \\tag{24}$$"
   ]
  },
  {
   "cell_type": "markdown",
   "metadata": {},
   "source": [
    "식(24)는 $P_i$도 멱승성(idempotent) 행렬이며, 따라서 $P_i$의 trace는 $P_i$의 rank(rk)와 같음을 보여준다. 멱승성 행렬과 투영자는 1대 1로 일치하기 때문에(25), $P_i$는 또한 다음 식에 나타난 것처럼 해당 $P_i$의 null space를 따르는 $R_i$의 span 공간 범위의 비스듬한(oblique) 투영자로 볼 수 있다."
   ]
  },
  {
   "cell_type": "markdown",
   "metadata": {},
   "source": [
    "$$P_iR_i=R_iR_i^TA_o^{-1}R_i=R_i<R_i,A_o^{-1}R_i>=R_i \\tag{25}$$"
   ]
  },
  {
   "cell_type": "markdown",
   "metadata": {},
   "source": [
    "따라서 $C^T=I-P_i$는 range space를 따르는 null space 상의 oblique 투영자이며, 그에 따라 이 행렬 역시 멱승성 행렬이다. 최종적인 결과는 다음과 같다."
   ]
  },
  {
   "cell_type": "markdown",
   "metadata": {},
   "source": [
    "$$tr(C^T)=rk(C^T)=rk(C)=rk(B)=k-1 \\tag{26}$$"
   ]
  },
  {
   "cell_type": "markdown",
   "metadata": {},
   "source": [
    "행렬 $B$는 $k \\times k$ 크기이며 rank가 $k-1$이다. 따라서 $B$는 singular이며, $R_i$ 및 $A^i$에 해당하는 센서 위치는 유지되어야 한다."
   ]
  },
  {
   "cell_type": "markdown",
   "metadata": {},
   "source": [
    "대답해야 하는 질문이 한가지 더 있다. 벡터 $R_i$는 식별 타원체를 넘어설 수 있는가? 이는 다음을 의미한다."
   ]
  },
  {
   "cell_type": "markdown",
   "metadata": {},
   "source": [
    "$$ <R_i, A_o^{-1} R_i > = R_i^T A_o^{-1}R_i = \\sigma_i > 1.0 \\tag{27}$$"
   ]
  },
  {
   "cell_type": "markdown",
   "metadata": {},
   "source": [
    "$B$는 앞서 정의했고, $B=\\Phi_{si}^T \\Phi_{si}$로 표현할 수 있으므로, $B$는 최소한 positive semidefinite(26)이다. 여기서 $\\Phi_{si}$는 i번째 행을 제거한 모드형상 $\\Phi_s$를 의미한다. 따라서 $B$의 모든 고유 값들 $\\lambda_{Bi}$는 0보다 크거나 같다. $A_o^{-1}$는 positive definite이기 때문에 $B$, $C$, $C^T$의 부호는 같다. 행렬 곱 $P_iR_i$는 다음과 같다."
   ]
  },
  {
   "cell_type": "markdown",
   "metadata": {},
   "source": [
    "$$P_iR_i=R_iR_i^TA_p^{-1}R_i=R_i<R_i,A_o^{-1},R_i>=R_i\\sigma_i \\tag{28}$$"
   ]
  },
  {
   "cell_type": "markdown",
   "metadata": {},
   "source": [
    "상기 식은 $\\sigma_i$가 행렬 $P_i$의 고유 값임을 보여준다. 그에 해당하는 $C^T$의 고유값은 다음과 같다."
   ]
  },
  {
   "cell_type": "markdown",
   "metadata": {},
   "source": [
    "$$\\lambda_{C^Ti}=1.0-\\sigma_i < 0.0$$"
   ]
  },
  {
   "cell_type": "markdown",
   "metadata": {},
   "source": [
    "따라서 행렬 $C^T$와 $C$는 음의 고유값을 가지며 positive semidefinite가 아니다. 하지만 이는 B가 positive semidefinite가 아니라는 것을 의미하며, 이는 초기에 행렬 $B$가 최소한 positive semidefinite여야 한다는 내용과 상충된다. 이로써 벡터 $R_i$가 식별 타원체를 벗어날 수 없음이 증명되었다."
   ]
  },
  {
   "cell_type": "markdown",
   "metadata": {},
   "source": [
    "따라서 유효 독립성이라고 불리는 측정치를 개발하였고, 이는 센서 위치가 모드형상 $\\Phi_s$의 rank 및 선형 독립성에 기여하는 값임이 확인되었다. **식(13)의 벡터 $E_D$는 목표 모드들 간의 상호 관계 및 식별의 중요성을 기준으로 센서 위치들의 순위를 매기는데 사용될 수 있다.** 센서 위치는 다음의 범위를 갖게 된다."
   ]
  },
  {
   "cell_type": "markdown",
   "metadata": {},
   "source": [
    "$$0.0 \\leq E_{Di} \\leq 1.0$$"
   ]
  },
  {
   "cell_type": "markdown",
   "metadata": {},
   "source": [
    "$E_{Di}=0.0$이면 센서 위치는 아무런 기여를 하지 않으며, 해당 위치에서 시스템은 관측 불가능 하다. $E_{Di}=1.0$이면 목표 모드를 식별하기 위해 이 센서의 위치는 반드시 포함되어야 한다. 반복법을 사용해 센서 위치의 후보 세트들은 순위가 매겨질 수 있고, 아무런 기여를 하지 않는 센서 위치들을 찾아낼 수 있다. 그리고 이 위치들은 모드 형상 $\\Phi_s$에서 제거하게 된다. 이 방법을 사용해 센서 위치를 줄여나갈 수 있게되어 목표 모드를 식별하기 위한 최적위 센서 위치들을 결정할 수 있게 된다."
   ]
  },
  {
   "cell_type": "markdown",
   "metadata": {},
   "source": [
    "이렇게 결정한 센서 배치는 반최적(suboptimal)이라고 불린다. 왜냐하면 반복벅을 사용해 센서 배치를 결정했기 때문이다. 하지만 반복법을 통해 결정산 반최적 센서 배치는 실제 최적의 센서 배치와 근접할 것이다. 센서 배치 결과의 정확성 및 우수성은 반복 과정 중에서 확인할 수 있는데, 참조문서 4, 16에서 제안했듯이 $A_o$의 trace를 확인하거나, $A_o$의 determinant를 확인(이는 측정치에 포함된 정보의 양을 의미함), $A_o$의 condition number를 확인(27)(이는 측정 행렬 $\\Phi_s$에 포함된 모델링 에러의 rohustness를 의미함)하여 수행 가능하다."
   ]
  },
  {
   "cell_type": "markdown",
   "metadata": {},
   "source": [
    "$E_D$ 벡터 항들의 합은 목표 모드수 $k$와 같아지기 때문에 센서의 수가 변함에 따라 유효 독립성 값은 매 반복마다 변함에 주의해야 한다. 영향이 적은 센서 위치들이 제거됨에 따라 각 위치들은 더 중요해질 수도 있고 덜 중요해질 수도 있다. 특정 센서들이 제거됨에 따라 중요성의 차수도 달라지게 된다. 최적의 센서 배치는 각 반복마다 한개의 센서만 제거해야 얻을 수 있다. 이는 각 반복마다 변화하는 유효 독립성 값의 변화를 최소화 하기 위함이다. 하지만 대부분의 경우 한 반복마다 한개 이상의 센서를 제거할 수도 있다고 믿어진다. 한번의 반복 시 많은 양의 센서를 제거하는 것은 지양해야 한다. 매 반복마다 몇개의 센서를 제거하는 것이 안전한지는 향후 연구 과제이다."
   ]
  },
  {
   "cell_type": "markdown",
   "metadata": {},
   "source": [
    "## Numerical Example"
   ]
  }
 ],
 "metadata": {
  "kernelspec": {
   "display_name": "Python 3",
   "language": "python",
   "name": "python3"
  },
  "language_info": {
   "codemirror_mode": {
    "name": "ipython",
    "version": 3
   },
   "file_extension": ".py",
   "mimetype": "text/x-python",
   "name": "python",
   "nbconvert_exporter": "python",
   "pygments_lexer": "ipython3",
   "version": "3.7.6"
  }
 },
 "nbformat": 4,
 "nbformat_minor": 4
}
