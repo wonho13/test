{
 "cells": [
  {
   "cell_type": "markdown",
   "metadata": {},
   "source": [
    "# Sensor Placement for On-Orbit Modal Indentification and Correlation of Large Space Structures"
   ]
  },
  {
   "cell_type": "markdown",
   "metadata": {},
   "source": [
    "## Introduction"
   ]
  },
  {
   "cell_type": "markdown",
   "metadata": {},
   "source": [
    "대형 우주 구조물(Large Space Structure, LSS)을 운전할 때 중요한 문제는 센서 배치이다. 무게 및 비용을 고려할 때 최소한의 센서가 최적의 방법으로 배치되어야 한다. 센서는 시스템 식별, 상태 추정 및 최적 제어가 가능하도록 배치되어야 한다. 크기 및 유연성 때문에 LSS는 궤도 상에서 만 조립 가능하다. 따라서 센서 배치의 적절성을 검증하기 위한 선행 평가가 확실히 이루어 져야한다. LSS가 궤도 상에 진입하게 되면 센서들의 위치를 변경하는 것은 쉽지 않다."
   ]
  },
  {
   "cell_type": "markdown",
   "metadata": {},
   "source": [
    "시스템에 센서를 배치하는 방법에 대한 많은 문헌들이 작성되어 오고 있다. **시스템 식별** 및 **시스템 제어**를 목적으로 하는 최적의 센서 위치 선정 방법들이 개발되어 왔다. 이 분야에서 대부분 **분포된 변수 시스템(Distributed Parameter System)** 에 대해 다루었다. **Le Pourhiet과 Le Letty(2)** 는 **시스템 식별**을 목적으로 하는 최적의 센서 위치를 선정할 때 **센서의 오차 민감도가 최대**가 되는 기준을 사용하였다. **Qureshi et al(3)** 는 **시스템 식별 변수**들과 관련된 **Fisher information의 determinant가 최대**가 되는 기준을 사용하였다. **Yu, Seinfield(4), Omatu et al(5), Sawaragi el al(6)** 은 **상태 추정**을 목적으로 하는 최적의 센서 위치를 선정할 때 **추정한 오차 공분산 행렬의 trace를 최소화** 하는 기준을 사용하였다. **Goodson과 Polis(7)** 는 **최적 제어**를 목적으로 하는 최적의 센서 위치를 선정할 때 **관측성(observability) 측정을 최대화** 하는 기준을 사용하였다. **분포된 변수 시스템**과 관련된 센서 배치 방법에 대한 내용은 **Kubrusly와 Malebranche(8)** 의 문헌에 정리되어 있다."
   ]
  },
  {
   "cell_type": "markdown",
   "metadata": {},
   "source": [
    "**Juang, Rodriguez(9), Salama et al(10), Baruh, Choe(11)** 는 **대형 동적 구조물의 시스템 식별 및 최적 제어**를 위한 최적의 센서 배치 방법에 대해 연구하였다. **Vander Velde와 Carignan(12)** 는 **구조물의 파손 가능성 판단**을 목적으로 하는 최적의 센서 개수 및 위치 선정에 대한 연구를 수행하였다. **Basseville et al(13,14)** 는 **다변수 시스템의 동특성 변화 감지**를 목적으로 하는 최적의 센서 위치 선정 방법에 대해 연구하였다. **Shah, Udwadia(15), Udwadia, Garba(16)** 은 **구조물 변수 식별** 을 목적으로 하는 최적의 센서 위치 선정 방법에 대해 연구하였으며, 이분야는 상대적으로 연구 결과가 많지 않다."
   ]
  },
  {
   "cell_type": "markdown",
   "metadata": {},
   "source": [
    "본 논문은 LSS의 **유한요소모델(FEM) 검증**을 목적으로 하는 최적의 센서 배치 방법에 대해 기술한다. 이 중요한 문제에 대해 기술하고 있는 논문은 아직 발견되지 못했다. 궤도 상의 진동 시험에서 취득한 데이터는 독립적인 모드 형상과 모드 주파수를 생산할 수 있어야 하며, FEM 모드 변수들과 비교될 수 있도록 센서가 배치되어야 한다. 그리고 FEM은 실제 구조물을 정확히 모사하도록 수정된다. 그러면 이 FEM은 구조 동해석 및 제어 시스템 모사에 사용될 수 있게 된다."
   ]
  },
  {
   "cell_type": "markdown",
   "metadata": {},
   "source": [
    "문헌에서 확인되는 대부분의 방법들과 달리, 본 논무에서 기술할 방법은 계산량이 많은 탐색 기술을 사용하지 않는다. 사전 FEM을 기반으로 목표 모드 세트들을 선택하여 시스템 식별을 하게 된다. 목표 모드 세트들은 가진기에 의한 모든 강진모드들을 포함한다고 가정한다. 또한 초기 센서 위치 후보 세트들을 선택한다. 이 후보 위치들은 FEM 목표 모드에 대한 선형 독립성에 기여하는 정도에 따라 순위를 매긴다. 목표 모드 선형 동립성에 기여하지 않는 위치들은 후보 세트에서 제거된다. 반복과정을 거쳐, 초기 센서 위치 후보들은 이용 가능한 센서 수로 빠르게 감소한다. 따라서 이 방법은 목표 모드들이 독립적일 수 있는 센서 위치의 개수를 결정하는 문제를 만든다. 반복 방법의 특성 때문에 최종 센서 위치는 완전한 최적의 위치는 아니다. 하지만 최종 결과는 실제 최적 결과와 근접하게 된다. "
   ]
  },
  {
   "cell_type": "markdown",
   "metadata": {},
   "source": [
    "본 논문은 이제 그 방법 및 관련된 이론을 설명할 것이다. LSS 센서배치 적용에 대한 수치 예시 또한 소개할 것이다."
   ]
  },
  {
   "cell_type": "markdown",
   "metadata": {},
   "source": [
    "## Therotical Formulation"
   ]
  },
  {
   "cell_type": "markdown",
   "metadata": {},
   "source": [
    "본 장은 목표 모드들의 식별 및 상호작용을 찾기 위한 최적의 센서 위치를 결정하는 방법을 소개한다. 우선 센서 위치의 후보를 선택한다. 이 후보들은 모든 중요한 모드들을 포함하도록 충분히 많아야 한다. 대략 500개 정도의 위치가 선택될 것이다. 하지만 500개의 센서를 구조물에 부착하는 것은 불가능 하다. 따라서 초기의 후보 위치들은 최적화 방법을 통해 줄여나가야 한다."
   ]
  },
  {
   "cell_type": "markdown",
   "metadata": {},
   "source": [
    "이를 위해 후보 위치들은 모드의 동적 에너지 분포(modal kinetic energy distribution, MKED)를 기반으로 선택되며, MKED는 각 목표 모드 형상에 기여하는 FEM의 자유도를 측정한다. 이 분포는 다음의 관계를 통해 계산된다. "
   ]
  },
  {
   "cell_type": "markdown",
   "metadata": {},
   "source": [
    "$$ KE_{in}=\\Phi_{in}\\sum_{j}M_{ij}\\Phi_{jn} \\tag{1}$$"
   ]
  },
  {
   "cell_type": "markdown",
   "metadata": {},
   "source": [
    "$KE_{in}$ : n번째 목표 모드에서 i번째 자유도와 관련된 동에너지\n",
    "\n",
    "$\\Phi_{in}$ : n번째 모드에서의 i번째 계수\n",
    "\n",
    "$M_{ij}$ : FEM 질랴 행렬의 i번째 행, j번째 열의 값\n",
    "\n",
    "$\\Phi_{jn}$ : n번째 모드에서 j번째 계수"
   ]
  },
  {
   "cell_type": "markdown",
   "metadata": {},
   "source": [
    "$KE_{in}$이 모든 자유도에 대하여 더해지고, 대상 모드가 질량에 대해 정규화 되었다면, $KE_{in}$의 총 합은 1이 된다. 센서 위치의 후보는 각 목표 모드들에 대하여 충분히 큰 $KE$를 가져야 한다. 각 후보들 중에서 얼마나 큰 $KE$를 가져야 하는지는 아직 연구되지 않았다. 아마도 40~50%면 충분할 것으로 판단된다."
   ]
  },
  {
   "cell_type": "markdown",
   "metadata": {},
   "source": [
    "실험과 해석 사이의 상호 관계를 확인하기 위해 선형적으로 독립적인 모드를 잘 모사하는 센서 위치에서의 측정값을 취득해야 한다. 만약 시험의 모드형상이 공간적으로 독립적이지 않으면, 직교성을 사용한 모드형상 상호관계를 계산할 수 없다. 공간적인 독립성은 임의의 시간에서 센서 출력이 다음과 같이 주어진 경우,"
   ]
  },
  {
   "cell_type": "markdown",
   "metadata": {},
   "source": [
    "$$ u_s=\\Phi_sq \\tag{2}$$"
   ]
  },
  {
   "cell_type": "markdown",
   "metadata": {},
   "source": [
    "센서가 목표상태를 다음과 같이 계산할 수 있음을 의미한다."
   ]
  },
  {
   "cell_type": "markdown",
   "metadata": {},
   "source": [
    "$$ \\hat{q}=[\\Phi_s^T\\Phi_s]^{-1}\\Phi_s^Tu_s \\tag{3}$$"
   ]
  },
  {
   "cell_type": "markdown",
   "metadata": {},
   "source": [
    "$u_s$ : 센서 출력\n",
    "\n",
    "$\\Phi_s$ : 센서 위치를 통해 산출된 목표 모드 행렬\n",
    "\n",
    "$q$ : 목표 모드좌표계 벡터"
   ]
  },
  {
   "cell_type": "markdown",
   "metadata": {},
   "source": [
    "*참고 : 두 벡터가 선형적으로 독립(linearly dependent)이라는 의미는 두 벡터가 서로 평행하지 않다는 것이다. 즉, 두 벡터의 교점을 통해 한개의 해를 구할 수 있다는 의미이다."
   ]
  },
  {
   "cell_type": "markdown",
   "metadata": {},
   "source": [
    "따라서 목표 모드는 관측 가능해야 할 뿐만 아니라 식별도 가능해야 한다. 초기 센서위치 후보는 목표 모드 행렬을 선형적으로 독립적으로 나타낸다고 가정한다."
   ]
  },
  {
   "cell_type": "markdown",
   "metadata": {},
   "source": [
    "만약 센서 위치 후보가 $s$개의 위치이고, 이용 가능한 개수가 $m<s$라면, 본 논문은 $m$개의 센서를 가능한 많은 독립적인 정보를 제공하도록 위치시키는 최적의 추정 위치를 결정하는 방법을 제시하는 것이 된다. 최적의 추정 위치는 추정한 오차의 공분산 행렬이 최소가 됨을 의미한다. (!6)의 연구내용에 따라 식(2)를 변경하여 다음과 같이 쓸 수 있다."
   ]
  },
  {
   "cell_type": "markdown",
   "metadata": {},
   "source": [
    "$$u_s=H(q)+N=\\Phi_sq+N \\tag{4} $$"
   ]
  },
  {
   "cell_type": "markdown",
   "metadata": {},
   "source": [
    "$H$ : process measurements\n",
    "\n",
    "$N$ : stationary Gaussian white noise variance $\\psi_o^2$"
   ]
  },
  {
   "cell_type": "markdown",
   "metadata": {},
   "source": [
    "Bias를 최소화 하는 추정을 위한 추정 오차의 공분산 행렬은 다음과 같다."
   ]
  },
  {
   "cell_type": "markdown",
   "metadata": {},
   "source": [
    "$$P=E[(q-\\hat{q})(q-\\hat{q})^T]=\\left[ \\left(\\frac{\\partial H}{\\partial q} \\right)^T [\\psi_o^2]^{-1} \\left(\\frac{\\partial H}{\\partial q} \\right) \\right]^{-1} \\tag{5} $$"
   ]
  },
  {
   "cell_type": "markdown",
   "metadata": {},
   "source": [
    "$E$는 예상 값(평균)을 의미한다."
   ]
  },
  {
   "cell_type": "markdown",
   "metadata": {},
   "source": [
    "센서는 변위를 측정한다고 가정하였지만, 속도나 가속도 측정의 경우에도 유사한 결과가 된다. 따라서 $H(q)=\\Phi_s q$일 경우, 공분산 행렬은 다음과 같다."
   ]
  },
  {
   "cell_type": "markdown",
   "metadata": {},
   "source": [
    "$$P=[\\Phi_s^T(\\psi_o^2)^{-1}\\Psi_s]^{-1}=Q^{-1} \\tag{6} $$"
   ]
  },
  {
   "cell_type": "markdown",
   "metadata": {},
   "source": [
    "$Q$ : Fisher information matrix (FIM)"
   ]
  },
  {
   "cell_type": "markdown",
   "metadata": {},
   "source": [
    "Q를 최대화 하면 공분산 행렬을 최소화 하는 것과 같은 결과이며, 이는 최적의 상태 추정치 $\\hat{q}$를 얻게 된다. 해석을 단순화 하기 위해 측정 잡음은 uncorrelated이고 각 센서의 독립적인 통계적 특성을 갖는다고 가정하였다. FIM은 다음과 같이 표현 가능하다."
   ]
  },
  {
   "cell_type": "markdown",
   "metadata": {},
   "source": [
    "$$ Q=\\frac{1}{\\psi_o^2}\\Phi_s^T\\Phi_s=\\frac{1}{\\psi_o}A_o \\tag{7}$$"
   ]
  },
  {
   "cell_type": "markdown",
   "metadata": {},
   "source": [
    "따라서 $P$를 치소와 하기 위해서는 $A_o$의 적절한 norm을 최대화 해야 한다. 참조문서 4와 16은 trace norm이 가장 유용하고 물리적으로 의미있는 행렬 norm이라고 제안하고 있다. 참조문서 21의 추론3에 따르면, 모든 선형 unbiased 추정결과는 FIM의 determinant가 최대가 된다. 지금 부터는 $A_o$를 FIM으로 기술하겠다."
   ]
  },
  {
   "cell_type": "markdown",
   "metadata": {},
   "source": [
    "각 자유도에 기여하는 정도로 $A_o$를 표현하면 다음과 같다."
   ]
  },
  {
   "cell_type": "markdown",
   "metadata": {},
   "source": [
    "$$ A_o=\\sum_{i=1}^{s} \\Phi_s^{iT}\\Phi_s^{i}=\\sum_{i=1}^{s}A^i \\tag{8}$$"
   ]
  },
  {
   "cell_type": "markdown",
   "metadata": {},
   "source": [
    "$\\Phi_s^i$ : i번째 자유도(즉 센서 위치)에 해당하는 모드 $\\Phi_s$의 i번째 열"
   ]
  },
  {
   "cell_type": "markdown",
   "metadata": {},
   "source": [
    "식(8)은 후보 세트에서 각 자유도가 추가되거나 제거될 수 있음을 보여주며, 이는 FIM에서 정보가 추가되거나 제거됨을 의미한다. 후보 센서 세트에서 자유도의 수는 목표 모드에 크게 기여하지 않는 센서의 위치들을 제거하여 줄여나갈 수 있다. 불필요한 정보들은 제거될 수 있다."
   ]
  },
  {
   "cell_type": "markdown",
   "metadata": {},
   "source": [
    "해석은 고유값 방정식을 풀면서 시작한다."
   ]
  },
  {
   "cell_type": "markdown",
   "metadata": {},
   "source": [
    "$$ [A_o-\\lambda I]\\psi=0 \\tag{9}$$"
   ]
  },
  {
   "cell_type": "markdown",
   "metadata": {},
   "source": [
    "초기 후보 세트의 경우 목표 모드에 해당하는 $Phi_s$의 k 열들은 선형적으로 독립이라고 가정한다. 따라서 $k \\times k$ 행렬 $A_o$는 positive definite이면서 symmetric이다. 이러한 조건이면 $A_o$의 고유값(eigenvalue)들은 양의 실수이고, 고유벡터(eigenvector)들은 다음의 관계를 만족하는 orthonomal이 된다. "
   ]
  },
  {
   "cell_type": "markdown",
   "metadata": {},
   "source": [
    "$$\\psi^T A_o \\psi=\\lambda \\;\\;\\;\\; and \\;\\;\\;\\; \\psi^T\\psi = I \\tag{10}$$"
   ]
  }
 ],
 "metadata": {
  "kernelspec": {
   "display_name": "Python 3",
   "language": "python",
   "name": "python3"
  },
  "language_info": {
   "codemirror_mode": {
    "name": "ipython",
    "version": 3
   },
   "file_extension": ".py",
   "mimetype": "text/x-python",
   "name": "python",
   "nbconvert_exporter": "python",
   "pygments_lexer": "ipython3",
   "version": "3.7.6"
  }
 },
 "nbformat": 4,
 "nbformat_minor": 4
}
