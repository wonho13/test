{
 "cells": [
  {
   "cell_type": "markdown",
   "metadata": {},
   "source": [
    "## Sensor placement on Canton Tower for health monitoring using asynchronous-climb monkey algorithm"
   ]
  },
  {
   "cell_type": "markdown",
   "metadata": {},
   "source": [
    "### 1. Introduction"
   ]
  },
  {
   "cell_type": "markdown",
   "metadata": {},
   "source": [
    "최근 대형 구조물의 안전성 진단을 위한 측정 및 정보교환 기술에 대한 연구가 진행되고 있다[1]. SHM(Structural Health Monitoring) 시스템은 응력, 가속도, 변위 등의 구조물의 상태를 실시간으로 측정하여 진단 및 유지보수 필요성을 예측하므로써 운영 비용을 감소시켜준다[2]. SHM 시스템의 효율은 구조물의 변화에 대한 측정 데이터의 민감도에 따라 결정되며, 구조물의 변화는 궂물에 설치된 센서 네트워크로 부터 얻을 수 있다. 일반적으로 구조물에 많은 센서가 부착되어 있을 수록 구조물에 대한 더 많은 정보를 얻을 수 있다. 하지만 비용, 무게, 접근성 등의 문제로 인해 센서의 수는 제한될 수밖에 없다. 따라서 최소한의 비용으로 구조물의 중요한 응답을 얻기 위해 엔지니어는 최적의 센서위치 및 센서의 개수를 결정해야 한다."
   ]
  },
  {
   "cell_type": "markdown",
   "metadata": {},
   "source": [
    "단순한 형상 또는 자유도의 수가 작은 구조물의 경우, 엔지니어의 경험 및 가진 및 구조물 진동의 대한 정보만으로도 이러한 문제를 해결할 수 있다. 하지만 크고 복잡한 구조물의 경우 그 구조물의 유한요소모델은 만개 이상의 자유도를 가질 것이며, 경험적인 방법으로 센서의 위치를 결정하는 것은 쉽지 않다[3]. 또한 가능한 센서위치 후보가 많아지면 이를 다루는 것이 불가능할 수도 있다. 이러한 문제를 해결하기 위한 효율적이고 시스템적인 방법이 필요하다. 일반적인 경사기반의 최적화 방법은 여러개의 국부 최적점 문제를 해결하지 못하여 전체최적점을 추정하지 못한다. 따라서 복잡한 OSP를 수행하기 위해서는 더 개선된 최적화 방법을 적용해야 한다. GA(Genetic Algorithm)는 가장 널리 사용되는 방법이다. Worden과 Burrows[4]는 구조 시험을 통해 OSP를 결정하는데 있어 GA를 적용하였다. Yao 외[5]는 FIM(Fisher Information Matrix)의 determinant를 목적함수로 사용하여 GA가 효율적인고 독립적인 방법임을 보였다. GA의 한가지 단점은 많은 시간이 소요된다는 것이다. 이러한 단점을 해결하기 위한 시도들이 있었다. Javadi 외[6]는 신경망과 GA를 조합한 방법을 제시하였다. Hwawng과 He[7]는 해의 정확도와 수렴 속도를 개선하기 위해 SA(Simulated Anealing) 및 적응메커니즘을 사용하였다. GGA(Generalized Genetic Algorithm)[8], EGA(Elite Genetic Algorithm)[9]와 같은 개선된 GA들도 제안되었다. Yi 외[10]는 고층 빌딩의 모드식별 문제에서의 앞서 제안된 다양한 GA들의 성능을 비교하였다. OSP를 해결하는데 있어 GA의 또다른 단점은 GA 수행 시 chromosome을 생성하게 되는데, 이 과정에서 구속조건을 만족 못하는 경우가 발생한다는 것이다. 이러한 문제를 해결하기 위해 하중 돌연변이[11], 필터 연산자[12], PMX(Partially Matched Crossover)[13]와 같은 genetic operator들이 제안되었다. GA 뿐 아니라 다른 개선된 알고리즘들도 성공적인 적용 사례들을 보여주고 있다. 예를들어 Ngatchous 외[14]는 sequential-PSO라고 하는 변형된 PSO(Particle Swam Optimization)을 제안했고 계산 시간 및 수렴 성능이 개선됨을 보였다. Wang 외[15]는 센서 네트워크의 에너지 효율 수렴을 위해 분포된 PSO와 SA를 제안하였다. Zhang과 Vachtsevanos[16]은 heuristic 탐색 알고리즘과 PSO 알고리즘을 조합하여 시스템의 고장, 센서의 정확성, 센서의 수 및 위치를 결정하는 방법을 제안하였다. Rao와 Anandakumar[17]은 self-configurable PSO와 Nelder-Mead 알고리즘을 조합한 hybrid PSO를 사용하여 구조물의 시스템 식별 및 건전성 감시에서 센서의 위치 및 최적의 수량을 결정하였다. Gou와 Cui[18]은 GA와 SA를 기반으로 단순 보에 대하여 센서와 엑추에이터의 배치의 전체 에너지를 최소화 하는 수학적 모델을 개발했다. 이외에 수많은 훌륭한 알고리즘이 제안되고 있다."
   ]
  },
  {
   "cell_type": "markdown",
   "metadata": {},
   "source": [
    "앞서 언급한 대부분의 방법들은 유한한 개수의 센서를 배치하는데 적용된다. 구조물이 복잡할 수록 가능한 센서 위치의 후보가 많아지며 최적의 배치를 찾는것이 더 어려워 진다. 이는 최적화 문제의 차원이 증가하는 것으로 볼 수 있으며, 최적화 문제의 차원이 증가함에 따라 계싼량이 증가하게 된다. 본 논문에서는 OSP문제에서 짧은 계산시간과 높은 수렴성을 보이는 AMA(asynchronous-climb monkey algorithm)이라는 방법을 제안하며, 중국에서 가장 높은 빌딩인 TV 타워에 이를 적용해본다. 본 논문의 나머지 부분은 다음과 같이 구성된다. 2장에서는 MA에 대한 기본 개념 및 문제점을 소개한다. 3장에서는 제안한 알고리즘의 수행 방법 및 주요한 특징들에 대해 다룬다. 4장에서는 센서 배치의 최적화 기준에 대해 다루며 5장에서는 Conton 타워의 OSP를 제안한 방법으로 수행해본다. 마지막으로 6장에서 결론을 기술한다. "
   ]
  },
  {
   "cell_type": "markdown",
   "metadata": {},
   "source": [
    "### 2. Introduction to the monkey algorithm"
   ]
  },
  {
   "cell_type": "markdown",
   "metadata": {},
   "source": [
    "#### 2.1 Basic concepts"
   ]
  },
  {
   "cell_type": "markdown",
   "metadata": {},
   "source": [
    "MA는 Zhao와 Tang[19]가 개발하였으며, 군집기반 알고리즘이다. MA는 원숭이들이 산을 등반하는 과정에서 영감을 얻었다. MA는 등반과정, 관측-뛰기 과정, 재주넘기 과정으로 구성된다. 등반과정은 국부 최적점을 찾는데 적용되며, 관측-뛰기 과정은 원숭이들의 탐색 경로를 가속화 하기위하여 현재 해보다 더큰 목적함수 값을 갖는 위치를 찾도록 한다. 그리고 재주넘기 과정은 원숭이들이 다른 탐색 도메인으로 빠르게 이동하도록 한다. 다른 군집기반 알고리즘과 유사하게 MA는 비선형, 미분불가능, 고차원 등과 같이 다양한 어려운 최적화 문제를 비교적 빠른 수렴속도로 해결한다. MA의 또다른 장점은 결정해야 하는 변수가 적다는 것이며 이는 MA가 사용하기 쉽다는 것을 의미한다."
   ]
  },
  {
   "cell_type": "markdown",
   "metadata": {},
   "source": [
    "#### 2.2 Existing problems"
   ]
  },
  {
   "cell_type": "markdown",
   "metadata": {},
   "source": [
    "MA가 여러 장점들이 있지만 OSP에 항상 잘 적용되는 것은 아니다. OSP 문제에서 MA를 잘 사용하기 위해서는 기존의 문제점들을 고려해봐야 한다.\n",
    "\n",
    "(1) OSP는 단일 목적함수를 갖는 이산 변수 문제이며, 이산변수는 좌표공간 또는 (구속된 자유도를 제외한)자유도 수가 될 수 있다. 하지만 MA는 원래 연속 변수 최적화 문제를 풀기위해 설계되었다. 따라서 최적화 변수를 적절히 encoding 할 필요가 있다.\n",
    "\n",
    "(2) 기존 MA에서 원숭이들 사이에서는 소통과정이 없다. 사실 원숭이들은 더 가치있는 지식을 갖는 이웃의 정보를 탐색해야 한다. 이러한 과정은 원숭이들이 더 좋은 위치로 이동하도록 할 것이다. 반면 각 원숭이들은 더 안좋은 이웃의 지식을 사용해야 한다. 이는 원숭이들을 탐색 방향 밖으로 밀어내어 탐색공간을 확장하게 될 것이다.\n",
    "\n",
    "(3) 실제 원숭이들은 각 원숭이 세대에서 경쟁을 통해 원숭이 왕이 선출되며, 이 원숭이 왕은 가장 높은 지위를 갖는다. 원숭이 왕의 최적의 위치는 지금까지 세대 중 가장 좋은 정보를 제공해줄 수 있다. 하지만 기존의 MA는 이를 고려하지 않았다."
   ]
  },
  {
   "cell_type": "markdown",
   "metadata": {},
   "source": [
    "앞서 언급한 문제들로 인해 MA의 계산량이 증가하여 계산이 불가능한 경우도 발생한다. 적절한 형상과 적절한 센서 수의 경우 오랜 시간 후에는 최적의 해로 수렴하게 된다. 하지만 큰 형상의 경우 계산시간이 너무 많이 걸려 OSP에 MA를 적요하는데 어려움이 발생하게 된다."
   ]
  },
  {
   "cell_type": "markdown",
   "metadata": {},
   "source": [
    "### 3. Asynchronous-climb monkey algorithm for sensor placement"
   ]
  },
  {
   "cell_type": "markdown",
   "metadata": {},
   "source": [
    "기존의 문제점들을 고려하여 기존의 MA를 개선하였으며, PSO 기반의 asynchronous-climb 과정을 제안하고자 한다. 이는 계산시간 및 수렴성이 개선되며 센서위치의 후보가 많은 문제에 적용 가능하다. 그림1은 제안한 AMA의 개념도를 보여준다."
   ]
  },
  {
   "cell_type": "markdown",
   "metadata": {},
   "source": [
    "#### 3.1 Coding method and initialization "
   ]
  },
  {
   "cell_type": "markdown",
   "metadata": {},
   "source": [
    "앞서 언급한대로 OSP 문제에 MA를 적요하는데 있어 최소와 해야 하는 변수들과 원숭이들의 위치를 연결하는 것이 가장 어려운 문제 중 하나이다. OSP 문제의 특성을 고려하여, 2중 구조물 코딩 방법을 사용해 AMA의 설계변수를 설정하였다. $(x,c)$를 각 원숭이의 가능한 해라고 하자. $x$는 AMA 내의 위치벡터, $c$ 센서의 위치를 나타내는 2진 벡터를 의미한다. 따라서 2중구조 코딩 방법을 사용한 방법 및 초기화 절차는 다음과 같이 기술될 수 있다. "
   ]
  },
  {
   "cell_type": "markdown",
   "metadata": {},
   "source": [
    "Step (1) : $f$개의 센서 위치 후보가 있다고 하자(예를들면 유한요소모델의 전체 자유도 수). $1 \\sim f$의 $f$개 정수를 얻을 수 있다.\n",
    "\n",
    "Step (2) : 원숭이 세대 내의 $i$번째 원숭이에 대하여, 제안한 최적화 문제의 해는 $xc_i=(x_i,c_i)={(x_{i,1},c_{i,1}),(x_{i,2},c_{i,2}),\\dots,(x_{i,f},c_{i,f})}$로 표현할 수 있다. $x_i$는 구간 $[down,up]$에서 무작위로 선택된 실수이며, $down=-5$, $up=5$이다. $c_i$는 2진 벡터이며 다음의 식을 통해 얻는다. "
   ]
  },
  {
   "cell_type": "markdown",
   "metadata": {},
   "source": [
    "$$sig(x_i)=\\frac{1}{1+e^{-x_i}} \\tag{1}$$"
   ]
  },
  {
   "cell_type": "markdown",
   "metadata": {},
   "source": [
    "식(1)을 사용할 때 판단기준 $\\epsilon$을 먼저 정의해야 된다. 즉, 만약 $sig(x_{i,j}) \\leq \\epsilon$이면, $c_{i,j}=0$(즉, 이 자유도에는 센서가 위치하지 않음)이며, 만약 $sig(x_{i,j}) > \\epsilon$이면, $c_{i,j}=1$(즉, 이 자유도에는 센서가 위치함)이다. 본 논문에서 $\\epsilon$은 $0.5$로 설정하였다. 따라서 $x_i$의 각 성분을 구간$[-5,5]$에서 임의로 결정할 때 $0.0067 \\leq sig(s_i) \\leq 0.9933$의 범위를 갖게되며 $sig(0)=0.5$가 되므로 본 논문에서 설정한 $\\epsilon=0.5$는 합리적인 것으로 판단할 수 있다."
   ]
  },
  {
   "cell_type": "markdown",
   "metadata": {},
   "source": [
    "Step (3) : $M$마리의 원숭이들이 생성될 때 까지 Step (1), (2)를 반복한다. $M$은 원숭이 세대의 크기로 정의된다. $c_i$의 전체 센서 수와 초기화 과정 이후의 센서 개수 $n$이 같지 않은 경우를 유의해야 한다. 원숭이 세대에서 모든 가능한 해들이 요건을 만족하도록 하기위해, 이러한 문제가 발생하면 초기 원숭이 세대를 다시 생성해야 한다(즉, Step (2)로 돌아가야 함)."
   ]
  },
  {
   "cell_type": "markdown",
   "metadata": {},
   "source": [
    "(중략)"
   ]
  },
  {
   "cell_type": "markdown",
   "metadata": {},
   "source": [
    "### 4. Objective Function"
   ]
  },
  {
   "cell_type": "markdown",
   "metadata": {},
   "source": [
    "구조물의 동적 거동을 파악하는 다양한 OSP 방법들에 대한 성능을 비교하기 위해, 목적함수를 적절히 선택해야 한다. 목적함수는 MAC(Modal Assurance Criterion)[22]로부터 유도한다. MAC는 식(5)와 같이 정의도며 모드간의 correlation을 의미한다. "
   ]
  },
  {
   "cell_type": "markdown",
   "metadata": {},
   "source": [
    "$$ MAC_{ij}=\\frac{(\\Phi_i^T\\Phi_j)^2}{(\\Phi_i^T\\Phi_i)(\\Phi_j^T\\Phi_j)} \\tag{5}$$"
   ]
  },
  {
   "cell_type": "markdown",
   "metadata": {},
   "source": [
    "$\\Phi_i$와 $\\Phi_j$는 행렬 $\\Phi$의 $i$번째, $j$번째 열의 벡터를 의미한다. 그리고 $T$는 전치행렬를 의미한다."
   ]
  },
  {
   "cell_type": "markdown",
   "metadata": {},
   "source": [
    "식(5)에서 MAC 행렬의 값들은 $0$에서 $1$사이의 값을 가지며, $0$은 off-diagonal 항들 $MAC_{ij}\\;(i\\neq j)$ 사이에 연관이 없음(즉, 모드 벡터가 쉽게 구별 가능함)을 의미하며, $1$은 모드 벡터들 사이에 높은 유사성(즉, 모드 벡터의 구별이 어려움)을 가짐을 의미한다. 최적의 MAC 행렬 형태는 대각행렬이어야 하며, off-diagonal 값들의 크기는 최적화 결과에 대한 표시가 된다. 본 논문에서는 MAC 행렬을 사용하여 2개의 목적함수를 설정한다. "
   ]
  },
  {
   "cell_type": "markdown",
   "metadata": {},
   "source": [
    "첫 번째 목적함수는 MAC 행렬의 모든 off-diagonal 값들 중 최대 값이다."
   ]
  },
  {
   "cell_type": "markdown",
   "metadata": {},
   "source": [
    "$$\\min f_1(x,c) \\tag{6}$$"
   ]
  },
  {
   "cell_type": "markdown",
   "metadata": {},
   "source": [
    "여기서 $f_1(x,c)$는 MAC 행렬의 off-diagonal 값의 최대값 ($\\max_{i\\neq j} \\{MAC_{ij}\\}$)이다."
   ]
  },
  {
   "cell_type": "markdown",
   "metadata": {},
   "source": [
    "두 번째 목적함수는 MAC 행렬의 모든 off-diagonal 값들의 평균 값이다."
   ]
  },
  {
   "cell_type": "markdown",
   "metadata": {},
   "source": [
    "$$ \\min f_2(x,c) \\tag{7}$$"
   ]
  },
  {
   "cell_type": "markdown",
   "metadata": {},
   "source": [
    "여기서 $f_2(x,c)$는 MAC 행렬의 모든 off-diagonal 값의 평균 ($mean_{i\\neq j} \\{MAC_{ij}\\}$)이다."
   ]
  },
  {
   "cell_type": "code",
   "execution_count": null,
   "metadata": {},
   "outputs": [],
   "source": []
  }
 ],
 "metadata": {
  "kernelspec": {
   "display_name": "Python 3",
   "language": "python",
   "name": "python3"
  },
  "language_info": {
   "codemirror_mode": {
    "name": "ipython",
    "version": 3
   },
   "file_extension": ".py",
   "mimetype": "text/x-python",
   "name": "python",
   "nbconvert_exporter": "python",
   "pygments_lexer": "ipython3",
   "version": "3.7.6"
  }
 },
 "nbformat": 4,
 "nbformat_minor": 4
}
