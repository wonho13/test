{
 "cells": [
  {
   "cell_type": "markdown",
   "metadata": {},
   "source": [
    "## Optimal sensor placement for large structures using the nearest neighbour index and a bybrid swarm intelligence algorithm"
   ]
  },
  {
   "cell_type": "markdown",
   "metadata": {},
   "source": [
    "### 1. Introduction"
   ]
  },
  {
   "cell_type": "markdown",
   "metadata": {},
   "source": [
    "구조물의 손상 감지, 구조물 제어, 구조물 건전성 감시, 구조 모델 업데이트 분야에서의 중요성 때문에 동적 측정 데이터를 사용한 구조물의 모드 식별은 지난 수년간 많은 주목을 받고 있다. 특히 모드 변수 식별의 정확도는 측정한 응답 데이터의 정확도와 밀접히 관련되어 있으며 이는 구조물 내의 센서 위치 및 수량과 연관있다. OSP의 기본 개념은 가능한 많은 정보를 얻을 수 있고, 식별한 모드 변수들이 가장 정확해야 하며, 구조 건전성 감시가 강건해야 하고, 감지한 손상 위치가 가장 정확 하도록 센서의 위치 및 수량을 결정하는 것이다."
   ]
  },
  {
   "cell_type": "markdown",
   "metadata": {},
   "source": [
    "Udwadia와 Garba[1]는 동적 구조물의 식별 및 제어를 위한 최적의 센서 배치 방법을 개발하였다. 가장 중요한 OSP 방법은 EfI(Effective Independence) 방법으로, 1991년에 Karmmer가 개발하였다. 이 방법은 목표 모드에 해당하는 FIM의 determinant를 최대화 한다[2]. Carne와 Dohrmann은 MAC 기술을 개발하였다[3]. 이 방법은 초기에 직관적으로 적은 수의 센서를 배치하고 센서를 추가해 가면서 MAC 행렬 값의 off-diagonal 값들을 감소시켜 나간다. Schedlinski와 Link[4]는 최적의 pick-up위치를 찾기 위해 QR 분해 방법을 제시하였다. Hiramoto 외[5]는 active 진동 제어를 위한 OSP를 결정하기 위해 Riccati 식의 해를 사용하였다. Papadimitriou[6,7]는 변수의 불확실성에 대한 정보엔트로피를 기반으로 구조물 식별을 위한 OSP 문제에 대한 공식을 제시하였다. 그외 많은 연구들[8-12]이 구조제어, 건전성 감시, 구조물 모드 식별을 위한 OSP 분야에서 많은 진보를 이루었다. 조밀한 격자를 갖는 큰 구조물의 경우, 후보 절점들의 모드형상의 여분의(redundancy) 정보와 공간 상의 상호관계가 중요하다. 하지만 이들에 대한 연구는 많이 이루어지지 않았다. Stephan[13]은 센서들 중에서 여분의 정보를 제거하기 위해 여분을 측정하는 방법을 제안하였다. 하지만 이 방법은 큰 구조물의 OSP에 적합하지 않다. 왜냐하면 일부의 모드들만 고려하기 때문이다. 우리가 알고 있는한 추가로 연구가 이루어 진 것은 없다."
   ]
  },
  {
   "cell_type": "markdown",
   "metadata": {},
   "source": [
    "유압설계와 같이 큰 구조물의 경우 자유도의 수가 너무 많아 앞서 언급한 최적화 방법들로는 계산에 한계가 있다. 최근 생물학 및 물리학 기반의 조합 최적화 기법이 개발되었다. 이 알고리즘들은 강한 전역 최적화 능력을 가지며, 기존의 알고리즘의 대안으로 특정 최적 배치 문제에 사용될 수 있다. GA는 이러한 알고리즘 중 하나이며 많은 연구가 이루어졌다[14-16]. 하지만 GA역시 개선이 필요하며[17], OSP에서 전역 최적화 성능을 개선할 여지가 여전히 남아있다. 따라서 새로운 지능적 최적화 알고리즘이 최적화 효율을 더 개선시킬 수 있을 것이다[18]."
   ]
  },
  {
   "cell_type": "markdown",
   "metadata": {},
   "source": [
    "본 논문에서는, 하이브리드 군집 지능 알고리즘을 사용한 최적화 방법을 제안하며, 이를 사용하여 큰 구조물의 OSP문제를 해결한다. 본 논문에서 제안하는 방법은 몇가지 새로운 혁신사항이 있다. 첫째로 본 연구에서는 이미 개발된 방법들[1-3]을 사용하여 센서들 간의 공간적 거리를 고려함으로써 정보의 중복(redundancy)을 배제하였다. 본 논문에서는 새로운 적합도함수를 제시하며, 이 함수는 NNI(Nearest Neighbour Index)를 적용하여 FIM에 가중치를 부여하고, 각 센서의 모드 관측성(observability)을 최대화 함과 동시에 선택된 자유도 간의 중복된(redundancy) 정보를 제거한다. 둘째로, OSP의 최적 해를 찾기 위한 지능적 알고리즘을 적용한다. 이는 앞서 설명한 방법들[1-12]의 단점을 극복할 수 있다. 새로운 하이브리드 군집 지능 알고리즘은 지능 알고리즘의 최적화 효율을 개선하며, 센서 수가 고려하는 모드 수보다 적을 경우 극한 값만 얻어지는 기존 OSP 방법의 단점[13]을 제거한다. 마지막으로, 본 논문에서 제안한 방법의 장점에 대해서 설명한다."
   ]
  },
  {
   "cell_type": "markdown",
   "metadata": {},
   "source": [
    "본 논문의 나머지 부분은 다음과 같이 구성된다. 2장은 OSP를 위한 새로운 적응함수를 제안하고 이 함수는 공간적 거리를 고려한다. 3장에서는 CSA(clonal selection algorithm)과 DPSO(Discrete Particle Swarm Optimization)을 조합한 새로운 지능 알고리즘을 소개한다. 제한한 방법을 아치 형태의 댐에 적용해본다. 그리고 그 결과는 4장에서 기술한다. 마지막으로 5장에서는 결론 및 요약을 기술한다."
   ]
  },
  {
   "cell_type": "code",
   "execution_count": null,
   "metadata": {},
   "outputs": [],
   "source": []
  }
 ],
 "metadata": {
  "kernelspec": {
   "display_name": "Python 3",
   "language": "python",
   "name": "python3"
  },
  "language_info": {
   "codemirror_mode": {
    "name": "ipython",
    "version": 3
   },
   "file_extension": ".py",
   "mimetype": "text/x-python",
   "name": "python",
   "nbconvert_exporter": "python",
   "pygments_lexer": "ipython3",
   "version": "3.7.6"
  }
 },
 "nbformat": 4,
 "nbformat_minor": 4
}
