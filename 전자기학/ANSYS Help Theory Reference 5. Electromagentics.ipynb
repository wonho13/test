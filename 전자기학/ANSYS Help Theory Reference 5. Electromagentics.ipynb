{
 "cells": [
  {
   "cell_type": "markdown",
   "metadata": {},
   "source": [
    "# 5장: 전자기학"
   ]
  },
  {
   "cell_type": "markdown",
   "metadata": {},
   "source": [
    "전자기학과 관련된 다음 주제들을 이용 가능합니다:\n",
    "\n",
    "* 전자기장 기초\n",
    "* 전자기학 행렬 유도\n",
    "* 전자기장 평가\n",
    "* 감긴 코일 해석\n",
    "* 인덕턴스, 선속(flux), 에너지 계산\n",
    "* 전자기학 입자 추적\n",
    "* 용량(capacitance) 계산\n",
    "* 전도력(conductance=전기 저항의 역수) 계산\n",
    "* Hall 효과"
   ]
  },
  {
   "cell_type": "markdown",
   "metadata": {},
   "source": [
    "## 5.1 전자기장 기초 (Electromagnetic Field Fundamentals)"
   ]
  },
  {
   "cell_type": "markdown",
   "metadata": {},
   "source": [
    "전자기장은 다음의 맥스웰 방정정식을 따릅니다 (Smythe([150])):"
   ]
  },
  {
   "cell_type": "markdown",
   "metadata": {},
   "source": [
    "$$\\nabla\\times\\{H\\}=\\{J\\}+\\left\\{\\frac{\\partial D}{\\partial t}\\right\\}=\\{J_s\\}+\\{J_e\\}+\\{J_v\\}+\\left\\{\\frac{\\partial{D}}{\\partial{t}}\\right\\} \\tag{5-1}$$"
   ]
  },
  {
   "cell_type": "markdown",
   "metadata": {},
   "source": [
    "$$\\nabla\\times\\{E\\}=-\\left\\{\\frac{\\partial B}{\\partial t} \\right\\} \\tag{5-2}$$"
   ]
  },
  {
   "cell_type": "markdown",
   "metadata": {},
   "source": [
    "$$\\nabla\\cdot\\{B\\}=0\\tag{5-3}$$"
   ]
  },
  {
   "cell_type": "markdown",
   "metadata": {},
   "source": [
    "$$\\nabla\\cdot\\{D\\}=\\rho\\tag{5-4}$$"
   ]
  },
  {
   "cell_type": "markdown",
   "metadata": {},
   "source": [
    "여기서,"
   ]
  },
  {
   "cell_type": "markdown",
   "metadata": {},
   "source": [
    "$\\nabla\\;\\times = $ 회오리(curl) 연산자\n",
    "\n",
    "$\\nabla\\;\\cdot = $ 발산(divergence) 연산자\n",
    "\n",
    "$\\{H\\} = $ 자기장 강도 벡터 (magnetic field intensity vector)\n",
    "\n",
    "$\\{J\\} = $ 전체 전류 밀도 벡터\n",
    "\n",
    "$\\{J_s\\} = $ 인가 전원 전류 밀도 벡터 (applied source current density vector)\n",
    "\n",
    "$\\{J_e\\} = $ 유도 에디 전류 밀도 벡터 (induced eddy current density vector)\n",
    "\n",
    "$\\{J_vs\\} = $ 속도 전류 밀도 벡터 (velocity current density vector)\n",
    "\n",
    "$\\{D\\} = $ 전기 선속 (electric flux) 밀도 벡터 (맥스웰은 이를 변위벡터로 지칭했지만 기계적 변위와의 혼동을 방지하기 위해 여기서는 전기 선속 밀도로 기술 합니다.)\n",
    "\n",
    "$\\{E\\} = $ 전기장 강도 벡터\n",
    "\n",
    "$\\{B\\} = $ 자기장 강도 벡터\n",
    "\n",
    "$t = $ 시간\n",
    "\n",
    "$\\rho = $ 전하밀도"
   ]
  },
  {
   "cell_type": "markdown",
   "metadata": {},
   "source": [
    "연속 방정식은 식 (5-1) 양변에 발산 연산자를 취하면 얻을 수 있습니다."
   ]
  },
  {
   "cell_type": "markdown",
   "metadata": {},
   "source": [
    "$$\\nabla \\cdot\\left[\\{J\\}+\\left\\{\\frac{\\partial D}{\\partial t}\\right\\}\\right]=0\\tag{5-5}$$"
   ]
  },
  {
   "cell_type": "markdown",
   "metadata": {},
   "source": [
    "적절히 세팅된 맥스웰 방정식에 대해 연속 방정식이 성립해야 합니다. 사용자는 이를 고려해 $J_s$를 정해주어야 합니다."
   ]
  },
  {
   "cell_type": "markdown",
   "metadata": {},
   "source": [
    "전자기 재료의 거동을 모사하는 관계식을 사용해 상기 식을 보충할 수 있습니다. 영구자석이 없는 포화 가능한 재료를 고려할 경우, 자기장에 대한 관계식은 다음과 같습니다."
   ]
  },
  {
   "cell_type": "markdown",
   "metadata": {},
   "source": [
    "$$\\{B\\}=[\\mu]\\{H\\}\\tag{5-6}$$"
   ]
  },
  {
   "cell_type": "markdown",
   "metadata": {},
   "source": [
    "여기서,"
   ]
  },
  {
   "cell_type": "markdown",
   "metadata": {},
   "source": [
    "$\\mu =$ 투자율 행렬 (일반적으로 $\\{H\\}$에 대한 함수) "
   ]
  },
  {
   "cell_type": "markdown",
   "metadata": {},
   "source": [
    "투자율 행렬 $[\\mu]$는 온도 또는 장(field)에 대한 함수로 입력 가능합니다. 특히, $[\\mu]$가 온도만의 함수인 경우 다음과 같이 표현 가능합니다."
   ]
  },
  {
   "cell_type": "markdown",
   "metadata": {},
   "source": [
    "$$[\\mu]=\\mu_0 \\begin{bmatrix}\n",
    "\\mu_{rx} && 0 && 0 \\\\\n",
    "0 && \\mu_{ry} && 0 \\\\\n",
    "0 && 0 && \\mu_{rz} \\end{bmatrix} \\tag{5-7}$$"
   ]
  },
  {
   "cell_type": "markdown",
   "metadata": {},
   "source": [
    "여기서,"
   ]
  },
  {
   "cell_type": "markdown",
   "metadata": {},
   "source": [
    "$\\mu_0 =$ 자유공간에서의 투자율 (**EMUNIT** 명령어로 입력됨)\n",
    "\n",
    "$\\mu_{rx} = $ x 방향에 대한 상대 투자율 (**MP** 명령어에서 MURX로 입력됨)"
   ]
  },
  {
   "cell_type": "markdown",
   "metadata": {},
   "source": [
    "만약 $[\\mu]$가 장(field)만의 함수이면 다음과 같이 표현 가능합니다."
   ]
  },
  {
   "cell_type": "markdown",
   "metadata": {},
   "source": [
    "$$[\\mu]=\\mu_h \\begin{bmatrix}\n",
    "1 && 0 && 0 \\\\\n",
    "0 && 1 && 0 \\\\\n",
    "0 && 0 && 1 \\end{bmatrix} \\tag{5-8}$$"
   ]
  },
  {
   "cell_type": "markdown",
   "metadata": {},
   "source": [
    "여기서,"
   ]
  },
  {
   "cell_type": "markdown",
   "metadata": {},
   "source": [
    "$\\mu_h = $ 입력 B-H 커브로부터 산출된 튜자율 (**TB**,BH 명령어로 입력됨)"
   ]
  },
  {
   "cell_type": "markdown",
   "metadata": {},
   "source": [
    "조합된 경우 또한 허용됩니다. 즉,"
   ]
  },
  {
   "cell_type": "markdown",
   "metadata": {},
   "source": [
    "$$[\\mu]=\\begin{bmatrix}\n",
    "\\mu_h && 0 && 0 \\\\\n",
    "0 && \\mu_0\\mu_{ry} && 0 \\\\\n",
    "0 && 0 && \\mu_h \\end{bmatrix} \\tag{5-8}$$"
   ]
  },
  {
   "cell_type": "markdown",
   "metadata": {},
   "source": [
    "영구자석을 고려한다면 관계식은 다음과 같이 표현됩니다."
   ]
  },
  {
   "cell_type": "markdown",
   "metadata": {},
   "source": [
    "$$\\{B\\}=[\\mu]\\{H\\}+\\mu_0\\{M_0\\}\\tag{5-10}$$"
   ]
  },
  {
   "cell_type": "markdown",
   "metadata": {},
   "source": [
    "여기서,"
   ]
  },
  {
   "cell_type": "markdown",
   "metadata": {},
   "source": [
    "$\\{M_0\\} = $ 잔류 자기 고유 자화 벡터 (remanent intrinsic magnetization vector)"
   ]
  },
  {
   "cell_type": "markdown",
   "metadata": {},
   "source": [
    "일반 관계식을 저항성(reluctivity)에 대해 다시 쓰면 다음과 같습니다."
   ]
  },
  {
   "cell_type": "markdown",
   "metadata": {},
   "source": [
    "$$\\{H\\}=[\\nu]\\{B\\}-\\frac{1}{\\nu_0}[\\nu]\\{M_0\\}\\tag{5-11}$$"
   ]
  },
  {
   "cell_type": "markdown",
   "metadata": {},
   "source": [
    "여기서,"
   ]
  },
  {
   "cell_type": "markdown",
   "metadata": {},
   "source": [
    "$[\\nu] = [\\mu]^{-1} =$  저항성 행렬 (reluctivity matrix)\n",
    "\n",
    "$\\nu_0 = \\frac{1}{\\mu_0} = $ 자유 공간의 저항성"
   ]
  },
  {
   "cell_type": "markdown",
   "metadata": {},
   "source": [
    "연관된 전기장에 대한 관계식은 다음과 같습니다."
   ]
  },
  {
   "cell_type": "markdown",
   "metadata": {},
   "source": [
    "$$\\{J\\}=[\\sigma][\\{E\\}+\\{v\\}\\times\\{B\\}]\\tag{5-12}$$"
   ]
  },
  {
   "cell_type": "markdown",
   "metadata": {},
   "source": [
    "$$\\{D\\}=[\\varepsilon]\\{E\\}\\tag{5-13}$$"
   ]
  },
  {
   "cell_type": "markdown",
   "metadata": {},
   "source": [
    "여기서,"
   ]
  },
  {
   "cell_type": "markdown",
   "metadata": {},
   "source": [
    "$[\\sigma]=\\begin{pmatrix}\n",
    "\\sigma_{xx} && 0 && 0 \\\\\n",
    "0 && \\sigma_{yy} && 0 \\\\\n",
    "0 && 0 && \\sigma_{zz} \n",
    "\\end{pmatrix}\n",
    "=$ 전기적 전도성 행렬 (electrical conductivity matrix)\n",
    "\n",
    "$[\\varepsilon]=\\begin{pmatrix}\n",
    "\\varepsilon_{xx} && 0 && 0 \\\\\n",
    "0 && \\varepsilon_{yy} && 0 \\\\\n",
    "0 && 0 && \\varepsilon_{zz} \n",
    "\\end{pmatrix}\n",
    "=$ 투자율 행렬 \n",
    "\n",
    "$\\{v\\}=\\begin{Bmatrix}\n",
    "v_x \\\\ v_y \\\\ v_z\n",
    "\\end{Bmatrix}\n",
    "=$ 속도 벡터\n"
   ]
  },
  {
   "cell_type": "markdown",
   "metadata": {},
   "source": [
    "$\\sigma_{xx}=$ x 방향 전도율 (**MP** 명령어에서 RSVX의 역수로 입력됨)\n",
    "\n",
    "$\\varepsilon_{xx}=$ x 방향 투자율 (**MP** 명령어에서 PERX로 입력됨)"
   ]
  },
  {
   "cell_type": "markdown",
   "metadata": {},
   "source": [
    "보통 자기장 문제의 해는 포텐셜 함수를 사용하여 얻을 수 있습니다. 풀고자 하는 문제에 따라 자기 벡터 포텐셜 또는 자기 스칼라 포텐셜 이렇게 두가지 모텐셜 함수를 사용합니다. 포텐셜을 결정하는데 영향을 미치는 요소들은 장역학(field dynamics), 장차원(field dimensionality), 전류원의 형태(source current configuration), 영역 크기(domain size), 이산화(discretization)이 있습니다."
   ]
  },
  {
   "cell_type": "markdown",
   "metadata": {},
   "source": [
    "적용 가능한 영역은 아래 그림과 같습니다. 이들은 아래애서 설명할 각 해석 절차에서 언급될 것입니다."
   ]
  },
  {
   "cell_type": "markdown",
   "metadata": {},
   "source": [
    "**그림 5.1 전자기장 영역**"
   ]
  },
  {
   "cell_type": "markdown",
   "metadata": {},
   "source": [
    "<img src='fig5.1.png' style=\"width:500px;float:left\">"
   ]
  },
  {
   "cell_type": "markdown",
   "metadata": {},
   "source": [
    "$\\Omega_0 = $ 자유 공간 영역\n",
    "\n",
    "$\\Omega_1 = $ 자기장투과는 가능(permeable)하지만 전류는 흐르지 못하는(non-conducting) 영역\n",
    "\n",
    "$\\Omega_2 = $ 전류가 흐르는(conducting) 영역\n",
    "\n",
    "$\\mu = $ 철의 투자율\n",
    "\n",
    "$\\mu_0 = $ 공기의 투자율\n",
    "\n",
    "$M_0 = $ 영구자석\n",
    "\n",
    "$S_1 = $ W1의 경계\n",
    "\n",
    "$\\sigma = $ 전도율 (conductivity)\n",
    "\n",
    "$\\Omega=\\Omega_1+\\Omega_2+\\Omega_0$"
   ]
  },
  {
   "cell_type": "markdown",
   "metadata": {},
   "source": [
    "### 5.1.1 자기 스칼라 포텐셜"
   ]
  },
  {
   "cell_type": "markdown",
   "metadata": {},
   "source": [
    "이 장에서는 3차원 정자기장(magnetostatic field)에 대하여 **SOLID5, SOLID96, SOLID98**에 구현된 스칼라 포텐셜 방법에 대해 설명합니다. 정자기장(magnetostatic field)은 시간에 따라 변하는 효과가 무시됨을 의미합니다. 이러한 조건에서 자기장에 대한 맥스웰 방정식은 다음과 같이 간소화 됩니다."
   ]
  },
  {
   "cell_type": "markdown",
   "metadata": {},
   "source": [
    "$$\\nabla \\times\\{H\\}=\\{J_s\\} \\tag{5-14}$$"
   ]
  },
  {
   "cell_type": "markdown",
   "metadata": {},
   "source": [
    "$$\\nabla\\cdot\\{B\\}=0 \\tag{5-15}$$"
   ]
  },
  {
   "cell_type": "markdown",
   "metadata": {},
   "source": [
    "### 5.1.2 해를 구하는 전략"
   ]
  },
  {
   "cell_type": "markdown",
   "metadata": {},
   "source": []
  }
 ],
 "metadata": {
  "kernelspec": {
   "display_name": "Python 3",
   "language": "python",
   "name": "python3"
  },
  "language_info": {
   "codemirror_mode": {
    "name": "ipython",
    "version": 3
   },
   "file_extension": ".py",
   "mimetype": "text/x-python",
   "name": "python",
   "nbconvert_exporter": "python",
   "pygments_lexer": "ipython3",
   "version": "3.7.6"
  }
 },
 "nbformat": 4,
 "nbformat_minor": 4
}
