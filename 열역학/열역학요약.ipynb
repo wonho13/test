{
 "cells": [
  {
   "cell_type": "markdown",
   "metadata": {},
   "source": [
    "# 1. 열역학의 기본 개념"
   ]
  },
  {
   "cell_type": "markdown",
   "metadata": {},
   "source": [
    "이 장에서는 열역학의 기본 개념을 소개하고 논의하였다. **열역학**은 주로 에너지를 다루는 학문이다. **열역학 제1법칙**은 단순히 에너지보존법칙의 표현이며, 에너지가 열역학적 상태량이라는 것을 나타낸다. **열역학 제2법칙**은 에너지가 양뿐만 아니라 질을 가지고 있으며, 실제과정은 에너지의 질이 저하되는 방향으로 일어난다는 것을 나타낸다."
   ]
  },
  {
   "cell_type": "markdown",
   "metadata": {},
   "source": [
    "질량이 일정한 계를 **밀폐계** 또는 **검사질량**이라고 하며, 그 경계를 통하여 질량 전달이 가능한 계를 **개방계** 또는 **검사체적**이라고 한다. 계의 질량에 따라 달라지는 상태량을 **종량적 상태량**이라고 하며, 그렇지 않은 상태량을 **강성적 상태량**이라고 한다. **밀도**는 단위 체적당 질량이며, **비 체적**은 단위 질량당 체적이다."
   ]
  },
  {
   "cell_type": "markdown",
   "metadata": {},
   "source": [
    "계가 열적 평형, 역학적 평형, 상 평형 및 화학적 평형을 유지하면, 계는 **열역학적 평형**에 있다고 말할 수 있다. 한 상태로 부터 다른 상태로의 변화를 **과정**이라고 한다. 처음과 동일한 최종상태를 갖는 과정을 **사이클**이라고 한다. **준정적과정**이나 **준평형과정** 동안에 계는 실질적으로 항상 평형상태를 유지한다. **단순 압축성 계의 상태**는 두 개의 독립적인 강성적 상태량에 의해 완전하게 명시할 수 있다."
   ]
  },
  {
   "cell_type": "markdown",
   "metadata": {},
   "source": [
    "**열역학 제0법칙**은 두 물체가 접촉하고 있지 않다 하더라도 온도가 같으면 두 물체는 열적 평형에 있다는 것을 의미한다."
   ]
  },
  {
   "cell_type": "markdown",
   "metadata": {},
   "source": [
    "오늘날, 국제단위계(SI)와 영국단위계에서 사용되는 온도 눈금은 각각 섭씨(Celcius)눈금과 화씨(Fahrenheit)눈금이다. 절대온도와 이들의 관계는 다음과 같다."
   ]
  },
  {
   "cell_type": "markdown",
   "metadata": {},
   "source": [
    "$$ T(K)=T(^\\circ C) + 273.15 $$"
   ]
  },
  {
   "cell_type": "markdown",
   "metadata": {},
   "source": [
    "$$ T(R)=T(^\\circ F) + 459.67 $$"
   ]
  },
  {
   "cell_type": "markdown",
   "metadata": {},
   "source": [
    "$1K$와 $1^\\circ C$의 눈금의 크기는 동일하고, $1R$과 $1^\\circ F$의 눈금의 크기도 같다. "
   ]
  },
  {
   "cell_type": "markdown",
   "metadata": {},
   "source": [
    "$$\\Delta T(K)=\\Delta T(^\\circ C) \\;\\; and \\;\\; \\Delta T(R)=\\Delta T(^\\circ F)$$"
   ]
  },
  {
   "cell_type": "markdown",
   "metadata": {},
   "source": [
    "단위 면적당 힘을 **압력**이라고 하며, 그 단위는 pascal (1 Pa = 1N/m^2)이다. 절대진공에 대한 압력을 **절대압력**이라고 하고, 절대압력과 대기압과의 차를 **계기압력**이라고 한다. 또한 대기압보다 낮은 압력을 **진공압력**이라고 한다. 절대압력, 계기압력 및 진공 압력 사이의 관계는 다음과 같다."
   ]
  },
  {
   "cell_type": "markdown",
   "metadata": {},
   "source": [
    "$$P_{gage}=P_{abs}-P_{atm} \\;\\;\\;\\; (P_{atm}\\; 보다\\; 높은\\; 압력일\\; 때)$$"
   ]
  },
  {
   "cell_type": "markdown",
   "metadata": {},
   "source": [
    "$$P_{vac}=P_{atm}-P_{abs} \\;\\;\\;\\; (P_{atm}\\; 보다\\; 낮은\\; 압력일\\; 때)$$"
   ]
  },
  {
   "cell_type": "markdown",
   "metadata": {},
   "source": [
    "유체 내의 한 점에서의 압력은 모든 방향에서 동일하다. 고도의 변화에 따른 압력의 변화는 다음과 같이 주어진다."
   ]
  },
  {
   "cell_type": "markdown",
   "metadata": {},
   "source": [
    "$$\\frac{dP}{dz}=-\\rho g$$"
   ]
  },
  {
   "cell_type": "markdown",
   "metadata": {},
   "source": [
    "여기서 z의 양의 방향은 위 방향이다. 유체의 밀도가 일정할 때, 유체 층의 두께 $\\Delta z$에 따른 압력차는 다음과 같다."
   ]
  },
  {
   "cell_type": "markdown",
   "metadata": {},
   "source": [
    "$$\\Delta P=P_2-P_1=\\rho g \\Delta z$$"
   ]
  },
  {
   "cell_type": "markdown",
   "metadata": {},
   "source": [
    "자유표면은 대기에 노출되어있고, 자유표면으로부터 깊이가 $h$인 유체 내의 절대압력 및 계기압력은 다음과 같다."
   ]
  },
  {
   "cell_type": "markdown",
   "metadata": {},
   "source": [
    "$$P=P_{atm}+\\rho g h \\;\\; or \\;\\; P_{gage}=\\rho g h$$"
   ]
  },
  {
   "cell_type": "markdown",
   "metadata": {},
   "source": [
    "작거나 중간 정도의 압력차는 **액주식 압력계**로 측정된다. 수평 방향으로 유체 내에서 압력은 일정하다. **파스칼의 정리**는 제한된 유체로 가해진 압력은 모든 방향으로 동일한 크기만큼 압력을 증가시킨다는 것이다. 대기압은 **기압계**로 측정되며 다음과 같이 주어진다."
   ]
  },
  {
   "cell_type": "markdown",
   "metadata": {},
   "source": [
    "$$P_{atm}=\\rho g h$$"
   ]
  },
  {
   "cell_type": "markdown",
   "metadata": {},
   "source": [
    "여기서 $h$는 액주의 높이이다."
   ]
  },
  {
   "cell_type": "markdown",
   "metadata": {},
   "source": [
    "# 2. 에너지, 에너지 전달 및 에너지 분석"
   ]
  },
  {
   "cell_type": "markdown",
   "metadata": {},
   "source": [
    "계가 가지고 있는 모든 형태의 에너지의 합은 총 에너지이며, 이것은 단순압축성계에 대하여 내부에너지, 운동에너지 및 위치에너지로 구성된다. 내부에너지는 계의 분자에너지를 나타내며, 현열에너지, 잠열에너지, 화학에너지 및 핵에너지의 형태로 존재한다."
   ]
  },
  {
   "cell_type": "markdown",
   "metadata": {},
   "source": [
    "질량유량(mass flow rate) $\\dot{m}$은 단위 시간당 단면적을 통하여 유동하는 유체의 질량이다. 이는 단위 시간당 단면적을 통하여 유동하는 유체의 체적에 해당하는 체적유량(volume flow rate) $\\dot{V}$와 다음의 관계가 있다."
   ]
  },
  {
   "cell_type": "markdown",
   "metadata": {},
   "source": [
    "$$ \\dot{m} =\\rho \\dot{V}=\\rho A_c V_{avg} $$"
   ]
  },
  {
   "cell_type": "markdown",
   "metadata": {},
   "source": [
    "질량유량 $\\dot{m}$로 흐르는 유체유동과 관련된 에너지유량(energy flow rate)은 다음과 같다."
   ]
  },
  {
   "cell_type": "markdown",
   "metadata": {},
   "source": [
    "$$\\dot{E}=\\dot{m}e$$"
   ]
  },
  {
   "cell_type": "markdown",
   "metadata": {},
   "source": [
    "역학적 에너지는 이상적인 터빈과 같은 기계장치를 통해서 완전하고 직접적으로 역학적 일로 변환될 수 있는 에너지라고 정의된다. 단위 질량 기반과 변화율의 형태로 다음과 같이 표현된다."
   ]
  },
  {
   "cell_type": "markdown",
   "metadata": {},
   "source": [
    "$$e_{mech}=\\frac{P}{\\rho}+\\frac{V^2}{2}+gz$$"
   ]
  },
  {
   "cell_type": "markdown",
   "metadata": {},
   "source": [
    "그리고"
   ]
  },
  {
   "cell_type": "markdown",
   "metadata": {},
   "source": [
    "$$\\dot{E}_{mech}=\\dot{m}e_{mech}=\\dot{m}\\left(\\frac{P}{\\rho}+\\frac{V^2}{2}+gz \\right)$$"
   ]
  },
  {
   "cell_type": "markdown",
   "metadata": {},
   "source": [
    "여기서 $P/\\rho$, $V^2/2$, $gz$는 각각 단위 질량당 유체의 유동에너지, 운동에너지 및 위치에너지이다."
   ]
  },
  {
   "cell_type": "markdown",
   "metadata": {},
   "source": [
    "에너지는 열과 일의 형태로 밀폐계의 경계를 통과할 수 있다. 검사체적에서는 질량에 의해서도 에너지가 수송될 수 있다. 에너지 전달이 밀폐계와 주위의 온도차에 의한 것이면 열이고, 그렇지 않으면 일이다."
   ]
  },
  {
   "cell_type": "markdown",
   "metadata": {},
   "source": [
    "일은 일정한 거리를 통하여 계에 힘이 작용할 때 전달된 에너지이다. 여러 가지 형태의 일은 다음과 같다."
   ]
  },
  {
   "cell_type": "markdown",
   "metadata": {},
   "source": [
    "전기 일: $W_e=VI \\Delta t$\n",
    "\n",
    "축 일: $W_{sh}=2\\pi nT$\n",
    "\n",
    "스프링 일: $W_{spring}=\\frac{1}{2}k(x_2^2-x_1^2)$"
   ]
  },
  {
   "cell_type": "markdown",
   "metadata": {},
   "source": [
    "열역학 제1법칙은 근본적으로 에너지보존법칙을 나타낸 것이며, 에너지 평형이라고도 한다. 계와 과정의 종류를 막론하고 일반적인 에너지 평형은 다음과 같다."
   ]
  },
  {
   "cell_type": "markdown",
   "metadata": {},
   "source": [
    "$$E_{in} - E_{out} = \\Delta E_{system} \\;\\;\\;\\;(kJ)$$"
   ]
  },
  {
   "cell_type": "markdown",
   "metadata": {},
   "source": [
    "좌항 : 열, 일, 그리고 질량에 의한 정미 에너지 전달 / 우항 : 내부, 운동, 위치 에너지 등의 변화"
   ]
  },
  {
   "cell_type": "markdown",
   "metadata": {},
   "source": [
    "또한 이 식들은 다음과 같이 변화율 형태로 나타낼 수도 있다."
   ]
  },
  {
   "cell_type": "markdown",
   "metadata": {},
   "source": [
    "$$\\dot{E}_{in} - \\dot{E}_{out} =  dE_{system}/dt \\;\\;\\;\\;(kW)$$"
   ]
  },
  {
   "cell_type": "markdown",
   "metadata": {},
   "source": [
    "좌항 : 열, 일, 그리고 질량에 의한 정미 에너지 전달률 / 우항 : 내부, 운동, 위치 에너지 등의 변화율"
   ]
  },
  {
   "cell_type": "markdown",
   "metadata": {},
   "source": [
    "다양한 장치들의 효율은 다음과 같이 정의된다."
   ]
  },
  {
   "cell_type": "markdown",
   "metadata": {},
   "source": [
    "$$\\eta_{pump}=\\frac{\\Delta \\dot{E}_{mech,fluid}}{\\dot{W}_{shaft,in}}=\\frac{\\dot{W}_{pump,u}}{\\dot{W}_{pump}}$$"
   ]
  },
  {
   "cell_type": "markdown",
   "metadata": {},
   "source": [
    "$$\\eta_{turbine}=\\frac{\\dot{W}_{shaft,out}}{|\\Delta \\dot{E}_{mech,fluid}|}=\\frac{\\dot{W}_{turbine}}{\\dot{W}_{turbine,e}}$$"
   ]
  },
  {
   "cell_type": "markdown",
   "metadata": {},
   "source": [
    "$$\\eta_{motor}=\\frac{역학적 동력 출력}{전기 동력 입력}=\\frac{\\dot{W}_{shaft,out}}{\\dot{W}_{elect,in}}$$"
   ]
  },
  {
   "cell_type": "markdown",
   "metadata": {},
   "source": [
    "$$\\eta_{generator}=\\frac{전기 동력 출력}{역학적 동력 입력}=\\frac{\\dot{W}_{elect,out}}{\\dot{W}_{shaft,in}}$$"
   ]
  },
  {
   "cell_type": "markdown",
   "metadata": {},
   "source": [
    "$$\\eta_{pump-motor}=\\eta_{pump}\\eta_{motor}=\\frac{\\Delta \\dot{E}_{mech,fluid}}{\\dot{W}_{elect},in}$$"
   ]
  },
  {
   "cell_type": "markdown",
   "metadata": {},
   "source": [
    "$$\\eta_{turbine-gen}=\\eta_{turbine}\\eta_{generator}=\\frac{\\dot{W}_{elect,out}}{|\\Delta \\dot{E}_{mech,fluid}|}$$"
   ]
  },
  {
   "cell_type": "markdown",
   "metadata": {},
   "source": [
    "한 형태에서 다른 형태로의 에너지 변환은 환경에 대한 부정적인 영향과 관련되어 있다. 에너지의 변환과 사용에는 환경에 주는 충격에 대한 심사숙고가 있어야 한다."
   ]
  },
  {
   "cell_type": "markdown",
   "metadata": {},
   "source": [
    "# 3. 순수물질의 상태량"
   ]
  },
  {
   "cell_type": "markdown",
   "metadata": {},
   "source": [
    "화학적 조성이 항상 일정한 물질을 순수물질이라고 한다. 순수 물질은 에너지 수준에 따라 서로 다른 상으로 존재한다. 액체상에서 쉽게 증발하지 않는 물질을 압축액 또는 과냉액이라고 한다. 기체상에서 쉽게 응축하지 않는 물질을 과열증기라고 한다. 상변화과정 동안, 순수물질의 온도와 압력은 종속적 상태량이다. 주어진 압력에서 물질은 포화온도라고 하는 일정한 오녿에서 상변화한다. 마찬가지로, 주어진 온도에서 물질이 상변화하기 시작하는 압려긍 ㄹ포화아볅이라고 한다. 비등과정 동안, 액체상과 증기상은 평형으로 공존하며, 이러한 조건하에 있는 액체를 포화액, 증기를 포화증기라고 한다."
   ]
  },
  {
   "cell_type": "markdown",
   "metadata": {},
   "source": [
    "포화액-증기 혼합물에서 증기상의 질량분율을 건도라고 하며, 다음과 같이 정의된다."
   ]
  },
  {
   "cell_type": "markdown",
   "metadata": {},
   "source": [
    "$$x = \\frac{m_{vapor}}{m_{total}}$$"
   ]
  },
  {
   "cell_type": "markdown",
   "metadata": {},
   "source": [
    "건도는 0(포화액)과 1(포화증기) 사이의 값을 가진다. 건도는 압축액 영역과 과열증기 영역에서는 의미가 없다. 포화혼합물 영역에서 임의의 강성적 상태량 $y$의 평균 값은 다음 식에 의해 계산된다."
   ]
  },
  {
   "cell_type": "markdown",
   "metadata": {},
   "source": [
    "$$ y=y_f+xy_{fg}$$"
   ]
  },
  {
   "cell_type": "markdown",
   "metadata": {},
   "source": [
    "여기서 $f$는 포화액, $g$는 포화증기를 타나낸다."
   ]
  },
  {
   "cell_type": "markdown",
   "metadata": {},
   "source": [
    "압축액의 자료가 없는 경우, 일반적인 근사법은 압축액을 주어진 온도에서의 포화액으로 취급하는 것이다. 즉,"
   ]
  },
  {
   "cell_type": "markdown",
   "metadata": {},
   "source": [
    "$$y \\cong y_{f\\;@\\;T}$$"
   ]
  },
  {
   "cell_type": "markdown",
   "metadata": {},
   "source": [
    "여기서 $y$는 $v$, $u$또는 $h$를 나타낸다."
   ]
  },
  {
   "cell_type": "markdown",
   "metadata": {},
   "source": [
    "더이상 분명한 증발과정이 없는 상태를 임계점이라고 한다. 초임계압력에서 물질은 점진적으로 그리고 균일하게 액체로부터 증기로 팽창한다. 한 물질의 세 개 상은 삼중선 온도와 압력에 의해 특성화되는 삼중선을 따라 평형상태로 공존한다. 동일한 $T$나 $P$에서 압축액은 포화액보다 작은 $v$, $u$, $h$값을 가지며, 마찬가지로 같은 $T$나 $P$에서 과열증기는 포화액보다 큰 $v$, $u$, $h$ 값을 가진다."
   ]
  },
  {
   "cell_type": "markdown",
   "metadata": {},
   "source": [
    "물질의 압력, 온도 및 비체적 사이의 관계식을 상태방정식이라 한다. 가장 간단하고 가장 잘 알려진 상태방정식은 이상기체 상태방정식으로 다음과 같이 정의된다."
   ]
  },
  {
   "cell_type": "markdown",
   "metadata": {},
   "source": [
    "$$ Pv=RT$$"
   ]
  },
  {
   "cell_type": "markdown",
   "metadata": {},
   "source": [
    "여기서 $R$은 기체상수이다. 이상기체는 가상 물질이기 때문에 이 관계식을 사용할 때는 주의해야 한다. 실제기체는 상대적으로 낮은 압력과 높은 온도에서 이상기체의 거동을 보인다."
   ]
  },
  {
   "cell_type": "markdown",
   "metadata": {},
   "source": [
    "다음과 같이 정의도는 압축성인자 $Z$를 이용하면 이상이체로부터 이탈하는 정도를 알 수 있다."
   ]
  },
  {
   "cell_type": "markdown",
   "metadata": {},
   "source": [
    "$$Z=\\frac{Pv}{RT}\\;\\;or\\;\\;Z=\\frac{v_{actual}}{v_{ideal}}$$"
   ]
  },
  {
   "cell_type": "markdown",
   "metadata": {},
   "source": [
    "다음 식으로 정의되는 환산온도와 환산압력이 같을 경우 모든 기체의 압축성인자는 근사적으로 같다."
   ]
  },
  {
   "cell_type": "markdown",
   "metadata": {},
   "source": [
    "$$T_R=\\frac{T}{T_{cr}}\\;\\;and\\;\\;P_R=\\frac{P}{P_{cr}}$$"
   ]
  },
  {
   "cell_type": "markdown",
   "metadata": {},
   "source": [
    "여기서 $P_{cr}$과 $T_{cr}$은 각각 임계압력과 임계온도이다. 이것이 대응상태의 원리로 알려져 있다. $P$나 $T$ 중에서 어느 하나를 모를 때에는, 다음과 같이 정의되는 가환산비체적을 이용하여 압축성 도표로부터 모르는 상태량을 구할 수 있다."
   ]
  },
  {
   "cell_type": "markdown",
   "metadata": {},
   "source": [
    "$$v_R=\\frac{v_{actual}}{RT_{cr}/P_{cr}}$$"
   ]
  },
  {
   "cell_type": "markdown",
   "metadata": {},
   "source": [
    "물질의 $P-v-T$ 거동은 복잡한 상태방정식에 의해 보다 정확하게 나타낼 수 있다. 가장 잘 알려진 세 개의 상태방정식은 다음과 같다."
   ]
  },
  {
   "cell_type": "markdown",
   "metadata": {},
   "source": [
    "$$van der Walls: \\left(P+\\frac{a}{v^2} \\right)(v-b)=RT$$"
   ]
  },
  {
   "cell_type": "markdown",
   "metadata": {},
   "source": [
    "여기서"
   ]
  },
  {
   "cell_type": "markdown",
   "metadata": {},
   "source": [
    "$$a=\\frac{27R^2T_{cr}^2}{64P_{cr}}\\;\\;and\\;\\;b=\\frac{RT_{cr}}{8P_{cr}}$$"
   ]
  },
  {
   "cell_type": "markdown",
   "metadata": {},
   "source": [
    "$$Beattie-Bridgeman: P=\\frac{R_uT}{\\bar{v}^2}\\left(1-\\frac{c}{\\bar{v}T^3} \\right)(\\bar{v}+B)-\\frac{A}{\\bar{v}^2}$$"
   ]
  },
  {
   "cell_type": "markdown",
   "metadata": {},
   "source": [
    "여기서"
   ]
  },
  {
   "cell_type": "markdown",
   "metadata": {},
   "source": [
    "$$A=A_0\\left(1-\\frac{a}{\\bar{v}} \\right)\\;\\;and\\;\\;B=B_0 \\left(1-\\frac{b}{\\bar{v}} \\right)$$"
   ]
  },
  {
   "cell_type": "markdown",
   "metadata": {},
   "source": [
    "$Benedict-Webb-Rubin:$"
   ]
  },
  {
   "cell_type": "markdown",
   "metadata": {},
   "source": [
    "$$P=\\frac{R_uT}{\\bar{v}}+\\left(B_0R_uT-A_0-\\frac{C_0}{T^2} \\right)\\frac{1}{\\bar{v}^2}+\\frac{bR_uT-a}{\\bar{v}^3}+\\frac{a \\alpha}{\\bar{v}^6}+\\frac{c}{\\bar{v}^3T^2}\\left(1+\\frac{\\gamma}{\\bar{v}^2} \\right)e^{-\\gamma\\;/\\;\\bar{v}^2}$$"
   ]
  },
  {
   "cell_type": "markdown",
   "metadata": {},
   "source": [
    "여기서 $R_u$는 일반기체상수, $\\bar{v}$는 몰 비체적이다."
   ]
  },
  {
   "cell_type": "markdown",
   "metadata": {},
   "source": [
    "# 4. 밀폐계의 에너지 해석"
   ]
  },
  {
   "cell_type": "markdown",
   "metadata": {},
   "source": [
    "일은 일정한 거리를 통하여 계에 힘이 작용할 때 전달된 에너지이다. 가장 보편적인 형태의 역학적 일은 물질의 팽창 및 압축과 관계되는 경계일이다. $P-V$ 선도에서 과정 곡선 밑의 면적은 준평형과정에 대한 경계일을 나타낸다. 여러 가지 형태의 일은 다음과 같다."
   ]
  },
  {
   "cell_type": "markdown",
   "metadata": {},
   "source": [
    "(1) 일반식"
   ]
  }
 ],
 "metadata": {
  "kernelspec": {
   "display_name": "Python 3",
   "language": "python",
   "name": "python3"
  },
  "language_info": {
   "codemirror_mode": {
    "name": "ipython",
    "version": 3
   },
   "file_extension": ".py",
   "mimetype": "text/x-python",
   "name": "python",
   "nbconvert_exporter": "python",
   "pygments_lexer": "ipython3",
   "version": "3.7.4"
  }
 },
 "nbformat": 4,
 "nbformat_minor": 2
}
