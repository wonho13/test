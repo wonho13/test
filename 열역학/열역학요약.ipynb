{
 "cells": [
  {
   "cell_type": "markdown",
   "metadata": {},
   "source": [
    "# 1. 열역학의 기본 개념"
   ]
  },
  {
   "cell_type": "markdown",
   "metadata": {},
   "source": [
    "이 장에서는 열역학의 기본 개념을 소개하고 논의하였다. **열역학**은 주로 에너지를 다루는 학문이다. **열역학 제1법칙**은 단순히 에너지보존법칙의 표현이며, 에너지가 열역학적 상태량이라는 것을 나타낸다. **열역학 제2법칙**은 에너지가 양뿐만 아니라 질을 가지고 있으며, 실제과정은 에너지의 질이 저하되는 방향으로 일어난다는 것을 나타낸다."
   ]
  },
  {
   "cell_type": "markdown",
   "metadata": {},
   "source": [
    "질량이 일정한 계를 **밀폐계** 또는 **검사질량**이라고 하며, 그 경계를 통하여 질량 전달이 가능한 계를 **개방계** 또는 **검사체적**이라고 한다. 계의 질량에 따라 달라지는 상태량을 **종량적 상태량**이라고 하며, 그렇지 않은 상태량을 **강성적 상태량**이라고 한다. **밀도**는 단위 체적당 질량이며, **비 체적**은 단위 질량당 체적이다."
   ]
  },
  {
   "cell_type": "markdown",
   "metadata": {},
   "source": [
    "계가 열적 평형, 역학적 평형, 상 평형 및 화학적 평형을 유지하면, 계는 **열역학적 평형**에 있다고 말할 수 있다. 한 상태로 부터 다른 상태로의 변화를 **과정**이라고 한다. 처음과 동일한 최종상태를 갖는 과정을 **사이클**이라고 한다. **준정적과정**이나 **준평형과정** 동안에 계는 실질적으로 항상 평형상태를 유지한다. **단순 압축성 계의 상태**는 두 개의 독립적인 강성적 상태량에 의해 완전하게 명시할 수 있다."
   ]
  },
  {
   "cell_type": "markdown",
   "metadata": {},
   "source": [
    "**열역학 제0법칙**은 두 물체가 접촉하고 있지 않다 하더라도 온도가 같으면 두 물체는 열적 평형에 있다는 것을 의미한다."
   ]
  },
  {
   "cell_type": "markdown",
   "metadata": {},
   "source": [
    "오늘날, 국제단위계(SI)와 영국단위계에서 사용되는 온도 눈금은 각각 섭씨(Celcius)눈금과 화씨(Fahrenheit)눈금이다. 절대온도와 이들의 관계는 다음과 같다."
   ]
  },
  {
   "cell_type": "markdown",
   "metadata": {},
   "source": [
    "$$ T(K)=T(^\\circ C) + 273.15 $$"
   ]
  },
  {
   "cell_type": "markdown",
   "metadata": {},
   "source": [
    "$$ T(R)=T(^\\circ F) + 459.67 $$"
   ]
  },
  {
   "cell_type": "markdown",
   "metadata": {},
   "source": [
    "$1K$와 $1^\\circ C$의 눈금의 크기는 동일하고, $1R$과 $1^\\circ F$의 눈금의 크기도 같다. "
   ]
  },
  {
   "cell_type": "markdown",
   "metadata": {},
   "source": [
    "$$\\Delta T(K)=\\Delta T(^\\circ C) \\;\\; and \\;\\; \\Delta T(R)=\\Delta T(^\\circ F)$$"
   ]
  },
  {
   "cell_type": "markdown",
   "metadata": {},
   "source": [
    "단위 면적당 힘을 **압력**이라고 하며, 그 단위는 pascal (1 Pa = 1N/m^2)이다. 절대진공에 대한 압력을 **절대압력**이라고 하고, 절대압력과 대기압과의 차를 **계기압력**이라고 한다. 또한 대기압보다 낮은 압력을 **진공압력**이라고 한다. 절대압력, 계기압력 및 진공 압력 사이의 관계는 다음과 같다."
   ]
  },
  {
   "cell_type": "markdown",
   "metadata": {},
   "source": [
    "$P_{gage}=P_{abs}-P_{atm}$ ($P_{atm}$보다 높은 압력일 때)"
   ]
  },
  {
   "cell_type": "markdown",
   "metadata": {},
   "source": [
    "$P_{vac}=P_{atm}-P_{abs}$ ($P_{atm}$보다 낮은 압력일 때)"
   ]
  },
  {
   "cell_type": "markdown",
   "metadata": {},
   "source": [
    "유체 내의 한 점에서의 압력은 모든 방향에서 동일하다. 고도의 변화에 따른 압력의 변화는 다음과 같이 주어진다."
   ]
  },
  {
   "cell_type": "markdown",
   "metadata": {},
   "source": [
    "$$\\frac{dP}{dz}=-\\rho g$$"
   ]
  },
  {
   "cell_type": "markdown",
   "metadata": {},
   "source": [
    "여기서 z의 양의 방향은 위 방향이다. 유체의 밀도가 일정할 때, 유체 층의 두께 $\\Delta z$에 따른 압력차는 다음과 같다."
   ]
  },
  {
   "cell_type": "markdown",
   "metadata": {},
   "source": [
    "$$\\Delta P=P_2-P_1=\\rho g \\Delta z$$"
   ]
  },
  {
   "cell_type": "markdown",
   "metadata": {},
   "source": [
    "자유표면은 대기에 노출되어있고, 자유표면으로부터 깊이가 $h$인 유체 내의 절대압력 및 계기압력은 다음과 같다."
   ]
  },
  {
   "cell_type": "markdown",
   "metadata": {},
   "source": [
    "$$P=P_{atm}+\\rho g h \\;\\; or \\;\\; P_{gage}=\\rho g h$$"
   ]
  },
  {
   "cell_type": "markdown",
   "metadata": {},
   "source": [
    "작거나 중간 정도의 압력차는 **액주식 압력계**로 측정된다. 수평 방향으로 유체 내에서 압력은 일정하다. **파스칼의 정리**는 제한된 유체로 가해진 압력은 모든 방향으로 동일한 크기만큼 압력을 증가시킨다는 것이다. 대기압은 **기압계**로 측정되며 다음과 같이 주어진다."
   ]
  },
  {
   "cell_type": "markdown",
   "metadata": {},
   "source": [
    "$$P_{atm}=\\rho g h$$"
   ]
  },
  {
   "cell_type": "markdown",
   "metadata": {},
   "source": [
    "여기서 $h$는 액주의 높이이다."
   ]
  },
  {
   "cell_type": "markdown",
   "metadata": {},
   "source": [
    "# 2. 에너지, 에너지 전달 및 에너지 분석"
   ]
  },
  {
   "cell_type": "markdown",
   "metadata": {},
   "source": [
    "계가 가지고 있는 모든 형태의 에너지의 합은 총 에너지이며, 이것은 단순압축성계에 대하여 내부에너지, 운동에너지 및 위치에너지로 구성된다. 내부에너지는 계의 분자에너지를 나타내며, 현열에너지, 잠열에너지, 화학에너지 및 핵에너지의 형태로 존재한다."
   ]
  },
  {
   "cell_type": "markdown",
   "metadata": {},
   "source": [
    "질량유량(mass flow rate) $\\dot{m}$은 단위 시간당 단면적을 통하여 유동하는 유체의 질량이다. 이는 단위 시간당 단면적을 통하여 유동하는 유체의 체적에 해당하는 체적유량(volume flow rate) $\\dot{V}$와 다음의 관계가 있다."
   ]
  },
  {
   "cell_type": "markdown",
   "metadata": {},
   "source": [
    "$$ \\dot{m} =\\rho \\dot{V}=\\rho A_c V_{avg} $$"
   ]
  },
  {
   "cell_type": "markdown",
   "metadata": {},
   "source": [
    "질량유량 $\\dot{m}$로 흐르는 유체유동과 관련된 에너지유량(energy flow rate)은 다음과 같다."
   ]
  },
  {
   "cell_type": "markdown",
   "metadata": {},
   "source": [
    "$$\\dot{E}=\\dot{m}e$$"
   ]
  },
  {
   "cell_type": "markdown",
   "metadata": {},
   "source": [
    "역학적 에너지는 이상적인 터빈과 같은 기계장치를 통해서 완전하고 직접적으로 역학적 일로 변환될 수 있는 에너지라고 정의된다. 단위 질량 기반과 변화율의 형태로 다음과 같이 표현된다."
   ]
  },
  {
   "cell_type": "markdown",
   "metadata": {},
   "source": [
    "$$e_{mech}=\\frac{P}{\\rho}+\\frac{V^2}{2}+gz$$"
   ]
  },
  {
   "cell_type": "markdown",
   "metadata": {},
   "source": [
    "그리고"
   ]
  },
  {
   "cell_type": "markdown",
   "metadata": {},
   "source": [
    "$$\\dot{E}_{mech}=\\dot{m}e_{mech}=\\dot{m}\\left(\\frac{P}{\\rho}+\\frac{V^2}{2}+gz \\right)$$"
   ]
  },
  {
   "cell_type": "markdown",
   "metadata": {},
   "source": [
    "여기서 $P/\\rho$, $V^2/2$, $gz$는 각각 단위 질량당 유체의 유동에너지, 운동에너지 및 위치에너지이다."
   ]
  },
  {
   "cell_type": "markdown",
   "metadata": {},
   "source": [
    "에너지는 열과 일의 형태로 밀폐계의 경계를 통과할 수 있다. 검사체적에서는 질량에 의해서도 에너지가 수송될 수 있다. 에너지 전달이 밀폐계와 주위의 온도차에 의한 것이면 열이고, 그렇지 않으면 일이다."
   ]
  },
  {
   "cell_type": "markdown",
   "metadata": {},
   "source": [
    "일은 일정한 거리를 통하여 계에 힘이 작용할 때 전달된 에너지이다. 여러 가지 형태의 일은 다음과 같다."
   ]
  },
  {
   "cell_type": "markdown",
   "metadata": {},
   "source": [
    "전기 일: $W_e=VI \\Delta t$\n",
    "\n",
    "축 일: $W_{sh}=2\\pi nT$\n",
    "\n",
    "스프링 일: $W_{spring}=\\frac{1}{2}k(x_2^2-x_1^2)$"
   ]
  },
  {
   "cell_type": "markdown",
   "metadata": {},
   "source": [
    "열역학 제1법칙은 근본적으로 에너지보존법칙을 나타낸 것이며, 에너지 평형이라고도 한다. 계와 과정의 종류를 막론하고 일반적인 에너지 평형은 다음과 같다."
   ]
  },
  {
   "cell_type": "markdown",
   "metadata": {},
   "source": [
    "$$E_{in} - E_{out} = \\Delta E_{system} \\;\\;\\;\\;(kJ)$$"
   ]
  },
  {
   "cell_type": "markdown",
   "metadata": {},
   "source": [
    "좌항 : 열, 일, 그리고 질량에 의한 정미 에너지 전달 / 우항 : 내부, 운동, 위치 에너지 등의 변화"
   ]
  },
  {
   "cell_type": "markdown",
   "metadata": {},
   "source": [
    "또한 이 식들은 다음과 같이 변화율 형태로 나타낼 수도 있다."
   ]
  },
  {
   "cell_type": "markdown",
   "metadata": {},
   "source": [
    "$$\\dot{E}_{in} - \\dot{E}_{out} =  dE_{system}/dt \\;\\;\\;\\;(kW)$$"
   ]
  },
  {
   "cell_type": "markdown",
   "metadata": {},
   "source": [
    "좌항 : 열, 일, 그리고 질량에 의한 정미 에너지 전달률 / 우항 : 내부, 운동, 위치 에너지 등의 변화율"
   ]
  },
  {
   "cell_type": "markdown",
   "metadata": {},
   "source": [
    "다양한 장치들의 효율은 다음과 같이 정의된다."
   ]
  },
  {
   "cell_type": "markdown",
   "metadata": {},
   "source": [
    "$$\\eta_{pump}=\\frac{\\Delta \\dot{E}_{mech,fluid}}{\\dot{W}_{shaft,in}}=\\frac{\\dot{W}_{pump,u}}{\\dot{W}_{pump}}$$"
   ]
  },
  {
   "cell_type": "markdown",
   "metadata": {},
   "source": [
    "$$\\eta_{turbine}=\\frac{\\dot{W}_{shaft,out}}{|\\Delta \\dot{E}_{mech,fluid}|}=\\frac{\\dot{W}_{turbine}}{\\dot{W}_{turbine,e}}$$"
   ]
  },
  {
   "cell_type": "markdown",
   "metadata": {},
   "source": [
    "$$\\eta_{motor}=\\frac{역학적 동력 출력}{전기 동력 입력}=\\frac{\\dot{W}_{shaft,out}}{\\dot{W}_{elect,in}}$$"
   ]
  },
  {
   "cell_type": "markdown",
   "metadata": {},
   "source": [
    "$$\\eta_{generator}=\\frac{전기 동력 출력}{역학적 동력 입력}=\\frac{\\dot{W}_{elect,out}}{\\dot{W}_{shaft,in}}$$"
   ]
  },
  {
   "cell_type": "markdown",
   "metadata": {},
   "source": [
    "$$\\eta_{pump-motor}=\\eta_{pump}\\eta_{motor}=\\frac{\\Delta \\dot{E}_{mech,fluid}}{\\dot{W}_{elect},in}$$"
   ]
  },
  {
   "cell_type": "markdown",
   "metadata": {},
   "source": [
    "$$\\eta_{turbine-gen}=\\eta_{turbine}\\eta_{generator}=\\frac{\\dot{W}_{elect,out}}{|\\Delta \\dot{E}_{mech,fluid}|}$$"
   ]
  },
  {
   "cell_type": "markdown",
   "metadata": {},
   "source": [
    "한 형태에서 다른 형태로의 에너지 변환은 환경에 대한 부정적인 영향과 관련되어 있다. 에너지의 변환과 사용에는 환경에 주는 충격에 대한 심사숙고가 있어야 한다."
   ]
  },
  {
   "cell_type": "markdown",
   "metadata": {},
   "source": [
    "# 3. 순수물질의 상태량"
   ]
  },
  {
   "cell_type": "markdown",
   "metadata": {},
   "source": [
    "화학적 조성이 항상 일정한 물질을 순수물질이라고 한다. 순수 물질은 에너지 수준에 따라 서로 다른 상으로 존재한다. 액체상에서 쉽게 증발하지 않는 물질을 압축액 또는 과냉액이라고 한다. 기체상에서 쉽게 응축하지 않는 물질을 과열증기라고 한다. 상변화과정 동안, 순수물질의 온도와 압력은 종속적 상태량이다. 주어진 압력에서 물질은 포화온도라고 하는 일정한 오녿에서 상변화한다. 마찬가지로, 주어진 온도에서 물질이 상변화하기 시작하는 압려긍 ㄹ포화아볅이라고 한다. 비등과정 동안, 액체상과 증기상은 평형으로 공존하며, 이러한 조건하에 있는 액체를 포화액, 증기를 포화증기라고 한다."
   ]
  },
  {
   "cell_type": "markdown",
   "metadata": {},
   "source": [
    "포화액-증기 혼합물에서 증기상의 질량분율을 건도라고 하며, 다음과 같이 정의된다."
   ]
  },
  {
   "cell_type": "markdown",
   "metadata": {},
   "source": [
    "$$x = \\frac{m_{vapor}}{m_{total}}$$"
   ]
  },
  {
   "cell_type": "markdown",
   "metadata": {},
   "source": [
    "건도는 0(포화액)과 1(포화증기) 사이의 값을 가진다. 건도는 압축액 영역과 과열증기 영역에서는 의미가 없다. 포화혼합물 영역에서 임의의 강성적 상태량 $y$의 평균 값은 다음 식에 의해 계산된다."
   ]
  },
  {
   "cell_type": "markdown",
   "metadata": {},
   "source": [
    "$$ y=y_f+xy_{fg}$$"
   ]
  },
  {
   "cell_type": "markdown",
   "metadata": {},
   "source": [
    "여기서 $f$는 포화액, $g$는 포화증기를 타나낸다."
   ]
  },
  {
   "cell_type": "markdown",
   "metadata": {},
   "source": [
    "압축액의 자료가 없는 경우, 일반적인 근사법은 압축액을 주어진 온도에서의 포화액으로 취급하는 것이다. 즉,"
   ]
  },
  {
   "cell_type": "markdown",
   "metadata": {},
   "source": [
    "$$y \\cong y_{f\\;@\\;T}$$"
   ]
  },
  {
   "cell_type": "markdown",
   "metadata": {},
   "source": [
    "여기서 $y$는 $v$, $u$또는 $h$를 나타낸다."
   ]
  },
  {
   "cell_type": "markdown",
   "metadata": {},
   "source": [
    "더이상 분명한 증발과정이 없는 상태를 임계점이라고 한다. 초임계압력에서 물질은 점진적으로 그리고 균일하게 액체로부터 증기로 팽창한다. 한 물질의 세 개 상은 삼중선 온도와 압력에 의해 특성화되는 삼중선을 따라 평형상태로 공존한다. 동일한 $T$나 $P$에서 압축액은 포화액보다 작은 $v$, $u$, $h$값을 가지며, 마찬가지로 같은 $T$나 $P$에서 과열증기는 포화액보다 큰 $v$, $u$, $h$ 값을 가진다."
   ]
  },
  {
   "cell_type": "markdown",
   "metadata": {},
   "source": [
    "물질의 압력, 온도 및 비체적 사이의 관계식을 상태방정식이라 한다. 가장 간단하고 가장 잘 알려진 상태방정식은 이상기체 상태방정식으로 다음과 같이 정의된다."
   ]
  },
  {
   "cell_type": "markdown",
   "metadata": {},
   "source": [
    "$$ Pv=RT$$"
   ]
  },
  {
   "cell_type": "markdown",
   "metadata": {},
   "source": [
    "여기서 $R$은 기체상수이다. 이상기체는 가상 물질이기 때문에 이 관계식을 사용할 때는 주의해야 한다. 실제기체는 상대적으로 낮은 압력과 높은 온도에서 이상기체의 거동을 보인다."
   ]
  },
  {
   "cell_type": "markdown",
   "metadata": {},
   "source": [
    "다음과 같이 정의도는 압축성인자 $Z$를 이용하면 이상이체로부터 이탈하는 정도를 알 수 있다."
   ]
  },
  {
   "cell_type": "markdown",
   "metadata": {},
   "source": [
    "$$Z=\\frac{Pv}{RT}\\;\\;or\\;\\;Z=\\frac{v_{actual}}{v_{ideal}}$$"
   ]
  },
  {
   "cell_type": "markdown",
   "metadata": {},
   "source": [
    "다음 식으로 정의되는 환산온도와 환산압력이 같을 경우 모든 기체의 압축성인자는 근사적으로 같다."
   ]
  },
  {
   "cell_type": "markdown",
   "metadata": {},
   "source": [
    "$$T_R=\\frac{T}{T_{cr}}\\;\\;and\\;\\;P_R=\\frac{P}{P_{cr}}$$"
   ]
  },
  {
   "cell_type": "markdown",
   "metadata": {},
   "source": [
    "여기서 $P_{cr}$과 $T_{cr}$은 각각 임계압력과 임계온도이다. 이것이 대응상태의 원리로 알려져 있다. $P$나 $T$ 중에서 어느 하나를 모를 때에는, 다음과 같이 정의되는 가환산비체적을 이용하여 압축성 도표로부터 모르는 상태량을 구할 수 있다."
   ]
  },
  {
   "cell_type": "markdown",
   "metadata": {},
   "source": [
    "$$v_R=\\frac{v_{actual}}{RT_{cr}/P_{cr}}$$"
   ]
  },
  {
   "cell_type": "markdown",
   "metadata": {},
   "source": [
    "물질의 $P-v-T$ 거동은 복잡한 상태방정식에 의해 보다 정확하게 나타낼 수 있다. 가장 잘 알려진 세 개의 상태방정식은 다음과 같다."
   ]
  },
  {
   "cell_type": "markdown",
   "metadata": {},
   "source": [
    "$$van der Walls: \\left(P+\\frac{a}{v^2} \\right)(v-b)=RT$$"
   ]
  },
  {
   "cell_type": "markdown",
   "metadata": {},
   "source": [
    "여기서"
   ]
  },
  {
   "cell_type": "markdown",
   "metadata": {},
   "source": [
    "$$a=\\frac{27R^2T_{cr}^2}{64P_{cr}}\\;\\;and\\;\\;b=\\frac{RT_{cr}}{8P_{cr}}$$"
   ]
  },
  {
   "cell_type": "markdown",
   "metadata": {},
   "source": [
    "$$Beattie-Bridgeman: P=\\frac{R_uT}{\\bar{v}^2}\\left(1-\\frac{c}{\\bar{v}T^3} \\right)(\\bar{v}+B)-\\frac{A}{\\bar{v}^2}$$"
   ]
  },
  {
   "cell_type": "markdown",
   "metadata": {},
   "source": [
    "여기서"
   ]
  },
  {
   "cell_type": "markdown",
   "metadata": {},
   "source": [
    "$$A=A_0\\left(1-\\frac{a}{\\bar{v}} \\right)\\;\\;and\\;\\;B=B_0 \\left(1-\\frac{b}{\\bar{v}} \\right)$$"
   ]
  },
  {
   "cell_type": "markdown",
   "metadata": {},
   "source": [
    "$Benedict-Webb-Rubin:$"
   ]
  },
  {
   "cell_type": "markdown",
   "metadata": {},
   "source": [
    "$$P=\\frac{R_uT}{\\bar{v}}+\\left(B_0R_uT-A_0-\\frac{C_0}{T^2} \\right)\\frac{1}{\\bar{v}^2}+\\frac{bR_uT-a}{\\bar{v}^3}+\\frac{a \\alpha}{\\bar{v}^6}+\\frac{c}{\\bar{v}^3T^2}\\left(1+\\frac{\\gamma}{\\bar{v}^2} \\right)e^{-\\gamma\\;/\\;\\bar{v}^2}$$"
   ]
  },
  {
   "cell_type": "markdown",
   "metadata": {},
   "source": [
    "여기서 $R_u$는 일반기체상수, $\\bar{v}$는 몰 비체적이다."
   ]
  },
  {
   "cell_type": "markdown",
   "metadata": {},
   "source": [
    "# 4. 밀폐계의 에너지 해석"
   ]
  },
  {
   "cell_type": "markdown",
   "metadata": {},
   "source": [
    "일은 일정한 거리를 통하여 계에 힘이 작용할 때 전달된 에너지이다. 가장 보편적인 형태의 역학적 일은 물질의 팽창 및 압축과 관계되는 경계일이다. $P-V$ 선도에서 과정 곡선 밑의 면적은 준평형과정에 대한 경계일을 나타낸다. 여러 가지 형태의 일은 다음과 같다."
   ]
  },
  {
   "cell_type": "markdown",
   "metadata": {},
   "source": [
    "(1) 일반식\n",
    "\n",
    "$$W_b=\\int_1^2 P dV$$"
   ]
  },
  {
   "cell_type": "markdown",
   "metadata": {},
   "source": [
    "(2) 정압과정\n",
    "\n",
    "$$W_b=P_0(V_2-V_1)\\;\\;\\;\\;(P_1=P_2=P_0=constant)$$"
   ]
  },
  {
   "cell_type": "markdown",
   "metadata": {},
   "source": [
    "(3) 폴리트로픽 과정\n",
    "\n",
    "$$W_b=\\frac{P_2V_2-P_1V_1}{1-n}\\;\\;(n\\neq 1)\\;\\;\\;\\;(PV^n=constant)$$"
   ]
  },
  {
   "cell_type": "markdown",
   "metadata": {},
   "source": [
    "(4) 이상기체의 등온과정\n",
    "\n",
    "$$W_b=P_1V_1ln\\frac{V_2}{V_1}=mRT_0ln\\frac{V_2}{V_1}\\;\\;\\;\\;(PV=mRT_0=constant)$$"
   ]
  },
  {
   "cell_type": "markdown",
   "metadata": {},
   "source": [
    "열역학 제1법칙은 근본적으로 에너지보존법칙을 나타낸 것이며, 에너지 평형이라고도 한다. 계와 과정의 종류를 막론하고 일반적인 에너지 평형은 다음과 같다."
   ]
  },
  {
   "cell_type": "markdown",
   "metadata": {},
   "source": [
    "$$E_{in}-E_{out} = \\Delta E_{system}$$"
   ]
  },
  {
   "cell_type": "markdown",
   "metadata": {},
   "source": [
    "열, 일 및 질량에 의한 정미 에너지 전달 = 내부, 운동 및 위치 에너지 등의 변화"
   ]
  },
  {
   "cell_type": "markdown",
   "metadata": {},
   "source": [
    "또한 이 식들은 다음과 같이 변화율 형태로 나타낼수도 있다."
   ]
  },
  {
   "cell_type": "markdown",
   "metadata": {},
   "source": [
    "$$\\dot{E}_{in}-\\dot{E}_{out}=dE_{system}/dt$$"
   ]
  },
  {
   "cell_type": "markdown",
   "metadata": {},
   "source": [
    "열, 일 및 질량에 의한 정미 에너지 전달률 = 내부, 운동 및 위치 에너지 등의 변화율"
   ]
  },
  {
   "cell_type": "markdown",
   "metadata": {},
   "source": [
    "계로 들어온 열전달과 계가 한일을 양수(+)로 잡으면, 밀폐계(Closed System)에 대한 에너지 평형은 다음과 같이 나타낼 수 있다."
   ]
  },
  {
   "cell_type": "markdown",
   "metadata": {},
   "source": [
    "$$Q-W=\\Delta U+\\Delta KE+ \\Delta PE$$"
   ]
  },
  {
   "cell_type": "markdown",
   "metadata": {},
   "source": [
    "여기서,"
   ]
  },
  {
   "cell_type": "markdown",
   "metadata": {},
   "source": [
    "$$W = W_{ohter}+W_b$$"
   ]
  },
  {
   "cell_type": "markdown",
   "metadata": {},
   "source": [
    "$$\\Delta U=m(u_2- u_1)$$"
   ]
  },
  {
   "cell_type": "markdown",
   "metadata": {},
   "source": [
    "$$\\Delta KE=\\frac{1}{2}m(V_2^2-V_1^2)$$"
   ]
  },
  {
   "cell_type": "markdown",
   "metadata": {},
   "source": [
    "$$\\Delta PE=mg(z_2-z_1)$$"
   ]
  },
  {
   "cell_type": "markdown",
   "metadata": {},
   "source": [
    "정압과정에서는 $W_b+\\Delta U=\\Delta H$이므로,"
   ]
  },
  {
   "cell_type": "markdown",
   "metadata": {},
   "source": [
    "$$Q-W_{other}=\\Delta H + \\Delta KE+ \\Delta PE$$"
   ]
  },
  {
   "cell_type": "markdown",
   "metadata": {},
   "source": [
    "위의 관계식은 밀폐계의 정압과정으로 한정되며, 압력이 변하는 과정에는 맞지 않다는 점에 유의하라."
   ]
  },
  {
   "cell_type": "markdown",
   "metadata": {},
   "source": [
    "단위 질량의 물질의 온도를 1도 올리는데 필요한 에너지의 양을 정적과정에서는 정적비열 $c_v$, 정압과정에서는 정압비열 $c_p$라고 하며, 다음과 같이 정의한다."
   ]
  },
  {
   "cell_type": "markdown",
   "metadata": {},
   "source": [
    "$$c_v=\\left(\\frac{\\partial u}{\\partial T}\\right)_v\\;\\;and\\;\\;c_p=\\left(\\frac{\\partial h}{\\partial T}\\right)_p$$"
   ]
  },
  {
   "cell_type": "markdown",
   "metadata": {},
   "source": [
    "이상기체의 $u$, $h$, $c_v$, 그리고 $c_p$는 **온도**만의 함수이다. 이상기체의 $\\Delta u$ 및 $\\Delta h$는 다음과 같이 나타낸다."
   ]
  },
  {
   "cell_type": "markdown",
   "metadata": {},
   "source": [
    "$$\\Delta u = u_2-u_1=\\int_1^2 c_v(T)dT\\approx c_{v,avg}(T_2-T_1)$$"
   ]
  },
  {
   "cell_type": "markdown",
   "metadata": {},
   "source": [
    "$$\\Delta h=h_2-h_1=\\int_1^2 c_p(T)dT\\approx c_{p,avg}(T_2-T_1)$$"
   ]
  },
  {
   "cell_type": "markdown",
   "metadata": {},
   "source": [
    "이상기체의 $c_v$와 $c_p$의 관계는 다음과 같다."
   ]
  },
  {
   "cell_type": "markdown",
   "metadata": {},
   "source": [
    "$$c_p=c_v+R$$"
   ]
  },
  {
   "cell_type": "markdown",
   "metadata": {},
   "source": [
    "여기서 $R$은 기체상수이다. 비열비는 다음과 같이 정의된다."
   ]
  },
  {
   "cell_type": "markdown",
   "metadata": {},
   "source": [
    "$$k=\\frac{c_p}{c_v}$$"
   ]
  },
  {
   "cell_type": "markdown",
   "metadata": {},
   "source": [
    "**비압축성 물질(액체와 고체)** 의 정적비열과 정압비열은 동일하며 $c$로 나타낸다."
   ]
  },
  {
   "cell_type": "markdown",
   "metadata": {},
   "source": [
    "$$c_p=c_v=c$$"
   ]
  },
  {
   "cell_type": "markdown",
   "metadata": {},
   "source": [
    "비압축성 물질의 $\\Delta u$와 $\\Delta h$는 다음과 같다."
   ]
  },
  {
   "cell_type": "markdown",
   "metadata": {},
   "source": [
    "$$\\Delta u=\\int_1^2 c(T)dT \\approx c_{avg}(T_2-T_1)$$"
   ]
  },
  {
   "cell_type": "markdown",
   "metadata": {},
   "source": [
    "$$\\Delta h = \\Delta u + v \\Delta P$$"
   ]
  },
  {
   "cell_type": "markdown",
   "metadata": {},
   "source": [
    "위의 관계식은 밀폐계의 정압과정으로 한정되며, 압력이 변하는 과정에는 맞지 않는다."
   ]
  },
  {
   "cell_type": "markdown",
   "metadata": {},
   "source": [
    "# 5. 검사체적의 질량 및 에너지 해석"
   ]
  },
  {
   "cell_type": "markdown",
   "metadata": {},
   "source": [
    "질량보존법칙은 과정 동안에 계로 또는 계로부터의 정미 질량전달이 그 과정 동안 계의 총 질량의 정미 변화(증가 또는 감소)와 같다고 말할 수 있으며, 다음과 같은 식으로 나타낸다."
   ]
  },
  {
   "cell_type": "markdown",
   "metadata": {},
   "source": [
    "$$m_{in}-m_{out}=\\Delta m_{system}\\;\\;and\\;\\;\\dot{m}_{in}-\\dot{m}_{out}=dm_{system}/dt$$"
   ]
  },
  {
   "cell_type": "markdown",
   "metadata": {},
   "source": [
    "여기서 $\\Delta m_{system}=m_{final}-m_{initial}$은 과정 동안의 계의 질량 변화이고, $\\dot{m}_{in}$과 $\\dot{m}_{out}$은 각각 계로 들어오고 계에서 나가는 총 질량유량이며, $dm_{system}/dt$는 계의 경계 내에서의 질량 변화율이다. 위의 관계식은 질량 평형이라고 하며, 과정과 계의 종류에 관계 없이 과정을 겪고 있는 계에 적용할 수 있다."
   ]
  },
  {
   "cell_type": "markdown",
   "metadata": {},
   "source": [
    "단위 시간당 단면적을 통하여 유동하는 질랴으이 양을 질량유량이라고 하며, 다음과 같이 나타낸다."
   ]
  },
  {
   "cell_type": "markdown",
   "metadata": {},
   "source": [
    "$$\\dot{m}=\\rho VA$$"
   ]
  },
  {
   "cell_type": "markdown",
   "metadata": {},
   "source": [
    "여기서, $\\rho=$유체밀도, $V=A$에 수직한 평균 유체 속도, $A=$유동방향에 수직한 단면적이다. 단위 시간당 단면적을 통하여 유동하는 유체의 체적을 체적유량이라고 하며, 다음과 같이 나타낸다."
   ]
  },
  {
   "cell_type": "markdown",
   "metadata": {},
   "source": [
    "$$\\dot{V}=VA=\\dot{m}/\\rho$$"
   ]
  },
  {
   "cell_type": "markdown",
   "metadata": {},
   "source": [
    "단위 질량의 유체를 검사체적 안으로 밀어 넣거나 검사체적 밖으로 밀어내는 데 필요한 일을 유동일 또는 유동에너지라고 하며, $w_{flow}=Pv$로 나타낸다. 검사체적의 해석에서, 유동에너지와 내부에너지의 합을 엔탈피로 나타내면 편리하다. 그러면 유동 유체의 총 에너지는 다음과 같이 나타내진다."
   ]
  },
  {
   "cell_type": "markdown",
   "metadata": {},
   "source": [
    "$$\\theta=h+ke+pe=h+\\frac{V^2}{2}+gz$$"
   ]
  },
  {
   "cell_type": "markdown",
   "metadata": {},
   "source": [
    "균일한 상태량을 가진 질량이 $m$인 유동 유체에 의해 수송된 총 에너지는 $m\\theta$이다. 질량유량이 $\\dot{m}$인 유체에 의한 에너지 수송률은 $\\dot{m}\\theta$이다. 유동 유체의 운동에너지와 위치에너지를 무시할 수 있을 때, 에너지 수송량과 수송률은 각각 $E_{mass}=mh$ 및 $\\dot{E}_{mass}=\\dot{m}h$이다."
   ]
  },
  {
   "cell_type": "markdown",
   "metadata": {},
   "source": [
    "열역학 제1법칙은 근본적으로 에너지보존법칙을 나타낸 것이며, 에너지 평형이라고도 한다. 계와 과정의 종류를 막롤하고 일반적인 에너지 평형은 다음과 같이 나타낼 수 있다."
   ]
  },
  {
   "cell_type": "markdown",
   "metadata": {},
   "source": [
    "$$E_{in}-E_{out}=\\Delta E_{system}$$"
   ]
  },
  {
   "cell_type": "markdown",
   "metadata": {},
   "source": [
    "열, 일 및 질량에 의한 정미 에너지 전달 = 내부, 운동 및 위치에너지 등의 변화"
   ]
  },
  {
   "cell_type": "markdown",
   "metadata": {},
   "source": [
    "또한 이 식은 다음과 같이 변화율 형태로 나타낼 수도 있다."
   ]
  },
  {
   "cell_type": "markdown",
   "metadata": {},
   "source": [
    "$$\\dot{E}_{in}-\\dot{E}_{out}=dE_{system}/dt$$"
   ]
  },
  {
   "cell_type": "markdown",
   "metadata": {},
   "source": [
    "열, 일 및 질량에 의한 정미 에너지 전달률 = 내부, 운동 및 위체 이너지 등의 변화율"
   ]
  },
  {
   "cell_type": "markdown",
   "metadata": {},
   "source": [
    "검사체적과 관련된 열역학적 과정은 정상유동과정과 비정상유동과정의 두 그룹으로 나눌 수 있다. 정상유동과정 동안, 정해진 위치에서의 상태량이 시간에 따라 변하지 않으면서 유체는 안정되게 검사체적을 통하여 유동한다. 정상유동과정 동안 검사체적 내의 질량과 에너지는 이렂ㅇ하게 유지된다. 계로 들어온 열전달과 계가 한 일을 양수로 잡으면, 정상유동과정에 대한 질량 및 에너지보존식은 다음과 같다."
   ]
  },
  {
   "cell_type": "markdown",
   "metadata": {},
   "source": [
    "$$\\sum_{in} \\dot{m} = \\sum_{out} \\dot{m}$$"
   ]
  },
  {
   "cell_type": "markdown",
   "metadata": {},
   "source": [
    "$$\\dot{Q}-\\dot{W}=\\sum_{out} \\dot{m}\\left(h+\\frac{V^2}{2}+gz\\right)- \\sum_{in} \\dot{m}\\left(h+\\frac{V^2}{2}+gz\\right)$$"
   ]
  },
  {
   "cell_type": "markdown",
   "metadata": {},
   "source": [
    "이 식들은 정상유동과정에 대한 가장 일반적인 형태의 식이다. 노즐, 디퓨저, 터빈, 압축기 및 펌프와 같이 입구와 출구가 각각 하나씩인 단일 흐름계의 경우에는 보다 간단한 식들로 표현된다."
   ]
  },
  {
   "cell_type": "markdown",
   "metadata": {},
   "source": [
    "$$\\dot{m}_1=\\dot{m}_2 \\rightarrow \\rho_1V_1A_1=\\rho_2V_2A_2 $$"
   ]
  },
  {
   "cell_type": "markdown",
   "metadata": {},
   "source": [
    "$$\\dot{Q}-\\dot{W}=\\dot{m}\\left[h_2-h_1+\\frac{V_2^2-V_1^2}{2}+g(z_2-z_1)\\right]$$"
   ]
  },
  {
   "cell_type": "markdown",
   "metadata": {},
   "source": [
    "이들 관계식에서 하첨자 1과 2는 각각 입구와 출구 상태를 나타낸다."
   ]
  },
  {
   "cell_type": "markdown",
   "metadata": {},
   "source": [
    "대부분의 비정상유동과정은 균일유동과정으로 간주할 수 있다. 균일유동과정 동안, 입구나 출구에서는 유체유동이 균일하고 안정되어 있으므로, 입구나 출구의 단면에서 시간이나 위치에 따라 유체 상태량이 변하지 않는다. 상태량이 변하는 경우에는 전체 과정 동안에 대하여 평균하고 일정학 서으로 처리한다. 검사체적 및 유체 흐름과 관련된 운동에너지와 위치에너지를 무시할 수 있을 때, 균일유동계에 대한 질량 및 에너지 평형 관계식은 다음과 같이 표현할 수 있다."
   ]
  },
  {
   "cell_type": "markdown",
   "metadata": {},
   "source": [
    "$$m_{in}-m_{out}=\\Delta m_{system}$$"
   ]
  },
  {
   "cell_type": "markdown",
   "metadata": {},
   "source": [
    "$$Q-W=\\sum_{out}mh-\\sum_{in}mh+(m_2u_2-m_1u_1)_{system}$$"
   ]
  },
  {
   "cell_type": "markdown",
   "metadata": {},
   "source": [
    "여기서 $Q=Q_{net,in}=Q_{in}-Q_{out}$은 정미 입력일이고, $W=W_{net,out}=W_{out}-W_{in}$은 정미 출력일이다."
   ]
  },
  {
   "cell_type": "markdown",
   "metadata": {},
   "source": [
    "열역학 문제를 풀 때에는 모든 문제에 일반 에너지 평형 $E_{in}-E_{out}=\\Delta E_{system}$을 사용하는 것이 좋으며, 여러가지 과정에 대하여 여기에서 열거한 특정 관계식을 사용하지 말고, 개개의 문제에 맞도록 일반 에너지 평형을 단순화하는 것이 바람직하다."
   ]
  },
  {
   "cell_type": "markdown",
   "metadata": {},
   "source": [
    "# 6. 열역학 제2법칙"
   ]
  },
  {
   "cell_type": "markdown",
   "metadata": {},
   "source": [
    "열역학 제2법칙은 과정이 아무 방향으로나 일어나지 않고 한 방향으로 일어난다고 말한다. 어느 과정이라도 열역학 제1법칙과 제2법칙을 모두 만족하지 않으면 일어나지 않는다. 유한한 양의 열을 등온상태로 흡수하거나 방출하는 물체를 열에너지 저장소(thermal energy reservoirs) 또는 단순히 열저장소(heat reservoir)라고 한다."
   ]
  },
  {
   "cell_type": "markdown",
   "metadata": {},
   "source": [
    "일은 열로 직접 변환되지만, 열은 열기관이라는 장치에 의해서만 일로 변환될 수 있다. 열기관의 열효율(thermal efficientcy)은 다음과 같이 정의된다."
   ]
  },
  {
   "cell_type": "markdown",
   "metadata": {},
   "source": [
    "$$\\eta_{th}=\\frac{W_{net,out}}{Q_{H}}=1-\\frac{Q_L}{Q_H}$$"
   ]
  },
  {
   "cell_type": "markdown",
   "metadata": {},
   "source": [
    "여기서 $W_{net,out}$은 열기관의 정미 출력일, $Q_H$는 기관에 공급된 열량이며, $Q_L$은 기관에서 방출되는 열량이다."
   ]
  },
  {
   "cell_type": "markdown",
   "metadata": {},
   "source": [
    "냉동기와 열펌프는 저온의 매체에서 열을 흡수하여 더 높은 온도의 매체에 방출하는 장치이다. 냉동기나 열기관의 성능은 다음과 같이 정의되는 성능계수(coefficient of performance, COP)로 표현된다."
   ]
  },
  {
   "cell_type": "markdown",
   "metadata": {},
   "source": [
    "$$COP_R=\\frac{Q_L}{W_{net,in}}=\\frac{1}{Q_H/Q_L-1}$$"
   ]
  },
  {
   "cell_type": "markdown",
   "metadata": {},
   "source": [
    "$$COP_{HP}=\\frac{Q_H}{W_{net,in}}=\\frac{1}{1-Q_L/Q_H}$$"
   ]
  },
  {
   "cell_type": "markdown",
   "metadata": {},
   "source": [
    "열역학 제2법칙에 대한 Kelvin-Planck 서술은 한 개의 저장조와 열교환을 하면서 일을 생산하는 열기관은 없다고 말하고, 열역학 제2법칙에 대한 Clausius 서술은 주위에 아무 영향도 남기지 않고 차가운 물체에서 따뜻한 물체로 열을 전달하는 장치는 없다고 말한다."
   ]
  },
  {
   "cell_type": "markdown",
   "metadata": {},
   "source": [
    "제1법칙 또는 제2법칙을 위반하는 모든 장치를 영구운동기계(perpetual-motion machine)이라고 한다."
   ]
  },
  {
   "cell_type": "markdown",
   "metadata": {},
   "source": [
    "계와 주위 모두가 원래의 상태로 되돌아갈 수 있는 과정을 가역과정이라고 한다. 그렇지 않은 과정을 비가역과정이라고 한다. 과정을 비가역적으로 만드는 마찰, 비준평형 압축과 팽창, 유한한 온도차를 통한 열전달 등과 같은 효과를 비가역성(irreversibilities)라고 한다."
   ]
  },
  {
   "cell_type": "markdown",
   "metadata": {},
   "source": [
    "카르노사이클은 두 개의 등온 과정과 두 개의 단열과정, 즉 네 개의 가역과정으로 구성되는 가역 사이클이다. 카르노 원리는, '같은 두 개의 열저장소 사이에서 작동하는 모든 가역열기관의 열효율은 같고, 두 개의 같은 열저장소 사이에서 작동한다면 가역 열기관보다 효율이 더 좋은 열기관은 없다'고 서술한다. 카르노 원리는 열역학적 온도눈금을 확립하는데 기초가 되며, 이 온도눈금은 가역 장치와 고온 및 저온 저장조 사이의 열전달에 아래 관계식으로 연결된다."
   ]
  },
  {
   "cell_type": "markdown",
   "metadata": {},
   "source": [
    "$$\\left(\\frac{Q_H}{Q_L}\\right)_{rev}=\\frac{T_H}{T_L}$$"
   ]
  },
  {
   "cell_type": "markdown",
   "metadata": {},
   "source": [
    "그러므로 가역기관에 대해서는 $Q_H/Q_L$을 $T_H/T_L$로 바꾸어 쓸 수 있는데, 여기서 $T_H$와 $T_L$는 각각 고온 저장조와 저온 저장조의 절대온도이다."
   ]
  },
  {
   "cell_type": "markdown",
   "metadata": {},
   "source": [
    "가역 카르노사이클로 작동하는 열기관을 카르노 열기관이라고 한다. 모든 가역 열기관 및 카르노 열기관의 열효율은 다음의 식으로 주어진다."
   ]
  },
  {
   "cell_type": "markdown",
   "metadata": {},
   "source": [
    "$$\\eta_{th,rev}=1-\\frac{T_L}{T_{H}}$$"
   ]
  },
  {
   "cell_type": "markdown",
   "metadata": {},
   "source": [
    "이 효율은 온도가 각각 $T_H$ 및 $T_L$인 고온과 저온의 두 저장조 사이에서 작동하는 열기관에 허용되는 최고의 열효율이다."
   ]
  },
  {
   "cell_type": "markdown",
   "metadata": {},
   "source": [
    "가역 냉동기와 가역 열펌프의 COP는 다음과 같이 비슷한 모양으로 주어진다."
   ]
  },
  {
   "cell_type": "markdown",
   "metadata": {},
   "source": [
    "$$COP_{R,rev}=\\frac{1}{T_H/T_L-1}$$"
   ]
  },
  {
   "cell_type": "markdown",
   "metadata": {},
   "source": [
    "$$COP_{HP,rev}=\\frac{1}{1-T_L/T_H}$$"
   ]
  },
  {
   "cell_type": "markdown",
   "metadata": {},
   "source": [
    "다시 한 번, 이 성능계수는 $T_H$와 $T_L$의 온도 한계 사이에서 작동하는 냉동기나 열펌프가 가질 수 있는 최고의 COP이다."
   ]
  },
  {
   "cell_type": "markdown",
   "metadata": {},
   "source": [
    "# 7. 엔트로피"
   ]
  },
  {
   "cell_type": "markdown",
   "metadata": {},
   "source": [
    "열역학 제2법칙을 따르다보면 엔트로피(entropy)라는 새로운 상태량의 정의에 다다르는데, 엔트로피는 계의 미시적 무질서에 대한 정량적 척도이다. 사이클 적분이 영(0)인 양은 항상 상태량이며, 엔트로피는 다음과 같이 정의된다."
   ]
  },
  {
   "cell_type": "markdown",
   "metadata": {},
   "source": [
    "$$dS=\\left(\\frac{dQ}{T}\\right)_{int rev}$$"
   ]
  },
  {
   "cell_type": "markdown",
   "metadata": {},
   "source": [
    "특히 내적 가역인 등온과정의 경우에 인트로피 변화는"
   ]
  },
  {
   "cell_type": "markdown",
   "metadata": {},
   "source": [
    "$$\\Delta S=\\frac{Q}{T_0}$$"
   ]
  },
  {
   "cell_type": "markdown",
   "metadata": {},
   "source": [
    "이다. 엔트로피의 정의와 조합된 Clausius 부등식의 부등호로부터 엔트로피 증가의 원리로 알려진 부등식을 얻을 수 있으며 다음과 같이 표현된다."
   ]
  },
  {
   "cell_type": "markdown",
   "metadata": {},
   "source": [
    "$$S_{gen} \\geq 0$$"
   ]
  },
  {
   "cell_type": "markdown",
   "metadata": {},
   "source": [
    "여기서 $S_{gen}$은 과정 중에 생성되는 엔트로피이다. 엔트로피 변화는 열전달, 질량유동, 비가역성에 의하여 일어난다. 계로 전달되는 열전달은 엔트로피를 증가시키며 계로부터 있는 열전달은 엔트로피를 감소시킨다. 비가역성의 효과는 항상 엔트로피를 증가시키는 것이다."
   ]
  },
  {
   "cell_type": "markdown",
   "metadata": {},
   "source": [
    "과정에 대한 엔트로피 변화와 등엔트로피 관계식은 다음과 같이 요약될 수 있다."
   ]
  },
  {
   "cell_type": "markdown",
   "metadata": {},
   "source": [
    "1. 순수물질"
   ]
  },
  {
   "cell_type": "markdown",
   "metadata": {},
   "source": [
    "모든 과정: $\\Delta s = s_2-s_1$"
   ]
  },
  {
   "cell_type": "markdown",
   "metadata": {},
   "source": [
    "등엔트로피 과정: $s_2=s_1$"
   ]
  },
  {
   "cell_type": "markdown",
   "metadata": {},
   "source": [
    "2. 비압축성 물질 (대부분의 고체, 액체)"
   ]
  },
  {
   "cell_type": "markdown",
   "metadata": {},
   "source": [
    "모든과정 : $s_2-s_1=c_{avg}ln{T_2/T_1}$"
   ]
  },
  {
   "cell_type": "markdown",
   "metadata": {},
   "source": [
    "등엔트로피 과정: $T_2=T_1$"
   ]
  },
  {
   "cell_type": "markdown",
   "metadata": {},
   "source": [
    "3. 이상기체"
   ]
  },
  {
   "cell_type": "markdown",
   "metadata": {},
   "source": [
    "a. 상수 비열(근사 계산)"
   ]
  },
  {
   "cell_type": "markdown",
   "metadata": {},
   "source": [
    "모든 과정:"
   ]
  },
  {
   "cell_type": "markdown",
   "metadata": {},
   "source": [
    "$$s_2-s_1=c_{v,avg}ln\\frac{T_2}{T_1}+Rln\\frac{v_2}{v_1}$$"
   ]
  },
  {
   "cell_type": "markdown",
   "metadata": {},
   "source": [
    "$$s_2-s_1=c_{p,avg}ln\\frac{T_2}{T_1}-Rln\\frac{P_2}{P_1}$$"
   ]
  },
  {
   "cell_type": "markdown",
   "metadata": {},
   "source": [
    "등엔트로피 과정:"
   ]
  },
  {
   "cell_type": "markdown",
   "metadata": {},
   "source": [
    "$$\\left(\\frac{T_2}{T_1}=\\right)_{s=const}=\\left(\\frac{v_1}{v_2}\\right)^{k-1}$$"
   ]
  },
  {
   "cell_type": "markdown",
   "metadata": {},
   "source": [
    "$$\\left(\\frac{T_2}{T_1}=\\right)_{s=const}=\\left(\\frac{P_2}{P_1}\\right)^{(k-1)/k}$$"
   ]
  },
  {
   "cell_type": "markdown",
   "metadata": {},
   "source": [
    "$$\\left(\\frac{P_2}{P_1}=\\right)_{s=const}=\\left(\\frac{v_1}{v_2}\\right)^{k}$$"
   ]
  },
  {
   "cell_type": "markdown",
   "metadata": {},
   "source": [
    "b. 변수 비열(정확 계산)"
   ]
  },
  {
   "cell_type": "markdown",
   "metadata": {},
   "source": [
    "모든 과정:"
   ]
  },
  {
   "cell_type": "markdown",
   "metadata": {},
   "source": [
    "$$s_2-s_1=s_2^\\circ-s_2^\\circ-R ln\\frac{P_2}{P_1}$$"
   ]
  },
  {
   "cell_type": "markdown",
   "metadata": {},
   "source": [
    "등엔트로피 과정:"
   ]
  },
  {
   "cell_type": "markdown",
   "metadata": {},
   "source": [
    "$$s_2^\\circ=s_1^\\circ+R ln\\frac{P_2}{P_1}$$"
   ]
  },
  {
   "cell_type": "markdown",
   "metadata": {},
   "source": [
    "$$\\left(\\frac{P_2}{P_1}\\right)_{s=const}=\\frac{P_{r2}}{P_{r1}}$$"
   ]
  },
  {
   "cell_type": "markdown",
   "metadata": {},
   "source": [
    "$$\\left(\\frac{v_2}{v_1}\\right)_{s=const}=\\frac{v_{r2}}{v_{r1}}$$"
   ]
  },
  {
   "cell_type": "markdown",
   "metadata": {},
   "source": [
    "여기서 $P_r$은 상대 압력이며, $v_r$은 상대 비체적이다. 함수 $s^\\circ$는 온도에만 의존한다."
   ]
  },
  {
   "cell_type": "markdown",
   "metadata": {},
   "source": [
    "가역과정에 대한 정상유동일은 다음과 같이 유체 상태량의 항으로 표현될 수 있다."
   ]
  },
  {
   "cell_type": "markdown",
   "metadata": {},
   "source": [
    "$$w_{rev}=-\\int_1^2 v dP-\\Delta ke - \\Delta pe$$"
   ]
  },
  {
   "cell_type": "markdown",
   "metadata": {},
   "source": [
    "비압축성 물질($v=$일정)의 경우 위의 식은 아래와 같이 간단하게 된다."
   ]
  },
  {
   "cell_type": "markdown",
   "metadata": {},
   "source": [
    "$$w_{rev}=-v(P_2-P_1)-\\Delta ke - \\Delta pe$$"
   ]
  },
  {
   "cell_type": "markdown",
   "metadata": {},
   "source": [
    "정상유동과정 동안에 수행하는 일은 비체적에 비례한다. 그러므로 압축과정에는 입력일을 최소로 하기 위해 유체의 비체적을 가능한 한 작게 하고, 팽창과정에는 출력일을 최대로 하기 위하여 가능한 한 비체적을 크게 유지하여야 한다."
   ]
  },
  {
   "cell_type": "markdown",
   "metadata": {},
   "source": [
    "이상기체를 $T_1$, $P_1$으로부터 $T_2$, $P_2$까지 세 가지 과정, 즉 등엔트로피($Pv^k=$상수), 폴리트로피($Pv^n=$상수), 등온($Pv=$상수)과정을 통해 압축하는 경우에 압축기의 가역 입력일은 각각 적분을 수행하여 구할 수 있으며, 그 결과는 다음과 같다."
   ]
  },
  {
   "cell_type": "markdown",
   "metadata": {},
   "source": [
    "등엔트로피 과정:"
   ]
  },
  {
   "cell_type": "markdown",
   "metadata": {},
   "source": [
    "$$w_{comp,in}=\\frac{kR(T_2-T_1)}{k-1}=\\frac{kRT_1}{k-1}\\left[\\left(\\frac{P_2}{P_1}\\right)^{(k-1)/k}-1\\right]$$"
   ]
  },
  {
   "cell_type": "markdown",
   "metadata": {},
   "source": [
    "폴리트로픽 과정:"
   ]
  },
  {
   "cell_type": "markdown",
   "metadata": {},
   "source": [
    "$$w_{comp,in}=\\frac{nR(T_2-T_1)}{n-1}=\\frac{nRT_1}{n-1}\\left[\\left(\\frac{P_2}{P_1}\\right)^{(n-1)/n}-1\\right]$$"
   ]
  },
  {
   "cell_type": "markdown",
   "metadata": {},
   "source": [
    "등온과정:"
   ]
  },
  {
   "cell_type": "markdown",
   "metadata": {},
   "source": [
    "$$w_{comp,in}=RT ln\\frac{P_2}{P_1}$$"
   ]
  },
  {
   "cell_type": "markdown",
   "metadata": {},
   "source": [
    "압축기에 대한 입력일은 중간 냉각을 하는 다단압축을 이용하여 감소시킬 수 있다. 입력일의 최대 절약을 위해서는 압축기 각 단계의 압력비가 같아야 한다."
   ]
  },
  {
   "cell_type": "markdown",
   "metadata": {},
   "source": [
    "대부분의 정상유동장치는 단열 조건에서 작동하므로 이 장치의 이상적인 과정은 등엔트로피 과정이다. 실제 장치가 이성적 모델을 얼마나 효과적으로 근접하는가를 약적으로 나타내는 매개변수를 등엔트로피 효율(isentropic efficientcy) 또는 단열효율(adiabatic efficiency)이라고 한다. 터빈, 압축기, 노즐의 등엔트로피 효율은 다음과 같이 표현된다."
   ]
  },
  {
   "cell_type": "markdown",
   "metadata": {},
   "source": [
    "$$\\eta_T=\\frac{actual\\; turbine\\; work}{isentropic\\; turbine\\; work}=\\frac{w_a}{w_s}\\approx\\frac{h_1-h_{2a}}{h_1-h_{2s}}$$"
   ]
  },
  {
   "cell_type": "markdown",
   "metadata": {},
   "source": [
    "$$\\eta_C=\\frac{isentropic\\; compressor\\; work}{actual\\; compressor\\; work}=\\frac{w_s}{w_a}\\approx\\frac{h_{2s}-h_{1}}{h_{2a}-h_{1}}$$"
   ]
  },
  {
   "cell_type": "markdown",
   "metadata": {},
   "source": [
    "$$\\eta_N=\\frac{actual\\; KE\\; at\\; nozzle\\; exit}{isentropic\\; KE\\; at\\; nozzle\\; exit}=\\frac{V_{2a}^2}{V_{2s}^2}\\approx\\frac{h_1-h_{2a}}{h_1-h_{2s}}$$"
   ]
  },
  {
   "cell_type": "markdown",
   "metadata": {},
   "source": [
    "위 관계식에서 $h_{2a}$와 $h_{2s}$는 각각 실제과정 및 등엔트로피 과정에서 출구상태의 엔탈피 값이다."
   ]
  },
  {
   "cell_type": "markdown",
   "metadata": {},
   "source": [
    "어떤 종류의 계가 어떤 종류의 과정을 수행하더라도 적용할 수 있는 일반적인 형식의 엔트로피 평형은 다음과 같이 표현될 수 있다."
   ]
  },
  {
   "cell_type": "markdown",
   "metadata": {},
   "source": [
    "$$S_{in}-S_{out} + S_{gen} = \\Delta S_{system}$$"
   ]
  },
  {
   "cell_type": "markdown",
   "metadata": {},
   "source": [
    "열과 질량에 의한 순 엔트로피 전달 + 엔트로피 생성 = 엔트로피 변화"
   ]
  },
  {
   "cell_type": "markdown",
   "metadata": {},
   "source": [
    "또는 변화율 형식으로 쓰면"
   ]
  },
  {
   "cell_type": "markdown",
   "metadata": {},
   "source": [
    "$$\\dot{S}_{in}-\\dot{S}_{out}+\\dot{S}_{gen}=dS_{system}/dt$$"
   ]
  },
  {
   "cell_type": "markdown",
   "metadata": {},
   "source": [
    "열과 질량에 의한 순 엔트로피 전달률 + 엔트로피 생성률 = 엔트로피 변화율"
   ]
  },
  {
   "cell_type": "markdown",
   "metadata": {},
   "source": [
    "이다."
   ]
  },
  {
   "cell_type": "markdown",
   "metadata": {},
   "source": [
    "일반적인 정상유동과정의 경우에는 엔트로피 평형이 다음과 같이 간단하게 표현된다."
   ]
  },
  {
   "cell_type": "markdown",
   "metadata": {},
   "source": [
    "$$\\dot{S}_{gen}=\\sum\\dot{m}_es_e-\\sum\\dot{m}_is_i-\\sum\\frac{\\dot{Q}_k}{T_k}$$"
   ]
  },
  {
   "cell_type": "markdown",
   "metadata": {},
   "source": [
    "# 8. 엑서지"
   ]
  },
  {
   "cell_type": "markdown",
   "metadata": {},
   "source": [
    "우주의 에너지 양은 질량과 마찬가지로 일정하다. 에너지 위기당시 에너지보존방법에 대한 연설과 기사들이 쏟아졌다. 공학자로써 우리는 에너지가 보존되고 있다는 것을 이미 알고 있다. 보존되지 않는 것은 에너지의 잠재일인 엑서지이다. 엑서지는 일단 낭비되면, 결코 회수될 수 없다. 에너지를 사용할 때(예를 들면, 집을 난방하기 위해), 우리는 어떠한 에너지도 파괴하지 않는다. 우리는 단지 그것을 유용성이 더 적은 형태, 즉 더 적은 엑서지의 형태로 변환할 뿐이다."
   ]
  },
  {
   "cell_type": "markdown",
   "metadata": {},
   "source": [
    "주어진 상태에서 계의 잠재일을 엑서지라고 한다. 엑서지는 상태량이고 계와 환경의 상태에 의존한다. 주위와 평형을 이루고 있는 계의 엑서지는 영(0)이고, 이때 그 계는 사장상태에 있다고 말한다. 열원에 의해 공급된 열의 엑서지는 열원과 환경 사이에 작동하는 카르노 열기관의 출력일과 같다."
   ]
  },
  {
   "cell_type": "markdown",
   "metadata": {},
   "source": [
    "가역일 $W_{rev}$는 주어진 초기상태와 최종상태 사이에서 계가 과정을 수행할 때 발생시킬 수 있는 최대의 유용일(또는 소비하는 최소 일)로 정의된다."
   ]
  },
  {
   "cell_type": "code",
   "execution_count": null,
   "metadata": {},
   "outputs": [],
   "source": []
  }
 ],
 "metadata": {
  "kernelspec": {
   "display_name": "Python 3",
   "language": "python",
   "name": "python3"
  },
  "language_info": {
   "codemirror_mode": {
    "name": "ipython",
    "version": 3
   },
   "file_extension": ".py",
   "mimetype": "text/x-python",
   "name": "python",
   "nbconvert_exporter": "python",
   "pygments_lexer": "ipython3",
   "version": "3.7.3"
  }
 },
 "nbformat": 4,
 "nbformat_minor": 2
}
