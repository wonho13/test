{
 "cells": [
  {
   "cell_type": "markdown",
   "metadata": {},
   "source": [
    "$$p(x)=\\frac{1}{(2\\pi)^{D/2}|\\Sigma|^{1/2}}exp\\left(-\\frac{1}{2}(x-\\mu)^T\\Sigma^{-1}(x-\\mu)\\right)$$"
   ]
  },
  {
   "cell_type": "markdown",
   "metadata": {},
   "source": [
    "$$y=(y_1,\\dots,y_m)'$$"
   ]
  },
  {
   "cell_type": "markdown",
   "metadata": {},
   "source": [
    "$$x=(x_1,\\dots,x_n)'$$"
   ]
  },
  {
   "cell_type": "markdown",
   "metadata": {},
   "source": [
    "$$\n",
    "\\begin{pmatrix}\n",
    "y \\\\ x\n",
    "\\end{pmatrix}\n",
    "\\sim\n",
    "N_{m,n}\n",
    "\\left[\n",
    "\\begin{pmatrix}\n",
    "\\mu_y \\\\ \\mu_x\n",
    "\\end{pmatrix}\n",
    "\\begin{pmatrix}\n",
    "\\Sigma_{yy} && \\Sigma_{yx} \\\\\n",
    "\\Sigma_{yx} && \\Sigma_{xx}\n",
    "\\end{pmatrix}\n",
    "\\right]\n",
    "$$"
   ]
  },
  {
   "cell_type": "markdown",
   "metadata": {},
   "source": [
    "$$\n",
    "\\begin{pmatrix}\n",
    "x \\\\ y\n",
    "\\end{pmatrix}\n",
    "\\sim\n",
    "N\n",
    "\\left[\n",
    "\\begin{pmatrix}\n",
    "0 \\\\ 0\n",
    "\\end{pmatrix}\n",
    "\\begin{pmatrix}\n",
    "1 && \\rho \\\\\n",
    "\\rho && 1\n",
    "\\end{pmatrix}\n",
    "\\right]\n",
    "$$"
   ]
  },
  {
   "cell_type": "markdown",
   "metadata": {},
   "source": [
    "$|\\Sigma|=1-\\rho^2$"
   ]
  },
  {
   "cell_type": "markdown",
   "metadata": {},
   "source": [
    "$\\Sigma^{-1}=\\frac{1}{1-\\rho^2}\n",
    "\\begin{pmatrix}\n",
    "1 && -\\rho \\\\\n",
    "-\\rho && 1\n",
    "\\end{pmatrix}$"
   ]
  },
  {
   "cell_type": "markdown",
   "metadata": {},
   "source": [
    "$p(x,y)=\\frac{1}{(2\\pi)(1-\\rho^2)^{1/2}}exp\\left(-\\frac{1}{2}\n",
    "\\begin{pmatrix}\n",
    "x&&y\n",
    "\\end{pmatrix}\n",
    "\\frac{1}{1-\\rho^2}\n",
    "\\begin{pmatrix}\n",
    "1 && -\\rho \\\\\n",
    "-\\rho && 1\n",
    "\\end{pmatrix}\n",
    "\\begin{pmatrix}\n",
    "x\\\\y\n",
    "\\end{pmatrix}\n",
    "\\right)$"
   ]
  },
  {
   "cell_type": "markdown",
   "metadata": {},
   "source": [
    "$p(x,y)=\\frac{1}{(2\\pi)(1-\\rho^2)^{1/2}}exp\\left(-\\frac{1}{2}\n",
    "\\frac{1}{1-\\rho^2}\n",
    "\\begin{pmatrix}\n",
    "x-\\rho y && -\\rho x+y\n",
    "\\end{pmatrix}\n",
    "\\begin{pmatrix}\n",
    "x\\\\y\n",
    "\\end{pmatrix}\n",
    "\\right)$"
   ]
  },
  {
   "cell_type": "markdown",
   "metadata": {},
   "source": [
    "$p(x,y)=\\frac{1}{(2\\pi)(1-\\rho^2)^{1/2}}exp\\left(-\\frac{1}{2}\n",
    "\\frac{1}{1-\\rho^2}\n",
    "(\n",
    "x^2-2\\rho xy+y^2\n",
    ")\n",
    "\\right)$"
   ]
  },
  {
   "cell_type": "markdown",
   "metadata": {},
   "source": [
    "$p(x,y)=p(y|x)p(x)$"
   ]
  },
  {
   "cell_type": "markdown",
   "metadata": {},
   "source": [
    "$p(x)=\\frac{1}{\\sqrt{2\\pi}\\sigma}exp\\left(-\\frac{1}{2\\sigma^2}(x-\\mu)^2\\right)$"
   ]
  },
  {
   "cell_type": "markdown",
   "metadata": {},
   "source": [
    "$\\frac{p(x,y)}{p(x)}=$"
   ]
  },
  {
   "cell_type": "markdown",
   "metadata": {},
   "source": []
  },
  {
   "cell_type": "markdown",
   "metadata": {},
   "source": []
  },
  {
   "cell_type": "markdown",
   "metadata": {},
   "source": []
  }
 ],
 "metadata": {
  "kernelspec": {
   "display_name": "Python 3",
   "language": "python",
   "name": "python3"
  },
  "language_info": {
   "codemirror_mode": {
    "name": "ipython",
    "version": 3
   },
   "file_extension": ".py",
   "mimetype": "text/x-python",
   "name": "python",
   "nbconvert_exporter": "python",
   "pygments_lexer": "ipython3",
   "version": "3.6.6"
  }
 },
 "nbformat": 4,
 "nbformat_minor": 2
}
