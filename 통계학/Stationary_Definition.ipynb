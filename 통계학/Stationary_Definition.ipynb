{
 "cells": [
  {
   "cell_type": "markdown",
   "metadata": {},
   "source": [
    "시계열 분석에서 각 시간에서의 값은 각각의 확률분포에서 추출된 샘플로 고려한다. 예를들어 $x_t$와 $x_s$라는 시간이력상의 두 데이터가 있으면 이 두 데이터는 $x_t\\sim X_t$, $x_s\\sim X_s$에 따라 추출된 샘플로 고려한다. 여기서 추출된 데이터를 소문자로, 확률분포를 대문자로 표기하기로 한다."
   ]
  },
  {
   "cell_type": "markdown",
   "metadata": {},
   "source": [
    "## 1. 평균 (Mean)"
   ]
  },
  {
   "cell_type": "markdown",
   "metadata": {},
   "source": [
    "시계열 분석에서 통상적으로 말하는 평균은 각 시점에서의 값이 따르는 확률 분포의 평균을 의미한다."
   ]
  },
  {
   "cell_type": "markdown",
   "metadata": {},
   "source": [
    "$$\\mu_{X_t}=E[X_t]$$"
   ]
  },
  {
   "cell_type": "markdown",
   "metadata": {},
   "source": [
    "## 2. 분산 (Variance)"
   ]
  },
  {
   "cell_type": "markdown",
   "metadata": {},
   "source": [
    "시계열 분석에서 통상적으로 말하는 분산은 각 시점에서의 값이 따르는 확률 분포의 분산을 의미한다."
   ]
  },
  {
   "cell_type": "markdown",
   "metadata": {},
   "source": [
    "$$\\sigma_{X_t}=Var[X_t]$$"
   ]
  },
  {
   "cell_type": "markdown",
   "metadata": {},
   "source": [
    "## 3. 자기공분산 (Autocovariance)"
   ]
  },
  {
   "cell_type": "markdown",
   "metadata": {},
   "source": [
    "자기공분산은 다음과 같이 정의되며, **샘플의 분포**를 고려하는 평균, 분산과 달리 **2개의 시점의 샘플 데이터**를 고려하는 값이다."
   ]
  },
  {
   "cell_type": "markdown",
   "metadata": {},
   "source": [
    "$$\\gamma_x(s,t)=Cov[x_t,x_s]=E[(x_t-\\mu_t)(x_s-\\mu_s)]$$"
   ]
  },
  {
   "cell_type": "markdown",
   "metadata": {},
   "source": [
    "자기공분산이 0이라는 것은 두개의 시점 간에 선형적인 관계가 없다는 뜻이며, 0이 아니면 선형적인 관계가 있음을 의미한다. 만약 두 시점이 Independent이면 자기공분산은 0이다. 하지만 자기공분산이 0이라고해서 Independant한 것은 아니다. 왜냐하면 비선형적으로 dependant 할 수 있기 때문이다."
   ]
  },
  {
   "cell_type": "markdown",
   "metadata": {},
   "source": [
    "$s=t$인 경우 자기공분산은 샘플분산과 동일하다."
   ]
  },
  {
   "cell_type": "markdown",
   "metadata": {},
   "source": [
    "$$\\gamma_x(t,t)=E[(x_t-\\mu_t)^2]=var(x_t)$$"
   ]
  },
  {
   "cell_type": "markdown",
   "metadata": {},
   "source": [
    "## 4. 자기상관함수 (AutoCorrelation Function, ACF)"
   ]
  },
  {
   "cell_type": "markdown",
   "metadata": {},
   "source": [
    "상관계수는 자기공분산을 2개의 각 시점 샘플 데이터의 자기공분산으로 정규화 한 값이다."
   ]
  },
  {
   "cell_type": "markdown",
   "metadata": {},
   "source": [
    "$$\\rho_x(x,t)=Corr[x_t,x_s]=\\frac{\\gamma_x(s,t)}{\\sqrt{\\gamma_x(s,s)}\\sqrt{\\gamma_x(t,t)}}$$"
   ]
  },
  {
   "cell_type": "markdown",
   "metadata": {},
   "source": [
    "자기상관함수는 항상 $-1\\sim1$의 범위 내에 존재한다."
   ]
  },
  {
   "cell_type": "markdown",
   "metadata": {},
   "source": [
    "## 5. 교차공분산(Cross-Covariance Function)"
   ]
  },
  {
   "cell_type": "markdown",
   "metadata": {},
   "source": [
    "자기공분산이 1개의 시계열 데이터의 다른 두 시점에 대해 고려한 것이라면, 교차 공분산은 두 개의 시계열 데이터 $x, y$에 대하여 다음과 같이 고려한다."
   ]
  },
  {
   "cell_type": "markdown",
   "metadata": {},
   "source": [
    "$$\\gamma_{xy}(s,t)=cov(x_s,x_y)=E[(x_s-\\mu_{xs})(y_t-\\mu_{yt}]$$"
   ]
  },
  {
   "cell_type": "markdown",
   "metadata": {},
   "source": [
    "## 6. 교차상관함수 (Cross-Correlation Function, CCF)"
   ]
  },
  {
   "cell_type": "markdown",
   "metadata": {},
   "source": [
    "교차상관함수는 다음과 같이 정의된다."
   ]
  },
  {
   "cell_type": "markdown",
   "metadata": {},
   "source": [
    "$$\\rho_{xy}(s,t)=\\frac{\\gamma_{xy}(s,t)}{\\sqrt{\\gamma_x(s,s)\\gamma_y(t,t)}}$$"
   ]
  },
  {
   "cell_type": "markdown",
   "metadata": {},
   "source": [
    "## 6. 정상(Stationary)"
   ]
  },
  {
   "cell_type": "markdown",
   "metadata": {},
   "source": [
    "## 6.1 Strictly Stationary"
   ]
  },
  {
   "cell_type": "markdown",
   "metadata": {},
   "source": [
    "$\\{x_{t1},x_{t2},\\dots,x_{tk}\\}$와 같은 시계열 데이터 집합이 있다고 하자. **Strictly Stationary**라 함은 앞선 시계열 데이터 집합의 확률적 거동이 모든 h에 대하여 $\\{x_{t1+h},x_{t2+h},\\dots,x_{tk+h}\\}$와 동일한 조건을 의미한다."
   ]
  },
  {
   "cell_type": "markdown",
   "metadata": {},
   "source": [
    "## 6.2 Weakly Stationary"
   ]
  },
  {
   "cell_type": "markdown",
   "metadata": {},
   "source": [
    "댜음 2가지 조건을 만족하면 **Weakly Stationary**라고 한다."
   ]
  },
  {
   "cell_type": "markdown",
   "metadata": {},
   "source": [
    "(1) 특정 시점의 확률분포의 평균 $\\mu_t=E[X_t]$이 시간 $t$와 무관하게 동일하다. 즉, 모든 시간에서의 값들은 평균이 같은 분포로 부터 샘플된 값이다.\n",
    "\n",
    "(2) 자기공분산 $\\gamma(s,t)$의 값은 $s$와 $t$의 값에는 무관하며 오직 $s$와 $t$사이의 거리 $|s-t|=h$에만 영향을 받는다. 즉, $s, t$가 다른 조합이라 할지라도 $h$만 같으면 자기공분산의 값을 동일(일정)하다. 따라서 Weakly Stationary인 시계열 데이터의 자기공분산 함수(ACF)는 $h$대한 함수 $\\gamma(h)$로 표현 가능하다."
   ]
  },
  {
   "cell_type": "markdown",
   "metadata": {},
   "source": [
    "## 7. 백색소음(White Noise)"
   ]
  },
  {
   "cell_type": "markdown",
   "metadata": {},
   "source": [
    "다음 세가지 조건을 만족하는 시계열 데이터를 백색소음이라고 한다."
   ]
  },
  {
   "cell_type": "markdown",
   "metadata": {},
   "source": [
    "(1) 모든 시점의 데이터는 Uncorrelated이다. 즉 $Cov(w_t,w_s)=0 \\;\\; (for \\;\\;t\\neq s)$"
   ]
  },
  {
   "cell_type": "markdown",
   "metadata": {},
   "source": [
    "(2) 모든 시점의 데이터는 평균이 0인 분포로 부터 생성된다."
   ]
  },
  {
   "cell_type": "markdown",
   "metadata": {},
   "source": [
    "(3) 모든 시점의 데이터는 분산이 $\\sigma_w^2$인 분포로 부터 생성된다."
   ]
  },
  {
   "cell_type": "markdown",
   "metadata": {},
   "source": [
    "백색 소음은 다음과 같이 표현한다."
   ]
  },
  {
   "cell_type": "markdown",
   "metadata": {},
   "source": [
    "$$w_t\\sim WN(0,\\sigma_w^2)$$"
   ]
  },
  {
   "cell_type": "markdown",
   "metadata": {},
   "source": [
    "백색소음은 Stationary 할까?\n",
    "\n",
    "(1) 백색소음의 평균은 0이므로 시간 t와 무관하게 동일함.\n",
    "\n",
    "(2) 백색소음의 자기공분산은 $s\\neq t$인 경우 0, $s=t$인 경우 $\\sigma_w^2$으로 $s, t$와 무관함.\n",
    "\n",
    "따라서 백색소음은 Stationary 하다.\n",
    "\n",
    "참고로 별도로 말이 없으면 Stationary는 Weakly Stationary를 의미한다."
   ]
  }
 ],
 "metadata": {
  "kernelspec": {
   "display_name": "Python 3",
   "language": "python",
   "name": "python3"
  },
  "language_info": {
   "codemirror_mode": {
    "name": "ipython",
    "version": 3
   },
   "file_extension": ".py",
   "mimetype": "text/x-python",
   "name": "python",
   "nbconvert_exporter": "python",
   "pygments_lexer": "ipython3",
   "version": "3.7.6"
  }
 },
 "nbformat": 4,
 "nbformat_minor": 4
}
