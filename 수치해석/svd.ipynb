{
 "cells": [
  {
   "cell_type": "markdown",
   "metadata": {},
   "source": [
    "### rank(A)의 정의\n",
    "\n",
    "- 선형적으로 독립적인 열의 개수\n",
    "\n",
    "- 선형적으로 독립적인 행의 개수"
   ]
  },
  {
   "cell_type": "markdown",
   "metadata": {},
   "source": [
    "###  A 가 n x n 사각 행렬이면, 다음이 성립함.\n",
    "\n",
    "(1) Ax = b 는 유일한 해를 가짐\n",
    "\n",
    "(2) Ax = 0 은 x = 0과 같음\n",
    "\n",
    "(3) A의 역행렬은 존재\n",
    "\n",
    "(4) det(A) $\\neq$ 0\n",
    "\n",
    "(5) rank(A)=n"
   ]
  },
  {
   "cell_type": "markdown",
   "metadata": {},
   "source": [
    "### 내적 <x,y>의 정의\n",
    "\n",
    "$x,y\\in \\mathbb{R}^n$ : x, y가 실수인 경우\n",
    "\n",
    "$<x,y> = x_1y_1+\\dots + x_ny_n$\n",
    "\n",
    "* $x,y\\in \\mathbb{C}^n$ : x, y가 허수인 경우\n",
    "\n",
    "$<x,y> = x_1\\bar{y_1}+\\dots + x_n\\bar{y_n}$"
   ]
  },
  {
   "cell_type": "markdown",
   "metadata": {},
   "source": [
    "### Euclidean norm of $x\\in \\mathbb{R}^n$ 의 정의\n",
    "\n",
    "$||x||_2 = \\sqrt{x_1^2 + \\dots + x_n^2}$\n",
    "\n",
    "$\\;\\;\\;\\;\\;\\;\\;\\;=\\sqrt{(x \\cdot x)}$\n",
    "\n"
   ]
  },
  {
   "cell_type": "markdown",
   "metadata": {},
   "source": [
    "### 코시-슈바르츠 부등식 (Cauchy Schwarz inequality)"
   ]
  },
  {
   "cell_type": "markdown",
   "metadata": {},
   "source": [
    "$||(x \\cdot y)|| \\leq ||x||\\;||y||$"
   ]
  },
  {
   "cell_type": "markdown",
   "metadata": {},
   "source": [
    "### 삼각 부등식 (Triangle inequality)"
   ]
  },
  {
   "cell_type": "markdown",
   "metadata": {},
   "source": [
    "$|(x+y)|| \\leq ||x| + ||y||$"
   ]
  },
  {
   "cell_type": "markdown",
   "metadata": {},
   "source": [
    "### 기타 정리"
   ]
  },
  {
   "cell_type": "markdown",
   "metadata": {},
   "source": [
    "$(Ax \\cdot y) = (x \\cdot A^* y)$\n",
    "\n",
    "$A^* :$ conjugate of $A^T$"
   ]
  },
  {
   "cell_type": "markdown",
   "metadata": {},
   "source": [
    "$(x \\cdot y) = ||x||_2 ||y||_2 cos\\alpha$\n",
    "\n",
    "$\\alpha$ : x와 y 사이의 각도"
   ]
  },
  {
   "cell_type": "markdown",
   "metadata": {},
   "source": [
    "x와 y의 내적이 0이면 직교(orthogonal)라고 함\n",
    "\n",
    "그리고 ||x|| =1, ||y|| =1 까지 만족하면 orthonormal이라고 함. (정규화됨)"
   ]
  },
  {
   "cell_type": "markdown",
   "metadata": {},
   "source": [
    "$U U^* = U^* U = I$ 이면 $U$는 unitray matrix라고 함"
   ]
  },
  {
   "cell_type": "markdown",
   "metadata": {},
   "source": [
    "$U$가 unitary matrix이면,$U$의열들은 $\\mathbb{C}^n$의 basis가 됨."
   ]
  },
  {
   "cell_type": "markdown",
   "metadata": {},
   "source": [
    "unitary matrix의 각 열들은 orthogoanl이며, orthogonal 벡터들은 lineary independant함. n개의 lineary independant 한 벡터들은 basis가 됨."
   ]
  },
  {
   "cell_type": "markdown",
   "metadata": {},
   "source": [
    "두 벡터가 평행하지만 않으면 lineary independant 한 조건이다. 따라서 orthogonal이 linearly independant보다 더 좁은 의미이다."
   ]
  },
  {
   "cell_type": "markdown",
   "metadata": {},
   "source": [
    "$u_1, \\dots, u_n$이 orthogonal이고, 벡터공간 V의 basis라고 하자.\n",
    "\n",
    "$u \\in V$이고, $u = \\alpha_1 u_1 + \\dots + \\alpha_n u_n$ 로 표현할 수 있으므로,\n",
    "\n",
    "$\\alpha_j = \\frac{(u \\cdot u_j)}{||u_j||_2}\\left(=\\frac{(u \\cdot u_j)}{(u_j \\cdot u_j)}  \\right)$ 이다.\n",
    "\n",
    "증명\n",
    "\n",
    "$(u \\cdot u_j) = (\\alpha_1 u_1 + \\dots + \\alpha_n u_n,u_j)$\n",
    "\n",
    "orthgonal이므로 j 성분만 남음\n",
    "\n",
    "$= \\alpha_j (u_j \\cdot u_j)$"
   ]
  },
  {
   "cell_type": "markdown",
   "metadata": {},
   "source": [
    "### 고유값 및 고유벡터 (Eigenvalue and Eigenvector)"
   ]
  },
  {
   "cell_type": "markdown",
   "metadata": {},
   "source": [
    "$Ax=\\lambda x$를 만족하고 $x=0$이면,\n",
    "\n",
    "$\\lambda$를 고유값이라고 하며, 이때의 $x$를 고유값에 해당하는 고유벡터라고 함"
   ]
  },
  {
   "cell_type": "code",
   "execution_count": null,
   "metadata": {},
   "outputs": [],
   "source": []
  }
 ],
 "metadata": {
  "kernelspec": {
   "display_name": "Python 3",
   "language": "python",
   "name": "python3"
  },
  "language_info": {
   "codemirror_mode": {
    "name": "ipython",
    "version": 3
   },
   "file_extension": ".py",
   "mimetype": "text/x-python",
   "name": "python",
   "nbconvert_exporter": "python",
   "pygments_lexer": "ipython3",
   "version": "3.7.4"
  }
 },
 "nbformat": 4,
 "nbformat_minor": 2
}
