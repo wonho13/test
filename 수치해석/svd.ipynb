{
 "cells": [
  {
   "cell_type": "markdown",
   "metadata": {},
   "source": [
    "### 정의 : rank(A)\n",
    "\n",
    "- 선형적으로 독립적인 열의 개수\n",
    "\n",
    "- 선형적으로 독립적인 행의 개수"
   ]
  },
  {
   "cell_type": "markdown",
   "metadata": {},
   "source": [
    "### 정리 : A 가 n x n 사각 행렬이면, 다음이 성립함.\n",
    "\n",
    "(1) Ax = b 는 유일한 해를 가짐\n",
    "\n",
    "(2) Ax = 0 은 x = 0과 같음\n",
    "\n",
    "(3) A의 역행렬은 존재\n",
    "\n",
    "(4) det(A) $\\neq$ 0\n",
    "\n",
    "(5) rank(A)=n"
   ]
  },
  {
   "cell_type": "markdown",
   "metadata": {},
   "source": [
    "### 정의 : 내적 x . y\n",
    "\n",
    "$x,y\\in \\mathbb{R}^n$ : x, y가 실수인 경우\n",
    "\n",
    "$<x,y> = x_1y_1+\\dots + x_ny_n$\n",
    "\n",
    "* $x,y\\in \\mathbb{C}^n$ : x, y가 허수인 경우\n",
    "\n",
    "$<x,y> = x_1y_1^*+\\dots + x_ny_n^*$"
   ]
  },
  {
   "cell_type": "markdown",
   "metadata": {},
   "source": [
    "### 정의 :  Euclidean norm of $x\\in \\mathbb{R}^n$\n",
    "\n",
    "$||x||_2 = \\sqrt{x_1^2 + \\dots + x_n^2}$\n",
    "\n",
    "$\\;\\;\\;\\;\\;\\;\\;\\;=\\sqrt{(x \\cdot x)}$\n",
    "\n"
   ]
  },
  {
   "cell_type": "markdown",
   "metadata": {},
   "source": [
    "### 코시-슈바르츠 부등식 (Cauchy Schwarz inequality)"
   ]
  },
  {
   "cell_type": "markdown",
   "metadata": {},
   "source": []
  }
 ],
 "metadata": {
  "kernelspec": {
   "display_name": "Python 3",
   "language": "python",
   "name": "python3"
  },
  "language_info": {
   "codemirror_mode": {
    "name": "ipython",
    "version": 3
   },
   "file_extension": ".py",
   "mimetype": "text/x-python",
   "name": "python",
   "nbconvert_exporter": "python",
   "pygments_lexer": "ipython3",
   "version": "3.7.4"
  }
 },
 "nbformat": 4,
 "nbformat_minor": 2
}
