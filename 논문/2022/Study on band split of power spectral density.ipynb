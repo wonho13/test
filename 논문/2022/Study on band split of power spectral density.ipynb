{
 "cells": [
  {
   "cell_type": "markdown",
   "metadata": {},
   "source": [
    "**1. Introduction**"
   ]
  },
  {
   "cell_type": "markdown",
   "metadata": {},
   "source": [
    "랜덤진동에 노출되는 기기는 보통 PSD 가진 형태로 검증시험을 수행한다.\n",
    "\n",
    "일반적으로 기기 설계수명이 긴 경우 진동의 크기를 증폭시켜 시험한다.\n",
    "\n",
    "이러한 경우 가진대의 성능 및 비용을 고려하여 적절한 크기 및 시험 시간을 산정하게 된다.\n",
    "\n",
    "그런데 기기가 노출되는 진동의 수준이 높은 경우 시험시간이 비현실적으로 길어질 수 있으며, 진동이 가지는 주파수의 범위를 가진대가 감당하지 못하는 경우가 있을 수 있어 경제적인 시험이 불가한 경우가 발생할 수 있다.\n",
    "\n",
    "이러한 경우 주어진 시험 요건의 주파수 구간을 분할하여 연속 시험을 수행하는 방안을 고려해볼 수 있다.\n",
    "\n",
    "하지만 주파수 구간을 어떤 기준으로 분할하며, 각 분할한 시험 요건의 크기 및 시간을 산정하는 방법 또는 기술기준을 찾기 힘들다.\n",
    "\n",
    "따라서 본 연구에서는 PSD 시험 요건을 분할할 경우 시험의 동등성을 만족시킬 수 있는 방안에 대해 논의한다."
   ]
  },
  {
   "cell_type": "markdown",
   "metadata": {},
   "source": [
    "**2. Target PSD**"
   ]
  },
  {
   "cell_type": "markdown",
   "metadata": {},
   "source": [
    "기기가 노출되는 진동에 대한 PSD 형상은 진동원의 주파수 성분 및 크기에 따라 무한히 다양할 수 있다.\n",
    "\n",
    "Depending on the value of irregularity factor of Eq.(1), the system response has peaks which follows a Gaussian or Rayleigh distibution or intermediary [?]. According to Dirlik[?], fatigue damage on the system is affected by irregularity factor and mean frequency normalized by the expected ratio of peaks, Eq.(1), of response stress PSD of the system.\n",
    "\n",
    "$$\\gamma=\\frac{m_2}{\\sqrt{m_0 m_4}}\\tag{1}$$\n",
    "\n",
    "$$x_m=\\frac{m_1}{m_0}\\sqrt{\\frac{m_2}{m_4}}\\tag{2}$$\n",
    "\n",
    "where,\n",
    "\n",
    "$m_n$=nth moment=$\\int_{-\\infty}^{\\infty}f^n G(f)df$\n",
    "\n",
    "$G(f)$=PSD\n",
    "\n",
    "fmin=1, fmax=1000으로 설정하였으며, bwp, loc의 대한 정의는 Fig.(?)에 나타나 있다.\n",
    "\n",
    "일반적으로 가진 PSD 요건은 대상 기기 고유진동수 영역을 고려하도록 설정되므로, SDOF의 고유진동수는 1~1000 Hz 사이에 위치한다고 가정하였다.\n",
    "\n",
    "The PSD specification is generally generated using the measured vibration data. And this data can be pure random (i.g. white noise) or response of the base on which the equipment is installed. So in this study, three types of acceleration PSD with $g^2/Hz$ unit, band-limited white noise (BLWN), unimodal and bimodal PSD shwon in Fig.1 were chosen as the base input for the system for evaluation. For unimodal PSDs, transfer function for absolute acceleration response by base acceleration input, Eq.(3), was used. And bimodal PSDs were set to absolute sum of two unimodal PSDs as defined in Eq.(4). All the PSDs were set to have same root mean square (RMS) value, 10g, for comparison. \n",
    "\n",
    "$$G(f)=\\frac{A_1(f_1^4+(2\\zeta_1 f f_1)^2)}{(f_1^2-f^2)^2+(2\\zeta_1 f f_1)^2}\\tag{3}$$\n",
    "\n",
    "$$G(f)=\\sum_{i=1}^{2}\\frac{A_i (f_i^4+(2\\zeta_i f f_i)^2)}{(f_i^2-f^2)^2+(2\\zeta_i f f_i)^2}\\tag{4}$$\n",
    "\n",
    "\n",
    "목표로 선정한 PSD는 총 (?) 개이며, 각 PSD의 변수를 표?에 정리하였다.\n",
    "\n",
    "According to Dirlik[2], fatigue damage on the system is affectyd by irregularity factor and mean frequency normalized by the expected rate of peaks, Eq.(2), of response stress PSD of the system. For evaluating various shapes of PSDs, irregularity factors and normalized mean frequency of stress RPSD of SDOF system were set to have a range of zero to unity.\n",
    "\n",
    "The stress RPSDs of SDOF systems with various natural frequencies and damping factors were calculated assuming the relationship between the stress amplitude $S_a$ and absolute value of relative displacement response of SDOF system $|z|$ follows Eq.(5). The irregularity factors and normalized mean frequencies of stress RPSD calculated by Eq.(1) and Eq.(2) are shown in Fig.(?). It can be shown that the values were evenly distributed."
   ]
  },
  {
   "cell_type": "markdown",
   "metadata": {},
   "source": [
    "blwn, unimodal, bimodal PSD 관련 변수는 다음과 같다.\n",
    "\n",
    "\n",
    "blwn(f,fmin,fmax,bwp,loc)\n",
    "\n",
    "\n",
    "unimodal(f,fmin,fmax,bwp,loc,fn1,zeta1)\n",
    "\n",
    "\n",
    "bimodal(f,fmin,fmax,bwp,loc,fn1,zeta1,fn2,zeta2,ratio)"
   ]
  },
  {
   "cell_type": "code",
   "execution_count": 2,
   "metadata": {},
   "outputs": [
    {
     "name": "stdout",
     "output_type": "stream",
     "text": [
      "Python 3.x\n"
     ]
    }
   ],
   "source": [
    "%run 해석/functions.ipynb"
   ]
  },
  {
   "cell_type": "code",
   "execution_count": 11,
   "metadata": {},
   "outputs": [],
   "source": [
    "fmin = 1; fmax = 1000; bwp = 0.5; loc = 0.2;\n",
    "freq_spec = np.logspace(np.log10(fmin),np.log10(fmax),5000); psd_spec = np.zeros(5000); \n",
    "for i in range(5000):\n",
    "    psd_spec[i]= blwn(freq_spec[i],fmin,fmax,bwp,loc);"
   ]
  },
  {
   "cell_type": "code",
   "execution_count": 12,
   "metadata": {},
   "outputs": [
    {
     "data": {
      "image/png": "[encoded data removed]",
      "text/plain": [
       "<Figure size 432x288 with 1 Axes>"
      ]
     },
     "metadata": {
      "needs_background": "light"
     },
     "output_type": "display_data"
    }
   ],
   "source": [
    "plt.plot(freq_spec,psd_spec);"
   ]
  },
  {
   "cell_type": "code",
   "execution_count": 15,
   "metadata": {},
   "outputs": [],
   "source": [
    "bwp = np.linspace(0,1,11); loc = np.linspace(0,1,11);"
   ]
  },
  {
   "cell_type": "markdown",
   "metadata": {},
   "source": [
    "**3. Fatigue Damage Spectrum in Time Domain**"
   ]
  },
  {
   "cell_type": "markdown",
   "metadata": {},
   "source": []
  },
  {
   "cell_type": "code",
   "execution_count": null,
   "metadata": {},
   "outputs": [],
   "source": []
  },
  {
   "cell_type": "markdown",
   "metadata": {},
   "source": [
    "**4. Fatigue Damage Spectrum in Frequency Domain**"
   ]
  },
  {
   "cell_type": "markdown",
   "metadata": {},
   "source": [
    "The severity of PSD can be evaluated by fatigue damage spectrum (FDS). The FDS is a spectral representation of a fatigue damage index as a function of any system's natural frequency [?]. The FDS can be calcuated in both of time and frequency domain. There have been lots of efforts on how to calculated the FDS in the frequency domain. Some of the methods are listed in Table 2 [?]\n",
    "\n"
   ]
  },
  {
   "cell_type": "markdown",
   "metadata": {},
   "source": [
    "<table border=\"1\" width =\"500\" height=\"300\" align = \"center\" >\n",
    "    <caption> Table 2. Frequency domain fatigue damage models </caption>\n",
    "    <tr align = \"center\">\n",
    "        <td>Loading<br> Condition</td>\n",
    "        <td>Model (Method)</td>\n",
    "        <td>Cycle<br> Counting<br> Method</td>\n",
    "        <td>Ref.</td>\n",
    "    </tr>\n",
    "    <tr align = \"center\">\n",
    "        <td rowspan=9>General<br> Broad<br> Band<br>,<br> Gaussian</td>\n",
    "        <td>Peak Approximation</td>\n",
    "        <td>PVC</td>\n",
    "        <td>?</td>        \n",
    "    </tr>\n",
    "    <tr>\n",
    "        <td>Narrow-band<br> approximation</td>\n",
    "        <td>PVC</td>\n",
    "        <td>?</td>        \n",
    "    </tr>    \n",
    "\n",
    "</table>"
   ]
  },
  {
   "cell_type": "markdown",
   "metadata": {},
   "source": [
    "BLWN의 주파수 범위는 1~1000 Hz로, 크기는 1g^2/Hz로 설정하였다. 감쇠비 5%, Duration 10초, Dirlik 모델을 사용해 499.5 Hz에서 Band Split 한 경우 FDS는 다음과 같다."
   ]
  },
  {
   "cell_type": "markdown",
   "metadata": {},
   "source": [
    "Dirlik method of Eq.(1), which is known to be accurate for estimating rainflow fatigue damage [?] in frequency domain, is used."
   ]
  },
  {
   "cell_type": "markdown",
   "metadata": {},
   "source": [
    "$$D_{Dirlik}=\\frac{E[P]\\cdot T}{C}\\int_0^{\\infty} x^m P_{RR}(x)dx\\tag{1}$$"
   ]
  },
  {
   "cell_type": "markdown",
   "metadata": {},
   "source": [
    "$Where,$"
   ]
  },
  {
   "cell_type": "markdown",
   "metadata": {},
   "source": [
    "$E[P]=\\sqrt{\\frac{M_4}{M_2}}$ : rate of peaks\n",
    "\n",
    "$T =$  duration\n",
    "\n",
    "$C=N\\cdot S^m$ : material constant\n",
    "\n",
    "$m = $ fatigue exponent (slope factor of the S-N curve)\n",
    "\n",
    "$P_{RR}(z)=c_1 \\frac{1}{\\tau}e^{-z/\\tau}+c_2\\frac{z}{\\alpha^2}e^{-z^2/2\\alpha^2}+c_3 z e^{-z^2/2}$\n",
    "\n",
    ": rainflow range probability density function\n",
    "\n",
    "$z=\\frac{x}{2\\sqrt{m_0}}$\n",
    "\n",
    "$x_m=\\frac{m_1}{m_0}\\sqrt{\\frac{m_2}{m_4}}$\n",
    "\n",
    "$c_1=\\frac{2(x_m-\\gamma^2)}{1+\\gamma^2}$\n",
    "\n",
    "$\\alpha=\\frac{\\gamma-x_m-c_1^2}{1-\\gamma-c_1+c_1^2}$\n",
    "\n",
    "$c_2=\\frac{1-\\gamma-c_1+c_1^2}{1-\\alpha}$\n",
    "\n",
    "$c_3=1-c_1-c_2$\n",
    "\n",
    "$\\tau=1.25(\\gamma-c_3-c_2\\alpha)/c_1$\n",
    "\n",
    "$m_n=\\int f^n G(f)df$ : n-th moment of PSD (G(f))\n",
    "\n",
    "$\\gamma=\\frac{m_2}{\\sqrt{m_0m_4}}$ : irregularity factor\n",
    "\n"
   ]
  },
  {
   "cell_type": "markdown",
   "metadata": {},
   "source": [
    "**5. Band Split with Overlapping**"
   ]
  },
  {
   "cell_type": "markdown",
   "metadata": {},
   "source": [
    "앞선 주파수 영역 및 시간영역에서의 평가결과를 보면 주파수 분할 위치에서 피로손상의 영향이 감소되는 것을 알 수 있다. \n",
    "\n",
    "따라서 본 연구에서는 주파수 밴드 분할 시 일부 구간을 Overlapping 할 것을 제안하며, 그 영향에 대한 평가 결과를 제시하고자 한다."
   ]
  },
  {
   "cell_type": "markdown",
   "metadata": {},
   "source": [
    "**6. Conclusions**"
   ]
  },
  {
   "cell_type": "markdown",
   "metadata": {},
   "source": [
    "**References**"
   ]
  },
  {
   "cell_type": "code",
   "execution_count": null,
   "metadata": {},
   "outputs": [],
   "source": []
  }
 ],
 "metadata": {
  "kernelspec": {
   "display_name": "Python 3",
   "language": "python",
   "name": "python3"
  },
  "language_info": {
   "codemirror_mode": {
    "name": "ipython",
    "version": 3
   },
   "file_extension": ".py",
   "mimetype": "text/x-python",
   "name": "python",
   "nbconvert_exporter": "python",
   "pygments_lexer": "ipython3",
   "version": "3.8.3"
  }
 },
 "nbformat": 4,
 "nbformat_minor": 4
}
