{
 "cells": [
  {
   "cell_type": "markdown",
   "metadata": {},
   "source": [
    "**1. Introduction**"
   ]
  },
  {
   "cell_type": "markdown",
   "metadata": {},
   "source": [
    "랜덤진동에 노출되는 기기는 보통 PSD 가진 형태로 검증시험을 수행한다.\n",
    "\n",
    "일반적으로 기기 설계수명이 긴 경우 진동의 크기를 증폭시켜 시험한다.\n",
    "\n",
    "이러한 경우 가진대의 성능 및 비용을 고려하여 적절한 크기 및 시험 시간을 산정하게 된다.\n",
    "\n",
    "그런데 기기가 노출되는 진동의 수준이 높은 경우 시험시간이 비현실적으로 길어질 수 있으며, 진동이 가지는 주파수의 범위를 가진대가 감당하지 못하는 경우가 있을 수 있어 경제적인 시험이 불가한 경우가 발생할 수 있다.\n",
    "\n",
    "이러한 경우 주어진 시험 요건의 주파수 구간을 분할하여 연속 시험을 수행하는 방안을 고려해볼 수 있다.\n",
    "\n",
    "하지만 주파수 구간을 어떤 기준으로 분할하며, 각 분할한 시험 요건의 크기 및 시간을 산정하는 방법 또는 기술기준을 찾기 힘들다.\n",
    "\n",
    "따라서 본 연구에서는 PSD 시험 요건을 분할할 경우 시험의 동등성을 만족시킬 수 있는 방안에 대해 논의한다."
   ]
  },
  {
   "cell_type": "markdown",
   "metadata": {},
   "source": [
    "**2. Target PSD**"
   ]
  },
  {
   "cell_type": "markdown",
   "metadata": {},
   "source": [
    "기기가 노출되는 진동에 대한 PSD 형상은 진동원의 주파수 성분 및 크기에 따라 무한히 다양할 수 있다.\n",
    "\n",
    "Dirlik은 일반화된 FDS 주파수영역 계산법을 사용하기 위해 3가지 형태의 PSD를 고려하였으며, 각 형태의 PSD가 갖는 Irregularity Factor 범위를 선정하여 평가한 바 있다.\n",
    "\n",
    "(Irregularity Factor 수식 및 물리적 의미 추가.)\n",
    "\n",
    "Irregularity Factor 별로 PSD를 산정한 이유는 ~ 이다. [Dirlik 논문 읽어보고 추가할 것]\n",
    "\n",
    "본 연구에서는 Dirlik의 연구를 참고하여, 3가지 형태, 즉, band-limited white noise, unimodal, bimodal를 목표 PSD로 선정하였으며, 다양한 범위의 Irregularity Factor를 갖는 목표 PSD를 산정하였다.\n",
    "\n",
    "목표로 선정한 PSD는 총 (?) 개이며, 각 PSD의 변수를 표?에 정리하였다."
   ]
  },
  {
   "cell_type": "markdown",
   "metadata": {},
   "source": [
    "**3. Fatigue Damage Spectrum in Time Domain**"
   ]
  },
  {
   "cell_type": "markdown",
   "metadata": {},
   "source": [
    "**4. Fatigue Damage Spectrum in Frequency Domain**"
   ]
  },
  {
   "cell_type": "markdown",
   "metadata": {},
   "source": [
    "**5. Band Split with Overlapping**"
   ]
  },
  {
   "cell_type": "markdown",
   "metadata": {},
   "source": [
    "앞선 주파수 영역 및 시간영역에서의 평가결과를 보면 주파수 분할 위치에서 피로손상의 영향이 감소되는 것을 알 수 있다. \n",
    "\n",
    "따라서 본 연구에서는 주파수 밴드 분할 시 일부 구간을 Overlapping 할 것을 제안하며, 그 영향에 대한 평가 결과를 제시하고자 한다."
   ]
  },
  {
   "cell_type": "markdown",
   "metadata": {},
   "source": [
    "**6. Conclusions**"
   ]
  },
  {
   "cell_type": "markdown",
   "metadata": {},
   "source": [
    "**References**"
   ]
  },
  {
   "cell_type": "code",
   "execution_count": null,
   "metadata": {},
   "outputs": [],
   "source": []
  }
 ],
 "metadata": {
  "kernelspec": {
   "display_name": "Python 3",
   "language": "python",
   "name": "python3"
  },
  "language_info": {
   "codemirror_mode": {
    "name": "ipython",
    "version": 3
   },
   "file_extension": ".py",
   "mimetype": "text/x-python",
   "name": "python",
   "nbconvert_exporter": "python",
   "pygments_lexer": "ipython3",
   "version": "3.8.3"
  }
 },
 "nbformat": 4,
 "nbformat_minor": 4
}
