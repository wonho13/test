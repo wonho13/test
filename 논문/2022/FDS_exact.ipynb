{
 "cells": [
  {
   "cell_type": "code",
   "execution_count": 1,
   "id": "cddefde5",
   "metadata": {},
   "outputs": [],
   "source": [
    "from sympy import *"
   ]
  },
  {
   "cell_type": "code",
   "execution_count": 4,
   "id": "7b0c27b7",
   "metadata": {},
   "outputs": [],
   "source": [
    "def Dnb(T,C,m,A,K,f1,f2,fn,zeta):\n",
    "    def M0(A,K,f1,f2,fn,zeta):\n",
    "        def intF(f,fn,zeta):\n",
    "            return (2*fn*sqrt(1 - zeta**2)*(atan((f - fn*sqrt(1 - zeta**2))/sqrt(fn**2*zeta**2)) + atan((f + fn*sqrt(1 - zeta**2))/sqrt(fn**2*zeta**2))) + sqrt(fn**2*zeta**2)*(-log(f**2 - 2*f*fn*sqrt(1 - zeta**2) + fn**2) + log(f**2 + 2*f*fn*sqrt(1 - zeta**2) + fn**2)))/(8*fn**3*sqrt(fn**2*zeta**2)*sqrt(1 - zeta**2));\n",
    "        out = intF(f2,fn,zeta)\n",
    "        out -= intF(f1,fn,zeta)\n",
    "        out *= A*K**2\n",
    "        out /= (2*pi)**4\n",
    "        return out;\n",
    "    def M2(A,K,f1,f2,fn,zeta):\n",
    "        def intF(f,fn,zeta):\n",
    "            return f*(3*f**4 + 20*f**2*fn**2*zeta**2 - 10*f**2*fn**2 - 5*f**2 - 15*f*fn*sqrt(1 - zeta**2) + 15*fn**4 - 15*fn**2)/15\n",
    "        out = intF(f2,fn,zeta)\n",
    "        out -= intF(f1,fn,zeta)\n",
    "        out *= A*K**2\n",
    "        out /= (2*pi)**4\n",
    "        return out;\n",
    "    m0=M0(A,K,f1,f2,fn,zeta);\n",
    "    m2=M2(A,K,f1,f2,fn,zeta);\n",
    "    E0p = sqrt(m2/m0)\n",
    "    return (E0p*T/C)*((2*m0)**(m/2.0))\\\n",
    "    *gamma(m/2.0+1);"
   ]
  },
  {
   "cell_type": "code",
   "execution_count": 5,
   "id": "51c477c5",
   "metadata": {},
   "outputs": [],
   "source": [
    "import numpy as np"
   ]
  },
  {
   "cell_type": "code",
   "execution_count": 6,
   "id": "34445d79",
   "metadata": {},
   "outputs": [],
   "source": [
    "fn = np.logspace(0,3,1000)"
   ]
  },
  {
   "cell_type": "code",
   "execution_count": 7,
   "id": "b550cec3",
   "metadata": {},
   "outputs": [],
   "source": [
    "D = np.zeros(len(fn))\n",
    "D1 = np.zeros(len(fn))\n",
    "D2  = np.zeros(len(fn))"
   ]
  },
  {
   "cell_type": "code",
   "execution_count": 8,
   "id": "68738e60",
   "metadata": {},
   "outputs": [],
   "source": [
    "for i in range(len(fn)):\n",
    "    D[i] = Dnb(1,1,4,1,1,1,1000,fn[i],0.02)\n",
    "    D1[i] = Dnb(1,1,4,1,1,1,500,fn[i],0.02)\n",
    "    D2[i] = Dnb(1,1,4,1,1,500,1000,fn[i],0.02)\n",
    "    "
   ]
  },
  {
   "cell_type": "code",
   "execution_count": null,
   "id": "e750ce74",
   "metadata": {},
   "outputs": [],
   "source": []
  },
  {
   "cell_type": "code",
   "execution_count": 9,
   "id": "438e9cf2",
   "metadata": {},
   "outputs": [
    {
     "data": {
      "image/png": "[encoded data removed]",
      "text/plain": [
       "<Figure size 432x288 with 1 Axes>"
      ]
     },
     "metadata": {
      "needs_background": "light"
     },
     "output_type": "display_data"
    }
   ],
   "source": [
    "import matplotlib.pyplot as plt\n",
    "%matplotlib inline\n",
    "plt.plot(fn,(D1+D2)/D);"
   ]
  },
  {
   "cell_type": "code",
   "execution_count": 10,
   "id": "71a3618e",
   "metadata": {},
   "outputs": [],
   "source": [
    "def Ddirlik(T,C,m,A,K,f1,f2,fn,zeta):\n",
    "    def M0(A,K,f1,f2,fn,zeta):\n",
    "        def intF(f,fn,zeta):\n",
    "            return (2*fn*sqrt(1 - zeta**2)*(atan((f - fn*sqrt(1 - zeta**2))/sqrt(fn**2*zeta**2)) + atan((f + fn*sqrt(1 - zeta**2))/sqrt(fn**2*zeta**2))) + sqrt(fn**2*zeta**2)*(-log(f**2 - 2*f*fn*sqrt(1 - zeta**2) + fn**2) + log(f**2 + 2*f*fn*sqrt(1 - zeta**2) + fn**2)))/(8*fn**3*sqrt(fn**2*zeta**2)*sqrt(1 - zeta**2));\n",
    "        out = intF(f2,fn,zeta)\n",
    "        out -= intF(f1,fn,zeta)\n",
    "        out *= A*K**2\n",
    "        out /= (2*pi)**4\n",
    "        return out;\n",
    "    def M2(A,K,f1,f2,fn,zeta):\n",
    "        def intF(f,fn,zeta):\n",
    "            return f*(3*f**4 + 20*f**2*fn**2*zeta**2 - 10*f**2*fn**2 - 5*f**2 - 15*f*fn*sqrt(1 - zeta**2) + 15*fn**4 - 15*fn**2)/15\n",
    "        out = intF(f2,fn,zeta)\n",
    "        out -= intF(f1,fn,zeta)\n",
    "        out *= A*K**2\n",
    "        out /= (2*pi)**4\n",
    "        return out;\n",
    "    def M4(A,K,f1,f2,fn,zeta):\n",
    "        def intF(f,fn,zeta):\n",
    "            return (4*f*fn*sqrt(1 - zeta**2) - (-fn**2*(4*zeta**2 - 3)/2 - fn**2*sqrt((zeta - 1)*(zeta + 1))*(2*zeta - 1)*(2*zeta + 1)/(2*zeta))*log(f - 2*fn*zeta**2*sqrt(1 - zeta**2)/(4*zeta**4 - 5*zeta**2 + 1) + fn*sqrt(1 - zeta**2)/(4*zeta**4 - 5*zeta**2 + 1) - 2*zeta**2*sqrt(1 - zeta**2)*(-fn**2*(4*zeta**2 - 3)/2 - fn**2*sqrt((zeta - 1)*(zeta + 1))*(2*zeta - 1)*(2*zeta + 1)/(2*zeta))/(4*fn*zeta**4 - 5*fn*zeta**2 + fn)) + (-fn**2*(4*zeta**2 - 3)/2 - fn**2*sqrt((zeta - 1)*(zeta + 1))*(2*zeta - 1)*(2*zeta + 1)/(2*zeta))*log(f + 2*fn*zeta**2*sqrt(1 - zeta**2)/(4*zeta**4 - 5*zeta**2 + 1) - fn*sqrt(1 - zeta**2)/(4*zeta**4 - 5*zeta**2 + 1) + 2*zeta**2*sqrt(1 - zeta**2)*(-fn**2*(4*zeta**2 - 3)/2 - fn**2*sqrt((zeta - 1)*(zeta + 1))*(2*zeta - 1)*(2*zeta + 1)/(2*zeta))/(4*fn*zeta**4 - 5*fn*zeta**2 + fn)) - (-fn**2*(4*zeta**2 - 3)/2 + fn**2*sqrt((zeta - 1)*(zeta + 1))*(2*zeta - 1)*(2*zeta + 1)/(2*zeta))*log(f - 2*fn*zeta**2*sqrt(1 - zeta**2)/(4*zeta**4 - 5*zeta**2 + 1) + fn*sqrt(1 - zeta**2)/(4*zeta**4 - 5*zeta**2 + 1) - 2*zeta**2*sqrt(1 - zeta**2)*(-fn**2*(4*zeta**2 - 3)/2 + fn**2*sqrt((zeta - 1)*(zeta + 1))*(2*zeta - 1)*(2*zeta + 1)/(2*zeta))/(4*fn*zeta**4 - 5*fn*zeta**2 + fn)) + (-fn**2*(4*zeta**2 - 3)/2 + fn**2*sqrt((zeta - 1)*(zeta + 1))*(2*zeta - 1)*(2*zeta + 1)/(2*zeta))*log(f + 2*fn*zeta**2*sqrt(1 - zeta**2)/(4*zeta**4 - 5*zeta**2 + 1) - fn*sqrt(1 - zeta**2)/(4*zeta**4 - 5*zeta**2 + 1) + 2*zeta**2*sqrt(1 - zeta**2)*(-fn**2*(4*zeta**2 - 3)/2 + fn**2*sqrt((zeta - 1)*(zeta + 1))*(2*zeta - 1)*(2*zeta + 1)/(2*zeta))/(4*fn*zeta**4 - 5*fn*zeta**2 + fn)))/(4*fn*sqrt(1 - zeta**2))\n",
    "        out = intF(f2,fn,zeta)\n",
    "        out -= intF(f1,fn,zeta)\n",
    "        out *= A*K**2\n",
    "        out /= (2*pi)**4\n",
    "        return out;\n",
    "    m0=M0(A,K,f1,f2,fn,zeta);\n",
    "    m2=M2(A,K,f1,f2,fn,zeta);\n",
    "    m4=M4(A,K,f1,f2,fn,zeta);\n",
    "    r = m2/sqrt(m0*m4);\n",
    "    Ep = sqrt(m4/m2);\n",
    "    Xm = (m1/m0)*sqrt(m2/m4);\n",
    "    D1 = 2*(Xm-r**2)/(1+r**2);\n",
    "    R = (r - Xm - D1**2)\\\n",
    "       /(1 - r - D1 + D1**2);\n",
    "    D2 = (1 - r - D1 + D1**2)\\\n",
    "         /(1-R);\n",
    "    D3 = 1- D1 - D2;\n",
    "    Q = 1.25*(r - D3 - D2*R)/D1;\n",
    "    sa, Z = symbols('sa Z');\n",
    "    fsa = (D1/Q)*exp(-Z/Q);\n",
    "    fsa += (D2*Z/(R**2))*exp((-Z**2)/(2*R**2));\n",
    "    fsa += D3*Z*exp((-Z**2)/2)\n",
    "    fsa /= sqrt(m0);\n",
    "    fsa *= sa**m;\n",
    "    fsa.subs(Z,sa/sqrt(m0));\n",
    "    out = integrate(fsa,(sa,0,oo));\n",
    "    out *= Ep*T;\n",
    "    out /= C;\n",
    "    \n",
    "    \n",
    "    return out"
   ]
  },
  {
   "cell_type": "code",
   "execution_count": null,
   "id": "1d21aa71",
   "metadata": {},
   "outputs": [],
   "source": []
  }
 ],
 "metadata": {
  "kernelspec": {
   "display_name": "Python 3 (ipykernel)",
   "language": "python",
   "name": "python3"
  },
  "language_info": {
   "codemirror_mode": {
    "name": "ipython",
    "version": 3
   },
   "file_extension": ".py",
   "mimetype": "text/x-python",
   "name": "python",
   "nbconvert_exporter": "python",
   "pygments_lexer": "ipython3",
   "version": "3.9.7"
  }
 },
 "nbformat": 4,
 "nbformat_minor": 5
}
