{
 "cells": [
  {
   "cell_type": "markdown",
   "id": "4acae231",
   "metadata": {},
   "source": [
    "### 2.1 Wavelets Formulation"
   ]
  },
  {
   "cell_type": "markdown",
   "id": "23c271fd",
   "metadata": {},
   "source": [
    "웨이블릿 해석은 주어진 신호를 \"웨이블릿\" 형태로 확장하는 과정으로 구성되며, 이는 \"모 웨이블릿\"이라고 불리는 고정된 함수의 크기와 위치를 바꿔 생성된다. 모든 다양한 웨이블릿 형태 중 Newland가 제안한 \"하모닉 웨이블릿\"과 \"뮤지컬 웨이블릿\"이 동해석에 특히 유용하다. 이러한 웨이블릿 군들은 시간 영역에서 복소 값을 갖는 함수이며 주파수 영역에서는 사각형 형태의 푸리에 변환을 갖는다."
   ]
  },
  {
   "cell_type": "markdown",
   "id": "59d96cff",
   "metadata": {},
   "source": [
    "실수 값을 갖는 신호 $\\ddot{U}_g (t)$를 복소 값의 조합 계수 $a_{\\{m,n\\},k}$를 갖고 복소 값을 갖는 웨이블릿 $\\Psi_{\\{m,n\\},k}(t)$들의 조합으로 분해하기 위한 다른 방법은 다음의 원형 웨이블릿을 사용하는 것이다.  "
   ]
  },
  {
   "cell_type": "markdown",
   "id": "e008f75c",
   "metadata": {},
   "source": [
    "$$\\Psi_{\\{m,n\\},k}(t)=\\frac{1}{n-m}\\sum_{j=m}^{n-1} exp\\left[i2\\pi j (t-\\tau_{\\{m,n\\},k})\\right]\\tag{1}$$"
   ]
  },
  {
   "cell_type": "markdown",
   "id": "6f053575",
   "metadata": {},
   "source": [
    "여기서 $\\tau_{\\{m,n\\},k}=k/(n-m)$는 $\\{m,n\\}$으로 표시되는 주파수 밴드에 속하는 웨이블릿을 결정론적으로 시간 이동 시키는 값이며, $k$는 정수이다."
   ]
  },
  {
   "cell_type": "markdown",
   "id": "2a85b970",
   "metadata": {},
   "source": [
    "이산 웨이블릿 변환에서, 모 함수의 복소 값을 갖는 조합 계수 $a_{\\{m,n\\},k}$는 밴드 웨이블릿 $\\Psi_{\\{m,n\\},k}(t)$와 함께 $\\ddot{U}_g(t)$를 이산 컨벌루션 하여 계산할 수 있다 (Cecini and Palmeri, 2015):"
   ]
  },
  {
   "cell_type": "markdown",
   "id": "05b837df",
   "metadata": {},
   "source": [
    "$$a_{\\{m,n\\},k}=\\sum_{l=0}^N \\ddot{U}_g \\left(\\frac{t_l}{t_f}\\right)\\cdot \\frac{\\Delta t}{t_f}\\cdot\\Psi_{\\{m,n\\},k}(t_l)\\tag{2}$$"
   ]
  },
  {
   "cell_type": "markdown",
   "id": "004c1a0f",
   "metadata": {},
   "source": [
    "여기서 $k=0,\\dots,(n-m-1),\\;t_l=l\\cdot \\Delta t$는 $N=t_f/\\Delta t$의 l번째 이산 시간 순간이며, 이때 신호는 $\\Delta t$와 $t_f$가 샘플링 간격, 지속시간이 되도록 이산화 된다."
   ]
  },
  {
   "cell_type": "markdown",
   "id": "f45699bf",
   "metadata": {},
   "source": [
    "본 논문에서는, 신호 $\\ddot{U}_g(t)$를 랜덤화 하여 원형 웨이블릿을 모 웨이블릿으로 적용하여 평가하였다."
   ]
  },
  {
   "cell_type": "markdown",
   "id": "1149429f",
   "metadata": {},
   "source": [
    "랜덤 과정의 r번째 샘플은 다음과 같은 식으로 생성된다."
   ]
  },
  {
   "cell_type": "markdown",
   "id": "179e1d65",
   "metadata": {},
   "source": [
    "$$f^{(r)}(t)2=\\sum_{\\{m,n\\}}\\sum_{k=1}^{n-m-1}\\sum_{j=1}^{n-1} \\frac{|a_{\\{m,n\\},k}|}{n-m}\\times cos[i 2 \\pi j (t-\\tau_{\\{m,n\\},k})+\\theta_{\\{m,n\\},k}+\\phi^{(r)}_{\\{m,n\\},k}] \\tag{3}$$"
   ]
  },
  {
   "cell_type": "markdown",
   "id": "92eb4d22",
   "metadata": {},
   "source": [
    "여기서 $\\phi_{\\{m,n\\},k}^{(r)}$는 구간 $[0,2\\pi]$에서 균일하게 분포하는 랜덤 변수의 r번째 값이며, $\\bar{\\theta}_{\\{m,n\\},k}=arg{\\bar{a}_{\\{m,n\\},k}}$는 모 신호의 복소 값을 갖는 계수의 결정론적 위상 값이다."
   ]
  },
  {
   "cell_type": "markdown",
   "id": "72ba41c1",
   "metadata": {},
   "source": []
  },
  {
   "cell_type": "code",
   "execution_count": null,
   "id": "f30c6a39",
   "metadata": {},
   "outputs": [],
   "source": []
  },
  {
   "cell_type": "code",
   "execution_count": null,
   "id": "e2a09165",
   "metadata": {},
   "outputs": [],
   "source": []
  },
  {
   "cell_type": "markdown",
   "id": "d9725b95",
   "metadata": {},
   "source": [
    "## 3. Numerical application"
   ]
  },
  {
   "cell_type": "markdown",
   "id": "e1605ef8",
   "metadata": {},
   "source": [
    "목표 시간 이력과 주요 특성이 동일한 가속도 시간이력을 생성하는 2가지 제안된 방법의 성능을 비교하기 위해 그리고 비선형 시간 이력 해석에 유용한 방법을 결정하기 위해, 일정한 연성 값을 갖는 응답스팩트럼을  bilinear 모델을 사용해 다양한 변위 연성 값들에 대하여 계산하였다."
   ]
  },
  {
   "cell_type": "markdown",
   "id": "911939ee",
   "metadata": {},
   "source": [
    "### 3.1 Target Motion"
   ]
  },
  {
   "cell_type": "markdown",
   "id": "cfc882a4",
   "metadata": {},
   "source": [
    "Vasquez Rock Park에서 기록된 1994년 Northbridge 지진의 N-S 값을 PEER database에서 다운로드하였다. 그리고 이를 목표 가속도 이력으로 사용하였다. (중략)"
   ]
  },
  {
   "cell_type": "markdown",
   "id": "d08f1c2c",
   "metadata": {},
   "source": [
    "### 3.2 Wavelet-Based Method"
   ]
  },
  {
   "cell_type": "markdown",
   "id": "600f52ba",
   "metadata": {},
   "source": [
    "하이젠베르크의 불확실성의 원리에 따라 시간 및 주파수 영역에서 동시에 신호를 localize하는 것은 불가능하다."
   ]
  },
  {
   "cell_type": "markdown",
   "id": "15c5cf3d",
   "metadata": {},
   "source": [
    "본 논문에서는, 3가지 형태의 원형웨이블릿변환(CWT)을 연구하였고, 주파수 및 시간 영역에서 어떻게 상호작용을 하는지 연구하였다."
   ]
  },
  {
   "cell_type": "markdown",
   "id": "65d2c0d5",
   "metadata": {},
   "source": [
    "3개의 조건으로는 동일한 추파수 밴드를 갖는 p=1, 32, 915의 주파수 밴드를 설정하였으며, 식(3)을 사용해 50개의 가속도시간이력을 생성하였다. 3개의 샘플들과 목표 가속도 이력(검정색)은 그림1에 나타나 있다."
   ]
  },
  {
   "cell_type": "markdown",
   "id": "44100c26",
   "metadata": {},
   "source": [
    "Figure 1"
   ]
  },
  {
   "cell_type": "markdown",
   "id": "7f514ba3",
   "metadata": {},
   "source": [
    "밴드 수가 증가함에 따라 주파수 성분은 잘 나타내지만, 동시에 정상 랜덤 과정이 되어 가면서(그림 1c, p=915) 비정상성 특성은 사라지게 된다. 이러한 영향은 그림2에도 나타나 있으며, 푸리에 스펙트럼의 평균 값을 계산한 결과로 비교된다."
   ]
  },
  {
   "cell_type": "code",
   "execution_count": null,
   "id": "463ab685",
   "metadata": {},
   "outputs": [],
   "source": []
  }
 ],
 "metadata": {
  "kernelspec": {
   "display_name": "Python 3 (ipykernel)",
   "language": "python",
   "name": "python3"
  },
  "language_info": {
   "codemirror_mode": {
    "name": "ipython",
    "version": 3
   },
   "file_extension": ".py",
   "mimetype": "text/x-python",
   "name": "python",
   "nbconvert_exporter": "python",
   "pygments_lexer": "ipython3",
   "version": "3.9.7"
  },
  "latex_envs": {
   "LaTeX_envs_menu_present": true,
   "autoclose": false,
   "autocomplete": true,
   "bibliofile": "biblio.bib",
   "cite_by": "apalike",
   "current_citInitial": 1,
   "eqLabelWithNumbers": true,
   "eqNumInitial": 1,
   "hotkeys": {
    "equation": "Ctrl-E",
    "itemize": "Ctrl-I"
   },
   "labels_anchors": false,
   "latex_user_defs": false,
   "report_style_numbering": false,
   "user_envs_cfg": false
  }
 },
 "nbformat": 4,
 "nbformat_minor": 5
}
