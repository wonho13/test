{
 "cells": [
  {
   "cell_type": "code",
   "execution_count": 2,
   "id": "369e36ef",
   "metadata": {},
   "outputs": [],
   "source": [
    "import numpy as np\n",
    "import matplotlib.pyplot as plt\n",
    "from scipy.signal import lfilter\n",
    "%matplotlib inline"
   ]
  },
  {
   "cell_type": "code",
   "execution_count": 3,
   "id": "84360804",
   "metadata": {},
   "outputs": [],
   "source": [
    "def fileI(filename):\n",
    "    tmp = []\n",
    "    f = open(filename,'r');\n",
    "    lines = f.readlines()\n",
    "    for line in lines:\n",
    "        tmp.append(line);\n",
    "    out=np.zeros([len(tmp),5]);\n",
    "    for i in range(len(out)):\n",
    "        out[i,:] = np.array(tmp[i].split()).astype(np.float)\n",
    "    return out;"
   ]
  },
  {
   "cell_type": "code",
   "execution_count": 4,
   "id": "ed647866",
   "metadata": {},
   "outputs": [],
   "source": [
    "# SDOF Transient Response (Smallwood)\n",
    "# th_in : acceleration time history at base\n",
    "# th_out : acceleration time history at mass\n",
    "# out_opt : 1 = absolute acceleration / 2 = relative displacement\n",
    "def SDOF_smallwood(th_in,dt,fn,zeta,out_opt):\n",
    "    \n",
    "    wn = 2*np.pi*fn;\n",
    "    wd = wn*np.sqrt(1-zeta**2);\n",
    "    a, b = np.zeros(3), np.zeros(3);\n",
    "    E=np.exp(-zeta*wn*dt);\n",
    "    E2=np.exp(-2*zeta*wn*dt);\n",
    "    K=wd*dt;\n",
    "    C=E*np.cos(K);\n",
    "    P=2*zeta**2-1\n",
    "    S=E*np.sin(K);\n",
    "    Sp = S/K;\n",
    "    if out_opt ==1:\n",
    "        b[0] = 1 - Sp;\n",
    "        b[1] = 2*(Sp-C);\n",
    "        b[2] = E**2 - Sp;\n",
    "        a[0] = 1;\n",
    "        a[1] = -2*C;\n",
    "        a[2] = E**2;\n",
    "        th_out=lfilter(b, a, th_in, axis=-1, zi=None);\n",
    "    else:\n",
    "        a[0]=1         \n",
    "        a[1]=-2*C\n",
    "        a[2]=+E**2    \n",
    "        \n",
    "        b00=2*zeta*(C-1)\n",
    "        b01=S*wn/wd*P\n",
    "        b02=wn*dt\n",
    "            \n",
    "        b10=-2*wn*dt*C\n",
    "        b11= 2*zeta*(1-E2)\n",
    "        b12=-2*b01   \n",
    "    \n",
    "        b20=(2*zeta+wn*dt)*E2\n",
    "        b21= b01\n",
    "        b22=-2*zeta*C               \n",
    "            \n",
    "        b[0]=b00+b01+b02\n",
    "        b[1]=b10+b11+b12\n",
    "        b[2]=b20+b21+b22\n",
    "            \n",
    "        b=-b/(wn**3*dt)\n",
    "        \n",
    "        th_out=lfilter(b, a, th_in, axis=-1, zi=None);\n",
    "        th_out *=386.4;\n",
    "    return th_out;       "
   ]
  },
  {
   "cell_type": "code",
   "execution_count": 5,
   "id": "77642c03",
   "metadata": {},
   "outputs": [],
   "source": [
    "## SRS (Smallwood Method)\n",
    "def srs_sw(ft,th,dr,dt):\n",
    "    nf = len(ft);\n",
    "    rs = np.zeros(nf);\n",
    "    for i in range(nf):\n",
    "        rs[i]= max(abs(SDOF_smallwood(th,dt,ft[i],dr,1)));\n",
    "    return ft,rs;"
   ]
  },
  {
   "cell_type": "code",
   "execution_count": 6,
   "id": "08b7eb9a",
   "metadata": {},
   "outputs": [],
   "source": [
    "## SRS (Smallwood Method) - Pseudo Acceleration Output\n",
    "def srs_sw_pa(ft,th,dr,dt):\n",
    "    nf = len(ft);\n",
    "    rs = np.zeros(nf);\n",
    "    for i in range(nf):\n",
    "        rs[i]= ((2*np.pi*ft[i])**2)*max(abs((SDOF_smallwood(th,dt,ft[i],dr,2))))/386.4;  \n",
    "    return ft,rs;"
   ]
  },
  {
   "cell_type": "code",
   "execution_count": 7,
   "id": "3b6b1b98",
   "metadata": {},
   "outputs": [
    {
     "name": "stderr",
     "output_type": "stream",
     "text": [
      "/data/user/0/ru.iiec.pydroid3/cache/ipykernel_10339/2418606376.py:9: DeprecationWarning: `np.float` is a deprecated alias for the builtin `float`. To silence this warning, use `float` by itself. Doing this will not modify any behavior and is safe. If you specifically wanted the numpy scalar type, use `np.float64` here.\n",
      "Deprecated in NumPy 1.20; for more details and guidance: https://numpy.org/devdocs/release/1.20.0-notes.html#deprecations\n",
      "  out[i,:] = np.array(tmp[i].split()).astype(np.float)\n"
     ]
    },
    {
     "data": {
      "image/png": "[encoded data removed]",
      "text/plain": [
       "<Figure size 432x288 with 1 Axes>"
      ]
     },
     "metadata": {
      "needs_background": "light"
     },
     "output_type": "display_data"
    }
   ],
   "source": [
    "# Read Acc. th\n",
    "data = fileI('RSN454_MORGAN_GIL067.AT2');\n",
    "th = np.zeros(len(data)*5);\n",
    "idx = 0;\n",
    "for i in range(len(data)):\n",
    "    for j in range(5):\n",
    "        th[idx] = data[i,j];\n",
    "        idx += 1;\n",
    "dt = 0.005;\n",
    "N = len(th);\n",
    "tmax = dt*N;\n",
    "time = np.arange(0,tmax,dt);\n",
    "plt.plot(time,th);"
   ]
  },
  {
   "cell_type": "code",
   "execution_count": 8,
   "id": "528566ae",
   "metadata": {},
   "outputs": [],
   "source": [
    "Nt = len(th); tf = max(time); df = 1/tf;\n",
    "fmax = df*Nt/2; Nf = int(Nt/2);\n",
    "freq_table = np.arange(df,fmax+df,df);"
   ]
  },
  {
   "cell_type": "code",
   "execution_count": 10,
   "id": "984a197e",
   "metadata": {},
   "outputs": [],
   "source": [
    "freq,rs = srs_sw_pa(freq_table,th,dr=0.05,dt=dt)"
   ]
  },
  {
   "cell_type": "code",
   "execution_count": 11,
   "id": "4fac2fef",
   "metadata": {},
   "outputs": [],
   "source": [
    "# RG 1.60\n",
    "ft = np.array([0.10,  2.50, 9.00, 33.0, 100.0]);  # frequency table\n",
    "rt = np.array([0.07,  3.13, 2.61,  1.0,   1.0]);  # response spectrum table"
   ]
  },
  {
   "cell_type": "code",
   "execution_count": 12,
   "id": "f413b80d",
   "metadata": {},
   "outputs": [],
   "source": [
    "# log-log interp\n",
    "freq_spec = np.copy(freq_table);\n",
    "resp_spec = 10**np.interp(np.log10(freq_spec),np.log10(ft),np.log10(rt));\n",
    "resp_spec_u = resp_spec*1.3;\n",
    "resp_spec_l = resp_spec/1.1;"
   ]
  },
  {
   "cell_type": "code",
   "execution_count": 13,
   "id": "e649d81a",
   "metadata": {},
   "outputs": [],
   "source": [
    "th *= max(resp_spec/rs)"
   ]
  },
  {
   "cell_type": "code",
   "execution_count": 15,
   "id": "cd04d42c",
   "metadata": {},
   "outputs": [],
   "source": [
    "freq,rs = srs_sw_pa(freq_table,th,dr=0.05,dt=dt)"
   ]
  },
  {
   "cell_type": "code",
   "execution_count": 18,
   "id": "1b9b82b1",
   "metadata": {},
   "outputs": [
    {
     "data": {
      "image/png": "[encoded data removed]",
      "text/plain": [
       "<Figure size 432x288 with 1 Axes>"
      ]
     },
     "metadata": {
      "needs_background": "light"
     },
     "output_type": "display_data"
    }
   ],
   "source": [
    "plt.loglog(freq,rs);\n",
    "plt.loglog(freq_spec,resp_spec);\n",
    "plt.loglog(freq_spec,resp_spec_u);\n",
    "plt.loglog(freq_spec,resp_spec_l);\n",
    "plt.ylim(1e-5,1e3);"
   ]
  },
  {
   "cell_type": "code",
   "execution_count": 19,
   "id": "9966ae27",
   "metadata": {},
   "outputs": [],
   "source": [
    "def Psi(m,n,k,t):\n",
    "    out = (np.exp(1j*2*n*np.pi*(t-k/(n-m)))-np.exp(1j*2*m*np.pi*(t-k/(n-m)))) / (1j*2*(n-m)*np.pi*(t-k/(n-m)));\n",
    "    np.nan_to_num(out, copy=False)\n",
    "    return out;"
   ]
  },
  {
   "cell_type": "code",
   "execution_count": 20,
   "id": "308178bd",
   "metadata": {},
   "outputs": [],
   "source": [
    "def a(m,n,k,time,th):\n",
    "    return sum(th*Psi(m,n,k,time/tf));"
   ]
  },
  {
   "cell_type": "code",
   "execution_count": 23,
   "id": "781983a1",
   "metadata": {},
   "outputs": [],
   "source": [
    "zeta=0.05;\n",
    "## Step 1\n",
    "R = np.zeros(len(rs));\n",
    "for i in range(len(rs)):\n",
    "    R[i] = min(rs[i]/resp_spec_l[i],resp_spec_u[i]/rs[i]);\n",
    "j_worst = np.argmin(R); f_worst = freq[j_worst]; \n",
    "resp = SDOF_smallwood(th,dt,f_worst,zeta,1); tau_worst = time[np.argmax(abs(resp))];"
   ]
  },
  {
   "cell_type": "code",
   "execution_count": 24,
   "id": "384dc424",
   "metadata": {},
   "outputs": [],
   "source": [
    "## Step 2\n",
    "Nf_min = 30;  # 임의 설정\n",
    "B = (Nf_min-1)*df;\n",
    "m = j_worst-int(Nf_min/2)\n",
    "n = j_worst+int(Nf_min/2)\n",
    "fm = freq[m]\n",
    "fn = freq[n]"
   ]
  },
  {
   "cell_type": "code",
   "execution_count": 25,
   "id": "fae1f851",
   "metadata": {},
   "outputs": [],
   "source": [
    "## Step 3\n",
    "dtau = 3/(zeta*f_worst*2*np.pi);\n",
    "k1 = int(((tau_worst-dtau)/tf)*(n-m));\n",
    "k2 = int((tau_worst/tf)*(n-m))+1;\n",
    "new_th = np.zeros(len(th));\n",
    "for j in range(len(time)):\n",
    "    t = time[j]/tf;\n",
    "    out = 0;\n",
    "    for k in range(k1,k2):\n",
    "        out += 2*np.real(a(m,n,k,time,th)*Psi(m,n,k,t));\n",
    "    new_th[j] = out;"
   ]
  },
  {
   "cell_type": "code",
   "execution_count": 26,
   "id": "3613b56e",
   "metadata": {},
   "outputs": [
    {
     "data": {
      "image/png": "[encoded data removed]",
      "text/plain": [
       "<Figure size 432x288 with 1 Axes>"
      ]
     },
     "metadata": {
      "needs_background": "light"
     },
     "output_type": "display_data"
    }
   ],
   "source": [
    "plt.plot(time,new_th);"
   ]
  },
  {
   "cell_type": "code",
   "execution_count": 27,
   "id": "60f94121",
   "metadata": {},
   "outputs": [],
   "source": [
    "## Step 4\n",
    "resp1 = SDOF_smallwood(new_th,dt,f_worst,zeta,1);\n",
    "Pl = resp*resp1;\n",
    "lmax = np.argmax(Pl);"
   ]
  },
  {
   "cell_type": "code",
   "execution_count": 28,
   "id": "51b67b81",
   "metadata": {},
   "outputs": [],
   "source": [
    "## Step 5\n",
    "if rs[j_worst] < resp_spec[j_worst]:\n",
    "    AT = resp_spec_l*1.05;\n",
    "else:\n",
    "    AT = resp_spec_u*0.95;\n",
    "alpha = (AT-resp[lmax]) / resp1[lmax];"
   ]
  },
  {
   "cell_type": "code",
   "execution_count": null,
   "id": "1d4e047a",
   "metadata": {},
   "outputs": [],
   "source": []
  }
 ],
 "metadata": {
  "kernelspec": {
   "display_name": "Python 3 (ipykernel)",
   "language": "python",
   "name": "python3"
  },
  "language_info": {
   "codemirror_mode": {
    "name": "ipython",
    "version": 3
   },
   "file_extension": ".py",
   "mimetype": "text/x-python",
   "name": "python",
   "nbconvert_exporter": "python",
   "pygments_lexer": "ipython3",
   "version": "3.9.7"
  },
  "latex_envs": {
   "LaTeX_envs_menu_present": true,
   "autoclose": false,
   "autocomplete": true,
   "bibliofile": "biblio.bib",
   "cite_by": "apalike",
   "current_citInitial": 1,
   "eqLabelWithNumbers": true,
   "eqNumInitial": 1,
   "hotkeys": {
    "equation": "Ctrl-E",
    "itemize": "Ctrl-I"
   },
   "labels_anchors": false,
   "latex_user_defs": false,
   "report_style_numbering": false,
   "user_envs_cfg": false
  }
 },
 "nbformat": 4,
 "nbformat_minor": 5
}
