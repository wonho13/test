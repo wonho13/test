{
 "cells": [
  {
   "cell_type": "code",
   "execution_count": 1,
   "id": "369e36ef",
   "metadata": {},
   "outputs": [],
   "source": [
    "import numpy as np\n",
    "import matplotlib.pyplot as plt"
   ]
  },
  {
   "cell_type": "code",
   "execution_count": 2,
   "id": "84360804",
   "metadata": {},
   "outputs": [],
   "source": [
    "def fileI(filename):\n",
    "    tmp = []\n",
    "    f = open(filename,'r');\n",
    "    lines = f.readlines()\n",
    "    for line in lines:\n",
    "        tmp.append(line);\n",
    "    out=np.zeros([len(tmp),5]);\n",
    "    for i in range(len(out)):\n",
    "        out[i,:] = np.array(tmp[i].split()).astype(np.float)\n",
    "    return out;"
   ]
  },
  {
   "cell_type": "code",
   "execution_count": 3,
   "id": "3f1239f1",
   "metadata": {},
   "outputs": [],
   "source": [
    "phi = np.random.uniform(0,2*np.pi)"
   ]
  },
  {
   "cell_type": "code",
   "execution_count": 4,
   "id": "53253ef1",
   "metadata": {},
   "outputs": [],
   "source": [
    "def tau(m,n,k):\n",
    "    return  k/(n-m);"
   ]
  },
  {
   "cell_type": "code",
   "execution_count": 46,
   "id": "42e622db",
   "metadata": {},
   "outputs": [],
   "source": [
    "def Psi(t,m,n,k):\n",
    "    out = 0;\n",
    "    for j in range(m,n):\n",
    "        out += np.exp(1j*2*np.pi*j*(t-tau(m,n,k)));\n",
    "    out = out/(n-m);\n",
    "    return out;"
   ]
  },
  {
   "cell_type": "code",
   "execution_count": 47,
   "id": "b79f5ef8",
   "metadata": {},
   "outputs": [],
   "source": [
    "def a(m,n,k,tf,dt):\n",
    "    N = int(tf/dt);\n",
    "    out = 0;\n",
    "    for l in range(N):\n",
    "        tl = l*dt\n",
    "        out += Ug(tl/tf)*(dt/tf)*Psi(tl,m,n,k);\n",
    "    return out;"
   ]
  },
  {
   "cell_type": "code",
   "execution_count": 50,
   "id": "1eb34b80",
   "metadata": {},
   "outputs": [],
   "source": [
    "def f(t,m,n,dt,tf):\n",
    "    out = 0+0j;\n",
    "    for k in range(n-m):\n",
    "        theta = np.angle(a(m,n,k,tf,dt));\n",
    "        for j in range(m,n):\n",
    "            phi = np.random.uniform(0,2*np.pi);\n",
    "            out += (np.abs(a(m,n,k,tf,dt))/(n-m))*np.cos(1j*2*np.pi*j*(t-tau(m,n,k))+theta+phi);\n",
    "    out *= 2;\n",
    "    return out;"
   ]
  },
  {
   "cell_type": "code",
   "execution_count": 10,
   "id": "84fa9f6e",
   "metadata": {},
   "outputs": [],
   "source": [
    "def Ug(t):\n",
    "    out = np.interp(t,time,th);\n",
    "    return out;"
   ]
  },
  {
   "cell_type": "code",
   "execution_count": 11,
   "id": "3b6b1b98",
   "metadata": {},
   "outputs": [
    {
     "name": "stderr",
     "output_type": "stream",
     "text": [
      "C:\\Users\\OWNER\\AppData\\Local\\Temp/ipykernel_18784/2418606376.py:9: DeprecationWarning: `np.float` is a deprecated alias for the builtin `float`. To silence this warning, use `float` by itself. Doing this will not modify any behavior and is safe. If you specifically wanted the numpy scalar type, use `np.float64` here.\n",
      "Deprecated in NumPy 1.20; for more details and guidance: https://numpy.org/devdocs/release/1.20.0-notes.html#deprecations\n",
      "  out[i,:] = np.array(tmp[i].split()).astype(np.float)\n"
     ]
    }
   ],
   "source": [
    "data = fileI('RSN454_MORGAN_GIL067.AT2');"
   ]
  },
  {
   "cell_type": "code",
   "execution_count": 12,
   "id": "490e76db",
   "metadata": {},
   "outputs": [],
   "source": [
    "th = np.zeros(len(data)*5);"
   ]
  },
  {
   "cell_type": "code",
   "execution_count": 13,
   "id": "6ef862c6",
   "metadata": {},
   "outputs": [],
   "source": [
    "idx = 0;\n",
    "for i in range(len(data)):\n",
    "    for j in range(5):\n",
    "        th[idx] = data[i,j];\n",
    "        idx += 1;"
   ]
  },
  {
   "cell_type": "code",
   "execution_count": 14,
   "id": "984a197e",
   "metadata": {},
   "outputs": [],
   "source": [
    "dt = 0.005;\n",
    "N = len(th);\n",
    "tmax = dt*N;\n",
    "time = np.arange(0,tmax,dt);"
   ]
  },
  {
   "cell_type": "code",
   "execution_count": 15,
   "id": "193ed3d6",
   "metadata": {},
   "outputs": [
    {
     "data": {
      "image/png": "[encoded data removed]",
      "text/plain": [
       "<Figure size 432x288 with 1 Axes>"
      ]
     },
     "metadata": {
      "needs_background": "light"
     },
     "output_type": "display_data"
    }
   ],
   "source": [
    "plt.plot(time,th);"
   ]
  },
  {
   "cell_type": "code",
   "execution_count": null,
   "id": "b76c12d0",
   "metadata": {},
   "outputs": [
    {
     "name": "stderr",
     "output_type": "stream",
     "text": [
      "C:\\Users\\OWNER\\AppData\\Local\\Temp/ipykernel_18784/3000306691.py:3: ComplexWarning: Casting complex values to real discards the imaginary part\n",
      "  th1[i] = f(t=time[i],m=0,n=20,dt=dt,tf=tmax)\n"
     ]
    }
   ],
   "source": [
    "th1 = np.zeros(10);\n",
    "for i in range(len(th1)):\n",
    "    th1[i] = f(t=time[i],m=0,n=20,dt=dt,tf=tmax)"
   ]
  },
  {
   "cell_type": "code",
   "execution_count": null,
   "id": "68afe50f",
   "metadata": {},
   "outputs": [],
   "source": [
    "plt.plot(th1.real);"
   ]
  },
  {
   "cell_type": "code",
   "execution_count": null,
   "id": "4fac2fef",
   "metadata": {},
   "outputs": [],
   "source": []
  }
 ],
 "metadata": {
  "kernelspec": {
   "display_name": "Python 3 (ipykernel)",
   "language": "python",
   "name": "python3"
  },
  "language_info": {
   "codemirror_mode": {
    "name": "ipython",
    "version": 3
   },
   "file_extension": ".py",
   "mimetype": "text/x-python",
   "name": "python",
   "nbconvert_exporter": "python",
   "pygments_lexer": "ipython3",
   "version": "3.9.7"
  },
  "latex_envs": {
   "LaTeX_envs_menu_present": true,
   "autoclose": false,
   "autocomplete": true,
   "bibliofile": "biblio.bib",
   "cite_by": "apalike",
   "current_citInitial": 1,
   "eqLabelWithNumbers": true,
   "eqNumInitial": 1,
   "hotkeys": {
    "equation": "Ctrl-E",
    "itemize": "Ctrl-I"
   },
   "labels_anchors": false,
   "latex_user_defs": false,
   "report_style_numbering": false,
   "user_envs_cfg": false
  }
 },
 "nbformat": 4,
 "nbformat_minor": 5
}
