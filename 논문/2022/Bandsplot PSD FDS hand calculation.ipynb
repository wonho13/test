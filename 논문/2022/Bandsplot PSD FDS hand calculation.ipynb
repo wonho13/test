{
 "cells": [
  {
   "cell_type": "markdown",
   "id": "664d9602",
   "metadata": {},
   "source": [
    "$H(f,f_n,\\zeta)=\\frac{1}{(2\\pi)^2(f^2-f_n^2+j2\\zeta f f_n)}$"
   ]
  },
  {
   "cell_type": "markdown",
   "id": "1ccf9b95",
   "metadata": {},
   "source": [
    "$|H(f,f_n,\\zeta)|=\\frac{1}{(2\\pi)^2\\sqrt{((f^2-f_n^2)^2+(2\\zeta f f_n)^2)}}$"
   ]
  },
  {
   "cell_type": "markdown",
   "id": "2d54cb43",
   "metadata": {},
   "source": [
    "$z(f,f_n,\\zeta)=|H(f,f_n,\\zeta)| \\ddot{y}(f,f_n,\\zeta)$"
   ]
  },
  {
   "cell_type": "markdown",
   "id": "ac855a34",
   "metadata": {},
   "source": [
    "$W_{z}(f,f_n,\\zeta)=|H(f,f_n,\\zeta)|^2W_{\\ddot{y}}(f)$"
   ]
  },
  {
   "cell_type": "markdown",
   "id": "48781317",
   "metadata": {},
   "source": [
    "$S_a=K\\cdot |z|$"
   ]
  },
  {
   "cell_type": "markdown",
   "id": "9ce19d4c",
   "metadata": {},
   "source": [
    "$W_{S_a}(f,f_n,\\zeta)=K^2 \\cdot W_{z}(f,f_n,\\zeta)$"
   ]
  },
  {
   "cell_type": "markdown",
   "id": "0b74c389",
   "metadata": {},
   "source": [
    "$M_n=\\int_0^{\\infty} f^nW(f)df$"
   ]
  },
  {
   "cell_type": "markdown",
   "id": "797dc42a",
   "metadata": {},
   "source": [
    "## 1. BLWN"
   ]
  },
  {
   "cell_type": "markdown",
   "id": "a890fdd2",
   "metadata": {},
   "source": [
    "$W_{\\ddot{y}}(f)=\\begin{cases}\n",
    "A && f_1 \\leq f \\leq f_2 \\\\\n",
    "0 && otherwise\n",
    "\\end{cases}$"
   ]
  },
  {
   "cell_type": "markdown",
   "id": "27bc3c3b",
   "metadata": {},
   "source": [
    "$W_{z}(f)=\\begin{cases}\n",
    "A\\frac{1}{(2\\pi)^4((f^2-f_n^2)^2+(2\\zeta f f_n)^2)} && f_1 \\leq f \\leq f_2 \\\\\n",
    "0 && otherwise\n",
    "\\end{cases}$"
   ]
  },
  {
   "cell_type": "markdown",
   "id": "2a1a6985",
   "metadata": {},
   "source": [
    "$W_{S_a}(f,f_n,\\zeta)=AK^2\\frac{1}{(2\\pi)^4((f^2-f_n^2)^2+(2\\zeta f f_n)^2)}$"
   ]
  },
  {
   "cell_type": "markdown",
   "id": "3f3ddbc6",
   "metadata": {},
   "source": [
    "### 1.1 Moments"
   ]
  },
  {
   "cell_type": "markdown",
   "id": "b5899c09",
   "metadata": {},
   "source": [
    "$M_0=A\\frac{K^2}{(2\\pi)^4}\\int_{f_1}^{f_2}\\frac{1}{(f^2-f_n^2)^2+(2\\zeta f f_n)^2}df$"
   ]
  },
  {
   "cell_type": "code",
   "execution_count": 2,
   "id": "0ff7a943",
   "metadata": {},
   "outputs": [],
   "source": [
    "from sympy import *\n",
    "\n",
    "init_printing()\n",
    "f, fn, z, f1, f2= symbols('f fn zeta f1 f2')"
   ]
  },
  {
   "cell_type": "code",
   "execution_count": 16,
   "id": "b374ae1c",
   "metadata": {},
   "outputs": [],
   "source": [
    "expr1 = (f**2-fn**2)**2+(2*z*f*fn)**2"
   ]
  },
  {
   "cell_type": "code",
   "execution_count": 17,
   "id": "370884db",
   "metadata": {},
   "outputs": [
    {
     "data": {
      "image/png": "[encoded data removed]",
      "text/latex": [
       "$\\displaystyle \\frac{1}{4 f^{2} fn^{2} \\zeta^{2} + \\left(f^{2} - fn^{2}\\right)^{2}}$"
      ],
      "text/plain": [
       "            1            \n",
       "─────────────────────────\n",
       "                        2\n",
       "   2   2  2   ⎛ 2     2⎞ \n",
       "4⋅f ⋅fn ⋅ζ  + ⎝f  - fn ⎠ "
      ]
     },
     "execution_count": 17,
     "metadata": {},
     "output_type": "execute_result"
    }
   ],
   "source": [
    "# 적분대상식\n",
    "expr=1/expr1\n",
    "expr"
   ]
  },
  {
   "cell_type": "code",
   "execution_count": 18,
   "id": "ea88e9df",
   "metadata": {},
   "outputs": [],
   "source": [
    "# 4차식을 2차식 곱으로\n",
    "expr2 = f**2 + 2*sqrt(1-z**2)*f*fn+ fn**2\n",
    "expr3 = f**2 - 2*sqrt(1-z**2)*f*fn + fn**2"
   ]
  },
  {
   "cell_type": "code",
   "execution_count": 19,
   "id": "0b5d8231",
   "metadata": {},
   "outputs": [
    {
     "data": {
      "text/plain": [
       "True"
      ]
     },
     "execution_count": 19,
     "metadata": {},
     "output_type": "execute_result"
    }
   ],
   "source": [
    "# 동일식인지 확인\n",
    "expand(expr2*expr3-expr1)==0"
   ]
  },
  {
   "cell_type": "code",
   "execution_count": 6,
   "id": "bed2f555",
   "metadata": {},
   "outputs": [],
   "source": [
    "# 부분분수 분자 계수\n",
    "A,B=symbols('A B')"
   ]
  },
  {
   "cell_type": "code",
   "execution_count": 21,
   "id": "55eaf504",
   "metadata": {},
   "outputs": [],
   "source": [
    "expr4=(A*f+B*fn)/expr2-(A*f-B*fn)/expr3"
   ]
  },
  {
   "cell_type": "code",
   "execution_count": 22,
   "id": "ef8e2e2d",
   "metadata": {},
   "outputs": [],
   "source": [
    "expr5=cancel(expr4)"
   ]
  },
  {
   "cell_type": "code",
   "execution_count": 23,
   "id": "b611934e",
   "metadata": {},
   "outputs": [
    {
     "data": {
      "image/png": "[encoded data removed]",
      "text/latex": [
       "$\\displaystyle - 4 A f^{2} fn \\sqrt{1 - \\zeta^{2}} + 2 B f^{2} fn + 2 B fn^{3}$"
      ],
      "text/plain": [
       "               ________                      \n",
       "       2      ╱      2         2            3\n",
       "- 4⋅A⋅f ⋅fn⋅╲╱  1 - ζ   + 2⋅B⋅f ⋅fn + 2⋅B⋅fn "
      ]
     },
     "execution_count": 23,
     "metadata": {},
     "output_type": "execute_result"
    }
   ],
   "source": [
    "numer(expr5)"
   ]
  },
  {
   "cell_type": "code",
   "execution_count": 24,
   "id": "c66dfe07",
   "metadata": {},
   "outputs": [],
   "source": [
    "# 분자 = 1\n",
    "eq=Eq(numer(expr5),1)"
   ]
  },
  {
   "cell_type": "code",
   "execution_count": 25,
   "id": "0d9fb66d",
   "metadata": {},
   "outputs": [
    {
     "data": {
      "image/png": "[encoded data removed]",
      "text/latex": [
       "$\\displaystyle \\left\\{ A : \\frac{1}{4 fn^{3} \\sqrt{1 - \\zeta^{2}}}, \\  B : \\frac{1}{2 fn^{3}}\\right\\}$"
      ],
      "text/plain": [
       "⎧           1               1  ⎫\n",
       "⎪A: ─────────────────, B: ─────⎪\n",
       "⎨            ________         3⎬\n",
       "⎪       3   ╱      2      2⋅fn ⎪\n",
       "⎩   4⋅fn ⋅╲╱  1 - ζ            ⎭"
      ]
     },
     "execution_count": 25,
     "metadata": {},
     "output_type": "execute_result"
    }
   ],
   "source": [
    "# 부분분수 계수찾기\n",
    "solve_undetermined_coeffs(eq, [A,B], f)"
   ]
  },
  {
   "cell_type": "code",
   "execution_count": 22,
   "id": "1c3be0ae",
   "metadata": {},
   "outputs": [],
   "source": [
    "A=1/(4*fn**3*sqrt(1-z**2))\n",
    "B=1/(2*fn**3)"
   ]
  },
  {
   "cell_type": "code",
   "execution_count": 23,
   "id": "72c44853",
   "metadata": {},
   "outputs": [],
   "source": [
    "expr1= (A*f+B*fn)/expr2\n",
    "expr2= (A*f-B*fn)/expr3"
   ]
  },
  {
   "cell_type": "code",
   "execution_count": 24,
   "id": "3930db58",
   "metadata": {},
   "outputs": [
    {
     "data": {
      "image/png": "[encoded data removed]",
      "text/latex": [
       "$\\displaystyle \\frac{1}{f^{4} + 4 f^{2} fn^{2} \\zeta^{2} - 2 f^{2} fn^{2} + fn^{4}}$"
      ],
      "text/plain": [
       "                1                \n",
       "─────────────────────────────────\n",
       " 4      2   2  2      2   2     4\n",
       "f  + 4⋅f ⋅fn ⋅ζ  - 2⋅f ⋅fn  + fn "
      ]
     },
     "execution_count": 24,
     "metadata": {},
     "output_type": "execute_result"
    }
   ],
   "source": [
    "simplify((expr1-expr2))"
   ]
  },
  {
   "cell_type": "code",
   "execution_count": 25,
   "id": "7d800979",
   "metadata": {},
   "outputs": [
    {
     "data": {
      "text/plain": [
       "True"
      ]
     },
     "execution_count": 25,
     "metadata": {},
     "output_type": "execute_result"
    }
   ],
   "source": [
    "# 부분분수가 기존분수와 같은지 확인\n",
    "simplify((expr1-expr2)-expr)==0"
   ]
  },
  {
   "cell_type": "code",
   "execution_count": 26,
   "id": "72a9ce7e",
   "metadata": {},
   "outputs": [],
   "source": [
    "# 각 부분분수 적분\n",
    "expr3=integrate(expr1,f,manual=True)"
   ]
  },
  {
   "cell_type": "code",
   "execution_count": 27,
   "id": "bf0b2a8a",
   "metadata": {},
   "outputs": [],
   "source": [
    "expr4=integrate(expr2,f,manual=True)"
   ]
  },
  {
   "cell_type": "code",
   "execution_count": 28,
   "id": "bb924f08",
   "metadata": {},
   "outputs": [],
   "source": [
    "# 최종적분식\n",
    "iexpr=expr3-expr4"
   ]
  },
  {
   "cell_type": "code",
   "execution_count": 29,
   "id": "5615e10d",
   "metadata": {},
   "outputs": [
    {
     "data": {
      "image/png": "[encoded data removed]",
      "text/latex": [
       "$\\displaystyle \\frac{2 fn \\sqrt{1 - \\zeta^{2}} \\left(\\operatorname{atan}{\\left(\\frac{f - fn \\sqrt{1 - \\zeta^{2}}}{\\sqrt{fn^{2} \\zeta^{2}}} \\right)} + \\operatorname{atan}{\\left(\\frac{f + fn \\sqrt{1 - \\zeta^{2}}}{\\sqrt{fn^{2} \\zeta^{2}}} \\right)}\\right) + \\sqrt{fn^{2} \\zeta^{2}} \\left(- \\log{\\left(f^{2} - 2 f fn \\sqrt{1 - \\zeta^{2}} + fn^{2} \\right)} + \\log{\\left(f^{2} + 2 f fn \\sqrt{1 - \\zeta^{2}} + fn^{2} \\right)}\\right)}{8 fn^{3} \\sqrt{fn^{2} \\zeta^{2}} \\sqrt{1 - \\zeta^{2}}}$"
      ],
      "text/plain": [
       "                 ⎛    ⎛          ________⎞       ⎛          _\n",
       "        ________ ⎜    ⎜         ╱      2 ⎟       ⎜         ╱ \n",
       "       ╱      2  ⎜    ⎜f - fn⋅╲╱  1 - ζ  ⎟       ⎜f + fn⋅╲╱  \n",
       "2⋅fn⋅╲╱  1 - ζ  ⋅⎜atan⎜──────────────────⎟ + atan⎜───────────\n",
       "                 ⎜    ⎜      ________    ⎟       ⎜      _____\n",
       "                 ⎜    ⎜     ╱   2  2     ⎟       ⎜     ╱   2 \n",
       "                 ⎝    ⎝   ╲╱  fn ⋅ζ      ⎠       ⎝   ╲╱  fn ⋅\n",
       "─────────────────────────────────────────────────────────────\n",
       "                                                             \n",
       "                                                             \n",
       "                                                             \n",
       "\n",
       "_______⎞⎞                                                    \n",
       "     2 ⎟⎟      ________ ⎛     ⎛               ________      ⎞\n",
       "1 - ζ  ⎟⎟     ╱   2  2  ⎜     ⎜ 2            ╱      2      2⎟\n",
       "───────⎟⎟ + ╲╱  fn ⋅ζ  ⋅⎝- log⎝f  - 2⋅f⋅fn⋅╲╱  1 - ζ   + fn ⎠\n",
       "___    ⎟⎟                                                    \n",
       " 2     ⎟⎟                                                    \n",
       "ζ      ⎠⎠                                                    \n",
       "─────────────────────────────────────────────────────────────\n",
       "             ________    ________                            \n",
       "        3   ╱   2  2    ╱      2                             \n",
       "    8⋅fn ⋅╲╱  fn ⋅ζ  ⋅╲╱  1 - ζ                              \n",
       "\n",
       "                                      \n",
       "      ⎛               ________      ⎞⎞\n",
       "      ⎜ 2            ╱      2      2⎟⎟\n",
       " + log⎝f  + 2⋅f⋅fn⋅╲╱  1 - ζ   + fn ⎠⎠\n",
       "                                      \n",
       "                                      \n",
       "                                      \n",
       "──────────────────────────────────────\n",
       "                                      \n",
       "                                      \n",
       "                                      "
      ]
     },
     "execution_count": 29,
     "metadata": {},
     "output_type": "execute_result"
    }
   ],
   "source": [
    "simplify(iexpr)"
   ]
  },
  {
   "cell_type": "code",
   "execution_count": 30,
   "id": "6f30cd9a",
   "metadata": {},
   "outputs": [
    {
     "data": {
      "text/plain": [
       "(2*fn*sqrt(1 - zeta**2)*(atan((f - fn*sqrt(1 - zeta**2))/sqrt(fn**2*zeta**2)) + atan((f + fn*sqrt(1 - zeta**2))/sqrt(fn**2*zeta**2))) + sqrt(fn**2*zeta**2)*(-log(f**2 - 2*f*fn*sqrt(1 - zeta**2) + fn**2) + log(f**2 + 2*f*fn*sqrt(1 - zeta**2) + fn**2)))/(8*fn**3*sqrt(fn**2*zeta**2)*sqrt(1 - zeta**2))"
      ]
     },
     "execution_count": 30,
     "metadata": {},
     "output_type": "execute_result"
    }
   ],
   "source": [
    "init_printing(pretty_print=False)\n",
    "simplify(iexpr)"
   ]
  },
  {
   "cell_type": "code",
   "execution_count": 32,
   "id": "b9d751fe",
   "metadata": {},
   "outputs": [],
   "source": [
    "def M0(A,K,f1,f2,fn,zeta):\n",
    "    def intF(f,fn,zeta):\n",
    "        return (2*fn*sqrt(1 - zeta**2)*(atan((f - fn*sqrt(1 - zeta**2))/sqrt(fn**2*zeta**2)) + atan((f + fn*sqrt(1 - zeta**2))/sqrt(fn**2*zeta**2))) + sqrt(fn**2*zeta**2)*(-log(f**2 - 2*f*fn*sqrt(1 - zeta**2) + fn**2) + log(f**2 + 2*f*fn*sqrt(1 - zeta**2) + fn**2)))/(8*fn**3*sqrt(fn**2*zeta**2)*sqrt(1 - zeta**2));\n",
    "    out = intF(f2,fn,zeta)\n",
    "    out -= intF(f1,fn,zeta)\n",
    "    out *= A*K**2\n",
    "    out /= (2*pi)**4\n",
    "    return out;"
   ]
  },
  {
   "cell_type": "code",
   "execution_count": null,
   "id": "d9aa1a1a",
   "metadata": {},
   "outputs": [],
   "source": []
  },
  {
   "cell_type": "code",
   "execution_count": null,
   "id": "83fcc660",
   "metadata": {},
   "outputs": [],
   "source": []
  },
  {
   "cell_type": "markdown",
   "id": "09b4b79f",
   "metadata": {},
   "source": [
    "$M_1=A\\frac{K^2}{(2\\pi)^4}\\int_{f_1}^{f_2}\\frac{f}{(f^2-f_n^2)^2+(2\\zeta f f_n)^2}df$"
   ]
  },
  {
   "cell_type": "code",
   "execution_count": 34,
   "id": "82fd399d",
   "metadata": {},
   "outputs": [
    {
     "data": {
      "image/png": "[encoded data removed]",
      "text/latex": [
       "$\\displaystyle \\frac{f}{4 f^{2} fn^{2} \\zeta^{2} + \\left(f^{2} - fn^{2}\\right)^{2}}$"
      ],
      "text/plain": [
       "            f            \n",
       "─────────────────────────\n",
       "                        2\n",
       "   2   2  2   ⎛ 2     2⎞ \n",
       "4⋅f ⋅fn ⋅ζ  + ⎝f  - fn ⎠ "
      ]
     },
     "execution_count": 34,
     "metadata": {},
     "output_type": "execute_result"
    }
   ],
   "source": [
    "expr *= f\n",
    "expr"
   ]
  },
  {
   "cell_type": "code",
   "execution_count": 38,
   "id": "687401ee",
   "metadata": {},
   "outputs": [],
   "source": [
    "iexpr=integrate(expr,f,manual=True)"
   ]
  },
  {
   "cell_type": "code",
   "execution_count": 39,
   "id": "09d4b060",
   "metadata": {},
   "outputs": [
    {
     "data": {
      "image/png": "[encoded data removed]",
      "text/latex": [
       "$\\displaystyle \\frac{\\operatorname{atan}{\\left(\\frac{f^{2} + 2 fn^{2} \\zeta^{2} - fn^{2}}{\\sqrt{- 4 fn^{4} \\zeta^{4} + 4 fn^{4} \\zeta^{2}}} \\right)}}{2 \\sqrt{- 4 fn^{4} \\zeta^{4} + 4 fn^{4} \\zeta^{2}}}$"
      ],
      "text/plain": [
       "    ⎛    2       2  2     2    ⎞\n",
       "    ⎜   f  + 2⋅fn ⋅ζ  - fn     ⎟\n",
       "atan⎜──────────────────────────⎟\n",
       "    ⎜   _______________________⎟\n",
       "    ⎜  ╱       4  4       4  2 ⎟\n",
       "    ⎝╲╱  - 4⋅fn ⋅ζ  + 4⋅fn ⋅ζ  ⎠\n",
       "────────────────────────────────\n",
       "       _______________________  \n",
       "      ╱       4  4       4  2   \n",
       "  2⋅╲╱  - 4⋅fn ⋅ζ  + 4⋅fn ⋅ζ    "
      ]
     },
     "execution_count": 39,
     "metadata": {},
     "output_type": "execute_result"
    }
   ],
   "source": [
    "iexpr"
   ]
  },
  {
   "cell_type": "code",
   "execution_count": 34,
   "id": "68d0b1f3",
   "metadata": {},
   "outputs": [
    {
     "ename": "NameError",
     "evalue": "name 'iexpr' is not defined",
     "output_type": "error",
     "traceback": [
      "\u001b[0;31m---------------------------------------------------------------------------\u001b[0m",
      "\u001b[0;31mNameError\u001b[0m                                 Traceback (most recent call last)",
      "\u001b[0;32m/data/user/0/ru.iiec.pydroid3/cache/ipykernel_8403/1399797871.py\u001b[0m in \u001b[0;36m<module>\u001b[0;34m\u001b[0m\n\u001b[1;32m      1\u001b[0m \u001b[0minit_printing\u001b[0m\u001b[0;34m(\u001b[0m\u001b[0mpretty_print\u001b[0m\u001b[0;34m=\u001b[0m\u001b[0;32mFalse\u001b[0m\u001b[0;34m)\u001b[0m\u001b[0;34m\u001b[0m\u001b[0;34m\u001b[0m\u001b[0m\n\u001b[0;32m----> 2\u001b[0;31m \u001b[0miexpr\u001b[0m\u001b[0;34m\u001b[0m\u001b[0;34m\u001b[0m\u001b[0m\n\u001b[0m",
      "\u001b[0;31mNameError\u001b[0m: name 'iexpr' is not defined"
     ]
    }
   ],
   "source": [
    "init_printing(pretty_print=False)\n",
    "iexpr"
   ]
  },
  {
   "cell_type": "code",
   "execution_count": 42,
   "id": "ba90ac03",
   "metadata": {},
   "outputs": [],
   "source": [
    "def M1(A,K,f1,f2,fn,zeta):\n",
    "    def intF(f,fn,zeta):\n",
    "        return atan((f**2 + 2*fn**2*zeta**2 - fn**2)/sqrt(-4*fn**4*zeta**4 + 4*fn**4*zeta**2))/(2*sqrt(-4*fn**4*zeta**4 + 4*fn**4*zeta**2))\n",
    "    out = intF(f2,fn,zeta)\n",
    "    out -= intF(f1,fn,zeta)\n",
    "    out *= A*K**2\n",
    "    out /= (2*pi)**4\n",
    "    return out;"
   ]
  },
  {
   "cell_type": "markdown",
   "id": "50a6eaa4",
   "metadata": {},
   "source": [
    "$M_2=A\\frac{K^2}{(2\\pi)^4}\\int_{f_1}^{f_2}\\frac{f^2}{(f^2-f_n^2)^2+(2\\zeta f f_n)^2}df$"
   ]
  },
  {
   "cell_type": "code",
   "execution_count": 26,
   "id": "207e0e7d",
   "metadata": {},
   "outputs": [],
   "source": [
    "init_printing()\n",
    "expr1 = (f**2-fn**2)**2+(2*z*f*fn)**2"
   ]
  },
  {
   "cell_type": "code",
   "execution_count": 42,
   "id": "8002691d",
   "metadata": {
    "scrolled": true
   },
   "outputs": [
    {
     "data": {
      "image/png": "[encoded data removed]",
      "text/latex": [
       "$\\displaystyle \\frac{f^{2}}{4 f^{2} fn^{2} \\zeta^{2} + \\left(f^{2} - fn^{2}\\right)^{2}}$"
      ],
      "text/plain": [
       "             2           \n",
       "            f            \n",
       "─────────────────────────\n",
       "                        2\n",
       "   2   2  2   ⎛ 2     2⎞ \n",
       "4⋅f ⋅fn ⋅ζ  + ⎝f  - fn ⎠ "
      ]
     },
     "execution_count": 42,
     "metadata": {},
     "output_type": "execute_result"
    }
   ],
   "source": [
    "expr=f**2/expr1\n",
    "expr"
   ]
  },
  {
   "cell_type": "code",
   "execution_count": 28,
   "id": "41145de1",
   "metadata": {},
   "outputs": [],
   "source": [
    "expr2 = f**2 + 2*sqrt(1-z**2)*f*fn + fn**2\n",
    "expr3 = f**2 - 2*sqrt(1-z**2)*f*fn + fn**2"
   ]
  },
  {
   "cell_type": "code",
   "execution_count": 67,
   "id": "bb68c88d",
   "metadata": {},
   "outputs": [
    {
     "data": {
      "image/png": "[encoded data removed]",
      "text/latex": [
       "$\\displaystyle - \\frac{A f}{f^{2} + 2 f fn \\sqrt{1 - \\zeta^{2}} + fn^{2}} + \\frac{A f}{f^{2} - 2 f fn \\sqrt{1 - \\zeta^{2}} + fn^{2}}$"
      ],
      "text/plain": [
       "               A⋅f                             A⋅f           \n",
       "- ───────────────────────────── + ───────────────────────────\n",
       "                 ________                        ________    \n",
       "   2            ╱      2      2    2            ╱      2     \n",
       "  f  + 2⋅f⋅fn⋅╲╱  1 - ζ   + fn    f  - 2⋅f⋅fn⋅╲╱  1 - ζ   + f\n",
       "\n",
       "  \n",
       "──\n",
       "  \n",
       " 2\n",
       "n "
      ]
     },
     "execution_count": 67,
     "metadata": {},
     "output_type": "execute_result"
    }
   ],
   "source": [
    "# 부분분수 분자 계수\n",
    "A,B=symbols('A B')\n",
    "expr4=(A*f)/expr3-(A*f)/expr2\n",
    "expr4"
   ]
  },
  {
   "cell_type": "code",
   "execution_count": 31,
   "id": "7f08eee0",
   "metadata": {},
   "outputs": [
    {
     "data": {
      "image/png": "[encoded data removed]",
      "text/latex": [
       "$\\displaystyle \\frac{4 A f^{2} fn \\sqrt{1 - \\zeta^{2}}}{f^{4} + 4 f^{2} fn^{2} \\zeta^{2} - 2 f^{2} fn^{2} + fn^{4}}$"
      ],
      "text/plain": [
       "                   ________      \n",
       "           2      ╱      2       \n",
       "      4⋅A⋅f ⋅fn⋅╲╱  1 - ζ        \n",
       "─────────────────────────────────\n",
       " 4      2   2  2      2   2     4\n",
       "f  + 4⋅f ⋅fn ⋅ζ  - 2⋅f ⋅fn  + fn "
      ]
     },
     "execution_count": 31,
     "metadata": {},
     "output_type": "execute_result"
    }
   ],
   "source": [
    "expr5=cancel(expr4); expr5"
   ]
  },
  {
   "cell_type": "code",
   "execution_count": 32,
   "id": "b4e36341",
   "metadata": {},
   "outputs": [],
   "source": [
    "eq=Eq(numer(expr5),f**2)"
   ]
  },
  {
   "cell_type": "code",
   "execution_count": 33,
   "id": "31f7f56f",
   "metadata": {},
   "outputs": [
    {
     "data": {
      "image/png": "[encoded data removed]",
      "text/latex": [
       "$\\displaystyle \\left\\{ A : \\frac{1}{4 fn \\sqrt{1 - \\zeta^{2}}}\\right\\}$"
      ],
      "text/plain": [
       "⎧          1        ⎫\n",
       "⎪A: ────────────────⎪\n",
       "⎨           ________⎬\n",
       "⎪          ╱      2 ⎪\n",
       "⎩   4⋅fn⋅╲╱  1 - ζ  ⎭"
      ]
     },
     "execution_count": 33,
     "metadata": {},
     "output_type": "execute_result"
    }
   ],
   "source": [
    "solve_undetermined_coeffs(eq, [A], f)"
   ]
  },
  {
   "cell_type": "code",
   "execution_count": 36,
   "id": "aec74806",
   "metadata": {},
   "outputs": [
    {
     "data": {
      "text/plain": [
       "{A: 1/(4*fn*sqrt(1 - zeta**2))}"
      ]
     },
     "execution_count": 36,
     "metadata": {},
     "output_type": "execute_result"
    }
   ],
   "source": [
    "init_printing(pretty_print=False)\n",
    "_"
   ]
  },
  {
   "cell_type": "code",
   "execution_count": 44,
   "id": "4f23d881",
   "metadata": {},
   "outputs": [],
   "source": [
    "A = 1/(4*fn*sqrt(1-z**2))"
   ]
  },
  {
   "cell_type": "code",
   "execution_count": 47,
   "id": "484bb915",
   "metadata": {},
   "outputs": [
    {
     "data": {
      "image/png": "[encoded data removed]",
      "text/latex": [
       "$\\displaystyle \\frac{f^{2}}{f^{4} + 4 f^{2} fn^{2} \\zeta^{2} - 2 f^{2} fn^{2} + fn^{4}}$"
      ],
      "text/plain": [
       "                 2               \n",
       "                f                \n",
       "─────────────────────────────────\n",
       " 4      2   2  2      2   2     4\n",
       "f  + 4⋅f ⋅fn ⋅ζ  - 2⋅f ⋅fn  + fn "
      ]
     },
     "execution_count": 47,
     "metadata": {},
     "output_type": "execute_result"
    }
   ],
   "source": [
    "init_printing()\n",
    "expr6=(A*f)/expr3-(A*f)/expr2\n",
    "simplify(expr6)"
   ]
  },
  {
   "cell_type": "code",
   "execution_count": 46,
   "id": "97661f19",
   "metadata": {},
   "outputs": [
    {
     "data": {
      "text/plain": [
       "True"
      ]
     },
     "execution_count": 46,
     "metadata": {},
     "output_type": "execute_result"
    }
   ],
   "source": [
    "simplify(expr6-expr)==0"
   ]
  },
  {
   "cell_type": "code",
   "execution_count": 34,
   "id": "1ae17ef9",
   "metadata": {},
   "outputs": [],
   "source": [
    "expr1= (A*f)/expr3\n",
    "expr2= (A*f)/expr2"
   ]
  },
  {
   "cell_type": "code",
   "execution_count": 49,
   "id": "c95f9c88",
   "metadata": {},
   "outputs": [],
   "source": [
    "expr3= integrate(expr1,f,manual=True)\n",
    "expr4= integrate(expr2,f,manual=True)"
   ]
  },
  {
   "cell_type": "code",
   "execution_count": 52,
   "id": "33164940",
   "metadata": {},
   "outputs": [],
   "source": [
    "iexpr=simplify(expr3-expr4)"
   ]
  },
  {
   "cell_type": "code",
   "execution_count": 54,
   "id": "88a8c0ec",
   "metadata": {},
   "outputs": [
    {
     "data": {
      "text/plain": [
       "f*(3*f**4 + 20*f**2*fn**2*zeta**2 - 10*f**2*fn**2 - 5*f**2 - 15*f*fn*sqrt(1 - zeta**2) + 15*fn**4 - 15*fn**2)/15"
      ]
     },
     "execution_count": 54,
     "metadata": {},
     "output_type": "execute_result"
    }
   ],
   "source": [
    "iexpr"
   ]
  },
  {
   "cell_type": "code",
   "execution_count": 53,
   "id": "ef63a21d",
   "metadata": {},
   "outputs": [
    {
     "data": {
      "text/plain": [
       "f*(3*f**4 + 20*f**2*fn**2*zeta**2 - 10*f**2*fn**2 - 5*f**2 - 15*f*fn*sqrt(1 - zeta**2) + 15*fn**4 - 15*fn**2)/15"
      ]
     },
     "execution_count": 53,
     "metadata": {},
     "output_type": "execute_result"
    }
   ],
   "source": [
    "init_printing(pretty_print=False)\n",
    "iexpr"
   ]
  },
  {
   "cell_type": "code",
   "execution_count": 56,
   "id": "b148c6fe",
   "metadata": {},
   "outputs": [],
   "source": [
    "def M2(A,K,f1,f2,fn,zeta):\n",
    "    def intF(f,fn,zeta):\n",
    "        return f*(3*f**4 + 20*f**2*fn**2*zeta**2 - 10*f**2*fn**2 - 5*f**2 - 15*f*fn*sqrt(1 - zeta**2) + 15*fn**4 - 15*fn**2)/15\n",
    "    out = intF(f2,fn,zeta)\n",
    "    out -= intF(f1,fn,zeta)\n",
    "    out *= A*K**2\n",
    "    out /= (2*pi)**4\n",
    "    return out;"
   ]
  },
  {
   "cell_type": "markdown",
   "id": "c5320ba7",
   "metadata": {},
   "source": [
    "M4"
   ]
  },
  {
   "cell_type": "code",
   "execution_count": 57,
   "id": "e81b521d",
   "metadata": {},
   "outputs": [],
   "source": [
    "expr=f**4/((f**2-fn**2)**2+4*fn**2*z**2*f**2)"
   ]
  },
  {
   "cell_type": "code",
   "execution_count": 59,
   "id": "545d4172",
   "metadata": {},
   "outputs": [
    {
     "data": {
      "image/png": "[encoded data removed]",
      "text/latex": [
       "$\\displaystyle \\frac{f^{4}}{4 f^{2} fn^{2} \\zeta^{2} + \\left(f^{2} - fn^{2}\\right)^{2}}$"
      ],
      "text/plain": [
       "             4           \n",
       "            f            \n",
       "─────────────────────────\n",
       "                        2\n",
       "   2   2  2   ⎛ 2     2⎞ \n",
       "4⋅f ⋅fn ⋅ζ  + ⎝f  - fn ⎠ "
      ]
     },
     "execution_count": 59,
     "metadata": {},
     "output_type": "execute_result"
    }
   ],
   "source": [
    "init_printing()\n",
    "expr"
   ]
  },
  {
   "cell_type": "code",
   "execution_count": 65,
   "id": "70a636a3",
   "metadata": {},
   "outputs": [],
   "source": [
    "expr2 = f**2 + 2*sqrt(1-z**2)*f*fn + fn**2\n",
    "expr3 = f**2 - 2*sqrt(1-z**2)*f*fn + fn**2"
   ]
  },
  {
   "cell_type": "code",
   "execution_count": 70,
   "id": "a09778de",
   "metadata": {},
   "outputs": [
    {
     "data": {
      "image/png": "[encoded data removed]",
      "text/latex": [
       "$\\displaystyle - \\frac{A f^{3}}{f^{2} + 2 f fn \\sqrt{1 - \\zeta^{2}} + fn^{2}} + \\frac{A f^{3}}{f^{2} - 2 f fn \\sqrt{1 - \\zeta^{2}} + fn^{2}}$"
      ],
      "text/plain": [
       "                  3                               3          \n",
       "               A⋅f                             A⋅f           \n",
       "- ───────────────────────────── + ───────────────────────────\n",
       "                 ________                        ________    \n",
       "   2            ╱      2      2    2            ╱      2     \n",
       "  f  + 2⋅f⋅fn⋅╲╱  1 - ζ   + fn    f  - 2⋅f⋅fn⋅╲╱  1 - ζ   + f\n",
       "\n",
       "  \n",
       "  \n",
       "──\n",
       "  \n",
       " 2\n",
       "n "
      ]
     },
     "execution_count": 70,
     "metadata": {},
     "output_type": "execute_result"
    }
   ],
   "source": [
    "# 부분분수 분자 계수\n",
    "A,B=symbols('A B')\n",
    "expr4=(A*f**3)/expr3-(A*f**3)/expr2\n",
    "expr4"
   ]
  },
  {
   "cell_type": "code",
   "execution_count": 71,
   "id": "36745bba",
   "metadata": {},
   "outputs": [
    {
     "data": {
      "image/png": "[encoded data removed]",
      "text/latex": [
       "$\\displaystyle \\frac{4 A f^{4} fn \\sqrt{1 - \\zeta^{2}}}{f^{4} + 4 f^{2} fn^{2} \\zeta^{2} - 2 f^{2} fn^{2} + fn^{4}}$"
      ],
      "text/plain": [
       "                   ________      \n",
       "           4      ╱      2       \n",
       "      4⋅A⋅f ⋅fn⋅╲╱  1 - ζ        \n",
       "─────────────────────────────────\n",
       " 4      2   2  2      2   2     4\n",
       "f  + 4⋅f ⋅fn ⋅ζ  - 2⋅f ⋅fn  + fn "
      ]
     },
     "execution_count": 71,
     "metadata": {},
     "output_type": "execute_result"
    }
   ],
   "source": [
    "expr5=cancel(expr4); expr5"
   ]
  },
  {
   "cell_type": "code",
   "execution_count": 72,
   "id": "6e839608",
   "metadata": {},
   "outputs": [],
   "source": [
    "eq=Eq(numer(expr5),f**4)"
   ]
  },
  {
   "cell_type": "code",
   "execution_count": 73,
   "id": "6f0a2065",
   "metadata": {},
   "outputs": [
    {
     "data": {
      "image/png": "[encoded data removed]",
      "text/latex": [
       "$\\displaystyle \\left\\{ A : \\frac{1}{4 fn \\sqrt{1 - \\zeta^{2}}}\\right\\}$"
      ],
      "text/plain": [
       "⎧          1        ⎫\n",
       "⎪A: ────────────────⎪\n",
       "⎨           ________⎬\n",
       "⎪          ╱      2 ⎪\n",
       "⎩   4⋅fn⋅╲╱  1 - ζ  ⎭"
      ]
     },
     "execution_count": 73,
     "metadata": {},
     "output_type": "execute_result"
    }
   ],
   "source": [
    "solve_undetermined_coeffs(eq, [A], f)"
   ]
  },
  {
   "cell_type": "code",
   "execution_count": 74,
   "id": "d639a983",
   "metadata": {},
   "outputs": [],
   "source": [
    "A = 1/(4*fn*sqrt(1-z**2))"
   ]
  },
  {
   "cell_type": "code",
   "execution_count": 76,
   "id": "94ca67d9",
   "metadata": {},
   "outputs": [
    {
     "data": {
      "image/png": "[encoded data removed]",
      "text/latex": [
       "$\\displaystyle \\frac{f^{4}}{f^{4} + 4 f^{2} fn^{2} \\zeta^{2} - 2 f^{2} fn^{2} + fn^{4}}$"
      ],
      "text/plain": [
       "                 4               \n",
       "                f                \n",
       "─────────────────────────────────\n",
       " 4      2   2  2      2   2     4\n",
       "f  + 4⋅f ⋅fn ⋅ζ  - 2⋅f ⋅fn  + fn "
      ]
     },
     "execution_count": 76,
     "metadata": {},
     "output_type": "execute_result"
    }
   ],
   "source": [
    "init_printing()\n",
    "expr6=(A*f**3)/expr3-(A*f**3)/expr2\n",
    "simplify(expr6)"
   ]
  },
  {
   "cell_type": "code",
   "execution_count": 77,
   "id": "401b3a65",
   "metadata": {},
   "outputs": [
    {
     "data": {
      "text/plain": [
       "True"
      ]
     },
     "execution_count": 77,
     "metadata": {},
     "output_type": "execute_result"
    }
   ],
   "source": [
    "simplify(expr6-expr)==0"
   ]
  },
  {
   "cell_type": "code",
   "execution_count": 78,
   "id": "b994e98c",
   "metadata": {},
   "outputs": [],
   "source": [
    "expr1= (A*f**3)/expr3\n",
    "expr2= (A*f**3)/expr2"
   ]
  },
  {
   "cell_type": "code",
   "execution_count": 90,
   "id": "dd0a4c34",
   "metadata": {},
   "outputs": [],
   "source": [
    "expr3= integrate(expr1,f,manual=True)\n",
    "expr4= integrate(expr2,f,manual=True)"
   ]
  },
  {
   "cell_type": "code",
   "execution_count": 91,
   "id": "e75ad87d",
   "metadata": {},
   "outputs": [],
   "source": [
    "iexpr=simplify(expr3-expr4)"
   ]
  },
  {
   "cell_type": "code",
   "execution_count": 92,
   "id": "91b2e520",
   "metadata": {},
   "outputs": [
    {
     "data": {
      "text/plain": [
       "(4*f*fn*sqrt(1 - zeta**2) - (-fn**2*(4*zeta**2 - 3)/2 - fn**2*sqrt((zeta - 1)*(zeta + 1))*(2*zeta - 1)*(2*zeta + 1)/(2*zeta))*log(f - 2*fn*zeta**2*sqrt(1 - zeta**2)/(4*zeta**4 - 5*zeta**2 + 1) + fn*sqrt(1 - zeta**2)/(4*zeta**4 - 5*zeta**2 + 1) - 2*zeta**2*sqrt(1 - zeta**2)*(-fn**2*(4*zeta**2 - 3)/2 - fn**2*sqrt((zeta - 1)*(zeta + 1))*(2*zeta - 1)*(2*zeta + 1)/(2*zeta))/(4*fn*zeta**4 - 5*fn*zeta**2 + fn)) + (-fn**2*(4*zeta**2 - 3)/2 - fn**2*sqrt((zeta - 1)*(zeta + 1))*(2*zeta - 1)*(2*zeta + 1)/(2*zeta))*log(f + 2*fn*zeta**2*sqrt(1 - zeta**2)/(4*zeta**4 - 5*zeta**2 + 1) - fn*sqrt(1 - zeta**2)/(4*zeta**4 - 5*zeta**2 + 1) + 2*zeta**2*sqrt(1 - zeta**2)*(-fn**2*(4*zeta**2 - 3)/2 - fn**2*sqrt((zeta - 1)*(zeta + 1))*(2*zeta - 1)*(2*zeta + 1)/(2*zeta))/(4*fn*zeta**4 - 5*fn*zeta**2 + fn)) - (-fn**2*(4*zeta**2 - 3)/2 + fn**2*sqrt((zeta - 1)*(zeta + 1))*(2*zeta - 1)*(2*zeta + 1)/(2*zeta))*log(f - 2*fn*zeta**2*sqrt(1 - zeta**2)/(4*zeta**4 - 5*zeta**2 + 1) + fn*sqrt(1 - zeta**2)/(4*zeta**4 - 5*zeta**2 + 1) - 2*zeta**2*sqrt(1 - zeta**2)*(-fn**2*(4*zeta**2 - 3)/2 + fn**2*sqrt((zeta - 1)*(zeta + 1))*(2*zeta - 1)*(2*zeta + 1)/(2*zeta))/(4*fn*zeta**4 - 5*fn*zeta**2 + fn)) + (-fn**2*(4*zeta**2 - 3)/2 + fn**2*sqrt((zeta - 1)*(zeta + 1))*(2*zeta - 1)*(2*zeta + 1)/(2*zeta))*log(f + 2*fn*zeta**2*sqrt(1 - zeta**2)/(4*zeta**4 - 5*zeta**2 + 1) - fn*sqrt(1 - zeta**2)/(4*zeta**4 - 5*zeta**2 + 1) + 2*zeta**2*sqrt(1 - zeta**2)*(-fn**2*(4*zeta**2 - 3)/2 + fn**2*sqrt((zeta - 1)*(zeta + 1))*(2*zeta - 1)*(2*zeta + 1)/(2*zeta))/(4*fn*zeta**4 - 5*fn*zeta**2 + fn)))/(4*fn*sqrt(1 - zeta**2))"
      ]
     },
     "execution_count": 92,
     "metadata": {},
     "output_type": "execute_result"
    }
   ],
   "source": [
    "init_printing(pretty_print=False)\n",
    "iexpr"
   ]
  },
  {
   "cell_type": "code",
   "execution_count": 95,
   "id": "972e4db9",
   "metadata": {},
   "outputs": [],
   "source": [
    "def M4(A,K,f1,f2,fn,zeta):\n",
    "    def intF(f,fn,zeta):\n",
    "        return (4*f*fn*sqrt(1 - zeta**2) - (-fn**2*(4*zeta**2 - 3)/2 - fn**2*sqrt((zeta - 1)*(zeta + 1))*(2*zeta - 1)*(2*zeta + 1)/(2*zeta))*log(f - 2*fn*zeta**2*sqrt(1 - zeta**2)/(4*zeta**4 - 5*zeta**2 + 1) + fn*sqrt(1 - zeta**2)/(4*zeta**4 - 5*zeta**2 + 1) - 2*zeta**2*sqrt(1 - zeta**2)*(-fn**2*(4*zeta**2 - 3)/2 - fn**2*sqrt((zeta - 1)*(zeta + 1))*(2*zeta - 1)*(2*zeta + 1)/(2*zeta))/(4*fn*zeta**4 - 5*fn*zeta**2 + fn)) + (-fn**2*(4*zeta**2 - 3)/2 - fn**2*sqrt((zeta - 1)*(zeta + 1))*(2*zeta - 1)*(2*zeta + 1)/(2*zeta))*log(f + 2*fn*zeta**2*sqrt(1 - zeta**2)/(4*zeta**4 - 5*zeta**2 + 1) - fn*sqrt(1 - zeta**2)/(4*zeta**4 - 5*zeta**2 + 1) + 2*zeta**2*sqrt(1 - zeta**2)*(-fn**2*(4*zeta**2 - 3)/2 - fn**2*sqrt((zeta - 1)*(zeta + 1))*(2*zeta - 1)*(2*zeta + 1)/(2*zeta))/(4*fn*zeta**4 - 5*fn*zeta**2 + fn)) - (-fn**2*(4*zeta**2 - 3)/2 + fn**2*sqrt((zeta - 1)*(zeta + 1))*(2*zeta - 1)*(2*zeta + 1)/(2*zeta))*log(f - 2*fn*zeta**2*sqrt(1 - zeta**2)/(4*zeta**4 - 5*zeta**2 + 1) + fn*sqrt(1 - zeta**2)/(4*zeta**4 - 5*zeta**2 + 1) - 2*zeta**2*sqrt(1 - zeta**2)*(-fn**2*(4*zeta**2 - 3)/2 + fn**2*sqrt((zeta - 1)*(zeta + 1))*(2*zeta - 1)*(2*zeta + 1)/(2*zeta))/(4*fn*zeta**4 - 5*fn*zeta**2 + fn)) + (-fn**2*(4*zeta**2 - 3)/2 + fn**2*sqrt((zeta - 1)*(zeta + 1))*(2*zeta - 1)*(2*zeta + 1)/(2*zeta))*log(f + 2*fn*zeta**2*sqrt(1 - zeta**2)/(4*zeta**4 - 5*zeta**2 + 1) - fn*sqrt(1 - zeta**2)/(4*zeta**4 - 5*zeta**2 + 1) + 2*zeta**2*sqrt(1 - zeta**2)*(-fn**2*(4*zeta**2 - 3)/2 + fn**2*sqrt((zeta - 1)*(zeta + 1))*(2*zeta - 1)*(2*zeta + 1)/(2*zeta))/(4*fn*zeta**4 - 5*fn*zeta**2 + fn)))/(4*fn*sqrt(1 - zeta**2))\n",
    "    out = intF(f2,fn,zeta)\n",
    "    out -= intF(f1,fn,zeta)\n",
    "    out *= A*K**2\n",
    "    out /= (2*pi)**4\n",
    "    return out;"
   ]
  },
  {
   "cell_type": "markdown",
   "id": "d9d77c8d",
   "metadata": {},
   "source": [
    "M0.5"
   ]
  },
  {
   "cell_type": "markdown",
   "id": "28cd3816",
   "metadata": {},
   "source": [
    "$M_{0.5}=A\\frac{K^2}{(2\\pi)^4}\\int_{f_1}^{f_2}\\frac{f^{1/2}}{(f^2-f_n^2)^2+(2\\zeta f f_n)^2}df$"
   ]
  },
  {
   "cell_type": "markdown",
   "id": "b429e502",
   "metadata": {},
   "source": [
    "$f^{1/2}=u$\n",
    "\n",
    "$df = 2udu$"
   ]
  },
  {
   "cell_type": "markdown",
   "id": "7f634702",
   "metadata": {},
   "source": [
    "$\\frac{f^{1/2}}{(f^2-f_n^2)^2+(2\\zeta f f_n)^2}=\n",
    "2\\frac{u^2}{(u^4-f_n^2)^2+(2\\zeta u^2 f_n)^2}$"
   ]
  },
  {
   "cell_type": "code",
   "execution_count": 20,
   "id": "a1108c1a",
   "metadata": {},
   "outputs": [],
   "source": [
    "A, B, C, D, E, F =symbols('A B C D E F')\n",
    "G, H = symbols('G H')\n",
    "u= symbols('u')\n",
    "expr1 = (u**4-fn**2)**2+(2*z*u**2*fn)**2"
   ]
  },
  {
   "cell_type": "code",
   "execution_count": 18,
   "id": "633e03ca",
   "metadata": {},
   "outputs": [],
   "source": [
    "expr2 = u**4 + 2*sqrt(1-z**2)*u**2*fn + fn**2\n",
    "expr3 = u**4 - 2*sqrt(1-z**2)*u**2*fn + fn**2"
   ]
  },
  {
   "cell_type": "code",
   "execution_count": 19,
   "id": "17838660",
   "metadata": {},
   "outputs": [
    {
     "data": {
      "text/plain": [
       "True"
      ]
     },
     "execution_count": 19,
     "metadata": {},
     "output_type": "execute_result"
    }
   ],
   "source": [
    "simplify(expr2*expr3-expr1)==0"
   ]
  },
  {
   "cell_type": "code",
   "execution_count": 21,
   "id": "e0ebb544",
   "metadata": {},
   "outputs": [],
   "source": [
    "expr4=(A*u**3+B*u**2+C*u+D)/expr3-(E*u**3+F*u**2+G*u+H)/expr2"
   ]
  },
  {
   "cell_type": "code",
   "execution_count": 22,
   "id": "dae206d1",
   "metadata": {},
   "outputs": [],
   "source": [
    "eq=Eq(simplify(expr4),u**2)"
   ]
  },
  {
   "cell_type": "code",
   "execution_count": 12,
   "id": "e7752811",
   "metadata": {},
   "outputs": [
    {
     "data": {
      "image/png": "[encoded data removed]",
      "text/latex": [
       "$\\displaystyle fn^{2} - 2 fn u^{2} \\sqrt{1 - \\zeta^{2}} + u^{4}$"
      ],
      "text/plain": [
       "                 ________     \n",
       "  2         2   ╱      2     4\n",
       "fn  - 2⋅fn⋅u ⋅╲╱  1 - ζ   + u "
      ]
     },
     "execution_count": 12,
     "metadata": {},
     "output_type": "execute_result"
    }
   ],
   "source": [
    "expr3"
   ]
  },
  {
   "cell_type": "code",
   "execution_count": 24,
   "id": "19a88ac3",
   "metadata": {},
   "outputs": [
    {
     "data": {
      "image/png": "[encoded data removed]",
      "text/latex": [
       "$\\displaystyle \\left[ \\right]$"
      ],
      "text/plain": [
       "[]"
      ]
     },
     "execution_count": 24,
     "metadata": {},
     "output_type": "execute_result"
    }
   ],
   "source": [
    "solve_undetermined_coeffs(eq, [A,B,C,D,E,F,G,H], u)"
   ]
  },
  {
   "cell_type": "code",
   "execution_count": null,
   "id": "3569a283",
   "metadata": {},
   "outputs": [],
   "source": []
  }
 ],
 "metadata": {
  "kernelspec": {
   "display_name": "Python 3 (ipykernel)",
   "language": "python",
   "name": "python3"
  },
  "language_info": {
   "codemirror_mode": {
    "name": "ipython",
    "version": 3
   },
   "file_extension": ".py",
   "mimetype": "text/x-python",
   "name": "python",
   "nbconvert_exporter": "python",
   "pygments_lexer": "ipython3",
   "version": "3.9.7"
  }
 },
 "nbformat": 4,
 "nbformat_minor": 5
}
