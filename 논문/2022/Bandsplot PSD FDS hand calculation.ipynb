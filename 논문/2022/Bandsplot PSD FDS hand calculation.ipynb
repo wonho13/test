{
 "cells": [
  {
   "cell_type": "markdown",
   "id": "664d9602",
   "metadata": {},
   "source": [
    "$H(f,f_n,\\zeta)=\\frac{1}{(2\\pi)^2(f^2-f_n^2+j2\\zeta f f_n)}$"
   ]
  },
  {
   "cell_type": "markdown",
   "id": "1ccf9b95",
   "metadata": {},
   "source": [
    "$|H(f,f_n,\\zeta)|=\\frac{1}{(2\\pi)^2\\sqrt{((f^2-f_n^2)^2+(2\\zeta f f_n)^2)}}$"
   ]
  },
  {
   "cell_type": "markdown",
   "id": "2d54cb43",
   "metadata": {},
   "source": [
    "$z(f,f_n,\\zeta)=|H(f,f_n,\\zeta)| \\ddot{y}(f,f_n,\\zeta)$"
   ]
  },
  {
   "cell_type": "markdown",
   "id": "ac855a34",
   "metadata": {},
   "source": [
    "$W_{z}(f,f_n,\\zeta)=|H(f,f_n,\\zeta)|^2W_{\\ddot{y}}(f)$"
   ]
  },
  {
   "cell_type": "markdown",
   "id": "48781317",
   "metadata": {},
   "source": [
    "$S_a=K\\cdot |z|$"
   ]
  },
  {
   "cell_type": "markdown",
   "id": "9ce19d4c",
   "metadata": {},
   "source": [
    "$W_{S_a}(f,f_n,\\zeta)=K^2 \\cdot W_{z}(f,f_n,\\zeta)$"
   ]
  },
  {
   "cell_type": "markdown",
   "id": "0b74c389",
   "metadata": {},
   "source": [
    "$M_n=\\int_0^{\\infty} f^nW(f)df$"
   ]
  },
  {
   "cell_type": "markdown",
   "id": "797dc42a",
   "metadata": {},
   "source": [
    "## 1. BLWN"
   ]
  },
  {
   "cell_type": "markdown",
   "id": "a890fdd2",
   "metadata": {},
   "source": [
    "$W_{\\ddot{y}}(f)=\\begin{cases}\n",
    "A && f_1 \\leq f \\leq f_2 \\\\\n",
    "0 && otherwise\n",
    "\\end{cases}$"
   ]
  },
  {
   "cell_type": "markdown",
   "id": "27bc3c3b",
   "metadata": {},
   "source": [
    "$W_{z}(f)=\\begin{cases}\n",
    "A\\frac{1}{(2\\pi)^4((f^2-f_n^2)^2+(2\\zeta f f_n)^2)} && f_1 \\leq f \\leq f_2 \\\\\n",
    "0 && otherwise\n",
    "\\end{cases}$"
   ]
  },
  {
   "cell_type": "markdown",
   "id": "2a1a6985",
   "metadata": {},
   "source": [
    "$W_{S_a}(f,f_n,\\zeta)=AK^2\\frac{1}{(2\\pi)^4((f^2-f_n^2)^2+(2\\zeta f f_n)^2)}$"
   ]
  },
  {
   "cell_type": "markdown",
   "id": "3f3ddbc6",
   "metadata": {},
   "source": [
    "### 1.1 Moments"
   ]
  },
  {
   "cell_type": "markdown",
   "id": "b5899c09",
   "metadata": {},
   "source": [
    "$M_0=A\\frac{K^2}{(2\\pi)^4}\\int_{f_1}^{f_2}\\frac{1}{(f^2-f_n^2)^2+(2\\zeta f f_n)^2}df$"
   ]
  },
  {
   "cell_type": "code",
   "execution_count": 72,
   "id": "0ff7a943",
   "metadata": {},
   "outputs": [],
   "source": [
    "from sympy import *\n",
    "\n",
    "init_printing()\n",
    "f, fn, z, f1, f2= symbols('f fn zeta f1 f2')"
   ]
  },
  {
   "cell_type": "code",
   "execution_count": 73,
   "id": "b374ae1c",
   "metadata": {},
   "outputs": [],
   "source": [
    "expr1 = (f**2-fn**2)**2+(2*z*f*fn)**2"
   ]
  },
  {
   "cell_type": "code",
   "execution_count": 74,
   "id": "370884db",
   "metadata": {},
   "outputs": [],
   "source": [
    "expr=1/expr1"
   ]
  },
  {
   "cell_type": "code",
   "execution_count": 75,
   "id": "ea88e9df",
   "metadata": {},
   "outputs": [],
   "source": [
    "expr2 = f**2 + 2*sqrt(1-z**2)*f*fn+ fn**2\n",
    "expr3 = f**2 - 2*sqrt(1-z**2)*f*fn + fn**2"
   ]
  },
  {
   "cell_type": "code",
   "execution_count": 76,
   "id": "0b5d8231",
   "metadata": {},
   "outputs": [
    {
     "data": {
      "image/png": "[encoded data removed]",
      "text/latex": [
       "$\\displaystyle f^{4} + 4 f^{2} fn^{2} \\zeta^{2} - 2 f^{2} fn^{2} + fn^{4}$"
      ],
      "text/plain": [
       " 4      2   2  2      2   2     4\n",
       "f  + 4⋅f ⋅fn ⋅ζ  - 2⋅f ⋅fn  + fn "
      ]
     },
     "execution_count": 76,
     "metadata": {},
     "output_type": "execute_result"
    }
   ],
   "source": [
    "expand(expr2*expr3)"
   ]
  },
  {
   "cell_type": "code",
   "execution_count": 77,
   "id": "2b6073ed",
   "metadata": {},
   "outputs": [
    {
     "data": {
      "image/png": "[encoded data removed]",
      "text/latex": [
       "$\\displaystyle f^{4} + 4 f^{2} fn^{2} \\zeta^{2} - 2 f^{2} fn^{2} + fn^{4}$"
      ],
      "text/plain": [
       " 4      2   2  2      2   2     4\n",
       "f  + 4⋅f ⋅fn ⋅ζ  - 2⋅f ⋅fn  + fn "
      ]
     },
     "execution_count": 77,
     "metadata": {},
     "output_type": "execute_result"
    }
   ],
   "source": [
    "expand(expr1)"
   ]
  },
  {
   "cell_type": "code",
   "execution_count": 78,
   "id": "bed2f555",
   "metadata": {},
   "outputs": [],
   "source": [
    "A,B=symbols('A B')"
   ]
  },
  {
   "cell_type": "code",
   "execution_count": 79,
   "id": "55eaf504",
   "metadata": {},
   "outputs": [],
   "source": [
    "expr4=(A*f+B*fn)/expr2-(A*f-B*fn)/expr3"
   ]
  },
  {
   "cell_type": "code",
   "execution_count": 80,
   "id": "ef8e2e2d",
   "metadata": {},
   "outputs": [],
   "source": [
    "expr5=cancel(expr4)"
   ]
  },
  {
   "cell_type": "code",
   "execution_count": 81,
   "id": "b611934e",
   "metadata": {},
   "outputs": [
    {
     "data": {
      "image/png": "[encoded data removed]",
      "text/latex": [
       "$\\displaystyle - 4 A f^{2} fn \\sqrt{1 - \\zeta^{2}} + 2 B f^{2} fn + 2 B fn^{3}$"
      ],
      "text/plain": [
       "               ________                      \n",
       "       2      ╱      2         2            3\n",
       "- 4⋅A⋅f ⋅fn⋅╲╱  1 - ζ   + 2⋅B⋅f ⋅fn + 2⋅B⋅fn "
      ]
     },
     "execution_count": 81,
     "metadata": {},
     "output_type": "execute_result"
    }
   ],
   "source": [
    "numer(expr5)"
   ]
  },
  {
   "cell_type": "code",
   "execution_count": 82,
   "id": "c66dfe07",
   "metadata": {},
   "outputs": [],
   "source": [
    "eq=Eq(numer(expr5),1)"
   ]
  },
  {
   "cell_type": "code",
   "execution_count": 83,
   "id": "0d9fb66d",
   "metadata": {},
   "outputs": [
    {
     "data": {
      "image/png": "[encoded data removed]",
      "text/latex": [
       "$\\displaystyle \\left\\{ A : \\frac{1}{4 fn^{3} \\sqrt{1 - \\zeta^{2}}}, \\  B : \\frac{1}{2 fn^{3}}\\right\\}$"
      ],
      "text/plain": [
       "⎧           1               1  ⎫\n",
       "⎪A: ─────────────────, B: ─────⎪\n",
       "⎨            ________         3⎬\n",
       "⎪       3   ╱      2      2⋅fn ⎪\n",
       "⎩   4⋅fn ⋅╲╱  1 - ζ            ⎭"
      ]
     },
     "execution_count": 83,
     "metadata": {},
     "output_type": "execute_result"
    }
   ],
   "source": [
    "solve_undetermined_coeffs(eq, [A,B], f)"
   ]
  },
  {
   "cell_type": "code",
   "execution_count": 84,
   "id": "1c3be0ae",
   "metadata": {},
   "outputs": [],
   "source": [
    "A=1/(4*fn**3*sqrt(1-z**2))\n",
    "B=1/(2*fn**3)"
   ]
  },
  {
   "cell_type": "code",
   "execution_count": 85,
   "id": "72c44853",
   "metadata": {},
   "outputs": [],
   "source": [
    "expr1= (A*f+B*fn)/expr2\n",
    "expr2= (A*f-B*fn)/expr3"
   ]
  },
  {
   "cell_type": "code",
   "execution_count": 89,
   "id": "3930db58",
   "metadata": {},
   "outputs": [
    {
     "data": {
      "image/png": "[encoded data removed]",
      "text/latex": [
       "$\\displaystyle \\frac{1}{f^{4} + 4 f^{2} fn^{2} \\zeta^{2} - 2 f^{2} fn^{2} + fn^{4}}$"
      ],
      "text/plain": [
       "                1                \n",
       "─────────────────────────────────\n",
       " 4      2   2  2      2   2     4\n",
       "f  + 4⋅f ⋅fn ⋅ζ  - 2⋅f ⋅fn  + fn "
      ]
     },
     "execution_count": 89,
     "metadata": {},
     "output_type": "execute_result"
    }
   ],
   "source": [
    "simplify((expr1-expr2))"
   ]
  },
  {
   "cell_type": "code",
   "execution_count": 97,
   "id": "72a9ce7e",
   "metadata": {},
   "outputs": [],
   "source": [
    "expr3=integrate(expr1,f,manual=True)"
   ]
  },
  {
   "cell_type": "code",
   "execution_count": 98,
   "id": "bf0b2a8a",
   "metadata": {},
   "outputs": [],
   "source": [
    "expr4=integrate(expr2,f,manual=True)"
   ]
  },
  {
   "cell_type": "code",
   "execution_count": 99,
   "id": "bb924f08",
   "metadata": {},
   "outputs": [],
   "source": [
    "iexpr=expr3-expr4"
   ]
  },
  {
   "cell_type": "code",
   "execution_count": 100,
   "id": "5615e10d",
   "metadata": {},
   "outputs": [
    {
     "data": {
      "image/png": "[encoded data removed]",
      "text/latex": [
       "$\\displaystyle \\frac{2 fn \\sqrt{1 - \\zeta^{2}} \\left(\\operatorname{atan}{\\left(\\frac{f - fn \\sqrt{1 - \\zeta^{2}}}{\\sqrt{fn^{2} \\zeta^{2}}} \\right)} + \\operatorname{atan}{\\left(\\frac{f + fn \\sqrt{1 - \\zeta^{2}}}{\\sqrt{fn^{2} \\zeta^{2}}} \\right)}\\right) + \\sqrt{fn^{2} \\zeta^{2}} \\left(- \\log{\\left(f^{2} - 2 f fn \\sqrt{1 - \\zeta^{2}} + fn^{2} \\right)} + \\log{\\left(f^{2} + 2 f fn \\sqrt{1 - \\zeta^{2}} + fn^{2} \\right)}\\right)}{8 fn^{3} \\sqrt{fn^{2} \\zeta^{2}} \\sqrt{1 - \\zeta^{2}}}$"
      ],
      "text/plain": [
       "                 ⎛    ⎛          ________⎞       ⎛          _\n",
       "        ________ ⎜    ⎜         ╱      2 ⎟       ⎜         ╱ \n",
       "       ╱      2  ⎜    ⎜f - fn⋅╲╱  1 - ζ  ⎟       ⎜f + fn⋅╲╱  \n",
       "2⋅fn⋅╲╱  1 - ζ  ⋅⎜atan⎜──────────────────⎟ + atan⎜───────────\n",
       "                 ⎜    ⎜      ________    ⎟       ⎜      _____\n",
       "                 ⎜    ⎜     ╱   2  2     ⎟       ⎜     ╱   2 \n",
       "                 ⎝    ⎝   ╲╱  fn ⋅ζ      ⎠       ⎝   ╲╱  fn ⋅\n",
       "─────────────────────────────────────────────────────────────\n",
       "                                                             \n",
       "                                                             \n",
       "                                                             \n",
       "\n",
       "_______⎞⎞                                                    \n",
       "     2 ⎟⎟      ________ ⎛     ⎛               ________      ⎞\n",
       "1 - ζ  ⎟⎟     ╱   2  2  ⎜     ⎜ 2            ╱      2      2⎟\n",
       "───────⎟⎟ + ╲╱  fn ⋅ζ  ⋅⎝- log⎝f  - 2⋅f⋅fn⋅╲╱  1 - ζ   + fn ⎠\n",
       "___    ⎟⎟                                                    \n",
       " 2     ⎟⎟                                                    \n",
       "ζ      ⎠⎠                                                    \n",
       "─────────────────────────────────────────────────────────────\n",
       "             ________    ________                            \n",
       "        3   ╱   2  2    ╱      2                             \n",
       "    8⋅fn ⋅╲╱  fn ⋅ζ  ⋅╲╱  1 - ζ                              \n",
       "\n",
       "                                      \n",
       "      ⎛               ________      ⎞⎞\n",
       "      ⎜ 2            ╱      2      2⎟⎟\n",
       " + log⎝f  + 2⋅f⋅fn⋅╲╱  1 - ζ   + fn ⎠⎠\n",
       "                                      \n",
       "                                      \n",
       "                                      \n",
       "──────────────────────────────────────\n",
       "                                      \n",
       "                                      \n",
       "                                      "
      ]
     },
     "execution_count": 100,
     "metadata": {},
     "output_type": "execute_result"
    }
   ],
   "source": [
    "simplify(iexpr)"
   ]
  },
  {
   "cell_type": "code",
   "execution_count": 102,
   "id": "b9d751fe",
   "metadata": {},
   "outputs": [],
   "source": [
    "def aaa(a,b,c):\n",
    "    return iexpr.subs([(f,a),(fn,b),(z,c)])"
   ]
  },
  {
   "cell_type": "code",
   "execution_count": 104,
   "id": "db136fbe",
   "metadata": {},
   "outputs": [
    {
     "data": {
      "image/png": "[encoded data removed]",
      "text/latex": [
       "$\\displaystyle 0.0391688986185157$"
      ],
      "text/plain": [
       "0.0391688986185157"
      ]
     },
     "execution_count": 104,
     "metadata": {},
     "output_type": "execute_result"
    }
   ],
   "source": [
    "aaa(100,10,0.02)-aaa(1,10,0.02)"
   ]
  },
  {
   "cell_type": "code",
   "execution_count": null,
   "id": "d9aa1a1a",
   "metadata": {},
   "outputs": [],
   "source": []
  }
 ],
 "metadata": {
  "kernelspec": {
   "display_name": "Python 3 (ipykernel)",
   "language": "python",
   "name": "python3"
  },
  "language_info": {
   "codemirror_mode": {
    "name": "ipython",
    "version": 3
   },
   "file_extension": ".py",
   "mimetype": "text/x-python",
   "name": "python",
   "nbconvert_exporter": "python",
   "pygments_lexer": "ipython3",
   "version": "3.9.7"
  }
 },
 "nbformat": 4,
 "nbformat_minor": 5
}
