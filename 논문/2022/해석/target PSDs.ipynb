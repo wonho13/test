{
 "cells": [
  {
   "cell_type": "code",
   "execution_count": 36,
   "metadata": {},
   "outputs": [],
   "source": [
    "%run functions.ipynb"
   ]
  },
  {
   "cell_type": "markdown",
   "metadata": {},
   "source": [
    "## BLWN"
   ]
  },
  {
   "cell_type": "code",
   "execution_count": 2,
   "metadata": {},
   "outputs": [],
   "source": [
    "bwp = np.linspace(0.1,1,10); loc = np.linspace(0,1,11);\n",
    "fmin = 1; fmax = 1000;\n",
    "freq_spec = np.logspace(np.log10(fmin),np.log10(fmax),5000); psd_spec = np.zeros(5000); \n",
    "for i in range(len(bwp)):\n",
    "    for j in range(len(loc)):\n",
    "        for k in range(5000):\n",
    "            psd_spec[k]= blwn(freq_spec[k],fmin,fmax,bwp[i],loc[j]);\n",
    "        fileO(freq_spec,psd_spec,'blwn_%.1fb_%.1fl.txt'%(bwp[i],loc[j]));"
   ]
  },
  {
   "cell_type": "markdown",
   "metadata": {},
   "source": [
    "## Unimodal"
   ]
  },
  {
   "cell_type": "code",
   "execution_count": 3,
   "metadata": {},
   "outputs": [],
   "source": [
    "bwp = 1; loc = 0; fn1 = np.linspace(200,800,13); zeta1 = np.array([0.01,0.02,0.05,0.1,0.2,0.5]);\n",
    "fmin = 1; fmax = 1000;\n",
    "freq_spec = np.logspace(np.log10(fmin),np.log10(fmax),5000); psd_spec = np.zeros(5000); \n",
    "for i in range(len(fn1)):\n",
    "    for j in range(len(zeta1)):\n",
    "        for k in range(5000):\n",
    "            psd_spec[k]= unimodal(freq_spec[k],fmin,fmax,bwp,loc,fn1[i],zeta1[j]);\n",
    "        fileO(freq_spec,psd_spec,'unimodal_%.0ffn1_%.2fz1.txt'%(fn1[i],zeta1[j]));"
   ]
  },
  {
   "cell_type": "markdown",
   "metadata": {},
   "source": [
    "## Bimodal"
   ]
  },
  {
   "cell_type": "code",
   "execution_count": 6,
   "metadata": {},
   "outputs": [],
   "source": [
    "bwp = 1; loc = 0; fn1 = np.linspace(200,800,4); fn2 = np.linspace(200,800,4); \n",
    "zeta1 = np.array([0.01,0.05,0.1,0.5]); zeta2 = np.array([0.01,0.05,0.1,0.5]);\n",
    "ratio = np.array([0.5,1,2]);\n",
    "fmin = 1; fmax = 1000;\n",
    "freq_spec = np.logspace(np.log10(fmin),np.log10(fmax),5000); bimodal_psd_spec = np.zeros([5000,len(fn1),len(zeta1)]); \n",
    "for i in range(len(fn1)):\n",
    "    for j in range(len(fn2)):\n",
    "        if j > i:\n",
    "            for k in range(len(zeta1)):\n",
    "                for x in range(len(zeta2)):\n",
    "                    for y in range(len(ratio)):\n",
    "                        for z in range(5000):\n",
    "                            psd_spec[z]= bimodal(freq_spec[z],fmin,fmax,bwp,loc,fn1[i],zeta1[k],fn2[j],zeta2[x],ratio[y]);\n",
    "                        fileO(freq_spec,psd_spec,'bimodal_%.0ffn1_%.2fz1_%.0ffn2_%.2fz2_%.2fr.txt'%(fn1[i],zeta1[k],fn2[j],zeta2[x],ratio[y]));"
   ]
  },
  {
   "cell_type": "markdown",
   "metadata": {},
   "source": [
    "## Irregularity Factor"
   ]
  },
  {
   "cell_type": "code",
   "execution_count": 37,
   "metadata": {},
   "outputs": [],
   "source": [
    "out = fileI('target_psd/bimodal_200fn1_0.01z1_400fn2_0.01z2_0.50r.txt');"
   ]
  },
  {
   "cell_type": "code",
   "execution_count": 39,
   "metadata": {},
   "outputs": [
    {
     "data": {
      "text/plain": [
       "[<matplotlib.lines.Line2D at 0x20dbde05580>]"
      ]
     },
     "execution_count": 39,
     "metadata": {},
     "output_type": "execute_result"
    },
    {
     "data": {
      "image/png": "[encoded data removed]",
      "text/plain": [
       "<Figure size 432x288 with 1 Axes>"
      ]
     },
     "metadata": {
      "needs_background": "light"
     },
     "output_type": "display_data"
    }
   ],
   "source": [
    "plt.plot(out[:,0],out[:,1]);"
   ]
  },
  {
   "cell_type": "markdown",
   "metadata": {},
   "source": [
    "## Peak Rate"
   ]
  },
  {
   "cell_type": "markdown",
   "metadata": {},
   "source": [
    "## Mean Frequency"
   ]
  },
  {
   "cell_type": "code",
   "execution_count": null,
   "metadata": {},
   "outputs": [],
   "source": []
  }
 ],
 "metadata": {
  "kernelspec": {
   "display_name": "Python 3",
   "language": "python",
   "name": "python3"
  },
  "language_info": {
   "codemirror_mode": {
    "name": "ipython",
    "version": 3
   },
   "file_extension": ".py",
   "mimetype": "text/x-python",
   "name": "python",
   "nbconvert_exporter": "python",
   "pygments_lexer": "ipython3",
   "version": "3.8.3"
  }
 },
 "nbformat": 4,
 "nbformat_minor": 4
}
