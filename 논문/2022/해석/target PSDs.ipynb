{
 "cells": [
  {
   "cell_type": "code",
   "execution_count": 1,
   "metadata": {},
   "outputs": [
    {
     "name": "stdout",
     "output_type": "stream",
     "text": [
      "Python 3.x\n"
     ]
    }
   ],
   "source": [
    "%run functions.ipynb"
   ]
  },
  {
   "cell_type": "markdown",
   "metadata": {},
   "source": [
    "## BLWN"
   ]
  },
  {
   "cell_type": "code",
   "execution_count": 63,
   "metadata": {},
   "outputs": [],
   "source": [
    "bwp = np.linspace(0.1,1,10); loc = np.linspace(0,1,11);\n",
    "fmin = 1; fmax = 1000;\n",
    "freq_spec = np.logspace(np.log10(fmin),np.log10(fmax),5000); psd_spec = np.zeros(5000); \n",
    "for i in range(len(bwp)):\n",
    "    for j in range(len(loc)):\n",
    "        for k in range(5000):\n",
    "            psd_spec[k]= blwn(freq_spec[k],fmin,fmax,bwp[i],loc[j]);\n",
    "        fileO(freq_spec,psd_spec,'target_psd/blwn_%.1fb_%.1fl.txt'%(bwp[i],loc[j]));"
   ]
  },
  {
   "cell_type": "markdown",
   "metadata": {},
   "source": [
    "## Unimodal"
   ]
  },
  {
   "cell_type": "code",
   "execution_count": 64,
   "metadata": {},
   "outputs": [],
   "source": [
    "bwp = 1; loc = 0; fn1 = np.linspace(200,800,13); zeta1 = np.array([0.01,0.02,0.05,0.1]);\n",
    "fmin = 1; fmax = 1000;\n",
    "freq_spec = np.logspace(np.log10(fmin),np.log10(fmax),5000); psd_spec = np.zeros(5000); \n",
    "for i in range(len(fn1)):\n",
    "    for j in range(len(zeta1)):\n",
    "        for k in range(5000):\n",
    "            psd_spec[k]= unimodal(freq_spec[k],fmin,fmax,bwp,loc,fn1[i],zeta1[j]);\n",
    "        fileO(freq_spec,psd_spec,'target_psd/unimodal_%.0ffn1_%.2fz1.txt'%(fn1[i],zeta1[j]));"
   ]
  },
  {
   "cell_type": "markdown",
   "metadata": {},
   "source": [
    "## Bimodal"
   ]
  },
  {
   "cell_type": "code",
   "execution_count": 65,
   "metadata": {},
   "outputs": [],
   "source": [
    "bwp = 1; loc = 0; fn1 = np.linspace(200,800,4); fn2 = np.linspace(200,800,4); \n",
    "zeta1 = np.array([0.01,0.02,0.05,0.1]); zeta2 = np.array([0.01,0.02,0.05,0.1]);\n",
    "ratio = np.array([0.5,1,2]);\n",
    "fmin = 1; fmax = 1000;\n",
    "freq_spec = np.logspace(np.log10(fmin),np.log10(fmax),5000); bimodal_psd_spec = np.zeros([5000,len(fn1),len(zeta1)]); \n",
    "for i in range(len(fn1)):\n",
    "    for j in range(len(fn2)):\n",
    "        if j > i:\n",
    "            for k in range(len(zeta1)):\n",
    "                for x in range(len(zeta2)):\n",
    "                    for y in range(len(ratio)):\n",
    "                        for z in range(5000):\n",
    "                            psd_spec[z]= bimodal(freq_spec[z],fmin,fmax,bwp,loc,fn1[i],zeta1[k],fn2[j],zeta2[x],ratio[y]);\n",
    "                        fileO(freq_spec,psd_spec,'target_psd/bimodal_%.0ffn1_%.2fz1_%.0ffn2_%.2fz2_%.2fr.txt'%(fn1[i],zeta1[k],fn2[j],zeta2[x],ratio[y]));"
   ]
  },
  {
   "cell_type": "markdown",
   "metadata": {},
   "source": [
    "## Irregularity Factor"
   ]
  },
  {
   "cell_type": "markdown",
   "metadata": {},
   "source": [
    "## BLWN"
   ]
  },
  {
   "cell_type": "code",
   "execution_count": 5,
   "metadata": {},
   "outputs": [],
   "source": [
    "marker = np.array(['o','x','^','s'])\n",
    "bwp = np.linspace(0.1,1,10); loc = np.linspace(0,1,11);\n",
    "fmin = 1; fmax = 1000;\n",
    "freq_spec = np.logspace(np.log10(fmin),np.log10(fmax),5000); psd_spec = np.zeros(5000); \n",
    "for i in range(len(bwp)):\n",
    "    for j in range(len(loc)):\n",
    "        out = fileI('target_psd/blwn_%.1fb_%.1fl.txt'%(bwp[i],loc[j]));\n",
    "        fi = out[:,0]; pi = out[:,1];\n",
    "        ## RPSD, Irregularity factor, normalized mean frequency Calculation\n",
    "        fn = np.logspace(0,3,5000);\n",
    "        zeta = np.array([0.01,0.02,0.05,0.1]);\n",
    "        K = 1;\n",
    "        r = np.zeros([len(fn),len(zeta)]); Xm = np.zeros([len(fn),len(zeta)]);\n",
    "        for k in range(len(fn)):\n",
    "            for x in range(len(zeta)):\n",
    "                rpsd = pi*HH(fi,fn[k],zeta[x])*K;\n",
    "                freq = fi; psd = rpsd;\n",
    "                M0 = M(freq,psd,0);  M1 = M(freq,psd,1);  M2 = M(freq,psd,2);  M4 = M(freq,psd,4);\n",
    "                E0 = np.sqrt(M2/M0);\n",
    "                Ep = np.sqrt(M4/M2);\n",
    "                r[k,x] = E0/Ep;    \n",
    "                Xm[k,x] = (M1/M0)*np.sqrt(M2/M4);\n",
    "        plt.figure(figsize=(6,5));\n",
    "        for y in range(len(zeta)):\n",
    "            plt.plot(r[:,y],Xm[:,y], marker[y],label='$\\zeta=$%.2f'%(zeta[y]));\n",
    "            fileO(r[:,y],Xm[:,y],'irregularity/blwn_%.1fb_%.1fl_%.2fz.txt'%(bwp[i],loc[j],zeta[y]));\n",
    "        plt.legend();    \n",
    "        plt.xlabel('$\\gamma$');\n",
    "        plt.ylabel('$X_m$');\n",
    "        plt.savefig('irregularity/blwn_%.1fb_%.1fl.png'%(bwp[i],loc[j]), dpi=300);\n",
    "        plt.close();"
   ]
  },
  {
   "cell_type": "markdown",
   "metadata": {},
   "source": [
    "## Unimodal"
   ]
  },
  {
   "cell_type": "code",
   "execution_count": 7,
   "metadata": {},
   "outputs": [],
   "source": [
    "marker = np.array(['o','x','^','s'])\n",
    "bwp = 1; loc = 0; fn1 = np.linspace(200,800,13); zeta1 = np.array([0.01,0.02,0.05,0.1]);\n",
    "fmin = 1; fmax = 1000;\n",
    "freq_spec = np.logspace(np.log10(fmin),np.log10(fmax),5000); psd_spec = np.zeros(5000); \n",
    "for i in range(len(fn1)):\n",
    "    for j in range(len(zeta1)):\n",
    "        out = fileI('target_psd/unimodal_%.0ffn1_%.2fz1.txt'%(fn1[i],zeta1[j]));\n",
    "        fi = out[:,0]; pi = out[:,1];\n",
    "        ## RPSD, Irregularity factor, normalized mean frequency Calculation\n",
    "        fn = np.logspace(0,3,5000);\n",
    "        zeta = np.array([0.01,0.02,0.05,0.1]);\n",
    "        K = 1;\n",
    "        r = np.zeros([len(fn),len(zeta)]); Xm = np.zeros([len(fn),len(zeta)]);\n",
    "        for k in range(len(fn)):\n",
    "            for x in range(len(zeta)):\n",
    "                rpsd = pi*HH(fi,fn[k],zeta[x])*K;\n",
    "                freq = fi; psd = rpsd;\n",
    "                M0 = M(freq,psd,0);  M1 = M(freq,psd,1);  M2 = M(freq,psd,2);  M4 = M(freq,psd,4);\n",
    "                E0 = np.sqrt(M2/M0);\n",
    "                Ep = np.sqrt(M4/M2);\n",
    "                r[k,x] = E0/Ep;    \n",
    "                Xm[k,x] = (M1/M0)*np.sqrt(M2/M4);\n",
    "        plt.figure(figsize=(6,5));\n",
    "        for y in range(len(zeta)):\n",
    "            plt.plot(r[:,y],Xm[:,y], marker[y],label='$\\zeta=$%.2f'%(zeta[y]));\n",
    "            fileO(r[:,y],Xm[:,y],'irregularity/unimodal_%.0ffn1_%.2fz1_%.2fz.txt'%(fn1[i],zeta1[j],zeta[y]));\n",
    "        plt.legend();    \n",
    "        plt.xlabel('$\\gamma$');\n",
    "        plt.ylabel('$X_m$');\n",
    "        plt.savefig('irregularity/unimodal_%.0ffn1_%.2fz1.png'%(fn1[i],zeta1[j]), dpi=300);\n",
    "        plt.close();"
   ]
  },
  {
   "cell_type": "markdown",
   "metadata": {},
   "source": [
    "## Bimodal"
   ]
  },
  {
   "cell_type": "code",
   "execution_count": 9,
   "metadata": {},
   "outputs": [
    {
     "ename": "KeyboardInterrupt",
     "evalue": "",
     "output_type": "error",
     "traceback": [
      "\u001b[1;31m---------------------------------------------------------------------------\u001b[0m",
      "\u001b[1;31mKeyboardInterrupt\u001b[0m                         Traceback (most recent call last)",
      "\u001b[1;32m<ipython-input-9-002875e42868>\u001b[0m in \u001b[0;36m<module>\u001b[1;34m\u001b[0m\n\u001b[0;32m     22\u001b[0m                                 \u001b[0mrpsd\u001b[0m \u001b[1;33m=\u001b[0m \u001b[0mpi\u001b[0m\u001b[1;33m*\u001b[0m\u001b[0mHH\u001b[0m\u001b[1;33m(\u001b[0m\u001b[0mfi\u001b[0m\u001b[1;33m,\u001b[0m\u001b[0mfn\u001b[0m\u001b[1;33m[\u001b[0m\u001b[0mz\u001b[0m\u001b[1;33m]\u001b[0m\u001b[1;33m,\u001b[0m\u001b[0mzeta\u001b[0m\u001b[1;33m[\u001b[0m\u001b[0ma\u001b[0m\u001b[1;33m]\u001b[0m\u001b[1;33m)\u001b[0m\u001b[1;33m*\u001b[0m\u001b[0mK\u001b[0m\u001b[1;33m;\u001b[0m\u001b[1;33m\u001b[0m\u001b[1;33m\u001b[0m\u001b[0m\n\u001b[0;32m     23\u001b[0m                                 \u001b[0mfreq\u001b[0m \u001b[1;33m=\u001b[0m \u001b[0mfi\u001b[0m\u001b[1;33m;\u001b[0m \u001b[0mpsd\u001b[0m \u001b[1;33m=\u001b[0m \u001b[0mrpsd\u001b[0m\u001b[1;33m;\u001b[0m\u001b[1;33m\u001b[0m\u001b[1;33m\u001b[0m\u001b[0m\n\u001b[1;32m---> 24\u001b[1;33m                                 \u001b[0mM0\u001b[0m \u001b[1;33m=\u001b[0m \u001b[0mM\u001b[0m\u001b[1;33m(\u001b[0m\u001b[0mfreq\u001b[0m\u001b[1;33m,\u001b[0m\u001b[0mpsd\u001b[0m\u001b[1;33m,\u001b[0m\u001b[1;36m0\u001b[0m\u001b[1;33m)\u001b[0m\u001b[1;33m;\u001b[0m  \u001b[0mM1\u001b[0m \u001b[1;33m=\u001b[0m \u001b[0mM\u001b[0m\u001b[1;33m(\u001b[0m\u001b[0mfreq\u001b[0m\u001b[1;33m,\u001b[0m\u001b[0mpsd\u001b[0m\u001b[1;33m,\u001b[0m\u001b[1;36m1\u001b[0m\u001b[1;33m)\u001b[0m\u001b[1;33m;\u001b[0m  \u001b[0mM2\u001b[0m \u001b[1;33m=\u001b[0m \u001b[0mM\u001b[0m\u001b[1;33m(\u001b[0m\u001b[0mfreq\u001b[0m\u001b[1;33m,\u001b[0m\u001b[0mpsd\u001b[0m\u001b[1;33m,\u001b[0m\u001b[1;36m2\u001b[0m\u001b[1;33m)\u001b[0m\u001b[1;33m;\u001b[0m  \u001b[0mM4\u001b[0m \u001b[1;33m=\u001b[0m \u001b[0mM\u001b[0m\u001b[1;33m(\u001b[0m\u001b[0mfreq\u001b[0m\u001b[1;33m,\u001b[0m\u001b[0mpsd\u001b[0m\u001b[1;33m,\u001b[0m\u001b[1;36m4\u001b[0m\u001b[1;33m)\u001b[0m\u001b[1;33m;\u001b[0m\u001b[1;33m\u001b[0m\u001b[1;33m\u001b[0m\u001b[0m\n\u001b[0m\u001b[0;32m     25\u001b[0m                                 \u001b[0mE0\u001b[0m \u001b[1;33m=\u001b[0m \u001b[0mnp\u001b[0m\u001b[1;33m.\u001b[0m\u001b[0msqrt\u001b[0m\u001b[1;33m(\u001b[0m\u001b[0mM2\u001b[0m\u001b[1;33m/\u001b[0m\u001b[0mM0\u001b[0m\u001b[1;33m)\u001b[0m\u001b[1;33m;\u001b[0m\u001b[1;33m\u001b[0m\u001b[1;33m\u001b[0m\u001b[0m\n\u001b[0;32m     26\u001b[0m                                 \u001b[0mEp\u001b[0m \u001b[1;33m=\u001b[0m \u001b[0mnp\u001b[0m\u001b[1;33m.\u001b[0m\u001b[0msqrt\u001b[0m\u001b[1;33m(\u001b[0m\u001b[0mM4\u001b[0m\u001b[1;33m/\u001b[0m\u001b[0mM2\u001b[0m\u001b[1;33m)\u001b[0m\u001b[1;33m;\u001b[0m\u001b[1;33m\u001b[0m\u001b[1;33m\u001b[0m\u001b[0m\n",
      "\u001b[1;32m<ipython-input-1-ad82341a3373>\u001b[0m in \u001b[0;36mM\u001b[1;34m(freq, psd, n)\u001b[0m\n\u001b[0;32m      1\u001b[0m \u001b[1;32mdef\u001b[0m \u001b[0mM\u001b[0m\u001b[1;33m(\u001b[0m\u001b[0mfreq\u001b[0m\u001b[1;33m,\u001b[0m\u001b[0mpsd\u001b[0m\u001b[1;33m,\u001b[0m\u001b[0mn\u001b[0m\u001b[1;33m)\u001b[0m\u001b[1;33m:\u001b[0m\u001b[1;33m\u001b[0m\u001b[1;33m\u001b[0m\u001b[0m\n\u001b[0;32m      2\u001b[0m     \u001b[0mpsd1\u001b[0m \u001b[1;33m=\u001b[0m \u001b[0mpsd\u001b[0m\u001b[1;33m*\u001b[0m\u001b[0mfreq\u001b[0m\u001b[1;33m**\u001b[0m\u001b[0mn\u001b[0m\u001b[1;33m;\u001b[0m\u001b[1;33m\u001b[0m\u001b[1;33m\u001b[0m\u001b[0m\n\u001b[1;32m----> 3\u001b[1;33m     \u001b[1;32mreturn\u001b[0m \u001b[0mnp\u001b[0m\u001b[1;33m.\u001b[0m\u001b[0mtrapz\u001b[0m\u001b[1;33m(\u001b[0m\u001b[0mpsd1\u001b[0m\u001b[1;33m,\u001b[0m\u001b[0mfreq\u001b[0m\u001b[1;33m)\u001b[0m\u001b[1;33m;\u001b[0m\u001b[1;33m\u001b[0m\u001b[1;33m\u001b[0m\u001b[0m\n\u001b[0m",
      "\u001b[1;32m<__array_function__ internals>\u001b[0m in \u001b[0;36mtrapz\u001b[1;34m(*args, **kwargs)\u001b[0m\n",
      "\u001b[1;32m~\\anaconda3\\lib\\site-packages\\numpy\\lib\\function_base.py\u001b[0m in \u001b[0;36mtrapz\u001b[1;34m(y, x, dx, axis)\u001b[0m\n\u001b[0;32m   4047\u001b[0m         \u001b[0mx\u001b[0m \u001b[1;33m=\u001b[0m \u001b[0masanyarray\u001b[0m\u001b[1;33m(\u001b[0m\u001b[0mx\u001b[0m\u001b[1;33m)\u001b[0m\u001b[1;33m\u001b[0m\u001b[1;33m\u001b[0m\u001b[0m\n\u001b[0;32m   4048\u001b[0m         \u001b[1;32mif\u001b[0m \u001b[0mx\u001b[0m\u001b[1;33m.\u001b[0m\u001b[0mndim\u001b[0m \u001b[1;33m==\u001b[0m \u001b[1;36m1\u001b[0m\u001b[1;33m:\u001b[0m\u001b[1;33m\u001b[0m\u001b[1;33m\u001b[0m\u001b[0m\n\u001b[1;32m-> 4049\u001b[1;33m             \u001b[0md\u001b[0m \u001b[1;33m=\u001b[0m \u001b[0mdiff\u001b[0m\u001b[1;33m(\u001b[0m\u001b[0mx\u001b[0m\u001b[1;33m)\u001b[0m\u001b[1;33m\u001b[0m\u001b[1;33m\u001b[0m\u001b[0m\n\u001b[0m\u001b[0;32m   4050\u001b[0m             \u001b[1;31m# reshape to correct shape\u001b[0m\u001b[1;33m\u001b[0m\u001b[1;33m\u001b[0m\u001b[1;33m\u001b[0m\u001b[0m\n\u001b[0;32m   4051\u001b[0m             \u001b[0mshape\u001b[0m \u001b[1;33m=\u001b[0m \u001b[1;33m[\u001b[0m\u001b[1;36m1\u001b[0m\u001b[1;33m]\u001b[0m\u001b[1;33m*\u001b[0m\u001b[0my\u001b[0m\u001b[1;33m.\u001b[0m\u001b[0mndim\u001b[0m\u001b[1;33m\u001b[0m\u001b[1;33m\u001b[0m\u001b[0m\n",
      "\u001b[1;32m<__array_function__ internals>\u001b[0m in \u001b[0;36mdiff\u001b[1;34m(*args, **kwargs)\u001b[0m\n",
      "\u001b[1;32m~\\anaconda3\\lib\\site-packages\\numpy\\lib\\function_base.py\u001b[0m in \u001b[0;36mdiff\u001b[1;34m(a, n, axis, prepend, append)\u001b[0m\n\u001b[0;32m   1267\u001b[0m     \u001b[0mop\u001b[0m \u001b[1;33m=\u001b[0m \u001b[0mnot_equal\u001b[0m \u001b[1;32mif\u001b[0m \u001b[0ma\u001b[0m\u001b[1;33m.\u001b[0m\u001b[0mdtype\u001b[0m \u001b[1;33m==\u001b[0m \u001b[0mnp\u001b[0m\u001b[1;33m.\u001b[0m\u001b[0mbool_\u001b[0m \u001b[1;32melse\u001b[0m \u001b[0msubtract\u001b[0m\u001b[1;33m\u001b[0m\u001b[1;33m\u001b[0m\u001b[0m\n\u001b[0;32m   1268\u001b[0m     \u001b[1;32mfor\u001b[0m \u001b[0m_\u001b[0m \u001b[1;32min\u001b[0m \u001b[0mrange\u001b[0m\u001b[1;33m(\u001b[0m\u001b[0mn\u001b[0m\u001b[1;33m)\u001b[0m\u001b[1;33m:\u001b[0m\u001b[1;33m\u001b[0m\u001b[1;33m\u001b[0m\u001b[0m\n\u001b[1;32m-> 1269\u001b[1;33m         \u001b[0ma\u001b[0m \u001b[1;33m=\u001b[0m \u001b[0mop\u001b[0m\u001b[1;33m(\u001b[0m\u001b[0ma\u001b[0m\u001b[1;33m[\u001b[0m\u001b[0mslice1\u001b[0m\u001b[1;33m]\u001b[0m\u001b[1;33m,\u001b[0m \u001b[0ma\u001b[0m\u001b[1;33m[\u001b[0m\u001b[0mslice2\u001b[0m\u001b[1;33m]\u001b[0m\u001b[1;33m)\u001b[0m\u001b[1;33m\u001b[0m\u001b[1;33m\u001b[0m\u001b[0m\n\u001b[0m\u001b[0;32m   1270\u001b[0m \u001b[1;33m\u001b[0m\u001b[0m\n\u001b[0;32m   1271\u001b[0m     \u001b[1;32mreturn\u001b[0m \u001b[0ma\u001b[0m\u001b[1;33m\u001b[0m\u001b[1;33m\u001b[0m\u001b[0m\n",
      "\u001b[1;31mKeyboardInterrupt\u001b[0m: "
     ]
    }
   ],
   "source": [
    "marker = np.array(['o','x','^','s'])\n",
    "bwp = 1; loc = 0; fn1 = np.linspace(200,800,4); fn2 = np.linspace(200,800,4); \n",
    "zeta1 = np.array([0.01,0.02,0.05,0.1]); zeta2 = np.array([0.01,0.02,0.05,0.1]);\n",
    "ratio = np.array([0.5,1,2]);\n",
    "fmin = 1; fmax = 1000;\n",
    "freq_spec = np.logspace(np.log10(fmin),np.log10(fmax),5000); bimodal_psd_spec = np.zeros([5000,len(fn1),len(zeta1)]); \n",
    "for i in range(len(fn1)):\n",
    "    for j in range(len(fn2)):\n",
    "        if j > i:\n",
    "            for k in range(len(zeta1)):\n",
    "                for x in range(len(zeta2)):\n",
    "                    for y in range(len(ratio)):\n",
    "                        out = fileI('target_psd/bimodal_%.0ffn1_%.2fz1_%.0ffn2_%.2fz2_%.2fr.txt'%(fn1[i],zeta1[k],fn2[j],zeta2[x],ratio[y]));\n",
    "                        fi = out[:,0]; pi = out[:,1];\n",
    "                        ## RPSD, Irregularity factor, normalized mean frequency Calculation\n",
    "                        fn = np.logspace(0,3,5000);\n",
    "                        zeta = np.array([0.01,0.02,0.05,0.1]);\n",
    "                        K = 1;\n",
    "                        r = np.zeros([len(fn),len(zeta)]); Xm = np.zeros([len(fn),len(zeta)]);\n",
    "                        for z in range(len(fn)):\n",
    "                            for a in range(len(zeta)):\n",
    "                                rpsd = pi*HH(fi,fn[z],zeta[a])*K;\n",
    "                                freq = fi; psd = rpsd;\n",
    "                                M0 = M(freq,psd,0);  M1 = M(freq,psd,1);  M2 = M(freq,psd,2);  M4 = M(freq,psd,4);\n",
    "                                E0 = np.sqrt(M2/M0);\n",
    "                                Ep = np.sqrt(M4/M2);\n",
    "                                r[z,a] = E0/Ep;    \n",
    "                                Xm[z,a] = (M1/M0)*np.sqrt(M2/M4);\n",
    "                        plt.figure(figsize=(6,5));\n",
    "                        for b in range(len(zeta)):\n",
    "                            plt.plot(r[:,b],Xm[:,b], marker[b],label='$\\zeta=$%.2f'%(zeta[b]));\n",
    "                            fileO(r[:,y],Xm[:,y],'irregularity/bimodal_%.0ffn1_%.2fz1_%.0ffn2_%.2fz2_%.2fr_%.2fz.txt'%(fn1[i],zeta1[k],fn2[j],zeta2[x],ratio[y],zeta[b]));\n",
    "                        plt.legend();    \n",
    "                        plt.xlabel('$\\gamma$');\n",
    "                        plt.ylabel('$X_m$');\n",
    "                        plt.savefig('irregularity/bimodal_%.0ffn1_%.2fz1_%.0ffn2_%.2fz2_%.2fr.png'%(fn1[i],zeta1[k],fn2[j],zeta2[x],ratio[y]), dpi=300);\n",
    "                        plt.close();"
   ]
  },
  {
   "cell_type": "code",
   "execution_count": null,
   "metadata": {},
   "outputs": [],
   "source": []
  }
 ],
 "metadata": {
  "kernelspec": {
   "display_name": "Python 3",
   "language": "python",
   "name": "python3"
  },
  "language_info": {
   "codemirror_mode": {
    "name": "ipython",
    "version": 3
   },
   "file_extension": ".py",
   "mimetype": "text/x-python",
   "name": "python",
   "nbconvert_exporter": "python",
   "pygments_lexer": "ipython3",
   "version": "3.8.3"
  }
 },
 "nbformat": 4,
 "nbformat_minor": 4
}
