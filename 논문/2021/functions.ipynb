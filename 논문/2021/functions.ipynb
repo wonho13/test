{
 "cells": [
  {
   "cell_type": "code",
   "execution_count": 1,
   "metadata": {},
   "outputs": [],
   "source": [
    "import numpy as np\n",
    "import matplotlib.pyplot as plt\n",
    "from math import gamma"
   ]
  },
  {
   "cell_type": "code",
   "execution_count": 2,
   "metadata": {},
   "outputs": [],
   "source": [
    "def blwn(fmin,fmax,bwp,loc):  # bwp : band width percentage # loc : location percentage\n",
    "    df = (fmax-fmin)*bwp;\n",
    "    f1 = fmin + loc*(fmax-fmin-df);\n",
    "    f2 = f1+df;\n",
    "    A = (100**2) / (f2-f1)    # grms = 100\n",
    "    freq = np.array([f1,f2]);\n",
    "    psd = np.array([A,A]);\n",
    "    return freq,psd;"
   ]
  },
  {
   "cell_type": "code",
   "execution_count": 3,
   "metadata": {},
   "outputs": [],
   "source": [
    "# freq,psd = blwn(0,5000,0.5,0.3);\n",
    "# plt.plot(freq,psd); plt.xlim(0,5000);"
   ]
  },
  {
   "cell_type": "code",
   "execution_count": 4,
   "metadata": {},
   "outputs": [],
   "source": [
    "def M(freq,psd,n):\n",
    "    N = len(psd)-1;\n",
    "    out = 0;\n",
    "    for i in range(N):\n",
    "        k = np.log(psd[i+1]/psd[i])/np.log(freq[i+1]/freq[i]);\n",
    "        out += (psd[i]/(freq[i]**k)) * ((freq[i+1]**(k+n+1)-freq[i]**(k+n+1))/(k+n+1));\n",
    "    return out;"
   ]
  },
  {
   "cell_type": "code",
   "execution_count": 5,
   "metadata": {},
   "outputs": [],
   "source": [
    "def D_NB(freq,psd,m,T,C):\n",
    "    M0 = M(freq,psd,0);  M2 = M(freq,psd,2);\n",
    "    E0 = np.sqrt(M2/M0);\n",
    "    return E0*T*((2*M0)**(m/2))*gamma(m/2+1) / C;"
   ]
  },
  {
   "cell_type": "code",
   "execution_count": 6,
   "metadata": {},
   "outputs": [],
   "source": [
    "def D_WL(freq,psd,m,T,C):\n",
    "    DNB = D_NB(freq,psd,m,T,C);\n",
    "    M0 = M(freq,psd,0);  M2 = M(freq,psd,2);  M4 = M(freq,psd,4);\n",
    "    E0 = np.sqrt(M2/M0);\n",
    "    Ep = np.sqrt(M4/M2);\n",
    "    r = E0/Ep;\n",
    "    lam = np.sqrt(1-r**2);\n",
    "    a = 0.926 - 0.033*m;\n",
    "    b = 1.587*m - 2.323;\n",
    "    zeta = a + (1-a)*(1-lam)**b\n",
    "    return DNB*zeta;"
   ]
  },
  {
   "cell_type": "code",
   "execution_count": 7,
   "metadata": {},
   "outputs": [],
   "source": [
    "def D_OC(freq,psd,m,T,C):\n",
    "    DNB = D_NB(freq,psd,m,T,C);\n",
    "    k = 2/m;\n",
    "    M0 = M(freq,psd,0);  M2 = M(freq,psd,2);  M4 = M(freq,psd,4); Mk = M(freq,psd,k); Mk2 = M(freq,psd,k+2);\n",
    "    E0 = np.sqrt(M2/M0);\n",
    "    Ep = np.sqrt(M4/M2);\n",
    "    r = E0/Ep;\n",
    "    zeta = (1/r)*((M2*Mk)/(M0*Mk2))**(m/2);\n",
    "    return DNB*zeta;"
   ]
  },
  {
   "cell_type": "code",
   "execution_count": 8,
   "metadata": {},
   "outputs": [],
   "source": [
    "def D_dirlik(freq,psd,m,T,C):\n",
    "    M0 = M(freq,psd,0);  M1 = M(freq,psd,1);  M2 = M(freq,psd,2);  M4 = M(freq,psd,4);\n",
    "    E0 = np.sqrt(M2/M0);\n",
    "    Ep = np.sqrt(M4/M2);\n",
    "    r = E0/Ep;    \n",
    "    Xm = (M1/M0)*np.sqrt(M2/M4);\n",
    "    Z = 1/np.sqrt(M0);\n",
    "    D1 = 2*(Xm-r**2)/(1+r**2);\n",
    "    R = (r-Xm-D1**2)/(1-r-D1+D1**2);\n",
    "    D2 = (1-r-D1+D1**2)/(1-R);\n",
    "    D3 = 1 - D1 - D2;\n",
    "    Q = 1.25*(r-D3-D2*R)/D1\n",
    "    def f(sa):\n",
    "        A1 = D1/(np.sqrt(M0)*Q);\n",
    "        A2 = D2*Z*sa/(np.sqrt(M0)*R**2);\n",
    "        A3 = D3*Z*sa/np.sqrt(M0);\n",
    "        a1 = -Z*sa/Q\n",
    "        a2 = -(Z**2)*(sa**2)/(2*R**2);\n",
    "        a3 = -(Z**2)*(sa**2)/2;\n",
    "        return A1*np.exp(a1) + A2*np.exp(a2) + A3*np.exp(a3);\n",
    "    z = np.array([0,0,0,8.652,8.822,8.982,9.133,9.277,9.415,9.546,9.673,9.796,9.915]);\n",
    "    LB = 0; UB = z[m]*np.sqrt(M0);\n",
    "    s = np.linspace(LB,UB,10000);\n",
    "    samfsa = (s**m)*f(s);\n",
    "    intsamfsa = np.trapz(samfsa,s);\n",
    "    return Ep*T*intsamfsa/C;"
   ]
  },
  {
   "cell_type": "code",
   "execution_count": 9,
   "metadata": {},
   "outputs": [],
   "source": [
    "# m = 4; T = 1; C = 1;"
   ]
  },
  {
   "cell_type": "code",
   "execution_count": 10,
   "metadata": {},
   "outputs": [],
   "source": [
    "# D_NB(freq,psd,m,T,C)"
   ]
  },
  {
   "cell_type": "code",
   "execution_count": 11,
   "metadata": {},
   "outputs": [],
   "source": [
    "# D_WL(freq,psd,m,T,C)"
   ]
  },
  {
   "cell_type": "code",
   "execution_count": 12,
   "metadata": {},
   "outputs": [],
   "source": [
    "# D_OC(freq,psd,m,T,C)"
   ]
  },
  {
   "cell_type": "code",
   "execution_count": 13,
   "metadata": {
    "scrolled": true
   },
   "outputs": [],
   "source": [
    "# D_dirlik(freq,psd,m,T,C)"
   ]
  },
  {
   "cell_type": "code",
   "execution_count": 14,
   "metadata": {},
   "outputs": [],
   "source": [
    "def H(f,fn,zeta):   # Input : Acceleration / Output : Relative Displacement\n",
    "    return 1/(((np.pi)**2)*(fn**2-f**2+1j*2*zeta*f*fn));"
   ]
  },
  {
   "cell_type": "code",
   "execution_count": 15,
   "metadata": {},
   "outputs": [],
   "source": [
    "def HH(f,fn,zeta):   # Input : Acceleration / Output : Relative Displacement\n",
    "    return (H(f,fn,zeta)*np.conjugate(H(f,fn,zeta))).real;"
   ]
  },
  {
   "cell_type": "code",
   "execution_count": 33,
   "metadata": {},
   "outputs": [],
   "source": [
    "def log_interp(x,x_spec,y_spec):\n",
    "    out = np.zeros(len(x));\n",
    "    for i in range(len(x)):\n",
    "        if x[i] >= min(x_spec) and x[i] <= max(x_spec):\n",
    "            out[i] = 10**np.interp(np.log10(x[i]),np.log10(x_spec),np.log10(y_spec), left=-10, right=-10);\n",
    "    return out"
   ]
  },
  {
   "cell_type": "code",
   "execution_count": 34,
   "metadata": {
    "scrolled": true
   },
   "outputs": [],
   "source": [
    "fmin = 1; fmax = 5000; bwp = 0.5; loc = 0.3;\n",
    "freq_spec,psd_spec = blwn(fmin,fmax,bwp,loc);\n",
    "fi = np.linspace(fmin,fmax,10000);\n",
    "pi = log_interp(fi,freq_spec,psd_spec);"
   ]
  },
  {
   "cell_type": "code",
   "execution_count": 37,
   "metadata": {},
   "outputs": [],
   "source": [
    "fn = 10; zeta = 0.01;\n",
    "rpsd = pi*HH(fi,fn,zeta);"
   ]
  },
  {
   "cell_type": "code",
   "execution_count": 38,
   "metadata": {},
   "outputs": [
    {
     "data": {
      "text/plain": [
       "[<matplotlib.lines.Line2D at 0x23f68e88850>]"
      ]
     },
     "execution_count": 38,
     "metadata": {},
     "output_type": "execute_result"
    },
    {
     "data": {
      "image/png": "[encoded data removed]",
      "text/plain": [
       "<Figure size 432x288 with 1 Axes>"
      ]
     },
     "metadata": {
      "needs_background": "light"
     },
     "output_type": "display_data"
    }
   ],
   "source": [
    "plt.plot(fi,rpsd)"
   ]
  },
  {
   "cell_type": "code",
   "execution_count": null,
   "metadata": {},
   "outputs": [],
   "source": []
  }
 ],
 "metadata": {
  "kernelspec": {
   "display_name": "Python 3",
   "language": "python",
   "name": "python3"
  },
  "language_info": {
   "codemirror_mode": {
    "name": "ipython",
    "version": 3
   },
   "file_extension": ".py",
   "mimetype": "text/x-python",
   "name": "python",
   "nbconvert_exporter": "python",
   "pygments_lexer": "ipython3",
   "version": "3.8.3"
  }
 },
 "nbformat": 4,
 "nbformat_minor": 4
}
