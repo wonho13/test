{
 "cells": [
  {
   "cell_type": "code",
   "execution_count": 54,
   "metadata": {},
   "outputs": [],
   "source": [
    "import numpy as np\n",
    "import matplotlib.pyplot as plt\n",
    "from math import gamma"
   ]
  },
  {
   "cell_type": "code",
   "execution_count": 34,
   "metadata": {},
   "outputs": [],
   "source": [
    "def blwn(fmin,fmax,bwp,loc):  # bwp : band width percentage # loc : location percentage\n",
    "    df = (fmax-fmin)*bwp;\n",
    "    f1 = fmin + loc*(fmax-fmin-df);\n",
    "    f2 = f1+df;\n",
    "    A = (100**2) / (f2-f1)    # grms = 100\n",
    "    freq = np.array([f1,f2]);\n",
    "    psd = np.array([A,A]);\n",
    "    return freq,psd;"
   ]
  },
  {
   "cell_type": "code",
   "execution_count": 51,
   "metadata": {},
   "outputs": [],
   "source": [
    "freq,psd = blwn(0,5000,0.5,0.3);"
   ]
  },
  {
   "cell_type": "code",
   "execution_count": 52,
   "metadata": {},
   "outputs": [
    {
     "data": {
      "image/png": "[encoded data removed]",
      "text/plain": [
       "<Figure size 432x288 with 1 Axes>"
      ]
     },
     "metadata": {
      "needs_background": "light"
     },
     "output_type": "display_data"
    }
   ],
   "source": [
    "plt.plot(freq,psd); plt.xlim(0,5000);"
   ]
  },
  {
   "cell_type": "code",
   "execution_count": 47,
   "metadata": {},
   "outputs": [],
   "source": [
    "def M(freq,psd,n):\n",
    "    N = len(psd)-1;\n",
    "    out = 0;\n",
    "    for i in range(N):\n",
    "        k = np.log(psd[i+1]/psd[i])/np.log(freq[i+1]/freq[i]);\n",
    "        out += (psd[i]/(freq[i]**k)) * ((freq[i+1]**(k+n+1)-freq[i]**(k+n+1))/(k+n+1));\n",
    "    return out;"
   ]
  },
  {
   "cell_type": "code",
   "execution_count": 55,
   "metadata": {},
   "outputs": [],
   "source": [
    "def D_NB(freq,psd,m,T,C):\n",
    "    M0 = M(freq,psd,0);  M2 = M(freq,psd,2);\n",
    "    E0 = np.sqrt(M2/M0);\n",
    "    return E0*T*((2*M0)**(m/2))*gamma(m/2+1) / C;"
   ]
  },
  {
   "cell_type": "code",
   "execution_count": 58,
   "metadata": {},
   "outputs": [],
   "source": [
    "def D_WL(freq,psd,m,T,C):\n",
    "    DNB = D_NB(freq,psd,m,T,C);\n",
    "    M0 = M(freq,psd,0);  M2 = M(freq,psd,2);  M4 = M(freq,psd,4);\n",
    "    E0 = np.sqrt(M2/M0);\n",
    "    Ep = np.sqrt(M4/M2);\n",
    "    r = E0/Ep;\n",
    "    lam = np.sqrt(1-r**2);\n",
    "    a = 0.926 - 0.033*m;\n",
    "    b = 1.587*m - 2.323;\n",
    "    zeta = a + (1-a)*(1-lam)**b\n",
    "    return DNB*zeta;"
   ]
  },
  {
   "cell_type": "code",
   "execution_count": 62,
   "metadata": {},
   "outputs": [],
   "source": [
    "def D_OC(freq,psd,m,T,C):\n",
    "    DNB = D_NB(freq,psd,m,T,C);\n",
    "    k = 2/m;\n",
    "    M0 = M(freq,psd,0);  M2 = M(freq,psd,2);  M4 = M(freq,psd,4); Mk = M(freq,psd,k); Mk2 = M(freq,psd,k+2);\n",
    "    E0 = np.sqrt(M2/M0);\n",
    "    Ep = np.sqrt(M4/M2);\n",
    "    r = E0/Ep;\n",
    "    zeta = (1/r)*((M2*Mk)/(M0*MK2))**(m/2);\n",
    "    return DNB*zeta;"
   ]
  },
  {
   "cell_type": "code",
   "execution_count": 63,
   "metadata": {},
   "outputs": [],
   "source": [
    "def D_dirlik(freq,psd,m,T,C):\n",
    "    M0 = M(freq,psd,0);  M1 = M(freq,psd,1);  M2 = M(freq,psd,2);  M4 = M(freq,psd,4);\n",
    "    E0 = np.sqrt(M2/M0);\n",
    "    Ep = np.sqrt(M4/M2);\n",
    "    r = E0/Ep;    \n",
    "    Xm = (M1/M0)*np.sqrt(M2/M4);\n",
    "    Z = 1/np.sqrt(M0);\n",
    "    D1 = 2*(Xm-r**2)/(1+r**2);\n",
    "    R = (r-Xm-D1**2)/(1-r-D1+D1**2);\n",
    "    D2 = (1-r-D1+D1**2)/(1-R);\n",
    "    D3 = 1 - D1 - D2;\n",
    "    Q = 1.25*(r-D3-D3*R)/D1\n",
    "    def f(sa):\n",
    "        A1 = D1/(np.sqrt(M0)*Q);\n",
    "        A2 = D2*Z*sa/(np.sqrt(M0)*R**2);\n",
    "        A3 = D3*Z*sa/np.sqrt(M0);\n",
    "        a1 = -Z*sa/Q\n",
    "        a2 = -(Z**2)*(sa**2)/(2*R**2);\n",
    "        a3 = -(Z**2)*(sa**2)/2;\n",
    "        return A1*np.exp(a1) + A2*np.exp(a2) + A3*np.exp(a3);\n",
    "    return Ep*T*integ((sa**m)*f(sa))/C;"
   ]
  },
  {
   "cell_type": "code",
   "execution_count": null,
   "metadata": {},
   "outputs": [],
   "source": []
  }
 ],
 "metadata": {
  "kernelspec": {
   "display_name": "Python 3",
   "language": "python",
   "name": "python3"
  },
  "language_info": {
   "codemirror_mode": {
    "name": "ipython",
    "version": 3
   },
   "file_extension": ".py",
   "mimetype": "text/x-python",
   "name": "python",
   "nbconvert_exporter": "python",
   "pygments_lexer": "ipython3",
   "version": "3.8.3"
  }
 },
 "nbformat": 4,
 "nbformat_minor": 4
}
