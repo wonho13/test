{
 "cells": [
  {
   "cell_type": "code",
   "execution_count": 1,
   "metadata": {},
   "outputs": [],
   "source": [
    "import numpy as np\n",
    "import matplotlib.pyplot as plt\n",
    "from math import gamma"
   ]
  },
  {
   "cell_type": "code",
   "execution_count": 2,
   "metadata": {},
   "outputs": [],
   "source": [
    "def log_interp(x,x_spec,y_spec):\n",
    "    return 10**np.interp(np.log10(x),np.log10(x_spec),np.log10(y_spec));"
   ]
  },
  {
   "cell_type": "code",
   "execution_count": 3,
   "metadata": {},
   "outputs": [],
   "source": [
    "def blwn(fmin,fmax,bwp,loc):  # bwp : band width percentage # loc : location percentage\n",
    "    df = (fmax-fmin)*bwp;\n",
    "    f1 = fmin + loc*(fmax-fmin-df);\n",
    "    f2 = f1+df;\n",
    "    A = (10**2) / (f2-f1)    # grms = 10\n",
    "    freq = np.array([f1,f2]);\n",
    "    psd = np.array([A,A]);\n",
    "    return freq,psd;"
   ]
  },
  {
   "cell_type": "code",
   "execution_count": 4,
   "metadata": {},
   "outputs": [],
   "source": [
    "def unimodal(fmin,fmax,bwp,loc,fn1,zeta1):\n",
    "    df = (fmax-fmin)*bwp;\n",
    "    f1 = fmin + loc*(fmax-fmin-df);\n",
    "    f2 = f1+df;\n",
    "    f = np.linspace(f1,f2,5000);\n",
    "    A = fn1**4 + (2*zeta1*f*fn1)**2;\n",
    "    B = (fn1**2-f**2)**2 + (2*zeta1*f*fn1)**2;\n",
    "    out = A/B;\n",
    "    grms_tmp = np.sqrt(np.trapz(out,f));\n",
    "    out *= (10/grms_tmp)**2             # grms = 10\n",
    "    return f, out;"
   ]
  },
  {
   "cell_type": "code",
   "execution_count": 5,
   "metadata": {},
   "outputs": [],
   "source": [
    "def M(freq,psd,n):\n",
    "    df = freq[1] - freq[0];\n",
    "    if df > 1:\n",
    "        fmin = min(freq); fmax = max(freq);\n",
    "        if fmin <= 0:\n",
    "            fmin = 1e-2;\n",
    "        fi = np.arange(fmin,fmax+1,1);\n",
    "        pi = log_interp(fi,freq,psd);\n",
    "        freq,psd = fi,pi;\n",
    "    psd1 = psd*freq**n;\n",
    "    return np.trapz(psd1,freq);"
   ]
  },
  {
   "cell_type": "code",
   "execution_count": 6,
   "metadata": {},
   "outputs": [],
   "source": [
    "def D_NB(freq,psd,m,T,C):\n",
    "    M0 = M(freq,psd,0);  M2 = M(freq,psd,2);\n",
    "    E0 = np.sqrt(M2/M0);\n",
    "    return E0*T*((2*M0)**(m/2))*gamma(m/2+1) / C;"
   ]
  },
  {
   "cell_type": "code",
   "execution_count": 7,
   "metadata": {},
   "outputs": [],
   "source": [
    "def D_WL(freq,psd,m,T,C):\n",
    "    DNB = D_NB(freq,psd,m,T,C);\n",
    "    M0 = M(freq,psd,0);  M2 = M(freq,psd,2);  M4 = M(freq,psd,4);\n",
    "    E0 = np.sqrt(M2/M0);\n",
    "    Ep = np.sqrt(M4/M2);\n",
    "    r = E0/Ep;\n",
    "    lam = np.sqrt(1-r**2);\n",
    "    a = 0.926 - 0.033*m;\n",
    "    b = 1.587*m - 2.323;\n",
    "    zeta = a + (1-a)*(1-lam)**b\n",
    "    return DNB*zeta;"
   ]
  },
  {
   "cell_type": "code",
   "execution_count": 8,
   "metadata": {},
   "outputs": [],
   "source": [
    "def D_OC(freq,psd,m,T,C):\n",
    "    DNB = D_NB(freq,psd,m,T,C);\n",
    "    k = 2/m;\n",
    "    M0 = M(freq,psd,0);  M2 = M(freq,psd,2);  M4 = M(freq,psd,4); Mk = M(freq,psd,k); Mk2 = M(freq,psd,k+2);\n",
    "    E0 = np.sqrt(M2/M0);\n",
    "    Ep = np.sqrt(M4/M2);\n",
    "    r = E0/Ep;\n",
    "    zeta = (1/r)*((M2*Mk)/(M0*Mk2))**(m/2);\n",
    "    return DNB*zeta;"
   ]
  },
  {
   "cell_type": "code",
   "execution_count": 9,
   "metadata": {},
   "outputs": [],
   "source": [
    "def D_dirlik(freq,psd,m,T,C):\n",
    "    M0 = M(freq,psd,0);  M1 = M(freq,psd,1);  M2 = M(freq,psd,2);  M4 = M(freq,psd,4);\n",
    "    E0 = np.sqrt(M2/M0);\n",
    "    Ep = np.sqrt(M4/M2);\n",
    "    r = E0/Ep;    \n",
    "    Xm = (M1/M0)*np.sqrt(M2/M4);\n",
    "    Z = 1/np.sqrt(M0);\n",
    "    D1 = 2*(Xm-r**2)/(1+r**2);\n",
    "    R = (r-Xm-D1**2)/(1-r-D1+D1**2);\n",
    "    D2 = (1-r-D1+D1**2)/(1-R);\n",
    "    D3 = 1 - D1 - D2;\n",
    "    Q = 1.25*(r-D3-D2*R)/D1\n",
    "    def f(sa):\n",
    "        A1 = D1/(np.sqrt(M0)*Q);\n",
    "        A2 = D2*Z*sa/(np.sqrt(M0)*R**2);\n",
    "        A3 = D3*Z*sa/np.sqrt(M0);\n",
    "        a1 = -Z*sa/Q\n",
    "        a2 = -(Z**2)*(sa**2)/(2*R**2);\n",
    "        a3 = -(Z**2)*(sa**2)/2;\n",
    "        return A1*np.exp(a1) + A2*np.exp(a2) + A3*np.exp(a3);\n",
    "    def z(m):\n",
    "        mm = np.linspace(3,12,10);\n",
    "        zz = np.array([8.652,8.822,8.982,9.133,9.277,9.415,9.546,9.673,9.796,9.915]);\n",
    "        return np.interp(m,mm,zz);\n",
    "    LB = 0; UB = z(m)*np.sqrt(M0);\n",
    "    s = np.linspace(LB,UB,10000);\n",
    "    samfsa = (s**m)*f(s);\n",
    "    intsamfsa = np.trapz(samfsa,s);\n",
    "    return Ep*T*intsamfsa/C;"
   ]
  },
  {
   "cell_type": "code",
   "execution_count": 10,
   "metadata": {},
   "outputs": [],
   "source": [
    "def H(f,fn,zeta):   # Input : Acceleration / Output : Relative Displacement\n",
    "    return 386.4/(((np.pi)**2)*(fn**2-f**2+1j*2*zeta*f*fn));"
   ]
  },
  {
   "cell_type": "code",
   "execution_count": 11,
   "metadata": {},
   "outputs": [],
   "source": [
    "def HH(f,fn,zeta):   # Input : Acceleration / Output : Relative Displacement\n",
    "    return np.abs(H(f,fn,zeta)*np.conjugate(H(f,fn,zeta)));"
   ]
  },
  {
   "cell_type": "code",
   "execution_count": 20,
   "metadata": {},
   "outputs": [],
   "source": [
    "def FDS_dirlik(fi,pi,zeta,m,T,C):\n",
    "    fn = np.linspace(1,5000,10000);\n",
    "    D = np.zeros(len(fn));\n",
    "    for i in range(len(fn)):\n",
    "        K = 1\n",
    "        rpsd = pi*HH(fi,fn[i],zeta)*K;\n",
    "        D[i] = D_dirlik(fi,rpsd,m=4,T=1,C=1);\n",
    "    return fn,D;"
   ]
  },
  {
   "cell_type": "code",
   "execution_count": 13,
   "metadata": {},
   "outputs": [],
   "source": [
    "def band_split(fi,pi,nb): # fi : interpolated freq, ai : interpolated psd, nb : # of bands\n",
    "    ni = len(fi);\n",
    "    grms = np.sqrt(np.trapz(pi,fi))\n",
    "    goal = grms/np.sqrt(nb);  # target grms\n",
    "    idx = np.zeros(nb+1,'int');\n",
    "    grms_tmp = 0;\n",
    "    for i in range(1,nb):\n",
    "        while(grms_tmp < goal):\n",
    "            idx[i] += 1;\n",
    "            grms_tmp = np.sqrt(np.trapz(pi[idx[i-1]:idx[i]],fi[idx[i-1]:idx[i]]));\n",
    "        grms_tmp1 = np.sqrt(np.trapz(pi[idx[i-1]:idx[i]-1],fi[idx[i-1]:idx[i]-1]));\n",
    "        if np.abs(grms_tmp1 - goal) < np.abs(grms_tmp - goal):\n",
    "            idx[i] += 1;\n",
    "        grms_tmp = 0; grms_tmp1 = 0;\n",
    "    idx[0] = 0; idx[nb] = len(pi);\n",
    "    dfi = []; dpi = [];\n",
    "    for i in range(nb):\n",
    "        dfi.append(fi[idx[i]:idx[i+1]+1]); dpi.append(pi[idx[i]:idx[i+1]+1]);\n",
    "    return dfi,dpi"
   ]
  },
  {
   "cell_type": "code",
   "execution_count": 14,
   "metadata": {},
   "outputs": [],
   "source": [
    "def bs_overlap(dfi,dpi,p): # 각 band의 데이터 수 x p(%) 만큼 overlap\n",
    "    nb = len(dpi);\n",
    "    ndata, pndata = np.zeros(nb,int),np.zeros(nb,int);\n",
    "    dfi1 = np.copy(dfi); dpi1 = np.copy(dpi);\n",
    "    for i in range(nb):\n",
    "        ndata[i] = len(dpi[i]);\n",
    "        pndata[i] = int(ndata[i]*p);\n",
    "    for i in range(nb-1):\n",
    "        dfi1[i] = np.concatenate([dfi[i],dfi[i+1][:pndata[i+1]+1]]);\n",
    "        dpi1[i] = np.concatenate([dpi[i],dpi[i+1][:pndata[i+1]+1]]);\n",
    "    for i in range(1,nb):        \n",
    "        dfi1[i] = np.concatenate([dfi[i-1][-pndata[i]:],dfi1[i]]);\n",
    "        dpi1[i] = np.concatenate([dpi[i-1][-pndata[i]:],dpi1[i]]);     \n",
    "    return dfi1,dpi1"
   ]
  }
 ],
 "metadata": {
  "kernelspec": {
   "display_name": "Python 3",
   "language": "python",
   "name": "python3"
  },
  "language_info": {
   "codemirror_mode": {
    "name": "ipython",
    "version": 3
   },
   "file_extension": ".py",
   "mimetype": "text/x-python",
   "name": "python",
   "nbconvert_exporter": "python",
   "pygments_lexer": "ipython3",
   "version": "3.8.3"
  }
 },
 "nbformat": 4,
 "nbformat_minor": 4
}
