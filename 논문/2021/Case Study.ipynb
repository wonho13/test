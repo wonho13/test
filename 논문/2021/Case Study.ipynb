{
 "cells": [
  {
   "cell_type": "code",
   "execution_count": 15,
   "metadata": {},
   "outputs": [],
   "source": [
    "%run functions.ipynb"
   ]
  },
  {
   "cell_type": "markdown",
   "metadata": {},
   "source": [
    "## Band Limited White Noise"
   ]
  },
  {
   "cell_type": "markdown",
   "metadata": {},
   "source": [
    "### (1) Damping"
   ]
  },
  {
   "cell_type": "code",
   "execution_count": 6,
   "metadata": {},
   "outputs": [],
   "source": [
    "zeta = np.linspace(1,10,10)/100;\n",
    "for i in range(len(zeta)):\n",
    "    fmin,fmax,bwp,loc,z,mm,amp,ovl = 1,1000,1,0,zeta[i],4,1,0;\n",
    "    blwn_test(fmin,fmax,bwp,loc,z,mm,amp,ovl);"
   ]
  },
  {
   "cell_type": "markdown",
   "metadata": {},
   "source": [
    "### (2) Overlap"
   ]
  },
  {
   "cell_type": "code",
   "execution_count": null,
   "metadata": {},
   "outputs": [],
   "source": [
    "overlap = np.linspace(1,10,10)/100;\n",
    "for i in range(len(overlap)):\n",
    "    fmin,fmax,bwp,loc,z,mm,amp,ovl = 1,1000,1,0,0.05,4,1,overlap[i];\n",
    "    blwn_test(fmin,fmax,bwp,loc,z,mm,amp,ovl);"
   ]
  },
  {
   "cell_type": "markdown",
   "metadata": {},
   "source": [
    "## Unimodal"
   ]
  },
  {
   "cell_type": "markdown",
   "metadata": {},
   "source": [
    "### (1) Damping"
   ]
  },
  {
   "cell_type": "code",
   "execution_count": null,
   "metadata": {},
   "outputs": [],
   "source": [
    "zeta = np.linspace(1,10,10)/100;\n",
    "for i in range(len(zeta)):\n",
    "    fmin,fmax,bwp,loc,fn1,zeta1,z,mm,amp,ovl = 1,1000,1,0,500,0.1,zeta[i],4,1,0;\n",
    "    unimodal_test(fmin,fmax,bwp,loc,fn1,zeta1,z,mm,amp,ovl);"
   ]
  },
  {
   "cell_type": "markdown",
   "metadata": {},
   "source": [
    "### (2) Overlap"
   ]
  },
  {
   "cell_type": "code",
   "execution_count": null,
   "metadata": {},
   "outputs": [],
   "source": [
    "overlap = np.linspace(1,10,10)/100;\n",
    "for i in range(len(overlap)):\n",
    "    fmin,fmax,bwp,loc,fn1,zeta1,z,mm,amp,ovl = 1,1000,1,0,500,0.1,0.05,4,1,overlap[i];\n",
    "    unimodal_test(fmin,fmax,bwp,loc,fn1,zeta1,z,mm,amp,ovl);"
   ]
  },
  {
   "cell_type": "markdown",
   "metadata": {},
   "source": [
    "## Bimodal"
   ]
  },
  {
   "cell_type": "markdown",
   "metadata": {},
   "source": [
    "### (1) Damping"
   ]
  },
  {
   "cell_type": "code",
   "execution_count": null,
   "metadata": {},
   "outputs": [],
   "source": [
    "zeta = np.linspace(1,10,10)/100;\n",
    "for i in range(len(zeta)):\n",
    "    fmin,fmax,bwp,loc,fn1,zeta1,fn2,zeta2,ratio,z,mm,amp,ovl = 1,1000,1,0,250,0.1,750,0.1,1,zeta[i],4,1,0;\n",
    "    bimodal_test(fmin,fmax,bwp,loc,fn1,zeta1,fn2,zeta2,ratio,z,mm,amp,ovl);"
   ]
  },
  {
   "cell_type": "markdown",
   "metadata": {},
   "source": [
    "### (2) Overlap"
   ]
  },
  {
   "cell_type": "code",
   "execution_count": null,
   "metadata": {},
   "outputs": [],
   "source": [
    "overlap = np.linspace(1,10,10)/100;\n",
    "for i in range(len(overlap)):\n",
    "    fmin,fmax,bwp,loc,fn1,zeta1,fn2,zeta2,ratio,z,mm,amp,ovl = 1,1000,1,0,250,0.1,750,0.1,1,0.05,4,1,overlap[i];\n",
    "    bimodal_test(fmin,fmax,bwp,loc,fn1,zeta1,fn2,zeta2,ratio,z,mm,amp,ovl);"
   ]
  },
  {
   "cell_type": "markdown",
   "metadata": {},
   "source": [
    "### 저주파 크기 떨림"
   ]
  },
  {
   "cell_type": "code",
   "execution_count": 16,
   "metadata": {},
   "outputs": [],
   "source": [
    "fn = np.array([5,30]);\n",
    "fmin,fmax,bwp,loc,z,mm,amp,ovl = 1,1000,1,0,0.1,4,1,0;\n",
    "blwn_test(fmin,fmax,bwp,loc,z,mm,amp,ovl);\n",
    "# Generate Input PSD\n",
    "freq_spec = np.logspace(np.log10(fmin),np.log10(fmax),5000); psd_spec = np.zeros(5000); \n",
    "for i in range(5000):\n",
    "    psd_spec[i]= blwn(freq_spec[i],fmin,fmax,bwp,loc);\n",
    "# Band Split\n",
    "fi,pi = freq_spec,psd_spec;\n",
    "dfi,dpi = band_split(fi,pi,2);\n",
    "# Calculate Fatogie Damage\n",
    "K = 1;\n",
    "rpsd1 = pi*HH(fi,fn[0],z)*K;\n",
    "rpsd2 = dpi[0]*HH(dfi[0],fn[0],z)*K;\n",
    "rpsd3 = dpi[1]*HH(dfi[1],fn[0],z)*K;\n",
    "D1= D_dirlik(fi,rpsd1,m=mm,T=1,C=1);\n",
    "D2= D_dirlik(dfi[0],rpsd2,m=mm,T=1,C=1);\n",
    "D3= D_dirlik(dfi[1],rpsd3,m=mm,T=1,C=1);"
   ]
  },
  {
   "cell_type": "code",
   "execution_count": 11,
   "metadata": {},
   "outputs": [
    {
     "data": {
      "image/png": "[encoded data removed]",
      "text/plain": [
       "<Figure size 432x288 with 1 Axes>"
      ]
     },
     "metadata": {
      "needs_background": "light"
     },
     "output_type": "display_data"
    }
   ],
   "source": [
    "plt.plot(fi,rpsd1,'k-'); plt.plot(dfi[0],rpsd2,'r--'); plt.plot(dfi[1],rpsd3,'b--');\n",
    "plt.xscale('log'); plt.yscale('log');"
   ]
  },
  {
   "cell_type": "code",
   "execution_count": 17,
   "metadata": {},
   "outputs": [
    {
     "data": {
      "text/plain": [
       "3512.0748649575103"
      ]
     },
     "execution_count": 17,
     "metadata": {},
     "output_type": "execute_result"
    }
   ],
   "source": [
    "D1"
   ]
  },
  {
   "cell_type": "code",
   "execution_count": 18,
   "metadata": {},
   "outputs": [
    {
     "data": {
      "text/plain": [
       "3410.3137510156894"
      ]
     },
     "execution_count": 18,
     "metadata": {},
     "output_type": "execute_result"
    }
   ],
   "source": [
    "D2"
   ]
  },
  {
   "cell_type": "code",
   "execution_count": 19,
   "metadata": {},
   "outputs": [
    {
     "data": {
      "text/plain": [
       "6.108474662335251e-09"
      ]
     },
     "execution_count": 19,
     "metadata": {},
     "output_type": "execute_result"
    }
   ],
   "source": [
    "D3"
   ]
  },
  {
   "cell_type": "code",
   "execution_count": null,
   "metadata": {},
   "outputs": [],
   "source": []
  }
 ],
 "metadata": {
  "kernelspec": {
   "display_name": "Python 3",
   "language": "python",
   "name": "python3"
  },
  "language_info": {
   "codemirror_mode": {
    "name": "ipython",
    "version": 3
   },
   "file_extension": ".py",
   "mimetype": "text/x-python",
   "name": "python",
   "nbconvert_exporter": "python",
   "pygments_lexer": "ipython3",
   "version": "3.8.3"
  }
 },
 "nbformat": 4,
 "nbformat_minor": 4
}
