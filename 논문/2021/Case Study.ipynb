{
 "cells": [
  {
   "cell_type": "code",
   "execution_count": 1,
   "metadata": {},
   "outputs": [
    {
     "name": "stdout",
     "output_type": "stream",
     "text": [
      "Python 3.x\n"
     ]
    }
   ],
   "source": [
    "%run functions.ipynb"
   ]
  },
  {
   "cell_type": "markdown",
   "metadata": {},
   "source": [
    "## 주파수 영역"
   ]
  },
  {
   "cell_type": "code",
   "execution_count": 2,
   "metadata": {},
   "outputs": [],
   "source": [
    "# model : 1 = Narrow Band / 2 = Wirsching & Light / 3 = Oritz & Chen / 4 - Dirlik \n",
    "model = 4;"
   ]
  },
  {
   "cell_type": "markdown",
   "metadata": {},
   "source": [
    "## Band Limited White Noise"
   ]
  },
  {
   "cell_type": "markdown",
   "metadata": {},
   "source": [
    "### (1) Damping"
   ]
  },
  {
   "cell_type": "code",
   "execution_count": 3,
   "metadata": {},
   "outputs": [],
   "source": [
    "zeta = np.linspace(1,20,20)/100;\n",
    "for i in range(len(zeta)):\n",
    "    fmin,fmax,bwp,loc,z,mm,amp,ovl = 1,1000,1,0,zeta[i],4,1,0;\n",
    "    blwn_test(fmin,fmax,bwp,loc,z,mm,amp,ovl,model);"
   ]
  },
  {
   "cell_type": "markdown",
   "metadata": {},
   "source": [
    "### (2) Overlap"
   ]
  },
  {
   "cell_type": "code",
   "execution_count": 4,
   "metadata": {},
   "outputs": [],
   "source": [
    "overlap = np.linspace(1,10,10)/100;\n",
    "for i in range(len(overlap)):\n",
    "    fmin,fmax,bwp,loc,z,mm,amp,ovl = 1,1000,1,0,0.05,4,1,overlap[i];\n",
    "    blwn_test(fmin,fmax,bwp,loc,z,mm,amp,ovl,model);"
   ]
  },
  {
   "cell_type": "markdown",
   "metadata": {},
   "source": [
    "### (3) SDOF 고유진동수가 PSD 주파수 범위 벗어난 경우"
   ]
  },
  {
   "cell_type": "code",
   "execution_count": 5,
   "metadata": {},
   "outputs": [],
   "source": [
    "bandwidth = np.linspace(1,4,4)/5;\n",
    "location = np.linspace(0,5,6)/5;\n",
    "for i in range(len(bandwidth)):\n",
    "    for j in range(len(location)):\n",
    "        fmin,fmax,bwp,loc,z,mm,amp,ovl = 1,1000,bandwidth[i],location[j],0.05,4,1,0;\n",
    "        blwn_test(fmin,fmax,bwp,loc,z,mm,amp,ovl,model);"
   ]
  },
  {
   "cell_type": "markdown",
   "metadata": {},
   "source": [
    "### (4) Band Split PSD 증폭"
   ]
  },
  {
   "cell_type": "code",
   "execution_count": 6,
   "metadata": {},
   "outputs": [],
   "source": [
    "amp_fact = np.linspace(1,np.sqrt(2),10);\n",
    "for i in range(len(overlap)):\n",
    "    fmin,fmax,bwp,loc,z,mm,amp,ovl = 1,1000,1,0,0.05,4,amp_fact[i],0;\n",
    "    blwn_test(fmin,fmax,bwp,loc,z,mm,amp,ovl,model);"
   ]
  },
  {
   "cell_type": "markdown",
   "metadata": {},
   "source": [
    "## Unimodal"
   ]
  },
  {
   "cell_type": "markdown",
   "metadata": {},
   "source": [
    "### (1) Damping"
   ]
  },
  {
   "cell_type": "code",
   "execution_count": 7,
   "metadata": {},
   "outputs": [],
   "source": [
    "zeta = np.linspace(1,20,20)/100;\n",
    "for i in range(len(zeta)):\n",
    "    fmin,fmax,bwp,loc,fn1,zeta1,z,mm,amp,ovl = 1,1000,1,0,500,0.1,zeta[i],4,1,0;\n",
    "    unimodal_test(fmin,fmax,bwp,loc,fn1,zeta1,z,mm,amp,ovl,model);"
   ]
  },
  {
   "cell_type": "markdown",
   "metadata": {},
   "source": [
    "### (2) Overlap"
   ]
  },
  {
   "cell_type": "code",
   "execution_count": 8,
   "metadata": {},
   "outputs": [],
   "source": [
    "overlap = np.linspace(1,10,10)/100;\n",
    "for i in range(len(overlap)):\n",
    "    fmin,fmax,bwp,loc,fn1,zeta1,z,mm,amp,ovl = 1,1000,1,0,500,0.1,0.05,4,1,overlap[i];\n",
    "    unimodal_test(fmin,fmax,bwp,loc,fn1,zeta1,z,mm,amp,ovl,model);"
   ]
  },
  {
   "cell_type": "markdown",
   "metadata": {},
   "source": [
    "### (3) SDOF 고유진동수가 PSD 주파수 범위 벗어난 경우"
   ]
  },
  {
   "cell_type": "code",
   "execution_count": 9,
   "metadata": {},
   "outputs": [],
   "source": [
    "bandwidth = np.linspace(1,4,4)/5;\n",
    "location = np.linspace(0,5,6)/5;\n",
    "for i in range(len(bandwidth)):\n",
    "    for j in range(len(location)):\n",
    "        fmin,fmax,bwp,loc,fn1,zeta1,z,mm,amp,ovl = 1,1000,bandwidth[i],location[j],500,0.1,0.05,4,1,0;\n",
    "        df = (fmax-fmin)*bwp; f1 = fmin + loc*(fmax-fmin-df); f2 = f1+df; fn1 = (f1+f2)/2;\n",
    "        unimodal_test(fmin,fmax,bwp,loc,fn1,zeta1,z,mm,amp,ovl,model);"
   ]
  },
  {
   "cell_type": "markdown",
   "metadata": {},
   "source": [
    "### (4) Band Split PSD 증폭"
   ]
  },
  {
   "cell_type": "code",
   "execution_count": 10,
   "metadata": {},
   "outputs": [],
   "source": [
    "amp_fact = np.linspace(1,np.sqrt(2),10);\n",
    "for i in range(len(overlap)):\n",
    "    fmin,fmax,bwp,loc,fn1,zeta1,z,mm,amp,ovl = 1,1000,1,0,500,0.1,0.05,4,amp_fact[i],0;\n",
    "    unimodal_test(fmin,fmax,bwp,loc,fn1,zeta1,z,mm,amp,ovl,model);"
   ]
  },
  {
   "cell_type": "markdown",
   "metadata": {},
   "source": [
    "### (5) 입력 PSD Damping(irregularity) 영향"
   ]
  },
  {
   "cell_type": "code",
   "execution_count": 11,
   "metadata": {},
   "outputs": [],
   "source": [
    "zeta = np.linspace(1,20,20)/100;\n",
    "for i in range(len(zeta)):\n",
    "    fmin,fmax,bwp,loc,fn1,zeta1,z,mm,amp,ovl = 1,1000,1,0,500,zeta[i],0.05,4,1,0;\n",
    "    unimodal_test(fmin,fmax,bwp,loc,fn1,zeta1,z,mm,amp,ovl,model);"
   ]
  },
  {
   "cell_type": "markdown",
   "metadata": {},
   "source": [
    "## Bimodal"
   ]
  },
  {
   "cell_type": "markdown",
   "metadata": {},
   "source": [
    "### (1) Damping"
   ]
  },
  {
   "cell_type": "code",
   "execution_count": 12,
   "metadata": {},
   "outputs": [],
   "source": [
    "zeta = np.linspace(1,20,20)/100;\n",
    "for i in range(len(zeta)):\n",
    "    fmin,fmax,bwp,loc,fn1,zeta1,fn2,zeta2,ratio,z,mm,amp,ovl = 1,1000,1,0,250,0.1,750,0.1,1,zeta[i],4,1,0;\n",
    "    bimodal_test(fmin,fmax,bwp,loc,fn1,zeta1,fn2,zeta2,ratio,z,mm,amp,ovl,model);"
   ]
  },
  {
   "cell_type": "markdown",
   "metadata": {},
   "source": [
    "### (2) Overlap"
   ]
  },
  {
   "cell_type": "code",
   "execution_count": 13,
   "metadata": {},
   "outputs": [],
   "source": [
    "overlap = np.linspace(1,10,10)/100;\n",
    "for i in range(len(overlap)):\n",
    "    fmin,fmax,bwp,loc,fn1,zeta1,fn2,zeta2,ratio,z,mm,amp,ovl = 1,1000,1,0,250,0.1,750,0.1,1,0.05,4,1,overlap[i];\n",
    "    bimodal_test(fmin,fmax,bwp,loc,fn1,zeta1,fn2,zeta2,ratio,z,mm,amp,ovl,model);"
   ]
  },
  {
   "cell_type": "markdown",
   "metadata": {},
   "source": [
    "### (3) SDOF 고유진동수가 PSD 주파수 범위 벗어난 경우"
   ]
  },
  {
   "cell_type": "code",
   "execution_count": 14,
   "metadata": {},
   "outputs": [],
   "source": [
    "bandwidth = np.linspace(1,4,4)/5;\n",
    "location = np.linspace(0,5,6)/5;\n",
    "for i in range(len(bandwidth)):\n",
    "    for j in range(len(location)):\n",
    "        fmin,fmax,bwp,loc,fn1,zeta1,fn2,zeta2,ratio,z,mm,amp,ovl = 1,1000,bandwidth[i],location[j],250,0.1,750,0.1,1,0.05,4,1,0;\n",
    "        df = (fmax-fmin)*bwp; f1 = fmin + loc*(fmax-fmin-df); f2 = f1+df; fn1 = f1+(f2-f1)/3; fn2 = f1+ 2*(f2-f1)/3;\n",
    "        bimodal_test(fmin,fmax,bwp,loc,fn1,zeta1,fn2,zeta2,ratio,z,mm,amp,ovl,model);"
   ]
  },
  {
   "cell_type": "markdown",
   "metadata": {},
   "source": [
    "### (4) Band Split PSD 증폭"
   ]
  },
  {
   "cell_type": "code",
   "execution_count": 15,
   "metadata": {},
   "outputs": [],
   "source": [
    "amp_fact = np.linspace(1,np.sqrt(2),10);\n",
    "for i in range(len(overlap)):\n",
    "    fmin,fmax,bwp,loc,fn1,zeta1,fn2,zeta2,ratio,z,mm,amp,ovl = 1,1000,1,0,250,0.1,750,0.1,1,0.05,4,amp_fact[i],0;\n",
    "    bimodal_test(fmin,fmax,bwp,loc,fn1,zeta1,fn2,zeta2,ratio,z,mm,amp,ovl,model);"
   ]
  },
  {
   "cell_type": "markdown",
   "metadata": {},
   "source": [
    "### (5) 입력 PSD Damping(irregularity) 영향"
   ]
  },
  {
   "cell_type": "code",
   "execution_count": 16,
   "metadata": {},
   "outputs": [],
   "source": [
    "zeta = np.linspace(1,20,20)/100;\n",
    "for i in range(len(zeta)):\n",
    "    fmin,fmax,bwp,loc,fn1,zeta1,fn2,zeta2,ratio,z,mm,amp,ovl = 1,1000,1,0,250,zeta[i],750,zeta[i],1,0.05,4,1,0;\n",
    "    bimodal_test(fmin,fmax,bwp,loc,fn1,zeta1,fn2,zeta2,ratio,z,mm,amp,ovl,model);"
   ]
  },
  {
   "cell_type": "markdown",
   "metadata": {},
   "source": [
    "## 시간 영역"
   ]
  },
  {
   "cell_type": "markdown",
   "metadata": {},
   "source": [
    "### (1) Unimodal"
   ]
  },
  {
   "cell_type": "code",
   "execution_count": null,
   "metadata": {},
   "outputs": [],
   "source": [
    "fmin,fmax,bwp,loc,fn1,zeta1,z,mm,amp,ovl = 1,1000,1,0,500,0.1,0.05,4,1,0;\n",
    "unimodal_test(fmin,fmax,bwp,loc,fn1,zeta1,z,mm,amp,ovl,model);\n",
    "# Generate Input PSD\n",
    "freq_spec = np.logspace(np.log10(fmin),np.log10(fmax),5000); psd_spec = np.zeros(5000); \n",
    "for i in range(5000):\n",
    "    psd_spec[i]= unimodal(freq_spec[i],fmin,fmax,bwp,loc,fn1,zeta1);\n",
    "# Band Split\n",
    "fi,pi = freq_spec,psd_spec;\n",
    "dfi,dpi = band_split(fi,pi,2);\n",
    "if ovl > 0:\n",
    "    xlim1 = max(dfi[0])*0.9; xlim2 = min(dfi[1])*1.1;\n",
    "    dfi,dpi = bs_overlap(dfi,dpi,ovl); # overlap"
   ]
  },
  {
   "cell_type": "code",
   "execution_count": null,
   "metadata": {},
   "outputs": [],
   "source": [
    "t1,th1, _, _ = psd2th_tom(fi,pi,10);\n",
    "t2,th2, _, _ = psd2th_tom(dfi[0],dpi[0],10);\n",
    "t3,th3, _, _ = psd2th_tom(dfi[1],dpi[1],10);"
   ]
  },
  {
   "cell_type": "code",
   "execution_count": null,
   "metadata": {},
   "outputs": [],
   "source": [
    "f_syn1,p_syn1 = th2psd(t1,th1,2**12);\n",
    "f_syn2,p_syn2 = th2psd(t2,th2,2**12);\n",
    "f_syn3,p_syn3 = th2psd(t3,th3,2**12);"
   ]
  },
  {
   "cell_type": "code",
   "execution_count": null,
   "metadata": {},
   "outputs": [],
   "source": [
    "plt.figure(figsize=(16,4));\n",
    "plt.subplot(121);\n",
    "plt.semilogy(fi,pi); plt.semilogy(f_syn1,p_syn1);\n",
    "plt.xlim(min(fi),max(fi));\n",
    "plt.subplot(122);\n",
    "plt.semilogy(dfi[0],dpi[0],'b-'); \n",
    "plt.semilogy(f_syn2,p_syn2,'b--');\n",
    "plt.semilogy(dfi[1],dpi[1],'r-'); \n",
    "plt.semilogy(f_syn3,p_syn3,'r--');\n",
    "plt.xlim(min(dfi[0]),max(dfi[1]));"
   ]
  },
  {
   "cell_type": "code",
   "execution_count": null,
   "metadata": {},
   "outputs": [],
   "source": [
    "f1,f2,oct,iom,irdu,bex = 1,1000,1./12.,2,1,4;\n",
    "freq1,fds1 = th2fds_tom(t1,th1,f1,f2,oct,iom,irdu,bex)\n",
    "freq2,fds2 = th2fds_tom(t2,th2,f1,f2,oct,iom,irdu,bex)\n",
    "freq3,fds3 = th2fds_tom(t3,th3,f1,f2,oct,iom,irdu,bex)"
   ]
  },
  {
   "cell_type": "code",
   "execution_count": null,
   "metadata": {},
   "outputs": [],
   "source": [
    "plt.semilogy(freq1,fds1,label='original'); \n",
    "plt.semilogy(freq2,fds2,label='band1');\n",
    "plt.semilogy(freq3,fds3,label='band2');\n",
    "plt.ylabel('Pseudo Fatigue Damage');\n",
    "plt.xlabel('Natural Freq(Hz)');\n",
    "plt.title('FDS');\n",
    "plt.grid(which='both');\n",
    "plt.savefig('uni_%.1fb_%.1fl_%.2ff1_%.2fz1_%.2fz_%dm_%.2fa_%.2fo_th.png'%(bwp,loc,fn1,zeta1,z,mm,amp,ovl), dpi=300);   # Bandwidth, Location, 1% damping FDS, m = 4"
   ]
  },
  {
   "cell_type": "markdown",
   "metadata": {},
   "source": [
    "### (2) BLWN"
   ]
  },
  {
   "cell_type": "code",
   "execution_count": null,
   "metadata": {},
   "outputs": [],
   "source": [
    "fmin,fmax,bwp,loc,z,mm,amp,ovl = 1,1000,1,0,0.05,4,1,0;\n",
    "blwn_test(fmin,fmax,bwp,loc,z,mm,amp,ovl,model);\n",
    "# Generate Input PSD\n",
    "freq_spec = np.logspace(np.log10(fmin),np.log10(fmax),5000); psd_spec = np.zeros(5000); \n",
    "for i in range(5000):\n",
    "    psd_spec[i]= blwn(freq_spec[i],fmin,fmax,bwp,loc);\n",
    "# Band Split\n",
    "fi,pi = freq_spec,psd_spec;\n",
    "dfi,dpi = band_split(fi,pi,2);\n",
    "if ovl > 0:\n",
    "    xlim1 = max(dfi[0])*0.9; xlim2 = min(dfi[1])*1.1;\n",
    "    dfi,dpi = bs_overlap(dfi,dpi,ovl); # overlap"
   ]
  },
  {
   "cell_type": "code",
   "execution_count": null,
   "metadata": {},
   "outputs": [],
   "source": [
    "t1,th1, _, _ = psd2th_tom(fi,pi,10);\n",
    "t2,th2, _, _ = psd2th_tom(dfi[0],dpi[0],10);\n",
    "t3,th3, _, _ = psd2th_tom(dfi[1],dpi[1],10);"
   ]
  },
  {
   "cell_type": "code",
   "execution_count": null,
   "metadata": {},
   "outputs": [],
   "source": [
    "f_syn1,p_syn1 = th2psd(t1,th1,2**12);\n",
    "f_syn2,p_syn2 = th2psd(t2,th2,2**12);\n",
    "f_syn3,p_syn3 = th2psd(t3,th3,2**12);"
   ]
  },
  {
   "cell_type": "code",
   "execution_count": null,
   "metadata": {},
   "outputs": [],
   "source": [
    "plt.figure(figsize=(16,4));\n",
    "plt.subplot(121);\n",
    "plt.semilogy(fi,pi); plt.semilogy(f_syn1,p_syn1);\n",
    "plt.xlim(min(fi),max(fi));\n",
    "plt.subplot(122);\n",
    "plt.semilogy(dfi[0],dpi[0],'b-'); \n",
    "plt.semilogy(f_syn2,p_syn2,'b--');\n",
    "plt.semilogy(dfi[1],dpi[1],'r-'); \n",
    "plt.semilogy(f_syn3,p_syn3,'r--');\n",
    "plt.xlim(min(dfi[0]),max(dfi[1]));"
   ]
  },
  {
   "cell_type": "code",
   "execution_count": null,
   "metadata": {},
   "outputs": [],
   "source": [
    "f1,f2,oct,iom,irdu,bex = 1,1000,1./12.,2,1,4;\n",
    "freq1,fds1 = th2fds_tom(t1,th1,f1,f2,oct,iom,irdu,bex)\n",
    "freq2,fds2 = th2fds_tom(t2,th2,f1,f2,oct,iom,irdu,bex)\n",
    "freq3,fds3 = th2fds_tom(t3,th3,f1,f2,oct,iom,irdu,bex)"
   ]
  },
  {
   "cell_type": "code",
   "execution_count": null,
   "metadata": {},
   "outputs": [],
   "source": [
    "plt.semilogy(freq1,fds1,label='original'); \n",
    "plt.semilogy(freq2,fds2,label='band1');\n",
    "plt.semilogy(freq3,fds3,label='band2');\n",
    "plt.ylabel('Pseudo Fatigue Damage');\n",
    "plt.xlabel('Natural Freq(Hz)');\n",
    "plt.title('FDS');\n",
    "plt.grid(which='both');\n",
    "plt.savefig('blwn_%.1fb_%.1fl_%.2fz_%dm_%.2fa_%.2fo_th.png'%(bwp,loc,z,mm,amp,ovl), dpi=300);  "
   ]
  }
 ],
 "metadata": {
  "kernelspec": {
   "display_name": "Python 3",
   "language": "python",
   "name": "python3"
  },
  "language_info": {
   "codemirror_mode": {
    "name": "ipython",
    "version": 3
   },
   "file_extension": ".py",
   "mimetype": "text/x-python",
   "name": "python",
   "nbconvert_exporter": "python",
   "pygments_lexer": "ipython3",
   "version": "3.8.3"
  }
 },
 "nbformat": 4,
 "nbformat_minor": 4
}
