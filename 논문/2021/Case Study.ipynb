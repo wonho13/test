{
 "cells": [
  {
   "cell_type": "code",
   "execution_count": 1,
   "metadata": {},
   "outputs": [
    {
     "name": "stdout",
     "output_type": "stream",
     "text": [
      "Python 3.x\n"
     ]
    }
   ],
   "source": [
    "%run functions.ipynb"
   ]
  },
  {
   "cell_type": "markdown",
   "metadata": {},
   "source": [
    "## 주파수 영역"
   ]
  },
  {
   "cell_type": "code",
   "execution_count": 2,
   "metadata": {},
   "outputs": [],
   "source": [
    "# model : 1 = Narrow Band / 2 = Wirsching & Light / 3 = Oritz & Chen / 4 - Dirlik \n",
    "model = 4;"
   ]
  },
  {
   "cell_type": "markdown",
   "metadata": {},
   "source": [
    "## Band Limited White Noise"
   ]
  },
  {
   "cell_type": "markdown",
   "metadata": {},
   "source": [
    "### (1) Damping"
   ]
  },
  {
   "cell_type": "code",
   "execution_count": 3,
   "metadata": {},
   "outputs": [],
   "source": [
    "zeta = np.linspace(1,20,20)/100;\n",
    "for i in range(len(zeta)):\n",
    "    fmin,fmax,bwp,loc,z,mm,amp,ovl = 1,1000,1,0,zeta[i],4,1,0;\n",
    "    blwn_test(fmin,fmax,bwp,loc,z,mm,amp,ovl,model);"
   ]
  },
  {
   "cell_type": "markdown",
   "metadata": {},
   "source": [
    "### (2) Overlap"
   ]
  },
  {
   "cell_type": "code",
   "execution_count": 4,
   "metadata": {},
   "outputs": [],
   "source": [
    "overlap = np.linspace(1,10,10)/100;\n",
    "for i in range(len(overlap)):\n",
    "    fmin,fmax,bwp,loc,z,mm,amp,ovl = 1,1000,1,0,0.05,4,1,overlap[i];\n",
    "    blwn_test(fmin,fmax,bwp,loc,z,mm,amp,ovl,model);"
   ]
  },
  {
   "cell_type": "markdown",
   "metadata": {},
   "source": [
    "### (3) SDOF 고유진동수가 PSD 주파수 범위 벗어난 경우"
   ]
  },
  {
   "cell_type": "code",
   "execution_count": 5,
   "metadata": {},
   "outputs": [],
   "source": [
    "bandwidth = np.linspace(1,4,4)/5;\n",
    "location = np.linspace(0,5,6)/5;\n",
    "for i in range(len(bandwidth)):\n",
    "    for j in range(len(location)):\n",
    "        fmin,fmax,bwp,loc,z,mm,amp,ovl = 1,1000,bandwidth[i],location[j],0.05,4,1,0;\n",
    "        blwn_test(fmin,fmax,bwp,loc,z,mm,amp,ovl,model);"
   ]
  },
  {
   "cell_type": "markdown",
   "metadata": {},
   "source": [
    "### (4) Band Split PSD 증폭"
   ]
  },
  {
   "cell_type": "code",
   "execution_count": 6,
   "metadata": {},
   "outputs": [],
   "source": [
    "amp_fact = np.linspace(1,np.sqrt(2),10);\n",
    "for i in range(len(overlap)):\n",
    "    fmin,fmax,bwp,loc,z,mm,amp,ovl = 1,1000,1,0,0.05,4,amp_fact[i],0;\n",
    "    blwn_test(fmin,fmax,bwp,loc,z,mm,amp,ovl,model);"
   ]
  },
  {
   "cell_type": "markdown",
   "metadata": {},
   "source": [
    "## Unimodal"
   ]
  },
  {
   "cell_type": "markdown",
   "metadata": {},
   "source": [
    "### (1) Damping"
   ]
  },
  {
   "cell_type": "code",
   "execution_count": 7,
   "metadata": {},
   "outputs": [],
   "source": [
    "zeta = np.linspace(1,20,20)/100;\n",
    "for i in range(len(zeta)):\n",
    "    fmin,fmax,bwp,loc,fn1,zeta1,z,mm,amp,ovl = 1,1000,1,0,500,0.1,zeta[i],4,1,0;\n",
    "    unimodal_test(fmin,fmax,bwp,loc,fn1,zeta1,z,mm,amp,ovl,model);"
   ]
  },
  {
   "cell_type": "markdown",
   "metadata": {},
   "source": [
    "### (2) Overlap"
   ]
  },
  {
   "cell_type": "code",
   "execution_count": 8,
   "metadata": {},
   "outputs": [],
   "source": [
    "overlap = np.linspace(1,10,10)/100;\n",
    "for i in range(len(overlap)):\n",
    "    fmin,fmax,bwp,loc,fn1,zeta1,z,mm,amp,ovl = 1,1000,1,0,500,0.1,0.05,4,1,overlap[i];\n",
    "    unimodal_test(fmin,fmax,bwp,loc,fn1,zeta1,z,mm,amp,ovl,model);"
   ]
  },
  {
   "cell_type": "markdown",
   "metadata": {},
   "source": [
    "### (3) SDOF 고유진동수가 PSD 주파수 범위 벗어난 경우"
   ]
  },
  {
   "cell_type": "code",
   "execution_count": 9,
   "metadata": {},
   "outputs": [],
   "source": [
    "bandwidth = np.linspace(1,4,4)/5;\n",
    "location = np.linspace(0,5,6)/5;\n",
    "for i in range(len(bandwidth)):\n",
    "    for j in range(len(location)):\n",
    "        fmin,fmax,bwp,loc,fn1,zeta1,z,mm,amp,ovl = 1,1000,bandwidth[i],location[j],500,0.1,0.05,4,1,0;\n",
    "        df = (fmax-fmin)*bwp; f1 = fmin + loc*(fmax-fmin-df); f2 = f1+df; fn1 = (f1+f2)/2;\n",
    "        unimodal_test(fmin,fmax,bwp,loc,fn1,zeta1,z,mm,amp,ovl,model);"
   ]
  },
  {
   "cell_type": "markdown",
   "metadata": {},
   "source": [
    "### (4) Band Split PSD 증폭"
   ]
  },
  {
   "cell_type": "code",
   "execution_count": 10,
   "metadata": {},
   "outputs": [],
   "source": [
    "amp_fact = np.linspace(1,np.sqrt(2),10);\n",
    "for i in range(len(overlap)):\n",
    "    fmin,fmax,bwp,loc,fn1,zeta1,z,mm,amp,ovl = 1,1000,1,0,500,0.1,0.05,4,amp_fact[i],0;\n",
    "    unimodal_test(fmin,fmax,bwp,loc,fn1,zeta1,z,mm,amp,ovl,model);"
   ]
  },
  {
   "cell_type": "markdown",
   "metadata": {},
   "source": [
    "### (5) 입력 PSD Damping(irregularity) 영향"
   ]
  },
  {
   "cell_type": "code",
   "execution_count": 11,
   "metadata": {},
   "outputs": [],
   "source": [
    "zeta = np.linspace(1,20,20)/100;\n",
    "for i in range(len(zeta)):\n",
    "    fmin,fmax,bwp,loc,fn1,zeta1,z,mm,amp,ovl = 1,1000,1,0,500,zeta[i],0.05,4,1,0;\n",
    "    unimodal_test(fmin,fmax,bwp,loc,fn1,zeta1,z,mm,amp,ovl,model);"
   ]
  },
  {
   "cell_type": "markdown",
   "metadata": {},
   "source": [
    "## Bimodal"
   ]
  },
  {
   "cell_type": "markdown",
   "metadata": {},
   "source": [
    "### (1) Damping"
   ]
  },
  {
   "cell_type": "code",
   "execution_count": 12,
   "metadata": {},
   "outputs": [],
   "source": [
    "zeta = np.linspace(1,20,20)/100;\n",
    "for i in range(len(zeta)):\n",
    "    fmin,fmax,bwp,loc,fn1,zeta1,fn2,zeta2,ratio,z,mm,amp,ovl = 1,1000,1,0,250,0.1,750,0.1,1,zeta[i],4,1,0;\n",
    "    bimodal_test(fmin,fmax,bwp,loc,fn1,zeta1,fn2,zeta2,ratio,z,mm,amp,ovl,model);"
   ]
  },
  {
   "cell_type": "markdown",
   "metadata": {},
   "source": [
    "### (2) Overlap"
   ]
  },
  {
   "cell_type": "code",
   "execution_count": 13,
   "metadata": {},
   "outputs": [],
   "source": [
    "overlap = np.linspace(1,10,10)/100;\n",
    "for i in range(len(overlap)):\n",
    "    fmin,fmax,bwp,loc,fn1,zeta1,fn2,zeta2,ratio,z,mm,amp,ovl = 1,1000,1,0,250,0.1,750,0.1,1,0.05,4,1,overlap[i];\n",
    "    bimodal_test(fmin,fmax,bwp,loc,fn1,zeta1,fn2,zeta2,ratio,z,mm,amp,ovl,model);"
   ]
  },
  {
   "cell_type": "markdown",
   "metadata": {},
   "source": [
    "### (3) SDOF 고유진동수가 PSD 주파수 범위 벗어난 경우"
   ]
  },
  {
   "cell_type": "code",
   "execution_count": 14,
   "metadata": {},
   "outputs": [],
   "source": [
    "bandwidth = np.linspace(1,4,4)/5;\n",
    "location = np.linspace(0,5,6)/5;\n",
    "for i in range(len(bandwidth)):\n",
    "    for j in range(len(location)):\n",
    "        fmin,fmax,bwp,loc,fn1,zeta1,fn2,zeta2,ratio,z,mm,amp,ovl = 1,1000,bandwidth[i],location[j],250,0.1,750,0.1,1,0.05,4,1,0;\n",
    "        df = (fmax-fmin)*bwp; f1 = fmin + loc*(fmax-fmin-df); f2 = f1+df; fn1 = f1+(f2-f1)/3; fn2 = f1+ 2*(f2-f1)/3;\n",
    "        bimodal_test(fmin,fmax,bwp,loc,fn1,zeta1,fn2,zeta2,ratio,z,mm,amp,ovl,model);"
   ]
  },
  {
   "cell_type": "markdown",
   "metadata": {},
   "source": [
    "### (4) Band Split PSD 증폭"
   ]
  },
  {
   "cell_type": "code",
   "execution_count": 15,
   "metadata": {},
   "outputs": [],
   "source": [
    "amp_fact = np.linspace(1,np.sqrt(2),10);\n",
    "for i in range(len(overlap)):\n",
    "    fmin,fmax,bwp,loc,fn1,zeta1,fn2,zeta2,ratio,z,mm,amp,ovl = 1,1000,1,0,250,0.1,750,0.1,1,0.05,4,amp_fact[i],0;\n",
    "    bimodal_test(fmin,fmax,bwp,loc,fn1,zeta1,fn2,zeta2,ratio,z,mm,amp,ovl,model);"
   ]
  },
  {
   "cell_type": "markdown",
   "metadata": {},
   "source": [
    "### (5) 입력 PSD Damping(irregularity) 영향"
   ]
  },
  {
   "cell_type": "code",
   "execution_count": 16,
   "metadata": {},
   "outputs": [],
   "source": [
    "zeta = np.linspace(1,20,20)/100;\n",
    "for i in range(len(zeta)):\n",
    "    fmin,fmax,bwp,loc,fn1,zeta1,fn2,zeta2,ratio,z,mm,amp,ovl = 1,1000,1,0,250,zeta[i],750,zeta[i],1,0.05,4,1,0;\n",
    "    bimodal_test(fmin,fmax,bwp,loc,fn1,zeta1,fn2,zeta2,ratio,z,mm,amp,ovl,model);"
   ]
  },
  {
   "cell_type": "markdown",
   "metadata": {},
   "source": [
    "## 시간 영역"
   ]
  },
  {
   "cell_type": "markdown",
   "metadata": {},
   "source": [
    "## Band Limited White Noise"
   ]
  },
  {
   "cell_type": "code",
   "execution_count": null,
   "metadata": {},
   "outputs": [],
   "source": []
  },
  {
   "cell_type": "markdown",
   "metadata": {},
   "source": [
    "### (1) Unimodal"
   ]
  },
  {
   "cell_type": "code",
   "execution_count": null,
   "metadata": {},
   "outputs": [],
   "source": [
    "fmin,fmax,bwp,loc,fn1,zeta1,z,mm,amp,ovl = 1,1000,1,0,500,0.1,0.05,4,1,0;\n",
    "unimodal_test_fd(fmin,fmax,bwp,loc,fn1,zeta1,z,mm,amp,ovl,model);\n",
    "# Generate Input PSD\n",
    "freq_spec = np.logspace(np.log10(fmin),np.log10(fmax),5000); psd_spec = np.zeros(5000); \n",
    "for i in range(5000):\n",
    "    psd_spec[i]= unimodal(freq_spec[i],fmin,fmax,bwp,loc,fn1,zeta1);\n",
    "# Band Split\n",
    "fi,pi = freq_spec,psd_spec;\n",
    "dfi,dpi = band_split(fi,pi,2);\n",
    "if ovl > 0:\n",
    "    xlim1 = max(dfi[0])*0.9; xlim2 = min(dfi[1])*1.1;\n",
    "    dfi,dpi = bs_overlap(dfi,dpi,ovl); # overlap"
   ]
  },
  {
   "cell_type": "code",
   "execution_count": null,
   "metadata": {},
   "outputs": [],
   "source": [
    "t1,th1, _, _ = psd2th_tom(fi,pi,10);\n",
    "t2,th2, _, _ = psd2th_tom(dfi[0],dpi[0],10);\n",
    "t3,th3, _, _ = psd2th_tom(dfi[1],dpi[1],10);"
   ]
  },
  {
   "cell_type": "code",
   "execution_count": null,
   "metadata": {},
   "outputs": [],
   "source": [
    "f_syn1,p_syn1 = th2psd(t1,th1,2**12);\n",
    "f_syn2,p_syn2 = th2psd(t2,th2,2**12);\n",
    "f_syn3,p_syn3 = th2psd(t3,th3,2**12);"
   ]
  },
  {
   "cell_type": "code",
   "execution_count": null,
   "metadata": {},
   "outputs": [],
   "source": [
    "f1,f2,oct,iom,irdu,bex = 1,1000,1./12.,2,1,4;\n",
    "fn,D = th2fds_tom(t1,th1,f1,f2,oct,iom,irdu,bex)\n",
    "fn,D1= th2fds_tom(t2,th2,f1,f2,oct,iom,irdu,bex)\n",
    "fn,D2 = th2fds_tom(t3,th3,f1,f2,oct,iom,irdu,bex)"
   ]
  },
  {
   "cell_type": "code",
   "execution_count": null,
   "metadata": {},
   "outputs": [],
   "source": [
    "# Plot\n",
    "plt.figure(figsize=(16,16));\n",
    "plt.subplots_adjust(left=None, bottom=None, right=None, top=None, wspace=0.2, hspace=0.4)\n",
    "plt.subplot(321);\n",
    "plt.plot(dfi[0],dpi[0],label='band1'); plt.plot(dfi[1],dpi[1],label='band2'); plt.legend();\n",
    "#plt.xscale('log'); \n",
    "plt.yscale('log'); plt.xlim(fmin,fmax); plt.title('Input PSD(BW=%.1f, LOC=%.1f, fn1 = %d, zeta1 = %.2f)'%(bwp,loc,fn1,zeta1)); plt.xlabel('Freq(Hz)'); plt.ylabel('PSD(g^2/Hz)');\n",
    "plt.grid(b=True, which='both', linestyle='-');\n",
    "plt.subplot(322);\n",
    "plt.plot(fn,D,label='original'); plt.plot(fn,D1,label='band1'); plt.plot(fn,D2,label='band2'); \n",
    "#plt.xscale('log'); \n",
    "plt.yscale('log'); plt.legend(); plt.xlim(fmin,fmax);\n",
    "plt.title('FDS'); plt.xlabel('Natural Freq(Hz)'); plt.ylabel('Pseudo Fatigue Damage');\n",
    "plt.grid(b=True, which='both', linestyle='-');\n",
    "plt.subplot(323);\n",
    "if ovl == 0:\n",
    "    xlim1 = max(dfi[0])*0.9; xlim2 = min(dfi[1])*1.1;\n",
    "ylim1 = min(D[(fn>xlim1)&(fn<xlim2)])*0.1; \n",
    "ylim2 = max(D[(fn>xlim1)&(fn<xlim2)])*10; \n",
    "plt.plot(fn,D,'k-',label='original'); plt.plot(fn,D1,'r--',label='band1'); plt.plot(fn,D2,'b--',label='band2'); \n",
    "plt.plot(fn,D1+D2,'g--',label='split(sum)');  plt.yscale('log');\n",
    "plt.legend(); plt.xlim(xlim1,xlim2); plt.ylim(ylim1,ylim2);\n",
    "plt.title('FDS, Near Band Split Freq');\n",
    "plt.grid(b=True, which='major', linestyle='-');\n",
    "plt.subplot(324);\n",
    "plt.plot(fn,D,'k-',label='original'); plt.plot(fn,D1+D2,'r--',label='split(sum)');  \n",
    "#plt.xscale('log');\n",
    "plt.yscale('log'); plt.legend(); plt.xlim(fmin,fmax);\n",
    "plt.title('FDS'); plt.xlabel('Natural Freq(Hz)'); plt.ylabel('Pseudo Fatigue Damage');\n",
    "plt.grid(b=True, which='both', linestyle='-');\n",
    "plt.subplot(325);\n",
    "rD = D/(D1+D2);\n",
    "plt.plot(fn,rD,'k-',label='original/split(sum)');\n",
    "plt.legend(); plt.xlim(fmin,fmax);\n",
    "#plt.xscale('log'); \n",
    "plt.title('FDS Ratio(original/split(sum))'); plt.xlabel('Natural Freq(Hz)'); plt.ylabel('Pseudo Fatigue Damage Ratio');\n",
    "plt.grid(b=True, which='both', linestyle='-');\n",
    "plt.subplot(326);\n",
    "plt.plot(fn,rD,'k-',label='original/split(sum)');\n",
    "ylim1 = min(rD[(fn>xlim1)&(fn<xlim2)])*0.5; ylim2 = max(rD[(fn>xlim1)&(fn<xlim2)])*2;\n",
    "plt.grid(which='both'); plt.legend(); plt.xlim(xlim1,xlim2); plt.ylim(ylim1,ylim2);\n",
    "plt.title('FDS Ratio(original/split(sum)), Near Band Split Freq'); plt.xlabel('Natural Freq(Hz)'); plt.ylabel('Pseudo Fatigue Damage Ratio');\\\n",
    "plt.grid(b=True, which='both', linestyle='-');\n",
    "plt.savefig('uni_%.1fb_%.1fl_%.2ff1_%.2fz1_%.2fz_%dm_%.2fa_%.2fo_th.png'%(bwp,loc,fn1,zeta1,z,mm,amp,ovl), dpi=300);   # Bandwidth, Location, 1% damping FDS, m = 4\n",
    "plt.close();"
   ]
  },
  {
   "cell_type": "markdown",
   "metadata": {},
   "source": [
    "### (2) BLWN"
   ]
  },
  {
   "cell_type": "code",
   "execution_count": null,
   "metadata": {},
   "outputs": [],
   "source": [
    "fmin,fmax,bwp,loc,z,mm,amp,ovl = 1,1000,1,0,0.05,4,1,0;\n",
    "blwn_test_fd(fmin,fmax,bwp,loc,z,mm,amp,ovl,model);\n",
    "# Generate Input PSD\n",
    "freq_spec = np.logspace(np.log10(fmin),np.log10(fmax),5000); psd_spec = np.zeros(5000); \n",
    "for i in range(5000):\n",
    "    psd_spec[i]= blwn(freq_spec[i],fmin,fmax,bwp,loc);\n",
    "# Band Split\n",
    "fi,pi = freq_spec,psd_spec;\n",
    "dfi,dpi = band_split(fi,pi,2);\n",
    "if ovl > 0:\n",
    "    xlim1 = max(dfi[0])*0.9; xlim2 = min(dfi[1])*1.1;\n",
    "    dfi,dpi = bs_overlap(dfi,dpi,ovl); # overlap"
   ]
  },
  {
   "cell_type": "code",
   "execution_count": null,
   "metadata": {},
   "outputs": [],
   "source": [
    "t1,th1, _, _ = psd2th_tom(fi,pi,10);\n",
    "t2,th2, _, _ = psd2th_tom(dfi[0],dpi[0],10);\n",
    "t3,th3, _, _ = psd2th_tom(dfi[1],dpi[1],10);"
   ]
  },
  {
   "cell_type": "code",
   "execution_count": null,
   "metadata": {},
   "outputs": [],
   "source": [
    "f_syn1,p_syn1 = th2psd(t1,th1,2**12);\n",
    "f_syn2,p_syn2 = th2psd(t2,th2,2**12);\n",
    "f_syn3,p_syn3 = th2psd(t3,th3,2**12);"
   ]
  },
  {
   "cell_type": "code",
   "execution_count": null,
   "metadata": {},
   "outputs": [],
   "source": [
    "f1,f2,oct,iom,irdu,bex = 1,1000,1./12.,2,1,4;\n",
    "fn,D = th2fds_tom(t1,th1,f1,f2,oct,iom,irdu,bex)\n",
    "fn,D1 = th2fds_tom(t2,th2,f1,f2,oct,iom,irdu,bex)\n",
    "fn,D2 = th2fds_tom(t3,th3,f1,f2,oct,iom,irdu,bex)"
   ]
  },
  {
   "cell_type": "code",
   "execution_count": null,
   "metadata": {},
   "outputs": [],
   "source": [
    "# Plot\n",
    "plt.figure(figsize=(16,16));\n",
    "plt.subplots_adjust(left=None, bottom=None, right=None, top=None, wspace=0.2, hspace=0.4)\n",
    "plt.subplot(321);\n",
    "plt.plot(dfi[0],dpi[0],label='band1'); plt.plot(dfi[1],dpi[1],label='band2'); plt.legend();\n",
    "plt.ylim(max(dpi[0])/100,max(dpi[0])*100);\n",
    "#plt.xscale('log'); \n",
    "plt.yscale('log'); plt.xlim(fmin,fmax); plt.title('Input PSD(BW=%.1f, LOC=%.1f)'%(bwp,loc)); plt.xlabel('Freq(Hz)'); plt.ylabel('PSD(g^2/Hz)');\n",
    "plt.grid(b=True, which='both', linestyle='-');\n",
    "plt.subplot(322);\n",
    "plt.plot(fn,D,label='original'); plt.plot(fn,D1,label='band1'); plt.plot(fn,D2,label='band2'); \n",
    "#plt.xscale('log'); \n",
    "plt.yscale('log'); plt.legend(); plt.xlim(fmin,fmax);\n",
    "plt.title('FDS'); plt.xlabel('Natural Freq(Hz)'); plt.ylabel('Pseudo Fatigue Damage');\n",
    "plt.grid(b=True, which='both', linestyle='-');\n",
    "plt.subplot(323);\n",
    "if ovl == 0:\n",
    "    xlim1 = max(dfi[0])*0.9; xlim2 = min(dfi[1])*1.1;\n",
    "ylim1 = min(D[(fn>xlim1)&(fn<xlim2)])*0.1; \n",
    "ylim2 = max(D[(fn>xlim1)&(fn<xlim2)])*10; \n",
    "plt.plot(fn,D,'k-',label='original'); plt.plot(fn,D1,'r--',label='band1'); plt.plot(fn,D2,'b--',label='band2'); \n",
    "plt.plot(fn,D1+D2,'g--',label='split(sum)');  plt.yscale('log');\n",
    "plt.legend(); plt.xlim(xlim1,xlim2); plt.ylim(ylim1,ylim2);\n",
    "plt.title('FDS, Near Band Split Freq');\n",
    "plt.grid(b=True, which='major', linestyle='-');\n",
    "plt.subplot(324);\n",
    "plt.plot(fn,D,'k-',label='original'); plt.plot(fn,D1+D2,'r--',label='split(sum)');  \n",
    "#plt.xscale('log'); \n",
    "plt.yscale('log'); plt.legend(); plt.xlim(fmin,fmax);\n",
    "plt.title('FDS'); plt.xlabel('Natural Freq(Hz)'); plt.ylabel('Pseudo Fatigue Damage');\n",
    "plt.grid(b=True, which='both', linestyle='-');\n",
    "plt.subplot(325);\n",
    "rD = D/(D1+D2);\n",
    "plt.plot(fn,rD,'k-',label='original/split(sum)');\n",
    "plt.legend(); plt.xlim(fmin,fmax);\n",
    "#plt.xscale('log'); \n",
    "plt.title('FDS Ratio(original/split(sum))'); plt.xlabel('Natural Freq(Hz)'); plt.ylabel('Pseudo Fatigue Damage Ratio');\n",
    "plt.grid(b=True, which='both', linestyle='-');\n",
    "plt.subplot(326);\n",
    "plt.plot(fn,rD,'k-',label='original/split(sum)');\n",
    "ylim1 = min(rD[(fn>xlim1)&(fn<xlim2)])*0.5; ylim2 = max(rD[(fn>xlim1)&(fn<xlim2)])*2;\n",
    "plt.grid(which='both'); plt.legend(); plt.xlim(xlim1,xlim2); plt.ylim(ylim1,ylim2);\n",
    "plt.title('FDS Ratio(original/split(sum)), Near Band Split Freq'); plt.xlabel('Natural Freq(Hz)'); plt.ylabel('Pseudo Fatigue Damage Ratio');\\\n",
    "plt.grid(b=True, which='both', linestyle='-');\n",
    "plt.savefig('blwn_%.1fb_%.1fl_%.2fz_%dm_%.2fa_%.2fo_th.png'%(bwp,loc,z,mm,amp,ovl), dpi=300);  \n",
    "plt.close();"
   ]
  },
  {
   "cell_type": "code",
   "execution_count": null,
   "metadata": {},
   "outputs": [],
   "source": []
  },
  {
   "cell_type": "code",
   "execution_count": null,
   "metadata": {},
   "outputs": [],
   "source": []
  }
 ],
 "metadata": {
  "kernelspec": {
   "display_name": "Python 3",
   "language": "python",
   "name": "python3"
  },
  "language_info": {
   "codemirror_mode": {
    "name": "ipython",
    "version": 3
   },
   "file_extension": ".py",
   "mimetype": "text/x-python",
   "name": "python",
   "nbconvert_exporter": "python",
   "pygments_lexer": "ipython3",
   "version": "3.8.3"
  }
 },
 "nbformat": 4,
 "nbformat_minor": 4
}
