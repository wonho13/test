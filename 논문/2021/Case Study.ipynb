{
 "cells": [
  {
   "cell_type": "code",
   "execution_count": 1,
   "metadata": {},
   "outputs": [
    {
     "name": "stdout",
     "output_type": "stream",
     "text": [
      "Python 3.x\n"
     ]
    }
   ],
   "source": [
    "%run functions.ipynb"
   ]
  },
  {
   "cell_type": "markdown",
   "metadata": {},
   "source": [
    "## 주파수 영역"
   ]
  },
  {
   "cell_type": "code",
   "execution_count": 2,
   "metadata": {},
   "outputs": [],
   "source": [
    "# Model : 1 = Narrow Band / 2 = Wirsching & Light / 3 = Oritz & Chen / 4 - Dirlik \n",
    "model = 4;\n",
    "# Duration\n",
    "dur = 10;"
   ]
  },
  {
   "cell_type": "markdown",
   "metadata": {},
   "source": [
    "## Band Limited White Noise"
   ]
  },
  {
   "cell_type": "markdown",
   "metadata": {},
   "source": [
    "### (1) Damping"
   ]
  },
  {
   "cell_type": "code",
   "execution_count": null,
   "metadata": {},
   "outputs": [],
   "source": [
    "zeta = np.linspace(1,20,20)/100;\n",
    "for i in range(len(zeta)):\n",
    "    fmin,fmax,bwp,loc,z,mm,amp,ovl = 1,1000,1,0,zeta[i],4,1,0;\n",
    "    blwn_test_fd(fmin,fmax,bwp,loc,z,mm,amp,ovl,model,dur);"
   ]
  },
  {
   "cell_type": "markdown",
   "metadata": {},
   "source": [
    "### (2) Overlap"
   ]
  },
  {
   "cell_type": "code",
   "execution_count": null,
   "metadata": {},
   "outputs": [],
   "source": [
    "overlap = np.linspace(1,10,10)/100;\n",
    "for i in range(len(overlap)):\n",
    "    fmin,fmax,bwp,loc,z,mm,amp,ovl = 1,1000,1,0,0.05,4,1,overlap[i];\n",
    "    blwn_test_fd(fmin,fmax,bwp,loc,z,mm,amp,ovl,model,dur);"
   ]
  },
  {
   "cell_type": "markdown",
   "metadata": {},
   "source": [
    "### (3) SDOF 고유진동수가 PSD 주파수 범위 벗어난 경우"
   ]
  },
  {
   "cell_type": "code",
   "execution_count": null,
   "metadata": {},
   "outputs": [],
   "source": [
    "bandwidth = np.linspace(1,4,4)/5;\n",
    "location = np.linspace(0,5,6)/5;\n",
    "for i in range(len(bandwidth)):\n",
    "    for j in range(len(location)):\n",
    "        fmin,fmax,bwp,loc,z,mm,amp,ovl = 1,1000,bandwidth[i],location[j],0.05,4,1,0;\n",
    "        blwn_test_fd(fmin,fmax,bwp,loc,z,mm,amp,ovl,model,dur);"
   ]
  },
  {
   "cell_type": "markdown",
   "metadata": {},
   "source": [
    "### (4) Band Split PSD 증폭"
   ]
  },
  {
   "cell_type": "code",
   "execution_count": null,
   "metadata": {},
   "outputs": [],
   "source": [
    "amp_fact = np.linspace(1,np.sqrt(2),10);\n",
    "for i in range(len(overlap)):\n",
    "    fmin,fmax,bwp,loc,z,mm,amp,ovl = 1,1000,1,0,0.05,4,amp_fact[i],0;\n",
    "    blwn_test_fd(fmin,fmax,bwp,loc,z,mm,amp,ovl,model,dur);"
   ]
  },
  {
   "cell_type": "markdown",
   "metadata": {},
   "source": [
    "## Unimodal"
   ]
  },
  {
   "cell_type": "markdown",
   "metadata": {},
   "source": [
    "### (1) Damping"
   ]
  },
  {
   "cell_type": "code",
   "execution_count": null,
   "metadata": {},
   "outputs": [],
   "source": [
    "zeta = np.linspace(1,20,20)/100;\n",
    "for i in range(len(zeta)):\n",
    "    fmin,fmax,bwp,loc,fn1,zeta1,z,mm,amp,ovl = 1,1000,1,0,500,0.1,zeta[i],4,1,0;\n",
    "    unimodal_test_fd(fmin,fmax,bwp,loc,fn1,zeta1,z,mm,amp,ovl,model,dur);"
   ]
  },
  {
   "cell_type": "markdown",
   "metadata": {},
   "source": [
    "### (2) Overlap"
   ]
  },
  {
   "cell_type": "code",
   "execution_count": null,
   "metadata": {},
   "outputs": [],
   "source": [
    "overlap = np.linspace(1,10,10)/100;\n",
    "for i in range(len(overlap)):\n",
    "    fmin,fmax,bwp,loc,fn1,zeta1,z,mm,amp,ovl = 1,1000,1,0,500,0.1,0.05,4,1,overlap[i];\n",
    "    unimodal_test_fd(fmin,fmax,bwp,loc,fn1,zeta1,z,mm,amp,ovl,model,dur);"
   ]
  },
  {
   "cell_type": "markdown",
   "metadata": {},
   "source": [
    "### (3) SDOF 고유진동수가 PSD 주파수 범위 벗어난 경우"
   ]
  },
  {
   "cell_type": "code",
   "execution_count": null,
   "metadata": {},
   "outputs": [],
   "source": [
    "bandwidth = np.linspace(1,4,4)/5;\n",
    "location = np.linspace(0,5,6)/5;\n",
    "for i in range(len(bandwidth)):\n",
    "    for j in range(len(location)):\n",
    "        fmin,fmax,bwp,loc,fn1,zeta1,z,mm,amp,ovl = 1,1000,bandwidth[i],location[j],500,0.1,0.05,4,1,0;\n",
    "        df = (fmax-fmin)*bwp; f1 = fmin + loc*(fmax-fmin-df); f2 = f1+df; fn1 = (f1+f2)/2;\n",
    "        unimodal_test_fd(fmin,fmax,bwp,loc,fn1,zeta1,z,mm,amp,ovl,model,dur);"
   ]
  },
  {
   "cell_type": "markdown",
   "metadata": {},
   "source": [
    "### (4) Band Split PSD 증폭"
   ]
  },
  {
   "cell_type": "code",
   "execution_count": null,
   "metadata": {},
   "outputs": [],
   "source": [
    "amp_fact = np.linspace(1,np.sqrt(2),10);\n",
    "for i in range(len(overlap)):\n",
    "    fmin,fmax,bwp,loc,fn1,zeta1,z,mm,amp,ovl = 1,1000,1,0,500,0.1,0.05,4,amp_fact[i],0;\n",
    "    unimodal_test_fd(fmin,fmax,bwp,loc,fn1,zeta1,z,mm,amp,ovl,model,dur);"
   ]
  },
  {
   "cell_type": "markdown",
   "metadata": {},
   "source": [
    "### (5) 입력 PSD Damping(irregularity) 영향"
   ]
  },
  {
   "cell_type": "code",
   "execution_count": null,
   "metadata": {},
   "outputs": [],
   "source": [
    "zeta = np.linspace(1,20,20)/100;\n",
    "for i in range(len(zeta)):\n",
    "    fmin,fmax,bwp,loc,fn1,zeta1,z,mm,amp,ovl = 1,1000,1,0,500,zeta[i],0.05,4,1,0;\n",
    "    unimodal_test_fd(fmin,fmax,bwp,loc,fn1,zeta1,z,mm,amp,ovl,model,dur);"
   ]
  },
  {
   "cell_type": "markdown",
   "metadata": {},
   "source": [
    "## Bimodal"
   ]
  },
  {
   "cell_type": "markdown",
   "metadata": {},
   "source": [
    "### (1) Damping"
   ]
  },
  {
   "cell_type": "code",
   "execution_count": null,
   "metadata": {},
   "outputs": [],
   "source": [
    "zeta = np.linspace(1,20,20)/100;\n",
    "for i in range(len(zeta)):\n",
    "    fmin,fmax,bwp,loc,fn1,zeta1,fn2,zeta2,ratio,z,mm,amp,ovl = 1,1000,1,0,250,0.1,750,0.1,1,zeta[i],4,1,0;\n",
    "    bimodal_test_fd(fmin,fmax,bwp,loc,fn1,zeta1,fn2,zeta2,ratio,z,mm,amp,ovl,model,dur);"
   ]
  },
  {
   "cell_type": "markdown",
   "metadata": {},
   "source": [
    "### (2) Overlap"
   ]
  },
  {
   "cell_type": "code",
   "execution_count": null,
   "metadata": {},
   "outputs": [],
   "source": [
    "overlap = np.linspace(1,10,10)/100;\n",
    "for i in range(len(overlap)):\n",
    "    fmin,fmax,bwp,loc,fn1,zeta1,fn2,zeta2,ratio,z,mm,amp,ovl = 1,1000,1,0,250,0.1,750,0.1,1,0.05,4,1,overlap[i];\n",
    "    bimodal_test_fd(fmin,fmax,bwp,loc,fn1,zeta1,fn2,zeta2,ratio,z,mm,amp,ovl,model,dur);"
   ]
  },
  {
   "cell_type": "markdown",
   "metadata": {},
   "source": [
    "### (3) SDOF 고유진동수가 PSD 주파수 범위 벗어난 경우"
   ]
  },
  {
   "cell_type": "code",
   "execution_count": null,
   "metadata": {},
   "outputs": [],
   "source": [
    "bandwidth = np.linspace(1,4,4)/5;\n",
    "location = np.linspace(0,5,6)/5;\n",
    "for i in range(len(bandwidth)):\n",
    "    for j in range(len(location)):\n",
    "        fmin,fmax,bwp,loc,fn1,zeta1,fn2,zeta2,ratio,z,mm,amp,ovl = 1,1000,bandwidth[i],location[j],250,0.1,750,0.1,1,0.05,4,1,0;\n",
    "        df = (fmax-fmin)*bwp; f1 = fmin + loc*(fmax-fmin-df); f2 = f1+df; fn1 = f1+(f2-f1)/3; fn2 = f1+ 2*(f2-f1)/3;\n",
    "        bimodal_test_fd(fmin,fmax,bwp,loc,fn1,zeta1,fn2,zeta2,ratio,z,mm,amp,ovl,model,dur);"
   ]
  },
  {
   "cell_type": "markdown",
   "metadata": {},
   "source": [
    "### (4) Band Split PSD 증폭"
   ]
  },
  {
   "cell_type": "code",
   "execution_count": null,
   "metadata": {},
   "outputs": [],
   "source": [
    "amp_fact = np.linspace(1,np.sqrt(2),10);\n",
    "for i in range(len(overlap)):\n",
    "    fmin,fmax,bwp,loc,fn1,zeta1,fn2,zeta2,ratio,z,mm,amp,ovl = 1,1000,1,0,250,0.1,750,0.1,1,0.05,4,amp_fact[i],0;\n",
    "    bimodal_test_fd(fmin,fmax,bwp,loc,fn1,zeta1,fn2,zeta2,ratio,z,mm,amp,ovl,model,dur);"
   ]
  },
  {
   "cell_type": "markdown",
   "metadata": {},
   "source": [
    "### (5) 입력 PSD Damping(irregularity) 영향"
   ]
  },
  {
   "cell_type": "code",
   "execution_count": null,
   "metadata": {},
   "outputs": [],
   "source": [
    "zeta = np.linspace(1,20,20)/100;\n",
    "for i in range(len(zeta)):\n",
    "    fmin,fmax,bwp,loc,fn1,zeta1,fn2,zeta2,ratio,z,mm,amp,ovl = 1,1000,1,0,250,zeta[i],750,zeta[i],1,0.05,4,1,0;\n",
    "    bimodal_test_fd(fmin,fmax,bwp,loc,fn1,zeta1,fn2,zeta2,ratio,z,mm,amp,ovl,model,dur);"
   ]
  },
  {
   "cell_type": "markdown",
   "metadata": {},
   "source": [
    "## 시간 영역"
   ]
  },
  {
   "cell_type": "markdown",
   "metadata": {},
   "source": [
    "## Band Limited White Noise"
   ]
  },
  {
   "cell_type": "markdown",
   "metadata": {},
   "source": [
    "### (1) Damping"
   ]
  },
  {
   "cell_type": "code",
   "execution_count": null,
   "metadata": {},
   "outputs": [],
   "source": [
    "zeta = np.linspace(1,20,20)/100;\n",
    "for i in range(len(zeta)):\n",
    "    fmin,fmax,bwp,loc,z,mm,amp,ovl = 1,1000,1,0,zeta[i],4,1,0;\n",
    "    blwn_test_td(fmin,fmax,bwp,loc,z,mm,amp,ovl,dur);"
   ]
  }
 ],
 "metadata": {
  "kernelspec": {
   "display_name": "Python 3",
   "language": "python",
   "name": "python3"
  },
  "language_info": {
   "codemirror_mode": {
    "name": "ipython",
    "version": 3
   },
   "file_extension": ".py",
   "mimetype": "text/x-python",
   "name": "python",
   "nbconvert_exporter": "python",
   "pygments_lexer": "ipython3",
   "version": "3.8.3"
  }
 },
 "nbformat": 4,
 "nbformat_minor": 4
}
