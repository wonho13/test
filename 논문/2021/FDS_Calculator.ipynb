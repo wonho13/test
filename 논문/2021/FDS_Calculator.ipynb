{
 "cells": [
  {
   "cell_type": "code",
   "execution_count": 1,
   "metadata": {},
   "outputs": [],
   "source": [
    "import numpy as np\n",
    "import matplotlib.pyplot as plt\n",
    "from math import gamma\n",
    "from scipy.special import erf\n",
    "from scipy.signal import welch\n",
    "import warnings\n",
    "warnings.filterwarnings(action='ignore');\n",
    "import rainflow\n",
    "from scipy.signal import lfilter"
   ]
  },
  {
   "cell_type": "code",
   "execution_count": 2,
   "metadata": {},
   "outputs": [],
   "source": [
    "def fileO(x,y,filename):\n",
    "    f = open(filename,'w');\n",
    "    for i in range(len(y)):\n",
    "        f.write('%.4e\\t%.4e\\n'%(x[i],y[i]));\n",
    "    f.close();"
   ]
  },
  {
   "cell_type": "code",
   "execution_count": 3,
   "metadata": {},
   "outputs": [],
   "source": [
    "def fileI(filename):\n",
    "    f = open(filename,'r');\n",
    "    lines = f.readlines();\n",
    "    f.close();\n",
    "    data = [];\n",
    "    for i in range(len(lines)):\n",
    "        lines[i] = lines[i].rstrip();\n",
    "        data.append(lines[i].split());\n",
    "    x,y = np.zeros(len(lines)),np.zeros(len(lines));\n",
    "    for i in range(len(lines)):\n",
    "        x[i] = float(data[i][0]);\n",
    "        y[i] = float(data[i][1]);\n",
    "    return x,y;        "
   ]
  },
  {
   "cell_type": "code",
   "execution_count": 4,
   "metadata": {},
   "outputs": [],
   "source": [
    "def log_interp(x,x_spec,y_spec):\n",
    "    return 10**np.interp(np.log10(x),np.log10(x_spec),np.log10(y_spec));"
   ]
  },
  {
   "cell_type": "code",
   "execution_count": 5,
   "metadata": {},
   "outputs": [],
   "source": [
    "def M(freq,psd,n):\n",
    "    psd1 = psd*freq**n;\n",
    "    return np.trapz(psd1,freq);"
   ]
  },
  {
   "cell_type": "code",
   "execution_count": 6,
   "metadata": {},
   "outputs": [],
   "source": [
    "def D_NB(freq,psd,m,T,C):\n",
    "    M0 = M(freq,psd,0);  M2 = M(freq,psd,2);\n",
    "    E0 = np.sqrt(M2/M0);\n",
    "    return E0*T*((2*M0)**(m/2))*gamma(m/2+1) / C;"
   ]
  },
  {
   "cell_type": "code",
   "execution_count": 7,
   "metadata": {},
   "outputs": [],
   "source": [
    "def D_WL(freq,psd,m,T,C):\n",
    "    DNB = D_NB(freq,psd,m,T,C);\n",
    "    M0 = M(freq,psd,0);  M2 = M(freq,psd,2);  M4 = M(freq,psd,4);\n",
    "    E0 = np.sqrt(M2/M0);\n",
    "    Ep = np.sqrt(M4/M2);\n",
    "    r = E0/Ep;\n",
    "    lam = np.sqrt(1-r**2);\n",
    "    a = 0.926 - 0.033*m;\n",
    "    b = 1.587*m - 2.323;\n",
    "    zeta = a + (1-a)*(1-lam)**b\n",
    "    return DNB*zeta;"
   ]
  },
  {
   "cell_type": "code",
   "execution_count": 8,
   "metadata": {},
   "outputs": [],
   "source": [
    "def D_OC(freq,psd,m,T,C):\n",
    "    DNB = D_NB(freq,psd,m,T,C);\n",
    "    k = 2/m;\n",
    "    M0 = M(freq,psd,0);  M2 = M(freq,psd,2);  M4 = M(freq,psd,4); Mk = M(freq,psd,k); Mk2 = M(freq,psd,k+2);\n",
    "    E0 = np.sqrt(M2/M0);\n",
    "    Ep = np.sqrt(M4/M2);\n",
    "    r = E0/Ep;\n",
    "    zeta = (1/r)*((M2*Mk)/(M0*Mk2))**(m/2);\n",
    "    return DNB*zeta;"
   ]
  },
  {
   "cell_type": "code",
   "execution_count": 9,
   "metadata": {},
   "outputs": [],
   "source": [
    "def D_dirlik(freq,psd,m,T,C):\n",
    "    M0 = M(freq,psd,0);  M1 = M(freq,psd,1);  M2 = M(freq,psd,2);  M4 = M(freq,psd,4);\n",
    "    E0 = np.sqrt(M2/M0);\n",
    "    Ep = np.sqrt(M4/M2);\n",
    "    r = E0/Ep;    \n",
    "    Xm = (M1/M0)*np.sqrt(M2/M4);\n",
    "    Z = 1/np.sqrt(M0);\n",
    "    D1 = 2*(Xm-r**2)/(1+r**2);\n",
    "    R = (r-Xm-D1**2)/(1-r-D1+D1**2);\n",
    "    D2 = (1-r-D1+D1**2)/(1-R);\n",
    "    D3 = 1 - D1 - D2;\n",
    "    Q = 1.25*(r-D3-D2*R)/D1\n",
    "    def f(sa):\n",
    "        A1 = D1/(np.sqrt(M0)*Q);\n",
    "        A2 = D2*Z*sa/(np.sqrt(M0)*R**2);\n",
    "        A3 = D3*Z*sa/np.sqrt(M0);\n",
    "        a1 = -Z*sa/Q\n",
    "        a2 = -(Z**2)*(sa**2)/(2*R**2);\n",
    "        a3 = -(Z**2)*(sa**2)/2;\n",
    "        return A1*np.exp(a1) + A2*np.exp(a2) + A3*np.exp(a3);\n",
    "    def z(m):\n",
    "        mm = np.linspace(3,12,10);\n",
    "        zz = np.array([8.652,8.822,8.982,9.133,9.277,9.415,9.546,9.673,9.796,9.915]);\n",
    "        return np.interp(m,mm,zz);\n",
    "    LB = 0; UB = z(m)*np.sqrt(M0);\n",
    "    s = np.linspace(LB,UB,10000);\n",
    "    samfsa = (s**m)*f(s);\n",
    "    intsamfsa = np.trapz(samfsa,s);\n",
    "    return Ep*T*intsamfsa/C;"
   ]
  },
  {
   "cell_type": "code",
   "execution_count": 10,
   "metadata": {},
   "outputs": [],
   "source": [
    "def H(f,fn,zeta):   # Input : Acceleration / Output : Relative Displacement\n",
    "    return 386.4/(((np.pi)**2)*(fn**2-f**2+1j*2*zeta*f*fn));"
   ]
  },
  {
   "cell_type": "code",
   "execution_count": 11,
   "metadata": {},
   "outputs": [],
   "source": [
    "def HH(f,fn,zeta):   # Input : Acceleration / Output : Relative Displacement\n",
    "    return np.abs(H(f,fn,zeta)*np.conjugate(H(f,fn,zeta)));"
   ]
  },
  {
   "cell_type": "code",
   "execution_count": 12,
   "metadata": {},
   "outputs": [],
   "source": [
    "def FDS(fi,pi,zeta,m,T,C,model): \n",
    "    fn = np.logspace(0,3,5000);\n",
    "    D = np.zeros(len(fn));\n",
    "    for i in range(len(fn)):\n",
    "        K = 1\n",
    "        rpsd = pi*HH(fi,fn[i],zeta)*K;\n",
    "        if model == 1:\n",
    "            D[i] = D_NB(fi,rpsd,m=m,T=1,C=1);\n",
    "        if model == 2:\n",
    "            D[i] = D_WL(fi,rpsd,m=m,T=1,C=1);\n",
    "        if model == 3:\n",
    "            D[i] = D_OC(fi,rpsd,m=m,T=1,C=1);\n",
    "        if model == 4:\n",
    "            D[i] = D_dirlik(fi,rpsd,m=m,T=1,C=1);\n",
    "    return fn,D;"
   ]
  },
  {
   "cell_type": "code",
   "execution_count": 13,
   "metadata": {},
   "outputs": [
    {
     "name": "stdout",
     "output_type": "stream",
     "text": [
      "Note1 : PSD flie should be two column separated by one tab. first column : freq(Hz), second column : psd(g^2/Hz)\n",
      "\n",
      "Enter file name (i.g. psd.txt) : \n",
      "test_psd.txt\n",
      "Enter m value : \n",
      "3\n",
      "Enter duration(T) : \n",
      "1\n",
      "Enter C value : \n",
      "1\n",
      "Enter FDS calculation model (1=NB, 2=WL, 3=OC, 4=Dirlik) : 4\n",
      "Enter damping ratio : 0.02\n"
     ]
    }
   ],
   "source": [
    "print('Note1 : PSD flie should be two column separated by one tab. first column : freq(Hz), second column : psd(g^2/Hz)\\n')\n",
    "filename = input('Enter file name (e.g. psd.txt) : \\n');\n",
    "m = input('Enter m value : \\n'); m = float(m);\n",
    "T = input('Enter duration(T) : \\n'); T = float(T);\n",
    "C = input('Enter C value : \\n'); C = float(C);\n",
    "model = input('Enter FDS calculation model (1=NB, 2=WL, 3=OC, 4=Dirlik) : '); model = int(model); \n",
    "z = input('Enter damping ratio : '); z = float(z);"
   ]
  },
  {
   "cell_type": "code",
   "execution_count": 14,
   "metadata": {},
   "outputs": [],
   "source": [
    "freq_spec,psd_spec = fileI(filename);"
   ]
  },
  {
   "cell_type": "code",
   "execution_count": 16,
   "metadata": {},
   "outputs": [],
   "source": [
    "fi = np.linspace(min(freq_spec),max(freq_spec),10000);\n",
    "pi = log_interp(fi,freq_spec,psd_spec);"
   ]
  },
  {
   "cell_type": "code",
   "execution_count": 18,
   "metadata": {},
   "outputs": [],
   "source": [
    "fn,D  = FDS(fi    ,pi      ,zeta=z,m=m,T=T,C=C,model=model);"
   ]
  },
  {
   "cell_type": "code",
   "execution_count": 23,
   "metadata": {},
   "outputs": [
    {
     "data": {
      "image/png": "[encoded data removed]",
      "text/plain": [
       "<Figure size 432x288 with 1 Axes>"
      ]
     },
     "metadata": {
      "needs_background": "light"
     },
     "output_type": "display_data"
    }
   ],
   "source": [
    "plt.loglog(fn,D); plt.grid(); plt.xlabel('Natural Frequency(Hz)'); plt.ylabel('Damage');\n",
    "plt.title('Fatiague Damage Spectra (%.2f %% damping)'%(z));"
   ]
  },
  {
   "cell_type": "code",
   "execution_count": 24,
   "metadata": {},
   "outputs": [
    {
     "name": "stdout",
     "output_type": "stream",
     "text": [
      "Enter output file name (e.g. fds.txt)fds.txt\n",
      "fds.txt is generated.\n"
     ]
    }
   ],
   "source": [
    "outfilename = input('Enter output file name (e.g. fds.txt)');\n",
    "fileO(fn,D,outfilename);\n",
    "print(outfilename + ' is generated.');"
   ]
  }
 ],
 "metadata": {
  "kernelspec": {
   "display_name": "Python 3",
   "language": "python",
   "name": "python3"
  },
  "language_info": {
   "codemirror_mode": {
    "name": "ipython",
    "version": 3
   },
   "file_extension": ".py",
   "mimetype": "text/x-python",
   "name": "python",
   "nbconvert_exporter": "python",
   "pygments_lexer": "ipython3",
   "version": "3.8.3"
  }
 },
 "nbformat": 4,
 "nbformat_minor": 4
}
