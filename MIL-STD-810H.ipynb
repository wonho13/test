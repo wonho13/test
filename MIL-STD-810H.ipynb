{
 "cells": [
  {
   "cell_type": "markdown",
   "metadata": {},
   "source": [
    "## ANNEX F, APPENDIX E, THEORETICAL ASPECTS OF MAXIMUM RESPONSE"
   ]
  },
  {
   "cell_type": "markdown",
   "metadata": {},
   "source": [
    "## 1. INTRODUCTION"
   ]
  },
  {
   "cell_type": "markdown",
   "metadata": {},
   "source": [
    "SDOF 시스템에 진동이 가히질 때 시스템의 최대 응답은 결정론적 또는 확률론적으로 계산될 수 있으며, 이 값들은 'maximum' 또는 'extreme' 값이라고 부른다. 최대응답스펙트럼(MRS, maximum response spectrum)은 주어진 감쇠비 $\\zeta$에 대하여 SDOF 시스템의 최대 응답을 고유진동수이 대하여 나타낸 커브이다."
   ]
  },
  {
   "cell_type": "markdown",
   "metadata": {},
   "source": [
    "## 2. SINUSOIDAL EXCITATION"
   ]
  },
  {
   "cell_type": "markdown",
   "metadata": {},
   "source": [
    "다음과 같은 정현 가진이 있다고 하자."
   ]
  },
  {
   "cell_type": "markdown",
   "metadata": {},
   "source": [
    "$$\\ddot{x}(t)=\\ddot{x}_m(t)sin(2\\pi ft)$$"
   ]
  },
  {
   "cell_type": "markdown",
   "metadata": {},
   "source": [
    "SDOF 선형 시스템의 상대변위 응답 $z(t)$는 다음과 같다."
   ]
  },
  {
   "cell_type": "markdown",
   "metadata": {},
   "source": [
    "$$z(t)=\\frac{-\\ddot{x}(t)}{\\omega_0^2\\{[1-(\\frac{f}{f_0})^2]^2+4\\zeta^2(\\frac{f}{f_0})^2\\}^{\\frac{1}{2}}}$$"
   ]
  },
  {
   "cell_type": "markdown",
   "metadata": {},
   "source": [
    "주어진 $f$, $f_0$에 대하여 $z(t)$는 $\\ddot{x}(t)=\\ddot{x}(m)$에서 최대이다."
   ]
  },
  {
   "cell_type": "markdown",
   "metadata": {},
   "source": [
    "$$MRS=\\omega_0^2 z(t)=\\frac{-\\ddot{x}(m)}{\\{[1-(\\frac{f}{f_0})^2]^2+4\\zeta^2(\\frac{f}{f_0})^2\\}^{\\frac{1}{2}}}$$"
   ]
  },
  {
   "cell_type": "code",
   "execution_count": null,
   "metadata": {},
   "outputs": [],
   "source": []
  }
 ],
 "metadata": {
  "kernelspec": {
   "display_name": "Python 3",
   "language": "python",
   "name": "python3"
  },
  "language_info": {
   "codemirror_mode": {
    "name": "ipython",
    "version": 3
   },
   "file_extension": ".py",
   "mimetype": "text/x-python",
   "name": "python",
   "nbconvert_exporter": "python",
   "pygments_lexer": "ipython3",
   "version": "3.8.3"
  }
 },
 "nbformat": 4,
 "nbformat_minor": 4
}
