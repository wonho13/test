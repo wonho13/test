{
 "cells": [
  {
   "cell_type": "code",
   "execution_count": 22,
   "metadata": {},
   "outputs": [],
   "source": [
    "import numpy as np\n",
    "import matplotlib.pyplot as plt"
   ]
  },
  {
   "cell_type": "code",
   "execution_count": 59,
   "metadata": {},
   "outputs": [],
   "source": [
    "def G(x):\n",
    "    N = len(x);\n",
    "    Nf = int(N/2);\n",
    "    n = np.arange(N);\n",
    "    out = np.zeros(Nf);\n",
    "    out[0] = np.abs(np.sum(x[n])/N);\n",
    "    for k in range(1,Nf):\n",
    "        out[k] = 2*np.abs(np.sum(x[n]*np.exp(-1j*(2*np.pi/N)*n*k))/N);\n",
    "    return out;"
   ]
  },
  {
   "cell_type": "code",
   "execution_count": 60,
   "metadata": {},
   "outputs": [],
   "source": [
    "N = 16384; dt = 1/32; T = 512; df = 1/512;\n",
    "t = np.arange(N)*dt+dt\n",
    "th = np.sin(2*np.pi*1*t);"
   ]
  },
  {
   "cell_type": "code",
   "execution_count": 61,
   "metadata": {},
   "outputs": [],
   "source": [
    "freq = df + np.arange(int(N/2))*df;"
   ]
  },
  {
   "cell_type": "code",
   "execution_count": null,
   "metadata": {},
   "outputs": [],
   "source": [
    "plt.plot(freq,G(th));"
   ]
  },
  {
   "cell_type": "code",
   "execution_count": null,
   "metadata": {},
   "outputs": [],
   "source": []
  }
 ],
 "metadata": {
  "kernelspec": {
   "display_name": "Python 3",
   "language": "python",
   "name": "python3"
  },
  "language_info": {
   "codemirror_mode": {
    "name": "ipython",
    "version": 3
   },
   "file_extension": ".py",
   "mimetype": "text/x-python",
   "name": "python",
   "nbconvert_exporter": "python",
   "pygments_lexer": "ipython3",
   "version": "3.8.3"
  }
 },
 "nbformat": 4,
 "nbformat_minor": 4
}
