{
 "cells": [
  {
   "cell_type": "code",
   "execution_count": 1,
   "metadata": {},
   "outputs": [],
   "source": [
    "import numpy as np\n",
    "import matplotlib.pyplot as plt"
   ]
  },
  {
   "cell_type": "code",
   "execution_count": 2,
   "metadata": {},
   "outputs": [],
   "source": [
    "def blwn(fmin,fmax,bwp,loc):  # bwp : band width percentage # loc : location percentage\n",
    "    df = (fmax-fmin)*bwp;\n",
    "    f1 = fmin + loc*(fmax-fmin-df);\n",
    "    f2 = f1+df;\n",
    "    A = (100**2) / (f2-f1)    # grms = 100\n",
    "    freq = np.array([f1,f2]);\n",
    "    psd = np.array([A,A]);\n",
    "    return freq,psd;"
   ]
  },
  {
   "cell_type": "code",
   "execution_count": 3,
   "metadata": {},
   "outputs": [],
   "source": [
    "def unimodal(fmin,fmax,bwp,loc,fn1,zeta1):\n",
    "    df = (fmax-fmin)*bwp;\n",
    "    f1 = fmin + loc*(fmax-fmin-df);\n",
    "    f2 = f1+df;\n",
    "    f = np.linspace(f1,f2,5000);\n",
    "    A = fn1**4 + (2*zeta1*f*fn1)**2;\n",
    "    B = (fn1**2-f**2)**2 + (2*zeta1*f*fn1)**2;\n",
    "    out = A/B;\n",
    "    grms_tmp = np.sqrt(np.trapz(out,f));\n",
    "    out *= (10/grms_tmp)**2             # grms = 10\n",
    "    return f, out;"
   ]
  },
  {
   "cell_type": "code",
   "execution_count": 4,
   "metadata": {},
   "outputs": [],
   "source": [
    "def band_split(fi,pi,nb): # fi : interpolated freq, ai : interpolated psd, nb : # of bands\n",
    "    ni = len(fi);\n",
    "    grms = np.sqrt(np.trapz(pi,fi))\n",
    "    goal = grms/np.sqrt(nb);  # target grms\n",
    "    idx = np.zeros(nb+1,'int');\n",
    "    grms_tmp = 0;\n",
    "    for i in range(1,nb):\n",
    "        while(grms_tmp < goal):\n",
    "            idx[i] += 1;\n",
    "            grms_tmp = np.sqrt(np.trapz(pi[idx[i-1]:idx[i]],fi[idx[i-1]:idx[i]]));\n",
    "        grms_tmp1 = np.sqrt(np.trapz(pi[idx[i-1]:idx[i]-1],fi[idx[i-1]:idx[i]-1]));\n",
    "        if np.abs(grms_tmp1 - goal) < np.abs(grms_tmp - goal):\n",
    "            idx[i] += 1;\n",
    "        grms_tmp = 0; grms_tmp1 = 0;\n",
    "    idx[0] = 0; idx[nb] = len(pi);\n",
    "    dfi = []; dpi = [];\n",
    "    for i in range(nb):\n",
    "        dfi.append(fi[idx[i]:idx[i+1]+1]); dpi.append(pi[idx[i]:idx[i+1]+1]);\n",
    "    return dfi,dpi"
   ]
  },
  {
   "cell_type": "code",
   "execution_count": 5,
   "metadata": {},
   "outputs": [],
   "source": [
    "def log_interp(x,x_spec,y_spec):\n",
    "    return 10**np.interp(np.log10(x),np.log10(x_spec),np.log10(y_spec));"
   ]
  },
  {
   "cell_type": "code",
   "execution_count": 6,
   "metadata": {},
   "outputs": [],
   "source": [
    "fmin = 1; fmax = 5000; bwp = 1; loc = 0;\n",
    "freq,psd = blwn(fmin,fmax,bwp,loc);\n",
    "fi = np.linspace(fmin,fmax,50000);\n",
    "pi = log_interp(fi,freq,psd);\n",
    "nb = 2;\n",
    "dfi,dpi = band_split(fi,pi,nb);"
   ]
  },
  {
   "cell_type": "code",
   "execution_count": 7,
   "metadata": {},
   "outputs": [
    {
     "name": "stdout",
     "output_type": "stream",
     "text": [
      "freq range : 1.00 Hz ~ 2500.65 Hz, grms1 = 70.7128\n",
      "freq range : 2500.65 Hz ~ 5000.00 Hz, grms2 = 70.7086\n"
     ]
    },
    {
     "data": {
      "image/png": "[encoded data removed]",
      "text/plain": [
       "<Figure size 432x288 with 1 Axes>"
      ]
     },
     "metadata": {
      "needs_background": "light"
     },
     "output_type": "display_data"
    }
   ],
   "source": [
    "for i in range(nb):\n",
    "    plt.plot(dfi[i],dpi[i],label='band%d'%(i+1));\n",
    "    plt.legend();\n",
    "    print('freq range : %.2f Hz ~ %.2f Hz, grms%d = %.4f'%(min(dfi[i]),max(dfi[i]),i+1,np.sqrt(np.trapz(dpi[i],dfi[i]))));"
   ]
  },
  {
   "cell_type": "code",
   "execution_count": 8,
   "metadata": {},
   "outputs": [],
   "source": [
    "fmin = 1; fmax = 5000; bwp = 1; loc = 0;\n",
    "freq,psd = blwn(fmin,fmax,bwp,loc);\n",
    "fi = np.linspace(fmin,fmax,50000);\n",
    "pi = log_interp(fi,freq,psd);\n",
    "nb = 3;\n",
    "dfi,dpi = band_split(fi,pi,nb);"
   ]
  },
  {
   "cell_type": "code",
   "execution_count": 9,
   "metadata": {
    "scrolled": true
   },
   "outputs": [
    {
     "name": "stdout",
     "output_type": "stream",
     "text": [
      "freq range : 1.00 Hz ~ 1667.60 Hz, grms1 = 57.7396\n",
      "freq range : 1667.60 Hz ~ 3334.20 Hz, grms2 = 57.7396\n",
      "freq range : 3334.20 Hz ~ 5000.00 Hz, grms3 = 57.7258\n"
     ]
    },
    {
     "data": {
      "image/png": "[encoded data removed]",
      "text/plain": [
       "<Figure size 432x288 with 1 Axes>"
      ]
     },
     "metadata": {
      "needs_background": "light"
     },
     "output_type": "display_data"
    }
   ],
   "source": [
    "for i in range(nb):\n",
    "    plt.plot(dfi[i],dpi[i],label='band%d'%(i+1));\n",
    "    print('freq range : %.2f Hz ~ %.2f Hz, grms%d = %.4f'%(min(dfi[i]),max(dfi[i]),i+1,np.sqrt(np.trapz(dpi[i],dfi[i]))));"
   ]
  },
  {
   "cell_type": "code",
   "execution_count": 10,
   "metadata": {},
   "outputs": [],
   "source": [
    "fmin = 1; fmax = 5000; bwp = 1; loc = 0; fn1 = 3000; zeta1 = 0.1;\n",
    "freq,psd = unimodal(fmin,fmax,bwp,loc,fn1,zeta1);\n",
    "fi = np.linspace(fmin,fmax,50000);\n",
    "pi = log_interp(fi,freq,psd);\n",
    "nb = 2;\n",
    "dfi,dpi = band_split(fi,pi,nb);"
   ]
  },
  {
   "cell_type": "code",
   "execution_count": 11,
   "metadata": {},
   "outputs": [
    {
     "name": "stdout",
     "output_type": "stream",
     "text": [
      "freq range : 1.00 Hz ~ 2908.08 Hz, grms1 = 7.0731\n",
      "freq range : 2908.08 Hz ~ 5000.00 Hz, grms2 = 7.0690\n"
     ]
    },
    {
     "data": {
      "image/png": "[encoded data removed]",
      "text/plain": [
       "<Figure size 432x288 with 1 Axes>"
      ]
     },
     "metadata": {
      "needs_background": "light"
     },
     "output_type": "display_data"
    }
   ],
   "source": [
    "for i in range(nb):\n",
    "    plt.plot(dfi[i],dpi[i],label='band%d'%(i+1));\n",
    "    print('freq range : %.2f Hz ~ %.2f Hz, grms%d = %.4f'%(min(dfi[i]),max(dfi[i]),i+1,np.sqrt(np.trapz(dpi[i],dfi[i]))));"
   ]
  },
  {
   "cell_type": "code",
   "execution_count": 12,
   "metadata": {},
   "outputs": [],
   "source": [
    "fmin = 1; fmax = 5000; bwp = 1; loc = 0; fn1 = 3000; zeta1 = 0.1;\n",
    "freq,psd = unimodal(fmin,fmax,bwp,loc,fn1,zeta1);\n",
    "fi = np.linspace(fmin,fmax,50000);\n",
    "pi = log_interp(fi,freq,psd);\n",
    "nb = 3;\n",
    "dfi,dpi = band_split(fi,pi,nb);"
   ]
  },
  {
   "cell_type": "code",
   "execution_count": 13,
   "metadata": {},
   "outputs": [
    {
     "name": "stdout",
     "output_type": "stream",
     "text": [
      "freq range : 1.00 Hz ~ 2713.41 Hz, grms1 = 5.7743\n",
      "freq range : 2713.41 Hz ~ 3064.65 Hz, grms2 = 5.7758\n",
      "freq range : 3064.65 Hz ~ 5000.00 Hz, grms3 = 5.7704\n"
     ]
    },
    {
     "data": {
      "image/png": "[encoded data removed]",
      "text/plain": [
       "<Figure size 432x288 with 1 Axes>"
      ]
     },
     "metadata": {
      "needs_background": "light"
     },
     "output_type": "display_data"
    }
   ],
   "source": [
    "for i in range(nb):\n",
    "    plt.plot(dfi[i],dpi[i],label='band%d'%(i+1));\n",
    "    print('freq range : %.2f Hz ~ %.2f Hz, grms%d = %.4f'%(min(dfi[i]),max(dfi[i]),i+1,np.sqrt(np.trapz(dpi[i],dfi[i]))));"
   ]
  }
 ],
 "metadata": {
  "kernelspec": {
   "display_name": "Python 3",
   "language": "python",
   "name": "python3"
  },
  "language_info": {
   "codemirror_mode": {
    "name": "ipython",
    "version": 3
   },
   "file_extension": ".py",
   "mimetype": "text/x-python",
   "name": "python",
   "nbconvert_exporter": "python",
   "pygments_lexer": "ipython3",
   "version": "3.8.3"
  }
 },
 "nbformat": 4,
 "nbformat_minor": 2
}
