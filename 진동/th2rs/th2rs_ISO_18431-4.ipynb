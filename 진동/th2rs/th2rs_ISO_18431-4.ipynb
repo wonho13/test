{
 "cells": [
  {
   "cell_type": "markdown",
   "metadata": {},
   "source": [
    "## ISO 18431-4\n",
    "\n",
    "Shock Response Spectra 계산 Coefficient"
   ]
  },
  {
   "cell_type": "markdown",
   "metadata": {},
   "source": [
    "$y_n = b_0 \\cdot x_n + b_1 \\cdot x_{n-1} + b_2 \\cdot x_{n-2} - a_1 \\cdot y_{n-1} - a_2 \\cdot y_{n-2}$"
   ]
  },
  {
   "cell_type": "markdown",
   "metadata": {},
   "source": [
    "$b_0 = 1- exp(-A)\\cdot sin(B)/B$\n",
    "\n",
    "$b_1 = 2exp(-A)\\cdot {sin(B)/B - cos(B)}$\n",
    "\n",
    "$b_2 = exp(-2A)-exp(-A)\\cdot sin(B)/B$\n",
    "\n",
    "$a_1 = -2exp(-A)\\cdot cos(B)$\n",
    "\n",
    "$a_2 = exp(-2A)$\n",
    "\n",
    "$A = \\frac{\\omega_n \\cdot T}{2Q}$\n",
    "\n",
    "$B = \\omega_n \\cdot T \\cdot \\sqrt{1-\\frac{1}{4Q^2}}$"
   ]
  },
  {
   "cell_type": "code",
   "execution_count": 1,
   "metadata": {},
   "outputs": [],
   "source": [
    "import numpy as np\n",
    "import matplotlib.pyplot as plt\n",
    "from scipy.signal import lfilter"
   ]
  },
  {
   "cell_type": "code",
   "execution_count": null,
   "metadata": {},
   "outputs": [],
   "source": [
    "wd = wn*np.sqrt(1-zeta**2);\n",
    "A=wn*T*zeta;\n",
    "B=wd*T;\n",
    "\n",
    "b[0] = 1 - np.exp(-A)*np.sin(B)/Bl;\n",
    "b[1] = 2*np.exp(-A)*(sin(B)/B - cos(B));\n",
    "b[2] = np.exp(-2A) - np. exp(-A) * np.sin(B)/B;\n",
    "\n",
    "a[0] = 1;\n",
    "a[1] = -2*np.exp(-A)*cos(B);\n",
    "a[2] = np.exp(-2*A);"
   ]
  }
 ],
 "metadata": {
  "kernelspec": {
   "display_name": "Python 3",
   "language": "python",
   "name": "python3"
  },
  "language_info": {
   "codemirror_mode": {
    "name": "ipython",
    "version": 3
   },
   "file_extension": ".py",
   "mimetype": "text/x-python",
   "name": "python",
   "nbconvert_exporter": "python",
   "pygments_lexer": "ipython3",
   "version": "3.7.3"
  }
 },
 "nbformat": 4,
 "nbformat_minor": 2
}
