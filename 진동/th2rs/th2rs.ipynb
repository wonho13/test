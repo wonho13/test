{
 "cells": [
  {
   "cell_type": "code",
   "execution_count": 1,
   "metadata": {},
   "outputs": [],
   "source": [
    "import numpy as np\n",
    "import matplotlib.pyplot as plt\n",
    "from scipy.signal import lfilter"
   ]
  },
  {
   "cell_type": "code",
   "execution_count": 2,
   "metadata": {},
   "outputs": [],
   "source": [
    "# SDOF Transient Response (ISO 18431-4)\n",
    "# th_in : acceleration time history at base\n",
    "# th_out : acceleration time history at mass\n",
    "def SDOF_ISO(th_in,dt,fn,zeta):\n",
    "\n",
    "    wn = 2*np.pi*fn;\n",
    "    wd = wn*np.sqrt(1-zeta**2);\n",
    "    A=wn*dt*zeta;\n",
    "    B=wd*dt;\n",
    "    \n",
    "    a, b = np.zeros(3), np.zeros(3);\n",
    "\n",
    "    b[0] = 1 - np.exp(-A)*np.sin(B)/B;\n",
    "    b[1] = 2*np.exp(-A)*(np.sin(B)/B - np.cos(B));\n",
    "    b[2] = np.exp(-2*A) - np.exp(-A) * np.sin(B)/B;\n",
    "\n",
    "    a[0] = 1;\n",
    "    a[1] = -2*np.exp(-A)*np.cos(B);\n",
    "    a[2] = np.exp(-2*A);\n",
    "\n",
    "    th_out=lfilter(b, a, th_in, axis=-1, zi=None);\n",
    "    \n",
    "    return th_out;"
   ]
  },
  {
   "cell_type": "code",
   "execution_count": 3,
   "metadata": {},
   "outputs": [],
   "source": [
    "# SDOF Transient Response (Newmark)\n",
    "# th_in : acceleration time history at base\n",
    "# th_out : acceleration time history at mass\n",
    "def SDOF_newmark(th_in,dt,fn,zeta):\n",
    "    def newmark_parameter(dt):\n",
    "        r = 0.005; alpha = (1/4)*((1+r)**2); delta = 0.5 + r;\n",
    "        a = np.zeros(8);\n",
    "        a[0] = 1/(alpha*dt*dt); a[1] = delta/(alpha*dt); a[2] = 1/(alpha*dt); a[3] = 1/(2*alpha)-1;\n",
    "        a[4] = delta/alpha - 1; a[5] = (dt/2)*((delta/alpha)-2); a[6] = dt*(1-delta); a[7] = delta*dt;\n",
    "        return a;\n",
    "    def DERIV(X,Y):\n",
    "        N = len(Y); YY = np.zeros(N);\n",
    "        YY[0] = (Y[1]-Y[0])/(X[1]-X[0]); Y[N-1] = (Y[N-1]-Y[N-2])/(X[N-1]-X[N-2]);\n",
    "        for n in range(N-2):\n",
    "            YY[n+1] = (((Y[n+2]-Y[n+1])/(X[n+2]-X[n+1]))*(X[n+1]-X[n]) + ((Y[n+1]-Y[n])/(X[n+1]-X[n]))*(X[n+2]-X[n+1]))/(X[n+2]-X[n]);\n",
    "        return YY;\n",
    "    def INTEG(X,Y,C1):\n",
    "        N = len(Y); YY = np.zeros(N);\n",
    "        YY[0] = C1;\n",
    "        for n in range(1,N):\n",
    "            YY[n] = YY[n-1] + (1/2)*(Y[n]+Y[n-1])*(X[n]-X[n-1]);\n",
    "        return YY;      \n",
    "    a = newmark_parameter(dt);\n",
    "    u,v,ac = np.zeros(len(th_in)),np.zeros(len(th_in)),np.zeros(len(th_in));\n",
    "    ru,rv,rac = np.zeros(len(th_in)),np.zeros(len(th_in)),np.zeros(len(th_in));\n",
    "    N = len(th_in);\n",
    "    time = np.arange(N)*dt;\n",
    "    vth = INTEG(time,th_in,0); dth = INTEG(time,vth,0);\n",
    "    F = -th_in;\n",
    "    wn = 2*np.pi*fn; m = 1; c = 2*zeta*wn; k = wn**2;            \n",
    "    Fe = a[0]*m + a[1]*c + k;          \n",
    "    for n in range(len(th_in)-1):\n",
    "        ru[n+1] = (F[n+1] + m*(a[0]*ru[n]+a[2]*rv[n]+a[3]*rac[n])+c*(a[1]*ru[n]+a[4]*rv[n]+a[5]*rac[n]))/Fe;\n",
    "        rv[n+1] = a[1]*(ru[n+1]-ru[n]) - a[4]*rv[n] - a[5]*rac[n];\n",
    "        rac[n+1] = a[0]*(ru[n+1]-ru[n]) -a[2]*rv[n] - a[3]*rac[n];\n",
    "    th_out= rac + th_in;\n",
    "    return th_out"
   ]
  },
  {
   "cell_type": "code",
   "execution_count": 4,
   "metadata": {},
   "outputs": [],
   "source": [
    "# SDOF Transient Response (Smallwood)\n",
    "# th_in : acceleration time history at base\n",
    "# th_out : acceleration time history at mass\n",
    "# out_opt : 1 = absolute acceleration / 2 = relative displacement\n",
    "def SDOF_smallwood(th_in,dt,fn,zeta,out_opt):\n",
    "    \n",
    "    wn = 2*np.pi*fn;\n",
    "    wd = wn*np.sqrt(1-zeta**2);\n",
    "    a, b = np.zeros(3), np.zeros(3);\n",
    "    if out_opt ==1:\n",
    "        E = np.exp(-zeta*wn*dt);\n",
    "        K = dt*wd;\n",
    "        C = E*np.cos(K);\n",
    "        S = E*np.sin(K);\n",
    "        Sp = S/K;\n",
    "\n",
    "        b[0] = 1 - Sp;\n",
    "        b[1] = 2*(Sp-C);\n",
    "        b[2] = E**2 - Sp;\n",
    "\n",
    "        a[0] = 1;\n",
    "        a[1] = -2*C;\n",
    "        a[2] = E**2;\n",
    "\n",
    "        th_out=lfilter(b, a, th_in, axis=-1, zi=None);\n",
    "    else:\n",
    "        a[0] = 1;\n",
    "        a[1] = 2.*np.exp(-zeta*wn*dt);\n",
    "        a[2] = -np.exp(-2.*zeta*wn*dt);\n",
    "        \n",
    "        b[0] = 0;\n",
    "        b[1] = -(dt/wd)*np.exp(-zeta*wn*dt)*np.sin(wd*dt);\n",
    "        b[2] = 0;\n",
    "        \n",
    "        th_out=lfilter(b, a, th_in, axis=-1, zi=None);\n",
    "    return th_out;        "
   ]
  },
  {
   "cell_type": "code",
   "execution_count": 5,
   "metadata": {},
   "outputs": [],
   "source": [
    "# ft = freqeuncy table / th = input time history / damp = damping ratio \n",
    "# dt = integration time step (default = 1/(20*fmax))\n",
    "# input unit = base acceleration (g)\n",
    "# output unit = absolute acceleration (g) "
   ]
  },
  {
   "cell_type": "code",
   "execution_count": 6,
   "metadata": {},
   "outputs": [],
   "source": [
    "## SRS (Newmark Method)\n",
    "def srs_nm(ft,th,dr,dt):\n",
    "    nf = len(ft);\n",
    "    rs = np.zeros(nf);\n",
    "    for i in range(nf):\n",
    "        rs[i]= max(abs(SDOF_newmark(th,dt,ft[i],dr)));\n",
    "    return ft,rs;"
   ]
  },
  {
   "cell_type": "code",
   "execution_count": 7,
   "metadata": {},
   "outputs": [],
   "source": [
    "## SRS (Smallwood Method)\n",
    "def srs_sw(ft,th,dr,dt):\n",
    "    nf = len(ft);\n",
    "    rs = np.zeros(nf);\n",
    "    for i in range(nf):\n",
    "        rs[i]= max(abs(SDOF_smallwood(th,dt,ft[i],dr)));\n",
    "    return ft,rs;"
   ]
  },
  {
   "cell_type": "code",
   "execution_count": 8,
   "metadata": {},
   "outputs": [],
   "source": [
    "## SRS (ISO 18431-4)\n",
    "def srs_iso(ft,th,dr,dt):\n",
    "    nf = len(ft);\n",
    "    rs = np.zeros(nf);\n",
    "    for i in range(nf):\n",
    "        rs[i]= max(abs(SDOF_ISO(th,dt,ft[i],dr)));\n",
    "    return ft,rs;"
   ]
  },
  {
   "cell_type": "code",
   "execution_count": 9,
   "metadata": {},
   "outputs": [],
   "source": [
    "## Sample Time History\n",
    "ft = np.linspace(1,1000,1000)/10;  dt = 1/(20*max(ft));  damp = 0.01;\n",
    "t = np.arange(10001)*dt;\n",
    "gth = 10*np.sin(2*np.pi*t) + 13*np.sin(2*np.pi*3*t+np.pi/1.3) + 17*np.sin(2*np.pi*5*t+np.pi/1.7);"
   ]
  },
  {
   "cell_type": "code",
   "execution_count": 10,
   "metadata": {},
   "outputs": [],
   "source": [
    "freq,rs_nm = srs_nm(ft,gth,damp,dt);\n",
    "freq,rs_sw = srs_sw(ft,gth,damp,dt);\n",
    "freq,rs_iso = srs_iso(ft,gth,damp,dt);"
   ]
  },
  {
   "cell_type": "code",
   "execution_count": 12,
   "metadata": {},
   "outputs": [
    {
     "data": {
      "image/png": "[encoded data removed]",
      "text/plain": [
       "<Figure size 432x288 with 1 Axes>"
      ]
     },
     "metadata": {
      "needs_background": "light"
     },
     "output_type": "display_data"
    }
   ],
   "source": [
    "plt.plot(freq,rs_nm,'b-.'); \n",
    "plt.plot(freq,rs_sw,'r--'); \n",
    "plt.plot(freq,rs_iso,'g-');\n",
    "plt.xscale('log'); plt.yscale('log');\n",
    "plt.grid();"
   ]
  },
  {
   "cell_type": "code",
   "execution_count": null,
   "metadata": {},
   "outputs": [],
   "source": [
    "## Half Sine 예제 Exact Solution과 비교 추가"
   ]
  },
  {
   "cell_type": "code",
   "execution_count": null,
   "metadata": {},
   "outputs": [],
   "source": [
    "## Elcentro 예제 추가"
   ]
  }
 ],
 "metadata": {
  "kernelspec": {
   "display_name": "Python 3 (ipykernel)",
   "language": "python",
   "name": "python3"
  },
  "language_info": {
   "codemirror_mode": {
    "name": "ipython",
    "version": 3
   },
   "file_extension": ".py",
   "mimetype": "text/x-python",
   "name": "python",
   "nbconvert_exporter": "python",
   "pygments_lexer": "ipython3",
   "version": "3.9.7"
  }
 },
 "nbformat": 4,
 "nbformat_minor": 2
}
