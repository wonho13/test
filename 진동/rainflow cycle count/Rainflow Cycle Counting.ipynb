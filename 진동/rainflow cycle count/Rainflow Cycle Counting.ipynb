{
 "cells": [
  {
   "cell_type": "markdown",
   "metadata": {},
   "source": [
    "Rainflow Cycle Couting의 규칙은 다음과 같다."
   ]
  },
  {
   "cell_type": "markdown",
   "metadata": {},
   "source": [
    "1. Stress TH를 시계방향으로 90도 회전\n",
    "\n",
    "2. Positive Peak, Negative VAlley에서 출발\n",
    "\n",
    "3. Peak에서 출발한 경우, 출발점 값보다 큰 Peak 만나면 Stop\n",
    "\n",
    "4. Valley에서 출발한 경우, 출발점 값보다 큰 Valley 만나면 Stop\n",
    "\n",
    "5. 위에서 내려오는 Flow 만나면 Stop (1cycle)"
   ]
  },
  {
   "cell_type": "markdown",
   "metadata": {},
   "source": [
    "### 예시"
   ]
  },
  {
   "cell_type": "markdown",
   "metadata": {},
   "source": [
    "<img src='fig1.png'>"
   ]
  },
  {
   "cell_type": "code",
   "execution_count": 1,
   "metadata": {},
   "outputs": [],
   "source": [
    "import numpy as np\n",
    "import matplotlib.pyplot as plt\n",
    "import rainflow"
   ]
  },
  {
   "cell_type": "code",
   "execution_count": 2,
   "metadata": {},
   "outputs": [
    {
     "data": {
      "image/png": "[encoded data removed]",
      "text/plain": [
       "<Figure size 432x288 with 1 Axes>"
      ]
     },
     "metadata": {
      "needs_background": "light"
     },
     "output_type": "display_data"
    }
   ],
   "source": [
    "th = np.array([0,3,-3,5,1,3,-4,-2,-3,0]);\n",
    "plt.plot(th,'k-'); plt.ylim(-6,6);\n",
    "plt.yticks(np.arange(-5,6,1)); plt.xticks(np.arange(0,10,1));\n",
    "plt.grid(which='both')"
   ]
  },
  {
   "cell_type": "markdown",
   "metadata": {},
   "source": [
    "<img src='fig2.png'>"
   ]
  },
  {
   "cell_type": "markdown",
   "metadata": {},
   "source": [
    "**절차**\n",
    "\n",
    "1. O -> A : O보다 큰 B에서 Stop\n",
    "\n",
    "2. A -> B : A보다 큰 C에서 Stop\n",
    "\n",
    "3. B -> C : B보다 큰 F에서 Stop\n",
    "\n",
    "4. C -> F : C보다 큰 값 Peak 없으므로 끝까지 진행\n",
    "\n",
    "5. D -> E : D는 Positive Valley이므로 진행 X\n",
    "\n",
    "6. E : 위에서 내려오는 Flow 만나 Stop\n",
    "\n",
    "7. F -> I : F보다 큰 값 Valley 없으므로 끝까지 진행\n",
    "\n",
    "8. G -> H : G는 Negative Peak이므로 진행 X\n",
    "\n",
    "9. H : 위에서 내려오는 Flow 만나 Stop"
   ]
  },
  {
   "cell_type": "markdown",
   "metadata": {},
   "source": [
    "|     | O-A | A-B | B-C | C-F | E- | F-I | H- |\n",
    "|-----|-----|-----|-----|-----|----|-----|----|\n",
    "| Cycle | 0.5 | 0.5 | 0.5 | 0.5 | 1 | 0.5 | 1 |\n",
    "| Range | 3 | 6 | 8 | 9 | 2 | 4 | 1 |\n",
    "| Mean | +1.5 | 0 | +1 | +0.5 | +2 | -2 | -2.5 |"
   ]
  },
  {
   "cell_type": "code",
   "execution_count": 3,
   "metadata": {},
   "outputs": [],
   "source": [
    "rcc = rainflow.count_cycles(th);"
   ]
  },
  {
   "cell_type": "code",
   "execution_count": 4,
   "metadata": {},
   "outputs": [],
   "source": [
    "rang, cycle = np.zeros(len(rcc)),np.zeros(len(rcc));\n",
    "for i in range(len(rcc)):\n",
    "    rang[i] = rcc[i][0];\n",
    "    cycle[i] = rcc[i][1];"
   ]
  },
  {
   "cell_type": "code",
   "execution_count": 5,
   "metadata": {},
   "outputs": [
    {
     "data": {
      "text/plain": [
       "array([1. , 1. , 0.5, 0.5, 0.5, 0.5, 0.5])"
      ]
     },
     "execution_count": 5,
     "metadata": {},
     "output_type": "execute_result"
    }
   ],
   "source": [
    "cycle"
   ]
  },
  {
   "cell_type": "code",
   "execution_count": 6,
   "metadata": {},
   "outputs": [
    {
     "data": {
      "text/plain": [
       "array([1., 2., 3., 4., 6., 8., 9.])"
      ]
     },
     "execution_count": 6,
     "metadata": {},
     "output_type": "execute_result"
    }
   ],
   "source": [
    "rang"
   ]
  }
 ],
 "metadata": {
  "kernelspec": {
   "display_name": "Python 3",
   "language": "python",
   "name": "python3"
  },
  "language_info": {
   "codemirror_mode": {
    "name": "ipython",
    "version": 3
   },
   "file_extension": ".py",
   "mimetype": "text/x-python",
   "name": "python",
   "nbconvert_exporter": "python",
   "pygments_lexer": "ipython3",
   "version": "3.8.3"
  }
 },
 "nbformat": 4,
 "nbformat_minor": 4
}
