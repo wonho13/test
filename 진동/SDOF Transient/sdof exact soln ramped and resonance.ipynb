{
 "cells": [
  {
   "cell_type": "markdown",
   "id": "9433845b",
   "metadata": {},
   "source": [
    "## 1. Ramped Force Case"
   ]
  },
  {
   "cell_type": "markdown",
   "id": "7a72d5ae",
   "metadata": {},
   "source": [
    "$m\\ddot{x}+c\\dot{x}+kx=p_0+\\alpha t$"
   ]
  },
  {
   "cell_type": "markdown",
   "id": "4d41bbf4",
   "metadata": {},
   "source": [
    "### 1.1 transient solution"
   ]
  },
  {
   "cell_type": "markdown",
   "id": "c6bc103f",
   "metadata": {},
   "source": [
    "$x_t=e^{-\\zeta \\omega_n t}(Asin(\\omega_d t)+Bcos(\\omega_d t))$"
   ]
  },
  {
   "cell_type": "markdown",
   "id": "86a7e511",
   "metadata": {},
   "source": [
    "### 1.2 steady state solution"
   ]
  },
  {
   "cell_type": "markdown",
   "id": "f0db12f6",
   "metadata": {},
   "source": [
    "$x_s=at+b$"
   ]
  },
  {
   "cell_type": "markdown",
   "id": "02569b8f",
   "metadata": {},
   "source": [
    "$ac+kat+kb=p_0+\\alpha t$"
   ]
  },
  {
   "cell_type": "markdown",
   "id": "9dd60b56",
   "metadata": {},
   "source": [
    "양변의 차수별 각 항을 비교"
   ]
  },
  {
   "cell_type": "markdown",
   "id": "a2c07ea1",
   "metadata": {},
   "source": [
    "$a=\\frac{\\alpha}{k}$"
   ]
  },
  {
   "cell_type": "markdown",
   "id": "61553a05",
   "metadata": {},
   "source": [
    "$ac+kb=p_0$"
   ]
  },
  {
   "cell_type": "markdown",
   "id": "9200f0aa",
   "metadata": {},
   "source": [
    "$\\frac{\\alpha c}{k}+kb=p_0$"
   ]
  },
  {
   "cell_type": "markdown",
   "id": "fbed5718",
   "metadata": {},
   "source": [
    "$b=\\frac{k p_0 - \\alpha c}{k^2}$"
   ]
  },
  {
   "cell_type": "markdown",
   "id": "375e2986",
   "metadata": {},
   "source": [
    "$x_s=\\frac{\\alpha k t + kp_0-\\alpha c}{k^2}$"
   ]
  },
  {
   "cell_type": "markdown",
   "id": "f3d257e6",
   "metadata": {},
   "source": [
    "$x=x_t+x_s=e^{-\\zeta \\omega_n t}(Asin(\\omega_d t)+Bcos(\\omega_d t))+\\frac{\\alpha k t+ k p_0-\\alpha c}{k^2}$"
   ]
  },
  {
   "cell_type": "markdown",
   "id": "c98aad75",
   "metadata": {},
   "source": [
    "### 1.3 initial conditions"
   ]
  },
  {
   "cell_type": "markdown",
   "id": "4bae4fb8",
   "metadata": {},
   "source": [
    "$x_0=B+\\frac{kp_0-\\alpha c}{k^2}$"
   ]
  },
  {
   "cell_type": "markdown",
   "id": "efa3d36b",
   "metadata": {},
   "source": [
    "$\\dot{x}_0=-\\zeta \\omega_n B + \\omega_d A + \\frac{\\alpha}{k}$"
   ]
  },
  {
   "cell_type": "markdown",
   "id": "1fb8d636",
   "metadata": {},
   "source": [
    "$B=x_0+\\frac{2 \\alpha \\zeta}{k \\omega_n}-\\frac{p_0}{k}$"
   ]
  },
  {
   "cell_type": "markdown",
   "id": "c196c07f",
   "metadata": {},
   "source": [
    "$A=\\frac{1}{\\omega_d}(\\dot{x}_0+\\zeta \\omega_n B-\\frac{\\alpha}{k})$"
   ]
  },
  {
   "cell_type": "markdown",
   "id": "8b4327b7",
   "metadata": {},
   "source": [
    "## 2. Resonance Case"
   ]
  },
  {
   "cell_type": "markdown",
   "id": "b77cc2b9",
   "metadata": {},
   "source": [
    "$m\\ddot{x}+c\\dot{x}+kx=F sin(\\omega_n t)$"
   ]
  },
  {
   "cell_type": "markdown",
   "id": "e3fadd57",
   "metadata": {},
   "source": [
    "### 2.1 transient solution"
   ]
  },
  {
   "cell_type": "markdown",
   "id": "ba29c69d",
   "metadata": {},
   "source": [
    "$x_t=e^{-\\zeta \\omega_n t}(Asin(\\omega_d t)+Bcos(\\omega_d t))$"
   ]
  },
  {
   "cell_type": "markdown",
   "id": "1bbc10db",
   "metadata": {},
   "source": [
    "### 2.2 steady state solution"
   ]
  },
  {
   "cell_type": "markdown",
   "id": "61cdd97b",
   "metadata": {},
   "source": [
    "$x_s=Asin(\\omega_n t)+Bcos(\\omega_n t)$"
   ]
  },
  {
   "cell_type": "markdown",
   "id": "fcf3aae1",
   "metadata": {},
   "source": [
    "$\\dot{x}=\\omega_n(Acos(\\omega_n t)-Bsin(\\omega_n t))$"
   ]
  },
  {
   "cell_type": "markdown",
   "id": "da4f226e",
   "metadata": {},
   "source": [
    "$\\ddot{x}=-\\omega_n^2(Asin(\\omega_n t)+B cos(\\omega_n t))$"
   ]
  },
  {
   "cell_type": "markdown",
   "id": "4d80c601",
   "metadata": {},
   "source": [
    "$sin(\\omega_n t)(-m\\omega_n^2 A-c\\omega_n B+ kA) + cos(\\omega_n t)(-m\\omega_n^2 B+ c \\omega_n A + k B) = F sin(\\omega_n t)$"
   ]
  },
  {
   "cell_type": "markdown",
   "id": "b926ba5b",
   "metadata": {},
   "source": [
    "$-c\\omega_n B= F$"
   ]
  },
  {
   "cell_type": "markdown",
   "id": "97279bcd",
   "metadata": {},
   "source": [
    "$c \\omega_n A= 0$"
   ]
  },
  {
   "cell_type": "markdown",
   "id": "92ab696b",
   "metadata": {},
   "source": [
    "$x_s=-\\frac{F}{c\\omega_n}cos(\\omega_n t)$"
   ]
  },
  {
   "cell_type": "markdown",
   "id": "7daeeb8d",
   "metadata": {},
   "source": [
    "$x=x_t+x_s=e^{-\\zeta \\omega_n t}(Asin(\\omega_d t)+Bcos(\\omega_d t))-\\frac{F}{c\\omega_n}cos(\\omega_n t)$"
   ]
  },
  {
   "cell_type": "markdown",
   "id": "684ea846",
   "metadata": {},
   "source": [
    "### 2.3 initial conditions"
   ]
  },
  {
   "cell_type": "markdown",
   "id": "82570bc4",
   "metadata": {},
   "source": [
    "$x_0=B-\\frac{F}{c\\omega_n}$"
   ]
  },
  {
   "cell_type": "markdown",
   "id": "dbd02872",
   "metadata": {},
   "source": [
    "$\\dot{x}_0=-\\zeta \\omega_n B+ \\omega_d A$"
   ]
  },
  {
   "cell_type": "markdown",
   "id": "2d7fa580",
   "metadata": {},
   "source": [
    "$x_0=\\dot{x}_0=0$ 인 경우,"
   ]
  },
  {
   "cell_type": "markdown",
   "id": "7598f96e",
   "metadata": {},
   "source": [
    "$B=\\frac{F}{c\\omega_n}$"
   ]
  },
  {
   "cell_type": "markdown",
   "id": "64026166",
   "metadata": {},
   "source": [
    "$A=\\frac{\\zeta F}{c \\omega_d}$"
   ]
  },
  {
   "cell_type": "code",
   "execution_count": null,
   "id": "f2eec88d",
   "metadata": {},
   "outputs": [],
   "source": []
  }
 ],
 "metadata": {
  "kernelspec": {
   "display_name": "Python 3 (ipykernel)",
   "language": "python",
   "name": "python3"
  },
  "language_info": {
   "codemirror_mode": {
    "name": "ipython",
    "version": 3
   },
   "file_extension": ".py",
   "mimetype": "text/x-python",
   "name": "python",
   "nbconvert_exporter": "python",
   "pygments_lexer": "ipython3",
   "version": "3.9.7"
  },
  "widgets": {
   "application/vnd.jupyter.widget-state+json": {
    "state": {},
    "version_major": 2,
    "version_minor": 0
   }
  }
 },
 "nbformat": 4,
 "nbformat_minor": 5
}
