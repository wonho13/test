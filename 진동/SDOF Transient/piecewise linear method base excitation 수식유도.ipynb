{
 "cells": [
  {
   "cell_type": "markdown",
   "metadata": {},
   "source": [
    "### 0. Governing Equation (SDOF Base Excitation)"
   ]
  },
  {
   "cell_type": "markdown",
   "metadata": {},
   "source": [
    "$m\\ddot{x}+c(\\dot{x}-\\dot{y})+k(x-y)=0$"
   ]
  },
  {
   "cell_type": "markdown",
   "metadata": {},
   "source": [
    "$z=x-y$"
   ]
  },
  {
   "cell_type": "markdown",
   "metadata": {},
   "source": [
    "$m\\ddot{z}+c\\dot{z}+kz=-m\\ddot{y}$"
   ]
  },
  {
   "cell_type": "markdown",
   "metadata": {},
   "source": [
    "$\\ddot{z}+2\\zeta\\omega_n\\dot{z}+\\omega_n^2z=-\\ddot{y} \\tag{1}$"
   ]
  },
  {
   "cell_type": "markdown",
   "metadata": {},
   "source": [
    "$where, \\ddot{y}=y_0+\\alpha t$"
   ]
  },
  {
   "cell_type": "markdown",
   "metadata": {},
   "source": [
    "### 1. Transient solution"
   ]
  },
  {
   "cell_type": "markdown",
   "metadata": {},
   "source": [
    "$z_t=e^{-\\zeta \\omega_n t}(Asin(\\omega_d t)+Bcos(\\omega_d t))$"
   ]
  },
  {
   "cell_type": "markdown",
   "metadata": {},
   "source": [
    "###  2. Steady state solution"
   ]
  },
  {
   "cell_type": "markdown",
   "metadata": {},
   "source": [
    "$z_s=at+b$"
   ]
  },
  {
   "cell_type": "markdown",
   "metadata": {},
   "source": [
    "$z_s$를 식(1)에 대입"
   ]
  },
  {
   "cell_type": "markdown",
   "metadata": {},
   "source": [
    "$2\\zeta\\omega_n a+\\omega_n^2(at+b)=y_0+\\alpha t$"
   ]
  },
  {
   "cell_type": "markdown",
   "metadata": {},
   "source": [
    "양변에서 t에 대한 차수별 각 항을 비교"
   ]
  },
  {
   "cell_type": "markdown",
   "metadata": {},
   "source": [
    "$a=\\frac{\\alpha}{\\omega_n^2}$"
   ]
  },
  {
   "cell_type": "markdown",
   "metadata": {},
   "source": [
    "$2\\zeta\\omega_na+\\omega_n^2b=y_0$"
   ]
  },
  {
   "cell_type": "markdown",
   "metadata": {},
   "source": [
    "$b=\\frac{1}{\\omega_n^2}(y_0-\\frac{2\\zeta\\alpha}{\\omega_n})$"
   ]
  },
  {
   "cell_type": "markdown",
   "metadata": {},
   "source": [
    "$z_s = \\frac{\\alpha t+ y_0 - 2\\zeta \\alpha/\\omega_n}{\\omega_n^2}$"
   ]
  },
  {
   "cell_type": "markdown",
   "metadata": {},
   "source": [
    "$z=z_t+z_s=e^{-\\zeta \\omega_n t}(Asin(\\omega_d t)+Bcos(\\omega_d t))+\\frac{\\alpha t+ y_0 - 2\\zeta \\alpha/\\omega_n}{\\omega_n^2}$"
   ]
  },
  {
   "cell_type": "markdown",
   "metadata": {},
   "source": [
    "### 3. initial conditions"
   ]
  },
  {
   "cell_type": "code",
   "execution_count": null,
   "metadata": {},
   "outputs": [],
   "source": []
  }
 ],
 "metadata": {
  "kernelspec": {
   "display_name": "Python 3",
   "language": "python",
   "name": "python3"
  },
  "language_info": {
   "codemirror_mode": {
    "name": "ipython",
    "version": 3
   },
   "file_extension": ".py",
   "mimetype": "text/x-python",
   "name": "python",
   "nbconvert_exporter": "python",
   "pygments_lexer": "ipython3",
   "version": "3.7.4"
  }
 },
 "nbformat": 4,
 "nbformat_minor": 2
}
