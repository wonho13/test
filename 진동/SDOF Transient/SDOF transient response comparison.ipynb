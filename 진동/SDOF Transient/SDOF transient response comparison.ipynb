{
 "cells": [
  {
   "cell_type": "markdown",
   "id": "d79237c6",
   "metadata": {},
   "source": [
    "## 1. piecewise exact method"
   ]
  },
  {
   "cell_type": "code",
   "execution_count": null,
   "id": "cc2094bb",
   "metadata": {},
   "outputs": [],
   "source": []
  },
  {
   "cell_type": "markdown",
   "id": "0bf568d4",
   "metadata": {},
   "source": [
    "## 2. central difference method"
   ]
  },
  {
   "cell_type": "code",
   "execution_count": null,
   "id": "5b834574",
   "metadata": {},
   "outputs": [],
   "source": []
  },
  {
   "cell_type": "markdown",
   "id": "d167a6df",
   "metadata": {},
   "source": [
    "## 3. integration methods"
   ]
  },
  {
   "cell_type": "markdown",
   "id": "959ef181",
   "metadata": {},
   "source": [
    "### 3.1 constant acceleration method"
   ]
  },
  {
   "cell_type": "markdown",
   "id": "035835cc",
   "metadata": {},
   "source": [
    "### 3.2 linear acceleration method"
   ]
  },
  {
   "cell_type": "markdown",
   "id": "3a9567fb",
   "metadata": {},
   "source": [
    "### 3.3 Newmark beta method"
   ]
  },
  {
   "cell_type": "code",
   "execution_count": null,
   "id": "fdf57113",
   "metadata": {},
   "outputs": [],
   "source": []
  }
 ],
 "metadata": {
  "kernelspec": {
   "display_name": "Python 3 (ipykernel)",
   "language": "python",
   "name": "python3"
  },
  "language_info": {
   "codemirror_mode": {
    "name": "ipython",
    "version": 3
   },
   "file_extension": ".py",
   "mimetype": "text/x-python",
   "name": "python",
   "nbconvert_exporter": "python",
   "pygments_lexer": "ipython3",
   "version": "3.9.7"
  }
 },
 "nbformat": 4,
 "nbformat_minor": 5
}
