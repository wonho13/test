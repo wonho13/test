{
 "cells": [
  {
   "cell_type": "markdown",
   "metadata": {},
   "source": [
    "임의가진에 대한 1자유도(SDOF) 시스템의 과도응답을 수치적으로 계산하는 방법들에 대해 알아보자."
   ]
  },
  {
   "cell_type": "markdown",
   "metadata": {},
   "source": [
    "SDOF 시스템의 지배방정식은 다음과 같다."
   ]
  },
  {
   "cell_type": "markdown",
   "metadata": {},
   "source": [
    "$m\\ddot{x}(t) + c \\dot{x}(t) + kx(t) = F(t)\\tag{1}$"
   ]
  },
  {
   "cell_type": "markdown",
   "metadata": {},
   "source": [
    "식 (1)을 수치적으로 푸는 방법들을 알아보고, 방법들의 정확도를 비교해보도록 하자."
   ]
  },
  {
   "cell_type": "markdown",
   "metadata": {},
   "source": [
    "## 1. piecewise exact method (piecewise linear method)"
   ]
  },
  {
   "cell_type": "markdown",
   "metadata": {},
   "source": [
    "아래 그림1과 같은 하중이 가해진다고 생각해 보자. 파랑선은 실제 하중이고, 빨간선은 수치계산을 위해 임의의 시간간격으로 하중 값을 추출한 것이다.\n",
    "piecewise exact method는 추출한 하중점 사이를 선형(linear)이라 가정한다. 그리고 각 시간간격에서 사다리꼴 형태의 하중이 가해졌을 때(식(2))의 exact solution (식(3))을 적용한다."
   ]
  },
  {
   "cell_type": "code",
   "execution_count": 1,
   "metadata": {},
   "outputs": [],
   "source": [
    "import numpy as np\n",
    "import matplotlib.pyplot as plt\n",
    "t = np.linspace(0,5,1000);\n",
    "plt.plot(t,np.sin(t),'b-'); plt.ylim([-1.2,1.2])\n",
    "plt.title('Figure 1. Transient Force');\n",
    "t1 = np.linspace(0,5,6);\n",
    "plt.plot(t1,np.sin(t1),'r.-');\n",
    "plt.grid();"
   ]
  },
  {
   "cell_type": "markdown",
   "metadata": {},
   "source": [
    "$$F(\\tau) = F_0 + \\alpha \\tau, \\;\\; (0 \\leq \\tau \\leq h) \\tag{2}$$"
   ]
  },
  {
   "cell_type": "markdown",
   "metadata": {},
   "source": [
    "where,\n",
    "\n",
    "$h$ : 고려하는 시간 간격\n",
    "\n",
    "$\\alpha = \\frac{F(h)-F(0)}{h}$"
   ]
  },
  {
   "cell_type": "markdown",
   "metadata": {},
   "source": [
    "$$x(t) = e^{-\\zeta \\omega_n t} \\{A sin(\\omega_d t) + B cos(\\omega_d t)\\} + (\\alpha k t + k F_0 - \\alpha c)/k^2 \\tag{3}$$"
   ]
  },
  {
   "cell_type": "markdown",
   "metadata": {},
   "source": [
    "where,\n",
    "\n",
    "$\\zeta$ : damping ratio\n",
    "\n",
    "$\\omega_n$ : natural frequency\n",
    "\n",
    "$\\omega_d = \\omega_n \\sqrt{1-\\zeta^2}$ : damped natural frequency\n",
    "\n",
    "$k$ : stiffness coefficient\n",
    "\n",
    "$c$ : damping coefficient\n",
    "\n",
    "$\\alpha = \\frac{F(t_2) - F(t_1)}{\\Delta t}$"
   ]
  },
  {
   "cell_type": "markdown",
   "metadata": {},
   "source": [
    "식(3)에 계수 $A, B$는 초기조건을 통해 계산할 수 있으며 다음과 같다."
   ]
  },
  {
   "cell_type": "markdown",
   "metadata": {},
   "source": [
    "$$A = \\left(\\dot{x}_0+\\zeta \\omega_n B - \\frac{\\delta(\\Delta_{st})}{h} \\right)\\frac{1}{\\omega_d}$$"
   ]
  },
  {
   "cell_type": "markdown",
   "metadata": {},
   "source": [
    "$$ B = x_0 + \\frac{2\\zeta}{\\omega}\\frac{\\delta(\\Delta_{st})}{h} - \\Delta_{st}$$"
   ]
  },
  {
   "cell_type": "markdown",
   "metadata": {},
   "source": [
    "where,\n",
    "\n",
    "$\\Delta_{st} = \\frac{F(0)}{k}$\n",
    "\n",
    "$\\delta(\\Delta_{st}) = \\frac{F(h)-F(0)}{k}$"
   ]
  },
  {
   "cell_type": "markdown",
   "metadata": {},
   "source": [
    "식(3)에 $t = h$를 대입하면 최종적으로 다음 식을 얻는다."
   ]
  },
  {
   "cell_type": "markdown",
   "metadata": {},
   "source": [
    "$$x(h) = A S_{\\zeta,h} + B C_{\\zeta, h} + (\\Delta_{st} + \\delta (\\Delta_{st})) - \\frac{2\\zeta}{\\omega_n} \\frac{\\delta (\\Delta_{st})}{h}$$"
   ]
  },
  {
   "cell_type": "markdown",
   "metadata": {},
   "source": [
    "$$\\dot{x}(h) = A(\\omega_d C_{\\zeta,h} - \\zeta \\omega_n S_{\\zeta,h}) - B (\\zeta \\omega_n C_{\\zeta,h} + \\omega_d S_{\\zeta, h}) + \\frac{\\delta (\\Delta_{st})}{h} $$"
   ]
  },
  {
   "cell_type": "markdown",
   "metadata": {},
   "source": [
    "where,\n",
    "\n",
    "$S_{\\zeta, h} = e^{-\\zeta \\omega_n h} sin(\\omega_d h)$\n",
    "\n",
    "$C_{\\zeta, h} = e^{-\\zeta \\omega_n h} cos(\\omega_d h)$"
   ]
  },
  {
   "cell_type": "markdown",
   "metadata": {},
   "source": [
    "### 예제 - piece wise exact method "
   ]
  },
  {
   "cell_type": "markdown",
   "metadata": {},
   "source": [
    "공진조건에서 SDOF 변위응답은 다음과 같다."
   ]
  },
  {
   "cell_type": "markdown",
   "metadata": {},
   "source": [
    "$$x(t) = \\Delta_{st}\\left( e^{-\\zeta \\omega_n t}(\\frac{sin(\\omega_d t)}{2\\sqrt{1-\\zeta^2}}+\\frac{cos(\\omega_d t)}{2\\zeta}) - \\frac{cos(\\omega_n t)}{2\\zeta} \\right)$$"
   ]
  },
  {
   "cell_type": "markdown",
   "metadata": {},
   "source": [
    "다음과 같은 시스템 변수 및 하중 조건을 고려해보자."
   ]
  },
  {
   "cell_type": "markdown",
   "metadata": {},
   "source": [
    "$m = 1000 \\;kg$\n",
    "\n",
    "$k = 4 \\pi^2 1000 \\;N/m$\n",
    "\n",
    "$\\omega_n = 2\\pi$\n",
    "\n",
    "$\\zeta = 0.05$\n",
    "\n",
    "$F(t) = 4 \\pi^2 5 sin(2\\pi t)\\; N$\n",
    "\n"
   ]
  },
  {
   "cell_type": "code",
   "execution_count": 2,
   "metadata": {},
   "outputs": [],
   "source": [
    "def F(t):\n",
    "    return 4*np.pi*np.pi*5*np.sin(2*np.pi*t);"
   ]
  },
  {
   "cell_type": "code",
   "execution_count": 12,
   "metadata": {},
   "outputs": [],
   "source": [
    "def x_exact(t,m,k,wn,zeta):\n",
    "    Dst = F(0)/k; wd = wn*np.sqrt(1-zeta**2);\n",
    "    return (5/1000)*(np.exp(-zeta*wn*t)*(np.sin(wd*t)/(2*np.sqrt(1-zeta**2)) + np.cos(wd*t)/(2*zeta) ) - np.cos(wn*t)/(2*zeta));"
   ]
  },
  {
   "cell_type": "code",
   "execution_count": 13,
   "metadata": {},
   "outputs": [],
   "source": [
    "m = 1000; k = 4*np.pi*np.pi*1000; wn = 2*np.pi; zeta = 0.05;"
   ]
  },
  {
   "cell_type": "code",
   "execution_count": 14,
   "metadata": {},
   "outputs": [],
   "source": [
    "t = np.linspace(0,2,1000);\n",
    "x1 = x_exact(t,m,k,wn,zeta); "
   ]
  },
  {
   "cell_type": "code",
   "execution_count": 15,
   "metadata": {},
   "outputs": [
    {
     "data": {
      "text/plain": [
       "0.0"
      ]
     },
     "execution_count": 15,
     "metadata": {},
     "output_type": "execute_result"
    }
   ],
   "source": [
    "F(0)/k"
   ]
  },
  {
   "cell_type": "code",
   "execution_count": 16,
   "metadata": {},
   "outputs": [
    {
     "data": {
      "image/png": "[encoded data removed]",
      "text/plain": [
       "<Figure size 432x288 with 1 Axes>"
      ]
     },
     "metadata": {
      "needs_background": "light"
     },
     "output_type": "display_data"
    }
   ],
   "source": [
    "plt.plot(t,x1,'r-',label='Exact');"
   ]
  },
  {
   "cell_type": "markdown",
   "metadata": {},
   "source": [
    "## 2. central difference method"
   ]
  },
  {
   "cell_type": "code",
   "execution_count": null,
   "metadata": {},
   "outputs": [],
   "source": []
  },
  {
   "cell_type": "markdown",
   "metadata": {},
   "source": [
    "## 3. integration methods"
   ]
  },
  {
   "cell_type": "markdown",
   "metadata": {},
   "source": [
    "### 3.1 constant acceleration method"
   ]
  },
  {
   "cell_type": "markdown",
   "metadata": {},
   "source": [
    "### 3.2 linear acceleration method"
   ]
  },
  {
   "cell_type": "markdown",
   "metadata": {},
   "source": [
    "### 3.3 Newmark beta method"
   ]
  },
  {
   "cell_type": "code",
   "execution_count": null,
   "metadata": {},
   "outputs": [],
   "source": []
  }
 ],
 "metadata": {
  "kernelspec": {
   "display_name": "Python 3",
   "language": "python",
   "name": "python3"
  },
  "language_info": {
   "codemirror_mode": {
    "name": "ipython",
    "version": 3
   },
   "file_extension": ".py",
   "mimetype": "text/x-python",
   "name": "python",
   "nbconvert_exporter": "python",
   "pygments_lexer": "ipython3",
   "version": "3.7.4"
  }
 },
 "nbformat": 4,
 "nbformat_minor": 5
}
