{
 "cells": [
  {
   "cell_type": "code",
   "execution_count": 2,
   "metadata": {},
   "outputs": [
    {
     "name": "stdout",
     "output_type": "stream",
     "text": [
      "r=0.0050 a = 0.2525 d = 0.5050\n"
     ]
    }
   ],
   "source": [
    "r=0.005; a = (1/4)*(1+r)**2; d = 1/2 + r;\n",
    "print('r=%.4f a = %.4f d = %.4f'%(r,a,d));"
   ]
  },
  {
   "cell_type": "code",
   "execution_count": 3,
   "metadata": {},
   "outputs": [],
   "source": [
    "import numpy as np\n",
    "import matplotlib.pyplot as plt\n",
    "from scipy.signal import lfilter"
   ]
  },
  {
   "cell_type": "markdown",
   "metadata": {},
   "source": [
    "## 1. Recursive Filter Method"
   ]
  },
  {
   "cell_type": "markdown",
   "metadata": {},
   "source": [
    "## 1.1 Convolution Integral Method"
   ]
  },
  {
   "cell_type": "markdown",
   "metadata": {},
   "source": [
    "$\\ddot{x}_n = b_0 \\cdot \\ddot{y}_n + b_1 \\cdot \\ddot{y}_{n-1} + b_2 \\cdot \\ddot{y}_{n-2} - a_1 \\cdot \\ddot{x}_{n-1} - a_2 \\cdot \\ddot{x}_{n-2}$"
   ]
  },
  {
   "cell_type": "markdown",
   "metadata": {},
   "source": [
    "$b_0=2\\zeta\\omega_n\\Delta t$\n",
    "\n",
    "$b_1=\\omega_n\\Delta t exp[-\\zeta\\omega_n\\Delta t]\\left\\{ \\left[ \\frac{\\omega_n}{\\omega_d}(1-2\\zeta^2) \\right]sin[\\omega_d \\Delta t]-2\\zeta cos[\\omega_d \\Delta t] \\right\\}$\n",
    "\n",
    "$b_2 = 0$\n",
    "\n",
    "$a_1 = -2exp[-\\zeta\\omega_n\\Delta t]cos[\\omega_d\\Delta t]$\n",
    "\n",
    "$a_2 = exp[-2\\zeta\\omega_n\\Delta t]$"
   ]
  },
  {
   "cell_type": "code",
   "execution_count": 4,
   "metadata": {},
   "outputs": [],
   "source": [
    "# th_in : acceleration time history at base\n",
    "# th_out : acceleration time history at mass\n",
    "def SDOF_conv(th_in,dt,fn,zeta): # Kelly-Richman\n",
    "\n",
    "    wn = 2*np.pi*fn;\n",
    "    wd = wn*np.sqrt(1-zeta**2);\n",
    "    \n",
    "    a, b = np.zeros(3), np.zeros(3);\n",
    "\n",
    "    b[0] = 2*zeta*wn*dt;\n",
    "    b[1] = wn*dt*np.exp(-zeta*wn*dt)*((wn/wd)*(1-2*zeta**2)*np.sin(wd*dt)-2*zeta*np.cos(wd*dt));\n",
    "    b[2] = 0;\n",
    "\n",
    "    a[0] = 1\n",
    "    a[1] = -2*np.exp(-zeta*wn*dt)*np.cos(wd*dt);\n",
    "    a[2] = np.exp(-2*zeta*wn*dt);\n",
    "\n",
    "    th_out=lfilter(b, a, th_in, axis=-1, zi=None);\n",
    "    \n",
    "    return th_out;"
   ]
  },
  {
   "cell_type": "markdown",
   "metadata": {},
   "source": [
    "## 1.2 Ramp Invariant Method (ISO 18431-4)\n",
    "\n",
    "Shock Response Spectra 계산 Coefficient"
   ]
  },
  {
   "cell_type": "markdown",
   "metadata": {},
   "source": [
    "$\\ddot{x}_n = b_0 \\cdot \\ddot{y}_n + b_1 \\cdot \\ddot{y}_{n-1} + b_2 \\cdot \\ddot{y}_{n-2} - a_1 \\cdot \\ddot{x}_{n-1} - a_2 \\cdot \\ddot{x}_{n-2}$"
   ]
  },
  {
   "cell_type": "markdown",
   "metadata": {},
   "source": [
    "$b_0 = 1- exp(-A)\\cdot sin(B)/B$\n",
    "\n",
    "$b_1 = 2exp(-A)\\cdot {sin(B)/B - cos(B)}$\n",
    "\n",
    "$b_2 = exp(-2A)-exp(-A)\\cdot sin(B)/B$\n",
    "\n",
    "$a_1 = -2exp(-A)\\cdot cos(B)$\n",
    "\n",
    "$a_2 = exp(-2A)$\n",
    "\n",
    "$A = \\frac{\\omega_n \\cdot T}{2Q}$\n",
    "\n",
    "$B = \\omega_n \\cdot T \\cdot \\sqrt{1-\\frac{1}{4Q^2}}$"
   ]
  },
  {
   "cell_type": "code",
   "execution_count": 5,
   "metadata": {},
   "outputs": [],
   "source": [
    "# th_in : acceleration time history at base\n",
    "# th_out : acceleration time history at mass\n",
    "def SDOF_ISO(th_in,dt,fn,zeta): \n",
    "\n",
    "    wn = 2*np.pi*fn;\n",
    "    wd = wn*np.sqrt(1-zeta**2);\n",
    "    A=wn*dt*zeta;\n",
    "    B=wd*dt;\n",
    "    \n",
    "    a, b = np.zeros(3), np.zeros(3);\n",
    "\n",
    "    b[0] = 1 - np.exp(-A)*np.sin(B)/B;\n",
    "    b[1] = 2*np.exp(-A)*(np.sin(B)/B - np.cos(B));\n",
    "    b[2] = np.exp(-2*A) - np.exp(-A) * np.sin(B)/B;\n",
    "\n",
    "    a[0] = 1;\n",
    "    a[1] = -2*np.exp(-A)*np.cos(B);\n",
    "    a[2] = np.exp(-2*A);\n",
    "\n",
    "    th_out=lfilter(b, a, th_in, axis=-1, zi=None);\n",
    "    \n",
    "    return th_out;"
   ]
  },
  {
   "cell_type": "code",
   "execution_count": 6,
   "metadata": {},
   "outputs": [],
   "source": [
    "# th_in : acceleration time history at base\n",
    "# th_out : acceleration time history at mass\n",
    "def SDOF_ramp_invariant(th_in,dt,fn,zeta): # Smallwood\n",
    "    \n",
    "    wn = 2*np.pi*fn;\n",
    "    wd = wn*np.sqrt(1-zeta**2);\n",
    "    E = np.exp(-zeta*wn*dt);\n",
    "    K = dt*wd;\n",
    "    C = E*np.cos(K);\n",
    "    S = E*np.sin(K);\n",
    "    Sp = S/K;\n",
    "    \n",
    "    a, b = np.zeros(3), np.zeros(3);\n",
    "\n",
    "    b[0] = 1 - Sp;\n",
    "    b[1] = 2*(Sp-C);\n",
    "    b[2] = E**2 - Sp;\n",
    "\n",
    "    a[0] = 1;\n",
    "    a[1] = -2*C;\n",
    "    a[2] = E**2;\n",
    "\n",
    "    th_out=lfilter(b, a, th_in, axis=-1, zi=None);\n",
    "    \n",
    "    return th_out;        "
   ]
  },
  {
   "cell_type": "markdown",
   "metadata": {},
   "source": [
    "## 2. Exact Solution Method"
   ]
  },
  {
   "cell_type": "markdown",
   "metadata": {},
   "source": [
    "## 2.1 Duhamel's Integral Method"
   ]
  },
  {
   "cell_type": "markdown",
   "metadata": {},
   "source": [
    "$$x_i=\\frac{e^{-\\zeta \\omega t_i}}{m\\omega_d}[A_D(t_i)sin\\omega_d t_i - B_D(t_i) cos\\omega_d t_i]$$"
   ]
  },
  {
   "cell_type": "markdown",
   "metadata": {},
   "source": [
    "$$\\dot{x}_i=\\frac{e^{-\\zeta \\omega t_i}}{m \\omega_d}\\left\\{ \\left[ \\omega_d B_D(t_i) - \\zeta \\omega A_D(t_i) \\right]sin\\omega_d t_i + \\left[ \\omega_d A_D(t_i) + \\zeta\\omega B_D(t_i) \\right]cos\\omega_d t_i \\right\\}$$"
   ]
  },
  {
   "cell_type": "markdown",
   "metadata": {},
   "source": [
    "$$\\ddot{x}_i=\\frac{1}{m}(P_i-c\\dot{x}_i-kx_i)$$"
   ]
  },
  {
   "cell_type": "markdown",
   "metadata": {},
   "source": [
    "where,"
   ]
  },
  {
   "cell_type": "markdown",
   "metadata": {},
   "source": [
    "$$A_D(t_i)=A_D(t_{i-1})+\\left[P(t_{i-1})-t_{i-1}\\frac{\\Delta P_i}{\\Delta t}\\right]I_1+\\frac{\\Delta P_i}{\\Delta t}I_4$$"
   ]
  },
  {
   "cell_type": "markdown",
   "metadata": {},
   "source": [
    "$$B_D(t_i)=B_D(t_{i-1})+\\left[P(t_{i-1})-t_{i-1}\\frac{\\Delta P_i}{\\Delta t}\\right]I_2 + \\frac{\\Delta P_i}{\\Delta t}I_3$$"
   ]
  },
  {
   "cell_type": "markdown",
   "metadata": {},
   "source": [
    "$$I_1=\\int_{t_{i-1}}^{t_i} e^{\\zeta \\omega \\tau}cos\\omega_d\\tau d\\tau=\n",
    "\\frac{e^{\\zeta \\omega \\tau}}{(\\zeta \\omega)^2+\\omega_d^2}\n",
    "(\\zeta\\omega cos\\omega_d\\tau+\\omega_d sin\\omega_d\\tau)|_{t_{i-1}}^{t_i}\n",
    "$$"
   ]
  },
  {
   "cell_type": "markdown",
   "metadata": {},
   "source": [
    "$$I_2\n",
    "=\\int_{t_{i-1}}^{t_i} e^{\\zeta \\omega \\tau}sin\\omega_d\\tau d\\tau=\n",
    "\\frac{e^{\\zeta \\omega \\tau}}{(\\zeta \\omega)^2+\\omega_d^2}\n",
    "(\\zeta\\omega sin\\omega_d\\tau-\\omega_d cos\\omega_d\\tau)|_{t_{i-1}}^{t_i}\n",
    "$$"
   ]
  },
  {
   "cell_type": "markdown",
   "metadata": {},
   "source": [
    "$$I_3=\n",
    "\\int_{t_{i-1}}^{t_i}\\tau e^{\\zeta \\omega\\tau}sin\\omega_d\\tau d\\tau\n",
    "=\\left[\\tau-\\frac{\\zeta\\omega}{(\\zeta\\omega)^2+\\omega_d^2}\\right] I_2^{'}\n",
    "+\\frac{\\omega_d}{(\\zeta\\omega_d)^2+\\omega_d^2}I_1^{'}|_{t_{i-1}}^{t_i}\n",
    "$$"
   ]
  },
  {
   "cell_type": "markdown",
   "metadata": {},
   "source": [
    "$$I_4=\n",
    "\\int_{t_{i-1}}^{t_i}\\tau e^{\\zeta \\omega\\tau}cos\\omega_d\\tau d\\tau\n",
    "=\\left[\\tau-\\frac{\\zeta\\omega}{(\\zeta\\omega)^2+\\omega_d^2}\\right] I_1^{'}\n",
    "+\\frac{\\omega_d}{(\\zeta\\omega_d)^2+\\omega_d^2}I_2^{'}|_{t_{i-1}}^{t_i}\n",
    "$$"
   ]
  },
  {
   "cell_type": "markdown",
   "metadata": {},
   "source": [
    "$I_1^{'}$, $I_2^{'}$는 $I_1$, $I_2$ 적분 식에서 한계 값을 적용하지 않은 것을 의미"
   ]
  },
  {
   "cell_type": "code",
   "execution_count": 7,
   "metadata": {},
   "outputs": [],
   "source": [
    "# th_in : acceleration time history at base\n",
    "# th_out : acceleration time history at mass\n",
    "def SDOF_duhamel(th_in,dt,fn,zeta):\n",
    "    def Ad(Ad0,P0,t,dt,dP,I1,I4):\n",
    "        return Ad0+(P0-(t-dt)*(dP/dt))*I1+(dP/dt)*I4;\n",
    "    def Bd(Bd0,P0,t,dt,dP,I2,I3):\n",
    "        return Bd0+(P0-(t-dt)*(dP/dt))*I2+(dP/dt)*I3;\n",
    "    def I1p(zeta,wn,t):\n",
    "        wd = wn*np.sqrt(1-zeta**2);\n",
    "        return (np.exp(zeta*wn*t)/((zeta*wn)**2+wd**2))*(zeta*wn*np.cos(wd*t)+wd*np.sin(wd*t));\n",
    "    def I2p(zeta,wn,t):\n",
    "        wd = wn*np.sqrt(1-zeta**2);\n",
    "        return (np.exp(zeta*wn*t)/((zeta*wn)**2+wd**2))*(zeta*wn*np.sin(wd*t)-wd*np.cos(wd*t));\n",
    "    def I3p(zeta,wn,t):\n",
    "        wd = wn*np.sqrt(1-zeta**2);\n",
    "        return (t-((zeta*wn)/((zeta*wn)**2+wd**2)))*I2p(zeta,wn,t)+(wd/((zeta*wd)**2+wd**2))*I1p(zeta,wn,t);\n",
    "    def I4p(zeta,wn,t):\n",
    "        wd = wn*np.sqrt(1-zeta**2);\n",
    "        return (t-((zeta*wn)/((zeta*wn)**2+wd**2)))*I1p(zeta,wn,t)+(wd/((zeta*wd)**2+wd**2))*I2p(zeta,wn,t);    \n",
    "    u,v,ac = np.zeros(len(th_in)),np.zeros(len(th_in)),np.zeros(len(th_in));\n",
    "    ru,rv,rac = np.zeros(len(th_in)),np.zeros(len(th_in)),np.zeros(len(th_in));\n",
    "    N = len(th_in);\n",
    "    t = np.arange(N)*dt; wn = 2*np.pi*fn; wd = wn*np.sqrt(1-zeta**2);\n",
    "    m = 1; c = 2*zeta*wn; k = wn**2;   \n",
    "    P = -th_in;\n",
    "    Ad0 = np.zeros(len(th_in)); Bd0 = np.zeros(len(th_in));\n",
    "    for n in range(len(th_in)-1):\n",
    "        I1 = I1p(zeta,wn,t[n+1])-I1p(zeta,wn,t[n]); \n",
    "        I2 = I2p(zeta,wn,t[n+1])-I2p(zeta,wn,t[n]);\n",
    "        I3 = I3p(zeta,wn,t[n+1])-I3p(zeta,wn,t[n]); \n",
    "        I4 = I4p(zeta,wn,t[n+1])-I4p(zeta,wn,t[n]);\n",
    "        Ad0[n+1] = Ad(Ad0[n],P[n],t[n+1],dt,P[n+1]-P[n],I1,I4); Bd0[n+1] = Bd(Bd0[n],P[n],t[n+1],dt,P[n+1]-P[n],I2,I3);    \n",
    "        ru[n+1] = (np.exp(-zeta*wn*t[n+1])/(m*wd))*(Ad0[n+1]*np.sin(wd*t[n+1])-Bd0[n+1]*np.cos(wd*t[n+1]));\n",
    "        rv[n+1] = (np.exp(-zeta*wn*t[n+1])/(m*wd))*((wd*Bd0[n+1]-zeta*wn*Ad0[n+1])*np.sin(wd*t[n+1])+(wd*Ad0[n+1]+zeta*wn*Bd0[n+1])*np.cos(wd*t[n+1]));\n",
    "        rac[n+1] = (1/m)*(P[n+1]-c*rv[n+1]-k*ru[n+1]);\n",
    "    th_out= rac + th_in;\n",
    "    return th_out;"
   ]
  },
  {
   "cell_type": "markdown",
   "metadata": {},
   "source": [
    "## 2.2 Piecewise Linear Method (Piecewise Exact Method)"
   ]
  },
  {
   "cell_type": "markdown",
   "metadata": {},
   "source": [
    "$u_{i+1}=Ap_i+Bp_{i+1}+Cu_i+D\\dot{u}_i$\n",
    "\n",
    "$\\dot{u}_{i+1}=A' p_i + B' p_{i+1} + C' u_i + D' \\dot{u}_i$"
   ]
  },
  {
   "cell_type": "markdown",
   "metadata": {},
   "source": [
    "$A=\\frac{1}{k\\omega_d h}\\left\\{e^{-\\beta h}\\left[\\left(\\frac{w_d^2-\\beta^2}{w_n^2}-\\beta h\\right)sin\\omega_d h-\\left(\\frac{2\\omega_d \\beta}{\\omega_n^2}+\\omega_d h\\right)cos\\omega_d h\\right]+\\frac{2\\beta\\omega_d}{\\omega_n^2}\\right\\}$"
   ]
  },
  {
   "cell_type": "markdown",
   "metadata": {},
   "source": [
    "$B=\\frac{1}{k\\omega_d h}\\left[e^{-\\beta h}\\left(-\\frac{\\omega_d^2-\\beta^2}{\\omega_n^2}sin\\omega_d h + \\frac{2\\omega_d\\beta}{\\omega_n^2}cos\\omega_d h \\right) + \\omega_d h - \\frac{2\\beta \\omega_d}{\\omega_n^2} \\right]$"
   ]
  },
  {
   "cell_type": "markdown",
   "metadata": {},
   "source": [
    "$C=e^{-\\beta h}\\left(cos\\omega_d h + \\frac{\\beta}{\\omega_d}sin\\omega_d h\\right)$"
   ]
  },
  {
   "cell_type": "markdown",
   "metadata": {},
   "source": [
    "$D = \\frac{1}{\\omega_d}e^{-\\beta h}sin\\omega_d h$"
   ]
  },
  {
   "cell_type": "markdown",
   "metadata": {},
   "source": [
    "$A'=\\frac{1}{k\\omega_d h}\\{e^{-\\beta h}[(\\beta+\\omega_n^2 h)sin\\omega_d h + \\omega_d cos\\omega_d h]-\\omega_d\\}$"
   ]
  },
  {
   "cell_type": "markdown",
   "metadata": {},
   "source": [
    "$B'=\\frac{1}{k\\omega_d h}[-e^{-\\beta h}(\\beta sin\\omega_d h + \\omega_d cos\\omega_d h)+\\omega_d]$"
   ]
  },
  {
   "cell_type": "markdown",
   "metadata": {},
   "source": [
    "$C'=-\\frac{\\omega_n^2}{\\omega_d}e^{-\\beta h}sin\\omega_d h$"
   ]
  },
  {
   "cell_type": "markdown",
   "metadata": {},
   "source": [
    "$D'=e^{-\\beta h}\\left( cos\\omega_d h - \\frac{\\beta}{\\omega_d}sin\\omega_d h \\right)$"
   ]
  },
  {
   "cell_type": "markdown",
   "metadata": {},
   "source": [
    "$where\\;\\beta=\\zeta\\omega_n\\;and\\;h=\\Delta t$"
   ]
  },
  {
   "cell_type": "code",
   "execution_count": 8,
   "metadata": {},
   "outputs": [],
   "source": [
    "# th_in : acceleration time history at base\n",
    "# th_out : acceleration time history at mass\n",
    "def SDOF_pl(th_in,dt,fn,zeta): #piecewise linear method\n",
    "    wn = 2*np.pi*fn; wd = wn*np.sqrt(1-zeta**2);\n",
    "    m = 1; c = 2*zeta*wn; k = wn**2;   \n",
    "    b = zeta*wn; h = dt;\n",
    "    P = -th_in;\n",
    "    ru,rv,rac = np.zeros(len(th_in)),np.zeros(len(th_in)),np.zeros(len(th_in));\n",
    "    A = (1/(k*wd*h))*((np.exp(-b*h))*(((wd**2-b**2)/wn**2 - b*h)*np.sin(wd*h)-(2*wd*b/wn**2+wd*h)*np.cos(wd*h))+(2*b*wd/wn**2))\n",
    "    B = (1/(k*wd*h))*(np.exp(-b*h)*(-((wd**2-b**2)/wn**2)*np.sin(wd*h)+(2*wd*b/wn**2)*np.cos(wd*h))+wd*h-(2*b*wd/wn**2));\n",
    "    C = np.exp(-b*h)*(np.cos(wd*h)+(b/wd)*np.sin(wd*h));\n",
    "    D = (1/wd)*np.exp(-b*h)*np.sin(wd*h);\n",
    "    Ap = (1/(k*wd*h))*(np.exp(-b*h)*((b+wn**2*h)*np.sin(wd*h)+wd*np.cos(wd*h))-wd);\n",
    "    Bp = (1/(k*wd*h))*(-np.exp(-b*h)*(b*np.sin(wd*h)+wd*np.cos(wd*h))+wd);\n",
    "    Cp = -(wn**2/wd)*np.exp(-b*h)*np.sin(wd*h);\n",
    "    Dp = np.exp(-b*h)*(np.cos(wd*h)-(b/wd)*np.sin(wd*h));    \n",
    "    for n in range(len(th_in)-1):\n",
    "        ru[n+1] = A*P[n] + B*P[n+1] + C*ru[n] + D*rv[n];\n",
    "        rv[n+1] = Ap*P[n] + Bp*P[n+1] + Cp*ru[n] + Dp*rv[n];\n",
    "        rac[n+1] = (1/m)*(P[n+1]-c*rv[n+1]-k*ru[n+1]);\n",
    "    th_out= rac + th_in;\n",
    "    return th_out"
   ]
  },
  {
   "cell_type": "markdown",
   "metadata": {},
   "source": [
    "## 3. Explicit Method"
   ]
  },
  {
   "cell_type": "markdown",
   "metadata": {},
   "source": [
    "## 3.1 Central Difference Method"
   ]
  },
  {
   "cell_type": "markdown",
   "metadata": {},
   "source": [
    "$$\\bar{k}x_{i+1} = \\bar{P}_i$$"
   ]
  },
  {
   "cell_type": "markdown",
   "metadata": {},
   "source": [
    "$$\\bar{k}=\\frac{m}{\\Delta t^2}+\\frac{c}{2\\Delta t}\\$$"
   ]
  },
  {
   "cell_type": "markdown",
   "metadata": {},
   "source": [
    "$$\\bar{P_i}=P_i-\\left(\\frac{m}{\\Delta t^2}-\\frac{c}{2\\Delta t}\\right)x_{i-1} - \\left(k-\\frac{2m}{\\Delta t^2}\\right) x_i$$"
   ]
  },
  {
   "cell_type": "markdown",
   "metadata": {},
   "source": [
    "$$\\dot{x}_i = \\frac{x_{i+1}-x_{i-1}}{2\\Delta t}$$"
   ]
  },
  {
   "cell_type": "markdown",
   "metadata": {},
   "source": [
    "$$ \\ddot{x}_i = \\frac{x_{i+1}-2x_i + x_{t-1}}{\\Delta t^2}$$"
   ]
  },
  {
   "cell_type": "code",
   "execution_count": 9,
   "metadata": {},
   "outputs": [],
   "source": [
    "# th_in : acceleration time history at base\n",
    "# th_out : acceleration time history at mass\n",
    "def SDOF_cd(th_in,dt,fn,zeta): # central difference method\n",
    "    ru,rv,rac = np.zeros(len(th_in)),np.zeros(len(th_in)),np.zeros(len(th_in));\n",
    "    N = len(th_in);\n",
    "    time = np.arange(N)*dt;\n",
    "    P = -th_in;\n",
    "    wn = 2*np.pi*fn; m = 1; c = 2*zeta*wn; k = wn**2;            \n",
    "    Ke = kb = (m/dt/dt) + c/dt/2;          \n",
    "    for n in range(len(th_in)-2):\n",
    "        Pe = P[n+1] - (m/dt/dt-c/2/dt)*ru[n] - (k-2*m/dt/dt)*ru[n+1];\n",
    "        ru[n+2] = Pe/Ke;\n",
    "        rv[n+1] = (ru[n+2] - ru[n])/(2*dt);\n",
    "        rac[n+1] = (ru[n+2]-2*ru[n+1]+ru[n])/(dt*dt);\n",
    "    th_out= rac + th_in;\n",
    "    return th_out"
   ]
  },
  {
   "cell_type": "markdown",
   "metadata": {},
   "source": [
    "## 4. Direct Integration Method"
   ]
  },
  {
   "cell_type": "markdown",
   "metadata": {},
   "source": [
    "## 4.1 Newmark $\\beta$ Method"
   ]
  },
  {
   "cell_type": "code",
   "execution_count": 10,
   "metadata": {},
   "outputs": [],
   "source": [
    "# th_in : acceleration time history at base\n",
    "# th_out : acceleration time history at mass\n",
    "def SDOF_newmark(th_in,dt,fn,zeta):\n",
    "    def newmark_parameter(dt):\n",
    "        r = 0.005; alpha = (1/4)*((1+r)**2); delta = 0.5 + r;\n",
    "        a = np.zeros(8);\n",
    "        a[0] = 1/(alpha*dt*dt); a[1] = delta/(alpha*dt); a[2] = 1/(alpha*dt); a[3] = 1/(2*alpha)-1;\n",
    "        a[4] = delta/alpha - 1; a[5] = (dt/2)*((delta/alpha)-2); a[6] = dt*(1-delta); a[7] = delta*dt;\n",
    "        return a;\n",
    "    def DERIV(X,Y):\n",
    "        N = len(Y); YY = np.zeros(N);\n",
    "        YY[0] = (Y[1]-Y[0])/(X[1]-X[0]); Y[N-1] = (Y[N-1]-Y[N-2])/(X[N-1]-X[N-2]);\n",
    "        for n in range(N-2):\n",
    "            YY[n+1] = (((Y[n+2]-Y[n+1])/(X[n+2]-X[n+1]))*(X[n+1]-X[n]) + ((Y[n+1]-Y[n])/(X[n+1]-X[n]))*(X[n+2]-X[n+1]))/(X[n+2]-X[n]);\n",
    "        return YY;\n",
    "    def INTEG(X,Y,C1):\n",
    "        N = len(Y); YY = np.zeros(N);\n",
    "        YY[0] = C1;\n",
    "        for n in range(1,N):\n",
    "            YY[n] = YY[n-1] + (1/2)*(Y[n]+Y[n-1])*(X[n]-X[n-1]);\n",
    "        return YY;      \n",
    "    a = newmark_parameter(dt);\n",
    "    u,v,ac = np.zeros(len(th_in)),np.zeros(len(th_in)),np.zeros(len(th_in));\n",
    "    ru,rv,rac = np.zeros(len(th_in)),np.zeros(len(th_in)),np.zeros(len(th_in));\n",
    "    N = len(th_in);\n",
    "    time = np.arange(N)*dt;\n",
    "    vth = INTEG(time,th_in,0); dth = INTEG(time,vth,0);\n",
    "    F = -th_in;\n",
    "    wn = 2*np.pi*fn; m = 1; c = 2*zeta*wn; k = wn**2;            \n",
    "    Fe = a[0]*m + a[1]*c + k;          \n",
    "    for n in range(len(th_in)-1):\n",
    "        ru[n+1] = (F[n+1] + m*(a[0]*ru[n]+a[2]*rv[n]+a[3]*rac[n])+c*(a[1]*ru[n]+a[4]*rv[n]+a[5]*rac[n]))/Fe;\n",
    "        rv[n+1] = a[1]*(ru[n+1]-ru[n]) - a[4]*rv[n] - a[5]*rac[n];\n",
    "        rac[n+1] = a[0]*(ru[n+1]-ru[n]) -a[2]*rv[n] - a[3]*rac[n];\n",
    "    th_out= rac + th_in;\n",
    "    return th_out"
   ]
  },
  {
   "cell_type": "markdown",
   "metadata": {},
   "source": [
    "## 4.2 Wilson's $\\theta$ Method"
   ]
  },
  {
   "cell_type": "markdown",
   "metadata": {},
   "source": [
    "$$f_i(t_i)+f_c(t_i)+f_k(t_i)=P(t_i)\\tag{25}$$"
   ]
  },
  {
   "cell_type": "markdown",
   "metadata": {},
   "source": [
    "$$f_i(t_i+\\theta \\Delta t)+f_c(t_i+\\theta \\Delta t)+f_k(t_i+\\theta \\Delta t)=P(t_i+\\theta \\Delta t)\\tag{26}$$"
   ]
  },
  {
   "cell_type": "markdown",
   "metadata": {},
   "source": [
    "식26에서 식25를 빼면 다음과 같다."
   ]
  },
  {
   "cell_type": "markdown",
   "metadata": {},
   "source": [
    "$$\\hat{\\Delta}f_i+\\hat{\\Delta}f_c+\\hat{\\Delta}f_k=\\hat{\\Delta}P\\tag{27}$$"
   ]
  },
  {
   "cell_type": "markdown",
   "metadata": {},
   "source": [
    "여기서 $\\hat{\\Delta}f_i=f_i(t_i+\\theta\\Delta t)-f_i(t_i)\\tag{28}$"
   ]
  },
  {
   "cell_type": "markdown",
   "metadata": {},
   "source": [
    "확장된 시간간격에 대한 증가 형태를 다음과같이 쓸 수 있다."
   ]
  },
  {
   "cell_type": "markdown",
   "metadata": {},
   "source": [
    "$$\\hat{\\Delta}f_i=m\\hat{\\Delta}\\ddot{x},\\;\\;\\hat{\\Delta}f_c=c\\hat{\\Delta}\\ddot{x},\\;\\;\\hat{\\Delta}f_k=k\\hat{\\Delta}\\ddot{x}\\tag{29}$$"
   ]
  },
  {
   "cell_type": "markdown",
   "metadata": {},
   "source": [
    "여기서,"
   ]
  },
  {
   "cell_type": "markdown",
   "metadata": {},
   "source": [
    "$$\\hat{\\Delta}x_i = x(t_i+\\theta\\Delta t) - x(t_i)\\tag{30}$$"
   ]
  },
  {
   "cell_type": "markdown",
   "metadata": {},
   "source": [
    "확장된 시간간격에 대한 운동 방정식은 다음과 같이 된다."
   ]
  },
  {
   "cell_type": "markdown",
   "metadata": {},
   "source": [
    "$$m\\hat{\\Delta}\\ddot{x}_i+c\\hat{\\Delta}\\dot{x}_i+k\\hat{\\Delta}x_i=\\hat{\\Delta}P_i\\tag{31}$$"
   ]
  },
  {
   "cell_type": "markdown",
   "metadata": {},
   "source": [
    "확장된 시간 간격 $t$에서 $t+\\theta\\Delta t$사이에서 응답 가속도가 선형 거동을 한다고 가정하면,"
   ]
  },
  {
   "cell_type": "markdown",
   "metadata": {},
   "source": [
    "$$\\ddot{x}(t)=\\ddot{x}_i + \\frac{\\hat{\\Delta}\\ddot{x}_i}{\\theta\\Delta t}(t-t_i)\\;\\;for\\;\\;t_i\\leq t\\leq t_i+\\theta\\Delta t\\tag{32}$$"
   ]
  },
  {
   "cell_type": "markdown",
   "metadata": {},
   "source": [
    "응답 속도 및 변위는 다음과 같이 된다."
   ]
  },
  {
   "cell_type": "markdown",
   "metadata": {},
   "source": [
    "$$\\dot{x}(t)=\\dot{x}_i + \\ddot{x}_i (t-t_i)+\\frac{1}{2}\\frac{\\hat{\\Delta}\\ddot{x}_i}{\\theta\\Delta t}(t-t_i)^2\\tag{33}$$"
   ]
  },
  {
   "cell_type": "markdown",
   "metadata": {},
   "source": [
    "$$x(t)=x_i + \\dot{x}_i(t-t_i)+\\frac{1}{2}\\ddot{x}_i(t-t_i)^2+\\frac{1}{6}\\frac{\\hat{\\Delta}\\ddot{x}_i}{\\theta\\Delta t}(t-t_i)^3 \\tag{34}$$"
   ]
  },
  {
   "cell_type": "markdown",
   "metadata": {},
   "source": [
    "시간 $t_i$와 $t_i+\\theta\\Delta t$에서의 응답 속도 (식 33)을 계산해 보면 다음과 같다."
   ]
  },
  {
   "cell_type": "markdown",
   "metadata": {},
   "source": [
    "$$\\dot{x}(t_i)=\\dot{x}_i\\tag{35}$$"
   ]
  },
  {
   "cell_type": "markdown",
   "metadata": {},
   "source": [
    "$$\\dot{x}(t_i+\\theta\\Delta t)=\\dot{x}_i + \\ddot{x}_i \\theta \\Delta t + \\frac{1}{2}\\hat{\\Delta}\\ddot{x}_i \\tag{36}$$"
   ]
  },
  {
   "cell_type": "markdown",
   "metadata": {},
   "source": [
    "식 35에서 식 36을 빼면 확장된 구간에서의 응답 속도를 계산할 수 있다."
   ]
  },
  {
   "cell_type": "markdown",
   "metadata": {},
   "source": [
    "$$\\hat{\\Delta}\\dot{x}_i = \\ddot{x}_i \\theta \\Delta t + \\frac{1}{2}\\hat{\\Delta}\\ddot{x}_i \\theta \\Delta t\\tag{37}$$"
   ]
  },
  {
   "cell_type": "markdown",
   "metadata": {},
   "source": [
    "비슷한 방법으로, 확장된 구간에서의 응답 변위는 다음과 같이 결정된다."
   ]
  },
  {
   "cell_type": "markdown",
   "metadata": {},
   "source": [
    "$$\\hat{\\Delta}x = \\dot{x}_i \\theta \\Delta t + \\frac{1}{2}\\ddot{x}_i (\\theta\\Delta t)^2 + \\frac{1}{6} \\hat{\\Delta}\\ddot{x}_i (\\theta \\Delta t)^2 \\tag{38}$$"
   ]
  },
  {
   "cell_type": "markdown",
   "metadata": {},
   "source": [
    "식 38을 확장된 구간에서의 응답 가속도에 대하여 풀면 다음과 같다."
   ]
  },
  {
   "cell_type": "markdown",
   "metadata": {},
   "source": [
    "$$\\hat{\\Delta}\\ddot{x}_i = \\frac{6}{(\\theta \\Delta)^2}\\hat{\\Delta}x_i - \\frac{6}{(\\theta\\Delta t)}\\dot{x}_i - 3 \\ddot{x}_i\\tag{39}$$"
   ]
  },
  {
   "cell_type": "markdown",
   "metadata": {},
   "source": [
    "식 39를 식 37의 마지막 항에 대입하면 다음과 같다."
   ]
  },
  {
   "cell_type": "markdown",
   "metadata": {},
   "source": [
    "$$\\hat{\\Delta}\\dot{x}_i = \\frac{3}{\\theta\\Delta t} \\hat{\\Delta}x_i - 3 \\dot{x}_i - \\frac{\\theta \\Delta t}{2}\\ddot{x}_i\\tag{40}$$"
   ]
  },
  {
   "cell_type": "markdown",
   "metadata": {},
   "source": [
    "식 39와 식 40을 식 31에 대입하면 다음과 같다."
   ]
  },
  {
   "cell_type": "markdown",
   "metadata": {},
   "source": [
    "$$\\left(k + \\frac{6}{\\theta \\Delta t}m + \\frac{3}{\\theta \\Delta t}c\\right)\\hat{\\Delta} x_i = \\hat{\\Delta} P_i + m\\left(\\frac{6}{\\theta\\Delta t}\\dot{x}_i + 3\\ddot{x}_i\\right)+c\\left(3\\dot{x}_i + \\frac{\\theta \\Delta t}{2}\\ddot{x}_i\\right)\\tag{41}$$"
   ]
  },
  {
   "cell_type": "markdown",
   "metadata": {},
   "source": [
    "식 41은 다음과 같이 표현할 수 있다."
   ]
  },
  {
   "cell_type": "markdown",
   "metadata": {},
   "source": [
    "$$\\bar{k} \\hat{\\Delta}x_i = \\hat{\\Delta}\\bar{P_i}\\tag{42}$$"
   ]
  },
  {
   "cell_type": "markdown",
   "metadata": {},
   "source": [
    "여기서 $\\bar{k}$는 유효강성이며, 다음과 같이 정의된다."
   ]
  },
  {
   "cell_type": "markdown",
   "metadata": {},
   "source": [
    "$$\\bar{k} = k + \\frac{6}{\\theta \\Delta t}m + \\frac{3}{\\theta \\Delta t}c \\tag{43}$$"
   ]
  },
  {
   "cell_type": "markdown",
   "metadata": {},
   "source": [
    "$\\Delta \\bar{P_i}$는 유효증가하중이고 다음과 같이 정의된다."
   ]
  },
  {
   "cell_type": "markdown",
   "metadata": {},
   "source": [
    "$$\\hat{\\Delta}\\bar{P_i}=\\hat{\\Delta}P_i + m\\left(\\frac{6}{\\theta \\Delta t}\\dot{x}_i + 3 \\ddot{x}_i\\right) +c\\left(3\\dot{x}_i + \\frac{\\theta \\Delta t}{2}\\ddot{x}_i\\right)\\tag{44}$$"
   ]
  },
  {
   "cell_type": "markdown",
   "metadata": {},
   "source": [
    "$$\\hat{\\Delta}x_i = \\frac{\\hat{\\Delta}\\bar{P_i}}{\\bar{k_i}}\\tag{45}$$"
   ]
  },
  {
   "cell_type": "markdown",
   "metadata": {},
   "source": [
    "$$\\Delta\\ddot{x}_i = \\frac{\\hat{\\Delta}\\ddot{x}_i}{\\theta}\\tag{46}$$"
   ]
  },
  {
   "cell_type": "markdown",
   "metadata": {},
   "source": [
    "$$\\Delta\\dot{x}_i = \\ddot{x}_i\\Delta t + \\frac{1}{2}\\Delta \\ddot{x}_i \\Delta t\\tag{47}$$"
   ]
  },
  {
   "cell_type": "markdown",
   "metadata": {},
   "source": [
    "$$\\Delta x_i = \\dot{x}_i \\Delta t + \\frac{1}{2}\\ddot{x}_i \\Delta t^2 + \\frac{1}{6}\\Delta \\ddot{x}_i\\Delta t^2\\tag{48}$$"
   ]
  },
  {
   "cell_type": "markdown",
   "metadata": {},
   "source": [
    "$$x_{i+1} = x_i + \\Delta x_i \\tag{49}$$"
   ]
  },
  {
   "cell_type": "markdown",
   "metadata": {},
   "source": [
    "$$\\dot{x}_{i+1}=\\dot{x}_i + \\Delta \\dot{x}_i\\tag{50}$$"
   ]
  },
  {
   "cell_type": "markdown",
   "metadata": {},
   "source": [
    "$$\\ddot{x}_{i+1} = \\frac{1}{m}(P_{i+1} - c\\dot{x}_{i+1} - k x_{i+1})\\tag{51}$$"
   ]
  },
  {
   "cell_type": "code",
   "execution_count": null,
   "metadata": {},
   "outputs": [],
   "source": [
    "# th_in : acceleration time history at base\n",
    "# th_out : acceleration time history at mass\n",
    "def SDOF_wilson(th_in,dt,fn,zeta):\n",
    "    theta = 1.37;\n",
    "    edru,edrv,edrac = np.zeros(len(th_in)),np.zeros(len(th_in)),np.zeros(len(th_in));\n",
    "    dru,drv,drac = np.zeros(len(th_in)),np.zeros(len(th_in)),np.zeros(len(th_in));\n",
    "    ru,rv,rac = np.zeros(len(th_in)),np.zeros(len(th_in)),np.zeros(len(th_in));\n",
    "    N = len(th_in);\n",
    "    time = np.arange(N)*dt;\n",
    "    vth = INTEG(time,th_in,0); dth = INTEG(time,vth,0);\n",
    "    F = -th_in;\n",
    "    wn = 2*np.pi*fn; m = 1; c = 2*zeta*wn; k = wn**2;            \n",
    "    Fe = a[0]*m + a[1]*c + k;          \n",
    "    for n in range(len(th_in)-1):\n",
    "        edru[n] = \n",
    "        drac[n] = edrac[n]/theta;\n",
    "        drv[n] = rac[n]*dt + (1/2)*drac[n]*dt;\n",
    "        dru[n] = rv[n]*dt + (1/2)*rac[n]*dt**2 + (1/6)*drac[n]*dt**2;\n",
    "        ru[n+1] = ru[n]+dru[n];\n",
    "        rv[n+1] = rv[n]+drv[n];               \n",
    "        rac[n+1] = (1/m)*(P[n+1]-c*rv[n+1]-k*ru[n+1]);\n",
    "    th_out= rac + th_in;\n",
    "    return th_out"
   ]
  },
  {
   "cell_type": "markdown",
   "metadata": {},
   "source": []
  },
  {
   "cell_type": "code",
   "execution_count": 15,
   "metadata": {},
   "outputs": [],
   "source": [
    "## Sample Time History 1\n",
    "lftab = np.linspace(0,1000,1001)/10;  dt = 1/(20*max(lftab));  damp = 0.01;\n",
    "t = np.arange(10001)*dt;\n",
    "gth = 10*np.sin(2*np.pi*t); + 13*np.sin(2*np.pi*3*t+np.pi/1.3) + 17*np.sin(2*np.pi*5*t+np.pi/1.7);"
   ]
  },
  {
   "cell_type": "code",
   "execution_count": 16,
   "metadata": {},
   "outputs": [],
   "source": [
    "## Sample Time History 2 (Random)\n",
    "# gth = np.random.uniform(-1,1,10001);"
   ]
  },
  {
   "cell_type": "code",
   "execution_count": 17,
   "metadata": {},
   "outputs": [],
   "source": [
    "th_ISO = SDOF_ISO(gth,dt,10,0.02);\n",
    "th_ri = SDOF_ramp_invariant(gth,dt,10,0.02);\n",
    "th_conv = SDOF_conv(gth,dt,10,0.02);\n",
    "th_du = SDOF_duhamel(gth,dt,10,0.02);\n",
    "th_pl = SDOF_pl(gth,dt,10,0.02);\n",
    "th_nm = SDOF_newmark(gth,dt,10,0.02);\n",
    "th_cd = SDOF_cd(gth,dt,10,0.02);"
   ]
  },
  {
   "cell_type": "code",
   "execution_count": 18,
   "metadata": {
    "scrolled": true
   },
   "outputs": [
    {
     "data": {
      "image/png": "[encoded data removed]",
      "text/plain": [
       "<Figure size 1080x432 with 1 Axes>"
      ]
     },
     "metadata": {
      "needs_background": "light"
     },
     "output_type": "display_data"
    }
   ],
   "source": [
    "plt.figure(figsize=(15,6));\n",
    "# plt.plot(th_ISO,'b-'); \n",
    "# plt.plot(th_ri,'r--'); \n",
    "# plt.plot(th_conv,'g--');\n",
    "# plt.plot(th_pl,'r-');\n",
    "plt.plot(th_nm,'k-');\n",
    "plt.plot(th_cd,'r--');"
   ]
  },
  {
   "cell_type": "code",
   "execution_count": null,
   "metadata": {},
   "outputs": [],
   "source": []
  }
 ],
 "metadata": {
  "kernelspec": {
   "display_name": "Python 3",
   "language": "python",
   "name": "python3"
  },
  "language_info": {
   "codemirror_mode": {
    "name": "ipython",
    "version": 3
   },
   "file_extension": ".py",
   "mimetype": "text/x-python",
   "name": "python",
   "nbconvert_exporter": "python",
   "pygments_lexer": "ipython3",
   "version": "3.7.3"
  }
 },
 "nbformat": 4,
 "nbformat_minor": 2
}
