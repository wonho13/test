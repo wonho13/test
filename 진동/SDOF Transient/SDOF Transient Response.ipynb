{
 "cells": [
  {
   "cell_type": "code",
   "execution_count": 1,
   "metadata": {},
   "outputs": [],
   "source": [
    "import numpy as np\n",
    "import matplotlib.pyplot as plt\n",
    "from scipy.signal import lfilter"
   ]
  },
  {
   "cell_type": "markdown",
   "metadata": {},
   "source": [
    "## 1. Recursive Filter Method"
   ]
  },
  {
   "cell_type": "markdown",
   "metadata": {},
   "source": [
    "## 1.1 Convolution Integral Method"
   ]
  },
  {
   "cell_type": "markdown",
   "metadata": {},
   "source": [
    "$\\ddot{x}_n = b_0 \\cdot \\ddot{y}_n + b_1 \\cdot \\ddot{y}_{n-1} + b_2 \\cdot \\ddot{y}_{n-2} - a_1 \\cdot \\ddot{x}_{n-1} - a_2 \\cdot \\ddot{x}_{n-2}$"
   ]
  },
  {
   "cell_type": "markdown",
   "metadata": {},
   "source": [
    "$b_0=2\\zeta\\omega_n\\Delta t$\n",
    "\n",
    "$b_1=\\omega_n\\Delta t exp[-\\zeta\\omega_n\\Delta t]\\left\\{ \\left[ \\frac{\\omega_n}{\\omega_d}(1-2\\zeta^2) \\right]sin[\\omega_d \\Delta t]-2\\zeta cos[\\omega_d \\Delta t] \\right\\}$\n",
    "\n",
    "$b_2 = 0$\n",
    "\n",
    "$a_1 = -2exp[-\\zeta\\omega_n\\Delta t]cos[\\omega_d\\Delta t]$\n",
    "\n",
    "$a_2 = exp[-2\\zeta\\omega_n\\Delta t]$"
   ]
  },
  {
   "cell_type": "code",
   "execution_count": 2,
   "metadata": {},
   "outputs": [],
   "source": [
    "# th_in : acceleration time history at base\n",
    "# th_out : acceleration time history at mass\n",
    "def SDOF_conv(th_in,dt,fn,zeta): # Kelly-Richman\n",
    "\n",
    "    wn = 2*np.pi*fn;\n",
    "    wd = wn*np.sqrt(1-zeta**2);\n",
    "    \n",
    "    a, b = np.zeros(3), np.zeros(3);\n",
    "\n",
    "    b[0] = 2*zeta*wn*dt;\n",
    "    b[1] = wn*dt*np.exp(-zeta*wn*dt)*((wn/wd)*(1-2*zeta**2)*np.sin(wd*dt)-2*zeta*np.cos(wd*dt));\n",
    "    b[2] = 0;\n",
    "\n",
    "    a[0] = 1\n",
    "    a[1] = -2*np.exp(-zeta*wn*dt)*np.cos(wd*dt);\n",
    "    a[2] = np.exp(-2*zeta*wn*dt);\n",
    "\n",
    "    th_out=lfilter(b, a, th_in, axis=-1, zi=None);\n",
    "    \n",
    "    return th_out;"
   ]
  },
  {
   "cell_type": "markdown",
   "metadata": {},
   "source": [
    "## 1.2 Ramp Invariant Method (ISO 18431-4)\n",
    "\n",
    "Shock Response Spectra 계산 Coefficient"
   ]
  },
  {
   "cell_type": "markdown",
   "metadata": {},
   "source": [
    "$\\ddot{x}_n = b_0 \\cdot \\ddot{y}_n + b_1 \\cdot \\ddot{y}_{n-1} + b_2 \\cdot \\ddot{y}_{n-2} - a_1 \\cdot \\ddot{x}_{n-1} - a_2 \\cdot \\ddot{x}_{n-2}$"
   ]
  },
  {
   "cell_type": "markdown",
   "metadata": {},
   "source": [
    "$b_0 = 1- exp(-A)\\cdot sin(B)/B$\n",
    "\n",
    "$b_1 = 2exp(-A)\\cdot {sin(B)/B - cos(B)}$\n",
    "\n",
    "$b_2 = exp(-2A)-exp(-A)\\cdot sin(B)/B$\n",
    "\n",
    "$a_1 = -2exp(-A)\\cdot cos(B)$\n",
    "\n",
    "$a_2 = exp(-2A)$\n",
    "\n",
    "$A = \\frac{\\omega_n \\cdot T}{2Q}$\n",
    "\n",
    "$B = \\omega_n \\cdot T \\cdot \\sqrt{1-\\frac{1}{4Q^2}}$"
   ]
  },
  {
   "cell_type": "code",
   "execution_count": 3,
   "metadata": {},
   "outputs": [],
   "source": [
    "# th_in : acceleration time history at base\n",
    "# th_out : acceleration time history at mass\n",
    "def SDOF_ISO(th_in,dt,fn,zeta): \n",
    "\n",
    "    wn = 2*np.pi*fn;\n",
    "    wd = wn*np.sqrt(1-zeta**2);\n",
    "    A=wn*dt*zeta;\n",
    "    B=wd*dt;\n",
    "    \n",
    "    a, b = np.zeros(3), np.zeros(3);\n",
    "\n",
    "    b[0] = 1 - np.exp(-A)*np.sin(B)/B;\n",
    "    b[1] = 2*np.exp(-A)*(np.sin(B)/B - np.cos(B));\n",
    "    b[2] = np.exp(-2*A) - np.exp(-A) * np.sin(B)/B;\n",
    "\n",
    "    a[0] = 1;\n",
    "    a[1] = -2*np.exp(-A)*np.cos(B);\n",
    "    a[2] = np.exp(-2*A);\n",
    "\n",
    "    th_out=lfilter(b, a, th_in, axis=-1, zi=None);\n",
    "    \n",
    "    return th_out;"
   ]
  },
  {
   "cell_type": "code",
   "execution_count": 4,
   "metadata": {},
   "outputs": [],
   "source": [
    "# th_in : acceleration time history at base\n",
    "# th_out : acceleration time history at mass\n",
    "def SDOF_ramp_invariant(th_in,dt,fn,zeta): # Smallwood\n",
    "    \n",
    "    wn = 2*np.pi*fn;\n",
    "    wd = wn*np.sqrt(1-zeta**2);\n",
    "    E = np.exp(-zeta*wn*dt);\n",
    "    K = dt*wd;\n",
    "    C = E*np.cos(K);\n",
    "    S = E*np.sin(K);\n",
    "    Sp = S/K;\n",
    "    \n",
    "    a, b = np.zeros(3), np.zeros(3);\n",
    "\n",
    "    b[0] = 1 - Sp;\n",
    "    b[1] = 2*(Sp-C);\n",
    "    b[2] = E**2 - Sp;\n",
    "\n",
    "    a[0] = 1;\n",
    "    a[1] = -2*C;\n",
    "    a[2] = E**2;\n",
    "\n",
    "    th_out=lfilter(b, a, th_in, axis=-1, zi=None);\n",
    "    \n",
    "    return th_out;        "
   ]
  },
  {
   "cell_type": "markdown",
   "metadata": {},
   "source": [
    "## 2. Exact Solution Method"
   ]
  },
  {
   "cell_type": "markdown",
   "metadata": {},
   "source": [
    "## 2.1 Duhamel's Integral Method"
   ]
  },
  {
   "cell_type": "markdown",
   "metadata": {},
   "source": [
    "$$x_i=\\frac{e^{-\\zeta \\omega t_i}}{m\\omega_d}[A_D(t_i)sin\\omega_d t_i - B_D(t_i) cos\\omega_d t_i]$$"
   ]
  },
  {
   "cell_type": "markdown",
   "metadata": {},
   "source": [
    "$$\\dot{x}_i=\\frac{e^{-\\zeta \\omega t_i}}{m \\omega_d}\\left\\{ \\left[ \\omega_d B_D(t_i) - \\zeta \\omega A_D(t_i) \\right]sin\\omega_d t_i + \\left[ \\omega_d A_D(t_i) + \\zeta\\omega B_D(t_i) \\right]cos\\omega_d t_i \\right\\}$$"
   ]
  },
  {
   "cell_type": "markdown",
   "metadata": {},
   "source": [
    "$$\\ddot{x}_i=\\frac{1}{m}(P_i-c\\dot{x}_i-kx_i)$$"
   ]
  },
  {
   "cell_type": "markdown",
   "metadata": {},
   "source": [
    "where,"
   ]
  },
  {
   "cell_type": "markdown",
   "metadata": {},
   "source": [
    "$$A_D(t_i)=A_D(t_{i-1})+\\left[P(t_{i-1})-t_{i-1}\\frac{\\Delta P_i}{\\Delta t}\\right]I_1+\\frac{\\Delta P_i}{\\Delta t}I_4$$"
   ]
  },
  {
   "cell_type": "markdown",
   "metadata": {},
   "source": [
    "$$B_D(t_i)=B_D(t_{i-1})+\\left[P(t_{i-1})-t_{i-1}\\frac{\\Delta P_i}{\\Delta t}\\right]I_2 + \\frac{\\Delta P_i}{\\Delta t}I_3$$"
   ]
  },
  {
   "cell_type": "markdown",
   "metadata": {},
   "source": [
    "$$I_1=\\int_{t_{i-1}}^{t_i} e^{\\zeta \\omega \\tau}cos\\omega_d\\tau d\\tau=\n",
    "\\frac{e^{\\zeta \\omega \\tau}}{(\\zeta \\omega)^2+\\omega_d^2}\n",
    "(\\zeta\\omega cos\\omega_d\\tau+\\omega_d sin\\omega_d\\tau)|_{t_{i-1}}^{t_i}\n",
    "$$"
   ]
  },
  {
   "cell_type": "markdown",
   "metadata": {},
   "source": [
    "$$I_2\n",
    "=\\int_{t_{i-1}}^{t_i} e^{\\zeta \\omega \\tau}sin\\omega_d\\tau d\\tau=\n",
    "\\frac{e^{\\zeta \\omega \\tau}}{(\\zeta \\omega)^2+\\omega_d^2}\n",
    "(\\zeta\\omega sin\\omega_d\\tau-\\omega_d cos\\omega_d\\tau)|_{t_{i-1}}^{t_i}\n",
    "$$"
   ]
  },
  {
   "cell_type": "markdown",
   "metadata": {},
   "source": [
    "$$I_3=\n",
    "\\int_{t_{i-1}}^{t_i}\\tau e^{\\zeta \\omega\\tau}sin\\omega_d\\tau d\\tau\n",
    "=\\left[\\tau-\\frac{\\zeta\\omega}{(\\zeta\\omega)^2+\\omega_d^2}\\right] I_2^{'}\n",
    "+\\frac{\\omega_d}{(\\zeta\\omega_d)^2+\\omega_d^2}I_1^{'}|_{t_{i-1}}^{t_i}\n",
    "$$"
   ]
  },
  {
   "cell_type": "markdown",
   "metadata": {},
   "source": [
    "$$I_4=\n",
    "\\int_{t_{i-1}}^{t_i}\\tau e^{\\zeta \\omega\\tau}cos\\omega_d\\tau d\\tau\n",
    "=\\left[\\tau-\\frac{\\zeta\\omega}{(\\zeta\\omega)^2+\\omega_d^2}\\right] I_1^{'}\n",
    "+\\frac{\\omega_d}{(\\zeta\\omega_d)^2+\\omega_d^2}I_2^{'}|_{t_{i-1}}^{t_i}\n",
    "$$"
   ]
  },
  {
   "cell_type": "markdown",
   "metadata": {},
   "source": [
    "$I_1^{'}$, $I_2^{'}$는 $I_1$, $I_2$ 적분 식에서 한계 값을 적용하지 않은 것을 의미"
   ]
  },
  {
   "cell_type": "code",
   "execution_count": 5,
   "metadata": {},
   "outputs": [],
   "source": [
    "# th_in : acceleration time history at base\n",
    "# th_out : acceleration time history at mass\n",
    "def SDOF_duhamel(th_in,dt,fn,zeta):\n",
    "    def Ad(Ad0,P0,t,dt,dP,I1,I4):\n",
    "        return Ad0+(P0-(t-dt)*(dP/dt))*I1+(dP/dt)*I4;\n",
    "    def Bd(Bd0,P0,t,dt,dP,I2,I3):\n",
    "        return Bd0+(P0-(t-dt)*(dP/dt))*I2+(dP/dt)*I3;\n",
    "    def I1p(zeta,wn,t):\n",
    "        wd = wn*np.sqrt(1-zeta**2);\n",
    "        return (np.exp(zeta*wn*t)/((zeta*wn)**2+wd**2))*(zeta*wn*np.cos(wd*t)+wd*np.sin(wd*t));\n",
    "    def I2p(zeta,wn,t):\n",
    "        wd = wn*np.sqrt(1-zeta**2);\n",
    "        return (np.exp(zeta*wn*t)/((zeta*wn)**2+wd**2))*(zeta*wn*np.sin(wd*t)-wd*np.cos(wd*t));\n",
    "    def I3p(zeta,wn,t):\n",
    "        wd = wn*np.sqrt(1-zeta**2);\n",
    "        return (t-((zeta*wn)/((zeta*wn)**2+wd**2)))*I2p(zeta,wn,t)+(wd/((zeta*wd)**2+wd**2))*I1p(zeta,wn,t);\n",
    "    def I4p(zeta,wn,t):\n",
    "        wd = wn*np.sqrt(1-zeta**2);\n",
    "        return (t-((zeta*wn)/((zeta*wn)**2+wd**2)))*I1p(zeta,wn,t)+(wd/((zeta*wd)**2+wd**2))*I2p(zeta,wn,t);    \n",
    "    u,v,ac = np.zeros(len(th_in)),np.zeros(len(th_in)),np.zeros(len(th_in));\n",
    "    ru,rv,rac = np.zeros(len(th_in)),np.zeros(len(th_in)),np.zeros(len(th_in));\n",
    "    N = len(th_in);\n",
    "    t = np.arange(N)*dt; wn = 2*np.pi*fn; wd = wn*np.sqrt(1-zeta**2);\n",
    "    m = 1; c = 2*zeta*wn; k = wn**2;   \n",
    "    P = -th_in;\n",
    "    Ad0 = np.zeros(len(th_in)); Bd0 = np.zeros(len(th_in));\n",
    "    for n in range(len(th_in)-1):\n",
    "        I1 = I1p(zeta,wn,t[n+1])-I1p(zeta,wn,t[n]); \n",
    "        I2 = I2p(zeta,wn,t[n+1])-I2p(zeta,wn,t[n]);\n",
    "        I3 = I3p(zeta,wn,t[n+1])-I3p(zeta,wn,t[n]); \n",
    "        I4 = I4p(zeta,wn,t[n+1])-I4p(zeta,wn,t[n]);\n",
    "        Ad0[n+1] = Ad(Ad0[n],P[n],t[n+1],dt,P[n+1]-P[n],I1,I4); Bd0[n+1] = Bd(Bd0[n],P[n],t[n+1],dt,P[n+1]-P[n],I2,I3);    \n",
    "        ru[n+1] = (np.exp(-zeta*wn*t[n+1])/(m*wd))*(Ad0[n+1]*np.sin(wd*t[n+1])-Bd0[n+1]*np.cos(wd*t[n+1]));\n",
    "        rv[n+1] = (np.exp(-zeta*wn*t[n+1])/(m*wd))*((wd*Bd0[n+1]-zeta*wn*Ad0[n+1])*np.sin(wd*t[n+1])+(wd*Ad0[n+1]+zeta*wn*Bd0[n+1])*np.cos(wd*t[n+1]));\n",
    "        rac[n+1] = (1/m)*(P[n+1]-c*rv[n+1]-k*ru[n+1]);\n",
    "    th_out= rac + th_in;\n",
    "    return th_out;"
   ]
  },
  {
   "cell_type": "markdown",
   "metadata": {},
   "source": [
    "## 2.2 Piecewise Linear Method (Piecewise Exact Method)"
   ]
  },
  {
   "cell_type": "markdown",
   "metadata": {},
   "source": [
    "$$X_{i+1}=AX_i + B \\ddot{X}_{ground\\;i}$$"
   ]
  },
  {
   "cell_type": "markdown",
   "metadata": {},
   "source": [
    "$$X_i=\\begin{Bmatrix}\n",
    "x_i \\\\\n",
    "\\dot{x}_i\n",
    "\\end{Bmatrix}\n",
    "\\;\\;\n",
    "\\ddot{X}_{ground\\;i}=\n",
    "-\\frac{1}{m}\n",
    "\\begin{Bmatrix}\n",
    "P_i \\\\\n",
    "P_{i+1}\n",
    "\\end{Bmatrix}\n",
    "\\tag{79}\n",
    "$$"
   ]
  },
  {
   "cell_type": "markdown",
   "metadata": {},
   "source": [
    "$$A=\\begin{bmatrix}\n",
    "a_{11} & a_{12} \\\\\n",
    "a_{21} & a_{22} \n",
    "\\end{bmatrix}\n",
    "\\;\\;\n",
    "B=\\begin{bmatrix}\n",
    "b_{11} & b_{12} \\\\\n",
    "b_{21} & b_{22} \n",
    "\\end{bmatrix}\n",
    "\\tag{80}$$"
   ]
  },
  {
   "cell_type": "markdown",
   "metadata": {},
   "source": [
    "$$a_{11}=e^{-\\zeta \\omega \\Delta t} \\left(\\frac{\\omega \\zeta}{\\omega_d}sin\\omega_d \\Delta t + cos \\omega_d \\Delta t\\right)$$"
   ]
  },
  {
   "cell_type": "markdown",
   "metadata": {},
   "source": [
    "$$a_{12}=\\frac{e^{-\\zeta \\omega \\Delta t}}{\\omega_d}sin\\omega_d \\Delta t$$"
   ]
  },
  {
   "cell_type": "markdown",
   "metadata": {},
   "source": [
    "$$a_{21}=-\\frac{\\omega^2 e^{-\\zeta \\omega \\Delta t}}{\\omega_d} sin \\omega_d \\Delta t$$"
   ]
  },
  {
   "cell_type": "markdown",
   "metadata": {},
   "source": [
    "$$a_{22}=e^{-\\zeta \\omega \\Delta t}\\left(cos\\omega_d \\Delta t - \\frac{\\omega \\zeta}{\\omega_d}sin\\omega_d \\Delta t\\right)\\tag{81}$$"
   ]
  },
  {
   "cell_type": "markdown",
   "metadata": {},
   "source": [
    "$$b_{11}=e^{-\\zeta\\omega\\Delta t}\\left[ \\left( \\frac{2\\zeta^2-1}{\\omega^2 \\Delta t}+\\frac{\\zeta}{\\omega} \\right)\\frac{sin\\omega_d \\Delta t}{\\omega_d} + \\left( \\frac{2\\zeta}{\\omega^3 \\Delta t}+\\frac{1}{\\omega^3} \\right)cos\\omega_d\\Delta t \\right] - \\frac{2\\zeta}{\\omega^3 \\Delta t}$$"
   ]
  },
  {
   "cell_type": "markdown",
   "metadata": {},
   "source": [
    "$$b_{12}=-e^{-\\zeta\\omega\\Delta t}\\left[ \\left( \\frac{2\\zeta^2-1}{\\omega^2 \\Delta t}\\right)\\frac{sin\\omega_d \\Delta t}{\\omega_d} +  \\frac{2\\zeta}{\\omega^3 \\Delta t} cos\\omega_d\\Delta t \\right] - \\frac{1}{\\omega^2}  + \\frac{2\\zeta}{\\omega^3 \\Delta t}$$"
   ]
  },
  {
   "cell_type": "markdown",
   "metadata": {},
   "source": [
    "$$b_{21}=e^{-\\zeta \\omega \\Delta t}\\left[ \\left( \\frac{2\\zeta^2-1}{\\omega^2\\Delta t}+\\frac{\\zeta}{\\omega} \\right)\\left( cos\\omega_d\\Delta t - \\frac{\\omega\\zeta}{\\omega_d}sin\\omega_d \\Delta t \\right) - \\left( \\frac{2\\zeta}{\\omega^3\\Delta t}+\\frac{1}{\\omega^3} \\right)(\\omega_d sin\\omega_d\\Delta t + \\zeta\\omega cos \\omega_d \\Delta t) \\right]+\\frac{1}{\\omega^2 \\Delta t}$$"
   ]
  },
  {
   "cell_type": "markdown",
   "metadata": {},
   "source": [
    "$$b_{22}=-e^{\\zeta \\omega \\Delta t}\\left[ \\frac{2\\zeta^2-1}{\\omega^2\\Delta t}\\left(cos\\omega_d\\Delta t - \\frac{\\omega\\zeta}{\\omega_d}sin\\omega_d\\Delta t\\right) - \\frac{2\\zeta}{\\omega^3\\Delta t}(\\omega_d sin\\omega_d \\Delta t + \\zeta \\omega cos \\omega_d \\Delta t) \\right] - \\frac{1}{\\omega^2 \\Delta t}\\tag{82}$$"
   ]
  },
  {
   "cell_type": "code",
   "execution_count": 11,
   "metadata": {},
   "outputs": [],
   "source": [
    "# th_in : acceleration time history at base\n",
    "# th_out : acceleration time history at mass\n",
    "def SDOF_pl(th_in,dt,fn,zeta): #piecewise linear method\n",
    "    wn = 2*np.pi*fn; wd = wn*np.sqrt(1-zeta**2);\n",
    "    m = 1; c = 2*zeta*wn; k = wn**2;   \n",
    "    a = np.zeros([2,2]);\n",
    "    a[0,0]=np.exp(-zeta*wn*dt)*(((wn*zeta)/wd)*np.sin(wd*dt)+np.cos(wd*dt));\n",
    "    a[0,1]=(np.exp(-zeta*wn*dt)/wd)*np.sin(wd*dt);\n",
    "    a[1,0]=-(wn**2*np.exp(-zeta*wn*dt)/wd)*np.sin(wd*dt);\n",
    "    a[1,1]=np.exp(-zeta*wn*dt)*(np.cos(wd*dt)-(wn*zeta/wd)*np.sin(wd*dt));\n",
    "    b = np.zeros([2,2]);\n",
    "    b[0,0]=np.exp(-zeta*wn*dt)*(((2*zeta**2-1)/(wn**2*dt)+(zeta/wn))*(np.sin(wd*dt)/wd)+((2*zeta/(wn**3*dt))+(1/(wn**3)))*np.cos(wd*dt))-(2*zeta/(wn**3*dt));\n",
    "    b[0,1]=-np.exp(-zeta*wn*dt)*(((2*zeta**2-1)/(wn**2*dt))*(np.sin(wd*dt)/wd)+(2*zeta/(wn**3*dt))*np.cos(wd*dt))-(1/wn**2)+(2*zeta/(wn**3*dt));\n",
    "    b[1,0]=np.exp(-zeta*wn*dt)*((((2*zeta**2-1)/(wn**2*dt))+zeta/wn)*(np.cos(wd*dt)-(wn*zeta/wd)*np.sin(wd*dt))-((2*zeta/(wn**3*dt))+(1/(wn**3)))*(wd*np.sin(wd*dt)+zeta*wn*np.cos(wd*dt)))+(1/(wn**2*dt));\n",
    "    b[1,1]=-np.exp(zeta*wn*dt)*(((2*zeta**2-1)/(wn**2*dt))*(np.cos(wd*dt)-(wn*zeta/wd*np.sin(wd*dt)))-(2*zeta/(wn**3*dt))*(wd*np.sin(wd*dt)+zeta*wn*np.cos(wd*dt)))-(1/(wn**2*dt));\n",
    "    ru,rv,rac = np.zeros(len(th_in)),np.zeros(len(th_in)),np.zeros(len(th_in));\n",
    "    X,Xg = np.zeros([2,len(th_in)]),np.zeros([2,len(th_in)-1]);\n",
    "    for i in range(len(th_in)-1):\n",
    "        Xg[0,i] = th_in[i]; Xg[1,i] = th_in[i+1];\n",
    "    for n in range(len(th_in)-1):\n",
    "        X[:,n+1] = a@X[:,n] + b@Xg[:,n];\n",
    "        rac[n+1] = -th_in[n+1]-c*X[1,n+1]-k*X[0,n+1];\n",
    "    th_out= rac + th_in;\n",
    "    return th_out"
   ]
  },
  {
   "cell_type": "markdown",
   "metadata": {},
   "source": [
    "## Newmark $\\beta$ Method"
   ]
  },
  {
   "cell_type": "code",
   "execution_count": 7,
   "metadata": {},
   "outputs": [],
   "source": [
    "# th_in : acceleration time history at base\n",
    "# th_out : acceleration time history at mass\n",
    "def SDOF_newmark(th_in,dt,fn,zeta):\n",
    "    def newmark_parameter(dt):\n",
    "        r = 0.005; alpha = (1/4)*((1+r)**2); delta = 0.5 + r;\n",
    "        a = np.zeros(8);\n",
    "        a[0] = 1/(alpha*dt*dt); a[1] = delta/(alpha*dt); a[2] = 1/(alpha*dt); a[3] = 1/(2*alpha)-1;\n",
    "        a[4] = delta/alpha - 1; a[5] = (dt/2)*((delta/alpha)-2); a[6] = dt*(1-delta); a[7] = delta*dt;\n",
    "        return a;\n",
    "    def DERIV(X,Y):\n",
    "        N = len(Y); YY = np.zeros(N);\n",
    "        YY[0] = (Y[1]-Y[0])/(X[1]-X[0]); Y[N-1] = (Y[N-1]-Y[N-2])/(X[N-1]-X[N-2]);\n",
    "        for n in range(N-2):\n",
    "            YY[n+1] = (((Y[n+2]-Y[n+1])/(X[n+2]-X[n+1]))*(X[n+1]-X[n]) + ((Y[n+1]-Y[n])/(X[n+1]-X[n]))*(X[n+2]-X[n+1]))/(X[n+2]-X[n]);\n",
    "        return YY;\n",
    "    def INTEG(X,Y,C1):\n",
    "        N = len(Y); YY = np.zeros(N);\n",
    "        YY[0] = C1;\n",
    "        for n in range(1,N):\n",
    "            YY[n] = YY[n-1] + (1/2)*(Y[n]+Y[n-1])*(X[n]-X[n-1]);\n",
    "        return YY;      \n",
    "    a = newmark_parameter(dt);\n",
    "    u,v,ac = np.zeros(len(th_in)),np.zeros(len(th_in)),np.zeros(len(th_in));\n",
    "    ru,rv,rac = np.zeros(len(th_in)),np.zeros(len(th_in)),np.zeros(len(th_in));\n",
    "    N = len(th_in);\n",
    "    time = np.arange(N)*dt;\n",
    "    vth = INTEG(time,th_in,0); dth = INTEG(time,vth,0);\n",
    "    F = -th_in;\n",
    "    wn = 2*np.pi*fn; m = 1; c = 2*zeta*wn; k = wn**2;            \n",
    "    Fe = a[0]*m + a[1]*c + k;          \n",
    "    for n in range(len(th_in)-1):\n",
    "        ru[n+1] = (F[n+1] + m*(a[0]*ru[n]+a[2]*rv[n]+a[3]*rac[n])+c*(a[1]*ru[n]+a[4]*rv[n]+a[5]*rac[n]))/Fe;\n",
    "        rv[n+1] = a[1]*(ru[n+1]-ru[n]) - a[4]*rv[n] - a[5]*rac[n];\n",
    "        rac[n+1] = a[0]*(ru[n+1]-ru[n]) -a[2]*rv[n] - a[3]*rac[n];\n",
    "    th_out= rac + th_in;\n",
    "    return th_out"
   ]
  },
  {
   "cell_type": "code",
   "execution_count": 8,
   "metadata": {},
   "outputs": [],
   "source": [
    "## Sample Time History 1\n",
    "lftab = np.linspace(0,1000,1001)/10;  dt = 1/(20*max(lftab));  damp = 0.01;\n",
    "t = np.arange(10001)*dt;\n",
    "gth = 10*np.sin(2*np.pi*t);# + 13*np.sin(2*np.pi*3*t+np.pi/1.3) + 17*np.sin(2*np.pi*5*t+np.pi/1.7);"
   ]
  },
  {
   "cell_type": "code",
   "execution_count": 9,
   "metadata": {},
   "outputs": [],
   "source": [
    "## Sample Time History 2 (Random)\n",
    "#gth = np.random.uniform(-1,1,10001);"
   ]
  },
  {
   "cell_type": "code",
   "execution_count": 16,
   "metadata": {},
   "outputs": [],
   "source": [
    "th_ISO = SDOF_ISO(gth,dt,10,0.02);\n",
    "th_ri = SDOF_ramp_invariant(gth,dt,10,0.02);\n",
    "th_conv = SDOF_conv(gth,dt,10,0.02);\n",
    "th_du = SDOF_duhamel(gth,dt,10,0.02);\n",
    "th_pl = SDOF_pl(gth,dt,10,0.02);\n",
    "th_nm = SDOF_newmark(gth,dt,10,0.02);"
   ]
  },
  {
   "cell_type": "code",
   "execution_count": 18,
   "metadata": {
    "scrolled": true
   },
   "outputs": [
    {
     "data": {
      "image/png": "[encoded data removed]",
      "text/plain": [
       "<Figure size 1080x432 with 1 Axes>"
      ]
     },
     "metadata": {
      "needs_background": "light"
     },
     "output_type": "display_data"
    }
   ],
   "source": [
    "plt.figure(figsize=(15,6));\n",
    "plt.plot(th_ISO,'b-'); \n",
    "plt.plot(th_ri,'r--'); \n",
    "#plt.plot(th_conv,'g--');\n",
    "# plt.plot(th_pl,'r--');\n",
    "plt.plot(th_nm,'g--');"
   ]
  },
  {
   "cell_type": "code",
   "execution_count": null,
   "metadata": {},
   "outputs": [],
   "source": []
  }
 ],
 "metadata": {
  "kernelspec": {
   "display_name": "Python 3",
   "language": "python",
   "name": "python3"
  },
  "language_info": {
   "codemirror_mode": {
    "name": "ipython",
    "version": 3
   },
   "file_extension": ".py",
   "mimetype": "text/x-python",
   "name": "python",
   "nbconvert_exporter": "python",
   "pygments_lexer": "ipython3",
   "version": "3.7.4"
  }
 },
 "nbformat": 4,
 "nbformat_minor": 2
}
