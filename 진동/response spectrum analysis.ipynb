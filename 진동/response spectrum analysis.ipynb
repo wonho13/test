{
 "cells": [
  {
   "cell_type": "markdown",
   "id": "107c6dc4",
   "metadata": {},
   "source": [
    "### 17.1.1 가정 및 제한사항"
   ]
  },
  {
   "cell_type": "markdown",
   "id": "ac1805fe",
   "metadata": {},
   "source": [
    "1. 구조물을 선형"
   ]
  },
  {
   "cell_type": "markdown",
   "id": "2803f4f3",
   "metadata": {},
   "source": [
    "2. 단일점 응답스펙트럼 해석의 경우와 동적 설계 해석 방법의 경우 구조물은 알려진 방향 및 주파수 성분에 의해 모든 지지점 또는 정의된 비 지지점의 자유도에 균일하게 가진받음"
   ]
  },
  {
   "cell_type": "markdown",
   "id": "36230c4b",
   "metadata": {},
   "source": [
    "3. 다중점 응답스펙트럼 및 PSD 해석의 경우, 구조물은 다른 지지점 및 비지지 절점에 대해 다른 스펙트럼 입력으로 가진할 수 있음. 최대 10개 까지의 다른 스펙트럼을 동시에 가진할 수 있음."
   ]
  },
  {
   "cell_type": "markdown",
   "id": "8573c7f7",
   "metadata": {},
   "source": [
    "### 17.7.2 해석에 대한 설명"
   ]
  },
  {
   "cell_type": "markdown",
   "id": "4b7881e4",
   "metadata": {},
   "source": [
    "스펙트럼 해석은 별도의 해석 과정이며, 모드해석이 선행되어야 함. 모드조합이 필요한 경우, 모드-주파수 해석에 설명된 대로 모드들은 확장(expanded) 되어야 함.\n",
    "\n",
    "단일점 응답스펙트럼 방법(SPRS), 동적 설계 해석 방법(DDAM), 랜덤 진동 방법(PSD), 다중점 스펙트럼 방법(MPRS) 4가지 옵션이 있음. 각 옵션은 다음에 상세히 설명됨."
   ]
  },
  {
   "cell_type": "markdown",
   "id": "4b30f9eb",
   "metadata": {},
   "source": [
    "### 17.7.3 단일점 응답스펙트럼"
   ]
  },
  {
   "cell_type": "markdown",
   "id": "c3df396a",
   "metadata": {},
   "source": [
    "단일점 응답스펙트럼 해석에서는 지지점(기저가진) 및 지지점에서 떨어진 가진(하중 가진)"
   ]
  },
  {
   "cell_type": "code",
   "execution_count": null,
   "id": "52dedf4e",
   "metadata": {},
   "outputs": [],
   "source": []
  }
 ],
 "metadata": {
  "kernelspec": {
   "display_name": "Python 3",
   "language": "python",
   "name": "python3"
  },
  "language_info": {
   "codemirror_mode": {
    "name": "ipython",
    "version": 3
   },
   "file_extension": ".py",
   "mimetype": "text/x-python",
   "name": "python",
   "nbconvert_exporter": "python",
   "pygments_lexer": "ipython3",
   "version": "3.8.8"
  }
 },
 "nbformat": 4,
 "nbformat_minor": 5
}
