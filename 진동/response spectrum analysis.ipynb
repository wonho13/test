{
 "cells": [
  {
   "cell_type": "markdown",
   "id": "f1c675a8",
   "metadata": {},
   "source": [
    "### 17.1.1 가정 및 제한사항"
   ]
  },
  {
   "cell_type": "markdown",
   "id": "49ac07db",
   "metadata": {},
   "source": [
    "1. 구조물을 선형"
   ]
  },
  {
   "cell_type": "markdown",
   "id": "40ed9773",
   "metadata": {},
   "source": [
    "2. 단일점 응답스펙트럼 해석의 경우와 동적 설계 해석 방법의 경우 구조물은 알려진 방향 및 주파수 성분에 의해 모든 지지점 또는 정의된 비 지지점의 자유도에 균일하게 가진받음"
   ]
  },
  {
   "cell_type": "markdown",
   "id": "2de04fe0",
   "metadata": {},
   "source": [
    "3. 다중점 응답스펙트럼 및 PSD 해석의 경우, 구조물은 다른 지지점 및 비지지 절점에 대해 다른 스펙트럼 입력으로 가진할 수 있음. 최대 10개 까지의 다른 스펙트럼을 동시에 가진할 수 있음."
   ]
  },
  {
   "cell_type": "markdown",
   "id": "32f02cc4",
   "metadata": {},
   "source": [
    "### 17.7.2 해석에 대한 설명"
   ]
  },
  {
   "cell_type": "markdown",
   "id": "b9e02fb3",
   "metadata": {},
   "source": [
    "스펙트럼 해석은 별도의 해석 과정이며, 모드해석이 선행되어야 함. 모드조합이 필요한 경우, 모드-주파수 해석에 설명된 대로 모드들은 확장(expanded) 되어야 함.\n",
    "\n",
    "단일점 응답스펙트럼 방법(SPRS), 동적 설계 해석 방법(DDAM), 랜덤 진동 방법(PSD), 다중점 스펙트럼 방법(MPRS) 4가지 옵션이 있음. 각 옵션은 다음에 상세히 설명됨."
   ]
  },
  {
   "cell_type": "markdown",
   "id": "49bc88b4",
   "metadata": {},
   "source": [
    "### 17.7.3 단일점 응답스펙트럼"
   ]
  },
  {
   "cell_type": "markdown",
   "id": "9023054a",
   "metadata": {},
   "source": [
    "단일점 응답스펙트럼 해석에서는 지지점(기저가진) 및 지지점에서 떨어진 가진(하중 가진)  모두 가증함. 아래의 표는 이와 관련된 내용을 요약한 것임."
   ]
  },
  {
   "cell_type": "markdown",
   "id": "78752096",
   "metadata": {},
   "source": [
    "### 17.7.4 감쇠"
   ]
  },
  {
   "cell_type": "markdown",
   "id": "35a29dd4",
   "metadata": {},
   "source": [
    "각 모드에서 평가되는 감쇠는 다음과 같이 정의됨."
   ]
  },
  {
   "cell_type": "markdown",
   "id": "842722fc",
   "metadata": {},
   "source": [
    "$$\\zeta_i'=\\frac{\\beta \\omega_i}{2}+\\zeta_c+\\frac{\\sum_{j=1}^{N_m}\\beta_j^m E_j^s}{\\sum_{j=1}^{N_m} E_j^s}+\\zeta_i^m \\tag{17-120}$$"
   ]
  },
  {
   "cell_type": "markdown",
   "id": "225250ef",
   "metadata": {},
   "source": [
    "여기서,"
   ]
  },
  {
   "cell_type": "markdown",
   "id": "04fa31f0",
   "metadata": {},
   "source": [
    "$\\zeta_i;$ = 모드 i에서의 유효 감쇠비\n",
    "\n",
    "$\\beta$ = 베타 감쇠\n",
    "\n",
    "$\\omega_i$ = 모드 i에서 비감쇠 자연 원형 주파수\n",
    "\n",
    "$\\zeta_c$ = 감쇠비\n",
    "\n",
    "$N_m$ = 재료의 개수\n",
    "\n",
    "$\\beta_j^m$ = 재료 j에 대한 감쇠 상수 강성 행렬 곱\n",
    "\n",
    "$E_j^s=\\frac{1}{2}\\{\\phi_i\\}^T [K_j]\\{\\phi_i\\}$ = 변형률 에너지\n",
    "\n",
    "$\\{\\phi_i\\}$ = 모드 i에 대한 변위 벡터\n",
    "\n",
    "$[K_j]$ = 재료 j의 구조물 부분에 대한 강성 행렬\n",
    "\n",
    "$\\zeta_i^m$ = 모드 i에 대한 모드 감쇠비"
   ]
  },
  {
   "cell_type": "markdown",
   "id": "f6f39648",
   "metadata": {},
   "source": [
    "재료에 따른 감쇠 기여도는 모드 확장 단계에서 계산되어 포함되게 됨"
   ]
  },
  {
   "cell_type": "markdown",
   "id": "360cfba2",
   "metadata": {},
   "source": [
    "### 17.7.5 기여도 및 모드계수 (Participation Factors and Mode Coefficients)"
   ]
  },
  {
   "cell_type": "markdown",
   "id": "acb400b1",
   "metadata": {},
   "source": [
    "주어진 가진 방향에 대한 기여도는 다음과 같이 정의됨"
   ]
  },
  {
   "cell_type": "markdown",
   "id": "71953b09",
   "metadata": {},
   "source": [
    "$\\gamma_i = \\{\\phi\\}_i^T [M] \\{D\\}\\tag{17-121}$ : 기저가진 옵션인 경우"
   ]
  },
  {
   "cell_type": "markdown",
   "id": "714abfb7",
   "metadata": {},
   "source": [
    "$\\gamma_i=\\{\\phi\\}_i^T\\{F\\}\\tag{17-122}$ : 하중가진 옵션인 경우"
   ]
  },
  {
   "cell_type": "markdown",
   "id": "e0a980b5",
   "metadata": {},
   "source": [
    "여기서,"
   ]
  },
  {
   "cell_type": "markdown",
   "id": "0469e0ac",
   "metadata": {},
   "source": [
    "$\\gamma_i$ : i 번째 모드에 대한 기여도"
   ]
  },
  {
   "cell_type": "markdown",
   "id": "830f4895",
   "metadata": {},
   "source": [
    "$\\{\\phi\\}_i$ = 식 17-42를 사용해 정규화한 아이겐 벡터"
   ]
  },
  {
   "cell_type": "markdown",
   "id": "0a464040",
   "metadata": {},
   "source": [
    "$\\{D\\}$ = 가진 방향을 정의하는 벡터"
   ]
  },
  {
   "cell_type": "markdown",
   "id": "76f1976e",
   "metadata": {},
   "source": [
    "$\\{F\\}$ = 입력 하중 벡터"
   ]
  },
  {
   "cell_type": "markdown",
   "id": "cb37a5b1",
   "metadata": {},
   "source": [
    "가진 방향을 정의하는 벡터는 다음과 같은 형태를 가짐"
   ]
  },
  {
   "cell_type": "markdown",
   "id": "5380e48d",
   "metadata": {},
   "source": [
    "$\\{D\\}=[T]\\{e\\}\\tag{17-123}$"
   ]
  },
  {
   "cell_type": "markdown",
   "id": "6afdf24b",
   "metadata": {},
   "source": [
    "여기서,"
   ]
  },
  {
   "cell_type": "markdown",
   "id": "2e73dc56",
   "metadata": {},
   "source": [
    "$\\{D\\}=[D_1^a D_2^a D_3^a \\dots]^T$"
   ]
  },
  {
   "cell_type": "markdown",
   "id": "e147fa75",
   "metadata": {},
   "source": [
    "$D_j^a$ = 방향 a에서 DOF j 에 대한 가진 ; X, Y, Z 또는 회전 방향에 대한 것일 수 있음"
   ]
  },
  {
   "cell_type": "markdown",
   "id": "41724db5",
   "metadata": {},
   "source": [
    "$[T]=\\begin{bmatrix}\n",
    "1 && 0 && 0 && 0 && (Z-Z_0) && -(Y-Y_0) \\\\\n",
    "0 && 1 && 0 && -(Z-Z_0) && 0 && (X-X_0) \\\\\n",
    "0 && 0 && 1 && (Y-Y_0) && -(X-X_0) && 0 \\\\\n",
    "0 && 0 && 0 && 1 && 0 && 0 \\\\\n",
    "0 && 0 && 0 && 0 && 1 && 0 \\\\\n",
    "0 && 0 && 0 && 0 && 0 && 1 \\\\\n",
    "\\end{bmatrix}$"
   ]
  },
  {
   "cell_type": "markdown",
   "id": "0cef8a7b",
   "metadata": {},
   "source": [
    "$X,\\;Y,\\;Z$ = 전체 좌표계의 위치\n",
    "\n",
    "$X_o,\\;Y_o,\\;Z_o$ = 회전이 적용된 경우 전체 좌표계에서의 위치\n",
    "\n",
    "$\\{e\\}$ = 6개의 가능한 단위 벡터"
   ]
  },
  {
   "cell_type": "markdown",
   "id": "c498f773",
   "metadata": {},
   "source": [
    "축 $[T]$에 대한 이동 개념을 적용해 참조 점의 강체운동 변위에 의한 j에서의 정적 등가 작용을 계산할 수 있음"
   ]
  },
  {
   "cell_type": "markdown",
   "id": "1cb9e23e",
   "metadata": {},
   "source": [
    "스펙트럼 해석의 경우, $D^a$의 값들은 2가지 방법으로 결정할 수 있음"
   ]
  },
  {
   "cell_type": "markdown",
   "id": "52b7fe48",
   "metadata": {},
   "source": [
    "1. roking이 포함되지 않은 D 값들의 경우,"
   ]
  },
  {
   "cell_type": "markdown",
   "id": "789e658c",
   "metadata": {},
   "source": [
    "$D_X=\\frac{S_X}{B}\\tag{17-124}$"
   ]
  },
  {
   "cell_type": "markdown",
   "id": "d9d06bd4",
   "metadata": {},
   "source": [
    "$D_Y=\\frac{S_Y}{B}\\tag{17-125}$"
   ]
  },
  {
   "cell_type": "markdown",
   "id": "46b5014a",
   "metadata": {},
   "source": [
    "$D_Z=\\frac{S_Z}{B}\\tag{17-126}$"
   ]
  },
  {
   "cell_type": "markdown",
   "id": "7504c4d2",
   "metadata": {},
   "source": [
    "여기서,"
   ]
  },
  {
   "cell_type": "markdown",
   "id": "aab552b1",
   "metadata": {},
   "source": [
    "$S_x,\\; S_y,\\; S_z$ = 가진 방향에 대한 성분 (SED 명령어에서 SEDX, SEDY, SEDZ로 입력됨)"
   ]
  },
  {
   "cell_type": "markdown",
   "id": "51d4da9b",
   "metadata": {},
   "source": [
    "$B=\\sqrt{(S_X)^2+(S_Y)^2+(S_Z)^2}$"
   ]
  },
  {
   "cell_type": "markdown",
   "id": "5d466ce4",
   "metadata": {},
   "source": [
    "2. 또는 rocking이 포함된 D 값들의 경우 (SED 및 ROCK 명령어로 정의됨)"
   ]
  },
  {
   "cell_type": "markdown",
   "id": "b8150c54",
   "metadata": {},
   "source": [
    "$D_X = S_X+R_X\\tag{17-127}$"
   ]
  },
  {
   "cell_type": "markdown",
   "id": "d7990a01",
   "metadata": {},
   "source": [
    "$D_Y=S_Y+R_Y\\tag{17-128}$"
   ]
  },
  {
   "cell_type": "markdown",
   "id": "76361dec",
   "metadata": {},
   "source": [
    "$D_Z=S_Z + R_Z\\tag{17-129}$"
   ]
  },
  {
   "cell_type": "markdown",
   "id": "a0fe9600",
   "metadata": {},
   "source": [
    "R은 다음과 같이 정의됨"
   ]
  },
  {
   "cell_type": "markdown",
   "id": "a56d0f46",
   "metadata": {},
   "source": [
    "$\\begin{Bmatrix}\n",
    "R_X \\\\\n",
    "R_Y \\\\\n",
    "R_Z\n",
    "\\end{Bmatrix}\n",
    "=\n",
    "\\begin{Bmatrix}\n",
    "C_X \\\\\n",
    "C_Y \\\\\n",
    "C_Z\n",
    "\\end{Bmatrix}\n",
    "\\times\n",
    "\\begin{Bmatrix}\n",
    "r_x \\\\\n",
    "r_y \\\\\n",
    "r_z\n",
    "\\end{Bmatrix}\n",
    "\\tag{17-130}$\n",
    "\n",
    "\n"
   ]
  },
  {
   "cell_type": "markdown",
   "id": "d1ad7203",
   "metadata": {},
   "source": [
    "여기서,"
   ]
  },
  {
   "cell_type": "markdown",
   "id": "90f813e0",
   "metadata": {},
   "source": [
    "$C_X,\\;C_Y,\\;C_Z$ = 회전 속도 성분들 (ROCK 명령어의 OMX, OMY, OMZ로 입력됨)"
   ]
  },
  {
   "cell_type": "markdown",
   "id": "c2c7cbf8",
   "metadata": {},
   "source": [
    "$\\times$ = 벡터 외적"
   ]
  },
  {
   "cell_type": "markdown",
   "id": "c28fcd1a",
   "metadata": {},
   "source": [
    "$r_x=X^n-L_x$\n",
    "\n",
    "$r_y=Y^n-L_y$\n",
    "\n",
    "$r_z=Z^n-L_z$"
   ]
  },
  {
   "cell_type": "markdown",
   "id": "99722c0d",
   "metadata": {},
   "source": [
    "$X^n,\\;Y^n,\\;Z^n$ = 절점 n의 좌표"
   ]
  },
  {
   "cell_type": "markdown",
   "id": "52dfeb34",
   "metadata": {},
   "source": [
    "$L_X,\\;L_Y,\\;L_Z$ = 회전 중심에 대한 위치 (ROCK 명령어에서 CGX, CGY, CGZ로 입력됨)"
   ]
  },
  {
   "cell_type": "markdown",
   "id": "7f08ff77",
   "metadata": {},
   "source": [
    "모드 해석에서, 가장 큰 기여도에 대한 각 기여도의 비율이 출력됨 (RATIO로 출력됨)"
   ]
  },
  {
   "cell_type": "markdown",
   "id": "e4dd0ba5",
   "metadata": {},
   "source": [
    "각 모드에 대한 변위, 속도, 가속도 벡터는 모드 계수(mode coefficient)를 사용해 계산된 고유벡터로 부터 계산됨"
   ]
  },
  {
   "cell_type": "markdown",
   "id": "cdf6bb99",
   "metadata": {},
   "source": [
    "$\\{r\\}_i=\\omega_i^m A_i \\{\\phi\\}_i\\tag{17-131}$"
   ]
  },
  {
   "cell_type": "markdown",
   "id": "955ba3b4",
   "metadata": {},
   "source": [
    "여기서,"
   ]
  },
  {
   "cell_type": "markdown",
   "id": "83efd604",
   "metadata": {},
   "source": [
    "$m=0,\\;1,\\;2$ 변위인지, 속도인지, 가속도인지에 따라 결정됨"
   ]
  },
  {
   "cell_type": "markdown",
   "id": "20410c21",
   "metadata": {},
   "source": [
    "$A_i$ = 모드계수(mode coefficient) (아래 참조)"
   ]
  },
  {
   "cell_type": "markdown",
   "id": "90a36638",
   "metadata": {},
   "source": [
    "모드 계수는 가진의 형태에 따라 5개의 다른 방법에 의해 계산됨. "
   ]
  },
  {
   "cell_type": "markdown",
   "id": "d758b00f",
   "metadata": {},
   "source": [
    "1. 기저 속도 가진인 경우"
   ]
  },
  {
   "cell_type": "markdown",
   "id": "2802de1e",
   "metadata": {},
   "source": [
    "$A_i=\\frac{S_{vi}\\gamma_i}{\\omega_i}\\tag{17-132}$"
   ]
  },
  {
   "cell_type": "markdown",
   "id": "dd8dee84",
   "metadata": {},
   "source": [
    "여기서,"
   ]
  },
  {
   "cell_type": "markdown",
   "id": "866186e7",
   "metadata": {},
   "source": [
    "$S_{vi}$ = i번째 모드에 대한 스펙트럼 속도 (주파수 $f_i$ 및 유효 감쇠비 $\\zeta_i'$에서의 입력 속도로 부터 계산됨)"
   ]
  },
  {
   "cell_type": "markdown",
   "id": "64343b8b",
   "metadata": {},
   "source": [
    "$f_i$ = i 번째 고유진동수 (단위 시간 당 사이클 단위 = $\\frac{\\omega_i}{2\\pi}$)"
   ]
  },
  {
   "cell_type": "markdown",
   "id": "93164245",
   "metadata": {},
   "source": [
    "$\\omega_i$ = i 번째 회전 주파수 (단위 시간 당 radian 단위)"
   ]
  },
  {
   "cell_type": "markdown",
   "id": "b9b43c81",
   "metadata": {},
   "source": [
    "2. 하중 가진인 경우"
   ]
  },
  {
   "cell_type": "markdown",
   "id": "572e51a4",
   "metadata": {},
   "source": [
    "$A_i=\\frac{S_{fi}\\gamma_i}{\\omega_i^2}\\tag{17-133}$"
   ]
  },
  {
   "cell_type": "markdown",
   "id": "33926a39",
   "metadata": {},
   "source": [
    "여기서,"
   ]
  },
  {
   "cell_type": "markdown",
   "id": "62c88cb4",
   "metadata": {},
   "source": [
    "$S_{fi}$ = i 번째 모드에 대한 스펙트럼 하중 (주파수 $f_i$ 및 유효 감쇠비 $\\zeta_i'$에서의 입력 크기 승수(multiplier)로 부터 계산)"
   ]
  },
  {
   "cell_type": "markdown",
   "id": "5350becf",
   "metadata": {},
   "source": [
    "3. 기저 가속도 가진인 경우"
   ]
  },
  {
   "cell_type": "markdown",
   "id": "b8bb4803",
   "metadata": {},
   "source": [
    "$A_i=\\frac{S_{ai}\\gamma_i}{\\omega_i^2}\\tag{17-134}$"
   ]
  },
  {
   "cell_type": "markdown",
   "id": "47f33d2f",
   "metadata": {},
   "source": [
    "여기서,"
   ]
  },
  {
   "cell_type": "markdown",
   "id": "30c24ef5",
   "metadata": {},
   "source": [
    "$S_{ai}$ = 모드 i에서의 스펙트럼 가속도 (주파수 $f_i$ 및 유효감쇠비 $\\zeta_i'$에서의 입력 가속도 스펙트럼으로 부터 얻음)"
   ]
  },
  {
   "cell_type": "markdown",
   "id": "4bd1a33a",
   "metadata": {},
   "source": [
    "4. 변위가진인 경우"
   ]
  },
  {
   "cell_type": "markdown",
   "id": "224fe50a",
   "metadata": {},
   "source": [
    "$A_i=S_{ui}\\gamma_i\\tag{17-135}$"
   ]
  },
  {
   "cell_type": "markdown",
   "id": "22c2714a",
   "metadata": {},
   "source": [
    "여기서,"
   ]
  },
  {
   "cell_type": "markdown",
   "id": "a06a1a0c",
   "metadata": {},
   "source": [
    "$S_{ui}$ = i번째 모드에 대한 스펙트럼 변위 (주파수 $f_i$ 및 유효감쇠비 $\\zeta_i'$에서의 변위 응답 스펙트럼 입력으로 부터 얻음)"
   ]
  },
  {
   "cell_type": "markdown",
   "id": "5d9ebc8e",
   "metadata": {},
   "source": [
    "5. 파워스펙트럼밀도(PSD)인 경우"
   ]
  },
  {
   "cell_type": "markdown",
   "id": "ca98fd49",
   "metadata": {},
   "source": [
    "$A_i=\\frac{\\gamma_i}{\\omega_i^2}\\left(S_{pi}\\omega_i\\left(\\frac{\\pi}{4\\zeta}-1\\right)+\\int_0^{\\omega_i}S_p d\\omega\\right)^{\\frac{1}{2}}\\tag{17-136}$"
   ]
  },
  {
   "cell_type": "markdown",
   "id": "a3e6bef2",
   "metadata": {},
   "source": [
    "여기서,"
   ]
  },
  {
   "cell_type": "markdown",
   "id": "bf172f18",
   "metadata": {},
   "source": [
    "$S_{pi}$ = i번째 모드에 대한 파워스펙트럼밀도 (주파수 $f_i$ 및 유효감쇠비 $\\zeta_i'$에서의 PSD 스펙트럼 입력으로 부터 얻음)"
   ]
  },
  {
   "cell_type": "markdown",
   "id": "11ccab0b",
   "metadata": {},
   "source": [
    "$\\zeta$ = 감쇠비"
   ]
  },
  {
   "cell_type": "markdown",
   "id": "e0f9b613",
   "metadata": {},
   "source": [
    "식 17-136의 적분은 다음과 같이 근사할 수 있음"
   ]
  },
  {
   "cell_type": "markdown",
   "id": "146ca838",
   "metadata": {},
   "source": [
    "$\\int_0^{\\omega_i}S_p d\\omega=\\sum_{j=1}^{L_i}S_{pj}\\Delta f\\tag{17-137}$"
   ]
  },
  {
   "cell_type": "markdown",
   "id": "5947f4fa",
   "metadata": {},
   "source": [
    "여기서,"
   ]
  },
  {
   "cell_type": "markdown",
   "id": "d9b4f9c8",
   "metadata": {},
   "source": [
    "$L_i$ = $f_i$ (정수형태)"
   ]
  },
  {
   "cell_type": "markdown",
   "id": "54ef43b7",
   "metadata": {},
   "source": [
    "$S_{pj}$ = 주파수 f=j에서의 PSD (실수형태)"
   ]
  },
  {
   "cell_type": "markdown",
   "id": "2278c579",
   "metadata": {},
   "source": [
    "$\\Delta f$ = $f_i=1$에서의 유효 주파수밴드 "
   ]
  },
  {
   "cell_type": "markdown",
   "id": "7180ab88",
   "metadata": {},
   "source": [
    "입력 주파수 값들 사이에서 $S_{vi}$, $S_{fi}$, $S_{ai}$, $S_{ui}$가 필요한 경우, log-log 내삽을 통해 얻을 수 있음"
   ]
  },
  {
   "cell_type": "markdown",
   "id": "77b6eb2e",
   "metadata": {},
   "source": [
    "\"RESPONSE SPECTRUM CALCUATION SUMMARY\"에 표시된 스펙트럼 값들 및 모드계수들은 유효 감쇠비 $\\zeta_i'$가 아닌 가장 낮은 감쇠비에 대한 입력 커브에 대해 평가된 값들임"
   ]
  },
  {
   "cell_type": "markdown",
   "id": "f0bdcd32",
   "metadata": {},
   "source": [
    "### 17.7.6 모드조합"
   ]
  },
  {
   "cell_type": "markdown",
   "id": "5ed07025",
   "metadata": {},
   "source": [
    "구조물의 응답을 얻기 위해, 모드 변위, 속도, 가속도는 다양한 방법으로 조합될 수 있음. "
   ]
  },
  {
   "cell_type": "code",
   "execution_count": null,
   "id": "ea9bac16",
   "metadata": {},
   "outputs": [],
   "source": []
  }
 ],
 "metadata": {
  "kernelspec": {
   "display_name": "Python 3",
   "language": "python",
   "name": "python3"
  },
  "language_info": {
   "codemirror_mode": {
    "name": "ipython",
    "version": 3
   },
   "file_extension": ".py",
   "mimetype": "text/x-python",
   "name": "python",
   "nbconvert_exporter": "python",
   "pygments_lexer": "ipython3",
   "version": "3.8.8"
  }
 },
 "nbformat": 4,
 "nbformat_minor": 5
}
