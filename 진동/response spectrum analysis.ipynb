{
 "cells": [
  {
   "cell_type": "markdown",
   "id": "f1c675a8",
   "metadata": {},
   "source": [
    "### 17.1.1 가정 및 제한사항"
   ]
  },
  {
   "cell_type": "markdown",
   "id": "49ac07db",
   "metadata": {},
   "source": [
    "1. 구조물을 선형"
   ]
  },
  {
   "cell_type": "markdown",
   "id": "40ed9773",
   "metadata": {},
   "source": [
    "2. 단일점 응답스펙트럼 해석의 경우와 동적 설계 해석 방법의 경우 구조물은 알려진 방향 및 주파수 성분에 의해 모든 지지점 또는 정의된 비 지지점의 자유도에 균일하게 가진받음"
   ]
  },
  {
   "cell_type": "markdown",
   "id": "2de04fe0",
   "metadata": {},
   "source": [
    "3. 다중점 응답스펙트럼 및 PSD 해석의 경우, 구조물은 다른 지지점 및 비지지 절점에 대해 다른 스펙트럼 입력으로 가진할 수 있음. 최대 10개 까지의 다른 스펙트럼을 동시에 가진할 수 있음."
   ]
  },
  {
   "cell_type": "markdown",
   "id": "32f02cc4",
   "metadata": {},
   "source": [
    "### 17.7.2 해석에 대한 설명"
   ]
  },
  {
   "cell_type": "markdown",
   "id": "b9e02fb3",
   "metadata": {},
   "source": [
    "스펙트럼 해석은 별도의 해석 과정이며, 모드해석이 선행되어야 함. 모드조합이 필요한 경우, 모드-주파수 해석에 설명된 대로 모드들은 확장(expanded) 되어야 함.\n",
    "\n",
    "단일점 응답스펙트럼 방법(SPRS), 동적 설계 해석 방법(DDAM), 랜덤 진동 방법(PSD), 다중점 스펙트럼 방법(MPRS) 4가지 옵션이 있음. 각 옵션은 다음에 상세히 설명됨."
   ]
  },
  {
   "cell_type": "markdown",
   "id": "49bc88b4",
   "metadata": {},
   "source": [
    "### 17.7.3 단일점 응답스펙트럼"
   ]
  },
  {
   "cell_type": "markdown",
   "id": "9023054a",
   "metadata": {},
   "source": [
    "단일점 응답스펙트럼 해석에서는 지지점(기저가진) 및 지지점에서 떨어진 가진(하중 가진)  모두 가증함. 아래의 표는 이와 관련된 내용을 요약한 것임."
   ]
  },
  {
   "cell_type": "markdown",
   "id": "78752096",
   "metadata": {},
   "source": [
    "### 17.7.4 감쇠"
   ]
  },
  {
   "cell_type": "markdown",
   "id": "35a29dd4",
   "metadata": {},
   "source": [
    "각 모드에서 평가되는 감쇠는 다음과 같이 정의됨."
   ]
  },
  {
   "cell_type": "markdown",
   "id": "842722fc",
   "metadata": {},
   "source": [
    "$$\\zeta_i'=\\frac{\\beta \\omega_i}{2}+\\zeta_c+\\frac{\\sum_{j=1}^{N_m}\\beta_j^m E_j^s}{\\sum_{j=1}^{N_m} E_j^s}+\\zeta_i^m \\tag{17-120}$$"
   ]
  },
  {
   "cell_type": "markdown",
   "id": "225250ef",
   "metadata": {},
   "source": [
    "여기서,"
   ]
  },
  {
   "cell_type": "markdown",
   "id": "04fa31f0",
   "metadata": {},
   "source": [
    "$\\zeta_i;$ = 모드 i에서의 유효 감쇠비\n",
    "\n",
    "$\\beta$ = 베타 감쇠\n",
    "\n",
    "$\\omega_i$ = 모드 i에서 비감쇠 자연 원형 주파수\n",
    "\n",
    "$\\zeta_c$ = 감쇠비\n",
    "\n",
    "$N_m$ = 재료의 개수\n",
    "\n",
    "$\\beta_j^m$ = 재료 j에 대한 감쇠 상수 강성 행렬 곱\n",
    "\n",
    "$E_j^s=\\frac{1}{2}\\{\\phi_i\\}^T [K_j]\\{\\phi_i\\}$ = 변형률 에너지\n",
    "\n",
    "$\\{\\phi_i\\}$ = 모드 i에 대한 변위 벡터\n",
    "\n",
    "$[K_j]$ = 재료 j의 구조물 부분에 대한 강성 행렬\n",
    "\n",
    "$\\zeta_i^m$ = 모드 i에 대한 모드 감쇠비"
   ]
  },
  {
   "cell_type": "markdown",
   "id": "f6f39648",
   "metadata": {},
   "source": [
    "재료에 따른 감쇠 기여도는 모드 확장 단계에서 계산되어 포함되게 됨"
   ]
  },
  {
   "cell_type": "markdown",
   "id": "360cfba2",
   "metadata": {},
   "source": [
    "### 17.7.5 기여도 및 모드계수 (Participation Factors and Mode Coefficients)"
   ]
  },
  {
   "cell_type": "markdown",
   "id": "acb400b1",
   "metadata": {},
   "source": [
    "주어진 가진 방향에 대한 기여도는 다음과 같이 정의됨"
   ]
  },
  {
   "cell_type": "markdown",
   "id": "71953b09",
   "metadata": {},
   "source": [
    "$\\gamma_i = \\{\\phi\\}_i^T [M] \\{D\\}\\tag{17-121}$ : 기저가진 옵션인 경우"
   ]
  },
  {
   "cell_type": "code",
   "execution_count": null,
   "id": "8d813628",
   "metadata": {},
   "outputs": [],
   "source": []
  }
 ],
 "metadata": {
  "kernelspec": {
   "display_name": "Python 3",
   "language": "python",
   "name": "python3"
  },
  "language_info": {
   "codemirror_mode": {
    "name": "ipython",
    "version": 3
   },
   "file_extension": ".py",
   "mimetype": "text/x-python",
   "name": "python",
   "nbconvert_exporter": "python",
   "pygments_lexer": "ipython3",
   "version": "3.8.8"
  }
 },
 "nbformat": 4,
 "nbformat_minor": 5
}
