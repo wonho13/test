{
 "cells": [
  {
   "cell_type": "code",
   "execution_count": 1,
   "metadata": {},
   "outputs": [],
   "source": [
    "import numpy as np\n",
    "import matplotlib.pyplot as plt\n",
    "from math import gamma\n",
    "from scipy.special import erf\n",
    "from scipy.signal import welch\n",
    "import warnings\n",
    "warnings.filterwarnings(action='ignore');\n",
    "import rainflow"
   ]
  },
  {
   "cell_type": "code",
   "execution_count": 2,
   "metadata": {},
   "outputs": [],
   "source": [
    "def H(f,fn,zeta):   # Input : Acceleration / Output : Relative Displacement\n",
    "    return (1j*2*zeta*f*fn+fn**2)/((fn**2-f**2+1j*2*zeta*f*fn));"
   ]
  },
  {
   "cell_type": "code",
   "execution_count": 3,
   "metadata": {},
   "outputs": [],
   "source": [
    "def HH(f,fn,zeta):   # Input : Acceleration / Output : Relative Displacement\n",
    "    return np.abs(H(f,fn,zeta)*np.conjugate(H(f,fn,zeta)));"
   ]
  },
  {
   "cell_type": "code",
   "execution_count": 4,
   "metadata": {},
   "outputs": [],
   "source": [
    "def log_interp(x,x_spec,y_spec):\n",
    "    return 10**np.interp(np.log10(x),np.log10(x_spec),np.log10(y_spec));"
   ]
  },
  {
   "cell_type": "code",
   "execution_count": 5,
   "metadata": {},
   "outputs": [],
   "source": [
    "def M(freq,psd,n):\n",
    "    psd1 = psd*freq**n;\n",
    "    return np.trapz(psd1,freq);"
   ]
  },
  {
   "cell_type": "code",
   "execution_count": 6,
   "metadata": {},
   "outputs": [],
   "source": [
    "def psd2vrs(freq,psd,freq_tab,zeta):\n",
    "    fi = np.linspace(min(freq),max(freq),10000);\n",
    "    pi = log_interp(fi,freq,psd);\n",
    "    grms = np.zeros(len(freq_tab));\n",
    "    for i in range(len(freq_tab)):\n",
    "        rpsd = pi*HH(fi,freq_tab[i],zeta);\n",
    "        grms[i] = np.sqrt(M(fi,rpsd,0));\n",
    "    return grms"
   ]
  },
  {
   "cell_type": "code",
   "execution_count": 7,
   "metadata": {},
   "outputs": [],
   "source": [
    "freq = np.array([1,1000]); psd = np.array([1,1]);\n",
    "freq_tab = np.linspace(1,1000,1000);\n",
    "vrs = psd2vrs(freq,psd,freq_tab,0.05);"
   ]
  },
  {
   "cell_type": "code",
   "execution_count": 8,
   "metadata": {},
   "outputs": [
    {
     "data": {
      "image/png": "[encoded data removed]",
      "text/plain": [
       "<Figure size 432x288 with 1 Axes>"
      ]
     },
     "metadata": {
      "needs_background": "light"
     },
     "output_type": "display_data"
    }
   ],
   "source": [
    "plt.plot(freq_tab,vrs);"
   ]
  },
  {
   "cell_type": "code",
   "execution_count": null,
   "metadata": {},
   "outputs": [],
   "source": []
  }
 ],
 "metadata": {
  "kernelspec": {
   "display_name": "Python 3",
   "language": "python",
   "name": "python3"
  },
  "language_info": {
   "codemirror_mode": {
    "name": "ipython",
    "version": 3
   },
   "file_extension": ".py",
   "mimetype": "text/x-python",
   "name": "python",
   "nbconvert_exporter": "python",
   "pygments_lexer": "ipython3",
   "version": "3.8.3"
  }
 },
 "nbformat": 4,
 "nbformat_minor": 4
}
