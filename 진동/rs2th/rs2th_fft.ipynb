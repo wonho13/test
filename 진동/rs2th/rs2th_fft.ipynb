{
 "cells": [
  {
   "cell_type": "code",
   "execution_count": 1,
   "id": "a4c01f66",
   "metadata": {},
   "outputs": [],
   "source": [
    "import numpy as np\n",
    "import matplotlib.pyplot as plt\n",
    "from scipy.signal import lfilter"
   ]
  },
  {
   "cell_type": "code",
   "execution_count": 2,
   "id": "7415cb08",
   "metadata": {},
   "outputs": [],
   "source": [
    "# SDOF Transient Response (ISO 18431-4)\n",
    "# th_in : acceleration time history at base\n",
    "# th_out : acceleration time history at mass\n",
    "def SDOF_ISO(th_in,dt,fn,zeta):\n",
    "\n",
    "    wn = 2*np.pi*fn;\n",
    "    wd = wn*np.sqrt(1-zeta**2);\n",
    "    A=wn*dt*zeta;\n",
    "    B=wd*dt;\n",
    "    \n",
    "    a, b = np.zeros(3), np.zeros(3);\n",
    "\n",
    "    b[0] = 1 - np.exp(-A)*np.sin(B)/B;\n",
    "    b[1] = 2*np.exp(-A)*(np.sin(B)/B - np.cos(B));\n",
    "    b[2] = np.exp(-2*A) - np.exp(-A) * np.sin(B)/B;\n",
    "\n",
    "    a[0] = 1;\n",
    "    a[1] = -2*np.exp(-A)*np.cos(B);\n",
    "    a[2] = np.exp(-2*A);\n",
    "\n",
    "    th_out=lfilter(b, a, th_in, axis=-1, zi=None);\n",
    "    \n",
    "    return th_out;"
   ]
  },
  {
   "cell_type": "code",
   "execution_count": 3,
   "id": "df53b2a2",
   "metadata": {},
   "outputs": [],
   "source": [
    "## SRS (ISO 18431-4)\n",
    "def srs_iso(ft,th,dr,dt):\n",
    "    nf = len(ft);\n",
    "    rs = np.zeros(nf);\n",
    "    for i in range(nf):\n",
    "        rs[i]= max(abs(SDOF_ISO(th,dt,ft[i],dr)));\n",
    "    return ft,rs;"
   ]
  },
  {
   "cell_type": "code",
   "execution_count": 4,
   "id": "ae21e84b",
   "metadata": {},
   "outputs": [],
   "source": [
    "# RG 1.60\n",
    "ft = np.array([0.10,  2.50, 9.00, 33.0, 100.0]);  # frequency table\n",
    "rt = np.array([0.07,  3.13, 2.61,  1.0,   1.0]);  # response spectrum table"
   ]
  },
  {
   "cell_type": "code",
   "execution_count": 5,
   "id": "db35b9e4",
   "metadata": {},
   "outputs": [
    {
     "data": {
      "image/png": "[encoded data removed]",
      "text/plain": [
       "<Figure size 432x288 with 1 Axes>"
      ]
     },
     "metadata": {
      "needs_background": "light"
     },
     "output_type": "display_data"
    }
   ],
   "source": [
    "plt.loglog(ft,rt);"
   ]
  },
  {
   "cell_type": "code",
   "execution_count": 6,
   "id": "7922263d",
   "metadata": {},
   "outputs": [],
   "source": [
    "tmax = 5; fmax=100;\n",
    "dt = 1/(2*fmax); t = np.arange(0,tmax+dt,dt)"
   ]
  },
  {
   "cell_type": "code",
   "execution_count": 7,
   "id": "e20c3197",
   "metadata": {},
   "outputs": [],
   "source": [
    "## frequency table 작성\n",
    "Nt = len(t); df = fmax/(Nt//2);\n",
    "freq = np.arange(df, fmax+df, df);"
   ]
  },
  {
   "cell_type": "code",
   "execution_count": 8,
   "id": "75a25ce4",
   "metadata": {},
   "outputs": [],
   "source": [
    "## log-log interpolation\n",
    "rs = 10**np.interp(np.log10(freq),np.log10(ft),np.log10(rt));"
   ]
  },
  {
   "cell_type": "code",
   "execution_count": 9,
   "id": "2d4158bd",
   "metadata": {},
   "outputs": [
    {
     "data": {
      "image/png": "[encoded data removed]",
      "text/plain": [
       "<Figure size 432x288 with 1 Axes>"
      ]
     },
     "metadata": {
      "needs_background": "light"
     },
     "output_type": "display_data"
    }
   ],
   "source": [
    "plt.loglog(freq,rs,'b.');"
   ]
  },
  {
   "cell_type": "code",
   "execution_count": 12,
   "id": "fcf5d61d",
   "metadata": {},
   "outputs": [],
   "source": [
    "th = np.random.random(len(t));\n",
    "An = np.zeros(len(rs));\n",
    "freq,rs_syn = srs_iso(freq,th,0.05,dt);"
   ]
  },
  {
   "cell_type": "code",
   "execution_count": 22,
   "id": "9ecdbaae",
   "metadata": {},
   "outputs": [
    {
     "data": {
      "image/png": "[encoded data removed]",
      "text/plain": [
       "<Figure size 432x288 with 1 Axes>"
      ]
     },
     "metadata": {
      "needs_background": "light"
     },
     "output_type": "display_data"
    }
   ],
   "source": [
    "for k in range(10):\n",
    "    for i in range(len(freq)):\n",
    "        An[i] = rs[i]/rs_syn[i];\n",
    "    ft_th = np.fft.fft(th);\n",
    "    ft_th[:Nt//2] *= An\n",
    "    ft_th[-(Nt//2):] *= np.flip(An);\n",
    "    th = np.fft.ifft(ft_th)\n",
    "    freq,rs_syn = srs_iso(freq,th,0.05,dt);\n",
    "    plt.loglog(freq,rs,'r-');\n",
    "    plt.loglog(freq,rs_syn,'b--');"
   ]
  },
  {
   "cell_type": "code",
   "execution_count": null,
   "id": "26d5004d",
   "metadata": {},
   "outputs": [],
   "source": []
  }
 ],
 "metadata": {
  "kernelspec": {
   "display_name": "Python 3 (ipykernel)",
   "language": "python",
   "name": "python3"
  },
  "language_info": {
   "codemirror_mode": {
    "name": "ipython",
    "version": 3
   },
   "file_extension": ".py",
   "mimetype": "text/x-python",
   "name": "python",
   "nbconvert_exporter": "python",
   "pygments_lexer": "ipython3",
   "version": "3.9.7"
  },
  "latex_envs": {
   "LaTeX_envs_menu_present": true,
   "autoclose": false,
   "autocomplete": true,
   "bibliofile": "biblio.bib",
   "cite_by": "apalike",
   "current_citInitial": 1,
   "eqLabelWithNumbers": true,
   "eqNumInitial": 1,
   "hotkeys": {
    "equation": "Ctrl-E",
    "itemize": "Ctrl-I"
   },
   "labels_anchors": false,
   "latex_user_defs": false,
   "report_style_numbering": false,
   "user_envs_cfg": false
  }
 },
 "nbformat": 4,
 "nbformat_minor": 5
}
