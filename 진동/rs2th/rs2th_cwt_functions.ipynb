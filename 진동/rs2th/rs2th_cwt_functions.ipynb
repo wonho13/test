{
 "cells": [
  {
   "cell_type": "code",
   "execution_count": null,
   "id": "3d017503",
   "metadata": {},
   "outputs": [],
   "source": [
    "import numpy as np\n",
    "import matplotlib.pyplot as plt\n",
    "from scipy.signal import lfilter"
   ]
  },
  {
   "cell_type": "code",
   "execution_count": null,
   "id": "3d5a6d17",
   "metadata": {},
   "outputs": [],
   "source": [
    "## SRS (ISO 18431-4)\n",
    "def srs_iso(ft,th,dr,dt):\n",
    "    nf = len(ft);\n",
    "    rs = np.zeros(nf);\n",
    "    for i in range(nf):\n",
    "        rs[i]= max(abs(SDOF_ISO(th,dt,ft[i],dr)));\n",
    "    return ft,rs;"
   ]
  },
  {
   "cell_type": "code",
   "execution_count": null,
   "id": "56b2c17d",
   "metadata": {},
   "outputs": [],
   "source": [
    "# SDOF Transient Response (ISO 18431-4)\n",
    "# th_in : acceleration time history at base\n",
    "# th_out : acceleration time history at mass\n",
    "def SDOF_ISO(th_in,dt,fn,zeta):\n",
    "\n",
    "    wn = 2*np.pi*fn;\n",
    "    wd = wn*np.sqrt(1-zeta**2);\n",
    "    A=wn*dt*zeta;\n",
    "    B=wd*dt;\n",
    "    \n",
    "    a, b = np.zeros(3), np.zeros(3);\n",
    "\n",
    "    b[0] = 1 - np.exp(-A)*np.sin(B)/B;\n",
    "    b[1] = 2*np.exp(-A)*(np.sin(B)/B - np.cos(B));\n",
    "    b[2] = np.exp(-2*A) - np.exp(-A) * np.sin(B)/B;\n",
    "\n",
    "    a[0] = 1;\n",
    "    a[1] = -2*np.exp(-A)*np.cos(B);\n",
    "    a[2] = np.exp(-2*A);\n",
    "\n",
    "    th_out=lfilter(b, a, th_in, axis=-1, zi=None);\n",
    "    \n",
    "    return th_out;"
   ]
  },
  {
   "cell_type": "code",
   "execution_count": null,
   "id": "155474b4",
   "metadata": {},
   "outputs": [],
   "source": [
    "def fileO(x,y,filename):\n",
    "    f = open(filename,'w');\n",
    "    #f = open(filename,'a'); # overwrite\n",
    "    for i in range(len(y)):\n",
    "        f.write('%.4e\\t%.4e\\n'%(x[i],y[i]));\n",
    "    f.close();"
   ]
  },
  {
   "cell_type": "code",
   "execution_count": null,
   "id": "1a5a15d1",
   "metadata": {},
   "outputs": [],
   "source": [
    "# SDOF Transient Response (Smallwood)\n",
    "# th_in : acceleration time history at base\n",
    "# th_out : acceleration time history at mass\n",
    "# out_opt : 1 = absolute acceleration / 2 = relative displacement\n",
    "def SDOF_smallwood(th_in,dt,fn,zeta,out_opt):\n",
    "    \n",
    "    wn = 2*np.pi*fn;\n",
    "    wd = wn*np.sqrt(1-zeta**2);\n",
    "    a, b = np.zeros(3), np.zeros(3);\n",
    "    E=np.exp(-zeta*wn*dt);\n",
    "    E2=np.exp(-2*zeta*wn*dt);\n",
    "    K=wd*dt;\n",
    "    C=E*np.cos(K);\n",
    "    P=2*zeta**2-1\n",
    "    S=E*np.sin(K);\n",
    "    Sp = S/K;\n",
    "    if out_opt ==1:\n",
    "\n",
    "        b[0] = 1 - Sp;\n",
    "        b[1] = 2*(Sp-C);\n",
    "        b[2] = E**2 - Sp;\n",
    "\n",
    "        a[0] = 1;\n",
    "        a[1] = -2*C;\n",
    "        a[2] = E**2;\n",
    "\n",
    "        th_out=lfilter(b, a, th_in, axis=-1, zi=None);\n",
    "    else:\n",
    "        a[0]=1         \n",
    "        a[1]=-2*C\n",
    "        a[2]=+E**2    \n",
    "        \n",
    "        b00=2*zeta*(C-1)\n",
    "        b01=S*wn/wd*P\n",
    "        b02=wn*dt\n",
    "            \n",
    "        b10=-2*wn*dt*C\n",
    "        b11= 2*zeta*(1-E2)\n",
    "        b12=-2*b01   \n",
    "    \n",
    "        b20=(2*zeta+wn*dt)*E2\n",
    "        b21= b01\n",
    "        b22=-2*zeta*C               \n",
    "            \n",
    "        b[0]=b00+b01+b02\n",
    "        b[1]=b10+b11+b12\n",
    "        b[2]=b20+b21+b22\n",
    "            \n",
    "        b=-b/(wn**3*dt)\n",
    "        \n",
    "        th_out=lfilter(b, a, th_in, axis=-1, zi=None);\n",
    "        th_out *=386.4;\n",
    "    return th_out;        "
   ]
  },
  {
   "cell_type": "code",
   "execution_count": null,
   "id": "2474afa4",
   "metadata": {},
   "outputs": [],
   "source": [
    "## SRS (Smallwood Method)\n",
    "def srs_sw(ft,th,dr,dt):\n",
    "    nf = len(ft);\n",
    "    rs = np.zeros(nf);\n",
    "    for i in range(nf):\n",
    "        rs[i]= max(abs(SDOF_smallwood(th,dt,ft[i],dr,1)));\n",
    "    return ft,rs;"
   ]
  },
  {
   "cell_type": "code",
   "execution_count": null,
   "id": "0f9a0a73",
   "metadata": {},
   "outputs": [],
   "source": [
    "## SRS (Smallwood Method) - Pseudo Acceleration Output\n",
    "def srs_sw_pa(ft,th,dr,dt):\n",
    "    nf = len(ft);\n",
    "    rs = np.zeros(nf);\n",
    "    for i in range(nf):\n",
    "        rs[i]= ((2*np.pi*ft[i])**2)*max(abs((SDOF_smallwood(th,dt,ft[i],dr,2))))/386.4;  \n",
    "    return ft,rs;"
   ]
  },
  {
   "cell_type": "code",
   "execution_count": null,
   "id": "426c1e05",
   "metadata": {},
   "outputs": [],
   "source": [
    "def fileI(filename):\n",
    "    tmp = []\n",
    "    f = open(filename,'r');\n",
    "    lines = f.readlines()\n",
    "    for line in lines:\n",
    "        tmp.append(line);\n",
    "    out=np.zeros([len(tmp),5]);\n",
    "    for i in range(len(out)):\n",
    "        out[i,:] = np.array(tmp[i].split()).astype(np.float64)\n",
    "    return out;"
   ]
  },
  {
   "cell_type": "code",
   "execution_count": null,
   "id": "a8eb10f8",
   "metadata": {},
   "outputs": [],
   "source": [
    "def w(m,n,x):\n",
    "    x[x==0]=1e-20;\n",
    "    return (np.exp(1j*n*2*np.pi*x)-np.exp(1j*m*2*np.pi*x))/(1j*(n-m)*2*np.pi*x);"
   ]
  },
  {
   "cell_type": "code",
   "execution_count": null,
   "id": "9ba8528a",
   "metadata": {},
   "outputs": [],
   "source": [
    "def wb(m,n,x):\n",
    "    return np.conjugate(w(m,n,x));"
   ]
  },
  {
   "cell_type": "code",
   "execution_count": null,
   "id": "054adf8e",
   "metadata": {},
   "outputs": [],
   "source": [
    "def a(m,n,k,time,th):\n",
    "    ff = th*wb(m,n,time-k/(n-m));\n",
    "    int_ff = np.trapz(ff,time);\n",
    "    int_ff *= (n-m)\n",
    "    return int_ff;"
   ]
  },
  {
   "cell_type": "code",
   "execution_count": null,
   "id": "691fca79",
   "metadata": {},
   "outputs": [],
   "source": [
    "def ab(m,n,k,time,th):\n",
    "    ff = th*w(m,n,time-k/(n-m));\n",
    "    int_ff = np.trapz(ff,time);\n",
    "    int_ff *= (n-m)\n",
    "    return int_ff;"
   ]
  },
  {
   "cell_type": "code",
   "execution_count": null,
   "id": "701162e2",
   "metadata": {},
   "outputs": [],
   "source": [
    "def cwt_newland(p,k,time,th):  # p = No. of bands / k = time shift (integer)\n",
    "    def w(m,n,x):\n",
    "        x[x==0]=1e-20;\n",
    "        return (np.exp(1j*n*2*np.pi*x)-np.exp(1j*m*2*np.pi*x))/(1j*(n-m)*2*np.pi*x);\n",
    "    def wb(m,n,x):\n",
    "        return np.conjugate(w(m,n,x));\n",
    "    def a(m,n,k,time,th):\n",
    "        ff = th*wb(m,n,time-k/(n-m));\n",
    "        int_ff = np.trapz(ff,time);\n",
    "        int_ff *= (n-m)\n",
    "        return int_ff;\n",
    "    def ab(m,n,k,time,th):\n",
    "        ff = th*w(m,n,time-k/(n-m));\n",
    "        int_ff = np.trapz(ff,time);\n",
    "        int_ff *= (n-m)\n",
    "        return int_ff;\n",
    "    dt = time[1]-time[0]; fmax = 1/(2*dt);\n",
    "    k1 = -k; k2 = k;\n",
    "    bw = fmax/p;\n",
    "    m = np.arange(0,fmax,bw)\n",
    "    n = m+bw;\n",
    "    a_out = np.zeros([len(m),2*k],'complex');\n",
    "    ab_out = np.zeros([len(m),2*k],'complex');\n",
    "    w_out = np.zeros([len(m),len(time),2*k],'complex');\n",
    "    wb_out = np.zeros([len(m),len(time),2*k],'complex');\n",
    "    for k in range(k1,k2):\n",
    "        for i in range(len(m)):\n",
    "            a_out[i,k] = a(m[i],n[i],k,time,th);\n",
    "            ab_out[i,k] = ab(m[i],n[i],k,time,th);\n",
    "            w_out[i,:,k] = w(m[i],n[i],time-k/(n[i]-m[i]));\n",
    "            wb_out[i,:,k] = wb(m[i],n[i],time-k/(n[i]-m[i]));\n",
    "    return a_out,ab_out,w_out,wb_out;"
   ]
  },
  {
   "cell_type": "code",
   "execution_count": null,
   "id": "d38a1f1a",
   "metadata": {},
   "outputs": [],
   "source": [
    "def cwt_newland1(ft,k,time,th):  # ft = frequency table / k = time shift (integer)\n",
    "    def w(m,n,x):\n",
    "        x[x==0]=1e-20;\n",
    "        return (np.exp(1j*n*2*np.pi*x)-np.exp(1j*m*2*np.pi*x))/(1j*(n-m)*2*np.pi*x);\n",
    "    def wb(m,n,x):\n",
    "        return np.conjugate(w(m,n,x));\n",
    "    def a(m,n,k,time,th):\n",
    "        ff = th*wb(m,n,time-k/(n-m));\n",
    "        int_ff = np.trapz(ff,time);\n",
    "        int_ff *= (n-m)\n",
    "        return int_ff;\n",
    "    def ab(m,n,k,time,th):\n",
    "        ff = th*w(m,n,time-k/(n-m));\n",
    "        int_ff = np.trapz(ff,time);\n",
    "        int_ff *= (n-m)\n",
    "        return int_ff;\n",
    "    dt = time[1]-time[0]; fmax = 1/(2*dt);\n",
    "    k1 = -k; k2 = k;\n",
    "    m=ft[:-1]\n",
    "    n=ft[1:]\n",
    "    a_out = np.zeros([len(m),2*k],'complex');\n",
    "    ab_out = np.zeros([len(m),2*k],'complex');\n",
    "    w_out = np.zeros([len(m),len(time),2*k],'complex');\n",
    "    wb_out = np.zeros([len(m),len(time),2*k],'complex');\n",
    "    for k in range(k1,k2):\n",
    "        for i in range(len(m)):\n",
    "            a_out[i,k] = a(m[i],n[i],k,time,th);\n",
    "            ab_out[i,k] = ab(m[i],n[i],k,time,th);\n",
    "            w_out[i,:,k] = w(m[i],n[i],time-k/(n[i]-m[i]));\n",
    "            wb_out[i,:,k] = wb(m[i],n[i],time-k/(n[i]-m[i]));\n",
    "    return a_out,ab_out,w_out,wb_out;"
   ]
  },
  {
   "cell_type": "code",
   "execution_count": null,
   "id": "10c9fae0",
   "metadata": {},
   "outputs": [],
   "source": [
    "def icwt_newland(a,ab,w,wb):\n",
    "    lenm = len(a[:,0]);\n",
    "    lenk = len(a[0,:]);\n",
    "    lent = len(w[0,:,0]);\n",
    "    th = np.zeros(lent,'complex');\n",
    "    for i in range(lenm):\n",
    "        for j in range(lenk):\n",
    "            th += a[i,j]*w[i,:,j]+ab[i,j]*wb[i,:,j];\n",
    "    return th;"
   ]
  }
 ],
 "metadata": {
  "kernelspec": {
   "display_name": "Python 3 (ipykernel)",
   "language": "python",
   "name": "python3"
  },
  "language_info": {
   "codemirror_mode": {
    "name": "ipython",
    "version": 3
   },
   "file_extension": ".py",
   "mimetype": "text/x-python",
   "name": "python",
   "nbconvert_exporter": "python",
   "pygments_lexer": "ipython3",
   "version": "3.9.7"
  },
  "latex_envs": {
   "LaTeX_envs_menu_present": true,
   "autoclose": false,
   "autocomplete": true,
   "bibliofile": "biblio.bib",
   "cite_by": "apalike",
   "current_citInitial": 1,
   "eqLabelWithNumbers": true,
   "eqNumInitial": 1,
   "hotkeys": {
    "equation": "Ctrl-E",
    "itemize": "Ctrl-I"
   },
   "labels_anchors": false,
   "latex_user_defs": false,
   "report_style_numbering": false,
   "user_envs_cfg": false
  }
 },
 "nbformat": 4,
 "nbformat_minor": 5
}
