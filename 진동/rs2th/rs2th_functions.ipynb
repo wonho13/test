{
 "cells": [
  {
   "cell_type": "code",
   "execution_count": null,
   "id": "6276b37e",
   "metadata": {},
   "outputs": [],
   "source": [
    "import numpy as np\n",
    "import matplotlib.pyplot as plt\n",
    "from scipy.signal import lfilter\n",
    "from stockwell import st"
   ]
  },
  {
   "cell_type": "code",
   "execution_count": null,
   "id": "db43f0c8",
   "metadata": {},
   "outputs": [],
   "source": [
    "# SDOF Transient Response (ISO 18431-4)\n",
    "# th_in : acceleration time history at base\n",
    "# th_out : acceleration time history at mass\n",
    "def SDOF_ISO(th_in,dt,fn,zeta):\n",
    "\n",
    "    wn = 2*np.pi*fn;\n",
    "    wd = wn*np.sqrt(1-zeta**2);\n",
    "    A=wn*dt*zeta;\n",
    "    B=wd*dt;\n",
    "    \n",
    "    a, b = np.zeros(3), np.zeros(3);\n",
    "\n",
    "    b[0] = 1 - np.exp(-A)*np.sin(B)/B;\n",
    "    b[1] = 2*np.exp(-A)*(np.sin(B)/B - np.cos(B));\n",
    "    b[2] = np.exp(-2*A) - np.exp(-A) * np.sin(B)/B;\n",
    "\n",
    "    a[0] = 1;\n",
    "    a[1] = -2*np.exp(-A)*np.cos(B);\n",
    "    a[2] = np.exp(-2*A);\n",
    "\n",
    "    th_out=lfilter(b, a, th_in, axis=-1, zi=None);\n",
    "    \n",
    "    return th_out;"
   ]
  },
  {
   "cell_type": "code",
   "execution_count": null,
   "id": "978d15e9",
   "metadata": {},
   "outputs": [],
   "source": [
    "## SRS (ISO 18431-4)\n",
    "def srs_iso(ft,th,dr,dt):\n",
    "    nf = len(ft);\n",
    "    rs = np.zeros(nf);\n",
    "    for i in range(nf):\n",
    "        rs[i]= max(abs(SDOF_ISO(th,dt,ft[i],dr)));\n",
    "    return ft,rs;"
   ]
  },
  {
   "cell_type": "code",
   "execution_count": null,
   "id": "c77d46e1",
   "metadata": {},
   "outputs": [],
   "source": [
    "def read_th(data,dt):\n",
    "    th = np.zeros(5*len(data));\n",
    "    tmax = dt*len(th);\n",
    "    t = np.arange(dt,tmax+dt,dt);\n",
    "    idx=0;\n",
    "    for i in range(len(data)):\n",
    "        for j in range(5):\n",
    "            th[idx] = data[i,j]; idx += 1;\n",
    "    return t,th"
   ]
  },
  {
   "cell_type": "code",
   "execution_count": null,
   "id": "97c31451",
   "metadata": {},
   "outputs": [],
   "source": [
    "def gen_ft(t):\n",
    "    dt = t[1] - t[0];\n",
    "    fmax = 1/2/dt;\n",
    "    tmax = max(t); Nt = len(t); df = fmax/(Nt//2); fmin = df;\n",
    "    freq = np.arange(df, fmax+df, df);\n",
    "    return freq,fmin,fmax,df"
   ]
  },
  {
   "cell_type": "code",
   "execution_count": null,
   "id": "ba452d5e",
   "metadata": {},
   "outputs": [],
   "source": [
    "def fileI(filename):\n",
    "    tmp = []\n",
    "    f = open(filename,'r');\n",
    "    lines = f.readlines()\n",
    "    for line in lines:\n",
    "        tmp.append(line);\n",
    "    out=np.zeros([len(tmp),5]);\n",
    "    for i in range(len(out)):\n",
    "        out[i,:] = np.array(tmp[i].split()).astype(np.float64)\n",
    "    return out;"
   ]
  }
 ],
 "metadata": {
  "kernelspec": {
   "display_name": "Python 3 (ipykernel)",
   "language": "python",
   "name": "python3"
  },
  "language_info": {
   "codemirror_mode": {
    "name": "ipython",
    "version": 3
   },
   "file_extension": ".py",
   "mimetype": "text/x-python",
   "name": "python",
   "nbconvert_exporter": "python",
   "pygments_lexer": "ipython3",
   "version": "3.9.7"
  },
  "latex_envs": {
   "LaTeX_envs_menu_present": true,
   "autoclose": false,
   "autocomplete": true,
   "bibliofile": "biblio.bib",
   "cite_by": "apalike",
   "current_citInitial": 1,
   "eqLabelWithNumbers": true,
   "eqNumInitial": 1,
   "hotkeys": {
    "equation": "Ctrl-E",
    "itemize": "Ctrl-I"
   },
   "labels_anchors": false,
   "latex_user_defs": false,
   "report_style_numbering": false,
   "user_envs_cfg": false
  }
 },
 "nbformat": 4,
 "nbformat_minor": 5
}
