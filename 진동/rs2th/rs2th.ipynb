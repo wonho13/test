{
 "cells": [
  {
   "cell_type": "code",
   "execution_count": 2,
   "metadata": {},
   "outputs": [],
   "source": [
    "import numpy as np\n",
    "import matplotlib.pyplot as plt\n",
    "from scipy.signal import lfilter"
   ]
  },
  {
   "cell_type": "code",
   "execution_count": 27,
   "metadata": {},
   "outputs": [],
   "source": [
    "# RG 1.60\n",
    "ft = np.array([0.10,  2.50, 9.00, 33.0, 100.0]);  # frequency table\n",
    "rt = np.array([0.07,  3.13, 2.61,  1.0,   1.0]);  # response spectrum table"
   ]
  },
  {
   "cell_type": "code",
   "execution_count": 28,
   "metadata": {},
   "outputs": [
    {
     "data": {
      "image/png": "[encoded data removed]",
      "text/plain": [
       "<Figure size 432x288 with 1 Axes>"
      ]
     },
     "metadata": {
      "needs_background": "light"
     },
     "output_type": "display_data"
    }
   ],
   "source": [
    "plt.loglog(ft,rt);"
   ]
  },
  {
   "cell_type": "code",
   "execution_count": 29,
   "metadata": {},
   "outputs": [],
   "source": [
    "## frequency table 작성\n",
    "# frequency 간격\n",
    "noct = 1/3; # 1/6; # 1/12;\n",
    "# frequency table \n",
    "fmin = min(ft); fmax = max(ft);\n",
    "nfreq = int(np.ceil(np.log(fmax/fmin)/np.log(2)/noct))-1;\n",
    "freq = np.zeros(nfreq);\n",
    "freq[0] = fmin*(2**noct);\n",
    "for i in range(1,nfreq):\n",
    "    freq[i] = freq[i-1]*(2**noct);\n",
    "freq = np.sort(np.concatenate([freq,ft]));\n",
    "nfreq = len(freq);"
   ]
  },
  {
   "cell_type": "code",
   "execution_count": 30,
   "metadata": {},
   "outputs": [],
   "source": [
    "## log-log interpolation\n",
    "rs = 10**np.interp(np.log10(freq),np.log10(ft),np.log10(rt));"
   ]
  },
  {
   "cell_type": "code",
   "execution_count": 35,
   "metadata": {},
   "outputs": [
    {
     "data": {
      "image/png": "[encoded data removed]",
      "text/plain": [
       "<Figure size 432x288 with 1 Axes>"
      ]
     },
     "metadata": {
      "needs_background": "light"
     },
     "output_type": "display_data"
    }
   ],
   "source": [
    "plt.loglog(freq,rs,'b.');"
   ]
  },
  {
   "cell_type": "markdown",
   "metadata": {},
   "source": [
    "1. Sinusoidal 조합 형\n",
    "\n",
    "$\\ddot{x}(t) = I(t) \\sum_n A_n sin(\\omega_n t + \\phi_n)$"
   ]
  },
  {
   "cell_type": "code",
   "execution_count": 36,
   "metadata": {},
   "outputs": [],
   "source": [
    "An = np.ones(nfreq);\n",
    "wn = 2*np.pi*freq;\n",
    "phin = np."
   ]
  },
  {
   "cell_type": "code",
   "execution_count": 39,
   "metadata": {},
   "outputs": [
    {
     "data": {
      "text/plain": [
       "0.13326029368394637"
      ]
     },
     "execution_count": 39,
     "metadata": {},
     "output_type": "execute_result"
    }
   ],
   "source": [
    "np.random.uniform(0,np.pi/2);"
   ]
  },
  {
   "cell_type": "code",
   "execution_count": null,
   "metadata": {},
   "outputs": [],
   "source": []
  }
 ],
 "metadata": {
  "kernelspec": {
   "display_name": "Python 3",
   "language": "python",
   "name": "python3"
  },
  "language_info": {
   "codemirror_mode": {
    "name": "ipython",
    "version": 3
   },
   "file_extension": ".py",
   "mimetype": "text/x-python",
   "name": "python",
   "nbconvert_exporter": "python",
   "pygments_lexer": "ipython3",
   "version": "3.7.3"
  }
 },
 "nbformat": 4,
 "nbformat_minor": 2
}
