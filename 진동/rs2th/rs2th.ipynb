{
 "cells": [
  {
   "cell_type": "code",
   "execution_count": 1,
   "metadata": {},
   "outputs": [],
   "source": [
    "import numpy as np\n",
    "import matplotlib.pyplot as plt\n",
    "from scipy.signal import lfilter"
   ]
  },
  {
   "cell_type": "code",
   "execution_count": 2,
   "metadata": {},
   "outputs": [],
   "source": [
    "# SDOF Transient Response (ISO 18431-4)\n",
    "# th_in : acceleration time history at base\n",
    "# th_out : acceleration time history at mass\n",
    "def SDOF_ISO(th_in,dt,fn,zeta):\n",
    "\n",
    "    wn = 2*np.pi*fn;\n",
    "    wd = wn*np.sqrt(1-zeta**2);\n",
    "    A=wn*dt*zeta;\n",
    "    B=wd*dt;\n",
    "    \n",
    "    a, b = np.zeros(3), np.zeros(3);\n",
    "\n",
    "    b[0] = 1 - np.exp(-A)*np.sin(B)/B;\n",
    "    b[1] = 2*np.exp(-A)*(np.sin(B)/B - np.cos(B));\n",
    "    b[2] = np.exp(-2*A) - np.exp(-A) * np.sin(B)/B;\n",
    "\n",
    "    a[0] = 1;\n",
    "    a[1] = -2*np.exp(-A)*np.cos(B);\n",
    "    a[2] = np.exp(-2*A);\n",
    "\n",
    "    th_out=lfilter(b, a, th_in, axis=-1, zi=None);\n",
    "    \n",
    "    return th_out;"
   ]
  },
  {
   "cell_type": "code",
   "execution_count": 3,
   "metadata": {},
   "outputs": [],
   "source": [
    "## SRS (ISO 18431-4)\n",
    "def srs_iso(ft,th,dr,dt):\n",
    "    nf = len(ft);\n",
    "    rs = np.zeros(nf);\n",
    "    for i in range(nf):\n",
    "        rs[i]= max(abs(SDOF_ISO(th,dt,ft[i],dr)));\n",
    "    return ft,rs;"
   ]
  },
  {
   "cell_type": "code",
   "execution_count": 4,
   "metadata": {},
   "outputs": [],
   "source": [
    "# RG 1.60\n",
    "ft = np.array([0.10,  2.50, 9.00, 33.0, 100.0]);  # frequency table\n",
    "rt = np.array([0.07,  3.13, 2.61,  1.0,   1.0]);  # response spectrum table"
   ]
  },
  {
   "cell_type": "code",
   "execution_count": 5,
   "metadata": {},
   "outputs": [
    {
     "data": {
      "image/png": "[encoded data removed]",
      "text/plain": [
       "<Figure size 432x288 with 1 Axes>"
      ]
     },
     "metadata": {
      "needs_background": "light"
     },
     "output_type": "display_data"
    }
   ],
   "source": [
    "plt.loglog(ft,rt);"
   ]
  },
  {
   "cell_type": "code",
   "execution_count": 6,
   "metadata": {},
   "outputs": [],
   "source": [
    "## frequency table 작성\n",
    "# frequency 간격\n",
    "noct = 1/3; # 1/6; # 1/12;\n",
    "# frequency table \n",
    "fmin = min(ft); fmax = max(ft);\n",
    "nfreq = int(np.ceil(np.log(fmax/fmin)/np.log(2)/noct))-1;\n",
    "freq = np.zeros(nfreq);\n",
    "freq[0] = fmin*(2**noct);\n",
    "for i in range(1,nfreq):\n",
    "    freq[i] = freq[i-1]*(2**noct);\n",
    "freq = np.sort(np.concatenate([freq,ft]));\n",
    "nfreq = len(freq);"
   ]
  },
  {
   "cell_type": "code",
   "execution_count": 7,
   "metadata": {},
   "outputs": [],
   "source": [
    "## log-log interpolation\n",
    "rs = 10**np.interp(np.log10(freq),np.log10(ft),np.log10(rt));"
   ]
  },
  {
   "cell_type": "code",
   "execution_count": 8,
   "metadata": {},
   "outputs": [
    {
     "data": {
      "image/png": "[encoded data removed]",
      "text/plain": [
       "<Figure size 432x288 with 1 Axes>"
      ]
     },
     "metadata": {
      "needs_background": "light"
     },
     "output_type": "display_data"
    }
   ],
   "source": [
    "plt.loglog(freq,rs,'b.');"
   ]
  },
  {
   "cell_type": "markdown",
   "metadata": {},
   "source": [
    "1. Sinusoidal 조합 형\n",
    "\n",
    "$\\ddot{x}(t) = I(t) \\sum_n A_n sin(\\omega_n t + \\phi_n)$"
   ]
  },
  {
   "cell_type": "code",
   "execution_count": 6,
   "metadata": {},
   "outputs": [],
   "source": [
    "def rs2th_sine(ft,rt,noct,damp,tmax,it):\n",
    "    fmin = min(ft); fmax = max(ft);\n",
    "    nfreq = int(np.ceil(np.log(fmax/fmin)/np.log(2)/noct))-1;\n",
    "    freq = np.zeros(nfreq);\n",
    "    freq[0] = fmin*(2**noct);\n",
    "    for i in range(1,nfreq):\n",
    "        freq[i] = freq[i-1]*(2**noct);\n",
    "    freq = np.sort(np.concatenate([freq,ft]));\n",
    "    nfreq = len(freq);    \n",
    "    ## log-log interpolation\n",
    "    rs = 10**np.interp(np.log10(freq),np.log10(ft),np.log10(rt));\n",
    "    ## Initial TH\n",
    "    An = np.copy(rs);\n",
    "    wn = 2*np.pi*freq;\n",
    "    phin = np.random.uniform(-np.pi/2,np.pi/2,nfreq);\n",
    "    dt = 1/(20*fmax); t = np.arange(0,tmax+dt,dt);\n",
    "    th = np.zeros(len(t));\n",
    "    for i in range(len(t)):\n",
    "        for j in range(nfreq):\n",
    "            th[i] += An[j]*np.sin(wn[j]*t[i]+phin[j]);\n",
    "    freq,rs_syn = srs_iso(freq,th,damp,dt);\n",
    "    # Start Iteration\n",
    "    trial = np.linspace(1,it,it); \n",
    "    error = np.zeros(it);\n",
    "    for k in range(it):\n",
    "        for i in range(nfreq):\n",
    "            An[i] *= rs[i]/rs_syn[i];\n",
    "        th = np.zeros(len(t));\n",
    "        for i in range(len(t)):\n",
    "            for j in range(nfreq):\n",
    "                th[i] += An[j]*np.sin(wn[j]*t[i]+phin[j]);\n",
    "        \n",
    "        freq,rs_syn = srs_iso(freq,th,damp,dt);\n",
    "    \n",
    "        error[k] = np.linalg.norm(rs-rs_syn);\n",
    "    return freq,rs,rs_syn,trial,error;"
   ]
  },
  {
   "cell_type": "code",
   "execution_count": 7,
   "metadata": {},
   "outputs": [],
   "source": [
    "freq,rs,rs_syn,trial,error = rs2th_sine(ft,rt,1/6,0.05,5,20);"
   ]
  },
  {
   "cell_type": "code",
   "execution_count": 8,
   "metadata": {},
   "outputs": [
    {
     "data": {
      "image/png": "[encoded data removed]",
      "text/plain": [
       "<Figure size 432x288 with 1 Axes>"
      ]
     },
     "metadata": {
      "needs_background": "light"
     },
     "output_type": "display_data"
    }
   ],
   "source": [
    "plt.plot(trial,error,'r-');"
   ]
  },
  {
   "cell_type": "code",
   "execution_count": 11,
   "metadata": {},
   "outputs": [
    {
     "data": {
      "image/png": "[encoded data removed]",
      "text/plain": [
       "<Figure size 432x288 with 1 Axes>"
      ]
     },
     "metadata": {
      "needs_background": "light"
     },
     "output_type": "display_data"
    }
   ],
   "source": [
    "plt.loglog(freq,rs,'r.-');\n",
    "plt.loglog(freq,rs_syn,'b.-');"
   ]
  },
  {
   "cell_type": "code",
   "execution_count": null,
   "metadata": {},
   "outputs": [],
   "source": []
  },
  {
   "cell_type": "markdown",
   "metadata": {},
   "source": [
    "2. Damped Sine 조합 형\n",
    "\n",
    "$\\ddot{x}(t) = \\sum_n A_n e^{-\\zeta*\\omega_n*(t-t_d)} sin(\\omega_n (t-t_d) )$"
   ]
  },
  {
   "cell_type": "code",
   "execution_count": 14,
   "metadata": {},
   "outputs": [],
   "source": [
    "def damped_sine(t,amp,damp,w,td):\n",
    "    if len(t)==1:\n",
    "        if t < td:\n",
    "            out = 0;\n",
    "        else:\n",
    "            out = amp*np.exp(-damp*w*(t-td))*np.sin(w*(t-td));\n",
    "    else:\n",
    "        out = np.zeros(len(t));\n",
    "        for i in range(len(t)):\n",
    "            if t[i] < td:\n",
    "                out[i] = 0;\n",
    "            else:\n",
    "                out[i] = amp*np.exp(-damp*w*(t[i]-td))*np.sin(w*(t[i]-td));\n",
    "    return out"
   ]
  },
  {
   "cell_type": "code",
   "execution_count": 15,
   "metadata": {},
   "outputs": [
    {
     "data": {
      "image/png": "[encoded data removed]",
      "text/plain": [
       "<Figure size 432x288 with 1 Axes>"
      ]
     },
     "metadata": {
      "needs_background": "light"
     },
     "output_type": "display_data"
    }
   ],
   "source": [
    "plt.plot(t,damped_sine(t,1,0.2,4,1));"
   ]
  },
  {
   "cell_type": "code",
   "execution_count": null,
   "metadata": {},
   "outputs": [],
   "source": []
  },
  {
   "cell_type": "markdown",
   "metadata": {},
   "source": [
    "3. Wavelet 조합형"
   ]
  },
  {
   "cell_type": "code",
   "execution_count": null,
   "metadata": {},
   "outputs": [],
   "source": []
  }
 ],
 "metadata": {
  "kernelspec": {
   "display_name": "Python 3",
   "language": "python",
   "name": "python3"
  },
  "language_info": {
   "codemirror_mode": {
    "name": "ipython",
    "version": 3
   },
   "file_extension": ".py",
   "mimetype": "text/x-python",
   "name": "python",
   "nbconvert_exporter": "python",
   "pygments_lexer": "ipython3",
   "version": "3.7.3"
  },
  "latex_envs": {
   "LaTeX_envs_menu_present": true,
   "autoclose": false,
   "autocomplete": true,
   "bibliofile": "biblio.bib",
   "cite_by": "apalike",
   "current_citInitial": 1,
   "eqLabelWithNumbers": true,
   "eqNumInitial": 1,
   "hotkeys": {
    "equation": "Ctrl-E",
    "itemize": "Ctrl-I"
   },
   "labels_anchors": false,
   "latex_user_defs": false,
   "report_style_numbering": false,
   "user_envs_cfg": false
  }
 },
 "nbformat": 4,
 "nbformat_minor": 2
}
