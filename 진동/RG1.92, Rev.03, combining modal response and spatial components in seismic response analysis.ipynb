{
 "cells": [
  {
   "cell_type": "markdown",
   "id": "68f26e15",
   "metadata": {},
   "source": [
    "### B. Discussion"
   ]
  },
  {
   "cell_type": "markdown",
   "id": "7a80575c",
   "metadata": {},
   "source": [
    "#### Background"
   ]
  },
  {
   "cell_type": "markdown",
   "id": "4e2065e5",
   "metadata": {},
   "source": [
    "수십년간, 원자력 산업은 내진 해석 및 안전에 중요한 원자력 발전소 구조물(SSC)을 설계하는데 있어 응답스펙트럼 방법 및 시간이력 방법(아래에 설명됨)을 사용해왔다. 1796년, NRC는 본 지침의 Rev.01을 발행했고, 이는 SCC의 대진 응답을 평가하는 방법으로 응답스펙트럼 및 시간이력 방법에 대한 최신 지침을 사용했다. 그당시 이후로, 미국은 모드응답 및 공간(spatial) 성분을 조합하는 개선된 방법을 개발하게 되었다. 본 지침은 이러한 개선점들에 대하여 NRC 직원이 수용할 수 있을 것으로 고려하는 방법들에 대해 기술한다. Rev.01에서 기술된 모드 조합 방법 또한 여전히 수용 가능하다. 하지만, 새로운 인허가 지원자가 Rev.01의 방법을 사용할 경우, 규제입장 C.1.4.1 및 C.1.5.1에 기술된 누락질량 모드에 대한 잔여 강체응답에 대하여 기술해야 한다. 기존 운영중인 발전소에 대한 인허가 지원자들은 Rev.01을 사용하기로 결정했다면, 그들이 수행한 SSCs의 내진 해석 결과들에 대하여 손실질량 모드들의 잔여 강체 응답에 대해 기술해야 한다."
   ]
  },
  {
   "cell_type": "markdown",
   "id": "d9cce790",
   "metadata": {},
   "source": [
    "계통 및 기기들(예를 들어 배관)은 단일 구조물 또는 2개의 분리된 구조물(다중 지지 계통 및 기기)에 의해 지지될 수 있으며, 각 지지점에서의 주요 구조물들의 거동은 다소 다를 수 있다. 다중 지지점을 갖는 계통 및 기기들을 해석하는 방법들 중 수용 가능한 것은 다양한 지지점에서 각각의 응답스펙트럼을 모두 포괄하는 균일 응답스펙트럼(URS, uniform response spectrum)을 정의하는 것이다. 계통 및 기기의 최대 관성 응답을 계산할 경우 모든 지지점에서 URS를 적용하여 계산해야 한다. 이러한 방법은 보통 USM(uniform support motion) 방법이라고 부른다. 본 규제지침에 기술된 모드 및 공간 조합 방법은 오직 다중 지지 계통 및 기기(배관과 같은)에 USM 방법을 사용할 때만 적용 가능하다."
   ]
  },
  {
   "cell_type": "markdown",
   "id": "49bb229a",
   "metadata": {},
   "source": [
    "설계자는 지지점에서의 상대적인 변위를 고려해야 한다. 일반적인 정해석 절차는 수용가능하다. 설계를 고려하는데 있어, 절대합 방법을 사용하여 최악의 조합의 경우에서의 최대 변위를 부과하여 해석을 수행해야 한다."
   ]
  },
  {
   "cell_type": "markdown",
   "id": "800d64f0",
   "metadata": {},
   "source": [
    "USM 방법은 내진 응답에 대한 매우 과 보수적인 결과를 야기할 수 있다. 단일 구조물에 여러 지지점이 있는 경우, 개별 지지 거동(ISM, independent support motion) 접근법이 고려될 수 있다. 이는 참고문헌 5의 2장에 기술되어 있다."
   ]
  },
  {
   "cell_type": "markdown",
   "id": "63301631",
   "metadata": {},
   "source": [
    "응답스펙트럼 방법 대신, 계통 및 기기의 지지점 거동을 시간이력 방법으로 고려할 수도 있다. 응답스펙트럼 방법 대비 시간이력 해석 방법은 매우 해석 시간 및 비용이 증가하기 때문에, 주요한 기기계통의 경우만 시간이력방법을 사용하게 된다. 하지만, 응답스펙트럼포괄 방법과 비교했을 때, 다중지지 계통 또는 기기의 경우 시간이력 방법은 더 현실적인 방법이 될 수 있다."
   ]
  },
  {
   "cell_type": "markdown",
   "id": "916eb238",
   "metadata": {},
   "source": [
    "#### Combination of Individual Modal Responses"
   ]
  },
  {
   "cell_type": "code",
   "execution_count": null,
   "id": "f09f4ac9",
   "metadata": {},
   "outputs": [],
   "source": []
  }
 ],
 "metadata": {
  "kernelspec": {
   "display_name": "Python 3",
   "language": "python",
   "name": "python3"
  },
  "language_info": {
   "codemirror_mode": {
    "name": "ipython",
    "version": 3
   },
   "file_extension": ".py",
   "mimetype": "text/x-python",
   "name": "python",
   "nbconvert_exporter": "python",
   "pygments_lexer": "ipython3",
   "version": "3.8.8"
  }
 },
 "nbformat": 4,
 "nbformat_minor": 5
}
