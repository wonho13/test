{
 "cells": [
  {
   "cell_type": "code",
   "execution_count": 1,
   "metadata": {},
   "outputs": [],
   "source": [
    "import numpy as np\n",
    "import matplotlib.pyplot as plt\n",
    "from scipy.special import erf\n",
    "from scipy.signal import welch\n",
    "import warnings\n",
    "warnings.filterwarnings(action='ignore');"
   ]
  },
  {
   "cell_type": "code",
   "execution_count": 8,
   "metadata": {},
   "outputs": [],
   "source": [
    "def psd2th_wn(freq,psd,dur):\n",
    "    def psdinteg(freq,psd):\n",
    "        f = freq; y = psd;\n",
    "        ndata = len(y);\n",
    "        a = np.zeros(ndata-1);\n",
    "        for i in range(ndata-1):\n",
    "            n = np.log10(y[i+1]/y[i])/np.log10(f[i+1]/f[i]);\n",
    "            if n == -1:\n",
    "                a[i] = y[i]*f[i]*np.log(f[i+1]/f[i]);\n",
    "            else:\n",
    "                a[i] = (y[i]/(f[i]**n))*(1/(n+1))*(f[i+1]**(n+1)-f[i]**(n+1));\n",
    "        return np.sqrt(sum(a))\n",
    "    def log_interp(x,x_spec,y_spec):\n",
    "        return 10**np.interp(np.log10(x),np.log10(x_spec),np.log10(y_spec));\n",
    "    tmax = dur;\n",
    "    fs = fmax * 20.\n",
    "    dt = 1 / fs\n",
    "\n",
    "    spec_grms = psdinteg(freq,psd);\n",
    "\n",
    "    Nt = int(np.ceil(tmax / dt))\n",
    "    Nt3 = 3 * Nt\n",
    "    \n",
    "    # White Noise\n",
    "    wn = np.random.normal(0,1,Nt3);\n",
    "    # num_fft = 2의 n승\n",
    "    num_fft=2**int(np.ceil(np.log(Nt)/np.log(2)));  \n",
    "    N = num_fft;\n",
    "    df = 1. / (N * dt);\n",
    "    \n",
    "    m2 = int(num_fft / 2)\n",
    "\n",
    "    fft_freq = np.linspace(0, (m2 - 1) * df, m2)\n",
    "    fft_freq2 = np.linspace(0, (num_fft - 1) * df, num_fft)\n",
    "    \n",
    "    spec = np.zeros(m2, float)\n",
    "    sq_spec = np.zeros(m2, float)\n",
    "    \n",
    "    js = 0\n",
    "    \n",
    "    if(fft_freq[0]<=0):\n",
    "        fft_freq[0]=0.5*fft_freq[1]        \n",
    "            \n",
    "    x=np.log10(fft_freq)    \n",
    "    xp=np.log10(freq)    \n",
    "    yp=np.log10(psd)\n",
    "            \n",
    "    y=np.interp(x, xp, yp, left=-10, right=-10)\n",
    "\n",
    "    sq_spec=np.sqrt(10**y)\n",
    "    \n",
    "    white_noise_trunc = wn[0:num_fft]\n",
    "    \n",
    "    Y = np.zeros(num_fft, complex)\n",
    "\n",
    "    YF = np.fft.fft(white_noise_trunc)\n",
    "    \n",
    "    YFn=YF[0:m2]\n",
    "\n",
    "    Y[0:m2]=sq_spec*YFn\n",
    "\n",
    "    Y[0]=0.\n",
    "    \n",
    "    for j in range(1, m2):\n",
    "        Y[num_fft - j] = complex(Y[j].real, -Y[j].imag)\n",
    "    \n",
    "    YI = np.fft.ifft(Y)  \n",
    "    \n",
    "    YIR = YI.real\n",
    "\n",
    "    psd_th_m2 = YIR\n",
    "    \n",
    "    nL = m2\n",
    "       \n",
    "    psd_th = YIR[0:Nt]\n",
    "    \n",
    "    Nt = len(psd_th)\n",
    "    \n",
    "    TT = np.linspace(0, (Nt - 1) * dt, Nt)\n",
    "    \n",
    "    stddev = np.std(psd_th)\n",
    "    \n",
    "    psd_th *= (spec_grms / stddev)\n",
    "    \n",
    "    return TT,psd_th;"
   ]
  },
  {
   "cell_type": "code",
   "execution_count": null,
   "metadata": {},
   "outputs": [],
   "source": []
  },
  {
   "cell_type": "code",
   "execution_count": 3,
   "metadata": {},
   "outputs": [],
   "source": [
    "def psdinteg(freq,psd):\n",
    "    f = freq; y = psd;\n",
    "    ndata = len(y);\n",
    "    a = np.zeros(ndata-1);\n",
    "    for i in range(ndata-1):\n",
    "        n = np.log10(y[i+1]/y[i])/np.log10(f[i+1]/f[i]);\n",
    "        if n == -1:\n",
    "            a[i] = y[i]*f[i]*np.log(f[i+1]/f[i]);\n",
    "        else:\n",
    "            a[i] = (y[i]/(f[i]**n))*(1/(n+1))*(f[i+1]**(n+1)-f[i]**(n+1));\n",
    "    return np.sqrt(sum(a))"
   ]
  },
  {
   "cell_type": "code",
   "execution_count": 4,
   "metadata": {},
   "outputs": [],
   "source": [
    "# Smooth PSD\n",
    "def Gs(f,A1,f1,Q1,A2,f2,Q2,fc):\n",
    "    out1 = np.zeros(len(f)); out2 = np.zeros(len(f));\n",
    "    for i in range(len(f)):\n",
    "        if f[i] <= fc:\n",
    "            out1[i] = A1/np.sqrt(1+((f1-f[i])**2)/(Q1**2));\n",
    "            out2[i] = A2/np.sqrt(1+((f2-f[i])**2)/(Q2**2));\n",
    "        else:\n",
    "            out1[i] = 0;\n",
    "            out2[i] = 0;\n",
    "    out = out1 + out2;\n",
    "    return out"
   ]
  },
  {
   "cell_type": "code",
   "execution_count": 5,
   "metadata": {},
   "outputs": [],
   "source": [
    "def G3(f):\n",
    "    A1 = 27019; f1 = 30; Q1 = 5; A2=20264; f2=104; Q2=2.5; fc = 231; xm=0.493; r=0.600;\n",
    "    return Gs(f,A1,f1,Q1,A2,f2,Q2,fc);"
   ]
  },
  {
   "cell_type": "code",
   "execution_count": 6,
   "metadata": {},
   "outputs": [
    {
     "data": {
      "image/png": "[encoded data removed]",
      "text/plain": [
       "<Figure size 720x360 with 1 Axes>"
      ]
     },
     "metadata": {
      "needs_background": "light"
     },
     "output_type": "display_data"
    }
   ],
   "source": [
    "A1 = 27019; f1 = 30; Q1 = 5; A2=20264; f2=104; Q2=2.5; fc = 231; xm=0.493; r=0.600;\n",
    "Nt = 1024; Nf = 512; fmax = fc; fs = 2*fmax; dt = 1/fs; tmax = dt*Nt; df = 1/(Nt*dt); \n",
    "freq3 = np.arange(Nf)*df; psd3 = G3(freq3);\n",
    "plt.figure(figsize=(10,5));\n",
    "plt.plot(freq3,psd3,'k-');"
   ]
  },
  {
   "cell_type": "code",
   "execution_count": 16,
   "metadata": {},
   "outputs": [
    {
     "name": "stdout",
     "output_type": "stream",
     "text": [
      "spec grms = 1177.62  syn grms = 1177.62\n"
     ]
    },
    {
     "data": {
      "image/png": "[encoded data removed]",
      "text/plain": [
       "<Figure size 432x288 with 1 Axes>"
      ]
     },
     "metadata": {
      "needs_background": "light"
     },
     "output_type": "display_data"
    }
   ],
   "source": [
    "# PSD3\n",
    "time,th = psd2th_wn(freq3,psd3,1);\n",
    "# grms 비교\n",
    "grms_spec = psdinteg(freq3,psd3); grms_syn = np.std(th);\n",
    "print(\"spec grms = %.2f  syn grms = %.2f\"%(grms_spec,grms_syn));\n",
    "# PSD Check\n",
    "dt = time[1]-time[0];\n",
    "freq_syn,psd_syn = welch(th,fs = 1/dt,nperseg=2**10);\n",
    "plt.plot(freq3,psd3,'k-',label='original');\n",
    "plt.plot(freq_syn,psd_syn,'r-',label='syn'); plt.legend(loc='upper right');\n",
    "plt.xlim(0,250);"
   ]
  },
  {
   "cell_type": "code",
   "execution_count": null,
   "metadata": {},
   "outputs": [],
   "source": []
  }
 ],
 "metadata": {
  "kernelspec": {
   "display_name": "Python 3",
   "language": "python",
   "name": "python3"
  },
  "language_info": {
   "codemirror_mode": {
    "name": "ipython",
    "version": 3
   },
   "file_extension": ".py",
   "mimetype": "text/x-python",
   "name": "python",
   "nbconvert_exporter": "python",
   "pygments_lexer": "ipython3",
   "version": "3.8.3"
  }
 },
 "nbformat": 4,
 "nbformat_minor": 4
}
