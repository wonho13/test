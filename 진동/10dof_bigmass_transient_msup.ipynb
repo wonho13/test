{
 "cells": [
  {
   "cell_type": "markdown",
   "id": "25a9c376",
   "metadata": {},
   "source": [
    "## modal analysis"
   ]
  },
  {
   "cell_type": "code",
   "execution_count": 1,
   "id": "dbe2229c",
   "metadata": {},
   "outputs": [],
   "source": [
    "from numpy import *\n",
    "from matplotlib.pyplot import *\n",
    "import matplotlib.ticker as mtick\n",
    "import matplotlib.pyplot as plt\n",
    "from scipy.linalg import expm\n",
    "from numpy.linalg import *\n",
    "from scipy.signal import lfilter\n",
    "%matplotlib inline"
   ]
  },
  {
   "cell_type": "code",
   "execution_count": 2,
   "id": "4f9a7006",
   "metadata": {},
   "outputs": [],
   "source": [
    "def fileO(x,y,filename):\n",
    "    f = open(filename,'w');\n",
    "    #f = open(filename,'a'); # overwrite\n",
    "    for i in range(len(y)):\n",
    "        f.write('%.4e\\t%.4e\\n'%(x[i],y[i]));\n",
    "    f.close();"
   ]
  },
  {
   "cell_type": "code",
   "execution_count": 3,
   "id": "e0f32d5d",
   "metadata": {},
   "outputs": [],
   "source": [
    "def fileI(filename):\n",
    "    tmp = []\n",
    "    f = open(filename,'r');\n",
    "    lines = f.readlines()\n",
    "    for line in lines:\n",
    "        tmp.append(line);\n",
    "    out=np.zeros([len(tmp),2]);\n",
    "    for i in range(len(out)):\n",
    "        out[i,:] = np.array(tmp[i].split()).astype(np.float64)\n",
    "    return out;"
   ]
  },
  {
   "cell_type": "code",
   "execution_count": 4,
   "id": "9f38ccea",
   "metadata": {},
   "outputs": [],
   "source": [
    "# SDOF Transient Response (ISO 18431-4)\n",
    "# th_in : acceleration time history at base\n",
    "# th_out : acceleration time history at mass\n",
    "def SDOF_ISO(th_in,dt,fn,zeta):\n",
    "\n",
    "    wn = 2*np.pi*fn;\n",
    "    wd = wn*np.sqrt(1-zeta**2);\n",
    "    A=wn*dt*zeta;\n",
    "    B=wd*dt;\n",
    "    \n",
    "    a, b = np.zeros(3), np.zeros(3);\n",
    "\n",
    "    b[0] = 1 - np.exp(-A)*np.sin(B)/B;\n",
    "    b[1] = 2*np.exp(-A)*(np.sin(B)/B - np.cos(B));\n",
    "    b[2] = np.exp(-2*A) - np.exp(-A) * np.sin(B)/B;\n",
    "\n",
    "    a[0] = 1;\n",
    "    a[1] = -2*np.exp(-A)*np.cos(B);\n",
    "    a[2] = np.exp(-2*A);\n",
    "\n",
    "    th_out=lfilter(b, a, th_in, axis=-1, zi=None);\n",
    "    \n",
    "    return th_out;"
   ]
  },
  {
   "cell_type": "code",
   "execution_count": 5,
   "id": "c49c4ec2",
   "metadata": {},
   "outputs": [],
   "source": [
    "## SRS (ISO 18431-4)\n",
    "def srs_iso(ft,th,dr,dt):\n",
    "    nf = len(ft);\n",
    "    rs = np.zeros(nf);\n",
    "    for i in range(nf):\n",
    "        rs[i]= max(abs(SDOF_ISO(th,dt,ft[i],dr)));\n",
    "    return ft,rs;"
   ]
  },
  {
   "cell_type": "code",
   "execution_count": 6,
   "id": "517413fe",
   "metadata": {},
   "outputs": [],
   "source": [
    "ndof = 10;"
   ]
  },
  {
   "cell_type": "code",
   "execution_count": 7,
   "id": "d229a836",
   "metadata": {},
   "outputs": [],
   "source": [
    "M = 100*identity(ndof+1)"
   ]
  },
  {
   "cell_type": "code",
   "execution_count": 8,
   "id": "1dc96231",
   "metadata": {},
   "outputs": [],
   "source": [
    "M[ndof,ndof] = 1e12;"
   ]
  },
  {
   "cell_type": "code",
   "execution_count": 9,
   "id": "0e8a9f8c",
   "metadata": {},
   "outputs": [],
   "source": [
    "K = np.zeros([ndof+1,ndof+1]);"
   ]
  },
  {
   "cell_type": "code",
   "execution_count": 10,
   "id": "fe5588c7",
   "metadata": {},
   "outputs": [],
   "source": [
    "kk = np.array([[1,-1],[-1,1]]);"
   ]
  },
  {
   "cell_type": "code",
   "execution_count": 11,
   "id": "57bb0c03",
   "metadata": {},
   "outputs": [],
   "source": [
    "for i in range(ndof):\n",
    "    K[i:i+2,i:i+2] += kk;"
   ]
  },
  {
   "cell_type": "code",
   "execution_count": 12,
   "id": "5a87b0b7",
   "metadata": {
    "code_folding": []
   },
   "outputs": [],
   "source": [
    "K *= 1e6"
   ]
  },
  {
   "cell_type": "code",
   "execution_count": 13,
   "id": "1ab53f40",
   "metadata": {},
   "outputs": [],
   "source": [
    "eigval,eigvec = eig(inv(M)@K);\n",
    "idx = eigval.argsort();\n",
    "eigval = eigval[idx];\n",
    "eigvec = eigvec[:,idx];\n",
    "wn = np.sqrt(eigval);\n",
    "fn = wn/(2*np.pi);\n",
    "phi = eigvec\n",
    "Mn = phi.T@M@phi\n",
    "Phi = np.zeros([ndof+1,ndof+1]);\n",
    "for i in range(ndof+1):\n",
    "    Phi[:,i] = phi[:,i]/np.sqrt(Mn[i,i]);\n",
    "delta = np.ones([ndof+1,1]);\n",
    "Gamma = Phi.T@M@delta"
   ]
  },
  {
   "cell_type": "code",
   "execution_count": 14,
   "id": "e9fbb6ee",
   "metadata": {
    "scrolled": true
   },
   "outputs": [
    {
     "name": "stdout",
     "output_type": "stream",
     "text": [
      "Mode : 1 \t fn = 0.0000 Hz \t P.F = 1000000.0005\n",
      "Mode : 2 \t fn = 2.3787 Hz \t P.F = -0.0000\n",
      "Mode : 3 \t fn = 7.0831 Hz \t P.F = 0.0000\n",
      "Mode : 4 \t fn = 11.6292 Hz \t P.F = 0.0000\n",
      "Mode : 5 \t fn = 15.9155 Hz \t P.F = 0.0000\n",
      "Mode : 6 \t fn = 19.8463 Hz \t P.F = -0.0000\n",
      "Mode : 7 \t fn = 23.3338 Hz \t P.F = -0.0000\n",
      "Mode : 8 \t fn = 26.3000 Hz \t P.F = -0.0000\n",
      "Mode : 9 \t fn = 28.6787 Hz \t P.F = -0.0000\n",
      "Mode : 10 \t fn = 30.4168 Hz \t P.F = 0.0000\n",
      "Mode : 11 \t fn = 31.4755 Hz \t P.F = 0.0000\n"
     ]
    }
   ],
   "source": [
    "# print modal analysis result\n",
    "for i in range(ndof+1):\n",
    "    print('Mode : %d \\t fn = %.4f Hz \\t P.F = %.4f'%(i+1,fn[i],Gamma[i]));"
   ]
  },
  {
   "cell_type": "code",
   "execution_count": 15,
   "id": "60123a52",
   "metadata": {},
   "outputs": [],
   "source": [
    "# mass normalized mode shape\n",
    "# Phi"
   ]
  },
  {
   "cell_type": "markdown",
   "id": "130174ec",
   "metadata": {
    "heading_collapsed": true
   },
   "source": [
    "## check input time history (EL CENTRO EARTHQUAKE)"
   ]
  },
  {
   "cell_type": "code",
   "execution_count": 16,
   "id": "0bdadf89",
   "metadata": {
    "hidden": true,
    "scrolled": true
   },
   "outputs": [],
   "source": [
    "data = fileI('elcentro.dat');\n",
    "time,th = data[:,0], data[:,1];\n",
    "dt = time[1]-time[0]; N = len(th);"
   ]
  },
  {
   "cell_type": "code",
   "execution_count": 17,
   "id": "66c4c47c",
   "metadata": {
    "hidden": true
   },
   "outputs": [],
   "source": [
    "ft = np.logspace(-1,2,100); damp=1/20;"
   ]
  },
  {
   "cell_type": "code",
   "execution_count": 18,
   "id": "9cbbc625",
   "metadata": {
    "hidden": true
   },
   "outputs": [
    {
     "ename": "NameError",
     "evalue": "name 'gth' is not defined",
     "output_type": "error",
     "traceback": [
      "\u001b[1;31m---------------------------------------------------------------------------\u001b[0m",
      "\u001b[1;31mNameError\u001b[0m                                 Traceback (most recent call last)",
      "\u001b[1;32m~\\AppData\\Local\\Temp/ipykernel_16460/910688038.py\u001b[0m in \u001b[0;36m<module>\u001b[1;34m\u001b[0m\n\u001b[1;32m----> 1\u001b[1;33m \u001b[0mfreq\u001b[0m\u001b[1;33m,\u001b[0m\u001b[0mrs_iso\u001b[0m \u001b[1;33m=\u001b[0m \u001b[0msrs_iso\u001b[0m\u001b[1;33m(\u001b[0m\u001b[0mft\u001b[0m\u001b[1;33m,\u001b[0m\u001b[0mgth\u001b[0m\u001b[1;33m[\u001b[0m\u001b[1;33m:\u001b[0m\u001b[1;33m,\u001b[0m\u001b[1;36m1\u001b[0m\u001b[1;33m]\u001b[0m\u001b[1;33m,\u001b[0m\u001b[0mdamp\u001b[0m\u001b[1;33m,\u001b[0m\u001b[0mdt\u001b[0m\u001b[1;33m)\u001b[0m\u001b[1;33m;\u001b[0m\u001b[1;33m\u001b[0m\u001b[1;33m\u001b[0m\u001b[0m\n\u001b[0m",
      "\u001b[1;31mNameError\u001b[0m: name 'gth' is not defined"
     ]
    }
   ],
   "source": [
    "freq,rs_iso = srs_iso(ft,gth[:,1],damp,dt);"
   ]
  },
  {
   "cell_type": "code",
   "execution_count": null,
   "id": "e99fc172",
   "metadata": {
    "hidden": true
   },
   "outputs": [],
   "source": [
    "plt.plot(freq,rs_iso,'k-');\n",
    "plt.xscale('log'); plt.yscale('log');\n",
    "plt.xlim([0.1,20]); plt.ylim([0.01,1]);\n",
    "plt.title('SHOCK RESPONSE SPECTRA, Q=10\\n EL CENTRO EARTHQUAKE MAY 18, 1940 \\n NORTH-SOUTH COMPONENT');\n",
    "plt.xlabel('NATURAL FREQUENCY (Hz)');\n",
    "plt.ylabel('PEAK ACCELERATION (G)');\n",
    "plt.gca().xaxis.set_major_formatter(mtick.FormatStrFormatter('%.1f')); \n",
    "plt.gca().yaxis.set_major_formatter(mtick.FormatStrFormatter('%.1f'));\n",
    "plt.grid();"
   ]
  },
  {
   "cell_type": "code",
   "execution_count": null,
   "id": "6e644998",
   "metadata": {
    "hidden": true
   },
   "outputs": [],
   "source": [
    "plt.plot(freq,rs_iso,'k-');\n",
    "plt.xscale('log'); plt.yscale('log');\n",
    "plt.xlim([0.1,100]); plt.ylim([0.01,1]);\n",
    "plt.title('SHOCK RESPONSE SPECTRA, Q=10\\n EL CENTRO EARTHQUAKE MAY 18, 1940 \\n NORTH-SOUTH COMPONENT');\n",
    "plt.xlabel('NATURAL FREQUENCY (Hz)');\n",
    "plt.ylabel('PEAK ACCELERATION (G)');\n",
    "plt.gca().xaxis.set_major_formatter(mtick.FormatStrFormatter('%.1f')); \n",
    "plt.gca().yaxis.set_major_formatter(mtick.FormatStrFormatter('%.1f'));\n",
    "plt.grid();"
   ]
  },
  {
   "cell_type": "code",
   "execution_count": null,
   "id": "f105d6ca",
   "metadata": {
    "hidden": true
   },
   "outputs": [],
   "source": [
    "fzpa = 20;"
   ]
  },
  {
   "cell_type": "markdown",
   "id": "8ac5c902",
   "metadata": {},
   "source": [
    "## time history analysis (mode superposition, Newmark)"
   ]
  },
  {
   "cell_type": "code",
   "execution_count": null,
   "id": "90a7a280",
   "metadata": {},
   "outputs": [],
   "source": [
    "def newmark_parameter(dt):\n",
    "    r = 0.005; alpha = (1/4)*((1+r)**2); delta = 0.5 + r;\n",
    "    a = np.zeros(8);\n",
    "    a[0] = 1/(alpha*dt*dt); a[1] = delta/(alpha*dt); a[2] = 1/(alpha*dt); a[3] = 1/(2*alpha)-1;\n",
    "    a[4] = delta/alpha - 1; a[5] = (dt/2)*((delta/alpha)-2); a[6] = dt*(1-delta); a[7] = delta*dt;\n",
    "    return a;"
   ]
  },
  {
   "cell_type": "code",
   "execution_count": null,
   "id": "744454dd",
   "metadata": {},
   "outputs": [],
   "source": [
    "a = newmark_parameter(dt);"
   ]
  },
  {
   "cell_type": "code",
   "execution_count": null,
   "id": "d2a209ff",
   "metadata": {},
   "outputs": [],
   "source": [
    "# th_in : acceleration time history at base\n",
    "# th_out : acceleration time history at mass\n",
    "def SDOF_newmark(th_in,dt,fn,zeta):\n",
    "    def newmark_parameter(dt):\n",
    "        r = 0.005; alpha = (1/4)*((1+r)**2); delta = 0.5 + r;\n",
    "        a = np.zeros(8);\n",
    "        a[0] = 1/(alpha*dt*dt); a[1] = delta/(alpha*dt); a[2] = 1/(alpha*dt); a[3] = 1/(2*alpha)-1;\n",
    "        a[4] = delta/alpha - 1; a[5] = (dt/2)*((delta/alpha)-2); a[6] = dt*(1-delta); a[7] = delta*dt;\n",
    "        return a;\n",
    "    def DERIV(X,Y):\n",
    "        N = len(Y); YY = np.zeros(N);\n",
    "        YY[0] = (Y[1]-Y[0])/(X[1]-X[0]); Y[N-1] = (Y[N-1]-Y[N-2])/(X[N-1]-X[N-2]);\n",
    "        for n in range(N-2):\n",
    "            YY[n+1] = (((Y[n+2]-Y[n+1])/(X[n+2]-X[n+1]))*(X[n+1]-X[n]) + ((Y[n+1]-Y[n])/(X[n+1]-X[n]))*(X[n+2]-X[n+1]))/(X[n+2]-X[n]);\n",
    "        return YY;\n",
    "    def INTEG(X,Y,C1):\n",
    "        N = len(Y); YY = np.zeros(N);\n",
    "        YY[0] = C1;\n",
    "        for n in range(1,N):\n",
    "            YY[n] = YY[n-1] + (1/2)*(Y[n]+Y[n-1])*(X[n]-X[n-1]);\n",
    "        return YY;      \n",
    "    a = newmark_parameter(dt);\n",
    "    u,v,ac = np.zeros(len(th_in)),np.zeros(len(th_in)),np.zeros(len(th_in));\n",
    "    ru,rv,rac = np.zeros(len(th_in)),np.zeros(len(th_in)),np.zeros(len(th_in));\n",
    "    N = len(th_in);\n",
    "    time = np.arange(N)*dt;\n",
    "    vth = INTEG(time,th_in,0); dth = INTEG(time,vth,0);\n",
    "    F = -th_in;\n",
    "    wn = 2*np.pi*fn; m = 1; c = 2*zeta*wn; k = wn**2;            \n",
    "    Fe = a[0]*m + a[1]*c + k;          \n",
    "    for n in range(len(th_in)-1):\n",
    "        ru[n+1] = (F[n+1] + m*(a[0]*ru[n]+a[2]*rv[n]+a[3]*rac[n])+c*(a[1]*ru[n]+a[4]*rv[n]+a[5]*rac[n]))/Fe;\n",
    "        rv[n+1] = a[1]*(ru[n+1]-ru[n]) - a[4]*rv[n] - a[5]*rac[n];\n",
    "        rac[n+1] = a[0]*(ru[n+1]-ru[n]) -a[2]*rv[n] - a[3]*rac[n];\n",
    "    th_out= rac + th_in;\n",
    "    return th_out"
   ]
  },
  {
   "cell_type": "code",
   "execution_count": null,
   "id": "5ba46c70",
   "metadata": {},
   "outputs": [],
   "source": [
    "zeta = 0.02*np.ones(ndof+1);"
   ]
  },
  {
   "cell_type": "code",
   "execution_count": null,
   "id": "6ff14b7c",
   "metadata": {},
   "outputs": [],
   "source": [
    "# modal coordinate MCK matrices\n",
    "Mn = Phi.T@M@Phi;\n",
    "Cn = 2*np.diag(zeta)@np.diag(wn);\n",
    "Kn = Phi.T@K@Phi;"
   ]
  },
  {
   "cell_type": "code",
   "execution_count": null,
   "id": "e4be8a1d",
   "metadata": {},
   "outputs": [],
   "source": [
    "# set initial disp, vel, acc matrices\n",
    "disp, vel, acc = np.zeros([ndof+1,N]),np.zeros([ndof+1,N]),np.zeros([ndof+1,N]);"
   ]
  },
  {
   "cell_type": "code",
   "execution_count": null,
   "id": "062012a7",
   "metadata": {},
   "outputs": [],
   "source": [
    "# effective stiffness matrix\n",
    "Ke = a[0]*Mn+a[1]*Cn+Kn;"
   ]
  },
  {
   "cell_type": "code",
   "execution_count": null,
   "id": "93a5da9b",
   "metadata": {},
   "outputs": [],
   "source": [
    "# input force matrix\n",
    "forc = M[ndof,ndof]*th;\n",
    "F = np.zeros([ndof+1,N]);\n",
    "F[ndof,:] = forc;\n",
    "F = inv(phi.T@M@phi)@phi.T@F;"
   ]
  },
  {
   "cell_type": "code",
   "execution_count": null,
   "id": "08711809",
   "metadata": {},
   "outputs": [],
   "source": [
    "# run Newmark integration loop\n",
    "for i in range(ndof):\n",
    "    Fe = F[:,i+1]+Mn@(a[0]*disp[:,i]+a[2]*vel[:,i]+a[3]*acc[:,i])+Cn@(a[1]*disp[:,i]+a[4]*vel[:,i]+a[5]*acc[:,i])\n",
    "    disp[:,i+1] = inv(Ke)@Fe\n",
    "    vel[:,i+1] = a[1]*(disp[:,i+1]-disp[:,i]) - a[4]*vel[:,i] - a[5]*acc[:,i]\n",
    "    acc[:,i+1] = a[0]*(disp[:,i+1]-disp[:,i]) - a[2]*vel[:,i] - a[3]*acc[:,i]"
   ]
  },
  {
   "cell_type": "code",
   "execution_count": null,
   "id": "d1503bb1",
   "metadata": {},
   "outputs": [],
   "source": [
    "x = phi@disp"
   ]
  }
 ],
 "metadata": {
  "kernelspec": {
   "display_name": "Python 3 (ipykernel)",
   "language": "python",
   "name": "python3"
  },
  "language_info": {
   "codemirror_mode": {
    "name": "ipython",
    "version": 3
   },
   "file_extension": ".py",
   "mimetype": "text/x-python",
   "name": "python",
   "nbconvert_exporter": "python",
   "pygments_lexer": "ipython3",
   "version": "3.9.7"
  },
  "latex_envs": {
   "LaTeX_envs_menu_present": true,
   "autoclose": false,
   "autocomplete": true,
   "bibliofile": "biblio.bib",
   "cite_by": "apalike",
   "current_citInitial": 1,
   "eqLabelWithNumbers": true,
   "eqNumInitial": 1,
   "hotkeys": {
    "equation": "Ctrl-E",
    "itemize": "Ctrl-I"
   },
   "labels_anchors": false,
   "latex_user_defs": false,
   "report_style_numbering": false,
   "user_envs_cfg": false
  }
 },
 "nbformat": 4,
 "nbformat_minor": 5
}
