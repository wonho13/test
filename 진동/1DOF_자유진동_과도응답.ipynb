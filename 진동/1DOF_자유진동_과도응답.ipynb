{
 "cells": [
  {
   "cell_type": "markdown",
   "metadata": {},
   "source": [
    "## 1. 자유진동"
   ]
  },
  {
   "cell_type": "markdown",
   "metadata": {},
   "source": [
    "1자유도 M,C,K 시스템의 자유진동에 대한 운동방정식은 다음과 같다."
   ]
  },
  {
   "cell_type": "markdown",
   "metadata": {},
   "source": [
    "$$\\ddot{x}+2\\zeta\\omega_n\\dot{x}+\\omega_n^2 x=0$$"
   ]
  },
  {
   "cell_type": "markdown",
   "metadata": {},
   "source": [
    "2차 미분방정식이 아래와 같은 형태인 경우,"
   ]
  },
  {
   "cell_type": "markdown",
   "metadata": {},
   "source": [
    "$$y\"+ay'+by=0$$"
   ]
  },
  {
   "cell_type": "markdown",
   "metadata": {},
   "source": [
    "감쇠 조건에 따른 해의 형태는 다음과 같다."
   ]
  },
  {
   "cell_type": "markdown",
   "metadata": {},
   "source": [
    "(1) Overdamped ($a^2-4b>0$)"
   ]
  },
  {
   "cell_type": "markdown",
   "metadata": {},
   "source": [
    "$y=C_1e^{r_1}x+C_2e^{r_2x}$"
   ]
  },
  {
   "cell_type": "markdown",
   "metadata": {},
   "source": [
    "$r_{1,2}=\\frac{-a\\pm\\sqrt{a^2-4b}}{2}$"
   ]
  },
  {
   "cell_type": "markdown",
   "metadata": {},
   "source": [
    "(2) Critically Damped ($a^2-4b=0$)"
   ]
  },
  {
   "cell_type": "markdown",
   "metadata": {},
   "source": [
    "$y=(C_1+C_2x)e^{r_1x}$"
   ]
  },
  {
   "cell_type": "markdown",
   "metadata": {},
   "source": [
    "(3) Underdamped ($a^2-4b<0$)"
   ]
  },
  {
   "cell_type": "markdown",
   "metadata": {},
   "source": [
    "$y=e^{\\alpha x}(C_1cos\\beta x+C_2sin\\beta x)$"
   ]
  },
  {
   "cell_type": "markdown",
   "metadata": {},
   "source": [
    "$\\alpha=-a/2$"
   ]
  },
  {
   "cell_type": "markdown",
   "metadata": {},
   "source": [
    "$\\beta=\\frac{\\sqrt{4b-a^2}}{2}$"
   ]
  },
  {
   "cell_type": "markdown",
   "metadata": {},
   "source": [
    "상기 형태를 1자유도 자유진동 시스템에 대입해보면 다음과 같다."
   ]
  },
  {
   "cell_type": "markdown",
   "metadata": {},
   "source": [
    "**(1) Overdampled (Nonoscillatory Motion)**"
   ]
  },
  {
   "cell_type": "markdown",
   "metadata": {},
   "source": [
    "$r_{1,2}=\\frac{-2\\zeta\\omega_n\\pm\\sqrt{(2\\zeta\\omega_n)^2-4\\omega_n^2}}{2}=-\\zeta\\omega_n\\pm\\omega_n\\sqrt{\\zeta^2-1}=-\\zeta\\omega_n\\pm j \\omega_d$"
   ]
  },
  {
   "cell_type": "markdown",
   "metadata": {},
   "source": [
    "$$x=e^{-\\zeta\\omega_nt}(C_1e^{j\\omega_dt}+C_2e^{-j\\omega_dt})$$"
   ]
  },
  {
   "cell_type": "markdown",
   "metadata": {},
   "source": [
    "$C_1=\\frac{\\dot{x}(0)+(\\zeta\\omega_n+j\\omega_d)x(0)}{2j\\omega_d}$"
   ]
  },
  {
   "cell_type": "markdown",
   "metadata": {},
   "source": [
    "$C_2=\\frac{-\\dot{x}(0)-(\\zeta\\omega_n-j\\omega_d)x(0)}{2j\\omega_d}$"
   ]
  },
  {
   "cell_type": "markdown",
   "metadata": {},
   "source": [
    "**(2) Critically Damped**"
   ]
  },
  {
   "cell_type": "markdown",
   "metadata": {},
   "source": [
    "$r_{1}=r_{2}=-\\zeta\\omega_n$"
   ]
  },
  {
   "cell_type": "markdown",
   "metadata": {},
   "source": [
    "$x=(C_1+C_2t)e^{-\\zeta\\omega_nt}$"
   ]
  },
  {
   "cell_type": "markdown",
   "metadata": {},
   "source": [
    "$x(0)=C_1$"
   ]
  },
  {
   "cell_type": "markdown",
   "metadata": {},
   "source": [
    "$\\dot{x}(0)=C_2-\\zeta\\omega_nC_1$"
   ]
  },
  {
   "cell_type": "markdown",
   "metadata": {},
   "source": [
    "$x=(x(0)+(\\dot{x}(0)+x(0)\\zeta\\omega_n)t)e^{-\\zeta\\omega_nt}$"
   ]
  },
  {
   "cell_type": "markdown",
   "metadata": {},
   "source": [
    "Critically Damped는 $\\zeta=1$이므로,"
   ]
  },
  {
   "cell_type": "markdown",
   "metadata": {},
   "source": [
    "$$x=\\left(x(0)+(\\dot{x}(0)+x(0)\\omega_n)t\\right)e^{\\omega_nt}$$"
   ]
  },
  {
   "cell_type": "markdown",
   "metadata": {},
   "source": [
    "**(3) Underdamped (Oscillatory motion)**"
   ]
  },
  {
   "cell_type": "markdown",
   "metadata": {},
   "source": [
    "$x=e^{-\\zeta\\omega_n t}(C_1cos\\omega_dt+C_2sin\\omega_dt)$"
   ]
  },
  {
   "cell_type": "markdown",
   "metadata": {},
   "source": [
    "$$x=e^{-\\zeta\\omega_n t}\\left(\\frac{\\dot{x}(0)+\\zeta\\omega_nx(0)}{\\omega_d}sin\\omega_dt+x(0)cos\\omega_dt\\right)$$"
   ]
  },
  {
   "cell_type": "markdown",
   "metadata": {},
   "source": [
    "## 2. 과도응답"
   ]
  },
  {
   "cell_type": "markdown",
   "metadata": {},
   "source": [
    "다음을 만족하는 충격 하중 $F(t)$가 있다."
   ]
  },
  {
   "cell_type": "markdown",
   "metadata": {},
   "source": [
    "$\\hat{F}=\\int F(t)dt$"
   ]
  },
  {
   "cell_type": "markdown",
   "metadata": {},
   "source": [
    "$F=ma=m\\frac{dv}{dt}$이므로 $\\hat{F}$에 의한 초기 속도는 다음과 같다."
   ]
  },
  {
   "cell_type": "markdown",
   "metadata": {},
   "source": [
    "$\\frac{1}{m}\\int F(t)dt=\\int dv=v(0)=\\dot{x}(0)=\\frac{\\hat{F}}{m}$"
   ]
  },
  {
   "cell_type": "markdown",
   "metadata": {},
   "source": [
    "$x(0)=0$이라고 하면, 상기 underdamped case의 결과에 따라 충격하중에 이후의 자유진동은 다음과 같다."
   ]
  },
  {
   "cell_type": "markdown",
   "metadata": {},
   "source": [
    "$$x=e^{-\\zeta\\omega_n t}\\left(\\frac{\\hat{F}}{m\\omega_d}sin\\omega_dt\\right)=\\hat{F}h(t)$$"
   ]
  },
  {
   "cell_type": "markdown",
   "metadata": {},
   "source": [
    "여기서 $h(t)$는 단위 충격 입력하중에 의한 응답이다."
   ]
  },
  {
   "cell_type": "markdown",
   "metadata": {},
   "source": [
    "임의의 하중 $f(t)$는 다음과 같이 표현할 수 있다."
   ]
  },
  {
   "cell_type": "markdown",
   "metadata": {},
   "source": [
    "$\\hat{F}=f(\\xi)\\Delta\\xi$"
   ]
  },
  {
   "cell_type": "markdown",
   "metadata": {},
   "source": [
    "미소시간 $\\Delta\\xi$에서의 응답은 크기가 $f(\\xi)$인 충격응답과 같으므로 전체 응답은 다음과 같이 표현할 수 있다."
   ]
  },
  {
   "cell_type": "markdown",
   "metadata": {},
   "source": [
    "$$x(t)=\\int_0^t f(\\xi)h(t-\\xi)d\\xi$$"
   ]
  }
 ],
 "metadata": {
  "kernelspec": {
   "display_name": "Python 3",
   "language": "python",
   "name": "python3"
  },
  "language_info": {
   "codemirror_mode": {
    "name": "ipython",
    "version": 3
   },
   "file_extension": ".py",
   "mimetype": "text/x-python",
   "name": "python",
   "nbconvert_exporter": "python",
   "pygments_lexer": "ipython3",
   "version": "3.7.6"
  }
 },
 "nbformat": 4,
 "nbformat_minor": 4
}
