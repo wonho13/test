{
 "cells": [
  {
   "cell_type": "code",
   "execution_count": 1,
   "metadata": {},
   "outputs": [],
   "source": [
    "import numpy as np\n",
    "import matplotlib.pyplot as plt"
   ]
  },
  {
   "cell_type": "code",
   "execution_count": 10,
   "metadata": {},
   "outputs": [],
   "source": [
    "# lftab = freqeuncy table / ldtab = input time history / dr = damping ratio / dtime = integration time step(default = 1/(20*fmax))\n",
    "# it = input type (0=displacement / 1=acceleration)\n",
    "# output list\n",
    "# - displacement(relative to base excitation)\n",
    "# - velocity    (relative to base excitation)\n",
    "# - acceleration\n",
    "# - pseudo velocity\n",
    "# - pseudo acceleration\n",
    "\n",
    "def resp(lftab,ldtab,dr,dtime,it):\n",
    "    def newmark_parameter(dt):\n",
    "        r = 0.005; alpha = (1/4)*((1+r)**2); delta = 0.5 + r;\n",
    "        a = np.zeros(8);\n",
    "        a[0] = 1/(alpha*dt*dt); a[1] = delta/(alpha*dt); a[2] = 1/(alpha*dt); a[3] = 1/(2*alpha)-1;\n",
    "        a[4] = delta/alpha - 1; a[5] = (dt/2)*((delta/alpha)-2); a[6] = dt*(1-delta); a[7] = delta*dt;\n",
    "        return a;\n",
    "    def DERIV(X,Y):\n",
    "        N = len(Y); YY = np.zeros(N);\n",
    "        YY[0] = (Y[1]-Y[0])/(X[1]-X[0]); Y[N-1] = (Y[N-1]-Y[N-2])/(X[N-1]-X[N-2]);\n",
    "        for n in range(N-2):\n",
    "            YY[n+1] = (((Y[n+2]-Y[n+1])/(X[n+2]-X[n+1]))*(X[n+1]-X[n]) + ((Y[n+1]-Y[n])/(X[n+1]-X[n]))*(X[n+2]-X[n+1]))/(X[n+2]-X[n]);\n",
    "        return YY;\n",
    "    def INTEG(X,Y,C1):\n",
    "        N = len(Y); YY = np.zeros(N);\n",
    "        YY[0] = C1;\n",
    "        for n in range(1,N):\n",
    "            YY[n] = YY[n-1] + (1/2)*(Y[n]+Y[n-1])*(X[n]-X[n-1]);\n",
    "        return YY;      \n",
    "        \n",
    "    freq = lftab; th = ldtab; zeta = dr; dt = dtime;\n",
    "    a = newmark_parameter(dt);\n",
    "    umax,vmax,acmax,pvmax,pamax = np.zeros(len(freq)),np.zeros(len(freq)),np.zeros(len(freq)),np.zeros(len(freq)),np.zeros(len(freq));\n",
    "    u,v,ac = np.zeros(len(th)),np.zeros(len(th)),np.zeros(len(th));\n",
    "    ru,rv,rac = np.zeros(len(th)),np.zeros(len(th)),np.zeros(len(th));\n",
    "    if it == 0:  # input type = displacement\n",
    "        N = len(th);\n",
    "        time = np.arange(N)*dt;\n",
    "        vth = DERIV(time,th);       \n",
    "        for fl in range(len(freq)):\n",
    "            w = 2*np.pi*freq[fl]; m = 1; c = 2*zeta*w; k = w**2;\n",
    "            F = 2*zeta*w*vth + w**2*th;\n",
    "            Fe = a[0]*m + a[1]*c + k;\n",
    "            \n",
    "            for n in range(len(th-1)):\n",
    "                u[n+1] = (F[n+1] + m*(a[0]*u[n]+a[2]*v[n]+a[3]*ac[n])+c*(a[1]*u[n]+a[4]*v[n]+a[5]*ac[n]))/Fe;\n",
    "                v[n+1] = a[1]*(u[n+1]-u[n]) - a[4]*v[n] - a[5]*ac[n];\n",
    "                ac[n+1] = a[0]*(u[n+1]-u[n]) -a[2]*v[n] - a[3]*ac[n];\n",
    "            ru = u - th; rv = v - vth;\n",
    "            umax[fl] = max(abs(ru)); vmax[fl] = max(abs(rv)); acmax[fl] = max(abs(ac));\n",
    "            pvmax[fl] = umax[fl]*w; pamax[fl] = umax[fl]*w*w;\n",
    "    if it == 1: # input type = acceleration\n",
    "        N = len(th);\n",
    "        time = np.arange(N)*dt;\n",
    "        vth = INTEG(time,th,0); dth = INTEG(time,vth,0);\n",
    "        F = -th;\n",
    "        for fl in range(len(freq)):\n",
    "            w = 2*np.pi*freq[fl]; m = 1; c = 2*zeta*w; k = w**2;            \n",
    "            Fe = a[0]*m + a[1]*c + k;          \n",
    "            for n in range(len(th)-1):\n",
    "                ru[n+1] = (F[n+1] + m*(a[0]*ru[n]+a[2]*rv[n]+a[3]*rac[n])+c*(a[1]*ru[n]+a[4]*rv[n]+a[5]*rac[n]))/Fe;\n",
    "                rv[n+1] = a[1]*(ru[n+1]-ru[n]) - a[4]*rv[n] - a[5]*rac[n];\n",
    "                rac[n+1] = a[0]*(ru[n+1]-ru[n]) -a[2]*rv[n] - a[3]*rac[n];\n",
    "            ac = rac + th;\n",
    "            umax[fl] = max(abs(ru)); vmax[fl] = max(abs(rv)); acmax[fl] = max(abs(ac));\n",
    "            pvmax[fl] = umax[fl]*w; pamax[fl] = umax[fl]*w*w;\n",
    "    return freq,umax,vmax,acmax,pvmax,pamax;"
   ]
  },
  {
   "cell_type": "code",
   "execution_count": 11,
   "metadata": {},
   "outputs": [],
   "source": [
    "lftab = np.linspace(0,1000,1001)/10; dt = 1/(20*max(lftab));\n",
    "t = np.arange(10001)*dt;\n",
    "gth = 10*np.sin(2*np.pi*t) + 13*np.sin(2*np.pi*3*t+np.pi/1.3) + 17*np.sin(2*np.pi*5*t+np.pi/1.7);\n",
    "freq,umax,vmax,acmax,pvmax,pamax = resp(lftab,gth,0.00,dt,1)"
   ]
  },
  {
   "cell_type": "code",
   "execution_count": 12,
   "metadata": {},
   "outputs": [
    {
     "data": {
      "image/png": "[encoded data removed]",
      "text/plain": [
       "<Figure size 432x288 with 1 Axes>"
      ]
     },
     "metadata": {
      "needs_background": "light"
     },
     "output_type": "display_data"
    }
   ],
   "source": [
    "plt.plot(freq,umax); plt.xscale('log'); plt.yscale('log');"
   ]
  },
  {
   "cell_type": "code",
   "execution_count": null,
   "metadata": {},
   "outputs": [],
   "source": []
  }
 ],
 "metadata": {
  "kernelspec": {
   "display_name": "Python 3",
   "language": "python",
   "name": "python3"
  },
  "language_info": {
   "codemirror_mode": {
    "name": "ipython",
    "version": 3
   },
   "file_extension": ".py",
   "mimetype": "text/x-python",
   "name": "python",
   "nbconvert_exporter": "python",
   "pygments_lexer": "ipython3",
   "version": "3.8.3"
  }
 },
 "nbformat": 4,
 "nbformat_minor": 4
}
