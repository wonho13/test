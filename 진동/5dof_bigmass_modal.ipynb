{
 "cells": [
  {
   "cell_type": "code",
   "execution_count": 1,
   "id": "dbe2229c",
   "metadata": {},
   "outputs": [],
   "source": [
    "from numpy import *\n",
    "from matplotlib.pyplot import *\n",
    "import matplotlib.ticker as mtick\n",
    "import matplotlib.pyplot as plt\n",
    "from scipy.linalg import expm\n",
    "from numpy.linalg import *\n",
    "from scipy.signal import lfilter\n",
    "%matplotlib inline"
   ]
  },
  {
   "cell_type": "code",
   "execution_count": 2,
   "id": "4f9a7006",
   "metadata": {},
   "outputs": [],
   "source": [
    "def fileO(x,y,filename):\n",
    "    f = open(filename,'w');\n",
    "    #f = open(filename,'a'); # overwrite\n",
    "    for i in range(len(y)):\n",
    "        f.write('%.4e\\t%.4e\\n'%(x[i],y[i]));\n",
    "    f.close();"
   ]
  },
  {
   "cell_type": "code",
   "execution_count": 3,
   "id": "e0f32d5d",
   "metadata": {},
   "outputs": [],
   "source": [
    "def fileI(filename):\n",
    "    tmp = []\n",
    "    f = open(filename,'r');\n",
    "    lines = f.readlines()\n",
    "    for line in lines:\n",
    "        tmp.append(line);\n",
    "    out=np.zeros([len(tmp),2]);\n",
    "    for i in range(len(out)):\n",
    "        out[i,:] = np.array(tmp[i].split()).astype(np.float64)\n",
    "    return out;"
   ]
  },
  {
   "cell_type": "code",
   "execution_count": 4,
   "id": "9f38ccea",
   "metadata": {},
   "outputs": [],
   "source": [
    "# SDOF Transient Response (ISO 18431-4)\n",
    "# th_in : acceleration time history at base\n",
    "# th_out : acceleration time history at mass\n",
    "def SDOF_ISO(th_in,dt,fn,zeta):\n",
    "\n",
    "    wn = 2*np.pi*fn;\n",
    "    wd = wn*np.sqrt(1-zeta**2);\n",
    "    A=wn*dt*zeta;\n",
    "    B=wd*dt;\n",
    "    \n",
    "    a, b = np.zeros(3), np.zeros(3);\n",
    "\n",
    "    b[0] = 1 - np.exp(-A)*np.sin(B)/B;\n",
    "    b[1] = 2*np.exp(-A)*(np.sin(B)/B - np.cos(B));\n",
    "    b[2] = np.exp(-2*A) - np.exp(-A) * np.sin(B)/B;\n",
    "\n",
    "    a[0] = 1;\n",
    "    a[1] = -2*np.exp(-A)*np.cos(B);\n",
    "    a[2] = np.exp(-2*A);\n",
    "\n",
    "    th_out=lfilter(b, a, th_in, axis=-1, zi=None);\n",
    "    \n",
    "    return th_out;"
   ]
  },
  {
   "cell_type": "code",
   "execution_count": 5,
   "id": "c49c4ec2",
   "metadata": {},
   "outputs": [],
   "source": [
    "## SRS (ISO 18431-4)\n",
    "def srs_iso(ft,th,dr,dt):\n",
    "    nf = len(ft);\n",
    "    rs = np.zeros(nf);\n",
    "    for i in range(nf):\n",
    "        rs[i]= max(abs(SDOF_ISO(th,dt,ft[i],dr)));\n",
    "    return ft,rs;"
   ]
  },
  {
   "cell_type": "code",
   "execution_count": 6,
   "id": "517413fe",
   "metadata": {},
   "outputs": [],
   "source": [
    "ndof = 10;"
   ]
  },
  {
   "cell_type": "code",
   "execution_count": 7,
   "id": "d229a836",
   "metadata": {},
   "outputs": [],
   "source": [
    "M = 100*identity(ndof+1)"
   ]
  },
  {
   "cell_type": "code",
   "execution_count": 8,
   "id": "1dc96231",
   "metadata": {},
   "outputs": [],
   "source": [
    "M[ndof,ndof] = 1e12;"
   ]
  },
  {
   "cell_type": "code",
   "execution_count": 9,
   "id": "0e8a9f8c",
   "metadata": {},
   "outputs": [],
   "source": [
    "K = np.zeros([ndof+1,ndof+1]);"
   ]
  },
  {
   "cell_type": "code",
   "execution_count": 10,
   "id": "fe5588c7",
   "metadata": {},
   "outputs": [],
   "source": [
    "kk = np.array([[1,-1],[-1,1]]);"
   ]
  },
  {
   "cell_type": "code",
   "execution_count": 11,
   "id": "57bb0c03",
   "metadata": {},
   "outputs": [],
   "source": [
    "for i in range(ndof):\n",
    "    K[i:i+2,i:i+2] += kk;"
   ]
  },
  {
   "cell_type": "code",
   "execution_count": 12,
   "id": "5a87b0b7",
   "metadata": {
    "code_folding": []
   },
   "outputs": [],
   "source": [
    "K *= 1e6"
   ]
  },
  {
   "cell_type": "code",
   "execution_count": 13,
   "id": "1ab53f40",
   "metadata": {},
   "outputs": [],
   "source": [
    "MK = inv(M)@K"
   ]
  },
  {
   "cell_type": "code",
   "execution_count": 14,
   "id": "e9fbb6ee",
   "metadata": {
    "scrolled": true
   },
   "outputs": [],
   "source": [
    "eigenvalues, eigenvectors =eig(MK)"
   ]
  },
  {
   "cell_type": "code",
   "execution_count": 15,
   "id": "79b35d06",
   "metadata": {},
   "outputs": [],
   "source": [
    "w = np.sqrt(abs(eigenvalues));\n",
    "fn = w/(2*np.pi);"
   ]
  },
  {
   "cell_type": "code",
   "execution_count": 16,
   "id": "94230260",
   "metadata": {
    "scrolled": true
   },
   "outputs": [
    {
     "name": "stdout",
     "output_type": "stream",
     "text": [
      "f1 = 0.0000 \n",
      "\n",
      "f2 = 2.3787 \n",
      "\n",
      "f3 = 7.0831 \n",
      "\n",
      "f4 = 11.6292 \n",
      "\n",
      "f5 = 15.9155 \n",
      "\n",
      "f6 = 19.8463 \n",
      "\n",
      "f7 = 23.3338 \n",
      "\n",
      "f8 = 26.3000 \n",
      "\n",
      "f9 = 28.6787 \n",
      "\n",
      "f10 = 30.4168 \n",
      "\n",
      "f11 = 31.4755 \n",
      "\n"
     ]
    }
   ],
   "source": [
    "for i in range(ndof+1):\n",
    "    print('f%d = %.4f \\n'%(i+1,fn[ndof-i]));"
   ]
  },
  {
   "cell_type": "code",
   "execution_count": 17,
   "id": "0bdadf89",
   "metadata": {
    "scrolled": true
   },
   "outputs": [],
   "source": [
    "gth = fileI('elcentro.dat');\n",
    "dt = gth[1,0] - gth[0,0];"
   ]
  },
  {
   "cell_type": "code",
   "execution_count": 18,
   "id": "66c4c47c",
   "metadata": {},
   "outputs": [],
   "source": [
    "ft = np.logspace(-1,2,100); damp=1/20;"
   ]
  },
  {
   "cell_type": "code",
   "execution_count": 19,
   "id": "9cbbc625",
   "metadata": {},
   "outputs": [],
   "source": [
    "freq,rs_iso = srs_iso(ft,gth[:,1],damp,dt);"
   ]
  },
  {
   "cell_type": "code",
   "execution_count": 20,
   "id": "e99fc172",
   "metadata": {},
   "outputs": [
    {
     "data": {
      "image/png": "[encoded data removed]",
      "text/plain": [
       "<Figure size 432x288 with 1 Axes>"
      ]
     },
     "metadata": {
      "needs_background": "light"
     },
     "output_type": "display_data"
    }
   ],
   "source": [
    "plt.plot(freq,rs_iso,'k-');\n",
    "plt.xscale('log'); plt.yscale('log');\n",
    "plt.xlim([0.1,20]); plt.ylim([0.01,1]);\n",
    "plt.title('SHOCK RESPONSE SPECTRA, Q=10\\n EL CENTRO EARTHQUAKE MAY 18, 1940 \\n NORTH-SOUTH COMPONENT');\n",
    "plt.xlabel('NATURAL FREQUENCY (Hz)');\n",
    "plt.ylabel('PEAK ACCELERATION (G)');\n",
    "plt.gca().xaxis.set_major_formatter(mtick.FormatStrFormatter('%.1f')); \n",
    "plt.gca().yaxis.set_major_formatter(mtick.FormatStrFormatter('%.1f'));\n",
    "plt.grid();"
   ]
  },
  {
   "cell_type": "code",
   "execution_count": 21,
   "id": "6e644998",
   "metadata": {},
   "outputs": [
    {
     "data": {
      "image/png": "[encoded data removed]",
      "text/plain": [
       "<Figure size 432x288 with 1 Axes>"
      ]
     },
     "metadata": {
      "needs_background": "light"
     },
     "output_type": "display_data"
    }
   ],
   "source": [
    "plt.plot(freq,rs_iso,'k-');\n",
    "plt.xscale('log'); plt.yscale('log');\n",
    "plt.xlim([0.1,100]); plt.ylim([0.01,1]);\n",
    "plt.title('SHOCK RESPONSE SPECTRA, Q=10\\n EL CENTRO EARTHQUAKE MAY 18, 1940 \\n NORTH-SOUTH COMPONENT');\n",
    "plt.xlabel('NATURAL FREQUENCY (Hz)');\n",
    "plt.ylabel('PEAK ACCELERATION (G)');\n",
    "plt.gca().xaxis.set_major_formatter(mtick.FormatStrFormatter('%.1f')); \n",
    "plt.gca().yaxis.set_major_formatter(mtick.FormatStrFormatter('%.1f'));\n",
    "plt.grid();"
   ]
  },
  {
   "cell_type": "code",
   "execution_count": 22,
   "id": "f105d6ca",
   "metadata": {},
   "outputs": [],
   "source": [
    "fzpa = 20;"
   ]
  },
  {
   "cell_type": "code",
   "execution_count": null,
   "id": "a81f5393",
   "metadata": {},
   "outputs": [],
   "source": []
  }
 ],
 "metadata": {
  "kernelspec": {
   "display_name": "Python 3 (ipykernel)",
   "language": "python",
   "name": "python3"
  },
  "language_info": {
   "codemirror_mode": {
    "name": "ipython",
    "version": 3
   },
   "file_extension": ".py",
   "mimetype": "text/x-python",
   "name": "python",
   "nbconvert_exporter": "python",
   "pygments_lexer": "ipython3",
   "version": "3.9.7"
  },
  "latex_envs": {
   "LaTeX_envs_menu_present": true,
   "autoclose": false,
   "autocomplete": true,
   "bibliofile": "biblio.bib",
   "cite_by": "apalike",
   "current_citInitial": 1,
   "eqLabelWithNumbers": true,
   "eqNumInitial": 1,
   "hotkeys": {
    "equation": "Ctrl-E",
    "itemize": "Ctrl-I"
   },
   "labels_anchors": false,
   "latex_user_defs": false,
   "report_style_numbering": false,
   "user_envs_cfg": false
  }
 },
 "nbformat": 4,
 "nbformat_minor": 5
}
