{
 "cells": [
  {
   "cell_type": "markdown",
   "metadata": {},
   "source": [
    "문제) 공기 압축기(Air Compressor)의 종류에 대하여 원리와 특성을 설명하시오."
   ]
  },
  {
   "cell_type": "markdown",
   "metadata": {},
   "source": [
    "I 정의"
   ]
  },
  {
   "cell_type": "markdown",
   "metadata": {},
   "source": [
    "공기를 일정 압력 이상으로 압축하여 고압 탱크에 저장시키는 장치"
   ]
  },
  {
   "cell_type": "markdown",
   "metadata": {},
   "source": [
    "II 개념도"
   ]
  },
  {
   "cell_type": "markdown",
   "metadata": {},
   "source": [
    "(1) 피스톤식\n",
    "\n",
    "대기중의 공기를 에어 필터를 통해 인렛(Inlet) 밸브로 흡입하여 피스톤이 내장 되어 있는 압축 실린더에 전달하면 모터가 회전하면서 모터의 축과 압축 피스톤을 이어주는 크랭크축이 돌아가면서 크랭크축 위에 연결된 피스톤을 상하로 왕복운동을 시켜서 흡입 된 공기를 압축시킨다.\n",
    "\n",
    "(2) 스크류식\n",
    "\n",
    "대기중의 공기를 에어 필터를 통해 인렛 밸브로 흡입한 다음 두 개의 스크류가 내장 되어 있는 에어엔드에 전달하면 모터가 회전하면서 모터의 축과 에어엔드의 축간에 연결된 커플링을 통해서 에어엔드 내부의 스크류가 서로 맞물려 돌아가며 흡입 된 공기를 압축시킨다.\n",
    "\n",
    "(3) 다이아프렘식\n",
    "\n",
    "내부에 얇은 고무판이 있고 이것이 모터에 연결되어 위아래로 왕 복한다. 소음이 적으며 주로 작은 차량용 압축기나 오일이 들어 가지 않는 압축기에 사용된다."
   ]
  },
  {
   "cell_type": "markdown",
   "metadata": {},
   "source": [
    "III 원리"
   ]
  },
  {
   "cell_type": "markdown",
   "metadata": {},
   "source": [
    "IV 특성"
   ]
  }
 ],
 "metadata": {
  "kernelspec": {
   "display_name": "Python 3",
   "language": "python",
   "name": "python3"
  },
  "language_info": {
   "codemirror_mode": {
    "name": "ipython",
    "version": 3
   },
   "file_extension": ".py",
   "mimetype": "text/x-python",
   "name": "python",
   "nbconvert_exporter": "python",
   "pygments_lexer": "ipython3",
   "version": "3.8.3"
  }
 },
 "nbformat": 4,
 "nbformat_minor": 4
}
