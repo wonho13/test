{
 "cells": [
  {
   "cell_type": "markdown",
   "metadata": {},
   "source": [
    "## 보일러 마력\n",
    "\n",
    "보일러 마력은 보일러의 열생산능력을 나타내는 단위로, “1 보일러 마력”은 다음과 같이 정의됩니다.\n",
    "\n",
    "- **정의**:  \n",
    "  1시간 동안 100℃의 포화수를 100℃의 건포화증기로 전환시키는 능력을 1 보일러 마력(HP)이라 합니다.  \n",
    "  즉, 1시간에 15.65 kg의 물을 증기로 증발시키는 능력이 1 보일러 마력에 해당합니다.  \n",
    "  이는 보일러의 “상당증발량”으로도 표현되며,  \n",
    "  \n",
    "  $\\text{상당증발량 (kg/h)} = \\frac{\\text{증기 엔탈피} - \\text{급수 엔탈피}}{539 \\text{ kcal/kg}}$\n",
    "  \n",
    "  에서 100℃의 조건에서 급수 엔탈피가 100℃에 해당하는 값으로 적용되어 15.65 kg/h가 나오게 됩니다.\n",
    "\n",
    "- **열량 환산**:  \n",
    "  한편, 물 1 kg을 100℃에서 증기로 전환시키기 위해서는 약 539 kcal의 열량(잠열)이 필요하므로,  \n",
    "  1 보일러 마력에 해당하는 열량은  \n",
    "  \n",
    "  $15.65\\, \\text{kg/h} \\times 539\\, \\text{kcal/kg} \\approx 8\\,435\\, \\text{kcal/h}$\n",
    "  \n",
    "  가 됩니다.\n",
    "\n",
    "- **의의 및 활용**:  \n",
    "  이 단위는 보일러의 열출력이나 증기 발생능력을 평가할 때 널리 사용되며, 보일러 설계 및 성능 분석, 효율 산정 등에서 기준치로 활용됩니다.  \n",
    "  또한, 보일러 마력은 기계식 마력(약 745.7 W)과는 개념적으로 구분되며, 열에너지의 양을 나타내는 단위입니다.\n",
    "\n",
    "즉, 보일러 마력은 “1시간에 100℃의 물 15.65 kg을 증기로 전환시키는데 필요한 열량(약 8,435 kcal/h)”을 의미하며, 이는 보일러의 열출력과 성능 평가의 중요한 척도로 사용됩니다."
   ]
  }
 ],
 "metadata": {
  "kernelspec": {
   "display_name": "Python 3",
   "language": "python",
   "name": "python3"
  },
  "language_info": {
   "codemirror_mode": {
    "name": "ipython",
    "version": 3
   },
   "file_extension": ".py",
   "mimetype": "text/x-python",
   "name": "python",
   "nbconvert_exporter": "python",
   "pygments_lexer": "ipython3",
   "version": "3.7.3"
  }
 },
 "nbformat": 4,
 "nbformat_minor": 2
}
