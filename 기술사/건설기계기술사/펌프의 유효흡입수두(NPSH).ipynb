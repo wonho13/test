{
 "cells": [
  {
   "cell_type": "markdown",
   "metadata": {},
   "source": [
    "문제 : 펌프의 유효흡입수두(NPSH)에 대해 설명하시오."
   ]
  },
  {
   "cell_type": "markdown",
   "metadata": {},
   "source": [
    "I. 정의"
   ]
  },
  {
   "cell_type": "markdown",
   "metadata": {},
   "source": [
    "- 펌프가 캐비테이션  발생 없이 안전하게 운전될 수 있는가를 나타내는 척도\n",
    "\n",
    "- 수두(m) 혹은 압력(bar)으로 표시"
   ]
  },
  {
   "cell_type": "markdown",
   "metadata": {},
   "source": [
    "II. 종류"
   ]
  },
  {
   "cell_type": "markdown",
   "metadata": {},
   "source": [
    "(1) NPSHa(Available NPSH): 유효흡입수두\n",
    "\n",
    "- 배관시스템의 설계에 의해 결정됨\n",
    "\n",
    "- 펌프의 설치위치, 흡입관경, 흡입배관 길이, 이송액체의 종류 및 온도 등에 의하여 결정됨\n",
    "\n",
    "- 안전한 펌프 운전을 위해 필요흡입수두(NPSHr)보다 최소한 1.2~1.3배 정도 크게 유지되도록 시스템을 구성함\n",
    "\n",
    "(2) NPSHr(Required NPSH): 필요흡입수두\n",
    "\n",
    "- 펌프의 설계에 의해 결정됨 \n",
    "\n",
    "- 펌프 자체에서 발생하는 손실 수두\n",
    "\n",
    "- 펌프의 제작시 펌프 고유의 특성에 의해 결정됨\n",
    "\n",
    "- 구하는 계산식도 있으나 캐비테이션 실험을 통하여 구하는 것이 정확하며 펌프 제조사는 그 값을 펌프 데이터의 하나로 제공함\n",
    "\n",
    "(3) Cavition 방지 조건\n",
    "\n",
    "NPSHa > NPSHr x 마진(약 1.3)"
   ]
  },
  {
   "cell_type": "markdown",
   "metadata": {},
   "source": [
    "III. 계산"
   ]
  },
  {
   "cell_type": "markdown",
   "metadata": {},
   "source": [
    "NPSHa=Pa(대기압)-Hs(펌프높이)-Hf(손실수두)-Pv(포화증기압)"
   ]
  },
  {
   "cell_type": "markdown",
   "metadata": {},
   "source": [
    "펌프보다 아래쪽의 물을 흡입하는 경우,\n",
    "\n",
    "Pa = 수면에 작용하는 대기압\n",
    "\n",
    "Hs = 흡수면에서 펌프 임펠러까지 높이\n",
    "\n",
    "Hf = 흡입배관의 손실 수두\n",
    "\n",
    "Pv = 이송 액체의 포화증기압\n",
    "\n",
    "[계산 예시]\n",
    "\n",
    "Pa = 10.332m\n",
    "\n",
    "Hs = 3m\n",
    "\n",
    "Hf = 0.5m\n",
    "\n",
    "Pv = 0.23m (20℃ 물)\n",
    "\n",
    "NPSHa = Pa – Hs – Hf – Pv = 10.322 – 3 – 0.5 – 0.25 = 6.602m\n",
    "\n",
    "여기에 30%의 마진을 준다면 6.602/1.3 = 5.078m.\n",
    "\n",
    "(즉 NPSHr 이 5m 이하인 펌프를 사용하거나 시스템을 변경하여 NPSHa를 높여야 캐비테이션 발생하지 않음)"
   ]
  }
 ],
 "metadata": {
  "kernelspec": {
   "display_name": "Python 3",
   "language": "python",
   "name": "python3"
  },
  "language_info": {
   "codemirror_mode": {
    "name": "ipython",
    "version": 3
   },
   "file_extension": ".py",
   "mimetype": "text/x-python",
   "name": "python",
   "nbconvert_exporter": "python",
   "pygments_lexer": "ipython3",
   "version": "3.8.3"
  }
 },
 "nbformat": 4,
 "nbformat_minor": 4
}
