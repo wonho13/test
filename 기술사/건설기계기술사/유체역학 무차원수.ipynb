{
 "cells": [
  {
   "cell_type": "markdown",
   "metadata": {},
   "source": [
    "문제 : 유체역학의 무차원수 5가지를 열거하고 설명하시오"
   ]
  },
  {
   "cell_type": "markdown",
   "metadata": {},
   "source": [
    "출처 : Fluid Mechanics for Engineer, David A. Shin, Pearson\n",
    "\n",
    "Table 6.1: Common Dimensionless Groups in Fluid Mechanics"
   ]
  },
  {
   "cell_type": "markdown",
   "metadata": {},
   "source": [
    "|Name|Symbol|Formula|Physical Meaning|\n",
    "|:---|:---|:---|:---|\n",
    "|Cauchy number|Ca|$\\frac{\\rho V^2}{E_v}$|$\\frac{inerital\\;force}{elastic\\;force}$|\n",
    "|Euler number|Eu|$\\frac{\\Delta p}{\\rho V^2}$|$\\frac{pressure\\;force}{inertial\\;force}$|\n",
    "|Froude number|Fr|$\\frac{V}{\\sqrt{gL}}$|$\\frac{inertial\\;force}{gravitational\\;force}$|\n",
    "|Mach number|Ma|$\\frac{V}{\\sqrt{E_v/\\rho}}$|$\\frac{inertial\\;force}{elastic\\;force}$|\n",
    "|Prandtl number|Pr|$\\frac{\\mu c_p}{k}$|$\\frac{viscous\\;diffusion\\;rate}{thermal\\;diffusion\\;rate}$|\n",
    "|Reynolds number|Re|$\\frac{\\rho V L}{\\mu}$|$\\frac{inertial\\;force}{viscous\\;force}$|\n",
    "|Richardson number|Ri|$\\frac{\\left(\\frac{\\Delta \\rho}{\\rho}g\\right)L}{V}$|$\\frac{buoyancy\\;force}{inertial\\;force}$|\n",
    "|Strouhal number|St|$\\frac{\\omega L}{V}$|$\\frac{local\\;inertial\\;force}{convective\\;inertial\\;force}$|\n",
    "|Weber number|We|$\\frac{\\rho V^2 L}{\\sigma}$|$\\frac{inertial\\;force}{surface\\;tension\\;force}$|"
   ]
  },
  {
   "cell_type": "markdown",
   "metadata": {},
   "source": [
    "(1) Ca : 압축성이 중요한 경우 사용됨. 압축성 유동 평가 시 탄성력과 관성력은 함께 고려되어야 함. 이를 비율로 나타낸 것.\n",
    "\n",
    "(2) Eu : 두 위치의 압력 차이가 중요한 경우 사용됨.\n",
    "\n",
    "(3) Fr : 개수로 흐름의 유속에 따른 흐름 특성을 나타내는 값. 프루드 수에 따라 흐름을 상류, 사류, 한계류로 구분.\n",
    "\n",
    "(4) Ma : 음속에 비하여 속도가 얼마나 되는지를 나타내는 수\n",
    "\n",
    "마하 수의 크기에 따라 다음과 같이 분류하는데 M<0.8일 때를 아음속영역이라고 하며 특히 M<0.3 조건에서는 공기가 압축되면서 발생하는 공기역학적 효과를 무시해도 좋을정도로 압축성 효과가 약하므로 일반적인 공학적 문제를 비압축성 유동으로 고려시에는 이 영역으로 가정한다.\n",
    "\n",
    "0.8<M<1의 영역에서는 일반적으로 이 영역의 유동장을 지나가는 물체표면에 부분적으로 충격파가 발생한다. 이러한 특성으로 이 영역은 아음속과 초음속의 특성이 혼재되어 있는 영역으로 천음속영역이라고 한다.\n",
    "\n",
    "1<M<5의 영역에서는 물체의 앞에서 공기의 압력과 밀도가 급격히 변화하는 지점이 발생하는데 이것을 충격파이라고 부른다. 이때 충격파의 형태에 따라 활모양 충격파(Bow Shockwave)와 경사충격파(Oblique Shockwave)로 나뉜다. 또한 이 영역을 초음속영역이라 한다.\n",
    "\n",
    "M>5인 영역에서는 충격파뿐만 아니라 유체의 점성에 의한 공력가열현상으로 화학 반응이 일어나기 시작한다. 이 영역을 극초음속영역이라 한다."
   ]
  },
  {
   "cell_type": "code",
   "execution_count": null,
   "metadata": {},
   "outputs": [],
   "source": []
  }
 ],
 "metadata": {
  "kernelspec": {
   "display_name": "Python 3",
   "language": "python",
   "name": "python3"
  },
  "language_info": {
   "codemirror_mode": {
    "name": "ipython",
    "version": 3
   },
   "file_extension": ".py",
   "mimetype": "text/x-python",
   "name": "python",
   "nbconvert_exporter": "python",
   "pygments_lexer": "ipython3",
   "version": "3.8.3"
  }
 },
 "nbformat": 4,
 "nbformat_minor": 4
}
