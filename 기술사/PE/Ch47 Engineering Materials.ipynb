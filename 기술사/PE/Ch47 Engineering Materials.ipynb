{
 "cells": [
  {
   "cell_type": "markdown",
   "metadata": {},
   "source": [
    "## 1.CHARECTERISTICS OF METALS"
   ]
  },
  {
   "cell_type": "markdown",
   "metadata": {},
   "source": [
    "금속은 기계공학에서 가장 자주 사용되는 재료이다. 강은 가장 적절한 공학 금속이다. 왜냐하면 철광석은 풍부하며, 생산은 단순하고, 비용은 저렴하며, 성능은 예측하기 쉽기 때문이다. 하지만 특정 제품군에서는 다른 금속들도 중요한 부분을 차지한다."
   ]
  },
  {
   "cell_type": "markdown",
   "metadata": {},
   "source": [
    "대부분의 금속들은 표47.1의 물성으로 구별된다."
   ]
  },
  {
   "cell_type": "markdown",
   "metadata": {},
   "source": [
    "**야금학(Metallurgy)** 은 금속의 구매와 제작을 다루는 과목이다. **추출야금학(Extractive Metallurgy)** 은 광석으로부터 순수 금속은 정제하는 방법에 대해 다루는 과목이다."
   ]
  },
  {
   "cell_type": "markdown",
   "metadata": {},
   "source": [
    "<img src='Table 47.1.PNG'>"
   ]
  },
  {
   "cell_type": "markdown",
   "metadata": {},
   "source": [
    "## 2. UNIFIED NUMBERING SYSTEM"
   ]
  },
  {
   "cell_type": "markdown",
   "metadata": {},
   "source": [
    "UNS는 전세계에서 금속 및 합금의 일관된 식별을 위해 1970년대 중반에 도입되었다. UNS 표기는 17개중 한개의 대문자 하나와 5자리 번호로 구성된다. 표 47.2에 나타난대로 대부분의 표기는 금속군을 알려준다. "
   ]
  },
  {
   "cell_type": "markdown",
   "metadata": {},
   "source": [
    "각 UNS번호에는 주요합금의 비율범위기 표기된다. 하지만 UNS표기는 식별일뿐 스펙은아니다. 재료스펙은 ASTM 또는 유사기관에서 담당한다. UNS번호는 주요 합금 및 잔여 성분들을 알려줄 뿐이다. UNS번호는 정확한 스펙이 아니다. 어떤 제작자는 UNS 범위의 중간정도를 사용할 수 있고 다른 제작자는 하한치 또는 상한치를 사용할 수 있다. 소량의 잔여 성분들, 제작 공정의 방법(예를들면 롤링) 그리고 열처리는 스펙의 범위가 아니다. 또한 UNS 번호에 해당하는 제품은 유일하지 않을 수 있다. 이러한 관점에서 추가 스펙 및 명칭이 요구된다. "
   ]
  },
  {
   "cell_type": "markdown",
   "metadata": {},
   "source": [
    "이전의 표기체계를 UNS로 변환하기 위한 지침이 필요하다. 하지만 많은 스테인리스강의 경우 첫 3자리가 AISI 번호체계와 동일하다. AISI 304 type은 UNS S30400로 표기한다. 마지막 두자리는 다른 특성을 표기하기 위해 사용된다. 예를 들어, 탄소함량 최대 0.03%인 304L 스테인리스강은 S30403으로 표기한다. 다른 재료군(알루미늄, 구리, 니켈 등) 또한 이전 번호체계의 일부 또는  반영하고있다."
   ]
  },
  {
   "cell_type": "markdown",
   "metadata": {},
   "source": [
    "## 3. BLAST FURNACE IRON PRODUCTION"
   ]
  },
  {
   "cell_type": "markdown",
   "metadata": {},
   "source": [
    "순철(iron, 화학기호 Fe)은 철의 산화물인 $Fe_2O_2$ (hermatite, 69.9% 순철) 및 더 적은 양인 $Fe_3O_2$ (magnetite, 72.4% 순철)에서 추출한다. 철광석(iron ore)의 약 50%만 순철 산화물로 구성되여, 나머지는 맥석(gangue, 경제적 가치가 없는 광물)으로 구성된다. 맥석은 순철 산화물과 섞인 흙 및 돌이다."
   ]
  },
  {
   "cell_type": "markdown",
   "metadata": {},
   "source": [
    "순철 산화물은 순수 철로 재생산하기 위해 사용되는 공정은 용광로(blast furnace) 내에서 진행된다. 용광로는 철광석, 코크스(coke), 석회암(limestome)이 약 4:2:1의 비율로 번갈아가며 층으로 채워진다. 석회암은 코크스와 맥석 재의 유동역할을 하며, 용융된 맥석과 불순물들이 슬래그로 추출되도록 해준다."
   ]
  },
  {
   "cell_type": "markdown",
   "metadata": {},
   "source": [
    "기본적인 용광로는 그림 47.1에 나타나 있다. 용광로 상단에는 원뿔형 벨이 2개 있어 내용물을 넣거나(개방시) 가스가 새어나오는것을 제한(폐쇠시)한다. 용광로 하단 주위에 설치된 노즐로 고온의 공기가 주입된다. 이 개방구 들을 tuyeres(트위이에어, 용광로의 바람구멍)라고 한다."
   ]
  },
  {
   "cell_type": "markdown",
   "metadata": {},
   "source": [
    "용광로와 연결된 사전가열기(스토브)에서는 뜨거운 연소 공기가 생산된다. 보통 용광로 1개당 4개의 스토브가 쓰인다. 각 스토브는 일산화탄소가 많은 용광로 기체를 태워 돌아가며 가열된다. 다른 스토브들이 가열되는 동안 한 스토브로는 차가운 공기가 주입된다. 공기는 용광로에 주입되기전 1000℉에서 1300℉까지 가열된다. 주입된 공기는 코크스를 산화시키고 열과 다량의 일산화 탄소를 발생시킨다. 일산화 탄소는 약 600℉에서 용광로 상단으로 상승하고, 순철 산화물을 일산화 철로 변화시킨다. 다음 화학 반응은 일산화 철의 생성을 보여준다."
   ]
  },
  {
   "cell_type": "markdown",
   "metadata": {},
   "source": [
    "<img src='Figure 47.1.PNG'>"
   ]
  },
  {
   "cell_type": "markdown",
   "metadata": {},
   "source": [
    "$$C\\;\\;+\\;\\;O_2\\;\\; \\rightarrow\\;\\;CO_2$$"
   ]
  },
  {
   "cell_type": "markdown",
   "metadata": {},
   "source": [
    "$$CO_2\\;\\;+\\;\\;C\\;\\;\\rightarrow\\;\\;2CO$$"
   ]
  },
  {
   "cell_type": "markdown",
   "metadata": {},
   "source": [
    "$$2C\\;\\;+O_2\\;\\;\\rightarrow\\;\\;2CO$$"
   ]
  },
  {
   "cell_type": "markdown",
   "metadata": {},
   "source": [
    "$$3Fe_2O_3\\;\\;+\\;\\;CO\\;\\;\\rightarrow\\;\\;2Fe_3O_4\\;\\;+CO_2$$"
   ]
  },
  {
   "cell_type": "markdown",
   "metadata": {},
   "source": [
    "$$Fe_3O_4\\;\\;+CO\\;\\;\\rightarrow\\;\\;3FeO\\;\\;+\\;\\;CO_2$$"
   ]
  },
  {
   "cell_type": "markdown",
   "metadata": {},
   "source": [
    "순철 산화물이 일산화 철로 변환되는 감소 과정이 계속됨에 따라 FeO의 온도는 1300℉에서 1500℉까지 떨어진다. FeO는 일산화 탄소로 인해 순절의 스폰지 질량(spongy mass)으로 된다."
   ]
  },
  {
   "cell_type": "markdown",
   "metadata": {},
   "source": [
    "$$FeO\\;+\\;CO\\;\\rightarrow\\;Fe\\;+CO_2$$"
   ]
  },
  {
   "cell_type": "markdown",
   "metadata": {},
   "source": [
    "녹은 순철은 온도가 1500℉에서 2500℉인 지역으로 떨어진다. 순철은 탄화물들과 순수 탄소로 포화된다. 흡수된 탄소는 순철의 녹는점을 약 2800℉에서 2100℉로 낮추어 용광로 바닥에서는 액체로 흐르게 된다."
   ]
  },
  {
   "cell_type": "markdown",
   "metadata": {},
   "source": [
    "슬래그는 대략 순철과 동일한 온도에서 녹지만 순철보다 밀도가 낮아 액체 순철 위로 뜨게 된다. 이는 슬래그와 순철이 분리되어 추출될 수 있게 해준다. 순철은 보통 다음 단계의 정제 과정에서도 액체 상태를 유지하지만, 틀에서의 냉각이 허용되기도 한다(순철을 블록으로 성형하는 것을 피그(pigs)라고 한다). 슬래그는 **slag heap**에서 버려진다."
   ]
  },
  {
   "cell_type": "markdown",
   "metadata": {},
   "source": [
    "액체 순철은 훌륭한 용매재이기 때문에, 선철(pig iron)은 액체 석회함(limestone)에 의해 흘러나가지 못한 모든 물질들을 포함하고 있다. 선철(pig iron)은 대략 3% ~ 4%의 탄소, 1% ~ 3%의 실리콘, 0.1% ~ 2%의 인(phosphorus), 0.5% ~ 2%의 망간(magnanese), 0.01% ~ 0.1%의 황(sulfur)으로 구성된다. 실제 조성은 맥석(gangue) 성분들에 따라 결정된다. 칼슘,마그네슘, 알루미늄 산화물들은 용융된 석회암(limestone)에 의해 흘러나가며 슬래그에 포함되어 있다."
   ]
  },
  {
   "cell_type": "markdown",
   "metadata": {},
   "source": [
    "선철(pig iron)이 겪을 이후 공정은 최종 제품에 따라 달라진다(예를 들면 요구 탄소 함량). 이른 그림 47.2에 나타나 있다. Bessemer, 산소, open hearth, 전기 용광로 과정은 철을 생산하는데 사용된다."
   ]
  },
  {
   "cell_type": "markdown",
   "metadata": {},
   "source": [
    "<img src='Figure 47.2.PNG'>"
   ]
  },
  {
   "cell_type": "markdown",
   "metadata": {},
   "source": [
    "## 4. OXYGEN AND BESSEMER PROCESSES"
   ]
  },
  {
   "cell_type": "markdown",
   "metadata": {},
   "source": [
    "선철(pig iron)은 탄소가 포화상태이며, 다른 불순물들을 포함하고 있다. **Bessember** 및 **산소처리(oxigen process, dissolved oxygen process, L-D process, Linz-Donawitz process)** 는 탄소 함량을 줄이고 순수한 철을 만들기 위해 사용된다. 산소 처리 과정과 Bessember 과정의 개념적 차이는 표 47.3에 나타나 있으며, 큰 차이가 없다. 하지만, 산소처리과정의 생산성 및 경제적 이점이 상당하다."
   ]
  },
  {
   "cell_type": "markdown",
   "metadata": {},
   "source": [
    "내화성(refractory) 물질을 사용해 라이닝된 배모양(미국 과일 배, pear-shaped)의 철 도가니(crucible, 또는 변환기=converter) 내에서 화학적 정제 작업을 수행한다. 도가니는 약 2200℉의 용융된 선철, 철 scrap 및 선회(lime)의 **bath**로 차있다. 산소 처리과정 중, 물로 냉각된 산소 **lance**는 bath 표면에서 수 피트(약 1 m) 아래로 낮추어 진다. (그림 47.3 참고)"
   ]
  },
  {
   "cell_type": "markdown",
   "metadata": {},
   "source": [
    "<img src='Table 47.3.PNG'>"
   ]
  },
  {
   "cell_type": "markdown",
   "metadata": {},
   "source": [
    "<img src='Figure 47.3.PNG'>"
   ]
  },
  {
   "cell_type": "markdown",
   "metadata": {},
   "source": [
    "고압의 산소가 높은 속도로 lance를 관통해 흐르고, 용융된 슬래그를 옆으로 밀어내며 용융된 철이 드러나게 된다. (Bessember 과정에서는 공기가 아래에서 부터 주입된다.) 실리콘과 망간 불순물들이 먼저 산화되며, 약 3500℉까지 온도 상승을 유발한다. 탄소는 더 높은 온도에서 산화된다. 격렬한(violent) 반응으로 인해 bath는 휘저어(churn) 지며, 자연순환하게 된다."
   ]
  },
  {
   "cell_type": "markdown",
   "metadata": {},
   "source": [
    "넣고 빼는 시간으로 인해 사이클 시간이 약 1시간까지 연장되지만, 불순물들은 약 15분에서 25분 사이에 모두 산화된다 (표47.3 참고). 정제과정에서 좋은 성분들도 제거되기 때문에, 원하는 양의 탄소, 망간 및 다른 합금 성분들이 정제 과정 마지막에 추가되어 원하는 강의 등급(grade)을 얻게된다."
   ]
  },
  {
   "cell_type": "markdown",
   "metadata": {},
   "source": [
    "Bessember 반응은 빠르게 진행되며, 분석을 위해 중지될 수 없기 때문에, Bessember 과정은 다소 조잡(crude)하다. 정제 과정은 화염의 색상 및 길이로 판단하며, 이 화염은 도가니(crucible) 입(mouth)에서 뿜어져 나온다. 또한, 인(phosphorous)과 황(sulfur)은 Bessember 과정의 영향을 받지 않기 때문에 추가적인 정제 과정이 종종 요구된다. 이 과정은 덜 중요한 등급(grade)의 시트, 와이어, 배관을 생산할 때 사용된다."
   ]
  },
  {
   "cell_type": "markdown",
   "metadata": {},
   "source": [
    "<img src='Figure 47.4.PNG'>"
   ]
  },
  {
   "cell_type": "markdown",
   "metadata": {},
   "source": [
    "open hearth 과정으로 황, 인, 철 산화물이 제거되는 정제과정을 거친 Bessember 강을 **duplexed steel** 이라고 한다."
   ]
  },
  {
   "cell_type": "markdown",
   "metadata": {},
   "source": [
    "open hearth 과정과 비교하면, Bessember 과정에서는 더 적은 양의 강이 생산된다. 하지만, 현재 사용중인 대형 용기들은 산소과정이 적용된다. 또한, 정제 과정이 open hearth보다 더빨리 일어나기 때문에, 철 생산률을 대략 동일하다."
   ]
  },
  {
   "cell_type": "markdown",
   "metadata": {},
   "source": [
    "## 5. OPEN HEARTH PROCESS"
   ]
  },
  {
   "cell_type": "markdown",
   "metadata": {},
   "source": [
    "open hearth 과정의 주된 장점은 성분 부여가 자유롭다는 것이다. 50 톤에서 100톤 가량의 스크랩 철(scrap steel)과 석회암(limestone)이 꽤 얇은 용광로에 들어간다. 위에서는 일산화 탄소를 태워 열이 공급된다. 내용물이 녹으면, 용광로에서 가져온 액체 선철이 추가된다. 철산화물이 산화제로써 추가된다. lance에서 나온 기체 산소는 정제과정을 가속화 시키기위해 자주 사용된다."
   ]
  },
  {
   "cell_type": "markdown",
   "metadata": {},
   "source": [
    "연소를 위한 산소 및 연료가 한쪽면에서 hearth로 들어가고, 긴 화염이 내용물 위로 발생한다. 연소 기체는 반대쪽으로 추출되며, 잔열의 일부를 흡수하는 별돌 **checker chanber**를 통과해 지나간다. 들어오는 공기는 이 챔버들을 통과함으로 인해약 1800℉까지 예열된다. 챔버가 차가울 때는 공기 및 연료가 흐르는 방향이 바뀐다. (그림 47.5 참고)"
   ]
  },
  {
   "cell_type": "markdown",
   "metadata": {},
   "source": [
    "연소 생성물은 매우 적은 양의 자유 산소를 포함하기 때문에, 불순물의 산화는 산화 철에 포함된 산소에 의존하게 된다. 탄소는 일산화 탄소 및 이산화 탄소로 탄다. 석회암(limestone) 슬래그 용융물은 용융물 위로 덮여 보호해주는 기능을 하며(과도한 산화 및 질소 흡수를 방지), 철 내의 황, 인, 실리콘이 흘러나가는 것을 방지해준다."
   ]
  },
  {
   "cell_type": "markdown",
   "metadata": {},
   "source": [
    "open hearth 정제 과정은 8 ~ 12시간이 소요되며, 용융 및 정제 과정은 각각 약 전체 시간의 절반을 차지한다. 철의 조성을 지속적으로 감시 가능하며, 이에 따라 높은 등급(grade)의 철을 생산 가능하다. 보통 최종 조성은 황 및 인이 각각 0.04% 미만, 망간이 0.05%~0.35%, 실리콘이 0.01% 미만, 탄소는 원하는 양이 된다. 정제된 용융철 배치를 **heat of steel**이라고 한다."
   ]
  },
  {
   "cell_type": "markdown",
   "metadata": {},
   "source": [
    "철이 충분히 순수물질이면, 합금 성분을 추가하여 원하는 grade 및 물성을 얻게 된다. 예를 들어 철에 남아있는 황과 결합시키기 위해 **망간을 추가**하는 것은 필수적이다. 철 황화물(sulfide)은 철을 약하게 만들지만, 망간 황화물은 철을 약하게 만들지 않는다."
   ]
  },
  {
   "cell_type": "markdown",
   "metadata": {},
   "source": [
    "남아있는 높은 철 산화물 성분을 보상하기 위해 탈산제(deoxidizer) (망간철=ferromanganese, 규소철=ferrosilicon)를 추가한다. 철을 탈산화 하지 않으면, 철이 응고되는 과정에서 산소가 탄소와 반응하며, 많은 양의 일산화탄소 기체를 만들게 된다. 이 기체는 철에 갇히며 많은 공극(void)을 형성하여 **rimmed steel**과 같은 특징적인 모양을 갖게 한다. 기체 공극은 보통 결함으로 취급하지 않는다. 왜냐하면 이후의 고온작업 동안 용접으로 인해 공극들이 닫히기 때문이다."
   ]
  },
  {
   "cell_type": "markdown",
   "metadata": {},
   "source": [
    "**killed steel**을 만들기 위해 **알루미늄을 추가**할 수 있다. killed steel은 응고과정에서 기체가 발생하지 않는다. **semi-killed steel**은 약간의 기체가 발생하지만 rimmed steel 만큼은 아니다."
   ]
  },
  {
   "cell_type": "markdown",
   "metadata": {},
   "source": [
    "<img src='Figure 47.5.PNG'>"
   ]
  },
  {
   "cell_type": "markdown",
   "metadata": {},
   "source": [
    "## 6. ELECTRIC ARC FURNACE"
   ]
  },
  {
   "cell_type": "markdown",
   "metadata": {},
   "source": [
    "전기용광로는 \"minimills(소규모제강로)\"이라고 불리며, 전기 아크 또는 인덕션 열을 사용하고, 공구 또는 특수 합금강을 제작할 때 사용한다. 공기 및 기체 연료가 필요 없으며, 강이 만들어 내는 불순불들이 제거되기 때문에 높은 품질의 강을 제작 가능하다."
   ]
  },
  {
   "cell_type": "markdown",
   "metadata": {},
   "source": [
    "풀질을 더 향상시키고, 비싼 정제 시간을 줄이기 위해, 선철 용융물 보다는 scarp 또는 **direct-reduced iron**을 내용물로 사용한다. open hearth 과정과 마찬가지로, 철 산화물이 산화제로써 추가되며, 정제 후 조성을 변경한다."
   ]
  },
  {
   "cell_type": "markdown",
   "metadata": {},
   "source": [
    "**전기 아크 용광로**에서는, 용광로 벽을 통해 분포되어 있는 3개의 전극(3상 전류 사용을 위함)으로 부터 전기 아크가 발생하며 이로 인해 열이 생성된다. 전극의 전압은 낮지만(약 40 V), 전류는 높다(약 12,000 A). 코일은 **인덕션 용광로(induction furnace)** 를 둘러싸고 있으며, 열은 용융물 내로 흐르는 eddy current에 의해 발생한다. "
   ]
  },
  {
   "cell_type": "markdown",
   "metadata": {},
   "source": [
    "전기아크용광로의 2가지 주요한 문제점은 (1) 주입하는 scrap 내에 존재하는 trace 금속들로 부터 철이 오염되는 것과 (2) 아크 내에서 이온화된 질소가 형성되어 불필요한 경화의 원인이 된다는 것이다."
   ]
  },
  {
   "cell_type": "markdown",
   "metadata": {},
   "source": [
    "## 7. ADVANCED STELL-MAKING PROCESS"
   ]
  },
  {
   "cell_type": "markdown",
   "metadata": {},
   "source": [
    "공기질에 대한 법률 제정은 코크스를 생산하는데 사용되는 공정에 영향을 준다. 새로운 철을 만드는 기술들은 코크스를 줄이거나 완전히 불필요하다(**direct iron-making process**와 같은 경우). 기존의 용광로는 미분탄(pulverized coal) (또는 coal injection)을 사용하도록 개조(retrofit)될 수 있다. 코크스를 줄인 공정(reduced-coke process)에서는 석탄, 철 펠렛, fines, 석회암(limestone)들이 미리 용융된 철 bath에 추가된다. 석탄에서 나온 탄소는 광석(ore)에서 나온 산소와 결합되어 일산화 탄소와 용융철을 만든다. 이들이 용기를 빠져나가기 전에 산소를 주입하여 기체 일부를 태운다."
   ]
  },
  {
   "cell_type": "markdown",
   "metadata": {},
   "source": [
    "## 8. STEEL AND ALLOY STEEL GRADES"
   ]
  },
  {
   "cell_type": "markdown",
   "metadata": {},
   "source": [
    "철의 물성은 합금 성분을 추가하여 조절 가능하다. 일부 철드은 기본적으로 철과 탄소의 혼합물이다. 다른 철들은 다양한 성분과 함께 제작된다."
   ]
  },
  {
   "cell_type": "markdown",
   "metadata": {},
   "source": [
    "가장 단순하고 일반적인 철의 등급(grade)은 **탄소강(carbon steel)** 그룹에 속한다. 탄소는 주된 비철 성분이며, 황(sulfur), 인(phosphorus), 망간(manganese) 또한 존재할 수 있다. 탄소강은 **plain carbon steel(unsulfurized carbon steel)**, **free-machining steel(resulfurized carbon steel)**, **resulfurized and rephosphorized carbon steell** 3가지로 세분류 된다. **plain carbon steel**은 탄소함량에 따라 **저탄소강(low-carbon steel, 탄소함량 0.30% 미만), 중탄소강(medium-carbon steel, 탄소함량 0.30%-0.70%), 고탄소강(high-carbon steel, 탄소함량 0.70%-1.40%)** 3가지로 세분류 된다."
   ]
  },
  {
   "cell_type": "markdown",
   "metadata": {},
   "source": [
    "저탄소강은 와이어, 구조형상, 스크류가공부에 사용된다. 중탄소강은 축, 기어 및 중간에서 높은 경도 및 높은 강도가 요구되는 유사한 부품들에 사용된다. 고탄소강은 드릴, 절삭공구, 칼에 사용된다."
   ]
  },
  {
   "cell_type": "markdown",
   "metadata": {},
   "source": [
    "**저합금강(low-alloy steel, 총 합금 성분이 8.0% 미만)** 은 대부분의 합금강을 포함하지만 고크롬 내부식강(stainless)은 포함하지 않는다. 보통 저합금강은 plain carbon steel보다 높은 강도(약 2배의 항복강도)를 갖는다. 저합금강의 일반적인 종류로는 **구조용 강(structural steel), 고강도강(high-strength steel), 극한강도강(ultimate-strength steel)** 가 있다."
   ]
  },
  {
   "cell_type": "markdown",
   "metadata": {},
   "source": [
    "**고합금강(high-alloy steel)** 은 총 합금 성분이 8.0% 이상이다."
   ]
  },
  {
   "cell_type": "markdown",
   "metadata": {},
   "source": [
    "표 47.4는 전형적인 합금 성분들과 이 성분들이 강에 추가되었을 때 물성에 미치는 영향을 보여준다. 퍼센트 값들은 전형적인 값이며 최대 용해가능한 양은 아니다."
   ]
  },
  {
   "cell_type": "markdown",
   "metadata": {},
   "source": [
    "강의 물성은 조성에 따라 달라지기 때문에, 강은 성분에 따라 분류한다. 표 47.5는 전형적인 강 및 합금들에 대한 AISI-SAE 4자리 분류 기준을 보여준다. 첫 2자리는 강의 종류를 나타내고, 뒤 2자리는 탄소함량%를 100분의 1로 나타낸다. (예를 들어, AISI 강 1035는 plain carbon steel(10)이고 탄소함량이 0.35%(35)이다. 이는 35-point carbon steel이라고도 부른다.) 합금 성분에 따른 숫자는 성분의 공칭 퍼센트이다."
   ]
  },
  {
   "cell_type": "markdown",
   "metadata": {},
   "source": [
    "또한 생산 공정을 알려주기 위한 대문자를 추가할 수 있다.(A : acid Bessemmer, B : basic Bessemer, C : basic open hearth, CB : B또는 C at steel mill option, O : basic oxygen)"
   ]
  },
  {
   "cell_type": "markdown",
   "metadata": {},
   "source": [
    "## 9. TOOL STEEL"
   ]
  },
  {
   "cell_type": "markdown",
   "metadata": {},
   "source": [
    "공구강의 각 등급(grade)은 특정 목적에 따라 분류하며, 공구강에 대한 약간의 일반화들이 있다. 각 공구강은 3개의 주요 성능 기준(인성(toughness), 내마모성(wear resistance), 고온경도(hot hardness))이 조합된 각각의 고유 특징을 보인다."
   ]
  },
  {
   "cell_type": "markdown",
   "metadata": {},
   "source": [
    "<img src='Table 47.4.PNG'>"
   ]
  },
  {
   "cell_type": "markdown",
   "metadata": {},
   "source": [
    "일부 가능한 일반화들은 다음과 같다."
   ]
  },
  {
   "cell_type": "markdown",
   "metadata": {},
   "source": [
    "* 탄소 함량이 증가하면 내마모성이 증가하고 인성이 감소함\n",
    "\n",
    "* 내마모성이 증가하면 인성이 감소함\n",
    "\n",
    "* 고온경도는 인성과 무관함\n",
    "\n",
    "* 고온경도는 탄소함량과 무관함"
   ]
  },
  {
   "cell_type": "markdown",
   "metadata": {},
   "source": [
    "<img src='Table 47.5.PNG'>"
   ]
  },
  {
   "cell_type": "markdown",
   "metadata": {},
   "source": [
    "**Group A steel**은 공기경화(air-hardened)된 중합금(medium-alloy) 냉간가공(cold-wokr) 공구강이다. 공기경화는 공구가 전체적으로 균일한 경도를 갖도록 해준다. 이러한 경도는 많은 양의 합금 성분을 통해 만들어지며, 내마모성 비용이 요구된다."
   ]
  },
  {
   "cell_type": "markdown",
   "metadata": {},
   "source": [
    "**Group D steel** 은 고탄소, 고크롬 공구강이며 냉간가공에 적절하다. 이러한 강은 내마모성이 우수하지만 가공성 및 연성이 낮다. 이 그룹의 일부 강들은 공기경화되며 다른 강들은 기름담금질(oil quenched)된다. 이러한 강들은 blanking이나 냉간성형 펀치로 사용된다."
   ]
  },
  {
   "cell_type": "markdown",
   "metadata": {},
   "source": [
    "**Group H steel** 는 고온가공 공구강이며 1100℉~2000℉ 온도 범위 사이에서 사용 가능하다. 이 강들은 우수한 내마모성, 고온경도, 충격저항성, 표면 균열 저항성을 가진다. 탄소 함량은 낮으며 0.35% ~ 0.65% 사이이다. 이 그룹은 3개의 주요 합금 성분(크롬, 텅스텐, 몰레브덴)에 따라 분류된다. 예를 들어, 특정 강은 \"크롬 고온가공 공구강\"으로 분류될 수 있다."
   ]
  },
  {
   "cell_type": "markdown",
   "metadata": {},
   "source": [
    "**Group M steel**은 몰리브덴 고속(high speed)강이다. 물성은 group T 강과 매우 유사하다. 하지만 1개 부분의 몰리브덴은 2개 부분의 텅스텐을 대체할 수 있기 때문에 group M 강이 더 저렴하다. 이러한 이유로 대부분의 고속강은 M group으로 제작된다. 대형절삭(heavy-cutting, high-pressure cutting) 적용 시 고온 절삭 효율을 증가시키기 위해 많은 양(5% ~ 12%)의 코발트가 추가된다."
   ]
  },
  {
   "cell_type": "markdown",
   "metadata": {},
   "source": [
    "**Group O steel**은 오일경화, 냉간가공 공구강이다. 이러한 고탄소 강들은 대형 공구의 기름담금질이 가능하도록 합금 성분을 사용하며 **nondeforming steel**로도 불린다. 크롬, 텅스텐, 규소(실리콘)이 전형적인 합금 성분들이다."
   ]
  },
  {
   "cell_type": "markdown",
   "metadata": {},
   "source": [
    "**Group S steel**은 내충격 공구강이다. 인성(경도가 아님)이 주요 특징이며, 담금질에는 물 또는 오일이 사용 가능하다. group S steel은 크롬 및 텅스텐을 합금 성분으로 포함하고 있다. 전형적인 사용처로는 고온 헤더 다이, 전단 블레이드, chipping chisel(절단공구)가 있다."
   ]
  },
  {
   "cell_type": "markdown",
   "metadata": {},
   "source": [
    "**Group T steel**은 텅스텐 고속 공구강이며 1000℉ 이상의 온도에서 뾰족하고 단단한 절삭 모서리를 유지한다. 범용(ubiquitous) 18-4-1 grade T1 (텅스텐, 크롬, 바나듐의 각각 퍼센트로 이름지어짐)은 이 그룹 중 하나이다. 탄소 및 바나듐 증가(이 공구강의 핵심 성분) 및 특수 여러단계 열처리를 통해 고온 경도를 증가시킨다."
   ]
  },
  {
   "cell_type": "markdown",
   "metadata": {},
   "source": [
    "**Group W steel**은 물경화(water-hardened) 공구강이다. 이 강들은 plain high-carbon steel(소량의 바나듐 또는 크롬으로 변경하여 높은 표면 경도를 갖지만 낮은 경화능력을 가짐)이다. 표면은 높은 경도를 갖고 중심부는 높은 연성을 가져 group W Steel은 돌 드릴, 공압공구, 저온 헤드 다이에 적합하다. 이 공구강 그룹의 한계점은 300℉ 이상에서 경도를 잃기 시작하여 600℉에서 경도 잃기를 끝낸다는 것이다."
   ]
  },
  {
   "cell_type": "markdown",
   "metadata": {},
   "source": [
    "### 예제 47.1"
   ]
  },
  {
   "cell_type": "markdown",
   "metadata": {},
   "source": [
    "그룹 M 공구강의 조성은 18-4-1 그룹 T 강을 대체하기 위해 만들어진다. 텅스텐의 2/3가 몰리브덴으로 대체될 경우 합금 성분의 비율은 얼마인가?"
   ]
  },
  {
   "cell_type": "markdown",
   "metadata": {},
   "source": [
    "**풀이**"
   ]
  },
  {
   "cell_type": "markdown",
   "metadata": {},
   "source": [
    "1개 부분 몰레브덴은 2개 부분 텅스텐을 대체하기 때문에, 합금은 6-6-4-1이 되며 이는 6% 몰리브덴, 6% 텅스텐, 4% 크롬, 1% 바나듐을 의미한다."
   ]
  },
  {
   "cell_type": "markdown",
   "metadata": {},
   "source": [
    "## 10. STAINLESS STEEL"
   ]
  },
  {
   "cell_type": "markdown",
   "metadata": {},
   "source": [
    "크롬을 추가하면 강의 내부식성이 개선된다. 보통의 내부식성은 4% ~ 6%의 크롬을 저탄소 강에 추가하면 얻을 수 있다. (다른 성분들, 특히 1% 미만의 규소(실리콘) 및 몰리브덴도 보통 추가됨.)"
   ]
  },
  {
   "cell_type": "markdown",
   "metadata": {},
   "source": [
    "매우 높은 내부식성을 위해서는, 많은 양의 크롬이 필요하다. 최소 12%의 크롬에서 강은 **부동태화(passivated)** (예를 들어, 크롬 산화물 막이 금속 위에 형성되고, 더 높은 산화를 보임). 이러한 보호 코딩이 형성되는 것은 **스테인리스강** 내부식성의 기본원리이다."
   ]
  },
  {
   "cell_type": "markdown",
   "metadata": {},
   "source": [
    "수동성(passivity)은 산화제(oxidizer)와 통기(aeration)를 통해 더 높아지며, 보호 산화 코팅을 벗겨내는 연마를 통해서는 감소된다. 온도의 증가는 산소의 양에 따라 수동성을 증가시킬 수도 있고 감소시킬수도 있다."
   ]
  },
  {
   "cell_type": "markdown",
   "metadata": {},
   "source": [
    "스테인리스강은 보통 페라이트계(ferritic), 마르텐사이트계(martensitic, heat-treatable), 오스테나이트계(austenitic), 듀플렉스(duplex), 고합금 스테인리스강으로 분류된다. 표 47.6은 스테인리스 강의 유명한 AISI 등급(grade)들 중 일부를 보여준다."
   ]
  },
  {
   "cell_type": "markdown",
   "metadata": {},
   "source": [
    "**페라이트계 스테인리스강(ferritic stainless steel)** 은 ASIS 400 시리즈로 분류되며, 10% ~ 27% 이상의 크롬을 포함하고 있다.BCC 페라이트 구조는 모든 온도에서 안정(예를 들어, FCC인 오스테나이트로 변화되지 않음)하다. 이러한 이유로, 페라이트계 강은 경화가 잘 되지 않는다. 페라이트계 스테인리스강은 니켈이 없기 때문에, 오스테나이트계 강보다 싸다. 터빈 블레이드는 페라이트계 스테인리스강으로 제작되는 전형적인 열저항성 제품이다."
   ]
  },
  {
   "cell_type": "markdown",
   "metadata": {},
   "source": [
    "Alloy 2904C(S44735), Sea-Cure (UNS S44660), Alloy 2903과 같은 소위 **superferrtics**는 염화 공식(chrolide pitting) 및 틈부식(crevice corrsion)에 대한 저항성이 높다. superferritics는 선박(marine) 튜브 및 발전소 복수기(condensor) 용 열교환기에 적용되어 오고 있다. 하지만 모든 페라이트계 강과 마찬가지로 superferritics는 약 885℉에서 취화된다. "
   ]
  },
  {
   "cell_type": "markdown",
   "metadata": {},
   "source": [
    "<img src='Table.47.6.PNG'>"
   ]
  },
  {
   "cell_type": "markdown",
   "metadata": {},
   "source": [
    "**마르텐사이트계(열처리가능) 스테인리스강 (martensitic(heat-treatable) stainless steel)** (AISI 400 시리즈에 해당됨)은 니켈을 포함하고 있지 않으며, 탄소함량이 높다는 점이 페라이트계 스테인리스 강과 다르다. 주방용 칼(cutlery) 및 수술용 장비들이 내부식성 및 경도가 모두 요구되는 사례이다."
   ]
  },
  {
   "cell_type": "markdown",
   "metadata": {},
   "source": [
    "**오스테나이트계 스테인리스강(austenitic stainless steel)** 은 일반적인 내부식성이 필요한 곳에 사용된다. 오스테나이트(FCC 구조)의 안정성은 주로 4% ~ 22%의 니켈 성분에 따라 결정된다. 기본 조성은 약 18%의 크롬과 8%의 니켈이며 18-8 형태라고 부른다.(표 47.7 참고)"
   ]
  },
  {
   "cell_type": "markdown",
   "metadata": {},
   "source": [
    "<img src='Table 47.7.PNG'>"
   ]
  },
  {
   "cell_type": "markdown",
   "metadata": {},
   "source": [
    "317 및 316L 시리즈와 같은 소위 **superaustenitics**는 몰리브덴과 질소를 더 추가하여 높은 내부식성을 얻는다. AISI type 317 (UNS S31700)은 3% ~ 4%의 몰리브덴을 포함하고 있다. type 317L의 다를 형태들 (UNS S317XX)은 몰레브덴 함량을 5%까지 증가시킨다. type 316L의 다른 형태들은 10% ~ 14%의 질소를 추가하여 높은 내부식성을 얻는다. 약 6% 몰리브덴, 20% 크롬, 0.10% 질소를 포함하고 있는 \"6-Mo\" superaustenitics는 잘 정립된 조성이며, 특히 화학 공정 산업에서 잘 쓰인다. \"7-Mo\" 합금은 아마도 상용품 중 가장 높은 부식 저항성을 가질 것이다."
   ]
  },
  {
   "cell_type": "markdown",
   "metadata": {},
   "source": [
    "오스테나이트계 스테인리스강은 스테인리스강 중 용접이 가장 용이하지만, 그럼에도 불구하고 예민화의 가능성이 있다. 오스테나이트계 스테인리스강은 자성이 없으며, 냉간가공으로만 경화가 가능하다. 표면 처리를 위해 폴리슁이 가능하며 이는 음식산업에 사용된다. 오스테나이트계 스테인리스강에는 니켈이 포함되어 있기 때문에 페라이트계 스테인리스강보다 더 비싸다."
   ]
  },
  {
   "cell_type": "markdown",
   "metadata": {},
   "source": [
    "스테인리스강의 용접은 적절한 용접봉 합금이 사용될 때 가능하지만 몇몇 이유로 어려운 점이 있다."
   ]
  },
  {
   "cell_type": "markdown",
   "metadata": {},
   "source": [
    "* 스테인리스강들, 특히 오스테나이트계,은 비교적 낮은 열전도도를 가지며, 열팽창률이 높다. 높은 온도 구배(열이 잘 퍼지지 않기 때문)와 높은 팽창률에 대한 유지보수는 용접비드균열(weld bead cracking=용접부위를 따라 길이방향으로 발생하는 균열)의 가능성을 증가시킨다. 가능한 낮은 온도에서 용접을 하면 용접비드균열을 최소화할 수 있다.\n",
    "\n",
    "* 높은 온도는 용접부에 인접한 강의 예민화를 발생시켜 국부적으로 크롬 부족 현상을 야기시킨다. 이러한 형상을 예민화(sensitization)라고 하며, 이로인한 부식을 weld decay라고 한다.\n",
    "\n",
    "* 페라이트강에서는 결정립(grain)이 성장한다. 왜냐하면 결정립을 작게 유지해주는 감마에서 알파로의 변환과정이 없기 때문이다. 결정립 성장은 일반적인 용접 온도에서 발생한다.\n",
    "\n",
    "* 스테인리스강이 용접온도에서부터 냉각될 때, 냉각을 천천히 하지 않으면 마르텐사이트가 형성된다. 마르텐사이트는 금속의 취성을 증가시키고 연성을 감소시킨다."
   ]
  },
  {
   "cell_type": "markdown",
   "metadata": {},
   "source": [
    "비용 때문에 오스테나이트계 AISI 304와 316이 주로 내부식성강에 사용된다. 하지만 강도가 낮아 고압 조건에 사용하는 것은 적절하지 못하다. 또한 마도 및 galling(슬라이딩 면 고착에 의한 마모)의 위험이 있으며, 130℉ 이상에서 국부 부식 및  **응력부식균열(stress corrosion cracking, SCC)** 특히 **염화응력부식균열(chloride stress corrosion cracking, CSCC)** 에 대한 저항성에 한계가 있다. 이에 대한 대안으로는 듀플렉스(duplex)와 고합금 오스테나이트 스테인리스강이 있다."
   ]
  },
  {
   "cell_type": "markdown",
   "metadata": {},
   "source": [
    "2세대 **듀플렉스 스테인리스강**인 오스테나이트-페라이트 스테인리스강은 오스테나이트계 스테인리스강의 인성과 용접성을 가지면서 300 시리즈보다 높은 항복강도 및 부식/마모 저항성을 갖는다. Alloy 2205가 가장 널리 사용된다. Type 2304(UNS S32304)와 Type 2507(UNS S32507)은 제작비용(mill cost)을 절감한 3세대 듀플렉스강이다. 가장 높은 비율의 질소, 몰리브덴, 니켈을 갖는 2507은 \"super-duplex\" 스테인리스강으로 불린다. "
   ]
  },
  {
   "cell_type": "markdown",
   "metadata": {},
   "source": [
    "**고합금 오스테나이트계 스테인리스강(high-alloy austenitic stainless steel)** 은 22% ~ 28%의 크롬, 24% ~ 32%의 니켈, 4% ~ 6%의 몰리브덴을 포함하고 있으며, 니켈, 티타늄 기반 합금들보다 저렴한 비용에서 우수한 부식 저항성을 보인다."
   ]
  },
  {
   "cell_type": "markdown",
   "metadata": {},
   "source": [
    "## 11. CAST IRON"
   ]
  },
  {
   "cell_type": "markdown",
   "metadata": {},
   "source": [
    "**주철(cast iron)** 은 철, 탄소, 규소(실리콘)을 포함하고 낮은 함량의 망간, 인, 황을 가지는 광범위한 합금들을 의미한다. 보통 탄소 함량은 2%를 초과한다. 주철의 물성은 탄소양 및 탄소의 형태(흑연(graphite) 또는 탄화물(carbide))에 따라 결정된다."
   ]
  },
  {
   "cell_type": "markdown",
   "metadata": {},
   "source": [
    "탄화물(carbide) 형태의 탄소는 저온에서만 안정적이다. (탄화물(carbide)은 **준안정 구조(metastable structure)라고 한다.**) 고온에서는 다음 반응식에 따라 **흑연화(graphitization)** 가 일어난다."
   ]
  },
  {
   "cell_type": "markdown",
   "metadata": {},
   "source": [
    "$$Fe_3C\\; \\rightarrow \\; 3Fe\\;+\\;C\\;(graphite)$$"
   ]
  },
  {
   "cell_type": "markdown",
   "metadata": {},
   "source": [
    "주철의 가장 일반적인 형태는 **회주철(gray cast iron)** 이다. 회주철 내의 탄소는 그라파이트 플레이크 형태로 존재한다. 그라파이트 플레이크들은 매우 부드러우며, 금속 내의 취약 부위가 됨과 동시에 가공성을 개선하고 연성을 감소시킨다. 회주철은 인장강도에 따라 분류하며 표 47.8에 나타나 있다. 압축강도는 인장강도의 3~5배이다."
   ]
  },
  {
   "cell_type": "markdown",
   "metadata": {},
   "source": [
    "마그네슘과 세륨을 추가하면 회주철의 연성을 증가시킬 수 있다. 이렇게 만들어진 **modular cast iron(ductile cast iron)** 은 모든 주철 중 최고의 인장 및 항복강도를 갖는다. 또한 높은 연성(보통 5%) 및 가공성을 갖는다. 이러한 물성 때문에 modular cast iron은 자동차 크랭크 축에 종종 사용된다. (표 47.9 참고)"
   ]
  },
  {
   "cell_type": "markdown",
   "metadata": {},
   "source": [
    "**백주철(white cast iron)** 은 용융상태에서 급격히 냉각된 것이다. 시멘타이트에서는 그라파이트가 생기지 않으며, 탄소는 탄화물 형태($Fe_3C$)로 유지된다. 탄화물은 단단하며 이로인해 백주철은 가공성이 좋지 않다. 백주철은 주로 연주철(malleable cast iron) 제품에 사용된다.  "
   ]
  },
  {
   "cell_type": "markdown",
   "metadata": {},
   "source": [
    "<img src='Table 47.8.PNG'>"
   ]
  },
  {
   "cell_type": "markdown",
   "metadata": {},
   "source": [
    "<img src='Table.47.9.PNG'>"
   ]
  },
  {
   "cell_type": "markdown",
   "metadata": {},
   "source": [
    "**연주철(malleable cast iron)** 은 백주철은 천천히 냉각시킨 후 다시 1500℉ ~ 1850℉까지 몇일 간 재가열 하여 생산한다. 이러한 열처리 중, 탄화물들은 부분적으로 **temper carbon** 이라고 불리는 그라파이트 형태 탄소의 결절(nodule)로 바뀐다. 인장강도는 약 55,000 $lbf/in^2$까지 증가되고, 파손시 신장률은 약 18%까지 증가된다."
   ]
  },
  {
   "cell_type": "markdown",
   "metadata": {},
   "source": [
    "**얼룩주철(mottled cast iron)** 은 시멘타이트와 그라파이트를 모드 포함하며 조성 및 성능 관점에서 백주철과 회주철의 중간이다."
   ]
  },
  {
   "cell_type": "markdown",
   "metadata": {},
   "source": [
    "**compacted graphitic iron(CGI)** 는 지렁이 모양의 그라파이트 입자를 갖는 주철의 유일한 형태이다. 그라파이트 입자의 모양으로 인해 CGI는 회주철과 연성주철(ductile cast iron) 모두의 최고 물성치를 갖는다. 회주철 강도의 2배를 가지며, 비용은 알루미늄의 절반이다. 높은 강도를 가져 얇은 단면이 가능하게 해준다. (일부 엔진블록은 회주철 주물보다 25% 가볍다.) 컴퓨터 제어 정제를 사용하면 상업용 CGI 제품을 만들 수 있다."
   ]
  },
  {
   "cell_type": "markdown",
   "metadata": {},
   "source": [
    "규소(실리콘)는 흑연화(graphitization)에 영향을 주는 가장 중요한 성분이다. 주철 내의 다양한 성분들에 대한 영향은 표 47.10에 기술되어 있다. 경도를 증가시키는 대부분의 성분들은 철 탄화물을 형성하여 경도를 증가시킨다."
   ]
  },
  {
   "cell_type": "markdown",
   "metadata": {},
   "source": [
    "<img src='Table 47.10.PNG'>"
   ]
  },
  {
   "cell_type": "code",
   "execution_count": null,
   "metadata": {},
   "outputs": [],
   "source": []
  }
 ],
 "metadata": {
  "kernelspec": {
   "display_name": "Python 3",
   "language": "python",
   "name": "python3"
  },
  "language_info": {
   "codemirror_mode": {
    "name": "ipython",
    "version": 3
   },
   "file_extension": ".py",
   "mimetype": "text/x-python",
   "name": "python",
   "nbconvert_exporter": "python",
   "pygments_lexer": "ipython3",
   "version": "3.8.3"
  }
 },
 "nbformat": 4,
 "nbformat_minor": 2
}
