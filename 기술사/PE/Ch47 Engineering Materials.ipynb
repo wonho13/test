{
 "cells": [
  {
   "cell_type": "markdown",
   "metadata": {},
   "source": [
    "## 1.CHARECTERISTICS OF METALS"
   ]
  },
  {
   "cell_type": "markdown",
   "metadata": {},
   "source": [
    "금속은 기계공학에서 가장 자주 사용되는 재료이다. 강은 가장 적절한 공학 금속이다. 왜냐하면 철광석은 풍부하며, 생산은 단순하고, 비용은 저렴하며, 성능은 예측하기 쉽기 때문이다. 하지만 특정 제품군에서는 다른 금속들도 중요한 부분을 차지한다."
   ]
  },
  {
   "cell_type": "markdown",
   "metadata": {},
   "source": [
    "대부분의 금속들은 표47.1의 물성으로 구별된다."
   ]
  },
  {
   "cell_type": "markdown",
   "metadata": {},
   "source": [
    "**야금학(Metallurgy)** 은 금속의 구매와 제작을 다루는 과목이다. **추출야금학(Extractive Metallurgy)** 은 광석으로부터 순수 금속은 정제하는 방법에 대해 다루는 과목이다."
   ]
  },
  {
   "cell_type": "markdown",
   "metadata": {},
   "source": [
    "<img src='Table 47.1.PNG'>"
   ]
  },
  {
   "cell_type": "markdown",
   "metadata": {},
   "source": [
    "## 2. UNIFIED NUMBERING SYSTEM"
   ]
  },
  {
   "cell_type": "markdown",
   "metadata": {},
   "source": [
    "UNS는 전세계에서 금속 및 합금의 일관된 식별을 위해 1970년대 중반에 도입되었다. UNS 표기는 17개중 한개의 대문자 하나와 5자리 번호로 구성된다. 표 47.2에 나타난대로 대부분의 표기는 금속군을 알려준다. "
   ]
  },
  {
   "cell_type": "markdown",
   "metadata": {},
   "source": [
    "각 UNS번호에는 주요합금의 비율범위기 표기된다. 하지만 UNS표기는 식별일뿐 스펙은아니다. 재료스펙은 ASTM 또는 유사기관에서 담당한다. UNS번호는 주요 합금 및 잔여 성분들을 알려줄 뿐이다. UNS번호는 정확한 스펙이 아니다. 어떤 제작자는 UNS 범위의 중간정도를 사용할 수 있고 다른 제작자는 하한치 또는 상한치를 사용할 수 있다. 소량의 잔여 성분들, 제작 공정의 방법(예를들면 롤링) 그리고 열처리는 스펙의 범위가 아니다. 또한 UNS 번호에 해당하는 제품은 유일하지 않을 수 있다. 이러한 관점에서 추가 스펙 및 명칭이 요구된다. "
   ]
  },
  {
   "cell_type": "markdown",
   "metadata": {},
   "source": [
    "이전의 표기체계를 UNS로 변환하기 위한 지침이 필요하다. 하지만 많은 스테인리스강의 경우 첫 3자리가 AISI 번호체계와 동일하다. AISI 304 type은 UNS S30400로 표기한다. 마지막 두자리는 다른 특성을 표기하기 위해 사용된다. 예를 들어, 탄소함량 최대 0.03%인 304L 스테인리스강은 S30403으로 표기한다. 다른 재료군(알루미늄, 구리, 니켈 등) 또한 이전 번호체계의 일부 또는  반영하고있다."
   ]
  },
  {
   "cell_type": "markdown",
   "metadata": {},
   "source": [
    "## 3. BLAST FURNACE IRON PRODUCTION"
   ]
  },
  {
   "cell_type": "markdown",
   "metadata": {},
   "source": [
    "순철(iron, 화학기호 Fe)은 철의 산화물인 $Fe_2O_2$ (hermatite, 69.9% 순철) 및 더 적은 양인 $Fe_3O_2$ (magnetite, 72.4% 순철)에서 추출한다. 철광석(iron ore)의 약 50%만 순철 산화물로 구성되여, 나머지는 맥석(gangue, 경제적 가치가 없는 광물)으로 구성된다. 맥석은 순철 산화물과 섞인 흙 및 돌이다."
   ]
  },
  {
   "cell_type": "markdown",
   "metadata": {},
   "source": [
    "순철 산화물은 순수 철로 재생산하기 위해 사용되는 공정은 용광로(blast furnace) 내에서 진행된다. 용광로는 철광석, 코크스(coke), 석회암(limestome)이 약 4:2:1의 비율로 번갈아가며 층으로 채워진다. 석회암은 코크스와 맥석 재의 유동역할을 하며, 용융된 맥석과 불순물들이 슬래그로 추출되도록 해준다."
   ]
  },
  {
   "cell_type": "markdown",
   "metadata": {},
   "source": [
    "기본적인 용광로는 그림 47.1에 나타나 있다. 용광로 상단에는 원뿔형 벨이 2개 있어 내용물을 넣거나(개방시) 가스가 새어나오는것을 제한(폐쇠시)한다. 용광로 하단 주위에 설치된 노즐로 고온의 공기가 주입된다. 이 개방구 들을 tuyeres(트위이에어, 용광로의 바람구멍)라고 한다."
   ]
  },
  {
   "cell_type": "markdown",
   "metadata": {},
   "source": [
    "용광로와 연결된 사전가열기(스토브)에서는 뜨거운 연소 공기가 생산된다. 보통 용광로 1개당 4개의 스토브가 쓰인다. 각 스토브는 일산화탄소가 많은 용광로 기체를 태워 돌아가며 가열된다. 다른 스토브들이 가열되는 동안 한 스토브로는 차가운 공기가 주입된다. 공기는 용광로에 주입되기전 1000℉에서 1300℉까지 가열된다. 주입된 공기는 코크스를 산화시키고 열과 다량의 일산화 탄소를 발생시킨다. 일산화 탄소는 약 600℉에서 용광로 상단으로 상승하고, 순철 산화물을 일산화 철로 변화시킨다. 다음 화학 반응은 일산화 철의 생성을 보여준다."
   ]
  },
  {
   "cell_type": "markdown",
   "metadata": {},
   "source": [
    "<img src='Figure 47.1.PNG'>"
   ]
  },
  {
   "cell_type": "markdown",
   "metadata": {},
   "source": [
    "$$C\\;\\;+\\;\\;O_2\\;\\; \\rightarrow\\;\\;CO_2$$"
   ]
  },
  {
   "cell_type": "markdown",
   "metadata": {},
   "source": [
    "$$CO_2\\;\\;+\\;\\;C\\;\\;\\rightarrow\\;\\;2CO$$"
   ]
  },
  {
   "cell_type": "markdown",
   "metadata": {},
   "source": [
    "$$2C\\;\\;+O_2\\;\\;\\rightarrow\\;\\;2CO$$"
   ]
  },
  {
   "cell_type": "markdown",
   "metadata": {},
   "source": [
    "$$3Fe_2O_3\\;\\;+\\;\\;CO\\;\\;\\rightarrow\\;\\;2Fe_3O_4\\;\\;+CO_2$$"
   ]
  },
  {
   "cell_type": "markdown",
   "metadata": {},
   "source": [
    "$$Fe_3O_4\\;\\;+CO\\;\\;\\rightarrow\\;\\;3FeO\\;\\;+\\;\\;CO_2$$"
   ]
  },
  {
   "cell_type": "markdown",
   "metadata": {},
   "source": [
    "순철 산화물이 일산화 철로 변환되는 감소 과정이 계속됨에 따라 FeO의 온도는 1300℉에서 1500℉까지 떨어진다. FeO는 일산화 탄소로 인해 순절의 스폰지 질량(spongy mass)으로 된다."
   ]
  },
  {
   "cell_type": "markdown",
   "metadata": {},
   "source": [
    "$$FeO\\;+\\;CO\\;\\rightarrow\\;Fe\\;+CO_2$$"
   ]
  },
  {
   "cell_type": "markdown",
   "metadata": {},
   "source": [
    "녹은 순철은 온도가 1500℉에서 2500℉인 지역으로 떨어진다. 순철은 탄화물들과 순수 탄소로 포화된다. 흡수된 탄소는 순철의 녹는점을 약 2800℉에서 2100℉로 낮추어 용광로 바닥에서는 액체로 흐르게 된다."
   ]
  },
  {
   "cell_type": "markdown",
   "metadata": {},
   "source": [
    "슬래그는 대략 순철과 동일한 온도에서 녹지만 순철보다 밀도가 낮아 액체 순철 위로 뜨게 된다. 이는 슬래그와 순철이 분리되어 추출될 수 있게 해준다. 순철은 보통 다음 단계의 정제 과정에서도 액체 상태를 유지하지만, 틀에서의 냉각이 허용되기도 한다(순철을 블록으로 성형하는 것을 피그(pigs)라고 한다). 슬래그는 **slag heap**에서 버려진다."
   ]
  },
  {
   "cell_type": "markdown",
   "metadata": {},
   "source": [
    "액체 순철은 훌륭한 용매재이기 때문에, 선철(pig iron)은 액체 석회함(limestone)에 의해 흘러나가지 못한 모든 물질들을 포함하고 있다. 선철(pig iron)은 대략 3% ~ 4%의 탄소, 1% ~ 3%의 실리콘, 0.1% ~ 2%의 인(phosphorus), 0.5% ~ 2%의 망간(magnanese), 0.01% ~ 0.1%의 황(sulfur)으로 구성된다. 실제 조성은 맥석(gangue) 성분들에 따라 결정된다. 칼슘,마그네슘, 알루미늄 산화물들은 용융된 석회암(limestone)에 의해 흘러나가며 슬래그에 포함되어 있다."
   ]
  },
  {
   "cell_type": "markdown",
   "metadata": {},
   "source": [
    "선철(pig iron)이 겪을 이후 공정은 최종 제품에 따라 달라진다(예를 들면 요구 탄소 함량). 이른 그림 47.2에 나타나 있다. Bessemer, 산소, open hearth, 전기 용광로 과정은 철을 생산하는데 사용된다."
   ]
  },
  {
   "cell_type": "markdown",
   "metadata": {},
   "source": [
    "<img src='Figure 47.2.PNG'>"
   ]
  },
  {
   "cell_type": "markdown",
   "metadata": {},
   "source": [
    "## 4. OXYGEN AND BESSEMER PROCESSES"
   ]
  },
  {
   "cell_type": "markdown",
   "metadata": {},
   "source": []
  }
 ],
 "metadata": {
  "kernelspec": {
   "display_name": "Python 3",
   "language": "python",
   "name": "python3"
  },
  "language_info": {
   "codemirror_mode": {
    "name": "ipython",
    "version": 3
   },
   "file_extension": ".py",
   "mimetype": "text/x-python",
   "name": "python",
   "nbconvert_exporter": "python",
   "pygments_lexer": "ipython3",
   "version": "3.7.3"
  }
 },
 "nbformat": 4,
 "nbformat_minor": 2
}
