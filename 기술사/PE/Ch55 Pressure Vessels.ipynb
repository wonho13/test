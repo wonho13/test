{
 "cells": [
  {
   "cell_type": "markdown",
   "metadata": {},
   "source": [
    "## 1. INTRODUCTION"
   ]
  },
  {
   "cell_type": "markdown",
   "metadata": {},
   "source": [
    "ASME는 1911년에 BPVC를 설립했다. BPVC는 보일러 및 압력용기에 대한 설계, 제작, 검사, 수리에 대한 규칙을 만들었고, 질의가 발생하 때 이 규칙들을 해석했다. 이 규칙들은 ASME B&PV 코드가 되었으며 이는 12개 장으로 구성되며 표 55.1에 나타나 있다."
   ]
  },
  {
   "cell_type": "markdown",
   "metadata": {},
   "source": [
    "<img src='Table 55.1.PNG'>"
   ]
  },
  {
   "cell_type": "markdown",
   "metadata": {},
   "source": [
    "본 장은 곡선 쉘을 가지며 내압을 받고 Div.1, Sec. VIII \"Pressure Vessel\"에 따라 설계된 압력용기만을 다룬다. Sec. VIII의 Division 1은 15 psig ~ 3000 psig (103 kPa ~ 520.7 MPa) 사이에서 운전되는 압력용기를 다룬다. Section VIII는 비 원자력 분야를 다룬다."
   ]
  },
  {
   "cell_type": "markdown",
   "metadata": {},
   "source": [
    "상업 원자력 발전소를 위한 압력용기는 BPVC Sec.III에서 다룬다."
   ]
  },
  {
   "cell_type": "markdown",
   "metadata": {},
   "source": [
    "압력용기에서 뻗어나온 배관 및 연결부에 대한 BPVC의 범위는 연결 방법(용접, 볼트, 나사, 밀봉연결 등)에 상관 없이 기기 또는 배관의 첫번째 연결부 까지로 한다."
   ]
  },
  {
   "cell_type": "markdown",
   "metadata": {},
   "source": [
    "## 2. RELATED CODES AND STANDARDS"
   ]
  },
  {
   "cell_type": "markdown",
   "metadata": {},
   "source": [
    "다른 codes & standards들은 ASME BPVC와 함께 자주 언급된다."
   ]
  },
  {
   "cell_type": "markdown",
   "metadata": {},
   "source": [
    "API 510: **압력용기 검사 코드: 유지보수 검사, 등급, 수리, 변경** 은 석유 및 화학공정 산업에서 사용되는 압력용기에 대한 유지보수, 검사, 수리, 변경, 재 등급 절차를 다룬다."
   ]
  },
  {
   "cell_type": "markdown",
   "metadata": {},
   "source": [
    "API 570: **배관 검사 코드: 배관계통에 대한 가동중검사, 수리, 변경** 은 운전 중인 금속 배관 계통을 다룬다. 압력용기는 배제된다. 최소두께 계산 요건은 포함되지 않으며 이는 ASME B31.3을 참조하고 있다."
   ]
  },
  {
   "cell_type": "markdown",
   "metadata": {},
   "source": [
    "API 620: **대형 용접 저압 저장 탱크 설계 및 제작** 은 대형, 용접형, 현장에서 세우는 단일 수직 회전 축이면서 금속 온도가 250℉ 이하, 압력이 15 psig 이하로 설계된 저압 탄소강 지상 저장 탱크 (평평한 바닥 탱크 포함)의 설계 및 제작을 다룬다. 또한 이 기술기준은 극저온 2중 벽 저장 탱크에 대한 설계도 다룬다."
   ]
  },
  {
   "cell_type": "markdown",
   "metadata": {},
   "source": [
    "API 650: **오일 저장을 위한 용접 탱크** 는 수직 실린더형 지상 폐쇄 및 개방 상단 용접형 탄소 및 스테인리스 강 저장 그리고 알루미늄 탱크에 대한 설계, 재료, 제작, 설치, 시험에 대해 다룬다. API 650은 전체 바닥이 균일하게 지지되고, 최대 설계 온도가 200℉ 또는 그 이하이며, 냉각되지 않는 운전조건이고, 액체 표면 압력이 거의 대기압에 가까운 탱크에만 적용 가능하다. 용접 알루미늄 탱크는 API 650 App. AL에서 다룬다."
   ]
  },
  {
   "cell_type": "markdown",
   "metadata": {},
   "source": [
    "ASME B31.3: **공정 배관** 은 모든 유체(유체 운전 및 고압 적용에 대해 약간의 예외 사항이 있음)에 사용되는 배관 설계를 다룬다. 내압이 15 psig 이하인 배관 계통은 제외된다."
   ]
  },
  {
   "cell_type": "markdown",
   "metadata": {},
   "source": [
    "ASME B31.9: **건물 운전 배관** 은 ASME 동력 배관(ASME B31.1)에서 다루는 크기, 압력, 온도가 필요하지 않은 산업계, 상업용, 공공 건물에 사용되는 배관을 다룬다."
   ]
  },
  {
   "cell_type": "markdown",
   "metadata": {},
   "source": [
    "## 3. COMPLIANCE"
   ]
  },
  {
   "cell_type": "markdown",
   "metadata": {},
   "source": [
    "제작자가 BPVC를 준수할 지는 자유이다. 하지만, 대부분의 고객은 그들이 주문한 압력용기가 잘 알려진 기술기준에 따라 설계되었는지를 알고싶어하고, 주의 법의 일부로 되어 있는 ASME 인증을 받은 압력용기를 사용하도록 요구한다. 코드에 따라 화기를 취급하지 않는(unfired) 압력용기를 제작한 제작자는 제품에 그림 55.1에 나타난 U 스탬프를 갖는 명판을 부착할 수 있다."
   ]
  },
  {
   "cell_type": "markdown",
   "metadata": {},
   "source": [
    "<img src='Figure 55.1.PNG'>"
   ]
  },
  {
   "cell_type": "markdown",
   "metadata": {},
   "source": [
    "## 4. EXEMPTIONS"
   ]
  },
  {
   "cell_type": "markdown",
   "metadata": {},
   "source": [
    "일부 압력용기들은 BPVC의 범위에서 한참 벗어나 있다. 간접적으로 가열되는 온수 공급 저장 탱크, 공칭 용량이 120 gal을 안넘는 경우, 수온이 210℉를 안넘는 경우, 열 입력이 200,000 Btu/hr을 안넘는 경우, 직경이 6 in 이하인 용기 등이 이러한 경우에 해당한다. 검사가 면제되지만 BPVC에 따라 제작된 용기는 U 스탬프를 붙일 수 있다."
   ]
  },
  {
   "cell_type": "markdown",
   "metadata": {},
   "source": [
    "## 5. STAMPING REQUIREMENTS"
   ]
  },
  {
   "cell_type": "markdown",
   "metadata": {},
   "source": [
    "압력용기에는 제작 및 운전 형태에 대한 정보를 영구적으로 식별해 놔야 한다. 이 정보는 잘 보이는 위치(개방구 또는 통로 근처)에 도장을 찍거나 그림 55.2와 같이 영구 부착된 명판을 사용해도 된다."
   ]
  },
  {
   "cell_type": "markdown",
   "metadata": {},
   "source": [
    "압력용기를 설명하는 명판은 쉘에 직접 붙는다. BPVC에 따라 설계 및 제작된 압력용기의 명판에는 공식 \"U\" 스팸프와 모든 다음 사항이 포함된다: 제작자 명(\"certified by\" 다음에 표시), 용기 시리얼 넘버, 제작 년, 최대 허용 작동 압력, 온도, 최소 설계 금속 온도, 압력. -20℉ 이하에서 운전되는 압력용기는 최소 허용 온도도 기술된다."
   ]
  },
  {
   "cell_type": "markdown",
   "metadata": {},
   "source": [
    "제작 방법 및 운전 형태도 반드시 포함되어야 한다. 다음의 약어들이 사용된다: W(아크 또는 가스 용접), RES(저항용접), B(경납=brazed), L("
   ]
  },
  {
   "cell_type": "code",
   "execution_count": null,
   "metadata": {},
   "outputs": [],
   "source": []
  }
 ],
 "metadata": {
  "kernelspec": {
   "display_name": "Python 3",
   "language": "python",
   "name": "python3"
  },
  "language_info": {
   "codemirror_mode": {
    "name": "ipython",
    "version": 3
   },
   "file_extension": ".py",
   "mimetype": "text/x-python",
   "name": "python",
   "nbconvert_exporter": "python",
   "pygments_lexer": "ipython3",
   "version": "3.7.3"
  }
 },
 "nbformat": 4,
 "nbformat_minor": 2
}
