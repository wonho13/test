{
 "cells": [
  {
   "cell_type": "markdown",
   "metadata": {},
   "source": [
    "## 1. INTRODUCTION"
   ]
  },
  {
   "cell_type": "markdown",
   "metadata": {},
   "source": [
    "ASME는 1911년에 BPVC를 설립했다. BPVC는 보일러 및 압력용기에 대한 설계, 제작, 검사, 수리에 대한 규칙을 만들었고, 질의가 발생하 때 이 규칙들을 해석했다. 이 규칙들은 ASME B&PV 코드가 되었으며 이는 12개 장으로 구성되며 표 55.1에 나타나 있다."
   ]
  },
  {
   "cell_type": "markdown",
   "metadata": {},
   "source": [
    "<img src='Table 55.1.PNG'>"
   ]
  },
  {
   "cell_type": "markdown",
   "metadata": {},
   "source": [
    "본 장은 곡선 쉘을 가지며 내압을 받고 Div.1, Sec. VIII \"Pressure Vessel\"에 따라 설계된 압력용기만을 다룬다. Sec. VIII의 Division 1은 15 psig ~ 3000 psig (103 kPa ~ 520.7 MPa) 사이에서 운전되는 압력용기를 다룬다. Section VIII는 비 원자력 분야를 다룬다."
   ]
  },
  {
   "cell_type": "markdown",
   "metadata": {},
   "source": [
    "상업 원자력 발전소를 위한 압력용기는 BPVC Sec.III에서 다룬다."
   ]
  },
  {
   "cell_type": "markdown",
   "metadata": {},
   "source": [
    "압력용기에서 뻗어나온 배관 및 연결부에 대한 BPVC의 범위는 연결 방법(용접, 볼트, 나사, 밀봉연결 등)에 상관 없이 기기 또는 배관의 첫번째 연결부 까지로 한다."
   ]
  },
  {
   "cell_type": "markdown",
   "metadata": {},
   "source": [
    "## 2. RELATED CODES AND STANDARDS"
   ]
  },
  {
   "cell_type": "markdown",
   "metadata": {},
   "source": [
    "다른 codes & standards들은 ASME BPVC와 함께 자주 언급된다."
   ]
  },
  {
   "cell_type": "markdown",
   "metadata": {},
   "source": [
    "API 510: **압력용기 검사 코드: 유지보수 검사, 등급, 수리, 변경** 은 석유 및 화학공정 산업에서 사용되는 압력용기에 대한 유지보수, 검사, 수리, 변경, 재 등급 절차를 다룬다."
   ]
  },
  {
   "cell_type": "markdown",
   "metadata": {},
   "source": [
    "API 570: **배관 검사 코드: 배관계통에 대한 가동중검사, 수리, 변경** 은 운전 중인 금속 배관 계통을 다룬다. 압력용기는 배제된다. 최소두께 계산 요건은 포함되지 않으며 이는 ASME B31.3을 참조하고 있다."
   ]
  },
  {
   "cell_type": "markdown",
   "metadata": {},
   "source": [
    "API 620: **대형 용접 저압 저장 탱크 설계 및 제작** 은 대형, 용접형, 현장에서 세우는 단일 수직 회전 축이면서 금속 온도가 250℉ 이하, 압력이 15 psig 이하로 설계된 저압 탄소강 지상 저장 탱크 (평평한 바닥 탱크 포함)의 설계 및 제작을 다룬다. 또한 이 기술기준은 극저온 2중 벽 저장 탱크에 대한 설계도 다룬다."
   ]
  },
  {
   "cell_type": "markdown",
   "metadata": {},
   "source": [
    "API 650: **오일 저장을 위한 용접 탱크** 는 수직 실린더형 지상 폐쇄 및 개방 상단 용접형 탄소 및 스테인리스 강 저장 그리고 알루미늄 탱크에 대한 설계, 재료, 제작, 설치, 시험에 대해 다룬다. API 650은 전체 바닥이 균일하게 지지되고, 최대 설계 온도가 200℉ 또는 그 이하이며, 냉각되지 않는 운전조건이고, 액체 표면 압력이 거의 대기압에 가까운 탱크에만 적용 가능하다. 용접 알루미늄 탱크는 API 650 App. AL에서 다룬다."
   ]
  },
  {
   "cell_type": "markdown",
   "metadata": {},
   "source": [
    "ASME B31.3: **공정 배관** 은 모든 유체(유체 운전 및 고압 적용에 대해 약간의 예외 사항이 있음)에 사용되는 배관 설계를 다룬다. 내압이 15 psig 이하인 배관 계통은 제외된다."
   ]
  },
  {
   "cell_type": "markdown",
   "metadata": {},
   "source": [
    "ASME B31.9: **건물 운전 배관** 은 ASME 동력 배관(ASME B31.1)에서 다루는 크기, 압력, 온도가 필요하지 않은 산업계, 상업용, 공공 건물에 사용되는 배관을 다룬다."
   ]
  },
  {
   "cell_type": "markdown",
   "metadata": {},
   "source": [
    "## 3. COMPLIANCE"
   ]
  },
  {
   "cell_type": "markdown",
   "metadata": {},
   "source": [
    "제작자가 BPVC를 준수할 지는 자유이다. 하지만, 대부분의 고객은 그들이 주문한 압력용기가 잘 알려진 기술기준에 따라 설계되었는지를 알고싶어하고, 주의 법의 일부로 되어 있는 ASME 인증을 받은 압력용기를 사용하도록 요구한다. 코드에 따라 화기를 취급하지 않는(unfired) 압력용기를 제작한 제작자는 제품에 그림 55.1에 나타난 U 스탬프를 갖는 명판을 부착할 수 있다."
   ]
  },
  {
   "cell_type": "markdown",
   "metadata": {},
   "source": [
    "<img src='Figure 55.1.PNG'>"
   ]
  },
  {
   "cell_type": "markdown",
   "metadata": {},
   "source": [
    "## 4. EXEMPTIONS"
   ]
  },
  {
   "cell_type": "markdown",
   "metadata": {},
   "source": [
    "일부 압력용기들은 BPVC의 범위에서 한참 벗어나 있다. 간접적으로 가열되는 온수 공급 저장 탱크, 공칭 용량이 120 gal을 안넘는 경우, 수온이 210℉를 안넘는 경우, 열 입력이 200,000 Btu/hr을 안넘는 경우, 직경이 6 in 이하인 용기 등이 이러한 경우에 해당한다. 검사가 면제되지만 BPVC에 따라 제작된 용기는 U 스탬프를 붙일 수 있다."
   ]
  },
  {
   "cell_type": "markdown",
   "metadata": {},
   "source": [
    "## 5. STAMPING REQUIREMENTS"
   ]
  },
  {
   "cell_type": "markdown",
   "metadata": {},
   "source": [
    "압력용기에는 제작 및 운전 형태에 대한 정보를 영구적으로 식별해 놔야 한다. 이 정보는 잘 보이는 위치(개방구 또는 통로 근처)에 도장을 찍거나 그림 55.2와 같이 영구 부착된 명판을 사용해도 된다."
   ]
  },
  {
   "cell_type": "markdown",
   "metadata": {},
   "source": [
    "압력용기를 설명하는 명판은 쉘에 직접 붙는다. BPVC에 따라 설계 및 제작된 압력용기의 명판에는 공식 \"U\" 스팸프와 모든 다음 사항이 포함된다: 제작자 명(\"certified by\" 다음에 표시), 용기 시리얼 넘버, 제작 년, 최대 허용 작동 압력, 온도, 최소 설계 금속 온도, 압력. -20℉ 이하에서 운전되는 압력용기는 최소 허용 온도도 기술된다."
   ]
  },
  {
   "cell_type": "markdown",
   "metadata": {},
   "source": [
    "제작 방법 및 운전 형태도 반드시 포함되어야 한다. 다음의 약어들이 사용된다: W(아크 또는 가스 용접), RES(저항용접), B(경납=brazed), L(lethal service), UB(unfired steam boiler), DF(direct firing), RT-1(fully radiographed), RT-2(일부 연결부 국부적 radiographed), RT-3(spot radiographed), RT-4(다른 카테고리에서 적용 않는 radiographed), HT(용접 후 열처리), PHT(용기 일부 열처리)"
   ]
  },
  {
   "cell_type": "markdown",
   "metadata": {},
   "source": [
    "<img src='Figure 55.2.PNG'>"
   ]
  },
  {
   "cell_type": "markdown",
   "metadata": {},
   "source": [
    "## 6. DESIGN ELEMENTS"
   ]
  },
  {
   "cell_type": "markdown",
   "metadata": {},
   "source": [
    "그림 55.3은 압력용기의 다양한 부품들을 보여준다. 압력용기는 쉘 타입, 플레이트 타입 요소로 나뉜다. 쉘 타입 요소는 인장(즉 멤브레인 작용)을 통해 내압을 견딘다. 플레이트 타입 요소는 굽힘을 통해 내압을 견딘다. 쉘 타입 요소는 실린더형, 구형, 타원형(ellipsoidal), 접시구형(torisherical), 접시원뿔형(toriconical)일 수 있다."
   ]
  },
  {
   "cell_type": "markdown",
   "metadata": {},
   "source": [
    "압력용기의 본체는 쉘이라고 한다. 쉘은 seamless 또는 seamed 일수 있다. 외부 배관과 기기들은 노즐에서 압력용기에 연결된다. 노즐에 사용되는 seamless 배관은 seamless 쉘의 한 예이다."
   ]
  },
  {
   "cell_type": "markdown",
   "metadata": {},
   "source": [
    "## 7. SERVICE APPLICATION"
   ]
  },
  {
   "cell_type": "markdown",
   "metadata": {},
   "source": [
    "치명적인(lethal) 물질을 포함하고, -20℉ 이하에서 운전되며, 증기 생산에 사용되고, 직접 화염에 노출되는 용기에는 특별한 제한조건들이 있다."
   ]
  },
  {
   "cell_type": "markdown",
   "metadata": {},
   "source": [
    "특정 부식 허용치를 제외하고 쉘 및 헤드의 최소 벽 두께는 1/16 in 이다. 하지만, 압축공기, 증기, 물을 사용하기 위한 압력용기의 경우 쉘과 헤드의 최소 벽 두께는 3/32 in이다. 압축 공기를 사용하고 내부 부식 또는 침식에 노출되는 압력용기는 적절한 검사를 위한 개구부를 갖추도록 설계되어야 한다. "
   ]
  },
  {
   "cell_type": "markdown",
   "metadata": {},
   "source": [
    "<img src='Figure 55.3.PNG'>"
   ]
  },
  {
   "cell_type": "markdown",
   "metadata": {},
   "source": [
    "**치명적 물질(lethal subastance)** 은 매우 작은 양일지라도 독성이 있거나 치명적인 기체 또는 액체를 의미한다. 치명적인 물질을 사용하기 위한 용기는 SA-283 탄소강 또는 주철로 제작하면 안된다. 확장 연결부도 사용하면 안된다. 모든 맞대기 용접(butt weld)부는 완전히 비파괴(방사선) 검사되어야(radiographed) 한다. 치명적인 물질을 다루는 용기가 탄소 또는 저합금 강으로 제작된 경우 용접 후 열처리가 요구된다."
   ]
  },
  {
   "cell_type": "markdown",
   "metadata": {},
   "source": [
    "BPVC는 용기 내용물을 근거로 재료 선정을 명시하고 있지 않다. 하지만, 수소 또는 취화를 일으키는 물질들은 중요한 코드 이외의 논의사항이며 설계 과정에서 다루어 져야 한다. 고온 고압에서 수소에 노출되는 압력용기는 수소취화(hydrogen embrittlement)가 발생한다. 수소의 부분압이 87 psia를 초과하고, 용기 온도가 300℉ 이상이거나 온도와 상관 없이 수소 부분압이 145 psia를 초과하면 용기는 수소 손상에 노출되는 것으로 간주할 수 있다. 다양한 온도 및 압력 조합에 대한 재료의 적절성을 판단하는데는 **Nelson 다이아그램**이 사용된다."
   ]
  },
  {
   "cell_type": "markdown",
   "metadata": {},
   "source": [
    "부식성(caustic) 염화물(수산화염, sodium hydroxid)은 일반적인 알카리 재료이다. 탄소강은 고온에서 **causic cracking(부식균열)** (부식 취화, caustic embrittlement로도 불림)과 급속한 부식에 노출된다."
   ]
  },
  {
   "cell_type": "markdown",
   "metadata": {},
   "source": [
    "## 8. MATERIALS"
   ]
  },
  {
   "cell_type": "markdown",
   "metadata": {},
   "source": [
    "압력용기는 탄소강, 저합금강, 고합금강, 비철금속, 주철, 일체형 cladplate를 포함한 다양한 재료로 제작될 수 있다. BPVC는 어떤 온도에서 어떤 재료들을 사용 가능한지 명시하고 있다. 용접과의 연계성을 확인하기 위해 P 범호로 할당된 재료 카테고라를 사용하며 표 55.2에 나타나 있다."
   ]
  },
  {
   "cell_type": "markdown",
   "metadata": {},
   "source": [
    "탄소강은 비 부식 환경 및 -20℉ ~ 800℉온도 범위에서 가장 널리 사용되는 재료이다. 하지만, 탄소강은 785℉ 이상의 고온에 장기간 노출되면 **흑연화(graphitization)** 라는 과정을 통해 취약해진다. 800℉ 이상에서 운전되는 경우 재료를 신중히 선택해야 한다."
   ]
  },
  {
   "cell_type": "markdown",
   "metadata": {},
   "source": [
    "<img src='Table 55.2.PNG'>"
   ]
  },
  {
   "cell_type": "markdown",
   "metadata": {},
   "source": [
    "## 9. HEADS"
   ]
  },
  {
   "cell_type": "markdown",
   "metadata": {},
   "source": [
    "그림 55.4에 나타난 바와 같이 헤드는 구형, 타원형(ellipsoidal), 접시구형(torisherical), 접시원뿔형(toriconical), 평형(flat)일 수 있다. 타원형 및 반구형 헤드가 일반적이지만, 얇은 용기의 경우 접시 구형이 많다. 헤드 형태 별 최소 두께 계산을 위한 BPVC 공식은 표 55.10에 지공되어 있다."
   ]
  },
  {
   "cell_type": "markdown",
   "metadata": {},
   "source": [
    "**접시구형** (즉 flanged, dished) 헤드는 내경 D, crown(dish) 반경 L, knuckle 반경 $r_k$, 헤드 두께 $t_h$로 표현한다. 이 변수들은 그림 55.4에 나타나 있다. ASME **flanged and dished head**는 접시구형 헤드이며, knuckle 반경이 내부 crown 반경의 6%이다. **2:1 타원형 헤드**의 반경은 높이(투영)의 2배이며, 깊은 반구형 헤드보다 경제적이다."
   ]
  },
  {
   "cell_type": "markdown",
   "metadata": {},
   "source": [
    "헤드가 쉘보다 두껍지 않으면 헤드는 플랜지가 불필요하며, 쉘에 맞대기 용접(butt weld)로 연결해도 된다. 하지만 실제로는 대부분의 반구형 헤드는 **straight flange** (즉, straight longitudinal neck)이 있다."
   ]
  },
  {
   "cell_type": "markdown",
   "metadata": {},
   "source": [
    "## 10. LOADING TYPE"
   ]
  },
  {
   "cell_type": "markdown",
   "metadata": {},
   "source": [
    "압력용기는 내압에 의한 하중 뿐만 아니라 용기 및 내용물의 자중, 부착물에서의 정적 반력, 풍압, 내진하중, 온도 변화, 열팽창, 압력 및 온도의 주기적 변화에 의한 동하중을 고려해야 한다."
   ]
  },
  {
   "cell_type": "markdown",
   "metadata": {},
   "source": [
    "## 11. ALLOWABLE STRESSES"
   ]
  },
  {
   "cell_type": "markdown",
   "metadata": {},
   "source": [
    "인장에 대한 기본 허용 응력 S는 BPVC(표 55.3)에 제공되며, 재료 및 온도에 따라 결정된다. (압축을 받는 부품에 대한 허용응력은 세장비에 의해 결정되기도 한다.)"
   ]
  },
  {
   "cell_type": "markdown",
   "metadata": {},
   "source": [
    "<img src ='Figure 55.4.PNG'>"
   ]
  },
  {
   "cell_type": "markdown",
   "metadata": {},
   "source": [
    "BPVC는 인장응력 및 하중조합에 의한 일반 주 막응력에 대하여 설계용으로 사용되는 **최대허용응력** S를 정의한다. 대부분의 내압 형태의 경우 압축에 의한 허용 응력은 고려 사항이 아니다."
   ]
  },
  {
   "cell_type": "markdown",
   "metadata": {},
   "source": [
    "최대 허용 응력은 풍하중 및 지진 하중을 제외한 하중 조합에 의해 발생하는 주 막응력 및 굽힘 응력의 합에 대해 1.5S로 정의된다."
   ]
  },
  {
   "cell_type": "markdown",
   "metadata": {},
   "source": [
    "바람, 눈, 지진 및 다른 과도하중에 의한 하중 및 응력은 IBC(International Building Code)에 따라 계산되며, 허용응력을 1.0S 이상으로 증가시키는 대신 하중 계수를 사용한다. 바람 및 지진 하중은 ASCE 7에 따라 계산되어야 한다. BPVC Sec. VIII, Div. 2, 표 5-3에 주어진 다양한 하중조합을 사용해야 한다. 내진 하중은 하중계수 0.7을 가지며, 풍하중과 내진하중은 동시에 작용하지 않는다."
   ]
  },
  {
   "cell_type": "markdown",
   "metadata": {},
   "source": [
    "<img src='Table 55.3.PNG'>"
   ]
  },
  {
   "cell_type": "markdown",
   "metadata": {},
   "source": [
    "표 55.3은 일반적인 탄소강 및 저합금강에 대한 최대허용응력을 보여준다. 표 55.3의 값들은 내삽하여 사용해도 된다."
   ]
  },
  {
   "cell_type": "markdown",
   "metadata": {},
   "source": [
    "## 12. DISCONTINUITY STRESSES"
   ]
  },
  {
   "cell_type": "markdown",
   "metadata": {},
   "source": [
    "압력용기에는 어쩔수 없이 형상, 재료, 하중에 대한 갑작스러운 변화 부위가 있다. 이 위치들을 **불연속 부위**라고 하며, BPVC는 이와 관련된 응력을 **불연속 응력**이라고 부른다. **gross structural discontinuity**는 주요 크기 영역 내에서 전체 벽 두께에 응력 및 변형률 분포가 발생하도록 하는 형상적, 구조적, 재료적 불연속 부를 의미한다. 예로는 노즐-실린더, 쉘-헤드 연결부(특히 쉘과 헤드의 중심선이 일치하지 않는 경우)가 있다. **local structural discontinuity**는 벽두께에 국부적인 응력 및 변형률을 발생시킨다. 일반적인 예로는 맞대기 용접에서 용접 toe, 노치, undercutting 면이 있다."
   ]
  },
  {
   "cell_type": "markdown",
   "metadata": {},
   "source": [
    "각 불연속 부는 압력 및 열하중에 대하여 다르게 거동한다. 연결되지 않은 자유 물체로 모델링 하면 부품들은 다른 변위를 갖게 된다. 연결된 부품으로 모델링 하면 변위는 같게 된다. 자유변위 및 실제 변위 간의 차이는 **forced displacement**이며 이는 불연속 응력을 발생시킨다."
   ]
  },
  {
   "cell_type": "markdown",
   "metadata": {},
   "source": [
    "BPVC는 두가지 종류의 응력을 정의한다: primary, secondary. **primary stress** (하중제어응력) $P_m$은 기계적 하중에 의한 직접적인 결과이며, 평형의 법칙을 사용해 계산할 수 있다. primary stress의 예로는 압력에 의한 응력 및 자중에 의한 응력이 있다. 불연속부에서 멀리 떨어진 지역에서는 모든 응력이 primary stress이다. primary stress는 응력-변형률 커브와 상관 없이 파손 시 까지 부여 하중에 비례하여 증가한다. 압력용기와 같은 얇은 막(membrane)에서 **general primary membrane stress**는 (1) 균일(유일한 값) 인장 및 압축응력과 (2) 선형으로 변하는 굽힘 응력 $P_b$로 분류된다. **굽힘응력**은 두께를 따라 선형으로 변한다. **Local primary membrane stress**는 불연속부를 고려하지만 응력집중은 고려 안한다."
   ]
  },
  {
   "cell_type": "markdown",
   "metadata": {},
   "source": [
    "**secondary stress** Q는 구조불연속, 응력집중, 온도차의 결과이다. primary stress와 secondary stress는 하중에 비례하여 항복점까지 증가한다. 하중이 증가함에 따라 primary stress는 계속 증가하지만, secondary stress는 **self-limiting stress**로 고려된다. 응력집중부에서 항복점에 이르면, 국부 항복 및 일부 변형이 응력을 발생시키는 조건을 완화시키며 (즉, 하중과 응력은 직접적인 관계가 없어짐) secondary stress는 본질적으로 일정해진다. 따라서 secondary stress 단독으로는 파손이 일어나지 않는다. 하지만, secondary stress는 반복 하중에 대한 피로 평가에 특히 중요하다. **peak stress**는 primary stress와 secondary stress보다 더 증가한 양을 의미하며, 불연속부 또는 국부 열 조건에 의해 발생한다. peak stress에 의한 피로 균열은 가능하지만, gross deformation은 발생하지 않는다."
   ]
  },
  {
   "cell_type": "markdown",
   "metadata": {},
   "source": [
    "기계적 하중에 발생하는 주 막응력, 주 굽힘응력, 이차응력에 대하여 각각 다른 허용 응력이 제시된다. (표 55.4) **primary membrane stress** (보통 인장 성분임)에 대한 한계 값은 전체 용기 단면에 동시에 이르게 된다. 위험한 소성 파괴(예를 들면 압력에 의한 폭발), BPVC Sec. VIII, Div.2는 primary membrane stress를 S(본질적으로 항복강도의 2/3 임)로 제한한다. 최대 굽힘 응력은 중심축에서 가장 먼 국부적인 위치에서 발생하기 때문에, local primary membrane stress, $P_L$ (예를 들면, primary membrane stress + primary localized bending stress)는 1.5S(본질적으로 항복강도 임)로 제한된다. secondary stress는 항복강도를 쉽게 초과할 수 있으며, 따라서 주응력 더하기 자기 완화 이차 응력은 3S(항복강도의 두배)로 제한된다. "
   ]
  },
  {
   "cell_type": "markdown",
   "metadata": {},
   "source": [
    "<img src='Table 55.4.PNG'>"
   ]
  },
  {
   "cell_type": "markdown",
   "metadata": {},
   "source": [
    "## 13. SHAKEDOWN AND RATCHETING"
   ]
  },
  {
   "cell_type": "markdown",
   "metadata": {},
   "source": [
    "압력용기는 가압/감압 및 가열/냉각 반복 싸이클을 자주 겪는다.  응답은 BPVC Sec. VIII, Div 2, Part 5.12 (그림 55.5)에 정의된 shakedown 또는 ratcheting으로 분류할 수 있다. **shakedown**은 하중 또는 온도 분포가 발생한 지점에서 소성 변형을 일으키지만, 하중 또는 온도 분포가 제거되면 탄성 주 및 이차 응력만 그 지점에 남는(국부 응력(변형) 집중과 관련된 작은 영역은 제외하고) 싸이클 하중 또는 싸이클 온도분포에 의해 발생한다. 이 좁은 영역은 점진적인 진전 없 안정적인 히스테리시스 루프를 보인다. 추가적인 하중 인가 및 제거 또는 온도 분포 부여 및 제거는 탄성 주 및 이차 응력만 발새이킨다. shakedown은 피로 커브 데이터를 사용해 정당화 하지만, 파손모드는 아니다."
   ]
  },
  {
   "cell_type": "markdown",
   "metadata": {},
   "source": [
    "**ratcheting**은 평균 응력에 추가로 부여된 열응력 싸이클 또는 기계적 응력 싸이클에 노출된 지점에서 발생하는 점진적이고 증가하는 비탄성 변형 또는 변형률 또는 둘다 이다."
   ]
  },
  {
   "cell_type": "markdown",
   "metadata": {},
   "source": [
    "(**thermal ratcheting**은 부분적으로 또는 전체적으로 열응력에 의해 발생한다.) ratcheting은 전체 단면에 작용하는 지속적인 교번 하중에 의해 생산된다. ratcheting은 반복적인 재료 변형률을 발생시키며, 이는 피로에 의한 파손을 일으킬 수 있으며 동시에 파손 메커니즘의 반복적인 증가를 발생시켜 결국 붕괴에 이르게 할 수 있다. racheting은 전체 치수에 대한 점진적인 증가를 의미하는 파손모드이다."
   ]
  },
  {
   "cell_type": "markdown",
   "metadata": {},
   "source": [
    "<img src='Figure 55.5.PNG'>"
   ]
  },
  {
   "cell_type": "markdown",
   "metadata": {},
   "source": [
    "## 14. TEMPERATURE EFFECTS"
   ]
  },
  {
   "cell_type": "markdown",
   "metadata": {},
   "source": [
    "표 55.5는 온도에 따른 철(ferrous)재료에 대한 탄성계수를 보여준다."
   ]
  },
  {
   "cell_type": "markdown",
   "metadata": {},
   "source": [
    "<img src='Table 55.5.PNG'>"
   ]
  },
  {
   "cell_type": "markdown",
   "metadata": {},
   "source": [
    "## 15. IMPACT TESTING"
   ]
  },
  {
   "cell_type": "markdown",
   "metadata": {},
   "source": [
    "압력용기가 극저온(cryogenic) 유체를 다루도록 설계되거나, 심한 겨울 온도에 노출될 경우 **취성 파괴**를 고려해야 한다. 설계 온도가 매우 낮을 경우 **notch-tough 재료**만 사용해야 한다. 노치 인성(notch toughness)은 압력용기 재료에 대한 **충격시험(impact test)** 을 통해 결정된다. 충격 시험은 cutoff 온도 보다 낮은 온도에서 수행되어야 하며, 이 온도는 재료 및 쉘 두께에 따라 다르다. 보통, 대부분 철(ferrous) 금속은 설계 온도가 -20℉(-29℃)보다 낮을 경우 특별한 주의를 기울여야 한다."
   ]
  },
  {
   "cell_type": "markdown",
   "metadata": {},
   "source": [
    "wrought 알루미늄으로 제작된 용기는 저온에서도 연성 감소가 거의 없기 때문에 설계 온도가 -452℉ (-269℃)보다 낮지 않으면 충격시험이 요구되지 않는다. 구리 및 구리 합금, 니켈 및 니켈 합금, cast 알루미늄 합금은 -325℉(-254℃)까지 사용 가능하며, 티타늄 또는 지르코늄 및 이들의 합금은 -75℉(-59℃)까지 사용 가능하고 그 이하에서는 충격 시험이 요구된다."
   ]
  },
  {
   "cell_type": "markdown",
   "metadata": {},
   "source": [
    "다음 5가지 조건을 만족하는 grade 1 또는 2 탄소 강의 경우 충격시험은 요구되지 않는다.\n",
    "(1) 벽 두께가 1/2 in (12.7 mm) 또는 재료에 따라 1 in (25.4 mm)보다 크지 않은 경우\n",
    "(2) 제작 완료 된 용기에 대해 수압 시험이 수행되는 경우\n",
    "(3) 설계 온도가 -20℉ ~ 650℉ (-29℃ ~ 343℃)인 경우\n",
    "(4) 열 또는 기계적 충격 하중이 설계를 제어하는 요소가 아닌 경우\n",
    "(5) 반복 하중이 설계요건을 제어하지 않는 경우"
   ]
  },
  {
   "cell_type": "markdown",
   "metadata": {},
   "source": [
    "## 16. MAXIMUM ALLOWABLE WORKING PRESSURE"
   ]
  },
  {
   "cell_type": "markdown",
   "metadata": {},
   "source": [
    "MAWP(maximum allowable working pressure)는 제작자가 결정한다. 이 압력은 정상 운전 위치 및 온도, 부식 조건, 예상 하중(풍하중, 외압) 조건에서 용기 최 상단에서의 최대 허용 압력을 의미한다. MAWP는 정수두 조건으로 변환된 BPVC 식을 기반으로 압력 용기의 다른 부분들에 대해 계싼된다. 전반적인 MAWP는 조절된 값들 중 최소 값이다. 최대 허용 작동 압력은 두께 식에서의 설계 압력이다."
   ]
  },
  {
   "cell_type": "markdown",
   "metadata": {},
   "source": [
    "**MAWP N&C** (maximu allowable pressure new and cold)는 제작자가 명시한다. 이는 최초(부식 되지 않은) 및 상온에서의 용기에 대한 최대 압력을 의미한다."
   ]
  },
  {
   "cell_type": "markdown",
   "metadata": {},
   "source": [
    "## 17. DESIGN PRESSURE AND TEMPERATURE"
   ]
  },
  {
   "cell_type": "markdown",
   "metadata": {},
   "source": [
    "BPVC는 조합이 단기간이거나 자주 발생안하더라도 정상운전 중 노출되는 압력 및 온도의 가장 보수저인 조합에 대해 압력용기를 설계할 것을 요구한다."
   ]
  },
  {
   "cell_type": "markdown",
   "metadata": {},
   "source": [
    "최대 설계 온도는 예상되는 운전 조건 하에서 평균 금속 온도보다 작으면 안된다. 표 55.3에 기술된 온도를 초과하는 설계온도는 허용되지 않는다. **MDMT** (minimum design metal temperature)는 BPVC에서 허용하는 더 낮은 값을 제외한 가장 낮은 예쌍 운전 온도이다. 명판에 표시된 MDMT는 관련 MAWP와 일치해야 한다. 온도는 위치와 두께에 따라 달라질 수 있기 때문에 명판에는 평균 온도를 명시한다."
   ]
  },
  {
   "cell_type": "markdown",
   "metadata": {},
   "source": [
    "**운전 압력** p는 용기가 정상 운전할 때 용기의 최상단 압력이다. 용기의 내부 외부 또는 조합된 용기의 2개 챔버 사이의 최대 압력 차 또한 평가해야 한다. **설계 압력**운전 압력에 합리적인 설계여유를 추가한 것이다. 보통 설계압력은 MAWP와 같다. 설계압력과 MAWP는 용기의 최소 허용 두께를 결정하는데 사용된다."
   ]
  },
  {
   "cell_type": "markdown",
   "metadata": {},
   "source": [
    "## 18. ACTUAL STRESSES"
   ]
  },
  {
   "cell_type": "markdown",
   "metadata": {},
   "source": [
    "실린더 형 쉘의 실제 인장 응력을 평가하는데는 표준 얇은 벽 식들이 사용된다. 평균 반경이 R인 실린더의 경우 길이방향 및 원주방향 응력은 다음과 같다."
   ]
  },
  {
   "cell_type": "markdown",
   "metadata": {},
   "source": [
    "$$s_{longitudinal}=\\frac{pR}{2t}\\tag{55.1}$$"
   ]
  },
  {
   "cell_type": "markdown",
   "metadata": {},
   "source": [
    "$$s_{circumferential}=\\frac{pR}{t}\\tag{55.2}$$"
   ]
  },
  {
   "cell_type": "markdown",
   "metadata": {},
   "source": [
    "식 55.1과 식 55.2는 길이 및 원주방향 연결부(joint) 응력을 계산하는데도 사용될 수 있다."
   ]
  },
  {
   "cell_type": "markdown",
   "metadata": {},
   "source": [
    "식 55.1과 식 55.2는 벽두께 계산에는 사용하면 안된다."
   ]
  },
  {
   "cell_type": "markdown",
   "metadata": {},
   "source": [
    "## 19. CORROSION ALLOWANCE"
   ]
  },
  {
   "cell_type": "markdown",
   "metadata": {},
   "source": [
    "선택 사항인 **부식 허용치** (corrosion allowance)는 용기의 수명기간 동안 예상되는 두께 감소를 보상한다. BPVC는 허용치를 결정하는 지침을 제공하지 않는다. 허용치는 상황마다 다르며, 사용자가 용기 수명 및 내용물의 부식성을 고려해 결정해야 한다. 일반적인 전체 부식 허용치는 요구 두께의 1/6 또는 1/16 inch, 1/8 inch가 사용되며, 0.005 in/yr의 부식률이 적용된다. 스테인리스 강의 경우 부식 허용치를 0으로 하는 것이 일반적이며, 다른 비금속 재료의 경우 부식에 노출되지 않는다. 습기 농축을 피할 수 없는 공기 흡입기의 경우 보통 1mm의 허용치를 사용한다. 보통, 탄소강에 대한 최대 부식 허용치는 6mm이다."
   ]
  },
  {
   "cell_type": "markdown",
   "metadata": {},
   "source": [
    "모든 식에 사용되는 치수는 부식이 적용된 치수여야 한다. 압력을 알고 이를 사용해 두께를 계산할 때, 만약 이론적 두께 계산에 사용되는 공식(표 55.9 또는 표 55.10과 같이)이 공칭 반경 R을 포함한다면 두께 계산 전에 이 반경에 부식허용치를 더해주어야 한다. 이는 벽의 부식으로 인해 반경이 약간 증가(이로 인해 응력 증가) 함을 고려하는 것이다. 요구 벽 두께는 계산된 이론적 두께에 부식허용치를 더해서도 구할 수 있다. 알고 있는 부식 후 최종 반경에서 부식 허용치를 빼면 부식 전 시작 시점의 반경을 구할 수 있다. 마찬가지로, 부식 전 초기 내부 반경 D는 수명 말기에 D+2c의 내부 반경을 갖게될 것이다."
   ]
  },
  {
   "cell_type": "markdown",
   "metadata": {},
   "source": [
    "부식 전 두께를 알고 이를 사용해 허용 압력을 계산할 때는 최종(부식 후) 두께 $t_{starting}-c$를 사용해야 한다."
   ]
  },
  {
   "cell_type": "markdown",
   "metadata": {},
   "source": [
    "$$t_{starting}=t_{calculated}+c=t_{ending}+c\\tag{55.3}$$"
   ]
  },
  {
   "cell_type": "markdown",
   "metadata": {},
   "source": [
    "$$R_{starting}=R_{ending}-c\\tag{55.4}$$"
   ]
  },
  {
   "cell_type": "markdown",
   "metadata": {},
   "source": [
    "## 20. WELDING SPECIFICATIONS"
   ]
  },
  {
   "cell_type": "markdown",
   "metadata": {},
   "source": [
    "용접 절차에 포함된 모든 변수들에 대한 시방은 WPS(welding procedure specification)에 포한된다. WPS는 용접 방법, 연결 형태, 용가재(filler material), 예열, 용접 후 열처리와 같은 내용에 대한 상세사항을 기술한다. WPS의 타당성은 PQR(procedure qualification record)을 통해 확보되며, PQR은 용접 가능성 및 다른 인자들에 대한 시험 결과를 포함하고 있다. BPVC Sec.IX에 따라 검증된 용접자 또는 용접 운전자(welding operator)들만 압력 용기를 건설 또는 수리할 수 있다. (용접자 : 수동/반수동 용접하는 사람 / 용접 운전자 : 자동용접기 운전하는 사람)"
   ]
  },
  {
   "cell_type": "markdown",
   "metadata": {},
   "source": [
    "용접은 자동, 반자동, 수동일 수 있으며 모든 경우에서 이 모든 방법이 유용한 것은 아니다. 비활성 기체(inert gas) 금속-아크 용접에 사용되는 용접봉(electrode)은 소모품(consummable)일 수도 있고 비소모품일 수도 있다. 단일 또는 다중 용접봉이 사용될 수 있다. 연결 형태를 완전히 명시하기 위한 필수 정보로는 용접 pass의 수, pass의 형태(string 또는 weaving bead), 용접 와이어 또는 봉의 크기, (자동 용접의 경우) 이동율 및 wire feed 율(용접 와이어를 주입하는 속도?)이 있다. "
   ]
  },
  {
   "cell_type": "markdown",
   "metadata": {},
   "source": [
    "* pass : 용접봉이 지나간 경로\n",
    "\n",
    "* bead : pass로 인해 용접물이 굳은 결과\n",
    "\n",
    "* weaving bead : 용접봉을 좌우로 흔들며(weaving) 용접하여 생성된 비드\n",
    "\n",
    "* stringer bead : 좌우 흔들림(weaving) 없이 직선으로 용접하여 생성된 비드"
   ]
  },
  {
   "cell_type": "markdown",
   "metadata": {},
   "source": [
    "한쪽 면 판 두께 전체를 관통하는 경우의 맞대기 용접(butt welding)에는 **backing strip**이 사용될 수 있다.backing strip은 용접에 용합된다."
   ]
  },
  {
   "cell_type": "markdown",
   "metadata": {},
   "source": [
    "* backing strip : 맞대기 용접 한쪽 면에 작은판을 대서 용가재가 새어나가지 않게 하는 것"
   ]
  },
  {
   "cell_type": "markdown",
   "metadata": {},
   "source": [
    "Fillet(F) 용접과 Groove (G) 용접이 주로 사용된다. 용접을 표기할 때는 용접 위치를 식별해야 된다. 왜냐하면 모든 용접자들이 모든 위치에 대해서 인증을 받지 않기 때문이다. 판의 경우 1F/1G(flat), 2F/2G(horizontal), 3F/3G(vertical), 4F/4G(overhead) 4개의 카테고리로 분류 된다. 배관의 경우 1F/1G(flat), 2F/2G(horizontal), 4F/4G(overhead), 5F/5G(multiple position, pipe horizontal), 6G (multiple position, pip inclined) 5개 카테고리로 분류된다. 특정 자세로 용접을 제한하는 것이 가장 좋지만, 여러개의 용접 자세가 허용된다. 수직 용접(자세 3G)이 사용되면, 방향은 uphill(밑에서 위로) 또는 downhill(위에서 아래로)로 명시되어야 한다."
   ]
  },
  {
   "cell_type": "markdown",
   "metadata": {},
   "source": [
    "용가재(filler material)은 용가재 그룹 번호(F)로 명시된다. SAW(submerged arc welding)의 경우, flux를 반드시 명시해야 한다. IAW(inert arc welding)의 경우, 차폐기체(shielding gas) (예를 들어 이산화탄소 또는 아르곤), 조성(예를 들어 75% 이산화탄소 25% 아르곤), 유량을 반드시 명시해야 한다."
   ]
  },
  {
   "cell_type": "markdown",
   "metadata": {},
   "source": [
    "BPVC는 예열 및 용접 후 열처리가 필요한 경우를 명시한다. 일부(예를 들어 P-4, P-5) 재료들은 항상 예열되어야 한다. 특정 최소 두께 이상에서는 BPVC는 용접 후 열처리를 요구한다."
   ]
  },
  {
   "cell_type": "markdown",
   "metadata": {},
   "source": [
    "## 21. WELD TYPES"
   ]
  },
  {
   "cell_type": "markdown",
   "metadata": {},
   "source": [
    "BPVC는 6개 종류의 용접 연결을 명시한다. Type 1 weld joint는 double-welded butt joint이다. double-welded butt joint의 경우 용접의 품질은 용기 내부와 외부가 동일하다. backing strip이 사용된 경우 용접 후 제거된다. 한쪽면의 용접이 완료된 후 두번째 변은 세정된 후 다시 용접한다. Type 2 weld는 용접 후에도 남겨두는 backing strip을 사용하는 single-weld butt joint이다. Type 3 weld는 backing strip이 없는 single-welded butt joint이다. Type 4 joint는 double full-fillet lap joint이다. Type 5 joint는 plug weld가 있는 single full-fillet lap joint이다. Type 6 joint는 plug weld가 없는 single full-fillet lap joint이다. 용접 종류와 용접 기호는는 그림 55.6, 55.7에 나타나 있다. "
   ]
  },
  {
   "cell_type": "markdown",
   "metadata": {},
   "source": [
    "## 22. WELD APPLICATIONS"
   ]
  },
  {
   "cell_type": "markdown",
   "metadata": {},
   "source": [
    "압력용기의 특정 위치에 따라 더 적절한 용접 형태가 있다. 표 55.6은 압력용기의 위치 별로 BPVC에서 허용하는 가스 및 아크 용접 방법을 보여준다. "
   ]
  },
  {
   "cell_type": "markdown",
   "metadata": {},
   "source": [
    "Type 1 연결부는 제한사항이 없으며 모든 방법이 사용 가능하다. Type 2 연결부는 어디든 사용될 수 있지만, 사전 성형된(preformed) offset이 있는 판(plate)에 연결하는 것은 원주방형(circumferential) 연결반 사용 가능하다. 다른 제한사항들은 표 55.6의 주석에 설명되어 있다."
   ]
  },
  {
   "cell_type": "markdown",
   "metadata": {},
   "source": [
    "Category A는 (1) 주 동체(main shell), 연결압력실(connecting chanber), 직경변화부, 노즐의 길이방향 연결부; (2) 구, 성형된 헤드, 평평한 헤드 또는 평평한 옆면을 가진 용기의 옆면 판에서의 연결부; (3) 반구 헤드를 주 동체, 직경변화부, 노즐, 연결압력실에 연결하는 원주방향 연결부를 포함한다."
   ]
  },
  {
   "cell_type": "markdown",
   "metadata": {},
   "source": [
    "<img src='Figure 55.6.PNG'>"
   ]
  },
  {
   "cell_type": "markdown",
   "metadata": {},
   "source": [
    "<img src='Figure 55.7.PNG'>"
   ]
  },
  {
   "cell_type": "markdown",
   "metadata": {},
   "source": [
    "<img src='Table 55.6.PNG'>"
   ]
  },
  {
   "cell_type": "markdown",
   "metadata": {},
   "source": [
    "Category B는 (1) 주동체, 연결압력실, 노즐, 직경 변화부의 원주방향 용접부; (2) 성형된 헤드(반구가 아닌)를 주동체, 직경변화부, 노즐, 연결압력실에 연결하는 원주방향 용접부를 포함한다."
   ]
  },
  {
   "cell_type": "markdown",
   "metadata": {},
   "source": [
    "Category C는 (1) 플랜지, 튜브시트 또는 평평한 헤드를 주 동체, 성형된 헤드, 직경변화부, 노즐, 연결압력실에 연결하는 용접 연결부; (2) 평평한 면을 갖는 용기의 한쪽 판과 다른쪽 판을 연결하는 용접부를 포함한다."
   ]
  },
  {
   "cell_type": "markdown",
   "metadata": {},
   "source": [
    "<img src='Figure 55.7.PNG'>"
   ]
  },
  {
   "cell_type": "markdown",
   "metadata": {},
   "source": [
    "Category D는 압력실(chamber) 또는 노즐을 주동체(main shell), 구, 직경변화부, 헤드, 평평한 면을 갖는 용기에 연결하는 용접부; (2) 노즐을 연결압력실(communicating chamber)에 연결하는 용접부를 포함한다."
   ]
  },
  {
   "cell_type": "markdown",
   "metadata": {},
   "source": [
    "## 23. JOINT EFFICIENCY"
   ]
  },
  {
   "cell_type": "markdown",
   "metadata": {},
   "source": [
    "압력용기 제작 시 용접 연결이 많이 사용된다. 이러한 용접 연결은 다양한 형태를 가질 수 있으며, 다른 수준의 방사선검사를 받게 된다. 용접의 형태 및 품질은 용접부가 모재의 강도까지 이를 수 있는 능력에 영향을 미친다. 연결 효율 E는 등급을 낮추는 인자로써 많은 계산에 사용된다. 인장을 받는 용접 연결부의 경우, 효율값은 용접의 종류 및 수행된 검사(보통 방사선)에 따라 결정된다. 가장 강한 연결은 double-welded butt joint (joint type 1)이다. 쉘과 헤드에서 다양한 연결부 종류에 대한 연결 효율은 표 55.7, 표 55.8에 나타나 있다. seamless shell의 경우 전체 또는 부분적으로 방사선 검사를 한 쉘은 1.0의 효율을 갖는다. 부분 방사선 검사 요건을 만족하지 못한 쉘의 효율은 0.85이다."
   ]
  },
  {
   "cell_type": "markdown",
   "metadata": {},
   "source": [
    "<img src='Table 55.7.PNG'>"
   ]
  },
  {
   "cell_type": "markdown",
   "metadata": {},
   "source": [
    "<img src='Table 55.8.PNG'>"
   ]
  },
  {
   "cell_type": "markdown",
   "metadata": {},
   "source": [
    "## 24. WELD EXAMINATION"
   ]
  },
  {
   "cell_type": "markdown",
   "metadata": {},
   "source": [
    "압력용기 용접부에 일반적으로 사용되는 비파괴 검사(NDE)는 방사선 검사 및 초음파 검사이다. 연결부에 대한 전체 방사선 검사는 다음의 경우에 필수이다: (1) 연결효율이 1.0 또는 0.9로 적용된 경우, 모든 개구부에서의 용접 및 길이방향 용접; (2) 1½ in 이상의 단일 패스를 갖는 전기가스(electrogas)용접으로 연결한 모든 맞대기(butt) 용접부; (3) 일부 예외가 있지만, 재료 두께가 1½ in를 초과하는 모든 맞대기 용접; (4) 설계 압력이 50 psig를 초과하고, 불이 사용되지 않는 증기 보일러의 쉘 및 헤드에 사용되는 모든 맞대기 용접; (5) 독성 물질을 포함하는 용기의 모든 맞대기 용접"
   ]
  },
  {
   "cell_type": "markdown",
   "metadata": {},
   "source": [
    "국부 방사선 검사(spot radiographic inspection)는 국부적 용접 품질을 경제적으로 확인하는데 사용된다. "
   ]
  },
  {
   "cell_type": "markdown",
   "metadata": {},
   "source": [
    "전체 방사선 검사가 요구되지 않는 맞대기 용접부의 경우 방사선 검사는 선택사항이며, 용기가 외압에 대해 설계되거나, 연결부가 검사가 필요 없도록 설계된 경우(예를 들면, 연결효율 값이 이미 정해진 경우) 방사선 검사는 요구되지 않는다."
   ]
  },
  {
   "cell_type": "markdown",
   "metadata": {},
   "source": [
    "전체 초음파 검사(full ultrasonic inspection)는 페라이트(ferritic) 재료의 전기슬래그(electroslag) 및 전기가스(electrogas) 용접에 요구된다."
   ]
  },
  {
   "cell_type": "markdown",
   "metadata": {},
   "source": [
    "방사선 검사의 범위를 표시하기 위해 RT 표시 시스템이 사용된다. RT-1은 모든 길이방향 및 원주방향 seam들이 100% 방사선 검사 되었음을 의미한다. 이는 또한 10 in 이상 직경을 갖는 노즐 용접부에 대해 100% 방사선 검사 되었음을 의미하기도 한다. 이 등급은 완전히 방사선 검사 되었음으로 간주되며, 모든 용접부에 대하여 1.0의 연결 효율이 설정된다. RT-1은 헤드/쉘의 두께가 1.25 in 이상인 경우 필수이다. (BPVC Sec.I에 따라 설계되는 용기들 및 특정 노즐들은 원주방향 및 길이방향 seam들에 대해 100% RT가 요구됨.)"
   ]
  },
  {
   "cell_type": "markdown",
   "metadata": {},
   "source": [
    "RT-2는 길이방향 용접 seam에 대해서는 100% 방사선 검사되었고, 원주방향 seam에 대해서는 국부 방사선 검사가 수행되었음을 의미한다. 이 등급 또한 완전히 방사선 검사 되었음으로 간주되며, 두께 계산 시 1.0의 연결 효율이 사용된다. 이 등급의 경우 노즐 용접에 대한 방사선 시험은 수행되지 않는다. RT-3은 일부 예외사항과 함께, 모든 길이방향 및 원주방향에 대해 국부 방사선 검사가 수행되었음을 의미한다. RT-3은 0.85의 연결효율을 갖는다. 노즐연결 용접부는 방사선검사되지 않는다. RT-4는 일부 방사선 검사가 수행되었음을 의미하지만, 그 양을 RT 번호 체계로 기술할 수 없음을 의미한다. RT-4는 0.70의 연결 효율을 갖는다."
   ]
  },
  {
   "cell_type": "markdown",
   "metadata": {},
   "source": [
    "## 25. WALL THICKNESS"
   ]
  },
  {
   "cell_type": "markdown",
   "metadata": {},
   "source": [
    "비록 대부분 얇은 벽이지만, 압력용기는 얇거나 두꺼운 쉘로 설계될 수 있다. 얇은벽이고, 내부 반경이 R인 실린더형 쉘의 최소 두께(부식 허용치를 제외한)은 보통 원주방향 응력이 지배적인 영향을 주며, 식 55.5로 계산한다. 유효허용응력 SE는 BPVC 표의 허용응력 값과 연결효율의 곱이다."
   ]
  },
  {
   "cell_type": "markdown",
   "metadata": {},
   "source": [
    "$$t=\\frac{pR}{SE-0.6p}\\;\\;[p<0.385SE;t\\leq0.5R]\\tag{55.5}$$"
   ]
  },
  {
   "cell_type": "markdown",
   "metadata": {},
   "source": [
    "* S : 최대허용응력(maximum allowable stress)\n",
    "\n",
    "* E : 연결효율(joint efficiency), 비파괴검사 Level에 따라 결정됨\n",
    "\n",
    "* R : 내부 반경, 부식허용치(corrosion allowance) c를 아는 경우 $R_c=R+c$"
   ]
  },
  {
   "cell_type": "markdown",
   "metadata": {},
   "source": [
    "표 55.9는 얇은 벽 실린더형 쉘 설계를 위한 코드 공식을 포함하고 있다."
   ]
  },
  {
   "cell_type": "markdown",
   "metadata": {},
   "source": [
    "헤드의 최소 두께는 헤드의 표 55.10에 나타난 것처럼 형태에 따라 달라진다."
   ]
  },
  {
   "cell_type": "markdown",
   "metadata": {},
   "source": [
    "<img src='Table 55.9.PNG'>"
   ]
  },
  {
   "cell_type": "markdown",
   "metadata": {},
   "source": [
    "비록 주문에 따라 어떤 두께의 판도 생산 가능하며, 헤드도 제작 가능하지만, 표준두께 판이 사용되었을 때 가장 경제적이다. 표 55.1은 미국에서 일반적으로 사용 가능한 판 두께들을 보여준다."
   ]
  },
  {
   "cell_type": "markdown",
   "metadata": {},
   "source": [
    "<img src='Table 55.11.PNG'>"
   ]
  },
  {
   "cell_type": "markdown",
   "metadata": {},
   "source": [
    "### 예제 55.1"
   ]
  },
  {
   "cell_type": "markdown",
   "metadata": {},
   "source": [
    "실린더형 압력용기는 125 psig, 700℉의 설계압력 및 설계온도를 갖는다. 새 용기는 90 in의 내경을 갖는다. 이 용기는 SA-515 grade-70 재료로 제작되며, 길이방향, double-welded butt joint에 대해 국부 방사선 검사된다. 0.125의 부식 허용치가 포함된다."
   ]
  },
  {
   "cell_type": "markdown",
   "metadata": {},
   "source": [
    "(a) 쉘의 요구 벽두께는?\n",
    "(b) 사용되어야 하는 표준벽두께는?"
   ]
  },
  {
   "cell_type": "markdown",
   "metadata": {},
   "source": [
    "부식허용치를 포함한 내부 반경은 다음과 같다."
   ]
  },
  {
   "cell_type": "markdown",
   "metadata": {},
   "source": [
    "$R_c=R+c=\\frac{90}{2}+0.125=45.125 \\; in$"
   ]
  },
  {
   "cell_type": "markdown",
   "metadata": {},
   "source": [
    "식 55.5의 사용 기준을 확인해보면 다음과 같다."
   ]
  },
  {
   "cell_type": "markdown",
   "metadata": {},
   "source": [
    "(1) SA-515, grade-70의 최대허용응력(S)은 18,100 lbf/in^2이다. (표 55.3)\n",
    "\n",
    "(2) 국부 방사선 검사의 경우(RT-3) 0.85의 연결효율(E)을 갖는다."
   ]
  },
  {
   "cell_type": "markdown",
   "metadata": {},
   "source": [
    "$0.385SE=(0.385)\\left(18,100\\;\\frac{lbf}{in^2}\\right)(0.85)$"
   ]
  },
  {
   "cell_type": "markdown",
   "metadata": {},
   "source": [
    "$=5923\\;lbf/in^2\\;>\\;125\\;lbf/in^2\\;\\;[OK]$"
   ]
  },
  {
   "cell_type": "markdown",
   "metadata": {},
   "source": [
    "식 55.5를 사용해 쉘 벽두께를 계산하면,"
   ]
  },
  {
   "cell_type": "markdown",
   "metadata": {},
   "source": [
    "$t=\\frac{pR_c}{SE-0.6p}+c$"
   ]
  },
  {
   "cell_type": "markdown",
   "metadata": {},
   "source": [
    "$=\\frac{(125)(45.125)}{(18100*0.85)-(0.6)(125)}+0.125=0.492\\;in$"
   ]
  },
  {
   "cell_type": "markdown",
   "metadata": {},
   "source": [
    "식55.5의 사용 기준을 확인해 보면, t(=0.492)는 0.5R(22.5)보다 작으므로 만족한다."
   ]
  },
  {
   "cell_type": "markdown",
   "metadata": {},
   "source": [
    "0.492 in보다 큰 최소 두께를 표 55.11에서 찾으면 ½ in가 된다."
   ]
  },
  {
   "cell_type": "markdown",
   "metadata": {},
   "source": [
    "## 26. NOZZLE NECKS"
   ]
  },
  {
   "cell_type": "markdown",
   "metadata": {},
   "source": [
    "노즐은 압력 용기에서 개구부이다. 노즐은 용기와 배관을 연결하거나 막혀있을 수 있다. Handhole 과 이보다 더 큰 manway는 검사, 세정, 수리를 위해 개방된 노즐을 의미한다. 노즐은 보통 볼트 연결된 플랜지 판으로 끝난다. 압력용기와 플랜지 사이의 실린더 형태 단면은 **nozzle neck**이라고 한다."
   ]
  },
  {
   "cell_type": "markdown",
   "metadata": {},
   "source": [
    "노즐넥의 최소 벽두께 $t_{UG-45}$를 결정하는 절차는 BPVC Sec.VIII, UG-45에 명시되어 있다. 검사만을 위해 사용되는 개구부의 넥의 경우 $t_{UG-45}$는 단순히 $t_a$이며 이는 내압에 대해 요구되는 최소 넥 두께 더하기 넥에 대한 부식 허용치 $c_{neck}$이다."
   ]
  },
  {
   "cell_type": "markdown",
   "metadata": {},
   "source": [
    "$$t_{UG-45}=t_a\\;\\left[inspection\\;openings;\\;internal\\; pressure;\\; t_a\\;includes\\;c_{neck}\\right]\\tag{55.7}$$"
   ]
  },
  {
   "cell_type": "markdown",
   "metadata": {},
   "source": [
    "대부분의 노즐들은 검사를 위해 사용되지 않으며, 이러한 노즐들의 경우 최소 넥 두께는 식 55.8로 주어진다. $t_{b1}$은 넥이 부착된 위치에서의 헤더 또는 쉘에 요구되는 두께이며, $E=1$ 더하기 쉘/헤드 부식 허용치 $c_{shell}$(하지만 1/16 in보다는 커야 함)을 사용해 계산된다. $t_{b3}$은 표준(예를 들어 schedule-40) 국제 배관 크기(NPS)에 가장 근접한(더 큰 외경) 최소 벽 두께(표 UG-45에 기술됨) 더하기 넥 부식 허용치 $c_{neck}$이다. 배관 생산 공차를 허용할 경우, 최소 표준 NPS 벽 두께는 공칭 두께의 87.5%이다."
   ]
  },
  {
   "cell_type": "markdown",
   "metadata": {},
   "source": [
    "$$t_{UG-45}=max\\begin{Bmatrix}t_a \\\\ t_b=min\\begin{Bmatrix} t_{b1} \\geq \\frac{1}{16}\\;in \\\\ t_{b3}\\end{Bmatrix} \\end{Bmatrix}\\tag{55.8}$$"
   ]
  },
  {
   "cell_type": "markdown",
   "metadata": {},
   "source": [
    "$$\\begin{bmatrix}non-inspection\\;openings;\\\\internal\\;pressure\\end{bmatrix}$$"
   ]
  },
  {
   "cell_type": "markdown",
   "metadata": {},
   "source": [
    "## 27. FLAT UNSTAYED HEADS"
   ]
  },
  {
   "cell_type": "markdown",
   "metadata": {},
   "source": [
    "압력용기에는 평평한 면이 많다. 원형 면이 가장 많지만, 다른 형태도 가능하다. 끝단 닫힘 또는 압력용기 헤드로 사용되는 평평한 면은 용기와 일체형(실린더형 쉘과 함께 가공되거나 쉘에 용접되는 경우)이거나 플랜지에 가스켓과 볼트로 부착되는 제거 가능한 형태의 판일 수 있다. 이러한 평평한 부분은 헤드 형상에서 가장 취약한 부분이기 때문에, 봉, spar, 리브, 브레이스, stiffener 등 stay로 알려진 것들로 강화될 수 있으며 이는 과도한 변형을 방지하기 위함이다. 원주(peripheries)를 따라 연결되고, 다른 강화기구(reinforcement)가 없는 평평한 판 및 헤드들은 **flat unstayed heads**라고 한다. 강화되지 않은 평평한 판들은 보통 둘러싸고 있는 쉘 두께의 2배에서 5배까지의 두께를 갖는다. 그림 55.8은 평평한 헤드를 부착하는 많은 허용되는 방법들 중 2가지를 보여준다."
   ]
  },
  {
   "cell_type": "markdown",
   "metadata": {},
   "source": [
    "<img src='Figure 55.8.PNG'>"
   ]
  },
  {
   "cell_type": "markdown",
   "metadata": {},
   "source": [
    "BPVC Sec.VIII-1, UG-34 c(2)로부터, 평평하고 unstayed인 원형 덮게 및 헤드의 최소 요구 두께는 식 55.9와 같이 주어진다. C는 플랜지 부착 계수 (BPVC Sec. VIII, Fig. UG-34(i)에서 주어짐)이고 부착 방법 및 가스켓 방법에 따라 달라지며, 모서리 고정 자유도를 고려한다. d는 설계에 따라 쉘의 내부 및 외부 또는 볼트 선 직경일 수 있다. 효율 E는 맞대기 용접 헤드를 제외하고 모든 형상에 대해 1.0이고, 맞대기 용접 헤드의 경우 효율은 방사선 검사 범위에 따라 결정된다. S는 해당 온도에서 최대 허용 인장 응력이다."
   ]
  },
  {
   "cell_type": "markdown",
   "metadata": {},
   "source": [
    "$$t=d\\sqrt{\\frac{Cp}{SE}}+c\\;\\;[circular\\;welded\\;plates]\\tag{55.9}$$"
   ]
  },
  {
   "cell_type": "markdown",
   "metadata": {},
   "source": [
    "일부 평평한 덮게(예를 들어 그림 55.8(b))의 가스켓과 볼트 하중은 모서리 모멘트를 추가한다. 평평한 덮게의 두께는 플랜지의 설계 볼트 하중 W와 가스켓 모멘트 암 $h_G$에 의해 결정되며 이 둘은 BPVC Sec.VIII, Div. III, App.2에 따라 계산된다. W는 끝단 압력 하중을 견디고 가스켓의 밀착을 유지하기 위해 요구되는 볼트 하중들의 합이다. 식 55.10은 두번 사용된다 - 한번은 설계조건에서 사용되고, 다른 한번은 가스켓 안착 조건에서 (예들들어, $p=0$, 상온에서 S, BPVC App.2-5(e), 식 4에 따른 가스켓 안착에 요구되는 W) 사용된다. 그리고 두 값들 중 더 큰 값이 사용된다."
   ]
  },
  {
   "cell_type": "markdown",
   "metadata": {},
   "source": [
    "$$t=d\\sqrt{\\frac{Cp}{SE}+\\frac{1.9Wh_G}{SEd^3}}+c\\;\\;\\begin{bmatrix}circular\\;bolted\\\\plates\\end{bmatrix}\\tag{55.10}$$"
   ]
  },
  {
   "cell_type": "markdown",
   "metadata": {},
   "source": [
    "## 28. REINFORCEMENT OF OPENINGS"
   ]
  },
  {
   "cell_type": "markdown",
   "metadata": {},
   "source": [
    "쉘 벽두께 및 개구부의 크기에 따라 쉘 넥 연결부의 강화가 요구될 수 있다. 기본 규칙은 강화부의 단면적은 제거된 단면과 같아야 하며, 제거된 단면은 내부 압력을 견디기 위해 필요하지 않은 추가 면적보다 작아야 한다는 것이다(?)."
   ]
  },
  {
   "cell_type": "markdown",
   "metadata": {},
   "source": [
    "노즐 외부를 둘러싸는 고리 모양(annular) 평판인 **패드**를 추가하면 가장 쉬운 강화(reinforcement)가 된다. 일부 제작자들은 일반적인 관행처럼 모든 제거된 면적을 패드 면적으로 대체한다. 이러한 방법은 거의 계산이 필요없지만, 과도하게 강화된 개구부를 만들 수 있다. 쉘 및 노즐의 두께 및 노즐 직경을 고려하면, 최소 요구 면적은 내압을 받는 용기에 대해 계산할 수 있다."
   ]
  },
  {
   "cell_type": "markdown",
   "metadata": {},
   "source": [
    "$$A_r=D t_r+2t_nt_r(1-f_{r1})\\tag{55.11}$$"
   ]
  },
  {
   "cell_type": "markdown",
   "metadata": {},
   "source": [
    "식 55.11에서 $t_r$은 BPVC 식으로 계산되는 이론적 쉘 또는 헤드의 두께이다. D는 개구부 내경이고, $t_n$은 노즐 두께, $f_r$은 허용 응력 비율이다. 이들은 공칭 조건이기 때문에, 부식은 점진적으로 이용가능한 면적을 줄여나갈 수 있다. 부식 허용치 c를 실제 쉘 또는 노즐 두께에서 빼고 개구부 직경에 부식 허용치의 2배를 더하면 부식에 대해 고려할 수 있다."
   ]
  },
  {
   "cell_type": "markdown",
   "metadata": {},
   "source": [
    "개구부는 강화될 수도 있고, 덜 강화될 수도 있다. 그림 55.9는 강화된 개구부에 대한 일반적인 경우를 보여준다. 용기를 설계할 때, 충분한 면적이 제공되도록 결정하는 것이 중요하다. 강화가 있거나 없는 경우, 용기에 대한 면적 기준은 다음 식들로 주어진다. 항들에 대한 정의는 그림 55.9와 표 55.12에 있다."
   ]
  },
  {
   "cell_type": "markdown",
   "metadata": {},
   "source": [
    "<img src='Figure 55.9.PNG'>"
   ]
  },
  {
   "cell_type": "markdown",
   "metadata": {},
   "source": [
    "<img src='Table 55.12.PNG'>"
   ]
  },
  {
   "cell_type": "markdown",
   "metadata": {},
   "source": [
    "$$A_1+A_2+A_3+A_4\\geq A_r\\;\\;[without\\;reinforcement]\\tag{55.12}$$"
   ]
  },
  {
   "cell_type": "markdown",
   "metadata": {},
   "source": [
    "$$A_1+A_2+A_3+A_4+A_5\\geq A_r\\;\\;[with\\;reinforcement]\\tag{55.13}$$"
   ]
  },
  {
   "cell_type": "markdown",
   "metadata": {},
   "source": [
    "이용 가능한 면적에 대한 합이 요건들을 만족하면(즉, 부등호가 만족되면), 추가적인 보강 판이 필요하지 않다. 하지만, 이용가능한 면적들의 합이 요구면적보다 작으면, 패드를 사용해 그 면적을 만족시켜야 한다(또는 이용가능한 보강을 증가시켜야 한다.) 추가적인 요구 면적은 다음과 같다."
   ]
  },
  {
   "cell_type": "markdown",
   "metadata": {},
   "source": [
    "$$A_{p,r}=A_r-(A_1+A_2+A_3+A_4+A_5)$$"
   ]
  },
  {
   "cell_type": "markdown",
   "metadata": {},
   "source": [
    "강화가 사용되는 경우, 강화 패드는 쉘과 노즐 벽에 모두 그림 55.9와 같이 용접되어야 한다. 패드의 외부 모서리의 용접들과 패드의 내부 모서리의 용접들은 최소 목두께가 1/2 $t_{min}$을 만족하는 필렛 용접이어야 한다.(여기서 $t_{min}$은 3/4 in와 용접으로 연결되는 부분의 더 얇은 두께 중 더 작은 값을 의미) 패드를 노즐 넥에 부착하는 용접의 경우 최소 목두께 $t_w$가 0.7$t_{min}$보다 작지 않는 필렛용접이어야 한다."
   ]
  },
  {
   "cell_type": "markdown",
   "metadata": {},
   "source": [
    "개구부 주면의 모든 재료가 효율적인 강화기구인 것은 아니다. 효율성을 고려하기 위해서는, 재료는 강화한계 내에 위치해야 한다. 개구부 축을 기준으로 2D 직경(대략) 원 주변으로 위치하는 재료가 효율적이라고 고려되며, 용기 표면 위아래로 2.5t 또는 2.5$t_n$ (대략)까지 위치하는 재료가 효율적이라고 고려된다. 이러한 가정은 $A_2$를 계산하는 과정에 포함되어 있다. (정확한 강화 한계에 대해서는 그림 55.9를 참고) "
   ]
  },
  {
   "cell_type": "markdown",
   "metadata": {},
   "source": [
    "일부 개구부들은 일체형 강화로 설계된다. 이러한 형태의 강화는 넥을 확장 또는 더 두껍게 하는 형태이거나, 쉘 또는 용기 벽의 일체형 부분인 built-up 쉘 판 또는 weld buildup의 형태이다. 그림 55.9에 나타난 설치된 패드는 일체형 강화로 고려되지 않는다. 일체형 강화가 사용되는 경우, 용기 축에 대해 다른 면에 대한 내압으로 인한 압력 변화를 보상하기 위해 $A_r$과 $A_1$를 계산할 때 수정계수 F를 사용해야 한다."
   ]
  },
  {
   "cell_type": "markdown",
   "metadata": {},
   "source": [
    "### 예제 55.2"
   ]
  },
  {
   "cell_type": "markdown",
   "metadata": {},
   "source": [
    "압력용기의 내부 직경은 46 in이다. 용기 벽은 0.5625 in인 SA-516-60 판이다. 용기의 운전 압력 및 온도는 350 psig, 200℉이다. 8 in(공칭) 직경, 0.593 in 벽두께인 노즐은 SA-53-B 재료로 만들어 진다. 압력용기 내의 노즐의 길이는 1.5 in 이고 주 용기 seam들과 간섭이 없다. 모두 3/8 in 필렛 용접이 사용되었다. 모든 seam들은 완전히 방사선검사 되었다. 부식은 설계인자가 아니다. 강화가 요구되는지 필요없는지 결정하라."
   ]
  },
  {
   "cell_type": "markdown",
   "metadata": {},
   "source": [
    "<풀이>\n",
    "\n",
    "SA-53-B의 최대 허용 응력은 17100 lbf/in^2 이다. (표55.3)"
   ]
  },
  {
   "cell_type": "markdown",
   "metadata": {},
   "source": [
    "전체 방사선 검사의 경우 효율은 1이다.(E=1.0)"
   ]
  },
  {
   "cell_type": "markdown",
   "metadata": {},
   "source": [
    "쉘의 내부 반경은 다음과 같다."
   ]
  },
  {
   "cell_type": "markdown",
   "metadata": {},
   "source": [
    "$$R=\\frac{46\\;in}{2}=23\\;in$$"
   ]
  },
  {
   "cell_type": "markdown",
   "metadata": {},
   "source": [
    "식 55.5에 따라, 요구 벽 두께는 다음과 같다."
   ]
  },
  {
   "cell_type": "markdown",
   "metadata": {},
   "source": [
    "$$t_r=t=\\frac{pR}{SE-0.6p}$$"
   ]
  },
  {
   "cell_type": "markdown",
   "metadata": {},
   "source": [
    "$$=\\frac{\\left(350\\;\\frac{lbf}{in^2}\\right)(23.0\\;in)}{\\left(17,100\\;\\frac{lbf}{in^2}\\right)(1.00)-(0.6)\\left(350\\;\\frac{lbf}{in^2}\\right)}=0.477\\;in$$"
   ]
  },
  {
   "cell_type": "markdown",
   "metadata": {},
   "source": [
    "0.593 in 벽두께와 8 in 공칭 직경은 노즐이 스케줄 100 배관으로 제작되었음을 알려준다. 스케줄 100 배관의 실제 내부 직경은 7.439 in 이다. 노즐 내부 반경은 다음과 같다."
   ]
  },
  {
   "cell_type": "markdown",
   "metadata": {},
   "source": [
    "$$R=\\frac{7.439\\;in}{2}=3.7195\\;in$$"
   ]
  },
  {
   "cell_type": "markdown",
   "metadata": {},
   "source": [
    "식 55.5로부터, 노즐의 요구 벽두께는 다음과 같다."
   ]
  },
  {
   "cell_type": "markdown",
   "metadata": {},
   "source": [
    "$$t_{rn}=t=\\frac{pR}{SE-0.6p}$$"
   ]
  },
  {
   "cell_type": "markdown",
   "metadata": {},
   "source": [
    "$$=\\frac{\\left(350\\;\\frac{lbf}{in^2}\\right)(3.7195\\;in)}{\\left(17,100\\;\\frac{lbf}{in^2}\\right)(1.00)-(0.6)\\left(350\\;\\frac{lbf}{in^2}\\right)}$$"
   ]
  },
  {
   "cell_type": "markdown",
   "metadata": {},
   "source": [
    "$$=0.077\\;in$$"
   ]
  },
  {
   "cell_type": "markdown",
   "metadata": {},
   "source": [
    "$$f_{r1}=f_{r2}=\\frac{17,100\\;\\frac{lbf}{in^2}}{17,100\\;\\frac{lbf}{in^2}}=1$$"
   ]
  },
  {
   "cell_type": "markdown",
   "metadata": {},
   "source": [
    "식 55.11로 부터, 총 요구되는 강화량은 다음과 같다."
   ]
  },
  {
   "cell_type": "markdown",
   "metadata": {},
   "source": [
    "$$A_r=D t_r+2t_nt_r(1-f_{r1})=Dt_r$$"
   ]
  },
  {
   "cell_type": "markdown",
   "metadata": {},
   "source": [
    "$$=(7.439\\;in)(0.477\\;in)$$"
   ]
  },
  {
   "cell_type": "markdown",
   "metadata": {},
   "source": [
    "$$=3.548\\;in^2$$"
   ]
  },
  {
   "cell_type": "code",
   "execution_count": null,
   "metadata": {},
   "outputs": [],
   "source": []
  }
 ],
 "metadata": {
  "kernelspec": {
   "display_name": "Python 3",
   "language": "python",
   "name": "python3"
  },
  "language_info": {
   "codemirror_mode": {
    "name": "ipython",
    "version": 3
   },
   "file_extension": ".py",
   "mimetype": "text/x-python",
   "name": "python",
   "nbconvert_exporter": "python",
   "pygments_lexer": "ipython3",
   "version": "3.8.5"
  }
 },
 "nbformat": 4,
 "nbformat_minor": 2
}
