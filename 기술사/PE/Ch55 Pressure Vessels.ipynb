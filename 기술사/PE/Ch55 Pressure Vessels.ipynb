{
 "cells": [
  {
   "cell_type": "markdown",
   "metadata": {},
   "source": [
    "## 1. INTRODUCTION"
   ]
  },
  {
   "cell_type": "markdown",
   "metadata": {},
   "source": [
    "ASME는 1911년에 BPVC를 설립했다. BPVC는 보일러 및 압력용기에 대한 설계, 제작, 검사, 수리에 대한 규칙을 만들었고, 질의가 발생하 때 이 규칙들을 해석했다. 이 규칙들은 ASME B&PV 코드가 되었으며 이는 12개 장으로 구성되며 표 55.1에 나타나 있다."
   ]
  },
  {
   "cell_type": "markdown",
   "metadata": {},
   "source": [
    "<img src='Table 55.1.PNG'>"
   ]
  },
  {
   "cell_type": "markdown",
   "metadata": {},
   "source": [
    "본 장은 곡선 쉘을 가지며 내압을 받고 Div.1, Sec. VIII \"Pressure Vessel\"에 따라 설계된 압력용기만을 다룬다. Sec. VIII의 Division 1은 15 psig ~ 3000 psig (103 kPa ~ 520.7 MPa) 사이에서 운전되는 압력용기를 다룬다. Section VIII는 비 원자력 분야를 다룬다."
   ]
  },
  {
   "cell_type": "markdown",
   "metadata": {},
   "source": [
    "상업 원자력 발전소를 위한 압력용기는 BPVC Sec.III에서 다룬다."
   ]
  },
  {
   "cell_type": "markdown",
   "metadata": {},
   "source": [
    "압력용기에서 뻗어나온 배관 및 연결부에 대한 BPVC의 범위는 연결 방법(용접, 볼트, 나사, 밀봉연결 등)에 상관 없이 기기 또는 배관의 첫번째 연결부 까지로 한다."
   ]
  },
  {
   "cell_type": "markdown",
   "metadata": {},
   "source": [
    "## 2. RELATED CODES AND STANDARDS"
   ]
  },
  {
   "cell_type": "markdown",
   "metadata": {},
   "source": [
    "다른 codes & standards들은 ASME BPVC와 함께 자주 언급된다."
   ]
  },
  {
   "cell_type": "markdown",
   "metadata": {},
   "source": [
    "API 510: **압력용기 검사 코드: 유지보수 검사, 등급, 수리, 변경** 은 석유 및 화학공정 산업에서 사용되는 압력용기에 대한 유지보수, 검사, 수리, 변경, 재 등급 절차를 다룬다."
   ]
  },
  {
   "cell_type": "markdown",
   "metadata": {},
   "source": [
    "API 570: **배관 검사 코드: 배관계통에 대한 가동중검사, 수리, 변경** 은 운전 중인 금속 배관 계통을 다룬다. 압력용기는 배제된다. 최소두께 계산 요건은 포함되지 않으며 이는 ASME B31.3을 참조하고 있다."
   ]
  },
  {
   "cell_type": "markdown",
   "metadata": {},
   "source": [
    "API 620: **대형 용접 저압 저장 탱크 설계 및 제작** 은 대형, 용접형, 현장에서 세우는 단일 수직 회전 축이면서 금속 온도가 250℉ 이하, 압력이 15 psig 이하로 설계된 저압 탄소강 지상 저장 탱크 (평평한 바닥 탱크 포함)의 설계 및 제작을 다룬다. 또한 이 기술기준은 극저온 2중 벽 저장 탱크에 대한 설계도 다룬다."
   ]
  },
  {
   "cell_type": "markdown",
   "metadata": {},
   "source": [
    "API 650: **오일 저장을 위한 용접 탱크** 는 수직 실린더형 지상 폐쇄 및 개방 상단 용접형 탄소 및 스테인리스 강 저장 그리고 알루미늄 탱크에 대한 설계, 재료, 제작, 설치, 시험에 대해 다룬다. API 650은 전체 바닥이 균일하게 지지되고, 최대 설계 온도가 200℉ 또는 그 이하이며, 냉각되지 않는 운전조건이고, 액체 표면 압력이 거의 대기압에 가까운 탱크에만 적용 가능하다. 용접 알루미늄 탱크는 API 650 App. AL에서 다룬다."
   ]
  },
  {
   "cell_type": "markdown",
   "metadata": {},
   "source": [
    "ASME B31.3: **공정 배관** 은 모든 유체(유체 운전 및 고압 적용에 대해 약간의 예외 사항이 있음)에 사용되는 배관 설계를 다룬다. 내압이 15 psig 이하인 배관 계통은 제외된다."
   ]
  },
  {
   "cell_type": "markdown",
   "metadata": {},
   "source": [
    "ASME B31.9: **건물 운전 배관** 은 ASME 동력 배관(ASME B31.1)에서 다루는 크기, 압력, 온도가 필요하지 않은 산업계, 상업용, 공공 건물에 사용되는 배관을 다룬다."
   ]
  },
  {
   "cell_type": "markdown",
   "metadata": {},
   "source": [
    "## 3. COMPLIANCE"
   ]
  },
  {
   "cell_type": "markdown",
   "metadata": {},
   "source": [
    "제작자가 BPVC를 준수할 지는 자유이다. 하지만, 대부분의 고객은 그들이 주문한 압력용기가 잘 알려진 기술기준에 따라 설계되었는지를 알고싶어하고, 주의 법의 일부로 되어 있는 ASME 인증을 받은 압력용기를 사용하도록 요구한다. 코드에 따라 화기를 취급하지 않는(unfired) 압력용기를 제작한 제작자는 제품에 그림 55.1에 나타난 U 스탬프를 갖는 명판을 부착할 수 있다."
   ]
  },
  {
   "cell_type": "markdown",
   "metadata": {},
   "source": [
    "<img src='Figure 55.1.PNG'>"
   ]
  },
  {
   "cell_type": "markdown",
   "metadata": {},
   "source": [
    "## 4. EXEMPTIONS"
   ]
  },
  {
   "cell_type": "markdown",
   "metadata": {},
   "source": [
    "일부 압력용기들은 BPVC의 범위에서 한참 벗어나 있다. 간접적으로 가열되는 온수 공급 저장 탱크, 공칭 용량이 120 gal을 안넘는 경우, 수온이 210℉를 안넘는 경우, 열 입력이 200,000 Btu/hr을 안넘는 경우, 직경이 6 in 이하인 용기 등이 이러한 경우에 해당한다. 검사가 면제되지만 BPVC에 따라 제작된 용기는 U 스탬프를 붙일 수 있다."
   ]
  },
  {
   "cell_type": "markdown",
   "metadata": {},
   "source": [
    "## 5. STAMPING REQUIREMENTS"
   ]
  },
  {
   "cell_type": "markdown",
   "metadata": {},
   "source": [
    "압력용기에는 제작 및 운전 형태에 대한 정보를 영구적으로 식별해 놔야 한다. 이 정보는 잘 보이는 위치(개방구 또는 통로 근처)에 도장을 찍거나 그림 55.2와 같이 영구 부착된 명판을 사용해도 된다."
   ]
  },
  {
   "cell_type": "markdown",
   "metadata": {},
   "source": [
    "압력용기를 설명하는 명판은 쉘에 직접 붙는다. BPVC에 따라 설계 및 제작된 압력용기의 명판에는 공식 \"U\" 스팸프와 모든 다음 사항이 포함된다: 제작자 명(\"certified by\" 다음에 표시), 용기 시리얼 넘버, 제작 년, 최대 허용 작동 압력, 온도, 최소 설계 금속 온도, 압력. -20℉ 이하에서 운전되는 압력용기는 최소 허용 온도도 기술된다."
   ]
  },
  {
   "cell_type": "markdown",
   "metadata": {},
   "source": [
    "제작 방법 및 운전 형태도 반드시 포함되어야 한다. 다음의 약어들이 사용된다: W(아크 또는 가스 용접), RES(저항용접), B(경납=brazed), L(lethal service), UB(unfired steam boiler), DF(direct firing), RT-1(fully radiographed), RT-2(일부 연결부 국부적 radiographed), RT-3(spot radiographed), RT-4(다른 카테고리에서 적용 않는 radiographed), HT(용접 후 열처리), PHT(용기 일부 열처리)"
   ]
  },
  {
   "cell_type": "markdown",
   "metadata": {},
   "source": [
    "<img src='Figure 55.2.PNG'>"
   ]
  },
  {
   "cell_type": "markdown",
   "metadata": {},
   "source": [
    "## 6. DESIGN ELEMENTS"
   ]
  },
  {
   "cell_type": "markdown",
   "metadata": {},
   "source": [
    "그림 55.3은 압력용기의 다양한 부품들을 보여준다. 압력용기는 쉘 타입, 플레이트 타입 요소로 나뉜다. 쉘 타입 요소는 인장(즉 멤브레인 작용)을 통해 내압을 견딘다. 플레이트 타입 요소는 굽힘을 통해 내압을 견딘다. 쉘 타입 요소는 실린더형, 구형, 타원형(ellipsoidal), 접시구형(torisherical), 접시원뿔형(toriconical)일 수 있다."
   ]
  },
  {
   "cell_type": "markdown",
   "metadata": {},
   "source": [
    "압력용기의 본체는 쉘이라고 한다. 쉘은 seamless 또는 seamed 일수 있다. 외부 배관과 기기들은 노즐에서 압력용기에 연결된다. 노즐에 사용되는 seamless 배관은 seamless 쉘의 한 예이다."
   ]
  },
  {
   "cell_type": "markdown",
   "metadata": {},
   "source": [
    "## 7. SERVICE APPLICATION"
   ]
  },
  {
   "cell_type": "markdown",
   "metadata": {},
   "source": [
    "치명적인(lethal) 물질을 포함하고, -20℉ 이하에서 운전되며, 증기 생산에 사용되고, 직접 화염에 노출되는 용기에는 특별한 제한조건들이 있다."
   ]
  },
  {
   "cell_type": "markdown",
   "metadata": {},
   "source": [
    "특정 부식 허용치를 제외하고 쉘 및 헤드의 최소 벽 두께는 1/16 in 이다. 하지만, 압축공기, 증기, 물을 사용하기 위한 압력용기의 경우 쉘과 헤드의 최소 벽 두께는 3/32 in이다. 압축 공기를 사용하고 내부 부식 또는 침식에 노출되는 압력용기는 적절한 검사를 위한 개구부를 갖추도록 설계되어야 한다. "
   ]
  },
  {
   "cell_type": "markdown",
   "metadata": {},
   "source": [
    "<img src='Figure 55.3.PNG'>"
   ]
  },
  {
   "cell_type": "markdown",
   "metadata": {},
   "source": [
    "**치명적 물질(lethal subastance)** 은 매우 작은 양일지라도 독성이 있거나 치명적인 기체 또는 액체를 의미한다. 치명적인 물질을 사용하기 위한 용기는 SA-283 탄소강 또는 주철로 제작하면 안된다. 확장 연결부도 사용하면 안된다. 모든 맞대기 용접(butt weld)부는 완전히 비파괴(방사선) 검사되어야(radiographed) 한다. 치명적인 물질을 다루는 용기가 탄소 또는 저합금 강으로 제작된 경우 용접 후 열처리가 요구된다."
   ]
  },
  {
   "cell_type": "markdown",
   "metadata": {},
   "source": [
    "BPVC는 용기 내용물을 근거로 재료 선정을 명시하고 있지 않다. 하지만, 수소 또는 취화를 일으키는 물질들은 중요한 코드 이외의 논의사항이며 설계 과정에서 다루어 져야 한다. 고온 고압에서 수소에 노출되는 압력용기는 수소취화(hydrogen embrittlement)가 발생한다. 수소의 부분압이 87 psia를 초과하고, 용기 온도가 300℉ 이상이거나 온도와 상관 없이 수소 부분압이 145 psia를 초과하면 용기는 수소 손상에 노출되는 것으로 간주할 수 있다. 다양한 온도 및 압력 조합에 대한 재료의 적절성을 판단하는데는 **Nelson 다이아그램**이 사용된다."
   ]
  },
  {
   "cell_type": "markdown",
   "metadata": {},
   "source": [
    "부식성(caustic) 염화물(수산화염, sodium hydroxid)은 일반적인 알카리 재료이다. 탄소강은 고온에서 **causic cracking(부식균열)** (부식 취화, caustic embrittlement로도 불림)과 급속한 부식에 노출된다."
   ]
  },
  {
   "cell_type": "markdown",
   "metadata": {},
   "source": [
    "## 8. MATERIALS"
   ]
  },
  {
   "cell_type": "markdown",
   "metadata": {},
   "source": [
    "압력용기는 탄소강, 저합금강, 고합금강, 비철금속, 주철, 일체형 cladplate를 포함한 다양한 재료로 제작될 수 있다. BPVC는 어떤 온도에서 어떤 재료들을 사용 가능한지 명시하고 있다. 용접과의 연계성을 확인하기 위해 P 범호로 할당된 재료 카테고라를 사용하며 표 55.2에 나타나 있다."
   ]
  },
  {
   "cell_type": "markdown",
   "metadata": {},
   "source": [
    "탄소강은 비 부식 환경 및 -20℉ ~ 800℉온도 범위에서 가장 널리 사용되는 재료이다. 하지만, 탄소강은 785℉ 이상의 고온에 장기간 노출되면 **흑연화(graphitization)** 라는 과정을 통해 취약해진다. 800℉ 이상에서 운전되는 경우 재료를 신중히 선택해야 한다."
   ]
  },
  {
   "cell_type": "markdown",
   "metadata": {},
   "source": [
    "<img src='Table 55.2.PNG'>"
   ]
  },
  {
   "cell_type": "markdown",
   "metadata": {},
   "source": [
    "## 9. HEADS"
   ]
  },
  {
   "cell_type": "markdown",
   "metadata": {},
   "source": [
    "그림 55.4에 나타난 바와 같이 헤드는 구형, 타원형(ellipsoidal), 접시구형(torisherical), 접시원뿔형(toriconical), 평형(flat)일 수 있다. 타원형 및 반구형 헤드가 일반적이지만, 얇은 용기의 경우 접시 구형이 많다. 헤드 형태 별 최소 두께 계산을 위한 BPVC 공식은 표 55.10에 지공되어 있다."
   ]
  },
  {
   "cell_type": "markdown",
   "metadata": {},
   "source": [
    "**접시구형** (즉 flanged, dished) 헤드는 내경 D, crown(dish) 반경 L, knuckle 반경 $r_k$, 헤드 두께 $t_h$로 표현한다. 이 변수들은 그림 55.4에 나타나 있다. ASME **flanged and dished head**는 접시구형 헤드이며, knuckle 반경이 내부 crown 반경의 6%이다. **2:1 타원형 헤드**의 반경은 높이(투영)의 2배이며, 깊은 반구형 헤드보다 경제적이다."
   ]
  },
  {
   "cell_type": "markdown",
   "metadata": {},
   "source": [
    "헤드가 쉘보다 두껍지 않으면 헤드는 플랜지가 불필요하며, 쉘에 맞대기 용접(butt weld)로 연결해도 된다. 하지만 실제로는 대부분의 반구형 헤드는 **straight flange** (즉, straight longitudinal neck)이 있다."
   ]
  },
  {
   "cell_type": "markdown",
   "metadata": {},
   "source": [
    "## 10. LOADING TYPE"
   ]
  },
  {
   "cell_type": "markdown",
   "metadata": {},
   "source": [
    "압력용기는 내압에 의한 하중 뿐만 아니라 용기 및 내용물의 자중, 부착물에서의 정적 반력, 풍압, 내진하중, 온도 변화, 열팽창, 압력 및 온도의 주기적 변화에 의한 동하중을 고려해야 한다."
   ]
  },
  {
   "cell_type": "markdown",
   "metadata": {},
   "source": [
    "## 11. ALLOWABLE STRESSES"
   ]
  },
  {
   "cell_type": "markdown",
   "metadata": {},
   "source": [
    "인장에 대한 기본 허용 응력 S는 BPVC(표 55.3)에 제공되며, 재료 및 온도에 따라 결정된다. (압축을 받는 부품에 대한 허용응력은 세장비에 의해 결정되기도 한다.)"
   ]
  },
  {
   "cell_type": "markdown",
   "metadata": {},
   "source": [
    "<img src ='Figure 55.4.PNG'>"
   ]
  },
  {
   "cell_type": "markdown",
   "metadata": {},
   "source": [
    "BPVC는 인장응력 및 하중조합에 의한 일반 주 막응력에 대하여 설계용으로 사용되는 **최대허용응력** S를 정의한다. 대부분의 내압 형태의 경우 압축에 의한 허용 응력은 고려 사항이 아니다."
   ]
  },
  {
   "cell_type": "markdown",
   "metadata": {},
   "source": [
    "최대 허용 응력은 풍하중 및 지진 하중을 제외한 하중 조합에 의해 발생하는 주 막응력 및 굽힘 응력의 합에 대해 1.5S로 정의된다."
   ]
  },
  {
   "cell_type": "markdown",
   "metadata": {},
   "source": [
    "바람, 눈, 지진 및 다른 과도하중에 의한 하중 및 응력은 IBC(International Building Code)에 따라 계산되며, 허용응력을 1.0S 이상으로 증가시키는 대신 하중 계수를 사용한다. 바람 및 지진 하중은 ASCE 7에 따라 계산되어야 한다. BPVC Sec. VIII, Div. 2, 표 5-3에 주어진 다양한 하중조합을 사용해야 한다. 내진 하중은 하중계수 0.7을 가지며, 풍하중과 내진하중은 동시에 작용하지 않는다."
   ]
  },
  {
   "cell_type": "markdown",
   "metadata": {},
   "source": [
    "<img src='Table 55.3.PNG'>"
   ]
  },
  {
   "cell_type": "markdown",
   "metadata": {},
   "source": [
    "표 55.3은 일반적인 탄소강 및 저합금강에 대한 최대허용응력을 보여준다. 표 55.3의 값들은 내삽하여 사용해도 된다."
   ]
  },
  {
   "cell_type": "markdown",
   "metadata": {},
   "source": [
    "## 12. DISCONTINUITY STRESSES"
   ]
  },
  {
   "cell_type": "markdown",
   "metadata": {},
   "source": [
    "압력용기에는 어쩔수 없이 형상, 재료, 하중에 대한 갑작스러운 변화 부위가 있다. 이 위치들을 **불연속 부위**라고 하며, BPVC는 이와 관련된 응력을 **불연속 응력**이라고 부른다. **gross structural discontinuity**는 주요 크기 영역 내에서 전체 벽 두께에 응력 및 변형률 분포가 발생하도록 하는 형상적, 구조적, 재료적 불연속 부를 의미한다. 예로는 노즐-실린더, 쉘-헤드 연결부(특히 쉘과 헤드의 중심선이 일치하지 않는 경우)가 있다. **local structural discontinuity**는 벽두께에 국부적인 응력 및 변형률을 발생시킨다. 일반적인 예로는 맞대기 용접에서 용접 toe, 노치, undercutting 면이 있다."
   ]
  },
  {
   "cell_type": "markdown",
   "metadata": {},
   "source": [
    "각 불연속 부는 압력 및 열하중에 대하여 다르게 거동한다. 연결되지 않은 자유 물체로 모델링 하면 부품들은 다른 변위를 갖게 된다. 연결된 부품으로 모델링 하면 변위는 같게 된다. 자유변위 및 실제 변위 간의 차이는 **forced displacement**이며 이는 불연속 응력을 발생시킨다."
   ]
  },
  {
   "cell_type": "markdown",
   "metadata": {},
   "source": [
    "BPVC는 두가지 종류의 응력을 정의한다: primary, secondary. **primary stress** (하중제어응력) $P_m$은 기계적 하중에 의한 직접적인 결과이며, 평형의 법칙을 사용해 계산할 수 있다. primary stress의 예로는 압력에 의한 응력 및 자중에 의한 응력이 있다. 불연속부에서 멀리 떨어진 지역에서는 모든 응력이 primary stress이다. primary stress는 응력-변형률 커브와 상관 없이 파손 시 까지 부여 하중에 비례하여 증가한다. 압력용기와 같은 얇은 막(membrane)에서 **general primary membrane stress**는 (1) 균일(유일한 값) 인장 및 압축응력과 (2) 선형으로 변하는 굽힘 응력 $P_b$로 분류된다. **굽힘응력**은 두께를 따라 선형으로 변한다. **Local primary membrane stress**는 불연속부를 고려하지만 응력집중은 고려 안한다."
   ]
  },
  {
   "cell_type": "markdown",
   "metadata": {},
   "source": [
    "**secondary stress** Q는 구조불연속, 응력집중, 온도차의 결과이다. primary stress와 secondary stress는 하중에 비례하여 항복점까지 증가한다. 하중이 증가함에 따라 primary stress는 계속 증가하지만, secondary stress는 **self-limiting stress**로 고려된다. 응력집중부에서 항복점에 이르면, 국부 항복 및 일부 변형이 응력을 발생시키는 조건을 완화시키며 (즉, 하중과 응력은 직접적인 관계가 없어짐) secondary stress는 본질적으로 일정해진다. 따라서 secondary stress 단독으로는 파손이 일어나지 않는다. 하지만, secondary stress는 반복 하중에 대한 피로 평가에 특히 중요하다. **peak stress**는 primary stress와 secondary stress보다 더 증가한 양을 의미하며, 불연속부 또는 국부 열 조건에 의해 발생한다. peak stress에 의한 피로 균열은 가능하지만, gross deformation은 발생하지 않는다."
   ]
  },
  {
   "cell_type": "markdown",
   "metadata": {},
   "source": [
    "기계적 하중에 발생하는 주 막응력, 주 굽힘응력, 이차응력에 대하여 각각 다른 허용 응력이 제시된다. (표 55.4) **primary membrane stress** (보통 인장 성분임)에 대한 한계 값은 전체 용기 단면에 동시에 이르게 된다. 위험한 소성 파괴(예를 들면 압력에 의한 폭발), BPVC Sec. VIII, Div.2는 primary membrane stress를 S(본질적으로 항복강도의 2/3 임)로 제한한다. 최대 굽힘 응력은 중심축에서 가장 먼 국부적인 위치에서 발생하기 때문에, local primary membrane stress, $P_L$ (예를 들면, primary membrane stress + primary localized bending stress)는 1.5S(본질적으로 항복강도 임)로 제한된다. secondary stress는 항복강도를 쉽게 초과할 수 있으며, 따라서 주응력 더하기 자기 완화 이차 응력은 3S(항복강도의 두배)로 제한된다. "
   ]
  },
  {
   "cell_type": "markdown",
   "metadata": {},
   "source": [
    "<img src='Table 55.4.PNG'>"
   ]
  },
  {
   "cell_type": "markdown",
   "metadata": {},
   "source": [
    "## 13. SHAKEDOWN AND RATCHETING"
   ]
  },
  {
   "cell_type": "markdown",
   "metadata": {},
   "source": [
    "압력용기는 가압/감압 및 가열/냉각 반복 싸이클을 자주 겪는다.  응답은 BPVC Sec. VIII, Div 2, Part 5.12 (그림 55.5)에 정의된 shakedown 또는 ratcheting으로 분류할 수 있다. **shakedown**은 하중 또는 온도 분포가 발생한 지점에서 소성 변형을 일으키지만, 하중 또는 온도 분포가 제거되면 탄성 주 및 이차 응력만 그 지점에 남는(국부 응력(변형) 집중과 관련된 작은 영역은 제외하고) 싸이클 하중 또는 싸이클 온도분포에 의해 발생한다. 이 좁은 영역은 점진적인 진전 없 안정적인 히스테리시스 루프를 보인다. 추가적인 하중 인가 및 제거 또는 온도 분포 부여 및 제거는 탄성 주 및 이차 응력만 발새이킨다. shakedown은 피로 커브 데이터를 사용해 정당화 하지만, 파손모드는 아니다."
   ]
  },
  {
   "cell_type": "markdown",
   "metadata": {},
   "source": [
    "**ratcheting**은 평균 응력에 추가로 부여된 열응력 싸이클 또는 기계적 응력 싸이클에 노출된 지점에서 발생하는 점진적이고 증가하는 비탄성 변형 또는 변형률 또는 둘다 이다."
   ]
  },
  {
   "cell_type": "markdown",
   "metadata": {},
   "source": [
    "(**thermal ratcheting**은 부분적으로 또는 전체적으로 열응력에 의해 발생한다.) ratcheting은 전체 단면에 작용하는 지속적인 교번 하중에 의해 생산된다. ratcheting은 반복적인 재료 변형률을 발생시키며, 이는 피로에 의한 파손을 일으킬 수 있으며 동시에 파손 메커니즘의 반복적인 증가를 발생시켜 결국 붕괴에 이르게 할 수 있다. racheting은 전체 치수에 대한 점진적인 증가를 의미하는 파손모드이다."
   ]
  },
  {
   "cell_type": "markdown",
   "metadata": {},
   "source": [
    "<img src='Figure 55.5.PNG'>"
   ]
  },
  {
   "cell_type": "markdown",
   "metadata": {},
   "source": [
    "## 14. TEMPERATURE EFFECTS"
   ]
  },
  {
   "cell_type": "markdown",
   "metadata": {},
   "source": [
    "표 55.5는 온도에 따른 철(ferrous)재료에 대한 탄성계수를 보여준다."
   ]
  },
  {
   "cell_type": "markdown",
   "metadata": {},
   "source": [
    "<img src='Table 55.5.PNG'>"
   ]
  },
  {
   "cell_type": "markdown",
   "metadata": {},
   "source": [
    "## 15. IMPACT TESTING"
   ]
  },
  {
   "cell_type": "markdown",
   "metadata": {},
   "source": [
    "압력용기가 극저온(cryogenic) 유체를 다루도록 설계되거나, 심한 겨울 온도에 노출될 경우 **취성 파괴**를 고려해야 한다. 설계 온도가 매우 낮을 경우 **notch-tough 재료**만 사용해야 한다. 노치 인성(notch toughness)은 압력용기 재료에 대한 **충격시험(impact test)** 을 통해 결정된다. 충격 시험은 cutoff 온도 보다 낮은 온도에서 수행되어야 하며, 이 온도는 재료 및 쉘 두께에 따라 다르다. 보통, 대부분 철(ferrous) 금속은 설계 온도가 -20℉(-29℃)보다 낮을 경우 특별한 주의를 기울여야 한다."
   ]
  },
  {
   "cell_type": "markdown",
   "metadata": {},
   "source": [
    "wrought 알루미늄으로 제작된 용기는 저온에서도 연성 감소가 거의 없기 때문에 설계 온도가 -452℉ (-269℃)보다 낮지 않으면 충격시험이 요구되지 않는다. 구리 및 구리 합금, 니켈 및 니켈 합금, cast 알루미늄 합금은 -325℉(-254℃)까지 사용 가능하며, 티타늄 또는 지르코늄 및 이들의 합금은 -75℉(-59℃)까지 사용 가능하고 그 이하에서는 충격 시험이 요구된다."
   ]
  },
  {
   "cell_type": "markdown",
   "metadata": {},
   "source": [
    "다음 5가지 조건을 만족하는 grade 1 또는 2 탄소 강의 경우 충격시험은 요구되지 않는다.\n",
    "(1) 벽 두께가 1/2 in (12.7 mm) 또는 재료에 따라 1 in (25.4 mm)보다 크지 않은 경우\n",
    "(2) 제작 완료 된 용기에 대해 수압 시험이 수행되는 경우\n",
    "(3) 설계 온도가 -20℉ ~ 650℉ (-29℃ ~ 343℃)인 경우\n",
    "(4) 열 또는 기계적 충격 하중이 설계를 제어하는 요소가 아닌 경우\n",
    "(5) 반복 하중이 설계요건을 제어하지 않는 경우"
   ]
  },
  {
   "cell_type": "code",
   "execution_count": null,
   "metadata": {},
   "outputs": [],
   "source": []
  }
 ],
 "metadata": {
  "kernelspec": {
   "display_name": "Python 3",
   "language": "python",
   "name": "python3"
  },
  "language_info": {
   "codemirror_mode": {
    "name": "ipython",
    "version": 3
   },
   "file_extension": ".py",
   "mimetype": "text/x-python",
   "name": "python",
   "nbconvert_exporter": "python",
   "pygments_lexer": "ipython3",
   "version": "3.7.4"
  }
 },
 "nbformat": 4,
 "nbformat_minor": 2
}
