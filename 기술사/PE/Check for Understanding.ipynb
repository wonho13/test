{
 "cells": [
  {
   "cell_type": "markdown",
   "metadata": {
    "heading_collapsed": true
   },
   "source": [
    "## 1. Structure of Matter and the Periodic Table"
   ]
  },
  {
   "cell_type": "markdown",
   "metadata": {
    "hidden": true
   },
   "source": [
    "1. Which of the following is a correct interpretation of the results of Rutherford’s experiments in which gold atoms were bombarded with alpha particles?"
   ]
  },
  {
   "cell_type": "markdown",
   "metadata": {
    "hidden": true
   },
   "source": [
    "A) Atoms have equal numbers of positive and negative charges.\n",
    "\n",
    "B) Electrons in atoms are arranged in shells.\n",
    "\n",
    "C) Neutrons are at the center of an atom.\n",
    "\n",
    "D) Neutrons and protons in atoms have nearly equal mass.\n",
    "\n",
    "E) The positive charge of an atom is concentrated in a small region. "
   ]
  },
  {
   "cell_type": "markdown",
   "metadata": {
    "hidden": true
   },
   "source": [
    "2. What is the correct ground state electron configuration for Fe?"
   ]
  },
  {
   "cell_type": "markdown",
   "metadata": {
    "hidden": true
   },
   "source": [
    "A) $1s^2 2s^2 2p^6 3s^2 3p^6 3d^6$\n",
    "\n",
    "B) $1s^2 2s^2 2p^6 3s^2 3p^6 4s^2 3d^6$\n",
    "\n",
    "C) $1s^2 2s^2 2p^6 3s^2 3p^6 3d^8$\n",
    "\n",
    "D) $1s^2 2s^2 2p^6 3s^2 3p^6 4s^1 3d^7$ \n",
    "\n",
    "E) $1s^2 2s^2 2p^6 3s^2 3p^6 3d^5$"
   ]
  },
  {
   "cell_type": "markdown",
   "metadata": {
    "hidden": true
   },
   "source": [
    "3. Based on their positions in the periodic table, list the following atoms in order of increasing radius: Mg, Ca, Rb, Cs."
   ]
  },
  {
   "cell_type": "markdown",
   "metadata": {
    "hidden": true
   },
   "source": [
    "A) $Mg \\lt Ca \\lt Rb \\lt Cs$\n",
    "\n",
    "B) $Mg \\lt Rb \\lt Ca \\lt Cs$\n",
    "\n",
    "C) $Cs \\lt Rb \\lt Ca \\lt Mg$\n",
    "\n",
    "D) $Cs \\lt Rb \\lt Mg \\lt Ca$\n",
    "\n",
    "E) $Ca \\lt Cs \\lt Mg \\lt Rb$"
   ]
  },
  {
   "cell_type": "markdown",
   "metadata": {
    "hidden": true
   },
   "source": [
    "4. Predict by what mode(s) of spontaneous radioactive decay the unstable isotope $_2^6 He$ might proceed."
   ]
  },
  {
   "cell_type": "markdown",
   "metadata": {
    "hidden": true
   },
   "source": [
    "A) alpha decay\n",
    "\n",
    "B) positron emission \n",
    "\n",
    "C) electron capture\n",
    "\n",
    "D) beta decay\n",
    "\n",
    "E) gamma decay"
   ]
  },
  {
   "cell_type": "markdown",
   "metadata": {
    "heading_collapsed": true,
    "hidden": true
   },
   "source": [
    "### 답"
   ]
  },
  {
   "cell_type": "markdown",
   "metadata": {
    "hidden": true
   },
   "source": [
    "1-E, 2-B, 3-A, 4-D"
   ]
  },
  {
   "cell_type": "markdown",
   "metadata": {},
   "source": [
    "## 2. Equations and Stoichiometry"
   ]
  },
  {
   "cell_type": "markdown",
   "metadata": {},
   "source": [
    "1. $...P_4O_{10} +... Ca(OH)_2 \\rightarrow ...Ca_3(PO_4)_2 +...H_2O$\n",
    "\n",
    "When the chemical equation above is balanced in terms of lowest whole-number coefficients, the coefficient for $H_2O$ is"
   ]
  },
  {
   "cell_type": "markdown",
   "metadata": {},
   "source": [
    "A) 1\n",
    "\n",
    "B) 2\n",
    "\n",
    "C) 3\n",
    "\n",
    "D) 6 \n",
    "\n",
    "E) 8"
   ]
  },
  {
   "cell_type": "markdown",
   "metadata": {},
   "source": [
    "2. Urea, $CO(NH_2)_2$, is manufactured on a large scale for use in producing urea-formaldehyde plastics and as a fertilizer. What is the maximum mass of urea that can be manufactured from the $CO_2$ produced by combustion of $1.00 \\times 10^3$ kg of carbon followed by the reaction?\n",
    "\n",
    "$CO_2(g) + 2NH_3(g) ⟶ CO (NH_2)_2(s) + H_2O(l)$"
   ]
  },
  {
   "cell_type": "markdown",
   "metadata": {},
   "source": [
    "A) $1.00\\times10^3 kg$\n",
    "\n",
    "B) $3.00\\times10^3 kg$\n",
    "\n",
    "C) $5.00\\times10^3 kg$\n",
    "\n",
    "D) $16.7 kg$\n",
    "\n",
    "E) $1.36\\times10^3 kg$"
   ]
  },
  {
   "cell_type": "markdown",
   "metadata": {},
   "source": [
    "3. What volume of a 0.2089 M $KI$ solution contains enough $KI$ to react exactly with the $Cu(NO_3)_2$ in 43.88 mL of a 0.3842 M solution of $Cu(NO_3)_2$?\n",
    "\n",
    "$2Cu(NO_3)_2 + 4KI ⟶ 2CuI + I_2 + 4KNO_3$"
   ]
  },
  {
   "cell_type": "markdown",
   "metadata": {},
   "source": [
    "A) 161.4 mL \n",
    "\n",
    "B) 80.70 mL\n",
    "\n",
    "C) 40.35 mL\n",
    "\n",
    "D) 546.7 mL\n",
    "\n",
    "E) 273.3 mL"
   ]
  },
  {
   "cell_type": "markdown",
   "metadata": {},
   "source": [
    "4. A sample of 0.53 g of carbon dioxide was obtained by heating 1.31 g of calcium carbonate. What is the percent yield for this reaction?\n",
    "\n",
    "$CaCO_3(s) ⟶ CaO(s) + CO_2(s)$"
   ]
  },
  {
   "cell_type": "markdown",
   "metadata": {},
   "source": [
    "A) 40. %\n",
    "\n",
    "B) 0.92 %\n",
    "\n",
    "C) 0.40 %\n",
    "\n",
    "D) 100. %\n",
    "\n",
    "E) 92 % "
   ]
  },
  {
   "cell_type": "markdown",
   "metadata": {},
   "source": [
    "5. In a laboratory experiment, the reaction of 3.0 mol of $H_2$ with 2.0 mol of $I_2$ produced 1.0 mol of $HI$. Determine the theoretical number of moles that could be produced in this reaction."
   ]
  },
  {
   "cell_type": "markdown",
   "metadata": {},
   "source": [
    "A) 0.5 mol\n",
    "\n",
    "B) 1.0 mol\n",
    "\n",
    "C) 2.0 mol\n",
    "\n",
    "D) 3.0 mol\n",
    "\n",
    "E) 4.0 mol "
   ]
  },
  {
   "cell_type": "markdown",
   "metadata": {},
   "source": [
    "6. $3 Ag(s) + 4 HNO_3 → 3 AgNO_3 + NO(g) + 2 H_2O$"
   ]
  },
  {
   "cell_type": "markdown",
   "metadata": {},
   "source": [
    "The reaction of silver metal and dilute nitric acid proceeds according to the equation above. If 0.10 mole of powdered silver is added to 10. milliliters of 6.0-molar nitric acid, the number of moles of NO gas that can be formed is"
   ]
  },
  {
   "cell_type": "markdown",
   "metadata": {},
   "source": [
    "A) 0.015 mole \n",
    "\n",
    "B) 0.020 mole\n",
    "\n",
    "C) 0.030 mole\n",
    "\n",
    "D) 0.045 mole\n",
    "\n",
    "E) 0.090 mole"
   ]
  },
  {
   "cell_type": "markdown",
   "metadata": {},
   "source": [
    "### 답"
   ]
  },
  {
   "cell_type": "markdown",
   "metadata": {},
   "source": [
    "1-D, 2-C, 3-A, 4-E, 5-E, 6-A"
   ]
  },
  {
   "cell_type": "markdown",
   "metadata": {},
   "source": [
    "## 3. Phases of Matter"
   ]
  },
  {
   "cell_type": "markdown",
   "metadata": {},
   "source": [
    "1. Which of the following represents the number of moles of an ideal gas in a 2.0 L container at 3.0 atm and 450 K ?"
   ]
  },
  {
   "cell_type": "markdown",
   "metadata": {},
   "source": [
    "A) $\\frac{(3.0)(450)}{(0.0821)(2.0)} mol$\n",
    "\n",
    "B) $\\frac{(3.0)(2.0)}{(0.0821)(450)} mol$\n",
    "\n",
    "C) $\\frac{(450)(2.0)}{(0.0821)(3.0)} mol$\n",
    "\n",
    "D) $\\frac{(0.0821)(450)}{(3.0)(2.0)} mol$\n",
    "\n",
    "E) $\\frac{(0.0821)(2.0)}{(3.0)(450)} mol$"
   ]
  },
  {
   "cell_type": "markdown",
   "metadata": {},
   "source": [
    "2. Each of three flexible vessels contains a gas at the same temperature and pressure. The first contains 2.0 g of $H_2 (g)$, the second contains 32.0 g of $O_2 (g)$, and the third contains 44.0 g of $CO_2 (g)$. Which of the following statements about the gases is FALSE?"
   ]
  },
  {
   "cell_type": "markdown",
   "metadata": {},
   "source": [
    "A) The densities of the gases increase in the order $H_2 \\lt O_2 \\lt CO_2$.\n",
    "\n",
    "B) The number of molecules in each of the three vessels is the same.\n",
    "\n",
    "C) The volume of each of the three vessels is the same.\n",
    "\n",
    "D) The average kinetic energy of the molecules in each of the vessels is the same.\n",
    "\n",
    "E) The average speed of the molecules in each of the vessels is the same."
   ]
  },
  {
   "cell_type": "markdown",
   "metadata": {},
   "source": [
    "3. In the formation of 1.0 mole of the following crystalline solids from the gaseous ions, the most energy is released by"
   ]
  },
  {
   "cell_type": "markdown",
   "metadata": {},
   "source": [
    "A) $NaF$\n",
    "\n",
    "B) $MgF_2$\n",
    "\n",
    "C) $BrBr_2$\n",
    "\n",
    "D) $AlF_3$\n",
    "\n",
    "E) $AlBr_3$"
   ]
  },
  {
   "cell_type": "markdown",
   "metadata": {},
   "source": [
    "4. The critical temperature of a substance is the"
   ]
  },
  {
   "cell_type": "markdown",
   "metadata": {},
   "source": [
    "A) temperature at which the vapor pressure of the liquid is equal to the external pressure\n",
    "\n",
    "B) temperature at which the vapor pressure of the liquid is equal to 760 mm Hg\n",
    "\n",
    "C) temperature at which the solid, liquid, and vapor phases are all in equilibrium\n",
    "\n",
    "D) temperature at which the liquid and vapor phases are in equilibrium at 1 atmosphere\n",
    "\n",
    "E) lowest temperature above which a substance cannot be liquefied at any applied pressure "
   ]
  },
  {
   "cell_type": "markdown",
   "metadata": {},
   "source": [
    "5. A cylinder of a gas mixture used for calibration of blood gas analyzers in medical laboratories contains 5.0% $CO_2,$ 12.0% $O_2,$ and the remainder $N_2$ at a total pressure of 146 atm. What is the partial pressure of nitrogen in this gas? (The percentages given indicate the percent of the total pressure that is due to each component.)"
   ]
  },
  {
   "cell_type": "markdown",
   "metadata": {},
   "source": [
    "A) 146 atm\n",
    "\n",
    "B) 7.3 atm\n",
    "\n",
    "C) 17.5 atm\n",
    "\n",
    "D) 121 atm \n",
    "\n",
    "E) Cannot be determined."
   ]
  },
  {
   "cell_type": "markdown",
   "metadata": {},
   "source": [
    "6. What is osmotic pressure of a solution of bovine insulin (molar mass, 5700 g mol$^{−1}$) at 18 °C if 100.0 mL of the solution contains 0.103 g of the insulin?"
   ]
  },
  {
   "cell_type": "markdown",
   "metadata": {},
   "source": [
    "A) 3.28 mmHg \n",
    "\n",
    "B) 4.32$\\times$10$^{-2}$ mmHg\n",
    "\n",
    "C) 0.15 mmHg\n",
    "\n",
    "D) 1.61 mmHg\n",
    "\n",
    "E) 0.32 mmHg"
   ]
  },
  {
   "cell_type": "markdown",
   "metadata": {},
   "source": [
    "7. The vapor pressure of methanol, $CH_3OH$, is 94 torr at 20 °C. The vapor pressure of ethanol, $C_2H_5OH$, is 44 torr at the same temperature. Ethanol and methanol form a solution that behaves like an ideal solution. Calculate the vapor pressure of a mixture of 50.0 g methanol and of 50.0 g ethanol above the solution at 20 °C."
   ]
  },
  {
   "cell_type": "markdown",
   "metadata": {},
   "source": [
    "A) 138 torr\n",
    "\n",
    "B) 69 torr\n",
    "\n",
    "C) 73 torr \n",
    "\n",
    "D) 197 torr\n",
    "\n",
    "E) 760 torr"
   ]
  },
  {
   "cell_type": "markdown",
   "metadata": {},
   "source": [
    "<img src='chem-q8-module2.png'>"
   ]
  },
  {
   "cell_type": "markdown",
   "metadata": {},
   "source": [
    "8. The test tubes shown here (labeled A to D, from left to right) contain equal amounts of the specified motor oils. Identical metal spheres were dropped at the same time into each of the tubes, and a brief moment later, the spheres had fallen to the heights indicated in the illustration."
   ]
  },
  {
   "cell_type": "markdown",
   "metadata": {},
   "source": [
    "A) $A \\lt B \\lt C \\lt D$\n",
    "\n",
    "B) $D \\lt C \\lt B \\lt A$\n",
    "\n",
    "C) $A = B = C = D$\n",
    "\n",
    "D) $A = B \\lt C \\lt D$\n",
    "\n",
    "E) $A = B,\\ C = D$"
   ]
  },
  {
   "cell_type": "markdown",
   "metadata": {},
   "source": [
    "9. Which of the following reactions will not form a precipitate?"
   ]
  },
  {
   "cell_type": "markdown",
   "metadata": {},
   "source": [
    "A) $K_2C_2O_4(aq) + Ba(OH)_2(aq) \\rightarrow$\n",
    "\n",
    "B) $Pb(NO_3)_2(aq) + H_2SO_4(aq) \\rightarrow$\n",
    "\n",
    "C) $CaCO_3(s) + H_2SO_4(aq) \\rightarrow$\n",
    "\n",
    "D) $AgNO_3(aq) + NaI(aq) \\rightarrow$\n",
    "\n",
    "E) $Na_2CO_3(aq) + HCl(aq) \\rightarrow$"
   ]
  },
  {
   "cell_type": "markdown",
   "metadata": {},
   "source": [
    "10. Automotive air bags inflate when a sample of sodium azide, $NaN_3$, is very rapidly decomposed.\n",
    "\n",
    "$2NaN_3(s) ⟶ 2Na(s) + 3N_2(g)$\n",
    "\n",
    "What mass of sodium azide is required to produce 2.6 ft$^3$ (73.6 L) of nitrogen gas with a density of 1.25 g/L?"
   ]
  },
  {
   "cell_type": "markdown",
   "metadata": {},
   "source": [
    "A) 105 g\n",
    "\n",
    "B) 163 g\n",
    "\n",
    "C) 3.76 g\n",
    "\n",
    "D) 316 g \n",
    "\n",
    "E) 366 g"
   ]
  },
  {
   "cell_type": "markdown",
   "metadata": {},
   "source": [
    "11. Equal numbers of moles of $H_2(g)$, $Ar(g)$, and $N_2(g)$ are placed in a glass vessel at room temperature. If the vessel has a pinhole-sized leak, which of the following will be true regarding the relative values of the partial pressures of the gases remaining in the vessel after some of the gas mixture has effused?"
   ]
  },
  {
   "cell_type": "markdown",
   "metadata": {},
   "source": [
    "A) $P_{H_2} \\lt P_{N_2} \\lt P_{Ar}$\n",
    "\n",
    "B) $P_{H_2} \\lt P_{Ar} \\lt P_{N_2}$\n",
    "\n",
    "C) $P_{N_2} \\lt P_{Ar} \\lt P_{H_2}$\n",
    "\n",
    "D) $P_{Ar} \\lt P_{H_2} \\lt P_{N_2}$\n",
    "\n",
    "E) $P_{H_2} = P_{Ar} = P_{N_2}$"
   ]
  },
  {
   "cell_type": "markdown",
   "metadata": {},
   "source": [
    "### 답"
   ]
  },
  {
   "cell_type": "markdown",
   "metadata": {},
   "source": [
    "1-B, 2-E, 3-D, 4-E, 5-D, 6-A, 7-C, 8-A, 9-E, 10-B, 11-A"
   ]
  },
  {
   "cell_type": "markdown",
   "metadata": {},
   "source": [
    "## 4. Bonding and Intermolecular Forces"
   ]
  },
  {
   "cell_type": "markdown",
   "metadata": {},
   "source": [
    "1. The attractions between atoms within a molecule of $NH_3$ are best characterized as"
   ]
  },
  {
   "cell_type": "markdown",
   "metadata": {},
   "source": [
    "A) hydrogen bonds\n",
    "\n",
    "B) ionic bonds\n",
    "\n",
    "C) polar covalent bonds \n",
    "\n",
    "D) London (dispersion) forces\n",
    "\n",
    "E) ion-dipole forces"
   ]
  },
  {
   "cell_type": "markdown",
   "metadata": {},
   "source": [
    "2. The geometry of the $SO_3$ molecule is best described as"
   ]
  },
  {
   "cell_type": "markdown",
   "metadata": {},
   "source": [
    "A) trigonal planar \n",
    "\n",
    "B) trigonal pyramidal\n",
    "\n",
    "C) square pyramidal\n",
    "\n",
    "D) bent\n",
    "\n",
    "E) tetrahedral"
   ]
  },
  {
   "cell_type": "markdown",
   "metadata": {},
   "source": [
    "3. Pi (π) bonding occurs in each of the following species EXCEPT"
   ]
  },
  {
   "cell_type": "markdown",
   "metadata": {},
   "source": [
    "A) $CO_2$\n",
    "\n",
    "B) $C_2H_4$\n",
    "\n",
    "C) $CN^-$\n",
    "\n",
    "D) $C_6H_6$\n",
    "\n",
    "E) $CH_4$"
   ]
  },
  {
   "cell_type": "markdown",
   "metadata": {},
   "source": [
    "4. \n",
    "\n",
    "<img src=\"chem-q7-module1.png\">\n",
    "\n",
    "Methionine, $CH_3 SCH_2 CH_2 CH(NH_2)CO_2 H$, is an amino acid found in proteins.\n",
    "\n",
    "What is the hybridization type of the nitrogen?"
   ]
  },
  {
   "cell_type": "markdown",
   "metadata": {},
   "source": [
    "A) $sp$\n",
    "\n",
    "B) $sp^2$\n",
    "\n",
    "C) $sp^3$\n",
    "\n",
    "D) $sp^4$\n",
    "\n",
    "E) $dsp^3$"
   ]
  },
  {
   "cell_type": "markdown",
   "metadata": {},
   "source": [
    "1-C, 2-A, 3-E, 4-C"
   ]
  },
  {
   "cell_type": "markdown",
   "metadata": {},
   "source": []
  }
 ],
 "metadata": {
  "kernelspec": {
   "display_name": "Python 3",
   "language": "python",
   "name": "python3"
  },
  "language_info": {
   "codemirror_mode": {
    "name": "ipython",
    "version": 3
   },
   "file_extension": ".py",
   "mimetype": "text/x-python",
   "name": "python",
   "nbconvert_exporter": "python",
   "pygments_lexer": "ipython3",
   "version": "3.7.3"
  },
  "latex_envs": {
   "LaTeX_envs_menu_present": true,
   "autoclose": false,
   "autocomplete": true,
   "bibliofile": "biblio.bib",
   "cite_by": "apalike",
   "current_citInitial": 1,
   "eqLabelWithNumbers": true,
   "eqNumInitial": 1,
   "hotkeys": {
    "equation": "Ctrl-E",
    "itemize": "Ctrl-I"
   },
   "labels_anchors": false,
   "latex_user_defs": false,
   "report_style_numbering": false,
   "user_envs_cfg": false
  }
 },
 "nbformat": 4,
 "nbformat_minor": 4
}
