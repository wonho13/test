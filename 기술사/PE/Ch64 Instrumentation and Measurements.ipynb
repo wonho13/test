{
 "cells": [
  {
   "cell_type": "markdown",
   "metadata": {},
   "source": [
    "## 18 STRAIN GAUGES"
   ]
  },
  {
   "cell_type": "markdown",
   "metadata": {},
   "source": [
    "bonded strain gauge는 금속 저항 측정 장비이며, 응력을 받지 않는 부재의 표면에 접합된다. gauge는 backing(AKA subatrate)에 있는 금속 도체(AKA grid)로 구성된다. substrate와 grid는 부재의 표면으로써 동일한 변형을 겪는다. gauge의 저항은 부재가 응력을 받음에 따라 변하는데, 이는 변형에 따른 자체 저항 변화 및 도선의 단면적 변화 때문이다. 회로를 구성하거나 브릿지 측정 시스템을 통한 second unstrained gauge를 적용하여 온도 영향을 반드시 보상해야 한다."
   ]
  },
  {
   "cell_type": "markdown",
   "metadata": {},
   "source": [
    "2개 또는 그 이상의 방향에 대한 변형률을 동시에 측정해야 할 경우, 상용 rosette strain gauge를 사용하면 편리하다. rosette는 2개 또는 그 이상의 grid들로 구성되며, 그 방향이 적절히 설정되어 1개의 unit을 구성한다. (Fig 64.5 참조)"
   ]
  },
  {
   "cell_type": "markdown",
   "metadata": {},
   "source": [
    "gage factor (strain sensitivity factor) GF는 gauge의 측정 축 방향에 대하여 길이변화량에 대한 저항 변화량의 비율을 의미한다. gage factor가 클수록 gauge의 sensitivity는 커진다. gage factor는 gauge 재료에 대한 함수이다. gage factor는 grid의 재료 물성치와 형상을 통해 계산할 수 있다. 하지만 실질적인 관점에서 gage factor와 gage resistance는 gauge 제작자가 제공한다. 단지 저항의 변화량만 측정될 뿐이다. (Table 64.5 참고)"
   ]
  },
  {
   "cell_type": "markdown",
   "metadata": {},
   "source": [
    "$$GF=1+2\\nu+\\frac{\\frac{\\Delta \\rho}{\\rho_0}}{\\frac{\\Delta L}{L_0}}=\\frac{\\frac{\\Delta R_g}{R_g}}{\\frac{\\Delta L}{L_0}}=\\frac{\\frac{\\Delta R_g}{R_g}}{\\epsilon}\\tag{64.10}$$"
   ]
  }
 ],
 "metadata": {
  "kernelspec": {
   "display_name": "Python 3",
   "language": "python",
   "name": "python3"
  },
  "language_info": {
   "codemirror_mode": {
    "name": "ipython",
    "version": 3
   },
   "file_extension": ".py",
   "mimetype": "text/x-python",
   "name": "python",
   "nbconvert_exporter": "python",
   "pygments_lexer": "ipython3",
   "version": "3.8.3"
  }
 },
 "nbformat": 4,
 "nbformat_minor": 4
}
