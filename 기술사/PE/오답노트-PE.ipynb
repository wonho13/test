{
 "cells": [
  {
   "cell_type": "markdown",
   "metadata": {},
   "source": [
    "## NCEES Practice Exam"
   ]
  },
  {
   "cell_type": "markdown",
   "metadata": {},
   "source": [
    "### - 2개 hole & pin : 양끝단 길이 기준으로 계산"
   ]
  },
  {
   "cell_type": "markdown",
   "metadata": {},
   "source": [
    "### - 보기와 계산한 답 정확히 비교해보기"
   ]
  },
  {
   "cell_type": "markdown",
   "metadata": {},
   "source": [
    "### - Increased by T = ΔT (T0 는 fake)\n",
    "\n",
    "### - Increased to T = T1 (ΔT=T1-T0)"
   ]
  },
  {
   "cell_type": "markdown",
   "metadata": {},
   "source": [
    "### - 단위 주의 (in, ft) : g = 386.4 (in 단위) or 32.2 (ft 단위)"
   ]
  },
  {
   "cell_type": "markdown",
   "metadata": {},
   "source": [
    "### - 압축하중 평가 : 좌굴평가 후 만족하면 압축응력 평가. 좌굴 평가시 (SF)Pcr : 안전율 위치 주의!"
   ]
  },
  {
   "cell_type": "markdown",
   "metadata": {},
   "source": [
    "### - Mass Moment of Inertia는 반드시 매뉴얼을 확인 후 적용. ($T=I\\alpha$ 등 적용시)"
   ]
  },
  {
   "cell_type": "markdown",
   "metadata": {},
   "source": [
    "### -  효율, 안전율 : 검산 시 효율, 안전율 없이 계산한 후 구하려는 값이 커져야 되는지 작아져야 되는지 생각해본다"
   ]
  },
  {
   "cell_type": "markdown",
   "metadata": {},
   "source": [
    "### - Luder's band 보이는 재료 : Mild Steel, Al-Mg Alloy"
   ]
  },
  {
   "cell_type": "markdown",
   "metadata": {},
   "source": [
    "### - Weld 식 : J 구할 때는 Ju에 throat size($\\frac{h}{\\sqrt{2}}$) 곱해야 됨 / h = weld size / $\\frac{h}{\\sqrt{2}}$=throat size"
   ]
  },
  {
   "cell_type": "markdown",
   "metadata": {},
   "source": [
    "### - Strain Gauge 설치 방향 : 주응력 발생 방향(비틀림= 45도, 인장=0도)"
   ]
  },
  {
   "cell_type": "markdown",
   "metadata": {},
   "source": [
    "### - Bolt에 Spacer 추가 : 충격에 강해짐"
   ]
  },
  {
   "cell_type": "markdown",
   "metadata": {},
   "source": [
    "### - Bolt Grade : 매뉴얼 SAE Grade 표에 물성 있음. 단면은 별말 없으면 UNC 값 사용"
   ]
  },
  {
   "cell_type": "markdown",
   "metadata": {},
   "source": [
    "### - Tan 계산시 : 길이가 대각선 값인지 아닌지 항상 주의할 것"
   ]
  },
  {
   "cell_type": "markdown",
   "metadata": {},
   "source": [
    "=============================================================================================================="
   ]
  },
  {
   "cell_type": "markdown",
   "metadata": {},
   "source": [
    "## Eng Pro Guide"
   ]
  },
  {
   "cell_type": "markdown",
   "metadata": {},
   "source": [
    "<img src='roughness.PNG'>"
   ]
  },
  {
   "cell_type": "markdown",
   "metadata": {},
   "source": [
    "### - Shaft Cycle 수명 늘리는 방법\n",
    "\n",
    "(1) G(Shear Modulus) 증가\n",
    "\n",
    "(2) I or J (Moment of Inertia) 증가\n",
    "\n",
    "(3) Tempering = 인성 증가\n",
    "\n",
    "* RPM은 Cycle 수명과 무관함"
   ]
  },
  {
   "cell_type": "markdown",
   "metadata": {},
   "source": [
    "### - Fracture point = Breaking point"
   ]
  },
  {
   "cell_type": "markdown",
   "metadata": {},
   "source": [
    "### - Creep\n",
    "\n",
    "(1) 녹느점의 40% 온도에서 시작\n",
    "\n",
    "(2) 녹는점 높을수록 Creep 안됨\n",
    "\n",
    "* 항복강도는 무관"
   ]
  },
  {
   "cell_type": "markdown",
   "metadata": {},
   "source": [
    "### - Journal Bearing\n",
    "\n",
    "Sommerfeld Number = Bearing Characteristic Number\n",
    "\n",
    "$S=\\left(\\frac{r}{c}\\right)^2\\frac{\\mu N}{P}$"
   ]
  },
  {
   "cell_type": "markdown",
   "metadata": {},
   "source": []
  },
  {
   "cell_type": "markdown",
   "metadata": {},
   "source": [
    "=============================================================================================================="
   ]
  },
  {
   "cell_type": "markdown",
   "metadata": {},
   "source": [
    "## Ch 46 Indeterminate Statics"
   ]
  },
  {
   "cell_type": "markdown",
   "metadata": {},
   "source": [
    "### - 빔 처짐 공식"
   ]
  },
  {
   "cell_type": "markdown",
   "metadata": {},
   "source": [
    "<img src='beam_deflection.PNG'>"
   ]
  },
  {
   "cell_type": "markdown",
   "metadata": {},
   "source": [
    "### - Multiple Support Beam (모멘트 공식)"
   ]
  },
  {
   "cell_type": "markdown",
   "metadata": {},
   "source": [
    "$M_k L_k+2M_{k+1}(L_k+L_{k+1})+M_{k+2}L_{k+1}=-6\\left(\\frac{A_k \\;a}{L_k}+\\frac{A_{k+1}\\; b}{L_{k+1}}\\right)$"
   ]
  },
  {
   "cell_type": "markdown",
   "metadata": {},
   "source": [
    "$M_k$ : k번째 support에서의 모멘트. (양 끝단 support의 모멘트는 0임)\n",
    "\n",
    "$L_k$ : k~k+1 support 사이의 거리\n",
    "\n",
    "$A_k$ : k~k+1 support 사이만 존재한다고 가정하고 그린 모멘트 선도의 넓이\n",
    "\n",
    "a : k~k+1 support 사이만 존재한다고 가정하고 그린 모멘트 선도의 넓이 중심 위치 (왼쪽 support에서 부터 거리)\n",
    "\n",
    "b : k~k+1 support 사이만 존재한다고 가정하고 그린 모멘트 선도의 넓이 중심 위치 (오른쪽 support에서 부터 거리)"
   ]
  },
  {
   "cell_type": "markdown",
   "metadata": {},
   "source": [
    "=============================================================================================================="
   ]
  },
  {
   "cell_type": "markdown",
   "metadata": {},
   "source": [
    "## Ch 47 Engineering Materials"
   ]
  },
  {
   "cell_type": "markdown",
   "metadata": {},
   "source": [
    "### - Degree of Polymerization"
   ]
  },
  {
   "cell_type": "markdown",
   "metadata": {},
   "source": [
    "$DP=\\frac{MW_{polymer}}{MW_{mer}}$"
   ]
  },
  {
   "cell_type": "markdown",
   "metadata": {},
   "source": [
    "=============================================================================================================="
   ]
  },
  {
   "cell_type": "markdown",
   "metadata": {},
   "source": [
    "## Ch 48 Material Properties and Testing"
   ]
  },
  {
   "cell_type": "markdown",
   "metadata": {},
   "source": [
    "### - 동소체(Allotrope) : 온도에 따라 다른 조직 구조 같는 것들"
   ]
  },
  {
   "cell_type": "markdown",
   "metadata": {},
   "source": [
    "### - scleroscopic test\n",
    "\n",
    "* 경도측정 시험\n",
    "* ASTM 기준시험\n",
    "* 큰 물체에 적용 \n",
    "* 다이아몬드 팁 망치를 정해진 높이에서 낙하, 튀어오른 높이로 경도 판단\n",
    "\n",
    "### -  charpy test\n",
    "\n",
    "* 인성(toughness) 측정 시험\n",
    "\n",
    "* Fracture engery(직접), 천이온도(간접) 측정"
   ]
  },
  {
   "cell_type": "markdown",
   "metadata": {},
   "source": [
    "=============================================================================================================="
   ]
  },
  {
   "cell_type": "markdown",
   "metadata": {},
   "source": [
    "## Ch 49 Thermal Treatment of Metals"
   ]
  },
  {
   "cell_type": "markdown",
   "metadata": {},
   "source": [
    "### - 비철금속(nonferous)은 동소체 없음. 열처리 무의미."
   ]
  },
  {
   "cell_type": "markdown",
   "metadata": {},
   "source": [
    "### - 알루미늄의 석출경화(Precipitation Hardening)  = 시효경화(Age Hardening) 순서\n",
    "* 석출(Precipitation)\n",
    "* 담금질(Quenching)\n",
    "* 인공시효(Artificial Aging)"
   ]
  },
  {
   "cell_type": "markdown",
   "metadata": {},
   "source": [
    "=============================================================================================================="
   ]
  },
  {
   "cell_type": "markdown",
   "metadata": {},
   "source": [
    "## Ch 51 Strength of Materials"
   ]
  },
  {
   "cell_type": "markdown",
   "metadata": {},
   "source": [
    "### - Bolt와 Member의 열팽창 : (1) 열팽창에 의해 Bolt와 Member가 늘어남 (2) 늘어난 길이 차($\\delta=\\frac{PL}{EA}$) 만큼 Bolt에 응력 걸림 => 볼트의 인장력이 Member를 압축시키지 못함"
   ]
  },
  {
   "cell_type": "markdown",
   "metadata": {},
   "source": [
    "### - 빔의 최대 모멘트 : 전단력 선도 그린 후 전단력이 0인 지점에서 모멘트 최대임. 모멘트 선도는 전단력 선도를 적분."
   ]
  },
  {
   "cell_type": "markdown",
   "metadata": {},
   "source": [
    "### - Section modulus"
   ]
  },
  {
   "cell_type": "markdown",
   "metadata": {},
   "source": [
    "* 원 : $\\frac{\\pi d^4}{64} \\times \\frac{2}{d}$\n",
    "\n",
    "* 사각 : $\\frac{bh^3}{12}\\times \\frac{2}{h}$"
   ]
  },
  {
   "cell_type": "markdown",
   "metadata": {},
   "source": [
    "### - 단순지지보의 처짐 (중간에 하중이 가해진 경우)"
   ]
  },
  {
   "cell_type": "markdown",
   "metadata": {},
   "source": [
    "* $\\delta'=\\frac{PL_1^3}{3EI}$\n",
    "\n",
    "\n",
    "* $\\theta = \\frac{PL_1^2}{2EI} $\n",
    "\n",
    "\n",
    "* $\\delta = \\delta' + \\theta L_2$"
   ]
  },
  {
   "cell_type": "markdown",
   "metadata": {},
   "source": [
    "### - 인장하중을 받는 봉의 총 길이(total length) = L(원래길이)+$\\delta$(늘어난 길이)  -> 원래 길이만 구하고 끝내지 말자"
   ]
  },
  {
   "cell_type": "markdown",
   "metadata": {},
   "source": [
    "### - 최대응력(Maximum Stress) = Principal Stress"
   ]
  },
  {
   "cell_type": "markdown",
   "metadata": {},
   "source": [
    "$\\sigma_{1,2}=\\frac{\\sigma_x + \\sigma_y}{2} \\pm \\sqrt{\\left(\\frac{\\sigma_x-\\sigma_y}{2}\\right)^2 + \\tau_{xy}^2}$"
   ]
  },
  {
   "cell_type": "markdown",
   "metadata": {},
   "source": [
    "### - 최대전단응력(Maximum Shear Stress)"
   ]
  },
  {
   "cell_type": "markdown",
   "metadata": {},
   "source": [
    "$\\tau_{max}=\\sqrt{\\left(\\frac{\\sigma_x-\\sigma_y}{2}\\right)^2 + \\tau_{xy}^2}$"
   ]
  },
  {
   "cell_type": "markdown",
   "metadata": {},
   "source": [
    "## - Mohr Circle 회전"
   ]
  },
  {
   "cell_type": "markdown",
   "metadata": {},
   "source": [
    "<img src='mohr_circle.PNG'>"
   ]
  },
  {
   "cell_type": "markdown",
   "metadata": {},
   "source": [
    "### - 변화율 (A에서 B로 변했을 때)"
   ]
  },
  {
   "cell_type": "markdown",
   "metadata": {},
   "source": [
    "변화율=$\\frac{A-B}{A}\\times 100 \\%$"
   ]
  },
  {
   "cell_type": "markdown",
   "metadata": {},
   "source": [
    "### - 굽힘 스프링에서 등가 넓이 : E 비율로 구함"
   ]
  },
  {
   "cell_type": "markdown",
   "metadata": {},
   "source": [
    "=============================================================================================================="
   ]
  },
  {
   "cell_type": "markdown",
   "metadata": {},
   "source": [
    "## Ch 52 Failure Theories"
   ]
  },
  {
   "cell_type": "markdown",
   "metadata": {},
   "source": [
    "### - 특별한 말 없으면 Von-Mises"
   ]
  },
  {
   "cell_type": "markdown",
   "metadata": {},
   "source": [
    "### - 전단하중 섞여 있거나 2축 응력 받는 경우 Von-Mises 식 : 핸드북에 있음"
   ]
  },
  {
   "cell_type": "markdown",
   "metadata": {},
   "source": [
    "$\\sigma ' = (\\sigma_A^2 - \\sigma_A \\sigma_B + \\sigma_B^2)^{\\frac{1}{2}}\\;<\\;Sy$\n",
    "\n",
    "$\\sigma ' = (\\sigma_X^2 - \\sigma_X \\sigma_Y + \\sigma_Y^2 + 3\\tau_{XY}^2)^{\\frac{1}{2}}\\;<\\;Sy$\n",
    "\n",
    "$\\rightarrow$ 전단응력 만있는 경우 $\\tau \\;<\\; \\frac{Sy}{\\sqrt{3}}$"
   ]
  },
  {
   "cell_type": "markdown",
   "metadata": {},
   "source": [
    "### - Equivalent Soderberg Stress "
   ]
  },
  {
   "cell_type": "markdown",
   "metadata": {},
   "source": [
    "$\\sigma_{eq}=(K)\\sigma_a + \\left(\\frac{S_e}{S_y}\\right)\\sigma_m$\n",
    "\n",
    "$\\rightarrow$ 응력집중계수 위치 유의!!\n",
    "\n",
    "$SF = \\frac{S_e}{S_{eq}}$\n",
    "\n",
    "$\\rightarrow$ 안전율은 Endurance Limit와 비교한다!"
   ]
  },
  {
   "cell_type": "markdown",
   "metadata": {},
   "source": [
    "### - 볼트의 강성 k 구할 때는 평균 직경 사용하고, 응력구할 때는 Tensile Area 사용한다."
   ]
  },
  {
   "cell_type": "markdown",
   "metadata": {},
   "source": [
    "### - 볼트연결 플랜지 부재(member)의 강성 구할 때는 접촉면을 기준으로 넓이 구한다."
   ]
  },
  {
   "cell_type": "markdown",
   "metadata": {},
   "source": [
    "$k=\\frac{EA}{L}$"
   ]
  },
  {
   "cell_type": "markdown",
   "metadata": {},
   "source": [
    "$A = \\frac{\\pi}{4}(d_o^2 - d_i^2)$"
   ]
  },
  {
   "cell_type": "markdown",
   "metadata": {},
   "source": [
    "<img src='member_stiffness.PNG'>"
   ]
  },
  {
   "cell_type": "markdown",
   "metadata": {},
   "source": [
    "=============================================================================================================="
   ]
  },
  {
   "cell_type": "markdown",
   "metadata": {},
   "source": [
    "## Ch 54 Advanced Machine Design"
   ]
  },
  {
   "cell_type": "markdown",
   "metadata": {},
   "source": [
    "### - 스프링에 질량 m이 낙하되는 경우\n",
    "\n",
    "$mg(h+\\delta)=\\frac{1}{2}k\\delta^2$\n",
    "\n",
    "=> mgh가 아님에 주의!"
   ]
  },
  {
   "cell_type": "markdown",
   "metadata": {},
   "source": [
    "### - 겹쳐진 스프링 : Free Length가 다른 경우 주의할 것! \n",
    "\n",
    "Free Length가 다른경우 : \n",
    "\n",
    "(1) 더 긴 스프링이 x1 만큼 압축됨 \n",
    "\n",
    "(2) x1만큼 압축시키고 남은 하중은 F_new = F-(k1)(x1)\n",
    "\n",
    "(3) 출어든 하중 F_new가 각 스프링에 분배됨. F1 = F_new (k1/(k1+k2))"
   ]
  },
  {
   "cell_type": "markdown",
   "metadata": {},
   "source": [
    "<img src='gear.PNG'>"
   ]
  },
  {
   "cell_type": "markdown",
   "metadata": {},
   "source": [
    "<img src='lewis.PNG'>"
   ]
  },
  {
   "cell_type": "markdown",
   "metadata": {},
   "source": [
    "### - Mesh Efficiency : $P_o = \\eta^n P_i$\n",
    "\n",
    "$P_o$ = 출력단 동력\n",
    "\n",
    "$P_i$ = 입력단 동력\n",
    "\n",
    "$\\eta$ = 메쉬 효율\n",
    "\n",
    "$n$ = 기어가 맞물리는 수\n",
    "\n",
    "=> 메쉬 효율에 대한 언급이 없으면 동력은 일정하게 유지된다.\n",
    "\n",
    "$HP = \\frac{T\\times n}{63,025}$"
   ]
  },
  {
   "cell_type": "markdown",
   "metadata": {},
   "source": [
    "### - Lewis 식 앞에 속도계수 곱해줘야 함\n",
    "\n",
    "$\\sigma=K_v\\frac{W_tP_d}{FY}$\n",
    "\n",
    "$K_v = \\frac{600+V_{fpm}}{600}\\;\\;(cast\\;iron)$\n",
    "\n",
    "$K_v = \\frac{1200+V_{fpm}}{1200}\\;\\;(cut,\\;milled)$\n",
    "\n",
    "$V_{fpm}$ : pitch circle velocity"
   ]
  },
  {
   "cell_type": "markdown",
   "metadata": {},
   "source": [
    "### - Differential Gear의 용도 : 자동차 코너링 시 한쪽 바퀴 속도를 빠르게 하기 위함"
   ]
  },
  {
   "cell_type": "markdown",
   "metadata": {},
   "source": [
    "### - Bevel Gear = Sun & Ring Gear와 동일 기능"
   ]
  },
  {
   "cell_type": "markdown",
   "metadata": {},
   "source": [
    "### - Bevel Gear Shaft Angle : 2개 축이 이루는 각도 = 2개의 Pitch Angle 합"
   ]
  },
  {
   "cell_type": "markdown",
   "metadata": {},
   "source": [
    "### - Straight Bevel Gear : Shaft Angle이 90도 인 베벨 기어\n",
    "\n",
    "### - Angular Bevel Gear : Shaft Angle이 90도가 아닌 베벨기어"
   ]
  },
  {
   "cell_type": "markdown",
   "metadata": {},
   "source": [
    "### - Spiral Gear : 고속 /  고하중 / 소음 감소 에 사용"
   ]
  },
  {
   "cell_type": "markdown",
   "metadata": {},
   "source": [
    "### - 기어의 허용응력 : (1) 허용응력 주어진 경우 : 그대로 사용 (2) 안전율과 Su로 주어진 경우 : Su/SF 사용"
   ]
  },
  {
   "cell_type": "markdown",
   "metadata": {},
   "source": [
    "### - Clutch에서 plate와 disk : 아래 그림 참고"
   ]
  },
  {
   "cell_type": "markdown",
   "metadata": {},
   "source": [
    "<img src='clutch.PNG'>"
   ]
  },
  {
   "cell_type": "markdown",
   "metadata": {},
   "source": [
    "### - V 밸트"
   ]
  },
  {
   "cell_type": "markdown",
   "metadata": {},
   "source": [
    "(1) 벨트 내부 길이 ($L_{inside}$) : BXX (호칭)\n",
    "\n",
    "(2) 벨트 길이 = pitch length = effective length , $L_p=L_{inside}+Correction$"
   ]
  },
  {
   "cell_type": "markdown",
   "metadata": {},
   "source": [
    "### - 저널 베어링의 길이, 지름 비 ($\\frac{L}{D}=2$)"
   ]
  },
  {
   "cell_type": "markdown",
   "metadata": {},
   "source": [
    "=============================================================================================================="
   ]
  },
  {
   "cell_type": "markdown",
   "metadata": {},
   "source": [
    "## Ch 55 Pressure Vessels"
   ]
  },
  {
   "cell_type": "markdown",
   "metadata": {},
   "source": [
    "### - R-Stamp\n",
    "\n",
    "(1) 적용대상 : Modified and/or Repaired RV\n",
    "\n",
    "(2) R-form 파일을 보관해야 함 (공인검사관)\n",
    "\n",
    "### - U-Stamped, H-Certificate\n",
    "\n",
    "(1) 적용대상 : Heating Boiler\n",
    "\n",
    "(2) 외부공인검사관(AI) \n",
    "\n",
    "- 자격부여 : National Board에게 인정 받으며, National Board Stamp를 부여 받음\n",
    "\n",
    "-  하는일 : 설계점검 / ASME Code 만족 입증 -> ASME Stamp 부여 (Shop Engineer가 할 필요 없음) / 제작, 수압시험 참관(hold point 정해서)\n",
    "\n",
    "### - RT-Stamp : 비퐈괴 검사의 정도(범위)를 나타내기 위함\n",
    "\n",
    "(1) RT-1 : 전체\n",
    "\n",
    "(2) RT-2 : 국부 (일부 연속부)\n",
    "\n",
    "(3) RT-3 : Spot\n",
    "\n",
    "(4) RT-4 : 기타"
   ]
  },
  {
   "cell_type": "markdown",
   "metadata": {},
   "source": [
    "### - 수압시험 압력(ASME Sec.VIII)\n",
    "\n",
    "$P_{test} = \\frac{S\\;@\\;test\\;temp}{S\\;@\\;design\\;temp} \\times P_{design} \\times (1.3)$\n",
    "\n",
    "**허용응력** 으로 시험온도 보정함!!\n",
    "\n",
    "ASME Sec.III는 1.25배 / ASME Sec.VIII는 1.3배"
   ]
  },
  {
   "cell_type": "markdown",
   "metadata": {},
   "source": [
    "### - BLEEVE (Boiling Liquid Expanding Vapor Explosion) : 온도가 대기압 끓는점보다 높아져 폭발하는 것"
   ]
  },
  {
   "cell_type": "markdown",
   "metadata": {},
   "source": [
    "### - 변경 관련 용어\n",
    "\n",
    "(1) Alteration : 기기의 물리적 변경 or 설계용량 이상의 **Relating**\n",
    "\n",
    "(2) Alteration이 아닌경우\n",
    "\n",
    "- 동등품 교체 or 동등품 여러개 추가\n",
    "\n",
    "- 기존 reinforced nozzle 보다 크기가 작거나 동일한 reinforced nozzle 추가\n",
    "\n",
    "- reinforcement가 불필요한 nozzle 추가\n",
    "\n",
    "(3) Repair : 설계조건에서 운전 가능하도록 **원상복귀** 시키는 것. Rating을 바꾸지 않는 부품 교체 or 추가 포함.\n",
    "\n",
    "(4) Rerating : 온도 및(또는) MAWP 변경\n",
    "\n",
    "(5) Derating : 온도 및(또는) MAWP 낮춤. 부식을 고려할 경우나 수명 연장 시 적용"
   ]
  },
  {
   "cell_type": "markdown",
   "metadata": {},
   "source": [
    "<img src='torispherical.PNG'>"
   ]
  },
  {
   "cell_type": "markdown",
   "metadata": {},
   "source": [
    "### - 헤드 형태 별 최소 두께식 별도로 존재함"
   ]
  },
  {
   "cell_type": "markdown",
   "metadata": {},
   "source": [
    "### - Nozzle Neck 최수 두께식 별도로 존재함 (총 3개 계산해야 됨)"
   ]
  },
  {
   "cell_type": "markdown",
   "metadata": {},
   "source": [
    "### - Seamless Shell의 용접효율 e는 MERM 본문에 기술됨"
   ]
  },
  {
   "cell_type": "markdown",
   "metadata": {},
   "source": [
    "### Shell 최소 두께 식\n",
    "\n",
    "$t = \\frac{P(r_i+c)}{Se-0.6P}+c$\n",
    "\n",
    "부식(c) 적용 위치 유의!"
   ]
  },
  {
   "cell_type": "markdown",
   "metadata": {},
   "source": [
    "### - Unstayed Head 용접부 : Bending 걸리 구조면 안됨"
   ]
  },
  {
   "cell_type": "markdown",
   "metadata": {},
   "source": [
    "### Rupture Disk(RD)\n",
    "\n",
    "(1) 설치 : PRV(Pressure Relief Valve)와 함께 설치\n",
    "\n",
    "(2) 위치 :  Relief Line 상에서 PRV 보다 압력용기에 더 가까이 설치됨\n",
    "\n",
    "(3) 목적 : PRV의 부식 및 누설을 방지함\n",
    "\n",
    "(4) 작동압력 : 밸브 압력의 90~100% (같아도 됨)\n",
    "\n",
    "### Safety Relief Valve (SRV)\n",
    "\n",
    "(1) 작동압력 : MAWP의 110% (1개 설치) / 여러개 설치할 경우 최소 1개는 MAWP의 110%에서 작동해야 됨\n",
    "\n",
    "(2) 참고 : 화재 시 MAWP의 121% 까지 압력상승 가능함. SRV를 2개 설치하여 1개는 MAWP의 110%에서 작동, 나머지 한개는 그 이상에서 작동하게 하여 화재 감시용으로 사용 가능."
   ]
  },
  {
   "cell_type": "markdown",
   "metadata": {},
   "source": [
    "=============================================================================================================="
   ]
  },
  {
   "cell_type": "markdown",
   "metadata": {},
   "source": [
    "## Ch 59 Mechanisms and Power Transmission Systems\n",
    "\n",
    "### - 회전 상대운동 (핸드북 relative motion)"
   ]
  },
  {
   "cell_type": "markdown",
   "metadata": {},
   "source": [
    "$r_A = r_B = r_{A/B}$\n",
    "\n",
    "$v_A = v_B + (\\omega \\times r_{A/B}) = v_B + v_{A/B}$\n",
    "\n",
    "$a_A = a_B + (\\alpha \\times r_{A/B})+\\omega\\times(\\omega\\times r_{A/B})=a_B+a_{A/B}$\n",
    "\n",
    "$r_{A/B}$ : 점 B 기준 점 A의 좌표 벡터 (벡터 A - 벡터 B)\n",
    "\n",
    "$\\omega, \\alpha$ : 점 B 기준 $r_{A/B}$ 벡터의 회전 속도, 가속도"
   ]
  },
  {
   "cell_type": "markdown",
   "metadata": {},
   "source": [
    "<img src='vector.PNG'>"
   ]
  },
  {
   "cell_type": "markdown",
   "metadata": {},
   "source": [
    "### - Sun, Ring Gear \n",
    "\n",
    "* Sun과 Ring 간의 관계로 생각한다\n",
    "\n",
    "* 속도 × 이빨수 = Constant 개념을 생각한다\n",
    "\n",
    "* Sun과 Ring의 속도는 Carrier에 대한 상대 속도로 생각한다.\n",
    "\n",
    "$\\rightarrow TV = \\frac{N_{ring}}{N_{sun}}=\\frac{\\omega_{sun}-\\omega_{carrier}}{\\omega_{ring}-\\omega_{carrier}}$\n",
    "\n",
    "* TV(Train Value) = Velocity Ratio(=Reduction Ratio)의 역수\n",
    "\n",
    "$\\rightarrow$ Velocity Ratio는 항상 1보다 작고 $\\left(\\frac{N_{pinion}}{N_{gear}}\\right)$ TV는 항상 1보다 크다."
   ]
  },
  {
   "cell_type": "markdown",
   "metadata": {},
   "source": [
    "=============================================================================================================="
   ]
  },
  {
   "cell_type": "markdown",
   "metadata": {},
   "source": [
    "## Ch 60 Vibrating Systems"
   ]
  },
  {
   "cell_type": "markdown",
   "metadata": {},
   "source": [
    "### - 고유진동수 구할 때 m에 g 나누어 줄 것\n",
    "\n",
    "$f_n = \\frac{1}{2\\pi}\\sqrt{\\frac{k}{m}g_c}$"
   ]
  },
  {
   "cell_type": "markdown",
   "metadata": {},
   "source": [
    "### -\"Fan\"에 의한 고유진동수\n",
    "\n",
    "$f_n = n_{fan,rpm}\\times\\frac{2\\pi}{60}\\times\\frac{1}{2\\pi}$\n",
    "\n",
    "=> Fan의 회전속도"
   ]
  },
  {
   "cell_type": "markdown",
   "metadata": {},
   "source": [
    "### - \"Fan Blade\"에 의한 고유진동수\n",
    "\n",
    "$f_n = N_{blade}\\times n_{fan,rpm}\\times\\frac{2\\pi}{60}\\times\\frac{1}{2\\pi}$\n",
    "\n",
    "=> (Blade 개수)x(Fan의 회전속도)"
   ]
  },
  {
   "cell_type": "markdown",
   "metadata": {},
   "source": [
    "### - \"Motor Pole\"에 의한 고유진동수\n",
    "\n",
    "$f_n=n_{motor,rpm}\\times \\frac{2\\pi}{60}\\times\\frac{1}{2\\pi}$\n",
    "\n",
    "=> 모터의 회전속도 (Pole 개수랑 상관 없음에 유의!)"
   ]
  },
  {
   "cell_type": "markdown",
   "metadata": {},
   "source": [
    "### - \"Motor에 연결된 Pulley\"의 고유진동수\n",
    "\n",
    "모터 고유진동수와 동일"
   ]
  },
  {
   "cell_type": "markdown",
   "metadata": {},
   "source": [
    "### - 벨트의 고유진동수\n",
    "\n",
    "$f_n=\\frac{v_{belt}}{L_{belt}}$\n",
    "\n",
    "=> 벨트 길이가 1초에 회전하는 수!"
   ]
  },
  {
   "cell_type": "markdown",
   "metadata": {},
   "source": [
    "### - 고유진동수 구하는 방법\n",
    "\n",
    "(1) $\\delta$를 알면 => $\\omega_n=\\sqrt{\\frac{g}{\\delta}}$\n",
    "\n",
    "(2) 구동속도 n(rpm) 알면 => $\\omega_n=n\\times \\frac{2\\pi}{60}$\n",
    "\n",
    "(3) m, k로 구하는 방법"
   ]
  },
  {
   "cell_type": "markdown",
   "metadata": {},
   "source": [
    "### - 증폭비 (TF)\n",
    "\n",
    "$TF=\\frac{1}{r^2-1}$\n",
    "\n",
    "$r = \\frac{\\omega_f}{\\omega_n}$"
   ]
  },
  {
   "cell_type": "code",
   "execution_count": null,
   "metadata": {},
   "outputs": [],
   "source": []
  }
 ],
 "metadata": {
  "kernelspec": {
   "display_name": "Python 3",
   "language": "python",
   "name": "python3"
  },
  "language_info": {
   "codemirror_mode": {
    "name": "ipython",
    "version": 3
   },
   "file_extension": ".py",
   "mimetype": "text/x-python",
   "name": "python",
   "nbconvert_exporter": "python",
   "pygments_lexer": "ipython3",
   "version": "3.8.5"
  }
 },
 "nbformat": 4,
 "nbformat_minor": 2
}
