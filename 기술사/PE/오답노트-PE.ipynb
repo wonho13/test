{
 "cells": [
  {
   "cell_type": "markdown",
   "metadata": {},
   "source": [
    "## Ch 46 Indeterminate Statics"
   ]
  },
  {
   "cell_type": "markdown",
   "metadata": {},
   "source": [
    "### - 빔 처짐 공식"
   ]
  },
  {
   "cell_type": "markdown",
   "metadata": {},
   "source": [
    "<img src='beam_deflection.PNG'>"
   ]
  },
  {
   "cell_type": "markdown",
   "metadata": {},
   "source": [
    "### - Multiple Support Beam (모멘트 공식)"
   ]
  },
  {
   "cell_type": "markdown",
   "metadata": {},
   "source": [
    "$M_k L_k+2M_{k+1}(L_k+L_{k+1})+M_{k+2}L_{k+1}=-6\\left(\\frac{A_k \\;a}{L_k}+\\frac{A_{k+1}\\; b}{L_{k+1}}\\right)$"
   ]
  },
  {
   "cell_type": "markdown",
   "metadata": {},
   "source": [
    "$M_k$ : k번째 support에서의 모멘트. (양 끝단 support의 모멘트는 0임)\n",
    "\n",
    "$L_k$ : k~k+1 support 사이의 거리\n",
    "\n",
    "$A_k$ : k~k+1 support 사이만 존재한다고 가정하고 그린 모멘트 선도의 넓이\n",
    "\n",
    "a : k~k+1 support 사이만 존재한다고 가정하고 그린 모멘트 선도의 넓이 중심 위치 (왼쪽 support에서 부터 거리)\n",
    "\n",
    "b : k~k+1 support 사이만 존재한다고 가정하고 그린 모멘트 선도의 넓이 중심 위치 (오른쪽 support에서 부터 거리)"
   ]
  },
  {
   "cell_type": "markdown",
   "metadata": {},
   "source": [
    "## Ch 47 Engineering Materials"
   ]
  },
  {
   "cell_type": "markdown",
   "metadata": {},
   "source": [
    "### - Degree of Polymerization"
   ]
  },
  {
   "cell_type": "markdown",
   "metadata": {},
   "source": [
    "$DP=\\frac{MW_{polymer}}{MW_{mer}}$"
   ]
  },
  {
   "cell_type": "markdown",
   "metadata": {},
   "source": [
    "## Ch 48 Material Properties and Testing"
   ]
  },
  {
   "cell_type": "markdown",
   "metadata": {},
   "source": [
    "### - 동소체(Allotrope) : 온도에 따라 다른 조직 구조 같는 것들"
   ]
  },
  {
   "cell_type": "markdown",
   "metadata": {},
   "source": [
    "### - scleroscopic test\n",
    "\n",
    "* 경도측정 시험\n",
    "* ASTM 기준시험\n",
    "* 큰 물체에 적용 \n",
    "* 다이아몬드 팁 망치를 정해진 높이에서 낙하, 튀어오른 높이로 경도 판단\n",
    "\n",
    "### -  charpy test\n",
    "\n",
    "* 인성(toughness) 측정 시험\n",
    "\n",
    "* Fracture engery(직접), 천이온도(간접) 측정"
   ]
  },
  {
   "cell_type": "markdown",
   "metadata": {},
   "source": [
    "## Ch 49 Thermal Treatment of Metals"
   ]
  },
  {
   "cell_type": "markdown",
   "metadata": {},
   "source": [
    "### - 비철금속(nonferous)은 동소체 없음. 열처리 무의미."
   ]
  },
  {
   "cell_type": "markdown",
   "metadata": {},
   "source": [
    "### - 알루미늄의 석출경화(Precipitation Hardening)  = 시효경화(Age Hardening) 순서\n",
    "* 석출(Precipitation)\n",
    "* 담금질(Quenching)\n",
    "* 인공시효(Artificial Aging)"
   ]
  },
  {
   "cell_type": "markdown",
   "metadata": {},
   "source": [
    "## Ch 51 Strength of Materials"
   ]
  },
  {
   "cell_type": "markdown",
   "metadata": {},
   "source": [
    "### - 빔의 최대 모멘트 : 전단력 선도 그린 후 전단력이 0인 지점에서 모멘트 최대임. 모멘트 선도는 전단력 선도를 적분."
   ]
  },
  {
   "cell_type": "markdown",
   "metadata": {},
   "source": [
    "### - Section modulus"
   ]
  },
  {
   "cell_type": "markdown",
   "metadata": {},
   "source": [
    "* 원 : $\\frac{\\pi d^4}{64} \\times \\frac{2}{d}$\n",
    "\n",
    "* 사각 : $\\frac{bh^3}{12}\\times \\frac{2}{h}$"
   ]
  },
  {
   "cell_type": "markdown",
   "metadata": {},
   "source": [
    "### - 단순지지보의 처짐 (중간에 하중이 가해진 경우)"
   ]
  },
  {
   "cell_type": "markdown",
   "metadata": {},
   "source": [
    "* $\\delta'=\\frac{PL_1^3}{3EI}$\n",
    "\n",
    "\n",
    "* $\\theta = \\frac{PL_1^2}{2EI} $\n",
    "\n",
    "\n",
    "* $\\delta = \\delta' + \\theta L_2$"
   ]
  },
  {
   "cell_type": "markdown",
   "metadata": {},
   "source": [
    "### - 인장하중을 받는 봉의 총 길이(total length) = L(원래길이)+$\\delta$(늘어난 길이)  -> 원래 길이만 구하고 끝내지 말자"
   ]
  },
  {
   "cell_type": "markdown",
   "metadata": {},
   "source": [
    "### - 최대응력(Maximum Stress) = Principal Stress"
   ]
  },
  {
   "cell_type": "markdown",
   "metadata": {},
   "source": [
    "$\\sigma_{1,2}=\\frac{\\sigma_x + \\sigma_y}{2} \\pm \\sqrt{\\left(\\frac{\\sigma_x-\\sigma_y}{2}\\right)^2 + \\tau_{xy}^2}$"
   ]
  },
  {
   "cell_type": "markdown",
   "metadata": {},
   "source": [
    "### - 최대전단응력(Maximum Shear Stress)"
   ]
  },
  {
   "cell_type": "markdown",
   "metadata": {},
   "source": [
    "$\\tau_{max}=\\sqrt{\\left(\\frac{\\sigma_x-\\sigma_y}{2}\\right)^2 + \\tau_{xy}^2}$"
   ]
  },
  {
   "cell_type": "markdown",
   "metadata": {},
   "source": [
    "## - Mohr Circle 회전"
   ]
  },
  {
   "cell_type": "markdown",
   "metadata": {},
   "source": [
    "<img src='mohr_circle.PNG'>"
   ]
  },
  {
   "cell_type": "markdown",
   "metadata": {},
   "source": [
    "### - 변화율 (A에서 B로 변했을 때)"
   ]
  },
  {
   "cell_type": "markdown",
   "metadata": {},
   "source": [
    "변화율=$\\frac{A-B}{A}\\times 100 \\%$"
   ]
  },
  {
   "cell_type": "markdown",
   "metadata": {},
   "source": [
    "### - 굽힘 스프링에서 등가 넓이 : E 비율로 구함"
   ]
  },
  {
   "cell_type": "markdown",
   "metadata": {},
   "source": [
    "## Ch 52 Failure Theories"
   ]
  },
  {
   "cell_type": "markdown",
   "metadata": {},
   "source": [
    "### - 특별한 말 없으면 Von-Mises"
   ]
  },
  {
   "cell_type": "markdown",
   "metadata": {},
   "source": [
    "### - 전단하중 섞여 있거나 2축 응력 받는 경우 Von-Mises 식 : 핸드북에 있음"
   ]
  },
  {
   "cell_type": "markdown",
   "metadata": {},
   "source": [
    "$\\sigma ' = (\\sigma_A^2 - \\sigma_A \\sigma_B + \\sigma_B^2)^{\\frac{1}{2}}\\;<\\;Sy$\n",
    "\n",
    "$\\sigma ' = (\\sigma_X^2 - \\sigma_X \\sigma_Y + \\sigma_Y^2 + 3\\tau_{XY}^2)^{\\frac{1}{2}}\\;<\\;Sy$\n",
    "\n",
    "$\\rightarrow$ 전단응력 만있는 경우 $\\tau \\;<\\; \\frac{Sy}{\\sqrt{3}}$"
   ]
  },
  {
   "cell_type": "markdown",
   "metadata": {},
   "source": [
    "### - Equivalent Soderberg Stress "
   ]
  },
  {
   "cell_type": "markdown",
   "metadata": {},
   "source": [
    "$\\sigma_{eq}=(K)\\sigma_a + \\left(\\frac{S_e}{S_y}\\right)\\sigma_m$\n",
    "\n",
    "$\\rightarrow$ 응력집중계수 위치 유의!!\n",
    "\n",
    "$SF = \\frac{S_e}{S_{eq}}$\n",
    "\n",
    "$\\rightarrow$ 안전율은 Endurance Limit와 비교한다!"
   ]
  },
  {
   "cell_type": "markdown",
   "metadata": {},
   "source": [
    "### - 볼트의 강성 k 구할 때는 평균 직경 사용하고, 응력구할 때는 Tensile Area 사용한다."
   ]
  },
  {
   "cell_type": "markdown",
   "metadata": {},
   "source": [
    "### - 볼트연결 플랜지 부재(member)의 강성 구할 때는 접촉면을 기준으로 넓이 구한다."
   ]
  },
  {
   "cell_type": "markdown",
   "metadata": {},
   "source": [
    "$k=\\frac{EA}{L}$"
   ]
  },
  {
   "cell_type": "markdown",
   "metadata": {},
   "source": [
    "$A = \\frac{\\pi}{4}(d_o^2 - d_i^2)$"
   ]
  },
  {
   "cell_type": "markdown",
   "metadata": {},
   "source": [
    "<img src='member_stiffness.PNG'>"
   ]
  },
  {
   "cell_type": "markdown",
   "metadata": {},
   "source": []
  },
  {
   "cell_type": "markdown",
   "metadata": {},
   "source": []
  },
  {
   "cell_type": "markdown",
   "metadata": {},
   "source": [
    "## Ch 59 Mechanisms and Power Transmission Systems"
   ]
  },
  {
   "cell_type": "markdown",
   "metadata": {},
   "source": [
    "### - 회전 상대운동 (핸드북 relative motion)"
   ]
  },
  {
   "cell_type": "markdown",
   "metadata": {},
   "source": [
    "$r_A = r_B = r_{A/B}$\n",
    "\n",
    "$v_A = v_B + (\\omega \\times r_{A/B}) = v_B + v_{A/B}$\n",
    "\n",
    "$a_A = a_B + (\\alpha \\times r_{A/B})+\\omega\\times(\\omega\\times r_{A/B})=a_B+a_{A/B}$\n",
    "\n",
    "$r_{A/B}$ : 점 B 기준 점 A의 좌표 벡터 (벡터 A - 벡터 B)\n",
    "\n",
    "$\\omega, \\alpha$ : 점 B 기준 $r_{A/B}$ 벡터의 회전 속도, 가속도"
   ]
  },
  {
   "cell_type": "markdown",
   "metadata": {},
   "source": [
    "<img src='vector.PNG'>"
   ]
  },
  {
   "cell_type": "markdown",
   "metadata": {},
   "source": [
    "### - Sun, Ring Gear \n",
    "\n",
    "* Sun과 Ring 간의 관계로 생각한다\n",
    "\n",
    "* 속도 × 이빨수 = Constant 개념을 생각한다\n",
    "\n",
    "* Sun과 Ring의 속도는 Carrier에 대한 상대 속도로 생각한다.\n",
    "\n",
    "$\\rightarrow TV = \\frac{N_{ring}}{N_{sun}}=\\frac{\\omega_{sun}-\\omega_{carrier}}{\\omega_{ring}-\\omega_{carrier}}$\n",
    "\n",
    "* TV(Train Value) = Velocity Ratio(=Reduction Ratio)의 역수\n",
    "\n",
    "$\\rightarrow$ Velocity Ratio는 항상 1보다 작고 $\\left(\\frac{N_{pinion}}{N_{gear}}\\right)$ TV는 항상 1보다 크다."
   ]
  }
 ],
 "metadata": {
  "kernelspec": {
   "display_name": "Python 3",
   "language": "python",
   "name": "python3"
  },
  "language_info": {
   "codemirror_mode": {
    "name": "ipython",
    "version": 3
   },
   "file_extension": ".py",
   "mimetype": "text/x-python",
   "name": "python",
   "nbconvert_exporter": "python",
   "pygments_lexer": "ipython3",
   "version": "3.7.3"
  }
 },
 "nbformat": 4,
 "nbformat_minor": 2
}
