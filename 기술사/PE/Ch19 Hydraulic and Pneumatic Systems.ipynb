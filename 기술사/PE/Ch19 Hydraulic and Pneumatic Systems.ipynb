{
 "cells": [
  {
   "cell_type": "markdown",
   "metadata": {},
   "source": [
    "## 19. Fluid Compliance"
   ]
  },
  {
   "cell_type": "markdown",
   "metadata": {},
   "source": [
    "파이프, 탱크, 어큐뮬레이터 등의 Fluid complinace (fluid capacitance)는 압력 변화에 대한 저장된 체적(유압계통) 또는 질량(공압계통)의 변화율을 의미한다. Hydraulic compliance $C_f$의 단위는 $ft^5/lbf (m^5/N)$이다. 유압기기의 경우, fluid complinace는 식 19.34와 같다."
   ]
  },
  {
   "cell_type": "markdown",
   "metadata": {},
   "source": [
    "$$ C_f=\\frac{dV}{dp}=\\frac{dV}{dt}\\frac{dt}{dp}=Q\\frac{dt}{dp}\\tag{19.34}$$"
   ]
  },
  {
   "cell_type": "markdown",
   "metadata": {},
   "source": [
    "기기를 통한 체적유량의 변화는 다음과 같다."
   ]
  },
  {
   "cell_type": "markdown",
   "metadata": {},
   "source": [
    "$$\\Delta Q=Q_1-Q_2=C_f\\frac{dp}{dt}=C_f\\frac{d}{dt}(p_1-p_2)\\tag{19.35}$$"
   ]
  },
  {
   "cell_type": "markdown",
   "metadata": {},
   "source": [
    "Fluid complinace는 2개(mechanical compliance, compressibility compliance)로 구성된다. mechanical compliance는 용기의 체적변화 때문이고, compressibility compliance는 유체의 밀도변화 때문이다. 일부 compliance는 용기 벽의 유연성 때문에 생기지만, 파이프나 탱크가 완전한 강체라고 하더라도, 유체는 유체 자체의 압축성 때문에 compliance를 갖는다. 이 compressibility compliance는 유체의 bulk modulus, B에 따라 달라진다(식 19.36). 유압기계에 사용되는 유체의 bulk modulus는 보통 250,000 psi (1.7 GPa)이다. bulk modulus의 역수는 compressibility, $\\beta$이다. compressibility의 영향은 작으며, 유압계통에서는 일반적으로 무시한다."
   ]
  },
  {
   "cell_type": "markdown",
   "metadata": {},
   "source": [
    "$$C_{f,compressibility}=\\frac{V}{B}=\\frac{AL}{B}=\\beta AL \\tag{19.36}$$"
   ]
  },
  {
   "cell_type": "markdown",
   "metadata": {},
   "source": [
    "$$\\beta = \\frac{1}{B}\\tag{19.37}$$"
   ]
  },
  {
   "cell_type": "markdown",
   "metadata": {},
   "source": [
    "유체 가압에 의해 hydraulic capacitance에 저장되는 에너지는 다음과 같다."
   ]
  },
  {
   "cell_type": "markdown",
   "metadata": {},
   "source": [
    "$$U_f=\\frac{1}{2}C_fp^2\\tag{19.39}$$"
   ]
  },
  {
   "cell_type": "markdown",
   "metadata": {},
   "source": [
    "일정하 체적 V를 갖고, 밀도 $\\rho$의 기체를 갖는 공압기기의 경우, pneumatic complinace, $C_g$는 체적이 아닌 질량 항으로 정의된다. 기체의 compressibility는 시스템에 잠제적인 compliance를 발생시키며, 이 compliance는 고무호스, 스프링 어큐뮬레이터, 벨로우즈, 에어백과 같은 체적이 변하는 기기의 mechanical compliance에 더해진다. compliance는 기체 물성치, 과정 및 기기 형상에 대한 함수이다. pneumatic compliance, $C_g$의 단위는 $lbm\\cdot ft^2/lbf (kg\\cdot m^2/N)$이다."
   ]
  },
  {
   "cell_type": "markdown",
   "metadata": {},
   "source": [
    "$$C_g=\\frac{dm}{dp}=C_{g,mechanical}+C_{g,compressibility}\\tag{19.40}$$"
   ]
  },
  {
   "cell_type": "markdown",
   "metadata": {},
   "source": [
    "체적이 일정한 시스템의 경우, pneumatic compliance는 다음과 같다."
   ]
  },
  {
   "cell_type": "markdown",
   "metadata": {},
   "source": [
    "$$C_{g,compressibility}=\\frac{dm}{dp}=V\\frac{dp}{d\\rho}\\;\\;[fixed-volume\\;system]\\tag{19.41}$$"
   ]
  },
  {
   "cell_type": "markdown",
   "metadata": {},
   "source": [
    "체적이 일정한 경우 기기를 통한 질량 유량은 다음과 같다."
   ]
  },
  {
   "cell_type": "markdown",
   "metadata": {},
   "source": [
    "$$\\dot{m}=\\frac{dm}{dt}=\\frac{dm}{dp}\\frac{dp}{dt}=C_g\\frac{dp}{dt}\\tag{19.42}$$"
   ]
  },
  {
   "cell_type": "markdown",
   "metadata": {},
   "source": [
    "밀도는 과정에 따라 변한다. 체적이 일정한 시스템에 이상기체가 포함된 경우 그 시스템의 complinace는 식 19.42와 같다. 등압과정의 경우 $n=0$이고, pneumatic complinace는 무한대이다. 등적과정의 경우 $n=\\infty$이고 pneumatic compliance는 0이다."
   ]
  },
  {
   "cell_type": "markdown",
   "metadata": {},
   "source": [
    "$$C_{g,compressibility}=\\frac{m}{np}=\\frac{mV}{npV}=\\frac{V}{nRT}=\\frac{kV}{na^2}=\\frac{V\\rho}{np}\\tag{19.43}$$"
   ]
  },
  {
   "cell_type": "markdown",
   "metadata": {},
   "source": [
    "가압에 의해 pneumatic compliance에 저장되는 에너지 $U_g$는 다음과 같다."
   ]
  },
  {
   "cell_type": "markdown",
   "metadata": {},
   "source": [
    "$$U_g=\\frac{C_gp^2}{2\\rho}\\tag{19.44}$$"
   ]
  },
  {
   "cell_type": "markdown",
   "metadata": {},
   "source": [
    "그림 19.3은 일정한 단면적 A를 갖는 단순 탄성 벨로우즈를 보여주며, x 방향으로 팽창한다. mechanical compliance는 비선형이며, 변위 x에 따라 변한다. pneumatic compliance는 다음과 같다."
   ]
  },
  {
   "cell_type": "markdown",
   "metadata": {},
   "source": [
    "$$C_{g,mechanical}=\\frac{dm}{dp}=\\frac{V}{RT}=\\frac{Ax}{RT}\\tag{19.45}$$"
   ]
  },
  {
   "cell_type": "markdown",
   "metadata": {},
   "source": []
  }
 ],
 "metadata": {
  "kernelspec": {
   "display_name": "Python 3",
   "language": "python",
   "name": "python3"
  },
  "language_info": {
   "codemirror_mode": {
    "name": "ipython",
    "version": 3
   },
   "file_extension": ".py",
   "mimetype": "text/x-python",
   "name": "python",
   "nbconvert_exporter": "python",
   "pygments_lexer": "ipython3",
   "version": "3.8.3"
  }
 },
 "nbformat": 4,
 "nbformat_minor": 4
}
