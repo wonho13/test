{
 "cells": [
  {
   "cell_type": "markdown",
   "metadata": {},
   "source": [
    "## 1. ALLOWABLE STRESS DESIGN"
   ]
  },
  {
   "cell_type": "markdown",
   "metadata": {},
   "source": [
    "실제 응력이 결정되면, 그 응력은 **허용응력**과 비교할 수 있다. 공학설계에서 **허용**이라 함은 재료 강도에 안전율이 적용되었음을 의미한다."
   ]
  },
  {
   "cell_type": "markdown",
   "metadata": {},
   "source": [
    "허용응력 = 재료강도/안전률"
   ]
  },
  {
   "cell_type": "markdown",
   "metadata": {},
   "source": [
    "연성재료의 경우, 항복강도가 재료강도로 사용된다. 강의 경우 안전률은 1.5 ~ 2.5 정도의 범위를 가지며, 강의 형태 및 적용 분야에 따라 달라진다. 높은 안전률은 보통 잘 사용되지 않는다. 왜쟈하면 강의 성능은 예측 가능하고 신뢰성이 있기 때문이다."
   ]
  },
  {
   "cell_type": "markdown",
   "metadata": {},
   "source": [
    "$$\\sigma_a=\\frac{S_y}{FS}\\;\\;[ductile]\\tag{53.2}$$"
   ]
  },
  {
   "cell_type": "markdown",
   "metadata": {},
   "source": [
    "취성재료의 경우 극한강도가 재료강도로 사용된다. 취성재료의 파손은 갑자기 예상할수 없게 발생하기 때문에 높은 안전률(6~10)을 사용한다."
   ]
  },
  {
   "cell_type": "markdown",
   "metadata": {},
   "source": [
    "$$\\sigma_a=\\frac{S_u}{SF}\\;\\;[brittle]\\tag{53.3}$$"
   ]
  },
  {
   "cell_type": "markdown",
   "metadata": {},
   "source": [
    "실제 응력이 허용응력보다 작으면, 허용가능한 설계로 본다. 이는 **허용응력설계방법**의 원리이며, **동작응력설계방법**이라고도 한다."
   ]
  },
  {
   "cell_type": "markdown",
   "metadata": {},
   "source": [
    "$$\\sigma_{actual} \\leq \\sigma_a\\tag{53.4}$$"
   ]
  },
  {
   "cell_type": "markdown",
   "metadata": {},
   "source": [
    "## 2. ULTIMATE STRESS DESIGN"
   ]
  },
  {
   "cell_type": "markdown",
   "metadata": {},
   "source": [
    "허용응력방법은 대부분 **극한강도설계방법** (**하중계수설계방법**, **소성설계방법**, **강도설계방법**)으로 대체되어 오고 있다. 이 방법은 허용응력을 더이상 사용하지 않는다. 대신 실제 **공칭강도**가 요구되는 극한강도를 초과하도록 부재를 설계한다."
   ]
  },
  {
   "cell_type": "markdown",
   "metadata": {},
   "source": [
    "부재의 **극한강도**(즉, 요구되는 강도)는 실제 **운전하중**과 **과부하계수(overload factor)** 또는 하중계수를 사용하여 계산된다. 보통, 사하중(dead load)와 활하중(live load)을 구분한다. 예를들어, ACI 318에 따라 설계되는 콘크리트 빔에 요구되는 극한 모멘트 전달 용량은 다음과 같다."
   ]
  },
  {
   "cell_type": "markdown",
   "metadata": {},
   "source": [
    "$$M_u=1.2 M_{dead load} + 1.6 M_{live load}\\tag{53.5}$$"
   ]
  },
  {
   "cell_type": "markdown",
   "metadata": {},
   "source": [
    "부재의 **공칭강도**(즉, 실제 극한강도)는 치수와 재료로 부터 계산된다. 0.70~0.90 정도의 **용량감소계수** $\\phi$를 고려하여 계산하며, 이는 제작기술과 요구되는 강도의 증가를 고려하기 위함이다. 허용가능한 설계에 대한 모멘트 기준은 다음과 같다."
   ]
  },
  {
   "cell_type": "markdown",
   "metadata": {},
   "source": [
    "$$M_n \\geq \\frac{M_u}{\\phi}\\tag{53.6}$$"
   ]
  },
  {
   "cell_type": "markdown",
   "metadata": {},
   "source": [
    "## 3. SLENDER COLUMNS"
   ]
  },
  {
   "cell_type": "code",
   "execution_count": null,
   "metadata": {},
   "outputs": [],
   "source": []
  }
 ],
 "metadata": {
  "kernelspec": {
   "display_name": "Python 3",
   "language": "python",
   "name": "python3"
  },
  "language_info": {
   "codemirror_mode": {
    "name": "ipython",
    "version": 3
   },
   "file_extension": ".py",
   "mimetype": "text/x-python",
   "name": "python",
   "nbconvert_exporter": "python",
   "pygments_lexer": "ipython3",
   "version": "3.8.3"
  }
 },
 "nbformat": 4,
 "nbformat_minor": 4
}
