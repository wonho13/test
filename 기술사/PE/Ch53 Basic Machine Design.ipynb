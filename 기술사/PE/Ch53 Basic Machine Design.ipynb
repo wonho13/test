{
 "cells": [
  {
   "cell_type": "markdown",
   "metadata": {},
   "source": [
    "## 1. ALLOWABLE STRESS DESIGN"
   ]
  },
  {
   "cell_type": "markdown",
   "metadata": {},
   "source": [
    "실제 응력이 결정되면, 그 응력은 **허용응력**과 비교할 수 있다. 공학설계에서 **허용**이라 함은 재료 강도에 안전율이 적용되었음을 의미한다."
   ]
  },
  {
   "cell_type": "markdown",
   "metadata": {},
   "source": [
    "허용응력 = 재료강도/안전률"
   ]
  },
  {
   "cell_type": "markdown",
   "metadata": {},
   "source": [
    "연성재료의 경우, 항복강도가 재료강도로 사용된다. 강의 경우 안전률은 1.5 ~ 2.5 정도의 범위를 가지며, 강의 형태 및 적용 분야에 따라 달라진다. 높은 안전률은 보통 잘 사용되지 않는다. 왜냐하면 강의 성능은 예측 가능하고 신뢰성이 있기 때문이다."
   ]
  },
  {
   "cell_type": "markdown",
   "metadata": {},
   "source": [
    "$$\\sigma_a=\\frac{S_y}{FS}\\;\\;[ductile]\\tag{53.2}$$"
   ]
  },
  {
   "cell_type": "markdown",
   "metadata": {},
   "source": [
    "취성재료의 경우 극한강도가 재료강도로 사용된다. 취성재료의 파손은 갑자기 예상할수 없게 발생하기 때문에 높은 안전률(6~10)을 사용한다."
   ]
  },
  {
   "cell_type": "markdown",
   "metadata": {},
   "source": [
    "$$\\sigma_a=\\frac{S_u}{SF}\\;\\;[brittle]\\tag{53.3}$$"
   ]
  },
  {
   "cell_type": "markdown",
   "metadata": {},
   "source": [
    "실제 응력이 허용응력보다 작으면, 허용가능한 설계로 본다. 이는 **허용응력설계방법**의 원리이며, **동작응력설계방법**이라고도 한다."
   ]
  },
  {
   "cell_type": "markdown",
   "metadata": {},
   "source": [
    "$$\\sigma_{actual} \\leq \\sigma_a\\tag{53.4}$$"
   ]
  },
  {
   "cell_type": "markdown",
   "metadata": {},
   "source": [
    "## 2. ULTIMATE STRESS DESIGN"
   ]
  },
  {
   "cell_type": "markdown",
   "metadata": {},
   "source": [
    "허용응력방법은 대부분 **극한강도설계방법** (**하중계수설계방법**, **소성설계방법**, **강도설계방법**)으로 대체되어 오고 있다. 이 방법은 허용응력을 더이상 사용하지 않는다. 대신 실제 **공칭강도**가 요구되는 극한강도를 초과하도록 부재를 설계한다."
   ]
  },
  {
   "cell_type": "markdown",
   "metadata": {},
   "source": [
    "부재의 **극한강도**(즉, 요구되는 강도)는 실제 **운전하중**과 **과부하계수(overload factor)** 또는 하중계수를 사용하여 계산된다. 보통, 사하중(dead load)와 활하중(live load)을 구분한다. 예를들어, ACI 318에 따라 설계되는 콘크리트 빔에 요구되는 극한 모멘트 전달 용량은 다음과 같다."
   ]
  },
  {
   "cell_type": "markdown",
   "metadata": {},
   "source": [
    "$$M_u=1.2 M_{dead load} + 1.6 M_{live load}\\tag{53.5}$$"
   ]
  },
  {
   "cell_type": "markdown",
   "metadata": {},
   "source": [
    "부재의 **공칭강도**(즉, 실제 극한강도)는 치수와 재료로 부터 계산된다. 0.70~0.90 정도의 **용량감소계수** $\\phi$를 고려하여 계산하며, 이는 제작기술과 요구되는 강도의 증가를 고려하기 위함이다. 허용가능한 설계에 대한 모멘트 기준은 다음과 같다."
   ]
  },
  {
   "cell_type": "markdown",
   "metadata": {},
   "source": [
    "$$M_n \\geq \\frac{M_u}{\\phi}\\tag{53.6}$$"
   ]
  },
  {
   "cell_type": "markdown",
   "metadata": {},
   "source": [
    "## 3. SLENDER COLUMNS"
   ]
  },
  {
   "cell_type": "markdown",
   "metadata": {},
   "source": [
    "매우 짧은 압축 부재는 **piers**라고 한다. 긴 압축 부재는 **column**이라고 한다. piers는 응력이 재료의 항복응력을 초과할 때 파손된다. 하지만 매우 긴 column은 압축 응력이 항봉윽력에 이르기 전 옆으로 발생하는 **좌굴**에 의해 파손된다. 좌굴파손은 갑작스럽게 발생하며 특별한 굽힘에 대한 징후가 없이 발생한다. column이 파손될때의 하중은 **임계하중** 또는 **오일러하중**이라고 한다."
   ]
  },
  {
   "cell_type": "markdown",
   "metadata": {},
   "source": [
    "**오일러하중**은 초기에 직선이었던 column이 좌굴 없이 견딜 수 있는 이론적 최대 하중을 의미한다. 마찰이 없거나 pin으로 고정된 column의 경우 오일러 하중은 식 53.7과 같다. $r$은 **radius of gyration**이다."
   ]
  },
  {
   "cell_type": "markdown",
   "metadata": {},
   "source": [
    "$$F_e=\\frac{\\pi^2 EI}{L^2}=\\frac{\\pi^2 EA}{\\left(\\frac{L}{r}\\right)^2}\\tag{53.7}$$"
   ]
  },
  {
   "cell_type": "markdown",
   "metadata": {},
   "source": [
    "이에 해당하는 column의 응력은 식 53.8과 같다. 오일러 이론을 사용하기 이해 이 응력은 column 재료 압축 항복 응력의 절반을 초과하면 안된다."
   ]
  },
  {
   "cell_type": "markdown",
   "metadata": {},
   "source": [
    "$$\\sigma_e=\\frac{F_e}{A}=\\frac{\\pi^2 E}{\\left(\\frac{L}{r}\\right)^2}\\;\\;[\\sigma_e < \\frac{1}{2}S_y]\\tag{53.8}$$"
   ]
  },
  {
   "cell_type": "markdown",
   "metadata": {},
   "source": [
    "$L/r$은 **slenderness ratio**이다. 긴 column은 높은 slenderness ratio를 갖는다. 식 53.8에서 가장 작은 slenderness ratio는 $\\sigma_e=S_y$로 설정하면 구할 수 있으며, 이를 **critical slenderness ratio**라고 한다. 일반적으로 critical slenderness ratio는 80 ~ 120 의 범위를 갖는다. critical slenderness ratio는 압축 항복 강도가 증가함에 따라 작아진다."
   ]
  },
  {
   "cell_type": "markdown",
   "metadata": {},
   "source": [
    "$L$은 지지되지 않은 column의 최대 길이이다. column이 특정 점에서 좌굴에 대해 지지되면 이러한 column은 **braced column**이라고 하며, $L$은 전체 column 높이보다 작아질 것이다. 사각 단면을 갖는 column은 2개의 radii of gyration $r_x$, $r_y$를 가지며, 따라서 2개의 slenderness ratio를 갖는다. 가장 큰 slenderness ratio에 따라 설계가 결정된다."
   ]
  },
  {
   "cell_type": "markdown",
   "metadata": {},
   "source": [
    "colum은 항상 마찰이 없는 즉 pin 연결부를 갖는 것은 아니다. 때로는 column이 상단 및 하단에서 고정(clamped, build in 등)될 수 있다. 이러한 경우 **effective length** $L'$을 $L$ 대신 사용해야 한다."
   ]
  },
  {
   "cell_type": "markdown",
   "metadata": {},
   "source": [
    "$$L'=KL\\tag{53.9}$$"
   ]
  },
  {
   "cell_type": "markdown",
   "metadata": {},
   "source": [
    "식 53.8은 식 53.10이 된다."
   ]
  },
  {
   "cell_type": "markdown",
   "metadata": {},
   "source": [
    "$$\\sigma_e=\\frac{F_e}{A}=\\frac{\\pi^2 E}{\\left(\\frac{L'}{r}\\right)^2}\\;\\;[\\sigma_e < \\frac{1}{2}S_y]\\tag{53.10}$$"
   ]
  },
  {
   "cell_type": "markdown",
   "metadata": {},
   "source": [
    "$K$는 **end restraint coefficient**이며 표 53.1에 따라 0.5 ~ 2.0의 범위를 갖는다. 대부분의 실제 colum의 경우 $K$는 설계용 값이 사용되어야 한다. 왜냐하면 무한한 강성을 갖는 지지 구조물은 실제로 불가능하기 때문이다."
   ]
  },
  {
   "cell_type": "markdown",
   "metadata": {},
   "source": [
    "column의 **오일러커브** (그림 53.1에서 BCD 선)는 **오일러응력**(식 53.8)을 slenderness ratio에 대하여 그래프로 그리면 얻을 수 있다. 재료의 압축 항복 강도는 초과될 수 없기 때문에, 수평선 AC가 추가된다. 이론적으로 slenderness ratio가 $(SR)_c$보다 작은 부재는 순수 압축 부재로 간주된다. 하지만 실제로 그렇지는 않다."
   ]
  },
  {
   "cell_type": "markdown",
   "metadata": {},
   "source": [
    "재료결함, 제작오차, 경계조건의 이론과의 차이, 편심은 점 $C$ 근처에서 colum의 파손을 일으킨다. 이 부분은 설계자가 고려해야 한다."
   ]
  },
  {
   "cell_type": "markdown",
   "metadata": {},
   "source": [
    "표 53.1"
   ]
  },
  {
   "cell_type": "markdown",
   "metadata": {},
   "source": [
    "그림 53.1"
   ]
  },
  {
   "cell_type": "markdown",
   "metadata": {},
   "source": [
    "실험적 **Johnson procedure**를 사용하면 이러한 파손 구역을 고려할 수 있으며, 응력이 $\\frac{1}{2}S_y$인 지점에서 오일러 커브 상의 점 T를 설정하고, 점T에 접하는 parabolic 커브를 점 A와 연결하여 그리면 된다. 이에 대항하는 slenderness ratio 값은 다음과 같다."
   ]
  },
  {
   "cell_type": "markdown",
   "metadata": {},
   "source": [
    "$$(SR)_T=\\sqrt{\\frac{2\\pi^2E}{S_y}}\\tag{53.11}$$"
   ]
  },
  {
   "cell_type": "markdown",
   "metadata": {},
   "source": [
    "### 예제 53.1"
   ]
  },
  {
   "cell_type": "markdown",
   "metadata": {},
   "source": [
    "8.5 ft 길이의 column 강 부재가 있다. 끝단은 pin으로 연결된다. 안전률 3.0을 갖기 위한 최대 허용 압축 응력은 얼마인가? 다음의 column 정보를 사용하라."
   ]
  },
  {
   "cell_type": "code",
   "execution_count": 3,
   "metadata": {},
   "outputs": [],
   "source": [
    "import numpy as np"
   ]
  },
  {
   "cell_type": "code",
   "execution_count": 15,
   "metadata": {},
   "outputs": [],
   "source": [
    "L = 8.5 * 12;\n",
    "E = 2.9*10**7;\n",
    "Sy=36000;\n",
    "r=0.569;\n",
    "FS=3;"
   ]
  },
  {
   "cell_type": "code",
   "execution_count": 12,
   "metadata": {},
   "outputs": [
    {
     "name": "stdout",
     "output_type": "stream",
     "text": [
      "SR = 179.3, (SR)_T = 126.1\n",
      "Slenderness ratio가 Johnson 기준보다 더 크다. 따라서 column은 좌굴에 의해 파손된다.\n"
     ]
    }
   ],
   "source": [
    "SR_T=np.sqrt((2*(np.pi**2)*E)/Sy);  # Eq 53.11\n",
    "K = 1;  # pinned\n",
    "SR = L / r;\n",
    "print(\"SR = %.1f, (SR)_T = %.1f\"%(SR,SR_T));\n",
    "print(\"Slenderness ratio가 Johnson 기준보다 더 크다. 따라서 column은 좌굴에 의해 파손된다.\");"
   ]
  },
  {
   "cell_type": "code",
   "execution_count": 20,
   "metadata": {},
   "outputs": [
    {
     "name": "stdout",
     "output_type": "stream",
     "text": [
      "8907 lbf/in^2는 항복응력의 절반인 18000 lbf/in^2보다 작으므로 오일러 식은 타당하다. 허용 응력은 다음과 같다.\n"
     ]
    }
   ],
   "source": [
    "se=((np.pi**2)*E)/(SR**2);       # Eq 53.10\n",
    "print(\"%.f lbf/in^2는 항복응력의 절반인 %.f lbf/in^2보다 작으므로 오일러 식은 타당하다. 허용 응력은 다음과 같다.\"%(se,Sy/2));"
   ]
  },
  {
   "cell_type": "code",
   "execution_count": 21,
   "metadata": {},
   "outputs": [
    {
     "name": "stdout",
     "output_type": "stream",
     "text": [
      "2969 lbf/in^2\n"
     ]
    }
   ],
   "source": [
    "sa = se/FS; print(\"%.f lbf/in^2\"%sa);"
   ]
  },
  {
   "cell_type": "markdown",
   "metadata": {},
   "source": [
    "## 4. INTERMEDIATE COLUMNS"
   ]
  },
  {
   "cell_type": "markdown",
   "metadata": {},
   "source": [
    "critical slenderness ratio 보다 작은 slenderness ratio를 갖지만, pier라고 하기에는 긴 column을 **inetmediate column**이라고 한다. **parabolic 공식**(AKA J.B. Johnson 공식)을 사용해 그림 53.1에서 점 A와 T 사이의 parabolic 선을 그릴 수 있다. 임계 응력은 식 53.12와 같으며, a, b는 커브피팅 상수이다."
   ]
  },
  {
   "cell_type": "markdown",
   "metadata": {},
   "source": [
    "$$\\sigma_{cr}=\\frac{F_{cr}}{A}=a-b\\left(\\frac{KL}{r}\\right)^2\\tag{53.12}$$"
   ]
  },
  {
   "cell_type": "markdown",
   "metadata": {},
   "source": [
    "일반적으로 A점에서의 응력을 $S_y$로, T점에서의 응력을 $\\frac{1}{2}S_y$로 가정한다. 이 경우 parabolic 공식은 다음과 같이된다."
   ]
  },
  {
   "cell_type": "markdown",
   "metadata": {},
   "source": [
    "$$\\sigma_{cr}=S_y-\\left(\\frac{1}{E}\\right)\\left(\\frac{S_y}{2\\pi}\\right)^2\\left(\\frac{KL}{r}\\right)^2\\tag{53.13}$$"
   ]
  },
  {
   "cell_type": "markdown",
   "metadata": {},
   "source": [
    "## 5. ECCENTRICALLY LOADED COLUMNS"
   ]
  },
  {
   "cell_type": "markdown",
   "metadata": {},
   "source": [
    "보통 제작 과정에서 편심이 발생할 수 있으며, 따라서 실제 column에 대한 하중이 축방향인 경우는 드물다. **secant 공식**은 편심 하중에 대한 임계 응력 및 임계 하중을 결정하는데 사용될 수 있는 방법 중 하나이다. "
   ]
  },
  {
   "cell_type": "markdown",
   "metadata": {},
   "source": [
    "$$\\sigma_{max}=\\sigma_{avg}(1+amplification\\;factor)$$"
   ]
  },
  {
   "cell_type": "markdown",
   "metadata": {},
   "source": [
    "$$=\\left(\\frac{F}{A}\\right)\\left(1+\\left(\\frac{ec}{r^2}\\right)sec\\left(\\frac{\\pi}{2}\\sqrt{\\frac{F}{F_e}}\\right)\\right)$$"
   ]
  },
  {
   "cell_type": "markdown",
   "metadata": {},
   "source": [
    "$$=\\left(\\frac{F}{A}\\right)\\left(1+\\left(\\frac{ec}{r^2}\\right)sec\\left(\\frac{L}{2r}\\sqrt{\\frac{F}{AE}}\\right)\\right)$$"
   ]
  },
  {
   "cell_type": "markdown",
   "metadata": {},
   "source": [
    "$$=\\left(\\frac{F}{A}\\right)\\left(1+\\left(\\frac{ec}{r^2}\\right)sec\\phi\\right)\\tag{53.14}$$"
   ]
  },
  {
   "cell_type": "markdown",
   "metadata": {},
   "source": [
    "$$\\phi=\\frac{1}{2}\\left(\\frac{L}{r}\\sqrt{\\frac{F}{AE}}\\right)\\tag{53.15}$$"
   ]
  },
  {
   "cell_type": "markdown",
   "metadata": {},
   "source": [
    "**편심** $e$ 또는 편심율 $ec/r^2$, 좌굴하중의 가정 값 $F$가 주어지면, 식 53.15는 slenderness ratio $L/r$에 대하여 반복 계산을 통해 풀 수 있다.식 53.14, 식 53.15는 $F$의 가정 값이 대체되면 알고 있는 $L/r$ 비율로 빠르게 수렴한다. ($F$가 크면 $L/r$는 작아진다)"
   ]
  },
  {
   "cell_type": "markdown",
   "metadata": {},
   "source": [
    "## 6. THIN-WALLED CYLINDRICAL TANKS"
   ]
  },
  {
   "cell_type": "markdown",
   "metadata": {},
   "source": [
    "일반적으로 내압을 받는 탱크는 원주방향(circumferential, tangential), 축방향(longitudinal), 반경방향(radial) 응력을 받는다. 벽 두께가 작으면 반경방향 응력 성분은 무시한다. 두께와 내경 비율이 약 0.1 이하인 실린더 형 탱크는 **thin-walled tank**이다."
   ]
  },
  {
   "cell_type": "markdown",
   "metadata": {},
   "source": [
    "$$\\frac{t}{d_i}=\\frac{t}{2r_i}<0.1\\;\\;[thin-walled]\\tag{53.16}$$"
   ]
  },
  {
   "cell_type": "markdown",
   "metadata": {},
   "source": [
    "실린더형 얇은 벽 탱크가 내압을 받는 경우 후프응력(hoop stress) $\\sigma_h$는 (원주방향 응력(circumferential stress) 또는 접선방향 응력(tangential stress)으로도 불림) 실린더 절반의 FBD을 통해 유도할 수 있다. (그림 53.2) 실린더는 얇은 벽으로 가정하기 때문에, 식 53.17에서 사용되는 반경값 (내부, 외부, 평균)은 중요하지 않다. 하지만, 일반적으로 내부반경 값이 사용된다."
   ]
  },
  {
   "cell_type": "markdown",
   "metadata": {},
   "source": [
    "$$\\sigma_h=\\frac{pr}{t}\\tag{53.17}$$"
   ]
  },
  {
   "cell_type": "markdown",
   "metadata": {},
   "source": [
    "실린더형 탱크 끝단에 가해지는 축방향 하중은 길이방향 응력(longitdinal stress) $\\sigma_l$을 발생시킨다."
   ]
  },
  {
   "cell_type": "markdown",
   "metadata": {},
   "source": [
    "$$\\sigma_l=\\frac{pr}{2t}\\tag{53.18}$$"
   ]
  },
  {
   "cell_type": "markdown",
   "metadata": {},
   "source": [
    "탱크가 비틀림을 받지 않으면 외부 전단 응력은 없다. 따라서 후프응력 및 길이방향 응력이 주응력이 된다. 이 응력들은 더 큰 응력으로 조합되지 않는다. 이 응력들에 대한 영향은 적절한 파손이론에 따라 평가되어야 한다. 평면상의 최대 전단응력은 $pr/4t$이고, 평면을 벗어난(길이방향 기준 45도 회전) 최대 전단응력은 $pr/2t$이다."
   ]
  },
  {
   "cell_type": "markdown",
   "metadata": {},
   "source": [
    "압력에 의한 길이 증가는 길이방향 변형률로 쉽게 구할 수 있다."
   ]
  },
  {
   "cell_type": "markdown",
   "metadata": {},
   "source": [
    "$$\\Delta L=L \\epsilon_l=L\\left( \\frac{\\sigma_l - \\nu \\sigma_h}{E} \\right)\\tag{53.19}$$"
   ]
  },
  {
   "cell_type": "markdown",
   "metadata": {},
   "source": [
    "압력에 의한 원주방향 길이 증가(이를 통해 반경방향 길이 증가도 구할 수 있음)는 다음과 같다."
   ]
  },
  {
   "cell_type": "markdown",
   "metadata": {},
   "source": [
    "$$\\Delta C=C \\epsilon_h = \\pi d_o \\left( \\frac{\\sigma_h - \\nu \\sigma_l}{E} \\right)\\tag{53.20}$$"
   ]
  },
  {
   "cell_type": "markdown",
   "metadata": {},
   "source": [
    "### 예제 53.2"
   ]
  },
  {
   "cell_type": "markdown",
   "metadata": {},
   "source": [
    "얇은 벽인 압력을 받는 탱크가 다음 그림과 같이 양끝단이 지지되어 있다. 점 A, B는 지지점들과 상단, 하단 표면 중간에 위치한다. 탱크의 최대응력을 구하라."
   ]
  },
  {
   "cell_type": "markdown",
   "metadata": {},
   "source": [
    "풀이"
   ]
  },
  {
   "cell_type": "markdown",
   "metadata": {},
   "source": [
    "탱크는 얇은 벽이기 때문에, 반경방향 응력은 0이다. 후프 및 길이방향 응력은 식 53.17, 식 53.18에 주어져있다. A점은 탱크 및 내용물의 자중에 의한 굽힘응력도 받는다. 굽힘 응력은 다음과 같다."
   ]
  },
  {
   "cell_type": "markdown",
   "metadata": {},
   "source": [
    "$$\\sigma_b = \\frac{Mc}{I}$$"
   ]
  },
  {
   "cell_type": "markdown",
   "metadata": {},
   "source": [
    "$$c=\\frac{d}{2}=r$$"
   ]
  },
  {
   "cell_type": "markdown",
   "metadata": {},
   "source": [
    "$$M=\\frac{FL}{2}\\frac{wL^2}{8}$$"
   ]
  },
  {
   "cell_type": "markdown",
   "metadata": {},
   "source": [
    "$$I=\\frac{\\pi}{4}(r_o^4-r_i^4)\\approx \\pi r^3 t$$"
   ]
  },
  {
   "cell_type": "markdown",
   "metadata": {},
   "source": [
    "굽힘응력은 A점에서는 압축이고 B점에서는 인장이다. 점 B에서 굽힘응력은 길이방향 응력과 동일한 부호(인장)를 가지며, 이 두 응력은 더해진다. 비틀림 응력은 없으므로 법선응력이 주응력이 된다."
   ]
  },
  {
   "cell_type": "markdown",
   "metadata": {},
   "source": [
    "$$\\sigma_1 = \\sigma_h$$"
   ]
  },
  {
   "cell_type": "markdown",
   "metadata": {},
   "source": [
    "$$\\sigma_2=\\sigma_l + \\sigma_b$$"
   ]
  },
  {
   "cell_type": "markdown",
   "metadata": {},
   "source": [
    "## 7. THICK-WALLED CYLINDERS"
   ]
  },
  {
   "cell_type": "markdown",
   "metadata": {},
   "source": [
    "두꺼운 벽인 실린더는 두께-반경 비율이 0.2보다 크다(즉, 두께-직경 비율이 0.1 보다 큼). 그림 53.3은 내부 및 외부 압력을 받는 두꺼운 벽 탱크를 보여준다."
   ]
  },
  {
   "cell_type": "markdown",
   "metadata": {},
   "source": [
    "두꺼운 벽 탱크에서, 반경방향응력은 영향이 크며 무시할 수 없다. **Lame의 해**에 따르면, 두꺼운 벽 실린더는 얇은 층의 링으로 구성된다고 가정된다. 이 방법에 따르면 반경 및 원주방향 응력은 탱크 벽 내의 위치에 따라 다르다."
   ]
  },
  {
   "cell_type": "markdown",
   "metadata": {},
   "source": [
    "(두꺼운 벽 실린더를 다룰때는 **후프응력**보다는 **원주방향 응력** 용어가 선호됨)"
   ]
  },
  {
   "cell_type": "markdown",
   "metadata": {},
   "source": [
    "압축응력은 음수이다."
   ]
  },
  {
   "cell_type": "markdown",
   "metadata": {},
   "source": [
    "$$\\sigma_c = \\frac{r_i^2 p_i - r_o^2 p_o + \\frac{(p_i - p_o)r_i^2 r_o^2}{r^2}}{r_o^2 - r_i^2}\\tag{53.21}$$"
   ]
  },
  {
   "cell_type": "markdown",
   "metadata": {},
   "source": [
    "$$\\sigma_r = \\frac{r_i^2 p_i - r_o^2 p_o - \\frac{(p_i - p_o)r_i^2 r_o^2}{r^2}}{r_o^2-r_i^2}\\tag{53.22}$$"
   ]
  },
  {
   "cell_type": "markdown",
   "metadata": {},
   "source": [
    "$$\\sigma_l = \\frac{p_i r_i^2}{r_o^2-r_i^2}\\tag{53.23}$$"
   ]
  },
  {
   "cell_type": "markdown",
   "metadata": {},
   "source": [
    "$p_o$는 끝단에서 길이방향으로 작용하지 않음."
   ]
  },
  {
   "cell_type": "markdown",
   "metadata": {},
   "source": [
    "실린더의 모든 점에서 원주방향, 반경방향, 길이방향 응력은 주응력이다. 외부 비틀림 전단응력이 추가되지 않으며, 응력 조합을 할 필요가 없다. 파손이론은 직접 적용하면 된다."
   ]
  },
  {
   "cell_type": "markdown",
   "metadata": {},
   "source": [
    "주된 관심사는 내부 및 외부 압력만 있는 경우이다. 이러한 경우에 대한 응력 식들은 표 53.2에 정리되어 있다. 최대 전단 및 법선응력은 내부 및 외부 압력조건 모두 내면에서 발생한다."
   ]
  },
  {
   "cell_type": "markdown",
   "metadata": {},
   "source": [
    "**직경 변형률(diametral strain)** (**원주방향 변형률(circumferential strain)**, **반경방향 변형률(radial strain)** 과 동일한 의미)는 식 53.24에 주어져 있따. 반경방향 응력은 항상 압축(음수)이며, 식 53.24에서 합을 계산할 때 부호를 신경써야 한다. 원주방향 및 반경방향 응력은 벽 두께 내의 위치에 따라 달라지기 때문에, 변형률은 내면, 외면, 중간 어딘가에서 각각 평가될 수 있다."
   ]
  },
  {
   "cell_type": "markdown",
   "metadata": {},
   "source": [
    "$$\\epsilon = \\frac{\\Delta d}{d} = \\frac{\\Delta C}{C} = \\frac{\\Delta r}{r}$$"
   ]
  },
  {
   "cell_type": "markdown",
   "metadata": {},
   "source": [
    "$$=\\frac{\\sigma_c-\\nu (\\sigma_r + \\sigma_l)}{E}\\tag{53.24}$$"
   ]
  },
  {
   "cell_type": "markdown",
   "metadata": {},
   "source": [
    "## 8. THIN-WALLED SPHERICAL TANKS"
   ]
  },
  {
   "cell_type": "markdown",
   "metadata": {},
   "source": [
    "구형 탱크 또는 실린더형 탱크의 구 끝단에는 유일한 축이 없다. 후프 및 길이방향 응력은 같으며, 다음과 같다."
   ]
  },
  {
   "cell_type": "markdown",
   "metadata": {},
   "source": [
    "$$\\sigma = \\frac{pr}{2t}\\tag{53.25}$$"
   ]
  },
  {
   "cell_type": "markdown",
   "metadata": {},
   "source": [
    "## 9. INTERFERENCE FITS"
   ]
  },
  {
   "cell_type": "markdown",
   "metadata": {},
   "source": [
    "두개의 조각을 조립할때 interference fitting이 핀, 키, 스플라인 등과 같은 연결보다 더 경제적인 경우가 많다. 조립은 상온 또는 외부 부품을 가열하고 내부 부품을 차갑게 하여 유압을 통해 수행 가능하다. 상온에서 가공하는 것을 **press fit** 또는 **interference fit**이라고 하며, 열 및 냉각을 통해 조립하는 것을 **shrink fit**이라고 한다."
   ]
  },
  {
   "cell_type": "markdown",
   "metadata": {},
   "source": [
    "두개의 실린더가 같이 압축되면, 두 실린더 사이에 작용하는 압력은 외부 실린더를 확장(인장 발생)시키고, 내부 실린더를 압축 시킨다. **interference** I는 두개 실린더의 치수 차이를 의미한다. **diametral interference**와 **radial interference** 두개가 모두 사용된다."
   ]
  },
  {
   "cell_type": "markdown",
   "metadata": {},
   "source": [
    "$$I_{diametral} = 2I_{radial}=d_{o,inner}-d_{i,outer}$$"
   ]
  },
  {
   "cell_type": "markdown",
   "metadata": {},
   "source": [
    "$$=|\\Delta d_{o,inner}| + |\\Delta d_{i,outer}|\\tag{53.26}$$"
   ]
  },
  {
   "cell_type": "markdown",
   "metadata": {},
   "source": [
    "만약 2개의 실린더가 같은 길이이면, 두꺼운 벽 실린더 식을 사용할 수 있다. 두개 실린더에 사용되는 재료는 같을 필요가 없다. interference fit에 의한 길이방향 응력은 없고, 반경방향 응력은 음수이기 때문에 식 53.24에 따른 변형률은 다음과 같이 된다."
   ]
  },
  {
   "cell_type": "markdown",
   "metadata": {},
   "source": [
    "$$\\epsilon=\\frac{\\Delta d}{d}=\\frac{\\Delta C}{C}=\\frac{\\Delta r}{r}$$"
   ]
  },
  {
   "cell_type": "markdown",
   "metadata": {},
   "source": [
    "$$=\\frac{\\sigma_c-\\nu \\sigma_r}{E}\\tag{53.27}$$"
   ]
  },
  {
   "cell_type": "markdown",
   "metadata": {},
   "source": [
    "식 53.28은 실린더 속이 비어있고, 다른 탄성계수 및 푸아송 비를 갖는 경우에 일반적으로 적용 가능하다. 외부 실린더는 **hub**라고 하며, 내부 실린더는 **shaft**라고 한다. shaft가 꽉차있으면 식 53.28에서 $r_{i,shaft}=0$으로 설정한다."
   ]
  },
  {
   "cell_type": "markdown",
   "metadata": {},
   "source": [
    "$$I_{diametral}=2I_{radial}$$"
   ]
  },
  {
   "cell_type": "markdown",
   "metadata": {},
   "source": [
    "$$=\\left( \\frac{2pr_{o,shaft}}{E_{hub}} \\right) \\left( \\frac{r_{o,hub}^2 + r_{o,shaft}^2}{r_{o,hub}^2-r_{o,shaft}^2} + \\nu_{hub} \\right)$$"
   ]
  },
  {
   "cell_type": "markdown",
   "metadata": {},
   "source": [
    "$$+\\left( \\frac{2pr_{o,shaft}}{E_{shaft}} \\right) \\left( \\frac{r_{o,shaft}^2+r_{o,shaft}^2}{r_{o,shaft}^2-r_{i,shaft}^2} - \\nu_{shaft} \\right) \\tag{53.28}$$"
   ]
  },
  {
   "cell_type": "markdown",
   "metadata": {},
   "source": [
    "shaft가 꽉차있고, hub와 동일한 재료로 만들어진 경우 diametral interference는 식 53.29와 같다."
   ]
  },
  {
   "cell_type": "markdown",
   "metadata": {},
   "source": [
    "$$I_{diametral}=2I_{radial}$$"
   ]
  },
  {
   "cell_type": "markdown",
   "metadata": {},
   "source": [
    "$$=\\left( \\frac{4pr_{shaft}}{E} \\right) \\left( \\frac{1}{1-\\left( \\frac{r_{shaft}}{r_{o,hub}} \\right)^2} \\right) \\tag{53.29}$$"
   ]
  },
  {
   "cell_type": "markdown",
   "metadata": {},
   "source": [
    "압축접합 과정동안 마찰력을 극복하기 위해 요구되는 최대 결합 하중은 식 53.30과 같다. 이 관계는 추정치이다. 왜냐하면 마찰계수를 정확히 알 수 없고, 결합하중은 압력 p에 푸아송비를 통해 영향을 미치기 때문이다. 마찰계수는 매우 변화가 심하다. 0.03 ~ 0.33의 값을 갖는것으로 알려져 있다. 시험데이터가 없으면 약간 오일이 발라진 접촉의 경우 0.12를, 건조한 결합의 경우 0.15를 사용하는 것이 적절하다."
   ]
  },
  {
   "cell_type": "markdown",
   "metadata": {},
   "source": [
    "$$F_{max}=fN=2\\pi fpr_{o,shaft}L_{interface}\\tag{53.30}$$"
   ]
  },
  {
   "cell_type": "markdown",
   "metadata": {},
   "source": [
    "압축결합 허브가 견디거나 전달할수 있는 최대 토크는 식 53.31과 같다. 이는 shaft의 비틀림 전단 최대 값보다 크거나 자을 수 있다. 두개의 값 모두 계산되어야 한다."
   ]
  },
  {
   "cell_type": "markdown",
   "metadata": {},
   "source": [
    "$$T_{max}=2\\pi f p r_{o,shaft}^2 L_{interface}\\tag{53.31}$$"
   ]
  },
  {
   "cell_type": "markdown",
   "metadata": {},
   "source": [
    "대부분의 interference fit은 접촉 압력 또는 응력이 주어진 값보다 작게 유지되도록 설계된다. 강도에 의해 제한되는 interference fit의 설계는 일반적으로 변형에너지파손기준(distortion energy failure criterion)을 상뇽한다. 즉, 최대 전단 응력이 파손이론에서 결정된 전단 강도와 비교된다."
   ]
  },
  {
   "cell_type": "markdown",
   "metadata": {},
   "source": [
    "### 예제 53.3"
   ]
  },
  {
   "cell_type": "markdown",
   "metadata": {},
   "source": [
    "강 실린더의 내경 및 외경은 1.0 in, 2.0 in이다. 실린더는 10,000 $lbf/in^2$까지 내부 압력이 가해진다. 탄성계수는 $2.9\\times10^7\\;lbf/in^2$이고, 푸아송비는 0.3이다. 내면의 반경방향 변형률은 얼마인가?"
   ]
  },
  {
   "cell_type": "markdown",
   "metadata": {},
   "source": [
    "(1) 길이방향, 원주방향, 반경방향 응력을 구한다.\n",
    "\n",
    "(2) 변형률 식 53.24에 적용한다."
   ]
  },
  {
   "cell_type": "markdown",
   "metadata": {},
   "source": [
    "내압을 받는 압력용기의 길이방향 응력은 다음과 같다. (PE-Handbook에는 Shear라고 되어 있음)"
   ]
  },
  {
   "cell_type": "markdown",
   "metadata": {},
   "source": [
    "$$\\sigma_l = P_i \\frac{r_i^2}{r_o^2-r_i^2}$$"
   ]
  },
  {
   "cell_type": "code",
   "execution_count": 19,
   "metadata": {},
   "outputs": [
    {
     "name": "stdout",
     "output_type": "stream",
     "text": [
      "longidutinal stress = 3333 lbf/in^2\n"
     ]
    }
   ],
   "source": [
    "Pi = 10000; ri = 1./2.; ro = 2./2.;\n",
    "sl = Pi*(ri**2)/(ro**2-ri**2);\n",
    "print('longidutinal stress = %d lbf/in^2'%(sl));"
   ]
  },
  {
   "cell_type": "markdown",
   "metadata": {},
   "source": [
    "내압을 받는 압력용기의 내면에서의 원주방향 응력은 다음과 같다. (PE-Handbook에는 Tangential이라고 되어 있음)"
   ]
  },
  {
   "cell_type": "markdown",
   "metadata": {},
   "source": [
    "$$\\sigma_c=P_i\\frac{r_o^2+r_i^2}{r_o^2-r_i^2}$$"
   ]
  },
  {
   "cell_type": "code",
   "execution_count": 20,
   "metadata": {},
   "outputs": [
    {
     "name": "stdout",
     "output_type": "stream",
     "text": [
      "circumferential stress = 16666 lbf/in^2\n"
     ]
    }
   ],
   "source": [
    "sc = Pi*(ro**2+ri**2)/(ro**2-ri**2);\n",
    "print('circumferential stress = %d lbf/in^2'%(sc));"
   ]
  },
  {
   "cell_type": "markdown",
   "metadata": {},
   "source": [
    "내압을 받는 압력용기의 내면에서의 반경방향 응력은 다음과 같다."
   ]
  },
  {
   "cell_type": "markdown",
   "metadata": {},
   "source": [
    "$$\\sigma_r=-P_i$$"
   ]
  },
  {
   "cell_type": "code",
   "execution_count": 21,
   "metadata": {},
   "outputs": [
    {
     "name": "stdout",
     "output_type": "stream",
     "text": [
      "radial stress = -10000 lbf/in^2\n"
     ]
    }
   ],
   "source": [
    "sr = -Pi;\n",
    "print('radial stress = %d lbf/in^2'%(sr));"
   ]
  },
  {
   "cell_type": "markdown",
   "metadata": {},
   "source": [
    "3축응력을 받는 경우 변형률은 다음과 같다."
   ]
  },
  {
   "cell_type": "markdown",
   "metadata": {},
   "source": [
    "$$\\epsilon_x=\\frac{1}{E}\\left[\\sigma_x-\\nu (\\sigma_y + \\sigma_z) \\right]$$"
   ]
  },
  {
   "cell_type": "markdown",
   "metadata": {},
   "source": [
    "**반경방향 변형률을 구해야 하므로 x는 r이고, y, z는 l, c 일 것 같지만, radial strain은 diametral strain 및 circumferential strain과 동일한 의미로, 원주방향 변형률을 의미한다(식 53.27). 따라서 x는 c, y, z는 r,l로 설정하면 다음과 같다.**"
   ]
  },
  {
   "cell_type": "markdown",
   "metadata": {},
   "source": [
    "$$\\epsilon_c=\\frac{1}{E}\\left[\\sigma_c-\\nu (\\sigma_r + \\sigma_l) \\right]$$"
   ]
  },
  {
   "cell_type": "code",
   "execution_count": 22,
   "metadata": {},
   "outputs": [
    {
     "name": "stdout",
     "output_type": "stream",
     "text": [
      "radial strain = 6.44e-04\n"
     ]
    }
   ],
   "source": [
    "E = 2.9e7; v=0.3;\n",
    "ec = (sc-v*(sr+sl))/E;\n",
    "print('radial strain = %.2e'%(ec));"
   ]
  },
  {
   "cell_type": "markdown",
   "metadata": {},
   "source": [
    "### 예제 53.4"
   ]
  },
  {
   "cell_type": "markdown",
   "metadata": {},
   "source": [
    "다음 그림과 같이 속이빈(내경 1in) 알루미늄 실린더가 속이빈 brass 실린더 위로 압축된다. 두 실린더의 길이는 모두 2 in이다. interference는 0.004 in이다. 조립중 평균 마찰계수는 0.25이다. (a) brass에서의 최대 전단응력은 얼마인가? (b) 두개의 실린더를 분해하기 위해 요구되는 힘은 얼마인가?"
   ]
  },
  {
   "cell_type": "markdown",
   "metadata": {},
   "source": [
    "알루미늄 : 외경 : 3 in, 내경 : 2 in, $E=1.0\\times10^7\\;lbf/in^2\\;,\\nu=0.33$"
   ]
  },
  {
   "cell_type": "markdown",
   "metadata": {},
   "source": [
    "brass : 외경 : 2 in, 내경 : 1 in, $E=1.59\\times10^7\\;lbf/in^2,\\;\\nu=0.36$"
   ]
  },
  {
   "cell_type": "markdown",
   "metadata": {},
   "source": [
    "PE-handbook 2.11.3에 의하면 Interfernece-Fit의 접촉 압력은 다음과 같다."
   ]
  },
  {
   "cell_type": "markdown",
   "metadata": {},
   "source": [
    "$$p=\\frac{\\delta}{bA}$$"
   ]
  },
  {
   "cell_type": "markdown",
   "metadata": {},
   "source": [
    "여기서 $\\delta$는 radial interference이고,"
   ]
  },
  {
   "cell_type": "markdown",
   "metadata": {},
   "source": [
    "$$A=\\frac{1}{E_i}\\left( \\frac{b^2+a^2}{b^2-a^2} - \\nu_i \\right) + \\frac{1}{E_o}\\left( \\frac{c^2+b^2}{c^2-b^2} - \\nu_o \\right)$$"
   ]
  },
  {
   "cell_type": "markdown",
   "metadata": {},
   "source": [
    "a : 내부 실린더 내부 **반경**, b : 내부 실린더 외부 **반경** = 외부 실린더 내부 **반경**, c = 외부실린더 외부 **반경**"
   ]
  },
  {
   "cell_type": "code",
   "execution_count": 46,
   "metadata": {},
   "outputs": [],
   "source": [
    "Eo=1e7; vo=0.33; Ei=1.59e7; vi=0.36;\n",
    "a = 1/2; b = 2/2; c = 3/2;"
   ]
  },
  {
   "cell_type": "code",
   "execution_count": 47,
   "metadata": {},
   "outputs": [],
   "source": [
    "A = ((b**2+a**2)/(b**2-a**2)-vi)/Ei + ((c**2+b**2)/(c**2-b**2)+vo)/Eo;"
   ]
  },
  {
   "cell_type": "markdown",
   "metadata": {},
   "source": [
    "문제에서 주어진 inteterference는 diametral interference를 의미할 것이다. $I_{diametral}=2I_{radial}$이므로,"
   ]
  },
  {
   "cell_type": "code",
   "execution_count": 48,
   "metadata": {},
   "outputs": [],
   "source": [
    "d = 0.004/2;"
   ]
  },
  {
   "cell_type": "markdown",
   "metadata": {},
   "source": [
    "따라서 접촉압력은,"
   ]
  },
  {
   "cell_type": "code",
   "execution_count": 49,
   "metadata": {},
   "outputs": [
    {
     "name": "stdout",
     "output_type": "stream",
     "text": [
      "5330\n"
     ]
    }
   ],
   "source": [
    "p = d/(b*A); print('%d'%p)"
   ]
  },
  {
   "cell_type": "markdown",
   "metadata": {},
   "source": [
    "이 접촉압력은 brass 실린더에게는 외압을, 강 실린더에게는 내압을 준다."
   ]
  },
  {
   "cell_type": "markdown",
   "metadata": {},
   "source": [
    "외압을 받는 실린더 외면에서의 3개 방향 응력을 구해보면 다음과 같다."
   ]
  },
  {
   "cell_type": "code",
   "execution_count": 50,
   "metadata": {},
   "outputs": [],
   "source": [
    "sc = -p*(b**2+a**2)/(b**2-a**2); #circumferential = tangential\n",
    "sr = -p;                           # radial\n",
    "sl = p*(b**2)/(b**2-a**2);        #longitudinal = shear"
   ]
  },
  {
   "cell_type": "markdown",
   "metadata": {},
   "source": [
    "상기 계산한 각 응력은 주응력이므로, 최대 전단응력은 각 주응력 차의 최대값이 된다."
   ]
  },
  {
   "cell_type": "code",
   "execution_count": 51,
   "metadata": {},
   "outputs": [
    {
     "data": {
      "text/plain": [
       "7996.155586971463"
      ]
     },
     "execution_count": 51,
     "metadata": {},
     "output_type": "execute_result"
    }
   ],
   "source": [
    "max(abs(sc - sr),abs(sr - sl),abs(sl - sc))/2"
   ]
  },
  {
   "cell_type": "code",
   "execution_count": null,
   "metadata": {},
   "outputs": [],
   "source": []
  }
 ],
 "metadata": {
  "kernelspec": {
   "display_name": "Python 3",
   "language": "python",
   "name": "python3"
  },
  "language_info": {
   "codemirror_mode": {
    "name": "ipython",
    "version": 3
   },
   "file_extension": ".py",
   "mimetype": "text/x-python",
   "name": "python",
   "nbconvert_exporter": "python",
   "pygments_lexer": "ipython3",
   "version": "3.8.3"
  }
 },
 "nbformat": 4,
 "nbformat_minor": 4
}
