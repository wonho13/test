{
 "cells": [
  {
   "cell_type": "markdown",
   "metadata": {},
   "source": [
    "## 1. ALLOWABLE STRESS DESIGN"
   ]
  },
  {
   "cell_type": "markdown",
   "metadata": {},
   "source": [
    "실제 응력이 결정되면, 그 응력은 **허용응력**과 비교할 수 있다. 공학설계에서 **허용**이라 함은 재료 강도에 안전율이 적용되었음을 의미한다."
   ]
  },
  {
   "cell_type": "markdown",
   "metadata": {},
   "source": [
    "허용응력 = 재료강도/안전률"
   ]
  },
  {
   "cell_type": "markdown",
   "metadata": {},
   "source": [
    "연성재료의 경우, 항복강도가 재료강도로 사용된다. 강의 경우 안전률은 1.5 ~ 2.5 정도의 범위를 가지며, 강의 형태 및 적용 분야에 따라 달라진다. 높은 안전률은 보통 잘 사용되지 않는다. 왜쟈하면 강의 성능은 예측 가능하고 신뢰성이 있기 때문이다."
   ]
  },
  {
   "cell_type": "markdown",
   "metadata": {},
   "source": [
    "$$\\sigma_a=\\frac{S_y}{FS}\\;\\;[ductile]\\tag{53.2}$$"
   ]
  },
  {
   "cell_type": "markdown",
   "metadata": {},
   "source": [
    "취성재료의 경우 극한강도가 재료강도로 사용된다. 취성재료의 파손은 갑자기 예상할수 없게 발생하기 때문에 높은 안전률(6~10)을 사용한다."
   ]
  },
  {
   "cell_type": "markdown",
   "metadata": {},
   "source": [
    "$$\\sigma_a=\\frac{S_u}{SF}\\;\\;[brittle]\\tag{53.3}$$"
   ]
  },
  {
   "cell_type": "markdown",
   "metadata": {},
   "source": [
    "실제 응력이 허용응력보다 작으면, 허용가능한 설계로 본다. 이는 **허용응력설계방법**의 원리이며, **동작응력설계방법**이라고도 한다."
   ]
  },
  {
   "cell_type": "markdown",
   "metadata": {},
   "source": [
    "$$\\sigma_{actual} \\leq \\sigma_a\\tag{53.4}$$"
   ]
  },
  {
   "cell_type": "markdown",
   "metadata": {},
   "source": [
    "## 2. ULTIMATE STRESS DESIGN"
   ]
  },
  {
   "cell_type": "markdown",
   "metadata": {},
   "source": [
    "허용응력방법은 대부분 **극한강도설계방법** (**하중계수설계방법**, **소성설계방법**, **강도설계방법**)으로 대체되어 오고 있다. 이 방법은 허용응력을 더이상 사용하지 않는다. 대신 실제 **공칭강도**가 요구되는 극한강도를 초과하도록 부재를 설계한다."
   ]
  },
  {
   "cell_type": "markdown",
   "metadata": {},
   "source": [
    "부재의 **극한강도**(즉, 요구되는 강도)는 실제 **운전하중**과 **과부하계수(overload factor)** 또는 하중계수를 사용하여 계산된다. 보통, 사하중(dead load)와 활하중(live load)을 구분한다. 예를들어, ACI 318에 따라 설계되는 콘크리트 빔에 요구되는 극한 모멘트 전달 용량은 다음과 같다."
   ]
  },
  {
   "cell_type": "markdown",
   "metadata": {},
   "source": [
    "$$M_u=1.2 M_{dead load} + 1.6 M_{live load}\\tag{53.5}$$"
   ]
  },
  {
   "cell_type": "markdown",
   "metadata": {},
   "source": [
    "부재의 **공칭강도**(즉, 실제 극한강도)는 치수와 재료로 부터 계산된다. 0.70~0.90 정도의 **용량감소계수** $\\phi$를 고려하여 계산하며, 이는 제작기술과 요구되는 강도의 증가를 고려하기 위함이다. 허용가능한 설계에 대한 모멘트 기준은 다음과 같다."
   ]
  },
  {
   "cell_type": "markdown",
   "metadata": {},
   "source": [
    "$$M_n \\geq \\frac{M_u}{\\phi}\\tag{53.6}$$"
   ]
  },
  {
   "cell_type": "markdown",
   "metadata": {},
   "source": [
    "## 3. SLENDER COLUMNS"
   ]
  },
  {
   "cell_type": "markdown",
   "metadata": {},
   "source": [
    "매우 짧은 압축 부재는 **piers**라고 한다. 긴 압축 부재는 **column**이라고 한다. piers는 응력이 재료의 항복응력을 초과할 때 파손된다. 하지만 매우 긴 column은 압축 응력이 항봉윽력에 이르기 전 옆으로 발생하는 **좌굴**에 의해 파손된다. 좌굴파손은 갑작스럽게 발생하며 특별한 굽힘에 대한 징후가 없이 발생한다. column이 파손될때의 하중은 **임계하중** 또는 **오일러하중**이라고 한다."
   ]
  },
  {
   "cell_type": "markdown",
   "metadata": {},
   "source": [
    "**오일러하중**은 초기에 직선이었던 column이 좌굴 없이 견딜 수 있는 이론적 최대 하중을 의미한다. 마찰이 없거나 pin으로 고정된 column의 경우 오일러 하중은 식 53.7과 같다. $r$은 **radius of gyration**이다."
   ]
  },
  {
   "cell_type": "markdown",
   "metadata": {},
   "source": [
    "$$F_e=\\frac{\\pi^2 EI}{L^2}=\\frac{\\pi^2 EA}{\\left(\\frac{L}{r}\\right)^2}\\tag{53.7}$$"
   ]
  },
  {
   "cell_type": "markdown",
   "metadata": {},
   "source": [
    "이에 해당하는 column의 응력은 식 53.8과 같다. 오일러 이론을 사용하기 이해 이 응력은 column 재료 압축 항복 응력의 절반을 초과하면 안된다."
   ]
  },
  {
   "cell_type": "markdown",
   "metadata": {},
   "source": [
    "$$\\sigma_e=\\frac{F_e}{A}=\\frac{\\pi^2 E}{\\left(\\frac{L}{r}\\right)^2}\\;\\;[\\sigma_e < \\frac{1}{2}S_y]\\tag{53.8}$$"
   ]
  },
  {
   "cell_type": "markdown",
   "metadata": {},
   "source": [
    "$L/r$은 **slenderness ratio**이다. 긴 column은 높은 slenderness ratio를 갖는다. 식 53.8에서 가장 작은 slenderness ratio는 $\\sigma_e=S_y$로 설정하면 구할 수 있으며, 이를 **critical slenderness ratio**라고 한다. 일반적으로 critical slenderness ratio는 80 ~ 120 의 범위를 갖는다. critical slenderness ratio는 압축 항복 강도가 증가함에 따라 작아진다."
   ]
  },
  {
   "cell_type": "markdown",
   "metadata": {},
   "source": [
    "$L$은 지지되지 않은 column의 최대 길이이다. column이 특정 점에서 좌굴에 대해 지지되면 이러한 column은 **braced column**이라고 하며, $L$은 전체 column 높이보다 작아질 것이다. 사각 단면을 갖는 column은 2개의 radii of gyration $r_x$, $r_y$를 가지며, 따라서 2개의 slenderness ratio를 갖는다. 가장 큰 slenderness ratio에 따라 설계가 결정된다."
   ]
  },
  {
   "cell_type": "markdown",
   "metadata": {},
   "source": [
    "colum은 항상 마찰이 없는 즉 pin 연결부를 갖는 것은 아니다. 때로는 column이 상단 및 하단에서 고정(clamped, build in 등)될 수 있다. 이러한 경우 **effective length** $L'$을 $L$ 대신 사용해야 한다."
   ]
  },
  {
   "cell_type": "markdown",
   "metadata": {},
   "source": [
    "$$L'=KL\\tag{53.9}$$"
   ]
  },
  {
   "cell_type": "markdown",
   "metadata": {},
   "source": [
    "식 53.8은 식 53.10이 된다."
   ]
  },
  {
   "cell_type": "markdown",
   "metadata": {},
   "source": [
    "$$\\sigma_e=\\frac{F_e}{A}=\\frac{\\pi^2 E}{\\left(\\frac{L'}{r}\\right)^2}\\;\\;[\\sigma_e < \\frac{1}{2}S_y]\\tag{53.10}$$"
   ]
  },
  {
   "cell_type": "markdown",
   "metadata": {},
   "source": [
    "$K$는 **end restraint coefficient**이며 표 53.1에 따라 0.5 ~ 2.0의 범위를 갖는다. 대부분의 실제 colum의 경우 $K$는 설계용 값이 사용되어야 한다. 왜냐하면 무한한 강성을 갖는 지지 구조물은 실제로 불가능하기 때문이다."
   ]
  },
  {
   "cell_type": "markdown",
   "metadata": {},
   "source": [
    "column의 **오일러커브** (그림 53.1에서 BCD 선)는 **오일러응력**(식 53.8)을 slenderness ratio에 대하여 그래프로 그리면 얻을 수 있다. 재료의 압축 항복 강도는 초과될 수 없기 때문에, 수평선 AC가 추가된다. 이론적으로 slenderness ratio가 $(SR)_c$보다 작은 부재는 순수 압축 부재로 간주된다. 하지만 실제로 그렇지는 않다."
   ]
  },
  {
   "cell_type": "markdown",
   "metadata": {},
   "source": [
    "재료결함, 제작오차, 경계조건의 이론과의 차이, 편심은 점 $C$ 근처에서 colum의 파손을 일으킨다. 이 부분은 설계자가 고려해야 한다."
   ]
  },
  {
   "cell_type": "markdown",
   "metadata": {},
   "source": [
    "표 53.1"
   ]
  },
  {
   "cell_type": "markdown",
   "metadata": {},
   "source": [
    "그림 53.1"
   ]
  },
  {
   "cell_type": "markdown",
   "metadata": {},
   "source": [
    "실험적 **Johnson procedure**를 사용하면 이러한 파손 구역을 고려할 수 있으며, 응력이 $\\frac{1}{2}S_y$인 지점에서 오일러 커브 상의 점 T를 설정하고, 점T에 접하는 parabolic 커브를 점 A와 연결하여 그리면 된다. 이에 대항하는 slenderness ratio 값은 다음과 같다."
   ]
  },
  {
   "cell_type": "markdown",
   "metadata": {},
   "source": [
    "$$(SR)_T=\\sqrt{\\frac{2\\pi^2E}{S_y}}\\tag{53.11}$$"
   ]
  },
  {
   "cell_type": "markdown",
   "metadata": {},
   "source": [
    "### 예제 53.1"
   ]
  },
  {
   "cell_type": "markdown",
   "metadata": {},
   "source": [
    "8.5 ft 길이의 column 강 부재가 있다. 끝단은 pin으로 연결된다. 안전률 3.0을 갖기 위한 최대 허용 압축 응력은 얼마인가? 다음의 column 정보를 사용하라."
   ]
  },
  {
   "cell_type": "code",
   "execution_count": 3,
   "metadata": {},
   "outputs": [],
   "source": [
    "import numpy as np"
   ]
  },
  {
   "cell_type": "code",
   "execution_count": 15,
   "metadata": {},
   "outputs": [],
   "source": [
    "L = 8.5 * 12;\n",
    "E = 2.9*10**7;\n",
    "Sy=36000;\n",
    "r=0.569;\n",
    "FS=3;"
   ]
  },
  {
   "cell_type": "code",
   "execution_count": 12,
   "metadata": {},
   "outputs": [
    {
     "name": "stdout",
     "output_type": "stream",
     "text": [
      "SR = 179.3, (SR)_T = 126.1\n",
      "Slenderness ratio가 Johnson 기준보다 더 크다. 따라서 column은 좌굴에 의해 파손된다.\n"
     ]
    }
   ],
   "source": [
    "SR_T=np.sqrt((2*(np.pi**2)*E)/Sy);  # Eq 53.11\n",
    "K = 1;  # pinned\n",
    "SR = L / r;\n",
    "print(\"SR = %.1f, (SR)_T = %.1f\"%(SR,SR_T));\n",
    "print(\"Slenderness ratio가 Johnson 기준보다 더 크다. 따라서 column은 좌굴에 의해 파손된다.\");"
   ]
  },
  {
   "cell_type": "code",
   "execution_count": 20,
   "metadata": {},
   "outputs": [
    {
     "name": "stdout",
     "output_type": "stream",
     "text": [
      "8907 lbf/in^2는 항복응력의 절반인 18000 lbf/in^2보다 작으므로 오일러 식은 타당하다. 허용 응력은 다음과 같다.\n"
     ]
    }
   ],
   "source": [
    "se=((np.pi**2)*E)/(SR**2);       # Eq 53.10\n",
    "print(\"%.f lbf/in^2는 항복응력의 절반인 %.f lbf/in^2보다 작으므로 오일러 식은 타당하다. 허용 응력은 다음과 같다.\"%(se,Sy/2));"
   ]
  },
  {
   "cell_type": "code",
   "execution_count": 21,
   "metadata": {},
   "outputs": [
    {
     "name": "stdout",
     "output_type": "stream",
     "text": [
      "2969 lbf/in^2\n"
     ]
    }
   ],
   "source": [
    "sa = se/FS; print(\"%.f lbf/in^2\"%sa);"
   ]
  },
  {
   "cell_type": "markdown",
   "metadata": {},
   "source": [
    "## 4. INTERMEDIATE COLUMNS"
   ]
  },
  {
   "cell_type": "markdown",
   "metadata": {},
   "source": [
    "critical slenderness ratio 보다 작은 slenderness ratio를 갖지만, pier라고 하기에는 긴 column을 **inetmediate column**이라고 한다. **parabolic 공식**(AKA J.B. Johnson 공식)을 사용해 그림 53.1에서 점 A와 T 사이의 parabolic 선을 그릴 수 있다. 임계 응력은 식 53.12와 같으며, a, b는 커브피팅 상수이다."
   ]
  },
  {
   "cell_type": "markdown",
   "metadata": {},
   "source": [
    "$$\\sigma_{cr}=\\frac{F_{cr}}{A}=a-b\\left(\\frac{KL}{r}\\right)^2\\tag{53.12}$$"
   ]
  },
  {
   "cell_type": "markdown",
   "metadata": {},
   "source": [
    "일반적으로 A점에서의 응력을 $S_y$로, T점에서의 응력을 $\\frac{1}{2}S_y$로 가정한다. 이 경우 parabolic 공식은 다음과 같이된다."
   ]
  },
  {
   "cell_type": "markdown",
   "metadata": {},
   "source": [
    "$$\\sigma_{cr}=S_y-\\left(\\frac{1}{E}\\right)\\left(\\frac{S_y}{2\\pi}\\right)^2\\left(\\frac{KL}{r}\\right)^2\\tag{53.13}$$"
   ]
  },
  {
   "cell_type": "code",
   "execution_count": null,
   "metadata": {},
   "outputs": [],
   "source": []
  }
 ],
 "metadata": {
  "kernelspec": {
   "display_name": "Python 3",
   "language": "python",
   "name": "python3"
  },
  "language_info": {
   "codemirror_mode": {
    "name": "ipython",
    "version": 3
   },
   "file_extension": ".py",
   "mimetype": "text/x-python",
   "name": "python",
   "nbconvert_exporter": "python",
   "pygments_lexer": "ipython3",
   "version": "3.8.3"
  }
 },
 "nbformat": 4,
 "nbformat_minor": 4
}
