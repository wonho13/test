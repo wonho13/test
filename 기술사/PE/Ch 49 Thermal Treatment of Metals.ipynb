{
 "cells": [
  {
   "cell_type": "markdown",
   "metadata": {},
   "source": [
    "## 1. SOLUBLE ALLOY EQUILIBRIUM DIAGRAMS"
   ]
  },
  {
   "cell_type": "markdown",
   "metadata": {},
   "source": [
    "대부분의 공학 재료들은 순수 물질이 아니고 2개 이상 물질의 합금이다. 2개 물질의 합금은 **binary alloy**라고 한다. 보통 한개의 물질이 훨씬 작은 양을 가지며 이 물질은 **alloy ingredient**라고 한다. 주요 성분은 **host ingredient, base metal, parent ingredient**라고 부른다."
   ]
  },
  {
   "cell_type": "markdown",
   "metadata": {},
   "source": [
    "때로는 구리 또는 니켈 합금의 경우 합금 성분은 부모 성분에 100% 용해 가능하다. 니켈-구리 합금은 **completely miscible alloy** 또는 **solid-solution alloy**라고 부른다."
   ]
  },
  {
   "cell_type": "markdown",
   "metadata": {},
   "source": [
    "합금 성분의 존재는 열역학적 물성을 변화시키며, 특히 각 물질들의 어는점(또는 녹는점)이 많이 바뀐다. 보통 어는점은 합금 성분의 비율이 증가함에 따라 감소한다. 두 물질의 어는점은 같지 않기 때문에, 둘중 한 물질이 더 높은 점에서 고체화 되기 시작한다. 따라서 어떠한 주어진 조성에 대해서도 합금은 온도에 따라 모두 액체, 모두 고체 또는 고체와 액체의 조합으로 구성될 수 있다."
   ]
  },
  {
   "cell_type": "markdown",
   "metadata": {},
   "source": [
    "특정 온도에서 재료의 상은 특정 조성, 결정구조, 물리적, 전기적, 열역학적 물성을 갖게 된다. (야금학에서 **상(phase)** 은 고체, 액체, 기체 상 이상의 의미를 갖는다.)"
   ]
  },
  {
   "cell_type": "markdown",
   "metadata": {},
   "source": [
    "**equilibrium diamgram** 또는 **phase diagram**은 다양한 합금의 상을 보여준다. 각 상들은 온도 및 조성에 대해 그래프로 그려진다. (조성(composition)은 보통 합금 성분의 질량 분율이다. binary alloy의 경우 1개 성분의 질량 분율만 plot되면 된다.) 가끔 합금 성분의 양은 원자분율(atomic fraction) 또는 원자퍼센트(atomic precent)로 표기되기도 한다. 중력분율 $G_A$, $G_B$와 원자 분율 $A_A$, $A_B$의 변환은 분자량(molecular weight) $M_A$, $M_B$에 따라 결정된다."
   ]
  },
  {
   "cell_type": "markdown",
   "metadata": {},
   "source": [
    "$$A_A=\\frac{M_B G_A}{M_B G_A + M_A G_B}\\tag{49.1}$$"
   ]
  },
  {
   "cell_type": "markdown",
   "metadata": {},
   "source": [
    "$$A_B=\\frac{M_A G_B}{M_B G_A + M_A G_B}\\tag{49.2}$$"
   ]
  },
  {
   "cell_type": "markdown",
   "metadata": {},
   "source": [
    "$$G_A=\\frac{M_A A_A}{M_A A_A + M_B A_B}\\tag{49.3}$$"
   ]
  },
  {
   "cell_type": "markdown",
   "metadata": {},
   "source": [
    "$$G_B=\\frac{M_B A_B}{M_A A_A + M_B A_A}\\tag{49.4}$$"
   ]
  },
  {
   "cell_type": "markdown",
   "metadata": {},
   "source": [
    "평형조건은 빠르게 일어나지 않으며, 평형선도(equilibrium diagram)은 느린 냉각의 경우에만 적용 가능하다."
   ]
  },
  {
   "cell_type": "markdown",
   "metadata": {},
   "source": [
    "그림 49.1은 구리-니켈 합금에 대한 평형 선도이다. (대부분의 평형 선도들은 훨씬 더 복잡하다.) **액상선(liquidus line)** 은 이 선 위로 고체가 존재하지 않는 경계를 의미한다. **고상선(solidus line)** 은 이선 아래로 액체가 존재하지 않는 선을 의미한다. 이 두 선 사이에는 고체상 및 액체상의 혼합물이 존재하게 된다."
   ]
  },
  {
   "cell_type": "markdown",
   "metadata": {},
   "source": [
    "<img src='Figure 49.1.PNG'>"
   ]
  },
  {
   "cell_type": "markdown",
   "metadata": {},
   "source": [
    "그림 49.2에서 곡선 (a)는 순수 금속이 액체에서 고체 상태로 냉각되는 시간-온도 또는 시간-온도 곡선이다. 특정 지점에서 온도는 일정하게 유지된다(즉, **thermal arrest**가 존재한다). 이 온도는 액체의 어는점이고 **shelf** 또는 **plateau**라고 부르는 수평선으로 그래프에 표시된다. 금속은 액상에서 고상이 됨에 따라 계속 열에너지(heat of fusion)를 잃는다."
   ]
  },
  {
   "cell_type": "markdown",
   "metadata": {},
   "source": [
    "<img src='Figure 49.2.PNG'>"
   ]
  },
  {
   "cell_type": "markdown",
   "metadata": {},
   "source": [
    "2개 물질의 합금인 경우, 각 물질은 다른 온도에서 고체로 되기 때문에 2개의 plateau가 있다고 예상할 수 있다. 하지만, 고체화가 되는 온도 이상의 온도 범위가 존재하고, 변형 곡선은 굴곡점과 함께 부드러운 형상을 갖는다. 이는 그림 49.2의 곡선(b)에 나타나 있다."
   ]
  },
  {
   "cell_type": "markdown",
   "metadata": {},
   "source": [
    "시간-온도 곡선이 다양한 조성에 대해 그래프로 그려지면, 천이 온도는 구성 비율에 따라 달라지게 된다. 커브 굴곡점의 중심은 평형선도에서 액상선 및 고성산과 만난다 (그림 49.3 참고)"
   ]
  },
  {
   "cell_type": "markdown",
   "metadata": {},
   "source": [
    "<img src='Figure 49.3.PNG'>"
   ]
  },
  {
   "cell_type": "markdown",
   "metadata": {},
   "source": [
    "## 2. THE LEVER RULE"
   ]
  },
  {
   "cell_type": "markdown",
   "metadata": {},
   "source": [
    "액체-고체 영역 내에서, 고상과 액상의 퍼센트는 온도 및 조성에 대한 함수이다. 액상선 근처는 고상이 거의 없다. 고상선 근처에는 액상이 거의 없다. Lever Rule을 사용하면 특정 조성에서 액상과 고상의 상대적인 양을 알 수 있다. 이 퍼센트는 무게에 대한 분율(또는 퍼센트)로 주어진다."
   ]
  },
  {
   "cell_type": "markdown",
   "metadata": {},
   "source": [
    "그림 49.1은 2300℉에서 평균 55%의 구리를 갖는 조성에 대한 합금을 보여준다. (특정 온도에서 다른 상태를 보여주는 수평선을 **tie line**이라고 한다.) 액체 조성은 점 2로 정의되고, 고체 조성은 점 1로 정의된다."
   ]
  },
  {
   "cell_type": "markdown",
   "metadata": {},
   "source": [
    "고상과 액상의 분율은 거리 m, n, w(=m+n)에 따라 결정된다. 고체와 액체의 분율은 식 49.5와 식 49.6으로 계산할 수 있다."
   ]
  },
  {
   "cell_type": "markdown",
   "metadata": {},
   "source": [
    "$$fraction\\;solid=\\frac{n}{w}=1-fraction\\;liquid\\tag{49.5}$$"
   ]
  },
  {
   "cell_type": "markdown",
   "metadata": {},
   "source": [
    "$$fraction\\;liquid=\\frac{m}{w}=1-fraction\\;solid\\tag{49.6}$$"
   ]
  },
  {
   "cell_type": "markdown",
   "metadata": {},
   "source": [
    "Lever Rule과 2개 성분의 조성을 결정하는 것은 2개 상이 존재하는 경우 어떠한 용매, 혼합물, 액체, 고체에 대해서도 적용가능하다."
   ]
  },
  {
   "cell_type": "markdown",
   "metadata": {},
   "source": [
    "### 예제 49.1"
   ]
  },
  {
   "cell_type": "markdown",
   "metadata": {},
   "source": [
    "2300℉에서는 55% 구리 및 45% 니켈의 혼합물이 존재한다. 고체 및 액체 상의 분율과 각각의 조성은 어떠한가?"
   ]
  },
  {
   "cell_type": "markdown",
   "metadata": {},
   "source": [
    "**풀이**"
   ]
  },
  {
   "cell_type": "markdown",
   "metadata": {},
   "source": [
    "그림 49.1을 보면, 혼합물의 고체 부분은 점 1에서의 조성(44% 구리)을 가지며, 액체는 점 2에서의 조성(68% 구리)을 가진다."
   ]
  },
  {
   "cell_type": "markdown",
   "metadata": {},
   "source": [
    "상분율은 다음과 같다."
   ]
  },
  {
   "cell_type": "markdown",
   "metadata": {},
   "source": [
    "$$fraction\\;solid=\\frac{68\\%-55\\%}{68\\%-44\\%}=0.54\\;\\;(54\\%)$$"
   ]
  },
  {
   "cell_type": "markdown",
   "metadata": {},
   "source": [
    "$$fraction\\;liquid=1.00-0.54=0.46\\;\\;(46\\%)$$"
   ]
  },
  {
   "cell_type": "markdown",
   "metadata": {},
   "source": [
    "## 3. EUTECTIC ALLOY EQUILIBRIUM DIAGRAMS: PARTIAL SOLUBILITY"
   ]
  },
  {
   "cell_type": "markdown",
   "metadata": {},
   "source": [
    "제한된 양의 소금만 물에 녹을수 있는것과 마찬가지로 고체 혼합물이 흡수할 수 있는 합금 성분의 양에도 제한이 있는 경우가 많다. binary alloy의 성분들은 액체상태 내로 완전히 녹을 수 있지만, 고체상태 내로는 부분적으로만 녹을 수 있다."
   ]
  },
  {
   "cell_type": "markdown",
   "metadata": {},
   "source": [
    "합금 성분이 최대 용해량보다 많이 존재할 경우, 합금성분은 침전(precipitate)되어 나온다. 물과 같은 용매 내에서는 침전물은 용기 바닥으로 가라앉는다. 금속 합금 내에서 침전물은 주 금속 내에 퍼져있는 순수 결정과 같이 존재한다."
   ]
  },
  {
   "cell_type": "markdown",
   "metadata": {},
   "source": [
    "그림 49.4는 제한된 용해용량은 보이는 성분에 대한 전형적인 평형선도를 보여준다."
   ]
  },
  {
   "cell_type": "markdown",
   "metadata": {},
   "source": [
    "<img src='Figure 49.4.PNG'>"
   ]
  },
  {
   "cell_type": "markdown",
   "metadata": {},
   "source": [
    "화학분야에서 혼합물(mixture)은 고용체(solution)와 다른 의미를 갖는다. 물에 녹은 소금은 고용체이다. 설탕 결정과 소금 결정을 섞은 것은 혼합물이다. 각 성분의 녹는점보다 낮은 녹는점을 가지는 2개 고체 성분 혼합물을 구성하는 합금을 **eutectic alloy**라고 한다."
   ]
  },
  {
   "cell_type": "markdown",
   "metadata": {},
   "source": [
    "그림 49.4에서 점 C에서만 성분 $\\alpha$와 $\\beta$를 완전히 혼합할 수 있다. 이 점을 **eutectic composition**이라고 한다. ABC 영역 내의 물질은 성분 $\\alpha$ 액체 내의 고체 성분 $\\alpha$ 결정과 $\\beta$의 혼합물이다. 이 액체는 **eutectic material**이라고 하고, 선 B-D(eutectic line, eutectic point, eutectic temperature)까지 고체화 되지 않는다. 이는 euctectic material이 액체 형태로 존재할 수 있는 가장 낮은 지점이다."
   ]
  },
  {
   "cell_type": "markdown",
   "metadata": {},
   "source": [
    "두 물질은 섞이지 않기 때문에, 온도를 eutectic line 밑으로 낮추면 2개 순수 성분의 결정(측 또는 판)이 형성된다. 이는 고체 eutectic alloy의 미세구조이다: 두개 성분의 순수 결정이 번갈아 가면서 나타남. 2개 고체 물질은 단일 액체 물질에서 생성되므로, 이 과정은 다음과 같은 화학 반응 형태로 쓸 수 있다. 액체 $\\rightarrow\\;\\alpha+\\beta$ (반대로 가열에 대한 반응은 $\\alpha+\\beta\\;\\rightarrow\\;$액체 이다.) 이러한 이유로 상 변화를 **eutectic reaction**이라고 부른다."
   ]
  },
  {
   "cell_type": "markdown",
   "metadata": {},
   "source": [
    "다른 상들과 상테와 관련된 유사한 반응들이 있다. 표 49.1과 표 49.2는 이러한 반응들을 보여준다."
   ]
  },
  {
   "cell_type": "markdown",
   "metadata": {},
   "source": [
    "<img src='Table 49.1.PNG'>"
   ]
  },
  {
   "cell_type": "markdown",
   "metadata": {},
   "source": [
    "<img src='Table 49.2.PNG'>"
   ]
  },
  {
   "cell_type": "markdown",
   "metadata": {},
   "source": [
    "## 4. GIBBS PHASE RULE"
   ]
  },
  {
   "cell_type": "markdown",
   "metadata": {},
   "source": [
    "**Gibbs phase rule** 은 평형상태 혼합물에서 상의 수와 성분의 수 사이의 관계를 정의해 준다. 이러한 평형 혼합물이 존재하기 위해서는, 합금은 천천히 냉각되어야 하고, 열역학적 평형이 반드시 이루어 져야한다. 평형상태에서, 온도와 압력을 모두 독립변수로 고려하면 Gibbs phase rule은 다음과 같이 된다."
   ]
  },
  {
   "cell_type": "markdown",
   "metadata": {},
   "source": [
    "$$P\\;+\\;F\\;=\\;N\\;+\\;2\\;\\tag{49.7}$$"
   ]
  },
  {
   "cell_type": "markdown",
   "metadata": {},
   "source": [
    "P : 동시에 존재하는 상의 수\n",
    "\n",
    "F : 독립 변수의 개수 (DOF)\n",
    "\n",
    "N : 합금 내의 성분 수"
   ]
  },
  {
   "cell_type": "markdown",
   "metadata": {},
   "source": [
    "변할 수 있는 DOF의 예로는 조성, 온도, 압력이 있다."
   ]
  },
  {
   "cell_type": "markdown",
   "metadata": {},
   "source": [
    "예를 들어, 만약 물이 3개 상(고체, 액체, 기체)이 동시에 존재하도록 저장되어야 한다면, P=3, N=1, F=0이 된다. 즉, 압력과 온도는 변할 수 없다. 이 상태는 물의 삼중점에 해당한다."
   ]
  },
  {
   "cell_type": "markdown",
   "metadata": {},
   "source": [
    "만약 압력이 일정하면, DOF의 수는 1이 되고, Gibbs phse rule은 다음과 같이 쓸 수 있다."
   ]
  },
  {
   "cell_type": "markdown",
   "metadata": {},
   "source": [
    "$$P\\;+\\;F\\;=\\;N\\;+\\;1\\;(constant\\;pressure)\\tag{49.8}$$"
   ]
  },
  {
   "cell_type": "markdown",
   "metadata": {},
   "source": [
    "만약 Gibbs rule이 F=0으로 예측한다면, 합금은 1개 조성으로만 존재할 수 있다."
   ]
  },
  {
   "cell_type": "markdown",
   "metadata": {},
   "source": [
    "## 5. ALLOTROPIC CHANGES IN STEEL"
   ]
  },
  {
   "cell_type": "markdown",
   "metadata": {},
   "source": [
    "**동소체(Allotropes)**는 같은 조성(composition)을 갖지만 다른 원자 구조(미세구조), 체적, 전기저항, 자기특성을 갖는다. 순철의 경우, **allotropic change**는 **critical point**(즉, cirtical temperature)에서 발생하며 가역 변화이다. (표 49.3 참고)"
   ]
  },
  {
   "cell_type": "markdown",
   "metadata": {},
   "source": [
    "<img src='Table 49.3.PNG'>"
   ]
  },
  {
   "cell_type": "markdown",
   "metadata": {},
   "source": [
    "순철은 3가지 동소체 형태를 갖는다: 알파철, 델타철, 감마철. 철의 온도를 변화시키면 변화가 일어난다. 그림 49.5에 나타난 바와 같이, 순수 철을 상온에서부터 가열하면 BCC에서 FCC로 구조가 변화하며 이후 다시 BCC가 된다."
   ]
  },
  {
   "cell_type": "markdown",
   "metadata": {},
   "source": [
    "<img src='Figure 49.5.PNG'>"
   ]
  },
  {
   "cell_type": "markdown",
   "metadata": {},
   "source": [
    "**알파철(alpha-iron)** 은 **페라이트(ferrite)** 라고도 하며, $A_3$ 선 아래에만 존재하는 BCC 구조이다. 용해 가능한 최대 탄소량은 0.03%이며 이는 3개 동소체 형태 중 가장 낮은 값이다. 알파철은 -460℉에서 1674℉까지 안정하며, 부드럽고, 1414℉까지 강한 자성을 가진다. (베타철은 1418℉에서 1674℉사이에 존재하는 BCC 알파철의 비자성 형태이다. 보통 알파철과 베타철을 구분하지는 않는다.) "
   ]
  },
  {
   "cell_type": "markdown",
   "metadata": {},
   "source": [
    "**감마철(gamma-iron)** 은 철 원자의 배열이 FCC이고, 1674℉에서 2541℉ 사이에서 안정적이며 비자성이다. 고체 철의 최대 용해가능한 탄소량은 2.11%이다."
   ]
  },
  {
   "cell_type": "markdown",
   "metadata": {},
   "source": [
    "**델타철(delta-iron)** 은 2541℉ 이상에서 존재하는 철의 BCC 형태이다."
   ]
  },
  {
   "cell_type": "markdown",
   "metadata": {},
   "source": [
    "동소체 변화는 철-탄소 혼합물에서 조성에 따라 다른 온도에서 발생하기 때문에, **critical line**은 있지만, critical point는 없다. 저자에 따라 이 critical line들을 $A_c$, $A_r$ 또는 그냥 $A$로 표기한다. 그림 49.6 참고."
   ]
  },
  {
   "cell_type": "markdown",
   "metadata": {},
   "source": [
    "* $A_0$: critical line, 약 410℉, 이 선 이상에서 시멘타이트가 비자성으로 됨\n",
    "\n",
    "* $A_1$: lower critical point 또는 eutectoid temperature, 1333℉ 및 0.8% 탄소, 이 선 이상에서 오스테나이트에서 페라이트 또는 오스테나이트에서 시멘타이트로 변화가 발생\n",
    "\n",
    "* $A_2$: critical line, 약 1418℉, 이 선 아래에서 합금이 자성으로 바뀜\n",
    "\n",
    "* $A_3$: upper critical point 또는 critical line, 이선 위로는 오스테나이트, 아래로는 페라이트가 존재, 실제 온도는 조성에 따라 다름 (그림 49.6 참고)\n",
    "\n",
    "* $A_4$: critical point, 2541℉, 이 점에서 감마가 델타로 변화됨"
   ]
  },
  {
   "cell_type": "markdown",
   "metadata": {},
   "source": [
    "철-탄소 선도에서 특정 위치에서는 2개의 critical line이 만난다. 예를 들어, 0.8% 탄소 이상인 tie line (1333℉)은 $A_{1,3}$ 또는 $A_{13}$으로 표기한다."
   ]
  },
  {
   "cell_type": "markdown",
   "metadata": {},
   "source": [
    "## 6. THE IRON-CARBON DIAGRAM"
   ]
  },
  {
   "cell_type": "markdown",
   "metadata": {},
   "source": [
    "**철-탄소 상 선도(iron-carbon phase diagram)** 은 많은 다른 상들이 존재하기 때문에 이상화된 평형 선도보다 훨씬 복잡하다. 이 상들 각각은 다른 미세 구조를 가지며 따라서 다른 기계적 물성을 갖는다. 철을 특정 상이 생기도록 처리하면 원하는 마도 및 내구성 물성을 갖는 철을 생산할 수 있다."
   ]
  },
  {
   "cell_type": "markdown",
   "metadata": {},
   "source": [
    "<img src='Figure 49.6.PNG'>"
   ]
  },
  {
   "cell_type": "code",
   "execution_count": null,
   "metadata": {},
   "outputs": [],
   "source": []
  }
 ],
 "metadata": {
  "kernelspec": {
   "display_name": "Python 3",
   "language": "python",
   "name": "python3"
  },
  "language_info": {
   "codemirror_mode": {
    "name": "ipython",
    "version": 3
   },
   "file_extension": ".py",
   "mimetype": "text/x-python",
   "name": "python",
   "nbconvert_exporter": "python",
   "pygments_lexer": "ipython3",
   "version": "3.8.3"
  }
 },
 "nbformat": 4,
 "nbformat_minor": 4
}
