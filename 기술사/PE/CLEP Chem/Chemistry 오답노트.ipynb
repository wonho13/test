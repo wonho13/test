{
 "cells": [
  {
   "cell_type": "markdown",
   "metadata": {
    "heading_collapsed": true
   },
   "source": [
    "## AP Chemistry Test 1"
   ]
  },
  {
   "cell_type": "markdown",
   "metadata": {
    "hidden": true
   },
   "source": [
    "### Standard Potential 구하기\n",
    "\n",
    "$E^o = E_{oxidation} + E_{reduction}$\n",
    "\n",
    "*주의 : 반응식 앞의 계수는 무시함. 반응식 2개의 Potential을 그냥 \"더해\"주면 됨"
   ]
  },
  {
   "cell_type": "markdown",
   "metadata": {},
   "source": [
    "### Enthalpy of Formation (heat of formation) 구하기\n",
    "\n",
    "$\\Delta H^{o} = \\sum \\Delta H_f^{o}products-\\sum \\Delta H_f^{f}reactants$\n",
    "\n",
    "*주의: 반응식 앞의 계수 곱해줘야 함.\n",
    "\n",
    "예) $2CH_3OH+3O_2\\rightarrow 2CO_2+4H_2O$\n",
    "\n",
    "$\\Delta H^{o} = [(2)(\\Delta H_f^{o} CO_2)+(4)(\\Delta H_f^{o} H_2O)]-[(2)(\\Delta H_f^{o} CH_3OH)+(3)(\\Delta H_f^{o} O_2)]$"
   ]
  },
  {
   "cell_type": "markdown",
   "metadata": {
    "hidden": true
   },
   "source": [
    "### Volta 전지 전압(Potential)\n",
    "\n",
    "시간이 지남에 따라 감소함. Product 쪽 이온량이 증가하여 르샤틀리에 원리에 따라 역반응이 증가하기 때문."
   ]
  },
  {
   "cell_type": "markdown",
   "metadata": {
    "hidden": true
   },
   "source": [
    "### Volta 전지 염다리\n",
    "\n",
    "양이온이 감소하는 쪽에 양이온을 추가해줌"
   ]
  },
  {
   "cell_type": "markdown",
   "metadata": {
    "hidden": true
   },
   "source": [
    "### 분자구조\n",
    "\n",
    "Asymmetrical : 비대칭\n",
    "\n",
    "5개 다리 : symmetric임.\n",
    "\n",
    "B은 3개 다리(6개 외곽 전자)로도 안정함 ($BF_3$는 trigonal planer) -> symmetric 임?"
   ]
  },
  {
   "cell_type": "markdown",
   "metadata": {
    "hidden": true
   },
   "source": [
    "### 전기음성도, 원자 크기\n",
    "\n",
    "주기율표 오른쪽 위로 갈수록 전기음성도 증가, 원자크기 감소\n",
    "\n",
    "원자의 크기가 작으면 전기음성도 증가 (원자 크기가 전기음성도의 원인이 됨)\n",
    "\n",
    "전기음성도가 높으면 결합력이 강함"
   ]
  },
  {
   "cell_type": "markdown",
   "metadata": {
    "hidden": true
   },
   "source": [
    "### 평형상수\n",
    "\n",
    "$K_{eq} = e^{\\frac{-\\Delta G}{RT}}$\n",
    "\n",
    "$\\Delta G = \\Delta H - T \\Delta S$\n",
    "\n",
    "$K_{eq}$가 1보다 크려면 자발반응 즉 $\\Delta G$가 0보다 작아야 함. ($\\Delta G=-RT ln(K)$)\n",
    "\n",
    "$\\Delta G$가 0보다 작으려면, $\\Delta H$는 음수, $\\Delta S$는 양수여야 함."
   ]
  },
  {
   "cell_type": "markdown",
   "metadata": {
    "hidden": true
   },
   "source": [
    "### 산의 세기\n",
    "\n",
    "H와의 결합력이 약할수록 강산임\n",
    "\n",
    "HOF가 HOCl보다 강산인 이유는,\n",
    "\n",
    "F의 전기음성도가 더 높아(크기가 더 작아) O와의 결합력이 더 강하고, 따라서 H-O 결합력이 더 약하기 때문임"
   ]
  },
  {
   "cell_type": "markdown",
   "metadata": {
    "hidden": true
   },
   "source": [
    "### 강산의 종류\n",
    "\n",
    "염산, 브롬산, 요오드산? 황산, 질산, 염소산, "
   ]
  },
  {
   "cell_type": "markdown",
   "metadata": {
    "hidden": true
   },
   "source": [
    "### 평형의 이동\n",
    "\n",
    "온도 올림 : 흡열반응 증가 / 온도 내림 : 발열반응 증가\n",
    "\n",
    "dH > 0 : 흡열 / dH <0 : 발열 (온도를 흡수해서 H가 증가한다. 주의!)"
   ]
  },
  {
   "cell_type": "code",
   "execution_count": null,
   "metadata": {
    "hidden": true
   },
   "outputs": [],
   "source": []
  }
 ],
 "metadata": {
  "kernelspec": {
   "display_name": "Python 3",
   "language": "python",
   "name": "python3"
  },
  "language_info": {
   "codemirror_mode": {
    "name": "ipython",
    "version": 3
   },
   "file_extension": ".py",
   "mimetype": "text/x-python",
   "name": "python",
   "nbconvert_exporter": "python",
   "pygments_lexer": "ipython3",
   "version": "3.7.4"
  },
  "latex_envs": {
   "LaTeX_envs_menu_present": true,
   "autoclose": false,
   "autocomplete": true,
   "bibliofile": "biblio.bib",
   "cite_by": "apalike",
   "current_citInitial": 1,
   "eqLabelWithNumbers": true,
   "eqNumInitial": 1,
   "hotkeys": {
    "equation": "Ctrl-E",
    "itemize": "Ctrl-I"
   },
   "labels_anchors": false,
   "latex_user_defs": false,
   "report_style_numbering": false,
   "user_envs_cfg": false
  }
 },
 "nbformat": 4,
 "nbformat_minor": 5
}
