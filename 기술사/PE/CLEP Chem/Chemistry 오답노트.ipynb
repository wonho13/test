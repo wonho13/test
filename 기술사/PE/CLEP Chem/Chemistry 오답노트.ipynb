{
 "cells": [
  {
   "cell_type": "markdown",
   "metadata": {
    "heading_collapsed": true
   },
   "source": [
    "## AP Chemistry Test 1"
   ]
  },
  {
   "cell_type": "markdown",
   "metadata": {},
   "source": [
    "### Gibb's Free Energy, Entropy, Enthalpy\n",
    "\n",
    "(1) 엔트로피(J/mol K), 엔탈비(kJ/mol K) 단위 환산 유의!\n",
    "\n",
    "(2) $\\Delta G$ < 0 : 자발(spontaenous) 반응, $\\Delta G$ = 0 : 평형상태\n",
    "\n",
    "(3) $\\Delta G = \\Delta H - T\\Delta S$\n",
    "\n",
    "$\\Delta H$ > 0 : 흡열반응\n",
    "\n",
    "| $\\Delta H$ | $\\Delta S$ | $T$ | $\\Delta G$|  |\n",
    "| :---:       | :---:        | :---: | :---:       |:-|\n",
    "| - | + | Low/High | - | Always favored |\n",
    "| + | - | Low/High | + | Never favored |\n",
    "| + | + | Low | + |Not favored at low temperature |\n",
    "| + | + | High | - |Favored at high temperature |\n",
    "| - | - | Low | - |Favored at low temperature |\n",
    "| - | - | High | + |Not favored at high temperature |\n",
    "\n",
    "온도에 따라 favored/unfavored가 나뉘면, $\\Delta H$와 $\\Delta S$의 부호가 같다.\n",
    "\n",
    "온도와 상관 없이 favored/unfavored 이면, $\\Delta H$와 $\\Delta S$의 부호가 다르다.\n",
    "\n",
    "(4) $\\Delta S$\n",
    "\n",
    "- 기체 몰수가 증가하면 양수, 감소하면 음수\n",
    "\n",
    "- 기체 > 액체 > 고체"
   ]
  },
  {
   "cell_type": "markdown",
   "metadata": {
    "hidden": true
   },
   "source": [
    "### Standard Potential 구하기\n",
    "\n",
    "$E^o = E_{oxidation} + E_{reduction}$\n",
    "\n",
    "*주의 : 반응식 앞의 계수는 무시함. 반응식 2개의 Potential을 그냥 \"더해\"주면 됨"
   ]
  },
  {
   "cell_type": "markdown",
   "metadata": {},
   "source": [
    "### Enthalpy of Formation (heat of formation) 구하기\n",
    "\n",
    "결합을 깨는데 에너지(열) 필요함. 결합을 형성할 때는 에너지(열) 방출함.\n",
    "\n",
    "Solution이 발열반응 : 물과결합 에너지 > 기존 결합 에너지 / 흡열반응 : 물과결합 에너지 < 기존 결합 에너지\n",
    "\n",
    "$\\Delta H^{o} = \\sum \\Delta H_f^{o}products-\\sum \\Delta H_f^{f}reactants$\n",
    "\n",
    "*주의: 반응식 앞의 계수 곱해줘야 함.\n",
    "\n",
    "예) $2CH_3OH+3O_2\\rightarrow 2CO_2+4H_2O$\n",
    "\n",
    "$\\Delta H^{o} = [(2)(\\Delta H_f^{o} CO_2)+(4)(\\Delta H_f^{o} H_2O)]-[(2)(\\Delta H_f^{o} CH_3OH)+(3)(\\Delta H_f^{o} O_2)]$"
   ]
  },
  {
   "cell_type": "markdown",
   "metadata": {
    "hidden": true
   },
   "source": [
    "### Volta 전지 전압(Potential)\n",
    "\n",
    "시간이 지남에 따라 감소함. Product 쪽 이온량이 증가하여 르샤틀리에 원리에 따라 역반응이 증가하기 때문."
   ]
  },
  {
   "cell_type": "markdown",
   "metadata": {
    "hidden": true
   },
   "source": [
    "### Volta 전지 염다리\n",
    "\n",
    "양이온이 감소하는 쪽에 양이온을 추가해줌"
   ]
  },
  {
   "cell_type": "markdown",
   "metadata": {},
   "source": [
    "### Faraday 상수\n",
    "\n",
    "$\\frac{96,500\\;C}{1\\; mol\\; e^-}$\n",
    "\n",
    "예시) 5 A 전류 흘렸을 때 철 1g 생기는 시간은?\n",
    "\n",
    "(1) 철 산화할 때 전자 2개 나옴 ($Fe \\; \\rightarrow Fe^{2+} + 2e^{-}$)\n",
    "\n",
    "(2) 철 molar mass는 55.85 g/mol\n",
    "\n",
    "(3) 몰단위 변경 -> 몰 비율로 원하는 원자로 변경 -> 원하는 단위 계산\n",
    "\n",
    "$(1\\; g\\; Fe) \\left(\\frac{1}{55.85\\; g/mol}\\right) \\left(\\frac{2\\; mol\\; e^{-}}{1\\;mol\\;Fe} \\right) \\left(\\frac{96,500\\;C}{1\\; mol\\; e^-} \\right) \\left(\\frac{1}{5\\;C/s}\\right)$"
   ]
  },
  {
   "cell_type": "markdown",
   "metadata": {
    "hidden": true
   },
   "source": [
    "### 분자구조\n",
    "\n",
    "다리 5,6개 인 경우 분자 구조 암기 필요\n",
    "\n",
    "주변원자수 : 5개 -> 4개 -> 3개 -> 2개\n",
    "\n",
    "Trigonal bipyramidal -> Seesaw -> T-shape -> Linear\n",
    "\n",
    "주변원자수 : 6개 -> 5개 -> 4개 -> 3개 -> 2개\n",
    "\n",
    "Octahetral -> Square pyramidal -> Square planer -> T-shape -> Linear\n",
    "\n",
    "Asymmetrical : 비대칭\n",
    "\n",
    "5개 다리 : symmetric임.\n",
    "\n",
    "B은 3개 다리(6개 외곽 전자)로도 안정함 ($BF_3$는 trigonal planer) -> symmetric 임?"
   ]
  },
  {
   "cell_type": "markdown",
   "metadata": {
    "hidden": true
   },
   "source": [
    "### 전기음성도, 원자 크기\n",
    "\n",
    "주기율표 오른쪽 위로 갈수록 전기음성도 증가, 원자크기 감소\n",
    "\n",
    "원자의 크기가 작으면 전기음성도 증가 (원자 크기가 전기음성도의 원인이 됨)\n",
    "\n",
    "전기음성도가 높으면 결합력이 강함"
   ]
  },
  {
   "cell_type": "markdown",
   "metadata": {
    "hidden": true
   },
   "source": [
    "### 평형상수\n",
    "\n",
    "$K_{eq} = e^{\\frac{-\\Delta G}{RT}}$\n",
    "\n",
    "$\\Delta G = \\Delta H - T \\Delta S$\n",
    "\n",
    "$K_{eq}$가 1보다 크려면 자발반응 즉 $\\Delta G$가 0보다 작아야 함. ($\\Delta G=-RT ln(K)$)\n",
    "\n",
    "$\\Delta G$가 0보다 작으려면, $\\Delta H$는 음수, $\\Delta S$는 양수여야 함."
   ]
  },
  {
   "cell_type": "markdown",
   "metadata": {
    "hidden": true
   },
   "source": [
    "### 산의 세기\n",
    "\n",
    "H와의 결합력이 약할수록 강산임\n",
    "\n",
    "HOF가 HOCl보다 강산인 이유는,\n",
    "\n",
    "F의 전기음성도가 더 높아(크기가 더 작아) O와의 결합력이 더 강하고, 따라서 H-O 결합력이 더 약하기 때문임\n",
    "\n",
    "pH = -log([H+])\n",
    "\n",
    "pH는 **음수**도 가능"
   ]
  },
  {
   "cell_type": "markdown",
   "metadata": {
    "hidden": true
   },
   "source": [
    "### 강산\n",
    "\n",
    "완전 해리됨\n",
    "\n",
    "6개 \n",
    "\n",
    "$HCl, HBr, HI, HNO_3, HClO_4, H_2SO_4$\n",
    "\n",
    "### 강염기\n",
    "\n",
    "완전 해리됨\n",
    "\n",
    "5개\n",
    "\n",
    "$LiOH, NaOH, KOH, Ba(OH)_2, Sr(OH)_2$"
   ]
  },
  {
   "cell_type": "markdown",
   "metadata": {
    "hidden": true
   },
   "source": [
    "### 산화수(Oxidation Number)\n",
    "\n",
    "$H_2O_2$에서 O는 -1 나머지 경우 O는 -2"
   ]
  },
  {
   "cell_type": "markdown",
   "metadata": {},
   "source": [
    "### 분자간의 힘 (끓는점)\n",
    "\n",
    "*분자간 힘이 약할수록 이상기체에 가까움\n",
    "\n",
    "(1) Dipole-Dipole\n",
    "\n",
    "극성이 클수록 강함. 극성은 원자 간 전기음성도 차이에 의해 발생. 단, 분자 구조가 대칭이면 비극성.\n",
    "\n",
    "(예, XeF4는  square planar -> symmetrical -> 비극성)\n",
    "\n",
    "(2) Hydrogen\n",
    "\n",
    "전기음성도 매우 큰 F, O, N과 H가 결합한 경우 발생\n",
    "\n",
    "(3) London Dispersion (=temporary dipole)\n",
    "\n",
    "무극성인 경우 (단원자분자). **전자**의 수가 많을수록 강함. (분자 크기, 질량은 무관)\n",
    "\n"
   ]
  },
  {
   "cell_type": "markdown",
   "metadata": {},
   "source": [
    "### Titration Curve\n",
    "\n",
    "equivalence point : 모든 염기 및 산이 중화되는 지점\n",
    "\n",
    "(1) 강산-강염기 : pH = 7 (중성 염만 남음)\n",
    "\n",
    "(2) 약산-강염기 : pH > 7 (약산의 짝염기만 남음)\n",
    "\n",
    "(3) 강산-약염기 : pH < 7 (약염기의 짝산만 남음)\n",
    "\n",
    "half-equivalence point : buffer 구간의 중심 -> 산의 농도와 짝염기 농도가 같음 $[HA]=[A^-]$\n",
    "\n",
    "이 지점은 $K_a=\\frac{[H^+][A^-]}{[HA]}=[H^+]$ 이므로, pKa = pH 임.\n",
    "\n"
   ]
  },
  {
   "cell_type": "markdown",
   "metadata": {},
   "source": [
    "### 평형상수(Keq) 변화, 평형의 이동, 반응속도 변화\n",
    "\n",
    "(1) 평형상수\n",
    "\n",
    "평형상수는 **오직 온도**에 의해서만 변화됨.\n",
    "\n",
    "온도 올림 -> 흡열 반응($\\Delta H>0$)으로 평형 이동 -> 평형이동 방향과 일치하는 Keq값 변화\n",
    "\n",
    "온도 내림 -> 발열 반응($\\Delta H<0$)으로 평형 이동 -> 평형이동 방향과 일치하는 Keq값 변화\n",
    "\n",
    "(2) 평형의 이동\n",
    "\n",
    "**단위 부피당, 단위 물당 몰수를 일정하게 유지하려 함**\n",
    "\n",
    "[농도]\n",
    "\n",
    "르샤틀리에 원리에 따라 농도 변화에 반대 방향으로 평형 이동.\n",
    "\n",
    "[압력]\n",
    "\n",
    "외부압력 증가 -> 부분압 증가 -> 부피가 줄어든 효과 -> 단위 부피 당 몰 수가 일정해지려 함 -> 몰이 적은 쪽으로 이동\n",
    "\n",
    "[부피]\n",
    "\n",
    "부피 감소(등온) -> 단위 부피 당 몰수가 일정해지려 함 -> 몰이 적은 쪽으로 이동\n",
    "\n",
    "[비활성 기체 추가] - 주의!!\n",
    "\n",
    "비활성 기체 추가(외부압력 일정) -> 부분압 감소 -> 부피가 늘어난 효과 -> 몰 많은 쪽으로 이동\n",
    "\n",
    "[온도]\n",
    "\n",
    "온도 높임 -> 흡열반응(dH > 0)으로 이동\n",
    "\n",
    "온도 낮춤 -> 발열반응(dH < 0)으로 이동\n",
    "\n",
    "[물추가-Dilution]\n",
    "\n",
    "(aq) 인 경우, 물을 추가하면 이온 많은 쪽(more aqueous)으로 이동\n",
    "\n",
    "물이 줄어들면(증발 등) 이온 적은 쪽으로 이동\n"
   ]
  },
  {
   "cell_type": "markdown",
   "metadata": {},
   "source": [
    "### Enthalpy of Solution for X\n",
    "\n",
    "(1) 물의 온도 감소량 = dT\n",
    "\n",
    "(2) 용해열 = Q = mcdT\n",
    "\n",
    "m : 물질량 + X 질량\n",
    "\n",
    "(3) H = Q / X의 몰수 = x kJ / mol\n",
    "\n",
    "-> 물의 온도가 감소했으면, X는 흡열반응 -> H는 양수\n",
    "\n",
    "-> 물의 온도가 증가했으면, X는 발열반응 -> H는 음수"
   ]
  },
  {
   "cell_type": "markdown",
   "metadata": {},
   "source": [
    "### auto-ionization of water"
   ]
  },
  {
   "cell_type": "markdown",
   "metadata": {},
   "source": [
    "### 포화용액(Saturated Solution)\n",
    "\n",
    "포화용액의 이온 농도는 항상 일정함.\n",
    "\n",
    "-> 포화용액에서 물이 감소하면, Precipitation 반응 일어남. 하지만 이온의 농도는 여전히 일정함."
   ]
  },
  {
   "cell_type": "code",
   "execution_count": null,
   "metadata": {},
   "outputs": [],
   "source": []
  }
 ],
 "metadata": {
  "kernelspec": {
   "display_name": "Python 3",
   "language": "python",
   "name": "python3"
  },
  "language_info": {
   "codemirror_mode": {
    "name": "ipython",
    "version": 3
   },
   "file_extension": ".py",
   "mimetype": "text/x-python",
   "name": "python",
   "nbconvert_exporter": "python",
   "pygments_lexer": "ipython3",
   "version": "3.7.3"
  },
  "latex_envs": {
   "LaTeX_envs_menu_present": true,
   "autoclose": false,
   "autocomplete": true,
   "bibliofile": "biblio.bib",
   "cite_by": "apalike",
   "current_citInitial": 1,
   "eqLabelWithNumbers": true,
   "eqNumInitial": 1,
   "hotkeys": {
    "equation": "Ctrl-E",
    "itemize": "Ctrl-I"
   },
   "labels_anchors": false,
   "latex_user_defs": false,
   "report_style_numbering": false,
   "user_envs_cfg": false
  }
 },
 "nbformat": 4,
 "nbformat_minor": 5
}
