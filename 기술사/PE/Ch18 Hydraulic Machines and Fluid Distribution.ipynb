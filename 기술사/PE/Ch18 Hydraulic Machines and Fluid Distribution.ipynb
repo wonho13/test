{
 "cells": [
  {
   "cell_type": "markdown",
   "metadata": {},
   "source": [
    "## 1. HYDRAULIC MACHINES"
   ]
  },
  {
   "cell_type": "markdown",
   "metadata": {},
   "source": [
    "본 장에서 논의할 기본적인 2개의 유압기기는 펌프와 터빈이다. 펌프는 기계적 에너지를 유체 에너지로 변환하고, 유체가 가지는 에너지를 증가시킨다. 터빈은 유체 에너지를 기계적 에너지로 변환하고, 유체로부터 에너지를 추출한다."
   ]
  },
  {
   "cell_type": "markdown",
   "metadata": {},
   "source": [
    "## 2. TYPES OF PUMPS"
   ]
  },
  {
   "cell_type": "markdown",
   "metadata": {},
   "source": [
    "에너지가 유체로 어떻게 전달되는지에 따라 펌프를 분류할 수 있다. 간헐적(intermittently), 연속적(continuously)"
   ]
  },
  {
   "cell_type": "markdown",
   "metadata": {},
   "source": [
    "**용적식 펌프(positive displacement pump, PD pump)** 의 가장 일반적인 형태는 피스톤, 플런저, 다이아프램, 벨로우즈를 사용하는 **왕복펌프(reciprocating action pump)** 와 베인, 스크류, 로브, progressing cavity를 사용하는 **회전펌프(rotary action pump)** 가 있다.이러한 펌프들은 각 행정(stroke) 또는 회전(revolution)마다 일정한 체적을 배출한다. 에너지는 간헐적으로 유체에 추가된다."
   ]
  },
  {
   "cell_type": "markdown",
   "metadata": {},
   "source": [
    "**운동량 수송식 펌프(kinetic pump)** 는 유체의 운동에너지를 유체의 정압 에너지로 변환시킨다. 펌프는 운동에너지를 전달한다: 펌프 메커니즘 또는 하우징은 변환을 일으키도록 만들어 져 있다. **분사펌프(jet pump)** 와 **이젝터 펌프(ejector pump)** 는 운동량 수송식 펌프이고, 대부분의 운동량 수속식 펌프는 **원심펌프(centrifugal pump)** 이다."
   ]
  },
  {
   "cell_type": "markdown",
   "metadata": {},
   "source": [
    "원심펌프 구동 중에는, **흡입구(suction side)** (**입구(inlet)**)로 흘러들어가는 유체들이 **임펠러(impeller)** 에게 붙잡히며, 펌프 케이싱 외부로 밀려나가게 된다. 케이싱 내부에서는, 임펠러가 만들어낸 유체 속도가 압력 에너지로 변환된다. 유체는 **배출구(discharge line)** (**출구(exit)**)를 통해 펌프에서 빠져나간다. 유체가 기준 유동 방향에서 약 90도 회전하는 것이 대부분의 원심펌프의 특정이다 (표 18.1 참고)"
   ]
  },
  {
   "cell_type": "markdown",
   "metadata": {},
   "source": [
    "<img src='Table 18.1.PNG'>"
   ]
  },
  {
   "cell_type": "markdown",
   "metadata": {},
   "source": [
    "## 3. RECIPROCATING POSITIVE DISPLACEMENT PUMPS"
   ]
  },
  {
   "cell_type": "markdown",
   "metadata": {},
   "source": [
    "**왕복형 용적식 펌프(reciprocating positive displacement (PD) pump)** 는 모든 유체에 사용 가능하며, 점성이 높은 유체 및 슬러리(slurries) (약 8000 SSU 까지)에 유용하고, 유체가 전단에 민감하거나, 높은 배출 압력이 요구될 때 유용하다. 왕복펌프는 유체 체적을 실린더 내에 가두어 사이클 당 일정한 체적 변화를 만들어 낸다. 왕복형 용적식 펌프는 자흡식(self-priming)이며, 누설이 없는 형태이다. 배관 및 압력경감밸브(pressure relief valve)의 압력 제한 범위 및 모터 회로의 전류 용량 내에서는 왕복형 펌프는 무한한 배출압을 만들어낼 수 있다."
   ]
  },
  {
   "cell_type": "markdown",
   "metadata": {},
   "source": [
    "왕복형 펌프의 주요한 3가지 종류는 다음과 같다: power, direct-acting, diaphragm. **파워펌프(power pump)** 는 **실린더 구동(cylinder-operated)** 펌프이다. 파워펌프는 단동(single-acting) 또는 복동(double-acting)일 수 있다. **단동펌프(single-acting pump)** 는 피스톤 한쪽 면에서만 유체를 배출 또는 흡입하며, 크랭크축 회전당 1번의 운송이 발생한다. **복동펌프(double-acting pump)** 는 양쪽으로 배출하고, 크랭크 회전당 2번의 운송이 발생한다. 피스톤과 로드가 있는 왕복형 ㅍ머프는 단동 또는 복동일 수 있으며, 약 2000 psi (14 MPa) 까지에 적합하다. **플런저 펌프(plunger pump)** 는 단동만 있으며, 약 10,000 psi (70 MPa) 까지에 적합하다."
   ]
  },
  {
   "cell_type": "markdown",
   "metadata": {},
   "source": [
    "**단식펌프(simplex pump)** 는 1개의 실린더, **복식펌프(duplex pump)** 는 2개의 실린더를, **삼중식펌프(triplex pump)** 는 3개의 실린더를 갖는다. **직동펌프(direct-acting pump)** (**증기펌프(steam pump)** 로도 불림)는 항상 복동(double-acting)이다. 직동펌프는 증기, 연소되지 않은 연료 가스, 압축 공기에 사용된다."
   ]
  },
  {
   "cell_type": "markdown",
   "metadata": {},
   "source": [
    "용적식펌프(PD pump)는 NPSHR 특성, 가속도 수두 및 (회전형 펌프인 경우) 슬립에 의해 제한된다. 유동은 정상유동이 아니므로 각 행정 또는 사이클 마다 유체 유동을 가속시키기 위한 에너지 즉, **가속도수두**, $h_{ac}$ 가 요구된다. 만약 가속도 수두가 너무 크면, NPSHR 요건을 만족 못시킬 수 있다. 가속도 수도는 배관 직경을 늘리거나, 흡입 배관을 짧게 하거나, 펌프 속도를 낮추거나, **맥동 앰퍼(pulsation damper) (안정기(stabilizer)** 를 배치하면 줄일 수 있다. "
   ]
  },
  {
   "cell_type": "code",
   "execution_count": null,
   "metadata": {},
   "outputs": [],
   "source": []
  }
 ],
 "metadata": {
  "kernelspec": {
   "display_name": "Python 3",
   "language": "python",
   "name": "python3"
  },
  "language_info": {
   "codemirror_mode": {
    "name": "ipython",
    "version": 3
   },
   "file_extension": ".py",
   "mimetype": "text/x-python",
   "name": "python",
   "nbconvert_exporter": "python",
   "pygments_lexer": "ipython3",
   "version": "3.8.3"
  }
 },
 "nbformat": 4,
 "nbformat_minor": 4
}
