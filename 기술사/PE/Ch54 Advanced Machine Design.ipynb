{
 "cells": [
  {
   "cell_type": "markdown",
   "metadata": {},
   "source": [
    "## 1. SPRINGS"
   ]
  },
  {
   "cell_type": "markdown",
   "metadata": {},
   "source": [
    "**이상적인 스프링**은 동작 범위에서 완전 탄성이라고 가정된다. 변형은 **훅의 법칙**을 따른다고 가정한다. **스프링 상수** k는 **강성, 스프링율, 스케일, k 값**라고도 불린다."
   ]
  },
  {
   "cell_type": "markdown",
   "metadata": {},
   "source": [
    "$$F=k\\delta \\tag{54.1}$$"
   ]
  },
  {
   "cell_type": "markdown",
   "metadata": {},
   "source": [
    "$$k=\\frac{F_1 - F_2}{\\delta_1 - \\delta_2}\\tag{54.2}$$"
   ]
  },
  {
   "cell_type": "markdown",
   "metadata": {},
   "source": [
    "스프링은 압축되거나 인장되면 에너지를 저장한다. **일-에너지 법칙**에 따라, 저장된 에너지는 스프링을 변형시키기 위해 요구되는 일의 양과 같다. 총 $\\delta$ 만큼 변형된 스프링에 저장된 에너지는 다음과 같다."
   ]
  },
  {
   "cell_type": "markdown",
   "metadata": {},
   "source": [
    "$$\\Delta E_p = \\frac{1}{2}k\\delta^2\\tag{54.3}$$"
   ]
  },
  {
   "cell_type": "markdown",
   "metadata": {},
   "source": [
    "질량 m이 높이 h에서 떨어져 스프링에 부딛히고 $\\delta$만큼 암축되면 위치에너지가 저장 에너지로 바뀐다."
   ]
  },
  {
   "cell_type": "markdown",
   "metadata": {},
   "source": [
    "$$mg(h+\\delta) = \\frac{1}{2}k\\delta^2\\;\\;\\;\\;[SI]\\tag{54.4(a)}$$"
   ]
  },
  {
   "cell_type": "markdown",
   "metadata": {},
   "source": [
    "$$m(\\frac{g}{g_c}(h+\\delta)=\\frac{1}{2}k\\delta^2\\;\\;\\;\\;[U.S.]\\tag{53.4(b)}$$"
   ]
  },
  {
   "cell_type": "markdown",
   "metadata": {},
   "source": [
    "탄성영역 내에서 이 에너지는 스프링을 원래 위치로 돌려놓으면 회복될 수 있다. 스프링이 원래 길이로 돌아올 때 영구변형은 없고 외부 마찰 또는 **히스테리시스** (내부 마찰)에 의한 에너지 손실을 없다고 가정한다."
   ]
  },
  {
   "cell_type": "markdown",
   "metadata": {},
   "source": [
    "직렬 연결된 스프링에 가해진 총 하중은 각 스프링에 분배된다. 직렬연결 스프링의 **등가(혼합) 스프링 상수**는 다음과 같다."
   ]
  },
  {
   "cell_type": "markdown",
   "metadata": {},
   "source": [
    "$$\\frac{1}{k_{eq}}=\\frac{1}{k_1}+frac{1}{k_2}+frac{1}{k_3}+\\cdots\\;\\;\\;\\;[series \\;springs]\\tag{54.5}$$"
   ]
  },
  {
   "cell_type": "markdown",
   "metadata": {},
   "source": [
    "## 2. SPRING MATERIALS"
   ]
  },
  {
   "cell_type": "markdown",
   "metadata": {},
   "source": [
    "고탄소강, 스테인리스강, 다양한 합금, 니켈합금(즉 인코넬), 구리합금(즉, phosphor-bronze, silicon-bronze)를 포함하여 매우 다양한 재료들이 스프링에 사용된다. (표 54.1 참고) **Super-alloy**는 고온 및 고 부식 환경에 사용된다. 스프링율, 피로강도, 온도범위, 부식저항, 자기특성, 비용 등을 모두 고려해야 한다."
   ]
  },
  {
   "cell_type": "markdown",
   "metadata": {},
   "source": [
    "선 경화된 재료로 제작된 스프링은 보통 성형 후 400℉ ~ 800 ℉ 사이로 가열하는 저온 과정을 통해 응력완화를 시킨다.복잡한 형상을 갖는 스프링은 annealed 재료로 제작하고 고온 과정을 통해 강화(strengthened) 작업이 수행되어야 한다. 이들은 우선 최대 경도로 담금질 되며 이후 tempered된다. 노화경화(age-hardenable) 재료(즉, 베릴륨 구리)는 단순히 성형 후 가열함으로 써 강화될 수 있다."
   ]
  },
  {
   "cell_type": "markdown",
   "metadata": {},
   "source": [
    "대부분의 스프링은 저온에서 감긴다. 스프링 직경이 1/2 in 또는 5/8 in를 훨씬 넘는다면 빨간 고온 상태에서 감긴다. 고온에서 감기는 스프링이나 저온에서 감기는 스프링이나 본질적으로 설계 방법은 동일하지만, 허용 응력은 약 20% 감소하며, 탄성계쑤가 약간 감소된다. (전단계수의 경우 약 9%, 탄성계수의 경우 약 5%)."
   ]
  },
  {
   "cell_type": "markdown",
   "metadata": {},
   "source": [
    "<img src='Table 54.1.PNG'>"
   ]
  },
  {
   "cell_type": "markdown",
   "metadata": {},
   "source": [
    "고온에서 감는 스프링의 제작과 관련하여 특수한 문제점 및 필요사항들이 있다."
   ]
  },
  {
   "cell_type": "markdown",
   "metadata": {},
   "source": [
    "음악선(music wire) (ASTM A228), 탄소 및 합금 밸브 스프링 와이어(ASTM A230), 프롬-바나듐 (ASTM A232), 베릴륨 구리 (ASTM B197), 인청동(phosphor bronze) (ASTM B159), 더 낮은 수준의 경우 TYPE 302 스테인리스 강 (ASTM A313)은 피로 운전에 적절한 재료들이다. **숏피팅** (응력 피닝)은 스프링 피로 수명을 증가시키기 위한 최고의 방법 중 하나이다."
   ]
  },
  {
   "cell_type": "markdown",
   "metadata": {},
   "source": [
    "<img src='Table 54.2.PNG'>"
   ]
  },
  {
   "cell_type": "markdown",
   "metadata": {},
   "source": [
    "## 3. ALLOWABLE STRPING STRESSES: STATIC LOADING"
   ]
  },
  {
   "cell_type": "markdown",
   "metadata": {},
   "source": [
    "헬리컬 압축 및 인장 스프링은 비틀림 전단응력을 받는다. 전단 방향에서 항복강도는 이론적 최대 응력이다. 정하중 조건에서 최대 허용 전단응력을 결정하는 3가지 일반적인 방법이 있다."
   ]
  },
  {
   "cell_type": "markdown",
   "metadata": {},
   "source": [
    "1. 극한 인장 강도의 적당한 퍼센트를 근거로 허용 응력을 결정하는 것이 가장 일반적인 방법이다. 오스테아트계 스테인리스를 제외한 ferrous 재료의 경우 약 45% ~ 65%를 사용한다. nonferrous 및 오스테나이트계 스테인리스의 경우 35% ~ 55% 정도를 사용한다. 하한치는 비구속 설계 (즉, 스프링 직경이 응력이 낮은 상태로 유지할 만큼 클 수 있는 경우)에 사용해야 한다. 더 높은 한계는 공간이 제한되어 있고 높은 응력이 발생할 수 있을 경우 사용한다."
   ]
  },
  {
   "cell_type": "markdown",
   "metadata": {},
   "source": [
    "2. 전단 방향에서 항복강도를 기반으로 호용 응력을 결정하는 것은 아마도 가장 이론적으로 합당한 방법일 것이다. 전단 방향에서의 항복강도는 최대 전단응력 또는 변형 에너지 이론을 사용해 인장 항복강도로 부터 계산할 수 있다. 이를 사용할 경우 ferrous 스프링의 안전률은 약 1.5가 적절하다."
   ]
  },
  {
   "cell_type": "markdown",
   "metadata": {},
   "source": [
    "3. 일부 스펙에서는 인장항복강도의 몇 퍼센트를 비틀림 전단응력의 한계로 지정한다."
   ]
  },
  {
   "cell_type": "markdown",
   "metadata": {},
   "source": [
    "일부 스프링들(즉, 평평한 leaf 스프링, 헬리컬 비클림 스프링)은 굽힘 응력이 발생한다. 이러한 스프링들은 스프링 재료의 인장 항복강도로 제한해야 한다."
   ]
  },
  {
   "cell_type": "markdown",
   "metadata": {},
   "source": [
    "## 4. SAFE SPRING STRESS: FATIGUE LOADING"
   ]
  },
  {
   "cell_type": "markdown",
   "metadata": {},
   "source": [
    "반복 응력이 발생하는 스프링을 설계 또는 해석하는데 사용될 수 있는 2가지 방법이 있다. 가장 합리적인 방법은 변형된 Goodman 다이아그램을 사용하는 것이다. (Wahl 계수가 평균 및 교번응력에 적용된다.) 더 단순한 방법은 감소된 최대 전단 응력을 사용해 정하중에 대해 설계하는 것이다. 전단에 대한 endurance 강도의 추정은 극한 인장 강도 (표 54.2 참고)와 표 54.3의 계수들로 계싼할 수 있다. 표의 값들은 보수적이기 때문에, 이렇게 설계뙨 대부분의 스프링들은 기술된 사이클 수를 초과해도 살아남을 것이다. 하지만, 여전히 안전률이 사용되거나 요구된다."
   ]
  },
  {
   "cell_type": "markdown",
   "metadata": {},
   "source": [
    "$$\\tau_{max}=\\frac{S_e}{FS}=\\frac{(factor) S_{ut}}{FS}\\tag{54.7}$$"
   ]
  },
  {
   "cell_type": "markdown",
   "metadata": {},
   "source": [
    "<img src='Table 54.3.PNG'>"
   ]
  },
  {
   "cell_type": "markdown",
   "metadata": {},
   "source": [
    "## 5. HELICAL COMPRESSION SPRINGS: STATIC LOADING"
   ]
  },
  {
   "cell_type": "markdown",
   "metadata": {},
   "source": [
    "**spring index** C는 와이어 직경과 평균 코일 직경의 비율이다. (그림 54.1 참고) spring index가 작은 스프링은 감기가 힘들고 운전 응력이 높아진다. 이 와이어는 요구되는 작은 직경으로 쉽게 구부려 지지 않는다. 반면, 큰 spring index를 갖는 스프링 (즉, 12 이상)들은 무르고, 좌굴이 일어나기 쉽다. 대부분의 스프링들은 spring index 값이 8 ~ 10 범위이며, 클러치 스프링의 일반적인 값은 5이다."
   ]
  },
  {
   "cell_type": "markdown",
   "metadata": {},
   "source": [
    "$$C=\\frac{D}{d}\\tag{54.8}$$"
   ]
  },
  {
   "cell_type": "markdown",
   "metadata": {},
   "source": [
    "$$D=\\frac{D_i + D_o}{2}\\tag{54.9}$$"
   ]
  },
  {
   "cell_type": "markdown",
   "metadata": {},
   "source": [
    "<img src='Figure 54.1.PNG'>"
   ]
  },
  {
   "cell_type": "markdown",
   "metadata": {},
   "source": [
    "스프링 변형은 평균 코일 직경 또는 spring index로 표현 가능하다."
   ]
  },
  {
   "cell_type": "markdown",
   "metadata": {},
   "source": [
    "$$\\delta = \\frac{F}{k}=\\frac{8FD^3 n_a}{Gd^4}=\\frac{8FC^3 n_a}{Gd}\\tag{54.10}$$"
   ]
  },
  {
   "cell_type": "markdown",
   "metadata": {},
   "source": [
    "헬리컬 스프링의 **active coil** 수 (즉, 감김수)은 끝단 처리 방법에 따라 전체 코일 수보다 작거나 같다. 헬리컬 압축 스프링이 **plain end** (즉, 사각 단면도 아니고 원형 단면도 아닌 경우)이면, 모든 코일이 스프링 하중에 기여한다. 이 경우, 총 코일 수 $n_t$는 active coil 수 $n_a$와 같다. 하지만, 대부분의 설계에서는 더 낳은 스프링 안착을 위해 끝단을 4각 단면으로 만들거나 갈아낸다. 다양한 끝 처리에 대한 끝단 코일의 수 $n^*$은 표 54.4에 주어져 있다. 보통 최소 2개의 active coil은 있어야 한다."
   ]
  },
  {
   "cell_type": "markdown",
   "metadata": {},
   "source": [
    "$$n_a = n_t - n^*\\tag{54.11}$$"
   ]
  },
  {
   "cell_type": "markdown",
   "metadata": {},
   "source": [
    "<img src='Table 54.4.PNG'>"
   ]
  },
  {
   "cell_type": "markdown",
   "metadata": {},
   "source": [
    "**스프링 상수**는 **하중 변형 식** (또는 스프링율 식)으로 주어진다."
   ]
  },
  {
   "cell_type": "markdown",
   "metadata": {},
   "source": [
    "$$k=\\frac{F}{\\delta}=\\frac{Gd^4}{8 D^3 n_a}=\\frac{Gd}{8 C^3 n_a}\\tag{54.12}$$"
   ]
  },
  {
   "cell_type": "markdown",
   "metadata": {},
   "source": [
    "헬리컬 스프링 응력 식들은 비틀림 및 직접 전단 응력의 대수합으로 유도된다. **Wahl 수정계수** W는 곡률을 수정한다. 이는 실제 응력 집중 계수가 아니며, 최대 응력에 대한 평균 응력을 수정하는 계수이다. 비틀림 및 직접 전단응력이 더해지는 와이어 코일의 내면에서 최대 전단응력이 발생한다."
   ]
  },
  {
   "cell_type": "markdown",
   "metadata": {},
   "source": [
    "$$W = \\frac{4C-1}{4C-4}+\\frac{0.615}{C}\\tag{54.13}$$"
   ]
  },
  {
   "cell_type": "markdown",
   "metadata": {},
   "source": [
    "그림 54.2에 나타난 끝단 처리는 스프링의 solid 길이 및 피치에 영향을 미친다. 정확한 영향은 항상 명확한 것은 아니다. 표 54.4는 설계에 사용 가능한 관계를 포함하고 있다."
   ]
  },
  {
   "cell_type": "markdown",
   "metadata": {},
   "source": [
    "<img src='Figure 54.2.PNG'>"
   ]
  },
  {
   "cell_type": "markdown",
   "metadata": {},
   "source": [
    "solid 변형은 자유 높이 및 solid 높이로 계산한다."
   ]
  },
  {
   "cell_type": "markdown",
   "metadata": {},
   "source": [
    "$$\\delta_s = h_f - h_s \\tag{54.15}$$"
   ]
  },
  {
   "cell_type": "markdown",
   "metadata": {},
   "source": [
    "**스프링 피치** (코일 피치), p는 평균 코일 분리이다. **solid 높이** (압축된 높이)는 표 54.4에 있다. **clash 허용치** $A_c$는 solid 변형과 working 변형의 퍼센트 차 이다. 이는 약 20%가 되어야 한다."
   ]
  },
  {
   "cell_type": "markdown",
   "metadata": {},
   "source": [
    "$$A_c=\\frac{\\delta_s - \\delta_w}{\\delta_w}\\tag{54.16}$$"
   ]
  },
  {
   "cell_type": "markdown",
   "metadata": {},
   "source": [
    "총 스프링 **와이어 길이**는 코일 와이어의 길이이다. **active 와이어 길이**는 active 코일 수로 계산한다."
   ]
  },
  {
   "cell_type": "markdown",
   "metadata": {},
   "source": [
    "$$L_a = \\pi D n_a \\tag{54.17}$$"
   ]
  },
  {
   "cell_type": "markdown",
   "metadata": {},
   "source": [
    "단일 스프링의 **헬릭스 방향**은 오른손 또는 왼손 방향일 수 있따. 스프링이 나사산이 있는 부재에 사용될 경우, 감김 방향은 나사 방향의 반대가 되어야 한다. 2개의 **nested 스프링** (즉 한 스프링이 다른 스프링 내에 있는 것)에서 상호감김(intermeshing)을 방지하기 위해 감김 방향은 서로 반대여야 한다. 또한 nested 스프링의 경우 외부 스프링은 전체하중의 약 2/3를 지지해야 한다. 각 스프링의 솔리드 및 자유 높이는 대략 같아야 한다."
   ]
  },
  {
   "cell_type": "markdown",
   "metadata": {},
   "source": [
    "## 6. HELICAL COMPRESSION SPRINGS: DESIGN"
   ]
  },
  {
   "cell_type": "markdown",
   "metadata": {},
   "source": [
    "일반적으로 스프링 설계는 반복작업이다. 요건을 만족시킬 때까지 하나 또는 그 이상의 변수들이 변한다. 종종 하나 또는 그 이상의 변수들을 알지 못하며 설계를 완성하기 위해서는 가정되어야 한다. 예를들어, 와이어 직경을 모르는 경우, 허용 응력 및 Wahl 계수는 추정만 가능하다. (초기 단계에서 Wahl 계수는 1.1로 가정하는 것이 일반적이다.) 스프링이 구멍에 맞아야 하는 경우 스프링의 외부 직경 또한 제한될 수 있다."
   ]
  },
  {
   "cell_type": "markdown",
   "metadata": {},
   "source": [
    "최대 작동 응력 또는 스프링이 압축되었을 때의 응력이 허용응력과 비교 가능해야 하며, 이는 중요한 결정사항이다. 대부분의 헬리컬 스프링은 수명 기간동안 가끔 압축되므로, 솔리드 높이 응력을 사용하는 것이 합당해 보일 수 있다. 지침이 없다면 다른 해석을 적용할 수도 있다."
   ]
  },
  {
   "cell_type": "markdown",
   "metadata": {},
   "source": [
    "App. 54.A로부터 표준 상업 와이어 사이즈(또는 플랫 스프링의 경우 시트 금속 게이지)를 사용하는 것이 가장 경제적인 설계이다. 하지만, 일부 변수들이 조금만 "
   ]
  },
  {
   "cell_type": "code",
   "execution_count": null,
   "metadata": {},
   "outputs": [],
   "source": []
  }
 ],
 "metadata": {
  "kernelspec": {
   "display_name": "Python 3",
   "language": "python",
   "name": "python3"
  },
  "language_info": {
   "codemirror_mode": {
    "name": "ipython",
    "version": 3
   },
   "file_extension": ".py",
   "mimetype": "text/x-python",
   "name": "python",
   "nbconvert_exporter": "python",
   "pygments_lexer": "ipython3",
   "version": "3.8.3"
  }
 },
 "nbformat": 4,
 "nbformat_minor": 4
}
