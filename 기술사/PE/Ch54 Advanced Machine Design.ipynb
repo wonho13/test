{
 "cells": [
  {
   "cell_type": "markdown",
   "metadata": {},
   "source": [
    "## 1. SPRINGS"
   ]
  },
  {
   "cell_type": "markdown",
   "metadata": {},
   "source": [
    "**이상적인 스프링**은 동작 범위에서 완전 탄성이라고 가정된다. 변형은 **훅의 법칙**을 따른다고 가정한다. **스프링 상수** k는 **강성, 스프링율, 스케일, k 값**라고도 불린다."
   ]
  },
  {
   "cell_type": "markdown",
   "metadata": {},
   "source": [
    "$$F=k\\delta \\tag{54.1}$$"
   ]
  },
  {
   "cell_type": "markdown",
   "metadata": {},
   "source": [
    "$$k=\\frac{F_1 - F_2}{\\delta_1 - \\delta_2}\\tag{54.2}$$"
   ]
  },
  {
   "cell_type": "markdown",
   "metadata": {},
   "source": [
    "스프링은 압축되거나 인장되면 에너지를 저장한다. **일-에너지 법칙**에 따라, 저장된 에너지는 스프링을 변형시키기 위해 요구되는 일의 양과 같다. 총 $\\delta$ 만큼 변형된 스프링에 저장된 에너지는 다음과 같다."
   ]
  },
  {
   "cell_type": "markdown",
   "metadata": {},
   "source": [
    "$$\\Delta E_p = \\frac{1}{2}k\\delta^2\\tag{54.3}$$"
   ]
  },
  {
   "cell_type": "markdown",
   "metadata": {},
   "source": [
    "질량 m이 높이 h에서 떨어져 스프링에 부딛히고 $\\delta$만큼 암축되면 위치에너지가 저장 에너지로 바뀐다."
   ]
  },
  {
   "cell_type": "markdown",
   "metadata": {},
   "source": [
    "$$mg(h+\\delta) = \\frac{1}{2}k\\delta^2\\;\\;\\;\\;[SI]\\tag{54.4(a)}$$"
   ]
  },
  {
   "cell_type": "markdown",
   "metadata": {},
   "source": [
    "$$ m \\left( \\frac{g}{g_c} \\right) (h+\\delta) = \\frac{1}{2} k \\delta^2 \\;\\;[U.S.] \\tag{54.4(b)}$$"
   ]
  },
  {
   "cell_type": "markdown",
   "metadata": {},
   "source": [
    "탄성영역 내에서 이 에너지는 스프링을 원래 위치로 돌려놓으면 회복될 수 있다. 스프링이 원래 길이로 돌아올 때 영구변형은 없고 외부 마찰 또는 **히스테리시스** (내부 마찰)에 의한 에너지 손실을 없다고 가정한다."
   ]
  },
  {
   "cell_type": "markdown",
   "metadata": {},
   "source": [
    "직렬 연결된 스프링에 가해진 총 하중은 각 스프링에 분배된다. 직렬연결 스프링의 **등가(혼합) 스프링 상수**는 다음과 같다."
   ]
  },
  {
   "cell_type": "markdown",
   "metadata": {},
   "source": [
    "$$\\frac{1}{k_{eq}}=\\frac{1}{k_1}+\\frac{1}{k_2}+\\frac{1}{k_3}+\\cdots\\;\\;\\;\\;[series \\;springs]\\tag{54.5}$$"
   ]
  },
  {
   "cell_type": "markdown",
   "metadata": {},
   "source": [
    "## 2. SPRING MATERIALS"
   ]
  },
  {
   "cell_type": "markdown",
   "metadata": {},
   "source": [
    "고탄소강, 스테인리스강, 다양한 합금, 니켈합금(즉 인코넬), 구리합금(즉, phosphor-bronze, silicon-bronze)를 포함하여 매우 다양한 재료들이 스프링에 사용된다. (표 54.1 참고) **Super-alloy**는 고온 및 고 부식 환경에 사용된다. 스프링율, 피로강도, 온도범위, 부식저항, 자기특성, 비용 등을 모두 고려해야 한다."
   ]
  },
  {
   "cell_type": "markdown",
   "metadata": {},
   "source": [
    "선 경화된 재료로 제작된 스프링은 보통 성형 후 400℉ ~ 800 ℉ 사이로 가열하는 저온 과정을 통해 응력완화를 시킨다.복잡한 형상을 갖는 스프링은 annealed 재료로 제작하고 고온 과정을 통해 강화(strengthened) 작업이 수행되어야 한다. 이들은 우선 최대 경도로 담금질 되며 이후 tempered된다. 노화경화(age-hardenable) 재료(즉, 베릴륨 구리)는 단순히 성형 후 가열함으로 써 강화될 수 있다."
   ]
  },
  {
   "cell_type": "markdown",
   "metadata": {},
   "source": [
    "대부분의 스프링은 저온에서 감긴다. 스프링 직경이 1/2 in 또는 5/8 in를 훨씬 넘는다면 빨간 고온 상태에서 감긴다. 고온에서 감기는 스프링이나 저온에서 감기는 스프링이나 본질적으로 설계 방법은 동일하지만, 허용 응력은 약 20% 감소하며, 탄성계쑤가 약간 감소된다. (전단계수의 경우 약 9%, 탄성계수의 경우 약 5%)."
   ]
  },
  {
   "cell_type": "markdown",
   "metadata": {},
   "source": [
    "<img src='Table 54.1.PNG'>"
   ]
  },
  {
   "cell_type": "markdown",
   "metadata": {},
   "source": [
    "고온에서 감는 스프링의 제작과 관련하여 특수한 문제점 및 필요사항들이 있다."
   ]
  },
  {
   "cell_type": "markdown",
   "metadata": {},
   "source": [
    "음악선(music wire) (ASTM A228), 탄소 및 합금 밸브 스프링 와이어(ASTM A230), 프롬-바나듐 (ASTM A232), 베릴륨 구리 (ASTM B197), 인청동(phosphor bronze) (ASTM B159), 더 낮은 수준의 경우 TYPE 302 스테인리스 강 (ASTM A313)은 피로 운전에 적절한 재료들이다. **숏피팅** (응력 피닝)은 스프링 피로 수명을 증가시키기 위한 최고의 방법 중 하나이다."
   ]
  },
  {
   "cell_type": "markdown",
   "metadata": {},
   "source": [
    "<img src='Table 54.2.PNG'>"
   ]
  },
  {
   "cell_type": "markdown",
   "metadata": {},
   "source": [
    "## 3. ALLOWABLE STRPING STRESSES: STATIC LOADING"
   ]
  },
  {
   "cell_type": "markdown",
   "metadata": {},
   "source": [
    "헬리컬 압축 및 인장 스프링은 비틀림 전단응력을 받는다. 전단 방향에서 항복강도는 이론적 최대 응력이다. 정하중 조건에서 최대 허용 전단응력을 결정하는 3가지 일반적인 방법이 있다."
   ]
  },
  {
   "cell_type": "markdown",
   "metadata": {},
   "source": [
    "1. 극한 인장 강도의 적당한 퍼센트를 근거로 허용 응력을 결정하는 것이 가장 일반적인 방법이다. 오스테아트계 스테인리스를 제외한 ferrous 재료의 경우 약 45% ~ 65%를 사용한다. nonferrous 및 오스테나이트계 스테인리스의 경우 35% ~ 55% 정도를 사용한다. 하한치는 비구속 설계 (즉, 스프링 직경이 응력이 낮은 상태로 유지할 만큼 클 수 있는 경우)에 사용해야 한다. 더 높은 한계는 공간이 제한되어 있고 높은 응력이 발생할 수 있을 경우 사용한다."
   ]
  },
  {
   "cell_type": "markdown",
   "metadata": {},
   "source": [
    "2. 전단 방향에서 항복강도를 기반으로 호용 응력을 결정하는 것은 아마도 가장 이론적으로 합당한 방법일 것이다. 전단 방향에서의 항복강도는 최대 전단응력 또는 변형 에너지 이론을 사용해 인장 항복강도로 부터 계산할 수 있다. 이를 사용할 경우 ferrous 스프링의 안전률은 약 1.5가 적절하다."
   ]
  },
  {
   "cell_type": "markdown",
   "metadata": {},
   "source": [
    "3. 일부 스펙에서는 인장항복강도의 몇 퍼센트를 비틀림 전단응력의 한계로 지정한다."
   ]
  },
  {
   "cell_type": "markdown",
   "metadata": {},
   "source": [
    "일부 스프링들(즉, 평평한 leaf 스프링, 헬리컬 비클림 스프링)은 굽힘 응력이 발생한다. 이러한 스프링들은 스프링 재료의 인장 항복강도로 제한해야 한다."
   ]
  },
  {
   "cell_type": "markdown",
   "metadata": {},
   "source": [
    "## 4. SAFE SPRING STRESS: FATIGUE LOADING"
   ]
  },
  {
   "cell_type": "markdown",
   "metadata": {},
   "source": [
    "반복 응력이 발생하는 스프링을 설계 또는 해석하는데 사용될 수 있는 2가지 방법이 있다. 가장 합리적인 방법은 변형된 Goodman 다이아그램을 사용하는 것이다. (Wahl 계수가 평균 및 교번응력에 적용된다.) 더 단순한 방법은 감소된 최대 전단 응력을 사용해 정하중에 대해 설계하는 것이다. 전단에 대한 endurance 강도의 추정은 극한 인장 강도 (표 54.2 참고)와 표 54.3의 계수들로 계싼할 수 있다. 표의 값들은 보수적이기 때문에, 이렇게 설계뙨 대부분의 스프링들은 기술된 사이클 수를 초과해도 살아남을 것이다. 하지만, 여전히 안전률이 사용되거나 요구된다."
   ]
  },
  {
   "cell_type": "markdown",
   "metadata": {},
   "source": [
    "$$\\tau_{max}=\\frac{S_e}{FS}=\\frac{(factor) S_{ut}}{FS}\\tag{54.7}$$"
   ]
  },
  {
   "cell_type": "markdown",
   "metadata": {},
   "source": [
    "<img src='Table 54.3.PNG'>"
   ]
  },
  {
   "cell_type": "markdown",
   "metadata": {},
   "source": [
    "## 5. HELICAL COMPRESSION SPRINGS: STATIC LOADING"
   ]
  },
  {
   "cell_type": "markdown",
   "metadata": {},
   "source": [
    "**spring index** C는 와이어 직경과 평균 코일 직경의 비율이다. (그림 54.1 참고) spring index가 작은 스프링은 감기가 힘들고 운전 응력이 높아진다. 이 와이어는 요구되는 작은 직경으로 쉽게 구부려 지지 않는다. 반면, 큰 spring index를 갖는 스프링 (즉, 12 이상)들은 무르고, 좌굴이 일어나기 쉽다. 대부분의 스프링들은 spring index 값이 8 ~ 10 범위이며, 클러치 스프링의 일반적인 값은 5이다."
   ]
  },
  {
   "cell_type": "markdown",
   "metadata": {},
   "source": [
    "$$C=\\frac{D}{d}\\tag{54.8}$$"
   ]
  },
  {
   "cell_type": "markdown",
   "metadata": {},
   "source": [
    "$$D=\\frac{D_i + D_o}{2}\\tag{54.9}$$"
   ]
  },
  {
   "cell_type": "markdown",
   "metadata": {},
   "source": [
    "<img src='Figure 54.1.PNG'>"
   ]
  },
  {
   "cell_type": "markdown",
   "metadata": {},
   "source": [
    "스프링 변형은 평균 코일 직경 또는 spring index로 표현 가능하다."
   ]
  },
  {
   "cell_type": "markdown",
   "metadata": {},
   "source": [
    "$$\\delta = \\frac{F}{k}=\\frac{8FD^3 n_a}{Gd^4}=\\frac{8FC^3 n_a}{Gd}\\tag{54.10}$$"
   ]
  },
  {
   "cell_type": "markdown",
   "metadata": {},
   "source": [
    "헬리컬 스프링의 **active coil** 수 (즉, 감김수)은 끝단 처리 방법에 따라 전체 코일 수보다 작거나 같다. 헬리컬 압축 스프링이 **plain end** (즉, 사각 단면도 아니고 원형 단면도 아닌 경우)이면, 모든 코일이 스프링 하중에 기여한다. 이 경우, 총 코일 수 $n_t$는 active coil 수 $n_a$와 같다. 하지만, 대부분의 설계에서는 더 낳은 스프링 안착을 위해 끝단을 4각 단면으로 만들거나 갈아낸다. 다양한 끝 처리에 대한 끝단 코일의 수 $n^*$은 표 54.4에 주어져 있다. 보통 최소 2개의 active coil은 있어야 한다."
   ]
  },
  {
   "cell_type": "markdown",
   "metadata": {},
   "source": [
    "$$n_a = n_t - n^*\\tag{54.11}$$"
   ]
  },
  {
   "cell_type": "markdown",
   "metadata": {},
   "source": [
    "<img src='Table 54.4.PNG'>"
   ]
  },
  {
   "cell_type": "markdown",
   "metadata": {},
   "source": [
    "**스프링 상수**는 **하중 변형 식** (또는 스프링율 식)으로 주어진다."
   ]
  },
  {
   "cell_type": "markdown",
   "metadata": {},
   "source": [
    "$$k=\\frac{F}{\\delta}=\\frac{Gd^4}{8 D^3 n_a}=\\frac{Gd}{8 C^3 n_a}\\tag{54.12}$$"
   ]
  },
  {
   "cell_type": "markdown",
   "metadata": {},
   "source": [
    "헬리컬 스프링 응력 식들은 비틀림 및 직접 전단 응력의 대수합으로 유도된다. **Wahl 수정계수** W는 곡률을 수정한다. 이는 실제 응력 집중 계수가 아니며, 최대 응력에 대한 평균 응력을 수정하는 계수이다. 비틀림 및 직접 전단응력이 더해지는 와이어 코일의 내면에서 최대 전단응력이 발생한다."
   ]
  },
  {
   "cell_type": "markdown",
   "metadata": {},
   "source": [
    "$$W = \\frac{4C-1}{4C-4}+\\frac{0.615}{C}\\tag{54.13}$$"
   ]
  },
  {
   "cell_type": "markdown",
   "metadata": {},
   "source": [
    "그림 54.2에 나타난 끝단 처리는 스프링의 solid 길이 및 피치에 영향을 미친다. 정확한 영향은 항상 명확한 것은 아니다. 표 54.4는 설계에 사용 가능한 관계를 포함하고 있다."
   ]
  },
  {
   "cell_type": "markdown",
   "metadata": {},
   "source": [
    "<img src='Figure 54.2.PNG'>"
   ]
  },
  {
   "cell_type": "markdown",
   "metadata": {},
   "source": [
    "solid 변형은 자유 높이 및 solid 높이로 계산한다."
   ]
  },
  {
   "cell_type": "markdown",
   "metadata": {},
   "source": [
    "$$\\delta_s = h_f - h_s \\tag{54.15}$$"
   ]
  },
  {
   "cell_type": "markdown",
   "metadata": {},
   "source": [
    "**스프링 피치** (코일 피치), p는 평균 코일 분리이다. **solid 높이** (압축된 높이)는 표 54.4에 있다. **clash 허용치** $A_c$는 solid 변형과 working 변형의 퍼센트 차 이다. 이는 약 20%가 되어야 한다."
   ]
  },
  {
   "cell_type": "markdown",
   "metadata": {},
   "source": [
    "$$A_c=\\frac{\\delta_s - \\delta_w}{\\delta_w}\\tag{54.16}$$"
   ]
  },
  {
   "cell_type": "markdown",
   "metadata": {},
   "source": [
    "총 스프링 **와이어 길이**는 코일 와이어의 길이이다. **active 와이어 길이**는 active 코일 수로 계산한다."
   ]
  },
  {
   "cell_type": "markdown",
   "metadata": {},
   "source": [
    "$$L_a = \\pi D n_a \\tag{54.17}$$"
   ]
  },
  {
   "cell_type": "markdown",
   "metadata": {},
   "source": [
    "단일 스프링의 **헬릭스 방향**은 오른손 또는 왼손 방향일 수 있따. 스프링이 나사산이 있는 부재에 사용될 경우, 감김 방향은 나사 방향의 반대가 되어야 한다. 2개의 **nested 스프링** (즉 한 스프링이 다른 스프링 내에 있는 것)에서 상호감김(intermeshing)을 방지하기 위해 감김 방향은 서로 반대여야 한다. 또한 nested 스프링의 경우 외부 스프링은 전체하중의 약 2/3를 지지해야 한다. 각 스프링의 솔리드 및 자유 높이는 대략 같아야 한다."
   ]
  },
  {
   "cell_type": "markdown",
   "metadata": {},
   "source": [
    "## 6. HELICAL COMPRESSION SPRINGS: DESIGN"
   ]
  },
  {
   "cell_type": "markdown",
   "metadata": {},
   "source": [
    "일반적으로 스프링 설계는 반복작업이다. 요건을 만족시킬 때까지 하나 또는 그 이상의 변수들이 변한다. 종종 하나 또는 그 이상의 변수들을 알지 못하며 설계를 완성하기 위해서는 가정되어야 한다. 예를들어, 와이어 직경을 모르는 경우, 허용 응력 및 Wahl 계수는 추정만 가능하다. (초기 단계에서 Wahl 계수는 1.1로 가정하는 것이 일반적이다.) 스프링이 구멍에 맞아야 하는 경우 스프링의 외부 직경 또한 제한될 수 있다."
   ]
  },
  {
   "cell_type": "markdown",
   "metadata": {},
   "source": [
    "최대 작동 응력 또는 스프링이 압축되었을 때의 응력이 허용응력과 비교 가능해야 하며, 이는 중요한 결정사항이다. 대부분의 헬리컬 스프링은 수명 기간동안 가끔 압축되므로, 솔리드 높이 응력을 사용하는 것이 합당해 보일 수 있다. 지침이 없다면 다른 해석을 적용할 수도 있다."
   ]
  },
  {
   "cell_type": "markdown",
   "metadata": {},
   "source": [
    "App. 54.A로부터 표준 상업 와이어 사이즈(또는 플랫 스프링의 경우 시트 금속 게이지)를 사용하는 것이 가장 경제적인 설계이다. 하지만, 일부 변수들(코일 직경, 스프링율 등)이 조금만 바뀌어도 이를 적용할 수 없다."
   ]
  },
  {
   "cell_type": "markdown",
   "metadata": {},
   "source": [
    "### 예제 54.1"
   ]
  },
  {
   "cell_type": "markdown",
   "metadata": {},
   "source": [
    "W&M No. 4 와이어 및 spring index가 6으로 제작된 강 스프링이 있다. 스프링에는 140.2 lbf ~ 219.8 lbf (620 N ~ 970 N)의 하중이 가해진다. 스프링 재료의 전단방향 항복강도는 120,000 $lbf/in^2$ (830 MPa)이고, 전단방향 endurance 강도는 100,000 $$lbf/in^2$ (690 MPa)이다. 스프링은 soild로 거의 압축되지 않는다. 안전률은 1.5가 요구된다. 스프링은 건전한가?"
   ]
  },
  {
   "cell_type": "markdown",
   "metadata": {},
   "source": [
    "풀이"
   ]
  },
  {
   "cell_type": "markdown",
   "metadata": {},
   "source": [
    "App. 54.A에서 와이어 직경은 0.2253 in이다. 이를 mm로 환산하면 다음과 같다."
   ]
  },
  {
   "cell_type": "markdown",
   "metadata": {},
   "source": [
    "$$d=(0.2254 in) (25.4 mm/in) = 5.723 mm$$"
   ]
  },
  {
   "cell_type": "markdown",
   "metadata": {},
   "source": [
    "Wahl 수정계수는 다음과 같다."
   ]
  },
  {
   "cell_type": "markdown",
   "metadata": {},
   "source": [
    "$$W=\\frac{4C-1}{4C-4}+\\frac{0.615}{C}=\\frac{(4)(6)-1}{(4)(6)-4}+\\frac{0.615}{6}=1.2525$$"
   ]
  },
  {
   "cell_type": "markdown",
   "metadata": {},
   "source": [
    "식 54.14로부터, 최대 및 최소 전단응력은 다음과 같다."
   ]
  },
  {
   "cell_type": "markdown",
   "metadata": {},
   "source": [
    "$$\\tau_{max}=\\frac{8F_{max}CW}{\\pi d^2}=\\frac{(8)(970 N)(6)(1.2525)}{\\pi \\left( \\frac{5.723 mm}{1000 mm/m} \\right)^2}$$"
   ]
  },
  {
   "cell_type": "markdown",
   "metadata": {},
   "source": [
    "$$=566,752,000\\;Pa\\;\\;(566.75 MPa)$$"
   ]
  },
  {
   "cell_type": "markdown",
   "metadata": {},
   "source": [
    "$$\\tau_{min} = \\frac{8 F_{min} CW}{\\pi d^2}=\\frac{(8)(620 N)(6)(1.2525)}{\\pi\\left(\\frac{5.723 mm}{1000 mm/m}\\right)^2}$$"
   ]
  },
  {
   "cell_type": "markdown",
   "metadata": {},
   "source": [
    "$$=362,254,000\\;Pa\\;\\;(362.25 MPa)$$"
   ]
  },
  {
   "cell_type": "markdown",
   "metadata": {},
   "source": [
    "평균 응력($\\tau_m$) 및 교번 응력($\\sigma_{alt}$)은 다음과 같다."
   ]
  },
  {
   "cell_type": "markdown",
   "metadata": {},
   "source": [
    "$$\\tau_m=\\frac{1}{2}(\\tau_{max}+\\tau_{min})=\\frac{1}{2}(566.75\\;MPa + 362.25\\;MPa)$$"
   ]
  },
  {
   "cell_type": "markdown",
   "metadata": {},
   "source": [
    "$$=464.5\\; MPa$$"
   ]
  },
  {
   "cell_type": "markdown",
   "metadata": {},
   "source": [
    "$$\\tau_{alt}=\\frac{1}{2}(\\tau_{max}-\\tau_{min})=\\frac{1}{2}(566.75\\;MPa - 362.25\\;MPa)$$"
   ]
  },
  {
   "cell_type": "markdown",
   "metadata": {},
   "source": [
    "$$=102.25\\;MPa$$"
   ]
  },
  {
   "cell_type": "markdown",
   "metadata": {},
   "source": [
    "재료물성(endurance limit, yield strength)에 안전률을 적용하면 다음과 같다."
   ]
  },
  {
   "cell_type": "markdown",
   "metadata": {},
   "source": [
    "$$\\frac{S_{es}}{FS}=\\frac{690\\;MPa}{1.5}=460\\;MPa$$"
   ]
  },
  {
   "cell_type": "markdown",
   "metadata": {},
   "source": [
    "$$\\frac{S_{ys}}{FS}=\\frac{530\\;MPa}{1.5}=553.3\\;MPa$$"
   ]
  },
  {
   "cell_type": "markdown",
   "metadata": {},
   "source": [
    "실제 응력에 대항하는 위치는 허용구역에서 살짝 벗어나 있다. 따라서 스프링은 건전하지 못하다."
   ]
  },
  {
   "cell_type": "markdown",
   "metadata": {},
   "source": [
    "<img src ='Example 54.1.PNG'>"
   ]
  },
  {
   "cell_type": "markdown",
   "metadata": {},
   "source": [
    "## 7. BUCKLING OF HELICAL COMPRESSION SPRINGS"
   ]
  },
  {
   "cell_type": "markdown",
   "metadata": {},
   "source": [
    "tall spring(즉, 자유 높이가 평균 코일 직경의 4~5배 이상인 스프링)과 weak spring(즉, 평균 코일 직경과 와이어 직경의 비율이 5보다 작은 스프링)은 무거운 하중을 받을 경우 좌굴이 발생할 수 있다. 좌굴에 대해 확인해보는 단순한 방법은 표 54.4의 값들과 자유높이 대비 작동 변형량의 비율을 비교해보는 것이다. 좌굴일 발생할 만한 스프링은 스프링 주위로 튜브나 봉을 설치하여 지지할 수 있다."
   ]
  },
  {
   "cell_type": "markdown",
   "metadata": {},
   "source": [
    "<img src='Table 54.5.PNG'>"
   ]
  },
  {
   "cell_type": "markdown",
   "metadata": {},
   "source": [
    "## 8. HELICAL COMPRESSION SPRINGS: DYNAMIC RESPONSE"
   ]
  },
  {
   "cell_type": "markdown",
   "metadata": {},
   "source": [
    "특정 속도에서는 부여 하중의 주파수와 스프링의 고유진동수 간의 공진이 발생할 수 있다. 이 스프링은 과도한 진동(surging)을 겪으며 이른 파손이 발생할 수 있다."
   ]
  },
  {
   "cell_type": "markdown",
   "metadata": {},
   "source": [
    "양단이 고정된 헬리컬 압축 스프링의 **fundamental frequency (fundamental harmonic frequency)**, $f_0$ Hz는 식 54.18로 계산할 수 있다. 하모닉 하중에 대한 공진을 피하기 위해서는 스프링의 funadamental frequency가 최소 가진 주파수의 13배는 되어야 한다. (하첨자가 없는 변수들에 대한 단위는 nomenclature에 정의되어 있다.)"
   ]
  },
  {
   "cell_type": "markdown",
   "metadata": {},
   "source": [
    "$$f_0=\\frac{d}{2\\pi R^2 n_a}\\sqrt{\\frac{G}{32\\rho}}$$"
   ]
  },
  {
   "cell_type": "markdown",
   "metadata": {},
   "source": [
    "$$=(112)\\left(\\frac{d_{mm}}{D_{mm}^2 n_a}\\right)\\sqrt{\\frac{G}{\\rho}}\\;\\;\\;\\;[SI]\\tag{54.18(a)}$$"
   ]
  },
  {
   "cell_type": "markdown",
   "metadata": {},
   "source": [
    "$$f_0=\\frac{d}{2\\pi R^2 n_a}\\sqrt{\\frac{G\\rho_c}{32\\rho}}$$"
   ]
  },
  {
   "cell_type": "markdown",
   "metadata": {},
   "source": [
    "$$=\\left(\\frac{d_{in}}{8.89D_{in}^2 n_a}\\right)\\sqrt{\\frac{Gg_c}{\\rho}}\\;\\;\\;\\;[U.S.]\\tag{54.18(b)}$$"
   ]
  },
  {
   "cell_type": "markdown",
   "metadata": {},
   "source": [
    "표 54.1은 다양한 스프링 재료에 대한 전단 탄성계수 G값들이다. 거의 모든 철 기반의 스프링 재료들의 밀도 $\\rho$는 0.284 $lbm/in^3$ (7870 $kg/m^3$)이고, $G=11.5\\times 10^6\\;lbf/in^2$ (79 GPa)이다. 식 54.19는 강 스프링에 직접 사용할 수 있다."
   ]
  },
  {
   "cell_type": "markdown",
   "metadata": {},
   "source": [
    "$$f_0\\approx (3.5\\times10^5)\\left(\\frac{d_{mm}}{D_{mm}^2 n_a}\\right)\\;\\;\\;\\;[SI;\\;steel]\\tag{54.19(a)}$$"
   ]
  },
  {
   "cell_type": "markdown",
   "metadata": {},
   "source": [
    "$$f_0\\approx (14,000)\\left(\\frac{d_{in}}{D_{in}^2 n_a}\\right)\\;\\;\\;\\;[U.S.;\\;steel]\\tag{54.19(b)}$$"
   ]
  },
  {
   "cell_type": "markdown",
   "metadata": {},
   "source": [
    "공진을 피하는 다른 방법으로는 다양한 피치(고유진동수를 바꾸는)로 스프링을 감거나, rubbing 마찰 장비를 사용하거나, 원하는 스프링 율을 이루기 위해 여러 스프링을 조합하는 방법이 있다."
   ]
  },
  {
   "cell_type": "markdown",
   "metadata": {},
   "source": [
    "## 9. HELICAL SPRINGS: HIGH TEMPERATURE"
   ]
  },
  {
   "cell_type": "markdown",
   "metadata": {},
   "source": [
    "고온에서의 운전은 탄성 계수(전단, 인장)와 강도(항복, 극한, endurance)에 모두 영향을 미친다. 충분히 높은 온도에서 지속적으로 운전하게 되면 크리프, set, relaxation이 발행할 수 있다. 고온의 영향을 알기 위해서는 고온에서의 재료 물성을 알아야 한다."
   ]
  },
  {
   "cell_type": "markdown",
   "metadata": {},
   "source": [
    "스프링 최대 운전 온도 추천 값은 고탄소강의 경우 250℉ ~ 300℉ (90℃ ~ 150℃), oil-tempered 탄소강의 경우 350℉ (175℃), 합금강의 경우 425℉ ~ 475℉ (220℃ ~ 245℃), 스테인리스 강의 경우 500℉ ~ 900℉ (260℃ ~ 480℃) 니켈합금의 경우 1000℉ ~ 1100℉ (540℃ ~ 590℃)이다."
   ]
  },
  {
   "cell_type": "markdown",
   "metadata": {},
   "source": [
    "## 10. HELICAL EXTENSION SPRINGS"
   ]
  },
  {
   "cell_type": "markdown",
   "metadata": {},
   "source": [
    "헬리컬 **extension spring**은 느슨하거나 타이트한 코일로 감길 수 있다. 타이트하게 감긴 코일에는 **초기 인장** $F_i$가 있고, 코일을 분리하기 위해서는 이 힘을 가해주어야 한다. (그림 54.3 참고)"
   ]
  },
  {
   "cell_type": "markdown",
   "metadata": {},
   "source": [
    "<img src='Figure 54.3.PNG'>"
   ]
  },
  {
   "cell_type": "raw",
   "metadata": {},
   "source": [
    "초기응력은 식 54.20과 같다."
   ]
  },
  {
   "cell_type": "markdown",
   "metadata": {},
   "source": [
    "$$\\tau_i = \\frac{8WDF_i}{\\pi d^3}\\tag{54.20}$$"
   ]
  },
  {
   "cell_type": "markdown",
   "metadata": {},
   "source": [
    "부여 하중이 $F_i$까지 증가하면, 스프링 거동은 압축 스프링 공식으로 예측할 수 있다."
   ]
  },
  {
   "cell_type": "markdown",
   "metadata": {},
   "source": [
    "$$\\tau = \\tau_i + \\frac{8FDW}{\\pi d^3}\\tag{54.21}$$"
   ]
  },
  {
   "cell_type": "markdown",
   "metadata": {},
   "source": [
    "$$\\delta = (8n_a D^3)\\left(\\frac{F-F_i}{G d^4}\\right)\\tag{54.22}$$"
   ]
  },
  {
   "cell_type": "markdown",
   "metadata": {},
   "source": [
    "연장 스프링은 후크 곡률로 인한 응력 집중 대문에 종종 스프링 후크에서 파손이 발생한다. 2개의 주요 지점이 그림 54.4에 나타나 있다. A지점은 굽힘응력이 높은 지점이다. B지점은 전단응력이 높은 지점이다. 식 54.23, 식 54.24는 후크에서의 최대 굽힘응력과 최대 전단으력을 단순화한 식이다. 반경의 비율이 응력집중계수에 기여한다. $r_4$는 와이어 직경의 2배보다 큰게 좋다."
   ]
  },
  {
   "cell_type": "markdown",
   "metadata": {},
   "source": [
    "$$\\sigma_A = \\left(\\frac{16FD}{\\pi d^3}\\right) \\left(\\frac{r_1}{r_3}\\right)\\tag{54.23}$$"
   ]
  },
  {
   "cell_type": "markdown",
   "metadata": {},
   "source": [
    "$$\\tau_B = \\left(\\frac{8FD}{\\pi d^3}\\right)\\left(\\frac{r_2}{r_4}\\right)\\tag{54.24}$$"
   ]
  },
  {
   "cell_type": "markdown",
   "metadata": {},
   "source": [
    "<img src='Figure 54.4.PNG'>"
   ]
  },
  {
   "cell_type": "markdown",
   "metadata": {},
   "source": [
    "## 11. HELICAL TORSION SPRINGS"
   ]
  },
  {
   "cell_type": "markdown",
   "metadata": {},
   "source": [
    "둥근 와이어로 제작되는 헬리컬 비틀림 스프링은 본직적으로 둥근 캔티레버빔이다. 하중응 굽힘응력윽 발생시킨다. 대부분의 비틀림 스프링은 축(arbor) 위에서 구동된다. 묶임을 방지하기 위해 스프링과 축 사이의 간극을 10%정도로 유지하는 것이 일반적으로 적절하다.굽힘응력은 스프링 내부 반경에서 가장 크다. (그림 54.5 참고)"
   ]
  },
  {
   "cell_type": "markdown",
   "metadata": {},
   "source": [
    "$$\\sigma=\\frac{32K_b M}{\\pi d^3}\\tag{54.25}$$"
   ]
  },
  {
   "cell_type": "markdown",
   "metadata": {},
   "source": [
    "$$M=FL\\tag{54.26}$$"
   ]
  },
  {
   "cell_type": "markdown",
   "metadata": {},
   "source": [
    "<img src='Figure 54.5.PNG'>"
   ]
  },
  {
   "cell_type": "markdown",
   "metadata": {},
   "source": [
    "내부 및 외부 면에서 굽힘에 대한 Wahl 수정계수는 다음과 같다."
   ]
  },
  {
   "cell_type": "markdown",
   "metadata": {},
   "source": [
    "$$K_{b,i} = \\frac{4C^2-C-1}{4C(C-1)}\\tag{54.27}$$"
   ]
  },
  {
   "cell_type": "markdown",
   "metadata": {},
   "source": [
    "$$K_{b,o}=\\frac{4C^2+C-1}{4C(C+1)}\\tag{54.28}$$"
   ]
  },
  {
   "cell_type": "markdown",
   "metadata": {},
   "source": [
    "마찰이 없으면 헬리컬 비틀림 스프링의 스프링 상수 k는 어떠한 각 변형에서도 동일하다. in-lbf/rev (N mm/rev) 단위인 각 스프링률은 식 54.29와 같다. 하지만 식54.29는 긴 스프링 끝단(이 역시 스프링으로 간주할 수 있음)의 영향을 고려하지 않았다."
   ]
  },
  {
   "cell_type": "markdown",
   "metadata": {},
   "source": [
    "$$k_{angular}=\\frac{M}{\\theta_{revolutions}}=\\frac{Ed^4}{10.8Dn_a}\\tag{54.29}$$"
   ]
  },
  {
   "cell_type": "markdown",
   "metadata": {},
   "source": [
    "만약 긴 끝단이 유연하고 동일한 와이어 직경을 갖는다면, active coil에 대한 이들의 영향은 이들의 모멘트 arm(코일의 중심에서 측정한)의 1/3이다."
   ]
  },
  {
   "cell_type": "markdown",
   "metadata": {},
   "source": [
    "$$n_a = n_{body}+n_{ends} = n_{body}+\\frac{L_1+L_2}{3\\pi D}\\tag{54.30}$$"
   ]
  },
  {
   "cell_type": "markdown",
   "metadata": {},
   "source": [
    "## 12. FLAT AND LEAF SPRINGS"
   ]
  },
  {
   "cell_type": "markdown",
   "metadata": {},
   "source": [
    "플랫 스프링은 단순지지 또는 캔틸레버 빔으로 만들어진다. 이들은 평평하거나, 굴곡 지거나, 겹칠(leaf 스프링 처럼) 수 있다. 변형이 작은 경우 일반적인 빔 변형 표를 단순 플랫 스프링에 사용할 수 있다."
   ]
  },
  {
   "cell_type": "markdown",
   "metadata": {},
   "source": [
    "빔의 굽힘응력은 빔의 두께에 비례하기 때문에, 1개의 두꺼운 스프링을 사용하는 대신 여러개의 얇은 스프링을 사용하여 응력을 낮게 유지할 수 있다. **Leaf 스프링 (leaf set)** 은 보통 차에서 사용되며, 여러개의 플랫 스프링을 쌓아서 만든다. leaf set의 용량은 모든 스프링의 용량의 총 합이다. 스프링은 각자 길이방향으로 미끄러진다. 이러한 미끄림의 영향과 이로 인한 마찰력의 영향은 평가하기 어렵다."
   ]
  },
  {
   "cell_type": "markdown",
   "metadata": {},
   "source": [
    "자동차에서의 진동과 충격ㅇ느 리프 스프링이 변형하게 만들어 잠제 에너지를 변형률 에너지가 되게 한다. 리프스프링의 에너지 저장 용량을 증가시키면 더 편안한 서스펜션 시스템을 만들 수 있다. 단위 체적당 리프스프링이 저장할 수 있는 탄성 에너지의 양은 식 54.31과 같다. 강도가 높고 탄성계수가 낮은 재료가 리프스프링에 사용하기에 가장 적절한 재료이다."
   ]
  },
  {
   "cell_type": "markdown",
   "metadata": {},
   "source": [
    "$$U_V = \\frac{\\sigma^2}{2E}\\tag{54.31}$$"
   ]
  },
  {
   "cell_type": "markdown",
   "metadata": {},
   "source": [
    "49장에서 다룬 것과 같이, 스프링이 매우 넓으면(즉, $w/t$ 비율이 8보다 큰 경우) 기본 빔 식에서 탄성계수를 변경해줄 필요가 있다.  변형이 큰 경우(즉, 스프링 길이의 30% 이상) 다른 방법(보통 그림을 그리는 방법(graphical))이 필요하다."
   ]
  },
  {
   "cell_type": "markdown",
   "metadata": {},
   "source": [
    "## 13. VELOCITY, POWER, AND TORQUE IN ROTATING MEMBERS"
   ]
  },
  {
   "cell_type": "markdown",
   "metadata": {},
   "source": [
    "식 54.31은 지름이 d인 원형 부재가 회전할 경우 접선(tangential) 속도를 나타낸다. 기어의 비치 직경이 사용된 경우, 접선 속도는 **피치원 속도**라고 부른다."
   ]
  },
  {
   "cell_type": "markdown",
   "metadata": {},
   "source": [
    "$$v_t = \\pi d n_{rpm}\\;\\;[consistent\\;units]\\tag{54.32}$$"
   ]
  },
  {
   "cell_type": "markdown",
   "metadata": {},
   "source": [
    "전달되는 마력과 토크, 회전속도 사이의 관계는 다음과 같다."
   ]
  },
  {
   "cell_type": "markdown",
   "metadata": {},
   "source": [
    "$$P_{kW}=\\frac{T_{N\\cdot m} n_{rpm}}{9549}\\;\\;\\;\\;[SI]\\tag{54.33(a)}$$"
   ]
  },
  {
   "cell_type": "markdown",
   "metadata": {},
   "source": [
    "$$P_{hp}=\\frac{T_{in\\cdot lbf} n_{rpm}}{63,025}\\;\\;\\;\\;[U.S.]\\tag{54.33(b)}$$"
   ]
  },
  {
   "cell_type": "markdown",
   "metadata": {},
   "source": [
    "## 14. SPUR GEAR TERMINOLOGY"
   ]
  },
  {
   "cell_type": "markdown",
   "metadata": {},
   "source": [
    "**스퍼 기어**는 가장 단순한 형태의 이를 갖는다. 스퍼 기어의 이 면은 회전 축과 평행하다. 그림 54.6은 전형적인 스퍼 기어와 기어 및 이 형상을 설명하기 위해 사용되는 일부 용어들을 보여준다."
   ]
  },
  {
   "cell_type": "markdown",
   "metadata": {},
   "source": [
    "<img src='Figure 54.6.PNG'>"
   ]
  },
  {
   "cell_type": "markdown",
   "metadata": {},
   "source": [
    "**피치원**은 기어 lever arm의 기반이 되는 가상의 원이다. **피치점**은 두개의 맞물리는 기어의 피치원 사이의 가상의 접점이다."
   ]
  },
  {
   "cell_type": "markdown",
   "metadata": {},
   "source": [
    "피치점의 속도는 **피치원 속도 (피치 속도)** 이다. 피치 속도는 식 54.32를 사용해 피치 직경 d로 바로 계산 가능하며 또는 식 54.33을 사용해 토크와 파워로 부터 간접적으로 계산할 수도 있다."
   ]
  },
  {
   "cell_type": "markdown",
   "metadata": {},
   "source": [
    "**addendum**은 이빨 꼭대기에서 피치원 까지의 거리이다. full-depth 기어의 경우 addendum은 직경 피치(diametral pitch)의 역수 (즉, 1/P)와 같다. **base circle**은 작용선에 접하는 원이다. **clearance**는 기어1의 dedendum 원과 기어2의 addendum 원 사이의 분리를 의미한다."
   ]
  },
  {
   "cell_type": "markdown",
   "metadata": {},
   "source": [
    "최소 clearance에 대한 식과 미국 기술기준 full-depth 인볼류트 스퍼 기어 시스템에 대한 다른 특징들은 표 54.6에 나타나 있다."
   ]
  },
  {
   "cell_type": "markdown",
   "metadata": {},
   "source": [
    "<img src='Table 54.6.PNG'>"
   ]
  },
  {
   "cell_type": "markdown",
   "metadata": {},
   "source": [
    "**clearance circle**은 meshing 기어의 addendum에 접하는 원이다. **dedendum**은 피치원에서 뿌리원까지의 반경길이이다. full-depth 기어의 경우, 원하는 clearance에 따라 dedendum은 1.25P 또는 1.35P이다. **tooth face**는 피치원과 addendum 원 사이의 이빨 면적이다. **face width**는 이빨의 축방향 폭이다. **flank**는 피치원과 dedendum 사이의 이빨 면적이다. **land**는 각 이빨 꼭대기의 평평한 면이다."
   ]
  },
  {
   "cell_type": "markdown",
   "metadata": {},
   "source": [
    "**whole depth**는 addendum 원에서 dedendum 원까지의 거리이다. 이는 작동 깊이 더하기 clearnace와 같다. **working depth(작동 깊이)** 는 meshing 기어의 이빨이 이빨 사이로 들어갈 수 있는 거리를 의미한다."
   ]
  },
  {
   "cell_type": "markdown",
   "metadata": {},
   "source": [
    "스퍼 기어에서 피치는 3가지 의미로 사용된다. **diametral pitch (P)** 는 피치 원 상에서 단위 인치 당 이빨 수를 의미한다. 모든 맞물리는 기어의 diametral pitch는 동일하다. **circular pitch (p)** 는 이빨의 한 점에서 옆 이빨의 동일한 점 까지의 피치원 상의 거리를 의미한다. 이는 이빨 하나의 두께 더하기 이빨 사이의 이격 거리를 의미한다. 모든 맞물리는 기어의 circular pitch는 동일하다."
   ]
  },
  {
   "cell_type": "markdown",
   "metadata": {},
   "source": [
    "**normal pitch** (=base pitch)는 이빨의 한 점에서 옆 이빨의 동일한 점까지의 base circle 상의 거리를 의미한다. 모든 맞물리는 기어의 normal pitch(base pitch)는 동일하다."
   ]
  },
  {
   "cell_type": "markdown",
   "metadata": {},
   "source": [
    "기어의 **module** m은 이빨 수와 피치 직경의 비율이다. 따라서 모듈은 diametral pitch의 역수이다. 모듈(in/tooth)은 일반적으로 이빨 크기를 결정하는 기준이 된다."
   ]
  },
  {
   "cell_type": "markdown",
   "metadata": {},
   "source": [
    "$$m=\\frac{d}{N}=\\frac{p}{\\pi}=\\frac{1}{P}\\;\\;[module]\\tag{54.34}$$"
   ]
  },
  {
   "cell_type": "markdown",
   "metadata": {},
   "source": [
    "$$P=\\frac{N}{d}=\\frac{\\pi}{p}=\\frac{1}{m}\\;\\;[diametral\\;pitch]\\tag{54.35}$$"
   ]
  },
  {
   "cell_type": "markdown",
   "metadata": {},
   "source": [
    "$$p = \\frac{\\pi d}{N}=\\frac{\\pi}{P}=\\pi m \\;\\;[circular\\;pitch]\\tag{54.36}$$"
   ]
  },
  {
   "cell_type": "markdown",
   "metadata": {},
   "source": [
    "$$d=\\frac{N}{P}=mN\\;\\;[pitch\\;diameter]\\tag{54.37}$$"
   ]
  },
  {
   "cell_type": "markdown",
   "metadata": {},
   "source": [
    "m : module / d : pitch diameter / N : # of tooth / p : circular pitch / P : diametral pitch"
   ]
  },
  {
   "cell_type": "markdown",
   "metadata": {},
   "source": [
    "모든 diametral pitch를 사용 가능한 것은 아니다. 경제적으로 설계에서는 표준 diametral pitch를 사용한다. 일반적인 \"coarse\" 시리즈 diametral pitch는 1, 1 1/4, 1 1/2, 1 3/4, 2, 2 1/4, 2 1/2, 3, 4, 6, 8, 10, 12, 16 teeth/in를 포함한다. 일반적인 \"fine\"\" 시리즈 diametral pitch는 20, 24, 32, 40, 48, 80, 96, 120, 150, 200 teeth/in를 포함한다. SI 모듈은 시리즈로 분류된다. 비록, 작은, 분수 모듈들이 다른 시리즈에 포함되어 있지만, 성호되는 표준 시리즈 모듇들은 1, 1.25, 1.5, 2, 2.5, 3, 4,5, 6, 8, 10, 12, 16, 20, 25, 32, 40, 50 mm (표준 ISO 53, JIS B 1707)이다."
   ]
  },
  {
   "cell_type": "markdown",
   "metadata": {},
   "source": [
    "대부분의 기어들은 **인볼류트 기어** (즉, 인볼류트 절삭 이빨)를 사용한다. 인볼류트 원은 곡면에서 풀린 팽팽한 끈의 끝으로 추적되는 곡선이다. base circle로 부터 인볼류트가 생성된다."
   ]
  },
  {
   "cell_type": "markdown",
   "metadata": {},
   "source": [
    "**작용선(line of action)** (AKA 압력선 또는 생성 선)은 두개의 base circle에 접하는 피치 점을 통과하는 선을 의미한다. 이는 압력선과 addendum 원 교차점 사이의 거리이다. 그림 54.7에서 선 A-A는 base circle에 접하며, 작용선이다. 각 $\\phi$는 접점에서 결정되며 **압력각(pressure angle)** (AKA angle of obliquity)이다. 이 인볼류트는 \"$\\phi^{\\circ}$ involute\"라고 부른다. 미국에서는 20도, 22 1/2 도, 25도 압력각이 보통 사용된다. 한때 사용되었던 14 1/2 도 압력각은 더 큰 기어가 생산됨에 따라 완전히 폐기되었다."
   ]
  },
  {
   "cell_type": "markdown",
   "metadata": {},
   "source": [
    "<img src='Figure 54.7.PNG'>"
   ]
  },
  {
   "cell_type": "markdown",
   "metadata": {},
   "source": [
    "압력각은 기어의 중심에서 중심간의 거리에 비례한다. 하지만 중심-중심 거리에서 약간의 차이(즉, 오차)가 압력각을 약간 변화시키게 된다. 하지만, 인볼류트 기어의 경우 중심-중심 거리와 backlash는 속도비 또는 기어 세트의 일반적인 성능을 변화시키지 않는다. 이것이 인볼류트 기어가 널리 사용되는 주요한 이유이다."
   ]
  },
  {
   "cell_type": "markdown",
   "metadata": {},
   "source": [
    "그림 54.7은 맞물린 기어 에서 이빨 사이의 접촉 선 길이를 보여준다. 선 B-B는 2개의 addenda 원을 가로지르는 점들 사이에 작용하는 선을 보여준다. 이는 가끔 **작용선길이** (length of the line of action)이라고 불린다. 작용점 길이는 $L_{ab}$로 표기한다."
   ]
  },
  {
   "cell_type": "markdown",
   "metadata": {},
   "source": [
    "## 15. TOOTH THICKNESS"
   ]
  },
  {
   "cell_type": "markdown",
   "metadata": {},
   "source": [
    "이상적으로 **이빨 두께는 circular pitch의 절반**이 된다. 하지만, 더 두꺼운 이빨이 갖도록 잘못 생산된 기어로 부터의 고착을 방지하기 위해 설계에서는 clearance가 포함되어야 한다. 이 clearance는 **backlash**로도 불린다. backlash의 양은 피치원을 따라는 거리이지만 보통 feller gauge로 측정된다. **backlash는 보통 0.03/P ~ 0.05/P의 범위**를 갖는다. backlash는 인볼류트로 제작된 기어의 기어 이빨 작용에 영향을 미치지 않는다."
   ]
  },
  {
   "cell_type": "markdown",
   "metadata": {},
   "source": [
    "## 16. GEAR SET AND GEAR DRIVES"
   ]
  },
  {
   "cell_type": "markdown",
   "metadata": {},
   "source": [
    "접촉하는 2개의 외부 기어의 단순한 세트에서 (**mesh** 또는 **gear set**라고 부름) 한 기어가 다른 기어를 구동시킨다. 종종 작은 기어가 큰 기어를 구동시키며 이러한 경우 **작은 기어를 pinion**이라고 부른다. **큰기어는 gear**라고 부른다. **center distance**는 피니언과 기어 중심 사이의 거리이다."
   ]
  },
  {
   "cell_type": "markdown",
   "metadata": {},
   "source": [
    "맞물린 이빨 사이의 힘은은 같다. 각 기는 **동일한 power**가 전달되기 때문에, **토크와 회전속도의 곱은 같다.**"
   ]
  },
  {
   "cell_type": "markdown",
   "metadata": {},
   "source": [
    "$$v_{pinion}=v_{gear}\\tag{54.38}$$"
   ]
  },
  {
   "cell_type": "markdown",
   "metadata": {},
   "source": [
    "$$F_{pinion}=F_{gear}\\tag{54.39}$$"
   ]
  },
  {
   "cell_type": "markdown",
   "metadata": {},
   "source": [
    "기어 한쌍에 대한 각 **속도율**, VR은 다양한 방법으로 계산될 수 있다."
   ]
  },
  {
   "cell_type": "markdown",
   "metadata": {},
   "source": [
    "$$VR=\\frac{n_{pinion}}{n_{gear}}=\\frac{\\omega_{pinion}}{\\omega_{gear}}=\\frac{r_{gear}}{r_{pinion}}=\\frac{N_{gear}}{N_{pinion}}\\tag{54.40}$$"
   ]
  },
  {
   "cell_type": "markdown",
   "metadata": {},
   "source": [
    "한 순간에는 한쌍의 이빨이 모든 하중을 전달하고 모든 파워를 전달한다.다른 시점에서는 2개 (또는 그 이상) 쌍이 접촉할 것이다. 이빨 쌍의 평균 접촉 수를 **점촉률(contact ratio)** CR 이라고 한다. 접촉률은 보통 1.2:1 ~ 1.6:1 사이이다. (1.2:1는 항상 1쌍의 이빨이 접촉하고 있고 전체 시간의 20%에서는 2번째 쌍이 접촉하고 있음을 의미한다.) 좋은 설계의 경우 접촉률은 약 1.5:1로 되어야 한다."
   ]
  },
  {
   "cell_type": "markdown",
   "metadata": {},
   "source": [
    "$$CR=\\frac{L_{ab}}{p cos\\phi}=\\frac{L_{ab}P}{\\pi cos\\phi}\\tag{54.41}$$"
   ]
  },
  {
   "cell_type": "markdown",
   "metadata": {},
   "source": [
    "작용 선의 길이는 식 54.42에서 계산된다. $r_1$, $r_2$는 기어의 피치 반경이다. full-depth 이빨의 경우, m=1이고, stub teeth의 경우 m=0.8이다."
   ]
  },
  {
   "cell_type": "markdown",
   "metadata": {},
   "source": [
    "$$L_{ab}=\\sqrt{\\left(r_1+\\frac{m_1}{P}\\right)^2-(r_1 cos\\phi )^2}-r_1 sin \\phi$$"
   ]
  },
  {
   "cell_type": "markdown",
   "metadata": {},
   "source": [
    "$$+\\sqrt{\\left(r_2 + \\frac{m_2}{P}\\right)^2-(r_2 cos\\phi)^2}-r_2 sin\\phi\\tag{54.42}$$"
   ]
  },
  {
   "cell_type": "markdown",
   "metadata": {},
   "source": [
    "중심 거리가 C이고, 외경이 $D_o$, $d_o$이고, base 직경이 $D_b$, $d_b$인 2개의 기어의 경우 접촉률은 다음과 같이 계산할 수 있다."
   ]
  },
  {
   "cell_type": "markdown",
   "metadata": {},
   "source": [
    "$$CR=\\frac{\\sqrt{D_o^2-D_b^2}+=sqrt{d_o^2-d_b^2}-2C sin\\phi}{2 p cos\\phi}\\tag{54.43}$$"
   ]
  },
  {
   "cell_type": "markdown",
   "metadata": {},
   "source": [
    "각 맞물린 기어의 이빨 수가 1을 제외한 공통 계수가 없으면 이 기어 세트를 **prime**이라고 한다. 이는 모든 이빨이 골고루 마모되려고 하기 때문에 바람직한 조건이다."
   ]
  },
  {
   "cell_type": "markdown",
   "metadata": {},
   "source": [
    "**운전계수(service factor)** 는 기어 운전의 신뢰성과 운전 수명과 관련된 외부 하중 역학을 조합하여 하나로 측정된다. 운전계수는 모터의 성능등급에 적용된다.기기를 선택할 때 실제 하중에 운전 계수를 곱해야 하거나 모든 카타로그 등급(마력, 토크, overhung load)는 운전 계수로 나누어야 한다. 허용 가능한 운전계수들은 경험을 통해 얻거나 다양한 저자들이 명시하고 있다. AGMA(Americal Gear Manufactur's Association)은 적용 운전 등급 수 및 주요 mover의 형태에 따른 운전 계수들을 발간하였다. 그 범위는 0.8 ~ 2.25이다."
   ]
  },
  {
   "cell_type": "markdown",
   "metadata": {},
   "source": [
    "## 17. MESH EFFICIENCY"
   ]
  },
  {
   "cell_type": "markdown",
   "metadata": {},
   "source": [
    "이상적으로, 입력 동력은 각 기어에서 다음기어로 전달된다."
   ]
  },
  {
   "cell_type": "markdown",
   "metadata": {},
   "source": [
    "$$P_{gear} = P_{pinion}\\tag{54.44}$$"
   ]
  },
  {
   "cell_type": "markdown",
   "metadata": {},
   "source": [
    "$$T_{grea} n_{gear} = T_{pinion} n_{pinion}\\tag{54.45}$$"
   ]
  },
  {
   "cell_type": "markdown",
   "metadata": {},
   "source": [
    "실제로는 각 기어 세트에서 입력동력의 일부가 소실된다.이는 **efficiency of the gear train** (즉, **mesh efficiency**) $\\eta_{mesh}$를 고려한다."
   ]
  },
  {
   "cell_type": "markdown",
   "metadata": {},
   "source": [
    "$$\\eta_{mesh}=\\frac{P_{output}}{P_{input}}\\tag{54.46}$$"
   ]
  },
  {
   "cell_type": "markdown",
   "metadata": {},
   "source": [
    "기어를 구동하는 피니언의 경우,"
   ]
  },
  {
   "cell_type": "markdown",
   "metadata": {},
   "source": [
    "$$P_{gear}=\\eta_{mesh}P_{pinion}\\tag{54.47}$$"
   ]
  },
  {
   "cell_type": "markdown",
   "metadata": {},
   "source": [
    "$$T_{gear} n_{gear} = \\eta_{mesh} T_{pinion} n_{pinion}\\tag{54.48}$$"
   ]
  },
  {
   "cell_type": "markdown",
   "metadata": {},
   "source": [
    "## 18. FORCE ANALYSIS OF SPUR GEARS"
   ]
  },
  {
   "cell_type": "markdown",
   "metadata": {},
   "source": [
    "피치원에서 **tangential force** (AKA 전달 하중)는 유용한 하중이고 동력을 전달하는 유일한 성분이다. 이는 전달되는 토크를 통해 구할 수 있다. tangential 성분으로부터 원주방향 하중을 구할 수 있다. 스퍼기어에서 축방향 하중은 없다."
   ]
  },
  {
   "cell_type": "markdown",
   "metadata": {},
   "source": [
    "$$F_t = \\frac{2T}{d}=\\frac{P_{kW}(1000\\; W/kW)}{v_{t,m/s}}\\;\\;\\;\\;[SI]\\tag{54.49(a)}$$"
   ]
  },
  {
   "cell_type": "markdown",
   "metadata": {},
   "source": [
    "$$F_t = \\frac{2T}{d}=\\frac{P_{hp}(33,000\\; ft\\cdot lbf/hp\\cdot min)}{v_{t,ft/min}}\\;\\;\\;\\;[U.S.]\\tag{54.49(b)}$$"
   ]
  },
  {
   "cell_type": "markdown",
   "metadata": {},
   "source": [
    "스퍼기어 이빨에 가해지는 반경방향 하중은 다음과 같다."
   ]
  },
  {
   "cell_type": "markdown",
   "metadata": {},
   "source": [
    "$$F_r = F_t tan\\phi\\tag{54.50}$$"
   ]
  },
  {
   "cell_type": "markdown",
   "metadata": {},
   "source": [
    "스퍼기어 이빨에 가해지는 총 하중은 다음과 같다."
   ]
  },
  {
   "cell_type": "markdown",
   "metadata": {},
   "source": [
    "$$F_{total}=\\sqrt{F_t^2 + F_r^2}=\\frac{F_t}{cos\\phi}$$"
   ]
  },
  {
   "cell_type": "markdown",
   "metadata": {},
   "source": [
    "$$=\\frac{F_r}{sin\\phi}\\tag{54.51}$$"
   ]
  },
  {
   "cell_type": "markdown",
   "metadata": {},
   "source": [
    "## 19. HELICAL GEARS"
   ]
  },
  {
   "cell_type": "markdown",
   "metadata": {},
   "source": [
    "그림 54.8은 **헬리컬 기어**와 관련된 3가지 각도를 보여준다. 압력각 (**normal pressure angle**) $\\phi_n$에 추가로 **tangential pressure angle**, $\\phi_t$, **helix angle**, $\\psi$가 있다. 20˚ normal pressure angle이 가장 일반적이다. Helix angle은 보통 0˚~ 30˚ 범위를 가지며, 45˚까지는 거의 없다."
   ]
  },
  {
   "cell_type": "markdown",
   "metadata": {},
   "source": [
    "$$cos\\psi = \\frac{tan\\phi_n}{tan\\phi_t}\\tag{54.52}$$"
   ]
  },
  {
   "cell_type": "markdown",
   "metadata": {},
   "source": [
    "<img src='Figure 54.8.PNG'>"
   ]
  },
  {
   "cell_type": "markdown",
   "metadata": {},
   "source": [
    "**transverse circular pitch** (보통은 circular pitch로 불림) $p_t$와 **normal circular pitch** $p_n$ 사이의 관계는 다음과 같다."
   ]
  },
  {
   "cell_type": "markdown",
   "metadata": {},
   "source": [
    "$$ p_t = \\frac{p_n}{cos\\psi}\\tag{54.53}$$"
   ]
  },
  {
   "cell_type": "markdown",
   "metadata": {},
   "source": [
    "**axial pitch**는 다음과 같다."
   ]
  },
  {
   "cell_type": "markdown",
   "metadata": {},
   "source": [
    "$$p_a = \\frac{p_t}{tan\\psi}\\tag{54.54}$$"
   ]
  },
  {
   "cell_type": "markdown",
   "metadata": {},
   "source": [
    "**normal diametral pitch**는 다음과 같다."
   ]
  },
  {
   "cell_type": "markdown",
   "metadata": {},
   "source": [
    "$$P_n=\\frac{P_t}{cos\\psi}\\tag{54.55}$$"
   ]
  },
  {
   "cell_type": "markdown",
   "metadata": {},
   "source": [
    "## 20. FORCE ANALYSIS OF HELICAL GEARS"
   ]
  },
  {
   "cell_type": "markdown",
   "metadata": {},
   "source": [
    "헬리컬 기어에는 3가지 하중 성분이 있다: 반경방향, 축방향, 접선방향(tangential) (그림 54.9 참고) 스퍼기어 처럼 접선방향 하중이 유용한 하중이며 동력을 전달하는 유일한 성분이다. 이는 식 54.49로 계산 가능하다. 반경방향, 축방향 성분은 접선방향 하중으로부터 계산할 수 있다."
   ]
  },
  {
   "cell_type": "markdown",
   "metadata": {},
   "source": [
    "<img src='Figure 54.9.PNG'>"
   ]
  },
  {
   "cell_type": "markdown",
   "metadata": {},
   "source": [
    "회전에 따라서 하중의 축방향 성분은 샤프트를 압축하거나 인장시키고, 반경방향 성분은 맞물린 기어를 분리시키는 (즉, 두 부분을 \"thrust apart\") 작용을 한다. 이러한 이유로 반경방향 하중은 **separation force** 또는 **thrust force**라고 한다. 분리하중은 기어 중심 사이의 선을 따라 작용하며 기어들을 분리시키려 한다."
   ]
  },
  {
   "cell_type": "markdown",
   "metadata": {},
   "source": [
    "$$F_r = F_t tan\\phi_t=\\frac{F_t tan\\phi_n}{cos\\phi}\\tag{54.56}$$"
   ]
  },
  {
   "cell_type": "markdown",
   "metadata": {},
   "source": [
    "$$F_a = F_t tan\\psi\\tag{54.57}$$"
   ]
  },
  {
   "cell_type": "markdown",
   "metadata": {},
   "source": [
    "3개의 하중 성분은 조합되어 기어에 총 하중 F로 작용한다. 총 하중은 학문적 관심사일 뿐이며 전달되는 접선방향 하중 $F_t$가 기어 설계에 사용된다."
   ]
  },
  {
   "cell_type": "markdown",
   "metadata": {},
   "source": [
    "$$F=\\sqrt{F_r^2 + F_a^2 + F_t^2}\\tag{54.58}$$"
   ]
  },
  {
   "cell_type": "markdown",
   "metadata": {},
   "source": [
    "총 하중에 대하여 반경방향, 축방향, 접선방향 하중 성분은 다음과 같다."
   ]
  },
  {
   "cell_type": "markdown",
   "metadata": {},
   "source": [
    "$$F_r = F sin\\phi_n \\tag{54.59}$$"
   ]
  },
  {
   "cell_type": "markdown",
   "metadata": {},
   "source": [
    "$$F_a = F cos\\phi_n sin\\psi\\tag{54.60}$$"
   ]
  },
  {
   "cell_type": "markdown",
   "metadata": {},
   "source": [
    "$$F_t = F cos\\phi_n cos\\psi \\tag{54.61}$$"
   ]
  },
  {
   "cell_type": "markdown",
   "metadata": {},
   "source": [
    "## 21. ALLOWABLE STRESSES FOR GEAR DESIGN"
   ]
  },
  {
   "cell_type": "markdown",
   "metadata": {},
   "source": [
    "기어 이빨 설계에서 허용응력을 계산하는 가장 단순한 방법은 인장 항복응력을 특정 계수 (예를들어 3~5)로 나누는 것이다. 이 방법은 경험 및 판단이 필요하다."
   ]
  },
  {
   "cell_type": "markdown",
   "metadata": {},
   "source": [
    "다른 방법은 반복 굽힘에 대한 endurance strength에 특정 비율(예를 들어 75%)을 적용하여 이를 허용 응력으로 사용하는 것이다. 대부분의 기어 응력은 0에서 최대 값으로 변하기 때문에 (즉 완전한 반복 응력이 아님) 이 방법은 상당한 안전률을 갖게된다."
   ]
  },
  {
   "cell_type": "markdown",
   "metadata": {},
   "source": [
    "AGMA **굽힘강도**는 AGMA 절차에만 사용되어야 한다. 이는 일반적인 경우의 허용응력이 아니다"
   ]
  },
  {
   "cell_type": "markdown",
   "metadata": {},
   "source": [
    "## 22. SPUR GEAR STRENGTH: LEWIS BEAM STRENGTH"
   ]
  },
  {
   "cell_type": "markdown",
   "metadata": {},
   "source": [
    "**Lewis beam strength theory**는 AGMA 절차를 대체해 오고 있지만 이는 역사적인 관심사이다. 이 이론은 한 이빨이 전체 접선 하중을 캔틸레버 빔처럼 전달한다고 가정한다. 하중은 이빨 끝단에 부여되고, 꼭때기 면에 평행하다. 하중의 반경방향 성분은 무시한다. 최대응력은 이빨 뿌리에서 발생한다. 최대 허용 접선 하중은 식 54.62와 같다. **form factor** Y는 0.2 ~ 0.5 정도의 범위를 가지며, 기어 및 기계 설계 책에서 널리 표로 정리되고 있다."
   ]
  },
  {
   "cell_type": "markdown",
   "metadata": {},
   "source": [
    "$$F_{t,max}=\\frac{\\sigma_a \\omega Y}{P}\\tag{54.62}$$"
   ]
  },
  {
   "cell_type": "markdown",
   "metadata": {},
   "source": [
    "압력각 및 기어의 종류(예를 들어 스퍼, 헬리컬 등)에 따라 form factor가 달라진다. 그림 54.10은 스퍼 기어에 대하여 다양한 form factor를 보여준다."
   ]
  },
  {
   "cell_type": "markdown",
   "metadata": {},
   "source": [
    "대안으로 실제 굽힘 응력은 다음과 같이 계산될 수 있다."
   ]
  },
  {
   "cell_type": "markdown",
   "metadata": {},
   "source": [
    "$$\\sigma=\\frac{F_t P}{\\omega Y}\\tag{54.63}$$"
   ]
  },
  {
   "cell_type": "markdown",
   "metadata": {},
   "source": [
    "기존의 Lewis 빔 강도 이론은 이빨에 정하중이 가해진다고 가정한다. 이는 저속 운전에만 적절하다. 속도 및 동적 영향을 고려하기 위하여 허용 Lewis 빔 강도 하중은 **speed factor**로 감소시킨다. Barth **speed factor**는 식 54.65와 같으며, 상수 a는 보통 산업용 기어 및 cast teeth를 갖는 기어의 경우 600, 정밀히 가공되어 6000 ft/min 까지 구동되는 기어의 경우 1200이다."
   ]
  },
  {
   "cell_type": "markdown",
   "metadata": {},
   "source": [
    "$$F_{t,max}=\\frac{k_d \\sigma_a \\omega Y}{P} \\tag{54.64}$$"
   ]
  },
  {
   "cell_type": "markdown",
   "metadata": {},
   "source": [
    "$$k_d=\\frac{a}{a+v_{t,ft/min}}\\tag{54.64}$$"
   ]
  },
  {
   "cell_type": "markdown",
   "metadata": {},
   "source": [
    "이빨 뿌리에서 응력 집중을 고려하기 위해 Lewis 이론을 확장한 이론도 만들어 졌다."
   ]
  },
  {
   "cell_type": "markdown",
   "metadata": {},
   "source": [
    "<img src='Figure 54.10.PNG'>"
   ]
  },
  {
   "cell_type": "markdown",
   "metadata": {},
   "source": [
    "## 23. DESIGN GUDELINES FOR GEARS"
   ]
  },
  {
   "cell_type": "markdown",
   "metadata": {},
   "source": [
    "다음 일반 법칙들을 기어 설계를 단순화 하는데 사용할수 있다."
   ]
  },
  {
   "cell_type": "markdown",
   "metadata": {},
   "source": [
    "* 스퍼 기어의 폭(fact width) $\\omega$는 circular pich $\\pi/P$의 3~5배로 한다.\n",
    "* 폭(face width)을 증가 시키면 마모 및 피로가 감소하지만 동하중은 증가한다.\n",
    "* 이빨이 coarse 해질수록(diametral pitch가 작아질수록) 피로 성능은 개선되지만 마모 성능은 나빠진다. 주어진 이빨 설계에 대해 더 딱딱한 재료를 사용해야만 마모를 개선할 수 있다.\n",
    "* 큰 pitch diameter는 낮은 접선 하중 및 낮은 동적 하중을 갖는다.\n",
    "* 이빨 오차를 감소시키면 동적 하중이 감소한다."
   ]
  },
  {
   "cell_type": "markdown",
   "metadata": {},
   "source": [
    "## 24. AGMA GEAR DESIGN METHOD"
   ]
  },
  {
   "cell_type": "markdown",
   "metadata": {},
   "source": [
    "이빨(굽힘응력번호 $s_b$로 참조됨)에서의 굽힘 응력에 대한 AGMA 공식은 식 54.66과 같다. $K_a$는 적용 계수이고, $K_v$는 동적(속도) 계수, $K_s$는 크기계수, $K_m$은 하중 분포 계수, $J$는 형상계수이다. $P$는 diametral pitch이고 단위 인치당 이빨 수를 의미하며, m은 이빨 수당 mm 단위를 갖는 모듈을 의미한다."
   ]
  },
  {
   "cell_type": "markdown",
   "metadata": {},
   "source": [
    "$$s_{b,MPa}=\\left(\\frac{F_t K_a}{K_v}\\right)\\left(\\frac{1}{mw}\\right)\\left(\\frac{K_s K_m}{J}\\right)\\;\\;[SI]\\tag{54.66(a)}$$"
   ]
  },
  {
   "cell_type": "markdown",
   "metadata": {},
   "source": [
    "$$s_{b,lbf/in^2}=\\left(\\frac{F_t K_a}{K_v}\\right)\\left(\\frac{P}{w}\\right)\\left(\\frac{K_s K_m}{J}\\right)\\;\\;[U.S.]\\tag{54.66(b)}$$"
   ]
  },
  {
   "cell_type": "markdown",
   "metadata": {},
   "source": [
    "허용 설계 응력(허용굽힘응력 번호로 참조됨)은 AGMA 허용인장굽힘강도 번호 $S_t$로부터 계산되며, 이 번호는 AGMA 표에서 얻을 수 있다. $K_L$은 수명 계수이고, $K_T$는 온도계수, $K_R$은 신뢰도 계수이다."
   ]
  },
  {
   "cell_type": "markdown",
   "metadata": {},
   "source": [
    "$$\\sigma_a = \\frac{S_t K_L}{K_T K_R}\\tag{54.67}$$"
   ]
  },
  {
   "cell_type": "markdown",
   "metadata": {},
   "source": [
    "AGMA는 표면 응력을 허용 접촉 응력과 비교하기 위한 유사한 절차를 만들었다. 이는 가끔 AGMA **pitting resistance** 또는 AGMA **surface durability** 라고 불린다."
   ]
  },
  {
   "cell_type": "markdown",
   "metadata": {},
   "source": [
    "모든 AGMA 방법들은 AGMA 차트 및 표에 매우 의존적이다. 다양한 이빨 깊이 및 압력 각도에 대하여 다른 차트 및 표가 필요하기 때문에 이 차트 및 표들은 매우 많다. 일부는 공학 핸드푹 또는 기계 설계 책에 포함되어 있지만 여기에 담기에는 양이 너무 방대하다."
   ]
  },
  {
   "cell_type": "markdown",
   "metadata": {},
   "source": [
    "## 25. LIMIT WEAR DESIGN"
   ]
  },
  {
   "cell_type": "markdown",
   "metadata": {},
   "source": [
    "기어 이빨은 이빨 파손 뿐만아니라 압축에 의한 표면 피로 (과도한 기어 이빨 접촉 응력)에 의해 파손될 수 있다. 이와 관련된 계수는 이빨 폭과 관련된다. **한계 마모 설계**는 기어 설계에 있어 이러한 관점을 고려하는 절차이다. 일반적인 절차는 한계 마모 하중(용량)을 동하중보다 크게 유지하는 것이다. 동하중은 전달되는 접선 하중 $F_t$로부터 계산되며 **error in action** (즉, 이빨 형상, 절삭, 간격, 안착, 회전 관성 등에 대한 부정확함)을 고려하여 수정된다."
   ]
  },
  {
   "cell_type": "markdown",
   "metadata": {},
   "source": [
    "## 26. BEVEL GEARS"
   ]
  },
  {
   "cell_type": "markdown",
   "metadata": {},
   "source": [
    "베벨기어 세트는 교차하는 샤프트에 사용된다. 기어는 직선형(straight) 또는 나선형(spiral)일 수 있다. 그림 54.11은 직선형 베벨기어 세트를 보여준다. 대부분의 일반적인 샤프트 각은 90˚이다. 하지만 아무 각이나 사용 가능하다. circular pitch와 pitch diameter는 스퍼 기어에서 정의된 것과 동일하다. **pitch angle** $\\gamma$ 및 $\\Gamma$는 정점에 다시 투영된 전방 **피치 원뿔 (pitch cones)** 의 각도이다. "
   ]
  },
  {
   "cell_type": "markdown",
   "metadata": {},
   "source": [
    "$$tan \\gamma = \\frac{N_{pinion}}{N_{gear}}\\tag{54.68}$$"
   ]
  },
  {
   "cell_type": "markdown",
   "metadata": {},
   "source": [
    "$$tan \\Gamma = \\frac{N_{gear}}{N_{pinion}}\\tag{54.69}$$"
   ]
  },
  {
   "cell_type": "markdown",
   "metadata": {},
   "source": [
    "<img src='Figure 54.11.PNG'>"
   ]
  },
  {
   "cell_type": "markdown",
   "metadata": {},
   "source": [
    "베벨기어는 정점(apex)로 부터 떨어지려는 분리하중(thrust force)을 받는다. 설치 (베어링의 선택)은 배열이 떨어지지 않도록 설계되어야 한다. 베벨기어의 하중 해석은 압력각 $\\phi$와 피니언 시치콘 각 $\\gamma$에 따라 결정된다."
   ]
  },
  {
   "cell_type": "markdown",
   "metadata": {},
   "source": [
    "베벨기어 세트에 가해지는 하중은 그림 54.12에 나타나 있으며, 다음 식들을 사용해 계산할 수 있다. 여기서 피니언 P가 기어 G를 구동시킨다고 가정한다. $T_P$는 피니언 샤프트에 가해지는 토크이고, $F_s$는 분리하중, $F_P$는 피니언 thrust, $F_G$는 기어 thrust이다. 식 54.49는 동력 전달을 위한 토크와 관련되며, 피니언 상의 접선 하중 $F_{t,P}$를 계산하는데 사용된다. 피치 직경 d는 평균 반경 $r_m$의 2배이다."
   ]
  },
  {
   "cell_type": "markdown",
   "metadata": {},
   "source": [
    "$$T_P = r_m F_{t,P} = \\frac{d F_{t,P}}{2}\\tag{54.70}$$"
   ]
  },
  {
   "cell_type": "markdown",
   "metadata": {},
   "source": [
    "$$F_s = F_{t,P} tan \\phi\\tag{54.71}$$"
   ]
  },
  {
   "cell_type": "markdown",
   "metadata": {},
   "source": [
    "$$F_P = F_s sin\\gamma \\tag{54.72}$$"
   ]
  },
  {
   "cell_type": "markdown",
   "metadata": {},
   "source": [
    "$$F_G = F_s cos \\gamma \\tag{54.73}$$"
   ]
  },
  {
   "cell_type": "markdown",
   "metadata": {},
   "source": [
    "<img src='Figure 54.12.PNG'>"
   ]
  },
  {
   "cell_type": "markdown",
   "metadata": {},
   "source": [
    "## 27. WORM GEAR SETS"
   ]
  },
  {
   "cell_type": "markdown",
   "metadata": {},
   "source": [
    "**worm drive**는 **worm**과 **worm gear**로 구성되며, 서로 수직인 공유 평면이 없는 샤프트를 높은 속도 비(2:1 또는 3:1)로 회전시키는데 사용된다. (그림 54.13 참고) worm drive는 보통 역방향 회전이 불가능 하다: 웜은 기어를 회전시키지만, 기어가 웜을 회전시키지는 못한다. 다라서, 웜 세트는 자기 고정 기능이 있으며, 이러한 특징은 안전운전에 영향을 받으면 안된다."
   ]
  },
  {
   "cell_type": "markdown",
   "metadata": {},
   "source": [
    "웜들은 단일 나사산일 수도 있지만 보통은 (6개 정도) 더 많은 나사산을 갖는다. 나사산 수는 **lead ratio**, LR이라고 한다. 이중 나사 웜은 lead ratio가 2:1이다. 이중(삼중) 나사 웜이 한바퀴 돌면 2(3) 개의 웜 피치가 고정 점을 지난다. 만약 웜 기어가 60개의 이빨을 가지면, 기어를 완전히 한바퀴 돌리기 위해서는 2중 나사 웜이 30번 회전해야 한다. 그리고 속도 비는 30:1이다. 웜은 항상 웜기어보다 빠르게 회전한다. 웜이 한바퀴 돌아서 1개 웜 나사산이 이동하는 축방향 거리는 **lead** L이다. 단일 나사 웜의 경우 lead는 circular pitch와 동일하다. 이중(삼중) 나사 웜의 경우 리드는 circular pitch의 2(3)배이다. 나사각은 **lead angle** $\\theta$라고 한다. **helix angle** $\\psi_w$는 lead angle을 보완해준다 ($\\theta+\\psi_w=90˚$). lead angle과 worm diameter 사이의 관계는 다음과 같다."
   ]
  },
  {
   "cell_type": "markdown",
   "metadata": {},
   "source": [
    "<img src='Figure 54.13.PNG'>"
   ]
  },
  {
   "cell_type": "markdown",
   "metadata": {},
   "source": [
    "$$tan \\theta = \\frac{L}{\\pi d_{worm}}=\\frac{p_{gear} (LR)}{\\pi d_{worm}}\\tag{54.74}$$"
   ]
  },
  {
   "cell_type": "markdown",
   "metadata": {},
   "source": [
    "보통 속도비는 웜의 나사수와 기어 이빨 수의 비로 계산한다."
   ]
  },
  {
   "cell_type": "markdown",
   "metadata": {},
   "source": [
    "$$VR=\\frac{n_{worm}}{n_{gear}}=\\frac{N_{gear}}{N_{worm}}=\\frac{d_{gear}}{d_{worm}tan\\theta}\\tag{54.75}$$"
   ]
  },
  {
   "cell_type": "markdown",
   "metadata": {},
   "source": [
    "웜-기어 사이의 동력 및 토크 전달은 다른 모든 기어 형태에서와 동일하다."
   ]
  },
  {
   "cell_type": "markdown",
   "metadata": {},
   "source": [
    "$$T_{gear} n_{gear} = T_{worm} n_{worm} \\tag{54.76}$$"
   ]
  },
  {
   "cell_type": "markdown",
   "metadata": {},
   "source": [
    "## 28. FLAT BELT DRIVES"
   ]
  },
  {
   "cell_type": "markdown",
   "metadata": {},
   "source": [
    "그림 54.14에 나타난 바와 같이 2가지 종류의 **belt drive**가 있다. **open drive**는 샤프트가 같은 방향으로 회전한다. **crossed drive**는 반대 방향으로 회전한다."
   ]
  },
  {
   "cell_type": "markdown",
   "metadata": {},
   "source": [
    "벨트 해석은 풀리 마찰력에 대한 것이다. open 및 crossed 벨트에 대한 팽팽한 부분 및 느슨한 부분의 인장력 $F_1$, $F_2$는 식 54.77에 주어져 있다."
   ]
  },
  {
   "cell_type": "markdown",
   "metadata": {},
   "source": [
    "<img src='Figure 54.14.PNG'>"
   ]
  },
  {
   "cell_type": "markdown",
   "metadata": {},
   "source": [
    "접촉각 $\\phi$는 라디안 단위여야 한다. 과거에는 가죽 벡트가 많이 사용되었지만, 최근에는 폴리아마이드 및 우레탄 벨트로 대치되고 있다. 벨트 마찰계수 $f$는 가죽의 경우 약 0.4, 우레탄의 경우 약 0.8, 폴리아마이드의 경우 약 0.5 ~ 0.8이다. 건조한(윤활이 안된) 금속 밴드의 주철(cast iron)에 대한 마찰 계수는 0.18이다. "
   ]
  },
  {
   "cell_type": "markdown",
   "metadata": {},
   "source": [
    "$$\\frac{F_1-F_c}{F_2-F_c}=e^{f\\phi}\\;\\;[F_1 > F_2; slippage\\;impending] \\tag{54.77}$$"
   ]
  },
  {
   "cell_type": "markdown",
   "metadata": {},
   "source": [
    "식 54.78은 벨트로 인한 단위 길이당 원심(centrifugal) 하중을 나타낸다. 가줄 벨트의 밀도는 약 0.035 $lbm/in^3$ ~ 0.045 $lbm/in^3$ (970 $kg/m^3$ ~ 1250 $kg/m^3$)이고, 현대식 폴리아마이드 및 우레탄 벨트의 밀도는 약 0.038 $lbm/in^3$ ~ 0.045 $lbm/in^3$ (1050 $kg/m^3$ ~ 1250 $kg/m^3$)dlek. $m$은 단위길이당 벨트 질량이다."
   ]
  },
  {
   "cell_type": "markdown",
   "metadata": {},
   "source": [
    "$$F_c=mv^2=\\rho btv^2\\;\\;[SI]\\tag{54.78(a)}$$"
   ]
  },
  {
   "cell_type": "markdown",
   "metadata": {},
   "source": [
    "$$F_c=\\frac{mv^2}{g_c}=\\frac{\\rho btv^2}{g_c}\\;\\;[U.S.]\\tag{54.78(b)}$$"
   ]
  },
  {
   "cell_type": "markdown",
   "metadata": {},
   "source": [
    "식 54.33의 이론적 동력-토크 관계식을 적용한다. 마력을 전달하기 위한 **알짜 인장력(net tension)** 은 $F_1-F_2$이다."
   ]
  },
  {
   "cell_type": "markdown",
   "metadata": {},
   "source": [
    "$$P_{kW}=\\frac{(F_1-F_2)v_{m/s}}{1000\\frac{W}{kW}}\\;\\;[SI]\\tag{54.79(a)}$$"
   ]
  },
  {
   "cell_type": "markdown",
   "metadata": {},
   "source": [
    "$$P_{hp}=\\frac{(F_1-F_2)v_{ft/min}}{33,000\\;\\frac{ft\\cdot lbf}{hp\\cdot min}}\\;\\;[U.S.]\\tag{54.79(b)}$$"
   ]
  },
  {
   "cell_type": "markdown",
   "metadata": {},
   "source": [
    "식 54.80은 조립 시 벨트의 초기 인장력 $F_i$와 최대, 최소 인장력 사이의 관계를 보여준다."
   ]
  },
  {
   "cell_type": "markdown",
   "metadata": {},
   "source": [
    "$$F_i=\\frac{F_1+F_2}{2}\\tag{54.80}$$"
   ]
  },
  {
   "cell_type": "markdown",
   "metadata": {},
   "source": [
    "open belt의 접촉각 $\\phi$는 2개 풀리의 반경과 중심-중심 거리 $c$에 따라 결정된다."
   ]
  },
  {
   "cell_type": "markdown",
   "metadata": {},
   "source": [
    "$$\\phi=\\pi+2sin^{-1}\\left(\\frac{R-r}{c}\\right)\\;\\;[large \\;pulley]\\tag{54.81}$$"
   ]
  },
  {
   "cell_type": "markdown",
   "metadata": {},
   "source": [
    "$$\\phi=\\pi-2sin^{-1}\\left(\\frac{R-r}{c}\\right)\\;\\;[small\\;pulley]\\tag{54.82}$$"
   ]
  },
  {
   "cell_type": "markdown",
   "metadata": {},
   "source": [
    "식 54.83, 식 54.84는 벨트 길이에 대한 추정치이다."
   ]
  },
  {
   "cell_type": "markdown",
   "metadata": {},
   "source": [
    "$$L_{open\\;drive}=2c+\\left(\\frac{\\pi}{2}\\right)(2R+2r)+\\frac{(2R-2r)^2}{4c}\\tag{54.83}$$"
   ]
  },
  {
   "cell_type": "markdown",
   "metadata": {},
   "source": [
    "$$L_{crossed\\;drive}=2c+\\left(\\frac{\\pi}{2}\\right)(2R+2r)+\\frac{(2R+2r)^2}{4c}\\tag{54.84}$$"
   ]
  },
  {
   "cell_type": "markdown",
   "metadata": {},
   "source": [
    "벨트는 벨트가 지지할 수 있는 최대 인장력에 의해 제한된다. 식 54.79로 부터 $F_2=0$이고 $F_1=2F_i$인 경우, 전달 가능한 최대 동력은 대략 다음과 같다."
   ]
  },
  {
   "cell_type": "markdown",
   "metadata": {},
   "source": [
    "$$P_{kW}=\\frac{F_i v_{m/s}}{500}\\;\\;[SI]\\tag{54.85(a)}$$"
   ]
  },
  {
   "cell_type": "markdown",
   "metadata": {},
   "source": [
    "$$P_{hp}=\\frac{F_i v_{ft/min}}{16,500}\\;\\;[U.S.]\\tag{54.85(b)}$$"
   ]
  },
  {
   "cell_type": "markdown",
   "metadata": {},
   "source": [
    "제작자는 다양한 속도에서 전달될 수 있는 (단위 폭당)마력으로 벨트 재료 등급을 매긴다. 동력등급은 다양한 계수로 감소된다. 식 54.86에서 $C_p$는 풀리 수정 계수이고 $C_v$는 속도수정계쑤, $K$는 운전계수이다. $F_a$는 벨트 제작자가 정의한 벨트 인장력 허용치이다. 허용 벨트 인장력 감소 계수에 대한 표들은 대부분의 공학 핸드북에 포함되어 있다."
   ]
  },
  {
   "cell_type": "markdown",
   "metadata": {},
   "source": [
    "$$P_{kW}=\\frac{C_p C_v F_a v_{m/s}}{500 K_s}\\;\\;[SI]\\tag{54.86(a)}$$"
   ]
  },
  {
   "cell_type": "markdown",
   "metadata": {},
   "source": [
    "$$P_{hp}=\\frac{C_p C_v F_a v_{ft/min}}{16,500 K_s}\\;\\;[U.S.]\\tag{54.86(b)}$$"
   ]
  },
  {
   "cell_type": "markdown",
   "metadata": {},
   "source": [
    "## 29. V-BELTS"
   ]
  },
  {
   "cell_type": "markdown",
   "metadata": {},
   "source": [
    "V 벨트 드라이브 설계는 제작사 문헌 및 공학 핸드북 표의 사용에 따라 크게 달라진다. Sheave 직경은 속도율 결정이 필요함에 따라 피치 직경들의 직경으로 이해된다. V 벨트 단면은 표준화 되어 있으며, A, B, C, D, E 및 내경으로 지정된다. 따라서 B100 V 벨트는 표준 B 단면이고 내경이 100 in임을 의미한다."
   ]
  },
  {
   "cell_type": "markdown",
   "metadata": {},
   "source": [
    "V 벨트의 단면 및 sheave groove는 그림 54.15에 나타나 있다."
   ]
  },
  {
   "cell_type": "markdown",
   "metadata": {},
   "source": [
    "<img src='Figure 54.15.PNG'>"
   ]
  },
  {
   "cell_type": "markdown",
   "metadata": {},
   "source": [
    "평평한 벨트와 마찬가지로 전달되는 동력은 다양한 계수로 감소되는데, 이 계수에는 **운전 계수(service factor)** 가 포함되며, 이는 하중의 특성 및 전달자 형식에 대해 고려한다. 일부 경우에서는 접촉 arc도 감소계수에 고려된다."
   ]
  },
  {
   "cell_type": "markdown",
   "metadata": {},
   "source": [
    "벨트의 수는 전달 동력, 벨트당 동력 등급, 접촉 arc 계수(접촉각이 180도 보다 작을때 필요함)를 통해 계산된다."
   ]
  },
  {
   "cell_type": "markdown",
   "metadata": {},
   "source": [
    "중심-중심 거리는 2개 sheave 직경 합의 70% ~ 200% 사이여야 한다. 벨트 길이(**pitch length** 또는 **effective length** 라고 함)는 open 플랫 벨트와 동일한 방법으로 계산된다. 알고 있는 벨트의 길이의 경우 벨트 내경에 작은 수정계수를 더하여 계산될 수도 있다. 벨트 형태에 따라 이 계수들은 A는 1.3 in, B는 1.8 in, C는 2.9 in, D는 3.3 in, E는 4.5 in이다."
   ]
  },
  {
   "cell_type": "markdown",
   "metadata": {},
   "source": [
    "## 30. TIMING BELTS"
   ]
  },
  {
   "cell_type": "markdown",
   "metadata": {},
   "source": [
    "**타이밍 벨트** (synchronous belt, serpentine belt, power transmissino belt, timing chain으로도 불림)의 기능은 연결된 샤프트 사이의 상(synchronization, 각도 관계, 정렬 등)을 유지하고 동력을 전달하는 것이다. (그림 54.16 참고) 현대 자동차 엔진에서 보통 크랭크 샤프트 속도의 절반으로 overhaed 캠 샤프트를 구동하기 위해 타이밍 벨트가 사용된다. 벨트는 또한 물 펌프를 구동하거나 다른 악세사리를 구동하기 위해 사용되며, 정확한 타이밍이 요구되지 않는 경우에는 flat back surface를 사용해도 된다. 타이밍 벨트는 또한 자동차 구동 또는 선형 위치 제어에 사용된다."
   ]
  },
  {
   "cell_type": "markdown",
   "metadata": {},
   "source": [
    "**풀리** (sprockets, gear로도 불림)는 알루미늄, 강, 나일론, acetal 또는 혼합물로 제작된다. **Idler pulley**는 벨트를 적절한 방향으로 안내하기 위해 사용되며, tensionor pulley는 벨트 인장력을 유지하는데 사용된다."
   ]
  },
  {
   "cell_type": "markdown",
   "metadata": {},
   "source": [
    "<img src='Figure 54.16.PNG'>"
   ]
  },
  {
   "cell_type": "markdown",
   "metadata": {},
   "source": [
    "타이밍 벨트는 높은 인장 강도를 갖는 섬유유리, Twaron 또는 Kevlar로 강화된 (폴리)우레탄, 네오피렌, 고무로 제작된다. 네오피렌은 가장 우수한 용해제 저항성을 가지며 이로 인해 자동차에 널리 사용된다. 표 54.7은 이러한 재료들에 대한 물성을 보여준다."
   ]
  },
  {
   "cell_type": "markdown",
   "metadata": {},
   "source": [
    "타이밍 벨트는 대부분 이(cogs)를 갖는다. 이의 모양 및 피치(간격)은 **profile**을 구성한다. trapzoidal, curvilinear, European 이빨 프로파일이 사용된다. 프로파일 명칭으로는 MXL, XL, L, HTD3, HTD5, HTD8, T2.5, T5, T10, AT5, AT10이 있다. 예를들어, 일반적인 프로파일 및 피치로는 XL (1/5 in), L (3/8 in), HTD (3 mm, 5mm, 8mm)가 있다. 매우 작은 피치를 갖는 **precision belt**도 사용 가능하다. 표 54.8은 일반적인 프로파일들을 보여준다."
   ]
  },
  {
   "cell_type": "markdown",
   "metadata": {},
   "source": [
    "벨트가 풀리와 접촉할 때 인장(강화) 코드 축은 피치원과 일치한다. 피치원지름 $d$ (풀리 직경보다 큼)는 식 54.87에 주어져 있다. 벨트 이빨 바닥은 풀리의 외경과 일치한다. 인장 코드 축과 벨트 바닥 사이의 거리 U는 외부 풀리 직경을 결정한다. 직경이 작은 풀리와 특정 프로파일(HTD8 등)의 경우 식 54.88을 사용해 약간의 수정 이 필요하다. 이러한 수정 내용은 벨트 카타로그에 제공된다."
   ]
  },
  {
   "cell_type": "markdown",
   "metadata": {},
   "source": [
    "$$d=\\frac{PN}{\\pi}\\tag{54.87}$$"
   ]
  },
  {
   "cell_type": "markdown",
   "metadata": {},
   "source": [
    "$$pulley\\;outer\\;diameter=d-2U\\tag{54.88}$$"
   ]
  },
  {
   "cell_type": "markdown",
   "metadata": {},
   "source": [
    "벨트의 마모는 연속된 사이클에서 벨트 이빨이 풀리의 다른 부분과 접촉하도록 하면 최소화 할 수 있다. 이는 구동 및 구동되는 풀리의 이빨 수를 **coprime** (즉, 수가 공배수가 없도록 하는 것)으로 만들면 가능하다."
   ]
  },
  {
   "cell_type": "markdown",
   "metadata": {},
   "source": [
    "타이밍 벨트는 전체 검사가 어렵고 갑자기 파손되기 때문에 사전 정비의 일환으로 특정 주기 또는 구동 거리(50,000 마일 ~ 100,000 마일) 후 교체되어야 한다."
   ]
  },
  {
   "cell_type": "markdown",
   "metadata": {},
   "source": [
    "타이밍 벨트가 망가져도 피스톤과 벨스 바이의 충돌이 없도록 설계된 엔진을 **noninterference engine**이라고 한다. 크랙이 생긴 벨브를 피스톤 공간 내에서 열려있게 하는 엔진을 **interference engine**이라고 한다."
   ]
  },
  {
   "cell_type": "markdown",
   "metadata": {},
   "source": [
    "## 31. BRAKES AND BRAKE MATERIALS"
   ]
  },
  {
   "cell_type": "markdown",
   "metadata": {},
   "source": [
    "브레이크는 운동에너지를 열에너지로 바꾸어 운동을 멈추게하는 장치이다. 브레이크는 self-energyzing, self-locking 또는 둘다 아닌 형태로 설계할 수 있다. 보통, 브레이크는 self-energizing이어야 하지만 self-locking이면 안된다. **self-energizing** 브레이크의 경우 브레이크 드래그 하중은 브레이크 하중을 증가시킨다. 기본적으로, 회전면은 브레이크 끝단을이 움직이는 표면에 끌리게 하고, 브레이크 동작을 이루기 위해 필요한 노력을 줄인다. self-energizing 브레이크는 특정 하중 F가 필요하다. **self-locking** 브레이크는 외부 하중이 불필요하다. $F \\leq 0$일 때도 마찰력은 매우 커서 브레이크 동작이 발생한다. 즉, 작용 하중이 더이상 필요하지 않다. self-locking 브레이크는 대부분 바람직 하지 않으며 이는 브레이크를 풀기 위해 음의 하중이 필요하기 때문이다. 브레이크는 보통 한쪽 회전 방향에 대하여 self-energizing 그리고/또는 self-locking이다."
   ]
  },
  {
   "cell_type": "markdown",
   "metadata": {},
   "source": [
    "**온석면(chrysotile)** 석면(asbestos)을 기반으로 하는 마찰 브레이크 제품들 (패트와 라이닝)은 1900년대 초 재료가 도임된 이후로 계속 정제되어오고 있다. 석면에 대한 환경 및 건강에 대한 우려로 인해 4개 등급의 비석면 제품들이 사용된다: NAO(non-asbestos organic), resin-bonded metallic(semimetallic), sintered metallic, carbon-carbon. semimetallic과 NAO 제품들은 일반적인 자동차 브레이크 라이닝에 유용하다. semimetallic 라이닝들은 대부분의 드럼 브레이크에는 적용 불가능하다. NAO 라이닝은 주로 인조 아라미드 섬유(synthetic aramid fibers) (Kevlar 및 Twaron과 같은)들을 포함하고 있으며 인조 아라미드 섬유는 강도가 높고 내열성이 높다."
   ]
  },
  {
   "cell_type": "markdown",
   "metadata": {},
   "source": [
    "## 32. ENERGY DISSIPATION IN BRAKES AND CLUTCHES"
   ]
  },
  {
   "cell_type": "markdown",
   "metadata": {},
   "source": [
    "브레이크와 클러치에서의 에너지 소산은 브레이크 질량의 운동(회전 또는 병진) 에너지 변화로 부터 계산할 수 있다. 예를 들어, 회전 질량 관성 모멘트 I를 갖는 회전하는 질랴의 회전 운동 에너지는 다음과 같다."
   ]
  },
  {
   "cell_type": "markdown",
   "metadata": {},
   "source": [
    "$$\\Delta E_k = \\frac{I (\\omega_1^2 - \\omega_2^2)}{2}\\;\\;[SI]\\tag{54.89(a)}$$"
   ]
  },
  {
   "cell_type": "markdown",
   "metadata": {},
   "source": [
    "$$\\Delta E_k = \\frac{I(\\omega_1^2 - \\omega_2^2)}{2 g_c}\\;\\;[U.S.]\\tag{54.89(b)}$$"
   ]
  },
  {
   "cell_type": "markdown",
   "metadata": {},
   "source": [
    "<img src='Table 54.7.PNG'>"
   ]
  },
  {
   "cell_type": "markdown",
   "metadata": {},
   "source": [
    "<img src='Table 54.8.PNG'>"
   ]
  },
  {
   "cell_type": "markdown",
   "metadata": {},
   "source": [
    "이론적인 최대 온도 증가량은 모든 운동에너지가 브레이크 또는 클러지 재료에 의해 흡수될 때 발생한다. 이는 매우 극단적인 가정이다. 왜냐하면 일부에너지는 제거될 것이며 특히 브레이크 장치가 젖은상태로 구동될 때는 더욱 그러하다. 강 브레이크 및 클러치 부품의 $c_p$는 약 0.12 Btu/lbm-F (0.5 kJ/kg K)이다."
   ]
  },
  {
   "cell_type": "markdown",
   "metadata": {},
   "source": [
    "$$\\Delta T=\\frac{\\Delta E_k}{m_{brake\\;material}c_p}\\tag{54.90}$$"
   ]
  },
  {
   "cell_type": "markdown",
   "metadata": {},
   "source": [
    "최대 접촉 압력, 최대 온도, 단위 면적당 최대 에너지 소산율 등 다양한 한계치들이 클러치와 브레이크에 적용된다. 표 54.9는 사용과 관련된 일반적인 한계치들을 보여준다. 표 54.10은 브레이크 재료와 관련된 한계치들을 보여준다."
   ]
  },
  {
   "cell_type": "markdown",
   "metadata": {},
   "source": [
    "에너지 소산율(즉 동력)은 식 54.91로 계산할 수 있다."
   ]
  },
  {
   "cell_type": "markdown",
   "metadata": {},
   "source": [
    "$$P_{braking}=\\left(\\frac{F_f}{A}\\right)v=\\left(\\frac{fN}{A}\\right)v=fpv\\tag{54.91}$$"
   ]
  },
  {
   "cell_type": "markdown",
   "metadata": {},
   "source": [
    "<img src='Table 54.9.PNG'>"
   ]
  },
  {
   "cell_type": "markdown",
   "metadata": {},
   "source": [
    "브레이크가 동작하는 동안 회전하는(움직이는) 질량이 멈추게 하기 위해 필요한 회전수(또는 이동 거리)는 초기 속도와 약간의 관련이 있다. 균일한 감속인 경우, 평균 속도는 초기 속도의 절반이다. 그러면, 완전히 멈추기 위한 프레이크 동작 시간은 기존 운동에너지와 평균 마찰 에너지 소산율을 통해 계산할 수 있다."
   ]
  },
  {
   "cell_type": "markdown",
   "metadata": {},
   "source": [
    "$$t_{braking}=\\frac{E_{k,original}}{F_f v_{ave}}\\tag{54.92}$$"
   ]
  },
  {
   "cell_type": "markdown",
   "metadata": {},
   "source": [
    "## 33. BLOCK BRAKES"
   ]
  },
  {
   "cell_type": "markdown",
   "metadata": {},
   "source": [
    "**block brake** (예, external shoe brake)는 그림 54.17에 나타나 있다. block **접촉각** $\\phi$가 60도보다 작으면 압력은 대략 균일하게 분포해 있다. 미끌림 마찰계수 $f$가 사용된다. shoe에 가해지는 마찰 지연 하중은 직교하중으로 계산 가능하다."
   ]
  },
  {
   "cell_type": "markdown",
   "metadata": {},
   "source": [
    "$$F_f = fN\\tag{54.93}$$"
   ]
  },
  {
   "cell_type": "markdown",
   "metadata": {},
   "source": [
    "피봇 지점(회전하는 물체의 중심을 잡아주기 위한 지지머)의 위치와 상관없이, 직교하중은 브레이크의 토크 용량 T로부터 계산 가능하다."
   ]
  },
  {
   "cell_type": "markdown",
   "metadata": {},
   "source": [
    "$$N=\\frac{F_f}{f}=\\frac{T}{rf}\\tag{54.94}$$"
   ]
  },
  {
   "cell_type": "markdown",
   "metadata": {},
   "source": [
    "<img src='Table 54.10.PNG'>"
   ]
  },
  {
   "cell_type": "markdown",
   "metadata": {},
   "source": [
    "<img src='Figure 54.17.PNG'>"
   ]
  },
  {
   "cell_type": "markdown",
   "metadata": {},
   "source": [
    "접촉각이 60도보다 크면, 등가 마찰계수 $f'$이 사용되어야 한다. 식 54.95에서 $\\phi$는 라디안 단위여야 한다."
   ]
  },
  {
   "cell_type": "markdown",
   "metadata": {},
   "source": [
    "$$f'=\\frac{f(4sin(\\frac{\\phi}{2}))}{\\phi+sin\\phi}\\tag{54.95}$$"
   ]
  },
  {
   "cell_type": "markdown",
   "metadata": {},
   "source": [
    "브레이크 arm 끝단에서의 요구되는 구동력 $F$는 피봇 지점을 기준으로 모멘트 식을 세우면 구할 수 있다. 피봇 지점에 따라 모멘트 결과가 달라지며 이는 직교하중 $N$, 마찰력 $F_f$, 구동력 $F$와 관련있다."
   ]
  },
  {
   "cell_type": "markdown",
   "metadata": {},
   "source": [
    "바퀴가 시계방향으로 회전하면, 피봇점 C는 self-energizing 브레이크가 되게한다. 이와 유사하게 반시계방향 회전의 경우 피봇점 A는 self energizing 브레이크가 되게한다. 만약 $a=fy$이면, 브레이크는 완전히 self-energizing이고 구동력은 0이 된다. 만약 $a<fy$이면, 브레이크는 self-locking이 된다."
   ]
  },
  {
   "cell_type": "markdown",
   "metadata": {},
   "source": [
    "## 34. BAND BRAKES"
   ]
  },
  {
   "cell_type": "markdown",
   "metadata": {},
   "source": [
    "그림 54.18에 나타난 band brake는 벨트 마찰력 식으로 평가한다. **braking torque (braking moment)** 는 식 54.96과 같으며, $F_1$은 조여지는 쪽의 인장력이다. 각도 $\\phi$는 라디안 단위이다."
   ]
  },
  {
   "cell_type": "markdown",
   "metadata": {},
   "source": [
    "$$T=r(F_1 - F_2)\\tag{54.96}$$"
   ]
  },
  {
   "cell_type": "markdown",
   "metadata": {},
   "source": [
    "<img src='Figure 54.18.PNG'>"
   ]
  },
  {
   "cell_type": "markdown",
   "metadata": {},
   "source": [
    "$$F_1-F_2=F_2(e^{f\\phi}-1)\\tag{54.97}$$"
   ]
  },
  {
   "cell_type": "markdown",
   "metadata": {},
   "source": [
    "$$\\frac{F_1}{F_2}=e^{f\\phi}\\tag{54.98}$$"
   ]
  },
  {
   "cell_type": "markdown",
   "metadata": {},
   "source": [
    "부여하중 F는 피봇 점을 기준으로 모멘트를 계산하면 구할 수 있다."
   ]
  },
  {
   "cell_type": "markdown",
   "metadata": {},
   "source": [
    "$$F=\\frac{aF_2-bF_1}{c}=\\left(\\frac{T}{cr}\\right)\\left(\\frac{a-b e^{f\\phi}}{e^{f\\phi}-1}\\right)\\tag{54.99}$$"
   ]
  },
  {
   "cell_type": "markdown",
   "metadata": {},
   "source": [
    "$be^{f\\phi}>a$이면, 부여하중 F는 음수이고 브레이크는 self-locking이다."
   ]
  },
  {
   "cell_type": "markdown",
   "metadata": {},
   "source": [
    "접촉 압력은 브레이크의 toe(toe는 밴드의 고전된 끝단이 드럼에 처음 첩촉하는 위치이다)에서 최대이다."
   ]
  },
  {
   "cell_type": "markdown",
   "metadata": {},
   "source": [
    "$$p=\\frac{F_1}{A}=\\frac{F_1}{r\\omega}\\tag{54.100}$$"
   ]
  },
  {
   "cell_type": "markdown",
   "metadata": {},
   "source": [
    "요구되는 접촉 면 폭 $w$는 밴드 재료의 허용 접촉 압력으로부터 계산한다."
   ]
  },
  {
   "cell_type": "markdown",
   "metadata": {},
   "source": [
    "## 35. DISK AND PLATE CLUTCHES"
   ]
  },
  {
   "cell_type": "markdown",
   "metadata": {},
   "source": [
    "클러치는 초기에 멈춰있던 샤프크와 회전하는 샤프트를 연결하는 장치이다. (그림 54.19 참고) 클러치를 통한 토크 및 동력 전달은 식 54.33과 관련된다."
   ]
  },
  {
   "cell_type": "markdown",
   "metadata": {},
   "source": [
    "<img src='Figure 54.19.PNG'>"
   ]
  },
  {
   "cell_type": "markdown",
   "metadata": {},
   "source": [
    "클러치의 토크용량은 마찰면의 수에 비례한다. 2개의 판 사이에 단이 2면 자동차 클러치 디스크가 있는 경우 2개의 마찰면이 있다. 최대 전달 토크는 식 54.33으로 계산한 면적 당 토크 값의 2배가 될 것이다."
   ]
  },
  {
   "cell_type": "markdown",
   "metadata": {},
   "source": [
    "클러치 집합체가 강체로 고려되면, 외면은 내면보다 마찰 일이 더 크기 때문에 초기 마모는 외면에서 발생한다. 일정 주기(break-in) 이후에는 압력 분포가 변하고 마모는 균일해진다. **균일 마모**는 모든 일이 평균 마찰 반경에서 일어난다고 가정하는 것과 동일한 개념이다. 균일 마모는 허용 토크 및 전달 마력 관점에서 보수적인 가정이다."
   ]
  },
  {
   "cell_type": "markdown",
   "metadata": {},
   "source": [
    "균일 마모이면, 최대 압력 $p_max$는 내부 반경 지점에서 발생한다. 특정 반경 $r$에서의 압력은 다음과 같다."
   ]
  },
  {
   "cell_type": "markdown",
   "metadata": {},
   "source": [
    "$$P_r = \\frac{P_{max}r_i}{r}\\;\\;[uniform\\;wear]\\tag{54.101}$$"
   ]
  },
  {
   "cell_type": "markdown",
   "metadata": {},
   "source": [
    "축방향 적용 하중은 다음과 같다."
   ]
  },
  {
   "cell_type": "markdown",
   "metadata": {},
   "source": [
    "$$F=2\\pi p_{max} r_i (r_o - r_i)\\;\\;[uniform\\;wear]\\tag{54.102}$$"
   ]
  },
  {
   "cell_type": "markdown",
   "metadata": {},
   "source": [
    "접촉면 당 토크는 평균 반경 지점에서 전달된다."
   ]
  },
  {
   "cell_type": "markdown",
   "metadata": {},
   "source": [
    "$$T=\\frac{1}{2}f F(r_o+r_i)$$"
   ]
  },
  {
   "cell_type": "markdown",
   "metadata": {},
   "source": [
    "$$\\pi f p_{max} r_i (r_o^2 - r_i^2)\\;\\;[uniform\\;wear]\\tag{54.103}$$"
   ]
  },
  {
   "cell_type": "markdown",
   "metadata": {},
   "source": [
    "만약 클러치 집합체가 semiflexible이면, **균일 압력** 분포를 가정할 수 있다. 축방향 부여 하중 F는 직교 하중이다. 압력이 균일하게 분포하기 때문에, 최대 압력 $p_{max}$는 클러치의 모든 위치에서 발생한다."
   ]
  },
  {
   "cell_type": "markdown",
   "metadata": {},
   "source": [
    "$$F=N=\\frac{F_f}{f}$$"
   ]
  },
  {
   "cell_type": "markdown",
   "metadata": {},
   "source": [
    "$$=\\pi p_{max} (r_o^2 -r_i^2)\\;\\;[uniform\\;pressure]\\tag{54.104}$$"
   ]
  },
  {
   "cell_type": "markdown",
   "metadata": {},
   "source": [
    "마찰 반경 $r_f$는 마찰을 위한 평균 반경이다. 이는 단위 접촉면 당 토크 제한치를 결정할 때 사용할 수 있다."
   ]
  },
  {
   "cell_type": "markdown",
   "metadata": {},
   "source": [
    "$$T=F_f r_f$$"
   ]
  },
  {
   "cell_type": "markdown",
   "metadata": {},
   "source": [
    "$$=\\frac{2}{3}\\pi f p_{max} (r_o^3 r_i^3)\\;\\;[uniform\\;pressure]\\tag{54.105}$$"
   ]
  },
  {
   "cell_type": "markdown",
   "metadata": {},
   "source": [
    "$$r_f=\\frac{2}{3}\\left(\\frac{r_o^3-r_i^3}{r_o^2-r_i^2}\\right)\\;\\;[uniform\\;pressure]\\tag{54.106}$$"
   ]
  },
  {
   "cell_type": "markdown",
   "metadata": {},
   "source": [
    "## 36. CONE CLUTCHES"
   ]
  },
  {
   "cell_type": "markdown",
   "metadata": {},
   "source": [
    "그림 54.20은 **cone 각도** $\\alpha$를 갖는 **cone clutch**를 보여준다. 콘 클러치는 디스크 클러치와 마찬가지로 균일 마모 또는 균일 압력 조건에 대해 평가할 수 있다. 균일 마모의 경우, 컵 내부의 콘을 유지하고, 접촉면에 수직인 하중 N을 생성하기 위한 축방향 하중 F는 다음과 같다."
   ]
  },
  {
   "cell_type": "markdown",
   "metadata": {},
   "source": [
    "$$F=N sin\\alpha = \\left(\\frac{\\pi p_{max} d}{2}\\right)(D-d)\\tag{54.107}$$"
   ]
  },
  {
   "cell_type": "markdown",
   "metadata": {},
   "source": [
    "<img src='Figure 54.20.PNG'>"
   ]
  },
  {
   "cell_type": "markdown",
   "metadata": {},
   "source": [
    "마찰력은 다음과 같다."
   ]
  },
  {
   "cell_type": "markdown",
   "metadata": {},
   "source": [
    "$$F_f = fN=\\frac{fF}{sin\\alpha}\\tag{54.108}$$"
   ]
  },
  {
   "cell_type": "markdown",
   "metadata": {},
   "source": [
    "마찰 토크는 다음과 같다."
   ]
  },
  {
   "cell_type": "markdown",
   "metadata": {},
   "source": [
    "$$T_f=\\frac{F_f d_m}{2}=\\frac{f F_{axial}d_m}{2 sin\\alpha}$$"
   ]
  },
  {
   "cell_type": "markdown",
   "metadata": {},
   "source": [
    "$$=\\left(\\frac{\\pi f p_{max} d}{8 sin\\alpha}\\right) (D^2 - d^2)$$"
   ]
  },
  {
   "cell_type": "markdown",
   "metadata": {},
   "source": [
    "$$=\\left(\\frac{Ff}{4sin\\alpha}\\right)(D+d)\\tag{54.109}$$"
   ]
  },
  {
   "cell_type": "markdown",
   "metadata": {},
   "source": [
    "균일 압력의 경우,"
   ]
  },
  {
   "cell_type": "markdown",
   "metadata": {},
   "source": [
    "$$F=\\left(\\frac{\\pi p}{4}\\right)(D^2-d^2)\\tag{54.110}$$"
   ]
  },
  {
   "cell_type": "markdown",
   "metadata": {},
   "source": [
    "$$T=\\left(\\frac{\\pi f p }{12 sin \\alpha}\\right) (D^3 - d^3)$$"
   ]
  },
  {
   "cell_type": "markdown",
   "metadata": {},
   "source": [
    "$$=\\left(\\frac{Ff}{3 sin\\alpha}\\right)\\left(\\frac{D^3 - d^3}{D^2 - d^2}\\right)\\tag{54.111}$$"
   ]
  },
  {
   "cell_type": "markdown",
   "metadata": {},
   "source": [
    "## 37. BUSHINGS"
   ]
  },
  {
   "cell_type": "markdown",
   "metadata": {},
   "source": [
    "**부싱** (기계적 부싱, 마찰 베어링 또는 평 베어링)은 제가능한 또는 영구 실린더 형 슬리브 형상의 라이닝 이다. 부싱은 구멍에 삽입되어 회전하는 샤프트와 모 재료 간의 마찰력을 감소시키거나, 샤브트의 움직임을 제한한다. 부싱은 윤활이 있어도 되고 없어도 된다. 단, **저널 베어링**은 일반적으로 윤활이 있는 경우를 의미한다."
   ]
  },
  {
   "cell_type": "markdown",
   "metadata": {},
   "source": [
    "하중이 작고, 저속인 경우 윤활이 없는 부싱을 사용 가능하다. 저온 조건의 경우, 차가운 오일을 충분히 얇게 유지하여 회전하도록 하는 것이 어렵기 때문에 윤활이 없도록 하는 것이 매력적다. 부싱은 플라스틱(나일론), brass, 탄소 그라파이트, oil-impregnated powdered 금속으로 제작될 수 있다. 부싱은 보통 횡(lateral)방향 하중과 열로 제한한다. 따라서 부싱 설계 및 선택 절차는 접촉 압력 (투영 베어링 단면을 기반으로), 최대 접선 속도, 압력과 속도의 곱을 해당 재료의 상한치와 비교하는 것이다."
   ]
  },
  {
   "cell_type": "markdown",
   "metadata": {},
   "source": [
    "## 38. BALL, ROLLER, AND NEEDLE BEARINGS"
   ]
  },
  {
   "cell_type": "markdown",
   "metadata": {},
   "source": [
    "볼, 롤러, 니들 베어링(즉, 마찰 방지 베어링) 그리고 그 변형 형태들은 **beraing race** 내에서 구속되는 구름 요소 베어링(볼 또는 실린더)를 사용하여 마찰력을 줄인다. 레이스는 부여 하중을 지지하고 견딘다. 보통 한 레이스는 고정되어 있고 다른 레이스는 회전 요소(샤프트)와 함께 움직인다. 볼 또는 롤러는 레이스가 상대적으로 회전함에 따라 회전한다.볼 베어링은 반경방향 및 축방향(thrust) 하중을 지지할 수 있다. 하지만 볼베어링과 레이스 사이의 압축 접촉 압력 용량으로 지지할 수 있는 하중의 크기는 제한된다. 따라서 볼베어링은 하중이 비교적 작은 곳에 사용된다. 용량은 볼 개수에 대한 함수이다. 볼은 **cage (separator 또는 retainer)** 에 의해 위치가 구속되거나 느슨해질 수 있으며, 이러한 베어링을 **caged beraing** 또는 **Conrad bearing**이라고 한다. Caged 베어링은 보통 용량이 작다. 왜냐하면 베어링 수가 적어지기 때문이다. 롤링 요소 베어링의 예는 그림 54.21에 나타나 있다."
   ]
  },
  {
   "cell_type": "markdown",
   "metadata": {},
   "source": [
    "<img src='Figure 54.21.PNG'>"
   ]
  },
  {
   "cell_type": "markdown",
   "metadata": {},
   "source": [
    "접촉점들은 선으로 표현되기 때문에(반면 볼 베어링은 작은 점으로 나타남), **롤러 베어링**은 회전 실린더를 사용하며 더 높은 반경방향 하중 전달 능력을 갖지만 레이스들 사이에 더 좋은 정렬이 요구된다. 롤러 베어링은 보통 축방향(thrust) 하중을 지지하지 못한다. **니들 베어링**은 작은 지경의 실린더(니들 또는 핀)을 사용하고 좁은 공간에 사용될 수 있다. 롤러들 사이에 공간이 없기 때문에 cage는 필요 없다. 니들 베어링은 공간이 덜 필요하지만, 높은 마찰력을 가지며, 볼베어링 및 표준 롤러 베어링보다 더 느리게 구동되어야 한다."
   ]
  },
  {
   "cell_type": "markdown",
   "metadata": {},
   "source": [
    "볼 베어링 및 롤러 쓰러스트 베어링은 주로 축방향 하중에 사용된다. 반경방향 및 축방향 하중이 모두 있는 경우, 테이퍼된 롤러 베어링이 사용되며, 종종 양쪽 방향 축방향 하중을 지지하기 위해 반대면을 마주보도록 1쌍을 사용하기도 한다."
   ]
  },
  {
   "cell_type": "markdown",
   "metadata": {},
   "source": [
    "**self-aligning bearing** (Wingquist bearing 또는 SKF 베어링)은 하우징과 샤프트 사이에 각도 정렬이 안맞거나 변형이 있는 경우(그림 54.22 참고) 유용하다. 이러한 정렬이 안맞는 경우는 길거나 유용한 샤프트에서 발생할 수 있다."
   ]
  },
  {
   "cell_type": "markdown",
   "metadata": {},
   "source": [
    "<img src='Figure 54.22.PNG'>"
   ]
  },
  {
   "cell_type": "markdown",
   "metadata": {},
   "source": [
    "이러한 베어링은 보통 볼들이 2개의 caged 열을 가져 외부 링 내의 오목한 구형 경로를 따라 볼이 구동된다. self-aligned bearing은 낮은 축방향 하중 용량을 갖는다."
   ]
  },
  {
   "cell_type": "markdown",
   "metadata": {},
   "source": [
    "**쓰러스트 베어링**은 프로펠러 축, 수직 자중이 있는 경우와 같이 큰 축방향 하중에 사용된다. 쓰러스트 베어링은 단순히 평평한 마찰 패드 일수도 있고, 동수력 형태 또는 볼 및 롤러 베어링일 수도 있다."
   ]
  },
  {
   "cell_type": "markdown",
   "metadata": {},
   "source": [
    "## 39. ROLLER BEARING CAPACITY"
   ]
  },
  {
   "cell_type": "markdown",
   "metadata": {},
   "source": [
    "베어링은 동적 하중 용량과 정적 하중용량을 갖는다. 베어링은 등가 베어링 용량 C(예를 들면 카타로그 상의 용량)가 부여하중 또는 설계하중 P보다 크도록 선택(예를 들면 제작자 카타로그로 부터)된다. 정적 용량은 회전 속도가 느리거나 충격에 노출되는 경우 적용 가능하다. 동적 용량은 회전 속도가 부드럽고 비교적 일정한 경우 사용된다."
   ]
  },
  {
   "cell_type": "markdown",
   "metadata": {},
   "source": [
    "**basic static load rating** $C_o$는 제작자가 결정한다. 마찬가지로 회전 베어링의 경우 **basic dynamic load rating** $C_r$도 제작자가 결정한다. 베어링이 반경방향 하중 $F_r$과 축방향 하중 $F_a$에 모두 노출될 경우 **등가 반경방향 하중(equivalent radial loading)** $P_{r,eq}$를 결정하여 베어링을 선택하고 베어링 수명을 계산해야 한다. (**등가** 라는 용어의 의미는 축방향 및 반경방향 하중이 단일 반경방향 하중으로 조합되었음을 의미함.) 1행 볼 베어링의 경우 등가 반경방향 하중은 다음과 같이 계산된다."
   ]
  },
  {
   "cell_type": "markdown",
   "metadata": {},
   "source": [
    "$$P_{r,eq}=XVF_r + Y F_a\\tag{54.112}$$"
   ]
  },
  {
   "cell_type": "markdown",
   "metadata": {},
   "source": [
    "V, X, Y는 제작자가 제공하면 가장 좋지만 허용된 방법으로 결정할 수도 있다. 외부 링(raceway)이 정지해 있고 내부 링이 회전하면 $V=1$이고, 내부 링이 정지해 있고 외부링이 회전하면 $V=1.2$이다. X와 Y는 축방향 하중과 반경방향 하중의 상대적 비율에 따라 결정된다. 식 54.113에 정의된 대로 축방향 하중이 낮은 경우 $X=1$, $Y=0$이다. $C_o$는 제작자 카타로그에 제공되는 basic static load rating이다."
   ]
  },
  {
   "cell_type": "markdown",
   "metadata": {},
   "source": [
    "$$\\frac{F_a}{V F_r} \\leq e\\;\\;[low\\;axial\\;loading]\\tag{54.113}$$"
   ]
  },
  {
   "cell_type": "markdown",
   "metadata": {},
   "source": [
    "\n",
    "$$e=0.513\\left(\\frac{F_a}{C_o}\\right)^{0.236}\\tag{54.114}$$"
   ]
  },
  {
   "cell_type": "markdown",
   "metadata": {},
   "source": [
    "식 54.115에 정의된대로 축방향 하중이 높은 경우 $X=0.56$이고 $Y$는 식 54.116으로 계산한다."
   ]
  },
  {
   "cell_type": "markdown",
   "metadata": {},
   "source": [
    "$$\\frac{F_a}{V F_r}> e\\;\\;[high\\;axial\\;loading]\\tag{54.115}$$"
   ]
  },
  {
   "cell_type": "markdown",
   "metadata": {},
   "source": [
    "$$Y = 0.840\\left(\\frac{F_a}{C_o}\\right)^{-0.247}\\tag{54.116}$$"
   ]
  },
  {
   "cell_type": "markdown",
   "metadata": {},
   "source": [
    "## 40. ROLLING ELEMENT BEARING LIFE"
   ]
  },
  {
   "cell_type": "markdown",
   "metadata": {},
   "source": [
    "베어링의 다음과 같은 일반적인 이유로 윤활처리한다. (a) 접촉 표면을 떨어트려 마찰력 감소 (b) 열 소산 (c) 부식 방지 (d) 먼지 및 오염 제거. 베어링 수명은 적절한 윤활에 영향을 받는다. **베어링 수명** (베어링 피로 수명)은 표준 운전 조건 하에서 베어링이 얼마나 오래 지속될 수 있는지를 의미한다. 베어링 수명은 주로 하중에 영향을 받지만, 관리, 세정, 윤활도 중요한 외부 요인이 된다. 구름 요소들의 90%가 기능을 유지하면 베어링은 운전 가능하다고 가정되고, 10%의 구름 요소가 고장났음을 예측하는 변수를 $L_{10}$으로 표기하고 \"L-ten\"이라고 부른다. 흥미롭게도, 개별 구름 요소의 고장전 평균시간 (MTBF, mean time before failure)은 전체 베어링 수명의 약 5배 정도 이다.따라서 MTBF에서 50%의 구름 요소들이 고장났다고 예측할 수 있다. $L_{10}$은 **basic life rating, basic rating life, rating life**라고 부른다."
   ]
  },
  {
   "cell_type": "markdown",
   "metadata": {},
   "source": [
    "**basic dynamic load rating** $C_r$은 **dynamic basic load rating**이라고도 하며 lbf 또는 kN 단위로 측정된다. **equivalent dynamic beraing load** $P_r$은 **equivalent design radial load**라고도 하며 lbf 또는 kN 단위로 측정된다. 등가 동적 베어링 하중은 가상의 하중이며, 크기와 방향이 일정하고, 베어링이 노출되는 실제하중과 베어링 수명에 동등한 영향을 미친다."
   ]
  },
  {
   "cell_type": "markdown",
   "metadata": {},
   "source": [
    "기본 수명 등급은 백만회전(millions of revolutions) 단위로 측정되며, 기본 동적 하중 등급 $C_r$과 등가 동적 반경방향 하중 $P_r$에 의해 결정된다. 수명은 다음과 같다."
   ]
  },
  {
   "cell_type": "markdown",
   "metadata": {},
   "source": [
    "$$L_{10}=\\left(\\frac{C_r}{P_r}\\right)^3\\;\\;[millions\\;of\\;revolutions;\\;single-row\\;ball\\;bearings\\;]\\tag{54.117}$$"
   ]
  },
  {
   "cell_type": "markdown",
   "metadata": {},
   "source": [
    "$$L_{10}=\\left(\\frac{C_r}{P_r}\\right)^{10/3}\\;\\;[millions\\;of\\;revolutions;\\;straight\\;roller\\;bearings\\;]\\tag{54.118}$$"
   ]
  },
  {
   "cell_type": "markdown",
   "metadata": {},
   "source": [
    "기본 수명 등급은 시간 간위로 측정되며 회전 속도 $n$에 의해 결정된다."
   ]
  },
  {
   "cell_type": "markdown",
   "metadata": {},
   "source": [
    "$$L_{10}=\\left(\\frac{10^6}{n_{rpm}\\left(60\\;\\frac{min}{hr}\\right)}\\right)\\left(\\frac{C_r}{P_r}\\right)^3\\;\\;[hours;\\;single-row\\;ball\\;bearings]\\tag{54.119}$$"
   ]
  },
  {
   "cell_type": "markdown",
   "metadata": {},
   "source": [
    "$$L_{10}=\\left(\\frac{10^6}{n_{rpm}\\left(60\\;\\frac{min}{hr}\\right)}\\right)\\left(\\frac{C_r}{P_r}\\right)\\;\\;[hours;\\;straight\\;roller\\;bearings]\\tag{54.120}$$"
   ]
  },
  {
   "cell_type": "markdown",
   "metadata": {},
   "source": [
    "식 54.121은 더 일반적인 베어링 수명 식을 보여준다. 식 54.121에서 $a_1$은 신뢰성에 대한 수명 조절 계수이고, $a_2$는 볼 또는 롤러 재료에 대한 수명 조절 계수이고, $a_3$은 운전 조건에 대한 수명 조절 계수이고, $f_B$는 인접하여 안착된 베어링 요소들의 수를 고려한 동적 하중 등급 조절 계수이다. 이 계수들 대부분은 제작자가 제공한다."
   ]
  },
  {
   "cell_type": "markdown",
   "metadata": {},
   "source": [
    "$$L_n=a_1 a_2 a_3 \\left(\\frac{10^6}{n_{rpm}\\left(60\\;\\frac{min}{hr}\\right)}\\right)\\left(\\frac{f_B C_r}{P_r}\\right)^p\\;\\;[hours]\\tag{54.121}$$"
   ]
  },
  {
   "cell_type": "markdown",
   "metadata": {},
   "source": [
    "롤링 요소 베어링에서의 마찰은 회전 속도와 직접적으로 연관이 있는 열을 발생시킨다. 식 54.112는 볼 베어링 및 직선 롤러 베어링의 허용 속도를 결정하는데 사용될 수 있는 일반적인 규칙이다. $d$는 보어(내부) 직경이고, $D$는 외경이다. (그림 54.23 참고)"
   ]
  },
  {
   "cell_type": "markdown",
   "metadata": {},
   "source": [
    "$$n_{rpm}<\\frac{10^6}{d_{mm}+D_{mm}}\\tag{54.122}$$"
   ]
  },
  {
   "cell_type": "markdown",
   "metadata": {},
   "source": [
    "<img src='Figure 54.23.PNG'>"
   ]
  },
  {
   "cell_type": "markdown",
   "metadata": {},
   "source": [
    "## 41. LUBRICANTS AND LUBRICATION"
   ]
  },
  {
   "cell_type": "markdown",
   "metadata": {},
   "source": [
    "미국에서 **crankcase (engine) oil**과 **gear oil**은 보통 SAE 등급 (10-70)이 부여된다. SI 단위계를 사용하는 나라들에서는, ISO **점도 등급(viscosity grade), VG**를 사용한다. 운활 오일의 점성은 오일의 전체(bulk) 온도에서 평가되어야 한다."
   ]
  },
  {
   "cell_type": "markdown",
   "metadata": {},
   "source": [
    "그림 54.24에서, 윤활재의 점성은 **reyns**단위로 표현되며 이는 $lbf\\cdot sec/in^2$과 같다. 점성의 단위로는 centipoise (cP), centistokes (cSt), Saybolts seconds (SSU) (AKA Saybolt universal viscotity, SUV)도 자주 사용된다."
   ]
  },
  {
   "cell_type": "markdown",
   "metadata": {},
   "source": [
    "$$\\mu_{reyns}=\\frac{\\mu_{cP}}{6.89\\times 10^6}\\tag{54.123}$$"
   ]
  },
  {
   "cell_type": "markdown",
   "metadata": {},
   "source": [
    "$$\\mu_{Pa\\;s}=\\frac{\\mu_{cP}}{1000}tag{54.124}$$"
   ]
  },
  {
   "cell_type": "markdown",
   "metadata": {},
   "source": [
    "$$\\mu_{Pa\\;s}=\\rho_{kg/m^3}\\nu_{m^2/s}\\tag{54.125}$$"
   ]
  },
  {
   "cell_type": "markdown",
   "metadata": {},
   "source": [
    "$$\\nu_{m^2/s}=\\nu_{cSt}\\times 10^{-6}\\tag{54.126}$$"
   ]
  },
  {
   "cell_type": "markdown",
   "metadata": {},
   "source": [
    "$$\\nu_{cSt}=0.22\\;SSU-\\frac{180}{SSU}\\tag{54.127}$$"
   ]
  },
  {
   "cell_type": "markdown",
   "metadata": {},
   "source": [
    "<img src='Figure 54.24.PNG'>"
   ]
  },
  {
   "cell_type": "markdown",
   "metadata": {},
   "source": [
    "**pour point**는 표준 시험 절차에 따라 냉각될 때 오일이 흐르는 최저 온도를 의미한다. 실제 값은 제작자 마다 다르다. 예를 들어, SAE 10W-30의 현대 공식에 따른 평균 pour point는 약 30℉(-1℃)이고, 모든 등급의 실제값 범위는 10℉(-12℃) ~ 70℉(21℃)로 제작자 마다 다르다. 첨가재(예를 들면 pour point depressants)를 사용하여 pour point를 억제(즉, 더 낮은 온도에서도 사용 가능하게 함)할 수 있다. 나프텐 계 석유 오일 및 합성물에는 밀납(wax)이 없기 때문에 대부분 오일들의 pour point보다 아래로 냉각될 수 있다. pour point는 5℉ 간격으로 주어진다. 실제로 10.5℉와 14.5℉인 pour point는 모두 15℉로 기록된다."
   ]
  },
  {
   "cell_type": "markdown",
   "metadata": {},
   "source": [
    "pour point는 학문적 관심사이지만, 점성 한계는 더 실질적인 온도 한계치이다. **점성 한계**는 오일이 팬으로 빠르게 돌아올 수 없을 만큼의 온도 또는 배수 배관, 펌프, 필터 등을 빠르게 통과하지 못할 정도의 온도 이하를 의미한다. 산업계 터보기계 등에서 사용되는 대형 회전 오일 시스템에서는 가장 엄격한 점성 요건을 적용한다. 이러한 시스템에서는 점성한계가 상온에 근접할 수 있다."
   ]
  },
  {
   "cell_type": "markdown",
   "metadata": {},
   "source": [
    "## 42 JOURNAL BEARINGS"
   ]
  },
  {
   "cell_type": "markdown",
   "metadata": {},
   "source": [
    "그림 54.25는 저널 베어링을 보여준다 (표 54.11은 저널 베어링에 대한 일반적인 변수들임) 베어링 축의 **편심율** $\\epsilon$ (**attitude**로도 불림)은 하중에 따라 변한다. **diametral clearance** $c_d$는 **radial clearance** $c_r$의 2배이다. 하지만, clearance $c_d/d$와 $c_r/r$은 같다."
   ]
  },
  {
   "cell_type": "markdown",
   "metadata": {},
   "source": [
    "$$ \\epsilon=\\frac{2e}{c_d}\\tag{54.128}$$"
   ]
  },
  {
   "cell_type": "markdown",
   "metadata": {},
   "source": [
    "$$c_d=D-d\\tag{54.129}$$"
   ]
  },
  {
   "cell_type": "markdown",
   "metadata": {},
   "source": [
    "$$c_d=2c_r\\tag{54.130}$$"
   ]
  },
  {
   "cell_type": "markdown",
   "metadata": {},
   "source": [
    "<img src='Figure 54.25.PNG'>"
   ]
  },
  {
   "cell_type": "markdown",
   "metadata": {},
   "source": [
    "<img src='Table 54.11.PNG'>"
   ]
  },
  {
   "cell_type": "markdown",
   "metadata": {},
   "source": [
    "베어링 압력은 샤프트의 투영 면적을 사용해 구한다."
   ]
  },
  {
   "cell_type": "markdown",
   "metadata": {},
   "source": [
    "$$p=\\frac{lateral\\;shaft\\;load}{projected\\;area}$$"
   ]
  },
  {
   "cell_type": "markdown",
   "metadata": {},
   "source": [
    "$$=\\frac{lateral\\;shaft\\;load}{Ld}\\tag{54.131}$$"
   ]
  },
  {
   "cell_type": "markdown",
   "metadata": {},
   "source": [
    "편심, diametral clearnace, 최소 막 두께 $h_0$ 간의 관계는 다음과 같다."
   ]
  },
  {
   "cell_type": "markdown",
   "metadata": {},
   "source": [
    "$$h_0 = \\frac{1}{2}c_d(1-\\epsilon)\\tag{54.132}$$"
   ]
  },
  {
   "cell_type": "markdown",
   "metadata": {},
   "source": [
    "## 43. JOURNAL BEARING FRICTIONAL LOSSES"
   ]
  },
  {
   "cell_type": "markdown",
   "metadata": {},
   "source": [
    "저널 베어링의 점성은 회전 방향과 반대의 마찰 토크를 발생시킨다. 베어링이 하중을 안받으면(즉, 편심이 없으면) 또는 편짐이 작고 회전 속도가 크면, **Petroff 식**을 사용해 마찰 토크를 구할 수 있다. 식 54.133에서, $d$는 베어링 직경이고 $L$은 길이이다."
   ]
  },
  {
   "cell_type": "markdown",
   "metadata": {},
   "source": [
    "$$T_{f,N\\;m}=\\frac{\\pi^2 \\mu_{Pa\\cdot s}d^3 L n_{rps}}{c_d}\\;\\;[SI]\\tag{54.133(a)}$$"
   ]
  },
  {
   "cell_type": "markdown",
   "metadata": {},
   "source": [
    "$$T_{f,in\\cdot lbf}=\\left(\\frac{d}{2}\\right)f(lateral\\;bearing\\;load)$$"
   ]
  },
  {
   "cell_type": "markdown",
   "metadata": {},
   "source": [
    "$$=\\frac{\\pi^2 \\mu_{reyns}d^3 L n_{rps}}{c_d}\\;\\;[U.S.] \\tag{54.133(b)}$$"
   ]
  },
  {
   "cell_type": "markdown",
   "metadata": {},
   "source": [
    "유효 마찰계수는 다음과 같다."
   ]
  },
  {
   "cell_type": "markdown",
   "metadata": {},
   "source": [
    "$$f=\\frac{2\\pi^2 \\mu_{reyns}n_{rps}d}{p c_d}\\tag{54.134}$$"
   ]
  },
  {
   "cell_type": "markdown",
   "metadata": {},
   "source": [
    "마찰 마력 $P_{f,hp}$은 식 54.33을 사용하여 구한 마찰 토크로 부터 구할 수 있다. 마찰 열은 회전 속도의 1/2 승(루트)에 따라 변한다. 보통 운전 온도 범위는 140℉ ~ 160℉ (60℃ ~ 70℃)이다. 대부분의 윤활재는 200℉(90℃) 이상에서 오염된다. 마찰열 $q_f$은 오일 냉각기 또는 차가운 면과 접촉하면서 소산된다. 석유 오일의 비열은 약 0.42 Btu/lbm-℉ ~ 0.49 Btu/lbm-℉ (1.8 kJ/kg K ~ 2.0 kJ/kg K)이다."
   ]
  },
  {
   "cell_type": "markdown",
   "metadata": {},
   "source": [
    "$$q_f=P_{f,hp}=\\dot{m} c_p \\Delta T\\tag{54.135}$$"
   ]
  },
  {
   "cell_type": "markdown",
   "metadata": {},
   "source": [
    "하중이 있는 마찰 토크와 하중이 없는 마찰 토크의 비율은 하중 번호로 서로 연관될 수 있다. **하중 번호(load number)** 는 식 54.136으로 계산한다."
   ]
  },
  {
   "cell_type": "markdown",
   "metadata": {},
   "source": [
    "$$N_L=\\left(\\frac{p}{\\mu_{reyns} n_{rps}}\\right)\\left(\\frac{c_d}{L}\\right)^2\\tag{54.136}$$"
   ]
  },
  {
   "cell_type": "markdown",
   "metadata": {},
   "source": [
    "### 예제 54.2"
   ]
  },
  {
   "cell_type": "markdown",
   "metadata": {},
   "source": [
    "bulk 온도가 150℉ (65℃)인 SAE 20 오일이 경하중을 받는 저널 베어링에 사용된다. 베어링의 길이는 5 in (12.7 cm)이고 직경은 3 in (7.62 cm)이다. 축은 1800 rpm으로 회전한다. diametral clearance는 0.005 in (0.127 mm)이다. 마찰 동력은 얼마인가?"
   ]
  },
  {
   "cell_type": "markdown",
   "metadata": {},
   "source": [
    "**풀이**"
   ]
  },
  {
   "cell_type": "markdown",
   "metadata": {},
   "source": [
    "그림 54.24에서 SAE 20 오일의 점성은 150℉에서 약 $2.5\\times 10^{-6}$ reyns이다. 식 54.133을 사용하여 마찰 토크를 구하면,"
   ]
  },
  {
   "cell_type": "markdown",
   "metadata": {},
   "source": [
    "$$T_f=\\frac{\\pi^2 \\mu_{reyns}d^3 L n_{rps}}{c_d}$$"
   ]
  },
  {
   "cell_type": "markdown",
   "metadata": {},
   "source": [
    "$$=\\frac{\\pi^2 2.5\\times 10^{-6}\\;\\frac{lbf\\cdot sec}{in^2}(3\\;in)^3 (5\\;in) (1800 \\;rpm \\times \\frac{1}{60}\\;\\frac{sec}{min})}{0.005\\;in}$$"
   ]
  },
  {
   "cell_type": "markdown",
   "metadata": {},
   "source": [
    "$$=19.99\\;in\\cdot lbf$$"
   ]
  },
  {
   "cell_type": "markdown",
   "metadata": {},
   "source": [
    "식 54.33을 사용하면 마찰 동력을 구할 수 있다."
   ]
  },
  {
   "cell_type": "markdown",
   "metadata": {},
   "source": [
    "$$P_{f,hp}=\\frac{T_{in\\cdot lbf} n_{rpm}}{63,025}=\\frac{(19.99\\;in\\cdot lbf)(1800\\;rpm)}{63,025}$$"
   ]
  },
  {
   "cell_type": "markdown",
   "metadata": {},
   "source": [
    "$$=0.571\\;hp$$"
   ]
  },
  {
   "cell_type": "markdown",
   "metadata": {},
   "source": [
    "## 44. JOURNAL BEARINGS: RAIDMONDI AND BOYD METHOD"
   ]
  },
  {
   "cell_type": "markdown",
   "metadata": {},
   "source": [
    "**Raimondi와 Boyd 방법**을 사용하면, 저널 베어링의 성능을 **Sommerfeld 번호**로도 알려진 **베어링 특성 번호** S로 연관지을 수 있다."
   ]
  },
  {
   "cell_type": "markdown",
   "metadata": {},
   "source": [
    "$$S=\\left(\\frac{d}{c_d}\\right)^2\\left(\\frac{\\mu n_{rps}}{p}\\right)\\tag{54.137}$$"
   ]
  },
  {
   "cell_type": "markdown",
   "metadata": {},
   "source": [
    "마찰 토크와 마찰 동력을 구할 때는 마찰 계수 $f$가 필요하다. 마찰 계수는 App.54.B의 마찰계수 변수 및 식 54.138을 사용해 구한다."
   ]
  },
  {
   "cell_type": "markdown",
   "metadata": {},
   "source": [
    "$$f=\\left(\\frac{c_d}{d}\\right)\\;(coefficient\\;of\\;friction\\;variable)\\tag{54.138}$$"
   ]
  },
  {
   "cell_type": "markdown",
   "metadata": {},
   "source": [
    "최소 막 두께 $h_0$는 App.54.B의 최소 두께 변수와 식 54.139를 사용해 구한다."
   ]
  },
  {
   "cell_type": "markdown",
   "metadata": {},
   "source": [
    "$$h_0=r\\left(\\frac{c_d}{d}\\right)\\;(minimum\\; film\\; thickness\\; variable)\\tag{54.139}$$"
   ]
  }
 ],
 "metadata": {
  "kernelspec": {
   "display_name": "Python 3",
   "language": "python",
   "name": "python3"
  },
  "language_info": {
   "codemirror_mode": {
    "name": "ipython",
    "version": 3
   },
   "file_extension": ".py",
   "mimetype": "text/x-python",
   "name": "python",
   "nbconvert_exporter": "python",
   "pygments_lexer": "ipython3",
   "version": "3.7.3"
  }
 },
 "nbformat": 4,
 "nbformat_minor": 4
}
