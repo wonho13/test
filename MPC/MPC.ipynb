{
 "cells": [
  {
   "cell_type": "markdown",
   "metadata": {},
   "source": [
    "# MPC (Model Predictive Controller)"
   ]
  },
  {
   "cell_type": "markdown",
   "metadata": {},
   "source": [
    "MPC는 시스템 제어기의 일종으로 시스템이 원하는 출력을 내도록 입력을 제어한다."
   ]
  },
  {
   "cell_type": "markdown",
   "metadata": {},
   "source": [
    "MPC는 다음의 기본 상태공간 방정식에서 출발한다."
   ]
  },
  {
   "cell_type": "markdown",
   "metadata": {},
   "source": [
    "$x_m(k+1) = A_m x_m(k) + B_m u(k)$\n",
    "\n",
    "$y(k) = C_m x_m(k)$"
   ]
  },
  {
   "cell_type": "markdown",
   "metadata": {},
   "source": [
    "일반 상태공간 방정식과 달리 출력(측정) 방정식에 $D_m$ 행렬 즉 입력전이행렬이 없다. 이는 MPC가 Receding horizon control 개념을 사용하기 때문이다."
   ]
  },
  {
   "cell_type": "markdown",
   "metadata": {},
   "source": [
    "MPC는 시스템을 모델링 하여 시스템의 출력을 예측하고 예측값과 실제 값의 차이가 최소가 되도록(최소자승법+정규화) 제어를 수행한다. 이때 MPC는 다음 단계의 출력만을 예측하는 것이 아닌 원하는 시점까지 예측을 수행한다. 이 원하는 시점의 거리를 Control Horizon이라고 한다. 예측은 Control Horizon 까지 하지만 이 과정을 통해 계산한 입력은 처음 1개만 사용한다. 이렇게 계산한 입력의 나머지 부분을 버리는 것을  Receding horizon control이라고 한다. "
   ]
  },
  {
   "cell_type": "markdown",
   "metadata": {},
   "source": [
    "아래와 같은 M,C,K 시스템에서 상태공간 방정식의 행렬 및 벡터는 다음과 같다.\n",
    "\n",
    "$M\\ddot{x}(t)+C\\dot{x}(t)+Kx(t)=f(t)=S_p(t)p(t)$"
   ]
  },
  {
   "cell_type": "markdown",
   "metadata": {},
   "source": [
    "**(1) 상태벡터**\n",
    "\n",
    "$x_m = \\begin{bmatrix} x \\\\ \\dot{x} \\end{bmatrix}$\n",
    "\n",
    "**(2) 상태전이행렬 (연속)**\n",
    "\n",
    "$A_c = \\begin{bmatrix} 0 & I \\\\ -M^{-1}K & -M^{-1}C \\end{bmatrix}$\n",
    "\n",
    "**(3) 측정전이행렬 (연속)**\n",
    "\n",
    "$B_c = \\begin{bmatrix} 0 \\\\  -M^{-1}S_p \\end{bmatrix}$\n",
    "\n",
    "**(4) 상태전이행렬 (이산)**\n",
    "\n",
    "$A=e^{A_c \\Delta t}$\n",
    "\n",
    "**(5) 측정전이행렬 (이산)**\n",
    "\n",
    "$B=[A-I]A_c^{-1}B_c$"
   ]
  },
  {
   "cell_type": "markdown",
   "metadata": {},
   "source": [
    "MPC의 상태공간 방정식은 다음고 같다."
   ]
  },
  {
   "cell_type": "markdown",
   "metadata": {},
   "source": [
    "$x(k+1) = A x(k) + B \\Delta u(k)$\n",
    "\n",
    "$y(k) = C x(k)$"
   ]
  },
  {
   "cell_type": "markdown",
   "metadata": {},
   "source": [
    "얼핏보면 기본 상태공간방정식과 동일해 보이지만 상당히 다르다. MPC의 상태벡터는 아래와 같이 정의된다. (이것이 앞서 기본 상태공간 방정식에 하첨자 m이 붙어있는 이유이다.)"
   ]
  },
  {
   "cell_type": "markdown",
   "metadata": {},
   "source": [
    "$x=\\begin{bmatrix} \\Delta x_m \\\\ y\\end{bmatrix}$"
   ]
  },
  {
   "cell_type": "markdown",
   "metadata": {},
   "source": [
    "위의 상태벡터를 MPC 상태공간방정식에 대입해 보면 기본 상태공간방정식과 상당히 다름을 알 수 있다."
   ]
  },
  {
   "cell_type": "markdown",
   "metadata": {},
   "source": [
    "$\\begin{bmatrix}\n",
    "\\Delta x_m (k+1) \\\\\n",
    "y(k+1)\n",
    "\\end{bmatrix}\n",
    "=\n",
    "\\begin{bmatrix}\n",
    "A_m & o_m^T \\\\\n",
    "C_mA_m & 1\n",
    "\\end{bmatrix}\n",
    "\\begin{bmatrix}\n",
    "\\Delta x_m (k) \\\\\n",
    "y(k)\n",
    "\\end{bmatrix}\n",
    "+\n",
    "\\begin{bmatrix}\n",
    "B_m \\\\\n",
    "C_mB_m\n",
    "\\end{bmatrix}\n",
    "\\Delta u(k)$\n",
    "\n",
    "$y(k)=\n",
    "\\begin{bmatrix}\n",
    "o_m & 1\n",
    "\\end{bmatrix}\n",
    "\\begin{bmatrix}\n",
    "\\Delta x_m (k) \\\\\n",
    "y(k)\n",
    "\\end{bmatrix}\n",
    "$\n",
    "\n",
    "\n"
   ]
  },
  {
   "cell_type": "markdown",
   "metadata": {},
   "source": [
    "여기서 $o_m$은 0으로만 구성된 행렬이다."
   ]
  },
  {
   "cell_type": "code",
   "execution_count": null,
   "metadata": {},
   "outputs": [],
   "source": []
  }
 ],
 "metadata": {
  "kernelspec": {
   "display_name": "Python 3",
   "language": "python",
   "name": "python3"
  },
  "language_info": {
   "codemirror_mode": {
    "name": "ipython",
    "version": 3
   },
   "file_extension": ".py",
   "mimetype": "text/x-python",
   "name": "python",
   "nbconvert_exporter": "python",
   "pygments_lexer": "ipython3",
   "version": "3.7.4"
  }
 },
 "nbformat": 4,
 "nbformat_minor": 2
}
