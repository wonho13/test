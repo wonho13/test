{
 "cells": [
  {
   "cell_type": "code",
   "execution_count": 1,
   "metadata": {},
   "outputs": [],
   "source": [
    "import numpy as np\n",
    "import matplotlib.pyplot as plt"
   ]
  },
  {
   "cell_type": "code",
   "execution_count": 2,
   "metadata": {},
   "outputs": [],
   "source": [
    "def log_interp(f,a,df):\n",
    "    n = len(f);\n",
    "    ni = int((f[n-1]-f[0])/df);\n",
    "    fi = np.linspace(f[0],f[n-1],ni);\n",
    "    ai = np.zeros(ni);\n",
    "    for i in range(ni):\n",
    "        ai[i] = 10**np.interp(np.log10(fi[i]),np.log10(f),np.log10(a));\n",
    "    return fi,ai"
   ]
  },
  {
   "cell_type": "code",
   "execution_count": 3,
   "metadata": {},
   "outputs": [],
   "source": [
    "def band_split(f,a,nb,df): # f : freq, a : psd, nb : # of bands\n",
    "    fi,ai = log_interp(f,a,df);\n",
    "    ni = len(fi);\n",
    "    grms = np.sqrt(np.trapz(ai,fi))\n",
    "    goal = grms/np.sqrt(nb);  # target grms\n",
    "    idx = np.zeros(nb+1,dtype=int);\n",
    "    idx[nb] = ni;\n",
    "    j=0;\n",
    "    for i in range(idx[j],ni+1):\n",
    "        grms_tmp = np.sqrt(np.trapz(ai[idx[j]:i],fi[idx[j]:i]));\n",
    "        if grms_tmp >= goal:\n",
    "            idx[j+1] = i;\n",
    "            j +=1;\n",
    "        if j > nb:\n",
    "            break;\n",
    "    dai = []; dfi = [];\n",
    "    for i in range(nb):\n",
    "        dai.append(ai[idx[i]:idx[i+1]]);\n",
    "        dfi.append(fi[idx[i]:idx[i+1]]);\n",
    "    return dai,dfi"
   ]
  },
  {
   "cell_type": "code",
   "execution_count": 4,
   "metadata": {},
   "outputs": [],
   "source": [
    "f = [20,100,2000]; a = [0.1,5,5]; df = 0.5; nb=3;\n",
    "dai,dfi = band_split(f,a,nb,df);"
   ]
  },
  {
   "cell_type": "code",
   "execution_count": 8,
   "metadata": {},
   "outputs": [
    {
     "data": {
      "image/png": "[encoded data removed]",
      "text/plain": [
       "<Figure size 432x288 with 1 Axes>"
      ]
     },
     "metadata": {
      "needs_background": "light"
     },
     "output_type": "display_data"
    }
   ],
   "source": [
    "plt.figure();\n",
    "for i in range(nb):\n",
    "    plt.plot(dfi[i],dai[i]);\n",
    "    plt.xscale('log'); plt.yscale('log');\n",
    "    plt.grid();"
   ]
  },
  {
   "cell_type": "code",
   "execution_count": 9,
   "metadata": {},
   "outputs": [
    {
     "name": "stdout",
     "output_type": "stream",
     "text": [
      "56.7101\n",
      "56.7081\n",
      "56.6419\n"
     ]
    }
   ],
   "source": [
    "for i in range(nb):\n",
    "    print(\"%.4f\"%(np.sqrt(np.trapz(dai[i],dfi[i]))));"
   ]
  }
 ],
 "metadata": {
  "kernelspec": {
   "display_name": "Python 3",
   "language": "python",
   "name": "python3"
  },
  "language_info": {
   "codemirror_mode": {
    "name": "ipython",
    "version": 3
   },
   "file_extension": ".py",
   "mimetype": "text/x-python",
   "name": "python",
   "nbconvert_exporter": "python",
   "pygments_lexer": "ipython3",
   "version": "3.7.4"
  }
 },
 "nbformat": 4,
 "nbformat_minor": 2
}
