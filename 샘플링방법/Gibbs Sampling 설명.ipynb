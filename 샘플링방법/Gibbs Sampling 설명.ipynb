{
 "cells": [
  {
   "cell_type": "markdown",
   "metadata": {},
   "source": [
    "## Gibbs Sampling 설명"
   ]
  },
  {
   "cell_type": "markdown",
   "metadata": {},
   "source": [
    "(1) 목적\n",
    "Target joint distribution $p(x_1,x_2,\\dots,x_n)$를 따르는 $X \\sim p(X)$를 샘플링\n",
    "\n",
    "(2) 절차\n",
    "\n",
    "Step 1) $X^{(0)}$를 초기화. $X^{(0)}=(x_1^{(0)},x_2^{(0)},\\dots,x_n^{(0)})$\n",
    "\n",
    "Step 2) $x_1^{(1)}\\sim p(x_1^{(1)}|x_2^{(0)},x_3^{(0)},\\dots,x_n^{(0)})$를 샘플\n",
    "\n",
    "Step 3) $x_2^{(1)}\\sim p(x_2^{(1)}|x_1^{(1)},x_3^{(0)},\\dots,x_n^{(0)})$를 샘플\n",
    "\n",
    "Step 4) Step 3)을 n까지 반복\n",
    "\n",
    "Step 5) Step 1) ~ Step 4)를 총 N회 수행"
   ]
  },
  {
   "cell_type": "markdown",
   "metadata": {},
   "source": [
    "(3) 예제 (출처 : https://ratsgo.github.io/statistics/2017/05/31/gibbs/)\n",
    "\n",
    "주사위를 두개 던졌을 때 첫번째 주사위 눈을 $x_1$, 두 주사위 눈의 합을 $x_2$라고 하자.\n",
    "\n",
    "$x_1$과 $x_2$의 결합확률밀도함수 $p(x_1,x_2)$는 다음과 같다."
   ]
  },
  {
   "cell_type": "code",
   "execution_count": 1,
   "metadata": {},
   "outputs": [],
   "source": [
    "import random\n",
    "import numpy as np\n",
    "import matplotlib.pyplot as plt"
   ]
  },
  {
   "cell_type": "code",
   "execution_count": 2,
   "metadata": {},
   "outputs": [],
   "source": [
    "def roll_a_dice():\n",
    "    # 주사위 눈은 1 ~ 6\n",
    "    # 각 눈이 선택될 확률은 동일 (uniform) \n",
    "    return random.randint(1,6)\n",
    "def direct_sample():\n",
    "    d1 = roll_a_dice();\n",
    "    d2 = roll_a_dice();\n",
    "    return d1, d1+d2"
   ]
  },
  {
   "cell_type": "markdown",
   "metadata": {},
   "source": [
    "조건부 확률밀도함수 $p(x_1|x_2)$와 $p(x_2|x_1)$는 다음과 같다."
   ]
  },
  {
   "cell_type": "code",
   "execution_count": 3,
   "metadata": {},
   "outputs": [],
   "source": [
    "def random_x1_given_x2(x2):\n",
    "    # x2 값을 알고 있다는 전제하에 x1 값이 선택될 확률\n",
    "    # 두 주사위 합이 7보다 같거나 작으면,\n",
    "    if x2 <= 7:\n",
    "        # 첫 번째 주사위의 눈은 1 ~ 6\n",
    "        # 각 눈이 선택될 확률은 동일\n",
    "        return random.randint(1, x2-1)\n",
    "    # 만약 총 합이 7보다 크면,\n",
    "    else:\n",
    "        # 첫 번째 주사위 눈은 x2-6, x2-5, ..., 6\n",
    "        # 각 눈이 선택될 확률은 동일\n",
    "        return random.randint(x2-6, 6)\n",
    "def random_x2_given_x1(x1):\n",
    "    # x1 값을 알고 있다는 전제하에 x2 값이 선택될 확률\n",
    "    # x2는 x1+1, x1+2, x1+3, x1+4, x1+5, x1+6 중에 하나\n",
    "    return x1+roll_a_dice()"
   ]
  },
  {
   "cell_type": "markdown",
   "metadata": {},
   "source": [
    "Gibbs Sampling은 다음과 같이 수행된다."
   ]
  },
  {
   "cell_type": "code",
   "execution_count": 4,
   "metadata": {},
   "outputs": [],
   "source": [
    "def gibbs_sample(N=100):\n",
    "    # 초기값이 무엇이든 상관 없음\n",
    "    x1 = random.randint(1,6);\n",
    "    x2 = x1 + random.randint(1,6)\n",
    "    for _ in range(N):\n",
    "        x1 = random_x1_given_x2(x2);\n",
    "        x2 = random_x2_given_x1(x1);\n",
    "    return x1, x2"
   ]
  },
  {
   "cell_type": "code",
   "execution_count": 5,
   "metadata": {},
   "outputs": [],
   "source": [
    "sample_no = 1000;\n",
    "gibbs_x1, gibbs_x2 = np.zeros(sample_no), np.zeros(sample_no);\n",
    "x1, x2 = np.zeros(sample_no), np.zeros(sample_no);\n",
    "for i in range(sample_no):\n",
    "    gibbs_x1[i], gibbs_x2[i] = gibbs_sample(N=100)\n",
    "    x1[i], x2[i] = direct_sample()"
   ]
  },
  {
   "cell_type": "code",
   "execution_count": 6,
   "metadata": {},
   "outputs": [
    {
     "data": {
      "image/png": "[encoded data removed]",
      "text/plain": [
       "<Figure size 720x360 with 2 Axes>"
      ]
     },
     "metadata": {
      "needs_background": "light"
     },
     "output_type": "display_data"
    }
   ],
   "source": [
    "plt.figure(figsize=(10,5));\n",
    "plt.subplot(121); plt.hist2d(x1,x2); plt.xlabel('$x_1$'); plt.ylabel('$x_2$'); plt.title('True Sample Result');\n",
    "plt.subplot(122); plt.hist2d(gibbs_x1,gibbs_x2); plt.xlabel('$x_1$'); plt.ylabel('$x_2$'); plt.title('Gibbs Sample Result');"
   ]
  }
 ],
 "metadata": {
  "kernelspec": {
   "display_name": "Python 3",
   "language": "python",
   "name": "python3"
  },
  "language_info": {
   "codemirror_mode": {
    "name": "ipython",
    "version": 3
   },
   "file_extension": ".py",
   "mimetype": "text/x-python",
   "name": "python",
   "nbconvert_exporter": "python",
   "pygments_lexer": "ipython3",
   "version": "3.7.6"
  }
 },
 "nbformat": 4,
 "nbformat_minor": 4
}
