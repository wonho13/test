{
 "cells": [
  {
   "cell_type": "markdown",
   "metadata": {},
   "source": [
    "## Metropolis-Hastings 알고리즘 설명"
   ]
  },
  {
   "cell_type": "markdown",
   "metadata": {},
   "source": [
    "(1) 목적\n",
    "\n",
    "Target distribution $p(x)$를 따르는 $X \\sim p(x)$를 샘플링\n",
    "\n",
    "(2) 조건\n",
    "\n",
    "* $p(x)$에 비례하는 $f(x)$를 알고 있어야 함. ($p(x)$를 몰라도 샘플링 가능)\n",
    "* Proposal distribution $q(x^t|x)$를 정의해 주어야 함. (보통은 정규분포를 사용)\n",
    "\n",
    "(3) 절차\n",
    "\n",
    "Step 1) $x^{(0)}$을 초기화\n",
    "\n",
    "Step 2) 다음 과정을 반복\n",
    "\n",
    "$i=0 \\sim N-1$\n",
    "\n",
    "$u \\sim U(0,1)$를 샘플\n",
    "\n",
    "$x^* \\sim q(x^*|x^{(i)}$를 샘플\n",
    "\n",
    "$u < A(x^{(i)},x^*)$이면 $x^{(i+1)}=x^*$\n",
    "\n",
    "$u \\leq A(x^{(i)},x^*)$이면 $x^{(i+1)}=x^{(i)}$\n",
    "\n",
    "여기서,\n",
    "\n",
    "$A(x^{(i)},x^*)=min\\left(1,\\frac{f(x^*)q(x^{(i)}|x^*}{} \\right)$\n"
   ]
  },
  {
   "cell_type": "code",
   "execution_count": null,
   "metadata": {},
   "outputs": [],
   "source": []
  }
 ],
 "metadata": {
  "kernelspec": {
   "display_name": "Python 3",
   "language": "python",
   "name": "python3"
  },
  "language_info": {
   "codemirror_mode": {
    "name": "ipython",
    "version": 3
   },
   "file_extension": ".py",
   "mimetype": "text/x-python",
   "name": "python",
   "nbconvert_exporter": "python",
   "pygments_lexer": "ipython3",
   "version": "3.7.6"
  }
 },
 "nbformat": 4,
 "nbformat_minor": 4
}
