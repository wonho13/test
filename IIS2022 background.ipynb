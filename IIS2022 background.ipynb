{
 "cells": [
  {
   "cell_type": "markdown",
   "metadata": {},
   "source": [
    "### ITER basic operational scenarios\n",
    "\n",
    "1. Baseline (reference) scenario\n",
    "\n",
    "Q~10, ELMy H-mode, 15 MA plasma current, TF = 5.3T, %q_{95}$(safety factor @ 95% flux) = 3\n",
    "\n",
    "2. Hybrid scenario\n",
    "\n",
    "Q=5~10, high neutron fluence, ~12 MA plasma current\n",
    "\n",
    "-> enhanced stability & plasma confinement\n",
    "\n",
    "3. Steady state scenario\n",
    "\n",
    "Q~5, non-inductive operation, ~9 MA plasma current\n",
    "\n",
    "-> enhanced stability & plasma confinement\n",
    "\n",
    "4. Advanced inductive scenario\n",
    "\n",
    "Q$\\geq$20, 700 MW fusion power output, 15 MA + hybrid"
   ]
  },
  {
   "cell_type": "markdown",
   "metadata": {},
   "source": [
    "### Q의 의미\n",
    "\n",
    "$Q=\\frac{output\\; fusion\\; power\\; (MW)}{input\\; heating\\; power\\; (MW)}$"
   ]
  },
  {
   "cell_type": "markdown",
   "metadata": {},
   "source": [
    "### q (or q(r))의 의미\n",
    "\n",
    "$\\frac{toroidal\\; 방향(긴거리)\\; 한바퀴\\; 도는\\; 시간}{poloidal\\; 방향(짧은거리)\\; 한바퀴\\; 도는\\; 시간}$\n",
    "\n",
    "= safety factor => stability와 연관"
   ]
  },
  {
   "cell_type": "markdown",
   "metadata": {},
   "source": [
    "### $\\beta$의 의미\n",
    "\n",
    "$\\beta=\\frac{<p>}{B^2/2\\mu_0}$\n",
    "\n",
    "$<p>$ = plasma 평균 압력\n",
    "\n",
    "$B^2/2\\mu_0$ = 자기장 압력 (magnetic pressure)"
   ]
  },
  {
   "cell_type": "markdown",
   "metadata": {},
   "source": [
    "### Derivation of $\\beta$"
   ]
  },
  {
   "cell_type": "markdown",
   "metadata": {},
   "source": [
    "1) 진공에서의 Maxwell 방정식\n",
    "\n",
    "$\\nabla \\times B = \\mu_0 (j+\\epsilon_o \\dot{E})$\n",
    "\n",
    "2) 상기 식에 steady-state 조건을 적용 ($\\dot{E}=0$)\n",
    "\n",
    "$\\nabla \\times B = \\mu_0 j \\;\\;\\;\\; -(1)$\n",
    "\n",
    "3) 유체 방정식\n",
    "\n",
    "$\\rho \\frac{\\partial v}{\\partial t} = j \\times B - \\nabla p + \\rho g$\n",
    "\n",
    "4) 상기 식에 steady-state 조건을 적용 ($\\partial / \\partial t = 0$, $g=0$)\n",
    "\n",
    "$\\nabla p = j \\times B \\;\\;\\;\\; -(2)$\n",
    "\n",
    "5) 식 (1)을 다음과 같이 변형\n",
    "\n",
    "$j=\\mu_0^-1 (\\nabla \\times B)$\n",
    "\n",
    "6) 상기 식을 식 (2)에 대입\n",
    "\n",
    "$\\nabla p =\\mu_0^-1 (\\nabla \\times B)\\times B \\;\\;\\;\\; -(3)$\n",
    "\n",
    "<BAC - CAB 공식>\n",
    "\n",
    "$A \\times (B \\times C) = B(A \\cdot C) - C(A \\cdot B)$\n",
    "\n",
    "<외적 치환 공식>\n",
    "\n",
    "$A \\times B = - B \\times A$\n",
    "\n",
    "7) 위의 2개 공식을 사용하여 다음과 같이 변환\n",
    "\n",
    "$\\nabla \\times B) \\times B = - B \\times (\\nabla \\times B) = -\\nabla(B\\cdot B)+B(\\nabla \\cdot B) = (B\\cdot \\nabla)B - \\frac{1}{2}\\nabla B^2$\n",
    "\n",
    "8) 7)의 결과를 식 (3)에 대입\n",
    "\n",
    "$\\nabla p = \\mu_0^{-1} [ (B\\cdot \\nabla)B - \\frac{1}{2}\\nabla B^2 ]$\n",
    "\n",
    "$\\nabla (p+\\frac{B^2}{2\\mu_0})=\\frac{1}{\\mu_0}(B\\cdot \\nabla)B$\n",
    "\n",
    "9) 직선의 cylinder 형태의 경우 $\\nabla B=0$이고, 나머지 대부분의 경우에서 $(B\\cdot \\nabla)B$는 0에 가까움. 따라서 다음과 같이 표현 가능.\n",
    "\n",
    "$p+\\frac{B^2}{2\\mu_0}=constant$\n",
    "\n",
    "10) 상기 식에 따르면 플라즈마 압력이 높으면 자기장의 영향이 작아지고, 플라즈마 압력이 낮으면 자기장의 영향이 커짐.\n",
    "\n",
    "플라즈마 내부는 밀도가 높고 압력이 높으며 자기장이 낮음. 즉 $\\beta$는 큼"
   ]
  },
  {
   "cell_type": "markdown",
   "metadata": {},
   "source": [
    "### ITER 운전(연구) 계획\n",
    "\n",
    "1. First Plasma\n",
    "\n",
    "2. H/He Operation\n",
    "\n",
    "3. D Operation\n",
    "\n",
    "4. DT Operation"
   ]
  },
  {
   "cell_type": "markdown",
   "metadata": {},
   "source": [
    "### Bootstrap Current의 의미\n",
    "\n",
    "하중과 자기장이 수직으로 가해지면 플라즈만 하중 및 자기장에 수직인 방향으로 이동(전류)하게 됨.\n",
    "\n",
    "플라즈마는 내부에서 외부로 팽창하는 압력 하중이 가해지고 있으며, Toloidal 전류로 인해 Poloidal 자기장이 형성됨. 이로인해 Toloidal 전류가 추가로 발생함. 이러한 전류를 Bootstrap Current라고 하며, 높을수록 좋음."
   ]
  }
 ],
 "metadata": {
  "kernelspec": {
   "display_name": "Python 3",
   "language": "python",
   "name": "python3"
  },
  "language_info": {
   "codemirror_mode": {
    "name": "ipython",
    "version": 3
   },
   "file_extension": ".py",
   "mimetype": "text/x-python",
   "name": "python",
   "nbconvert_exporter": "python",
   "pygments_lexer": "ipython3",
   "version": "3.7.3"
  }
 },
 "nbformat": 4,
 "nbformat_minor": 4
}
