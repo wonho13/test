{
  "metadata": {
    "language_info": {
      "codemirror_mode": {
        "name": "python",
        "version": 3
      },
      "file_extension": ".py",
      "mimetype": "text/x-python",
      "name": "python",
      "nbconvert_exporter": "python",
      "pygments_lexer": "ipython3",
      "version": "3.8"
    },
    "kernelspec": {
      "name": "python",
      "display_name": "Python (Pyodide)",
      "language": "python"
    }
  },
  "nbformat_minor": 4,
  "nbformat": 4,
  "cells": [
    {
      "cell_type": "markdown",
      "source": "### ITER basic operational scenarios\n\n1. Baseline (reference) scenario\n\nQ~10, ELMy H-mode, 15 MA plasma current, TF = 5.3T, %q_{95}$(safety factor @ 95% flux) = 3\n\n2. Hybrid scenario\n\nQ=5~10, high neutron fluence, ~12 MA plasma current\n\n-> enhanced stability & plasma confinement\n\n3. Steady state scenario\n\nQ~5, non-inductive operation, ~9 MA plasma current\n\n-> enhanced stability & plasma confinement\n\n4. Advanced inductive scenario\n\nQ$\\geq$20, 700 MW fusion power output, 15 MA + hybrid",
      "metadata": {}
    },
    {
      "cell_type": "markdown",
      "source": "### Meaning of Q\n\n$Q=\\frac{output\\; fusion\\; power\\; (MW)}{input\\; heating\\; power\\; (MW)}$",
      "metadata": {}
    },
    {
      "cell_type": "markdown",
      "source": "### Meaning of q (or q(r))\n\n$\\frac{toroidal\\; 방향(긴거리)\\; 한바퀴\\; 도는\\; 시간}{poloidal\\; 방향(짧은거리)\\; 한바퀴\\; 도는\\; 시간}$\n\n= safety factor => stability와 연관",
      "metadata": {}
    },
    {
      "cell_type": "markdown",
      "source": "### Meaning of $\\beta$\n\n$\\beta=\\frac{<p>}{B^2/2\\mu_0}$\n\n$<p>$ = plasma 평균 압력\n\n$B^2/2\\mu_0$ = 자기장 압력 (magnetic pressure)",
      "metadata": {}
    },
    {
      "cell_type": "markdown",
      "source": "### Derivation of $\\beta$",
      "metadata": {}
    },
    {
      "cell_type": "markdown",
      "source": "1) 진공에서의 Maxwell 방정식\n\n$\\nabla \\times B = \\mu_0 (j+\\epsilon_o \\dot{E})$\n\n2) 상기 식에 steady-state 조건을 적용 ($\\dot{E}=0$)\n\n$\\nabla \\times B = \\mu_0 j \\;\\;\\;\\; -(1)$\n\n3) 유체 방정식\n\n$\\rho \\frac{\\partial v}{\\partial t} = j \\times B - \\nabla p + \\rho g$\n\n4) 상기 식에 steady-state 조건을 적용 ($\\partial / \\partial t = 0$, $g=0$)\n\n$\\nabla p = j \\time B \\;\\;\\;\\; -(2)\n\n5) 식 (1)을 다음과 같이 변형\n\n$j=\\mu_0^-1 (\\nabla \\times B)$\n\n6) 상기 식을 식 (2)에 대입\n\n$\\nabla p =\\mu_0^-1 (\\nabma \\time B)\\times B$\n\n<BAC - CAB 공식>\n\n$A \\times (B \\times C) = B(A \\cdot C) - C(A B)",
      "metadata": {}
    },
    {
      "cell_type": "code",
      "source": "",
      "metadata": {},
      "execution_count": null,
      "outputs": []
    }
  ]
}